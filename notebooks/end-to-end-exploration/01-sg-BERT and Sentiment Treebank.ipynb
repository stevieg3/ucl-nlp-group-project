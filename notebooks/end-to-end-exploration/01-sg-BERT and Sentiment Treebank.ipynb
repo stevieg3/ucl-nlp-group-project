{
 "cells": [
  {
   "cell_type": "markdown",
   "id": "f56a91b3",
   "metadata": {},
   "source": [
    "# BERT and Sentiment Treebank\n",
    "\n",
    "Fine-tuning code based on [this](https://medium.com/@aniruddha.choudhury94/part-2-bert-fine-tuning-tutorial-with-pytorch-for-text-classification-on-the-corpus-of-linguistic-18057ce330e1)"
   ]
  },
  {
   "cell_type": "code",
   "execution_count": 1,
   "id": "a091b0ac",
   "metadata": {},
   "outputs": [],
   "source": [
    "import os\n",
    "import random\n",
    "\n",
    "import pandas as pd\n",
    "import numpy as np\n",
    "import scipy as sp\n",
    "import torch\n",
    "import spacy\n",
    "from torch.utils.data import \\\n",
    "    TensorDataset, \\\n",
    "    DataLoader\n",
    "from transformers import \\\n",
    "    BertTokenizer, \\\n",
    "    BertForSequenceClassification, \\\n",
    "    AdamW, \\\n",
    "    BertConfig, \\\n",
    "    get_linear_schedule_with_warmup\n",
    "import pytreebank\n",
    "from tqdm import tqdm\n",
    "import shap\n",
    "from checklist.perturb import Perturb"
   ]
  },
  {
   "cell_type": "code",
   "execution_count": 2,
   "id": "8aa39621",
   "metadata": {},
   "outputs": [],
   "source": [
    "os.chdir('../..')"
   ]
  },
  {
   "cell_type": "markdown",
   "id": "d3005cae",
   "metadata": {},
   "source": [
    "## Load data"
   ]
  },
  {
   "cell_type": "code",
   "execution_count": 2,
   "id": "96f06ec8",
   "metadata": {},
   "outputs": [],
   "source": [
    "dataset = pytreebank.load_sst(\"data/raw/stanford_sentiment_treebank/\")"
   ]
  },
  {
   "cell_type": "code",
   "execution_count": 3,
   "id": "77dfde89",
   "metadata": {},
   "outputs": [],
   "source": [
    "train = dataset['train']\n",
    "dev = dataset['dev']\n",
    "# test = dataset['test']"
   ]
  },
  {
   "cell_type": "code",
   "execution_count": 4,
   "id": "67c4cb31",
   "metadata": {},
   "outputs": [],
   "source": [
    "def stanford_raw_to_df(pytree_dataset):\n",
    "    \"\"\"\n",
    "    Convert list of pytreebank LabeledTree objects to DataFrame of full-sentence examples with labels\n",
    "    \"\"\"\n",
    "    labels = []\n",
    "    sentences = []\n",
    "    \n",
    "    for labeled_tree_obj in pytree_dataset:\n",
    "        lab, sent = labeled_tree_obj.to_labeled_lines()[0]  # First index contains full sentence\n",
    "        labels.append(lab)\n",
    "        sentences.append(sent)\n",
    "        \n",
    "    output_df = pd.DataFrame(\n",
    "        {\n",
    "            'sentence': sentences,\n",
    "            'label': labels\n",
    "        }\n",
    "    )\n",
    "    \n",
    "    return output_df"
   ]
  },
  {
   "cell_type": "code",
   "execution_count": 5,
   "id": "14cc6d58",
   "metadata": {},
   "outputs": [
    {
     "name": "stdout",
     "output_type": "stream",
     "text": [
      "(8544, 2)\n"
     ]
    },
    {
     "data": {
      "text/html": [
       "<div>\n",
       "<style scoped>\n",
       "    .dataframe tbody tr th:only-of-type {\n",
       "        vertical-align: middle;\n",
       "    }\n",
       "\n",
       "    .dataframe tbody tr th {\n",
       "        vertical-align: top;\n",
       "    }\n",
       "\n",
       "    .dataframe thead th {\n",
       "        text-align: right;\n",
       "    }\n",
       "</style>\n",
       "<table border=\"1\" class=\"dataframe\">\n",
       "  <thead>\n",
       "    <tr style=\"text-align: right;\">\n",
       "      <th></th>\n",
       "      <th>sentence</th>\n",
       "      <th>label</th>\n",
       "    </tr>\n",
       "  </thead>\n",
       "  <tbody>\n",
       "    <tr>\n",
       "      <th>0</th>\n",
       "      <td>The Rock is destined to be the 21st Century 's...</td>\n",
       "      <td>3</td>\n",
       "    </tr>\n",
       "    <tr>\n",
       "      <th>1</th>\n",
       "      <td>The gorgeously elaborate continuation of `` Th...</td>\n",
       "      <td>4</td>\n",
       "    </tr>\n",
       "    <tr>\n",
       "      <th>2</th>\n",
       "      <td>Singer/composer Bryan Adams contributes a slew...</td>\n",
       "      <td>3</td>\n",
       "    </tr>\n",
       "    <tr>\n",
       "      <th>3</th>\n",
       "      <td>You 'd think by now America would have had eno...</td>\n",
       "      <td>2</td>\n",
       "    </tr>\n",
       "    <tr>\n",
       "      <th>4</th>\n",
       "      <td>Yet the act is still charming here .</td>\n",
       "      <td>3</td>\n",
       "    </tr>\n",
       "  </tbody>\n",
       "</table>\n",
       "</div>"
      ],
      "text/plain": [
       "                                            sentence  label\n",
       "0  The Rock is destined to be the 21st Century 's...      3\n",
       "1  The gorgeously elaborate continuation of `` Th...      4\n",
       "2  Singer/composer Bryan Adams contributes a slew...      3\n",
       "3  You 'd think by now America would have had eno...      2\n",
       "4               Yet the act is still charming here .      3"
      ]
     },
     "execution_count": 5,
     "metadata": {},
     "output_type": "execute_result"
    }
   ],
   "source": [
    "train_df = stanford_raw_to_df(train)\n",
    "print(train_df.shape)\n",
    "train_df.head()"
   ]
  },
  {
   "cell_type": "code",
   "execution_count": 6,
   "id": "839e6630",
   "metadata": {},
   "outputs": [
    {
     "name": "stdout",
     "output_type": "stream",
     "text": [
      "<class 'pandas.core.frame.DataFrame'>\n",
      "RangeIndex: 8544 entries, 0 to 8543\n",
      "Data columns (total 2 columns):\n",
      " #   Column    Non-Null Count  Dtype \n",
      "---  ------    --------------  ----- \n",
      " 0   sentence  8544 non-null   object\n",
      " 1   label     8544 non-null   int64 \n",
      "dtypes: int64(1), object(1)\n",
      "memory usage: 133.6+ KB\n"
     ]
    }
   ],
   "source": [
    "train_df.info()"
   ]
  },
  {
   "cell_type": "code",
   "execution_count": 7,
   "id": "898b04f0",
   "metadata": {},
   "outputs": [
    {
     "name": "stdout",
     "output_type": "stream",
     "text": [
      "(1101, 2)\n"
     ]
    },
    {
     "data": {
      "text/html": [
       "<div>\n",
       "<style scoped>\n",
       "    .dataframe tbody tr th:only-of-type {\n",
       "        vertical-align: middle;\n",
       "    }\n",
       "\n",
       "    .dataframe tbody tr th {\n",
       "        vertical-align: top;\n",
       "    }\n",
       "\n",
       "    .dataframe thead th {\n",
       "        text-align: right;\n",
       "    }\n",
       "</style>\n",
       "<table border=\"1\" class=\"dataframe\">\n",
       "  <thead>\n",
       "    <tr style=\"text-align: right;\">\n",
       "      <th></th>\n",
       "      <th>sentence</th>\n",
       "      <th>label</th>\n",
       "    </tr>\n",
       "  </thead>\n",
       "  <tbody>\n",
       "    <tr>\n",
       "      <th>0</th>\n",
       "      <td>It 's a lovely film with lovely performances b...</td>\n",
       "      <td>3</td>\n",
       "    </tr>\n",
       "    <tr>\n",
       "      <th>1</th>\n",
       "      <td>No one goes unindicted here , which is probabl...</td>\n",
       "      <td>2</td>\n",
       "    </tr>\n",
       "    <tr>\n",
       "      <th>2</th>\n",
       "      <td>And if you 're not nearly moved to tears by a ...</td>\n",
       "      <td>3</td>\n",
       "    </tr>\n",
       "    <tr>\n",
       "      <th>3</th>\n",
       "      <td>A warm , funny , engaging film .</td>\n",
       "      <td>4</td>\n",
       "    </tr>\n",
       "    <tr>\n",
       "      <th>4</th>\n",
       "      <td>Uses sharp humor and insight into human nature...</td>\n",
       "      <td>4</td>\n",
       "    </tr>\n",
       "  </tbody>\n",
       "</table>\n",
       "</div>"
      ],
      "text/plain": [
       "                                            sentence  label\n",
       "0  It 's a lovely film with lovely performances b...      3\n",
       "1  No one goes unindicted here , which is probabl...      2\n",
       "2  And if you 're not nearly moved to tears by a ...      3\n",
       "3                   A warm , funny , engaging film .      4\n",
       "4  Uses sharp humor and insight into human nature...      4"
      ]
     },
     "execution_count": 7,
     "metadata": {},
     "output_type": "execute_result"
    }
   ],
   "source": [
    "dev_df = stanford_raw_to_df(dev)\n",
    "print(dev_df.shape)\n",
    "dev_df.head()"
   ]
  },
  {
   "cell_type": "markdown",
   "id": "c9c92407",
   "metadata": {},
   "source": [
    "## Pre-processing"
   ]
  },
  {
   "cell_type": "code",
   "execution_count": 8,
   "id": "68c70714",
   "metadata": {},
   "outputs": [],
   "source": [
    "tokenizer = BertTokenizer.from_pretrained('bert-base-uncased', do_lower_case=True)"
   ]
  },
  {
   "cell_type": "code",
   "execution_count": 10,
   "id": "bac0a2f5",
   "metadata": {},
   "outputs": [],
   "source": [
    "train_encoded_sentences = []\n",
    "\n",
    "for sentence in train_df['sentence'].values:\n",
    "    enc_sent_as_list = tokenizer.encode(sentence, add_special_tokens=True)\n",
    "    train_encoded_sentences.append(enc_sent_as_list)"
   ]
  },
  {
   "cell_type": "code",
   "execution_count": 11,
   "id": "8b45db3b",
   "metadata": {},
   "outputs": [
    {
     "data": {
      "text/plain": [
       "'Singer/composer Bryan Adams contributes a slew of songs -- a few potential hits , a few more simply intrusive to the story -- but the whole package certainly captures the intended , er , spirit of the piece .'"
      ]
     },
     "execution_count": 11,
     "metadata": {},
     "output_type": "execute_result"
    }
   ],
   "source": [
    "train_df.loc[2]['sentence']"
   ]
  },
  {
   "cell_type": "code",
   "execution_count": 12,
   "id": "4bf420d9",
   "metadata": {},
   "outputs": [
    {
     "data": {
      "text/plain": [
       "['[CLS]',\n",
       " 'singer',\n",
       " '/',\n",
       " 'composer',\n",
       " 'bryan',\n",
       " 'adams',\n",
       " 'contributes',\n",
       " 'a',\n",
       " 'sl',\n",
       " '##ew',\n",
       " 'of',\n",
       " 'songs',\n",
       " '-',\n",
       " '-',\n",
       " 'a',\n",
       " 'few',\n",
       " 'potential',\n",
       " 'hits',\n",
       " ',',\n",
       " 'a',\n",
       " 'few',\n",
       " 'more',\n",
       " 'simply',\n",
       " 'int',\n",
       " '##rus',\n",
       " '##ive',\n",
       " 'to',\n",
       " 'the',\n",
       " 'story',\n",
       " '-',\n",
       " '-',\n",
       " 'but',\n",
       " 'the',\n",
       " 'whole',\n",
       " 'package',\n",
       " 'certainly',\n",
       " 'captures',\n",
       " 'the',\n",
       " 'intended',\n",
       " ',',\n",
       " 'er',\n",
       " ',',\n",
       " 'spirit',\n",
       " 'of',\n",
       " 'the',\n",
       " 'piece',\n",
       " '.',\n",
       " '[SEP]']"
      ]
     },
     "execution_count": 12,
     "metadata": {},
     "output_type": "execute_result"
    }
   ],
   "source": [
    "[tokenizer.convert_ids_to_tokens(i_d) for i_d in train_encoded_sentences[2]]"
   ]
  },
  {
   "cell_type": "code",
   "execution_count": 13,
   "id": "0d42d4cb",
   "metadata": {},
   "outputs": [],
   "source": [
    "dev_encoded_sentences = []\n",
    "\n",
    "for sentence in dev_df['sentence'].values:\n",
    "    enc_sent_as_list = tokenizer.encode(sentence, add_special_tokens=True)\n",
    "    dev_encoded_sentences.append(enc_sent_as_list)"
   ]
  },
  {
   "cell_type": "code",
   "execution_count": 14,
   "id": "d6eed259",
   "metadata": {},
   "outputs": [
    {
     "data": {
      "text/plain": [
       "(66, 55)"
      ]
     },
     "execution_count": 14,
     "metadata": {},
     "output_type": "execute_result"
    }
   ],
   "source": [
    "max([len(sent) for sent in train_encoded_sentences]), max([len(sent) for sent in dev_encoded_sentences])"
   ]
  },
  {
   "cell_type": "code",
   "execution_count": 15,
   "id": "aaa8ef32",
   "metadata": {},
   "outputs": [],
   "source": [
    "def pad_sentence_at_end(sentence, max_length):\n",
    "    \"\"\"\n",
    "    Pad tokenised sentence with zeros at end\n",
    "    \n",
    "    :param: sentence: list of encodings for a sentence\n",
    "    :param: max_length: max length to pad up to\n",
    "    \"\"\"\n",
    "    num_zeros_to_add = max_length - len(sentence)\n",
    "    zero_list = list(\n",
    "        np.zeros(num_zeros_to_add).astype(int)\n",
    "    )\n",
    "    padded_sentence = sentence + zero_list\n",
    "    return np.array(padded_sentence)\n",
    "\n",
    "\n",
    "def create_sentence_input_arrays(list_encoded_sentences, max_length):\n",
    "    \"\"\"\n",
    "    Create input arrays for BERT\n",
    "    \n",
    "    :param: list_encoded_sentences: List of sentence encoding lists\n",
    "    :param: max_length: max length to pad up to\n",
    "    \"\"\"\n",
    "    encoded_sentences = [pad_sentence_at_end(sent, max_length) for sent in list_encoded_sentences]\n",
    "    \n",
    "    train_array = np.vstack(encoded_sentences)\n",
    "    \n",
    "    train_attention_mask_array = (train_array != 0).astype(int)\n",
    "    \n",
    "    return train_array, train_attention_mask_array"
   ]
  },
  {
   "cell_type": "code",
   "execution_count": 16,
   "id": "1df1083f",
   "metadata": {},
   "outputs": [],
   "source": [
    "MAX_LENGTH = 70\n",
    "\n",
    "train_array, train_attention_mask_array = create_sentence_input_arrays(\n",
    "    train_encoded_sentences, \n",
    "    MAX_LENGTH\n",
    ")\n",
    "\n",
    "dev_array, dev_attention_mask_array = create_sentence_input_arrays(\n",
    "    dev_encoded_sentences, \n",
    "    MAX_LENGTH\n",
    ")"
   ]
  },
  {
   "cell_type": "code",
   "execution_count": 17,
   "id": "1f4c50a0",
   "metadata": {},
   "outputs": [
    {
     "data": {
      "text/plain": [
       "((8544, 70), (8544, 70))"
      ]
     },
     "execution_count": 17,
     "metadata": {},
     "output_type": "execute_result"
    }
   ],
   "source": [
    "train_array.shape, train_attention_mask_array.shape"
   ]
  },
  {
   "cell_type": "code",
   "execution_count": 18,
   "id": "66c8f242",
   "metadata": {},
   "outputs": [
    {
     "data": {
      "text/plain": [
       "((1101, 70), (1101, 70))"
      ]
     },
     "execution_count": 18,
     "metadata": {},
     "output_type": "execute_result"
    }
   ],
   "source": [
    "dev_array.shape, dev_attention_mask_array.shape"
   ]
  },
  {
   "cell_type": "code",
   "execution_count": 19,
   "id": "330f7e24",
   "metadata": {},
   "outputs": [
    {
     "data": {
      "text/plain": [
       "array([  101,  1996,  2600,  2003, 16036,  2000,  2022,  1996,  7398,\n",
       "        2301,  1005,  1055,  2047,  1036,  1036, 16608,  1005,  1005,\n",
       "        1998,  2008,  2002,  1005,  1055,  2183,  2000,  2191,  1037,\n",
       "       17624,  2130,  3618,  2084,  7779, 29058,  8625, 13327,  1010,\n",
       "        3744,  1011, 18856, 19513,  3158,  5477,  4168,  2030,  7112,\n",
       "       16562,  2140,  1012,   102])"
      ]
     },
     "execution_count": 19,
     "metadata": {},
     "output_type": "execute_result"
    }
   ],
   "source": [
    "np.array(train_encoded_sentences[0])"
   ]
  },
  {
   "cell_type": "code",
   "execution_count": 20,
   "id": "a0ef9b11",
   "metadata": {},
   "outputs": [
    {
     "data": {
      "text/plain": [
       "array([  101,  1996,  2600,  2003, 16036,  2000,  2022,  1996,  7398,\n",
       "        2301,  1005,  1055,  2047,  1036,  1036, 16608,  1005,  1005,\n",
       "        1998,  2008,  2002,  1005,  1055,  2183,  2000,  2191,  1037,\n",
       "       17624,  2130,  3618,  2084,  7779, 29058,  8625, 13327,  1010,\n",
       "        3744,  1011, 18856, 19513,  3158,  5477,  4168,  2030,  7112,\n",
       "       16562,  2140,  1012,   102,     0,     0,     0,     0,     0,\n",
       "           0,     0,     0,     0,     0,     0,     0,     0,     0,\n",
       "           0,     0,     0,     0,     0,     0,     0])"
      ]
     },
     "execution_count": 20,
     "metadata": {},
     "output_type": "execute_result"
    }
   ],
   "source": [
    "train_array[0]"
   ]
  },
  {
   "cell_type": "code",
   "execution_count": 21,
   "id": "59224e81",
   "metadata": {},
   "outputs": [
    {
     "data": {
      "text/plain": [
       "array([1, 1, 1, 1, 1, 1, 1, 1, 1, 1, 1, 1, 1, 1, 1, 1, 1, 1, 1, 1, 1, 1,\n",
       "       1, 1, 1, 1, 1, 1, 1, 1, 1, 1, 1, 1, 1, 1, 1, 1, 1, 1, 1, 1, 1, 1,\n",
       "       1, 1, 1, 1, 1, 0, 0, 0, 0, 0, 0, 0, 0, 0, 0, 0, 0, 0, 0, 0, 0, 0,\n",
       "       0, 0, 0, 0])"
      ]
     },
     "execution_count": 21,
     "metadata": {},
     "output_type": "execute_result"
    }
   ],
   "source": [
    "train_attention_mask_array[0]"
   ]
  },
  {
   "cell_type": "markdown",
   "id": "fb9ac2ff",
   "metadata": {},
   "source": [
    "Convert to tensors"
   ]
  },
  {
   "cell_type": "code",
   "execution_count": 22,
   "id": "56e5ed40",
   "metadata": {},
   "outputs": [],
   "source": [
    "train_tensor = torch.tensor(train_array)\n",
    "train_attention_mask_tensor = torch.tensor(train_attention_mask_array)\n",
    "train_labels_tensor = torch.tensor(train_df['label'].values)\n",
    "\n",
    "dev_tensor = torch.tensor(dev_array)\n",
    "dev_attention_mask_tensor = torch.tensor(dev_attention_mask_array)\n",
    "dev_labels_tensor = torch.tensor(dev_df['label'].values)"
   ]
  },
  {
   "cell_type": "markdown",
   "id": "52a4e0a8",
   "metadata": {},
   "source": [
    "## Fine-tune BERT\n",
    "\n",
    "Run on Colab"
   ]
  },
  {
   "cell_type": "code",
   "execution_count": 23,
   "id": "1eda861d",
   "metadata": {},
   "outputs": [
    {
     "name": "stdout",
     "output_type": "stream",
     "text": [
      "cpu\n"
     ]
    }
   ],
   "source": [
    "device = torch.device(\"cuda:0\" if torch.cuda.is_available() else \"cpu\")\n",
    "print(device)"
   ]
  },
  {
   "cell_type": "code",
   "execution_count": 30,
   "id": "78d5299f",
   "metadata": {},
   "outputs": [],
   "source": [
    "BATCH_SIZE = 32\n",
    "LEARNING_RATE = 2e-5\n",
    "EPS = 1e-8\n",
    "RANDOM_SEED = 3\n",
    "NUM_EPOCHS = 2"
   ]
  },
  {
   "cell_type": "code",
   "execution_count": 31,
   "id": "e784c74f",
   "metadata": {},
   "outputs": [],
   "source": [
    "train_dataset = TensorDataset(train_tensor, train_attention_mask_tensor, train_labels_tensor)\n",
    "dev_dataset = TensorDataset(dev_tensor, dev_attention_mask_tensor, dev_labels_tensor)"
   ]
  },
  {
   "cell_type": "code",
   "execution_count": 32,
   "id": "ff72e0db",
   "metadata": {},
   "outputs": [],
   "source": [
    "train_data_loader = DataLoader(train_dataset, batch_size=BATCH_SIZE, shuffle=True)\n",
    "dev_data_loader = DataLoader(dev_dataset, batch_size=BATCH_SIZE)"
   ]
  },
  {
   "cell_type": "markdown",
   "id": "90617a3d",
   "metadata": {},
   "source": [
    "https://huggingface.co/transformers/model_doc/bert.html#bertforsequenceclassification"
   ]
  },
  {
   "cell_type": "code",
   "execution_count": 33,
   "id": "6476fb3b",
   "metadata": {},
   "outputs": [
    {
     "name": "stderr",
     "output_type": "stream",
     "text": [
      "Some weights of the model checkpoint at bert-base-uncased were not used when initializing BertForSequenceClassification: ['cls.predictions.bias', 'cls.predictions.transform.dense.weight', 'cls.predictions.transform.dense.bias', 'cls.predictions.decoder.weight', 'cls.seq_relationship.weight', 'cls.seq_relationship.bias', 'cls.predictions.transform.LayerNorm.weight', 'cls.predictions.transform.LayerNorm.bias']\n",
      "- This IS expected if you are initializing BertForSequenceClassification from the checkpoint of a model trained on another task or with another architecture (e.g. initializing a BertForSequenceClassification model from a BertForPreTraining model).\n",
      "- This IS NOT expected if you are initializing BertForSequenceClassification from the checkpoint of a model that you expect to be exactly identical (initializing a BertForSequenceClassification model from a BertForSequenceClassification model).\n",
      "Some weights of BertForSequenceClassification were not initialized from the model checkpoint at bert-base-uncased and are newly initialized: ['classifier.weight', 'classifier.bias']\n",
      "You should probably TRAIN this model on a down-stream task to be able to use it for predictions and inference.\n"
     ]
    }
   ],
   "source": [
    "bert_model = BertForSequenceClassification.from_pretrained(\n",
    "    \"bert-base-uncased\",\n",
    "    num_labels=5,\n",
    "    output_attentions=False,\n",
    "    output_hidden_states=False\n",
    ")"
   ]
  },
  {
   "cell_type": "code",
   "execution_count": 34,
   "id": "a8761a99",
   "metadata": {
    "tags": []
   },
   "outputs": [],
   "source": [
    "%%capture\n",
    "bert_model.to(device)"
   ]
  },
  {
   "cell_type": "code",
   "execution_count": 35,
   "id": "5eebcb50",
   "metadata": {},
   "outputs": [],
   "source": [
    "optimiser = AdamW(\n",
    "    bert_model.parameters(),\n",
    "    lr=LEARNING_RATE,\n",
    "    eps=EPS\n",
    ")"
   ]
  },
  {
   "cell_type": "code",
   "execution_count": 36,
   "id": "a093d147",
   "metadata": {},
   "outputs": [],
   "source": [
    "scheduler = get_linear_schedule_with_warmup(\n",
    "    optimiser, \n",
    "    num_warmup_steps=0,\n",
    "    num_training_steps=len(train_data_loader) * NUM_EPOCHS\n",
    ")"
   ]
  },
  {
   "cell_type": "code",
   "execution_count": 65,
   "id": "2ee184d8",
   "metadata": {
    "tags": []
   },
   "outputs": [],
   "source": [
    "random.seed(RANDOM_SEED)\n",
    "np.random.seed(RANDOM_SEED)\n",
    "torch.manual_seed(RANDOM_SEED)\n",
    "torch.cuda.manual_seed_all(RANDOM_SEED)\n",
    "\n",
    "for epoch in range(NUM_EPOCHS):\n",
    "    \n",
    "    #========================================#\n",
    "    # TRAINING                               #\n",
    "    #========================================#\n",
    "    \n",
    "    bert_model.train()\n",
    "    \n",
    "    for batch in tqdm(train_data_loader):\n",
    "        \n",
    "        batch_input_ids = batch[0].to(device)\n",
    "        batch_attention_mask = batch[1].to(device)\n",
    "        batch_labels = batch[2].to(device)\n",
    "\n",
    "        optimiser.zero_grad()  # Set gradients to 0 otherwise will accumulate\n",
    "\n",
    "        outputs = bert_model(\n",
    "            input_ids=batch_input_ids,\n",
    "            token_type_ids=None,\n",
    "            attention_mask=batch_attention_mask,\n",
    "            labels=batch_labels\n",
    "        )\n",
    "        \n",
    "        loss = outputs[0]\n",
    "        \n",
    "        loss.backward()\n",
    "        \n",
    "        # Gradient clipping\n",
    "        torch.nn.utils.clip_grad_norm_(bert_model.parameters(), 1.0)\n",
    "        \n",
    "        optimiser.step()\n",
    "        scheduler.step()\n",
    "        \n",
    "    #========================================#\n",
    "    # EVALUATE                               #\n",
    "    #========================================#  \n",
    "    \n",
    "    bert_model.eval()\n",
    "    \n",
    "    # Train accuracy:\n",
    "    train_pred_labels = []\n",
    "    train_labels = []\n",
    "    \n",
    "    for batch in train_data_loader:\n",
    "        \n",
    "        batch_input_ids = batch[0].to(device)\n",
    "        batch_attention_mask = batch[1].to(device)\n",
    "        batch_labels = batch[2].to(device)\n",
    "        \n",
    "        with torch.no_grad():\n",
    "            outputs = bert_model(\n",
    "                input_ids=batch_input_ids,\n",
    "                token_type_ids=None,\n",
    "                attention_mask=batch_attention_mask\n",
    "            )\n",
    "            \n",
    "        logits = outputs[0]\n",
    "        \n",
    "        batch_pred_labels = list(\n",
    "            torch.argmax(logits, dim=1).cpu().numpy()\n",
    "        )\n",
    "        train_pred_labels = train_pred_labels + batch_pred_labels\n",
    "        \n",
    "        batch_labels = list(\n",
    "            batch_labels.cpu().numpy()\n",
    "        )\n",
    "        train_labels = train_labels + batch_labels\n",
    "    \n",
    "    train_accuracy = (np.array(train_pred_labels) == np.array(train_labels)).mean()\n",
    "    \n",
    "    \n",
    "    # Dev accuracy:\n",
    "    dev_pred_labels = []\n",
    "    dev_labels = []\n",
    "    \n",
    "    for batch in dev_data_loader:\n",
    "        \n",
    "        batch_input_ids = batch[0].to(device)\n",
    "        batch_attention_mask = batch[1].to(device)\n",
    "        batch_labels = batch[2].to(device)\n",
    "        \n",
    "        with torch.no_grad():\n",
    "            outputs = bert_model(\n",
    "                input_ids=batch_input_ids,\n",
    "                token_type_ids=None,\n",
    "                attention_mask=batch_attention_mask\n",
    "            )\n",
    "            \n",
    "        logits = outputs[0]\n",
    "        \n",
    "        batch_pred_labels = list(\n",
    "            torch.argmax(logits, dim=1).cpu().numpy()\n",
    "        )\n",
    "        dev_pred_labels = dev_pred_labels + batch_pred_labels\n",
    "        \n",
    "        batch_labels = list(\n",
    "            batch_labels.cpu().numpy()\n",
    "        )\n",
    "        dev_labels = dev_labels + batch_labels\n",
    "    \n",
    "    dev_accuracy = (np.array(dev_pred_labels) == np.array(dev_labels)).mean()\n",
    "    \n",
    "    print(f\"Epoch {epoch+1}: train_acc={train_accuracy}, dev_acc={dev_accuracy}\")"
   ]
  },
  {
   "cell_type": "markdown",
   "id": "5a3b19a9",
   "metadata": {},
   "source": [
    "## Save model"
   ]
  },
  {
   "cell_type": "code",
   "execution_count": null,
   "id": "4ef917bf",
   "metadata": {},
   "outputs": [],
   "source": [
    "from google.colab import drive\n",
    "drive.mount('/content/drive')"
   ]
  },
  {
   "cell_type": "code",
   "execution_count": null,
   "id": "11d60b3c",
   "metadata": {},
   "outputs": [],
   "source": [
    "os.getcwd()"
   ]
  },
  {
   "cell_type": "markdown",
   "id": "d4e89713",
   "metadata": {},
   "source": [
    "May need to change current directory"
   ]
  },
  {
   "cell_type": "code",
   "execution_count": null,
   "id": "aeffc610",
   "metadata": {},
   "outputs": [],
   "source": [
    "bert_model.save_pretrained(\"Colab Notebooks/fine-tuned-bert-base-sst\")"
   ]
  },
  {
   "cell_type": "markdown",
   "id": "99a63be9",
   "metadata": {},
   "source": [
    "Download and save to models folder"
   ]
  },
  {
   "cell_type": "markdown",
   "id": "46768ade",
   "metadata": {},
   "source": [
    "# SHAP"
   ]
  },
  {
   "cell_type": "markdown",
   "id": "ee1b42dd",
   "metadata": {},
   "source": [
    "Based on this [guide](https://shap.readthedocs.io/en/latest/example_notebooks/text_examples/sentiment_analysis/Emotion%20Classification%20Explanation%20Demo.html)"
   ]
  },
  {
   "cell_type": "markdown",
   "id": "da6efd3b",
   "metadata": {},
   "source": [
    "## Load model"
   ]
  },
  {
   "cell_type": "code",
   "execution_count": 10,
   "id": "547e5a4f",
   "metadata": {},
   "outputs": [],
   "source": [
    "bert_model = BertForSequenceClassification.from_pretrained(\"models/fine-tuned-bert-base-sst\")"
   ]
  },
  {
   "cell_type": "code",
   "execution_count": 40,
   "id": "e9dd5fb4",
   "metadata": {},
   "outputs": [
    {
     "name": "stderr",
     "output_type": "stream",
     "text": [
      "100%|██████████| 35/35 [02:18<00:00,  3.97s/it]\n"
     ]
    },
    {
     "data": {
      "text/plain": [
       "0.5213442325158947"
      ]
     },
     "execution_count": 40,
     "metadata": {},
     "output_type": "execute_result"
    }
   ],
   "source": [
    "bert_model.eval()\n",
    "\n",
    "# Dev accuracy:\n",
    "dev_pred_labels = []\n",
    "dev_labels = []\n",
    "\n",
    "for batch in tqdm(dev_data_loader):\n",
    "\n",
    "    batch_input_ids = batch[0].to(device)\n",
    "    batch_attention_mask = batch[1].to(device)\n",
    "    batch_labels = batch[2].to(device)\n",
    "\n",
    "    with torch.no_grad():\n",
    "        outputs = bert_model(\n",
    "            input_ids=batch_input_ids,\n",
    "            token_type_ids=None,\n",
    "            attention_mask=batch_attention_mask\n",
    "        )\n",
    "\n",
    "    logits = outputs[0]\n",
    "\n",
    "    batch_pred_labels = list(\n",
    "        torch.argmax(logits, dim=1).cpu().numpy()\n",
    "    )\n",
    "    dev_pred_labels = dev_pred_labels + batch_pred_labels\n",
    "\n",
    "    batch_labels = list(\n",
    "        batch_labels.cpu().numpy()\n",
    "    )\n",
    "    dev_labels = dev_labels + batch_labels\n",
    "\n",
    "dev_accuracy = (np.array(dev_pred_labels) == np.array(dev_labels)).mean()\n",
    "dev_accuracy"
   ]
  },
  {
   "cell_type": "code",
   "execution_count": 11,
   "id": "1646d701",
   "metadata": {},
   "outputs": [
    {
     "data": {
      "text/html": [
       "<div>\n",
       "<style scoped>\n",
       "    .dataframe tbody tr th:only-of-type {\n",
       "        vertical-align: middle;\n",
       "    }\n",
       "\n",
       "    .dataframe tbody tr th {\n",
       "        vertical-align: top;\n",
       "    }\n",
       "\n",
       "    .dataframe thead th {\n",
       "        text-align: right;\n",
       "    }\n",
       "</style>\n",
       "<table border=\"1\" class=\"dataframe\">\n",
       "  <thead>\n",
       "    <tr style=\"text-align: right;\">\n",
       "      <th></th>\n",
       "      <th>sentence</th>\n",
       "      <th>label</th>\n",
       "    </tr>\n",
       "  </thead>\n",
       "  <tbody>\n",
       "    <tr>\n",
       "      <th>0</th>\n",
       "      <td>The Rock is destined to be the 21st Century 's...</td>\n",
       "      <td>3</td>\n",
       "    </tr>\n",
       "    <tr>\n",
       "      <th>1</th>\n",
       "      <td>The gorgeously elaborate continuation of `` Th...</td>\n",
       "      <td>4</td>\n",
       "    </tr>\n",
       "    <tr>\n",
       "      <th>2</th>\n",
       "      <td>Singer/composer Bryan Adams contributes a slew...</td>\n",
       "      <td>3</td>\n",
       "    </tr>\n",
       "    <tr>\n",
       "      <th>3</th>\n",
       "      <td>You 'd think by now America would have had eno...</td>\n",
       "      <td>2</td>\n",
       "    </tr>\n",
       "    <tr>\n",
       "      <th>4</th>\n",
       "      <td>Yet the act is still charming here .</td>\n",
       "      <td>3</td>\n",
       "    </tr>\n",
       "  </tbody>\n",
       "</table>\n",
       "</div>"
      ],
      "text/plain": [
       "                                            sentence  label\n",
       "0  The Rock is destined to be the 21st Century 's...      3\n",
       "1  The gorgeously elaborate continuation of `` Th...      4\n",
       "2  Singer/composer Bryan Adams contributes a slew...      3\n",
       "3  You 'd think by now America would have had eno...      2\n",
       "4               Yet the act is still charming here .      3"
      ]
     },
     "execution_count": 11,
     "metadata": {},
     "output_type": "execute_result"
    }
   ],
   "source": [
    "train_df.head()"
   ]
  },
  {
   "cell_type": "code",
   "execution_count": 12,
   "id": "853aafef",
   "metadata": {},
   "outputs": [],
   "source": [
    "# set mapping between label and id\n",
    "id2label = bert_model.config.id2label\n",
    "label2id = bert_model.config.label2id\n",
    "labels = sorted(label2id, key=label2id.get)"
   ]
  },
  {
   "cell_type": "markdown",
   "id": "1c5bf14b",
   "metadata": {},
   "source": [
    "## Label distribution"
   ]
  },
  {
   "cell_type": "code",
   "execution_count": 14,
   "id": "4c64355a",
   "metadata": {},
   "outputs": [
    {
     "data": {
      "image/png": "[encoded data removed]",
      "text/plain": [
       "<Figure size 432x288 with 1 Axes>"
      ]
     },
     "metadata": {
      "needs_background": "light"
     },
     "output_type": "display_data"
    }
   ],
   "source": [
    "ax = train_df.label.map(id2label).value_counts().plot.bar()"
   ]
  },
  {
   "cell_type": "markdown",
   "id": "21dd693c",
   "metadata": {},
   "source": [
    "## Define function"
   ]
  },
  {
   "cell_type": "code",
   "execution_count": 27,
   "id": "c5e2baf2",
   "metadata": {},
   "outputs": [],
   "source": [
    "def f(x):\n",
    "    tv = torch.tensor([tokenizer.encode(v, padding='max_length', max_length=128,truncation=True) for v in x])  # .cuda()\n",
    "    attention_mask = (tv!=0).type(torch.int64)  # .cuda()\n",
    "    outputs = bert_model(tv,attention_mask=attention_mask)[0].detach().cpu().numpy()\n",
    "    scores = (np.exp(outputs).T / np.exp(outputs).sum(-1)).T\n",
    "    val = sp.special.logit(scores)\n",
    "    return val"
   ]
  },
  {
   "cell_type": "markdown",
   "id": "81d67ed1",
   "metadata": {},
   "source": [
    "Create an explainer object"
   ]
  },
  {
   "cell_type": "code",
   "execution_count": 28,
   "id": "ef40e250",
   "metadata": {},
   "outputs": [],
   "source": [
    "explainer = shap.Explainer(f,tokenizer,output_names=labels)"
   ]
  },
  {
   "cell_type": "markdown",
   "id": "21a604ed",
   "metadata": {},
   "source": [
    "Compute SHAP values"
   ]
  },
  {
   "cell_type": "code",
   "execution_count": 30,
   "id": "a1411eed",
   "metadata": {},
   "outputs": [
    {
     "data": {
      "application/vnd.jupyter.widget-view+json": {
       "model_id": "",
       "version_major": 2,
       "version_minor": 0
      },
      "text/plain": [
       "  0%|          | 0/48 [00:00<?, ?it/s]"
      ]
     },
     "metadata": {},
     "output_type": "display_data"
    },
    {
     "name": "stderr",
     "output_type": "stream",
     "text": [
      "\n",
      "\n",
      "Partition explainer:  10%|█         | 1/10 [00:00<?, ?it/s]\u001b[A\u001b[A"
     ]
    },
    {
     "data": {
      "application/vnd.jupyter.widget-view+json": {
       "model_id": "",
       "version_major": 2,
       "version_minor": 0
      },
      "text/plain": [
       "  0%|          | 0/48 [00:00<?, ?it/s]"
      ]
     },
     "metadata": {},
     "output_type": "display_data"
    },
    {
     "name": "stderr",
     "output_type": "stream",
     "text": [
      "\n",
      "\n",
      "Partition explainer:  30%|███       | 3/10 [00:27<00:47,  6.83s/it]\u001b[A\u001b[A"
     ]
    },
    {
     "data": {
      "application/vnd.jupyter.widget-view+json": {
       "model_id": "",
       "version_major": 2,
       "version_minor": 0
      },
      "text/plain": [
       "  0%|          | 0/48 [00:00<?, ?it/s]"
      ]
     },
     "metadata": {},
     "output_type": "display_data"
    },
    {
     "name": "stderr",
     "output_type": "stream",
     "text": [
      "\n",
      "\n",
      "Partition explainer:  16%|█▌        | 8/50 [02:35<15:34, 22.25s/it]\u001b[A\u001b[A\n"
     ]
    },
    {
     "data": {
      "application/vnd.jupyter.widget-view+json": {
       "model_id": "",
       "version_major": 2,
       "version_minor": 0
      },
      "text/plain": [
       "  0%|          | 0/48 [00:00<?, ?it/s]"
      ]
     },
     "metadata": {},
     "output_type": "display_data"
    },
    {
     "name": "stderr",
     "output_type": "stream",
     "text": [
      "\n",
      "\n",
      "Partition explainer:  50%|█████     | 5/10 [00:53<00:54, 10.97s/it]\u001b[A\u001b[A"
     ]
    },
    {
     "data": {
      "application/vnd.jupyter.widget-view+json": {
       "model_id": "",
       "version_major": 2,
       "version_minor": 0
      },
      "text/plain": [
       "  0%|          | 0/48 [00:00<?, ?it/s]"
      ]
     },
     "metadata": {},
     "output_type": "display_data"
    },
    {
     "name": "stderr",
     "output_type": "stream",
     "text": [
      "\n",
      "\n",
      "Partition explainer:  60%|██████    | 6/10 [01:07<00:47, 11.78s/it]\u001b[A\u001b[A"
     ]
    },
    {
     "data": {
      "application/vnd.jupyter.widget-view+json": {
       "model_id": "",
       "version_major": 2,
       "version_minor": 0
      },
      "text/plain": [
       "  0%|          | 0/48 [00:00<?, ?it/s]"
      ]
     },
     "metadata": {},
     "output_type": "display_data"
    },
    {
     "name": "stderr",
     "output_type": "stream",
     "text": [
      "\n",
      "\n",
      "Partition explainer:  70%|███████   | 7/10 [01:20<00:36, 12.29s/it]\u001b[A\u001b[A"
     ]
    },
    {
     "data": {
      "application/vnd.jupyter.widget-view+json": {
       "model_id": "",
       "version_major": 2,
       "version_minor": 0
      },
      "text/plain": [
       "  0%|          | 0/48 [00:00<?, ?it/s]"
      ]
     },
     "metadata": {},
     "output_type": "display_data"
    },
    {
     "name": "stderr",
     "output_type": "stream",
     "text": [
      "\n",
      "\n",
      "Partition explainer:  80%|████████  | 8/10 [01:33<00:25, 12.60s/it]\u001b[A\u001b[A"
     ]
    },
    {
     "data": {
      "application/vnd.jupyter.widget-view+json": {
       "model_id": "",
       "version_major": 2,
       "version_minor": 0
      },
      "text/plain": [
       "  0%|          | 0/48 [00:00<?, ?it/s]"
      ]
     },
     "metadata": {},
     "output_type": "display_data"
    },
    {
     "name": "stderr",
     "output_type": "stream",
     "text": [
      "\n",
      "\n",
      "Partition explainer:  90%|█████████ | 9/10 [01:47<00:12, 12.81s/it]\u001b[A\u001b[A"
     ]
    },
    {
     "data": {
      "application/vnd.jupyter.widget-view+json": {
       "model_id": "",
       "version_major": 2,
       "version_minor": 0
      },
      "text/plain": [
       "  0%|          | 0/48 [00:00<?, ?it/s]"
      ]
     },
     "metadata": {},
     "output_type": "display_data"
    },
    {
     "name": "stderr",
     "output_type": "stream",
     "text": [
      "\n",
      "\n",
      "Partition explainer: 100%|██████████| 10/10 [02:00<00:00, 12.94s/it]\u001b[A\u001b[A"
     ]
    },
    {
     "data": {
      "application/vnd.jupyter.widget-view+json": {
       "model_id": "",
       "version_major": 2,
       "version_minor": 0
      },
      "text/plain": [
       "  0%|          | 0/48 [00:00<?, ?it/s]"
      ]
     },
     "metadata": {},
     "output_type": "display_data"
    },
    {
     "name": "stderr",
     "output_type": "stream",
     "text": [
      "\n",
      "\n",
      "Partition explainer: 11it [02:13, 13.36s/it]                        \u001b[A\u001b[A\n"
     ]
    }
   ],
   "source": [
    "shap_values = explainer(train_df['sentence'][0:10])"
   ]
  },
  {
   "cell_type": "markdown",
   "id": "f7f1a560",
   "metadata": {},
   "source": [
    "Top words contributing to a given label:"
   ]
  },
  {
   "cell_type": "code",
   "execution_count": 57,
   "id": "0b5f220a",
   "metadata": {},
   "outputs": [
    {
     "data": {
      "image/png": "[encoded data removed]",
      "text/plain": [
       "<Figure size 576x468 with 1 Axes>"
      ]
     },
     "metadata": {},
     "output_type": "display_data"
    }
   ],
   "source": [
    "shap.plots.bar(shap_values[:,:,\"LABEL_4\"].mean(0))"
   ]
  },
  {
   "cell_type": "code",
   "execution_count": 63,
   "id": "f25786df",
   "metadata": {},
   "outputs": [
    {
     "data": {
      "image/png": "[encoded data removed]",
      "text/plain": [
       "<Figure size 576x468 with 1 Axes>"
      ]
     },
     "metadata": {},
     "output_type": "display_data"
    }
   ],
   "source": [
    "shap.plots.bar(shap_values[:,:,\"LABEL_0\"].mean(0))"
   ]
  },
  {
   "cell_type": "code",
   "execution_count": 70,
   "id": "d88edcf2",
   "metadata": {},
   "outputs": [
    {
     "data": {
      "text/html": [
       "<svg width=\"100%\" height=\"80px\"><line x1=\"0\" y1=\"33\" x2=\"100%\" y2=\"33\" style=\"stroke:rgb(150,150,150);stroke-width:1\" /><line x1=\"8.333333%\" y1=\"33\" x2=\"8.333333%\" y2=\"37\" style=\"stroke:rgb(150,150,150);stroke-width:1\" /><text x=\"8.333333%\" y=\"27\" font-size=\"12px\" fill=\"rgb(120,120,120)\" dominant-baseline=\"bottom\" text-anchor=\"middle\">-3.495423</text><text x=\"8.333333%\" y=\"10\" font-size=\"12px\" fill=\"rgb(120,120,120)\" dominant-baseline=\"bottom\" text-anchor=\"middle\">base value</text><line x1=\"22.619048%\" y1=\"33\" x2=\"22.619048%\" y2=\"37\" style=\"stroke:rgb(150,150,150);stroke-width:1\" /><text x=\"22.619048%\" y=\"27\" font-size=\"12px\" fill=\"rgb(120,120,120)\" dominant-baseline=\"bottom\" text-anchor=\"middle\">-2.564432</text><line x1=\"36.904762%\" y1=\"33\" x2=\"36.904762%\" y2=\"37\" style=\"stroke:rgb(150,150,150);stroke-width:1\" /><text x=\"36.904762%\" y=\"27\" font-size=\"12px\" fill=\"rgb(120,120,120)\" dominant-baseline=\"bottom\" text-anchor=\"middle\">-1.633441</text><line x1=\"51.190476%\" y1=\"33\" x2=\"51.190476%\" y2=\"37\" style=\"stroke:rgb(150,150,150);stroke-width:1\" /><text x=\"51.190476%\" y=\"27\" font-size=\"12px\" fill=\"rgb(120,120,120)\" dominant-baseline=\"bottom\" text-anchor=\"middle\">-0.702450</text><line x1=\"65.476190%\" y1=\"33\" x2=\"65.476190%\" y2=\"37\" style=\"stroke:rgb(150,150,150);stroke-width:1\" /><text x=\"65.476190%\" y=\"27\" font-size=\"12px\" fill=\"rgb(120,120,120)\" dominant-baseline=\"bottom\" text-anchor=\"middle\">0.228541</text><line x1=\"79.761905%\" y1=\"33\" x2=\"79.761905%\" y2=\"37\" style=\"stroke:rgb(150,150,150);stroke-width:1\" /><text x=\"79.761905%\" y=\"27\" font-size=\"12px\" fill=\"rgb(120,120,120)\" dominant-baseline=\"bottom\" text-anchor=\"middle\">1.159532</text><line x1=\"91.666667%\" y1=\"33\" x2=\"91.666667%\" y2=\"37\" style=\"stroke:rgb(150,150,150);stroke-width:1\" /><text x=\"91.666667%\" y=\"27\" font-size=\"13px\" style=\"stroke:#ffffff;stroke-width:8px;\" font-weight=\"bold\" fill=\"rgb(255,255,255)\" dominant-baseline=\"bottom\" text-anchor=\"middle\">1.935358</text><text x=\"91.666667%\" y=\"27\" font-size=\"13px\" font-weight=\"bold\" fill=\"rgb(0,0,0)\" dominant-baseline=\"bottom\" text-anchor=\"middle\">1.935358</text><text x=\"91.666667%\" y=\"10\" font-size=\"12px\" fill=\"rgb(120,120,120)\" dominant-baseline=\"bottom\" text-anchor=\"middle\">f(x)</text><rect x=\"8.333333333333334%\" width=\"83.33333333333334%\" y=\"40\" height=\"18\" style=\"fill:rgb(255.0, 0.0, 81.08083606031792); stroke-width:0; stroke:rgb(0,0,0)\" /><line x1=\"68.19811052652818%\" x2=\"91.66666666666669%\" y1=\"60\" y2=\"60\" id=\"_fb_jptepkqoiekqluralbva_ind_1\" style=\"stroke:rgb(255.0, 0.0, 81.08083606031792);stroke-width:2; opacity: 0\"/><text x=\"79.93238859659743%\" y=\"71\" font-size=\"12px\" id=\"_fs_jptepkqoiekqluralbva_ind_1\" fill=\"rgb(255.0, 0.0, 81.08083606031792)\" style=\"opacity: 0\" dominant-baseline=\"middle\" text-anchor=\"middle\">1.529</text><svg x=\"68.19811052652818%\" y=\"40\" height=\"20\" width=\"23.468556140138503%\">  <svg x=\"0\" y=\"0\" width=\"100%\" height=\"100%\">    <text x=\"50%\" y=\"9\" font-size=\"12px\" fill=\"rgb(255,255,255)\" dominant-baseline=\"middle\" text-anchor=\"middle\">the gorgeously elaborate continuation of ` ` the lord of the</text>  </svg></svg><line x1=\"48.10982273479965%\" x2=\"68.19811052652818%\" y1=\"60\" y2=\"60\" id=\"_fb_jptepkqoiekqluralbva_ind_3\" style=\"stroke:rgb(255.0, 0.0, 81.08083606031792);stroke-width:2; opacity: 0\"/><text x=\"58.153966630663916%\" y=\"71\" font-size=\"12px\" id=\"_fs_jptepkqoiekqluralbva_ind_3\" fill=\"rgb(255.0, 0.0, 81.08083606031792)\" style=\"opacity: 0\" dominant-baseline=\"middle\" text-anchor=\"middle\">1.309</text><svg x=\"48.10982273479965%\" y=\"40\" height=\"20\" width=\"20.088287791728533%\">  <svg x=\"0\" y=\"0\" width=\"100%\" height=\"100%\">    <text x=\"50%\" y=\"9\" font-size=\"12px\" fill=\"rgb(255,255,255)\" dominant-baseline=\"middle\" text-anchor=\"middle\">describe co - writer / director peter jackson ' s expanded vision of j .</text>  </svg></svg><line x1=\"29.894726047766785%\" x2=\"48.10982273479965%\" y1=\"60\" y2=\"60\" id=\"_fb_jptepkqoiekqluralbva_ind_2\" style=\"stroke:rgb(255.0, 0.0, 81.08083606031792);stroke-width:2; opacity: 0\"/><text x=\"39.002274391283215%\" y=\"71\" font-size=\"12px\" id=\"_fs_jptepkqoiekqluralbva_ind_2\" fill=\"rgb(255.0, 0.0, 81.08083606031792)\" style=\"opacity: 0\" dominant-baseline=\"middle\" text-anchor=\"middle\">1.187</text><svg x=\"29.894726047766785%\" y=\"40\" height=\"20\" width=\"18.215096687032865%\">  <svg x=\"0\" y=\"0\" width=\"100%\" height=\"100%\">    <text x=\"50%\" y=\"9\" font-size=\"12px\" fill=\"rgb(255,255,255)\" dominant-baseline=\"middle\" text-anchor=\"middle\">rings ' ' trilogy is so huge that a column of words can not adequately</text>  </svg></svg><line x1=\"15.02972834179477%\" x2=\"29.894726047766785%\" y1=\"60\" y2=\"60\" id=\"_fb_jptepkqoiekqluralbva_ind_5\" style=\"stroke:rgb(255.0, 0.0, 81.08083606031792);stroke-width:2; opacity: 0\"/><text x=\"22.462227194780777%\" y=\"71\" font-size=\"12px\" id=\"_fs_jptepkqoiekqluralbva_ind_5\" fill=\"rgb(255.0, 0.0, 81.08083606031792)\" style=\"opacity: 0\" dominant-baseline=\"middle\" text-anchor=\"middle\">0.969</text><svg x=\"15.02972834179477%\" y=\"40\" height=\"20\" width=\"14.864997705972014%\">  <svg x=\"0\" y=\"0\" width=\"100%\" height=\"100%\">    <text x=\"50%\" y=\"9\" font-size=\"12px\" fill=\"rgb(255,255,255)\" dominant-baseline=\"middle\" text-anchor=\"middle\">tolkien ' s middle - earth .</text>  </svg></svg><line x1=\"8.333333333333334%\" x2=\"15.02972834179477%\" y1=\"60\" y2=\"60\" id=\"_fb_jptepkqoiekqluralbva_ind_4\" style=\"stroke:rgb(255.0, 0.0, 81.08083606031792);stroke-width:2; opacity: 0\"/><text x=\"11.681530837564052%\" y=\"71\" font-size=\"12px\" id=\"_fs_jptepkqoiekqluralbva_ind_4\" fill=\"rgb(255.0, 0.0, 81.08083606031792)\" style=\"opacity: 0\" dominant-baseline=\"middle\" text-anchor=\"middle\">0.436</text><svg x=\"8.333333333333334%\" y=\"40\" height=\"20\" width=\"6.696395008461437%\">  <svg x=\"0\" y=\"0\" width=\"100%\" height=\"100%\">    <text x=\"50%\" y=\"9\" font-size=\"12px\" fill=\"rgb(255,255,255)\" dominant-baseline=\"middle\" text-anchor=\"middle\">r . r .</text>  </svg></svg><g transform=\"translate(0,0)\">  <svg x=\"68.19811052652818%\" y=\"40\" height=\"18\" overflow=\"visible\" width=\"30\">    <path d=\"M 0 -9 l 6 18 L 0 25\" fill=\"none\" style=\"stroke:rgb(255.0, 0.0, 81.08083606031792);stroke-width:2\" />  </svg></g><g transform=\"translate(2,0)\">  <svg x=\"68.19811052652818%\" y=\"40\" height=\"18\" overflow=\"visible\" width=\"30\">    <path d=\"M 0 -9 l 6 18 L 0 25\" fill=\"none\" style=\"stroke:rgb(255.0, 0.0, 81.08083606031792);stroke-width:2\" />  </svg></g><g transform=\"translate(4,0)\">  <svg x=\"68.19811052652818%\" y=\"40\" height=\"18\" overflow=\"visible\" width=\"30\">    <path d=\"M 0 -9 l 6 18 L 0 25\" fill=\"none\" style=\"stroke:rgb(255.0, 0.0, 81.08083606031792);stroke-width:2\" />  </svg></g><g transform=\"translate(6,0)\">  <svg x=\"68.19811052652818%\" y=\"40\" height=\"18\" overflow=\"visible\" width=\"30\">    <path d=\"M 0 -9 l 6 18 L 0 25\" fill=\"none\" style=\"stroke:rgb(255.0, 0.0, 81.08083606031792);stroke-width:2\" />  </svg></g><g transform=\"translate(-8,0)\">  <svg x=\"68.19811052652818%\" y=\"40\" height=\"18\" overflow=\"visible\" width=\"30\">    <path d=\"M 0 -9 l 6 18 L 0 25\" fill=\"none\" style=\"stroke:rgb(255.0, 0.0, 81.08083606031792);stroke-width:2\" />  </svg></g><g transform=\"translate(-6,0)\">  <svg x=\"68.19811052652818%\" y=\"40\" height=\"18\" overflow=\"visible\" width=\"30\">    <path d=\"M 0 -9 l 6 18 L 0 25\" fill=\"none\" style=\"stroke:rgb(255.0, 0.0, 81.08083606031792);stroke-width:2\" />  </svg></g><g transform=\"translate(-4,0)\">  <svg x=\"68.19811052652818%\" y=\"40\" height=\"18\" overflow=\"visible\" width=\"30\">    <path d=\"M 0 -9 l 6 18 L 0 25\" fill=\"none\" style=\"stroke:rgb(255.0, 0.0, 81.08083606031792);stroke-width:2\" />  </svg></g><g transform=\"translate(-2,0)\">  <svg x=\"68.19811052652818%\" y=\"40\" height=\"18\" overflow=\"visible\" width=\"30\">    <path d=\"M 0 -9 l 6 18 L 0 25\" fill=\"none\" style=\"stroke:rgb(255.0, 0.0, 81.08083606031792);stroke-width:2\" />  </svg></g><g transform=\"translate(0,0)\">  <svg x=\"48.10982273479965%\" y=\"40\" height=\"18\" overflow=\"visible\" width=\"30\">    <path d=\"M 0 -9 l 6 18 L 0 25\" fill=\"none\" style=\"stroke:rgb(255.0, 0.0, 81.08083606031792);stroke-width:2\" />  </svg></g><g transform=\"translate(2,0)\">  <svg x=\"48.10982273479965%\" y=\"40\" height=\"18\" overflow=\"visible\" width=\"30\">    <path d=\"M 0 -9 l 6 18 L 0 25\" fill=\"none\" style=\"stroke:rgb(255.0, 0.0, 81.08083606031792);stroke-width:2\" />  </svg></g><g transform=\"translate(4,0)\">  <svg x=\"48.10982273479965%\" y=\"40\" height=\"18\" overflow=\"visible\" width=\"30\">    <path d=\"M 0 -9 l 6 18 L 0 25\" fill=\"none\" style=\"stroke:rgb(255.0, 0.0, 81.08083606031792);stroke-width:2\" />  </svg></g><g transform=\"translate(6,0)\">  <svg x=\"48.10982273479965%\" y=\"40\" height=\"18\" overflow=\"visible\" width=\"30\">    <path d=\"M 0 -9 l 6 18 L 0 25\" fill=\"none\" style=\"stroke:rgb(255.0, 0.0, 81.08083606031792);stroke-width:2\" />  </svg></g><g transform=\"translate(-8,0)\">  <svg x=\"48.10982273479965%\" y=\"40\" height=\"18\" overflow=\"visible\" width=\"30\">    <path d=\"M 0 -9 l 6 18 L 0 25\" fill=\"none\" style=\"stroke:rgb(255.0, 0.0, 81.08083606031792);stroke-width:2\" />  </svg></g><g transform=\"translate(-6,0)\">  <svg x=\"48.10982273479965%\" y=\"40\" height=\"18\" overflow=\"visible\" width=\"30\">    <path d=\"M 0 -9 l 6 18 L 0 25\" fill=\"none\" style=\"stroke:rgb(255.0, 0.0, 81.08083606031792);stroke-width:2\" />  </svg></g><g transform=\"translate(-4,0)\">  <svg x=\"48.10982273479965%\" y=\"40\" height=\"18\" overflow=\"visible\" width=\"30\">    <path d=\"M 0 -9 l 6 18 L 0 25\" fill=\"none\" style=\"stroke:rgb(255.0, 0.0, 81.08083606031792);stroke-width:2\" />  </svg></g><g transform=\"translate(-2,0)\">  <svg x=\"48.10982273479965%\" y=\"40\" height=\"18\" overflow=\"visible\" width=\"30\">    <path d=\"M 0 -9 l 6 18 L 0 25\" fill=\"none\" style=\"stroke:rgb(255.0, 0.0, 81.08083606031792);stroke-width:2\" />  </svg></g><g transform=\"translate(0,0)\">  <svg x=\"29.894726047766785%\" y=\"40\" height=\"18\" overflow=\"visible\" width=\"30\">    <path d=\"M 0 -9 l 6 18 L 0 25\" fill=\"none\" style=\"stroke:rgb(255.0, 0.0, 81.08083606031792);stroke-width:2\" />  </svg></g><g transform=\"translate(2,0)\">  <svg x=\"29.894726047766785%\" y=\"40\" height=\"18\" overflow=\"visible\" width=\"30\">    <path d=\"M 0 -9 l 6 18 L 0 25\" fill=\"none\" style=\"stroke:rgb(255.0, 0.0, 81.08083606031792);stroke-width:2\" />  </svg></g><g transform=\"translate(4,0)\">  <svg x=\"29.894726047766785%\" y=\"40\" height=\"18\" overflow=\"visible\" width=\"30\">    <path d=\"M 0 -9 l 6 18 L 0 25\" fill=\"none\" style=\"stroke:rgb(255.0, 0.0, 81.08083606031792);stroke-width:2\" />  </svg></g><g transform=\"translate(6,0)\">  <svg x=\"29.894726047766785%\" y=\"40\" height=\"18\" overflow=\"visible\" width=\"30\">    <path d=\"M 0 -9 l 6 18 L 0 25\" fill=\"none\" style=\"stroke:rgb(255.0, 0.0, 81.08083606031792);stroke-width:2\" />  </svg></g><g transform=\"translate(-8,0)\">  <svg x=\"29.894726047766785%\" y=\"40\" height=\"18\" overflow=\"visible\" width=\"30\">    <path d=\"M 0 -9 l 6 18 L 0 25\" fill=\"none\" style=\"stroke:rgb(255.0, 0.0, 81.08083606031792);stroke-width:2\" />  </svg></g><g transform=\"translate(-6,0)\">  <svg x=\"29.894726047766785%\" y=\"40\" height=\"18\" overflow=\"visible\" width=\"30\">    <path d=\"M 0 -9 l 6 18 L 0 25\" fill=\"none\" style=\"stroke:rgb(255.0, 0.0, 81.08083606031792);stroke-width:2\" />  </svg></g><g transform=\"translate(-4,0)\">  <svg x=\"29.894726047766785%\" y=\"40\" height=\"18\" overflow=\"visible\" width=\"30\">    <path d=\"M 0 -9 l 6 18 L 0 25\" fill=\"none\" style=\"stroke:rgb(255.0, 0.0, 81.08083606031792);stroke-width:2\" />  </svg></g><g transform=\"translate(-2,0)\">  <svg x=\"29.894726047766785%\" y=\"40\" height=\"18\" overflow=\"visible\" width=\"30\">    <path d=\"M 0 -9 l 6 18 L 0 25\" fill=\"none\" style=\"stroke:rgb(255.0, 0.0, 81.08083606031792);stroke-width:2\" />  </svg></g><g transform=\"translate(0,0)\">  <svg x=\"15.02972834179477%\" y=\"40\" height=\"18\" overflow=\"visible\" width=\"30\">    <path d=\"M 0 -9 l 6 18 L 0 25\" fill=\"none\" style=\"stroke:rgb(255.0, 0.0, 81.08083606031792);stroke-width:2\" />  </svg></g><g transform=\"translate(2,0)\">  <svg x=\"15.02972834179477%\" y=\"40\" height=\"18\" overflow=\"visible\" width=\"30\">    <path d=\"M 0 -9 l 6 18 L 0 25\" fill=\"none\" style=\"stroke:rgb(255.0, 0.0, 81.08083606031792);stroke-width:2\" />  </svg></g><g transform=\"translate(4,0)\">  <svg x=\"15.02972834179477%\" y=\"40\" height=\"18\" overflow=\"visible\" width=\"30\">    <path d=\"M 0 -9 l 6 18 L 0 25\" fill=\"none\" style=\"stroke:rgb(255.0, 0.0, 81.08083606031792);stroke-width:2\" />  </svg></g><g transform=\"translate(6,0)\">  <svg x=\"15.02972834179477%\" y=\"40\" height=\"18\" overflow=\"visible\" width=\"30\">    <path d=\"M 0 -9 l 6 18 L 0 25\" fill=\"none\" style=\"stroke:rgb(255.0, 0.0, 81.08083606031792);stroke-width:2\" />  </svg></g><g transform=\"translate(-8,0)\">  <svg x=\"15.02972834179477%\" y=\"40\" height=\"18\" overflow=\"visible\" width=\"30\">    <path d=\"M 0 -9 l 6 18 L 0 25\" fill=\"none\" style=\"stroke:rgb(255.0, 0.0, 81.08083606031792);stroke-width:2\" />  </svg></g><g transform=\"translate(-6,0)\">  <svg x=\"15.02972834179477%\" y=\"40\" height=\"18\" overflow=\"visible\" width=\"30\">    <path d=\"M 0 -9 l 6 18 L 0 25\" fill=\"none\" style=\"stroke:rgb(255.0, 0.0, 81.08083606031792);stroke-width:2\" />  </svg></g><g transform=\"translate(-4,0)\">  <svg x=\"15.02972834179477%\" y=\"40\" height=\"18\" overflow=\"visible\" width=\"30\">    <path d=\"M 0 -9 l 6 18 L 0 25\" fill=\"none\" style=\"stroke:rgb(255.0, 0.0, 81.08083606031792);stroke-width:2\" />  </svg></g><g transform=\"translate(-2,0)\">  <svg x=\"15.02972834179477%\" y=\"40\" height=\"18\" overflow=\"visible\" width=\"30\">    <path d=\"M 0 -9 l 6 18 L 0 25\" fill=\"none\" style=\"stroke:rgb(255.0, 0.0, 81.08083606031792);stroke-width:2\" />  </svg></g><rect transform=\"translate(-8,0)\" x=\"91.66666666666669%\" y=\"40\" width=\"8\" height=\"18\" style=\"fill:rgb(255.0, 0.0, 81.08083606031792)\"/><g transform=\"translate(-11.5,0)\">  <svg x=\"8.333333333333334%\" y=\"40\" height=\"18\" overflow=\"visible\" width=\"30\">    <path d=\"M 10 -9 l 6 18 L 10 25 L 0 25 L 0 -9\" fill=\"#ffffff\" style=\"stroke:rgb(255,255,255);stroke-width:2\" />  </svg></g><g transform=\"translate(-1.5,0)\">  <svg x=\"91.66666666666669%\" y=\"40\" height=\"18\" overflow=\"visible\" width=\"30\">    <path d=\"M 0 -9 l 6 18 L 0 25\" fill=\"none\" style=\"stroke:rgb(255, 195, 213);stroke-width:2\" />  </svg></g><rect x=\"68.19811052652818%\" y=\"40\" height=\"20\" width=\"23.468556140138503%\"      onmouseover=\"document.getElementById('_tp_jptepkqoiekqluralbva_ind_1').style.textDecoration = 'underline';document.getElementById('_fs_jptepkqoiekqluralbva_ind_1').style.opacity = 1;document.getElementById('_fb_jptepkqoiekqluralbva_ind_1').style.opacity = 1;\"      onmouseout=\"document.getElementById('_tp_jptepkqoiekqluralbva_ind_1').style.textDecoration = 'none';document.getElementById('_fs_jptepkqoiekqluralbva_ind_1').style.opacity = 0;document.getElementById('_fb_jptepkqoiekqluralbva_ind_1').style.opacity = 0;\" style=\"fill:rgb(0,0,0,0)\" /><g transform=\"translate(-1.5,0)\">  <svg x=\"68.19811052652818%\" y=\"40\" height=\"18\" overflow=\"visible\" width=\"30\">    <path d=\"M 0 -9 l 6 18 L 0 25\" fill=\"none\" style=\"stroke:rgb(255, 195, 213);stroke-width:2\" />  </svg></g><rect x=\"48.10982273479965%\" y=\"40\" height=\"20\" width=\"20.088287791728533%\"      onmouseover=\"document.getElementById('_tp_jptepkqoiekqluralbva_ind_3').style.textDecoration = 'underline';document.getElementById('_fs_jptepkqoiekqluralbva_ind_3').style.opacity = 1;document.getElementById('_fb_jptepkqoiekqluralbva_ind_3').style.opacity = 1;\"      onmouseout=\"document.getElementById('_tp_jptepkqoiekqluralbva_ind_3').style.textDecoration = 'none';document.getElementById('_fs_jptepkqoiekqluralbva_ind_3').style.opacity = 0;document.getElementById('_fb_jptepkqoiekqluralbva_ind_3').style.opacity = 0;\" style=\"fill:rgb(0,0,0,0)\" /><g transform=\"translate(-1.5,0)\">  <svg x=\"48.10982273479965%\" y=\"40\" height=\"18\" overflow=\"visible\" width=\"30\">    <path d=\"M 0 -9 l 6 18 L 0 25\" fill=\"none\" style=\"stroke:rgb(255, 195, 213);stroke-width:2\" />  </svg></g><rect x=\"29.894726047766785%\" y=\"40\" height=\"20\" width=\"18.215096687032865%\"      onmouseover=\"document.getElementById('_tp_jptepkqoiekqluralbva_ind_2').style.textDecoration = 'underline';document.getElementById('_fs_jptepkqoiekqluralbva_ind_2').style.opacity = 1;document.getElementById('_fb_jptepkqoiekqluralbva_ind_2').style.opacity = 1;\"      onmouseout=\"document.getElementById('_tp_jptepkqoiekqluralbva_ind_2').style.textDecoration = 'none';document.getElementById('_fs_jptepkqoiekqluralbva_ind_2').style.opacity = 0;document.getElementById('_fb_jptepkqoiekqluralbva_ind_2').style.opacity = 0;\" style=\"fill:rgb(0,0,0,0)\" /><g transform=\"translate(-1.5,0)\">  <svg x=\"29.894726047766785%\" y=\"40\" height=\"18\" overflow=\"visible\" width=\"30\">    <path d=\"M 0 -9 l 6 18 L 0 25\" fill=\"none\" style=\"stroke:rgb(255, 195, 213);stroke-width:2\" />  </svg></g><rect x=\"15.02972834179477%\" y=\"40\" height=\"20\" width=\"14.864997705972014%\"      onmouseover=\"document.getElementById('_tp_jptepkqoiekqluralbva_ind_5').style.textDecoration = 'underline';document.getElementById('_fs_jptepkqoiekqluralbva_ind_5').style.opacity = 1;document.getElementById('_fb_jptepkqoiekqluralbva_ind_5').style.opacity = 1;\"      onmouseout=\"document.getElementById('_tp_jptepkqoiekqluralbva_ind_5').style.textDecoration = 'none';document.getElementById('_fs_jptepkqoiekqluralbva_ind_5').style.opacity = 0;document.getElementById('_fb_jptepkqoiekqluralbva_ind_5').style.opacity = 0;\" style=\"fill:rgb(0,0,0,0)\" /><rect x=\"8.333333333333334%\" y=\"40\" height=\"20\" width=\"6.696395008461437%\"      onmouseover=\"document.getElementById('_tp_jptepkqoiekqluralbva_ind_4').style.textDecoration = 'underline';document.getElementById('_fs_jptepkqoiekqluralbva_ind_4').style.opacity = 1;document.getElementById('_fb_jptepkqoiekqluralbva_ind_4').style.opacity = 1;\"      onmouseout=\"document.getElementById('_tp_jptepkqoiekqluralbva_ind_4').style.textDecoration = 'none';document.getElementById('_fs_jptepkqoiekqluralbva_ind_4').style.opacity = 0;document.getElementById('_fb_jptepkqoiekqluralbva_ind_4').style.opacity = 0;\" style=\"fill:rgb(0,0,0,0)\" /><rect x=\"91.66666666666669%\" width=\"-0.0%\" y=\"40\" height=\"18\" style=\"fill:rgb(0.0, 138.56128015770727, 250.76166088685727); stroke-width:0; stroke:rgb(0,0,0)\" /><rect transform=\"translate(0,0)\" x=\"91.66666666666669%\" y=\"40\" width=\"8\" height=\"18\" style=\"fill:rgb(0.0, 138.56128015770727, 250.76166088685727)\"/><g transform=\"translate(-6.0,0)\">  <svg x=\"91.66666666666669%\" y=\"40\" height=\"18\" overflow=\"visible\" width=\"30\">    <path d=\"M 8 -9 l -6 18 L 8 25 L 20 25 L 20 -9\" fill=\"#ffffff\" style=\"stroke:rgb(255,255,255);stroke-width:2\" />  </svg></g></svg><div style='display: inline; text-align: center;'><div style='display: none; color: #999; padding-top: 0px; font-size: 12px;'>0.0</div><div id='_tp_jptepkqoiekqluralbva_ind_0'style='display: inline; background: rgba(230.2941176470614, 26.505882352939775, 102.59215686274348, 0.0); border-radius: 3px; padding: 0px'onclick=\"if (this.previousSibling.style.display == 'none') {this.previousSibling.style.display = 'block';this.parentNode.style.display = 'inline-block';} else {this.previousSibling.style.display = 'none';this.parentNode.style.display = 'inline';}\"onmouseover=\"document.getElementById('_fb_jptepkqoiekqluralbva_ind_0').style.opacity = 1; document.getElementById('_fs_jptepkqoiekqluralbva_ind_0').style.opacity = 1;\"onmouseout=\"document.getElementById('_fb_jptepkqoiekqluralbva_ind_0').style.opacity = 0; document.getElementById('_fs_jptepkqoiekqluralbva_ind_0').style.opacity = 0;\"> </div></div><div style='display: inline; text-align: center;'><div style='display: none; color: #999; padding-top: 0px; font-size: 12px;'>1.529 / 12</div><div id='_tp_jptepkqoiekqluralbva_ind_1'style='display: inline; background: rgba(255.0, 13.0, 87.0, 1.0); border-radius: 3px; padding: 0px'onclick=\"if (this.previousSibling.style.display == 'none') {this.previousSibling.style.display = 'block';this.parentNode.style.display = 'inline-block';} else {this.previousSibling.style.display = 'none';this.parentNode.style.display = 'inline';}\"onmouseover=\"document.getElementById('_fb_jptepkqoiekqluralbva_ind_1').style.opacity = 1; document.getElementById('_fs_jptepkqoiekqluralbva_ind_1').style.opacity = 1;\"onmouseout=\"document.getElementById('_fb_jptepkqoiekqluralbva_ind_1').style.opacity = 0; document.getElementById('_fs_jptepkqoiekqluralbva_ind_1').style.opacity = 0;\">the gorgeously elaborate continuation of ` ` the lord of the </div></div><div style='display: inline; text-align: center;'><div style='display: none; color: #999; padding-top: 0px; font-size: 12px;'>1.187 / 15</div><div id='_tp_jptepkqoiekqluralbva_ind_2'style='display: inline; background: rgba(255.0, 13.0, 87.0, 1.0); border-radius: 3px; padding: 0px'onclick=\"if (this.previousSibling.style.display == 'none') {this.previousSibling.style.display = 'block';this.parentNode.style.display = 'inline-block';} else {this.previousSibling.style.display = 'none';this.parentNode.style.display = 'inline';}\"onmouseover=\"document.getElementById('_fb_jptepkqoiekqluralbva_ind_2').style.opacity = 1; document.getElementById('_fs_jptepkqoiekqluralbva_ind_2').style.opacity = 1;\"onmouseout=\"document.getElementById('_fb_jptepkqoiekqluralbva_ind_2').style.opacity = 0; document.getElementById('_fs_jptepkqoiekqluralbva_ind_2').style.opacity = 0;\">rings ' ' trilogy is so huge that a column of words can not adequately </div></div><div style='display: inline; text-align: center;'><div style='display: none; color: #999; padding-top: 0px; font-size: 12px;'>1.309 / 15</div><div id='_tp_jptepkqoiekqluralbva_ind_3'style='display: inline; background: rgba(255.0, 13.0, 87.0, 1.0); border-radius: 3px; padding: 0px'onclick=\"if (this.previousSibling.style.display == 'none') {this.previousSibling.style.display = 'block';this.parentNode.style.display = 'inline-block';} else {this.previousSibling.style.display = 'none';this.parentNode.style.display = 'inline';}\"onmouseover=\"document.getElementById('_fb_jptepkqoiekqluralbva_ind_3').style.opacity = 1; document.getElementById('_fs_jptepkqoiekqluralbva_ind_3').style.opacity = 1;\"onmouseout=\"document.getElementById('_fb_jptepkqoiekqluralbva_ind_3').style.opacity = 0; document.getElementById('_fs_jptepkqoiekqluralbva_ind_3').style.opacity = 0;\">describe co - writer / director peter jackson ' s expanded vision of j . </div></div><div style='display: inline; text-align: center;'><div style='display: none; color: #999; padding-top: 0px; font-size: 12px;'>0.436 / 4</div><div id='_tp_jptepkqoiekqluralbva_ind_4'style='display: inline; background: rgba(255.0, 13.0, 87.0, 1.0); border-radius: 3px; padding: 0px'onclick=\"if (this.previousSibling.style.display == 'none') {this.previousSibling.style.display = 'block';this.parentNode.style.display = 'inline-block';} else {this.previousSibling.style.display = 'none';this.parentNode.style.display = 'inline';}\"onmouseover=\"document.getElementById('_fb_jptepkqoiekqluralbva_ind_4').style.opacity = 1; document.getElementById('_fs_jptepkqoiekqluralbva_ind_4').style.opacity = 1;\"onmouseout=\"document.getElementById('_fb_jptepkqoiekqluralbva_ind_4').style.opacity = 0; document.getElementById('_fs_jptepkqoiekqluralbva_ind_4').style.opacity = 0;\">r . r . </div></div><div style='display: inline; text-align: center;'><div style='display: none; color: #999; padding-top: 0px; font-size: 12px;'>0.969 / 7</div><div id='_tp_jptepkqoiekqluralbva_ind_5'style='display: inline; background: rgba(255.0, 13.0, 87.0, 1.0); border-radius: 3px; padding: 0px'onclick=\"if (this.previousSibling.style.display == 'none') {this.previousSibling.style.display = 'block';this.parentNode.style.display = 'inline-block';} else {this.previousSibling.style.display = 'none';this.parentNode.style.display = 'inline';}\"onmouseover=\"document.getElementById('_fb_jptepkqoiekqluralbva_ind_5').style.opacity = 1; document.getElementById('_fs_jptepkqoiekqluralbva_ind_5').style.opacity = 1;\"onmouseout=\"document.getElementById('_fb_jptepkqoiekqluralbva_ind_5').style.opacity = 0; document.getElementById('_fs_jptepkqoiekqluralbva_ind_5').style.opacity = 0;\">tolkien ' s middle - earth . </div></div><div style='display: inline; text-align: center;'><div style='display: none; color: #999; padding-top: 0px; font-size: 12px;'>0.0</div><div id='_tp_jptepkqoiekqluralbva_ind_6'style='display: inline; background: rgba(230.2941176470614, 26.505882352939775, 102.59215686274348, 0.0); border-radius: 3px; padding: 0px'onclick=\"if (this.previousSibling.style.display == 'none') {this.previousSibling.style.display = 'block';this.parentNode.style.display = 'inline-block';} else {this.previousSibling.style.display = 'none';this.parentNode.style.display = 'inline';}\"onmouseover=\"document.getElementById('_fb_jptepkqoiekqluralbva_ind_6').style.opacity = 1; document.getElementById('_fs_jptepkqoiekqluralbva_ind_6').style.opacity = 1;\"onmouseout=\"document.getElementById('_fb_jptepkqoiekqluralbva_ind_6').style.opacity = 0; document.getElementById('_fs_jptepkqoiekqluralbva_ind_6').style.opacity = 0;\"> </div></div>"
      ],
      "text/plain": [
       "<IPython.core.display.HTML object>"
      ]
     },
     "metadata": {},
     "output_type": "display_data"
    }
   ],
   "source": [
    "shap.plots.text(shap_values[1, :, \"LABEL_4\"])"
   ]
  },
  {
   "cell_type": "code",
   "execution_count": 55,
   "id": "cb229dec",
   "metadata": {},
   "outputs": [
    {
     "data": {
      "image/png": "[encoded data removed]",
      "text/plain": [
       "<Figure size 576x468 with 1 Axes>"
      ]
     },
     "metadata": {},
     "output_type": "display_data"
    }
   ],
   "source": [
    "shap.plots.bar(shap_values[1, :, \"LABEL_4\"])"
   ]
  },
  {
   "cell_type": "code",
   "execution_count": 65,
   "id": "dc13c89f",
   "metadata": {
    "tags": []
   },
   "outputs": [
    {
     "data": {
      "text/html": [
       "<div>\n",
       "<style scoped>\n",
       "    .dataframe tbody tr th:only-of-type {\n",
       "        vertical-align: middle;\n",
       "    }\n",
       "\n",
       "    .dataframe tbody tr th {\n",
       "        vertical-align: top;\n",
       "    }\n",
       "\n",
       "    .dataframe thead th {\n",
       "        text-align: right;\n",
       "    }\n",
       "</style>\n",
       "<table border=\"1\" class=\"dataframe\">\n",
       "  <thead>\n",
       "    <tr style=\"text-align: right;\">\n",
       "      <th></th>\n",
       "      <th>shap_values</th>\n",
       "      <th>token</th>\n",
       "    </tr>\n",
       "  </thead>\n",
       "  <tbody>\n",
       "    <tr>\n",
       "      <th>52</th>\n",
       "      <td>0.138969</td>\n",
       "      <td>earth</td>\n",
       "    </tr>\n",
       "    <tr>\n",
       "      <th>51</th>\n",
       "      <td>0.138969</td>\n",
       "      <td>-</td>\n",
       "    </tr>\n",
       "    <tr>\n",
       "      <th>53</th>\n",
       "      <td>0.138969</td>\n",
       "      <td>.</td>\n",
       "    </tr>\n",
       "    <tr>\n",
       "      <th>47</th>\n",
       "      <td>0.138969</td>\n",
       "      <td>tolkien</td>\n",
       "    </tr>\n",
       "    <tr>\n",
       "      <th>48</th>\n",
       "      <td>0.138969</td>\n",
       "      <td>'</td>\n",
       "    </tr>\n",
       "    <tr>\n",
       "      <th>50</th>\n",
       "      <td>0.138969</td>\n",
       "      <td>middle</td>\n",
       "    </tr>\n",
       "    <tr>\n",
       "      <th>49</th>\n",
       "      <td>0.138969</td>\n",
       "      <td>s</td>\n",
       "    </tr>\n",
       "    <tr>\n",
       "      <th>9</th>\n",
       "      <td>0.120793</td>\n",
       "      <td>the</td>\n",
       "    </tr>\n",
       "    <tr>\n",
       "      <th>10</th>\n",
       "      <td>0.120793</td>\n",
       "      <td>lord</td>\n",
       "    </tr>\n",
       "    <tr>\n",
       "      <th>11</th>\n",
       "      <td>0.120793</td>\n",
       "      <td>of</td>\n",
       "    </tr>\n",
       "  </tbody>\n",
       "</table>\n",
       "</div>"
      ],
      "text/plain": [
       "    shap_values     token\n",
       "52     0.138969    earth \n",
       "51     0.138969        - \n",
       "53     0.138969        . \n",
       "47     0.138969  tolkien \n",
       "48     0.138969        ' \n",
       "50     0.138969   middle \n",
       "49     0.138969        s \n",
       "9      0.120793      the \n",
       "10     0.120793     lord \n",
       "11     0.120793       of "
      ]
     },
     "execution_count": 65,
     "metadata": {},
     "output_type": "execute_result"
    }
   ],
   "source": [
    "pd.DataFrame(\n",
    "    {\n",
    "        'shap_values': shap_values[1, :, \"LABEL_4\"].values,\n",
    "        'token': shap_values[1, :, \"LABEL_4\"].data\n",
    "    }\n",
    ").sort_values('shap_values', ascending=False).head(10)"
   ]
  },
  {
   "cell_type": "code",
   "execution_count": 105,
   "id": "cabb1bfd",
   "metadata": {},
   "outputs": [],
   "source": [
    "# shap.plots.text(shap_values[:3])"
   ]
  },
  {
   "cell_type": "markdown",
   "id": "7afc96ea",
   "metadata": {},
   "source": [
    "# Checklist"
   ]
  },
  {
   "cell_type": "markdown",
   "id": "172c33f9",
   "metadata": {},
   "source": [
    "Follows examples from [here](https://github.com/marcotcr/checklist/blob/master/notebooks/tutorials/2.%20Perturbing%20data.ipynb)"
   ]
  },
  {
   "cell_type": "markdown",
   "id": "4f72e95c",
   "metadata": {},
   "source": [
    "## General prediction function"
   ]
  },
  {
   "cell_type": "code",
   "execution_count": 19,
   "id": "6c5962dc",
   "metadata": {
    "id": "f2M1OwYlgd8x"
   },
   "outputs": [],
   "source": [
    "BATCH_SIZE = 32\n",
    "MAX_LENGTH = 70"
   ]
  },
  {
   "cell_type": "code",
   "execution_count": 16,
   "id": "cbc4a235",
   "metadata": {
    "id": "adf67337"
   },
   "outputs": [],
   "source": [
    "def make_predictions(df, model, tokenizer, sentence_col_name):\n",
    "\n",
    "    #==========================================#\n",
    "    # PREPARE DATA                             #\n",
    "    #==========================================#\n",
    "\n",
    "    df = df.copy()\n",
    "\n",
    "    encoded_sentences = []\n",
    "\n",
    "    for sentence in df['sentence'].values:\n",
    "        enc_sent_as_list = tokenizer.encode(sentence, add_special_tokens=True)\n",
    "        encoded_sentences.append(enc_sent_as_list)\n",
    "\n",
    "    input_array, input_attention_mask_array = create_sentence_input_arrays(\n",
    "        encoded_sentences, \n",
    "        MAX_LENGTH\n",
    "    )\n",
    "\n",
    "    input_tensor = torch.tensor(input_array)\n",
    "    input_attention_mask_tensor = torch.tensor(input_attention_mask_array)\n",
    "    input_labels_tensor = torch.tensor(df['label'].values)\n",
    "\n",
    "    input_dataset = TensorDataset(input_tensor, input_attention_mask_tensor, input_labels_tensor)\n",
    "\n",
    "    input_data_loader = DataLoader(input_dataset, batch_size=BATCH_SIZE)\n",
    "\n",
    "    #==========================================#\n",
    "    # RUN MODEL                                #\n",
    "    #==========================================#\n",
    "\n",
    "    model.eval()\n",
    "\n",
    "    predicted_labels = []\n",
    "\n",
    "    for batch in tqdm(input_data_loader):\n",
    "\n",
    "        batch_input_ids = batch[0].to(device)\n",
    "        batch_attention_mask = batch[1].to(device)\n",
    "        batch_labels = batch[2].to(device)\n",
    "\n",
    "        with torch.no_grad():\n",
    "            outputs = model(\n",
    "                input_ids=batch_input_ids,\n",
    "                token_type_ids=None,\n",
    "                attention_mask=batch_attention_mask\n",
    "            )\n",
    "\n",
    "        logits = outputs[0]\n",
    "\n",
    "        batch_pred_labels = list(\n",
    "            torch.argmax(logits, dim=1).cpu().numpy()\n",
    "        )\n",
    "        predicted_labels = predicted_labels + batch_pred_labels\n",
    "\n",
    "    return np.array(predicted_labels)"
   ]
  },
  {
   "cell_type": "code",
   "execution_count": 20,
   "id": "f6007d9b",
   "metadata": {
    "colab": {
     "base_uri": "https://localhost:8080/"
    },
    "id": "Mi6pouCbHRyq",
    "outputId": "f62668e0-c14d-4195-9d4a-c6c99ff8b2b4"
   },
   "outputs": [
    {
     "name": "stderr",
     "output_type": "stream",
     "text": [
      "100%|██████████| 267/267 [00:18<00:00, 14.62it/s]\n"
     ]
    }
   ],
   "source": [
    "train_predictions = make_predictions(train_df, bert_model, tokenizer, 'sentence')"
   ]
  },
  {
   "cell_type": "code",
   "execution_count": 21,
   "id": "e97b89b0",
   "metadata": {
    "id": "2W1g0OYCHY5G"
   },
   "outputs": [],
   "source": [
    "train_df['predictions'] = train_predictions"
   ]
  },
  {
   "cell_type": "code",
   "execution_count": 22,
   "id": "e7aefa9c",
   "metadata": {
    "colab": {
     "base_uri": "https://localhost:8080/",
     "height": 204
    },
    "id": "rWOYWSP3HhhD",
    "outputId": "433f1bd5-54bb-4d7a-9a09-21ed9c34c24a"
   },
   "outputs": [
    {
     "data": {
      "text/html": [
       "<div>\n",
       "<style scoped>\n",
       "    .dataframe tbody tr th:only-of-type {\n",
       "        vertical-align: middle;\n",
       "    }\n",
       "\n",
       "    .dataframe tbody tr th {\n",
       "        vertical-align: top;\n",
       "    }\n",
       "\n",
       "    .dataframe thead th {\n",
       "        text-align: right;\n",
       "    }\n",
       "</style>\n",
       "<table border=\"1\" class=\"dataframe\">\n",
       "  <thead>\n",
       "    <tr style=\"text-align: right;\">\n",
       "      <th></th>\n",
       "      <th>sentence</th>\n",
       "      <th>label</th>\n",
       "      <th>predictions</th>\n",
       "    </tr>\n",
       "  </thead>\n",
       "  <tbody>\n",
       "    <tr>\n",
       "      <th>0</th>\n",
       "      <td>The Rock is destined to be the 21st Century 's...</td>\n",
       "      <td>3</td>\n",
       "      <td>4</td>\n",
       "    </tr>\n",
       "    <tr>\n",
       "      <th>1</th>\n",
       "      <td>The gorgeously elaborate continuation of `` Th...</td>\n",
       "      <td>4</td>\n",
       "      <td>4</td>\n",
       "    </tr>\n",
       "    <tr>\n",
       "      <th>2</th>\n",
       "      <td>Singer/composer Bryan Adams contributes a slew...</td>\n",
       "      <td>3</td>\n",
       "      <td>3</td>\n",
       "    </tr>\n",
       "    <tr>\n",
       "      <th>3</th>\n",
       "      <td>You 'd think by now America would have had eno...</td>\n",
       "      <td>2</td>\n",
       "      <td>1</td>\n",
       "    </tr>\n",
       "    <tr>\n",
       "      <th>4</th>\n",
       "      <td>Yet the act is still charming here .</td>\n",
       "      <td>3</td>\n",
       "      <td>3</td>\n",
       "    </tr>\n",
       "  </tbody>\n",
       "</table>\n",
       "</div>"
      ],
      "text/plain": [
       "                                            sentence  label  predictions\n",
       "0  The Rock is destined to be the 21st Century 's...      3            4\n",
       "1  The gorgeously elaborate continuation of `` Th...      4            4\n",
       "2  Singer/composer Bryan Adams contributes a slew...      3            3\n",
       "3  You 'd think by now America would have had eno...      2            1\n",
       "4               Yet the act is still charming here .      3            3"
      ]
     },
     "execution_count": 22,
     "metadata": {
      "tags": []
     },
     "output_type": "execute_result"
    }
   ],
   "source": [
    "train_df.head()"
   ]
  },
  {
   "cell_type": "markdown",
   "id": "4472ecb6",
   "metadata": {},
   "source": [
    "## Checklist perturbations"
   ]
  },
  {
   "cell_type": "code",
   "execution_count": 106,
   "id": "02fa0f20",
   "metadata": {
    "tags": []
   },
   "outputs": [],
   "source": [
    "%%capture\n",
    "!python -m spacy download en_core_web_sm"
   ]
  },
  {
   "cell_type": "code",
   "execution_count": 18,
   "id": "33ef6d36",
   "metadata": {},
   "outputs": [],
   "source": [
    "nlp = spacy.load('en_core_web_sm')"
   ]
  },
  {
   "cell_type": "markdown",
   "id": "44feb3df",
   "metadata": {},
   "source": [
    "Notes:\n",
    "- `strip_punctuation` removes punctuation at end of sentence only\n",
    "- Need to set seed as perturbations are random\n",
    "- `contract` doesn't always do contraction"
   ]
  },
  {
   "cell_type": "code",
   "execution_count": 86,
   "id": "f8514564",
   "metadata": {},
   "outputs": [],
   "source": [
    "def add_checklist_perturbations(\n",
    "    df, sentence_col_name, strip_punct=True, add_typos=True, contract_sent=True, change_names=True, seed=3\n",
    "):\n",
    "    df = df.copy()\n",
    "    \n",
    "    np.random.seed(seed)  # Set seed as some perturbations are stochastic\n",
    "    \n",
    "    if strip_punct or change_names:\n",
    "        # Checklist requires pre-processing with Spacy for these perturbations\n",
    "        pdata = list(nlp.pipe(df[sentence_col_name]))\n",
    "    \n",
    "    # Strip trailing punctuation\n",
    "    \n",
    "    if strip_punct:\n",
    "        \n",
    "        stripped_sentences = [Perturb.strip_punctuation(pdata[i]) for i in range(len(pdata))]\n",
    "        \n",
    "        df[sentence_col_name + '_strip_punct'] = stripped_sentences\n",
    "        \n",
    "        # Create success flag as not all sentences will contain punctuation:\n",
    "        df['success_strip_punct'] = np.where(\n",
    "            df[sentence_col_name + '_strip_punct'] != df[sentence_col_name],\n",
    "            1,\n",
    "            0\n",
    "        )\n",
    "    \n",
    "    # Add typos\n",
    "    \n",
    "    if add_typos:\n",
    "        sentences_w_typos = [Perturb.add_typos(df[sentence_col_name][i]) for i in range(len(df))]\n",
    "        \n",
    "        df[sentence_col_name + '_add_typos'] = sentences_w_typos\n",
    "        \n",
    "        # Create success flag\n",
    "        df['success_add_typos'] = np.where(\n",
    "            df[sentence_col_name + '_add_typos'] != df[sentence_col_name],\n",
    "            1,\n",
    "            0\n",
    "        )\n",
    "    \n",
    "    # Contract sentence length by using abbreviations\n",
    "    \n",
    "    if contract_sent:\n",
    "        sentences_contracted = [Perturb.contract(df[sentence_col_name][i]) for i in range(len(df))]\n",
    "        \n",
    "        df[sentence_col_name + '_contract_sent'] = sentences_contracted\n",
    "        \n",
    "        # Create success flag\n",
    "        df['success_contract_sent'] = np.where(\n",
    "            df[sentence_col_name + '_contract_sent'] != df[sentence_col_name],\n",
    "            1,\n",
    "            0\n",
    "        )\n",
    "        \n",
    "    if change_names:\n",
    "        # Only returns sentences with successful perturbations else drops\n",
    "        change_name_raw_output = Perturb.perturb(\n",
    "            pdata, \n",
    "            Perturb.change_names, \n",
    "            keep_original=True,  # Keeps original sentence\n",
    "            n=1  # Number of replacements to generate\n",
    "        )['data']\n",
    "        \n",
    "        # key=original, value=perturbed\n",
    "        original_to_pert = dict(\n",
    "            zip(\n",
    "                [sent_pair[0] for sent_pair in change_name_raw_output],\n",
    "                [sent_pair[1] for sent_pair in change_name_raw_output]\n",
    "            )\n",
    "        )\n",
    "        \n",
    "        # Un-perturbed sentences will be null\n",
    "        df[sentence_col_name + '_change_names'] = df[sentence_col_name].map(original_to_pert)\n",
    "        \n",
    "        # Success flag\n",
    "        df['success_change_names'] = np.where(\n",
    "            ~df[sentence_col_name + '_change_names'].isnull(),\n",
    "            1,\n",
    "            0\n",
    "        )\n",
    "        \n",
    "        # Fill nulls with original\n",
    "        df[sentence_col_name + '_change_names'] = np.where(\n",
    "            df[sentence_col_name + '_change_names'].isnull(),\n",
    "            df[sentence_col_name],\n",
    "            df[sentence_col_name + '_change_names']\n",
    "        )\n",
    "        \n",
    "    return df"
   ]
  },
  {
   "cell_type": "code",
   "execution_count": 87,
   "id": "c2863499",
   "metadata": {},
   "outputs": [
    {
     "name": "stdout",
     "output_type": "stream",
     "text": [
      "CPU times: user 13.4 s, sys: 2.95 s, total: 16.4 s\n",
      "Wall time: 16.5 s\n"
     ]
    }
   ],
   "source": [
    "%%time\n",
    "train_df_checklisted = add_checklist_perturbations(train_df, 'sentence')"
   ]
  },
  {
   "cell_type": "code",
   "execution_count": 89,
   "id": "73da41ff",
   "metadata": {},
   "outputs": [
    {
     "name": "stdout",
     "output_type": "stream",
     "text": [
      "(8544, 10)\n"
     ]
    },
    {
     "data": {
      "text/html": [
       "<div>\n",
       "<style scoped>\n",
       "    .dataframe tbody tr th:only-of-type {\n",
       "        vertical-align: middle;\n",
       "    }\n",
       "\n",
       "    .dataframe tbody tr th {\n",
       "        vertical-align: top;\n",
       "    }\n",
       "\n",
       "    .dataframe thead th {\n",
       "        text-align: right;\n",
       "    }\n",
       "</style>\n",
       "<table border=\"1\" class=\"dataframe\">\n",
       "  <thead>\n",
       "    <tr style=\"text-align: right;\">\n",
       "      <th></th>\n",
       "      <th>sentence</th>\n",
       "      <th>label</th>\n",
       "      <th>sentence_strip_punct</th>\n",
       "      <th>success_strip_punct</th>\n",
       "      <th>sentence_add_typos</th>\n",
       "      <th>success_add_typos</th>\n",
       "      <th>sentence_contract_sent</th>\n",
       "      <th>success_contract_sent</th>\n",
       "      <th>sentence_change_names</th>\n",
       "      <th>success_change_names</th>\n",
       "    </tr>\n",
       "  </thead>\n",
       "  <tbody>\n",
       "    <tr>\n",
       "      <th>0</th>\n",
       "      <td>The Rock is destined to be the 21st Century 's...</td>\n",
       "      <td>3</td>\n",
       "      <td>The Rock is destined to be the 21st Century 's...</td>\n",
       "      <td>1</td>\n",
       "      <td>The Rock is destined to be the 21st Century 's...</td>\n",
       "      <td>1</td>\n",
       "      <td>The Rock is destined to be the 21st Century 's...</td>\n",
       "      <td>0</td>\n",
       "      <td>The Rock is destined to be the 21st Century 's...</td>\n",
       "      <td>1</td>\n",
       "    </tr>\n",
       "    <tr>\n",
       "      <th>1</th>\n",
       "      <td>The gorgeously elaborate continuation of `` Th...</td>\n",
       "      <td>4</td>\n",
       "      <td>The gorgeously elaborate continuation of `` Th...</td>\n",
       "      <td>1</td>\n",
       "      <td>The gorgeously elaborate continuation of `` Th...</td>\n",
       "      <td>1</td>\n",
       "      <td>The gorgeously elaborate continuation of `` Th...</td>\n",
       "      <td>0</td>\n",
       "      <td>The gorgeously elaborate continuation of `` Th...</td>\n",
       "      <td>1</td>\n",
       "    </tr>\n",
       "    <tr>\n",
       "      <th>2</th>\n",
       "      <td>Singer/composer Bryan Adams contributes a slew...</td>\n",
       "      <td>3</td>\n",
       "      <td>Singer/composer Bryan Adams contributes a slew...</td>\n",
       "      <td>1</td>\n",
       "      <td>Singer/composer Bryan Adams contributes a slew...</td>\n",
       "      <td>1</td>\n",
       "      <td>Singer/composer Bryan Adams contributes a slew...</td>\n",
       "      <td>0</td>\n",
       "      <td>Singer/composer Michael Campbell contributes a...</td>\n",
       "      <td>1</td>\n",
       "    </tr>\n",
       "    <tr>\n",
       "      <th>3</th>\n",
       "      <td>You 'd think by now America would have had eno...</td>\n",
       "      <td>2</td>\n",
       "      <td>You 'd think by now America would have had eno...</td>\n",
       "      <td>1</td>\n",
       "      <td>You 'd think by now America would have had eno...</td>\n",
       "      <td>1</td>\n",
       "      <td>You 'd think by now America would have had eno...</td>\n",
       "      <td>0</td>\n",
       "      <td>You 'd think by now America would have had eno...</td>\n",
       "      <td>0</td>\n",
       "    </tr>\n",
       "    <tr>\n",
       "      <th>4</th>\n",
       "      <td>Yet the act is still charming here .</td>\n",
       "      <td>3</td>\n",
       "      <td>Yet the act is still charming here</td>\n",
       "      <td>1</td>\n",
       "      <td>Yet the cat is still charming here .</td>\n",
       "      <td>1</td>\n",
       "      <td>Yet the act is still charming here .</td>\n",
       "      <td>0</td>\n",
       "      <td>Yet the act is still charming here .</td>\n",
       "      <td>0</td>\n",
       "    </tr>\n",
       "  </tbody>\n",
       "</table>\n",
       "</div>"
      ],
      "text/plain": [
       "                                            sentence  label  \\\n",
       "0  The Rock is destined to be the 21st Century 's...      3   \n",
       "1  The gorgeously elaborate continuation of `` Th...      4   \n",
       "2  Singer/composer Bryan Adams contributes a slew...      3   \n",
       "3  You 'd think by now America would have had eno...      2   \n",
       "4               Yet the act is still charming here .      3   \n",
       "\n",
       "                                sentence_strip_punct  success_strip_punct  \\\n",
       "0  The Rock is destined to be the 21st Century 's...                    1   \n",
       "1  The gorgeously elaborate continuation of `` Th...                    1   \n",
       "2  Singer/composer Bryan Adams contributes a slew...                    1   \n",
       "3  You 'd think by now America would have had eno...                    1   \n",
       "4                 Yet the act is still charming here                    1   \n",
       "\n",
       "                                  sentence_add_typos  success_add_typos  \\\n",
       "0  The Rock is destined to be the 21st Century 's...                  1   \n",
       "1  The gorgeously elaborate continuation of `` Th...                  1   \n",
       "2  Singer/composer Bryan Adams contributes a slew...                  1   \n",
       "3  You 'd think by now America would have had eno...                  1   \n",
       "4               Yet the cat is still charming here .                  1   \n",
       "\n",
       "                              sentence_contract_sent  success_contract_sent  \\\n",
       "0  The Rock is destined to be the 21st Century 's...                      0   \n",
       "1  The gorgeously elaborate continuation of `` Th...                      0   \n",
       "2  Singer/composer Bryan Adams contributes a slew...                      0   \n",
       "3  You 'd think by now America would have had eno...                      0   \n",
       "4               Yet the act is still charming here .                      0   \n",
       "\n",
       "                               sentence_change_names  success_change_names  \n",
       "0  The Rock is destined to be the 21st Century 's...                     1  \n",
       "1  The gorgeously elaborate continuation of `` Th...                     1  \n",
       "2  Singer/composer Michael Campbell contributes a...                     1  \n",
       "3  You 'd think by now America would have had eno...                     0  \n",
       "4               Yet the act is still charming here .                     0  "
      ]
     },
     "execution_count": 89,
     "metadata": {},
     "output_type": "execute_result"
    }
   ],
   "source": [
    "print(train_df_checklisted.shape)\n",
    "train_df_checklisted.head()"
   ]
  },
  {
   "cell_type": "code",
   "execution_count": 91,
   "id": "cfaa2673",
   "metadata": {},
   "outputs": [
    {
     "name": "stdout",
     "output_type": "stream",
     "text": [
      "success_strip_punct: 0.9792837078651685\n",
      "success_add_typos: 0.9794007490636704\n",
      "success_contract_sent: 0.0761938202247191\n",
      "success_change_names: 0.09492041198501873\n"
     ]
    }
   ],
   "source": [
    "for col in ['success_strip_punct', 'success_add_typos', 'success_contract_sent', 'success_change_names']:\n",
    "    print(f'{col}: {train_df_checklisted[col].sum()/train_df_checklisted.shape[0]}')"
   ]
  },
  {
   "cell_type": "markdown",
   "id": "b1132413",
   "metadata": {},
   "source": [
    "__Check some examples__"
   ]
  },
  {
   "cell_type": "code",
   "execution_count": 93,
   "id": "69848c50",
   "metadata": {},
   "outputs": [
    {
     "data": {
      "text/plain": [
       "(55, 10)"
      ]
     },
     "execution_count": 93,
     "metadata": {},
     "output_type": "execute_result"
    }
   ],
   "source": [
    "train_df_checklisted[\n",
    "    (train_df_checklisted['success_strip_punct'] == 1) &\n",
    "    (train_df_checklisted['success_add_typos'] == 1) &\n",
    "    (train_df_checklisted['success_contract_sent'] == 1) &\n",
    "    (train_df_checklisted['success_change_names'] == 1) \n",
    "].shape"
   ]
  },
  {
   "cell_type": "code",
   "execution_count": 103,
   "id": "814aa902",
   "metadata": {},
   "outputs": [
    {
     "name": "stdout",
     "output_type": "stream",
     "text": [
      "sentence_strip_punct : The histrionic muse still eludes Madonna and , playing a charmless witch , she is merely a charmless witch\n",
      "sentence_add_typos : The histrinoic muse still eludes Madonna and , playing a charmless witch , she is merely a charmless witch .\n",
      "sentence_contract_sent : The histrionic muse still eludes Madonna and , playing a charmless witch , she's merely a charmless witch .\n",
      "sentence_change_names : The histrionic muse still eludes Laura and , playing a charmless witch , she is merely a charmless witch .\n"
     ]
    }
   ],
   "source": [
    "example = train_df_checklisted[\n",
    "    (train_df_checklisted['success_strip_punct'] == 1) &\n",
    "    (train_df_checklisted['success_add_typos'] == 1) &\n",
    "    (train_df_checklisted['success_contract_sent'] == 1) &\n",
    "    (train_df_checklisted['success_change_names'] == 1) \n",
    "].sample(1)\n",
    "\n",
    "for col in ['sentence_strip_punct', 'sentence_add_typos', 'sentence_contract_sent', 'sentence_change_names']:\n",
    "    print(col, ':', example[col].item())"
   ]
  },
  {
   "cell_type": "code",
   "execution_count": 104,
   "id": "5d8dc2f0",
   "metadata": {},
   "outputs": [
    {
     "name": "stdout",
     "output_type": "stream",
     "text": [
      "sentence_strip_punct : This is not a Jackie Chan movie\n",
      "sentence_add_typos : This si not a Jackie Chan movie .\n",
      "sentence_contract_sent : This isn't a Jackie Chan movie .\n",
      "sentence_change_names : This is not a Jennifer Johnson movie .\n"
     ]
    }
   ],
   "source": [
    "example = train_df_checklisted[\n",
    "    (train_df_checklisted['success_strip_punct'] == 1) &\n",
    "    (train_df_checklisted['success_add_typos'] == 1) &\n",
    "    (train_df_checklisted['success_contract_sent'] == 1) &\n",
    "    (train_df_checklisted['success_change_names'] == 1) \n",
    "].sample(1)\n",
    "\n",
    "for col in ['sentence_strip_punct', 'sentence_add_typos', 'sentence_contract_sent', 'sentence_change_names']:\n",
    "    print(col, ':', example[col].item())"
   ]
  },
  {
   "cell_type": "markdown",
   "id": "5caabc58",
   "metadata": {},
   "source": [
    "## Make predictions on senteces after pertubations"
   ]
  },
  {
   "cell_type": "code",
   "execution_count": 32,
   "id": "eb1ece6c",
   "metadata": {
    "colab": {
     "base_uri": "https://localhost:8080/"
    },
    "id": "LJAectEVhnCv",
    "outputId": "8123f039-3478-4074-ff49-53a798397474"
   },
   "outputs": [
    {
     "name": "stderr",
     "output_type": "stream",
     "text": [
      "100%|██████████| 267/267 [00:18<00:00, 14.54it/s]\n",
      "100%|██████████| 267/267 [00:18<00:00, 14.64it/s]\n",
      "100%|██████████| 267/267 [00:18<00:00, 14.64it/s]\n",
      "100%|██████████| 267/267 [00:18<00:00, 14.56it/s]\n"
     ]
    }
   ],
   "source": [
    "for perturb in ['_strip_punct', '_add_typos', '_contract_sent', '_change_names']:\n",
    "    train_predictions = make_predictions(train_df, bert_model, tokenizer, 'sentence'+perturb)\n",
    "    train_df_checklisted['predictions'+perturb] = train_predictions"
   ]
  },
  {
   "cell_type": "code",
   "execution_count": 33,
   "id": "d0632fb3",
   "metadata": {
    "colab": {
     "base_uri": "https://localhost:8080/",
     "height": 445
    },
    "id": "Dwaf2enliWpM",
    "outputId": "a0d8a31c-b93b-4fb8-de6c-e34ad0a6f419"
   },
   "outputs": [
    {
     "data": {
      "text/html": [
       "<div>\n",
       "<style scoped>\n",
       "    .dataframe tbody tr th:only-of-type {\n",
       "        vertical-align: middle;\n",
       "    }\n",
       "\n",
       "    .dataframe tbody tr th {\n",
       "        vertical-align: top;\n",
       "    }\n",
       "\n",
       "    .dataframe thead th {\n",
       "        text-align: right;\n",
       "    }\n",
       "</style>\n",
       "<table border=\"1\" class=\"dataframe\">\n",
       "  <thead>\n",
       "    <tr style=\"text-align: right;\">\n",
       "      <th></th>\n",
       "      <th>sentence</th>\n",
       "      <th>label</th>\n",
       "      <th>predictions</th>\n",
       "      <th>sentence_strip_punct</th>\n",
       "      <th>success_strip_punct</th>\n",
       "      <th>sentence_add_typos</th>\n",
       "      <th>success_add_typos</th>\n",
       "      <th>sentence_contract_sent</th>\n",
       "      <th>success_contract_sent</th>\n",
       "      <th>sentence_change_names</th>\n",
       "      <th>success_change_names</th>\n",
       "      <th>predictions_strip_punct</th>\n",
       "      <th>predictions_add_typos</th>\n",
       "      <th>predictions_contract_sent</th>\n",
       "      <th>predictions_change_names</th>\n",
       "    </tr>\n",
       "  </thead>\n",
       "  <tbody>\n",
       "    <tr>\n",
       "      <th>0</th>\n",
       "      <td>The Rock is destined to be the 21st Century 's...</td>\n",
       "      <td>3</td>\n",
       "      <td>4</td>\n",
       "      <td>The Rock is destined to be the 21st Century 's...</td>\n",
       "      <td>1</td>\n",
       "      <td>The Rock is destined to be the 21st Century 's...</td>\n",
       "      <td>1</td>\n",
       "      <td>The Rock is destined to be the 21st Century 's...</td>\n",
       "      <td>0</td>\n",
       "      <td>The Rock is destined to be the 21st Century 's...</td>\n",
       "      <td>1</td>\n",
       "      <td>4</td>\n",
       "      <td>4</td>\n",
       "      <td>4</td>\n",
       "      <td>4</td>\n",
       "    </tr>\n",
       "    <tr>\n",
       "      <th>1</th>\n",
       "      <td>The gorgeously elaborate continuation of `` Th...</td>\n",
       "      <td>4</td>\n",
       "      <td>4</td>\n",
       "      <td>The gorgeously elaborate continuation of `` Th...</td>\n",
       "      <td>1</td>\n",
       "      <td>The gorgeously elaborate continuation of `` Th...</td>\n",
       "      <td>1</td>\n",
       "      <td>The gorgeously elaborate continuation of `` Th...</td>\n",
       "      <td>0</td>\n",
       "      <td>The gorgeously elaborate continuation of `` Th...</td>\n",
       "      <td>1</td>\n",
       "      <td>4</td>\n",
       "      <td>4</td>\n",
       "      <td>4</td>\n",
       "      <td>4</td>\n",
       "    </tr>\n",
       "    <tr>\n",
       "      <th>2</th>\n",
       "      <td>Singer/composer Bryan Adams contributes a slew...</td>\n",
       "      <td>3</td>\n",
       "      <td>3</td>\n",
       "      <td>Singer/composer Bryan Adams contributes a slew...</td>\n",
       "      <td>1</td>\n",
       "      <td>Singer/composer Bryan Adams contributes a slew...</td>\n",
       "      <td>1</td>\n",
       "      <td>Singer/composer Bryan Adams contributes a slew...</td>\n",
       "      <td>0</td>\n",
       "      <td>Singer/composer Michael Campbell contributes a...</td>\n",
       "      <td>1</td>\n",
       "      <td>3</td>\n",
       "      <td>3</td>\n",
       "      <td>3</td>\n",
       "      <td>3</td>\n",
       "    </tr>\n",
       "    <tr>\n",
       "      <th>3</th>\n",
       "      <td>You 'd think by now America would have had eno...</td>\n",
       "      <td>2</td>\n",
       "      <td>1</td>\n",
       "      <td>You 'd think by now America would have had eno...</td>\n",
       "      <td>1</td>\n",
       "      <td>You 'd think by now America would have had eno...</td>\n",
       "      <td>1</td>\n",
       "      <td>You 'd think by now America would have had eno...</td>\n",
       "      <td>0</td>\n",
       "      <td>You 'd think by now America would have had eno...</td>\n",
       "      <td>0</td>\n",
       "      <td>1</td>\n",
       "      <td>1</td>\n",
       "      <td>1</td>\n",
       "      <td>1</td>\n",
       "    </tr>\n",
       "    <tr>\n",
       "      <th>4</th>\n",
       "      <td>Yet the act is still charming here .</td>\n",
       "      <td>3</td>\n",
       "      <td>3</td>\n",
       "      <td>Yet the act is still charming here</td>\n",
       "      <td>1</td>\n",
       "      <td>Yet the cat is still charming here .</td>\n",
       "      <td>1</td>\n",
       "      <td>Yet the act is still charming here .</td>\n",
       "      <td>0</td>\n",
       "      <td>Yet the act is still charming here .</td>\n",
       "      <td>0</td>\n",
       "      <td>3</td>\n",
       "      <td>3</td>\n",
       "      <td>3</td>\n",
       "      <td>3</td>\n",
       "    </tr>\n",
       "  </tbody>\n",
       "</table>\n",
       "</div>"
      ],
      "text/plain": [
       "                                            sentence  ...  predictions_change_names\n",
       "0  The Rock is destined to be the 21st Century 's...  ...                         4\n",
       "1  The gorgeously elaborate continuation of `` Th...  ...                         4\n",
       "2  Singer/composer Bryan Adams contributes a slew...  ...                         3\n",
       "3  You 'd think by now America would have had eno...  ...                         1\n",
       "4               Yet the act is still charming here .  ...                         3\n",
       "\n",
       "[5 rows x 15 columns]"
      ]
     },
     "execution_count": 33,
     "metadata": {
      "tags": []
     },
     "output_type": "execute_result"
    }
   ],
   "source": [
    "train_df_checklisted.head()"
   ]
  },
  {
   "cell_type": "code",
   "execution_count": 35,
   "id": "e6315a0b",
   "metadata": {
    "colab": {
     "base_uri": "https://localhost:8080/"
    },
    "id": "JkqjodNOjiDe",
    "outputId": "bfa9b611-e98b-49da-eb91-37aa345b3123"
   },
   "outputs": [
    {
     "data": {
      "text/plain": [
       "(8544, 15)"
      ]
     },
     "execution_count": 35,
     "metadata": {
      "tags": []
     },
     "output_type": "execute_result"
    }
   ],
   "source": [
    "train_df_checklisted.shape"
   ]
  },
  {
   "cell_type": "code",
   "execution_count": 34,
   "id": "a33a9583",
   "metadata": {
    "colab": {
     "base_uri": "https://localhost:8080/"
    },
    "id": "VVG-x0BNiv2J",
    "outputId": "2dadbe11-52cb-4fd0-cc66-a5d98496daf8"
   },
   "outputs": [
    {
     "data": {
      "text/plain": [
       "0"
      ]
     },
     "execution_count": 34,
     "metadata": {
      "tags": []
     },
     "output_type": "execute_result"
    }
   ],
   "source": [
    "train_df_checklisted.isnull().sum().sum()"
   ]
  },
  {
   "cell_type": "code",
   "execution_count": 37,
   "id": "aa7ad3ce",
   "metadata": {
    "colab": {
     "base_uri": "https://localhost:8080/"
    },
    "id": "_lx7OY5Oi1_f",
    "outputId": "ac4f62e8-83bf-4ddb-adac-b6c1fdf0a341"
   },
   "outputs": [
    {
     "data": {
      "text/plain": [
       "(45, 15)"
      ]
     },
     "execution_count": 37,
     "metadata": {
      "tags": []
     },
     "output_type": "execute_result"
    }
   ],
   "source": [
    "# Number of examples which had all perturbations and same correct prediction on all runs\n",
    "\n",
    "train_df_checklisted[\n",
    "  (train_df_checklisted['label'] == train_df_checklisted['predictions']) &\n",
    "  (train_df_checklisted['label'] == train_df_checklisted['predictions_strip_punct']) &\n",
    "  (train_df_checklisted['label'] == train_df_checklisted['predictions_add_typos']) &\n",
    "  (train_df_checklisted['label'] == train_df_checklisted['predictions_contract_sent']) &\n",
    "  (train_df_checklisted['label'] == train_df_checklisted['predictions_change_names']) &\n",
    "  (train_df_checklisted['success_strip_punct'] == 1) &\n",
    "  (train_df_checklisted['success_add_typos'] == 1) &\n",
    "  (train_df_checklisted['success_contract_sent'] == 1) &\n",
    "  (train_df_checklisted['success_change_names'] == 1)\n",
    "].shape"
   ]
  },
  {
   "cell_type": "code",
   "execution_count": 40,
   "id": "ab566842",
   "metadata": {
    "colab": {
     "base_uri": "https://localhost:8080/"
    },
    "id": "U7EaXZ-4i18v",
    "outputId": "739cb2e1-6535-414c-9ac6-b6fe38729b13"
   },
   "outputs": [
    {
     "data": {
      "text/plain": [
       "(662, 15)"
      ]
     },
     "execution_count": 40,
     "metadata": {
      "tags": []
     },
     "output_type": "execute_result"
    }
   ],
   "source": [
    "train_df_checklisted[\n",
    "  (train_df_checklisted['label'] == train_df_checklisted['predictions']) &\n",
    "  (train_df_checklisted['label'] == train_df_checklisted['predictions_change_names']) &\n",
    "  (train_df_checklisted['success_change_names'] == 1)\n",
    "].shape"
   ]
  },
  {
   "cell_type": "code",
   "execution_count": 41,
   "id": "c4cd7716",
   "metadata": {
    "colab": {
     "base_uri": "https://localhost:8080/"
    },
    "id": "-vzJpraIi15z",
    "outputId": "581bd642-9260-423b-dcdd-79f4a4d1308d"
   },
   "outputs": [
    {
     "data": {
      "text/plain": [
       "(0, 15)"
      ]
     },
     "execution_count": 41,
     "metadata": {
      "tags": []
     },
     "output_type": "execute_result"
    }
   ],
   "source": [
    "train_df_checklisted[\n",
    "  (train_df_checklisted['label'] == train_df_checklisted['predictions']) &\n",
    "  (train_df_checklisted['label'] != train_df_checklisted['predictions_change_names']) &\n",
    "  (train_df_checklisted['success_change_names'] == 1)\n",
    "].shape"
   ]
  },
  {
   "cell_type": "markdown",
   "id": "da7da89f",
   "metadata": {
    "id": "r6lUTJPnkdTU"
   },
   "source": [
    "No misclassifications as a result of name changes"
   ]
  },
  {
   "cell_type": "code",
   "execution_count": 43,
   "id": "be4a02df",
   "metadata": {
    "colab": {
     "base_uri": "https://localhost:8080/"
    },
    "id": "oRaMoP1eksm4",
    "outputId": "c83a760c-8b1b-46c4-f725-d5b9f963d61c"
   },
   "outputs": [
    {
     "data": {
      "text/plain": [
       "(6426, 15)"
      ]
     },
     "execution_count": 43,
     "metadata": {
      "tags": []
     },
     "output_type": "execute_result"
    }
   ],
   "source": [
    "train_df_checklisted[\n",
    "  (train_df_checklisted['label'] == train_df_checklisted['predictions']) &\n",
    "  (train_df_checklisted['label'] == train_df_checklisted['predictions_add_typos']) &\n",
    "  (train_df_checklisted['success_add_typos'] == 1)\n",
    "].shape"
   ]
  },
  {
   "cell_type": "code",
   "execution_count": 44,
   "id": "6c8ab046",
   "metadata": {
    "colab": {
     "base_uri": "https://localhost:8080/"
    },
    "id": "-07xyeeWksnD",
    "outputId": "ba202aa7-fde1-4370-8ba4-f0b752c6c133"
   },
   "outputs": [
    {
     "data": {
      "text/plain": [
       "(0, 15)"
      ]
     },
     "execution_count": 44,
     "metadata": {
      "tags": []
     },
     "output_type": "execute_result"
    }
   ],
   "source": [
    "train_df_checklisted[\n",
    "  (train_df_checklisted['label'] == train_df_checklisted['predictions']) &\n",
    "  (train_df_checklisted['label'] != train_df_checklisted['predictions_add_typos']) &\n",
    "  (train_df_checklisted['success_add_typos'] == 1)\n",
    "].shape"
   ]
  },
  {
   "cell_type": "markdown",
   "id": "7210eb9a",
   "metadata": {
    "id": "l7ZEL7gNksnE"
   },
   "source": [
    "No misclassifications as a result of typos"
   ]
  },
  {
   "cell_type": "code",
   "execution_count": 45,
   "id": "cdba35a7",
   "metadata": {
    "colab": {
     "base_uri": "https://localhost:8080/"
    },
    "id": "Xi5o8CaCk_z1",
    "outputId": "23613920-2461-4270-e891-656dab4c7f6e"
   },
   "outputs": [
    {
     "data": {
      "text/plain": [
       "(6420, 15)"
      ]
     },
     "execution_count": 45,
     "metadata": {
      "tags": []
     },
     "output_type": "execute_result"
    }
   ],
   "source": [
    "train_df_checklisted[\n",
    "  (train_df_checklisted['label'] == train_df_checklisted['predictions']) &\n",
    "  (train_df_checklisted['label'] == train_df_checklisted['predictions_strip_punct']) &\n",
    "  (train_df_checklisted['success_strip_punct'] == 1)\n",
    "].shape"
   ]
  },
  {
   "cell_type": "code",
   "execution_count": 46,
   "id": "3106e7db",
   "metadata": {
    "colab": {
     "base_uri": "https://localhost:8080/"
    },
    "id": "DdGFecCxk_z2",
    "outputId": "e429497e-3b74-48ab-fa18-457fe190a21c"
   },
   "outputs": [
    {
     "data": {
      "text/plain": [
       "(0, 15)"
      ]
     },
     "execution_count": 46,
     "metadata": {
      "tags": []
     },
     "output_type": "execute_result"
    }
   ],
   "source": [
    "train_df_checklisted[\n",
    "  (train_df_checklisted['label'] == train_df_checklisted['predictions']) &\n",
    "  (train_df_checklisted['label'] != train_df_checklisted['predictions_strip_punct']) &\n",
    "  (train_df_checklisted['success_strip_punct'] == 1)\n",
    "].shape"
   ]
  },
  {
   "cell_type": "markdown",
   "id": "dfb9b15b",
   "metadata": {
    "id": "woN61zJ2k_z3"
   },
   "source": [
    "No misclassifications as a result of stripping punctuation"
   ]
  },
  {
   "cell_type": "code",
   "execution_count": 47,
   "id": "40892781",
   "metadata": {
    "colab": {
     "base_uri": "https://localhost:8080/"
    },
    "id": "TPNKJQKZlSu8",
    "outputId": "6850be4e-93e0-4ffa-af64-51de86d38bef"
   },
   "outputs": [
    {
     "data": {
      "text/plain": [
       "(497, 15)"
      ]
     },
     "execution_count": 47,
     "metadata": {
      "tags": []
     },
     "output_type": "execute_result"
    }
   ],
   "source": [
    "train_df_checklisted[\n",
    "  (train_df_checklisted['label'] == train_df_checklisted['predictions']) &\n",
    "  (train_df_checklisted['label'] == train_df_checklisted['predictions_contract_sent']) &\n",
    "  (train_df_checklisted['success_contract_sent'] == 1)\n",
    "].shape"
   ]
  },
  {
   "cell_type": "code",
   "execution_count": 49,
   "id": "9fd83b85",
   "metadata": {
    "colab": {
     "base_uri": "https://localhost:8080/"
    },
    "id": "upxKycmmlSu9",
    "outputId": "a8abcae2-28b9-4467-b9cd-1326dd144357"
   },
   "outputs": [
    {
     "data": {
      "text/plain": [
       "(0, 15)"
      ]
     },
     "execution_count": 49,
     "metadata": {
      "tags": []
     },
     "output_type": "execute_result"
    }
   ],
   "source": [
    "train_df_checklisted[\n",
    "  (train_df_checklisted['label'] == train_df_checklisted['predictions']) &\n",
    "  (train_df_checklisted['label'] != train_df_checklisted['predictions_contract_sent']) &\n",
    "  (train_df_checklisted['success_contract_sent'] == 1)\n",
    "].shape"
   ]
  },
  {
   "cell_type": "markdown",
   "id": "8ea20093",
   "metadata": {
    "id": "3IZrCG63lSu-"
   },
   "source": [
    "No misclassifications as a result of contracting sentences"
   ]
  },
  {
   "cell_type": "markdown",
   "id": "9151bf96",
   "metadata": {},
   "source": [
    "## Check SHAP values before and after perturbation\n",
    "\n",
    "TODO:\n",
    "- Metrics for evaluating explainability change"
   ]
  },
  {
   "cell_type": "code",
   "execution_count": null,
   "id": "c248085f",
   "metadata": {},
   "outputs": [],
   "source": []
  }
 ],
 "metadata": {
  "kernelspec": {
   "display_name": "Python 3",
   "language": "python",
   "name": "python3"
  },
  "language_info": {
   "codemirror_mode": {
    "name": "ipython",
    "version": 3
   },
   "file_extension": ".py",
   "mimetype": "text/x-python",
   "name": "python",
   "nbconvert_exporter": "python",
   "pygments_lexer": "ipython3",
   "version": "3.7.10"
  },
  "toc-autonumbering": true
 },
 "nbformat": 4,
 "nbformat_minor": 5
}
