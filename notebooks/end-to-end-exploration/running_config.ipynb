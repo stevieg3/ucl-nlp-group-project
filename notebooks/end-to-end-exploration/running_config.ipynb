{
  "nbformat": 4,
  "nbformat_minor": 0,
  "metadata": {
    "colab": {
      "name": "running_config.ipynb",
      "provenance": [],
      "toc_visible": true
    },
    "kernelspec": {
      "name": "python3",
      "display_name": "Python 3"
    },
    "language_info": {
      "name": "python"
    },
    "accelerator": "GPU"
  },
  "cells": [
    {
      "cell_type": "markdown",
      "metadata": {
        "id": "tlXRAB_l6jcP"
      },
      "source": [
        "# Set-up"
      ]
    },
    {
      "cell_type": "code",
      "metadata": {
        "colab": {
          "base_uri": "https://localhost:8080/"
        },
        "id": "gKDX-Knt6bJL",
        "outputId": "37a091ad-9041-4609-a4ef-5c39e9d37c14"
      },
      "source": [
        "cd /content/drive/MyDrive/COMP0087/allenNLP/Model_2"
      ],
      "execution_count": 5,
      "outputs": [
        {
          "output_type": "stream",
          "text": [
            "/content/drive/MyDrive/COMP0087/allenNLP/Model_2\n"
          ],
          "name": "stdout"
        }
      ]
    },
    {
      "cell_type": "code",
      "metadata": {
        "colab": {
          "base_uri": "https://localhost:8080/"
        },
        "id": "SO01w7M2T3x8",
        "outputId": "69e609bb-dd85-483b-ce9a-2c9a4131c7e1"
      },
      "source": [
        "# %%shell\n",
        "# pip install torch==1.7.1"
      ],
      "execution_count": null,
      "outputs": [
        {
          "output_type": "stream",
          "text": [
            "Requirement already satisfied: torch==1.7.1 in /usr/local/lib/python3.7/dist-packages (1.7.1)\n",
            "Requirement already satisfied: numpy in /usr/local/lib/python3.7/dist-packages (from torch==1.7.1) (1.19.5)\n",
            "Requirement already satisfied: typing-extensions in /usr/local/lib/python3.7/dist-packages (from torch==1.7.1) (3.7.4.3)\n"
          ],
          "name": "stdout"
        },
        {
          "output_type": "execute_result",
          "data": {
            "text/plain": [
              ""
            ]
          },
          "metadata": {
            "tags": []
          },
          "execution_count": 32
        }
      ]
    },
    {
      "cell_type": "code",
      "metadata": {
        "id": "yVsRQKKHiCsX"
      },
      "source": [
        "import torch\n",
        "from torch import nn\n",
        "import torch.optim as optim\n",
        "import numpy as np\n",
        "import spacy\n",
        "import pandas as pd"
      ],
      "execution_count": 6,
      "outputs": []
    },
    {
      "cell_type": "code",
      "metadata": {
        "colab": {
          "base_uri": "https://localhost:8080/"
        },
        "id": "h1XdJXJ8imFB",
        "outputId": "9b7971dc-12e8-40f8-b07d-8784920b99c6"
      },
      "source": [
        "%%shell\n",
        "pip install allennlp==2.1.0 allennlp-models==2.1.0\n",
        "# pip install allennlp"
      ],
      "execution_count": 3,
      "outputs": [
        {
          "output_type": "stream",
          "text": [
            "Collecting allennlp==2.1.0\n",
            "\u001b[?25l  Downloading https://files.pythonhosted.org/packages/e7/bd/c75fa01e3deb9322b637fe0be45164b40d43747661aca9195b5fb334947c/allennlp-2.1.0-py3-none-any.whl (585kB)\n",
            "\u001b[K     |████████████████████████████████| 593kB 8.3MB/s \n",
            "\u001b[?25hCollecting allennlp-models==2.1.0\n",
            "\u001b[?25l  Downloading https://files.pythonhosted.org/packages/df/9f/28fff39b61f878939fbccb183ffe4a64ab1043c9f22b62e6a37c35452933/allennlp_models-2.1.0-py3-none-any.whl (407kB)\n",
            "\u001b[K     |████████████████████████████████| 409kB 17.2MB/s \n",
            "\u001b[?25hRequirement already satisfied: pytest in /usr/local/lib/python3.7/dist-packages (from allennlp==2.1.0) (3.6.4)\n",
            "Collecting boto3<2.0,>=1.14\n",
            "\u001b[?25l  Downloading https://files.pythonhosted.org/packages/3f/2e/885bea97567ed610fda71ffb4f9ffc02715589277c6f480ef879dcbe9944/boto3-1.17.45-py2.py3-none-any.whl (131kB)\n",
            "\u001b[K     |████████████████████████████████| 133kB 26.3MB/s \n",
            "\u001b[?25hRequirement already satisfied: tqdm>=4.19 in /usr/local/lib/python3.7/dist-packages (from allennlp==2.1.0) (4.41.1)\n",
            "Requirement already satisfied: spacy<3.1,>=2.1.0 in /usr/local/lib/python3.7/dist-packages (from allennlp==2.1.0) (2.2.4)\n",
            "Requirement already satisfied: numpy in /usr/local/lib/python3.7/dist-packages (from allennlp==2.1.0) (1.19.5)\n",
            "Requirement already satisfied: more-itertools in /usr/local/lib/python3.7/dist-packages (from allennlp==2.1.0) (8.7.0)\n",
            "Collecting torchvision<0.9.0,>=0.8.1\n",
            "\u001b[?25l  Downloading https://files.pythonhosted.org/packages/94/df/969e69a94cff1c8911acb0688117f95e1915becc1e01c73e7960a2c76ec8/torchvision-0.8.2-cp37-cp37m-manylinux1_x86_64.whl (12.8MB)\n",
            "\u001b[K     |████████████████████████████████| 12.8MB 233kB/s \n",
            "\u001b[?25hCollecting jsonnet>=0.10.0; sys_platform != \"win32\"\n",
            "\u001b[?25l  Downloading https://files.pythonhosted.org/packages/42/40/6f16e5ac994b16fa71c24310f97174ce07d3a97b433275589265c6b94d2b/jsonnet-0.17.0.tar.gz (259kB)\n",
            "\u001b[K     |████████████████████████████████| 266kB 60.9MB/s \n",
            "\u001b[?25hCollecting tensorboardX>=1.2\n",
            "\u001b[?25l  Downloading https://files.pythonhosted.org/packages/07/84/46421bd3e0e89a92682b1a38b40efc22dafb6d8e3d947e4ceefd4a5fabc7/tensorboardX-2.2-py2.py3-none-any.whl (120kB)\n",
            "\u001b[K     |████████████████████████████████| 122kB 48.9MB/s \n",
            "\u001b[?25hRequirement already satisfied: filelock<3.1,>=3.0 in /usr/local/lib/python3.7/dist-packages (from allennlp==2.1.0) (3.0.12)\n",
            "Collecting jsonpickle\n",
            "  Downloading https://files.pythonhosted.org/packages/bb/1a/f2db026d4d682303793559f1c2bb425ba3ec0d6fd7ac63397790443f2461/jsonpickle-2.0.0-py2.py3-none-any.whl\n",
            "Requirement already satisfied: lmdb in /usr/local/lib/python3.7/dist-packages (from allennlp==2.1.0) (0.99)\n",
            "Requirement already satisfied: requests>=2.18 in /usr/local/lib/python3.7/dist-packages (from allennlp==2.1.0) (2.23.0)\n",
            "Collecting torch<1.8.0,>=1.6.0\n",
            "\u001b[?25l  Downloading https://files.pythonhosted.org/packages/90/5d/095ddddc91c8a769a68c791c019c5793f9c4456a688ddd235d6670924ecb/torch-1.7.1-cp37-cp37m-manylinux1_x86_64.whl (776.8MB)\n",
            "\u001b[K     |████████████████████████████████| 776.8MB 24kB/s \n",
            "\u001b[?25hRequirement already satisfied: h5py in /usr/local/lib/python3.7/dist-packages (from allennlp==2.1.0) (2.10.0)\n",
            "Collecting sentencepiece\n",
            "\u001b[?25l  Downloading https://files.pythonhosted.org/packages/f5/99/e0808cb947ba10f575839c43e8fafc9cc44e4a7a2c8f79c60db48220a577/sentencepiece-0.1.95-cp37-cp37m-manylinux2014_x86_64.whl (1.2MB)\n",
            "\u001b[K     |████████████████████████████████| 1.2MB 47.9MB/s \n",
            "\u001b[?25hRequirement already satisfied: nltk in /usr/local/lib/python3.7/dist-packages (from allennlp==2.1.0) (3.2.5)\n",
            "Collecting transformers<4.4,>=4.1\n",
            "\u001b[?25l  Downloading https://files.pythonhosted.org/packages/f9/54/5ca07ec9569d2f232f3166de5457b63943882f7950ddfcc887732fc7fb23/transformers-4.3.3-py3-none-any.whl (1.9MB)\n",
            "\u001b[K     |████████████████████████████████| 1.9MB 49.7MB/s \n",
            "\u001b[?25hRequirement already satisfied: scikit-learn in /usr/local/lib/python3.7/dist-packages (from allennlp==2.1.0) (0.22.2.post1)\n",
            "Requirement already satisfied: scipy in /usr/local/lib/python3.7/dist-packages (from allennlp==2.1.0) (1.4.1)\n",
            "Collecting overrides==3.1.0\n",
            "  Downloading https://files.pythonhosted.org/packages/ff/b1/10f69c00947518e6676bbd43e739733048de64b8dd998e9c2d5a71f44c5d/overrides-3.1.0.tar.gz\n",
            "Collecting word2number>=1.1\n",
            "  Downloading https://files.pythonhosted.org/packages/4a/29/a31940c848521f0725f0df6b25dca8917f13a2025b0e8fcbe5d0457e45e6/word2number-1.1.zip\n",
            "Collecting py-rouge==1.1\n",
            "\u001b[?25l  Downloading https://files.pythonhosted.org/packages/9c/1d/0bdbaf559fb7afe32308ebc84a2028600988212d7eb7fb9f69c4e829e4a0/py_rouge-1.1-py3-none-any.whl (56kB)\n",
            "\u001b[K     |████████████████████████████████| 61kB 9.0MB/s \n",
            "\u001b[?25hCollecting conllu==4.4\n",
            "  Downloading https://files.pythonhosted.org/packages/ae/be/be6959c3ff2dbfdd87de4be0ccdff577835b5d08b1d25bf7fd4aaf0d7add/conllu-4.4-py2.py3-none-any.whl\n",
            "Collecting ftfy\n",
            "\u001b[?25l  Downloading https://files.pythonhosted.org/packages/04/06/e5c80e2e0f979628d47345efba51f7ba386fe95963b11c594209085f5a9b/ftfy-5.9.tar.gz (66kB)\n",
            "\u001b[K     |████████████████████████████████| 71kB 10.8MB/s \n",
            "\u001b[?25hRequirement already satisfied: six>=1.10.0 in /usr/local/lib/python3.7/dist-packages (from pytest->allennlp==2.1.0) (1.15.0)\n",
            "Requirement already satisfied: py>=1.5.0 in /usr/local/lib/python3.7/dist-packages (from pytest->allennlp==2.1.0) (1.10.0)\n",
            "Requirement already satisfied: atomicwrites>=1.0 in /usr/local/lib/python3.7/dist-packages (from pytest->allennlp==2.1.0) (1.4.0)\n",
            "Requirement already satisfied: attrs>=17.4.0 in /usr/local/lib/python3.7/dist-packages (from pytest->allennlp==2.1.0) (20.3.0)\n",
            "Requirement already satisfied: setuptools in /usr/local/lib/python3.7/dist-packages (from pytest->allennlp==2.1.0) (54.2.0)\n",
            "Requirement already satisfied: pluggy<0.8,>=0.5 in /usr/local/lib/python3.7/dist-packages (from pytest->allennlp==2.1.0) (0.7.1)\n",
            "Collecting botocore<1.21.0,>=1.20.45\n",
            "\u001b[?25l  Downloading https://files.pythonhosted.org/packages/3d/d7/efd70bd8a4a4916b8e3b3fe1d5b43bc53d8e43403b1b8beb0747c96e7e75/botocore-1.20.45-py2.py3-none-any.whl (7.4MB)\n",
            "\u001b[K     |████████████████████████████████| 7.4MB 46.3MB/s \n",
            "\u001b[?25hCollecting jmespath<1.0.0,>=0.7.1\n",
            "  Downloading https://files.pythonhosted.org/packages/07/cb/5f001272b6faeb23c1c9e0acc04d48eaaf5c862c17709d20e3469c6e0139/jmespath-0.10.0-py2.py3-none-any.whl\n",
            "Collecting s3transfer<0.4.0,>=0.3.0\n",
            "\u001b[?25l  Downloading https://files.pythonhosted.org/packages/98/14/0b4be62b65c52d6d1c442f24e02d2a9889a73d3c352002e14c70f84a679f/s3transfer-0.3.6-py2.py3-none-any.whl (73kB)\n",
            "\u001b[K     |████████████████████████████████| 81kB 11.8MB/s \n",
            "\u001b[?25hRequirement already satisfied: murmurhash<1.1.0,>=0.28.0 in /usr/local/lib/python3.7/dist-packages (from spacy<3.1,>=2.1.0->allennlp==2.1.0) (1.0.5)\n",
            "Requirement already satisfied: catalogue<1.1.0,>=0.0.7 in /usr/local/lib/python3.7/dist-packages (from spacy<3.1,>=2.1.0->allennlp==2.1.0) (1.0.0)\n",
            "Requirement already satisfied: thinc==7.4.0 in /usr/local/lib/python3.7/dist-packages (from spacy<3.1,>=2.1.0->allennlp==2.1.0) (7.4.0)\n",
            "Requirement already satisfied: plac<1.2.0,>=0.9.6 in /usr/local/lib/python3.7/dist-packages (from spacy<3.1,>=2.1.0->allennlp==2.1.0) (1.1.3)\n",
            "Requirement already satisfied: srsly<1.1.0,>=1.0.2 in /usr/local/lib/python3.7/dist-packages (from spacy<3.1,>=2.1.0->allennlp==2.1.0) (1.0.5)\n",
            "Requirement already satisfied: cymem<2.1.0,>=2.0.2 in /usr/local/lib/python3.7/dist-packages (from spacy<3.1,>=2.1.0->allennlp==2.1.0) (2.0.5)\n",
            "Requirement already satisfied: preshed<3.1.0,>=3.0.2 in /usr/local/lib/python3.7/dist-packages (from spacy<3.1,>=2.1.0->allennlp==2.1.0) (3.0.5)\n",
            "Requirement already satisfied: blis<0.5.0,>=0.4.0 in /usr/local/lib/python3.7/dist-packages (from spacy<3.1,>=2.1.0->allennlp==2.1.0) (0.4.1)\n",
            "Requirement already satisfied: wasabi<1.1.0,>=0.4.0 in /usr/local/lib/python3.7/dist-packages (from spacy<3.1,>=2.1.0->allennlp==2.1.0) (0.8.2)\n",
            "Requirement already satisfied: pillow>=4.1.1 in /usr/local/lib/python3.7/dist-packages (from torchvision<0.9.0,>=0.8.1->allennlp==2.1.0) (7.1.2)\n",
            "Requirement already satisfied: protobuf>=3.8.0 in /usr/local/lib/python3.7/dist-packages (from tensorboardX>=1.2->allennlp==2.1.0) (3.12.4)\n",
            "Requirement already satisfied: importlib-metadata; python_version < \"3.8\" in /usr/local/lib/python3.7/dist-packages (from jsonpickle->allennlp==2.1.0) (3.8.1)\n",
            "Requirement already satisfied: idna<3,>=2.5 in /usr/local/lib/python3.7/dist-packages (from requests>=2.18->allennlp==2.1.0) (2.10)\n",
            "Requirement already satisfied: certifi>=2017.4.17 in /usr/local/lib/python3.7/dist-packages (from requests>=2.18->allennlp==2.1.0) (2020.12.5)\n",
            "Requirement already satisfied: chardet<4,>=3.0.2 in /usr/local/lib/python3.7/dist-packages (from requests>=2.18->allennlp==2.1.0) (3.0.4)\n",
            "Requirement already satisfied: urllib3!=1.25.0,!=1.25.1,<1.26,>=1.21.1 in /usr/local/lib/python3.7/dist-packages (from requests>=2.18->allennlp==2.1.0) (1.24.3)\n",
            "Requirement already satisfied: typing-extensions in /usr/local/lib/python3.7/dist-packages (from torch<1.8.0,>=1.6.0->allennlp==2.1.0) (3.7.4.3)\n",
            "Requirement already satisfied: regex!=2019.12.17 in /usr/local/lib/python3.7/dist-packages (from transformers<4.4,>=4.1->allennlp==2.1.0) (2019.12.20)\n",
            "Collecting tokenizers<0.11,>=0.10.1\n",
            "\u001b[?25l  Downloading https://files.pythonhosted.org/packages/ae/04/5b870f26a858552025a62f1649c20d29d2672c02ff3c3fb4c688ca46467a/tokenizers-0.10.2-cp37-cp37m-manylinux2010_x86_64.whl (3.3MB)\n",
            "\u001b[K     |████████████████████████████████| 3.3MB 25.4MB/s \n",
            "\u001b[?25hRequirement already satisfied: packaging in /usr/local/lib/python3.7/dist-packages (from transformers<4.4,>=4.1->allennlp==2.1.0) (20.9)\n",
            "Collecting sacremoses\n",
            "\u001b[?25l  Downloading https://files.pythonhosted.org/packages/08/cd/342e584ee544d044fb573ae697404ce22ede086c9e87ce5960772084cad0/sacremoses-0.0.44.tar.gz (862kB)\n",
            "\u001b[K     |████████████████████████████████| 870kB 50.8MB/s \n",
            "\u001b[?25hRequirement already satisfied: joblib>=0.11 in /usr/local/lib/python3.7/dist-packages (from scikit-learn->allennlp==2.1.0) (1.0.1)\n",
            "Requirement already satisfied: wcwidth in /usr/local/lib/python3.7/dist-packages (from ftfy->allennlp-models==2.1.0) (0.2.5)\n",
            "Requirement already satisfied: python-dateutil<3.0.0,>=2.1 in /usr/local/lib/python3.7/dist-packages (from botocore<1.21.0,>=1.20.45->boto3<2.0,>=1.14->allennlp==2.1.0) (2.8.1)\n",
            "Requirement already satisfied: zipp>=0.5 in /usr/local/lib/python3.7/dist-packages (from importlib-metadata; python_version < \"3.8\"->jsonpickle->allennlp==2.1.0) (3.4.1)\n",
            "Requirement already satisfied: pyparsing>=2.0.2 in /usr/local/lib/python3.7/dist-packages (from packaging->transformers<4.4,>=4.1->allennlp==2.1.0) (2.4.7)\n",
            "Requirement already satisfied: click in /usr/local/lib/python3.7/dist-packages (from sacremoses->transformers<4.4,>=4.1->allennlp==2.1.0) (7.1.2)\n",
            "Building wheels for collected packages: jsonnet, overrides, word2number, ftfy, sacremoses\n",
            "  Building wheel for jsonnet (setup.py) ... \u001b[?25l\u001b[?25hdone\n",
            "  Created wheel for jsonnet: filename=jsonnet-0.17.0-cp37-cp37m-linux_x86_64.whl size=3388784 sha256=976b86e8e6c9ba5a10371ec3e11a24475ee2a7b033ec1cdec2016d1a21de3203\n",
            "  Stored in directory: /root/.cache/pip/wheels/26/7a/37/7dbcc30a6b4efd17b91ad1f0128b7bbf84813bd4e1cfb8c1e3\n",
            "  Building wheel for overrides (setup.py) ... \u001b[?25l\u001b[?25hdone\n",
            "  Created wheel for overrides: filename=overrides-3.1.0-cp37-none-any.whl size=10174 sha256=158a9f04cacd0e6ce269254bf35a8e6fd63b4ea7ddf061245b111efdc0746391\n",
            "  Stored in directory: /root/.cache/pip/wheels/5c/24/13/6ef8600e6f147c95e595f1289a86a3cc82ed65df57582c65a9\n",
            "  Building wheel for word2number (setup.py) ... \u001b[?25l\u001b[?25hdone\n",
            "  Created wheel for word2number: filename=word2number-1.1-cp37-none-any.whl size=5589 sha256=1e578fab9a1ed749bd4c9d9bdaa23f491554837862420e68fda0aa068a811648\n",
            "  Stored in directory: /root/.cache/pip/wheels/46/2f/53/5f5c1d275492f2fce1cdab9a9bb12d49286dead829a4078e0e\n",
            "  Building wheel for ftfy (setup.py) ... \u001b[?25l\u001b[?25hdone\n",
            "  Created wheel for ftfy: filename=ftfy-5.9-cp37-none-any.whl size=46451 sha256=7c8e201ea1a9b107fe55056918824155aa40e6bf9d3271933ba2070c914fc4ee\n",
            "  Stored in directory: /root/.cache/pip/wheels/5e/2e/f0/b07196e8c929114998f0316894a61c752b63bfa3fdd50d2fc3\n",
            "  Building wheel for sacremoses (setup.py) ... \u001b[?25l\u001b[?25hdone\n",
            "  Created wheel for sacremoses: filename=sacremoses-0.0.44-cp37-none-any.whl size=886084 sha256=408020670ffd399a03485d7340f95e5b9c022e85babd921e0ea5d860e529f227\n",
            "  Stored in directory: /root/.cache/pip/wheels/3e/fb/c0/13ab4d63d537658f448366744654323077c4d90069b6512f3c\n",
            "Successfully built jsonnet overrides word2number ftfy sacremoses\n",
            "\u001b[31mERROR: torchtext 0.9.1 has requirement torch==1.8.1, but you'll have torch 1.7.1 which is incompatible.\u001b[0m\n",
            "\u001b[31mERROR: botocore 1.20.45 has requirement urllib3<1.27,>=1.25.4, but you'll have urllib3 1.24.3 which is incompatible.\u001b[0m\n",
            "Installing collected packages: jmespath, botocore, s3transfer, boto3, torch, torchvision, jsonnet, tensorboardX, jsonpickle, sentencepiece, tokenizers, sacremoses, transformers, overrides, allennlp, word2number, py-rouge, conllu, ftfy, allennlp-models\n",
            "  Found existing installation: torch 1.8.1+cu101\n",
            "    Uninstalling torch-1.8.1+cu101:\n",
            "      Successfully uninstalled torch-1.8.1+cu101\n",
            "  Found existing installation: torchvision 0.9.1+cu101\n",
            "    Uninstalling torchvision-0.9.1+cu101:\n",
            "      Successfully uninstalled torchvision-0.9.1+cu101\n",
            "Successfully installed allennlp-2.1.0 allennlp-models-2.1.0 boto3-1.17.45 botocore-1.20.45 conllu-4.4 ftfy-5.9 jmespath-0.10.0 jsonnet-0.17.0 jsonpickle-2.0.0 overrides-3.1.0 py-rouge-1.1 s3transfer-0.3.6 sacremoses-0.0.44 sentencepiece-0.1.95 tensorboardX-2.2 tokenizers-0.10.2 torch-1.7.1 torchvision-0.8.2 transformers-4.3.3 word2number-1.1\n"
          ],
          "name": "stdout"
        },
        {
          "output_type": "execute_result",
          "data": {
            "text/plain": [
              ""
            ]
          },
          "metadata": {
            "tags": []
          },
          "execution_count": 3
        }
      ]
    },
    {
      "cell_type": "code",
      "metadata": {
        "id": "OrZ9ZMLe-X6i"
      },
      "source": [
        "# imports from allennlp\n",
        "from allennlp.models.archival import load_archive\n",
        "from allennlp.common.util import JsonDict\n",
        "from allennlp.data import Instance\n",
        "from allennlp.predictors.predictor import Predictor\n",
        "from allennlp.data.fields import LabelField\n",
        "from allennlp.data.tokenizers.spacy_tokenizer import SpacyTokenizer\n",
        "\n",
        "from typing import List, Dict\n",
        "\n",
        "from overrides import overrides\n",
        "\n",
        "from allennlp.interpret.attackers import Attacker, InputReduction\n",
        "\n",
        "from allennlp.interpret.saliency_interpreters import SimpleGradient"
      ],
      "execution_count": 1,
      "outputs": []
    },
    {
      "cell_type": "code",
      "metadata": {
        "id": "Osq1JxTfV5ID"
      },
      "source": [
        "import warnings\n",
        "warnings.filterwarnings('ignore')"
      ],
      "execution_count": 2,
      "outputs": []
    },
    {
      "cell_type": "code",
      "metadata": {
        "id": "02kPpetwu1MS"
      },
      "source": [
        "from scipy.stats import kendalltau\n",
        "from scipy.stats import spearmanr"
      ],
      "execution_count": 3,
      "outputs": []
    },
    {
      "cell_type": "code",
      "metadata": {
        "id": "N2_NLOzJ9hAM"
      },
      "source": [
        "import tagging"
      ],
      "execution_count": 7,
      "outputs": []
    },
    {
      "cell_type": "markdown",
      "metadata": {
        "id": "E3eK_W3n9YDL"
      },
      "source": [
        "# Training"
      ]
    },
    {
      "cell_type": "code",
      "metadata": {
        "colab": {
          "base_uri": "https://localhost:8080/"
        },
        "id": "REzuZd1uj0ad",
        "outputId": "b1863d9b-0066-4452-ecf7-f72141275ede"
      },
      "source": [
        "# training model\n",
        "!pwd; allennlp train --include-package tagging -s LSTM_output config_LSTM.jsonnet"
      ],
      "execution_count": null,
      "outputs": [
        {
          "output_type": "stream",
          "text": [
            "/content/drive/My Drive/COMP0087/allenNLP/Model_2\n",
            "2021-04-01 15:14:59,140 - ERROR - allennlp.common.plugins - Plugin allennlp_models could not be loaded: No module named 'nltk.translate.meteor_score'\n",
            "2021-04-01 15:14:59,459 - INFO - allennlp.common.params - include_in_archive = None\n",
            "2021-04-01 15:14:59,462 - INFO - allennlp.common.params - random_seed = 13370\n",
            "2021-04-01 15:14:59,463 - INFO - allennlp.common.params - numpy_seed = 1337\n",
            "2021-04-01 15:14:59,463 - INFO - allennlp.common.params - pytorch_seed = 133\n",
            "2021-04-01 15:14:59,484 - INFO - allennlp.common.checks - Pytorch version: 1.7.1\n",
            "2021-04-01 15:14:59,484 - INFO - allennlp.common.params - type = default\n",
            "2021-04-01 15:14:59,485 - INFO - allennlp.common.params - dataset_reader.type = ag_reader\n",
            "2021-04-01 15:14:59,486 - INFO - allennlp.common.params - dataset_reader.max_instances = None\n",
            "2021-04-01 15:14:59,486 - INFO - allennlp.common.params - dataset_reader.manual_distributed_sharding = False\n",
            "2021-04-01 15:14:59,486 - INFO - allennlp.common.params - dataset_reader.manual_multiprocess_sharding = False\n",
            "2021-04-01 15:14:59,486 - INFO - allennlp.common.params - dataset_reader.token_indexers = None\n",
            "2021-04-01 15:14:59,486 - INFO - allennlp.common.params - dataset_reader.tokenizer = None\n",
            "2021-04-01 15:14:59,486 - INFO - allennlp.common.params - dataset_reader.segment_sentences = False\n",
            "2021-04-01 15:14:59,487 - INFO - allennlp.common.params - dataset_reader.max_sequence_length = None\n",
            "2021-04-01 15:14:59,487 - INFO - allennlp.common.params - dataset_reader.skip_label_indexing = False\n",
            "2021-04-01 15:14:59,943 - INFO - allennlp.common.params - train_data_path = /content/drive/MyDrive/COMP0087/data/train.json\n",
            "2021-04-01 15:14:59,944 - INFO - allennlp.common.params - vocabulary = <allennlp.common.lazy.Lazy object at 0x7f60c0501210>\n",
            "2021-04-01 15:14:59,945 - INFO - allennlp.common.params - datasets_for_vocab_creation = None\n",
            "2021-04-01 15:14:59,945 - INFO - allennlp.common.params - validation_dataset_reader.type = ag_reader\n",
            "2021-04-01 15:14:59,945 - INFO - allennlp.common.params - validation_dataset_reader.max_instances = None\n",
            "2021-04-01 15:14:59,945 - INFO - allennlp.common.params - validation_dataset_reader.manual_distributed_sharding = False\n",
            "2021-04-01 15:14:59,946 - INFO - allennlp.common.params - validation_dataset_reader.manual_multiprocess_sharding = False\n",
            "2021-04-01 15:14:59,946 - INFO - allennlp.common.params - validation_dataset_reader.token_indexers = None\n",
            "2021-04-01 15:14:59,946 - INFO - allennlp.common.params - validation_dataset_reader.tokenizer = None\n",
            "2021-04-01 15:14:59,946 - INFO - allennlp.common.params - validation_dataset_reader.segment_sentences = False\n",
            "2021-04-01 15:14:59,946 - INFO - allennlp.common.params - validation_dataset_reader.max_sequence_length = None\n",
            "2021-04-01 15:14:59,947 - INFO - allennlp.common.params - validation_dataset_reader.skip_label_indexing = False\n",
            "2021-04-01 15:14:59,947 - INFO - allennlp.common.params - validation_data_path = /content/drive/MyDrive/COMP0087/data/val.json\n",
            "2021-04-01 15:14:59,947 - INFO - allennlp.common.params - validation_data_loader = None\n",
            "2021-04-01 15:14:59,947 - INFO - allennlp.common.params - test_data_path = None\n",
            "2021-04-01 15:14:59,947 - INFO - allennlp.common.params - evaluate_on_test = False\n",
            "2021-04-01 15:14:59,947 - INFO - allennlp.common.params - batch_weight_key = \n",
            "2021-04-01 15:14:59,948 - INFO - allennlp.common.params - data_loader.type = multiprocess\n",
            "2021-04-01 15:14:59,948 - INFO - allennlp.common.params - data_loader.batch_size = None\n",
            "2021-04-01 15:14:59,948 - INFO - allennlp.common.params - data_loader.drop_last = False\n",
            "2021-04-01 15:14:59,949 - INFO - allennlp.common.params - data_loader.shuffle = False\n",
            "2021-04-01 15:14:59,949 - INFO - allennlp.common.params - data_loader.batch_sampler.type = bucket\n",
            "2021-04-01 15:14:59,949 - INFO - allennlp.common.params - data_loader.batch_sampler.batch_size = 32\n",
            "2021-04-01 15:14:59,949 - INFO - allennlp.common.params - data_loader.batch_sampler.sorting_keys = None\n",
            "2021-04-01 15:14:59,950 - INFO - allennlp.common.params - data_loader.batch_sampler.padding_noise = 0.1\n",
            "2021-04-01 15:14:59,950 - INFO - allennlp.common.params - data_loader.batch_sampler.drop_last = False\n",
            "2021-04-01 15:14:59,950 - INFO - allennlp.common.params - data_loader.batches_per_epoch = None\n",
            "2021-04-01 15:14:59,950 - INFO - allennlp.common.params - data_loader.num_workers = 0\n",
            "2021-04-01 15:14:59,950 - INFO - allennlp.common.params - data_loader.max_instances_in_memory = None\n",
            "2021-04-01 15:14:59,950 - INFO - allennlp.common.params - data_loader.start_method = fork\n",
            "2021-04-01 15:14:59,951 - INFO - allennlp.common.params - data_loader.cuda_device = None\n",
            "loading instances: 108000it [00:48, 2220.02it/s]\n",
            "2021-04-01 15:15:48,600 - INFO - allennlp.common.params - data_loader.type = multiprocess\n",
            "2021-04-01 15:15:48,601 - INFO - allennlp.common.params - data_loader.batch_size = None\n",
            "2021-04-01 15:15:48,601 - INFO - allennlp.common.params - data_loader.drop_last = False\n",
            "2021-04-01 15:15:48,601 - INFO - allennlp.common.params - data_loader.shuffle = False\n",
            "2021-04-01 15:15:48,602 - INFO - allennlp.common.params - data_loader.batch_sampler.type = bucket\n",
            "2021-04-01 15:15:48,602 - INFO - allennlp.common.params - data_loader.batch_sampler.batch_size = 32\n",
            "2021-04-01 15:15:48,602 - INFO - allennlp.common.params - data_loader.batch_sampler.sorting_keys = None\n",
            "2021-04-01 15:15:48,602 - INFO - allennlp.common.params - data_loader.batch_sampler.padding_noise = 0.1\n",
            "2021-04-01 15:15:48,603 - INFO - allennlp.common.params - data_loader.batch_sampler.drop_last = False\n",
            "2021-04-01 15:15:48,603 - INFO - allennlp.common.params - data_loader.batches_per_epoch = None\n",
            "2021-04-01 15:15:48,603 - INFO - allennlp.common.params - data_loader.num_workers = 0\n",
            "2021-04-01 15:15:48,603 - INFO - allennlp.common.params - data_loader.max_instances_in_memory = None\n",
            "2021-04-01 15:15:48,603 - INFO - allennlp.common.params - data_loader.start_method = fork\n",
            "2021-04-01 15:15:48,604 - INFO - allennlp.common.params - data_loader.cuda_device = None\n",
            "loading instances: 12000it [00:05, 2250.46it/s]\n",
            "2021-04-01 15:15:53,936 - INFO - allennlp.common.params - type = from_instances\n",
            "2021-04-01 15:15:53,937 - INFO - allennlp.common.params - min_count = None\n",
            "2021-04-01 15:15:53,937 - INFO - allennlp.common.params - max_vocab_size = None\n",
            "2021-04-01 15:15:53,938 - INFO - allennlp.common.params - non_padded_namespaces = ('*tags', '*labels')\n",
            "2021-04-01 15:15:53,938 - INFO - allennlp.common.params - pretrained_files = None\n",
            "2021-04-01 15:15:53,938 - INFO - allennlp.common.params - only_include_pretrained_words = False\n",
            "2021-04-01 15:15:53,938 - INFO - allennlp.common.params - tokens_to_add = None\n",
            "2021-04-01 15:15:53,938 - INFO - allennlp.common.params - min_pretrained_embeddings = None\n",
            "2021-04-01 15:15:53,939 - INFO - allennlp.common.params - padding_token = @@PADDING@@\n",
            "2021-04-01 15:15:53,939 - INFO - allennlp.common.params - oov_token = @@UNKNOWN@@\n",
            "2021-04-01 15:15:53,939 - INFO - allennlp.data.vocabulary - Fitting token dictionary from dataset.\n",
            "building vocab: 120000it [00:03, 38669.26it/s]\n",
            "2021-04-01 15:15:57,209 - INFO - allennlp.common.params - model.type = basic_classifier\n",
            "2021-04-01 15:15:57,210 - INFO - allennlp.common.params - model.regularizer = None\n",
            "2021-04-01 15:15:57,210 - INFO - allennlp.common.params - model.text_field_embedder.type = basic\n",
            "2021-04-01 15:15:57,211 - INFO - allennlp.common.params - model.text_field_embedder.token_embedders.tokens.type = embedding\n",
            "2021-04-01 15:15:57,211 - INFO - allennlp.common.params - model.text_field_embedder.token_embedders.tokens.embedding_dim = 300\n",
            "2021-04-01 15:15:57,211 - INFO - allennlp.common.params - model.text_field_embedder.token_embedders.tokens.num_embeddings = None\n",
            "2021-04-01 15:15:57,211 - INFO - allennlp.common.params - model.text_field_embedder.token_embedders.tokens.projection_dim = None\n",
            "2021-04-01 15:15:57,212 - INFO - allennlp.common.params - model.text_field_embedder.token_embedders.tokens.weight = None\n",
            "2021-04-01 15:15:57,212 - INFO - allennlp.common.params - model.text_field_embedder.token_embedders.tokens.padding_index = None\n",
            "2021-04-01 15:15:57,212 - INFO - allennlp.common.params - model.text_field_embedder.token_embedders.tokens.trainable = False\n",
            "2021-04-01 15:15:57,212 - INFO - allennlp.common.params - model.text_field_embedder.token_embedders.tokens.max_norm = None\n",
            "2021-04-01 15:15:57,212 - INFO - allennlp.common.params - model.text_field_embedder.token_embedders.tokens.norm_type = 2.0\n",
            "2021-04-01 15:15:57,213 - INFO - allennlp.common.params - model.text_field_embedder.token_embedders.tokens.scale_grad_by_freq = False\n",
            "2021-04-01 15:15:57,213 - INFO - allennlp.common.params - model.text_field_embedder.token_embedders.tokens.sparse = False\n",
            "2021-04-01 15:15:57,213 - INFO - allennlp.common.params - model.text_field_embedder.token_embedders.tokens.vocab_namespace = tokens\n",
            "2021-04-01 15:15:57,213 - INFO - allennlp.common.params - model.text_field_embedder.token_embedders.tokens.pretrained_file = https://allennlp.s3.amazonaws.com/datasets/glove/glove.840B.300d.txt.gz\n",
            "2021-04-01 15:15:57,231 - INFO - allennlp.modules.token_embedders.embedding - Reading pretrained embeddings from file\n",
            "2021-04-01 15:15:57,549 - INFO - allennlp.common.file_utils - https://allennlp.s3.amazonaws.com/datasets/glove/glove.840B.300d.txt.gz not found in cache, downloading to /root/.allennlp/cache/a21f3138db1e7a0f6259a4a0b086099b50c73101bbe4182ba8688f41348388a3.8de7c14eda15038006ebf553b708bcae9c046b2ecf71dbbbedd8b0b9d0d0a621\n",
            "downloading: 100%|##########| 2176768669/2176768669 [01:22<00:00, 26406909.48B/s]\n",
            "2196017it [00:49, 44283.23it/s]\n",
            "2021-04-01 15:18:10,144 - INFO - allennlp.modules.token_embedders.embedding - Initializing pre-trained embedding layer\n",
            "2021-04-01 15:18:11,179 - INFO - allennlp.modules.token_embedders.embedding - Pretrained embeddings were found for 70316 out of 95889 tokens\n",
            "2021-04-01 15:18:11,220 - INFO - allennlp.common.params - model.seq2vec_encoder.type = lstm\n",
            "2021-04-01 15:18:11,220 - INFO - allennlp.common.params - model.seq2vec_encoder.input_size = 300\n",
            "2021-04-01 15:18:11,220 - INFO - allennlp.common.params - model.seq2vec_encoder.hidden_size = 512\n",
            "2021-04-01 15:18:11,221 - INFO - allennlp.common.params - model.seq2vec_encoder.num_layers = 2\n",
            "2021-04-01 15:18:11,221 - INFO - allennlp.common.params - model.seq2vec_encoder.bias = True\n",
            "2021-04-01 15:18:11,221 - INFO - allennlp.common.params - model.seq2vec_encoder.dropout = 0.0\n",
            "2021-04-01 15:18:11,221 - INFO - allennlp.common.params - model.seq2vec_encoder.bidirectional = False\n",
            "2021-04-01 15:18:11,246 - INFO - allennlp.common.params - model.seq2seq_encoder = None\n",
            "2021-04-01 15:18:11,246 - INFO - allennlp.common.params - model.feedforward = None\n",
            "2021-04-01 15:18:11,246 - INFO - allennlp.common.params - model.dropout = None\n",
            "2021-04-01 15:18:11,246 - INFO - allennlp.common.params - model.num_labels = None\n",
            "2021-04-01 15:18:11,247 - INFO - allennlp.common.params - model.label_namespace = labels\n",
            "2021-04-01 15:18:11,247 - INFO - allennlp.common.params - model.namespace = tokens\n",
            "2021-04-01 15:18:11,247 - INFO - allennlp.common.params - model.initializer = <allennlp.nn.initializers.InitializerApplicator object at 0x7f60c1e79dd0>\n",
            "2021-04-01 15:18:11,248 - INFO - allennlp.nn.initializers - Initializing parameters\n",
            "2021-04-01 15:18:11,248 - INFO - allennlp.nn.initializers - Done initializing parameters; the following parameters are using their default initialization from their code\n",
            "2021-04-01 15:18:11,248 - INFO - allennlp.nn.initializers -    _classification_layer.bias\n",
            "2021-04-01 15:18:11,248 - INFO - allennlp.nn.initializers -    _classification_layer.weight\n",
            "2021-04-01 15:18:11,249 - INFO - allennlp.nn.initializers -    _seq2vec_encoder._module.bias_hh_l0\n",
            "2021-04-01 15:18:11,249 - INFO - allennlp.nn.initializers -    _seq2vec_encoder._module.bias_hh_l1\n",
            "2021-04-01 15:18:11,249 - INFO - allennlp.nn.initializers -    _seq2vec_encoder._module.bias_ih_l0\n",
            "2021-04-01 15:18:11,249 - INFO - allennlp.nn.initializers -    _seq2vec_encoder._module.bias_ih_l1\n",
            "2021-04-01 15:18:11,249 - INFO - allennlp.nn.initializers -    _seq2vec_encoder._module.weight_hh_l0\n",
            "2021-04-01 15:18:11,249 - INFO - allennlp.nn.initializers -    _seq2vec_encoder._module.weight_hh_l1\n",
            "2021-04-01 15:18:11,249 - INFO - allennlp.nn.initializers -    _seq2vec_encoder._module.weight_ih_l0\n",
            "2021-04-01 15:18:11,250 - INFO - allennlp.nn.initializers -    _seq2vec_encoder._module.weight_ih_l1\n",
            "2021-04-01 15:18:11,250 - INFO - allennlp.nn.initializers -    _text_field_embedder.token_embedder_tokens.weight\n",
            "2021-04-01 15:18:16,473 - INFO - allennlp.common.params - trainer.type = gradient_descent\n",
            "2021-04-01 15:18:16,474 - INFO - allennlp.common.params - trainer.patience = 1\n",
            "2021-04-01 15:18:16,474 - INFO - allennlp.common.params - trainer.validation_metric = +accuracy\n",
            "2021-04-01 15:18:16,474 - INFO - allennlp.common.params - trainer.num_epochs = 2\n",
            "2021-04-01 15:18:16,474 - INFO - allennlp.common.params - trainer.cuda_device = 0\n",
            "2021-04-01 15:18:16,475 - INFO - allennlp.common.params - trainer.grad_norm = 5\n",
            "2021-04-01 15:18:16,475 - INFO - allennlp.common.params - trainer.grad_clipping = None\n",
            "2021-04-01 15:18:16,475 - INFO - allennlp.common.params - trainer.distributed = False\n",
            "2021-04-01 15:18:16,475 - INFO - allennlp.common.params - trainer.world_size = 1\n",
            "2021-04-01 15:18:16,475 - INFO - allennlp.common.params - trainer.num_gradient_accumulation_steps = 1\n",
            "2021-04-01 15:18:16,476 - INFO - allennlp.common.params - trainer.use_amp = False\n",
            "2021-04-01 15:18:16,476 - INFO - allennlp.common.params - trainer.no_grad = None\n",
            "2021-04-01 15:18:16,476 - INFO - allennlp.common.params - trainer.learning_rate_scheduler = None\n",
            "2021-04-01 15:18:16,476 - INFO - allennlp.common.params - trainer.momentum_scheduler = None\n",
            "2021-04-01 15:18:16,477 - INFO - allennlp.common.params - trainer.moving_average = None\n",
            "2021-04-01 15:18:16,477 - INFO - allennlp.common.params - trainer.checkpointer = <allennlp.common.lazy.Lazy object at 0x7f60c0553f90>\n",
            "2021-04-01 15:18:16,477 - INFO - allennlp.common.params - trainer.callbacks = None\n",
            "2021-04-01 15:18:16,477 - INFO - allennlp.common.params - trainer.trainer_callbacks = None\n",
            "2021-04-01 15:18:18,634 - INFO - allennlp.common.params - trainer.optimizer.type = adam\n",
            "2021-04-01 15:18:18,634 - INFO - allennlp.common.params - trainer.optimizer.parameter_groups = None\n",
            "2021-04-01 15:18:18,635 - INFO - allennlp.common.params - trainer.optimizer.lr = 0.001\n",
            "2021-04-01 15:18:18,635 - INFO - allennlp.common.params - trainer.optimizer.betas = (0.9, 0.999)\n",
            "2021-04-01 15:18:18,635 - INFO - allennlp.common.params - trainer.optimizer.eps = 1e-08\n",
            "2021-04-01 15:18:18,635 - INFO - allennlp.common.params - trainer.optimizer.weight_decay = 0.0\n",
            "2021-04-01 15:18:18,636 - INFO - allennlp.common.params - trainer.optimizer.amsgrad = False\n",
            "2021-04-01 15:18:18,636 - INFO - allennlp.training.optimizers - Number of trainable parameters: 3770372\n",
            "2021-04-01 15:18:18,636 - INFO - allennlp.common.util - The following parameters are Frozen (without gradient):\n",
            "2021-04-01 15:18:18,636 - INFO - allennlp.common.util - _text_field_embedder.token_embedder_tokens.weight\n",
            "2021-04-01 15:18:18,637 - INFO - allennlp.common.util - The following parameters are Tunable (with gradient):\n",
            "2021-04-01 15:18:18,637 - INFO - allennlp.common.util - _seq2vec_encoder._module.weight_ih_l0\n",
            "2021-04-01 15:18:18,637 - INFO - allennlp.common.util - _seq2vec_encoder._module.weight_hh_l0\n",
            "2021-04-01 15:18:18,637 - INFO - allennlp.common.util - _seq2vec_encoder._module.bias_ih_l0\n",
            "2021-04-01 15:18:18,637 - INFO - allennlp.common.util - _seq2vec_encoder._module.bias_hh_l0\n",
            "2021-04-01 15:18:18,638 - INFO - allennlp.common.util - _seq2vec_encoder._module.weight_ih_l1\n",
            "2021-04-01 15:18:18,638 - INFO - allennlp.common.util - _seq2vec_encoder._module.weight_hh_l1\n",
            "2021-04-01 15:18:18,638 - INFO - allennlp.common.util - _seq2vec_encoder._module.bias_ih_l1\n",
            "2021-04-01 15:18:18,638 - INFO - allennlp.common.util - _seq2vec_encoder._module.bias_hh_l1\n",
            "2021-04-01 15:18:18,638 - INFO - allennlp.common.util - _classification_layer.weight\n",
            "2021-04-01 15:18:18,638 - INFO - allennlp.common.util - _classification_layer.bias\n",
            "2021-04-01 15:18:18,639 - INFO - allennlp.common.params - type = default\n",
            "2021-04-01 15:18:18,639 - INFO - allennlp.common.params - keep_serialized_model_every_num_seconds = None\n",
            "2021-04-01 15:18:18,639 - INFO - allennlp.common.params - num_serialized_models_to_keep = 2\n",
            "2021-04-01 15:18:18,639 - INFO - allennlp.common.params - model_save_interval = None\n",
            "2021-04-01 15:18:18,640 - INFO - allennlp.training.trainer - Beginning training.\n",
            "2021-04-01 15:18:18,640 - INFO - allennlp.training.trainer - Epoch 0/1\n",
            "2021-04-01 15:18:18,641 - INFO - allennlp.training.trainer - Worker 0 memory usage: 3.6G\n",
            "2021-04-01 15:18:18,641 - INFO - allennlp.training.trainer - GPU 0 memory usage: 139M\n",
            "2021-04-01 15:18:18,641 - INFO - allennlp.training.trainer - Training\n",
            "  0%|          | 0/3375 [00:00<?, ?it/s]2021-04-01 15:18:18,708 - INFO - allennlp.data.samplers.bucket_batch_sampler - No sorting keys given; trying to guess a good one\n",
            "2021-04-01 15:18:18,708 - INFO - allennlp.data.samplers.bucket_batch_sampler - Using ['tokens'] as the sorting keys\n",
            "accuracy: 0.8780, batch_loss: 0.2163, loss: 0.3607 ||: 100%|##########| 3375/3375 [01:00<00:00, 56.06it/s]\n",
            "2021-04-01 15:19:19,477 - INFO - allennlp.training.trainer - Validating\n",
            "  0%|          | 0/375 [00:00<?, ?it/s]2021-04-01 15:19:19,486 - INFO - allennlp.data.samplers.bucket_batch_sampler - No sorting keys given; trying to guess a good one\n",
            "2021-04-01 15:19:19,487 - INFO - allennlp.data.samplers.bucket_batch_sampler - Using ['tokens'] as the sorting keys\n",
            "accuracy: 0.9069, batch_loss: 0.2428, loss: 0.2685 ||: 100%|##########| 375/375 [00:02<00:00, 137.62it/s]\n",
            "2021-04-01 15:19:22,326 - INFO - allennlp.training.checkpointer - Best validation performance so far. Copying weights to 'LSTM_output/best.th'.\n",
            "2021-04-01 15:19:22,937 - INFO - allennlp.training.trainer - Epoch duration: 0:01:04.296203\n",
            "2021-04-01 15:19:22,938 - INFO - allennlp.training.trainer - Estimated training time remaining: 0:01:04\n",
            "2021-04-01 15:19:22,938 - INFO - allennlp.training.trainer - Epoch 1/1\n",
            "2021-04-01 15:19:22,938 - INFO - allennlp.training.trainer - Worker 0 memory usage: 3.9G\n",
            "2021-04-01 15:19:22,939 - INFO - allennlp.training.trainer - GPU 0 memory usage: 336M\n",
            "2021-04-01 15:19:22,939 - INFO - allennlp.training.trainer - Training\n",
            "accuracy: 0.9169, batch_loss: 0.2542, loss: 0.2366 ||: 100%|##########| 3375/3375 [01:00<00:00, 55.65it/s]\n",
            "2021-04-01 15:20:24,129 - INFO - allennlp.training.trainer - Validating\n",
            "accuracy: 0.9188, batch_loss: 0.0937, loss: 0.2358 ||: 100%|##########| 375/375 [00:02<00:00, 137.64it/s]\n",
            "2021-04-01 15:20:26,975 - INFO - allennlp.training.checkpointer - Best validation performance so far. Copying weights to 'LSTM_output/best.th'.\n",
            "2021-04-01 15:20:27,586 - INFO - allennlp.training.trainer - Epoch duration: 0:01:04.648146\n",
            "2021-04-01 15:20:27,587 - INFO - allennlp.training.checkpointer - loading best weights\n",
            "2021-04-01 15:20:27,786 - INFO - allennlp.common.util - Metrics: {\n",
            "  \"best_epoch\": 1,\n",
            "  \"peak_worker_0_memory_MB\": 3968.90625,\n",
            "  \"peak_gpu_0_memory_MB\": 335.92626953125,\n",
            "  \"training_duration\": \"0:02:08.215236\",\n",
            "  \"training_start_epoch\": 0,\n",
            "  \"training_epochs\": 1,\n",
            "  \"epoch\": 1,\n",
            "  \"training_accuracy\": 0.9169074074074074,\n",
            "  \"training_loss\": 0.23659509698936232,\n",
            "  \"training_worker_0_memory_MB\": 3968.90625,\n",
            "  \"training_gpu_0_memory_MB\": 335.92626953125,\n",
            "  \"validation_accuracy\": 0.9188333333333333,\n",
            "  \"validation_loss\": 0.23578369397918383,\n",
            "  \"best_validation_accuracy\": 0.9188333333333333,\n",
            "  \"best_validation_loss\": 0.23578369397918383\n",
            "}\n",
            "2021-04-01 15:20:28,501 - INFO - allennlp.models.archival - archiving weights and vocabulary to LSTM_output/model.tar.gz\n"
          ],
          "name": "stdout"
        }
      ]
    },
    {
      "cell_type": "markdown",
      "metadata": {
        "id": "9KAf30nQ-HGa"
      },
      "source": [
        "# Predictions"
      ]
    },
    {
      "cell_type": "code",
      "metadata": {
        "id": "jtuiSt0r88NH"
      },
      "source": [
        "@Predictor.register('ag_text_classifier')\n",
        "class AGNewsClassifier(Predictor):\n",
        "    \"\"\"\n",
        "    Predictor for any model that takes in a sentence and returns\n",
        "    a single class for it.  In particular, it can be used with\n",
        "    the [`BasicClassifier`](../models/basic_classifier.md) model.\n",
        "\n",
        "    \"\"\"\n",
        "\n",
        "    def predict(self, sentence: str) -> JsonDict:\n",
        "        return self.predict_json({\"Description\": sentence})\n",
        "\n",
        "    @overrides\n",
        "    def _json_to_instance(self, json_dict: JsonDict) -> Instance:\n",
        "        \"\"\"\n",
        "        Expects JSON that looks like `{\"sentence\": \"...\"}`.\n",
        "        Runs the underlying model, and adds the `\"label\"` to the output.\n",
        "        \"\"\"\n",
        "        sentence = json_dict[\"Description\"]\n",
        "        reader_has_tokenizer = (\n",
        "            getattr(self._dataset_reader, \"tokenizer\", None) is not None\n",
        "            or getattr(self._dataset_reader, \"_tokenizer\", None) is not None\n",
        "        )\n",
        "        if not reader_has_tokenizer:\n",
        "            tokenizer = SpacyTokenizer()\n",
        "            sentence = tokenizer.tokenize(sentence)\n",
        "        return self._dataset_reader.text_to_instance(sentence)\n",
        "\n",
        "    @overrides\n",
        "    def predictions_to_labeled_instances(\n",
        "        self, instance: Instance, outputs: Dict[str, np.ndarray]\n",
        "    ) -> List[Instance]:\n",
        "        new_instance = instance.duplicate()\n",
        "        label = np.argmax(outputs[\"probs\"])\n",
        "        new_instance.add_field(\"label\", LabelField(int(label), skip_indexing=True))\n",
        "        return [new_instance]"
      ],
      "execution_count": 8,
      "outputs": []
    },
    {
      "cell_type": "code",
      "metadata": {
        "id": "RFbFxippbuWV"
      },
      "source": [
        "archive = load_archive(\"./LSTM_output/model.tar.gz\")\n",
        "model = archive.model\n",
        "vocab = model.vocab"
      ],
      "execution_count": 9,
      "outputs": []
    },
    {
      "cell_type": "code",
      "metadata": {
        "id": "6I2Y8xiVsH6W"
      },
      "source": [
        "predictor = Predictor.from_archive(archive, 'ag_text_classifier')"
      ],
      "execution_count": 10,
      "outputs": []
    },
    {
      "cell_type": "code",
      "metadata": {
        "id": "Vul_QEzDxr1A"
      },
      "source": [
        "input = \"The Cleveland Indians pulled within one game of the AL Central lead by beating the Minnesota Twins, 7-1, Saturday night with home runs by Travis Hafner and Victor Martinez.\""
      ],
      "execution_count": 20,
      "outputs": []
    },
    {
      "cell_type": "code",
      "metadata": {
        "colab": {
          "base_uri": "https://localhost:8080/"
        },
        "id": "dIq7HL_F0n7X",
        "outputId": "09ffa5d5-d886-4b8f-ce97-3b61e870bf35"
      },
      "source": [
        "predictor.predict(sentence=input)"
      ],
      "execution_count": 21,
      "outputs": [
        {
          "output_type": "execute_result",
          "data": {
            "text/plain": [
              "{'label': '2',\n",
              " 'logits': [-2.927020788192749,\n",
              "  5.316094875335693,\n",
              "  -1.3947194814682007,\n",
              "  -1.6728702783584595],\n",
              " 'probs': [0.00026243284810334444,\n",
              "  0.9976029992103577,\n",
              "  0.0012147531379014254,\n",
              "  0.0009197902400046587],\n",
              " 'token_ids': [16,\n",
              "  1447,\n",
              "  3317,\n",
              "  1351,\n",
              "  731,\n",
              "  64,\n",
              "  102,\n",
              "  8,\n",
              "  2,\n",
              "  2171,\n",
              "  1388,\n",
              "  188,\n",
              "  27,\n",
              "  1147,\n",
              "  2,\n",
              "  1050,\n",
              "  2700,\n",
              "  3,\n",
              "  342,\n",
              "  5,\n",
              "  136,\n",
              "  3,\n",
              "  103,\n",
              "  107,\n",
              "  19,\n",
              "  170,\n",
              "  988,\n",
              "  27,\n",
              "  8015,\n",
              "  27744,\n",
              "  10,\n",
              "  6822,\n",
              "  2252,\n",
              "  4],\n",
              " 'tokens': ['The',\n",
              "  'Cleveland',\n",
              "  'Indians',\n",
              "  'pulled',\n",
              "  'within',\n",
              "  'one',\n",
              "  'game',\n",
              "  'of',\n",
              "  'the',\n",
              "  'AL',\n",
              "  'Central',\n",
              "  'lead',\n",
              "  'by',\n",
              "  'beating',\n",
              "  'the',\n",
              "  'Minnesota',\n",
              "  'Twins',\n",
              "  ',',\n",
              "  '7',\n",
              "  '-',\n",
              "  '1',\n",
              "  ',',\n",
              "  'Saturday',\n",
              "  'night',\n",
              "  'with',\n",
              "  'home',\n",
              "  'runs',\n",
              "  'by',\n",
              "  'Travis',\n",
              "  'Hafner',\n",
              "  'and',\n",
              "  'Victor',\n",
              "  'Martinez',\n",
              "  '.']}"
            ]
          },
          "metadata": {
            "tags": []
          },
          "execution_count": 21
        }
      ]
    },
    {
      "cell_type": "code",
      "metadata": {
        "colab": {
          "base_uri": "https://localhost:8080/"
        },
        "id": "t7PS3dScPFFm",
        "outputId": "ffc17185-6a5a-4a28-d04b-752727b2b82e"
      },
      "source": [
        "output = predictor.predict(input)\n",
        "print(\n",
        "    [\n",
        "        (vocab.get_token_from_index(label_id, \"labels\"), prob)\n",
        "        for label_id, prob in enumerate(output[\"probs\"])\n",
        "    ]\n",
        ")"
      ],
      "execution_count": 23,
      "outputs": [
        {
          "output_type": "stream",
          "text": [
            "[('4', 0.00026243284810334444), ('2', 0.9976029992103577), ('1', 0.0012147531379014254), ('3', 0.0009197902400046587)]\n"
          ],
          "name": "stdout"
        }
      ]
    },
    {
      "cell_type": "markdown",
      "metadata": {
        "id": "e9_kbyfmCKgB"
      },
      "source": [
        "# Interpret"
      ]
    },
    {
      "cell_type": "code",
      "metadata": {
        "id": "SNcaEtePRl4G"
      },
      "source": [
        "@Predictor.register('ag_text_classifier_with_input_red')\n",
        "class InputReductionTextClassifierPredictor(AGNewsClassifier):\n",
        "    \n",
        "    def predict_json(self, json_dict: JsonDict) -> JsonDict:\n",
        "        predictor = AGNewsClassifier(self._model, self._dataset_reader)\n",
        "        prediction = predictor.predict(sentence=json_dict['Description'])\n",
        "\n",
        "        attacker = InputReduction(predictor)\n",
        "        attack = attacker.attack_from_json(inputs=json_dict,\n",
        "                                           input_field_to_attack='tokens',\n",
        "                                           grad_input_field='grad_input_1',\n",
        "                                           ignore_tokens=None)\n",
        "\n",
        "        return {'prediction': prediction, 'input_reduction_output': attack}"
      ],
      "execution_count": 11,
      "outputs": []
    },
    {
      "cell_type": "code",
      "metadata": {
        "id": "EBPyBfF4tE1P"
      },
      "source": [
        "predictor_with_input_red = Predictor.from_archive(archive, 'ag_text_classifier_with_input_red')"
      ],
      "execution_count": 12,
      "outputs": []
    },
    {
      "cell_type": "code",
      "metadata": {
        "id": "0wLMMnMStP1S"
      },
      "source": [
        "result = predictor_with_input_red.predict(input)\n",
        "tokens = result['prediction']['tokens']\n",
        "\n",
        "grad = SimpleGradient(predictor).saliency_interpret_from_json({'Description':input})\n",
        "gradient_list = grad['instance_1']['grad_input_1']"
      ],
      "execution_count": 14,
      "outputs": []
    },
    {
      "cell_type": "markdown",
      "metadata": {
        "id": "oC6gSe9xRWia"
      },
      "source": [
        "# Visualisation"
      ]
    },
    {
      "cell_type": "markdown",
      "metadata": {
        "id": "Lc26204rRtVU"
      },
      "source": [
        "Source: https://adataanalyst.com/machine-learning/highlight-text-using-weights/"
      ]
    },
    {
      "cell_type": "code",
      "metadata": {
        "id": "gtonm9haRVkw"
      },
      "source": [
        "import html\n",
        "import random\n",
        "from IPython.core.display import display, HTML"
      ],
      "execution_count": 15,
      "outputs": []
    },
    {
      "cell_type": "code",
      "metadata": {
        "id": "WXExZzDKRpNW"
      },
      "source": [
        "# Prevent special characters like & and < to cause the browser to display something other than what you intended.\n",
        "def html_escape(text):\n",
        "    return html.escape(text)"
      ],
      "execution_count": 16,
      "outputs": []
    },
    {
      "cell_type": "code",
      "metadata": {
        "id": "e2ghrxcdS5EN"
      },
      "source": [
        "max_alpha = 0.4 \n",
        "highlighted_text = []\n",
        "for i in range(len(tokens)):\n",
        "    weight = gradient_list[i]\n",
        "    highlighted_text.append('<span style=\"background-color:rgba(135,206,250,' + str(weight / max_alpha) + ');\">' + html_escape(tokens[i]) + '</span>')\n",
        "highlighted_text = ' '.join(highlighted_text)"
      ],
      "execution_count": 17,
      "outputs": []
    },
    {
      "cell_type": "code",
      "metadata": {
        "colab": {
          "base_uri": "https://localhost:8080/",
          "height": 51
        },
        "id": "4DDnqNquTLnR",
        "outputId": "6196bde0-383f-4427-a267-7676febba47e"
      },
      "source": [
        "display(HTML(highlighted_text))"
      ],
      "execution_count": 18,
      "outputs": [
        {
          "output_type": "display_data",
          "data": {
            "text/html": [
              "<span style=\"background-color:rgba(135,206,250,0.005138459641444898);\">The</span> <span style=\"background-color:rgba(135,206,250,0.02494105745267499);\">Cleveland</span> <span style=\"background-color:rgba(135,206,250,0.2328435048617321);\">Indians</span> <span style=\"background-color:rgba(135,206,250,0.053634792383569344);\">pulled</span> <span style=\"background-color:rgba(135,206,250,0.026102590129287735);\">within</span> <span style=\"background-color:rgba(135,206,250,0.004452908558473789);\">one</span> <span style=\"background-color:rgba(135,206,250,0.04788255483362198);\">game</span> <span style=\"background-color:rgba(135,206,250,0.06631469162336952);\">of</span> <span style=\"background-color:rgba(135,206,250,0.01030045002150708);\">the</span> <span style=\"background-color:rgba(135,206,250,0.0933905169339959);\">AL</span> <span style=\"background-color:rgba(135,206,250,0.055473344131679925);\">Central</span> <span style=\"background-color:rgba(135,206,250,0.01655288710740145);\">lead</span> <span style=\"background-color:rgba(135,206,250,0.07331200223607605);\">by</span> <span style=\"background-color:rgba(135,206,250,0.07371156051554735);\">beating</span> <span style=\"background-color:rgba(135,206,250,0.016824702880392332);\">the</span> <span style=\"background-color:rgba(135,206,250,0.14598751752166744);\">Minnesota</span> <span style=\"background-color:rgba(135,206,250,0.02005558825637949);\">Twins</span> <span style=\"background-color:rgba(135,206,250,0.1252175764255987);\">,</span> <span style=\"background-color:rgba(135,206,250,0.03275409542446298);\">7</span> <span style=\"background-color:rgba(135,206,250,0.027839402568916986);\">-</span> <span style=\"background-color:rgba(135,206,250,0.02266820771264654);\">1</span> <span style=\"background-color:rgba(135,206,250,0.13510260905410348);\">,</span> <span style=\"background-color:rgba(135,206,250,0.11394036124348655);\">Saturday</span> <span style=\"background-color:rgba(135,206,250,0.04017707068731157);\">night</span> <span style=\"background-color:rgba(135,206,250,0.04946455299467228);\">with</span> <span style=\"background-color:rgba(135,206,250,0.033295715103347175);\">home</span> <span style=\"background-color:rgba(135,206,250,0.030368271608956);\">runs</span> <span style=\"background-color:rgba(135,206,250,0.1367964390217674);\">by</span> <span style=\"background-color:rgba(135,206,250,0.04076267877170989);\">Travis</span> <span style=\"background-color:rgba(135,206,250,0.16298954843149238);\">Hafner</span> <span style=\"background-color:rgba(135,206,250,0.07817820762067547);\">and</span> <span style=\"background-color:rgba(135,206,250,0.0777434453517351);\">Victor</span> <span style=\"background-color:rgba(135,206,250,0.1719855421482177);\">Martinez</span> <span style=\"background-color:rgba(135,206,250,0.25379731439766967);\">.</span>"
            ],
            "text/plain": [
              "<IPython.core.display.HTML object>"
            ]
          },
          "metadata": {
            "tags": []
          }
        }
      ]
    },
    {
      "cell_type": "code",
      "metadata": {
        "colab": {
          "base_uri": "https://localhost:8080/",
          "height": 68
        },
        "id": "j4E_1_N_TMDa",
        "outputId": "ae48dd10-426a-418b-96a9-b44514f2dc08"
      },
      "source": [
        "print(display(HTML(highlighted_text)))"
      ],
      "execution_count": 19,
      "outputs": [
        {
          "output_type": "display_data",
          "data": {
            "text/html": [
              "<span style=\"background-color:rgba(135,206,250,0.005138459641444898);\">The</span> <span style=\"background-color:rgba(135,206,250,0.02494105745267499);\">Cleveland</span> <span style=\"background-color:rgba(135,206,250,0.2328435048617321);\">Indians</span> <span style=\"background-color:rgba(135,206,250,0.053634792383569344);\">pulled</span> <span style=\"background-color:rgba(135,206,250,0.026102590129287735);\">within</span> <span style=\"background-color:rgba(135,206,250,0.004452908558473789);\">one</span> <span style=\"background-color:rgba(135,206,250,0.04788255483362198);\">game</span> <span style=\"background-color:rgba(135,206,250,0.06631469162336952);\">of</span> <span style=\"background-color:rgba(135,206,250,0.01030045002150708);\">the</span> <span style=\"background-color:rgba(135,206,250,0.0933905169339959);\">AL</span> <span style=\"background-color:rgba(135,206,250,0.055473344131679925);\">Central</span> <span style=\"background-color:rgba(135,206,250,0.01655288710740145);\">lead</span> <span style=\"background-color:rgba(135,206,250,0.07331200223607605);\">by</span> <span style=\"background-color:rgba(135,206,250,0.07371156051554735);\">beating</span> <span style=\"background-color:rgba(135,206,250,0.016824702880392332);\">the</span> <span style=\"background-color:rgba(135,206,250,0.14598751752166744);\">Minnesota</span> <span style=\"background-color:rgba(135,206,250,0.02005558825637949);\">Twins</span> <span style=\"background-color:rgba(135,206,250,0.1252175764255987);\">,</span> <span style=\"background-color:rgba(135,206,250,0.03275409542446298);\">7</span> <span style=\"background-color:rgba(135,206,250,0.027839402568916986);\">-</span> <span style=\"background-color:rgba(135,206,250,0.02266820771264654);\">1</span> <span style=\"background-color:rgba(135,206,250,0.13510260905410348);\">,</span> <span style=\"background-color:rgba(135,206,250,0.11394036124348655);\">Saturday</span> <span style=\"background-color:rgba(135,206,250,0.04017707068731157);\">night</span> <span style=\"background-color:rgba(135,206,250,0.04946455299467228);\">with</span> <span style=\"background-color:rgba(135,206,250,0.033295715103347175);\">home</span> <span style=\"background-color:rgba(135,206,250,0.030368271608956);\">runs</span> <span style=\"background-color:rgba(135,206,250,0.1367964390217674);\">by</span> <span style=\"background-color:rgba(135,206,250,0.04076267877170989);\">Travis</span> <span style=\"background-color:rgba(135,206,250,0.16298954843149238);\">Hafner</span> <span style=\"background-color:rgba(135,206,250,0.07817820762067547);\">and</span> <span style=\"background-color:rgba(135,206,250,0.0777434453517351);\">Victor</span> <span style=\"background-color:rgba(135,206,250,0.1719855421482177);\">Martinez</span> <span style=\"background-color:rgba(135,206,250,0.25379731439766967);\">.</span>"
            ],
            "text/plain": [
              "<IPython.core.display.HTML object>"
            ]
          },
          "metadata": {
            "tags": []
          }
        },
        {
          "output_type": "stream",
          "text": [
            "None\n"
          ],
          "name": "stdout"
        }
      ]
    },
    {
      "cell_type": "markdown",
      "metadata": {
        "id": "7_KMrax3a1Q4"
      },
      "source": [
        "# Checklist"
      ]
    },
    {
      "cell_type": "code",
      "metadata": {
        "id": "pzOUKrKqTToT",
        "colab": {
          "base_uri": "https://localhost:8080/"
        },
        "outputId": "c0daac90-e613-437c-d422-5b63b4c20ed7"
      },
      "source": [
        "%%shell\n",
        "pip install checklist"
      ],
      "execution_count": null,
      "outputs": [
        {
          "output_type": "stream",
          "text": [
            "Collecting checklist\n",
            "\u001b[?25l  Downloading https://files.pythonhosted.org/packages/35/29/854c458733992e53cb1168257ddeae8fea1e70ea3e3b101bc0d32cc81907/checklist-0.0.10.tar.gz (12.1MB)\n",
            "\u001b[K     |████████████████████████████████| 12.1MB 252kB/s \n",
            "\u001b[?25hRequirement already satisfied: numpy>=1.18 in /usr/local/lib/python3.7/dist-packages (from checklist) (1.19.5)\n",
            "Requirement already satisfied: spacy>=2.2 in /usr/local/lib/python3.7/dist-packages (from checklist) (2.2.4)\n",
            "Collecting munch>=2.5\n",
            "  Downloading https://files.pythonhosted.org/packages/cc/ab/85d8da5c9a45e072301beb37ad7f833cd344e04c817d97e0cc75681d248f/munch-2.5.0-py2.py3-none-any.whl\n",
            "Requirement already satisfied: dill>=0.3.1 in /usr/local/lib/python3.7/dist-packages (from checklist) (0.3.3)\n",
            "Requirement already satisfied: jupyter>=1.0 in /usr/local/lib/python3.7/dist-packages (from checklist) (1.0.0)\n",
            "Requirement already satisfied: ipywidgets>=7.5 in /usr/local/lib/python3.7/dist-packages (from checklist) (7.6.3)\n",
            "Requirement already satisfied: transformers>=2.8 in /usr/local/lib/python3.7/dist-packages (from checklist) (4.3.3)\n",
            "Collecting patternfork-nosql\n",
            "\u001b[?25l  Downloading https://files.pythonhosted.org/packages/53/c9/44df2e48530ff9ebdc0f5a916831aecef2cf10806f3021f09cb4a5040674/patternfork_nosql-3.6.tar.gz (22.3MB)\n",
            "\u001b[K     |████████████████████████████████| 22.3MB 1.6MB/s \n",
            "\u001b[?25hCollecting iso-639\n",
            "\u001b[?25l  Downloading https://files.pythonhosted.org/packages/5a/8d/27969852f4e664525c3d070e44b2b719bc195f4d18c311c52e57bb93614e/iso-639-0.4.5.tar.gz (167kB)\n",
            "\u001b[K     |████████████████████████████████| 174kB 51.8MB/s \n",
            "\u001b[?25hRequirement already satisfied: srsly<1.1.0,>=1.0.2 in /usr/local/lib/python3.7/dist-packages (from spacy>=2.2->checklist) (1.0.5)\n",
            "Requirement already satisfied: wasabi<1.1.0,>=0.4.0 in /usr/local/lib/python3.7/dist-packages (from spacy>=2.2->checklist) (0.8.2)\n",
            "Requirement already satisfied: cymem<2.1.0,>=2.0.2 in /usr/local/lib/python3.7/dist-packages (from spacy>=2.2->checklist) (2.0.5)\n",
            "Requirement already satisfied: setuptools in /usr/local/lib/python3.7/dist-packages (from spacy>=2.2->checklist) (54.2.0)\n",
            "Requirement already satisfied: tqdm<5.0.0,>=4.38.0 in /usr/local/lib/python3.7/dist-packages (from spacy>=2.2->checklist) (4.41.1)\n",
            "Requirement already satisfied: blis<0.5.0,>=0.4.0 in /usr/local/lib/python3.7/dist-packages (from spacy>=2.2->checklist) (0.4.1)\n",
            "Requirement already satisfied: catalogue<1.1.0,>=0.0.7 in /usr/local/lib/python3.7/dist-packages (from spacy>=2.2->checklist) (1.0.0)\n",
            "Requirement already satisfied: murmurhash<1.1.0,>=0.28.0 in /usr/local/lib/python3.7/dist-packages (from spacy>=2.2->checklist) (1.0.5)\n",
            "Requirement already satisfied: thinc==7.4.0 in /usr/local/lib/python3.7/dist-packages (from spacy>=2.2->checklist) (7.4.0)\n",
            "Requirement already satisfied: preshed<3.1.0,>=3.0.2 in /usr/local/lib/python3.7/dist-packages (from spacy>=2.2->checklist) (3.0.5)\n",
            "Requirement already satisfied: requests<3.0.0,>=2.13.0 in /usr/local/lib/python3.7/dist-packages (from spacy>=2.2->checklist) (2.23.0)\n",
            "Requirement already satisfied: plac<1.2.0,>=0.9.6 in /usr/local/lib/python3.7/dist-packages (from spacy>=2.2->checklist) (1.1.3)\n",
            "Requirement already satisfied: six in /usr/local/lib/python3.7/dist-packages (from munch>=2.5->checklist) (1.15.0)\n",
            "Requirement already satisfied: qtconsole in /usr/local/lib/python3.7/dist-packages (from jupyter>=1.0->checklist) (5.0.3)\n",
            "Requirement already satisfied: jupyter-console in /usr/local/lib/python3.7/dist-packages (from jupyter>=1.0->checklist) (5.2.0)\n",
            "Requirement already satisfied: ipykernel in /usr/local/lib/python3.7/dist-packages (from jupyter>=1.0->checklist) (4.10.1)\n",
            "Requirement already satisfied: nbconvert in /usr/local/lib/python3.7/dist-packages (from jupyter>=1.0->checklist) (5.6.1)\n",
            "Requirement already satisfied: notebook in /usr/local/lib/python3.7/dist-packages (from jupyter>=1.0->checklist) (5.3.1)\n",
            "Requirement already satisfied: jupyterlab-widgets>=1.0.0; python_version >= \"3.6\" in /usr/local/lib/python3.7/dist-packages (from ipywidgets>=7.5->checklist) (1.0.0)\n",
            "Requirement already satisfied: nbformat>=4.2.0 in /usr/local/lib/python3.7/dist-packages (from ipywidgets>=7.5->checklist) (5.1.2)\n",
            "Requirement already satisfied: ipython>=4.0.0; python_version >= \"3.3\" in /usr/local/lib/python3.7/dist-packages (from ipywidgets>=7.5->checklist) (5.5.0)\n",
            "Requirement already satisfied: widgetsnbextension~=3.5.0 in /usr/local/lib/python3.7/dist-packages (from ipywidgets>=7.5->checklist) (3.5.1)\n",
            "Requirement already satisfied: traitlets>=4.3.1 in /usr/local/lib/python3.7/dist-packages (from ipywidgets>=7.5->checklist) (5.0.5)\n",
            "Requirement already satisfied: packaging in /usr/local/lib/python3.7/dist-packages (from transformers>=2.8->checklist) (20.9)\n",
            "Requirement already satisfied: sacremoses in /usr/local/lib/python3.7/dist-packages (from transformers>=2.8->checklist) (0.0.44)\n",
            "Requirement already satisfied: importlib-metadata; python_version < \"3.8\" in /usr/local/lib/python3.7/dist-packages (from transformers>=2.8->checklist) (3.8.1)\n",
            "Requirement already satisfied: filelock in /usr/local/lib/python3.7/dist-packages (from transformers>=2.8->checklist) (3.0.12)\n",
            "Requirement already satisfied: tokenizers<0.11,>=0.10.1 in /usr/local/lib/python3.7/dist-packages (from transformers>=2.8->checklist) (0.10.1)\n",
            "Requirement already satisfied: regex!=2019.12.17 in /usr/local/lib/python3.7/dist-packages (from transformers>=2.8->checklist) (2019.12.20)\n",
            "Requirement already satisfied: future in /usr/local/lib/python3.7/dist-packages (from patternfork-nosql->checklist) (0.16.0)\n",
            "Collecting backports.csv\n",
            "  Downloading https://files.pythonhosted.org/packages/8e/26/a6bd68f13e0f38fbb643d6e497fc3462be83a0b6c4d43425c78bb51a7291/backports.csv-1.0.7-py2.py3-none-any.whl\n",
            "Requirement already satisfied: beautifulsoup4 in /usr/local/lib/python3.7/dist-packages (from patternfork-nosql->checklist) (4.6.3)\n",
            "Requirement already satisfied: lxml in /usr/local/lib/python3.7/dist-packages (from patternfork-nosql->checklist) (4.2.6)\n",
            "Collecting feedparser\n",
            "\u001b[?25l  Downloading https://files.pythonhosted.org/packages/1c/21/faf1bac028662cc8adb2b5ef7a6f3999a765baa2835331df365289b0ca56/feedparser-6.0.2-py3-none-any.whl (80kB)\n",
            "\u001b[K     |████████████████████████████████| 81kB 10.9MB/s \n",
            "\u001b[?25hCollecting pdfminer.six\n",
            "\u001b[?25l  Downloading https://files.pythonhosted.org/packages/93/f3/4fec7dabe8802ebec46141345bf714cd1fc7d93cb74ddde917e4b6d97d88/pdfminer.six-20201018-py3-none-any.whl (5.6MB)\n",
            "\u001b[K     |████████████████████████████████| 5.6MB 52.3MB/s \n",
            "\u001b[?25hRequirement already satisfied: scipy in /usr/local/lib/python3.7/dist-packages (from patternfork-nosql->checklist) (1.4.1)\n",
            "Requirement already satisfied: nltk in /usr/local/lib/python3.7/dist-packages (from patternfork-nosql->checklist) (3.2.5)\n",
            "Collecting python-docx\n",
            "\u001b[?25l  Downloading https://files.pythonhosted.org/packages/e4/83/c66a1934ed5ed8ab1dbb9931f1779079f8bca0f6bbc5793c06c4b5e7d671/python-docx-0.8.10.tar.gz (5.5MB)\n",
            "\u001b[K     |████████████████████████████████| 5.5MB 57.1MB/s \n",
            "\u001b[?25hCollecting cherrypy\n",
            "\u001b[?25l  Downloading https://files.pythonhosted.org/packages/a8/f9/e11f893dcabe6bc222a1442bf5e14f0322a2d363c92910ed41947078a35a/CherryPy-18.6.0-py2.py3-none-any.whl (419kB)\n",
            "\u001b[K     |████████████████████████████████| 419kB 51.1MB/s \n",
            "\u001b[?25hRequirement already satisfied: chardet<4,>=3.0.2 in /usr/local/lib/python3.7/dist-packages (from requests<3.0.0,>=2.13.0->spacy>=2.2->checklist) (3.0.4)\n",
            "Requirement already satisfied: idna<3,>=2.5 in /usr/local/lib/python3.7/dist-packages (from requests<3.0.0,>=2.13.0->spacy>=2.2->checklist) (2.10)\n",
            "Requirement already satisfied: certifi>=2017.4.17 in /usr/local/lib/python3.7/dist-packages (from requests<3.0.0,>=2.13.0->spacy>=2.2->checklist) (2020.12.5)\n",
            "Requirement already satisfied: urllib3!=1.25.0,!=1.25.1,<1.26,>=1.21.1 in /usr/local/lib/python3.7/dist-packages (from requests<3.0.0,>=2.13.0->spacy>=2.2->checklist) (1.24.3)\n",
            "Requirement already satisfied: ipython-genutils in /usr/local/lib/python3.7/dist-packages (from qtconsole->jupyter>=1.0->checklist) (0.2.0)\n",
            "Requirement already satisfied: jupyter-client>=4.1 in /usr/local/lib/python3.7/dist-packages (from qtconsole->jupyter>=1.0->checklist) (5.3.5)\n",
            "Requirement already satisfied: pygments in /usr/local/lib/python3.7/dist-packages (from qtconsole->jupyter>=1.0->checklist) (2.6.1)\n",
            "Requirement already satisfied: qtpy in /usr/local/lib/python3.7/dist-packages (from qtconsole->jupyter>=1.0->checklist) (1.9.0)\n",
            "Requirement already satisfied: pyzmq>=17.1 in /usr/local/lib/python3.7/dist-packages (from qtconsole->jupyter>=1.0->checklist) (22.0.3)\n",
            "Requirement already satisfied: jupyter-core in /usr/local/lib/python3.7/dist-packages (from qtconsole->jupyter>=1.0->checklist) (4.7.1)\n",
            "Requirement already satisfied: prompt-toolkit<2.0.0,>=1.0.0 in /usr/local/lib/python3.7/dist-packages (from jupyter-console->jupyter>=1.0->checklist) (1.0.18)\n",
            "Requirement already satisfied: tornado>=4.0 in /usr/local/lib/python3.7/dist-packages (from ipykernel->jupyter>=1.0->checklist) (5.1.1)\n",
            "Requirement already satisfied: entrypoints>=0.2.2 in /usr/local/lib/python3.7/dist-packages (from nbconvert->jupyter>=1.0->checklist) (0.3)\n",
            "Requirement already satisfied: mistune<2,>=0.8.1 in /usr/local/lib/python3.7/dist-packages (from nbconvert->jupyter>=1.0->checklist) (0.8.4)\n",
            "Requirement already satisfied: bleach in /usr/local/lib/python3.7/dist-packages (from nbconvert->jupyter>=1.0->checklist) (3.3.0)\n",
            "Requirement already satisfied: defusedxml in /usr/local/lib/python3.7/dist-packages (from nbconvert->jupyter>=1.0->checklist) (0.7.1)\n",
            "Requirement already satisfied: pandocfilters>=1.4.1 in /usr/local/lib/python3.7/dist-packages (from nbconvert->jupyter>=1.0->checklist) (1.4.3)\n",
            "Requirement already satisfied: testpath in /usr/local/lib/python3.7/dist-packages (from nbconvert->jupyter>=1.0->checklist) (0.4.4)\n",
            "Requirement already satisfied: jinja2>=2.4 in /usr/local/lib/python3.7/dist-packages (from nbconvert->jupyter>=1.0->checklist) (2.11.3)\n",
            "Requirement already satisfied: terminado>=0.8.1 in /usr/local/lib/python3.7/dist-packages (from notebook->jupyter>=1.0->checklist) (0.9.3)\n",
            "Requirement already satisfied: Send2Trash in /usr/local/lib/python3.7/dist-packages (from notebook->jupyter>=1.0->checklist) (1.5.0)\n",
            "Requirement already satisfied: jsonschema!=2.5.0,>=2.4 in /usr/local/lib/python3.7/dist-packages (from nbformat>=4.2.0->ipywidgets>=7.5->checklist) (2.6.0)\n",
            "Requirement already satisfied: pickleshare in /usr/local/lib/python3.7/dist-packages (from ipython>=4.0.0; python_version >= \"3.3\"->ipywidgets>=7.5->checklist) (0.7.5)\n",
            "Requirement already satisfied: pexpect; sys_platform != \"win32\" in /usr/local/lib/python3.7/dist-packages (from ipython>=4.0.0; python_version >= \"3.3\"->ipywidgets>=7.5->checklist) (4.8.0)\n",
            "Requirement already satisfied: simplegeneric>0.8 in /usr/local/lib/python3.7/dist-packages (from ipython>=4.0.0; python_version >= \"3.3\"->ipywidgets>=7.5->checklist) (0.8.1)\n",
            "Requirement already satisfied: decorator in /usr/local/lib/python3.7/dist-packages (from ipython>=4.0.0; python_version >= \"3.3\"->ipywidgets>=7.5->checklist) (4.4.2)\n",
            "Requirement already satisfied: pyparsing>=2.0.2 in /usr/local/lib/python3.7/dist-packages (from packaging->transformers>=2.8->checklist) (2.4.7)\n",
            "Requirement already satisfied: click in /usr/local/lib/python3.7/dist-packages (from sacremoses->transformers>=2.8->checklist) (7.1.2)\n",
            "Requirement already satisfied: joblib in /usr/local/lib/python3.7/dist-packages (from sacremoses->transformers>=2.8->checklist) (1.0.1)\n",
            "Requirement already satisfied: typing-extensions>=3.6.4; python_version < \"3.8\" in /usr/local/lib/python3.7/dist-packages (from importlib-metadata; python_version < \"3.8\"->transformers>=2.8->checklist) (3.7.4.3)\n",
            "Requirement already satisfied: zipp>=0.5 in /usr/local/lib/python3.7/dist-packages (from importlib-metadata; python_version < \"3.8\"->transformers>=2.8->checklist) (3.4.1)\n",
            "Collecting sgmllib3k\n",
            "  Downloading https://files.pythonhosted.org/packages/9e/bd/3704a8c3e0942d711c1299ebf7b9091930adae6675d7c8f476a7ce48653c/sgmllib3k-1.0.0.tar.gz\n",
            "Collecting cryptography\n",
            "\u001b[?25l  Downloading https://files.pythonhosted.org/packages/b2/26/7af637e6a7e87258b963f1731c5982fb31cd507f0d90d91836e446955d02/cryptography-3.4.7-cp36-abi3-manylinux2014_x86_64.whl (3.2MB)\n",
            "\u001b[K     |████████████████████████████████| 3.2MB 42.4MB/s \n",
            "\u001b[?25hRequirement already satisfied: sortedcontainers in /usr/local/lib/python3.7/dist-packages (from pdfminer.six->patternfork-nosql->checklist) (2.3.0)\n",
            "Collecting cheroot>=8.2.1\n",
            "\u001b[?25l  Downloading https://files.pythonhosted.org/packages/46/95/86fe6480af78fea7b0e7e1bf02e6acd4cb9e561ea200bd6d6e1398fe5426/cheroot-8.5.2-py2.py3-none-any.whl (97kB)\n",
            "\u001b[K     |████████████████████████████████| 102kB 12.1MB/s \n",
            "\u001b[?25hCollecting jaraco.collections\n",
            "  Downloading https://files.pythonhosted.org/packages/d5/1a/a0d6861d2aca6df92643c755966c8a60e40353e4c5e7a5c2f4e5ed733817/jaraco.collections-3.3.0-py3-none-any.whl\n",
            "Collecting portend>=2.1.1\n",
            "  Downloading https://files.pythonhosted.org/packages/b8/a1/fd29409cced540facdd29abb986d988cb1f22c8170d10022ea73af77fa55/portend-2.7.1-py3-none-any.whl\n",
            "Requirement already satisfied: more-itertools in /usr/local/lib/python3.7/dist-packages (from cherrypy->patternfork-nosql->checklist) (8.7.0)\n",
            "Collecting zc.lockfile\n",
            "  Downloading https://files.pythonhosted.org/packages/6c/2a/268389776288f0f26c7272c70c36c96dcc0bdb88ab6216ea18e19df1fadd/zc.lockfile-2.0-py2.py3-none-any.whl\n",
            "Requirement already satisfied: python-dateutil>=2.1 in /usr/local/lib/python3.7/dist-packages (from jupyter-client>=4.1->qtconsole->jupyter>=1.0->checklist) (2.8.1)\n",
            "Requirement already satisfied: wcwidth in /usr/local/lib/python3.7/dist-packages (from prompt-toolkit<2.0.0,>=1.0.0->jupyter-console->jupyter>=1.0->checklist) (0.2.5)\n",
            "Requirement already satisfied: webencodings in /usr/local/lib/python3.7/dist-packages (from bleach->nbconvert->jupyter>=1.0->checklist) (0.5.1)\n",
            "Requirement already satisfied: MarkupSafe>=0.23 in /usr/local/lib/python3.7/dist-packages (from jinja2>=2.4->nbconvert->jupyter>=1.0->checklist) (1.1.1)\n",
            "Requirement already satisfied: ptyprocess; os_name != \"nt\" in /usr/local/lib/python3.7/dist-packages (from terminado>=0.8.1->notebook->jupyter>=1.0->checklist) (0.7.0)\n",
            "Requirement already satisfied: cffi>=1.12 in /usr/local/lib/python3.7/dist-packages (from cryptography->pdfminer.six->patternfork-nosql->checklist) (1.14.5)\n",
            "Collecting jaraco.functools\n",
            "  Downloading https://files.pythonhosted.org/packages/b5/da/e51e7b58c8fe132990edd1e3ef25bcd9801eb7f91d0f642ac7f8d97e4a36/jaraco.functools-3.3.0-py3-none-any.whl\n",
            "Collecting jaraco.text\n",
            "  Downloading https://files.pythonhosted.org/packages/c1/74/2a3c4835c079df16db8a9c50263eebb0125849fee5b16de353a059b7545d/jaraco.text-3.5.0-py3-none-any.whl\n",
            "Collecting jaraco.classes\n",
            "  Downloading https://files.pythonhosted.org/packages/b8/74/bee5fc11594974746535117546404678fc7b899476e769c3c55bc0cfaa02/jaraco.classes-3.2.1-py3-none-any.whl\n",
            "Collecting tempora>=1.8\n",
            "  Downloading https://files.pythonhosted.org/packages/44/83/4d5c3de53bbc463f30ab6764e27bc2e8ed9b59736e8b40d95403ff802008/tempora-4.0.2-py3-none-any.whl\n",
            "Requirement already satisfied: pycparser in /usr/local/lib/python3.7/dist-packages (from cffi>=1.12->cryptography->pdfminer.six->patternfork-nosql->checklist) (2.20)\n",
            "Requirement already satisfied: pytz in /usr/local/lib/python3.7/dist-packages (from tempora>=1.8->portend>=2.1.1->cherrypy->patternfork-nosql->checklist) (2018.9)\n",
            "Building wheels for collected packages: checklist, patternfork-nosql, iso-639, python-docx, sgmllib3k\n",
            "  Building wheel for checklist (setup.py) ... \u001b[?25l\u001b[?25hdone\n",
            "  Created wheel for checklist: filename=checklist-0.0.10-cp37-none-any.whl size=12164434 sha256=778ea9166bff4db74b0add99ba9c6083f10416d68dd8b8c16964d744d6eee04a\n",
            "  Stored in directory: /root/.cache/pip/wheels/c6/a2/02/f075a28620a8370dd79df36bb486095d465e7870623cea6b4e\n",
            "  Building wheel for patternfork-nosql (setup.py) ... \u001b[?25l\u001b[?25hdone\n",
            "  Created wheel for patternfork-nosql: filename=patternfork_nosql-3.6-cp37-none-any.whl size=22332807 sha256=c6e54fd57ca87f2902dd87abe35b581a138ce1b9e6710e38db675dfae2f0a56f\n",
            "  Stored in directory: /root/.cache/pip/wheels/dc/0d/ae/060a851f2104f4cc79380cc57d89f29d77a239597eeecfcf4d\n",
            "  Building wheel for iso-639 (setup.py) ... \u001b[?25l\u001b[?25hdone\n",
            "  Created wheel for iso-639: filename=iso_639-0.4.5-cp37-none-any.whl size=169063 sha256=972f88d3f3bc026beca806fb23e91414a89b56bb61f3d978847081e19dbe57e1\n",
            "  Stored in directory: /root/.cache/pip/wheels/52/60/07/73aed7d23ae9b5729970632922ed5e45b535bcd4b8df77ebe9\n",
            "  Building wheel for python-docx (setup.py) ... \u001b[?25l\u001b[?25hdone\n",
            "  Created wheel for python-docx: filename=python_docx-0.8.10-cp37-none-any.whl size=184491 sha256=ca79a4802935467b685018ba9fa6565c36f9fd79bf628e776e2277c7ac1e7601\n",
            "  Stored in directory: /root/.cache/pip/wheels/18/0b/a0/1dd62ff812c857c9e487f27d80d53d2b40531bec1acecfa47b\n",
            "  Building wheel for sgmllib3k (setup.py) ... \u001b[?25l\u001b[?25hdone\n",
            "  Created wheel for sgmllib3k: filename=sgmllib3k-1.0.0-cp37-none-any.whl size=6067 sha256=377ea1e84983123ec9789bb0adb28276a1b70a14a260c1a2c94039d745cfe338\n",
            "  Stored in directory: /root/.cache/pip/wheels/f1/80/5a/444ba08a550cdd241bd9baf8bae44be750efe370adb944506a\n",
            "Successfully built checklist patternfork-nosql iso-639 python-docx sgmllib3k\n",
            "Installing collected packages: munch, backports.csv, sgmllib3k, feedparser, cryptography, pdfminer.six, python-docx, jaraco.functools, cheroot, jaraco.text, jaraco.classes, jaraco.collections, tempora, portend, zc.lockfile, cherrypy, patternfork-nosql, iso-639, checklist\n",
            "Successfully installed backports.csv-1.0.7 checklist-0.0.10 cheroot-8.5.2 cherrypy-18.6.0 cryptography-3.4.7 feedparser-6.0.2 iso-639-0.4.5 jaraco.classes-3.2.1 jaraco.collections-3.3.0 jaraco.functools-3.3.0 jaraco.text-3.5.0 munch-2.5.0 patternfork-nosql-3.6 pdfminer.six-20201018 portend-2.7.1 python-docx-0.8.10 sgmllib3k-1.0.0 tempora-4.0.2 zc.lockfile-2.0\n"
          ],
          "name": "stdout"
        },
        {
          "output_type": "execute_result",
          "data": {
            "text/plain": [
              ""
            ]
          },
          "metadata": {
            "tags": []
          },
          "execution_count": 56
        }
      ]
    },
    {
      "cell_type": "code",
      "metadata": {
        "id": "AuJlrxg2c2G0"
      },
      "source": [
        "import checklist\n",
        "from checklist.editor import Editor\n",
        "from checklist.perturb import Perturb"
      ],
      "execution_count": null,
      "outputs": []
    },
    {
      "cell_type": "code",
      "metadata": {
        "id": "S2l9mGvGdA4G"
      },
      "source": [
        "test_set = pd.read_json('/content/drive/MyDrive/COMP0087/data/test.jsonl', orient='records', lines=True)"
      ],
      "execution_count": null,
      "outputs": []
    },
    {
      "cell_type": "code",
      "metadata": {
        "id": "ImA_ViRHe4Ul"
      },
      "source": [
        "sample = []\n",
        "for row in test_set.head(10).itertuples():\n",
        "  sample.append(row[3])"
      ],
      "execution_count": null,
      "outputs": []
    },
    {
      "cell_type": "code",
      "metadata": {
        "colab": {
          "base_uri": "https://localhost:8080/",
          "height": 612
        },
        "id": "J43GKSRLf7UQ",
        "outputId": "2cc347d9-43ad-4465-e98b-fe5d754df559"
      },
      "source": [
        "for sentence in sample:\n",
        "  result = predictor_with_input_red.predict(sentence)\n",
        "  tokens = result['prediction']['tokens']\n",
        "\n",
        "  grad = SimpleGradient(predictor).saliency_interpret_from_json({'Description':sentence})\n",
        "  gradient_list = grad['instance_1']['grad_input_1']\n",
        "  max_alpha = 0.4 \n",
        "  highlighted_text = []\n",
        "  for i in range(len(tokens)):\n",
        "      weight = gradient_list[i]\n",
        "      highlighted_text.append('<span style=\"background-color:rgba(135,206,250,' + str(weight / max_alpha) + ');\">' + html_escape(tokens[i]) + '</span>')\n",
        "  highlighted_text = ' '.join(highlighted_text)\n",
        "  print(display(HTML(highlighted_text)))"
      ],
      "execution_count": null,
      "outputs": [
        {
          "output_type": "display_data",
          "data": {
            "text/html": [
              "<span style=\"background-color:rgba(135,206,250,0.04084868835213159);\">Unions</span> <span style=\"background-color:rgba(135,206,250,0.018092676762375314);\">representing</span> <span style=\"background-color:rgba(135,206,250,0.007240049264278705);\">workers</span> <span style=\"background-color:rgba(135,206,250,0.00837113875065371);\">at</span> <span style=\"background-color:rgba(135,206,250,0.13170738281923597);\">Turner</span> <span style=\"background-color:rgba(135,206,250,1.1236717960929865);\">Newall</span> <span style=\"background-color:rgba(135,206,250,0.07365823856098498);\">say</span> <span style=\"background-color:rgba(135,206,250,0.03687658678074653);\">they</span> <span style=\"background-color:rgba(135,206,250,0.04191140704644762);\">are</span> <span style=\"background-color:rgba(135,206,250,0.04718937107453646);\">&#x27;</span> <span style=\"background-color:rgba(135,206,250,0.059580428475347134);\">disappointed</span> <span style=\"background-color:rgba(135,206,250,0.044119775986838056);\">&#x27;</span> <span style=\"background-color:rgba(135,206,250,0.015126427860096967);\">after</span> <span style=\"background-color:rgba(135,206,250,0.06988608337212393);\">talks</span> <span style=\"background-color:rgba(135,206,250,0.0037889850765025945);\">with</span> <span style=\"background-color:rgba(135,206,250,0.05108526452902649);\">stricken</span> <span style=\"background-color:rgba(135,206,250,0.002407341765536727);\">parent</span> <span style=\"background-color:rgba(135,206,250,0.027864432542618767);\">firm</span> <span style=\"background-color:rgba(135,206,250,0.010464466287395509);\">Federal</span> <span style=\"background-color:rgba(135,206,250,0.5793717789258997);\">Mogul</span> <span style=\"background-color:rgba(135,206,250,0.10673780371822678);\">.</span>"
            ],
            "text/plain": [
              "<IPython.core.display.HTML object>"
            ]
          },
          "metadata": {
            "tags": []
          }
        },
        {
          "output_type": "stream",
          "text": [
            "None\n"
          ],
          "name": "stdout"
        },
        {
          "output_type": "display_data",
          "data": {
            "text/html": [
              "<span style=\"background-color:rgba(135,206,250,0.061326903769198894);\">SPACE.com</span> <span style=\"background-color:rgba(135,206,250,0.030130738117221115);\">-</span> <span style=\"background-color:rgba(135,206,250,0.021219820535264267);\">TORONTO</span> <span style=\"background-color:rgba(135,206,250,0.0016312399498940842);\">,</span> <span style=\"background-color:rgba(135,206,250,0.01950891682054782);\">Canada</span> <span style=\"background-color:rgba(135,206,250,0.029336127095556386);\">--</span> <span style=\"background-color:rgba(135,206,250,0.024250203524453874);\">A</span> <span style=\"background-color:rgba(135,206,250,0.2389779541145683);\">@@UNKNOWN@@</span> <span style=\"background-color:rgba(135,206,250,0.009447284356844788);\">of</span> <span style=\"background-color:rgba(135,206,250,0.2514982392976742);\">rocketeers</span> <span style=\"background-color:rgba(135,206,250,0.005495566630913027);\">competing</span> <span style=\"background-color:rgba(135,206,250,0.005069771865398309);\">for</span> <span style=\"background-color:rgba(135,206,250,0.0012744240555030409);\">the</span> <span style=\"background-color:rgba(135,206,250,0.0013114323233827008);\">#</span> <span style=\"background-color:rgba(135,206,250,0.04799223350459805);\">36;10</span> <span style=\"background-color:rgba(135,206,250,0.02402325287904986);\">million</span> <span style=\"background-color:rgba(135,206,250,0.33080837267429447);\">Ansari</span> <span style=\"background-color:rgba(135,206,250,0.08143784953965694);\">X</span> <span style=\"background-color:rgba(135,206,250,0.02865483900548681);\">Prize</span> <span style=\"background-color:rgba(135,206,250,0.014999798843738957);\">,</span> <span style=\"background-color:rgba(135,206,250,0.00964336967243493);\">a</span> <span style=\"background-color:rgba(135,206,250,0.07123592704912299);\">contest</span> <span style=\"background-color:rgba(135,206,250,0.1344577494219928);\">@@UNKNOWN@@</span> <span style=\"background-color:rgba(135,206,250,0.08657188140673233);\">funded</span> <span style=\"background-color:rgba(135,206,250,0.09048138942349947);\">suborbital</span> <span style=\"background-color:rgba(135,206,250,0.00025881615133295906);\">space</span> <span style=\"background-color:rgba(135,206,250,0.009239635709164171);\">flight</span> <span style=\"background-color:rgba(135,206,250,0.01318136130786574);\">,</span> <span style=\"background-color:rgba(135,206,250,0.007617881667766032);\">has</span> <span style=\"background-color:rgba(135,206,250,0.029722936012046224);\">officially</span> <span style=\"background-color:rgba(135,206,250,0.009473225001636715);\">announced</span> <span style=\"background-color:rgba(135,206,250,0.01351892862900188);\">the</span> <span style=\"background-color:rgba(135,206,250,0.050455175070266665);\">@@UNKNOWN@@</span> <span style=\"background-color:rgba(135,206,250,0.004247409897689585);\">date</span> <span style=\"background-color:rgba(135,206,250,0.0019965091716605174);\">for</span> <span style=\"background-color:rgba(135,206,250,0.036422529013585184);\">its</span> <span style=\"background-color:rgba(135,206,250,0.15882838746302816);\">manned</span> <span style=\"background-color:rgba(135,206,250,0.2961257542343848);\">rocket</span> <span style=\"background-color:rgba(135,206,250,0.24812640914480044);\">.</span>"
            ],
            "text/plain": [
              "<IPython.core.display.HTML object>"
            ]
          },
          "metadata": {
            "tags": []
          }
        },
        {
          "output_type": "stream",
          "text": [
            "None\n"
          ],
          "name": "stdout"
        },
        {
          "output_type": "display_data",
          "data": {
            "text/html": [
              "<span style=\"background-color:rgba(135,206,250,0.08356324937814444);\">AP</span> <span style=\"background-color:rgba(135,206,250,0.04445977291824479);\">-</span> <span style=\"background-color:rgba(135,206,250,0.019249139384019145);\">A</span> <span style=\"background-color:rgba(135,206,250,0.061059598280043835);\">company</span> <span style=\"background-color:rgba(135,206,250,0.10182698271065879);\">founded</span> <span style=\"background-color:rgba(135,206,250,0.053684230149357845);\">by</span> <span style=\"background-color:rgba(135,206,250,0.024047694963314364);\">a</span> <span style=\"background-color:rgba(135,206,250,0.11770621525203376);\">chemistry</span> <span style=\"background-color:rgba(135,206,250,0.2477725847573116);\">researcher</span> <span style=\"background-color:rgba(135,206,250,0.04568166700429679);\">at</span> <span style=\"background-color:rgba(135,206,250,0.016795316755416796);\">the</span> <span style=\"background-color:rgba(135,206,250,0.1634278810574518);\">University</span> <span style=\"background-color:rgba(135,206,250,0.0658246174724364);\">of</span> <span style=\"background-color:rgba(135,206,250,0.09339075614261036);\">Louisville</span> <span style=\"background-color:rgba(135,206,250,0.02378687757613985);\">won</span> <span style=\"background-color:rgba(135,206,250,0.019304103539926995);\">a</span> <span style=\"background-color:rgba(135,206,250,0.035743321539336195);\">grant</span> <span style=\"background-color:rgba(135,206,250,0.022950842538083417);\">to</span> <span style=\"background-color:rgba(135,206,250,0.031715537789966775);\">develop</span> <span style=\"background-color:rgba(135,206,250,0.002838786423691325);\">a</span> <span style=\"background-color:rgba(135,206,250,0.08510941225149025);\">method</span> <span style=\"background-color:rgba(135,206,250,0.02673624090752222);\">of</span> <span style=\"background-color:rgba(135,206,250,0.006333870588523748);\">producing</span> <span style=\"background-color:rgba(135,206,250,0.002546033117396434);\">better</span> <span style=\"background-color:rgba(135,206,250,0.13036228618799842);\">peptides</span> <span style=\"background-color:rgba(135,206,250,0.018051536530871427);\">,</span> <span style=\"background-color:rgba(135,206,250,0.05600773938368046);\">which</span> <span style=\"background-color:rgba(135,206,250,0.038373107051691675);\">are</span> <span style=\"background-color:rgba(135,206,250,0.06264969749766423);\">short</span> <span style=\"background-color:rgba(135,206,250,0.051746380395069146);\">chains</span> <span style=\"background-color:rgba(135,206,250,0.008839402060805683);\">of</span> <span style=\"background-color:rgba(135,206,250,0.12542064262254163);\">amino</span> <span style=\"background-color:rgba(135,206,250,0.0984699715460754);\">acids</span> <span style=\"background-color:rgba(135,206,250,0.03177659885921966);\">,</span> <span style=\"background-color:rgba(135,206,250,0.039872656230805596);\">the</span> <span style=\"background-color:rgba(135,206,250,0.054561311159750006);\">building</span> <span style=\"background-color:rgba(135,206,250,0.061557038241964436);\">blocks</span> <span style=\"background-color:rgba(135,206,250,0.031143046820448432);\">of</span> <span style=\"background-color:rgba(135,206,250,0.1379937201945025);\">proteins</span> <span style=\"background-color:rgba(135,206,250,0.15762013944650322);\">.</span>"
            ],
            "text/plain": [
              "<IPython.core.display.HTML object>"
            ]
          },
          "metadata": {
            "tags": []
          }
        },
        {
          "output_type": "stream",
          "text": [
            "None\n"
          ],
          "name": "stdout"
        },
        {
          "output_type": "display_data",
          "data": {
            "text/html": [
              "<span style=\"background-color:rgba(135,206,250,0.044793809890171066);\">AP</span> <span style=\"background-color:rgba(135,206,250,0.004929474587874903);\">-</span> <span style=\"background-color:rgba(135,206,250,0.058496761047070155);\">It</span> <span style=\"background-color:rgba(135,206,250,0.02934570914395057);\">&#x27;s</span> <span style=\"background-color:rgba(135,206,250,0.012066087134747135);\">barely</span> <span style=\"background-color:rgba(135,206,250,0.14786206738991978);\">dawn</span> <span style=\"background-color:rgba(135,206,250,0.09301588584924779);\">when</span> <span style=\"background-color:rgba(135,206,250,0.11639957824697438);\">Mike</span> <span style=\"background-color:rgba(135,206,250,0.0538216290451928);\">Fitzpatrick</span> <span style=\"background-color:rgba(135,206,250,0.003615685615136842);\">starts</span> <span style=\"background-color:rgba(135,206,250,0.040271532529381725);\">his</span> <span style=\"background-color:rgba(135,206,250,0.004098646849846319);\">shift</span> <span style=\"background-color:rgba(135,206,250,0.0051568814354469965);\">with</span> <span style=\"background-color:rgba(135,206,250,0.002650848105618975);\">a</span> <span style=\"background-color:rgba(135,206,250,0.020279887819732802);\">blur</span> <span style=\"background-color:rgba(135,206,250,0.0053733665847777775);\">of</span> <span style=\"background-color:rgba(135,206,250,0.060359091646392686);\">colorful</span> <span style=\"background-color:rgba(135,206,250,0.2575798948513197);\">maps</span> <span style=\"background-color:rgba(135,206,250,0.07813968047145511);\">,</span> <span style=\"background-color:rgba(135,206,250,0.0013047439907617826);\">figures</span> <span style=\"background-color:rgba(135,206,250,0.014636395860379124);\">and</span> <span style=\"background-color:rgba(135,206,250,0.09009177177998162);\">endless</span> <span style=\"background-color:rgba(135,206,250,0.07063006389105242);\">charts</span> <span style=\"background-color:rgba(135,206,250,0.036736751864033634);\">,</span> <span style=\"background-color:rgba(135,206,250,0.021928597478412495);\">but</span> <span style=\"background-color:rgba(135,206,250,0.07126294773147852);\">already</span> <span style=\"background-color:rgba(135,206,250,0.01985334663615334);\">he</span> <span style=\"background-color:rgba(135,206,250,0.07355216131813967);\">knows</span> <span style=\"background-color:rgba(135,206,250,0.02144280461318588);\">what</span> <span style=\"background-color:rgba(135,206,250,0.011230584162175546);\">the</span> <span style=\"background-color:rgba(135,206,250,0.032167816153848006);\">day</span> <span style=\"background-color:rgba(135,206,250,0.03100851393514785);\">will</span> <span style=\"background-color:rgba(135,206,250,0.027896822235411897);\">bring</span> <span style=\"background-color:rgba(135,206,250,0.0002807223592460323);\">.</span> <span style=\"background-color:rgba(135,206,250,0.08162542938755438);\">Lightning</span> <span style=\"background-color:rgba(135,206,250,0.03550004818407593);\">will</span> <span style=\"background-color:rgba(135,206,250,0.0624764719382395);\">strike</span> <span style=\"background-color:rgba(135,206,250,0.009738578709421195);\">in</span> <span style=\"background-color:rgba(135,206,250,0.050768795952780985);\">places</span> <span style=\"background-color:rgba(135,206,250,0.02322898133497173);\">he</span> <span style=\"background-color:rgba(135,206,250,0.09814356602822827);\">expects</span> <span style=\"background-color:rgba(135,206,250,0.008761915590939596);\">.</span> <span style=\"background-color:rgba(135,206,250,0.07581647450094736);\">Winds</span> <span style=\"background-color:rgba(135,206,250,0.015135162314538646);\">will</span> <span style=\"background-color:rgba(135,206,250,0.0024213928387997142);\">pick</span> <span style=\"background-color:rgba(135,206,250,0.0017284954681914414);\">up</span> <span style=\"background-color:rgba(135,206,250,0.008177603666892604);\">,</span> <span style=\"background-color:rgba(135,206,250,0.1037497800151006);\">moist</span> <span style=\"background-color:rgba(135,206,250,0.055889657146766594);\">places</span> <span style=\"background-color:rgba(135,206,250,0.03773893757602399);\">will</span> <span style=\"background-color:rgba(135,206,250,0.06719323136543327);\">dry</span> <span style=\"background-color:rgba(135,206,250,0.0568429820113877);\">and</span> <span style=\"background-color:rgba(135,206,250,0.06133241203092355);\">flames</span> <span style=\"background-color:rgba(135,206,250,0.07944320892259844);\">will</span> <span style=\"background-color:rgba(135,206,250,0.0005901861420888618);\">roar</span> <span style=\"background-color:rgba(135,206,250,0.0014161079280370194);\">.</span>"
            ],
            "text/plain": [
              "<IPython.core.display.HTML object>"
            ]
          },
          "metadata": {
            "tags": []
          }
        },
        {
          "output_type": "stream",
          "text": [
            "None\n"
          ],
          "name": "stdout"
        },
        {
          "output_type": "display_data",
          "data": {
            "text/html": [
              "<span style=\"background-color:rgba(135,206,250,0.06025705099662722);\">AP</span> <span style=\"background-color:rgba(135,206,250,0.002237852077861088);\">-</span> <span style=\"background-color:rgba(135,206,250,0.08797372276144282);\">Southern</span> <span style=\"background-color:rgba(135,206,250,0.17678755804581858);\">California</span> <span style=\"background-color:rgba(135,206,250,0.020945667219915875);\">&#x27;s</span> <span style=\"background-color:rgba(135,206,250,0.17264468672831773);\">smog</span> <span style=\"background-color:rgba(135,206,250,0.0354720935396361);\">-</span> <span style=\"background-color:rgba(135,206,250,0.051957442875502156);\">fighting</span> <span style=\"background-color:rgba(135,206,250,0.018228359885684883);\">agency</span> <span style=\"background-color:rgba(135,206,250,0.00038153748223151545);\">went</span> <span style=\"background-color:rgba(135,206,250,0.052704731406285225);\">after</span> <span style=\"background-color:rgba(135,206,250,0.2289936145249569);\">emissions</span> <span style=\"background-color:rgba(135,206,250,0.041372965764624896);\">of</span> <span style=\"background-color:rgba(135,206,250,0.006791389868064081);\">the</span> <span style=\"background-color:rgba(135,206,250,0.09520049569058515);\">bovine</span> <span style=\"background-color:rgba(135,206,250,0.06827240985541788);\">variety</span> <span style=\"background-color:rgba(135,206,250,0.00231214967354012);\">Friday</span> <span style=\"background-color:rgba(135,206,250,0.04466710280961076);\">,</span> <span style=\"background-color:rgba(135,206,250,0.08514207784194833);\">adopting</span> <span style=\"background-color:rgba(135,206,250,0.043748898373533886);\">the</span> <span style=\"background-color:rgba(135,206,250,0.0008454701059901683);\">nation</span> <span style=\"background-color:rgba(135,206,250,0.009318661879126368);\">&#x27;s</span> <span style=\"background-color:rgba(135,206,250,0.02064007428464096);\">first</span> <span style=\"background-color:rgba(135,206,250,0.02094174716152293);\">rules</span> <span style=\"background-color:rgba(135,206,250,0.01363217892884585);\">to</span> <span style=\"background-color:rgba(135,206,250,0.03108417014532682);\">reduce</span> <span style=\"background-color:rgba(135,206,250,0.22074628744268496);\">air</span> <span style=\"background-color:rgba(135,206,250,0.2621398203450594);\">pollution</span> <span style=\"background-color:rgba(135,206,250,0.028396552962938023);\">from</span> <span style=\"background-color:rgba(135,206,250,0.11823921071606545);\">dairy</span> <span style=\"background-color:rgba(135,206,250,0.061875629003699896);\">cow</span> <span style=\"background-color:rgba(135,206,250,0.18947247958739444);\">manure</span> <span style=\"background-color:rgba(135,206,250,0.22657582717901498);\">.</span>"
            ],
            "text/plain": [
              "<IPython.core.display.HTML object>"
            ]
          },
          "metadata": {
            "tags": []
          }
        },
        {
          "output_type": "stream",
          "text": [
            "None\n"
          ],
          "name": "stdout"
        },
        {
          "output_type": "display_data",
          "data": {
            "text/html": [
              "<span style=\"background-color:rgba(135,206,250,0.013134322311431254);\">The</span> <span style=\"background-color:rgba(135,206,250,0.012539512023437172);\">British</span> <span style=\"background-color:rgba(135,206,250,0.005891672480195489);\">Department</span> <span style=\"background-color:rgba(135,206,250,0.004852320519602854);\">for</span> <span style=\"background-color:rgba(135,206,250,0.004364039709914963);\">Education</span> <span style=\"background-color:rgba(135,206,250,0.004084514172911725);\">and</span> <span style=\"background-color:rgba(135,206,250,0.0035922481717208013);\">Skills</span> <span style=\"background-color:rgba(135,206,250,0.020948814283407283);\">(</span> <span style=\"background-color:rgba(135,206,250,0.03006503322945067);\">@@UNKNOWN@@</span> <span style=\"background-color:rgba(135,206,250,0.00012807037220867015);\">)</span> <span style=\"background-color:rgba(135,206,250,0.0052304906458405);\">recently</span> <span style=\"background-color:rgba(135,206,250,0.010642196876651817);\">launched</span> <span style=\"background-color:rgba(135,206,250,0.003774623245242356);\">a</span> <span style=\"background-color:rgba(135,206,250,0.000776007893553827);\">&quot;</span> <span style=\"background-color:rgba(135,206,250,0.021836319109697654);\">Music</span> <span style=\"background-color:rgba(135,206,250,0.00893275850317592);\">@@UNKNOWN@@</span> <span style=\"background-color:rgba(135,206,250,0.00590670510248512);\">&quot;</span> <span style=\"background-color:rgba(135,206,250,0.01397653369889148);\">campaign</span> <span style=\"background-color:rgba(135,206,250,0.004594741972689922);\">,</span> <span style=\"background-color:rgba(135,206,250,0.003309788321445329);\">with</span> <span style=\"background-color:rgba(135,206,250,0.0010986364083822142);\">the</span> <span style=\"background-color:rgba(135,206,250,0.021726856051972738);\">ostensible</span> <span style=\"background-color:rgba(135,206,250,0.010144355056468159);\">intention</span> <span style=\"background-color:rgba(135,206,250,2.4089567153565908e-05);\">of</span> <span style=\"background-color:rgba(135,206,250,0.024529538019557953);\">educating</span> <span style=\"background-color:rgba(135,206,250,0.00219543102790986);\">the</span> <span style=\"background-color:rgba(135,206,250,0.0009623182565395201);\">next</span> <span style=\"background-color:rgba(135,206,250,0.0274074796003283);\">generation</span> <span style=\"background-color:rgba(135,206,250,0.0007268635584135561);\">of</span> <span style=\"background-color:rgba(135,206,250,0.023286833415844296);\">British</span> <span style=\"background-color:rgba(135,206,250,0.023924892626780957);\">musicians</span> <span style=\"background-color:rgba(135,206,250,0.013978142305792253);\">.</span> <span style=\"background-color:rgba(135,206,250,0.018979905855588373);\">Unfortunately</span> <span style=\"background-color:rgba(135,206,250,0.005208489350590224);\">,</span> <span style=\"background-color:rgba(135,206,250,0.004525392081845994);\">they</span> <span style=\"background-color:rgba(135,206,250,0.0002943529555042611);\">also</span> <span style=\"background-color:rgba(135,206,250,0.010204175125590633);\">teamed</span> <span style=\"background-color:rgba(135,206,250,0.005154987760215767);\">up</span> <span style=\"background-color:rgba(135,206,250,0.0008685285669528868);\">with</span> <span style=\"background-color:rgba(135,206,250,0.0007596055336819459);\">the</span> <span style=\"background-color:rgba(135,206,250,0.00024034876720500188);\">music</span> <span style=\"background-color:rgba(135,206,250,0.002437537190815421);\">industry</span> <span style=\"background-color:rgba(135,206,250,0.006172243758454932);\">(</span> <span style=\"background-color:rgba(135,206,250,0.021580375955338724);\">EMI</span> <span style=\"background-color:rgba(135,206,250,0.003870941151913398);\">,</span> <span style=\"background-color:rgba(135,206,250,0.0004922460954143797);\">and</span> <span style=\"background-color:rgba(135,206,250,0.00162193808369182);\">various</span> <span style=\"background-color:rgba(135,206,250,0.025915531924830554);\">artists</span> <span style=\"background-color:rgba(135,206,250,0.007266369444487027);\">)</span> <span style=\"background-color:rgba(135,206,250,0.0015674268943466798);\">to</span> <span style=\"background-color:rgba(135,206,250,0.004064471899614738);\">make</span> <span style=\"background-color:rgba(135,206,250,0.002258973568977665);\">this</span> <span style=\"background-color:rgba(135,206,250,0.004313019278268384);\">popular</span> <span style=\"background-color:rgba(135,206,250,0.016317034723909888);\">.</span> <span style=\"background-color:rgba(135,206,250,0.005987807657341763);\">EMI</span> <span style=\"background-color:rgba(135,206,250,0.0016263483598423297);\">has</span> <span style=\"background-color:rgba(135,206,250,0.002129543091014105);\">apparently</span> <span style=\"background-color:rgba(135,206,250,0.029084508067250495);\">negotiated</span> <span style=\"background-color:rgba(135,206,250,0.0037463647480124097);\">their</span> <span style=\"background-color:rgba(135,206,250,0.0013089276364698416);\">end</span> <span style=\"background-color:rgba(135,206,250,0.0006228833037485866);\">well</span> <span style=\"background-color:rgba(135,206,250,0.0018129621712557004);\">,</span> <span style=\"background-color:rgba(135,206,250,0.0003162193593056561);\">so</span> <span style=\"background-color:rgba(135,206,250,0.006870603712565157);\">that</span> <span style=\"background-color:rgba(135,206,250,0.014167745102564588);\">children</span> <span style=\"background-color:rgba(135,206,250,0.0007770529926882076);\">in</span> <span style=\"background-color:rgba(135,206,250,0.006058369507262618);\">our</span> <span style=\"background-color:rgba(135,206,250,0.007123909397397913);\">schools</span> <span style=\"background-color:rgba(135,206,250,0.006215687152578482);\">will</span> <span style=\"background-color:rgba(135,206,250,0.006202048485037034);\">now</span> <span style=\"background-color:rgba(135,206,250,0.02064057232458191);\">be</span> <span style=\"background-color:rgba(135,206,250,0.03974349551228264);\">indoctrinated</span> <span style=\"background-color:rgba(135,206,250,0.02027244498367139);\">about</span> <span style=\"background-color:rgba(135,206,250,0.01269091480943724);\">the</span> <span style=\"background-color:rgba(135,206,250,0.051946613488423894);\">@@UNKNOWN@@</span> <span style=\"background-color:rgba(135,206,250,0.04286582792540829);\">of</span> <span style=\"background-color:rgba(135,206,250,0.2822964210980992);\">downloading</span> <span style=\"background-color:rgba(135,206,250,0.03787770230930009);\">music</span> <span style=\"background-color:rgba(135,206,250,0.004343843327380219);\">.</span> <span style=\"background-color:rgba(135,206,250,0.021221251529327235);\">The</span> <span style=\"background-color:rgba(135,206,250,0.02990562263391537);\">ignorance</span> <span style=\"background-color:rgba(135,206,250,0.006122478216315799);\">and</span> <span style=\"background-color:rgba(135,206,250,0.07288940723760949);\">audacity</span> <span style=\"background-color:rgba(135,206,250,0.007804879958661104);\">of</span> <span style=\"background-color:rgba(135,206,250,0.000772980197422047);\">this</span> <span style=\"background-color:rgba(135,206,250,0.03738401263229371);\">got</span> <span style=\"background-color:rgba(135,206,250,0.008816034698792139);\">to</span> <span style=\"background-color:rgba(135,206,250,0.0221444700706874);\">me</span> <span style=\"background-color:rgba(135,206,250,0.01019208488896188);\">a</span> <span style=\"background-color:rgba(135,206,250,0.020393539619579352);\">little</span> <span style=\"background-color:rgba(135,206,250,0.03862310374130873);\">,</span> <span style=\"background-color:rgba(135,206,250,0.025279330830989134);\">so</span> <span style=\"background-color:rgba(135,206,250,0.009745770593202373);\">I</span> <span style=\"background-color:rgba(135,206,250,0.02021698914139148);\">wrote</span> <span style=\"background-color:rgba(135,206,250,0.011222730778401545);\">an</span> <span style=\"background-color:rgba(135,206,250,0.03120040735374856);\">open</span> <span style=\"background-color:rgba(135,206,250,0.003701718567980845);\">letter</span> <span style=\"background-color:rgba(135,206,250,0.0018824968097215578);\">to</span> <span style=\"background-color:rgba(135,206,250,0.005260158141815648);\">the</span> <span style=\"background-color:rgba(135,206,250,0.037816431411782175);\">@@UNKNOWN@@</span> <span style=\"background-color:rgba(135,206,250,0.009752789902055425);\">about</span> <span style=\"background-color:rgba(135,206,250,0.003508930846961545);\">it</span> <span style=\"background-color:rgba(135,206,250,0.02783926139496737);\">.</span> <span style=\"background-color:rgba(135,206,250,0.04648038524392811);\">Unfortunately</span> <span style=\"background-color:rgba(135,206,250,0.020013178940605027);\">,</span> <span style=\"background-color:rgba(135,206,250,0.0002906830458168067);\">it</span> <span style=\"background-color:rgba(135,206,250,0.052003302204605854);\">&#x27;s</span> <span style=\"background-color:rgba(135,206,250,0.041408095436106525);\">@@UNKNOWN@@</span> <span style=\"background-color:rgba(135,206,250,0.00011426539511480972);\">,</span> <span style=\"background-color:rgba(135,206,250,0.00651888973932922);\">as</span> <span style=\"background-color:rgba(135,206,250,0.005550136688259853);\">I</span> <span style=\"background-color:rgba(135,206,250,0.015769107401455377);\">suppose</span> <span style=\"background-color:rgba(135,206,250,0.005691003172445214);\">you</span> <span style=\"background-color:rgba(135,206,250,0.009418173247968299);\">have</span> <span style=\"background-color:rgba(135,206,250,0.0061704406803731815);\">to</span> <span style=\"background-color:rgba(135,206,250,0.004659687274748067);\">be</span> <span style=\"background-color:rgba(135,206,250,0.014163983369456304);\">when</span> <span style=\"background-color:rgba(135,206,250,0.006406911031761311);\">writing</span> <span style=\"background-color:rgba(135,206,250,0.012072522872652362);\">to</span> <span style=\"background-color:rgba(135,206,250,0.08471706520853707);\">goverment</span> <span style=\"background-color:rgba(135,206,250,0.02513079300910431);\">representatives</span> <span style=\"background-color:rgba(135,206,250,0.04159061361106314);\">.</span> <span style=\"background-color:rgba(135,206,250,0.04130602521867285);\">But</span> <span style=\"background-color:rgba(135,206,250,0.009998068697161609);\">I</span> <span style=\"background-color:rgba(135,206,250,0.026875112907766115);\">hope</span> <span style=\"background-color:rgba(135,206,250,0.0028357002387012953);\">you</span> <span style=\"background-color:rgba(135,206,250,0.0052544428906554225);\">find</span> <span style=\"background-color:rgba(135,206,250,0.0006754163909490956);\">it</span> <span style=\"background-color:rgba(135,206,250,0.054132862908104276);\">useful</span> <span style=\"background-color:rgba(135,206,250,0.021633211940576772);\">,</span> <span style=\"background-color:rgba(135,206,250,0.007879798329962632);\">and</span> <span style=\"background-color:rgba(135,206,250,0.004578084231795473);\">perhaps</span> <span style=\"background-color:rgba(135,206,250,0.03523959579827556);\">feel</span> <span style=\"background-color:rgba(135,206,250,0.004602585399038213);\">inspired</span> <span style=\"background-color:rgba(135,206,250,0.0024629725535803707);\">to</span> <span style=\"background-color:rgba(135,206,250,0.03302936404578622);\">do</span> <span style=\"background-color:rgba(135,206,250,0.0013399743183912208);\">something</span> <span style=\"background-color:rgba(135,206,250,0.04601919647131106);\">similar</span> <span style=\"background-color:rgba(135,206,250,0.03036072335778754);\">,</span> <span style=\"background-color:rgba(135,206,250,0.028915442894896507);\">if</span> <span style=\"background-color:rgba(135,206,250,0.01222225614191007);\">or</span> <span style=\"background-color:rgba(135,206,250,0.023223843833398636);\">when</span> <span style=\"background-color:rgba(135,206,250,0.005616705641215791);\">the</span> <span style=\"background-color:rgba(135,206,250,0.001767053212791424);\">same</span> <span style=\"background-color:rgba(135,206,250,0.016776387395037107);\">thing</span> <span style=\"background-color:rgba(135,206,250,0.024582661675373152);\">has</span> <span style=\"background-color:rgba(135,206,250,0.011017941617028579);\">happened</span> <span style=\"background-color:rgba(135,206,250,0.014526806417173943);\">in</span> <span style=\"background-color:rgba(135,206,250,0.031960312666590614);\">your</span> <span style=\"background-color:rgba(135,206,250,0.006118643097856202);\">area</span> <span style=\"background-color:rgba(135,206,250,0.053753947920550806);\">.</span>"
            ],
            "text/plain": [
              "<IPython.core.display.HTML object>"
            ]
          },
          "metadata": {
            "tags": []
          }
        },
        {
          "output_type": "stream",
          "text": [
            "None\n"
          ],
          "name": "stdout"
        },
        {
          "output_type": "display_data",
          "data": {
            "text/html": [
              "<span style=\"background-color:rgba(135,206,250,0.048679592863436885);\">@@UNKNOWN@@</span> <span style=\"background-color:rgba(135,206,250,0.0008965647223199488);\">Jaschan</span> <span style=\"background-color:rgba(135,206,250,0.010856264995717914);\">,</span> <span style=\"background-color:rgba(135,206,250,0.005681319698541788);\">self</span> <span style=\"background-color:rgba(135,206,250,0.0052817898992933675);\">-</span> <span style=\"background-color:rgba(135,206,250,0.024505522016882584);\">confessed</span> <span style=\"background-color:rgba(135,206,250,0.0002569476260525339);\">author</span> <span style=\"background-color:rgba(135,206,250,0.002272286251091781);\">of</span> <span style=\"background-color:rgba(135,206,250,0.00016800376842471824);\">the</span> <span style=\"background-color:rgba(135,206,250,0.01823450976767336);\">Netsky</span> <span style=\"background-color:rgba(135,206,250,0.006894134794791717);\">and</span> <span style=\"background-color:rgba(135,206,250,0.025038759665386802);\">Sasser</span> <span style=\"background-color:rgba(135,206,250,0.0006449600728597027);\">viruses</span> <span style=\"background-color:rgba(135,206,250,0.00728231753381476);\">,</span> <span style=\"background-color:rgba(135,206,250,0.00748806272281724);\">@@UNKNOWN@@</span> <span style=\"background-color:rgba(135,206,250,0.0008578304747959429);\">for</span> <span style=\"background-color:rgba(135,206,250,0.0016173722482987513);\">70</span> <span style=\"background-color:rgba(135,206,250,0.0034951446223691193);\">percent</span> <span style=\"background-color:rgba(135,206,250,0.001379313294864718);\">of</span> <span style=\"background-color:rgba(135,206,250,0.03225531267820124);\">virus</span> <span style=\"background-color:rgba(135,206,250,0.005940009903844426);\">infections</span> <span style=\"background-color:rgba(135,206,250,0.0022097285891210672);\">in</span> <span style=\"background-color:rgba(135,206,250,0.0009648012797745367);\">2004</span> <span style=\"background-color:rgba(135,206,250,0.0007443054606800338);\">,</span> <span style=\"background-color:rgba(135,206,250,0.0033490469646619775);\">according</span> <span style=\"background-color:rgba(135,206,250,0.0005518253937823389);\">to</span> <span style=\"background-color:rgba(135,206,250,0.0007097088474477414);\">a</span> <span style=\"background-color:rgba(135,206,250,0.00445497033683904);\">six</span> <span style=\"background-color:rgba(135,206,250,0.004860406709931188);\">-</span> <span style=\"background-color:rgba(135,206,250,0.03539716207120864);\">@@UNKNOWN@@</span> <span style=\"background-color:rgba(135,206,250,0.05909538887810232);\">roundup</span> <span style=\"background-color:rgba(135,206,250,0.013433255575226434);\">published</span> <span style=\"background-color:rgba(135,206,250,0.011442877356771112);\">Wednesday</span> <span style=\"background-color:rgba(135,206,250,0.010793335256919367);\">by</span> <span style=\"background-color:rgba(135,206,250,0.012333668006587903);\">antivirus</span> <span style=\"background-color:rgba(135,206,250,0.014190927166955738);\">company</span> <span style=\"background-color:rgba(135,206,250,0.003743762859572359);\">Sophos</span> <span style=\"background-color:rgba(135,206,250,0.0012065046032667703);\">.</span> <span style=\"background-color:rgba(135,206,250,0.0007032639285886958);\">&quot;\\\\&quot;The</span> <span style=\"background-color:rgba(135,206,250,0.021267482249269422);\">18-year</span> <span style=\"background-color:rgba(135,206,250,0.004800936935715981);\">-</span> <span style=\"background-color:rgba(135,206,250,0.024383475218704993);\">old</span> <span style=\"background-color:rgba(135,206,250,0.03763599429985354);\">Jaschan</span> <span style=\"background-color:rgba(135,206,250,0.01635817134737145);\">was</span> <span style=\"background-color:rgba(135,206,250,0.004331679705654549);\">taken</span> <span style=\"background-color:rgba(135,206,250,0.013978903560558704);\">into</span> <span style=\"background-color:rgba(135,206,250,0.035303190627503415);\">custody</span> <span style=\"background-color:rgba(135,206,250,0.0023815119116301483);\">in</span> <span style=\"background-color:rgba(135,206,250,0.08515793228180907);\">Germany</span> <span style=\"background-color:rgba(135,206,250,0.005350042086307494);\">in</span> <span style=\"background-color:rgba(135,206,250,0.013564762222634308);\">May</span> <span style=\"background-color:rgba(135,206,250,0.00786246345620492);\">by</span> <span style=\"background-color:rgba(135,206,250,0.03402096955615756);\">police</span> <span style=\"background-color:rgba(135,206,250,0.04015794270275956);\">@@UNKNOWN@@</span> <span style=\"background-color:rgba(135,206,250,0.0012736924639316868);\">he</span> <span style=\"background-color:rgba(135,206,250,0.005014415724089205);\">had</span> <span style=\"background-color:rgba(135,206,250,0.021851665730114843);\">admitted</span> <span style=\"background-color:rgba(135,206,250,0.008462282095237621);\">programming</span> <span style=\"background-color:rgba(135,206,250,0.0003176843276984397);\">both</span> <span style=\"background-color:rgba(135,206,250,0.0008455736342391849);\">the</span> <span style=\"background-color:rgba(135,206,250,0.061795478801648734);\">Netsky</span> <span style=\"background-color:rgba(135,206,250,0.003160946381994088);\">and</span> <span style=\"background-color:rgba(135,206,250,0.06774736063898665);\">Sasser</span> <span style=\"background-color:rgba(135,206,250,0.029617994798195935);\">worms</span> <span style=\"background-color:rgba(135,206,250,0.00507238506058866);\">,</span> <span style=\"background-color:rgba(135,206,250,0.08881699972462413);\">@@UNKNOWN@@</span> <span style=\"background-color:rgba(135,206,250,0.00029108631651803186);\">at</span> <span style=\"background-color:rgba(135,206,250,0.030522032782745647);\">Microsoft</span> <span style=\"background-color:rgba(135,206,250,0.01850721245629531);\">confirmed</span> <span style=\"background-color:rgba(135,206,250,0.003471733641672637);\">.</span> <span style=\"background-color:rgba(135,206,250,0.007833380345057796);\">(</span> <span style=\"background-color:rgba(135,206,250,0.0037553408640357026);\">A</span> <span style=\"background-color:rgba(135,206,250,0.027954561771381472);\">Microsoft</span> <span style=\"background-color:rgba(135,206,250,0.04654490668848016);\">antivirus</span> <span style=\"background-color:rgba(135,206,250,0.006615766274198342);\">reward</span> <span style=\"background-color:rgba(135,206,250,0.015030057223678672);\">program</span> <span style=\"background-color:rgba(135,206,250,0.009748408223698166);\">led</span> <span style=\"background-color:rgba(135,206,250,0.0069772812522155715);\">to</span> <span style=\"background-color:rgba(135,206,250,0.12181604429366188);\">@@UNKNOWN@@</span> <span style=\"background-color:rgba(135,206,250,0.019908723924691677);\">&#x27;s</span> <span style=\"background-color:rgba(135,206,250,0.021495739136102365);\">arrest</span> <span style=\"background-color:rgba(135,206,250,0.007507938390456783);\">.</span> <span style=\"background-color:rgba(135,206,250,0.02108207368327438);\">)</span> <span style=\"background-color:rgba(135,206,250,0.010088457984543024);\">During</span> <span style=\"background-color:rgba(135,206,250,0.008172988745803432);\">the</span> <span style=\"background-color:rgba(135,206,250,0.004564105719175294);\">five</span> <span style=\"background-color:rgba(135,206,250,0.006091499059761529);\">months</span> <span style=\"background-color:rgba(135,206,250,0.017109084437623642);\">preceding</span> <span style=\"background-color:rgba(135,206,250,0.07078099189485343);\">Jaschan</span> <span style=\"background-color:rgba(135,206,250,0.0008193421012384173);\">&#x27;s</span> <span style=\"background-color:rgba(135,206,250,0.022197184437136332);\">capture</span> <span style=\"background-color:rgba(135,206,250,0.001009993334712283);\">,</span> <span style=\"background-color:rgba(135,206,250,0.07169490029616758);\">@@UNKNOWN@@</span> <span style=\"background-color:rgba(135,206,250,0.00435556493850839);\">at</span> <span style=\"background-color:rgba(135,206,250,0.006059871829564656);\">least</span> <span style=\"background-color:rgba(135,206,250,0.010837295842531638);\">25</span> <span style=\"background-color:rgba(135,206,250,0.06876141019431484);\">variants</span> <span style=\"background-color:rgba(135,206,250,0.003632085924233443);\">of</span> <span style=\"background-color:rgba(135,206,250,0.09048801705352419);\">Netsky</span> <span style=\"background-color:rgba(135,206,250,0.002735382402093707);\">and</span> <span style=\"background-color:rgba(135,206,250,0.006275622269442233);\">one</span> <span style=\"background-color:rgba(135,206,250,0.007362761710377408);\">of</span> <span style=\"background-color:rgba(135,206,250,0.011820250505795313);\">the</span> <span style=\"background-color:rgba(135,206,250,0.04658727725800558);\">port</span> <span style=\"background-color:rgba(135,206,250,0.011381574958380694);\">-</span> <span style=\"background-color:rgba(135,206,250,0.00639105986342786);\">scanning</span> <span style=\"background-color:rgba(135,206,250,0.0065289382390335046);\">network</span> <span style=\"background-color:rgba(135,206,250,0.023603049787610873);\">@@UNKNOWN@@</span> <span style=\"background-color:rgba(135,206,250,0.00512450241006427);\">.</span> <span style=\"background-color:rgba(135,206,250,0.007255958165013583);\">@@UNKNOWN@@</span> <span style=\"background-color:rgba(135,206,250,0.017336548182629228);\">Cluley</span> <span style=\"background-color:rgba(135,206,250,0.005432052484702164);\">,</span> <span style=\"background-color:rgba(135,206,250,0.00036696339581715346);\">senior</span> <span style=\"background-color:rgba(135,206,250,0.02643917753116945);\">technology</span> <span style=\"background-color:rgba(135,206,250,0.0247958249892076);\">consultant</span> <span style=\"background-color:rgba(135,206,250,0.011860185663356742);\">at</span> <span style=\"background-color:rgba(135,206,250,0.06417373603246262);\">Sophos</span> <span style=\"background-color:rgba(135,206,250,0.0011815461795374143);\">,</span> <span style=\"background-color:rgba(135,206,250,0.012655535224317619);\">said</span> <span style=\"background-color:rgba(135,206,250,0.006555865870626282);\">it</span> <span style=\"background-color:rgba(135,206,250,0.05224958954593178);\">was</span> <span style=\"background-color:rgba(135,206,250,0.048039036593935075);\">@@UNKNOWN@@</span> <span style=\"background-color:rgba(135,206,250,0.03287222772259962);\">...</span> <span style=\"background-color:rgba(135,206,250,0.2648076391670463);\">\\\\</span>"
            ],
            "text/plain": [
              "<IPython.core.display.HTML object>"
            ]
          },
          "metadata": {
            "tags": []
          }
        },
        {
          "output_type": "stream",
          "text": [
            "None\n"
          ],
          "name": "stdout"
        },
        {
          "output_type": "display_data",
          "data": {
            "text/html": [
              "<span style=\"background-color:rgba(135,206,250,0.28068309164674954);\">@@UNKNOWN@@</span> <span style=\"background-color:rgba(135,206,250,0.016111113623388476);\">/</span> <span style=\"background-color:rgba(135,206,250,0.12151590298910722);\">@@UNKNOWN@@</span> <span style=\"background-color:rgba(135,206,250,0.005575014466560245);\">and</span> <span style=\"background-color:rgba(135,206,250,0.03762257610188498);\">bloom</span> <span style=\"background-color:rgba(135,206,250,0.010745730488235843);\">filters</span> <span style=\"background-color:rgba(135,206,250,0.004871141118659037);\">have</span> <span style=\"background-color:rgba(135,206,250,0.00747857046513833);\">a</span> <span style=\"background-color:rgba(135,206,250,0.006070600546195513);\">lot</span> <span style=\"background-color:rgba(135,206,250,0.003954431888103165);\">of</span> <span style=\"background-color:rgba(135,206,250,0.03721489269657499);\">interesting</span> <span style=\"background-color:rgba(135,206,250,0.018628180116698808);\">properties</span> <span style=\"background-color:rgba(135,206,250,0.0008613493011990377);\">for</span> <span style=\"background-color:rgba(135,206,250,0.07595719386510509);\">@@UNKNOWN@@</span> <span style=\"background-color:rgba(135,206,250,0.015349895549900574);\">and</span> <span style=\"background-color:rgba(135,206,250,0.06440661758071854);\">whitelist</span> <span style=\"background-color:rgba(135,206,250,0.06449538243966019);\">@@UNKNOWN@@</span> <span style=\"background-color:rgba(135,206,250,0.005951779695312479);\">think</span> <span style=\"background-color:rgba(135,206,250,0.004097581994408969);\">we</span> <span style=\"background-color:rgba(135,206,250,0.00853816228855397);\">can</span> <span style=\"background-color:rgba(135,206,250,0.00462111761904962);\">go</span> <span style=\"background-color:rgba(135,206,250,0.007630412986828078);\">one</span> <span style=\"background-color:rgba(135,206,250,0.015307426461633186);\">level</span> <span style=\"background-color:rgba(135,206,250,0.00634184855080268);\">higher</span> <span style=\"background-color:rgba(135,206,250,0.014032954610323469);\">though</span> <span style=\"background-color:rgba(135,206,250,0.004126042354272677);\">and</span> <span style=\"background-color:rgba(135,206,250,0.002111136984103496);\">include</span> <span style=\"background-color:rgba(135,206,250,0.03414741935492649);\">@@UNKNOWN@@</span> <span style=\"background-color:rgba(135,206,250,0.004187097721665482);\">/</span> <span style=\"background-color:rgba(135,206,250,0.031957045242429566);\">@@UNKNOWN@@</span> <span style=\"background-color:rgba(135,206,250,0.015423982011017337);\">@@UNKNOWN@@</span> <span style=\"background-color:rgba(135,206,250,0.0013406734569486173);\">distribution</span> <span style=\"background-color:rgba(135,206,250,0.0016618865364175595);\">in</span> <span style=\"background-color:rgba(135,206,250,0.01288987969454752);\">the</span> <span style=\"background-color:rgba(135,206,250,0.09082408650647003);\">FOAF</span> <span style=\"background-color:rgba(135,206,250,0.012821464754701683);\">file</span> <span style=\"background-color:rgba(135,206,250,0.0058112093516755675);\">for</span> <span style=\"background-color:rgba(135,206,250,0.003912407179235651);\">simple</span> <span style=\"background-color:rgba(135,206,250,0.03734115904310399);\">web</span> <span style=\"background-color:rgba(135,206,250,0.011886528291764741);\">-</span> <span style=\"background-color:rgba(135,206,250,0.009753550872146462);\">of</span> <span style=\"background-color:rgba(135,206,250,0.019380186987689427);\">-</span> <span style=\"background-color:rgba(135,206,250,0.0006978392366614814);\">trust</span> <span style=\"background-color:rgba(135,206,250,0.006415958042878375);\">based</span> <span style=\"background-color:rgba(135,206,250,0.07344938936050917);\">@@UNKNOWN@@</span> <span style=\"background-color:rgba(135,206,250,0.0078012979777912885);\">if</span> <span style=\"background-color:rgba(135,206,250,0.0019186486583950056);\">we</span> <span style=\"background-color:rgba(135,206,250,0.00727097294456548);\">used</span> <span style=\"background-color:rgba(135,206,250,0.06320845969763032);\">FOAF</span> <span style=\"background-color:rgba(135,206,250,0.0025344914806219973);\">and</span> <span style=\"background-color:rgba(135,206,250,0.009073737789878467);\">included</span> <span style=\"background-color:rgba(135,206,250,0.0016966523594601846);\">the</span> <span style=\"background-color:rgba(135,206,250,0.025048482743291283);\">@@UNKNOWN@@</span> <span style=\"background-color:rgba(135,206,250,0.00032722799824289327);\">key</span> <span style=\"background-color:rgba(135,206,250,0.026782125775480496);\">@@UNKNOWN@@</span> <span style=\"background-color:rgba(135,206,250,0.005894685357586973);\">)</span> <span style=\"background-color:rgba(135,206,250,0.00020851551097431288);\">for</span> <span style=\"background-color:rgba(135,206,250,0.046650811212828755);\">@@UNKNOWN@@</span> <span style=\"background-color:rgba(135,206,250,0.004916919283294774);\">could</span> <span style=\"background-color:rgba(135,206,250,0.007579133080426349);\">mean</span> <span style=\"background-color:rgba(135,206,250,0.007551850842692535);\">a</span> <span style=\"background-color:rgba(135,206,250,0.00018913732118413886);\">lot</span> <span style=\"background-color:rgba(135,206,250,0.003544116457563638);\">.</span> <span style=\"background-color:rgba(135,206,250,0.0020421831788724316);\">You</span> <span style=\"background-color:rgba(135,206,250,0.003972034331906076);\">include</span> <span style=\"background-color:rgba(135,206,250,0.0019352770107426483);\">the</span> <span style=\"background-color:rgba(135,206,250,0.0562253312209996);\">@@UNKNOWN@@</span> <span style=\"background-color:rgba(135,206,250,0.009266783287631848);\">key</span> <span style=\"background-color:rgba(135,206,250,0.004489867727330559);\">fingerprints</span> <span style=\"background-color:rgba(135,206,250,0.005895670373984299);\">within</span> <span style=\"background-color:rgba(135,206,250,0.0006307380949151331);\">the</span> <span style=\"background-color:rgba(135,206,250,0.059716720660242056);\">@@UNKNOWN@@</span> <span style=\"background-color:rgba(135,206,250,0.00666877714657948);\">of</span> <span style=\"background-color:rgba(135,206,250,0.011221227666309846);\">your</span> <span style=\"background-color:rgba(135,206,250,0.008596072748977978);\">direct</span> <span style=\"background-color:rgba(135,206,250,0.007182100607815493);\">friends</span> <span style=\"background-color:rgba(135,206,250,0.0051052047542671985);\">and</span> <span style=\"background-color:rgba(135,206,250,0.005075608790967007);\">then</span> <span style=\"background-color:rgba(135,206,250,0.006850988645037107);\">include</span> <span style=\"background-color:rgba(135,206,250,0.001379964568152333);\">a</span> <span style=\"background-color:rgba(135,206,250,0.032530579897832985);\">bloom</span> <span style=\"background-color:rgba(135,206,250,0.008114823736545497);\">filter</span> <span style=\"background-color:rgba(135,206,250,0.0017254146315739721);\">of</span> <span style=\"background-color:rgba(135,206,250,0.004297871614552027);\">the</span> <span style=\"background-color:rgba(135,206,250,0.03995338945871412);\">@@UNKNOWN@@</span> <span style=\"background-color:rgba(135,206,250,0.017343275831531092);\">@@UNKNOWN@@</span> <span style=\"background-color:rgba(135,206,250,0.0025555645127744745);\">of</span> <span style=\"background-color:rgba(135,206,250,0.00161173987130268);\">your</span> <span style=\"background-color:rgba(135,206,250,0.00618953596133579);\">entire</span> <span style=\"background-color:rgba(135,206,250,0.09271788800813505);\">whitelist</span> <span style=\"background-color:rgba(135,206,250,0.006415233453478184);\">(</span> <span style=\"background-color:rgba(135,206,250,0.0030526845133282384);\">the</span> <span style=\"background-color:rgba(135,206,250,0.0035106539505815014);\">source</span> <span style=\"background-color:rgba(135,206,250,0.07410515516896694);\">FOAF</span> <span style=\"background-color:rgba(135,206,250,0.0062428857013542005);\">file</span> <span style=\"background-color:rgba(135,206,250,0.005451260856704278);\">would</span> <span style=\"background-color:rgba(135,206,250,0.0012788142205085353);\">of</span> <span style=\"background-color:rgba(135,206,250,0.004140933050295902);\">course</span> <span style=\"background-color:rgba(135,206,250,0.02631482879986048);\">@@UNKNOWN@@</span> <span style=\"background-color:rgba(135,206,250,0.0066689501740401615);\">be</span> <span style=\"background-color:rgba(135,206,250,0.023497861426884113);\">encrypted</span> <span style=\"background-color:rgba(135,206,250,0.005995695009693203);\">)</span> <span style=\"background-color:rgba(135,206,250,0.023807643178468632);\">@@UNKNOWN@@</span> <span style=\"background-color:rgba(135,206,250,0.02332826144532173);\">whitelist</span> <span style=\"background-color:rgba(135,206,250,0.005135948131752044);\">would</span> <span style=\"background-color:rgba(135,206,250,0.002908582755988688);\">be</span> <span style=\"background-color:rgba(135,206,250,0.02746590195429672);\">populated</span> <span style=\"background-color:rgba(135,206,250,0.00809264256094603);\">from</span> <span style=\"background-color:rgba(135,206,250,0.009383231359207657);\">the</span> <span style=\"background-color:rgba(135,206,250,0.005412154878978117);\">social</span> <span style=\"background-color:rgba(135,206,250,0.009462414748696909);\">network</span> <span style=\"background-color:rgba(135,206,250,0.0025614654578285916);\">as</span> <span style=\"background-color:rgba(135,206,250,0.014341321434277302);\">your</span> <span style=\"background-color:rgba(135,206,250,0.009552214229178192);\">@@UNKNOWN@@</span> <span style=\"background-color:rgba(135,206,250,0.056250625119279106);\">new</span> <span style=\"background-color:rgba(135,206,250,0.0055514484807379205);\">@@UNKNOWN@@</span> <span style=\"background-color:rgba(135,206,250,0.025533767488373233);\">...</span> <span style=\"background-color:rgba(135,206,250,0.26084373702140506);\">\\\\</span>"
            ],
            "text/plain": [
              "<IPython.core.display.HTML object>"
            ]
          },
          "metadata": {
            "tags": []
          }
        },
        {
          "output_type": "stream",
          "text": [
            "None\n"
          ],
          "name": "stdout"
        },
        {
          "output_type": "display_data",
          "data": {
            "text/html": [
              "<span style=\"background-color:rgba(135,206,250,0.681107272635195);\">@@UNKNOWN@@</span> <span style=\"background-color:rgba(135,206,250,0.009486479196699624);\">Police</span> <span style=\"background-color:rgba(135,206,250,0.11091280519149868);\">warns</span> <span style=\"background-color:rgba(135,206,250,0.0013164446926908744);\">about</span> <span style=\"background-color:rgba(135,206,250,0.061843645115895414);\">&quot;</span> <span style=\"background-color:rgba(135,206,250,0.6762287959807751);\">phishing</span> <span style=\"background-color:rgba(135,206,250,0.14914244345363628);\">&quot;</span> <span style=\"background-color:rgba(135,206,250,0.056044240280074806);\">after</span> <span style=\"background-color:rgba(135,206,250,0.052796691940599605);\">its</span> <span style=\"background-color:rgba(135,206,250,0.3511055669135439);\">fraud</span> <span style=\"background-color:rgba(135,206,250,0.08950031309140934);\">squad</span> <span style=\"background-color:rgba(135,206,250,0.058930802375974);\">chief</span> <span style=\"background-color:rgba(135,206,250,0.03399999921954779);\">was</span> <span style=\"background-color:rgba(135,206,250,0.06509666204060849);\">targeted</span> <span style=\"background-color:rgba(135,206,250,0.10248789952215512);\">.</span>"
            ],
            "text/plain": [
              "<IPython.core.display.HTML object>"
            ]
          },
          "metadata": {
            "tags": []
          }
        },
        {
          "output_type": "stream",
          "text": [
            "None\n"
          ],
          "name": "stdout"
        },
        {
          "output_type": "display_data",
          "data": {
            "text/html": [
              "<span style=\"background-color:rgba(135,206,250,0.01583744895814844);\">In</span> <span style=\"background-color:rgba(135,206,250,0.012332923301970717);\">its</span> <span style=\"background-color:rgba(135,206,250,0.03266129978333187);\">first</span> <span style=\"background-color:rgba(135,206,250,0.020221890474963807);\">two</span> <span style=\"background-color:rgba(135,206,250,0.005571009486750561);\">years</span> <span style=\"background-color:rgba(135,206,250,0.048352874468574406);\">,</span> <span style=\"background-color:rgba(135,206,250,0.021397387854847724);\">the</span> <span style=\"background-color:rgba(135,206,250,0.05713155345389282);\">UK</span> <span style=\"background-color:rgba(135,206,250,0.0973216024324711);\">&#x27;s</span> <span style=\"background-color:rgba(135,206,250,0.3679048675062672);\">dedicated</span> <span style=\"background-color:rgba(135,206,250,0.27255494039705086);\">card</span> <span style=\"background-color:rgba(135,206,250,0.027917670351853482);\">fraud</span> <span style=\"background-color:rgba(135,206,250,0.2543252255711854);\">unit</span> <span style=\"background-color:rgba(135,206,250,0.008073472693683994);\">,</span> <span style=\"background-color:rgba(135,206,250,0.01323180862836659);\">has</span> <span style=\"background-color:rgba(135,206,250,0.09176509017778885);\">recovered</span> <span style=\"background-color:rgba(135,206,250,0.14687498695598508);\">36,000</span> <span style=\"background-color:rgba(135,206,250,0.18690692383931787);\">stolen</span> <span style=\"background-color:rgba(135,206,250,0.13701702443542357);\">cards</span> <span style=\"background-color:rgba(135,206,250,0.010308382837854563);\">and</span> <span style=\"background-color:rgba(135,206,250,0.0185976285136104);\">171</span> <span style=\"background-color:rgba(135,206,250,0.2065260954173253);\">arrests</span> <span style=\"background-color:rgba(135,206,250,0.05421693043238416);\">-</span> <span style=\"background-color:rgba(135,206,250,0.054723374664391984);\">and</span> <span style=\"background-color:rgba(135,206,250,0.26213546409097804);\">estimates</span> <span style=\"background-color:rgba(135,206,250,0.01623477120574203);\">it</span> <span style=\"background-color:rgba(135,206,250,0.014160988938244681);\">saved</span> <span style=\"background-color:rgba(135,206,250,0.005019335650596373);\">65</span> <span style=\"background-color:rgba(135,206,250,0.020607237592185156);\">m</span> <span style=\"background-color:rgba(135,206,250,0.020069851352145073);\">.</span>"
            ],
            "text/plain": [
              "<IPython.core.display.HTML object>"
            ]
          },
          "metadata": {
            "tags": []
          }
        },
        {
          "output_type": "stream",
          "text": [
            "None\n"
          ],
          "name": "stdout"
        }
      ]
    },
    {
      "cell_type": "code",
      "metadata": {
        "id": "E1Y5lK4GgvXC"
      },
      "source": [
        "import spacy\n",
        "nlp = spacy.load('en_core_web_sm')"
      ],
      "execution_count": null,
      "outputs": []
    },
    {
      "cell_type": "code",
      "metadata": {
        "id": "Vyd0aXp4i_Ie"
      },
      "source": [
        "pdata = list(nlp.pipe(sample))"
      ],
      "execution_count": null,
      "outputs": []
    },
    {
      "cell_type": "code",
      "metadata": {
        "colab": {
          "base_uri": "https://localhost:8080/",
          "height": 37
        },
        "id": "wF1_iywBkNdj",
        "outputId": "2dc422cd-3991-4a21-f285-5a2de08181e3"
      },
      "source": [
        "Perturb.strip_punctuation(pdata[0])"
      ],
      "execution_count": null,
      "outputs": [
        {
          "output_type": "execute_result",
          "data": {
            "application/vnd.google.colaboratory.intrinsic+json": {
              "type": "string"
            },
            "text/plain": [
              "\"Unions representing workers at Turner   Newall say they are 'disappointed' after talks with stricken parent firm Federal Mogul\""
            ]
          },
          "metadata": {
            "tags": []
          },
          "execution_count": 101
        }
      ]
    },
    {
      "cell_type": "code",
      "metadata": {
        "colab": {
          "base_uri": "https://localhost:8080/",
          "height": 37
        },
        "id": "HYMdOTg1kVJA",
        "outputId": "38e27490-fb53-4a1f-fc0b-28d40010828f"
      },
      "source": [
        "Perturb.contractions(sample[0])[0]"
      ],
      "execution_count": null,
      "outputs": [
        {
          "output_type": "execute_result",
          "data": {
            "application/vnd.google.colaboratory.intrinsic+json": {
              "type": "string"
            },
            "text/plain": [
              "\"Unions representing workers at Turner   Newall say they're 'disappointed' after talks with stricken parent firm Federal Mogul.\""
            ]
          },
          "metadata": {
            "tags": []
          },
          "execution_count": 133
        }
      ]
    },
    {
      "cell_type": "code",
      "metadata": {
        "colab": {
          "base_uri": "https://localhost:8080/",
          "height": 545
        },
        "id": "1MPQ6HELoubj",
        "outputId": "7a38e6f8-7567-4e85-d3f0-bb4f5a42dbfe"
      },
      "source": [
        "for i in range(10):\n",
        "  sentence = sample[i]\n",
        "  if Perturb.contractions(sample[i]) != []:\n",
        "  \n",
        "    result = predictor_with_input_red.predict(sentence)\n",
        "    tokens = result['prediction']['tokens']\n",
        "\n",
        "    grad_orig = SimpleGradient(predictor).saliency_interpret_from_json({'Description':sentence})\n",
        "    gradient_list_orig = np.array(grad_orig['instance_1']['grad_input_1'])\n",
        "\n",
        "    max_alpha = 0.4 \n",
        "    highlighted_text = []\n",
        "    for i in range(len(tokens)):\n",
        "        weight = gradient_list_orig[i]\n",
        "        highlighted_text.append('<span style=\"background-color:rgba(135,206,250,' + str(weight / max_alpha) + ');\">' + html_escape(tokens[i]) + '</span>')\n",
        "    highlighted_text = ' '.join(highlighted_text)\n",
        "    print(display(HTML(highlighted_text)))\n",
        "\n",
        "    perturbed_sentence = Perturb.contractions(sentence)[0]\n",
        "\n",
        "    result = predictor_with_input_red.predict(perturbed_sentence)\n",
        "    tokens = result['prediction']['tokens']\n",
        "\n",
        "    grad_pert = SimpleGradient(predictor).saliency_interpret_from_json({'Description': perturbed_sentence})\n",
        "    gradient_list_pert = np.array(grad_pert['instance_1']['grad_input_1'])\n",
        "\n",
        "    max_alpha = 0.4 \n",
        "    highlighted_text = []\n",
        "    for i in range(len(tokens)):\n",
        "        weight = gradient_list_pert[i]\n",
        "        highlighted_text.append('<span style=\"background-color:rgba(135,206,250,' + str(weight / max_alpha) + ');\">' + html_escape(tokens[i]) + '</span>')\n",
        "    highlighted_text = ' '.join(highlighted_text)\n",
        "    print(display(HTML(highlighted_text)))"
      ],
      "execution_count": null,
      "outputs": [
        {
          "output_type": "display_data",
          "data": {
            "text/html": [
              "<span style=\"background-color:rgba(135,206,250,0.04084868835213159);\">Unions</span> <span style=\"background-color:rgba(135,206,250,0.018092676762375314);\">representing</span> <span style=\"background-color:rgba(135,206,250,0.007240049264278705);\">workers</span> <span style=\"background-color:rgba(135,206,250,0.00837113875065371);\">at</span> <span style=\"background-color:rgba(135,206,250,0.13170738281923597);\">Turner</span> <span style=\"background-color:rgba(135,206,250,1.1236717960929865);\">Newall</span> <span style=\"background-color:rgba(135,206,250,0.07365823856098498);\">say</span> <span style=\"background-color:rgba(135,206,250,0.03687658678074653);\">they</span> <span style=\"background-color:rgba(135,206,250,0.04191140704644762);\">are</span> <span style=\"background-color:rgba(135,206,250,0.04718937107453646);\">&#x27;</span> <span style=\"background-color:rgba(135,206,250,0.059580428475347134);\">disappointed</span> <span style=\"background-color:rgba(135,206,250,0.044119775986838056);\">&#x27;</span> <span style=\"background-color:rgba(135,206,250,0.015126427860096967);\">after</span> <span style=\"background-color:rgba(135,206,250,0.06988608337212393);\">talks</span> <span style=\"background-color:rgba(135,206,250,0.0037889850765025945);\">with</span> <span style=\"background-color:rgba(135,206,250,0.05108526452902649);\">stricken</span> <span style=\"background-color:rgba(135,206,250,0.002407341765536727);\">parent</span> <span style=\"background-color:rgba(135,206,250,0.027864432542618767);\">firm</span> <span style=\"background-color:rgba(135,206,250,0.010464466287395509);\">Federal</span> <span style=\"background-color:rgba(135,206,250,0.5793717789258997);\">Mogul</span> <span style=\"background-color:rgba(135,206,250,0.10673780371822678);\">.</span>"
            ],
            "text/plain": [
              "<IPython.core.display.HTML object>"
            ]
          },
          "metadata": {
            "tags": []
          }
        },
        {
          "output_type": "stream",
          "text": [
            "None\n"
          ],
          "name": "stdout"
        },
        {
          "output_type": "display_data",
          "data": {
            "text/html": [
              "<span style=\"background-color:rgba(135,206,250,0.04013048191002358);\">Unions</span> <span style=\"background-color:rgba(135,206,250,0.017427738550974306);\">representing</span> <span style=\"background-color:rgba(135,206,250,0.01158677746930945);\">workers</span> <span style=\"background-color:rgba(135,206,250,0.006780499923224522);\">at</span> <span style=\"background-color:rgba(135,206,250,0.13971535683773165);\">Turner</span> <span style=\"background-color:rgba(135,206,250,1.0895535134474084);\">Newall</span> <span style=\"background-color:rgba(135,206,250,0.07022744329631371);\">say</span> <span style=\"background-color:rgba(135,206,250,0.03076950741912442);\">they</span> <span style=\"background-color:rgba(135,206,250,0.028492461186110245);\">&#x27;re</span> <span style=\"background-color:rgba(135,206,250,0.04389657422950385);\">&#x27;</span> <span style=\"background-color:rgba(135,206,250,0.06202159974304554);\">disappointed</span> <span style=\"background-color:rgba(135,206,250,0.04672692004453149);\">&#x27;</span> <span style=\"background-color:rgba(135,206,250,0.0166381144514849);\">after</span> <span style=\"background-color:rgba(135,206,250,0.07744370837342908);\">talks</span> <span style=\"background-color:rgba(135,206,250,0.003968385215066986);\">with</span> <span style=\"background-color:rgba(135,206,250,0.054338452865663925);\">stricken</span> <span style=\"background-color:rgba(135,206,250,0.0028264360515780906);\">parent</span> <span style=\"background-color:rgba(135,206,250,0.028967653568889723);\">firm</span> <span style=\"background-color:rgba(135,206,250,0.01051427464509916);\">Federal</span> <span style=\"background-color:rgba(135,206,250,0.606432760224461);\">Mogul</span> <span style=\"background-color:rgba(135,206,250,0.11154133987983057);\">.</span>"
            ],
            "text/plain": [
              "<IPython.core.display.HTML object>"
            ]
          },
          "metadata": {
            "tags": []
          }
        },
        {
          "output_type": "stream",
          "text": [
            "None\n"
          ],
          "name": "stdout"
        },
        {
          "output_type": "display_data",
          "data": {
            "text/html": [
              "<span style=\"background-color:rgba(135,206,250,0.044793809890171066);\">AP</span> <span style=\"background-color:rgba(135,206,250,0.004929474587874903);\">-</span> <span style=\"background-color:rgba(135,206,250,0.058496761047070155);\">It</span> <span style=\"background-color:rgba(135,206,250,0.02934570914395057);\">&#x27;s</span> <span style=\"background-color:rgba(135,206,250,0.012066087134747135);\">barely</span> <span style=\"background-color:rgba(135,206,250,0.14786206738991978);\">dawn</span> <span style=\"background-color:rgba(135,206,250,0.09301588584924779);\">when</span> <span style=\"background-color:rgba(135,206,250,0.11639957824697438);\">Mike</span> <span style=\"background-color:rgba(135,206,250,0.0538216290451928);\">Fitzpatrick</span> <span style=\"background-color:rgba(135,206,250,0.003615685615136842);\">starts</span> <span style=\"background-color:rgba(135,206,250,0.040271532529381725);\">his</span> <span style=\"background-color:rgba(135,206,250,0.004098646849846319);\">shift</span> <span style=\"background-color:rgba(135,206,250,0.0051568814354469965);\">with</span> <span style=\"background-color:rgba(135,206,250,0.002650848105618975);\">a</span> <span style=\"background-color:rgba(135,206,250,0.020279887819732802);\">blur</span> <span style=\"background-color:rgba(135,206,250,0.0053733665847777775);\">of</span> <span style=\"background-color:rgba(135,206,250,0.060359091646392686);\">colorful</span> <span style=\"background-color:rgba(135,206,250,0.2575798948513197);\">maps</span> <span style=\"background-color:rgba(135,206,250,0.07813968047145511);\">,</span> <span style=\"background-color:rgba(135,206,250,0.0013047439907617826);\">figures</span> <span style=\"background-color:rgba(135,206,250,0.014636395860379124);\">and</span> <span style=\"background-color:rgba(135,206,250,0.09009177177998162);\">endless</span> <span style=\"background-color:rgba(135,206,250,0.07063006389105242);\">charts</span> <span style=\"background-color:rgba(135,206,250,0.036736751864033634);\">,</span> <span style=\"background-color:rgba(135,206,250,0.021928597478412495);\">but</span> <span style=\"background-color:rgba(135,206,250,0.07126294773147852);\">already</span> <span style=\"background-color:rgba(135,206,250,0.01985334663615334);\">he</span> <span style=\"background-color:rgba(135,206,250,0.07355216131813967);\">knows</span> <span style=\"background-color:rgba(135,206,250,0.02144280461318588);\">what</span> <span style=\"background-color:rgba(135,206,250,0.011230584162175546);\">the</span> <span style=\"background-color:rgba(135,206,250,0.032167816153848006);\">day</span> <span style=\"background-color:rgba(135,206,250,0.03100851393514785);\">will</span> <span style=\"background-color:rgba(135,206,250,0.027896822235411897);\">bring</span> <span style=\"background-color:rgba(135,206,250,0.0002807223592460323);\">.</span> <span style=\"background-color:rgba(135,206,250,0.08162542938755438);\">Lightning</span> <span style=\"background-color:rgba(135,206,250,0.03550004818407593);\">will</span> <span style=\"background-color:rgba(135,206,250,0.0624764719382395);\">strike</span> <span style=\"background-color:rgba(135,206,250,0.009738578709421195);\">in</span> <span style=\"background-color:rgba(135,206,250,0.050768795952780985);\">places</span> <span style=\"background-color:rgba(135,206,250,0.02322898133497173);\">he</span> <span style=\"background-color:rgba(135,206,250,0.09814356602822827);\">expects</span> <span style=\"background-color:rgba(135,206,250,0.008761915590939596);\">.</span> <span style=\"background-color:rgba(135,206,250,0.07581647450094736);\">Winds</span> <span style=\"background-color:rgba(135,206,250,0.015135162314538646);\">will</span> <span style=\"background-color:rgba(135,206,250,0.0024213928387997142);\">pick</span> <span style=\"background-color:rgba(135,206,250,0.0017284954681914414);\">up</span> <span style=\"background-color:rgba(135,206,250,0.008177603666892604);\">,</span> <span style=\"background-color:rgba(135,206,250,0.1037497800151006);\">moist</span> <span style=\"background-color:rgba(135,206,250,0.055889657146766594);\">places</span> <span style=\"background-color:rgba(135,206,250,0.03773893757602399);\">will</span> <span style=\"background-color:rgba(135,206,250,0.06719323136543327);\">dry</span> <span style=\"background-color:rgba(135,206,250,0.0568429820113877);\">and</span> <span style=\"background-color:rgba(135,206,250,0.06133241203092355);\">flames</span> <span style=\"background-color:rgba(135,206,250,0.07944320892259844);\">will</span> <span style=\"background-color:rgba(135,206,250,0.0005901861420888618);\">roar</span> <span style=\"background-color:rgba(135,206,250,0.0014161079280370194);\">.</span>"
            ],
            "text/plain": [
              "<IPython.core.display.HTML object>"
            ]
          },
          "metadata": {
            "tags": []
          }
        },
        {
          "output_type": "stream",
          "text": [
            "None\n"
          ],
          "name": "stdout"
        },
        {
          "output_type": "display_data",
          "data": {
            "text/html": [
              "<span style=\"background-color:rgba(135,206,250,0.029341859824569532);\">AP</span> <span style=\"background-color:rgba(135,206,250,0.011900777110710293);\">-</span> <span style=\"background-color:rgba(135,206,250,0.09293948662557935);\">It</span> <span style=\"background-color:rgba(135,206,250,0.06380356251968228);\">is</span> <span style=\"background-color:rgba(135,206,250,0.04287192774405927);\">barely</span> <span style=\"background-color:rgba(135,206,250,0.19197014686945837);\">dawn</span> <span style=\"background-color:rgba(135,206,250,0.11522710140148999);\">when</span> <span style=\"background-color:rgba(135,206,250,0.13889129339766393);\">Mike</span> <span style=\"background-color:rgba(135,206,250,0.09403858142540572);\">Fitzpatrick</span> <span style=\"background-color:rgba(135,206,250,0.015515926666460582);\">starts</span> <span style=\"background-color:rgba(135,206,250,0.034378952652479484);\">his</span> <span style=\"background-color:rgba(135,206,250,0.029870456137993148);\">shift</span> <span style=\"background-color:rgba(135,206,250,0.008864339757405111);\">with</span> <span style=\"background-color:rgba(135,206,250,0.00408708618572605);\">a</span> <span style=\"background-color:rgba(135,206,250,0.021464430061804676);\">blur</span> <span style=\"background-color:rgba(135,206,250,0.0028994248904505152);\">of</span> <span style=\"background-color:rgba(135,206,250,0.03666813337162076);\">colorful</span> <span style=\"background-color:rgba(135,206,250,0.2214977610770813);\">maps</span> <span style=\"background-color:rgba(135,206,250,0.059692644153864854);\">,</span> <span style=\"background-color:rgba(135,206,250,0.009799818719948925);\">figures</span> <span style=\"background-color:rgba(135,206,250,0.00625801483941342);\">and</span> <span style=\"background-color:rgba(135,206,250,0.056710319192323506);\">endless</span> <span style=\"background-color:rgba(135,206,250,0.07764620766233042);\">charts</span> <span style=\"background-color:rgba(135,206,250,0.029026351346318934);\">,</span> <span style=\"background-color:rgba(135,206,250,0.018067377194048266);\">but</span> <span style=\"background-color:rgba(135,206,250,0.061807551087059244);\">already</span> <span style=\"background-color:rgba(135,206,250,0.01911095508038026);\">he</span> <span style=\"background-color:rgba(135,206,250,0.07053720450672252);\">knows</span> <span style=\"background-color:rgba(135,206,250,0.018271299156888878);\">what</span> <span style=\"background-color:rgba(135,206,250,0.00942935604892327);\">the</span> <span style=\"background-color:rgba(135,206,250,0.030235588010632444);\">day</span> <span style=\"background-color:rgba(135,206,250,0.030472474280894214);\">will</span> <span style=\"background-color:rgba(135,206,250,0.027150364503814296);\">bring</span> <span style=\"background-color:rgba(135,206,250,0.0015781566415033184);\">.</span> <span style=\"background-color:rgba(135,206,250,0.08648346568709488);\">Lightning</span> <span style=\"background-color:rgba(135,206,250,0.04121598567942931);\">will</span> <span style=\"background-color:rgba(135,206,250,0.05303571094196236);\">strike</span> <span style=\"background-color:rgba(135,206,250,0.010905401680548701);\">in</span> <span style=\"background-color:rgba(135,206,250,0.05219166999218499);\">places</span> <span style=\"background-color:rgba(135,206,250,0.01899324339098177);\">he</span> <span style=\"background-color:rgba(135,206,250,0.07668091818206949);\">expects</span> <span style=\"background-color:rgba(135,206,250,0.010269382255416338);\">.</span> <span style=\"background-color:rgba(135,206,250,0.05348693087641269);\">Winds</span> <span style=\"background-color:rgba(135,206,250,0.009889661597321398);\">will</span> <span style=\"background-color:rgba(135,206,250,0.0055183740875292915);\">pick</span> <span style=\"background-color:rgba(135,206,250,0.0003587036776475624);\">up</span> <span style=\"background-color:rgba(135,206,250,0.01084553439779805);\">,</span> <span style=\"background-color:rgba(135,206,250,0.0860930086460052);\">moist</span> <span style=\"background-color:rgba(135,206,250,0.04505195341203316);\">places</span> <span style=\"background-color:rgba(135,206,250,0.031139651287767085);\">will</span> <span style=\"background-color:rgba(135,206,250,0.056619824215576146);\">dry</span> <span style=\"background-color:rgba(135,206,250,0.047245024715613315);\">and</span> <span style=\"background-color:rgba(135,206,250,0.049743621448832064);\">flames</span> <span style=\"background-color:rgba(135,206,250,0.06875808041416175);\">will</span> <span style=\"background-color:rgba(135,206,250,0.0025077042358169015);\">roar</span> <span style=\"background-color:rgba(135,206,250,0.000941300431508767);\">.</span>"
            ],
            "text/plain": [
              "<IPython.core.display.HTML object>"
            ]
          },
          "metadata": {
            "tags": []
          }
        },
        {
          "output_type": "stream",
          "text": [
            "None\n"
          ],
          "name": "stdout"
        },
        {
          "output_type": "error",
          "ename": "KeyboardInterrupt",
          "evalue": "ignored",
          "traceback": [
            "\u001b[0;31m---------------------------------------------------------------------------\u001b[0m",
            "\u001b[0;31mKeyboardInterrupt\u001b[0m                         Traceback (most recent call last)",
            "\u001b[0;32m<ipython-input-146-91be9eac0071>\u001b[0m in \u001b[0;36m<module>\u001b[0;34m()\u001b[0m\n\u001b[1;32m      3\u001b[0m   \u001b[0;32mif\u001b[0m \u001b[0mPerturb\u001b[0m\u001b[0;34m.\u001b[0m\u001b[0mcontractions\u001b[0m\u001b[0;34m(\u001b[0m\u001b[0msample\u001b[0m\u001b[0;34m[\u001b[0m\u001b[0mi\u001b[0m\u001b[0;34m]\u001b[0m\u001b[0;34m)\u001b[0m \u001b[0;34m!=\u001b[0m \u001b[0;34m[\u001b[0m\u001b[0;34m]\u001b[0m\u001b[0;34m:\u001b[0m\u001b[0;34m\u001b[0m\u001b[0;34m\u001b[0m\u001b[0m\n\u001b[1;32m      4\u001b[0m \u001b[0;34m\u001b[0m\u001b[0m\n\u001b[0;32m----> 5\u001b[0;31m     \u001b[0mresult\u001b[0m \u001b[0;34m=\u001b[0m \u001b[0mpredictor_with_input_red\u001b[0m\u001b[0;34m.\u001b[0m\u001b[0mpredict\u001b[0m\u001b[0;34m(\u001b[0m\u001b[0msentence\u001b[0m\u001b[0;34m)\u001b[0m\u001b[0;34m\u001b[0m\u001b[0;34m\u001b[0m\u001b[0m\n\u001b[0m\u001b[1;32m      6\u001b[0m     \u001b[0mtokens\u001b[0m \u001b[0;34m=\u001b[0m \u001b[0mresult\u001b[0m\u001b[0;34m[\u001b[0m\u001b[0;34m'prediction'\u001b[0m\u001b[0;34m]\u001b[0m\u001b[0;34m[\u001b[0m\u001b[0;34m'tokens'\u001b[0m\u001b[0;34m]\u001b[0m\u001b[0;34m\u001b[0m\u001b[0;34m\u001b[0m\u001b[0m\n\u001b[1;32m      7\u001b[0m \u001b[0;34m\u001b[0m\u001b[0m\n",
            "\u001b[0;32m<ipython-input-7-75159f5aba12>\u001b[0m in \u001b[0;36mpredict\u001b[0;34m(self, sentence)\u001b[0m\n\u001b[1;32m      9\u001b[0m \u001b[0;34m\u001b[0m\u001b[0m\n\u001b[1;32m     10\u001b[0m     \u001b[0;32mdef\u001b[0m \u001b[0mpredict\u001b[0m\u001b[0;34m(\u001b[0m\u001b[0mself\u001b[0m\u001b[0;34m,\u001b[0m \u001b[0msentence\u001b[0m\u001b[0;34m:\u001b[0m \u001b[0mstr\u001b[0m\u001b[0;34m)\u001b[0m \u001b[0;34m->\u001b[0m \u001b[0mJsonDict\u001b[0m\u001b[0;34m:\u001b[0m\u001b[0;34m\u001b[0m\u001b[0;34m\u001b[0m\u001b[0m\n\u001b[0;32m---> 11\u001b[0;31m         \u001b[0;32mreturn\u001b[0m \u001b[0mself\u001b[0m\u001b[0;34m.\u001b[0m\u001b[0mpredict_json\u001b[0m\u001b[0;34m(\u001b[0m\u001b[0;34m{\u001b[0m\u001b[0;34m\"Description\"\u001b[0m\u001b[0;34m:\u001b[0m \u001b[0msentence\u001b[0m\u001b[0;34m}\u001b[0m\u001b[0;34m)\u001b[0m\u001b[0;34m\u001b[0m\u001b[0;34m\u001b[0m\u001b[0m\n\u001b[0m\u001b[1;32m     12\u001b[0m \u001b[0;34m\u001b[0m\u001b[0m\n\u001b[1;32m     13\u001b[0m     \u001b[0;34m@\u001b[0m\u001b[0moverrides\u001b[0m\u001b[0;34m\u001b[0m\u001b[0;34m\u001b[0m\u001b[0m\n",
            "\u001b[0;32m<ipython-input-12-ee2ea8e43325>\u001b[0m in \u001b[0;36mpredict_json\u001b[0;34m(self, json_dict)\u001b[0m\n\u001b[1;32m     10\u001b[0m                                            \u001b[0minput_field_to_attack\u001b[0m\u001b[0;34m=\u001b[0m\u001b[0;34m'tokens'\u001b[0m\u001b[0;34m,\u001b[0m\u001b[0;34m\u001b[0m\u001b[0;34m\u001b[0m\u001b[0m\n\u001b[1;32m     11\u001b[0m                                            \u001b[0mgrad_input_field\u001b[0m\u001b[0;34m=\u001b[0m\u001b[0;34m'grad_input_1'\u001b[0m\u001b[0;34m,\u001b[0m\u001b[0;34m\u001b[0m\u001b[0;34m\u001b[0m\u001b[0m\n\u001b[0;32m---> 12\u001b[0;31m                                            ignore_tokens=None)\n\u001b[0m\u001b[1;32m     13\u001b[0m \u001b[0;34m\u001b[0m\u001b[0m\n\u001b[1;32m     14\u001b[0m         \u001b[0;32mreturn\u001b[0m \u001b[0;34m{\u001b[0m\u001b[0;34m'prediction'\u001b[0m\u001b[0;34m:\u001b[0m \u001b[0mprediction\u001b[0m\u001b[0;34m,\u001b[0m \u001b[0;34m'input_reduction_output'\u001b[0m\u001b[0;34m:\u001b[0m \u001b[0mattack\u001b[0m\u001b[0;34m}\u001b[0m\u001b[0;34m\u001b[0m\u001b[0;34m\u001b[0m\u001b[0m\n",
            "\u001b[0;32m/usr/local/lib/python3.7/dist-packages/allennlp/interpret/attackers/input_reduction.py\u001b[0m in \u001b[0;36mattack_from_json\u001b[0;34m(self, inputs, input_field_to_attack, grad_input_field, ignore_tokens, target)\u001b[0m\n\u001b[1;32m     52\u001b[0m             final_tokens.append(\n\u001b[1;32m     53\u001b[0m                 self._attack_instance(\n\u001b[0;32m---> 54\u001b[0;31m                     \u001b[0minputs\u001b[0m\u001b[0;34m,\u001b[0m \u001b[0minstance\u001b[0m\u001b[0;34m,\u001b[0m \u001b[0minput_field_to_attack\u001b[0m\u001b[0;34m,\u001b[0m \u001b[0mgrad_input_field\u001b[0m\u001b[0;34m,\u001b[0m \u001b[0mignore_tokens\u001b[0m\u001b[0;34m\u001b[0m\u001b[0;34m\u001b[0m\u001b[0m\n\u001b[0m\u001b[1;32m     55\u001b[0m                 )\n\u001b[1;32m     56\u001b[0m             )\n",
            "\u001b[0;32m/usr/local/lib/python3.7/dist-packages/allennlp/interpret/attackers/input_reduction.py\u001b[0m in \u001b[0;36m_attack_instance\u001b[0;34m(self, inputs, instance, input_field_to_attack, grad_input_field, ignore_tokens)\u001b[0m\n\u001b[1;32m     97\u001b[0m                 \u001b[0;31m# get gradients and predictions\u001b[0m\u001b[0;34m\u001b[0m\u001b[0;34m\u001b[0m\u001b[0;34m\u001b[0m\u001b[0m\n\u001b[1;32m     98\u001b[0m                 \u001b[0mbeam_tag_mask\u001b[0m \u001b[0;34m=\u001b[0m \u001b[0mdeepcopy\u001b[0m\u001b[0;34m(\u001b[0m\u001b[0mtag_mask\u001b[0m\u001b[0;34m)\u001b[0m\u001b[0;34m\u001b[0m\u001b[0;34m\u001b[0m\u001b[0m\n\u001b[0;32m---> 99\u001b[0;31m                 \u001b[0mgrads\u001b[0m\u001b[0;34m,\u001b[0m \u001b[0moutputs\u001b[0m \u001b[0;34m=\u001b[0m \u001b[0mself\u001b[0m\u001b[0;34m.\u001b[0m\u001b[0mpredictor\u001b[0m\u001b[0;34m.\u001b[0m\u001b[0mget_gradients\u001b[0m\u001b[0;34m(\u001b[0m\u001b[0;34m[\u001b[0m\u001b[0mbeam_instance\u001b[0m\u001b[0;34m]\u001b[0m\u001b[0;34m)\u001b[0m\u001b[0;34m\u001b[0m\u001b[0;34m\u001b[0m\u001b[0m\n\u001b[0m\u001b[1;32m    100\u001b[0m \u001b[0;34m\u001b[0m\u001b[0m\n\u001b[1;32m    101\u001b[0m                 \u001b[0;32mfor\u001b[0m \u001b[0moutput\u001b[0m \u001b[0;32min\u001b[0m \u001b[0moutputs\u001b[0m\u001b[0;34m:\u001b[0m\u001b[0;34m\u001b[0m\u001b[0;34m\u001b[0m\u001b[0m\n",
            "\u001b[0;32m/usr/local/lib/python3.7/dist-packages/allennlp/predictors/predictor.py\u001b[0m in \u001b[0;36mget_gradients\u001b[0;34m(self, instances)\u001b[0m\n\u001b[1;32m    124\u001b[0m             \u001b[0;32mfor\u001b[0m \u001b[0mp\u001b[0m \u001b[0;32min\u001b[0m \u001b[0mself\u001b[0m\u001b[0;34m.\u001b[0m\u001b[0m_model\u001b[0m\u001b[0;34m.\u001b[0m\u001b[0mparameters\u001b[0m\u001b[0;34m(\u001b[0m\u001b[0;34m)\u001b[0m\u001b[0;34m:\u001b[0m\u001b[0;34m\u001b[0m\u001b[0;34m\u001b[0m\u001b[0m\n\u001b[1;32m    125\u001b[0m                 \u001b[0mp\u001b[0m\u001b[0;34m.\u001b[0m\u001b[0mgrad\u001b[0m \u001b[0;34m=\u001b[0m \u001b[0;32mNone\u001b[0m\u001b[0;34m\u001b[0m\u001b[0;34m\u001b[0m\u001b[0m\n\u001b[0;32m--> 126\u001b[0;31m             \u001b[0mloss\u001b[0m\u001b[0;34m.\u001b[0m\u001b[0mbackward\u001b[0m\u001b[0;34m(\u001b[0m\u001b[0;34m)\u001b[0m\u001b[0;34m\u001b[0m\u001b[0;34m\u001b[0m\u001b[0m\n\u001b[0m\u001b[1;32m    127\u001b[0m \u001b[0;34m\u001b[0m\u001b[0m\n\u001b[1;32m    128\u001b[0m         \u001b[0;32mfor\u001b[0m \u001b[0mhook\u001b[0m \u001b[0;32min\u001b[0m \u001b[0mhooks\u001b[0m\u001b[0;34m:\u001b[0m\u001b[0;34m\u001b[0m\u001b[0;34m\u001b[0m\u001b[0m\n",
            "\u001b[0;32m/usr/local/lib/python3.7/dist-packages/torch/tensor.py\u001b[0m in \u001b[0;36mbackward\u001b[0;34m(self, gradient, retain_graph, create_graph, inputs)\u001b[0m\n\u001b[1;32m    243\u001b[0m             \u001b[0;34m>>\u001b[0m\u001b[0;34m>\u001b[0m \u001b[0mv\u001b[0m\u001b[0;34m.\u001b[0m\u001b[0mgrad\u001b[0m\u001b[0;34m\u001b[0m\u001b[0;34m\u001b[0m\u001b[0m\n\u001b[1;32m    244\u001b[0m \u001b[0;34m\u001b[0m\u001b[0m\n\u001b[0;32m--> 245\u001b[0;31m              \u001b[0;36m2\u001b[0m\u001b[0;34m\u001b[0m\u001b[0;34m\u001b[0m\u001b[0m\n\u001b[0m\u001b[1;32m    246\u001b[0m              \u001b[0;36m4\u001b[0m\u001b[0;34m\u001b[0m\u001b[0;34m\u001b[0m\u001b[0m\n\u001b[1;32m    247\u001b[0m              \u001b[0;36m6\u001b[0m\u001b[0;34m\u001b[0m\u001b[0;34m\u001b[0m\u001b[0m\n",
            "\u001b[0;32m/usr/local/lib/python3.7/dist-packages/torch/autograd/__init__.py\u001b[0m in \u001b[0;36mbackward\u001b[0;34m(tensors, grad_tensors, retain_graph, create_graph, grad_variables, inputs)\u001b[0m\n\u001b[1;32m    145\u001b[0m \u001b[0;34m\u001b[0m\u001b[0m\n\u001b[1;32m    146\u001b[0m     \u001b[0;31m`\u001b[0m\u001b[0;31m`\u001b[0m\u001b[0mgrad_outputs\u001b[0m\u001b[0;31m`\u001b[0m\u001b[0;31m`\u001b[0m \u001b[0mshould\u001b[0m \u001b[0mbe\u001b[0m \u001b[0ma\u001b[0m \u001b[0msequence\u001b[0m \u001b[0mof\u001b[0m \u001b[0mlength\u001b[0m \u001b[0mmatching\u001b[0m\u001b[0;31m \u001b[0m\u001b[0;31m`\u001b[0m\u001b[0;31m`\u001b[0m\u001b[0moutput\u001b[0m\u001b[0;31m`\u001b[0m\u001b[0;31m`\u001b[0m\u001b[0;34m\u001b[0m\u001b[0;34m\u001b[0m\u001b[0m\n\u001b[0;32m--> 147\u001b[0;31m     \u001b[0mcontaining\u001b[0m \u001b[0mthe\u001b[0m \u001b[0;34m\"vector\"\u001b[0m \u001b[0;32min\u001b[0m \u001b[0mJacobian\u001b[0m\u001b[0;34m-\u001b[0m\u001b[0mvector\u001b[0m \u001b[0mproduct\u001b[0m\u001b[0;34m,\u001b[0m \u001b[0musually\u001b[0m \u001b[0mthe\u001b[0m \u001b[0mpre\u001b[0m\u001b[0;34m-\u001b[0m\u001b[0mcomputed\u001b[0m\u001b[0;34m\u001b[0m\u001b[0;34m\u001b[0m\u001b[0m\n\u001b[0m\u001b[1;32m    148\u001b[0m     \u001b[0mgradients\u001b[0m \u001b[0mw\u001b[0m\u001b[0;34m.\u001b[0m\u001b[0mr\u001b[0m\u001b[0;34m.\u001b[0m\u001b[0mt\u001b[0m\u001b[0;34m.\u001b[0m \u001b[0meach\u001b[0m \u001b[0mof\u001b[0m \u001b[0mthe\u001b[0m \u001b[0moutputs\u001b[0m\u001b[0;34m.\u001b[0m \u001b[0mIf\u001b[0m \u001b[0man\u001b[0m \u001b[0moutput\u001b[0m \u001b[0mdoesn\u001b[0m\u001b[0;31m'\u001b[0m\u001b[0mt\u001b[0m \u001b[0mrequire_grad\u001b[0m\u001b[0;34m,\u001b[0m\u001b[0;34m\u001b[0m\u001b[0;34m\u001b[0m\u001b[0m\n\u001b[1;32m    149\u001b[0m     then the gradient can be ``None``).\n",
            "\u001b[0;32m/usr/local/lib/python3.7/dist-packages/allennlp/predictors/predictor.py\u001b[0m in \u001b[0;36mhook_layers\u001b[0;34m(module, grad_in, grad_out)\u001b[0m\n\u001b[1;32m    186\u001b[0m         \"\"\"\n\u001b[1;32m    187\u001b[0m \u001b[0;34m\u001b[0m\u001b[0m\n\u001b[0;32m--> 188\u001b[0;31m         \u001b[0;32mdef\u001b[0m \u001b[0mhook_layers\u001b[0m\u001b[0;34m(\u001b[0m\u001b[0mmodule\u001b[0m\u001b[0;34m,\u001b[0m \u001b[0mgrad_in\u001b[0m\u001b[0;34m,\u001b[0m \u001b[0mgrad_out\u001b[0m\u001b[0;34m)\u001b[0m\u001b[0;34m:\u001b[0m\u001b[0;34m\u001b[0m\u001b[0;34m\u001b[0m\u001b[0m\n\u001b[0m\u001b[1;32m    189\u001b[0m             \u001b[0mgrads\u001b[0m \u001b[0;34m=\u001b[0m \u001b[0mgrad_out\u001b[0m\u001b[0;34m[\u001b[0m\u001b[0;36m0\u001b[0m\u001b[0;34m]\u001b[0m\u001b[0;34m\u001b[0m\u001b[0;34m\u001b[0m\u001b[0m\n\u001b[1;32m    190\u001b[0m             \u001b[0;32mif\u001b[0m \u001b[0mself\u001b[0m\u001b[0;34m.\u001b[0m\u001b[0m_token_offsets\u001b[0m\u001b[0;34m:\u001b[0m\u001b[0;34m\u001b[0m\u001b[0;34m\u001b[0m\u001b[0m\n",
            "\u001b[0;31mKeyboardInterrupt\u001b[0m: "
          ]
        }
      ]
    },
    {
      "cell_type": "code",
      "metadata": {
        "colab": {
          "base_uri": "https://localhost:8080/",
          "height": 164
        },
        "id": "KiAxp-2ArHBj",
        "outputId": "f2fe926d-4b11-49b6-96e9-3079b23ebb9d"
      },
      "source": [
        "gradient_list_pert"
      ],
      "execution_count": 1,
      "outputs": [
        {
          "output_type": "error",
          "ename": "NameError",
          "evalue": "ignored",
          "traceback": [
            "\u001b[0;31m---------------------------------------------------------------------------\u001b[0m",
            "\u001b[0;31mNameError\u001b[0m                                 Traceback (most recent call last)",
            "\u001b[0;32m<ipython-input-1-a3667766b91a>\u001b[0m in \u001b[0;36m<module>\u001b[0;34m()\u001b[0m\n\u001b[0;32m----> 1\u001b[0;31m \u001b[0mgradient_list_pert\u001b[0m\u001b[0;34m\u001b[0m\u001b[0;34m\u001b[0m\u001b[0m\n\u001b[0m",
            "\u001b[0;31mNameError\u001b[0m: name 'gradient_list_pert' is not defined"
          ]
        }
      ]
    },
    {
      "cell_type": "code",
      "metadata": {
        "colab": {
          "base_uri": "https://localhost:8080/"
        },
        "id": "eo8Kxq1wuRMv",
        "outputId": "1c97566b-16f0-4456-dce6-29afdcb88e89"
      },
      "source": [
        "rank_orig = np.argsort(-gradient_list_orig)\n",
        "ranked_elements_orig = np.empty(len(rank_orig))\n",
        "rank = 1\n",
        "for i in range(len(rank_orig)):\n",
        "  ranked_elements_orig[rank_orig[i]] = rank\n",
        "  rank += 1\n",
        "ranked_elements_orig"
      ],
      "execution_count": null,
      "outputs": [
        {
          "output_type": "execute_result",
          "data": {
            "text/plain": [
              "array([24., 47., 19., 31., 40.,  2.,  6.,  3., 22., 49., 25., 48., 46.,\n",
              "       50., 36., 45., 18.,  1., 10., 54., 39.,  7., 14., 27., 34., 13.,\n",
              "       37., 12., 35., 41., 29., 30., 32., 56.,  8., 28., 16., 42., 23.,\n",
              "       33.,  5., 43., 11., 38., 51., 52., 44.,  4., 21., 26., 15., 20.,\n",
              "       17.,  9., 55., 53.])"
            ]
          },
          "metadata": {
            "tags": []
          },
          "execution_count": 165
        }
      ]
    },
    {
      "cell_type": "code",
      "metadata": {
        "colab": {
          "base_uri": "https://localhost:8080/"
        },
        "id": "xxxdMe1kuqCL",
        "outputId": "9320005d-4898-4ff8-b260-e2e79ba1b0a2"
      },
      "source": [
        "rank_pert = np.argsort(-gradient_list_pert)\n",
        "ranked_elements_pert = np.empty(len(rank_pert))\n",
        "rank = 1\n",
        "for i in range(len(rank_pert)):\n",
        "  ranked_elements_pert[rank_pert[i]] = rank\n",
        "  rank += 1\n",
        "ranked_elements_pert"
      ],
      "execution_count": null,
      "outputs": [
        {
          "output_type": "execute_result",
          "data": {
            "text/plain": [
              "array([32., 41.,  6., 13., 24.,  2.,  4.,  3.,  5., 40., 27., 31., 48.,\n",
              "       51., 35., 52., 26.,  1., 15., 46., 49., 16.,  9., 33., 39., 14.,\n",
              "       36., 11., 38., 47., 30., 29., 34., 54.,  7., 25., 19., 42., 20.,\n",
              "       37., 10., 44., 18., 45., 50., 56., 43.,  8., 23., 28., 17., 22.,\n",
              "       21., 12., 53., 55.])"
            ]
          },
          "metadata": {
            "tags": []
          },
          "execution_count": 164
        }
      ]
    },
    {
      "cell_type": "code",
      "metadata": {
        "colab": {
          "base_uri": "https://localhost:8080/"
        },
        "id": "trDgjrvMvHRl",
        "outputId": "0749228b-fdff-44ab-c980-a4c0af073455"
      },
      "source": [
        "kendalltau(rank_pert, rank_orig)"
      ],
      "execution_count": null,
      "outputs": [
        {
          "output_type": "execute_result",
          "data": {
            "text/plain": [
              "KendalltauResult(correlation=0.18571428571428575, pvalue=0.04324716848226369)"
            ]
          },
          "metadata": {
            "tags": []
          },
          "execution_count": 168
        }
      ]
    },
    {
      "cell_type": "code",
      "metadata": {
        "colab": {
          "base_uri": "https://localhost:8080/"
        },
        "id": "ilbeVeT3vOcA",
        "outputId": "46a6f200-0b24-4458-9993-65c852d750e7"
      },
      "source": [
        "spearmanr(rank_pert, rank_orig)"
      ],
      "execution_count": null,
      "outputs": [
        {
          "output_type": "execute_result",
          "data": {
            "text/plain": [
              "SpearmanrResult(correlation=0.27771701982228303, pvalue=0.03823479957213016)"
            ]
          },
          "metadata": {
            "tags": []
          },
          "execution_count": 170
        }
      ]
    },
    {
      "cell_type": "code",
      "metadata": {
        "id": "Cj8tzhz95HfE"
      },
      "source": [
        ""
      ],
      "execution_count": null,
      "outputs": []
    }
  ]
}