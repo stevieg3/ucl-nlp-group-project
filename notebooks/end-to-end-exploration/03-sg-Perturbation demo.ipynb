{
 "cells": [
  {
   "cell_type": "code",
   "execution_count": 1,
   "id": "92850992",
   "metadata": {},
   "outputs": [],
   "source": [
    "import os\n",
    "\n",
    "import pandas as pd\n",
    "import numpy as np"
   ]
  },
  {
   "cell_type": "code",
   "execution_count": 2,
   "id": "3c5f1f7b",
   "metadata": {},
   "outputs": [],
   "source": [
    "os.chdir('../..')"
   ]
  },
  {
   "cell_type": "code",
   "execution_count": 3,
   "id": "732729d1",
   "metadata": {},
   "outputs": [],
   "source": [
    "from src.data.dataload import load_sst"
   ]
  },
  {
   "cell_type": "code",
   "execution_count": 4,
   "id": "99be89cb",
   "metadata": {},
   "outputs": [],
   "source": [
    "sst = load_sst()"
   ]
  },
  {
   "cell_type": "code",
   "execution_count": 5,
   "id": "bfbe44ff",
   "metadata": {},
   "outputs": [],
   "source": [
    "train, dev, test = sst.train_val_test"
   ]
  },
  {
   "cell_type": "code",
   "execution_count": 6,
   "id": "dc3431bf",
   "metadata": {},
   "outputs": [
    {
     "data": {
      "text/plain": [
       "((8544, 2), (1101, 2), (2210, 2))"
      ]
     },
     "execution_count": 6,
     "metadata": {},
     "output_type": "execute_result"
    }
   ],
   "source": [
    "train.shape, dev.shape, test.shape"
   ]
  },
  {
   "cell_type": "code",
   "execution_count": 7,
   "id": "a97e6be5",
   "metadata": {},
   "outputs": [
    {
     "data": {
      "text/html": [
       "<div>\n",
       "<style scoped>\n",
       "    .dataframe tbody tr th:only-of-type {\n",
       "        vertical-align: middle;\n",
       "    }\n",
       "\n",
       "    .dataframe tbody tr th {\n",
       "        vertical-align: top;\n",
       "    }\n",
       "\n",
       "    .dataframe thead th {\n",
       "        text-align: right;\n",
       "    }\n",
       "</style>\n",
       "<table border=\"1\" class=\"dataframe\">\n",
       "  <thead>\n",
       "    <tr style=\"text-align: right;\">\n",
       "      <th></th>\n",
       "      <th>sentence</th>\n",
       "      <th>label</th>\n",
       "    </tr>\n",
       "  </thead>\n",
       "  <tbody>\n",
       "    <tr>\n",
       "      <th>0</th>\n",
       "      <td>The Rock is destined to be the 21st Century 's...</td>\n",
       "      <td>3</td>\n",
       "    </tr>\n",
       "    <tr>\n",
       "      <th>1</th>\n",
       "      <td>The gorgeously elaborate continuation of `` Th...</td>\n",
       "      <td>4</td>\n",
       "    </tr>\n",
       "    <tr>\n",
       "      <th>2</th>\n",
       "      <td>Singer/composer Bryan Adams contributes a slew...</td>\n",
       "      <td>3</td>\n",
       "    </tr>\n",
       "    <tr>\n",
       "      <th>3</th>\n",
       "      <td>You 'd think by now America would have had eno...</td>\n",
       "      <td>2</td>\n",
       "    </tr>\n",
       "    <tr>\n",
       "      <th>4</th>\n",
       "      <td>Yet the act is still charming here .</td>\n",
       "      <td>3</td>\n",
       "    </tr>\n",
       "  </tbody>\n",
       "</table>\n",
       "</div>"
      ],
      "text/plain": [
       "                                            sentence  label\n",
       "0  The Rock is destined to be the 21st Century 's...      3\n",
       "1  The gorgeously elaborate continuation of `` Th...      4\n",
       "2  Singer/composer Bryan Adams contributes a slew...      3\n",
       "3  You 'd think by now America would have had eno...      2\n",
       "4               Yet the act is still charming here .      3"
      ]
     },
     "execution_count": 7,
     "metadata": {},
     "output_type": "execute_result"
    }
   ],
   "source": [
    "train.head()"
   ]
  },
  {
   "cell_type": "code",
   "execution_count": 8,
   "id": "a68212f7",
   "metadata": {},
   "outputs": [],
   "source": [
    "from src.data.perturbations import \\\n",
    "    add_checklist_perturbations, \\\n",
    "    checklist_add_typos, \\\n",
    "    checklist_change_names, \\\n",
    "    checklist_contract_sentence, \\\n",
    "    checklist_strip_punctuation"
   ]
  },
  {
   "cell_type": "code",
   "execution_count": 9,
   "id": "1bb1d521",
   "metadata": {},
   "outputs": [],
   "source": [
    "train_perturbations = add_checklist_perturbations(\n",
    "    df=train, \n",
    "    sentence_col_name='sentence', \n",
    "    perturbation_functions=[\n",
    "        checklist_add_typos, \n",
    "        checklist_change_names, \n",
    "        checklist_contract_sentence, \n",
    "        checklist_strip_punctuation\n",
    "    ]\n",
    ")"
   ]
  },
  {
   "cell_type": "code",
   "execution_count": 10,
   "id": "5a27f165",
   "metadata": {},
   "outputs": [
    {
     "data": {
      "text/html": [
       "<div>\n",
       "<style scoped>\n",
       "    .dataframe tbody tr th:only-of-type {\n",
       "        vertical-align: middle;\n",
       "    }\n",
       "\n",
       "    .dataframe tbody tr th {\n",
       "        vertical-align: top;\n",
       "    }\n",
       "\n",
       "    .dataframe thead th {\n",
       "        text-align: right;\n",
       "    }\n",
       "</style>\n",
       "<table border=\"1\" class=\"dataframe\">\n",
       "  <thead>\n",
       "    <tr style=\"text-align: right;\">\n",
       "      <th></th>\n",
       "      <th>sentence</th>\n",
       "      <th>label</th>\n",
       "      <th>sentence_add_typos</th>\n",
       "      <th>success_add_typos</th>\n",
       "      <th>sentence_change_names</th>\n",
       "      <th>success_change_names</th>\n",
       "      <th>sentence_contract_sent</th>\n",
       "      <th>success_contract_sent</th>\n",
       "      <th>sentence_strip_punct</th>\n",
       "      <th>success_strip_punct</th>\n",
       "    </tr>\n",
       "  </thead>\n",
       "  <tbody>\n",
       "    <tr>\n",
       "      <th>0</th>\n",
       "      <td>The Rock is destined to be the 21st Century 's...</td>\n",
       "      <td>3</td>\n",
       "      <td>The Rock is destined to be the 21st Century 's...</td>\n",
       "      <td>1</td>\n",
       "      <td>The Rock is destined to be the 21st Century 's...</td>\n",
       "      <td>1</td>\n",
       "      <td>The Rock is destined to be the 21st Century 's...</td>\n",
       "      <td>0</td>\n",
       "      <td>The Rock is destined to be the 21st Century 's...</td>\n",
       "      <td>1</td>\n",
       "    </tr>\n",
       "    <tr>\n",
       "      <th>1</th>\n",
       "      <td>The gorgeously elaborate continuation of `` Th...</td>\n",
       "      <td>4</td>\n",
       "      <td>The gorgeously elaborate continuation of `` Th...</td>\n",
       "      <td>1</td>\n",
       "      <td>The gorgeously elaborate continuation of `` Th...</td>\n",
       "      <td>1</td>\n",
       "      <td>The gorgeously elaborate continuation of `` Th...</td>\n",
       "      <td>0</td>\n",
       "      <td>The gorgeously elaborate continuation of `` Th...</td>\n",
       "      <td>1</td>\n",
       "    </tr>\n",
       "    <tr>\n",
       "      <th>2</th>\n",
       "      <td>Singer/composer Bryan Adams contributes a slew...</td>\n",
       "      <td>3</td>\n",
       "      <td>Singer/composer Bryan Adams contributes a slew...</td>\n",
       "      <td>1</td>\n",
       "      <td>Singer/composer Michael Campbell contributes a...</td>\n",
       "      <td>1</td>\n",
       "      <td>Singer/composer Bryan Adams contributes a slew...</td>\n",
       "      <td>0</td>\n",
       "      <td>Singer/composer Bryan Adams contributes a slew...</td>\n",
       "      <td>1</td>\n",
       "    </tr>\n",
       "    <tr>\n",
       "      <th>3</th>\n",
       "      <td>You 'd think by now America would have had eno...</td>\n",
       "      <td>2</td>\n",
       "      <td>You 'd think by now America would have had eno...</td>\n",
       "      <td>1</td>\n",
       "      <td>You 'd think by now America would have had eno...</td>\n",
       "      <td>0</td>\n",
       "      <td>You 'd think by now America would have had eno...</td>\n",
       "      <td>0</td>\n",
       "      <td>You 'd think by now America would have had eno...</td>\n",
       "      <td>1</td>\n",
       "    </tr>\n",
       "    <tr>\n",
       "      <th>4</th>\n",
       "      <td>Yet the act is still charming here .</td>\n",
       "      <td>3</td>\n",
       "      <td>Yet the cat is still charming here .</td>\n",
       "      <td>1</td>\n",
       "      <td>Yet the act is still charming here .</td>\n",
       "      <td>0</td>\n",
       "      <td>Yet the act is still charming here .</td>\n",
       "      <td>0</td>\n",
       "      <td>Yet the act is still charming here</td>\n",
       "      <td>1</td>\n",
       "    </tr>\n",
       "  </tbody>\n",
       "</table>\n",
       "</div>"
      ],
      "text/plain": [
       "                                            sentence  label  \\\n",
       "0  The Rock is destined to be the 21st Century 's...      3   \n",
       "1  The gorgeously elaborate continuation of `` Th...      4   \n",
       "2  Singer/composer Bryan Adams contributes a slew...      3   \n",
       "3  You 'd think by now America would have had eno...      2   \n",
       "4               Yet the act is still charming here .      3   \n",
       "\n",
       "                                  sentence_add_typos  success_add_typos  \\\n",
       "0  The Rock is destined to be the 21st Century 's...                  1   \n",
       "1  The gorgeously elaborate continuation of `` Th...                  1   \n",
       "2  Singer/composer Bryan Adams contributes a slew...                  1   \n",
       "3  You 'd think by now America would have had eno...                  1   \n",
       "4               Yet the cat is still charming here .                  1   \n",
       "\n",
       "                               sentence_change_names  success_change_names  \\\n",
       "0  The Rock is destined to be the 21st Century 's...                     1   \n",
       "1  The gorgeously elaborate continuation of `` Th...                     1   \n",
       "2  Singer/composer Michael Campbell contributes a...                     1   \n",
       "3  You 'd think by now America would have had eno...                     0   \n",
       "4               Yet the act is still charming here .                     0   \n",
       "\n",
       "                              sentence_contract_sent  success_contract_sent  \\\n",
       "0  The Rock is destined to be the 21st Century 's...                      0   \n",
       "1  The gorgeously elaborate continuation of `` Th...                      0   \n",
       "2  Singer/composer Bryan Adams contributes a slew...                      0   \n",
       "3  You 'd think by now America would have had eno...                      0   \n",
       "4               Yet the act is still charming here .                      0   \n",
       "\n",
       "                                sentence_strip_punct  success_strip_punct  \n",
       "0  The Rock is destined to be the 21st Century 's...                    1  \n",
       "1  The gorgeously elaborate continuation of `` Th...                    1  \n",
       "2  Singer/composer Bryan Adams contributes a slew...                    1  \n",
       "3  You 'd think by now America would have had eno...                    1  \n",
       "4                 Yet the act is still charming here                    1  "
      ]
     },
     "execution_count": 10,
     "metadata": {},
     "output_type": "execute_result"
    }
   ],
   "source": [
    "train_perturbations.head()"
   ]
  },
  {
   "cell_type": "code",
   "execution_count": null,
   "id": "c24a785b",
   "metadata": {},
   "outputs": [],
   "source": []
  }
 ],
 "metadata": {
  "kernelspec": {
   "display_name": "Python 3",
   "language": "python",
   "name": "python3"
  },
  "language_info": {
   "codemirror_mode": {
    "name": "ipython",
    "version": 3
   },
   "file_extension": ".py",
   "mimetype": "text/x-python",
   "name": "python",
   "nbconvert_exporter": "python",
   "pygments_lexer": "ipython3",
   "version": "3.7.10"
  }
 },
 "nbformat": 4,
 "nbformat_minor": 5
}
