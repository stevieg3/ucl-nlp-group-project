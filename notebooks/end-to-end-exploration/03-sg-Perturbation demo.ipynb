{
 "cells": [
  {
   "cell_type": "code",
   "execution_count": 1,
   "metadata": {},
   "outputs": [],
   "source": [
    "import os\n",
    "\n",
    "import pandas as pd\n",
    "import numpy as np\n",
    "\n",
    "import time\n",
    "\n",
    "# need to filter warnings related to spacy lemmatizer\n",
    "import logging\n",
    "logger = logging.getLogger(\"spacy\")\n",
    "logger.setLevel(logging.ERROR)"
   ]
  },
  {
   "cell_type": "code",
   "execution_count": 2,
   "metadata": {},
   "outputs": [],
   "source": [
    "os.chdir('../..')"
   ]
  },
  {
   "cell_type": "code",
   "execution_count": 3,
   "metadata": {},
   "outputs": [],
   "source": [
    "from src.data.dataload import load_sst\n",
    "from src.data.dataload import load_agnews"
   ]
  },
  {
   "cell_type": "code",
   "execution_count": 4,
   "metadata": {},
   "outputs": [],
   "source": [
    "sst = load_sst()\n",
    "agnews = load_agnews()"
   ]
  },
  {
   "cell_type": "code",
   "execution_count": 5,
   "metadata": {},
   "outputs": [],
   "source": [
    "input_data = {'sst': sst, 'agnews': agnews}\n",
    "datasets = list(input_data.keys())"
   ]
  },
  {
   "cell_type": "code",
   "execution_count": 6,
   "metadata": {},
   "outputs": [
    {
     "name": "stderr",
     "output_type": "stream",
     "text": [
      "Using custom data configuration default\n",
      "Reusing dataset ag_news (/Users/olivier/.cache/huggingface/datasets/ag_news/default/0.0.0/fb5c5e74a110037311ef5e904583ce9f8b9fbc1354290f97b4929f01b3f48b1a)\n"
     ]
    }
   ],
   "source": [
    "train = {}\n",
    "dev = {}\n",
    "test = {}\n",
    "\n",
    "for dataset in datasets:\n",
    "    train[dataset], dev[dataset], test[dataset] = input_data[dataset].train_val_test"
   ]
  },
  {
   "cell_type": "code",
   "execution_count": 7,
   "metadata": {},
   "outputs": [
    {
     "name": "stdout",
     "output_type": "stream",
     "text": [
      "(8544, 2) (1101, 2) (2210, 2)\n",
      "(108000, 2) (12000, 2) (7600, 2)\n"
     ]
    }
   ],
   "source": [
    "for dataset in datasets:\n",
    "    print(train[dataset].shape, dev[dataset].shape, test[dataset].shape)"
   ]
  },
  {
   "cell_type": "code",
   "execution_count": 8,
   "metadata": {},
   "outputs": [
    {
     "data": {
      "text/html": [
       "<div>\n",
       "<style scoped>\n",
       "    .dataframe tbody tr th:only-of-type {\n",
       "        vertical-align: middle;\n",
       "    }\n",
       "\n",
       "    .dataframe tbody tr th {\n",
       "        vertical-align: top;\n",
       "    }\n",
       "\n",
       "    .dataframe thead th {\n",
       "        text-align: right;\n",
       "    }\n",
       "</style>\n",
       "<table border=\"1\" class=\"dataframe\">\n",
       "  <thead>\n",
       "    <tr style=\"text-align: right;\">\n",
       "      <th></th>\n",
       "      <th>sentence</th>\n",
       "      <th>label</th>\n",
       "    </tr>\n",
       "  </thead>\n",
       "  <tbody>\n",
       "    <tr>\n",
       "      <th>0</th>\n",
       "      <td>The Rock is destined to be the 21st Century 's...</td>\n",
       "      <td>3</td>\n",
       "    </tr>\n",
       "    <tr>\n",
       "      <th>1</th>\n",
       "      <td>The gorgeously elaborate continuation of `` Th...</td>\n",
       "      <td>4</td>\n",
       "    </tr>\n",
       "    <tr>\n",
       "      <th>2</th>\n",
       "      <td>Singer/composer Bryan Adams contributes a slew...</td>\n",
       "      <td>3</td>\n",
       "    </tr>\n",
       "    <tr>\n",
       "      <th>3</th>\n",
       "      <td>You 'd think by now America would have had eno...</td>\n",
       "      <td>2</td>\n",
       "    </tr>\n",
       "    <tr>\n",
       "      <th>4</th>\n",
       "      <td>Yet the act is still charming here .</td>\n",
       "      <td>3</td>\n",
       "    </tr>\n",
       "  </tbody>\n",
       "</table>\n",
       "</div>"
      ],
      "text/plain": [
       "                                            sentence  label\n",
       "0  The Rock is destined to be the 21st Century 's...      3\n",
       "1  The gorgeously elaborate continuation of `` Th...      4\n",
       "2  Singer/composer Bryan Adams contributes a slew...      3\n",
       "3  You 'd think by now America would have had eno...      2\n",
       "4               Yet the act is still charming here .      3"
      ]
     },
     "execution_count": 8,
     "metadata": {},
     "output_type": "execute_result"
    }
   ],
   "source": [
    "train['sst'].head()"
   ]
  },
  {
   "cell_type": "code",
   "execution_count": 9,
   "metadata": {},
   "outputs": [],
   "source": [
    "# not sure if this has been fixed in the data loader. Right now the indices are shuffled.\n",
    "train['agnews'] = train['agnews'].reset_index()\n",
    "del(train['agnews']['index'])"
   ]
  },
  {
   "cell_type": "code",
   "execution_count": 10,
   "metadata": {},
   "outputs": [
    {
     "data": {
      "text/html": [
       "<div>\n",
       "<style scoped>\n",
       "    .dataframe tbody tr th:only-of-type {\n",
       "        vertical-align: middle;\n",
       "    }\n",
       "\n",
       "    .dataframe tbody tr th {\n",
       "        vertical-align: top;\n",
       "    }\n",
       "\n",
       "    .dataframe thead th {\n",
       "        text-align: right;\n",
       "    }\n",
       "</style>\n",
       "<table border=\"1\" class=\"dataframe\">\n",
       "  <thead>\n",
       "    <tr style=\"text-align: right;\">\n",
       "      <th></th>\n",
       "      <th>label</th>\n",
       "      <th>text</th>\n",
       "    </tr>\n",
       "  </thead>\n",
       "  <tbody>\n",
       "    <tr>\n",
       "      <th>0</th>\n",
       "      <td>0</td>\n",
       "      <td>Rocket Explodes Above US Base in Kabul, No Cas...</td>\n",
       "    </tr>\n",
       "    <tr>\n",
       "      <th>1</th>\n",
       "      <td>0</td>\n",
       "      <td>Pakistan elects new prime minister Pakistan #3...</td>\n",
       "    </tr>\n",
       "    <tr>\n",
       "      <th>2</th>\n",
       "      <td>0</td>\n",
       "      <td>Crippled Canadian sub reaches Scotland The cri...</td>\n",
       "    </tr>\n",
       "    <tr>\n",
       "      <th>3</th>\n",
       "      <td>0</td>\n",
       "      <td>US, Nigeria to hold joint military training ne...</td>\n",
       "    </tr>\n",
       "    <tr>\n",
       "      <th>4</th>\n",
       "      <td>2</td>\n",
       "      <td>Vodafone denies backing Verizon #39;s bid for ...</td>\n",
       "    </tr>\n",
       "  </tbody>\n",
       "</table>\n",
       "</div>"
      ],
      "text/plain": [
       "   label                                               text\n",
       "0      0  Rocket Explodes Above US Base in Kabul, No Cas...\n",
       "1      0  Pakistan elects new prime minister Pakistan #3...\n",
       "2      0  Crippled Canadian sub reaches Scotland The cri...\n",
       "3      0  US, Nigeria to hold joint military training ne...\n",
       "4      2  Vodafone denies backing Verizon #39;s bid for ..."
      ]
     },
     "execution_count": 10,
     "metadata": {},
     "output_type": "execute_result"
    }
   ],
   "source": [
    "train['agnews'].head()"
   ]
  },
  {
   "cell_type": "code",
   "execution_count": 11,
   "metadata": {},
   "outputs": [],
   "source": [
    "from src.data.perturbations import add_perturbations"
   ]
  },
  {
   "cell_type": "code",
   "execution_count": 12,
   "metadata": {},
   "outputs": [],
   "source": [
    "from src.data.perturbations import checklist_contract_sentence"
   ]
  },
  {
   "cell_type": "code",
   "execution_count": 13,
   "metadata": {},
   "outputs": [],
   "source": [
    "# train_perturbations = add_perturbations(\n",
    "#     df=train['sst'], \n",
    "#     sentence_col_name='sentence', \n",
    "#     perturbation_functions=[\n",
    "#         checklist_add_typos, \n",
    "#         checklist_change_names, \n",
    "#         checklist_contract_sentence, \n",
    "#         checklist_strip_punctuation\n",
    "#     ]\n",
    "# )"
   ]
  },
  {
   "cell_type": "code",
   "execution_count": 14,
   "metadata": {},
   "outputs": [],
   "source": [
    "# train_perturbations.head()"
   ]
  },
  {
   "cell_type": "code",
   "execution_count": 15,
   "metadata": {},
   "outputs": [],
   "source": [
    "from src.data.perturbations import custom_remove_commas, \\\n",
    "custom_remove_all_punctuation, \\\n",
    "custom_switch_gender, \\\n",
    "custom_strip_trailing_punct, \\\n",
    "custom_add_typo, \\\n",
    "custom_change_first_names, \\\n",
    "custom_change_last_names, \\\n",
    "custom_change_location"
   ]
  },
  {
   "cell_type": "code",
   "execution_count": 16,
   "metadata": {},
   "outputs": [],
   "source": [
    "train_subset = train['agnews'][:100].copy()"
   ]
  },
  {
   "cell_type": "code",
   "execution_count": 17,
   "metadata": {},
   "outputs": [
    {
     "data": {
      "text/html": [
       "<div>\n",
       "<style scoped>\n",
       "    .dataframe tbody tr th:only-of-type {\n",
       "        vertical-align: middle;\n",
       "    }\n",
       "\n",
       "    .dataframe tbody tr th {\n",
       "        vertical-align: top;\n",
       "    }\n",
       "\n",
       "    .dataframe thead th {\n",
       "        text-align: right;\n",
       "    }\n",
       "</style>\n",
       "<table border=\"1\" class=\"dataframe\">\n",
       "  <thead>\n",
       "    <tr style=\"text-align: right;\">\n",
       "      <th></th>\n",
       "      <th>label</th>\n",
       "      <th>text</th>\n",
       "    </tr>\n",
       "  </thead>\n",
       "  <tbody>\n",
       "    <tr>\n",
       "      <th>0</th>\n",
       "      <td>0</td>\n",
       "      <td>Rocket Explodes Above US Base in Kabul, No Cas...</td>\n",
       "    </tr>\n",
       "    <tr>\n",
       "      <th>1</th>\n",
       "      <td>0</td>\n",
       "      <td>Pakistan elects new prime minister Pakistan #3...</td>\n",
       "    </tr>\n",
       "    <tr>\n",
       "      <th>2</th>\n",
       "      <td>0</td>\n",
       "      <td>Crippled Canadian sub reaches Scotland The cri...</td>\n",
       "    </tr>\n",
       "    <tr>\n",
       "      <th>3</th>\n",
       "      <td>0</td>\n",
       "      <td>US, Nigeria to hold joint military training ne...</td>\n",
       "    </tr>\n",
       "    <tr>\n",
       "      <th>4</th>\n",
       "      <td>2</td>\n",
       "      <td>Vodafone denies backing Verizon #39;s bid for ...</td>\n",
       "    </tr>\n",
       "  </tbody>\n",
       "</table>\n",
       "</div>"
      ],
      "text/plain": [
       "   label                                               text\n",
       "0      0  Rocket Explodes Above US Base in Kabul, No Cas...\n",
       "1      0  Pakistan elects new prime minister Pakistan #3...\n",
       "2      0  Crippled Canadian sub reaches Scotland The cri...\n",
       "3      0  US, Nigeria to hold joint military training ne...\n",
       "4      2  Vodafone denies backing Verizon #39;s bid for ..."
      ]
     },
     "execution_count": 17,
     "metadata": {},
     "output_type": "execute_result"
    }
   ],
   "source": [
    "train_subset.head()"
   ]
  },
  {
   "cell_type": "code",
   "execution_count": 18,
   "metadata": {},
   "outputs": [
    {
     "name": "stdout",
     "output_type": "stream",
     "text": [
      "2.200652837753296\n"
     ]
    }
   ],
   "source": [
    "t0 = time.time()\n",
    "\n",
    "train_perturbations = add_perturbations(\n",
    "    df=train_subset, \n",
    "    sentence_col_name='text', \n",
    "    perturbation_functions=[\n",
    "        custom_change_first_names,\n",
    "        custom_change_last_names,\n",
    "        custom_change_location\n",
    "    ]\n",
    ")\n",
    "\n",
    "t1 = time.time()\n",
    "print(t1-t0)"
   ]
  },
  {
   "cell_type": "code",
   "execution_count": 25,
   "metadata": {},
   "outputs": [
    {
     "data": {
      "text/html": [
       "<div>\n",
       "<style scoped>\n",
       "    .dataframe tbody tr th:only-of-type {\n",
       "        vertical-align: middle;\n",
       "    }\n",
       "\n",
       "    .dataframe tbody tr th {\n",
       "        vertical-align: top;\n",
       "    }\n",
       "\n",
       "    .dataframe thead th {\n",
       "        text-align: right;\n",
       "    }\n",
       "</style>\n",
       "<table border=\"1\" class=\"dataframe\">\n",
       "  <thead>\n",
       "    <tr style=\"text-align: right;\">\n",
       "      <th></th>\n",
       "      <th>label</th>\n",
       "      <th>text</th>\n",
       "      <th>text_tokens</th>\n",
       "      <th>text_change_first_name_concat</th>\n",
       "      <th>text_change_first_name_tokens</th>\n",
       "      <th>success_change_first_name</th>\n",
       "      <th>text_change_last_name_concat</th>\n",
       "      <th>text_change_last_name_tokens</th>\n",
       "      <th>success_change_last_name</th>\n",
       "      <th>text_change_location_concat</th>\n",
       "      <th>text_change_location_tokens</th>\n",
       "      <th>success_change_location_name</th>\n",
       "    </tr>\n",
       "  </thead>\n",
       "  <tbody>\n",
       "    <tr>\n",
       "      <th>0</th>\n",
       "      <td>0</td>\n",
       "      <td>Rocket Explodes Above US Base in Kabul, No Cas...</td>\n",
       "      <td>[Rocket, Explodes, Above, US, Base, in, Kabul,...</td>\n",
       "      <td>Rocket Explodes Above US Base in Kabul, No Cas...</td>\n",
       "      <td>[Rocket, Explodes, Above, US, Base, in, Kabul,...</td>\n",
       "      <td>0</td>\n",
       "      <td>Rocket Explodes Above US Base in Kabul, No Cas...</td>\n",
       "      <td>[Rocket, Explodes, Above, US, Base, in, Kabul,...</td>\n",
       "      <td>0</td>\n",
       "      <td>Rocket Explodes Above US Base in Kabul, No Cas...</td>\n",
       "      <td>[Rocket, Explodes, Above, US, Base, in, Kabul,...</td>\n",
       "      <td>[1, [29]]</td>\n",
       "    </tr>\n",
       "    <tr>\n",
       "      <th>1</th>\n",
       "      <td>0</td>\n",
       "      <td>Pakistan elects new prime minister Pakistan #3...</td>\n",
       "      <td>[Pakistan, elects, new, prime, minister, Pakis...</td>\n",
       "      <td>Pakistan elects new prime minister Pakistan #3...</td>\n",
       "      <td>[Pakistan, elects, new, prime, minister, Pakis...</td>\n",
       "      <td>[1, [12]]</td>\n",
       "      <td>Pakistan elects new prime minister Pakistan #3...</td>\n",
       "      <td>[Pakistan, elects, new, prime, minister, Pakis...</td>\n",
       "      <td>0</td>\n",
       "      <td>Sudan elects new prime minister Sudan #39;s Na...</td>\n",
       "      <td>[Sudan, elects, new, prime, minister, Pakistan...</td>\n",
       "      <td>[1, [0]]</td>\n",
       "    </tr>\n",
       "    <tr>\n",
       "      <th>2</th>\n",
       "      <td>0</td>\n",
       "      <td>Crippled Canadian sub reaches Scotland The cri...</td>\n",
       "      <td>[Crippled, Canadian, sub, reaches, Scotland, T...</td>\n",
       "      <td>Crippled Canadian sub reaches Scotland The cri...</td>\n",
       "      <td>[Crippled, Canadian, sub, reaches, Scotland, T...</td>\n",
       "      <td>0</td>\n",
       "      <td>Crippled Canadian sub reaches Scotland The cri...</td>\n",
       "      <td>[Crippled, Canadian, sub, reaches, Scotland, T...</td>\n",
       "      <td>0</td>\n",
       "      <td>Crippled Canadian sub reaches Scotland The cri...</td>\n",
       "      <td>[Crippled, Canadian, sub, reaches, Scotland, T...</td>\n",
       "      <td>0</td>\n",
       "    </tr>\n",
       "    <tr>\n",
       "      <th>3</th>\n",
       "      <td>0</td>\n",
       "      <td>US, Nigeria to hold joint military training ne...</td>\n",
       "      <td>[US, ,, Nigeria, to, hold, joint, military, tr...</td>\n",
       "      <td>US, Nigeria to hold joint military training ne...</td>\n",
       "      <td>[US, ,, Nigeria, to, hold, joint, military, tr...</td>\n",
       "      <td>0</td>\n",
       "      <td>US, Nigeria to hold joint military training ne...</td>\n",
       "      <td>[US, ,, Nigeria, to, hold, joint, military, tr...</td>\n",
       "      <td>0</td>\n",
       "      <td>US, Iraq to hold joint military training next ...</td>\n",
       "      <td>[US, ,, Iraq, to, hold, joint, military, train...</td>\n",
       "      <td>[1, [2]]</td>\n",
       "    </tr>\n",
       "    <tr>\n",
       "      <th>4</th>\n",
       "      <td>2</td>\n",
       "      <td>Vodafone denies backing Verizon #39;s bid for ...</td>\n",
       "      <td>[Vodafone, denies, backing, Verizon, #, 39;s, ...</td>\n",
       "      <td>Vodafone denies backing Verizon #39;s bid for ...</td>\n",
       "      <td>[Vodafone, denies, backing, Verizon, #, 39;s, ...</td>\n",
       "      <td>0</td>\n",
       "      <td>Vodafone denies backing Verizon #39;s bid for ...</td>\n",
       "      <td>[Vodafone, denies, backing, Verizon, #, 39;s, ...</td>\n",
       "      <td>0</td>\n",
       "      <td>Vodafone denies backing Verizon #39;s bid for ...</td>\n",
       "      <td>[Vodafone, denies, backing, Verizon, #, 39;s, ...</td>\n",
       "      <td>0</td>\n",
       "    </tr>\n",
       "  </tbody>\n",
       "</table>\n",
       "</div>"
      ],
      "text/plain": [
       "   label                                               text  \\\n",
       "0      0  Rocket Explodes Above US Base in Kabul, No Cas...   \n",
       "1      0  Pakistan elects new prime minister Pakistan #3...   \n",
       "2      0  Crippled Canadian sub reaches Scotland The cri...   \n",
       "3      0  US, Nigeria to hold joint military training ne...   \n",
       "4      2  Vodafone denies backing Verizon #39;s bid for ...   \n",
       "\n",
       "                                         text_tokens  \\\n",
       "0  [Rocket, Explodes, Above, US, Base, in, Kabul,...   \n",
       "1  [Pakistan, elects, new, prime, minister, Pakis...   \n",
       "2  [Crippled, Canadian, sub, reaches, Scotland, T...   \n",
       "3  [US, ,, Nigeria, to, hold, joint, military, tr...   \n",
       "4  [Vodafone, denies, backing, Verizon, #, 39;s, ...   \n",
       "\n",
       "                       text_change_first_name_concat  \\\n",
       "0  Rocket Explodes Above US Base in Kabul, No Cas...   \n",
       "1  Pakistan elects new prime minister Pakistan #3...   \n",
       "2  Crippled Canadian sub reaches Scotland The cri...   \n",
       "3  US, Nigeria to hold joint military training ne...   \n",
       "4  Vodafone denies backing Verizon #39;s bid for ...   \n",
       "\n",
       "                       text_change_first_name_tokens  \\\n",
       "0  [Rocket, Explodes, Above, US, Base, in, Kabul,...   \n",
       "1  [Pakistan, elects, new, prime, minister, Pakis...   \n",
       "2  [Crippled, Canadian, sub, reaches, Scotland, T...   \n",
       "3  [US, ,, Nigeria, to, hold, joint, military, tr...   \n",
       "4  [Vodafone, denies, backing, Verizon, #, 39;s, ...   \n",
       "\n",
       "  success_change_first_name  \\\n",
       "0                         0   \n",
       "1                 [1, [12]]   \n",
       "2                         0   \n",
       "3                         0   \n",
       "4                         0   \n",
       "\n",
       "                        text_change_last_name_concat  \\\n",
       "0  Rocket Explodes Above US Base in Kabul, No Cas...   \n",
       "1  Pakistan elects new prime minister Pakistan #3...   \n",
       "2  Crippled Canadian sub reaches Scotland The cri...   \n",
       "3  US, Nigeria to hold joint military training ne...   \n",
       "4  Vodafone denies backing Verizon #39;s bid for ...   \n",
       "\n",
       "                        text_change_last_name_tokens success_change_last_name  \\\n",
       "0  [Rocket, Explodes, Above, US, Base, in, Kabul,...                        0   \n",
       "1  [Pakistan, elects, new, prime, minister, Pakis...                        0   \n",
       "2  [Crippled, Canadian, sub, reaches, Scotland, T...                        0   \n",
       "3  [US, ,, Nigeria, to, hold, joint, military, tr...                        0   \n",
       "4  [Vodafone, denies, backing, Verizon, #, 39;s, ...                        0   \n",
       "\n",
       "                         text_change_location_concat  \\\n",
       "0  Rocket Explodes Above US Base in Kabul, No Cas...   \n",
       "1  Sudan elects new prime minister Sudan #39;s Na...   \n",
       "2  Crippled Canadian sub reaches Scotland The cri...   \n",
       "3  US, Iraq to hold joint military training next ...   \n",
       "4  Vodafone denies backing Verizon #39;s bid for ...   \n",
       "\n",
       "                         text_change_location_tokens  \\\n",
       "0  [Rocket, Explodes, Above, US, Base, in, Kabul,...   \n",
       "1  [Sudan, elects, new, prime, minister, Pakistan...   \n",
       "2  [Crippled, Canadian, sub, reaches, Scotland, T...   \n",
       "3  [US, ,, Iraq, to, hold, joint, military, train...   \n",
       "4  [Vodafone, denies, backing, Verizon, #, 39;s, ...   \n",
       "\n",
       "  success_change_location_name  \n",
       "0                    [1, [29]]  \n",
       "1                     [1, [0]]  \n",
       "2                            0  \n",
       "3                     [1, [2]]  \n",
       "4                            0  "
      ]
     },
     "execution_count": 25,
     "metadata": {},
     "output_type": "execute_result"
    }
   ],
   "source": [
    "train_perturbations.head()"
   ]
  },
  {
   "cell_type": "code",
   "execution_count": null,
   "metadata": {},
   "outputs": [],
   "source": []
  }
 ],
 "metadata": {
  "kernelspec": {
   "display_name": "Python 3",
   "language": "python",
   "name": "python3"
  },
  "language_info": {
   "codemirror_mode": {
    "name": "ipython",
    "version": 3
   },
   "file_extension": ".py",
   "mimetype": "text/x-python",
   "name": "python",
   "nbconvert_exporter": "python",
   "pygments_lexer": "ipython3",
   "version": "3.7.4"
  },
  "toc": {
   "base_numbering": 1,
   "nav_menu": {},
   "number_sections": true,
   "sideBar": true,
   "skip_h1_title": false,
   "title_cell": "Table of Contents",
   "title_sidebar": "Contents",
   "toc_cell": false,
   "toc_position": {},
   "toc_section_display": true,
   "toc_window_display": true
  }
 },
 "nbformat": 4,
 "nbformat_minor": 2
}
