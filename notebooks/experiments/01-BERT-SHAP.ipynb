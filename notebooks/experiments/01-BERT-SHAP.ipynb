{
 "cells": [
  {
   "cell_type": "markdown",
   "id": "23e8e53c",
   "metadata": {},
   "source": [
    "# BERT SHAP"
   ]
  },
  {
   "cell_type": "code",
   "execution_count": 102,
   "id": "c3ccb821",
   "metadata": {},
   "outputs": [],
   "source": [
    "import os\n",
    "import sys\n",
    "\n",
    "import pandas as pd\n",
    "import numpy as np\n",
    "import matplotlib.pyplot as plt\n",
    "import seaborn as sns\n",
    "import torch\n",
    "import shap\n",
    "from scipy.stats import spearmanr"
   ]
  },
  {
   "cell_type": "code",
   "execution_count": 2,
   "id": "2b27576a",
   "metadata": {},
   "outputs": [],
   "source": [
    "project_root_dir = os.path.relpath(os.path.join('..', '..'), os.curdir)\n",
    "if project_root_dir not in sys.path:\n",
    "    sys.path += [project_root_dir]"
   ]
  },
  {
   "cell_type": "code",
   "execution_count": 3,
   "id": "7cf7d848",
   "metadata": {},
   "outputs": [],
   "source": [
    "from src.data.dataload import \\\n",
    "    load_sst, \\\n",
    "    load_agnews\n",
    "from src.data.perturbations import \\\n",
    "    remove_commas, \\\n",
    "    remove_all_punctuation, \\\n",
    "    switch_gender, \\\n",
    "    strip_trailing_punct, \\\n",
    "    add_typo, \\\n",
    "    change_first_name, \\\n",
    "    change_last_name, \\\n",
    "    change_location, \\\n",
    "    contraction, \\\n",
    "    swap_adjectives, \\\n",
    "    add_perturbations\n",
    "from src.models.bertmodel import BertModel\n",
    "from src.explainers.explainers import SHAPExplainer"
   ]
  },
  {
   "cell_type": "code",
   "execution_count": 4,
   "id": "d8604605",
   "metadata": {},
   "outputs": [],
   "source": [
    "device = torch.device(\"cuda:0\" if torch.cuda.is_available() else \"cpu\")"
   ]
  },
  {
   "cell_type": "markdown",
   "id": "f04899b5",
   "metadata": {},
   "source": [
    "## Load datasets"
   ]
  },
  {
   "cell_type": "code",
   "execution_count": 5,
   "id": "ba8c29c0",
   "metadata": {},
   "outputs": [
    {
     "name": "stderr",
     "output_type": "stream",
     "text": [
      "Using custom data configuration default\n",
      "Reusing dataset ag_news (/Users/stevengeorge/.cache/huggingface/datasets/ag_news/default/0.0.0/17ec33e23df9e89565131f989e0fdf78b0cc4672337b582da83fc3c9f79fe34d)\n"
     ]
    }
   ],
   "source": [
    "sst = load_sst()\n",
    "agnews = load_agnews()\n",
    "\n",
    "input_data = {\n",
    "    'sst': sst, \n",
    "    'agnews': agnews\n",
    "}\n",
    "\n",
    "train = {}\n",
    "dev = {}\n",
    "test = {}\n",
    "\n",
    "for dataset in input_data.keys():\n",
    "    train[dataset], dev[dataset], test[dataset] = input_data[dataset].train_val_test"
   ]
  },
  {
   "cell_type": "code",
   "execution_count": 6,
   "id": "17110635",
   "metadata": {},
   "outputs": [
    {
     "data": {
      "text/html": [
       "<div>\n",
       "<style scoped>\n",
       "    .dataframe tbody tr th:only-of-type {\n",
       "        vertical-align: middle;\n",
       "    }\n",
       "\n",
       "    .dataframe tbody tr th {\n",
       "        vertical-align: top;\n",
       "    }\n",
       "\n",
       "    .dataframe thead th {\n",
       "        text-align: right;\n",
       "    }\n",
       "</style>\n",
       "<table border=\"1\" class=\"dataframe\">\n",
       "  <thead>\n",
       "    <tr style=\"text-align: right;\">\n",
       "      <th></th>\n",
       "      <th>sentence</th>\n",
       "      <th>label</th>\n",
       "    </tr>\n",
       "  </thead>\n",
       "  <tbody>\n",
       "    <tr>\n",
       "      <th>0</th>\n",
       "      <td>The Rock is destined to be the 21st Century 's...</td>\n",
       "      <td>3</td>\n",
       "    </tr>\n",
       "    <tr>\n",
       "      <th>1</th>\n",
       "      <td>The gorgeously elaborate continuation of `` Th...</td>\n",
       "      <td>4</td>\n",
       "    </tr>\n",
       "    <tr>\n",
       "      <th>2</th>\n",
       "      <td>Singer/composer Bryan Adams contributes a slew...</td>\n",
       "      <td>3</td>\n",
       "    </tr>\n",
       "    <tr>\n",
       "      <th>3</th>\n",
       "      <td>You 'd think by now America would have had eno...</td>\n",
       "      <td>2</td>\n",
       "    </tr>\n",
       "    <tr>\n",
       "      <th>4</th>\n",
       "      <td>Yet the act is still charming here .</td>\n",
       "      <td>3</td>\n",
       "    </tr>\n",
       "  </tbody>\n",
       "</table>\n",
       "</div>"
      ],
      "text/plain": [
       "                                            sentence  label\n",
       "0  The Rock is destined to be the 21st Century 's...      3\n",
       "1  The gorgeously elaborate continuation of `` Th...      4\n",
       "2  Singer/composer Bryan Adams contributes a slew...      3\n",
       "3  You 'd think by now America would have had eno...      2\n",
       "4               Yet the act is still charming here .      3"
      ]
     },
     "execution_count": 6,
     "metadata": {},
     "output_type": "execute_result"
    }
   ],
   "source": [
    "train['sst'].head()"
   ]
  },
  {
   "cell_type": "code",
   "execution_count": 7,
   "id": "22a2a2d7",
   "metadata": {},
   "outputs": [
    {
     "name": "stdout",
     "output_type": "stream",
     "text": [
      "(8544, 2) (1101, 2) (2210, 2)\n"
     ]
    }
   ],
   "source": [
    "print(train['sst'].shape, dev['sst'].shape, test['sst'].shape)"
   ]
  },
  {
   "cell_type": "code",
   "execution_count": 8,
   "id": "1624dda2",
   "metadata": {},
   "outputs": [
    {
     "data": {
      "text/html": [
       "<div>\n",
       "<style scoped>\n",
       "    .dataframe tbody tr th:only-of-type {\n",
       "        vertical-align: middle;\n",
       "    }\n",
       "\n",
       "    .dataframe tbody tr th {\n",
       "        vertical-align: top;\n",
       "    }\n",
       "\n",
       "    .dataframe thead th {\n",
       "        text-align: right;\n",
       "    }\n",
       "</style>\n",
       "<table border=\"1\" class=\"dataframe\">\n",
       "  <thead>\n",
       "    <tr style=\"text-align: right;\">\n",
       "      <th></th>\n",
       "      <th>sentence</th>\n",
       "      <th>label</th>\n",
       "      <th>title</th>\n",
       "    </tr>\n",
       "  </thead>\n",
       "  <tbody>\n",
       "    <tr>\n",
       "      <th>0</th>\n",
       "      <td>Reuters - Short-sellers, Wall Street's dwindli...</td>\n",
       "      <td>2</td>\n",
       "      <td>Wall St. Bears Claw Back Into the Black (Reuters)</td>\n",
       "    </tr>\n",
       "    <tr>\n",
       "      <th>1</th>\n",
       "      <td>Reuters - Private investment firm Carlyle Grou...</td>\n",
       "      <td>2</td>\n",
       "      <td>Carlyle Looks Toward Commercial Aerospace (Reu...</td>\n",
       "    </tr>\n",
       "    <tr>\n",
       "      <th>2</th>\n",
       "      <td>Reuters - Soaring crude prices plus worriesabo...</td>\n",
       "      <td>2</td>\n",
       "      <td>Oil and Economy Cloud Stocks' Outlook (Reuters)</td>\n",
       "    </tr>\n",
       "    <tr>\n",
       "      <th>3</th>\n",
       "      <td>Reuters - Authorities have halted oil exportfl...</td>\n",
       "      <td>2</td>\n",
       "      <td>Iraq Halts Oil Exports from Main Southern Pipe...</td>\n",
       "    </tr>\n",
       "    <tr>\n",
       "      <th>4</th>\n",
       "      <td>AFP - Tearaway world oil prices, toppling reco...</td>\n",
       "      <td>2</td>\n",
       "      <td>Oil prices soar to all-time record, posing new...</td>\n",
       "    </tr>\n",
       "  </tbody>\n",
       "</table>\n",
       "</div>"
      ],
      "text/plain": [
       "                                            sentence  label  \\\n",
       "0  Reuters - Short-sellers, Wall Street's dwindli...      2   \n",
       "1  Reuters - Private investment firm Carlyle Grou...      2   \n",
       "2  Reuters - Soaring crude prices plus worriesabo...      2   \n",
       "3  Reuters - Authorities have halted oil exportfl...      2   \n",
       "4  AFP - Tearaway world oil prices, toppling reco...      2   \n",
       "\n",
       "                                               title  \n",
       "0  Wall St. Bears Claw Back Into the Black (Reuters)  \n",
       "1  Carlyle Looks Toward Commercial Aerospace (Reu...  \n",
       "2    Oil and Economy Cloud Stocks' Outlook (Reuters)  \n",
       "3  Iraq Halts Oil Exports from Main Southern Pipe...  \n",
       "4  Oil prices soar to all-time record, posing new...  "
      ]
     },
     "execution_count": 8,
     "metadata": {},
     "output_type": "execute_result"
    }
   ],
   "source": [
    "train['agnews'].head()"
   ]
  },
  {
   "cell_type": "code",
   "execution_count": 9,
   "id": "f54ef5dd",
   "metadata": {},
   "outputs": [
    {
     "name": "stdout",
     "output_type": "stream",
     "text": [
      "(108000, 3) (12000, 3) (7600, 3)\n"
     ]
    }
   ],
   "source": [
    "print(train['agnews'].shape, dev['agnews'].shape, test['agnews'].shape)"
   ]
  },
  {
   "cell_type": "markdown",
   "id": "2b7bfa53",
   "metadata": {},
   "source": [
    "## Load models"
   ]
  },
  {
   "cell_type": "markdown",
   "id": "b5ecfab3",
   "metadata": {},
   "source": [
    "SST"
   ]
  },
  {
   "cell_type": "code",
   "execution_count": 10,
   "id": "3b3bef94",
   "metadata": {},
   "outputs": [],
   "source": [
    "bert_sst = BertModel(device=device)\n",
    "bert_sst.load_model(sst)"
   ]
  },
  {
   "cell_type": "code",
   "execution_count": 11,
   "id": "d07e3385",
   "metadata": {},
   "outputs": [
    {
     "name": "stdout",
     "output_type": "stream",
     "text": [
      "Individual prediction for sst\n"
     ]
    },
    {
     "data": {
      "text/html": [
       "<div>\n",
       "<style scoped>\n",
       "    .dataframe tbody tr th:only-of-type {\n",
       "        vertical-align: middle;\n",
       "    }\n",
       "\n",
       "    .dataframe tbody tr th {\n",
       "        vertical-align: top;\n",
       "    }\n",
       "\n",
       "    .dataframe thead th {\n",
       "        text-align: right;\n",
       "    }\n",
       "</style>\n",
       "<table border=\"1\" class=\"dataframe\">\n",
       "  <thead>\n",
       "    <tr style=\"text-align: right;\">\n",
       "      <th></th>\n",
       "      <th>logits</th>\n",
       "      <th>class_probabilities</th>\n",
       "      <th>label</th>\n",
       "    </tr>\n",
       "  </thead>\n",
       "  <tbody>\n",
       "    <tr>\n",
       "      <th>0</th>\n",
       "      <td>-0.986764</td>\n",
       "      <td>0.040054</td>\n",
       "      <td>2</td>\n",
       "    </tr>\n",
       "    <tr>\n",
       "      <th>1</th>\n",
       "      <td>1.235412</td>\n",
       "      <td>0.369594</td>\n",
       "      <td>2</td>\n",
       "    </tr>\n",
       "    <tr>\n",
       "      <th>2</th>\n",
       "      <td>1.532938</td>\n",
       "      <td>0.497667</td>\n",
       "      <td>2</td>\n",
       "    </tr>\n",
       "    <tr>\n",
       "      <th>3</th>\n",
       "      <td>-0.238388</td>\n",
       "      <td>0.084657</td>\n",
       "      <td>2</td>\n",
       "    </tr>\n",
       "    <tr>\n",
       "      <th>4</th>\n",
       "      <td>-2.594064</td>\n",
       "      <td>0.008028</td>\n",
       "      <td>2</td>\n",
       "    </tr>\n",
       "  </tbody>\n",
       "</table>\n",
       "</div>"
      ],
      "text/plain": [
       "     logits  class_probabilities  label\n",
       "0 -0.986764             0.040054      2\n",
       "1  1.235412             0.369594      2\n",
       "2  1.532938             0.497667      2\n",
       "3 -0.238388             0.084657      2\n",
       "4 -2.594064             0.008028      2"
      ]
     },
     "execution_count": 11,
     "metadata": {},
     "output_type": "execute_result"
    }
   ],
   "source": [
    "print(f'Individual prediction for {sst.NAME}')\n",
    "bert_sst.predict(test['sst'].sentence[0])"
   ]
  },
  {
   "cell_type": "code",
   "execution_count": 12,
   "id": "718439b3",
   "metadata": {},
   "outputs": [
    {
     "name": "stdout",
     "output_type": "stream",
     "text": [
      "Batch prediction for sst\n"
     ]
    },
    {
     "data": {
      "text/html": [
       "<div>\n",
       "<style scoped>\n",
       "    .dataframe tbody tr th:only-of-type {\n",
       "        vertical-align: middle;\n",
       "    }\n",
       "\n",
       "    .dataframe tbody tr th {\n",
       "        vertical-align: top;\n",
       "    }\n",
       "\n",
       "    .dataframe thead th {\n",
       "        text-align: right;\n",
       "    }\n",
       "</style>\n",
       "<table border=\"1\" class=\"dataframe\">\n",
       "  <thead>\n",
       "    <tr style=\"text-align: right;\">\n",
       "      <th></th>\n",
       "      <th>logits</th>\n",
       "      <th>class_probabilities</th>\n",
       "      <th>label</th>\n",
       "    </tr>\n",
       "  </thead>\n",
       "  <tbody>\n",
       "    <tr>\n",
       "      <th>0</th>\n",
       "      <td>[-0.9867638349533081, 1.2354124784469604, 1.53...</td>\n",
       "      <td>[0.04005404934287071, 0.3695943355560303, 0.49...</td>\n",
       "      <td>2</td>\n",
       "    </tr>\n",
       "    <tr>\n",
       "      <th>1</th>\n",
       "      <td>[-1.754173994064331, -0.8248215913772583, 0.37...</td>\n",
       "      <td>[0.027608154341578484, 0.06992782652378082, 0....</td>\n",
       "      <td>3</td>\n",
       "    </tr>\n",
       "    <tr>\n",
       "      <th>2</th>\n",
       "      <td>[-2.8735032081604004, -1.9821763038635254, -0....</td>\n",
       "      <td>[0.002674192888662219, 0.006520653143525124, 0...</td>\n",
       "      <td>3</td>\n",
       "    </tr>\n",
       "    <tr>\n",
       "      <th>3</th>\n",
       "      <td>[-2.725583553314209, -1.7797045707702637, 0.18...</td>\n",
       "      <td>[0.0050294422544538975, 0.012951195240020752, ...</td>\n",
       "      <td>3</td>\n",
       "    </tr>\n",
       "    <tr>\n",
       "      <th>4</th>\n",
       "      <td>[-2.492720365524292, -2.2499923706054688, -0.6...</td>\n",
       "      <td>[0.0027276265900582075, 0.0034769659396260977,...</td>\n",
       "      <td>4</td>\n",
       "    </tr>\n",
       "    <tr>\n",
       "      <th>...</th>\n",
       "      <td>...</td>\n",
       "      <td>...</td>\n",
       "      <td>...</td>\n",
       "    </tr>\n",
       "    <tr>\n",
       "      <th>95</th>\n",
       "      <td>[-2.124051332473755, -0.6128084659576416, 0.46...</td>\n",
       "      <td>[0.01905813254415989, 0.0863783210515976, 0.25...</td>\n",
       "      <td>3</td>\n",
       "    </tr>\n",
       "    <tr>\n",
       "      <th>96</th>\n",
       "      <td>[-0.28996801376342773, 1.4170405864715576, 1.3...</td>\n",
       "      <td>[0.07925046980381012, 0.4368639886379242, 0.42...</td>\n",
       "      <td>1</td>\n",
       "    </tr>\n",
       "    <tr>\n",
       "      <th>97</th>\n",
       "      <td>[-2.7277023792266846, -2.30313777923584, -0.24...</td>\n",
       "      <td>[0.0025906008668243885, 0.003960833884775639, ...</td>\n",
       "      <td>3</td>\n",
       "    </tr>\n",
       "    <tr>\n",
       "      <th>98</th>\n",
       "      <td>[-2.707550525665283, -1.587195634841919, 0.298...</td>\n",
       "      <td>[0.00464598136022687, 0.01424431148916483, 0.0...</td>\n",
       "      <td>3</td>\n",
       "    </tr>\n",
       "    <tr>\n",
       "      <th>99</th>\n",
       "      <td>[-2.750370979309082, -2.013284683227539, -0.08...</td>\n",
       "      <td>[0.00339615810662508, 0.007097418885678053, 0....</td>\n",
       "      <td>3</td>\n",
       "    </tr>\n",
       "  </tbody>\n",
       "</table>\n",
       "<p>100 rows × 3 columns</p>\n",
       "</div>"
      ],
      "text/plain": [
       "                                               logits  \\\n",
       "0   [-0.9867638349533081, 1.2354124784469604, 1.53...   \n",
       "1   [-1.754173994064331, -0.8248215913772583, 0.37...   \n",
       "2   [-2.8735032081604004, -1.9821763038635254, -0....   \n",
       "3   [-2.725583553314209, -1.7797045707702637, 0.18...   \n",
       "4   [-2.492720365524292, -2.2499923706054688, -0.6...   \n",
       "..                                                ...   \n",
       "95  [-2.124051332473755, -0.6128084659576416, 0.46...   \n",
       "96  [-0.28996801376342773, 1.4170405864715576, 1.3...   \n",
       "97  [-2.7277023792266846, -2.30313777923584, -0.24...   \n",
       "98  [-2.707550525665283, -1.587195634841919, 0.298...   \n",
       "99  [-2.750370979309082, -2.013284683227539, -0.08...   \n",
       "\n",
       "                                  class_probabilities  label  \n",
       "0   [0.04005404934287071, 0.3695943355560303, 0.49...      2  \n",
       "1   [0.027608154341578484, 0.06992782652378082, 0....      3  \n",
       "2   [0.002674192888662219, 0.006520653143525124, 0...      3  \n",
       "3   [0.0050294422544538975, 0.012951195240020752, ...      3  \n",
       "4   [0.0027276265900582075, 0.0034769659396260977,...      4  \n",
       "..                                                ...    ...  \n",
       "95  [0.01905813254415989, 0.0863783210515976, 0.25...      3  \n",
       "96  [0.07925046980381012, 0.4368639886379242, 0.42...      1  \n",
       "97  [0.0025906008668243885, 0.003960833884775639, ...      3  \n",
       "98  [0.00464598136022687, 0.01424431148916483, 0.0...      3  \n",
       "99  [0.00339615810662508, 0.007097418885678053, 0....      3  \n",
       "\n",
       "[100 rows x 3 columns]"
      ]
     },
     "execution_count": 12,
     "metadata": {},
     "output_type": "execute_result"
    }
   ],
   "source": [
    "print(f'Batch prediction for {sst.NAME}')\n",
    "bert_sst.predict_batch_df(test['sst'].head(100), input_col=sst.SENTENCE)"
   ]
  },
  {
   "cell_type": "markdown",
   "id": "bc2c03d2",
   "metadata": {},
   "source": [
    "AG News"
   ]
  },
  {
   "cell_type": "code",
   "execution_count": 13,
   "id": "cd7d16e5",
   "metadata": {},
   "outputs": [],
   "source": [
    "bert_agnews = BertModel(device=device)\n",
    "bert_agnews.load_model(agnews)"
   ]
  },
  {
   "cell_type": "code",
   "execution_count": 14,
   "id": "9d92ae62",
   "metadata": {},
   "outputs": [
    {
     "name": "stdout",
     "output_type": "stream",
     "text": [
      "Individual prediction for agnews\n"
     ]
    },
    {
     "data": {
      "text/html": [
       "<div>\n",
       "<style scoped>\n",
       "    .dataframe tbody tr th:only-of-type {\n",
       "        vertical-align: middle;\n",
       "    }\n",
       "\n",
       "    .dataframe tbody tr th {\n",
       "        vertical-align: top;\n",
       "    }\n",
       "\n",
       "    .dataframe thead th {\n",
       "        text-align: right;\n",
       "    }\n",
       "</style>\n",
       "<table border=\"1\" class=\"dataframe\">\n",
       "  <thead>\n",
       "    <tr style=\"text-align: right;\">\n",
       "      <th></th>\n",
       "      <th>logits</th>\n",
       "      <th>class_probabilities</th>\n",
       "      <th>label</th>\n",
       "    </tr>\n",
       "  </thead>\n",
       "  <tbody>\n",
       "    <tr>\n",
       "      <th>0</th>\n",
       "      <td>0.042553</td>\n",
       "      <td>0.022081</td>\n",
       "      <td>2</td>\n",
       "    </tr>\n",
       "    <tr>\n",
       "      <th>1</th>\n",
       "      <td>-3.648040</td>\n",
       "      <td>0.000551</td>\n",
       "      <td>2</td>\n",
       "    </tr>\n",
       "    <tr>\n",
       "      <th>2</th>\n",
       "      <td>3.826154</td>\n",
       "      <td>0.971000</td>\n",
       "      <td>2</td>\n",
       "    </tr>\n",
       "    <tr>\n",
       "      <th>3</th>\n",
       "      <td>-1.200886</td>\n",
       "      <td>0.006368</td>\n",
       "      <td>2</td>\n",
       "    </tr>\n",
       "  </tbody>\n",
       "</table>\n",
       "</div>"
      ],
      "text/plain": [
       "     logits  class_probabilities  label\n",
       "0  0.042553             0.022081      2\n",
       "1 -3.648040             0.000551      2\n",
       "2  3.826154             0.971000      2\n",
       "3 -1.200886             0.006368      2"
      ]
     },
     "execution_count": 14,
     "metadata": {},
     "output_type": "execute_result"
    }
   ],
   "source": [
    "print(f'Individual prediction for {agnews.NAME}')\n",
    "bert_agnews.predict(test['agnews'].sentence[0])"
   ]
  },
  {
   "cell_type": "code",
   "execution_count": 15,
   "id": "3eaa2d1f",
   "metadata": {},
   "outputs": [
    {
     "name": "stdout",
     "output_type": "stream",
     "text": [
      "Batch prediction for agnews\n"
     ]
    },
    {
     "data": {
      "text/html": [
       "<div>\n",
       "<style scoped>\n",
       "    .dataframe tbody tr th:only-of-type {\n",
       "        vertical-align: middle;\n",
       "    }\n",
       "\n",
       "    .dataframe tbody tr th {\n",
       "        vertical-align: top;\n",
       "    }\n",
       "\n",
       "    .dataframe thead th {\n",
       "        text-align: right;\n",
       "    }\n",
       "</style>\n",
       "<table border=\"1\" class=\"dataframe\">\n",
       "  <thead>\n",
       "    <tr style=\"text-align: right;\">\n",
       "      <th></th>\n",
       "      <th>logits</th>\n",
       "      <th>class_probabilities</th>\n",
       "      <th>label</th>\n",
       "    </tr>\n",
       "  </thead>\n",
       "  <tbody>\n",
       "    <tr>\n",
       "      <th>0</th>\n",
       "      <td>[0.04255253076553345, -3.6480393409729004, 3.8...</td>\n",
       "      <td>[0.022081149742007256, 0.0005510844057425857, ...</td>\n",
       "      <td>2</td>\n",
       "    </tr>\n",
       "    <tr>\n",
       "      <th>1</th>\n",
       "      <td>[-0.7225905060768127, -2.5803427696228027, -2....</td>\n",
       "      <td>[0.001619855291210115, 0.00025273457868024707,...</td>\n",
       "      <td>3</td>\n",
       "    </tr>\n",
       "    <tr>\n",
       "      <th>2</th>\n",
       "      <td>[-0.43245795369148254, -2.9780147075653076, -1...</td>\n",
       "      <td>[0.004643819760531187, 0.00036421179538592696,...</td>\n",
       "      <td>3</td>\n",
       "    </tr>\n",
       "    <tr>\n",
       "      <th>3</th>\n",
       "      <td>[0.26466619968414307, 3.3352887630462646, -3.2...</td>\n",
       "      <td>[0.04081227630376816, 0.879721462726593, 0.001...</td>\n",
       "      <td>1</td>\n",
       "    </tr>\n",
       "    <tr>\n",
       "      <th>4</th>\n",
       "      <td>[0.41556620597839355, -2.320911407470703, -2.1...</td>\n",
       "      <td>[0.022335022687911987, 0.001447268994525075, 0...</td>\n",
       "      <td>3</td>\n",
       "    </tr>\n",
       "    <tr>\n",
       "      <th>5</th>\n",
       "      <td>[-2.8811357021331787, -2.5347037315368652, -0....</td>\n",
       "      <td>[0.0001745583285810426, 0.00024682775256223977...</td>\n",
       "      <td>3</td>\n",
       "    </tr>\n",
       "    <tr>\n",
       "      <th>6</th>\n",
       "      <td>[-2.3804450035095215, -2.653226613998413, -1.4...</td>\n",
       "      <td>[0.00021428102627396584, 0.0001631234044907614...</td>\n",
       "      <td>3</td>\n",
       "    </tr>\n",
       "    <tr>\n",
       "      <th>7</th>\n",
       "      <td>[-2.693422317504883, -2.167076587677002, -1.53...</td>\n",
       "      <td>[0.00015939476725179702, 0.0002698130265343934...</td>\n",
       "      <td>3</td>\n",
       "    </tr>\n",
       "    <tr>\n",
       "      <th>8</th>\n",
       "      <td>[-0.12801218032836914, -3.1953518390655518, -1...</td>\n",
       "      <td>[0.011645975522696972, 0.0005420598899945617, ...</td>\n",
       "      <td>3</td>\n",
       "    </tr>\n",
       "    <tr>\n",
       "      <th>9</th>\n",
       "      <td>[-0.3894408941268921, -4.089913845062256, 0.83...</td>\n",
       "      <td>[0.022109737619757652, 0.0005463722627609968, ...</td>\n",
       "      <td>3</td>\n",
       "    </tr>\n",
       "  </tbody>\n",
       "</table>\n",
       "</div>"
      ],
      "text/plain": [
       "                                              logits  \\\n",
       "0  [0.04255253076553345, -3.6480393409729004, 3.8...   \n",
       "1  [-0.7225905060768127, -2.5803427696228027, -2....   \n",
       "2  [-0.43245795369148254, -2.9780147075653076, -1...   \n",
       "3  [0.26466619968414307, 3.3352887630462646, -3.2...   \n",
       "4  [0.41556620597839355, -2.320911407470703, -2.1...   \n",
       "5  [-2.8811357021331787, -2.5347037315368652, -0....   \n",
       "6  [-2.3804450035095215, -2.653226613998413, -1.4...   \n",
       "7  [-2.693422317504883, -2.167076587677002, -1.53...   \n",
       "8  [-0.12801218032836914, -3.1953518390655518, -1...   \n",
       "9  [-0.3894408941268921, -4.089913845062256, 0.83...   \n",
       "\n",
       "                                 class_probabilities  label  \n",
       "0  [0.022081149742007256, 0.0005510844057425857, ...      2  \n",
       "1  [0.001619855291210115, 0.00025273457868024707,...      3  \n",
       "2  [0.004643819760531187, 0.00036421179538592696,...      3  \n",
       "3  [0.04081227630376816, 0.879721462726593, 0.001...      1  \n",
       "4  [0.022335022687911987, 0.001447268994525075, 0...      3  \n",
       "5  [0.0001745583285810426, 0.00024682775256223977...      3  \n",
       "6  [0.00021428102627396584, 0.0001631234044907614...      3  \n",
       "7  [0.00015939476725179702, 0.0002698130265343934...      3  \n",
       "8  [0.011645975522696972, 0.0005420598899945617, ...      3  \n",
       "9  [0.022109737619757652, 0.0005463722627609968, ...      3  "
      ]
     },
     "execution_count": 15,
     "metadata": {},
     "output_type": "execute_result"
    }
   ],
   "source": [
    "print(f'Batch prediction for {agnews.NAME}')\n",
    "bert_agnews.predict_batch_df(test['agnews'].head(10), input_col=agnews.SENTENCE)"
   ]
  },
  {
   "cell_type": "code",
   "execution_count": 16,
   "id": "30d603fa",
   "metadata": {},
   "outputs": [
    {
     "data": {
      "text/plain": [
       "\"Unions representing workers at Turner   Newall say they are 'disappointed' after talks with stricken parent firm Federal Mogul.\""
      ]
     },
     "execution_count": 16,
     "metadata": {},
     "output_type": "execute_result"
    }
   ],
   "source": [
    "test['agnews'].sentence[0]"
   ]
  },
  {
   "cell_type": "code",
   "execution_count": 17,
   "id": "74e1557a",
   "metadata": {},
   "outputs": [
    {
     "data": {
      "text/plain": [
       "0    0.022081\n",
       "1    0.000551\n",
       "2    0.971000\n",
       "3    0.006368\n",
       "Name: class_probabilities, dtype: float64"
      ]
     },
     "execution_count": 17,
     "metadata": {},
     "output_type": "execute_result"
    }
   ],
   "source": [
    "bert_agnews.predict_proba(test['agnews'].sentence[0])"
   ]
  },
  {
   "cell_type": "markdown",
   "id": "61cc7641",
   "metadata": {},
   "source": [
    "## SHAP for SST"
   ]
  },
  {
   "cell_type": "code",
   "execution_count": 18,
   "id": "9a7d0019",
   "metadata": {},
   "outputs": [
    {
     "data": {
      "text/html": [
       "<div>\n",
       "<style scoped>\n",
       "    .dataframe tbody tr th:only-of-type {\n",
       "        vertical-align: middle;\n",
       "    }\n",
       "\n",
       "    .dataframe tbody tr th {\n",
       "        vertical-align: top;\n",
       "    }\n",
       "\n",
       "    .dataframe thead th {\n",
       "        text-align: right;\n",
       "    }\n",
       "</style>\n",
       "<table border=\"1\" class=\"dataframe\">\n",
       "  <thead>\n",
       "    <tr style=\"text-align: right;\">\n",
       "      <th></th>\n",
       "      <th>sentence</th>\n",
       "      <th>label</th>\n",
       "    </tr>\n",
       "  </thead>\n",
       "  <tbody>\n",
       "    <tr>\n",
       "      <th>0</th>\n",
       "      <td>It 's a lovely film with lovely performances b...</td>\n",
       "      <td>3</td>\n",
       "    </tr>\n",
       "    <tr>\n",
       "      <th>1</th>\n",
       "      <td>No one goes unindicted here , which is probabl...</td>\n",
       "      <td>2</td>\n",
       "    </tr>\n",
       "    <tr>\n",
       "      <th>2</th>\n",
       "      <td>And if you 're not nearly moved to tears by a ...</td>\n",
       "      <td>3</td>\n",
       "    </tr>\n",
       "    <tr>\n",
       "      <th>3</th>\n",
       "      <td>A warm , funny , engaging film .</td>\n",
       "      <td>4</td>\n",
       "    </tr>\n",
       "    <tr>\n",
       "      <th>4</th>\n",
       "      <td>Uses sharp humor and insight into human nature...</td>\n",
       "      <td>4</td>\n",
       "    </tr>\n",
       "  </tbody>\n",
       "</table>\n",
       "</div>"
      ],
      "text/plain": [
       "                                            sentence  label\n",
       "0  It 's a lovely film with lovely performances b...      3\n",
       "1  No one goes unindicted here , which is probabl...      2\n",
       "2  And if you 're not nearly moved to tears by a ...      3\n",
       "3                   A warm , funny , engaging film .      4\n",
       "4  Uses sharp humor and insight into human nature...      4"
      ]
     },
     "execution_count": 18,
     "metadata": {},
     "output_type": "execute_result"
    }
   ],
   "source": [
    "dev['sst'].head()"
   ]
  },
  {
   "cell_type": "code",
   "execution_count": 19,
   "id": "435d47ba",
   "metadata": {},
   "outputs": [
    {
     "data": {
      "text/html": [
       "<div>\n",
       "<style scoped>\n",
       "    .dataframe tbody tr th:only-of-type {\n",
       "        vertical-align: middle;\n",
       "    }\n",
       "\n",
       "    .dataframe tbody tr th {\n",
       "        vertical-align: top;\n",
       "    }\n",
       "\n",
       "    .dataframe thead th {\n",
       "        text-align: right;\n",
       "    }\n",
       "</style>\n",
       "<table border=\"1\" class=\"dataframe\">\n",
       "  <thead>\n",
       "    <tr style=\"text-align: right;\">\n",
       "      <th></th>\n",
       "      <th>sentence</th>\n",
       "      <th>label</th>\n",
       "    </tr>\n",
       "  </thead>\n",
       "  <tbody>\n",
       "    <tr>\n",
       "      <th>0</th>\n",
       "      <td>Chabrol has taken promising material for a bla...</td>\n",
       "      <td>1</td>\n",
       "    </tr>\n",
       "    <tr>\n",
       "      <th>1</th>\n",
       "      <td>To my taste , the film 's comic characters com...</td>\n",
       "      <td>2</td>\n",
       "    </tr>\n",
       "    <tr>\n",
       "      <th>2</th>\n",
       "      <td>A difficult , absorbing film that manages to c...</td>\n",
       "      <td>3</td>\n",
       "    </tr>\n",
       "    <tr>\n",
       "      <th>3</th>\n",
       "      <td>A strangely compelling and brilliantly acted p...</td>\n",
       "      <td>4</td>\n",
       "    </tr>\n",
       "    <tr>\n",
       "      <th>4</th>\n",
       "      <td>This is so bad .</td>\n",
       "      <td>0</td>\n",
       "    </tr>\n",
       "  </tbody>\n",
       "</table>\n",
       "</div>"
      ],
      "text/plain": [
       "                                            sentence  label\n",
       "0  Chabrol has taken promising material for a bla...      1\n",
       "1  To my taste , the film 's comic characters com...      2\n",
       "2  A difficult , absorbing film that manages to c...      3\n",
       "3  A strangely compelling and brilliantly acted p...      4\n",
       "4                                   This is so bad .      0"
      ]
     },
     "execution_count": 19,
     "metadata": {},
     "output_type": "execute_result"
    }
   ],
   "source": [
    "np.random.seed(3)\n",
    "dev_sst_subset = dev['sst'].copy().sample(n=20)\n",
    "dev_sst_subset.reset_index(drop=True, inplace=True)\n",
    "dev_sst_subset.head()"
   ]
  },
  {
   "cell_type": "code",
   "execution_count": 21,
   "id": "266f2c1e",
   "metadata": {},
   "outputs": [],
   "source": [
    "PERTURBATION_REDUCTION = ['strip_punct', 'remove_commas', 'remove_all_punct']\n",
    "PERTURBATION_LIST = PERTURBATION_REDUCTION + [\n",
    "    'contraction','change_first_name','change_last_name', 'change_location', 'add_typo', 'switch_gender', 'swap_adj'\n",
    "]\n",
    "\n",
    "PERT_STRING_TO_FUNCTION = {\n",
    "    'strip_punct': strip_trailing_punct, \n",
    "    'remove_commas': remove_commas, \n",
    "    'remove_all_punct': remove_all_punctuation, \n",
    "    'contraction': contraction,\n",
    "    'change_first_name': change_first_name,\n",
    "    'change_last_name': change_last_name, \n",
    "    'change_location': change_location, \n",
    "    'add_typo': add_typo, \n",
    "    'switch_gender': switch_gender, \n",
    "    'swap_adj': swap_adjectives\n",
    "}"
   ]
  },
  {
   "cell_type": "code",
   "execution_count": 99,
   "id": "9ac572b9",
   "metadata": {},
   "outputs": [],
   "source": [
    "def bert_detokenize(token_list):\n",
    "    \"\"\"\n",
    "    Reverse BERT tokenization accounting for ##s representing subwords. Based on https://github.com/huggingface/transformers/issues/36\n",
    "    \"\"\"\n",
    "    text = ' '.join(token_list)\n",
    "    text = text.replace(' ##', '')\n",
    "    text = text.replace(\"` `\", \"``\")\n",
    "    text = text.replace(\"' '\", \"''\")\n",
    "    return text"
   ]
  },
  {
   "cell_type": "code",
   "execution_count": 23,
   "id": "ecb92ff7",
   "metadata": {},
   "outputs": [],
   "source": [
    "shap_explainer = SHAPExplainer(bert_sst)"
   ]
  },
  {
   "cell_type": "code",
   "execution_count": 23,
   "id": "ea6be5f3",
   "metadata": {},
   "outputs": [],
   "source": [
    "perturbation = 'remove_commas'"
   ]
  },
  {
   "cell_type": "code",
   "execution_count": 25,
   "id": "6f5a2563",
   "metadata": {},
   "outputs": [
    {
     "name": "stdout",
     "output_type": "stream",
     "text": [
      "CPU times: user 54.5 ms, sys: 2.07 ms, total: 56.5 ms\n",
      "Wall time: 55.2 ms\n"
     ]
    }
   ],
   "source": [
    "%%time\n",
    "perturbation_df = add_perturbations(\n",
    "    df=dev_sst_subset,\n",
    "    tokenizer=bert_sst.tokenizer,\n",
    "    sentence_col_name=sst.SENTENCE, \n",
    "    perturbation_functions=[\n",
    "        PERT_STRING_TO_FUNCTION[perturbation]\n",
    "    ]\n",
    ")"
   ]
  },
  {
   "cell_type": "code",
   "execution_count": 26,
   "id": "c79eaca5",
   "metadata": {},
   "outputs": [
    {
     "name": "stdout",
     "output_type": "stream",
     "text": [
      "(100, 7)\n"
     ]
    },
    {
     "data": {
      "text/html": [
       "<div>\n",
       "<style scoped>\n",
       "    .dataframe tbody tr th:only-of-type {\n",
       "        vertical-align: middle;\n",
       "    }\n",
       "\n",
       "    .dataframe tbody tr th {\n",
       "        vertical-align: top;\n",
       "    }\n",
       "\n",
       "    .dataframe thead th {\n",
       "        text-align: right;\n",
       "    }\n",
       "</style>\n",
       "<table border=\"1\" class=\"dataframe\">\n",
       "  <thead>\n",
       "    <tr style=\"text-align: right;\">\n",
       "      <th></th>\n",
       "      <th>sentence</th>\n",
       "      <th>label</th>\n",
       "      <th>tokens_orig</th>\n",
       "      <th>remove_commas_concat</th>\n",
       "      <th>remove_commas_tokens</th>\n",
       "      <th>remove_commas_success</th>\n",
       "      <th>remove_commas_pert_ind</th>\n",
       "    </tr>\n",
       "  </thead>\n",
       "  <tbody>\n",
       "    <tr>\n",
       "      <th>0</th>\n",
       "      <td>Chabrol has taken promising material for a bla...</td>\n",
       "      <td>1</td>\n",
       "      <td>[cha, ##bro, ##l, has, taken, promising, mater...</td>\n",
       "      <td>Chabrol has taken promising material for a bla...</td>\n",
       "      <td>[cha, ##bro, ##l, has, taken, promising, mater...</td>\n",
       "      <td>0</td>\n",
       "      <td>None</td>\n",
       "    </tr>\n",
       "    <tr>\n",
       "      <th>1</th>\n",
       "      <td>To my taste , the film 's comic characters com...</td>\n",
       "      <td>2</td>\n",
       "      <td>[to, my, taste, ,, the, film, ', s, comic, cha...</td>\n",
       "      <td>to my taste  the film ' s comic characters com...</td>\n",
       "      <td>[to, my, taste, , the, film, ', s, comic, char...</td>\n",
       "      <td>1</td>\n",
       "      <td>[3]</td>\n",
       "    </tr>\n",
       "    <tr>\n",
       "      <th>2</th>\n",
       "      <td>A difficult , absorbing film that manages to c...</td>\n",
       "      <td>3</td>\n",
       "      <td>[a, difficult, ,, absorbing, film, that, manag...</td>\n",
       "      <td>a difficult  absorbing film that manages to co...</td>\n",
       "      <td>[a, difficult, , absorbing, film, that, manage...</td>\n",
       "      <td>1</td>\n",
       "      <td>[2]</td>\n",
       "    </tr>\n",
       "    <tr>\n",
       "      <th>3</th>\n",
       "      <td>A strangely compelling and brilliantly acted p...</td>\n",
       "      <td>4</td>\n",
       "      <td>[a, strangely, compelling, and, brilliant, ##l...</td>\n",
       "      <td>A strangely compelling and brilliantly acted p...</td>\n",
       "      <td>[a, strangely, compelling, and, brilliant, ##l...</td>\n",
       "      <td>0</td>\n",
       "      <td>None</td>\n",
       "    </tr>\n",
       "    <tr>\n",
       "      <th>4</th>\n",
       "      <td>This is so bad .</td>\n",
       "      <td>0</td>\n",
       "      <td>[this, is, so, bad, .]</td>\n",
       "      <td>This is so bad .</td>\n",
       "      <td>[this, is, so, bad, .]</td>\n",
       "      <td>0</td>\n",
       "      <td>None</td>\n",
       "    </tr>\n",
       "  </tbody>\n",
       "</table>\n",
       "</div>"
      ],
      "text/plain": [
       "                                            sentence  label  \\\n",
       "0  Chabrol has taken promising material for a bla...      1   \n",
       "1  To my taste , the film 's comic characters com...      2   \n",
       "2  A difficult , absorbing film that manages to c...      3   \n",
       "3  A strangely compelling and brilliantly acted p...      4   \n",
       "4                                   This is so bad .      0   \n",
       "\n",
       "                                         tokens_orig  \\\n",
       "0  [cha, ##bro, ##l, has, taken, promising, mater...   \n",
       "1  [to, my, taste, ,, the, film, ', s, comic, cha...   \n",
       "2  [a, difficult, ,, absorbing, film, that, manag...   \n",
       "3  [a, strangely, compelling, and, brilliant, ##l...   \n",
       "4                             [this, is, so, bad, .]   \n",
       "\n",
       "                                remove_commas_concat  \\\n",
       "0  Chabrol has taken promising material for a bla...   \n",
       "1  to my taste  the film ' s comic characters com...   \n",
       "2  a difficult  absorbing film that manages to co...   \n",
       "3  A strangely compelling and brilliantly acted p...   \n",
       "4                                   This is so bad .   \n",
       "\n",
       "                                remove_commas_tokens  remove_commas_success  \\\n",
       "0  [cha, ##bro, ##l, has, taken, promising, mater...                      0   \n",
       "1  [to, my, taste, , the, film, ', s, comic, char...                      1   \n",
       "2  [a, difficult, , absorbing, film, that, manage...                      1   \n",
       "3  [a, strangely, compelling, and, brilliant, ##l...                      0   \n",
       "4                             [this, is, so, bad, .]                      0   \n",
       "\n",
       "  remove_commas_pert_ind  \n",
       "0                   None  \n",
       "1                    [3]  \n",
       "2                    [2]  \n",
       "3                   None  \n",
       "4                   None  "
      ]
     },
     "execution_count": 26,
     "metadata": {},
     "output_type": "execute_result"
    }
   ],
   "source": [
    "print(perturbation_df.shape)\n",
    "perturbation_df.head()"
   ]
  },
  {
   "cell_type": "code",
   "execution_count": 29,
   "id": "25dc140f",
   "metadata": {},
   "outputs": [
    {
     "name": "stdout",
     "output_type": "stream",
     "text": [
      "(59, 7)\n"
     ]
    }
   ],
   "source": [
    "# Drop unsuccessful perturbations\n",
    "perturbation_df = perturbation_df.copy()[perturbation_df[f'{perturbation}_success'] == 1]\n",
    "print(perturbation_df.shape)"
   ]
  },
  {
   "cell_type": "code",
   "execution_count": 34,
   "id": "34b77053",
   "metadata": {},
   "outputs": [],
   "source": [
    "# Overwrite '_concat' column with corrected reversal of tokenization\n",
    "perturbation_df[f'{perturbation}_concat'] = perturbation_df[f'{perturbation}_tokens'].apply(bert_detokenize)"
   ]
  },
  {
   "cell_type": "code",
   "execution_count": 37,
   "id": "c5561436",
   "metadata": {},
   "outputs": [],
   "source": [
    "# Original prediction\n",
    "perturbation_df['orig_prediction'] = bert_sst.predict_label_batch(perturbation_df['sentence'])"
   ]
  },
  {
   "cell_type": "code",
   "execution_count": 38,
   "id": "de442e54",
   "metadata": {},
   "outputs": [],
   "source": [
    "# Prediction on new sentence\n",
    "perturbation_df[f'{perturbation}_prediction'] = bert_sst.predict_label_batch(perturbation_df[f'{perturbation}_concat'])"
   ]
  },
  {
   "cell_type": "code",
   "execution_count": 42,
   "id": "abbfacb7",
   "metadata": {
    "tags": []
   },
   "outputs": [
    {
     "name": "stdout",
     "output_type": "stream",
     "text": [
      "(57, 9)\n"
     ]
    }
   ],
   "source": [
    "# Drop examples where predictions which are not the same\n",
    "perturbation_df = perturbation_df.copy()[perturbation_df[f'{perturbation}_prediction'] == perturbation_df['orig_prediction']]\n",
    "print(perturbation_df.shape)"
   ]
  },
  {
   "cell_type": "code",
   "execution_count": 46,
   "id": "4429f137",
   "metadata": {},
   "outputs": [
    {
     "name": "stdout",
     "output_type": "stream",
     "text": [
      "23\n"
     ]
    }
   ],
   "source": [
    "# Flag for correct prediction\n",
    "perturbation_df['correct_prediction'] = np.where(\n",
    "    perturbation_df['label'] == perturbation_df['orig_prediction'],\n",
    "    1,\n",
    "    0\n",
    ")\n",
    "print(perturbation_df['correct_prediction'].sum())"
   ]
  },
  {
   "cell_type": "code",
   "execution_count": 48,
   "id": "68ce97cd",
   "metadata": {},
   "outputs": [
    {
     "data": {
      "text/html": [
       "<div>\n",
       "<style scoped>\n",
       "    .dataframe tbody tr th:only-of-type {\n",
       "        vertical-align: middle;\n",
       "    }\n",
       "\n",
       "    .dataframe tbody tr th {\n",
       "        vertical-align: top;\n",
       "    }\n",
       "\n",
       "    .dataframe thead th {\n",
       "        text-align: right;\n",
       "    }\n",
       "</style>\n",
       "<table border=\"1\" class=\"dataframe\">\n",
       "  <thead>\n",
       "    <tr style=\"text-align: right;\">\n",
       "      <th></th>\n",
       "      <th>sentence</th>\n",
       "      <th>label</th>\n",
       "      <th>tokens_orig</th>\n",
       "      <th>remove_commas_concat</th>\n",
       "      <th>remove_commas_tokens</th>\n",
       "      <th>remove_commas_success</th>\n",
       "      <th>remove_commas_pert_ind</th>\n",
       "      <th>orig_prediction</th>\n",
       "      <th>remove_commas_prediction</th>\n",
       "      <th>correct_prediction</th>\n",
       "    </tr>\n",
       "  </thead>\n",
       "  <tbody>\n",
       "    <tr>\n",
       "      <th>1</th>\n",
       "      <td>To my taste , the film 's comic characters com...</td>\n",
       "      <td>2</td>\n",
       "      <td>[to, my, taste, ,, the, film, ', s, comic, cha...</td>\n",
       "      <td>to my taste  the film ' s comic characters com...</td>\n",
       "      <td>[to, my, taste, , the, film, ', s, comic, char...</td>\n",
       "      <td>1</td>\n",
       "      <td>[3]</td>\n",
       "      <td>2</td>\n",
       "      <td>2</td>\n",
       "      <td>1</td>\n",
       "    </tr>\n",
       "    <tr>\n",
       "      <th>2</th>\n",
       "      <td>A difficult , absorbing film that manages to c...</td>\n",
       "      <td>3</td>\n",
       "      <td>[a, difficult, ,, absorbing, film, that, manag...</td>\n",
       "      <td>a difficult  absorbing film that manages to co...</td>\n",
       "      <td>[a, difficult, , absorbing, film, that, manage...</td>\n",
       "      <td>1</td>\n",
       "      <td>[2]</td>\n",
       "      <td>3</td>\n",
       "      <td>3</td>\n",
       "      <td>1</td>\n",
       "    </tr>\n",
       "    <tr>\n",
       "      <th>5</th>\n",
       "      <td>It will grip even viewers who are n't interest...</td>\n",
       "      <td>3</td>\n",
       "      <td>[it, will, grip, even, viewers, who, are, n, '...</td>\n",
       "      <td>it will grip even viewers who are n ' t intere...</td>\n",
       "      <td>[it, will, grip, even, viewers, who, are, n, '...</td>\n",
       "      <td>1</td>\n",
       "      <td>[13]</td>\n",
       "      <td>3</td>\n",
       "      <td>3</td>\n",
       "      <td>1</td>\n",
       "    </tr>\n",
       "    <tr>\n",
       "      <th>6</th>\n",
       "      <td>The X potion gives the quickly named Blossom ,...</td>\n",
       "      <td>1</td>\n",
       "      <td>[the, x, potion, gives, the, quickly, named, b...</td>\n",
       "      <td>the x potion gives the quickly named blossom  ...</td>\n",
       "      <td>[the, x, potion, gives, the, quickly, named, b...</td>\n",
       "      <td>1</td>\n",
       "      <td>[8, 24]</td>\n",
       "      <td>3</td>\n",
       "      <td>3</td>\n",
       "      <td>0</td>\n",
       "    </tr>\n",
       "    <tr>\n",
       "      <th>10</th>\n",
       "      <td>Schaeffer has to find some hook on which to ha...</td>\n",
       "      <td>1</td>\n",
       "      <td>[sc, ##hae, ##ffer, has, to, find, some, hook,...</td>\n",
       "      <td>schaeffer has to find some hook on which to ha...</td>\n",
       "      <td>[sc, ##hae, ##ffer, has, to, find, some, hook,...</td>\n",
       "      <td>1</td>\n",
       "      <td>[17]</td>\n",
       "      <td>1</td>\n",
       "      <td>1</td>\n",
       "      <td>1</td>\n",
       "    </tr>\n",
       "  </tbody>\n",
       "</table>\n",
       "</div>"
      ],
      "text/plain": [
       "                                             sentence  label  \\\n",
       "1   To my taste , the film 's comic characters com...      2   \n",
       "2   A difficult , absorbing film that manages to c...      3   \n",
       "5   It will grip even viewers who are n't interest...      3   \n",
       "6   The X potion gives the quickly named Blossom ,...      1   \n",
       "10  Schaeffer has to find some hook on which to ha...      1   \n",
       "\n",
       "                                          tokens_orig  \\\n",
       "1   [to, my, taste, ,, the, film, ', s, comic, cha...   \n",
       "2   [a, difficult, ,, absorbing, film, that, manag...   \n",
       "5   [it, will, grip, even, viewers, who, are, n, '...   \n",
       "6   [the, x, potion, gives, the, quickly, named, b...   \n",
       "10  [sc, ##hae, ##ffer, has, to, find, some, hook,...   \n",
       "\n",
       "                                 remove_commas_concat  \\\n",
       "1   to my taste  the film ' s comic characters com...   \n",
       "2   a difficult  absorbing film that manages to co...   \n",
       "5   it will grip even viewers who are n ' t intere...   \n",
       "6   the x potion gives the quickly named blossom  ...   \n",
       "10  schaeffer has to find some hook on which to ha...   \n",
       "\n",
       "                                 remove_commas_tokens  remove_commas_success  \\\n",
       "1   [to, my, taste, , the, film, ', s, comic, char...                      1   \n",
       "2   [a, difficult, , absorbing, film, that, manage...                      1   \n",
       "5   [it, will, grip, even, viewers, who, are, n, '...                      1   \n",
       "6   [the, x, potion, gives, the, quickly, named, b...                      1   \n",
       "10  [sc, ##hae, ##ffer, has, to, find, some, hook,...                      1   \n",
       "\n",
       "   remove_commas_pert_ind  orig_prediction  remove_commas_prediction  \\\n",
       "1                     [3]                2                         2   \n",
       "2                     [2]                3                         3   \n",
       "5                    [13]                3                         3   \n",
       "6                 [8, 24]                3                         3   \n",
       "10                   [17]                1                         1   \n",
       "\n",
       "    correct_prediction  \n",
       "1                    1  \n",
       "2                    1  \n",
       "5                    1  \n",
       "6                    0  \n",
       "10                   1  "
      ]
     },
     "execution_count": 48,
     "metadata": {},
     "output_type": "execute_result"
    }
   ],
   "source": [
    "perturbation_df.head()"
   ]
  },
  {
   "cell_type": "code",
   "execution_count": 49,
   "id": "bcd6f4c8",
   "metadata": {
    "collapsed": true,
    "jupyter": {
     "outputs_hidden": true
    },
    "tags": []
   },
   "outputs": [
    {
     "data": {
      "application/vnd.jupyter.widget-view+json": {
       "model_id": "",
       "version_major": 2,
       "version_minor": 0
      },
      "text/plain": [
       "HBox(children=(FloatProgress(value=0.0, max=48.0), HTML(value='')))"
      ]
     },
     "metadata": {},
     "output_type": "display_data"
    },
    {
     "data": {
      "application/vnd.jupyter.widget-view+json": {
       "model_id": "",
       "version_major": 2,
       "version_minor": 0
      },
      "text/plain": [
       "HBox(children=(FloatProgress(value=0.0, max=48.0), HTML(value='')))"
      ]
     },
     "metadata": {},
     "output_type": "display_data"
    },
    {
     "name": "stderr",
     "output_type": "stream",
     "text": [
      "Partition explainer:   4%|▎         | 2/57 [00:00<?, ?it/s]"
     ]
    },
    {
     "data": {
      "application/vnd.jupyter.widget-view+json": {
       "model_id": "",
       "version_major": 2,
       "version_minor": 0
      },
      "text/plain": [
       "HBox(children=(FloatProgress(value=0.0, max=48.0), HTML(value='')))"
      ]
     },
     "metadata": {},
     "output_type": "display_data"
    },
    {
     "name": "stderr",
     "output_type": "stream",
     "text": [
      "Partition explainer:   7%|▋         | 4/57 [00:20<02:52,  3.26s/it]"
     ]
    },
    {
     "data": {
      "application/vnd.jupyter.widget-view+json": {
       "model_id": "",
       "version_major": 2,
       "version_minor": 0
      },
      "text/plain": [
       "HBox(children=(FloatProgress(value=0.0, max=48.0), HTML(value='')))"
      ]
     },
     "metadata": {},
     "output_type": "display_data"
    },
    {
     "name": "stderr",
     "output_type": "stream",
     "text": [
      "Partition explainer:   9%|▉         | 5/57 [00:27<03:40,  4.25s/it]"
     ]
    },
    {
     "data": {
      "application/vnd.jupyter.widget-view+json": {
       "model_id": "",
       "version_major": 2,
       "version_minor": 0
      },
      "text/plain": [
       "HBox(children=(FloatProgress(value=0.0, max=48.0), HTML(value='')))"
      ]
     },
     "metadata": {},
     "output_type": "display_data"
    },
    {
     "name": "stderr",
     "output_type": "stream",
     "text": [
      "Partition explainer:  11%|█         | 6/57 [00:33<04:11,  4.93s/it]"
     ]
    },
    {
     "data": {
      "application/vnd.jupyter.widget-view+json": {
       "model_id": "",
       "version_major": 2,
       "version_minor": 0
      },
      "text/plain": [
       "HBox(children=(FloatProgress(value=0.0, max=48.0), HTML(value='')))"
      ]
     },
     "metadata": {},
     "output_type": "display_data"
    },
    {
     "name": "stderr",
     "output_type": "stream",
     "text": [
      "Partition explainer:  12%|█▏        | 7/57 [00:40<04:31,  5.42s/it]"
     ]
    },
    {
     "data": {
      "application/vnd.jupyter.widget-view+json": {
       "model_id": "",
       "version_major": 2,
       "version_minor": 0
      },
      "text/plain": [
       "HBox(children=(FloatProgress(value=0.0, max=48.0), HTML(value='')))"
      ]
     },
     "metadata": {},
     "output_type": "display_data"
    },
    {
     "name": "stderr",
     "output_type": "stream",
     "text": [
      "Partition explainer:  14%|█▍        | 8/57 [00:46<04:42,  5.77s/it]"
     ]
    },
    {
     "data": {
      "application/vnd.jupyter.widget-view+json": {
       "model_id": "",
       "version_major": 2,
       "version_minor": 0
      },
      "text/plain": [
       "HBox(children=(FloatProgress(value=0.0, max=48.0), HTML(value='')))"
      ]
     },
     "metadata": {},
     "output_type": "display_data"
    },
    {
     "name": "stderr",
     "output_type": "stream",
     "text": [
      "Partition explainer:  16%|█▌        | 9/57 [00:53<04:48,  6.01s/it]"
     ]
    },
    {
     "data": {
      "application/vnd.jupyter.widget-view+json": {
       "model_id": "",
       "version_major": 2,
       "version_minor": 0
      },
      "text/plain": [
       "HBox(children=(FloatProgress(value=0.0, max=48.0), HTML(value='')))"
      ]
     },
     "metadata": {},
     "output_type": "display_data"
    },
    {
     "name": "stderr",
     "output_type": "stream",
     "text": [
      "Partition explainer:  18%|█▊        | 10/57 [01:00<04:50,  6.18s/it]"
     ]
    },
    {
     "data": {
      "application/vnd.jupyter.widget-view+json": {
       "model_id": "",
       "version_major": 2,
       "version_minor": 0
      },
      "text/plain": [
       "HBox(children=(FloatProgress(value=0.0, max=48.0), HTML(value='')))"
      ]
     },
     "metadata": {},
     "output_type": "display_data"
    },
    {
     "name": "stderr",
     "output_type": "stream",
     "text": [
      "Partition explainer:  19%|█▉        | 11/57 [01:06<04:49,  6.30s/it]"
     ]
    },
    {
     "data": {
      "application/vnd.jupyter.widget-view+json": {
       "model_id": "",
       "version_major": 2,
       "version_minor": 0
      },
      "text/plain": [
       "HBox(children=(FloatProgress(value=0.0, max=48.0), HTML(value='')))"
      ]
     },
     "metadata": {},
     "output_type": "display_data"
    },
    {
     "name": "stderr",
     "output_type": "stream",
     "text": [
      "Partition explainer:  21%|██        | 12/57 [01:13<04:47,  6.39s/it]"
     ]
    },
    {
     "data": {
      "application/vnd.jupyter.widget-view+json": {
       "model_id": "",
       "version_major": 2,
       "version_minor": 0
      },
      "text/plain": [
       "HBox(children=(FloatProgress(value=0.0, max=48.0), HTML(value='')))"
      ]
     },
     "metadata": {},
     "output_type": "display_data"
    },
    {
     "name": "stderr",
     "output_type": "stream",
     "text": [
      "Partition explainer:  23%|██▎       | 13/57 [01:19<04:43,  6.45s/it]"
     ]
    },
    {
     "data": {
      "application/vnd.jupyter.widget-view+json": {
       "model_id": "",
       "version_major": 2,
       "version_minor": 0
      },
      "text/plain": [
       "HBox(children=(FloatProgress(value=0.0, max=48.0), HTML(value='')))"
      ]
     },
     "metadata": {},
     "output_type": "display_data"
    },
    {
     "name": "stderr",
     "output_type": "stream",
     "text": [
      "Partition explainer:  25%|██▍       | 14/57 [01:26<04:38,  6.48s/it]"
     ]
    },
    {
     "data": {
      "application/vnd.jupyter.widget-view+json": {
       "model_id": "",
       "version_major": 2,
       "version_minor": 0
      },
      "text/plain": [
       "HBox(children=(FloatProgress(value=0.0, max=48.0), HTML(value='')))"
      ]
     },
     "metadata": {},
     "output_type": "display_data"
    },
    {
     "name": "stderr",
     "output_type": "stream",
     "text": [
      "Partition explainer:  26%|██▋       | 15/57 [01:32<04:33,  6.51s/it]"
     ]
    },
    {
     "data": {
      "application/vnd.jupyter.widget-view+json": {
       "model_id": "",
       "version_major": 2,
       "version_minor": 0
      },
      "text/plain": [
       "HBox(children=(FloatProgress(value=0.0, max=48.0), HTML(value='')))"
      ]
     },
     "metadata": {},
     "output_type": "display_data"
    },
    {
     "name": "stderr",
     "output_type": "stream",
     "text": [
      "Partition explainer:  28%|██▊       | 16/57 [01:39<04:27,  6.52s/it]"
     ]
    },
    {
     "data": {
      "application/vnd.jupyter.widget-view+json": {
       "model_id": "",
       "version_major": 2,
       "version_minor": 0
      },
      "text/plain": [
       "HBox(children=(FloatProgress(value=0.0, max=48.0), HTML(value='')))"
      ]
     },
     "metadata": {},
     "output_type": "display_data"
    },
    {
     "name": "stderr",
     "output_type": "stream",
     "text": [
      "Partition explainer:  30%|██▉       | 17/57 [01:46<04:21,  6.53s/it]"
     ]
    },
    {
     "data": {
      "application/vnd.jupyter.widget-view+json": {
       "model_id": "",
       "version_major": 2,
       "version_minor": 0
      },
      "text/plain": [
       "HBox(children=(FloatProgress(value=0.0, max=48.0), HTML(value='')))"
      ]
     },
     "metadata": {},
     "output_type": "display_data"
    },
    {
     "name": "stderr",
     "output_type": "stream",
     "text": [
      "Partition explainer:  32%|███▏      | 18/57 [01:52<04:14,  6.53s/it]"
     ]
    },
    {
     "data": {
      "application/vnd.jupyter.widget-view+json": {
       "model_id": "",
       "version_major": 2,
       "version_minor": 0
      },
      "text/plain": [
       "HBox(children=(FloatProgress(value=0.0, max=48.0), HTML(value='')))"
      ]
     },
     "metadata": {},
     "output_type": "display_data"
    },
    {
     "name": "stderr",
     "output_type": "stream",
     "text": [
      "Partition explainer:  33%|███▎      | 19/57 [01:59<04:08,  6.53s/it]"
     ]
    },
    {
     "data": {
      "application/vnd.jupyter.widget-view+json": {
       "model_id": "",
       "version_major": 2,
       "version_minor": 0
      },
      "text/plain": [
       "HBox(children=(FloatProgress(value=0.0, max=48.0), HTML(value='')))"
      ]
     },
     "metadata": {},
     "output_type": "display_data"
    },
    {
     "name": "stderr",
     "output_type": "stream",
     "text": [
      "Partition explainer:  35%|███▌      | 20/57 [02:05<04:01,  6.53s/it]"
     ]
    },
    {
     "data": {
      "application/vnd.jupyter.widget-view+json": {
       "model_id": "",
       "version_major": 2,
       "version_minor": 0
      },
      "text/plain": [
       "HBox(children=(FloatProgress(value=0.0, max=48.0), HTML(value='')))"
      ]
     },
     "metadata": {},
     "output_type": "display_data"
    },
    {
     "name": "stderr",
     "output_type": "stream",
     "text": [
      "Partition explainer:  37%|███▋      | 21/57 [02:12<03:55,  6.53s/it]"
     ]
    },
    {
     "data": {
      "application/vnd.jupyter.widget-view+json": {
       "model_id": "",
       "version_major": 2,
       "version_minor": 0
      },
      "text/plain": [
       "HBox(children=(FloatProgress(value=0.0, max=48.0), HTML(value='')))"
      ]
     },
     "metadata": {},
     "output_type": "display_data"
    },
    {
     "name": "stderr",
     "output_type": "stream",
     "text": [
      "Partition explainer:  39%|███▊      | 22/57 [02:18<03:48,  6.53s/it]"
     ]
    },
    {
     "data": {
      "application/vnd.jupyter.widget-view+json": {
       "model_id": "",
       "version_major": 2,
       "version_minor": 0
      },
      "text/plain": [
       "HBox(children=(FloatProgress(value=0.0, max=48.0), HTML(value='')))"
      ]
     },
     "metadata": {},
     "output_type": "display_data"
    },
    {
     "name": "stderr",
     "output_type": "stream",
     "text": [
      "Partition explainer:  40%|████      | 23/57 [02:25<03:41,  6.52s/it]"
     ]
    },
    {
     "data": {
      "application/vnd.jupyter.widget-view+json": {
       "model_id": "",
       "version_major": 2,
       "version_minor": 0
      },
      "text/plain": [
       "HBox(children=(FloatProgress(value=0.0, max=48.0), HTML(value='')))"
      ]
     },
     "metadata": {},
     "output_type": "display_data"
    },
    {
     "name": "stderr",
     "output_type": "stream",
     "text": [
      "Partition explainer:  42%|████▏     | 24/57 [02:31<03:35,  6.52s/it]"
     ]
    },
    {
     "data": {
      "application/vnd.jupyter.widget-view+json": {
       "model_id": "",
       "version_major": 2,
       "version_minor": 0
      },
      "text/plain": [
       "HBox(children=(FloatProgress(value=0.0, max=48.0), HTML(value='')))"
      ]
     },
     "metadata": {},
     "output_type": "display_data"
    },
    {
     "name": "stderr",
     "output_type": "stream",
     "text": [
      "Partition explainer:  44%|████▍     | 25/57 [02:38<03:28,  6.51s/it]"
     ]
    },
    {
     "data": {
      "application/vnd.jupyter.widget-view+json": {
       "model_id": "",
       "version_major": 2,
       "version_minor": 0
      },
      "text/plain": [
       "HBox(children=(FloatProgress(value=0.0, max=48.0), HTML(value='')))"
      ]
     },
     "metadata": {},
     "output_type": "display_data"
    },
    {
     "name": "stderr",
     "output_type": "stream",
     "text": [
      "Partition explainer:  46%|████▌     | 26/57 [02:44<03:22,  6.52s/it]"
     ]
    },
    {
     "data": {
      "application/vnd.jupyter.widget-view+json": {
       "model_id": "",
       "version_major": 2,
       "version_minor": 0
      },
      "text/plain": [
       "HBox(children=(FloatProgress(value=0.0, max=48.0), HTML(value='')))"
      ]
     },
     "metadata": {},
     "output_type": "display_data"
    },
    {
     "name": "stderr",
     "output_type": "stream",
     "text": [
      "Partition explainer:  47%|████▋     | 27/57 [02:51<03:15,  6.52s/it]"
     ]
    },
    {
     "data": {
      "application/vnd.jupyter.widget-view+json": {
       "model_id": "",
       "version_major": 2,
       "version_minor": 0
      },
      "text/plain": [
       "HBox(children=(FloatProgress(value=0.0, max=48.0), HTML(value='')))"
      ]
     },
     "metadata": {},
     "output_type": "display_data"
    },
    {
     "name": "stderr",
     "output_type": "stream",
     "text": [
      "Partition explainer:  49%|████▉     | 28/57 [02:57<03:08,  6.52s/it]"
     ]
    },
    {
     "data": {
      "application/vnd.jupyter.widget-view+json": {
       "model_id": "",
       "version_major": 2,
       "version_minor": 0
      },
      "text/plain": [
       "HBox(children=(FloatProgress(value=0.0, max=48.0), HTML(value='')))"
      ]
     },
     "metadata": {},
     "output_type": "display_data"
    },
    {
     "name": "stderr",
     "output_type": "stream",
     "text": [
      "Partition explainer:  51%|█████     | 29/57 [03:04<03:02,  6.52s/it]"
     ]
    },
    {
     "data": {
      "application/vnd.jupyter.widget-view+json": {
       "model_id": "",
       "version_major": 2,
       "version_minor": 0
      },
      "text/plain": [
       "HBox(children=(FloatProgress(value=0.0, max=48.0), HTML(value='')))"
      ]
     },
     "metadata": {},
     "output_type": "display_data"
    },
    {
     "name": "stderr",
     "output_type": "stream",
     "text": [
      "Partition explainer:  53%|█████▎    | 30/57 [03:10<02:56,  6.53s/it]"
     ]
    },
    {
     "data": {
      "application/vnd.jupyter.widget-view+json": {
       "model_id": "",
       "version_major": 2,
       "version_minor": 0
      },
      "text/plain": [
       "HBox(children=(FloatProgress(value=0.0, max=48.0), HTML(value='')))"
      ]
     },
     "metadata": {},
     "output_type": "display_data"
    },
    {
     "name": "stderr",
     "output_type": "stream",
     "text": [
      "Partition explainer:  54%|█████▍    | 31/57 [03:17<02:49,  6.53s/it]"
     ]
    },
    {
     "data": {
      "application/vnd.jupyter.widget-view+json": {
       "model_id": "",
       "version_major": 2,
       "version_minor": 0
      },
      "text/plain": [
       "HBox(children=(FloatProgress(value=0.0, max=48.0), HTML(value='')))"
      ]
     },
     "metadata": {},
     "output_type": "display_data"
    },
    {
     "name": "stderr",
     "output_type": "stream",
     "text": [
      "Partition explainer:  56%|█████▌    | 32/57 [03:23<02:43,  6.52s/it]"
     ]
    },
    {
     "data": {
      "application/vnd.jupyter.widget-view+json": {
       "model_id": "",
       "version_major": 2,
       "version_minor": 0
      },
      "text/plain": [
       "HBox(children=(FloatProgress(value=0.0, max=48.0), HTML(value='')))"
      ]
     },
     "metadata": {},
     "output_type": "display_data"
    },
    {
     "name": "stderr",
     "output_type": "stream",
     "text": [
      "Partition explainer:  58%|█████▊    | 33/57 [03:30<02:36,  6.52s/it]"
     ]
    },
    {
     "data": {
      "application/vnd.jupyter.widget-view+json": {
       "model_id": "",
       "version_major": 2,
       "version_minor": 0
      },
      "text/plain": [
       "HBox(children=(FloatProgress(value=0.0, max=48.0), HTML(value='')))"
      ]
     },
     "metadata": {},
     "output_type": "display_data"
    },
    {
     "name": "stderr",
     "output_type": "stream",
     "text": [
      "Partition explainer:  60%|█████▉    | 34/57 [03:36<02:29,  6.52s/it]"
     ]
    },
    {
     "data": {
      "application/vnd.jupyter.widget-view+json": {
       "model_id": "",
       "version_major": 2,
       "version_minor": 0
      },
      "text/plain": [
       "HBox(children=(FloatProgress(value=0.0, max=48.0), HTML(value='')))"
      ]
     },
     "metadata": {},
     "output_type": "display_data"
    },
    {
     "name": "stderr",
     "output_type": "stream",
     "text": [
      "Partition explainer:  61%|██████▏   | 35/57 [03:43<02:23,  6.52s/it]"
     ]
    },
    {
     "data": {
      "application/vnd.jupyter.widget-view+json": {
       "model_id": "",
       "version_major": 2,
       "version_minor": 0
      },
      "text/plain": [
       "HBox(children=(FloatProgress(value=0.0, max=48.0), HTML(value='')))"
      ]
     },
     "metadata": {},
     "output_type": "display_data"
    },
    {
     "name": "stderr",
     "output_type": "stream",
     "text": [
      "Partition explainer:  63%|██████▎   | 36/57 [03:49<02:17,  6.53s/it]"
     ]
    },
    {
     "data": {
      "application/vnd.jupyter.widget-view+json": {
       "model_id": "",
       "version_major": 2,
       "version_minor": 0
      },
      "text/plain": [
       "HBox(children=(FloatProgress(value=0.0, max=48.0), HTML(value='')))"
      ]
     },
     "metadata": {},
     "output_type": "display_data"
    },
    {
     "name": "stderr",
     "output_type": "stream",
     "text": [
      "Partition explainer:  65%|██████▍   | 37/57 [03:56<02:10,  6.54s/it]"
     ]
    },
    {
     "data": {
      "application/vnd.jupyter.widget-view+json": {
       "model_id": "",
       "version_major": 2,
       "version_minor": 0
      },
      "text/plain": [
       "HBox(children=(FloatProgress(value=0.0, max=48.0), HTML(value='')))"
      ]
     },
     "metadata": {},
     "output_type": "display_data"
    },
    {
     "name": "stderr",
     "output_type": "stream",
     "text": [
      "Partition explainer:  67%|██████▋   | 38/57 [04:03<02:04,  6.54s/it]"
     ]
    },
    {
     "data": {
      "application/vnd.jupyter.widget-view+json": {
       "model_id": "",
       "version_major": 2,
       "version_minor": 0
      },
      "text/plain": [
       "HBox(children=(FloatProgress(value=0.0, max=48.0), HTML(value='')))"
      ]
     },
     "metadata": {},
     "output_type": "display_data"
    },
    {
     "name": "stderr",
     "output_type": "stream",
     "text": [
      "Partition explainer:  68%|██████▊   | 39/57 [04:09<01:57,  6.54s/it]"
     ]
    },
    {
     "data": {
      "application/vnd.jupyter.widget-view+json": {
       "model_id": "",
       "version_major": 2,
       "version_minor": 0
      },
      "text/plain": [
       "HBox(children=(FloatProgress(value=0.0, max=48.0), HTML(value='')))"
      ]
     },
     "metadata": {},
     "output_type": "display_data"
    },
    {
     "name": "stderr",
     "output_type": "stream",
     "text": [
      "Partition explainer:  70%|███████   | 40/57 [04:16<01:51,  6.54s/it]"
     ]
    },
    {
     "data": {
      "application/vnd.jupyter.widget-view+json": {
       "model_id": "",
       "version_major": 2,
       "version_minor": 0
      },
      "text/plain": [
       "HBox(children=(FloatProgress(value=0.0, max=48.0), HTML(value='')))"
      ]
     },
     "metadata": {},
     "output_type": "display_data"
    },
    {
     "name": "stderr",
     "output_type": "stream",
     "text": [
      "Partition explainer:  72%|███████▏  | 41/57 [04:22<01:44,  6.54s/it]"
     ]
    },
    {
     "data": {
      "application/vnd.jupyter.widget-view+json": {
       "model_id": "",
       "version_major": 2,
       "version_minor": 0
      },
      "text/plain": [
       "HBox(children=(FloatProgress(value=0.0, max=48.0), HTML(value='')))"
      ]
     },
     "metadata": {},
     "output_type": "display_data"
    },
    {
     "name": "stderr",
     "output_type": "stream",
     "text": [
      "Partition explainer:  74%|███████▎  | 42/57 [04:29<01:38,  6.54s/it]"
     ]
    },
    {
     "data": {
      "application/vnd.jupyter.widget-view+json": {
       "model_id": "",
       "version_major": 2,
       "version_minor": 0
      },
      "text/plain": [
       "HBox(children=(FloatProgress(value=0.0, max=48.0), HTML(value='')))"
      ]
     },
     "metadata": {},
     "output_type": "display_data"
    },
    {
     "name": "stderr",
     "output_type": "stream",
     "text": [
      "Partition explainer:  75%|███████▌  | 43/57 [04:35<01:31,  6.54s/it]"
     ]
    },
    {
     "data": {
      "application/vnd.jupyter.widget-view+json": {
       "model_id": "",
       "version_major": 2,
       "version_minor": 0
      },
      "text/plain": [
       "HBox(children=(FloatProgress(value=0.0, max=48.0), HTML(value='')))"
      ]
     },
     "metadata": {},
     "output_type": "display_data"
    },
    {
     "name": "stderr",
     "output_type": "stream",
     "text": [
      "Partition explainer:  77%|███████▋  | 44/57 [04:42<01:24,  6.53s/it]"
     ]
    },
    {
     "data": {
      "application/vnd.jupyter.widget-view+json": {
       "model_id": "",
       "version_major": 2,
       "version_minor": 0
      },
      "text/plain": [
       "HBox(children=(FloatProgress(value=0.0, max=48.0), HTML(value='')))"
      ]
     },
     "metadata": {},
     "output_type": "display_data"
    },
    {
     "name": "stderr",
     "output_type": "stream",
     "text": [
      "Partition explainer:  79%|███████▉  | 45/57 [04:48<01:18,  6.57s/it]"
     ]
    },
    {
     "data": {
      "application/vnd.jupyter.widget-view+json": {
       "model_id": "",
       "version_major": 2,
       "version_minor": 0
      },
      "text/plain": [
       "HBox(children=(FloatProgress(value=0.0, max=48.0), HTML(value='')))"
      ]
     },
     "metadata": {},
     "output_type": "display_data"
    },
    {
     "name": "stderr",
     "output_type": "stream",
     "text": [
      "Partition explainer:  81%|████████  | 46/57 [04:55<01:12,  6.55s/it]"
     ]
    },
    {
     "data": {
      "application/vnd.jupyter.widget-view+json": {
       "model_id": "",
       "version_major": 2,
       "version_minor": 0
      },
      "text/plain": [
       "HBox(children=(FloatProgress(value=0.0, max=48.0), HTML(value='')))"
      ]
     },
     "metadata": {},
     "output_type": "display_data"
    },
    {
     "name": "stderr",
     "output_type": "stream",
     "text": [
      "Partition explainer:  82%|████████▏ | 47/57 [05:01<01:05,  6.54s/it]"
     ]
    },
    {
     "data": {
      "application/vnd.jupyter.widget-view+json": {
       "model_id": "",
       "version_major": 2,
       "version_minor": 0
      },
      "text/plain": [
       "HBox(children=(FloatProgress(value=0.0, max=48.0), HTML(value='')))"
      ]
     },
     "metadata": {},
     "output_type": "display_data"
    },
    {
     "name": "stderr",
     "output_type": "stream",
     "text": [
      "Partition explainer:  84%|████████▍ | 48/57 [05:08<00:58,  6.54s/it]"
     ]
    },
    {
     "data": {
      "application/vnd.jupyter.widget-view+json": {
       "model_id": "",
       "version_major": 2,
       "version_minor": 0
      },
      "text/plain": [
       "HBox(children=(FloatProgress(value=0.0, max=48.0), HTML(value='')))"
      ]
     },
     "metadata": {},
     "output_type": "display_data"
    },
    {
     "name": "stderr",
     "output_type": "stream",
     "text": [
      "Partition explainer:  86%|████████▌ | 49/57 [05:15<00:52,  6.53s/it]"
     ]
    },
    {
     "data": {
      "application/vnd.jupyter.widget-view+json": {
       "model_id": "",
       "version_major": 2,
       "version_minor": 0
      },
      "text/plain": [
       "HBox(children=(FloatProgress(value=0.0, max=48.0), HTML(value='')))"
      ]
     },
     "metadata": {},
     "output_type": "display_data"
    },
    {
     "name": "stderr",
     "output_type": "stream",
     "text": [
      "Partition explainer:  88%|████████▊ | 50/57 [05:21<00:45,  6.53s/it]"
     ]
    },
    {
     "data": {
      "application/vnd.jupyter.widget-view+json": {
       "model_id": "",
       "version_major": 2,
       "version_minor": 0
      },
      "text/plain": [
       "HBox(children=(FloatProgress(value=0.0, max=48.0), HTML(value='')))"
      ]
     },
     "metadata": {},
     "output_type": "display_data"
    },
    {
     "name": "stderr",
     "output_type": "stream",
     "text": [
      "Partition explainer:  89%|████████▉ | 51/57 [05:28<00:39,  6.52s/it]"
     ]
    },
    {
     "data": {
      "application/vnd.jupyter.widget-view+json": {
       "model_id": "",
       "version_major": 2,
       "version_minor": 0
      },
      "text/plain": [
       "HBox(children=(FloatProgress(value=0.0, max=48.0), HTML(value='')))"
      ]
     },
     "metadata": {},
     "output_type": "display_data"
    },
    {
     "name": "stderr",
     "output_type": "stream",
     "text": [
      "Partition explainer:  91%|█████████ | 52/57 [05:34<00:32,  6.52s/it]"
     ]
    },
    {
     "data": {
      "application/vnd.jupyter.widget-view+json": {
       "model_id": "",
       "version_major": 2,
       "version_minor": 0
      },
      "text/plain": [
       "HBox(children=(FloatProgress(value=0.0, max=48.0), HTML(value='')))"
      ]
     },
     "metadata": {},
     "output_type": "display_data"
    },
    {
     "name": "stderr",
     "output_type": "stream",
     "text": [
      "Partition explainer:  93%|█████████▎| 53/57 [05:41<00:26,  6.52s/it]"
     ]
    },
    {
     "data": {
      "application/vnd.jupyter.widget-view+json": {
       "model_id": "",
       "version_major": 2,
       "version_minor": 0
      },
      "text/plain": [
       "HBox(children=(FloatProgress(value=0.0, max=48.0), HTML(value='')))"
      ]
     },
     "metadata": {},
     "output_type": "display_data"
    },
    {
     "name": "stderr",
     "output_type": "stream",
     "text": [
      "Partition explainer:  95%|█████████▍| 54/57 [05:48<00:20,  6.76s/it]"
     ]
    },
    {
     "data": {
      "application/vnd.jupyter.widget-view+json": {
       "model_id": "",
       "version_major": 2,
       "version_minor": 0
      },
      "text/plain": [
       "HBox(children=(FloatProgress(value=0.0, max=48.0), HTML(value='')))"
      ]
     },
     "metadata": {},
     "output_type": "display_data"
    },
    {
     "name": "stderr",
     "output_type": "stream",
     "text": [
      "Partition explainer:  96%|█████████▋| 55/57 [05:55<00:13,  6.92s/it]"
     ]
    },
    {
     "data": {
      "application/vnd.jupyter.widget-view+json": {
       "model_id": "",
       "version_major": 2,
       "version_minor": 0
      },
      "text/plain": [
       "HBox(children=(FloatProgress(value=0.0, max=48.0), HTML(value='')))"
      ]
     },
     "metadata": {},
     "output_type": "display_data"
    },
    {
     "name": "stderr",
     "output_type": "stream",
     "text": [
      "Partition explainer:  98%|█████████▊| 56/57 [06:02<00:06,  6.88s/it]"
     ]
    },
    {
     "data": {
      "application/vnd.jupyter.widget-view+json": {
       "model_id": "",
       "version_major": 2,
       "version_minor": 0
      },
      "text/plain": [
       "HBox(children=(FloatProgress(value=0.0, max=48.0), HTML(value='')))"
      ]
     },
     "metadata": {},
     "output_type": "display_data"
    },
    {
     "name": "stderr",
     "output_type": "stream",
     "text": [
      "Partition explainer: 100%|██████████| 57/57 [06:09<00:00,  6.93s/it]"
     ]
    },
    {
     "data": {
      "application/vnd.jupyter.widget-view+json": {
       "model_id": "",
       "version_major": 2,
       "version_minor": 0
      },
      "text/plain": [
       "HBox(children=(FloatProgress(value=0.0, max=48.0), HTML(value='')))"
      ]
     },
     "metadata": {},
     "output_type": "display_data"
    },
    {
     "name": "stderr",
     "output_type": "stream",
     "text": [
      "Partition explainer: 58it [06:16,  6.72s/it]                        \n"
     ]
    }
   ],
   "source": [
    "# SHAP values for original sentence\n",
    "shap_values = shap_explainer.explain_instances(perturbation_df['sentence'])"
   ]
  },
  {
   "cell_type": "code",
   "execution_count": 80,
   "id": "d94b3b17",
   "metadata": {
    "tags": []
   },
   "outputs": [],
   "source": [
    "perturbation_df['shap_orig_tokens'] = shap_values.data\n",
    "perturbation_df['shap_orig_tokens'] = perturbation_df['shap_orig_tokens'].apply(lambda x: x[1:-1])  # Drop first and last as these correspond to special tokens"
   ]
  },
  {
   "cell_type": "code",
   "execution_count": 81,
   "id": "c2121c22",
   "metadata": {},
   "outputs": [
    {
     "data": {
      "text/html": [
       "<div>\n",
       "<style scoped>\n",
       "    .dataframe tbody tr th:only-of-type {\n",
       "        vertical-align: middle;\n",
       "    }\n",
       "\n",
       "    .dataframe tbody tr th {\n",
       "        vertical-align: top;\n",
       "    }\n",
       "\n",
       "    .dataframe thead th {\n",
       "        text-align: right;\n",
       "    }\n",
       "</style>\n",
       "<table border=\"1\" class=\"dataframe\">\n",
       "  <thead>\n",
       "    <tr style=\"text-align: right;\">\n",
       "      <th></th>\n",
       "      <th>sentence</th>\n",
       "      <th>label</th>\n",
       "      <th>tokens_orig</th>\n",
       "      <th>remove_commas_concat</th>\n",
       "      <th>remove_commas_tokens</th>\n",
       "      <th>remove_commas_success</th>\n",
       "      <th>remove_commas_pert_ind</th>\n",
       "      <th>orig_prediction</th>\n",
       "      <th>remove_commas_prediction</th>\n",
       "      <th>correct_prediction</th>\n",
       "      <th>shap_orig_tokens</th>\n",
       "    </tr>\n",
       "  </thead>\n",
       "  <tbody>\n",
       "    <tr>\n",
       "      <th>1</th>\n",
       "      <td>To my taste , the film 's comic characters com...</td>\n",
       "      <td>2</td>\n",
       "      <td>[to, my, taste, ,, the, film, ', s, comic, cha...</td>\n",
       "      <td>to my taste  the film ' s comic characters com...</td>\n",
       "      <td>[to, my, taste, , the, film, ', s, comic, char...</td>\n",
       "      <td>1</td>\n",
       "      <td>[3]</td>\n",
       "      <td>2</td>\n",
       "      <td>2</td>\n",
       "      <td>1</td>\n",
       "      <td>[to , my , taste , , , the , film , ' , s , co...</td>\n",
       "    </tr>\n",
       "    <tr>\n",
       "      <th>2</th>\n",
       "      <td>A difficult , absorbing film that manages to c...</td>\n",
       "      <td>3</td>\n",
       "      <td>[a, difficult, ,, absorbing, film, that, manag...</td>\n",
       "      <td>a difficult  absorbing film that manages to co...</td>\n",
       "      <td>[a, difficult, , absorbing, film, that, manage...</td>\n",
       "      <td>1</td>\n",
       "      <td>[2]</td>\n",
       "      <td>3</td>\n",
       "      <td>3</td>\n",
       "      <td>1</td>\n",
       "      <td>[a , difficult , , , absorbing , film , that ,...</td>\n",
       "    </tr>\n",
       "    <tr>\n",
       "      <th>5</th>\n",
       "      <td>It will grip even viewers who are n't interest...</td>\n",
       "      <td>3</td>\n",
       "      <td>[it, will, grip, even, viewers, who, are, n, '...</td>\n",
       "      <td>it will grip even viewers who are n ' t intere...</td>\n",
       "      <td>[it, will, grip, even, viewers, who, are, n, '...</td>\n",
       "      <td>1</td>\n",
       "      <td>[13]</td>\n",
       "      <td>3</td>\n",
       "      <td>3</td>\n",
       "      <td>1</td>\n",
       "      <td>[it , will , grip , even , viewers , who , are...</td>\n",
       "    </tr>\n",
       "    <tr>\n",
       "      <th>6</th>\n",
       "      <td>The X potion gives the quickly named Blossom ,...</td>\n",
       "      <td>1</td>\n",
       "      <td>[the, x, potion, gives, the, quickly, named, b...</td>\n",
       "      <td>the x potion gives the quickly named blossom  ...</td>\n",
       "      <td>[the, x, potion, gives, the, quickly, named, b...</td>\n",
       "      <td>1</td>\n",
       "      <td>[8, 24]</td>\n",
       "      <td>3</td>\n",
       "      <td>3</td>\n",
       "      <td>0</td>\n",
       "      <td>[the , x , potion , gives , the , quickly , na...</td>\n",
       "    </tr>\n",
       "    <tr>\n",
       "      <th>10</th>\n",
       "      <td>Schaeffer has to find some hook on which to ha...</td>\n",
       "      <td>1</td>\n",
       "      <td>[sc, ##hae, ##ffer, has, to, find, some, hook,...</td>\n",
       "      <td>schaeffer has to find some hook on which to ha...</td>\n",
       "      <td>[sc, ##hae, ##ffer, has, to, find, some, hook,...</td>\n",
       "      <td>1</td>\n",
       "      <td>[17]</td>\n",
       "      <td>1</td>\n",
       "      <td>1</td>\n",
       "      <td>1</td>\n",
       "      <td>[sc , ##hae , ##ffer , has , to , find , some ...</td>\n",
       "    </tr>\n",
       "  </tbody>\n",
       "</table>\n",
       "</div>"
      ],
      "text/plain": [
       "                                             sentence  label  \\\n",
       "1   To my taste , the film 's comic characters com...      2   \n",
       "2   A difficult , absorbing film that manages to c...      3   \n",
       "5   It will grip even viewers who are n't interest...      3   \n",
       "6   The X potion gives the quickly named Blossom ,...      1   \n",
       "10  Schaeffer has to find some hook on which to ha...      1   \n",
       "\n",
       "                                          tokens_orig  \\\n",
       "1   [to, my, taste, ,, the, film, ', s, comic, cha...   \n",
       "2   [a, difficult, ,, absorbing, film, that, manag...   \n",
       "5   [it, will, grip, even, viewers, who, are, n, '...   \n",
       "6   [the, x, potion, gives, the, quickly, named, b...   \n",
       "10  [sc, ##hae, ##ffer, has, to, find, some, hook,...   \n",
       "\n",
       "                                 remove_commas_concat  \\\n",
       "1   to my taste  the film ' s comic characters com...   \n",
       "2   a difficult  absorbing film that manages to co...   \n",
       "5   it will grip even viewers who are n ' t intere...   \n",
       "6   the x potion gives the quickly named blossom  ...   \n",
       "10  schaeffer has to find some hook on which to ha...   \n",
       "\n",
       "                                 remove_commas_tokens  remove_commas_success  \\\n",
       "1   [to, my, taste, , the, film, ', s, comic, char...                      1   \n",
       "2   [a, difficult, , absorbing, film, that, manage...                      1   \n",
       "5   [it, will, grip, even, viewers, who, are, n, '...                      1   \n",
       "6   [the, x, potion, gives, the, quickly, named, b...                      1   \n",
       "10  [sc, ##hae, ##ffer, has, to, find, some, hook,...                      1   \n",
       "\n",
       "   remove_commas_pert_ind  orig_prediction  remove_commas_prediction  \\\n",
       "1                     [3]                2                         2   \n",
       "2                     [2]                3                         3   \n",
       "5                    [13]                3                         3   \n",
       "6                 [8, 24]                3                         3   \n",
       "10                   [17]                1                         1   \n",
       "\n",
       "    correct_prediction                                   shap_orig_tokens  \n",
       "1                    1  [to , my , taste , , , the , film , ' , s , co...  \n",
       "2                    1  [a , difficult , , , absorbing , film , that ,...  \n",
       "5                    1  [it , will , grip , even , viewers , who , are...  \n",
       "6                    0  [the , x , potion , gives , the , quickly , na...  \n",
       "10                   1  [sc , ##hae , ##ffer , has , to , find , some ...  "
      ]
     },
     "execution_count": 81,
     "metadata": {},
     "output_type": "execute_result"
    }
   ],
   "source": [
    "perturbation_df.head()"
   ]
  },
  {
   "cell_type": "code",
   "execution_count": 119,
   "id": "3f24899f",
   "metadata": {},
   "outputs": [],
   "source": [
    "perturbation_df['shap_orig_values'] = shap_values.values\n",
    "perturbation_df['shap_orig_values'] = perturbation_df['shap_orig_values'].apply(lambda x: x[1:-1, :])  # Drop first and last as these correspond to special tokens\n",
    "\n",
    "# Only keep SHAP values for label predicted\n",
    "perturbation_df['shap_orig_values'] = perturbation_df.apply(lambda x: x['shap_orig_values'][:, x['orig_prediction']], axis=1)"
   ]
  },
  {
   "cell_type": "code",
   "execution_count": 120,
   "id": "b174e0da",
   "metadata": {},
   "outputs": [
    {
     "data": {
      "text/html": [
       "<div>\n",
       "<style scoped>\n",
       "    .dataframe tbody tr th:only-of-type {\n",
       "        vertical-align: middle;\n",
       "    }\n",
       "\n",
       "    .dataframe tbody tr th {\n",
       "        vertical-align: top;\n",
       "    }\n",
       "\n",
       "    .dataframe thead th {\n",
       "        text-align: right;\n",
       "    }\n",
       "</style>\n",
       "<table border=\"1\" class=\"dataframe\">\n",
       "  <thead>\n",
       "    <tr style=\"text-align: right;\">\n",
       "      <th></th>\n",
       "      <th>sentence</th>\n",
       "      <th>label</th>\n",
       "      <th>tokens_orig</th>\n",
       "      <th>remove_commas_concat</th>\n",
       "      <th>remove_commas_tokens</th>\n",
       "      <th>remove_commas_success</th>\n",
       "      <th>remove_commas_pert_ind</th>\n",
       "      <th>orig_prediction</th>\n",
       "      <th>remove_commas_prediction</th>\n",
       "      <th>correct_prediction</th>\n",
       "      <th>shap_orig_tokens</th>\n",
       "      <th>shap_orig_values</th>\n",
       "    </tr>\n",
       "  </thead>\n",
       "  <tbody>\n",
       "    <tr>\n",
       "      <th>1</th>\n",
       "      <td>To my taste , the film 's comic characters com...</td>\n",
       "      <td>2</td>\n",
       "      <td>[to, my, taste, ,, the, film, ', s, comic, cha...</td>\n",
       "      <td>to my taste  the film ' s comic characters com...</td>\n",
       "      <td>[to, my, taste, , the, film, ', s, comic, char...</td>\n",
       "      <td>1</td>\n",
       "      <td>[3]</td>\n",
       "      <td>2</td>\n",
       "      <td>2</td>\n",
       "      <td>1</td>\n",
       "      <td>[to , my , taste , , , the , film , ' , s , co...</td>\n",
       "      <td>[-0.012986115102345744, -0.012986115102345744,...</td>\n",
       "    </tr>\n",
       "    <tr>\n",
       "      <th>2</th>\n",
       "      <td>A difficult , absorbing film that manages to c...</td>\n",
       "      <td>3</td>\n",
       "      <td>[a, difficult, ,, absorbing, film, that, manag...</td>\n",
       "      <td>a difficult  absorbing film that manages to co...</td>\n",
       "      <td>[a, difficult, , absorbing, film, that, manage...</td>\n",
       "      <td>1</td>\n",
       "      <td>[2]</td>\n",
       "      <td>3</td>\n",
       "      <td>3</td>\n",
       "      <td>1</td>\n",
       "      <td>[a , difficult , , , absorbing , film , that ,...</td>\n",
       "      <td>[0.011156889920433363, 0.011156889920433363, 0...</td>\n",
       "    </tr>\n",
       "    <tr>\n",
       "      <th>5</th>\n",
       "      <td>It will grip even viewers who are n't interest...</td>\n",
       "      <td>3</td>\n",
       "      <td>[it, will, grip, even, viewers, who, are, n, '...</td>\n",
       "      <td>it will grip even viewers who are n ' t intere...</td>\n",
       "      <td>[it, will, grip, even, viewers, who, are, n, '...</td>\n",
       "      <td>1</td>\n",
       "      <td>[13]</td>\n",
       "      <td>3</td>\n",
       "      <td>3</td>\n",
       "      <td>1</td>\n",
       "      <td>[it , will , grip , even , viewers , who , are...</td>\n",
       "      <td>[0.007894540045942578, 0.007894540045942578, 0...</td>\n",
       "    </tr>\n",
       "    <tr>\n",
       "      <th>6</th>\n",
       "      <td>The X potion gives the quickly named Blossom ,...</td>\n",
       "      <td>1</td>\n",
       "      <td>[the, x, potion, gives, the, quickly, named, b...</td>\n",
       "      <td>the x potion gives the quickly named blossom  ...</td>\n",
       "      <td>[the, x, potion, gives, the, quickly, named, b...</td>\n",
       "      <td>1</td>\n",
       "      <td>[8, 24]</td>\n",
       "      <td>3</td>\n",
       "      <td>3</td>\n",
       "      <td>0</td>\n",
       "      <td>[the , x , potion , gives , the , quickly , na...</td>\n",
       "      <td>[0.005473468225035402, 0.005473468225035402, 0...</td>\n",
       "    </tr>\n",
       "    <tr>\n",
       "      <th>10</th>\n",
       "      <td>Schaeffer has to find some hook on which to ha...</td>\n",
       "      <td>1</td>\n",
       "      <td>[sc, ##hae, ##ffer, has, to, find, some, hook,...</td>\n",
       "      <td>schaeffer has to find some hook on which to ha...</td>\n",
       "      <td>[sc, ##hae, ##ffer, has, to, find, some, hook,...</td>\n",
       "      <td>1</td>\n",
       "      <td>[17]</td>\n",
       "      <td>1</td>\n",
       "      <td>1</td>\n",
       "      <td>1</td>\n",
       "      <td>[sc , ##hae , ##ffer , has , to , find , some ...</td>\n",
       "      <td>[0.018988311962018927, 0.018988311962018927, 0...</td>\n",
       "    </tr>\n",
       "  </tbody>\n",
       "</table>\n",
       "</div>"
      ],
      "text/plain": [
       "                                             sentence  label  \\\n",
       "1   To my taste , the film 's comic characters com...      2   \n",
       "2   A difficult , absorbing film that manages to c...      3   \n",
       "5   It will grip even viewers who are n't interest...      3   \n",
       "6   The X potion gives the quickly named Blossom ,...      1   \n",
       "10  Schaeffer has to find some hook on which to ha...      1   \n",
       "\n",
       "                                          tokens_orig  \\\n",
       "1   [to, my, taste, ,, the, film, ', s, comic, cha...   \n",
       "2   [a, difficult, ,, absorbing, film, that, manag...   \n",
       "5   [it, will, grip, even, viewers, who, are, n, '...   \n",
       "6   [the, x, potion, gives, the, quickly, named, b...   \n",
       "10  [sc, ##hae, ##ffer, has, to, find, some, hook,...   \n",
       "\n",
       "                                 remove_commas_concat  \\\n",
       "1   to my taste  the film ' s comic characters com...   \n",
       "2   a difficult  absorbing film that manages to co...   \n",
       "5   it will grip even viewers who are n ' t intere...   \n",
       "6   the x potion gives the quickly named blossom  ...   \n",
       "10  schaeffer has to find some hook on which to ha...   \n",
       "\n",
       "                                 remove_commas_tokens  remove_commas_success  \\\n",
       "1   [to, my, taste, , the, film, ', s, comic, char...                      1   \n",
       "2   [a, difficult, , absorbing, film, that, manage...                      1   \n",
       "5   [it, will, grip, even, viewers, who, are, n, '...                      1   \n",
       "6   [the, x, potion, gives, the, quickly, named, b...                      1   \n",
       "10  [sc, ##hae, ##ffer, has, to, find, some, hook,...                      1   \n",
       "\n",
       "   remove_commas_pert_ind  orig_prediction  remove_commas_prediction  \\\n",
       "1                     [3]                2                         2   \n",
       "2                     [2]                3                         3   \n",
       "5                    [13]                3                         3   \n",
       "6                 [8, 24]                3                         3   \n",
       "10                   [17]                1                         1   \n",
       "\n",
       "    correct_prediction                                   shap_orig_tokens  \\\n",
       "1                    1  [to , my , taste , , , the , film , ' , s , co...   \n",
       "2                    1  [a , difficult , , , absorbing , film , that ,...   \n",
       "5                    1  [it , will , grip , even , viewers , who , are...   \n",
       "6                    0  [the , x , potion , gives , the , quickly , na...   \n",
       "10                   1  [sc , ##hae , ##ffer , has , to , find , some ...   \n",
       "\n",
       "                                     shap_orig_values  \n",
       "1   [-0.012986115102345744, -0.012986115102345744,...  \n",
       "2   [0.011156889920433363, 0.011156889920433363, 0...  \n",
       "5   [0.007894540045942578, 0.007894540045942578, 0...  \n",
       "6   [0.005473468225035402, 0.005473468225035402, 0...  \n",
       "10  [0.018988311962018927, 0.018988311962018927, 0...  "
      ]
     },
     "execution_count": 120,
     "metadata": {},
     "output_type": "execute_result"
    }
   ],
   "source": [
    "perturbation_df.head()"
   ]
  },
  {
   "cell_type": "code",
   "execution_count": 124,
   "id": "aeb3cd11",
   "metadata": {},
   "outputs": [],
   "source": [
    "# Length of SHAP tokens same as lengtth of SHAP values\n",
    "assert perturbation_df.shape[0] == (perturbation_df['shap_orig_tokens'].apply(len) == perturbation_df['shap_orig_values'].apply(len)).sum()"
   ]
  },
  {
   "cell_type": "code",
   "execution_count": null,
   "id": "5be3014b",
   "metadata": {},
   "outputs": [],
   "source": []
  },
  {
   "cell_type": "code",
   "execution_count": 125,
   "id": "ede7ae69",
   "metadata": {
    "collapsed": true,
    "jupyter": {
     "outputs_hidden": true
    },
    "tags": []
   },
   "outputs": [
    {
     "data": {
      "application/vnd.jupyter.widget-view+json": {
       "model_id": "",
       "version_major": 2,
       "version_minor": 0
      },
      "text/plain": [
       "HBox(children=(FloatProgress(value=0.0, max=48.0), HTML(value='')))"
      ]
     },
     "metadata": {},
     "output_type": "display_data"
    },
    {
     "data": {
      "application/vnd.jupyter.widget-view+json": {
       "model_id": "",
       "version_major": 2,
       "version_minor": 0
      },
      "text/plain": [
       "HBox(children=(FloatProgress(value=0.0, max=48.0), HTML(value='')))"
      ]
     },
     "metadata": {},
     "output_type": "display_data"
    },
    {
     "name": "stderr",
     "output_type": "stream",
     "text": [
      "Partition explainer:   4%|▎         | 2/57 [00:00<?, ?it/s]"
     ]
    },
    {
     "data": {
      "application/vnd.jupyter.widget-view+json": {
       "model_id": "",
       "version_major": 2,
       "version_minor": 0
      },
      "text/plain": [
       "HBox(children=(FloatProgress(value=0.0, max=48.0), HTML(value='')))"
      ]
     },
     "metadata": {},
     "output_type": "display_data"
    },
    {
     "name": "stderr",
     "output_type": "stream",
     "text": [
      "Partition explainer:   7%|▋         | 4/57 [00:20<02:58,  3.37s/it]"
     ]
    },
    {
     "data": {
      "application/vnd.jupyter.widget-view+json": {
       "model_id": "",
       "version_major": 2,
       "version_minor": 0
      },
      "text/plain": [
       "HBox(children=(FloatProgress(value=0.0, max=48.0), HTML(value='')))"
      ]
     },
     "metadata": {},
     "output_type": "display_data"
    },
    {
     "name": "stderr",
     "output_type": "stream",
     "text": [
      "Partition explainer:   9%|▉         | 5/57 [00:27<03:48,  4.40s/it]"
     ]
    },
    {
     "data": {
      "application/vnd.jupyter.widget-view+json": {
       "model_id": "",
       "version_major": 2,
       "version_minor": 0
      },
      "text/plain": [
       "HBox(children=(FloatProgress(value=0.0, max=48.0), HTML(value='')))"
      ]
     },
     "metadata": {},
     "output_type": "display_data"
    },
    {
     "name": "stderr",
     "output_type": "stream",
     "text": [
      "Partition explainer:  11%|█         | 6/57 [00:33<04:20,  5.10s/it]"
     ]
    },
    {
     "data": {
      "application/vnd.jupyter.widget-view+json": {
       "model_id": "",
       "version_major": 2,
       "version_minor": 0
      },
      "text/plain": [
       "HBox(children=(FloatProgress(value=0.0, max=48.0), HTML(value='')))"
      ]
     },
     "metadata": {},
     "output_type": "display_data"
    },
    {
     "name": "stderr",
     "output_type": "stream",
     "text": [
      "Partition explainer:  12%|█▏        | 7/57 [00:40<04:38,  5.56s/it]"
     ]
    },
    {
     "data": {
      "application/vnd.jupyter.widget-view+json": {
       "model_id": "",
       "version_major": 2,
       "version_minor": 0
      },
      "text/plain": [
       "HBox(children=(FloatProgress(value=0.0, max=48.0), HTML(value='')))"
      ]
     },
     "metadata": {},
     "output_type": "display_data"
    },
    {
     "name": "stderr",
     "output_type": "stream",
     "text": [
      "Partition explainer:  14%|█▍        | 8/57 [00:47<04:51,  5.94s/it]"
     ]
    },
    {
     "data": {
      "application/vnd.jupyter.widget-view+json": {
       "model_id": "",
       "version_major": 2,
       "version_minor": 0
      },
      "text/plain": [
       "HBox(children=(FloatProgress(value=0.0, max=48.0), HTML(value='')))"
      ]
     },
     "metadata": {},
     "output_type": "display_data"
    },
    {
     "name": "stderr",
     "output_type": "stream",
     "text": [
      "Partition explainer:  16%|█▌        | 9/57 [00:54<04:58,  6.23s/it]"
     ]
    },
    {
     "data": {
      "application/vnd.jupyter.widget-view+json": {
       "model_id": "",
       "version_major": 2,
       "version_minor": 0
      },
      "text/plain": [
       "HBox(children=(FloatProgress(value=0.0, max=48.0), HTML(value='')))"
      ]
     },
     "metadata": {},
     "output_type": "display_data"
    },
    {
     "name": "stderr",
     "output_type": "stream",
     "text": [
      "Partition explainer:  18%|█▊        | 10/57 [01:01<05:02,  6.43s/it]"
     ]
    },
    {
     "data": {
      "application/vnd.jupyter.widget-view+json": {
       "model_id": "",
       "version_major": 2,
       "version_minor": 0
      },
      "text/plain": [
       "HBox(children=(FloatProgress(value=0.0, max=48.0), HTML(value='')))"
      ]
     },
     "metadata": {},
     "output_type": "display_data"
    },
    {
     "name": "stderr",
     "output_type": "stream",
     "text": [
      "Partition explainer:  19%|█▉        | 11/57 [01:07<05:01,  6.56s/it]"
     ]
    },
    {
     "data": {
      "application/vnd.jupyter.widget-view+json": {
       "model_id": "",
       "version_major": 2,
       "version_minor": 0
      },
      "text/plain": [
       "HBox(children=(FloatProgress(value=0.0, max=48.0), HTML(value='')))"
      ]
     },
     "metadata": {},
     "output_type": "display_data"
    },
    {
     "name": "stderr",
     "output_type": "stream",
     "text": [
      "Partition explainer:  21%|██        | 12/57 [01:14<04:59,  6.64s/it]"
     ]
    },
    {
     "data": {
      "application/vnd.jupyter.widget-view+json": {
       "model_id": "",
       "version_major": 2,
       "version_minor": 0
      },
      "text/plain": [
       "HBox(children=(FloatProgress(value=0.0, max=48.0), HTML(value='')))"
      ]
     },
     "metadata": {},
     "output_type": "display_data"
    },
    {
     "name": "stderr",
     "output_type": "stream",
     "text": [
      "Partition explainer:  23%|██▎       | 13/57 [01:21<04:54,  6.69s/it]"
     ]
    },
    {
     "data": {
      "application/vnd.jupyter.widget-view+json": {
       "model_id": "",
       "version_major": 2,
       "version_minor": 0
      },
      "text/plain": [
       "HBox(children=(FloatProgress(value=0.0, max=48.0), HTML(value='')))"
      ]
     },
     "metadata": {},
     "output_type": "display_data"
    },
    {
     "name": "stderr",
     "output_type": "stream",
     "text": [
      "Partition explainer:  25%|██▍       | 14/57 [01:28<04:48,  6.71s/it]"
     ]
    },
    {
     "data": {
      "application/vnd.jupyter.widget-view+json": {
       "model_id": "",
       "version_major": 2,
       "version_minor": 0
      },
      "text/plain": [
       "HBox(children=(FloatProgress(value=0.0, max=48.0), HTML(value='')))"
      ]
     },
     "metadata": {},
     "output_type": "display_data"
    },
    {
     "name": "stderr",
     "output_type": "stream",
     "text": [
      "Partition explainer:  26%|██▋       | 15/57 [01:35<04:42,  6.71s/it]"
     ]
    },
    {
     "data": {
      "application/vnd.jupyter.widget-view+json": {
       "model_id": "",
       "version_major": 2,
       "version_minor": 0
      },
      "text/plain": [
       "HBox(children=(FloatProgress(value=0.0, max=48.0), HTML(value='')))"
      ]
     },
     "metadata": {},
     "output_type": "display_data"
    },
    {
     "name": "stderr",
     "output_type": "stream",
     "text": [
      "Partition explainer:  28%|██▊       | 16/57 [01:41<04:34,  6.70s/it]"
     ]
    },
    {
     "data": {
      "application/vnd.jupyter.widget-view+json": {
       "model_id": "",
       "version_major": 2,
       "version_minor": 0
      },
      "text/plain": [
       "HBox(children=(FloatProgress(value=0.0, max=48.0), HTML(value='')))"
      ]
     },
     "metadata": {},
     "output_type": "display_data"
    },
    {
     "name": "stderr",
     "output_type": "stream",
     "text": [
      "Partition explainer:  30%|██▉       | 17/57 [01:48<04:26,  6.66s/it]"
     ]
    },
    {
     "data": {
      "application/vnd.jupyter.widget-view+json": {
       "model_id": "",
       "version_major": 2,
       "version_minor": 0
      },
      "text/plain": [
       "HBox(children=(FloatProgress(value=0.0, max=48.0), HTML(value='')))"
      ]
     },
     "metadata": {},
     "output_type": "display_data"
    },
    {
     "name": "stderr",
     "output_type": "stream",
     "text": [
      "Partition explainer:  32%|███▏      | 18/57 [01:54<04:19,  6.65s/it]"
     ]
    },
    {
     "data": {
      "application/vnd.jupyter.widget-view+json": {
       "model_id": "",
       "version_major": 2,
       "version_minor": 0
      },
      "text/plain": [
       "HBox(children=(FloatProgress(value=0.0, max=48.0), HTML(value='')))"
      ]
     },
     "metadata": {},
     "output_type": "display_data"
    },
    {
     "name": "stderr",
     "output_type": "stream",
     "text": [
      "Partition explainer:  33%|███▎      | 19/57 [02:01<04:14,  6.71s/it]"
     ]
    },
    {
     "data": {
      "application/vnd.jupyter.widget-view+json": {
       "model_id": "",
       "version_major": 2,
       "version_minor": 0
      },
      "text/plain": [
       "HBox(children=(FloatProgress(value=0.0, max=48.0), HTML(value='')))"
      ]
     },
     "metadata": {},
     "output_type": "display_data"
    },
    {
     "name": "stderr",
     "output_type": "stream",
     "text": [
      "Partition explainer:  35%|███▌      | 20/57 [02:08<04:09,  6.75s/it]"
     ]
    },
    {
     "data": {
      "application/vnd.jupyter.widget-view+json": {
       "model_id": "",
       "version_major": 2,
       "version_minor": 0
      },
      "text/plain": [
       "HBox(children=(FloatProgress(value=0.0, max=48.0), HTML(value='')))"
      ]
     },
     "metadata": {},
     "output_type": "display_data"
    },
    {
     "name": "stderr",
     "output_type": "stream",
     "text": [
      "Partition explainer:  37%|███▋      | 21/57 [02:15<04:04,  6.80s/it]"
     ]
    },
    {
     "data": {
      "application/vnd.jupyter.widget-view+json": {
       "model_id": "",
       "version_major": 2,
       "version_minor": 0
      },
      "text/plain": [
       "HBox(children=(FloatProgress(value=0.0, max=48.0), HTML(value='')))"
      ]
     },
     "metadata": {},
     "output_type": "display_data"
    },
    {
     "name": "stderr",
     "output_type": "stream",
     "text": [
      "Partition explainer:  39%|███▊      | 22/57 [02:22<03:56,  6.75s/it]"
     ]
    },
    {
     "data": {
      "application/vnd.jupyter.widget-view+json": {
       "model_id": "",
       "version_major": 2,
       "version_minor": 0
      },
      "text/plain": [
       "HBox(children=(FloatProgress(value=0.0, max=48.0), HTML(value='')))"
      ]
     },
     "metadata": {},
     "output_type": "display_data"
    },
    {
     "name": "stderr",
     "output_type": "stream",
     "text": [
      "Partition explainer:  40%|████      | 23/57 [02:28<03:47,  6.69s/it]"
     ]
    },
    {
     "data": {
      "application/vnd.jupyter.widget-view+json": {
       "model_id": "",
       "version_major": 2,
       "version_minor": 0
      },
      "text/plain": [
       "HBox(children=(FloatProgress(value=0.0, max=48.0), HTML(value='')))"
      ]
     },
     "metadata": {},
     "output_type": "display_data"
    },
    {
     "name": "stderr",
     "output_type": "stream",
     "text": [
      "Partition explainer:  42%|████▏     | 24/57 [02:35<03:45,  6.82s/it]"
     ]
    },
    {
     "data": {
      "application/vnd.jupyter.widget-view+json": {
       "model_id": "",
       "version_major": 2,
       "version_minor": 0
      },
      "text/plain": [
       "HBox(children=(FloatProgress(value=0.0, max=48.0), HTML(value='')))"
      ]
     },
     "metadata": {},
     "output_type": "display_data"
    },
    {
     "name": "stderr",
     "output_type": "stream",
     "text": [
      "Partition explainer:  44%|████▍     | 25/57 [02:42<03:39,  6.87s/it]"
     ]
    },
    {
     "data": {
      "application/vnd.jupyter.widget-view+json": {
       "model_id": "",
       "version_major": 2,
       "version_minor": 0
      },
      "text/plain": [
       "HBox(children=(FloatProgress(value=0.0, max=48.0), HTML(value='')))"
      ]
     },
     "metadata": {},
     "output_type": "display_data"
    },
    {
     "name": "stderr",
     "output_type": "stream",
     "text": [
      "Partition explainer:  46%|████▌     | 26/57 [02:49<03:35,  6.94s/it]"
     ]
    },
    {
     "data": {
      "application/vnd.jupyter.widget-view+json": {
       "model_id": "",
       "version_major": 2,
       "version_minor": 0
      },
      "text/plain": [
       "HBox(children=(FloatProgress(value=0.0, max=48.0), HTML(value='')))"
      ]
     },
     "metadata": {},
     "output_type": "display_data"
    },
    {
     "name": "stderr",
     "output_type": "stream",
     "text": [
      "Partition explainer:  47%|████▋     | 27/57 [02:56<03:29,  6.97s/it]"
     ]
    },
    {
     "data": {
      "application/vnd.jupyter.widget-view+json": {
       "model_id": "",
       "version_major": 2,
       "version_minor": 0
      },
      "text/plain": [
       "HBox(children=(FloatProgress(value=0.0, max=48.0), HTML(value='')))"
      ]
     },
     "metadata": {},
     "output_type": "display_data"
    },
    {
     "name": "stderr",
     "output_type": "stream",
     "text": [
      "Partition explainer:  49%|████▉     | 28/57 [03:03<03:21,  6.94s/it]"
     ]
    },
    {
     "data": {
      "application/vnd.jupyter.widget-view+json": {
       "model_id": "",
       "version_major": 2,
       "version_minor": 0
      },
      "text/plain": [
       "HBox(children=(FloatProgress(value=0.0, max=48.0), HTML(value='')))"
      ]
     },
     "metadata": {},
     "output_type": "display_data"
    },
    {
     "name": "stderr",
     "output_type": "stream",
     "text": [
      "Partition explainer:  51%|█████     | 29/57 [03:10<03:13,  6.91s/it]"
     ]
    },
    {
     "data": {
      "application/vnd.jupyter.widget-view+json": {
       "model_id": "",
       "version_major": 2,
       "version_minor": 0
      },
      "text/plain": [
       "HBox(children=(FloatProgress(value=0.0, max=48.0), HTML(value='')))"
      ]
     },
     "metadata": {},
     "output_type": "display_data"
    },
    {
     "name": "stderr",
     "output_type": "stream",
     "text": [
      "Partition explainer:  53%|█████▎    | 30/57 [03:17<03:05,  6.89s/it]"
     ]
    },
    {
     "data": {
      "application/vnd.jupyter.widget-view+json": {
       "model_id": "",
       "version_major": 2,
       "version_minor": 0
      },
      "text/plain": [
       "HBox(children=(FloatProgress(value=0.0, max=48.0), HTML(value='')))"
      ]
     },
     "metadata": {},
     "output_type": "display_data"
    },
    {
     "name": "stderr",
     "output_type": "stream",
     "text": [
      "Partition explainer:  54%|█████▍    | 31/57 [03:24<02:58,  6.88s/it]"
     ]
    },
    {
     "data": {
      "application/vnd.jupyter.widget-view+json": {
       "model_id": "",
       "version_major": 2,
       "version_minor": 0
      },
      "text/plain": [
       "HBox(children=(FloatProgress(value=0.0, max=48.0), HTML(value='')))"
      ]
     },
     "metadata": {},
     "output_type": "display_data"
    },
    {
     "name": "stderr",
     "output_type": "stream",
     "text": [
      "Partition explainer:  56%|█████▌    | 32/57 [03:31<02:51,  6.87s/it]"
     ]
    },
    {
     "data": {
      "application/vnd.jupyter.widget-view+json": {
       "model_id": "",
       "version_major": 2,
       "version_minor": 0
      },
      "text/plain": [
       "HBox(children=(FloatProgress(value=0.0, max=48.0), HTML(value='')))"
      ]
     },
     "metadata": {},
     "output_type": "display_data"
    },
    {
     "name": "stderr",
     "output_type": "stream",
     "text": [
      "Partition explainer:  58%|█████▊    | 33/57 [03:38<02:44,  6.87s/it]"
     ]
    },
    {
     "data": {
      "application/vnd.jupyter.widget-view+json": {
       "model_id": "",
       "version_major": 2,
       "version_minor": 0
      },
      "text/plain": [
       "HBox(children=(FloatProgress(value=0.0, max=48.0), HTML(value='')))"
      ]
     },
     "metadata": {},
     "output_type": "display_data"
    },
    {
     "name": "stderr",
     "output_type": "stream",
     "text": [
      "Partition explainer:  60%|█████▉    | 34/57 [03:44<02:37,  6.86s/it]"
     ]
    },
    {
     "data": {
      "application/vnd.jupyter.widget-view+json": {
       "model_id": "",
       "version_major": 2,
       "version_minor": 0
      },
      "text/plain": [
       "HBox(children=(FloatProgress(value=0.0, max=48.0), HTML(value='')))"
      ]
     },
     "metadata": {},
     "output_type": "display_data"
    },
    {
     "name": "stderr",
     "output_type": "stream",
     "text": [
      "Partition explainer:  61%|██████▏   | 35/57 [03:51<02:30,  6.86s/it]"
     ]
    },
    {
     "data": {
      "application/vnd.jupyter.widget-view+json": {
       "model_id": "",
       "version_major": 2,
       "version_minor": 0
      },
      "text/plain": [
       "HBox(children=(FloatProgress(value=0.0, max=48.0), HTML(value='')))"
      ]
     },
     "metadata": {},
     "output_type": "display_data"
    },
    {
     "name": "stderr",
     "output_type": "stream",
     "text": [
      "Partition explainer:  63%|██████▎   | 36/57 [03:58<02:23,  6.85s/it]"
     ]
    },
    {
     "data": {
      "application/vnd.jupyter.widget-view+json": {
       "model_id": "",
       "version_major": 2,
       "version_minor": 0
      },
      "text/plain": [
       "HBox(children=(FloatProgress(value=0.0, max=48.0), HTML(value='')))"
      ]
     },
     "metadata": {},
     "output_type": "display_data"
    },
    {
     "name": "stderr",
     "output_type": "stream",
     "text": [
      "Partition explainer:  65%|██████▍   | 37/57 [04:05<02:17,  6.85s/it]"
     ]
    },
    {
     "data": {
      "application/vnd.jupyter.widget-view+json": {
       "model_id": "",
       "version_major": 2,
       "version_minor": 0
      },
      "text/plain": [
       "HBox(children=(FloatProgress(value=0.0, max=48.0), HTML(value='')))"
      ]
     },
     "metadata": {},
     "output_type": "display_data"
    },
    {
     "name": "stderr",
     "output_type": "stream",
     "text": [
      "Partition explainer:  67%|██████▋   | 38/57 [04:12<02:10,  6.85s/it]"
     ]
    },
    {
     "data": {
      "application/vnd.jupyter.widget-view+json": {
       "model_id": "",
       "version_major": 2,
       "version_minor": 0
      },
      "text/plain": [
       "HBox(children=(FloatProgress(value=0.0, max=48.0), HTML(value='')))"
      ]
     },
     "metadata": {},
     "output_type": "display_data"
    },
    {
     "name": "stderr",
     "output_type": "stream",
     "text": [
      "Partition explainer:  68%|██████▊   | 39/57 [04:19<02:03,  6.84s/it]"
     ]
    },
    {
     "data": {
      "application/vnd.jupyter.widget-view+json": {
       "model_id": "",
       "version_major": 2,
       "version_minor": 0
      },
      "text/plain": [
       "HBox(children=(FloatProgress(value=0.0, max=48.0), HTML(value='')))"
      ]
     },
     "metadata": {},
     "output_type": "display_data"
    },
    {
     "name": "stderr",
     "output_type": "stream",
     "text": [
      "Partition explainer:  70%|███████   | 40/57 [04:25<01:56,  6.84s/it]"
     ]
    },
    {
     "data": {
      "application/vnd.jupyter.widget-view+json": {
       "model_id": "",
       "version_major": 2,
       "version_minor": 0
      },
      "text/plain": [
       "HBox(children=(FloatProgress(value=0.0, max=48.0), HTML(value='')))"
      ]
     },
     "metadata": {},
     "output_type": "display_data"
    },
    {
     "name": "stderr",
     "output_type": "stream",
     "text": [
      "Partition explainer:  72%|███████▏  | 41/57 [04:32<01:49,  6.84s/it]"
     ]
    },
    {
     "data": {
      "application/vnd.jupyter.widget-view+json": {
       "model_id": "",
       "version_major": 2,
       "version_minor": 0
      },
      "text/plain": [
       "HBox(children=(FloatProgress(value=0.0, max=48.0), HTML(value='')))"
      ]
     },
     "metadata": {},
     "output_type": "display_data"
    },
    {
     "name": "stderr",
     "output_type": "stream",
     "text": [
      "Partition explainer:  74%|███████▎  | 42/57 [04:39<01:42,  6.84s/it]"
     ]
    },
    {
     "data": {
      "application/vnd.jupyter.widget-view+json": {
       "model_id": "",
       "version_major": 2,
       "version_minor": 0
      },
      "text/plain": [
       "HBox(children=(FloatProgress(value=0.0, max=48.0), HTML(value='')))"
      ]
     },
     "metadata": {},
     "output_type": "display_data"
    },
    {
     "name": "stderr",
     "output_type": "stream",
     "text": [
      "Partition explainer:  75%|███████▌  | 43/57 [04:46<01:35,  6.84s/it]"
     ]
    },
    {
     "data": {
      "application/vnd.jupyter.widget-view+json": {
       "model_id": "",
       "version_major": 2,
       "version_minor": 0
      },
      "text/plain": [
       "HBox(children=(FloatProgress(value=0.0, max=48.0), HTML(value='')))"
      ]
     },
     "metadata": {},
     "output_type": "display_data"
    },
    {
     "name": "stderr",
     "output_type": "stream",
     "text": [
      "Partition explainer:  77%|███████▋  | 44/57 [04:53<01:28,  6.84s/it]"
     ]
    },
    {
     "data": {
      "application/vnd.jupyter.widget-view+json": {
       "model_id": "",
       "version_major": 2,
       "version_minor": 0
      },
      "text/plain": [
       "HBox(children=(FloatProgress(value=0.0, max=48.0), HTML(value='')))"
      ]
     },
     "metadata": {},
     "output_type": "display_data"
    },
    {
     "name": "stderr",
     "output_type": "stream",
     "text": [
      "Partition explainer:  79%|███████▉  | 45/57 [05:00<01:22,  6.84s/it]"
     ]
    },
    {
     "data": {
      "application/vnd.jupyter.widget-view+json": {
       "model_id": "",
       "version_major": 2,
       "version_minor": 0
      },
      "text/plain": [
       "HBox(children=(FloatProgress(value=0.0, max=48.0), HTML(value='')))"
      ]
     },
     "metadata": {},
     "output_type": "display_data"
    },
    {
     "name": "stderr",
     "output_type": "stream",
     "text": [
      "Partition explainer:  81%|████████  | 46/57 [05:07<01:15,  6.85s/it]"
     ]
    },
    {
     "data": {
      "application/vnd.jupyter.widget-view+json": {
       "model_id": "",
       "version_major": 2,
       "version_minor": 0
      },
      "text/plain": [
       "HBox(children=(FloatProgress(value=0.0, max=48.0), HTML(value='')))"
      ]
     },
     "metadata": {},
     "output_type": "display_data"
    },
    {
     "name": "stderr",
     "output_type": "stream",
     "text": [
      "Partition explainer:  82%|████████▏ | 47/57 [05:13<01:08,  6.86s/it]"
     ]
    },
    {
     "data": {
      "application/vnd.jupyter.widget-view+json": {
       "model_id": "",
       "version_major": 2,
       "version_minor": 0
      },
      "text/plain": [
       "HBox(children=(FloatProgress(value=0.0, max=48.0), HTML(value='')))"
      ]
     },
     "metadata": {},
     "output_type": "display_data"
    },
    {
     "name": "stderr",
     "output_type": "stream",
     "text": [
      "Partition explainer:  84%|████████▍ | 48/57 [05:20<01:01,  6.86s/it]"
     ]
    },
    {
     "data": {
      "application/vnd.jupyter.widget-view+json": {
       "model_id": "",
       "version_major": 2,
       "version_minor": 0
      },
      "text/plain": [
       "HBox(children=(FloatProgress(value=0.0, max=48.0), HTML(value='')))"
      ]
     },
     "metadata": {},
     "output_type": "display_data"
    },
    {
     "name": "stderr",
     "output_type": "stream",
     "text": [
      "Partition explainer:  86%|████████▌ | 49/57 [05:27<00:54,  6.84s/it]"
     ]
    },
    {
     "data": {
      "application/vnd.jupyter.widget-view+json": {
       "model_id": "",
       "version_major": 2,
       "version_minor": 0
      },
      "text/plain": [
       "HBox(children=(FloatProgress(value=0.0, max=48.0), HTML(value='')))"
      ]
     },
     "metadata": {},
     "output_type": "display_data"
    },
    {
     "name": "stderr",
     "output_type": "stream",
     "text": [
      "Partition explainer:  88%|████████▊ | 50/57 [05:34<00:47,  6.84s/it]"
     ]
    },
    {
     "data": {
      "application/vnd.jupyter.widget-view+json": {
       "model_id": "",
       "version_major": 2,
       "version_minor": 0
      },
      "text/plain": [
       "HBox(children=(FloatProgress(value=0.0, max=48.0), HTML(value='')))"
      ]
     },
     "metadata": {},
     "output_type": "display_data"
    },
    {
     "name": "stderr",
     "output_type": "stream",
     "text": [
      "Partition explainer:  89%|████████▉ | 51/57 [05:41<00:41,  6.84s/it]"
     ]
    },
    {
     "data": {
      "application/vnd.jupyter.widget-view+json": {
       "model_id": "",
       "version_major": 2,
       "version_minor": 0
      },
      "text/plain": [
       "HBox(children=(FloatProgress(value=0.0, max=48.0), HTML(value='')))"
      ]
     },
     "metadata": {},
     "output_type": "display_data"
    },
    {
     "name": "stderr",
     "output_type": "stream",
     "text": [
      "Partition explainer:  91%|█████████ | 52/57 [05:48<00:34,  6.84s/it]"
     ]
    },
    {
     "data": {
      "application/vnd.jupyter.widget-view+json": {
       "model_id": "",
       "version_major": 2,
       "version_minor": 0
      },
      "text/plain": [
       "HBox(children=(FloatProgress(value=0.0, max=48.0), HTML(value='')))"
      ]
     },
     "metadata": {},
     "output_type": "display_data"
    },
    {
     "name": "stderr",
     "output_type": "stream",
     "text": [
      "Partition explainer:  93%|█████████▎| 53/57 [05:54<00:27,  6.84s/it]"
     ]
    },
    {
     "data": {
      "application/vnd.jupyter.widget-view+json": {
       "model_id": "",
       "version_major": 2,
       "version_minor": 0
      },
      "text/plain": [
       "HBox(children=(FloatProgress(value=0.0, max=48.0), HTML(value='')))"
      ]
     },
     "metadata": {},
     "output_type": "display_data"
    },
    {
     "name": "stderr",
     "output_type": "stream",
     "text": [
      "Partition explainer:  95%|█████████▍| 54/57 [06:01<00:20,  6.84s/it]"
     ]
    },
    {
     "data": {
      "application/vnd.jupyter.widget-view+json": {
       "model_id": "",
       "version_major": 2,
       "version_minor": 0
      },
      "text/plain": [
       "HBox(children=(FloatProgress(value=0.0, max=48.0), HTML(value='')))"
      ]
     },
     "metadata": {},
     "output_type": "display_data"
    },
    {
     "name": "stderr",
     "output_type": "stream",
     "text": [
      "Partition explainer:  96%|█████████▋| 55/57 [06:08<00:13,  6.84s/it]"
     ]
    },
    {
     "data": {
      "application/vnd.jupyter.widget-view+json": {
       "model_id": "",
       "version_major": 2,
       "version_minor": 0
      },
      "text/plain": [
       "HBox(children=(FloatProgress(value=0.0, max=48.0), HTML(value='')))"
      ]
     },
     "metadata": {},
     "output_type": "display_data"
    },
    {
     "name": "stderr",
     "output_type": "stream",
     "text": [
      "Partition explainer:  98%|█████████▊| 56/57 [06:15<00:06,  6.84s/it]"
     ]
    },
    {
     "data": {
      "application/vnd.jupyter.widget-view+json": {
       "model_id": "",
       "version_major": 2,
       "version_minor": 0
      },
      "text/plain": [
       "HBox(children=(FloatProgress(value=0.0, max=48.0), HTML(value='')))"
      ]
     },
     "metadata": {},
     "output_type": "display_data"
    },
    {
     "name": "stderr",
     "output_type": "stream",
     "text": [
      "Partition explainer: 100%|██████████| 57/57 [06:22<00:00,  6.84s/it]"
     ]
    },
    {
     "data": {
      "application/vnd.jupyter.widget-view+json": {
       "model_id": "",
       "version_major": 2,
       "version_minor": 0
      },
      "text/plain": [
       "HBox(children=(FloatProgress(value=0.0, max=48.0), HTML(value='')))"
      ]
     },
     "metadata": {},
     "output_type": "display_data"
    },
    {
     "name": "stderr",
     "output_type": "stream",
     "text": [
      "Partition explainer: 58it [06:29,  6.95s/it]                        \n"
     ]
    }
   ],
   "source": [
    "# SHAP values for perturbed sentence\n",
    "shap_values = shap_explainer.explain_instances(perturbation_df[f'{perturbation}_concat'])"
   ]
  },
  {
   "cell_type": "code",
   "execution_count": 126,
   "id": "7f71e48f",
   "metadata": {
    "tags": []
   },
   "outputs": [],
   "source": [
    "perturbation_df[f'shap_{perturbation}_tokens'] = shap_values.data\n",
    "perturbation_df[f'shap_{perturbation}_tokens'] = perturbation_df[f'shap_{perturbation}_tokens'].apply(lambda x: x[1:-1])  # Drop first and last as these correspond to special tokens"
   ]
  },
  {
   "cell_type": "code",
   "execution_count": 127,
   "id": "e61b1971",
   "metadata": {},
   "outputs": [
    {
     "data": {
      "text/html": [
       "<div>\n",
       "<style scoped>\n",
       "    .dataframe tbody tr th:only-of-type {\n",
       "        vertical-align: middle;\n",
       "    }\n",
       "\n",
       "    .dataframe tbody tr th {\n",
       "        vertical-align: top;\n",
       "    }\n",
       "\n",
       "    .dataframe thead th {\n",
       "        text-align: right;\n",
       "    }\n",
       "</style>\n",
       "<table border=\"1\" class=\"dataframe\">\n",
       "  <thead>\n",
       "    <tr style=\"text-align: right;\">\n",
       "      <th></th>\n",
       "      <th>sentence</th>\n",
       "      <th>label</th>\n",
       "      <th>tokens_orig</th>\n",
       "      <th>remove_commas_concat</th>\n",
       "      <th>remove_commas_tokens</th>\n",
       "      <th>remove_commas_success</th>\n",
       "      <th>remove_commas_pert_ind</th>\n",
       "      <th>orig_prediction</th>\n",
       "      <th>remove_commas_prediction</th>\n",
       "      <th>correct_prediction</th>\n",
       "      <th>shap_orig_tokens</th>\n",
       "      <th>shap_orig_values</th>\n",
       "      <th>shap_remove_commas_tokens</th>\n",
       "    </tr>\n",
       "  </thead>\n",
       "  <tbody>\n",
       "    <tr>\n",
       "      <th>1</th>\n",
       "      <td>To my taste , the film 's comic characters com...</td>\n",
       "      <td>2</td>\n",
       "      <td>[to, my, taste, ,, the, film, ', s, comic, cha...</td>\n",
       "      <td>to my taste  the film ' s comic characters com...</td>\n",
       "      <td>[to, my, taste, , the, film, ', s, comic, char...</td>\n",
       "      <td>1</td>\n",
       "      <td>[3]</td>\n",
       "      <td>2</td>\n",
       "      <td>2</td>\n",
       "      <td>1</td>\n",
       "      <td>[to , my , taste , , , the , film , ' , s , co...</td>\n",
       "      <td>[-0.012986115102345744, -0.012986115102345744,...</td>\n",
       "      <td>[to , my , taste , the , film , ' , s , comic ...</td>\n",
       "    </tr>\n",
       "    <tr>\n",
       "      <th>2</th>\n",
       "      <td>A difficult , absorbing film that manages to c...</td>\n",
       "      <td>3</td>\n",
       "      <td>[a, difficult, ,, absorbing, film, that, manag...</td>\n",
       "      <td>a difficult  absorbing film that manages to co...</td>\n",
       "      <td>[a, difficult, , absorbing, film, that, manage...</td>\n",
       "      <td>1</td>\n",
       "      <td>[2]</td>\n",
       "      <td>3</td>\n",
       "      <td>3</td>\n",
       "      <td>1</td>\n",
       "      <td>[a , difficult , , , absorbing , film , that ,...</td>\n",
       "      <td>[0.011156889920433363, 0.011156889920433363, 0...</td>\n",
       "      <td>[a , difficult , absorbing , film , that , man...</td>\n",
       "    </tr>\n",
       "    <tr>\n",
       "      <th>5</th>\n",
       "      <td>It will grip even viewers who are n't interest...</td>\n",
       "      <td>3</td>\n",
       "      <td>[it, will, grip, even, viewers, who, are, n, '...</td>\n",
       "      <td>it will grip even viewers who are n ' t intere...</td>\n",
       "      <td>[it, will, grip, even, viewers, who, are, n, '...</td>\n",
       "      <td>1</td>\n",
       "      <td>[13]</td>\n",
       "      <td>3</td>\n",
       "      <td>3</td>\n",
       "      <td>1</td>\n",
       "      <td>[it , will , grip , even , viewers , who , are...</td>\n",
       "      <td>[0.007894540045942578, 0.007894540045942578, 0...</td>\n",
       "      <td>[it , will , grip , even , viewers , who , are...</td>\n",
       "    </tr>\n",
       "    <tr>\n",
       "      <th>6</th>\n",
       "      <td>The X potion gives the quickly named Blossom ,...</td>\n",
       "      <td>1</td>\n",
       "      <td>[the, x, potion, gives, the, quickly, named, b...</td>\n",
       "      <td>the x potion gives the quickly named blossom  ...</td>\n",
       "      <td>[the, x, potion, gives, the, quickly, named, b...</td>\n",
       "      <td>1</td>\n",
       "      <td>[8, 24]</td>\n",
       "      <td>3</td>\n",
       "      <td>3</td>\n",
       "      <td>0</td>\n",
       "      <td>[the , x , potion , gives , the , quickly , na...</td>\n",
       "      <td>[0.005473468225035402, 0.005473468225035402, 0...</td>\n",
       "      <td>[the , x , potion , gives , the , quickly , na...</td>\n",
       "    </tr>\n",
       "    <tr>\n",
       "      <th>10</th>\n",
       "      <td>Schaeffer has to find some hook on which to ha...</td>\n",
       "      <td>1</td>\n",
       "      <td>[sc, ##hae, ##ffer, has, to, find, some, hook,...</td>\n",
       "      <td>schaeffer has to find some hook on which to ha...</td>\n",
       "      <td>[sc, ##hae, ##ffer, has, to, find, some, hook,...</td>\n",
       "      <td>1</td>\n",
       "      <td>[17]</td>\n",
       "      <td>1</td>\n",
       "      <td>1</td>\n",
       "      <td>1</td>\n",
       "      <td>[sc , ##hae , ##ffer , has , to , find , some ...</td>\n",
       "      <td>[0.018988311962018927, 0.018988311962018927, 0...</td>\n",
       "      <td>[sc , ##hae , ##ffer , has , to , find , some ...</td>\n",
       "    </tr>\n",
       "  </tbody>\n",
       "</table>\n",
       "</div>"
      ],
      "text/plain": [
       "                                             sentence  label  \\\n",
       "1   To my taste , the film 's comic characters com...      2   \n",
       "2   A difficult , absorbing film that manages to c...      3   \n",
       "5   It will grip even viewers who are n't interest...      3   \n",
       "6   The X potion gives the quickly named Blossom ,...      1   \n",
       "10  Schaeffer has to find some hook on which to ha...      1   \n",
       "\n",
       "                                          tokens_orig  \\\n",
       "1   [to, my, taste, ,, the, film, ', s, comic, cha...   \n",
       "2   [a, difficult, ,, absorbing, film, that, manag...   \n",
       "5   [it, will, grip, even, viewers, who, are, n, '...   \n",
       "6   [the, x, potion, gives, the, quickly, named, b...   \n",
       "10  [sc, ##hae, ##ffer, has, to, find, some, hook,...   \n",
       "\n",
       "                                 remove_commas_concat  \\\n",
       "1   to my taste  the film ' s comic characters com...   \n",
       "2   a difficult  absorbing film that manages to co...   \n",
       "5   it will grip even viewers who are n ' t intere...   \n",
       "6   the x potion gives the quickly named blossom  ...   \n",
       "10  schaeffer has to find some hook on which to ha...   \n",
       "\n",
       "                                 remove_commas_tokens  remove_commas_success  \\\n",
       "1   [to, my, taste, , the, film, ', s, comic, char...                      1   \n",
       "2   [a, difficult, , absorbing, film, that, manage...                      1   \n",
       "5   [it, will, grip, even, viewers, who, are, n, '...                      1   \n",
       "6   [the, x, potion, gives, the, quickly, named, b...                      1   \n",
       "10  [sc, ##hae, ##ffer, has, to, find, some, hook,...                      1   \n",
       "\n",
       "   remove_commas_pert_ind  orig_prediction  remove_commas_prediction  \\\n",
       "1                     [3]                2                         2   \n",
       "2                     [2]                3                         3   \n",
       "5                    [13]                3                         3   \n",
       "6                 [8, 24]                3                         3   \n",
       "10                   [17]                1                         1   \n",
       "\n",
       "    correct_prediction                                   shap_orig_tokens  \\\n",
       "1                    1  [to , my , taste , , , the , film , ' , s , co...   \n",
       "2                    1  [a , difficult , , , absorbing , film , that ,...   \n",
       "5                    1  [it , will , grip , even , viewers , who , are...   \n",
       "6                    0  [the , x , potion , gives , the , quickly , na...   \n",
       "10                   1  [sc , ##hae , ##ffer , has , to , find , some ...   \n",
       "\n",
       "                                     shap_orig_values  \\\n",
       "1   [-0.012986115102345744, -0.012986115102345744,...   \n",
       "2   [0.011156889920433363, 0.011156889920433363, 0...   \n",
       "5   [0.007894540045942578, 0.007894540045942578, 0...   \n",
       "6   [0.005473468225035402, 0.005473468225035402, 0...   \n",
       "10  [0.018988311962018927, 0.018988311962018927, 0...   \n",
       "\n",
       "                            shap_remove_commas_tokens  \n",
       "1   [to , my , taste , the , film , ' , s , comic ...  \n",
       "2   [a , difficult , absorbing , film , that , man...  \n",
       "5   [it , will , grip , even , viewers , who , are...  \n",
       "6   [the , x , potion , gives , the , quickly , na...  \n",
       "10  [sc , ##hae , ##ffer , has , to , find , some ...  "
      ]
     },
     "execution_count": 127,
     "metadata": {},
     "output_type": "execute_result"
    }
   ],
   "source": [
    "perturbation_df.head()"
   ]
  },
  {
   "cell_type": "code",
   "execution_count": 128,
   "id": "d260734c",
   "metadata": {},
   "outputs": [],
   "source": [
    "perturbation_df[f'shap_{perturbation}_values'] = shap_values.values\n",
    "perturbation_df[f'shap_{perturbation}_values'] = perturbation_df[f'shap_{perturbation}_values'].apply(lambda x: x[1:-1, :])  # Drop first and last as these correspond to special tokens\n",
    "\n",
    "# Only keep SHAP values for label predicted\n",
    "perturbation_df[f'shap_{perturbation}_values'] = perturbation_df.apply(lambda x: x[f'shap_{perturbation}_values'][:, x['orig_prediction']], axis=1)"
   ]
  },
  {
   "cell_type": "code",
   "execution_count": 129,
   "id": "dda0a6eb",
   "metadata": {},
   "outputs": [
    {
     "data": {
      "text/html": [
       "<div>\n",
       "<style scoped>\n",
       "    .dataframe tbody tr th:only-of-type {\n",
       "        vertical-align: middle;\n",
       "    }\n",
       "\n",
       "    .dataframe tbody tr th {\n",
       "        vertical-align: top;\n",
       "    }\n",
       "\n",
       "    .dataframe thead th {\n",
       "        text-align: right;\n",
       "    }\n",
       "</style>\n",
       "<table border=\"1\" class=\"dataframe\">\n",
       "  <thead>\n",
       "    <tr style=\"text-align: right;\">\n",
       "      <th></th>\n",
       "      <th>sentence</th>\n",
       "      <th>label</th>\n",
       "      <th>tokens_orig</th>\n",
       "      <th>remove_commas_concat</th>\n",
       "      <th>remove_commas_tokens</th>\n",
       "      <th>remove_commas_success</th>\n",
       "      <th>remove_commas_pert_ind</th>\n",
       "      <th>orig_prediction</th>\n",
       "      <th>remove_commas_prediction</th>\n",
       "      <th>correct_prediction</th>\n",
       "      <th>shap_orig_tokens</th>\n",
       "      <th>shap_orig_values</th>\n",
       "      <th>shap_remove_commas_tokens</th>\n",
       "      <th>shap_remove_commas_values</th>\n",
       "    </tr>\n",
       "  </thead>\n",
       "  <tbody>\n",
       "    <tr>\n",
       "      <th>1</th>\n",
       "      <td>To my taste , the film 's comic characters com...</td>\n",
       "      <td>2</td>\n",
       "      <td>[to, my, taste, ,, the, film, ', s, comic, cha...</td>\n",
       "      <td>to my taste  the film ' s comic characters com...</td>\n",
       "      <td>[to, my, taste, , the, film, ', s, comic, char...</td>\n",
       "      <td>1</td>\n",
       "      <td>[3]</td>\n",
       "      <td>2</td>\n",
       "      <td>2</td>\n",
       "      <td>1</td>\n",
       "      <td>[to , my , taste , , , the , film , ' , s , co...</td>\n",
       "      <td>[-0.012986115102345744, -0.012986115102345744,...</td>\n",
       "      <td>[to , my , taste , the , film , ' , s , comic ...</td>\n",
       "      <td>[0.002309590039981736, 0.002309590039981736, 0...</td>\n",
       "    </tr>\n",
       "    <tr>\n",
       "      <th>2</th>\n",
       "      <td>A difficult , absorbing film that manages to c...</td>\n",
       "      <td>3</td>\n",
       "      <td>[a, difficult, ,, absorbing, film, that, manag...</td>\n",
       "      <td>a difficult  absorbing film that manages to co...</td>\n",
       "      <td>[a, difficult, , absorbing, film, that, manage...</td>\n",
       "      <td>1</td>\n",
       "      <td>[2]</td>\n",
       "      <td>3</td>\n",
       "      <td>3</td>\n",
       "      <td>1</td>\n",
       "      <td>[a , difficult , , , absorbing , film , that ,...</td>\n",
       "      <td>[0.011156889920433363, 0.011156889920433363, 0...</td>\n",
       "      <td>[a , difficult , absorbing , film , that , man...</td>\n",
       "      <td>[0.03678455110639334, 0.03678455110639334, 0.0...</td>\n",
       "    </tr>\n",
       "    <tr>\n",
       "      <th>5</th>\n",
       "      <td>It will grip even viewers who are n't interest...</td>\n",
       "      <td>3</td>\n",
       "      <td>[it, will, grip, even, viewers, who, are, n, '...</td>\n",
       "      <td>it will grip even viewers who are n ' t intere...</td>\n",
       "      <td>[it, will, grip, even, viewers, who, are, n, '...</td>\n",
       "      <td>1</td>\n",
       "      <td>[13]</td>\n",
       "      <td>3</td>\n",
       "      <td>3</td>\n",
       "      <td>1</td>\n",
       "      <td>[it , will , grip , even , viewers , who , are...</td>\n",
       "      <td>[0.007894540045942578, 0.007894540045942578, 0...</td>\n",
       "      <td>[it , will , grip , even , viewers , who , are...</td>\n",
       "      <td>[0.014052900858223439, 0.014052900858223439, 0...</td>\n",
       "    </tr>\n",
       "    <tr>\n",
       "      <th>6</th>\n",
       "      <td>The X potion gives the quickly named Blossom ,...</td>\n",
       "      <td>1</td>\n",
       "      <td>[the, x, potion, gives, the, quickly, named, b...</td>\n",
       "      <td>the x potion gives the quickly named blossom  ...</td>\n",
       "      <td>[the, x, potion, gives, the, quickly, named, b...</td>\n",
       "      <td>1</td>\n",
       "      <td>[8, 24]</td>\n",
       "      <td>3</td>\n",
       "      <td>3</td>\n",
       "      <td>0</td>\n",
       "      <td>[the , x , potion , gives , the , quickly , na...</td>\n",
       "      <td>[0.005473468225035402, 0.005473468225035402, 0...</td>\n",
       "      <td>[the , x , potion , gives , the , quickly , na...</td>\n",
       "      <td>[0.007189935073256493, 0.007189935073256493, 0...</td>\n",
       "    </tr>\n",
       "    <tr>\n",
       "      <th>10</th>\n",
       "      <td>Schaeffer has to find some hook on which to ha...</td>\n",
       "      <td>1</td>\n",
       "      <td>[sc, ##hae, ##ffer, has, to, find, some, hook,...</td>\n",
       "      <td>schaeffer has to find some hook on which to ha...</td>\n",
       "      <td>[sc, ##hae, ##ffer, has, to, find, some, hook,...</td>\n",
       "      <td>1</td>\n",
       "      <td>[17]</td>\n",
       "      <td>1</td>\n",
       "      <td>1</td>\n",
       "      <td>1</td>\n",
       "      <td>[sc , ##hae , ##ffer , has , to , find , some ...</td>\n",
       "      <td>[0.018988311962018927, 0.018988311962018927, 0...</td>\n",
       "      <td>[sc , ##hae , ##ffer , has , to , find , some ...</td>\n",
       "      <td>[0.016958858207013313, 0.016958858207013313, 0...</td>\n",
       "    </tr>\n",
       "  </tbody>\n",
       "</table>\n",
       "</div>"
      ],
      "text/plain": [
       "                                             sentence  label  \\\n",
       "1   To my taste , the film 's comic characters com...      2   \n",
       "2   A difficult , absorbing film that manages to c...      3   \n",
       "5   It will grip even viewers who are n't interest...      3   \n",
       "6   The X potion gives the quickly named Blossom ,...      1   \n",
       "10  Schaeffer has to find some hook on which to ha...      1   \n",
       "\n",
       "                                          tokens_orig  \\\n",
       "1   [to, my, taste, ,, the, film, ', s, comic, cha...   \n",
       "2   [a, difficult, ,, absorbing, film, that, manag...   \n",
       "5   [it, will, grip, even, viewers, who, are, n, '...   \n",
       "6   [the, x, potion, gives, the, quickly, named, b...   \n",
       "10  [sc, ##hae, ##ffer, has, to, find, some, hook,...   \n",
       "\n",
       "                                 remove_commas_concat  \\\n",
       "1   to my taste  the film ' s comic characters com...   \n",
       "2   a difficult  absorbing film that manages to co...   \n",
       "5   it will grip even viewers who are n ' t intere...   \n",
       "6   the x potion gives the quickly named blossom  ...   \n",
       "10  schaeffer has to find some hook on which to ha...   \n",
       "\n",
       "                                 remove_commas_tokens  remove_commas_success  \\\n",
       "1   [to, my, taste, , the, film, ', s, comic, char...                      1   \n",
       "2   [a, difficult, , absorbing, film, that, manage...                      1   \n",
       "5   [it, will, grip, even, viewers, who, are, n, '...                      1   \n",
       "6   [the, x, potion, gives, the, quickly, named, b...                      1   \n",
       "10  [sc, ##hae, ##ffer, has, to, find, some, hook,...                      1   \n",
       "\n",
       "   remove_commas_pert_ind  orig_prediction  remove_commas_prediction  \\\n",
       "1                     [3]                2                         2   \n",
       "2                     [2]                3                         3   \n",
       "5                    [13]                3                         3   \n",
       "6                 [8, 24]                3                         3   \n",
       "10                   [17]                1                         1   \n",
       "\n",
       "    correct_prediction                                   shap_orig_tokens  \\\n",
       "1                    1  [to , my , taste , , , the , film , ' , s , co...   \n",
       "2                    1  [a , difficult , , , absorbing , film , that ,...   \n",
       "5                    1  [it , will , grip , even , viewers , who , are...   \n",
       "6                    0  [the , x , potion , gives , the , quickly , na...   \n",
       "10                   1  [sc , ##hae , ##ffer , has , to , find , some ...   \n",
       "\n",
       "                                     shap_orig_values  \\\n",
       "1   [-0.012986115102345744, -0.012986115102345744,...   \n",
       "2   [0.011156889920433363, 0.011156889920433363, 0...   \n",
       "5   [0.007894540045942578, 0.007894540045942578, 0...   \n",
       "6   [0.005473468225035402, 0.005473468225035402, 0...   \n",
       "10  [0.018988311962018927, 0.018988311962018927, 0...   \n",
       "\n",
       "                            shap_remove_commas_tokens  \\\n",
       "1   [to , my , taste , the , film , ' , s , comic ...   \n",
       "2   [a , difficult , absorbing , film , that , man...   \n",
       "5   [it , will , grip , even , viewers , who , are...   \n",
       "6   [the , x , potion , gives , the , quickly , na...   \n",
       "10  [sc , ##hae , ##ffer , has , to , find , some ...   \n",
       "\n",
       "                            shap_remove_commas_values  \n",
       "1   [0.002309590039981736, 0.002309590039981736, 0...  \n",
       "2   [0.03678455110639334, 0.03678455110639334, 0.0...  \n",
       "5   [0.014052900858223439, 0.014052900858223439, 0...  \n",
       "6   [0.007189935073256493, 0.007189935073256493, 0...  \n",
       "10  [0.016958858207013313, 0.016958858207013313, 0...  "
      ]
     },
     "execution_count": 129,
     "metadata": {},
     "output_type": "execute_result"
    }
   ],
   "source": [
    "perturbation_df.head()"
   ]
  },
  {
   "cell_type": "code",
   "execution_count": 130,
   "id": "a566c3e0",
   "metadata": {},
   "outputs": [],
   "source": [
    "# Length of SHAP tokens same as length of SHAP values\n",
    "assert perturbation_df.shape[0] == (perturbation_df[f'shap_{perturbation}_tokens'].apply(len) == perturbation_df[f'shap_{perturbation}_values'].apply(len)).sum()"
   ]
  },
  {
   "cell_type": "code",
   "execution_count": 148,
   "id": "fa50a0a3",
   "metadata": {},
   "outputs": [],
   "source": [
    "IMPORTANT_WORD_CUTOFF = 5\n",
    "\"\"\"\n",
    "Top-x words considered most important based on SHAP value. If perturbation affects any of these tokens the example is not considered for evaluation\n",
    "\"\"\"\n",
    "\n",
    "perturbation_df['most_important_indices'] = perturbation_df['shap_orig_values'].apply(lambda x: np.argsort(-x)[:5])  # -as sorts in ascending order otherwise"
   ]
  },
  {
   "cell_type": "code",
   "execution_count": 172,
   "id": "cec2b3f7",
   "metadata": {},
   "outputs": [
    {
     "name": "stdout",
     "output_type": "stream",
     "text": [
      "(41, 16)\n"
     ]
    }
   ],
   "source": [
    "# Drop examples where an important token was changed\n",
    "\n",
    "perturbation_df['important_token_changed'] = perturbation_df.apply(\n",
    "    lambda x: any(\n",
    "        idx in x['most_important_indices'] for idx in x[f'{perturbation}_pert_ind']\n",
    "    ), \n",
    "    axis=1\n",
    ")\n",
    "\n",
    "perturbation_df['important_token_changed'] = perturbation_df['important_token_changed'].astype(int)\n",
    "\n",
    "perturbation_df = perturbation_df.copy()[perturbation_df['important_token_changed'] == 0]\n",
    "\n",
    "print(perturbation_df.shape)"
   ]
  },
  {
   "cell_type": "code",
   "execution_count": 184,
   "id": "d9e27f28",
   "metadata": {},
   "outputs": [],
   "source": [
    "if perturbation in PERTURBATION_LIST:\n",
    "    \n",
    "    perturbation_df['shap_orig_tokens'] = perturbation_df.apply(\n",
    "        lambda x: [\n",
    "            token for i, token in enumerate(x['shap_orig_tokens']) if i not in x[f'{perturbation}_pert_ind']\n",
    "        ], \n",
    "        axis=1\n",
    "    )\n",
    "\n",
    "    perturbation_df['shap_orig_values'] = perturbation_df.apply(\n",
    "        lambda x: [\n",
    "            token for i, token in enumerate(x['shap_orig_values']) if i not in x[f'{perturbation}_pert_ind']\n",
    "        ], \n",
    "        axis=1\n",
    "    )"
   ]
  },
  {
   "cell_type": "code",
   "execution_count": 188,
   "id": "bdc6e7d7",
   "metadata": {
    "tags": []
   },
   "outputs": [],
   "source": [
    "# Check number of tokens in original matches number in perturbed\n",
    "assert (perturbation_df['shap_orig_tokens'].apply(len) == perturbation_df[f'shap_{perturbation}_tokens'].apply(len)).mean() == 1"
   ]
  },
  {
   "cell_type": "code",
   "execution_count": 189,
   "id": "4b5ca149",
   "metadata": {},
   "outputs": [
    {
     "data": {
      "text/html": [
       "<div>\n",
       "<style scoped>\n",
       "    .dataframe tbody tr th:only-of-type {\n",
       "        vertical-align: middle;\n",
       "    }\n",
       "\n",
       "    .dataframe tbody tr th {\n",
       "        vertical-align: top;\n",
       "    }\n",
       "\n",
       "    .dataframe thead th {\n",
       "        text-align: right;\n",
       "    }\n",
       "</style>\n",
       "<table border=\"1\" class=\"dataframe\">\n",
       "  <thead>\n",
       "    <tr style=\"text-align: right;\">\n",
       "      <th></th>\n",
       "      <th>sentence</th>\n",
       "      <th>label</th>\n",
       "      <th>tokens_orig</th>\n",
       "      <th>remove_commas_concat</th>\n",
       "      <th>remove_commas_tokens</th>\n",
       "      <th>remove_commas_success</th>\n",
       "      <th>remove_commas_pert_ind</th>\n",
       "      <th>orig_prediction</th>\n",
       "      <th>remove_commas_prediction</th>\n",
       "      <th>correct_prediction</th>\n",
       "      <th>shap_orig_tokens</th>\n",
       "      <th>shap_orig_values</th>\n",
       "      <th>shap_remove_commas_tokens</th>\n",
       "      <th>shap_remove_commas_values</th>\n",
       "      <th>most_important_indices</th>\n",
       "      <th>important_token_changed</th>\n",
       "    </tr>\n",
       "  </thead>\n",
       "  <tbody>\n",
       "    <tr>\n",
       "      <th>1</th>\n",
       "      <td>To my taste , the film 's comic characters com...</td>\n",
       "      <td>2</td>\n",
       "      <td>[to, my, taste, ,, the, film, ', s, comic, cha...</td>\n",
       "      <td>to my taste  the film ' s comic characters com...</td>\n",
       "      <td>[to, my, taste, , the, film, ', s, comic, char...</td>\n",
       "      <td>1</td>\n",
       "      <td>[3]</td>\n",
       "      <td>2</td>\n",
       "      <td>2</td>\n",
       "      <td>1</td>\n",
       "      <td>[to , my , taste , the , film , ' , s , comic ...</td>\n",
       "      <td>[-0.012986115102345744, -0.012986115102345744,...</td>\n",
       "      <td>[to , my , taste , the , film , ' , s , comic ...</td>\n",
       "      <td>[0.002309590039981736, 0.002309590039981736, 0...</td>\n",
       "      <td>[16, 15, 14, 17, 18]</td>\n",
       "      <td>0</td>\n",
       "    </tr>\n",
       "    <tr>\n",
       "      <th>2</th>\n",
       "      <td>A difficult , absorbing film that manages to c...</td>\n",
       "      <td>3</td>\n",
       "      <td>[a, difficult, ,, absorbing, film, that, manag...</td>\n",
       "      <td>a difficult  absorbing film that manages to co...</td>\n",
       "      <td>[a, difficult, , absorbing, film, that, manage...</td>\n",
       "      <td>1</td>\n",
       "      <td>[2]</td>\n",
       "      <td>3</td>\n",
       "      <td>3</td>\n",
       "      <td>1</td>\n",
       "      <td>[a , difficult , absorbing , film , that , man...</td>\n",
       "      <td>[0.011156889920433363, 0.011156889920433363, 0...</td>\n",
       "      <td>[a , difficult , absorbing , film , that , man...</td>\n",
       "      <td>[0.03678455110639334, 0.03678455110639334, 0.0...</td>\n",
       "      <td>[3, 4, 5, 6, 7]</td>\n",
       "      <td>0</td>\n",
       "    </tr>\n",
       "    <tr>\n",
       "      <th>5</th>\n",
       "      <td>It will grip even viewers who are n't interest...</td>\n",
       "      <td>3</td>\n",
       "      <td>[it, will, grip, even, viewers, who, are, n, '...</td>\n",
       "      <td>it will grip even viewers who are n ' t intere...</td>\n",
       "      <td>[it, will, grip, even, viewers, who, are, n, '...</td>\n",
       "      <td>1</td>\n",
       "      <td>[13]</td>\n",
       "      <td>3</td>\n",
       "      <td>3</td>\n",
       "      <td>1</td>\n",
       "      <td>[it , will , grip , even , viewers , who , are...</td>\n",
       "      <td>[0.007894540045942578, 0.007894540045942578, 0...</td>\n",
       "      <td>[it , will , grip , even , viewers , who , are...</td>\n",
       "      <td>[0.014052900858223439, 0.014052900858223439, 0...</td>\n",
       "      <td>[27, 26, 25, 29, 28]</td>\n",
       "      <td>0</td>\n",
       "    </tr>\n",
       "    <tr>\n",
       "      <th>6</th>\n",
       "      <td>The X potion gives the quickly named Blossom ,...</td>\n",
       "      <td>1</td>\n",
       "      <td>[the, x, potion, gives, the, quickly, named, b...</td>\n",
       "      <td>the x potion gives the quickly named blossom  ...</td>\n",
       "      <td>[the, x, potion, gives, the, quickly, named, b...</td>\n",
       "      <td>1</td>\n",
       "      <td>[8, 24]</td>\n",
       "      <td>3</td>\n",
       "      <td>3</td>\n",
       "      <td>0</td>\n",
       "      <td>[the , x , potion , gives , the , quickly , na...</td>\n",
       "      <td>[0.005473468225035402, 0.005473468225035402, 0...</td>\n",
       "      <td>[the , x , potion , gives , the , quickly , na...</td>\n",
       "      <td>[0.007189935073256493, 0.007189935073256493, 0...</td>\n",
       "      <td>[0, 1, 2, 3, 4]</td>\n",
       "      <td>0</td>\n",
       "    </tr>\n",
       "    <tr>\n",
       "      <th>14</th>\n",
       "      <td>I sympathize with the plight of these families...</td>\n",
       "      <td>1</td>\n",
       "      <td>[i, sy, ##mp, ##athi, ##ze, with, the, plight,...</td>\n",
       "      <td>i sympathize with the plight of these families...</td>\n",
       "      <td>[i, sy, ##mp, ##athi, ##ze, with, the, plight,...</td>\n",
       "      <td>1</td>\n",
       "      <td>[11]</td>\n",
       "      <td>1</td>\n",
       "      <td>1</td>\n",
       "      <td>1</td>\n",
       "      <td>[i , sy , ##mp , ##athi , ##ze , with , the , ...</td>\n",
       "      <td>[-0.01172698972125848, -0.01172698972125848, -...</td>\n",
       "      <td>[i , sy , ##mp , ##athi , ##ze , with , the , ...</td>\n",
       "      <td>[-0.011216034010673562, -0.011216034010673562,...</td>\n",
       "      <td>[19, 20, 16, 18, 17]</td>\n",
       "      <td>0</td>\n",
       "    </tr>\n",
       "  </tbody>\n",
       "</table>\n",
       "</div>"
      ],
      "text/plain": [
       "                                             sentence  label  \\\n",
       "1   To my taste , the film 's comic characters com...      2   \n",
       "2   A difficult , absorbing film that manages to c...      3   \n",
       "5   It will grip even viewers who are n't interest...      3   \n",
       "6   The X potion gives the quickly named Blossom ,...      1   \n",
       "14  I sympathize with the plight of these families...      1   \n",
       "\n",
       "                                          tokens_orig  \\\n",
       "1   [to, my, taste, ,, the, film, ', s, comic, cha...   \n",
       "2   [a, difficult, ,, absorbing, film, that, manag...   \n",
       "5   [it, will, grip, even, viewers, who, are, n, '...   \n",
       "6   [the, x, potion, gives, the, quickly, named, b...   \n",
       "14  [i, sy, ##mp, ##athi, ##ze, with, the, plight,...   \n",
       "\n",
       "                                 remove_commas_concat  \\\n",
       "1   to my taste  the film ' s comic characters com...   \n",
       "2   a difficult  absorbing film that manages to co...   \n",
       "5   it will grip even viewers who are n ' t intere...   \n",
       "6   the x potion gives the quickly named blossom  ...   \n",
       "14  i sympathize with the plight of these families...   \n",
       "\n",
       "                                 remove_commas_tokens  remove_commas_success  \\\n",
       "1   [to, my, taste, , the, film, ', s, comic, char...                      1   \n",
       "2   [a, difficult, , absorbing, film, that, manage...                      1   \n",
       "5   [it, will, grip, even, viewers, who, are, n, '...                      1   \n",
       "6   [the, x, potion, gives, the, quickly, named, b...                      1   \n",
       "14  [i, sy, ##mp, ##athi, ##ze, with, the, plight,...                      1   \n",
       "\n",
       "   remove_commas_pert_ind  orig_prediction  remove_commas_prediction  \\\n",
       "1                     [3]                2                         2   \n",
       "2                     [2]                3                         3   \n",
       "5                    [13]                3                         3   \n",
       "6                 [8, 24]                3                         3   \n",
       "14                   [11]                1                         1   \n",
       "\n",
       "    correct_prediction                                   shap_orig_tokens  \\\n",
       "1                    1  [to , my , taste , the , film , ' , s , comic ...   \n",
       "2                    1  [a , difficult , absorbing , film , that , man...   \n",
       "5                    1  [it , will , grip , even , viewers , who , are...   \n",
       "6                    0  [the , x , potion , gives , the , quickly , na...   \n",
       "14                   1  [i , sy , ##mp , ##athi , ##ze , with , the , ...   \n",
       "\n",
       "                                     shap_orig_values  \\\n",
       "1   [-0.012986115102345744, -0.012986115102345744,...   \n",
       "2   [0.011156889920433363, 0.011156889920433363, 0...   \n",
       "5   [0.007894540045942578, 0.007894540045942578, 0...   \n",
       "6   [0.005473468225035402, 0.005473468225035402, 0...   \n",
       "14  [-0.01172698972125848, -0.01172698972125848, -...   \n",
       "\n",
       "                            shap_remove_commas_tokens  \\\n",
       "1   [to , my , taste , the , film , ' , s , comic ...   \n",
       "2   [a , difficult , absorbing , film , that , man...   \n",
       "5   [it , will , grip , even , viewers , who , are...   \n",
       "6   [the , x , potion , gives , the , quickly , na...   \n",
       "14  [i , sy , ##mp , ##athi , ##ze , with , the , ...   \n",
       "\n",
       "                            shap_remove_commas_values most_important_indices  \\\n",
       "1   [0.002309590039981736, 0.002309590039981736, 0...   [16, 15, 14, 17, 18]   \n",
       "2   [0.03678455110639334, 0.03678455110639334, 0.0...        [3, 4, 5, 6, 7]   \n",
       "5   [0.014052900858223439, 0.014052900858223439, 0...   [27, 26, 25, 29, 28]   \n",
       "6   [0.007189935073256493, 0.007189935073256493, 0...        [0, 1, 2, 3, 4]   \n",
       "14  [-0.011216034010673562, -0.011216034010673562,...   [19, 20, 16, 18, 17]   \n",
       "\n",
       "    important_token_changed  \n",
       "1                         0  \n",
       "2                         0  \n",
       "5                         0  \n",
       "6                         0  \n",
       "14                        0  "
      ]
     },
     "execution_count": 189,
     "metadata": {},
     "output_type": "execute_result"
    }
   ],
   "source": [
    "perturbation_df.head()"
   ]
  },
  {
   "cell_type": "code",
   "execution_count": 192,
   "id": "77a9f60d",
   "metadata": {
    "collapsed": true,
    "jupyter": {
     "outputs_hidden": true
    },
    "tags": []
   },
   "outputs": [
    {
     "data": {
      "text/plain": [
       "[-0.012986115102345744,\n",
       " -0.012986115102345744,\n",
       " -0.019872276267657675,\n",
       " 0.007936187092538762,\n",
       " 0.007936187092538762,\n",
       " 0.007936187092538762,\n",
       " 0.007936187092538762,\n",
       " 0.007936187092538762,\n",
       " 0.007936187092538762,\n",
       " 0.007936187092538762,\n",
       " 0.007936187092538762,\n",
       " 0.007936187092538762,\n",
       " 0.007936187092538762,\n",
       " 0.010697545767154384,\n",
       " 0.010697545767154384,\n",
       " 0.010697545767154384,\n",
       " 0.010697545767154383,\n",
       " 0.010697545767154383,\n",
       " 0.0005702507256975641,\n",
       " 0.0005702507256975641,\n",
       " 0.0005702507256975641,\n",
       " 0.0005702507256975641,\n",
       " 0.0005702507256975641,\n",
       " 0.0005702507256975641,\n",
       " 0.0005702507256975641,\n",
       " 0.0005702507256975641]"
      ]
     },
     "execution_count": 192,
     "metadata": {},
     "output_type": "execute_result"
    }
   ],
   "source": [
    "perturbation_df.iloc[0]['shap_orig_values']"
   ]
  },
  {
   "cell_type": "code",
   "execution_count": 194,
   "id": "f47820fa",
   "metadata": {},
   "outputs": [
    {
     "data": {
      "text/plain": [
       "array([ 0.00230959,  0.00230959,  0.00230959,  0.00230959,  0.00230959,\n",
       "        0.00230959,  0.00230959,  0.00230959,  0.00230959,  0.00230959,\n",
       "        0.0137336 ,  0.0137336 ,  0.0137336 ,  0.01175502,  0.01175502,\n",
       "        0.01175502,  0.01175502,  0.01175502, -0.00027526,  0.00164305,\n",
       "        0.00164305,  0.00164305,  0.00164305, -0.02094362, -0.02094362,\n",
       "        0.00037667])"
      ]
     },
     "execution_count": 194,
     "metadata": {},
     "output_type": "execute_result"
    }
   ],
   "source": [
    "perturbation_df.iloc[0]['shap_remove_commas_values']"
   ]
  },
  {
   "cell_type": "code",
   "execution_count": 202,
   "id": "02a2b479",
   "metadata": {},
   "outputs": [
    {
     "data": {
      "text/plain": [
       "0.7615707978543916"
      ]
     },
     "execution_count": 202,
     "metadata": {},
     "output_type": "execute_result"
    }
   ],
   "source": [
    "spearmanr(perturbation_df.iloc[0]['shap_orig_values'], perturbation_df.iloc[0]['shap_remove_commas_values']).correlation"
   ]
  },
  {
   "cell_type": "code",
   "execution_count": null,
   "id": "260acaef",
   "metadata": {},
   "outputs": [],
   "source": []
  },
  {
   "cell_type": "markdown",
   "id": "36cc70eb",
   "metadata": {},
   "source": [
    "- df per perturbation\n",
    "- drop unsuccessful perturbations\n",
    "- overwrite `_concat` column with corrected reversal of tokenization\n",
    "- original prediction\n",
    "- prediction on new sentence\n",
    "- keep predictions which are the same\n",
    "- flag for correct prediction\n",
    "- original shap run\n",
    "    - column for shap tokens\n",
    "    - column for shap values for model prediction\n",
    "- new shap run\n",
    "    - column for shap tokens\n",
    "    - column for shap values for model prediction\n",
    "- check length of tokens\n",
    "\n",
    "Further filters:\n",
    "- interpretations should not be compared if an important token has been changed\n",
    "- criteria for `perturbation_reduction`\n",
    "- criteria for `'swap_adj'`"
   ]
  },
  {
   "cell_type": "code",
   "execution_count": 67,
   "id": "431fbfcd",
   "metadata": {
    "collapsed": true,
    "jupyter": {
     "outputs_hidden": true
    },
    "tags": []
   },
   "outputs": [
    {
     "name": "stdout",
     "output_type": "stream",
     "text": [
      "strip_punct\n",
      "1\n",
      "(20, 7)\n",
      "2\n",
      "(19, 7)\n",
      "3\n",
      "(18, 9)\n",
      "4\n",
      "11\n"
     ]
    },
    {
     "data": {
      "application/vnd.jupyter.widget-view+json": {
       "model_id": "",
       "version_major": 2,
       "version_minor": 0
      },
      "text/plain": [
       "HBox(children=(FloatProgress(value=0.0, max=48.0), HTML(value='')))"
      ]
     },
     "metadata": {},
     "output_type": "display_data"
    },
    {
     "data": {
      "application/vnd.jupyter.widget-view+json": {
       "model_id": "",
       "version_major": 2,
       "version_minor": 0
      },
      "text/plain": [
       "HBox(children=(FloatProgress(value=0.0, max=48.0), HTML(value='')))"
      ]
     },
     "metadata": {},
     "output_type": "display_data"
    },
    {
     "name": "stderr",
     "output_type": "stream",
     "text": [
      "Partition explainer:  11%|█         | 2/18 [00:00<?, ?it/s]"
     ]
    },
    {
     "data": {
      "application/vnd.jupyter.widget-view+json": {
       "model_id": "",
       "version_major": 2,
       "version_minor": 0
      },
      "text/plain": [
       "HBox(children=(FloatProgress(value=0.0, max=48.0), HTML(value='')))"
      ]
     },
     "metadata": {},
     "output_type": "display_data"
    },
    {
     "name": "stderr",
     "output_type": "stream",
     "text": [
      "Partition explainer:  22%|██▏       | 4/18 [00:19<00:45,  3.26s/it]"
     ]
    },
    {
     "data": {
      "application/vnd.jupyter.widget-view+json": {
       "model_id": "",
       "version_major": 2,
       "version_minor": 0
      },
      "text/plain": [
       "HBox(children=(FloatProgress(value=0.0, max=48.0), HTML(value='')))"
      ]
     },
     "metadata": {},
     "output_type": "display_data"
    },
    {
     "name": "stderr",
     "output_type": "stream",
     "text": [
      "Partition explainer:  28%|██▊       | 5/18 [00:26<00:55,  4.24s/it]"
     ]
    },
    {
     "data": {
      "application/vnd.jupyter.widget-view+json": {
       "model_id": "",
       "version_major": 2,
       "version_minor": 0
      },
      "text/plain": [
       "HBox(children=(FloatProgress(value=0.0, max=42.0), HTML(value='')))"
      ]
     },
     "metadata": {},
     "output_type": "display_data"
    },
    {
     "name": "stderr",
     "output_type": "stream",
     "text": [
      "Partition explainer:  33%|███▎      | 6/18 [00:32<00:59,  4.92s/it]"
     ]
    },
    {
     "data": {
      "application/vnd.jupyter.widget-view+json": {
       "model_id": "",
       "version_major": 2,
       "version_minor": 0
      },
      "text/plain": [
       "HBox(children=(FloatProgress(value=0.0, max=48.0), HTML(value='')))"
      ]
     },
     "metadata": {},
     "output_type": "display_data"
    },
    {
     "name": "stderr",
     "output_type": "stream",
     "text": [
      "Partition explainer:  39%|███▉      | 7/18 [00:39<00:59,  5.41s/it]"
     ]
    },
    {
     "data": {
      "application/vnd.jupyter.widget-view+json": {
       "model_id": "",
       "version_major": 2,
       "version_minor": 0
      },
      "text/plain": [
       "HBox(children=(FloatProgress(value=0.0, max=48.0), HTML(value='')))"
      ]
     },
     "metadata": {},
     "output_type": "display_data"
    },
    {
     "name": "stderr",
     "output_type": "stream",
     "text": [
      "Partition explainer:  44%|████▍     | 8/18 [00:45<00:57,  5.75s/it]"
     ]
    },
    {
     "data": {
      "application/vnd.jupyter.widget-view+json": {
       "model_id": "",
       "version_major": 2,
       "version_minor": 0
      },
      "text/plain": [
       "HBox(children=(FloatProgress(value=0.0, max=48.0), HTML(value='')))"
      ]
     },
     "metadata": {},
     "output_type": "display_data"
    },
    {
     "name": "stderr",
     "output_type": "stream",
     "text": [
      "Partition explainer:  50%|█████     | 9/18 [00:52<00:53,  5.99s/it]"
     ]
    },
    {
     "data": {
      "application/vnd.jupyter.widget-view+json": {
       "model_id": "",
       "version_major": 2,
       "version_minor": 0
      },
      "text/plain": [
       "HBox(children=(FloatProgress(value=0.0, max=48.0), HTML(value='')))"
      ]
     },
     "metadata": {},
     "output_type": "display_data"
    },
    {
     "name": "stderr",
     "output_type": "stream",
     "text": [
      "Partition explainer:  56%|█████▌    | 10/18 [00:58<00:49,  6.17s/it]"
     ]
    },
    {
     "data": {
      "application/vnd.jupyter.widget-view+json": {
       "model_id": "",
       "version_major": 2,
       "version_minor": 0
      },
      "text/plain": [
       "HBox(children=(FloatProgress(value=0.0, max=48.0), HTML(value='')))"
      ]
     },
     "metadata": {},
     "output_type": "display_data"
    },
    {
     "name": "stderr",
     "output_type": "stream",
     "text": [
      "Partition explainer:  61%|██████    | 11/18 [01:05<00:44,  6.30s/it]"
     ]
    },
    {
     "data": {
      "application/vnd.jupyter.widget-view+json": {
       "model_id": "",
       "version_major": 2,
       "version_minor": 0
      },
      "text/plain": [
       "HBox(children=(FloatProgress(value=0.0, max=48.0), HTML(value='')))"
      ]
     },
     "metadata": {},
     "output_type": "display_data"
    },
    {
     "name": "stderr",
     "output_type": "stream",
     "text": [
      "Partition explainer:  67%|██████▋   | 12/18 [01:12<00:38,  6.39s/it]"
     ]
    },
    {
     "data": {
      "application/vnd.jupyter.widget-view+json": {
       "model_id": "",
       "version_major": 2,
       "version_minor": 0
      },
      "text/plain": [
       "HBox(children=(FloatProgress(value=0.0, max=48.0), HTML(value='')))"
      ]
     },
     "metadata": {},
     "output_type": "display_data"
    },
    {
     "name": "stderr",
     "output_type": "stream",
     "text": [
      "Partition explainer:  72%|███████▏  | 13/18 [01:18<00:32,  6.45s/it]"
     ]
    },
    {
     "data": {
      "application/vnd.jupyter.widget-view+json": {
       "model_id": "",
       "version_major": 2,
       "version_minor": 0
      },
      "text/plain": [
       "HBox(children=(FloatProgress(value=0.0, max=48.0), HTML(value='')))"
      ]
     },
     "metadata": {},
     "output_type": "display_data"
    },
    {
     "name": "stderr",
     "output_type": "stream",
     "text": [
      "Partition explainer:  78%|███████▊  | 14/18 [01:25<00:25,  6.49s/it]"
     ]
    },
    {
     "data": {
      "application/vnd.jupyter.widget-view+json": {
       "model_id": "",
       "version_major": 2,
       "version_minor": 0
      },
      "text/plain": [
       "HBox(children=(FloatProgress(value=0.0, max=48.0), HTML(value='')))"
      ]
     },
     "metadata": {},
     "output_type": "display_data"
    },
    {
     "name": "stderr",
     "output_type": "stream",
     "text": [
      "Partition explainer:  83%|████████▎ | 15/18 [01:31<00:19,  6.52s/it]"
     ]
    },
    {
     "data": {
      "application/vnd.jupyter.widget-view+json": {
       "model_id": "",
       "version_major": 2,
       "version_minor": 0
      },
      "text/plain": [
       "HBox(children=(FloatProgress(value=0.0, max=48.0), HTML(value='')))"
      ]
     },
     "metadata": {},
     "output_type": "display_data"
    },
    {
     "name": "stderr",
     "output_type": "stream",
     "text": [
      "Partition explainer:  89%|████████▉ | 16/18 [01:38<00:13,  6.52s/it]"
     ]
    },
    {
     "data": {
      "application/vnd.jupyter.widget-view+json": {
       "model_id": "",
       "version_major": 2,
       "version_minor": 0
      },
      "text/plain": [
       "HBox(children=(FloatProgress(value=0.0, max=48.0), HTML(value='')))"
      ]
     },
     "metadata": {},
     "output_type": "display_data"
    },
    {
     "name": "stderr",
     "output_type": "stream",
     "text": [
      "Partition explainer:  94%|█████████▍| 17/18 [01:45<00:06,  6.58s/it]"
     ]
    },
    {
     "data": {
      "application/vnd.jupyter.widget-view+json": {
       "model_id": "",
       "version_major": 2,
       "version_minor": 0
      },
      "text/plain": [
       "HBox(children=(FloatProgress(value=0.0, max=48.0), HTML(value='')))"
      ]
     },
     "metadata": {},
     "output_type": "display_data"
    },
    {
     "name": "stderr",
     "output_type": "stream",
     "text": [
      "Partition explainer: 100%|██████████| 18/18 [01:51<00:00,  6.63s/it]"
     ]
    },
    {
     "data": {
      "application/vnd.jupyter.widget-view+json": {
       "model_id": "",
       "version_major": 2,
       "version_minor": 0
      },
      "text/plain": [
       "HBox(children=(FloatProgress(value=0.0, max=48.0), HTML(value='')))"
      ]
     },
     "metadata": {},
     "output_type": "display_data"
    },
    {
     "name": "stderr",
     "output_type": "stream",
     "text": [
      "Partition explainer: 19it [01:58,  6.97s/it]                        \n"
     ]
    },
    {
     "data": {
      "application/vnd.jupyter.widget-view+json": {
       "model_id": "",
       "version_major": 2,
       "version_minor": 0
      },
      "text/plain": [
       "HBox(children=(FloatProgress(value=0.0, max=48.0), HTML(value='')))"
      ]
     },
     "metadata": {},
     "output_type": "display_data"
    },
    {
     "data": {
      "application/vnd.jupyter.widget-view+json": {
       "model_id": "",
       "version_major": 2,
       "version_minor": 0
      },
      "text/plain": [
       "HBox(children=(FloatProgress(value=0.0, max=48.0), HTML(value='')))"
      ]
     },
     "metadata": {},
     "output_type": "display_data"
    },
    {
     "name": "stderr",
     "output_type": "stream",
     "text": [
      "Partition explainer:  11%|█         | 2/18 [00:00<?, ?it/s]"
     ]
    },
    {
     "data": {
      "application/vnd.jupyter.widget-view+json": {
       "model_id": "",
       "version_major": 2,
       "version_minor": 0
      },
      "text/plain": [
       "HBox(children=(FloatProgress(value=0.0, max=48.0), HTML(value='')))"
      ]
     },
     "metadata": {},
     "output_type": "display_data"
    },
    {
     "name": "stderr",
     "output_type": "stream",
     "text": [
      "Partition explainer:  22%|██▏       | 4/18 [00:20<00:46,  3.35s/it]"
     ]
    },
    {
     "data": {
      "application/vnd.jupyter.widget-view+json": {
       "model_id": "",
       "version_major": 2,
       "version_minor": 0
      },
      "text/plain": [
       "HBox(children=(FloatProgress(value=0.0, max=48.0), HTML(value='')))"
      ]
     },
     "metadata": {},
     "output_type": "display_data"
    },
    {
     "name": "stderr",
     "output_type": "stream",
     "text": [
      "Partition explainer:  28%|██▊       | 5/18 [00:26<00:56,  4.38s/it]"
     ]
    },
    {
     "data": {
      "application/vnd.jupyter.widget-view+json": {
       "model_id": "",
       "version_major": 2,
       "version_minor": 0
      },
      "text/plain": [
       "HBox(children=(FloatProgress(value=0.0, max=30.0), HTML(value='')))"
      ]
     },
     "metadata": {},
     "output_type": "display_data"
    },
    {
     "name": "stderr",
     "output_type": "stream",
     "text": [
      "Partition explainer:  33%|███▎      | 6/18 [00:33<01:00,  5.01s/it]"
     ]
    },
    {
     "data": {
      "application/vnd.jupyter.widget-view+json": {
       "model_id": "",
       "version_major": 2,
       "version_minor": 0
      },
      "text/plain": [
       "HBox(children=(FloatProgress(value=0.0, max=48.0), HTML(value='')))"
      ]
     },
     "metadata": {},
     "output_type": "display_data"
    },
    {
     "name": "stderr",
     "output_type": "stream",
     "text": [
      "Partition explainer:  39%|███▉      | 7/18 [00:40<01:00,  5.54s/it]"
     ]
    },
    {
     "data": {
      "application/vnd.jupyter.widget-view+json": {
       "model_id": "",
       "version_major": 2,
       "version_minor": 0
      },
      "text/plain": [
       "HBox(children=(FloatProgress(value=0.0, max=48.0), HTML(value='')))"
      ]
     },
     "metadata": {},
     "output_type": "display_data"
    },
    {
     "name": "stderr",
     "output_type": "stream",
     "text": [
      "Partition explainer:  44%|████▍     | 8/18 [00:46<00:59,  5.90s/it]"
     ]
    },
    {
     "data": {
      "application/vnd.jupyter.widget-view+json": {
       "model_id": "",
       "version_major": 2,
       "version_minor": 0
      },
      "text/plain": [
       "HBox(children=(FloatProgress(value=0.0, max=48.0), HTML(value='')))"
      ]
     },
     "metadata": {},
     "output_type": "display_data"
    },
    {
     "name": "stderr",
     "output_type": "stream",
     "text": [
      "Partition explainer:  50%|█████     | 9/18 [00:53<00:55,  6.16s/it]"
     ]
    },
    {
     "data": {
      "application/vnd.jupyter.widget-view+json": {
       "model_id": "",
       "version_major": 2,
       "version_minor": 0
      },
      "text/plain": [
       "HBox(children=(FloatProgress(value=0.0, max=48.0), HTML(value='')))"
      ]
     },
     "metadata": {},
     "output_type": "display_data"
    },
    {
     "name": "stderr",
     "output_type": "stream",
     "text": [
      "Partition explainer:  56%|█████▌    | 10/18 [01:00<00:50,  6.33s/it]"
     ]
    },
    {
     "data": {
      "application/vnd.jupyter.widget-view+json": {
       "model_id": "",
       "version_major": 2,
       "version_minor": 0
      },
      "text/plain": [
       "HBox(children=(FloatProgress(value=0.0, max=48.0), HTML(value='')))"
      ]
     },
     "metadata": {},
     "output_type": "display_data"
    },
    {
     "name": "stderr",
     "output_type": "stream",
     "text": [
      "Partition explainer:  61%|██████    | 11/18 [01:07<00:45,  6.46s/it]"
     ]
    },
    {
     "data": {
      "application/vnd.jupyter.widget-view+json": {
       "model_id": "",
       "version_major": 2,
       "version_minor": 0
      },
      "text/plain": [
       "HBox(children=(FloatProgress(value=0.0, max=48.0), HTML(value='')))"
      ]
     },
     "metadata": {},
     "output_type": "display_data"
    },
    {
     "name": "stderr",
     "output_type": "stream",
     "text": [
      "Partition explainer:  67%|██████▋   | 12/18 [01:13<00:39,  6.53s/it]"
     ]
    },
    {
     "data": {
      "application/vnd.jupyter.widget-view+json": {
       "model_id": "",
       "version_major": 2,
       "version_minor": 0
      },
      "text/plain": [
       "HBox(children=(FloatProgress(value=0.0, max=48.0), HTML(value='')))"
      ]
     },
     "metadata": {},
     "output_type": "display_data"
    },
    {
     "name": "stderr",
     "output_type": "stream",
     "text": [
      "Partition explainer:  72%|███████▏  | 13/18 [01:20<00:32,  6.56s/it]"
     ]
    },
    {
     "data": {
      "application/vnd.jupyter.widget-view+json": {
       "model_id": "",
       "version_major": 2,
       "version_minor": 0
      },
      "text/plain": [
       "HBox(children=(FloatProgress(value=0.0, max=48.0), HTML(value='')))"
      ]
     },
     "metadata": {},
     "output_type": "display_data"
    },
    {
     "name": "stderr",
     "output_type": "stream",
     "text": [
      "Partition explainer:  78%|███████▊  | 14/18 [01:27<00:26,  6.60s/it]"
     ]
    },
    {
     "data": {
      "application/vnd.jupyter.widget-view+json": {
       "model_id": "",
       "version_major": 2,
       "version_minor": 0
      },
      "text/plain": [
       "HBox(children=(FloatProgress(value=0.0, max=48.0), HTML(value='')))"
      ]
     },
     "metadata": {},
     "output_type": "display_data"
    },
    {
     "name": "stderr",
     "output_type": "stream",
     "text": [
      "Partition explainer:  83%|████████▎ | 15/18 [01:33<00:19,  6.65s/it]"
     ]
    },
    {
     "data": {
      "application/vnd.jupyter.widget-view+json": {
       "model_id": "",
       "version_major": 2,
       "version_minor": 0
      },
      "text/plain": [
       "HBox(children=(FloatProgress(value=0.0, max=48.0), HTML(value='')))"
      ]
     },
     "metadata": {},
     "output_type": "display_data"
    },
    {
     "name": "stderr",
     "output_type": "stream",
     "text": [
      "Partition explainer:  89%|████████▉ | 16/18 [01:40<00:13,  6.65s/it]"
     ]
    },
    {
     "data": {
      "application/vnd.jupyter.widget-view+json": {
       "model_id": "",
       "version_major": 2,
       "version_minor": 0
      },
      "text/plain": [
       "HBox(children=(FloatProgress(value=0.0, max=48.0), HTML(value='')))"
      ]
     },
     "metadata": {},
     "output_type": "display_data"
    },
    {
     "name": "stderr",
     "output_type": "stream",
     "text": [
      "Partition explainer:  94%|█████████▍| 17/18 [01:47<00:06,  6.62s/it]"
     ]
    },
    {
     "data": {
      "application/vnd.jupyter.widget-view+json": {
       "model_id": "",
       "version_major": 2,
       "version_minor": 0
      },
      "text/plain": [
       "HBox(children=(FloatProgress(value=0.0, max=48.0), HTML(value='')))"
      ]
     },
     "metadata": {},
     "output_type": "display_data"
    },
    {
     "name": "stderr",
     "output_type": "stream",
     "text": [
      "Partition explainer: 100%|██████████| 18/18 [01:53<00:00,  6.59s/it]"
     ]
    },
    {
     "data": {
      "application/vnd.jupyter.widget-view+json": {
       "model_id": "",
       "version_major": 2,
       "version_minor": 0
      },
      "text/plain": [
       "HBox(children=(FloatProgress(value=0.0, max=48.0), HTML(value='')))"
      ]
     },
     "metadata": {},
     "output_type": "display_data"
    },
    {
     "name": "stderr",
     "output_type": "stream",
     "text": [
      "Partition explainer: 19it [02:00,  7.07s/it]                        "
     ]
    },
    {
     "name": "stdout",
     "output_type": "stream",
     "text": [
      "5\n",
      "(14, 16)\n",
      "6\n",
      "(14, 17)\n",
      "\n",
      "\n",
      "remove_commas\n",
      "1\n",
      "(20, 7)\n",
      "2\n",
      "(10, 7)\n"
     ]
    },
    {
     "name": "stderr",
     "output_type": "stream",
     "text": [
      "\n"
     ]
    },
    {
     "name": "stdout",
     "output_type": "stream",
     "text": [
      "3\n",
      "(9, 9)\n",
      "4\n",
      "5\n"
     ]
    },
    {
     "data": {
      "application/vnd.jupyter.widget-view+json": {
       "model_id": "",
       "version_major": 2,
       "version_minor": 0
      },
      "text/plain": [
       "HBox(children=(FloatProgress(value=0.0, max=48.0), HTML(value='')))"
      ]
     },
     "metadata": {},
     "output_type": "display_data"
    },
    {
     "data": {
      "application/vnd.jupyter.widget-view+json": {
       "model_id": "",
       "version_major": 2,
       "version_minor": 0
      },
      "text/plain": [
       "HBox(children=(FloatProgress(value=0.0, max=48.0), HTML(value='')))"
      ]
     },
     "metadata": {},
     "output_type": "display_data"
    },
    {
     "name": "stderr",
     "output_type": "stream",
     "text": [
      "Partition explainer:  22%|██▏       | 2/9 [00:00<?, ?it/s]"
     ]
    },
    {
     "data": {
      "application/vnd.jupyter.widget-view+json": {
       "model_id": "",
       "version_major": 2,
       "version_minor": 0
      },
      "text/plain": [
       "HBox(children=(FloatProgress(value=0.0, max=48.0), HTML(value='')))"
      ]
     },
     "metadata": {},
     "output_type": "display_data"
    },
    {
     "name": "stderr",
     "output_type": "stream",
     "text": [
      "Partition explainer:  44%|████▍     | 4/9 [00:19<00:16,  3.27s/it]"
     ]
    },
    {
     "data": {
      "application/vnd.jupyter.widget-view+json": {
       "model_id": "",
       "version_major": 2,
       "version_minor": 0
      },
      "text/plain": [
       "HBox(children=(FloatProgress(value=0.0, max=48.0), HTML(value='')))"
      ]
     },
     "metadata": {},
     "output_type": "display_data"
    },
    {
     "name": "stderr",
     "output_type": "stream",
     "text": [
      "Partition explainer:  56%|█████▌    | 5/9 [00:26<00:17,  4.37s/it]"
     ]
    },
    {
     "data": {
      "application/vnd.jupyter.widget-view+json": {
       "model_id": "",
       "version_major": 2,
       "version_minor": 0
      },
      "text/plain": [
       "HBox(children=(FloatProgress(value=0.0, max=48.0), HTML(value='')))"
      ]
     },
     "metadata": {},
     "output_type": "display_data"
    },
    {
     "name": "stderr",
     "output_type": "stream",
     "text": [
      "Partition explainer:  67%|██████▋   | 6/9 [00:33<00:15,  5.11s/it]"
     ]
    },
    {
     "data": {
      "application/vnd.jupyter.widget-view+json": {
       "model_id": "",
       "version_major": 2,
       "version_minor": 0
      },
      "text/plain": [
       "HBox(children=(FloatProgress(value=0.0, max=48.0), HTML(value='')))"
      ]
     },
     "metadata": {},
     "output_type": "display_data"
    },
    {
     "name": "stderr",
     "output_type": "stream",
     "text": [
      "Partition explainer:  78%|███████▊  | 7/9 [00:40<00:11,  5.57s/it]"
     ]
    },
    {
     "data": {
      "application/vnd.jupyter.widget-view+json": {
       "model_id": "",
       "version_major": 2,
       "version_minor": 0
      },
      "text/plain": [
       "HBox(children=(FloatProgress(value=0.0, max=48.0), HTML(value='')))"
      ]
     },
     "metadata": {},
     "output_type": "display_data"
    },
    {
     "name": "stderr",
     "output_type": "stream",
     "text": [
      "Partition explainer:  89%|████████▉ | 8/9 [00:46<00:05,  5.90s/it]"
     ]
    },
    {
     "data": {
      "application/vnd.jupyter.widget-view+json": {
       "model_id": "",
       "version_major": 2,
       "version_minor": 0
      },
      "text/plain": [
       "HBox(children=(FloatProgress(value=0.0, max=48.0), HTML(value='')))"
      ]
     },
     "metadata": {},
     "output_type": "display_data"
    },
    {
     "name": "stderr",
     "output_type": "stream",
     "text": [
      "Partition explainer: 100%|██████████| 9/9 [00:53<00:00,  6.12s/it]"
     ]
    },
    {
     "data": {
      "application/vnd.jupyter.widget-view+json": {
       "model_id": "",
       "version_major": 2,
       "version_minor": 0
      },
      "text/plain": [
       "HBox(children=(FloatProgress(value=0.0, max=48.0), HTML(value='')))"
      ]
     },
     "metadata": {},
     "output_type": "display_data"
    },
    {
     "name": "stderr",
     "output_type": "stream",
     "text": [
      "Partition explainer: 10it [00:59,  7.50s/it]                      \n"
     ]
    },
    {
     "data": {
      "application/vnd.jupyter.widget-view+json": {
       "model_id": "",
       "version_major": 2,
       "version_minor": 0
      },
      "text/plain": [
       "HBox(children=(FloatProgress(value=0.0, max=48.0), HTML(value='')))"
      ]
     },
     "metadata": {},
     "output_type": "display_data"
    },
    {
     "data": {
      "application/vnd.jupyter.widget-view+json": {
       "model_id": "",
       "version_major": 2,
       "version_minor": 0
      },
      "text/plain": [
       "HBox(children=(FloatProgress(value=0.0, max=48.0), HTML(value='')))"
      ]
     },
     "metadata": {},
     "output_type": "display_data"
    },
    {
     "name": "stderr",
     "output_type": "stream",
     "text": [
      "Partition explainer:  22%|██▏       | 2/9 [00:00<?, ?it/s]"
     ]
    },
    {
     "data": {
      "application/vnd.jupyter.widget-view+json": {
       "model_id": "",
       "version_major": 2,
       "version_minor": 0
      },
      "text/plain": [
       "HBox(children=(FloatProgress(value=0.0, max=48.0), HTML(value='')))"
      ]
     },
     "metadata": {},
     "output_type": "display_data"
    },
    {
     "name": "stderr",
     "output_type": "stream",
     "text": [
      "Partition explainer:  44%|████▍     | 4/9 [00:19<00:16,  3.32s/it]"
     ]
    },
    {
     "data": {
      "application/vnd.jupyter.widget-view+json": {
       "model_id": "",
       "version_major": 2,
       "version_minor": 0
      },
      "text/plain": [
       "HBox(children=(FloatProgress(value=0.0, max=48.0), HTML(value='')))"
      ]
     },
     "metadata": {},
     "output_type": "display_data"
    },
    {
     "name": "stderr",
     "output_type": "stream",
     "text": [
      "Partition explainer:  56%|█████▌    | 5/9 [00:26<00:17,  4.32s/it]"
     ]
    },
    {
     "data": {
      "application/vnd.jupyter.widget-view+json": {
       "model_id": "",
       "version_major": 2,
       "version_minor": 0
      },
      "text/plain": [
       "HBox(children=(FloatProgress(value=0.0, max=48.0), HTML(value='')))"
      ]
     },
     "metadata": {},
     "output_type": "display_data"
    },
    {
     "name": "stderr",
     "output_type": "stream",
     "text": [
      "Partition explainer:  67%|██████▋   | 6/9 [00:33<00:15,  5.02s/it]"
     ]
    },
    {
     "data": {
      "application/vnd.jupyter.widget-view+json": {
       "model_id": "",
       "version_major": 2,
       "version_minor": 0
      },
      "text/plain": [
       "HBox(children=(FloatProgress(value=0.0, max=48.0), HTML(value='')))"
      ]
     },
     "metadata": {},
     "output_type": "display_data"
    },
    {
     "name": "stderr",
     "output_type": "stream",
     "text": [
      "Partition explainer:  78%|███████▊  | 7/9 [00:39<00:11,  5.52s/it]"
     ]
    },
    {
     "data": {
      "application/vnd.jupyter.widget-view+json": {
       "model_id": "",
       "version_major": 2,
       "version_minor": 0
      },
      "text/plain": [
       "HBox(children=(FloatProgress(value=0.0, max=48.0), HTML(value='')))"
      ]
     },
     "metadata": {},
     "output_type": "display_data"
    },
    {
     "name": "stderr",
     "output_type": "stream",
     "text": [
      "Partition explainer:  89%|████████▉ | 8/9 [00:46<00:05,  5.86s/it]"
     ]
    },
    {
     "data": {
      "application/vnd.jupyter.widget-view+json": {
       "model_id": "",
       "version_major": 2,
       "version_minor": 0
      },
      "text/plain": [
       "HBox(children=(FloatProgress(value=0.0, max=48.0), HTML(value='')))"
      ]
     },
     "metadata": {},
     "output_type": "display_data"
    },
    {
     "name": "stderr",
     "output_type": "stream",
     "text": [
      "Partition explainer: 100%|██████████| 9/9 [00:53<00:00,  6.10s/it]"
     ]
    },
    {
     "data": {
      "application/vnd.jupyter.widget-view+json": {
       "model_id": "",
       "version_major": 2,
       "version_minor": 0
      },
      "text/plain": [
       "HBox(children=(FloatProgress(value=0.0, max=48.0), HTML(value='')))"
      ]
     },
     "metadata": {},
     "output_type": "display_data"
    },
    {
     "name": "stderr",
     "output_type": "stream",
     "text": [
      "Partition explainer: 10it [00:59,  7.49s/it]                      "
     ]
    },
    {
     "name": "stdout",
     "output_type": "stream",
     "text": [
      "5\n",
      "(7, 16)\n",
      "6\n",
      "(7, 17)\n",
      "\n",
      "\n",
      "remove_all_punct\n",
      "1\n",
      "(20, 7)\n",
      "2\n",
      "(20, 7)\n"
     ]
    },
    {
     "name": "stderr",
     "output_type": "stream",
     "text": [
      "\n"
     ]
    },
    {
     "name": "stdout",
     "output_type": "stream",
     "text": [
      "3\n",
      "(18, 9)\n",
      "4\n",
      "10\n"
     ]
    },
    {
     "data": {
      "application/vnd.jupyter.widget-view+json": {
       "model_id": "",
       "version_major": 2,
       "version_minor": 0
      },
      "text/plain": [
       "HBox(children=(FloatProgress(value=0.0, max=48.0), HTML(value='')))"
      ]
     },
     "metadata": {},
     "output_type": "display_data"
    },
    {
     "data": {
      "application/vnd.jupyter.widget-view+json": {
       "model_id": "",
       "version_major": 2,
       "version_minor": 0
      },
      "text/plain": [
       "HBox(children=(FloatProgress(value=0.0, max=48.0), HTML(value='')))"
      ]
     },
     "metadata": {},
     "output_type": "display_data"
    },
    {
     "name": "stderr",
     "output_type": "stream",
     "text": [
      "Partition explainer:  11%|█         | 2/18 [00:00<?, ?it/s]"
     ]
    },
    {
     "data": {
      "application/vnd.jupyter.widget-view+json": {
       "model_id": "",
       "version_major": 2,
       "version_minor": 0
      },
      "text/plain": [
       "HBox(children=(FloatProgress(value=0.0, max=48.0), HTML(value='')))"
      ]
     },
     "metadata": {},
     "output_type": "display_data"
    },
    {
     "name": "stderr",
     "output_type": "stream",
     "text": [
      "Partition explainer:  22%|██▏       | 4/18 [00:19<00:46,  3.32s/it]"
     ]
    },
    {
     "data": {
      "application/vnd.jupyter.widget-view+json": {
       "model_id": "",
       "version_major": 2,
       "version_minor": 0
      },
      "text/plain": [
       "HBox(children=(FloatProgress(value=0.0, max=48.0), HTML(value='')))"
      ]
     },
     "metadata": {},
     "output_type": "display_data"
    },
    {
     "name": "stderr",
     "output_type": "stream",
     "text": [
      "Partition explainer:  28%|██▊       | 5/18 [00:26<00:56,  4.31s/it]"
     ]
    },
    {
     "data": {
      "application/vnd.jupyter.widget-view+json": {
       "model_id": "",
       "version_major": 2,
       "version_minor": 0
      },
      "text/plain": [
       "HBox(children=(FloatProgress(value=0.0, max=42.0), HTML(value='')))"
      ]
     },
     "metadata": {},
     "output_type": "display_data"
    },
    {
     "name": "stderr",
     "output_type": "stream",
     "text": [
      "Partition explainer:  33%|███▎      | 6/18 [00:33<01:00,  5.00s/it]"
     ]
    },
    {
     "data": {
      "application/vnd.jupyter.widget-view+json": {
       "model_id": "",
       "version_major": 2,
       "version_minor": 0
      },
      "text/plain": [
       "HBox(children=(FloatProgress(value=0.0, max=48.0), HTML(value='')))"
      ]
     },
     "metadata": {},
     "output_type": "display_data"
    },
    {
     "name": "stderr",
     "output_type": "stream",
     "text": [
      "Partition explainer:  39%|███▉      | 7/18 [00:39<01:00,  5.50s/it]"
     ]
    },
    {
     "data": {
      "application/vnd.jupyter.widget-view+json": {
       "model_id": "",
       "version_major": 2,
       "version_minor": 0
      },
      "text/plain": [
       "HBox(children=(FloatProgress(value=0.0, max=48.0), HTML(value='')))"
      ]
     },
     "metadata": {},
     "output_type": "display_data"
    },
    {
     "name": "stderr",
     "output_type": "stream",
     "text": [
      "Partition explainer:  44%|████▍     | 8/18 [00:46<00:58,  5.86s/it]"
     ]
    },
    {
     "data": {
      "application/vnd.jupyter.widget-view+json": {
       "model_id": "",
       "version_major": 2,
       "version_minor": 0
      },
      "text/plain": [
       "HBox(children=(FloatProgress(value=0.0, max=48.0), HTML(value='')))"
      ]
     },
     "metadata": {},
     "output_type": "display_data"
    },
    {
     "name": "stderr",
     "output_type": "stream",
     "text": [
      "Partition explainer:  50%|█████     | 9/18 [00:53<00:54,  6.11s/it]"
     ]
    },
    {
     "data": {
      "application/vnd.jupyter.widget-view+json": {
       "model_id": "",
       "version_major": 2,
       "version_minor": 0
      },
      "text/plain": [
       "HBox(children=(FloatProgress(value=0.0, max=48.0), HTML(value='')))"
      ]
     },
     "metadata": {},
     "output_type": "display_data"
    },
    {
     "name": "stderr",
     "output_type": "stream",
     "text": [
      "Partition explainer:  56%|█████▌    | 10/18 [00:59<00:50,  6.27s/it]"
     ]
    },
    {
     "data": {
      "application/vnd.jupyter.widget-view+json": {
       "model_id": "",
       "version_major": 2,
       "version_minor": 0
      },
      "text/plain": [
       "HBox(children=(FloatProgress(value=0.0, max=48.0), HTML(value='')))"
      ]
     },
     "metadata": {},
     "output_type": "display_data"
    },
    {
     "name": "stderr",
     "output_type": "stream",
     "text": [
      "Partition explainer:  61%|██████    | 11/18 [01:06<00:44,  6.39s/it]"
     ]
    },
    {
     "data": {
      "application/vnd.jupyter.widget-view+json": {
       "model_id": "",
       "version_major": 2,
       "version_minor": 0
      },
      "text/plain": [
       "HBox(children=(FloatProgress(value=0.0, max=48.0), HTML(value='')))"
      ]
     },
     "metadata": {},
     "output_type": "display_data"
    },
    {
     "name": "stderr",
     "output_type": "stream",
     "text": [
      "Partition explainer:  67%|██████▋   | 12/18 [01:13<00:38,  6.46s/it]"
     ]
    },
    {
     "data": {
      "application/vnd.jupyter.widget-view+json": {
       "model_id": "",
       "version_major": 2,
       "version_minor": 0
      },
      "text/plain": [
       "HBox(children=(FloatProgress(value=0.0, max=48.0), HTML(value='')))"
      ]
     },
     "metadata": {},
     "output_type": "display_data"
    },
    {
     "name": "stderr",
     "output_type": "stream",
     "text": [
      "Partition explainer:  72%|███████▏  | 13/18 [01:19<00:32,  6.51s/it]"
     ]
    },
    {
     "data": {
      "application/vnd.jupyter.widget-view+json": {
       "model_id": "",
       "version_major": 2,
       "version_minor": 0
      },
      "text/plain": [
       "HBox(children=(FloatProgress(value=0.0, max=48.0), HTML(value='')))"
      ]
     },
     "metadata": {},
     "output_type": "display_data"
    },
    {
     "name": "stderr",
     "output_type": "stream",
     "text": [
      "Partition explainer:  78%|███████▊  | 14/18 [01:26<00:26,  6.55s/it]"
     ]
    },
    {
     "data": {
      "application/vnd.jupyter.widget-view+json": {
       "model_id": "",
       "version_major": 2,
       "version_minor": 0
      },
      "text/plain": [
       "HBox(children=(FloatProgress(value=0.0, max=48.0), HTML(value='')))"
      ]
     },
     "metadata": {},
     "output_type": "display_data"
    },
    {
     "name": "stderr",
     "output_type": "stream",
     "text": [
      "Partition explainer:  83%|████████▎ | 15/18 [01:33<00:19,  6.59s/it]"
     ]
    },
    {
     "data": {
      "application/vnd.jupyter.widget-view+json": {
       "model_id": "",
       "version_major": 2,
       "version_minor": 0
      },
      "text/plain": [
       "HBox(children=(FloatProgress(value=0.0, max=48.0), HTML(value='')))"
      ]
     },
     "metadata": {},
     "output_type": "display_data"
    },
    {
     "name": "stderr",
     "output_type": "stream",
     "text": [
      "Partition explainer:  89%|████████▉ | 16/18 [01:39<00:13,  6.60s/it]"
     ]
    },
    {
     "data": {
      "application/vnd.jupyter.widget-view+json": {
       "model_id": "",
       "version_major": 2,
       "version_minor": 0
      },
      "text/plain": [
       "HBox(children=(FloatProgress(value=0.0, max=48.0), HTML(value='')))"
      ]
     },
     "metadata": {},
     "output_type": "display_data"
    },
    {
     "name": "stderr",
     "output_type": "stream",
     "text": [
      "Partition explainer:  94%|█████████▍| 17/18 [01:46<00:06,  6.61s/it]"
     ]
    },
    {
     "data": {
      "application/vnd.jupyter.widget-view+json": {
       "model_id": "",
       "version_major": 2,
       "version_minor": 0
      },
      "text/plain": [
       "HBox(children=(FloatProgress(value=0.0, max=48.0), HTML(value='')))"
      ]
     },
     "metadata": {},
     "output_type": "display_data"
    },
    {
     "name": "stderr",
     "output_type": "stream",
     "text": [
      "Partition explainer: 100%|██████████| 18/18 [01:53<00:00,  6.64s/it]"
     ]
    },
    {
     "data": {
      "application/vnd.jupyter.widget-view+json": {
       "model_id": "",
       "version_major": 2,
       "version_minor": 0
      },
      "text/plain": [
       "HBox(children=(FloatProgress(value=0.0, max=48.0), HTML(value='')))"
      ]
     },
     "metadata": {},
     "output_type": "display_data"
    },
    {
     "name": "stderr",
     "output_type": "stream",
     "text": [
      "Partition explainer: 19it [01:59,  7.04s/it]                        \n"
     ]
    },
    {
     "data": {
      "application/vnd.jupyter.widget-view+json": {
       "model_id": "",
       "version_major": 2,
       "version_minor": 0
      },
      "text/plain": [
       "HBox(children=(FloatProgress(value=0.0, max=48.0), HTML(value='')))"
      ]
     },
     "metadata": {},
     "output_type": "display_data"
    },
    {
     "data": {
      "application/vnd.jupyter.widget-view+json": {
       "model_id": "",
       "version_major": 2,
       "version_minor": 0
      },
      "text/plain": [
       "HBox(children=(FloatProgress(value=0.0, max=48.0), HTML(value='')))"
      ]
     },
     "metadata": {},
     "output_type": "display_data"
    },
    {
     "name": "stderr",
     "output_type": "stream",
     "text": [
      "Partition explainer:  11%|█         | 2/18 [00:00<?, ?it/s]"
     ]
    },
    {
     "data": {
      "application/vnd.jupyter.widget-view+json": {
       "model_id": "",
       "version_major": 2,
       "version_minor": 0
      },
      "text/plain": [
       "HBox(children=(FloatProgress(value=0.0, max=48.0), HTML(value='')))"
      ]
     },
     "metadata": {},
     "output_type": "display_data"
    },
    {
     "name": "stderr",
     "output_type": "stream",
     "text": [
      "Partition explainer:  22%|██▏       | 4/18 [00:19<00:46,  3.32s/it]"
     ]
    },
    {
     "data": {
      "application/vnd.jupyter.widget-view+json": {
       "model_id": "",
       "version_major": 2,
       "version_minor": 0
      },
      "text/plain": [
       "HBox(children=(FloatProgress(value=0.0, max=48.0), HTML(value='')))"
      ]
     },
     "metadata": {},
     "output_type": "display_data"
    },
    {
     "name": "stderr",
     "output_type": "stream",
     "text": [
      "Partition explainer:  28%|██▊       | 5/18 [00:26<00:55,  4.31s/it]"
     ]
    },
    {
     "data": {
      "application/vnd.jupyter.widget-view+json": {
       "model_id": "",
       "version_major": 2,
       "version_minor": 0
      },
      "text/plain": [
       "HBox(children=(FloatProgress(value=0.0, max=30.0), HTML(value='')))"
      ]
     },
     "metadata": {},
     "output_type": "display_data"
    },
    {
     "name": "stderr",
     "output_type": "stream",
     "text": [
      "Partition explainer:  33%|███▎      | 6/18 [00:32<00:59,  4.93s/it]"
     ]
    },
    {
     "data": {
      "application/vnd.jupyter.widget-view+json": {
       "model_id": "",
       "version_major": 2,
       "version_minor": 0
      },
      "text/plain": [
       "HBox(children=(FloatProgress(value=0.0, max=48.0), HTML(value='')))"
      ]
     },
     "metadata": {},
     "output_type": "display_data"
    },
    {
     "name": "stderr",
     "output_type": "stream",
     "text": [
      "Partition explainer:  39%|███▉      | 7/18 [00:39<00:59,  5.44s/it]"
     ]
    },
    {
     "data": {
      "application/vnd.jupyter.widget-view+json": {
       "model_id": "",
       "version_major": 2,
       "version_minor": 0
      },
      "text/plain": [
       "HBox(children=(FloatProgress(value=0.0, max=48.0), HTML(value='')))"
      ]
     },
     "metadata": {},
     "output_type": "display_data"
    },
    {
     "name": "stderr",
     "output_type": "stream",
     "text": [
      "Partition explainer:  44%|████▍     | 8/18 [00:46<00:57,  5.79s/it]"
     ]
    },
    {
     "data": {
      "application/vnd.jupyter.widget-view+json": {
       "model_id": "",
       "version_major": 2,
       "version_minor": 0
      },
      "text/plain": [
       "HBox(children=(FloatProgress(value=0.0, max=48.0), HTML(value='')))"
      ]
     },
     "metadata": {},
     "output_type": "display_data"
    },
    {
     "name": "stderr",
     "output_type": "stream",
     "text": [
      "Partition explainer:  50%|█████     | 9/18 [00:52<00:54,  6.04s/it]"
     ]
    },
    {
     "data": {
      "application/vnd.jupyter.widget-view+json": {
       "model_id": "",
       "version_major": 2,
       "version_minor": 0
      },
      "text/plain": [
       "HBox(children=(FloatProgress(value=0.0, max=48.0), HTML(value='')))"
      ]
     },
     "metadata": {},
     "output_type": "display_data"
    },
    {
     "name": "stderr",
     "output_type": "stream",
     "text": [
      "Partition explainer:  56%|█████▌    | 10/18 [00:59<00:49,  6.22s/it]"
     ]
    },
    {
     "data": {
      "application/vnd.jupyter.widget-view+json": {
       "model_id": "",
       "version_major": 2,
       "version_minor": 0
      },
      "text/plain": [
       "HBox(children=(FloatProgress(value=0.0, max=48.0), HTML(value='')))"
      ]
     },
     "metadata": {},
     "output_type": "display_data"
    },
    {
     "name": "stderr",
     "output_type": "stream",
     "text": [
      "Partition explainer:  61%|██████    | 11/18 [01:06<00:44,  6.35s/it]"
     ]
    },
    {
     "data": {
      "application/vnd.jupyter.widget-view+json": {
       "model_id": "",
       "version_major": 2,
       "version_minor": 0
      },
      "text/plain": [
       "HBox(children=(FloatProgress(value=0.0, max=48.0), HTML(value='')))"
      ]
     },
     "metadata": {},
     "output_type": "display_data"
    },
    {
     "name": "stderr",
     "output_type": "stream",
     "text": [
      "Partition explainer:  67%|██████▋   | 12/18 [01:12<00:38,  6.44s/it]"
     ]
    },
    {
     "data": {
      "application/vnd.jupyter.widget-view+json": {
       "model_id": "",
       "version_major": 2,
       "version_minor": 0
      },
      "text/plain": [
       "HBox(children=(FloatProgress(value=0.0, max=48.0), HTML(value='')))"
      ]
     },
     "metadata": {},
     "output_type": "display_data"
    },
    {
     "name": "stderr",
     "output_type": "stream",
     "text": [
      "Partition explainer:  72%|███████▏  | 13/18 [01:19<00:32,  6.49s/it]"
     ]
    },
    {
     "data": {
      "application/vnd.jupyter.widget-view+json": {
       "model_id": "",
       "version_major": 2,
       "version_minor": 0
      },
      "text/plain": [
       "HBox(children=(FloatProgress(value=0.0, max=48.0), HTML(value='')))"
      ]
     },
     "metadata": {},
     "output_type": "display_data"
    },
    {
     "name": "stderr",
     "output_type": "stream",
     "text": [
      "Partition explainer:  78%|███████▊  | 14/18 [01:25<00:26,  6.54s/it]"
     ]
    },
    {
     "data": {
      "application/vnd.jupyter.widget-view+json": {
       "model_id": "",
       "version_major": 2,
       "version_minor": 0
      },
      "text/plain": [
       "HBox(children=(FloatProgress(value=0.0, max=48.0), HTML(value='')))"
      ]
     },
     "metadata": {},
     "output_type": "display_data"
    },
    {
     "name": "stderr",
     "output_type": "stream",
     "text": [
      "Partition explainer:  83%|████████▎ | 15/18 [01:32<00:19,  6.58s/it]"
     ]
    },
    {
     "data": {
      "application/vnd.jupyter.widget-view+json": {
       "model_id": "",
       "version_major": 2,
       "version_minor": 0
      },
      "text/plain": [
       "HBox(children=(FloatProgress(value=0.0, max=48.0), HTML(value='')))"
      ]
     },
     "metadata": {},
     "output_type": "display_data"
    },
    {
     "name": "stderr",
     "output_type": "stream",
     "text": [
      "Partition explainer:  89%|████████▉ | 16/18 [01:39<00:13,  6.59s/it]"
     ]
    },
    {
     "data": {
      "application/vnd.jupyter.widget-view+json": {
       "model_id": "",
       "version_major": 2,
       "version_minor": 0
      },
      "text/plain": [
       "HBox(children=(FloatProgress(value=0.0, max=48.0), HTML(value='')))"
      ]
     },
     "metadata": {},
     "output_type": "display_data"
    },
    {
     "name": "stderr",
     "output_type": "stream",
     "text": [
      "Partition explainer:  94%|█████████▍| 17/18 [01:45<00:06,  6.61s/it]"
     ]
    },
    {
     "data": {
      "application/vnd.jupyter.widget-view+json": {
       "model_id": "",
       "version_major": 2,
       "version_minor": 0
      },
      "text/plain": [
       "HBox(children=(FloatProgress(value=0.0, max=48.0), HTML(value='')))"
      ]
     },
     "metadata": {},
     "output_type": "display_data"
    },
    {
     "name": "stderr",
     "output_type": "stream",
     "text": [
      "Partition explainer: 100%|██████████| 18/18 [01:52<00:00,  6.62s/it]"
     ]
    },
    {
     "data": {
      "application/vnd.jupyter.widget-view+json": {
       "model_id": "",
       "version_major": 2,
       "version_minor": 0
      },
      "text/plain": [
       "HBox(children=(FloatProgress(value=0.0, max=48.0), HTML(value='')))"
      ]
     },
     "metadata": {},
     "output_type": "display_data"
    },
    {
     "name": "stderr",
     "output_type": "stream",
     "text": [
      "Partition explainer: 19it [01:59,  7.01s/it]                        "
     ]
    },
    {
     "name": "stdout",
     "output_type": "stream",
     "text": [
      "5\n",
      "(10, 16)\n",
      "6\n",
      "(10, 17)\n",
      "\n",
      "\n",
      "contraction\n",
      "1\n",
      "(20, 7)\n",
      "2\n",
      "(1, 7)\n",
      "Skipped contraction\n",
      "\n",
      "\n",
      "change_first_name\n",
      "1\n",
      "(20, 7)\n",
      "2\n",
      "(0, 7)\n",
      "Skipped change_first_name\n",
      "\n",
      "\n",
      "change_last_name\n",
      "1\n",
      "(20, 7)\n",
      "2\n",
      "(0, 7)\n",
      "Skipped change_last_name\n",
      "\n",
      "\n",
      "change_location\n",
      "1\n",
      "(20, 7)\n",
      "2\n",
      "(0, 7)\n",
      "Skipped change_location\n",
      "\n",
      "\n",
      "add_typo\n",
      "1\n",
      "(20, 7)\n",
      "2\n",
      "(20, 7)\n"
     ]
    },
    {
     "name": "stderr",
     "output_type": "stream",
     "text": [
      "\n"
     ]
    },
    {
     "name": "stdout",
     "output_type": "stream",
     "text": [
      "3\n",
      "(16, 9)\n",
      "4\n",
      "9\n"
     ]
    },
    {
     "data": {
      "application/vnd.jupyter.widget-view+json": {
       "model_id": "",
       "version_major": 2,
       "version_minor": 0
      },
      "text/plain": [
       "HBox(children=(FloatProgress(value=0.0, max=48.0), HTML(value='')))"
      ]
     },
     "metadata": {},
     "output_type": "display_data"
    },
    {
     "data": {
      "application/vnd.jupyter.widget-view+json": {
       "model_id": "",
       "version_major": 2,
       "version_minor": 0
      },
      "text/plain": [
       "HBox(children=(FloatProgress(value=0.0, max=48.0), HTML(value='')))"
      ]
     },
     "metadata": {},
     "output_type": "display_data"
    },
    {
     "name": "stderr",
     "output_type": "stream",
     "text": [
      "Partition explainer:  12%|█▎        | 2/16 [00:00<?, ?it/s]"
     ]
    },
    {
     "data": {
      "application/vnd.jupyter.widget-view+json": {
       "model_id": "",
       "version_major": 2,
       "version_minor": 0
      },
      "text/plain": [
       "HBox(children=(FloatProgress(value=0.0, max=48.0), HTML(value='')))"
      ]
     },
     "metadata": {},
     "output_type": "display_data"
    },
    {
     "name": "stderr",
     "output_type": "stream",
     "text": [
      "Partition explainer:  25%|██▌       | 4/16 [00:19<00:40,  3.35s/it]"
     ]
    },
    {
     "data": {
      "application/vnd.jupyter.widget-view+json": {
       "model_id": "",
       "version_major": 2,
       "version_minor": 0
      },
      "text/plain": [
       "HBox(children=(FloatProgress(value=0.0, max=48.0), HTML(value='')))"
      ]
     },
     "metadata": {},
     "output_type": "display_data"
    },
    {
     "name": "stderr",
     "output_type": "stream",
     "text": [
      "Partition explainer:  31%|███▏      | 5/16 [00:26<00:47,  4.33s/it]"
     ]
    },
    {
     "data": {
      "application/vnd.jupyter.widget-view+json": {
       "model_id": "",
       "version_major": 2,
       "version_minor": 0
      },
      "text/plain": [
       "HBox(children=(FloatProgress(value=0.0, max=48.0), HTML(value='')))"
      ]
     },
     "metadata": {},
     "output_type": "display_data"
    },
    {
     "name": "stderr",
     "output_type": "stream",
     "text": [
      "Partition explainer:  38%|███▊      | 6/16 [00:33<00:50,  5.02s/it]"
     ]
    },
    {
     "data": {
      "application/vnd.jupyter.widget-view+json": {
       "model_id": "",
       "version_major": 2,
       "version_minor": 0
      },
      "text/plain": [
       "HBox(children=(FloatProgress(value=0.0, max=48.0), HTML(value='')))"
      ]
     },
     "metadata": {},
     "output_type": "display_data"
    },
    {
     "name": "stderr",
     "output_type": "stream",
     "text": [
      "Partition explainer:  44%|████▍     | 7/16 [00:39<00:49,  5.51s/it]"
     ]
    },
    {
     "data": {
      "application/vnd.jupyter.widget-view+json": {
       "model_id": "",
       "version_major": 2,
       "version_minor": 0
      },
      "text/plain": [
       "HBox(children=(FloatProgress(value=0.0, max=48.0), HTML(value='')))"
      ]
     },
     "metadata": {},
     "output_type": "display_data"
    },
    {
     "name": "stderr",
     "output_type": "stream",
     "text": [
      "Partition explainer:  50%|█████     | 8/16 [00:46<00:46,  5.85s/it]"
     ]
    },
    {
     "data": {
      "application/vnd.jupyter.widget-view+json": {
       "model_id": "",
       "version_major": 2,
       "version_minor": 0
      },
      "text/plain": [
       "HBox(children=(FloatProgress(value=0.0, max=48.0), HTML(value='')))"
      ]
     },
     "metadata": {},
     "output_type": "display_data"
    },
    {
     "name": "stderr",
     "output_type": "stream",
     "text": [
      "Partition explainer:  56%|█████▋    | 9/16 [00:53<00:42,  6.08s/it]"
     ]
    },
    {
     "data": {
      "application/vnd.jupyter.widget-view+json": {
       "model_id": "",
       "version_major": 2,
       "version_minor": 0
      },
      "text/plain": [
       "HBox(children=(FloatProgress(value=0.0, max=48.0), HTML(value='')))"
      ]
     },
     "metadata": {},
     "output_type": "display_data"
    },
    {
     "name": "stderr",
     "output_type": "stream",
     "text": [
      "Partition explainer:  62%|██████▎   | 10/16 [00:59<00:37,  6.28s/it]"
     ]
    },
    {
     "data": {
      "application/vnd.jupyter.widget-view+json": {
       "model_id": "",
       "version_major": 2,
       "version_minor": 0
      },
      "text/plain": [
       "HBox(children=(FloatProgress(value=0.0, max=48.0), HTML(value='')))"
      ]
     },
     "metadata": {},
     "output_type": "display_data"
    },
    {
     "name": "stderr",
     "output_type": "stream",
     "text": [
      "Partition explainer:  69%|██████▉   | 11/16 [01:06<00:31,  6.39s/it]"
     ]
    },
    {
     "data": {
      "application/vnd.jupyter.widget-view+json": {
       "model_id": "",
       "version_major": 2,
       "version_minor": 0
      },
      "text/plain": [
       "HBox(children=(FloatProgress(value=0.0, max=48.0), HTML(value='')))"
      ]
     },
     "metadata": {},
     "output_type": "display_data"
    },
    {
     "name": "stderr",
     "output_type": "stream",
     "text": [
      "Partition explainer:  75%|███████▌  | 12/16 [01:13<00:25,  6.47s/it]"
     ]
    },
    {
     "data": {
      "application/vnd.jupyter.widget-view+json": {
       "model_id": "",
       "version_major": 2,
       "version_minor": 0
      },
      "text/plain": [
       "HBox(children=(FloatProgress(value=0.0, max=48.0), HTML(value='')))"
      ]
     },
     "metadata": {},
     "output_type": "display_data"
    },
    {
     "name": "stderr",
     "output_type": "stream",
     "text": [
      "Partition explainer:  81%|████████▏ | 13/16 [01:19<00:19,  6.53s/it]"
     ]
    },
    {
     "data": {
      "application/vnd.jupyter.widget-view+json": {
       "model_id": "",
       "version_major": 2,
       "version_minor": 0
      },
      "text/plain": [
       "HBox(children=(FloatProgress(value=0.0, max=48.0), HTML(value='')))"
      ]
     },
     "metadata": {},
     "output_type": "display_data"
    },
    {
     "name": "stderr",
     "output_type": "stream",
     "text": [
      "Partition explainer:  88%|████████▊ | 14/16 [01:26<00:13,  6.57s/it]"
     ]
    },
    {
     "data": {
      "application/vnd.jupyter.widget-view+json": {
       "model_id": "",
       "version_major": 2,
       "version_minor": 0
      },
      "text/plain": [
       "HBox(children=(FloatProgress(value=0.0, max=48.0), HTML(value='')))"
      ]
     },
     "metadata": {},
     "output_type": "display_data"
    },
    {
     "name": "stderr",
     "output_type": "stream",
     "text": [
      "Partition explainer:  94%|█████████▍| 15/16 [01:33<00:06,  6.60s/it]"
     ]
    },
    {
     "data": {
      "application/vnd.jupyter.widget-view+json": {
       "model_id": "",
       "version_major": 2,
       "version_minor": 0
      },
      "text/plain": [
       "HBox(children=(FloatProgress(value=0.0, max=48.0), HTML(value='')))"
      ]
     },
     "metadata": {},
     "output_type": "display_data"
    },
    {
     "name": "stderr",
     "output_type": "stream",
     "text": [
      "Partition explainer: 100%|██████████| 16/16 [01:39<00:00,  6.62s/it]"
     ]
    },
    {
     "data": {
      "application/vnd.jupyter.widget-view+json": {
       "model_id": "",
       "version_major": 2,
       "version_minor": 0
      },
      "text/plain": [
       "HBox(children=(FloatProgress(value=0.0, max=48.0), HTML(value='')))"
      ]
     },
     "metadata": {},
     "output_type": "display_data"
    },
    {
     "name": "stderr",
     "output_type": "stream",
     "text": [
      "Partition explainer: 17it [01:46,  7.10s/it]                        \n"
     ]
    },
    {
     "data": {
      "application/vnd.jupyter.widget-view+json": {
       "model_id": "",
       "version_major": 2,
       "version_minor": 0
      },
      "text/plain": [
       "HBox(children=(FloatProgress(value=0.0, max=48.0), HTML(value='')))"
      ]
     },
     "metadata": {},
     "output_type": "display_data"
    },
    {
     "data": {
      "application/vnd.jupyter.widget-view+json": {
       "model_id": "",
       "version_major": 2,
       "version_minor": 0
      },
      "text/plain": [
       "HBox(children=(FloatProgress(value=0.0, max=48.0), HTML(value='')))"
      ]
     },
     "metadata": {},
     "output_type": "display_data"
    },
    {
     "name": "stderr",
     "output_type": "stream",
     "text": [
      "Partition explainer:  12%|█▎        | 2/16 [00:00<?, ?it/s]"
     ]
    },
    {
     "data": {
      "application/vnd.jupyter.widget-view+json": {
       "model_id": "",
       "version_major": 2,
       "version_minor": 0
      },
      "text/plain": [
       "HBox(children=(FloatProgress(value=0.0, max=48.0), HTML(value='')))"
      ]
     },
     "metadata": {},
     "output_type": "display_data"
    },
    {
     "name": "stderr",
     "output_type": "stream",
     "text": [
      "Partition explainer:  25%|██▌       | 4/16 [00:21<00:41,  3.48s/it]"
     ]
    },
    {
     "data": {
      "application/vnd.jupyter.widget-view+json": {
       "model_id": "",
       "version_major": 2,
       "version_minor": 0
      },
      "text/plain": [
       "HBox(children=(FloatProgress(value=0.0, max=48.0), HTML(value='')))"
      ]
     },
     "metadata": {},
     "output_type": "display_data"
    },
    {
     "name": "stderr",
     "output_type": "stream",
     "text": [
      "Partition explainer:  31%|███▏      | 5/16 [00:27<00:49,  4.48s/it]"
     ]
    },
    {
     "data": {
      "application/vnd.jupyter.widget-view+json": {
       "model_id": "",
       "version_major": 2,
       "version_minor": 0
      },
      "text/plain": [
       "HBox(children=(FloatProgress(value=0.0, max=48.0), HTML(value='')))"
      ]
     },
     "metadata": {},
     "output_type": "display_data"
    },
    {
     "name": "stderr",
     "output_type": "stream",
     "text": [
      "Partition explainer:  38%|███▊      | 6/16 [00:34<00:51,  5.19s/it]"
     ]
    },
    {
     "data": {
      "application/vnd.jupyter.widget-view+json": {
       "model_id": "",
       "version_major": 2,
       "version_minor": 0
      },
      "text/plain": [
       "HBox(children=(FloatProgress(value=0.0, max=48.0), HTML(value='')))"
      ]
     },
     "metadata": {},
     "output_type": "display_data"
    },
    {
     "name": "stderr",
     "output_type": "stream",
     "text": [
      "Partition explainer:  44%|████▍     | 7/16 [00:41<00:51,  5.69s/it]"
     ]
    },
    {
     "data": {
      "application/vnd.jupyter.widget-view+json": {
       "model_id": "",
       "version_major": 2,
       "version_minor": 0
      },
      "text/plain": [
       "HBox(children=(FloatProgress(value=0.0, max=48.0), HTML(value='')))"
      ]
     },
     "metadata": {},
     "output_type": "display_data"
    },
    {
     "name": "stderr",
     "output_type": "stream",
     "text": [
      "Partition explainer:  50%|█████     | 8/16 [00:48<00:48,  6.01s/it]"
     ]
    },
    {
     "data": {
      "application/vnd.jupyter.widget-view+json": {
       "model_id": "",
       "version_major": 2,
       "version_minor": 0
      },
      "text/plain": [
       "HBox(children=(FloatProgress(value=0.0, max=48.0), HTML(value='')))"
      ]
     },
     "metadata": {},
     "output_type": "display_data"
    },
    {
     "name": "stderr",
     "output_type": "stream",
     "text": [
      "Partition explainer:  56%|█████▋    | 9/16 [00:55<00:43,  6.27s/it]"
     ]
    },
    {
     "data": {
      "application/vnd.jupyter.widget-view+json": {
       "model_id": "",
       "version_major": 2,
       "version_minor": 0
      },
      "text/plain": [
       "HBox(children=(FloatProgress(value=0.0, max=48.0), HTML(value='')))"
      ]
     },
     "metadata": {},
     "output_type": "display_data"
    },
    {
     "name": "stderr",
     "output_type": "stream",
     "text": [
      "Partition explainer:  62%|██████▎   | 10/16 [01:02<00:38,  6.46s/it]"
     ]
    },
    {
     "data": {
      "application/vnd.jupyter.widget-view+json": {
       "model_id": "",
       "version_major": 2,
       "version_minor": 0
      },
      "text/plain": [
       "HBox(children=(FloatProgress(value=0.0, max=48.0), HTML(value='')))"
      ]
     },
     "metadata": {},
     "output_type": "display_data"
    },
    {
     "name": "stderr",
     "output_type": "stream",
     "text": [
      "Partition explainer:  69%|██████▉   | 11/16 [01:09<00:32,  6.59s/it]"
     ]
    },
    {
     "data": {
      "application/vnd.jupyter.widget-view+json": {
       "model_id": "",
       "version_major": 2,
       "version_minor": 0
      },
      "text/plain": [
       "HBox(children=(FloatProgress(value=0.0, max=48.0), HTML(value='')))"
      ]
     },
     "metadata": {},
     "output_type": "display_data"
    },
    {
     "name": "stderr",
     "output_type": "stream",
     "text": [
      "Partition explainer:  75%|███████▌  | 12/16 [01:15<00:26,  6.62s/it]"
     ]
    },
    {
     "data": {
      "application/vnd.jupyter.widget-view+json": {
       "model_id": "",
       "version_major": 2,
       "version_minor": 0
      },
      "text/plain": [
       "HBox(children=(FloatProgress(value=0.0, max=48.0), HTML(value='')))"
      ]
     },
     "metadata": {},
     "output_type": "display_data"
    },
    {
     "name": "stderr",
     "output_type": "stream",
     "text": [
      "Partition explainer:  81%|████████▏ | 13/16 [01:22<00:19,  6.63s/it]"
     ]
    },
    {
     "data": {
      "application/vnd.jupyter.widget-view+json": {
       "model_id": "",
       "version_major": 2,
       "version_minor": 0
      },
      "text/plain": [
       "HBox(children=(FloatProgress(value=0.0, max=48.0), HTML(value='')))"
      ]
     },
     "metadata": {},
     "output_type": "display_data"
    },
    {
     "name": "stderr",
     "output_type": "stream",
     "text": [
      "Partition explainer:  88%|████████▊ | 14/16 [01:28<00:13,  6.63s/it]"
     ]
    },
    {
     "data": {
      "application/vnd.jupyter.widget-view+json": {
       "model_id": "",
       "version_major": 2,
       "version_minor": 0
      },
      "text/plain": [
       "HBox(children=(FloatProgress(value=0.0, max=48.0), HTML(value='')))"
      ]
     },
     "metadata": {},
     "output_type": "display_data"
    },
    {
     "name": "stderr",
     "output_type": "stream",
     "text": [
      "Partition explainer:  94%|█████████▍| 15/16 [01:35<00:06,  6.63s/it]"
     ]
    },
    {
     "data": {
      "application/vnd.jupyter.widget-view+json": {
       "model_id": "",
       "version_major": 2,
       "version_minor": 0
      },
      "text/plain": [
       "HBox(children=(FloatProgress(value=0.0, max=48.0), HTML(value='')))"
      ]
     },
     "metadata": {},
     "output_type": "display_data"
    },
    {
     "name": "stderr",
     "output_type": "stream",
     "text": [
      "Partition explainer: 100%|██████████| 16/16 [01:42<00:00,  6.64s/it]"
     ]
    },
    {
     "data": {
      "application/vnd.jupyter.widget-view+json": {
       "model_id": "",
       "version_major": 2,
       "version_minor": 0
      },
      "text/plain": [
       "HBox(children=(FloatProgress(value=0.0, max=48.0), HTML(value='')))"
      ]
     },
     "metadata": {},
     "output_type": "display_data"
    },
    {
     "name": "stderr",
     "output_type": "stream",
     "text": [
      "Partition explainer: 17it [01:48,  7.26s/it]                        "
     ]
    },
    {
     "name": "stdout",
     "output_type": "stream",
     "text": [
      "5\n",
      "(13, 16)\n",
      "6\n",
      "(2, 17)\n",
      "Skipped add_typo\n",
      "\n",
      "\n",
      "switch_gender\n",
      "1\n",
      "(20, 7)\n",
      "2\n",
      "(2, 7)\n",
      "Skipped switch_gender\n",
      "\n",
      "\n",
      "swap_adj\n",
      "1\n",
      "(20, 7)\n",
      "2\n",
      "(2, 7)\n",
      "Skipped swap_adj\n",
      "\n",
      "\n",
      "CPU times: user 14min 5s, sys: 27.8 s, total: 14min 32s\n",
      "Wall time: 13min 50s\n"
     ]
    },
    {
     "name": "stderr",
     "output_type": "stream",
     "text": [
      "\n"
     ]
    }
   ],
   "source": [
    "%%time\n",
    "IMPORTANT_WORD_CUTOFF = 5\n",
    "\"\"\"\n",
    "Top-x words considered most important based on SHAP value. If perturbation affects any of these tokens the example is not considered for evaluation\n",
    "\"\"\"\n",
    "\n",
    "perturbation_df_dict = {}\n",
    "\n",
    "\n",
    "for perturbation in PERTURBATION_LIST:\n",
    "    \n",
    "    print(perturbation)\n",
    "    \n",
    "    #===============================================#\n",
    "    # Add perturbed sentences to dataframe          #\n",
    "    #===============================================#\n",
    "    \n",
    "    perturbation_df = add_perturbations(\n",
    "        df=dev_sst_subset,\n",
    "        tokenizer=bert_sst.tokenizer,\n",
    "        sentence_col_name=sst.SENTENCE, \n",
    "        perturbation_functions=[\n",
    "            PERT_STRING_TO_FUNCTION[perturbation]\n",
    "        ]\n",
    "    )\n",
    "    print(1)\n",
    "    print(perturbation_df.shape)\n",
    "    \n",
    "    #===============================================#\n",
    "    # Drop unsuccessful perturbations               #\n",
    "    #===============================================#\n",
    "    \n",
    "    perturbation_df = perturbation_df.copy()[perturbation_df[f'{perturbation}_success'] == 1]\n",
    "    print(2)\n",
    "    print(perturbation_df.shape)\n",
    "    if perturbation_df.shape[0] <= 2:\n",
    "        print(f'Skipped {perturbation}')\n",
    "        print('\\n')\n",
    "        perturbation_df_dict[perturbation] = None\n",
    "        continue\n",
    "    \n",
    "    #====================================================================#\n",
    "    # Overwrite '_concat' column with corrected reversal of tokenization #\n",
    "    #====================================================================#\n",
    "    \n",
    "    perturbation_df[f'{perturbation}_concat'] = perturbation_df[f'{perturbation}_tokens'].apply(bert_detokenize)\n",
    "    \n",
    "    #===============================================#\n",
    "    # Original prediction                           #\n",
    "    #===============================================#\n",
    "    \n",
    "    perturbation_df['orig_prediction'] = bert_sst.predict_label_batch(perturbation_df['sentence'])\n",
    "    \n",
    "    #===============================================#\n",
    "    # Prediction on new sentence                    #\n",
    "    #===============================================#\n",
    "    \n",
    "    perturbation_df[f'{perturbation}_prediction'] = bert_sst.predict_label_batch(perturbation_df[f'{perturbation}_concat'])\n",
    "    \n",
    "    #========================================================#\n",
    "    # Drop examples where predictions which are not the same #\n",
    "    #========================================================#\n",
    "    \n",
    "    perturbation_df = perturbation_df.copy()[perturbation_df[f'{perturbation}_prediction'] == perturbation_df['orig_prediction']]\n",
    "    print(3)\n",
    "    print(perturbation_df.shape)\n",
    "    if perturbation_df.shape[0] <= 2:\n",
    "        print(f'Skipped {perturbation}')\n",
    "        print('\\n')\n",
    "        perturbation_df_dict[perturbation] = None\n",
    "        continue\n",
    "    \n",
    "    #===============================================#\n",
    "    # Flag for correct prediction                   #\n",
    "    #===============================================#\n",
    "\n",
    "    perturbation_df['correct_prediction'] = np.where(\n",
    "        perturbation_df['label'] == perturbation_df['orig_prediction'],\n",
    "        1,\n",
    "        0\n",
    "    )\n",
    "    print(4)\n",
    "    print(perturbation_df['correct_prediction'].sum())\n",
    "    \n",
    "    #===============================================#\n",
    "    # SHAP values for original sentence             #\n",
    "    #===============================================#\n",
    "    \n",
    "    shap_values = shap_explainer.explain_instances(perturbation_df['sentence'])\n",
    "    \n",
    "    perturbation_df['shap_orig_tokens'] = shap_values.data\n",
    "    perturbation_df['shap_orig_tokens'] = perturbation_df['shap_orig_tokens'].apply(lambda x: x[1:-1])  # Drop first and last as these correspond to special tokens\n",
    "    \n",
    "    perturbation_df['shap_orig_values'] = shap_values.values\n",
    "    perturbation_df['shap_orig_values'] = perturbation_df['shap_orig_values'].apply(lambda x: x[1:-1, :])  # Drop first and last as these correspond to special tokens\n",
    "\n",
    "    # Only keep SHAP values for label predicted\n",
    "    perturbation_df['shap_orig_values'] = perturbation_df.apply(lambda x: x['shap_orig_values'][:, x['orig_prediction']], axis=1)\n",
    "    \n",
    "    # Length of SHAP tokens same as length of SHAP values\n",
    "    assert perturbation_df.shape[0] == (perturbation_df['shap_orig_tokens'].apply(len) == perturbation_df['shap_orig_values'].apply(len)).sum()\n",
    "    \n",
    "    #===============================================#\n",
    "    # SHAP values for perturbed sentence            #\n",
    "    #===============================================#\n",
    "    \n",
    "    shap_values = shap_explainer.explain_instances(perturbation_df[f'{perturbation}_concat'])\n",
    "\n",
    "    perturbation_df[f'shap_{perturbation}_tokens'] = shap_values.data\n",
    "    perturbation_df[f'shap_{perturbation}_tokens'] = perturbation_df[f'shap_{perturbation}_tokens'].apply(lambda x: x[1:-1])  # Drop first and last as these correspond to special tokens\n",
    "\n",
    "    perturbation_df[f'shap_{perturbation}_values'] = shap_values.values\n",
    "    perturbation_df[f'shap_{perturbation}_values'] = perturbation_df[f'shap_{perturbation}_values'].apply(lambda x: x[1:-1, :])  # Drop first and last as these correspond to special tokens\n",
    "\n",
    "    # Only keep SHAP values for label predicted\n",
    "    perturbation_df[f'shap_{perturbation}_values'] = perturbation_df.apply(lambda x: x[f'shap_{perturbation}_values'][:, x['orig_prediction']], axis=1)\n",
    "\n",
    "    # Length of SHAP tokens same as length of SHAP values\n",
    "    assert perturbation_df.shape[0] == (perturbation_df[f'shap_{perturbation}_tokens'].apply(len) == perturbation_df[f'shap_{perturbation}_values'].apply(len)).sum()\n",
    "\n",
    "    #====================================================#\n",
    "    # Drop examples where an important token was changed #\n",
    "    #====================================================#\n",
    "\n",
    "    perturbation_df['most_important_indices'] = perturbation_df['shap_orig_values'].apply(lambda x: np.argsort(-x)[:5])  # -as sorts in ascending order otherwise\n",
    "\n",
    "    perturbation_df['important_token_changed'] = perturbation_df.apply(\n",
    "        lambda x: any(\n",
    "            idx in x['most_important_indices'] for idx in x[f'{perturbation}_pert_ind']\n",
    "        ), \n",
    "        axis=1\n",
    "    )\n",
    "\n",
    "    perturbation_df['important_token_changed'] = perturbation_df['important_token_changed'].astype(int)\n",
    "\n",
    "    perturbation_df = perturbation_df.copy()[perturbation_df['important_token_changed'] == 0]\n",
    "    \n",
    "    print(5)\n",
    "    print(perturbation_df.shape)\n",
    "\n",
    "    #===============================================================#\n",
    "    # Additional criteria if perturbation in PERTURBATION_REDUCTION #\n",
    "    #===============================================================#\n",
    "    \n",
    "    if perturbation in PERTURBATION_REDUCTION:\n",
    "\n",
    "        perturbation_df['shap_orig_tokens'] = perturbation_df.apply(\n",
    "            lambda x: [\n",
    "                token for i, token in enumerate(x['shap_orig_tokens']) if i not in x[f'{perturbation}_pert_ind']\n",
    "            ], \n",
    "            axis=1\n",
    "        )\n",
    "\n",
    "        perturbation_df['shap_orig_values'] = perturbation_df.apply(\n",
    "            lambda x: [\n",
    "                token for i, token in enumerate(x['shap_orig_values']) if i not in x[f'{perturbation}_pert_ind']\n",
    "            ], \n",
    "            axis=1\n",
    "        )\n",
    "\n",
    "    # Check number of tokens in original matches number in perturbed\n",
    "    perturbation_df['token_length_mismatch'] = np.where(\n",
    "        perturbation_df['shap_orig_tokens'].apply(len) != perturbation_df[f'shap_{perturbation}_tokens'].apply(len),\n",
    "        1,\n",
    "        0\n",
    "    )\n",
    "    perturbation_df = perturbation_df.copy()[perturbation_df['token_length_mismatch'] == 0]\n",
    "    print(6)\n",
    "    print(perturbation_df.shape)\n",
    "    if perturbation_df.shape[0] <= 2:\n",
    "        print(f'Skipped {perturbation}')\n",
    "        print('\\n')\n",
    "        perturbation_df_dict[perturbation] = None\n",
    "        continue\n",
    "    \n",
    "    assert (perturbation_df['shap_orig_tokens'].apply(len) == perturbation_df[f'shap_{perturbation}_tokens'].apply(len)).mean() == 1\n",
    "    \n",
    "    # Store dataframe\n",
    "    perturbation_df_dict[perturbation] = perturbation_df\n",
    "    \n",
    "    print('\\n')"
   ]
  },
  {
   "cell_type": "markdown",
   "id": "29af9515",
   "metadata": {},
   "source": [
    "## Visualisation"
   ]
  },
  {
   "cell_type": "code",
   "execution_count": 117,
   "id": "5a57aa42",
   "metadata": {},
   "outputs": [
    {
     "data": {
      "image/png": "[encoded data removed]",
      "text/plain": [
       "<Figure size 360x360 with 1 Axes>"
      ]
     },
     "metadata": {
      "needs_background": "light"
     },
     "output_type": "display_data"
    },
    {
     "data": {
      "image/png": "[encoded data removed]",
      "text/plain": [
       "<Figure size 360x360 with 1 Axes>"
      ]
     },
     "metadata": {
      "needs_background": "light"
     },
     "output_type": "display_data"
    },
    {
     "data": {
      "image/png": "[encoded data removed]",
      "text/plain": [
       "<Figure size 360x360 with 1 Axes>"
      ]
     },
     "metadata": {
      "needs_background": "light"
     },
     "output_type": "display_data"
    }
   ],
   "source": [
    "for perturbation, df in perturbation_df_dict.items():\n",
    "    if df is None:\n",
    "        continue\n",
    "    df['spearman'] = df.apply(lambda x: spearmanr(x['shap_orig_values'], x[f'shap_{perturbation}_values']).correlation, axis=1)\n",
    "    sns.displot(df['spearman'], bins=10)\n",
    "    plt.title(f\"{perturbation} (mean: {np.round(np.mean(df['spearman']), 2)})\")\n",
    "    plt.xlabel('Spearman')\n",
    "    plt.show()"
   ]
  },
  {
   "cell_type": "code",
   "execution_count": null,
   "id": "a796a26a",
   "metadata": {},
   "outputs": [],
   "source": []
  },
  {
   "cell_type": "code",
   "execution_count": 100,
   "id": "88e1dcfd",
   "metadata": {},
   "outputs": [
    {
     "name": "stdout",
     "output_type": "stream",
     "text": [
      "Another one of those estrogen overdose movies like `` Divine Secrets of the Ya Ya Sisterhood , '' except that the writing , acting and character development are a lot better .\n",
      "another one of those estrogen overdose movies like `` divine secrets of the ya ya sisterhood , '' except that the writing , acting and character development are a lot better \n",
      "another one of those estrogen overdose movies like ` ` divine secrets of the ya ya sisterhood , ' ' except that the writing , acting and character development are a lot better \n"
     ]
    }
   ],
   "source": [
    "print(df.loc[19]['sentence'])\n",
    "print(bert_detokenize(df.loc[19]['strip_punct_tokens']))\n",
    "print(df.loc[19]['strip_punct_concat'])"
   ]
  },
  {
   "cell_type": "code",
   "execution_count": 97,
   "id": "12d121d5",
   "metadata": {},
   "outputs": [
    {
     "data": {
      "text/plain": [
       "\"another one of those estrogen overdose movies like `` divine secrets of the ya ya sisterhood , ' ' except that the writing , acting and character development are a lot better \""
      ]
     },
     "execution_count": 97,
     "metadata": {},
     "output_type": "execute_result"
    }
   ],
   "source": []
  },
  {
   "cell_type": "code",
   "execution_count": null,
   "id": "b37fdd88",
   "metadata": {},
   "outputs": [],
   "source": []
  },
  {
   "cell_type": "code",
   "execution_count": null,
   "id": "3ba9198d",
   "metadata": {},
   "outputs": [],
   "source": []
  },
  {
   "cell_type": "code",
   "execution_count": 88,
   "id": "5bb83b31",
   "metadata": {
    "tags": []
   },
   "outputs": [
    {
     "data": {
      "text/html": [
       "<div>\n",
       "<style scoped>\n",
       "    .dataframe tbody tr th:only-of-type {\n",
       "        vertical-align: middle;\n",
       "    }\n",
       "\n",
       "    .dataframe tbody tr th {\n",
       "        vertical-align: top;\n",
       "    }\n",
       "\n",
       "    .dataframe thead th {\n",
       "        text-align: right;\n",
       "    }\n",
       "</style>\n",
       "<table border=\"1\" class=\"dataframe\">\n",
       "  <thead>\n",
       "    <tr style=\"text-align: right;\">\n",
       "      <th></th>\n",
       "      <th>orig_tokens</th>\n",
       "      <th>orig_values</th>\n",
       "    </tr>\n",
       "  </thead>\n",
       "  <tbody>\n",
       "    <tr>\n",
       "      <th>3</th>\n",
       "      <td>absorbing</td>\n",
       "      <td>0.035836</td>\n",
       "    </tr>\n",
       "    <tr>\n",
       "      <th>4</th>\n",
       "      <td>film</td>\n",
       "      <td>0.035836</td>\n",
       "    </tr>\n",
       "    <tr>\n",
       "      <th>5</th>\n",
       "      <td>that</td>\n",
       "      <td>0.035836</td>\n",
       "    </tr>\n",
       "    <tr>\n",
       "      <th>6</th>\n",
       "      <td>manages</td>\n",
       "      <td>0.035836</td>\n",
       "    </tr>\n",
       "    <tr>\n",
       "      <th>7</th>\n",
       "      <td>to</td>\n",
       "      <td>0.035836</td>\n",
       "    </tr>\n",
       "    <tr>\n",
       "      <th>8</th>\n",
       "      <td>convey</td>\n",
       "      <td>0.035836</td>\n",
       "    </tr>\n",
       "    <tr>\n",
       "      <th>9</th>\n",
       "      <td>more</td>\n",
       "      <td>0.035836</td>\n",
       "    </tr>\n",
       "    <tr>\n",
       "      <th>10</th>\n",
       "      <td>substance</td>\n",
       "      <td>0.035836</td>\n",
       "    </tr>\n",
       "    <tr>\n",
       "      <th>15</th>\n",
       "      <td>and</td>\n",
       "      <td>0.019798</td>\n",
       "    </tr>\n",
       "    <tr>\n",
       "      <th>14</th>\n",
       "      <td>##s</td>\n",
       "      <td>0.019798</td>\n",
       "    </tr>\n",
       "  </tbody>\n",
       "</table>\n",
       "</div>"
      ],
      "text/plain": [
       "   orig_tokens  orig_values\n",
       "3   absorbing      0.035836\n",
       "4        film      0.035836\n",
       "5        that      0.035836\n",
       "6     manages      0.035836\n",
       "7          to      0.035836\n",
       "8      convey      0.035836\n",
       "9        more      0.035836\n",
       "10  substance      0.035836\n",
       "15        and      0.019798\n",
       "14        ##s      0.019798"
      ]
     },
     "execution_count": 88,
     "metadata": {},
     "output_type": "execute_result"
    }
   ],
   "source": [
    "pd.DataFrame(\n",
    "    {\n",
    "        'orig_tokens': df.loc[2]['shap_orig_tokens'],\n",
    "        'orig_values': df.loc[2]['shap_orig_values']\n",
    "    }\n",
    ").sort_values('orig_values', ascending=False).head(10)"
   ]
  },
  {
   "cell_type": "code",
   "execution_count": 89,
   "id": "c3edb9be",
   "metadata": {
    "tags": []
   },
   "outputs": [
    {
     "data": {
      "text/html": [
       "<div>\n",
       "<style scoped>\n",
       "    .dataframe tbody tr th:only-of-type {\n",
       "        vertical-align: middle;\n",
       "    }\n",
       "\n",
       "    .dataframe tbody tr th {\n",
       "        vertical-align: top;\n",
       "    }\n",
       "\n",
       "    .dataframe thead th {\n",
       "        text-align: right;\n",
       "    }\n",
       "</style>\n",
       "<table border=\"1\" class=\"dataframe\">\n",
       "  <thead>\n",
       "    <tr style=\"text-align: right;\">\n",
       "      <th></th>\n",
       "      <th>orig_tokens</th>\n",
       "      <th>orig_values</th>\n",
       "    </tr>\n",
       "  </thead>\n",
       "  <tbody>\n",
       "    <tr>\n",
       "      <th>3</th>\n",
       "      <td>absorbing</td>\n",
       "      <td>0.034524</td>\n",
       "    </tr>\n",
       "    <tr>\n",
       "      <th>4</th>\n",
       "      <td>film</td>\n",
       "      <td>0.034524</td>\n",
       "    </tr>\n",
       "    <tr>\n",
       "      <th>5</th>\n",
       "      <td>that</td>\n",
       "      <td>0.034524</td>\n",
       "    </tr>\n",
       "    <tr>\n",
       "      <th>6</th>\n",
       "      <td>manages</td>\n",
       "      <td>0.034524</td>\n",
       "    </tr>\n",
       "    <tr>\n",
       "      <th>7</th>\n",
       "      <td>to</td>\n",
       "      <td>0.034524</td>\n",
       "    </tr>\n",
       "    <tr>\n",
       "      <th>8</th>\n",
       "      <td>convey</td>\n",
       "      <td>0.034524</td>\n",
       "    </tr>\n",
       "    <tr>\n",
       "      <th>9</th>\n",
       "      <td>more</td>\n",
       "      <td>0.034524</td>\n",
       "    </tr>\n",
       "    <tr>\n",
       "      <th>10</th>\n",
       "      <td>substance</td>\n",
       "      <td>0.034524</td>\n",
       "    </tr>\n",
       "    <tr>\n",
       "      <th>15</th>\n",
       "      <td>and</td>\n",
       "      <td>0.020096</td>\n",
       "    </tr>\n",
       "    <tr>\n",
       "      <th>14</th>\n",
       "      <td>##s</td>\n",
       "      <td>0.020096</td>\n",
       "    </tr>\n",
       "  </tbody>\n",
       "</table>\n",
       "</div>"
      ],
      "text/plain": [
       "   orig_tokens  orig_values\n",
       "3   absorbing      0.034524\n",
       "4        film      0.034524\n",
       "5        that      0.034524\n",
       "6     manages      0.034524\n",
       "7          to      0.034524\n",
       "8      convey      0.034524\n",
       "9        more      0.034524\n",
       "10  substance      0.034524\n",
       "15        and      0.020096\n",
       "14        ##s      0.020096"
      ]
     },
     "execution_count": 89,
     "metadata": {},
     "output_type": "execute_result"
    }
   ],
   "source": [
    "pd.DataFrame(\n",
    "    {\n",
    "        'orig_tokens': df.loc[2]['shap_strip_punct_tokens'],\n",
    "        'orig_values': df.loc[2]['shap_strip_punct_values']\n",
    "    }\n",
    ").sort_values('orig_values', ascending=False).head(10)"
   ]
  },
  {
   "cell_type": "code",
   "execution_count": null,
   "id": "817273fb",
   "metadata": {},
   "outputs": [],
   "source": []
  },
  {
   "cell_type": "code",
   "execution_count": null,
   "id": "862962bd",
   "metadata": {},
   "outputs": [],
   "source": []
  },
  {
   "cell_type": "code",
   "execution_count": null,
   "id": "452d092c",
   "metadata": {},
   "outputs": [],
   "source": []
  },
  {
   "cell_type": "code",
   "execution_count": null,
   "id": "8a410eaf",
   "metadata": {},
   "outputs": [],
   "source": []
  },
  {
   "cell_type": "code",
   "execution_count": null,
   "id": "2b0a9966",
   "metadata": {},
   "outputs": [],
   "source": []
  },
  {
   "cell_type": "markdown",
   "id": "3eae6f17",
   "metadata": {},
   "source": [
    "Olivier/David code:"
   ]
  },
  {
   "cell_type": "code",
   "execution_count": 52,
   "id": "4b1d2fd7",
   "metadata": {},
   "outputs": [
    {
     "ename": "TypeError",
     "evalue": "'NoneType' object is not subscriptable",
     "output_type": "error",
     "traceback": [
      "\u001b[0;31m---------------------------------------------------------------------------\u001b[0m",
      "\u001b[0;31mTypeError\u001b[0m                                 Traceback (most recent call last)",
      "\u001b[0;32m<ipython-input-52-992c69255494>\u001b[0m in \u001b[0;36m<module>\u001b[0;34m\u001b[0m\n\u001b[1;32m     16\u001b[0m     \u001b[0msentence\u001b[0m\u001b[0;34m[\u001b[0m\u001b[0;34m'orig'\u001b[0m\u001b[0;34m]\u001b[0m \u001b[0;34m=\u001b[0m \u001b[0mdf\u001b[0m\u001b[0;34m.\u001b[0m\u001b[0miloc\u001b[0m\u001b[0;34m[\u001b[0m\u001b[0mr\u001b[0m\u001b[0;34m,\u001b[0m \u001b[0morig_col_index\u001b[0m\u001b[0;34m]\u001b[0m\u001b[0;34m\u001b[0m\u001b[0;34m\u001b[0m\u001b[0m\n\u001b[1;32m     17\u001b[0m     \u001b[0mtokens\u001b[0m\u001b[0;34m[\u001b[0m\u001b[0;34m'orig'\u001b[0m\u001b[0;34m]\u001b[0m \u001b[0;34m=\u001b[0m \u001b[0mdf\u001b[0m\u001b[0;34m.\u001b[0m\u001b[0miloc\u001b[0m\u001b[0;34m[\u001b[0m\u001b[0mr\u001b[0m\u001b[0;34m,\u001b[0m\u001b[0mtokens_col_index\u001b[0m\u001b[0;34m]\u001b[0m\u001b[0;34m\u001b[0m\u001b[0;34m\u001b[0m\u001b[0m\n\u001b[0;32m---> 18\u001b[0;31m     \u001b[0mscores\u001b[0m\u001b[0;34m[\u001b[0m\u001b[0;34m'orig'\u001b[0m\u001b[0;34m]\u001b[0m \u001b[0;34m=\u001b[0m \u001b[0mnp\u001b[0m\u001b[0;34m.\u001b[0m\u001b[0marray\u001b[0m\u001b[0;34m(\u001b[0m\u001b[0mexplainer\u001b[0m\u001b[0;34m.\u001b[0m\u001b[0mexplain_instance\u001b[0m\u001b[0;34m(\u001b[0m\u001b[0msentence\u001b[0m\u001b[0;34m[\u001b[0m\u001b[0;34m'orig'\u001b[0m\u001b[0;34m]\u001b[0m\u001b[0;34m)\u001b[0m\u001b[0;34m[\u001b[0m\u001b[0;36m0\u001b[0m\u001b[0;34m]\u001b[0m\u001b[0;34m)\u001b[0m\u001b[0;34m\u001b[0m\u001b[0;34m\u001b[0m\u001b[0m\n\u001b[0m\u001b[1;32m     19\u001b[0m     \u001b[0mprediction\u001b[0m\u001b[0;34m[\u001b[0m\u001b[0;34m'orig'\u001b[0m\u001b[0;34m]\u001b[0m \u001b[0;34m=\u001b[0m \u001b[0mexplainer\u001b[0m\u001b[0;34m.\u001b[0m\u001b[0mexplain_instance\u001b[0m\u001b[0;34m(\u001b[0m\u001b[0msentence\u001b[0m\u001b[0;34m[\u001b[0m\u001b[0;34m'orig'\u001b[0m\u001b[0;34m]\u001b[0m\u001b[0;34m)\u001b[0m\u001b[0;34m[\u001b[0m\u001b[0;36m1\u001b[0m\u001b[0;34m]\u001b[0m\u001b[0;34m\u001b[0m\u001b[0;34m\u001b[0m\u001b[0m\n\u001b[1;32m     20\u001b[0m \u001b[0;34m\u001b[0m\u001b[0m\n",
      "\u001b[0;31mTypeError\u001b[0m: 'NoneType' object is not subscriptable"
     ]
    }
   ],
   "source": [
    "# to count the number of times every perturbation leads to a significant change in interpretation\n",
    "count = {}\n",
    "for perturbation in perturbation_list:\n",
    "    count[perturbation] = 0\n",
    "\n",
    "for r in [5]:\n",
    "#for r in range(rows_to_review):\n",
    "    sentence = {}\n",
    "    tokens = {}\n",
    "    success = {}\n",
    "    pert_indices = {}\n",
    "    scores = {}\n",
    "    prediction = {}\n",
    "    comparison = {}\n",
    "\n",
    "    sentence['orig'] = df.iloc[r, orig_col_index]\n",
    "    tokens['orig'] = df.iloc[r,tokens_col_index]\n",
    "    scores['orig'] = np.array(explainer.explain_instance(sentence['orig'])[0])\n",
    "    prediction['orig'] = explainer.explain_instance(sentence['orig'])[1]\n",
    "    \n",
    "    # creating dict for easier reference\n",
    "    for perturbation in perturbation_list:\n",
    "        col_index = df.columns.get_loc(perturbation + '_concat')\n",
    "        sentence[perturbation] = df.iloc[r, col_index]\n",
    "        col_index = df.columns.get_loc(perturbation + '_tokens')\n",
    "        tokens[perturbation] = df.iloc[r, col_index]\n",
    "        col_index = df.columns.get_loc(perturbation + '_success')\n",
    "        success[perturbation] = df.iloc[r, col_index]\n",
    "        col_index = df.columns.get_loc(perturbation + '_pert_ind')\n",
    "        pert_indices[perturbation] = df.iloc[r, col_index]\n",
    "        if success[perturbation] != 0:\n",
    "            scores[perturbation] = np.array(explainer.explain_instance(sentence[perturbation])[0])\n",
    "            prediction[perturbation] = explainer.explain_instance(sentence[perturbation])[1]\n",
    "        \n",
    "    for perturbation in perturbation_list:\n",
    "        # interpretations should only be compared if a sentence has been modified\n",
    "        if success[perturbation] == 0:\n",
    "            comparison[perturbation] = None\n",
    "            continue\n",
    "        # interpretations should not be compared if prediction has changed\n",
    "        elif prediction[perturbation] != prediction['orig']:\n",
    "            comparison[perturbation] = None\n",
    "            continue\n",
    "        else:\n",
    "            # variable to track whether an important token has been changed \n",
    "            change_flag = 0\n",
    "            for i in pert_indices[perturbation]:\n",
    "            # if gradient greater than 0.05, token can be considered as important\n",
    "                if scores['orig'][i] > 0.05:\n",
    "                    change_flag += 1\n",
    "            # interpretations should not be compared if an important token has been changed\n",
    "            if change_flag > 0:   \n",
    "                comparison[perturbation] = None\n",
    "                continue\n",
    "            else:\n",
    "                \n",
    "                if perturbation in perturbation_reduction: # perturbation category 1\n",
    "                    # remove empty tokens from tokenised version of perturbed sentence\n",
    "                    tokens[perturbation] = [tokens[perturbation][i] for i in range(len(tokens[perturbation])) \n",
    "                               if not i in pert_indices[perturbation]]\n",
    "                    # remove scores of tokens that have been deleted as a result of the perturbation\n",
    "                    orig_score_reduced = np.array([scores['orig'][i] for i in range(len(scores['orig'])) \n",
    "                                   if not i in pert_indices[perturbation]])\n",
    "                    # normalise gradient\n",
    "                    orig_score_reduced = orig_score_reduced/np.sum(orig_score_reduced)\n",
    "                    orig_score_for_comparison = orig_score_reduced\n",
    "                elif perturbation == 'swap_adj': # perturbation category 2\n",
    "                    orig_score_swapped = deepcopy(scores['orig'])\n",
    "                    for i in range(len(pert_indices[perturbation][::2])):\n",
    "                        index_adj_1 = pert_indices[perturbation][i]\n",
    "                        index_adj_2 = pert_indices[perturbation][i+1]\n",
    "                        score_adj_1 = scores['orig'][index_adj_1]\n",
    "                        score_adj_2 = scores['orig'][index_adj_2]\n",
    "                        orig_score_swapped[index_adj_1] = score_adj_2\n",
    "                        orig_score_swapped[index_adj_2] = score_adj_1\n",
    "                    orig_score_for_comparison = orig_score_swapped\n",
    "                else: # remaining perturbations\n",
    "                    orig_score_for_comparison = scores['orig']\n",
    "                \n",
    "                if len(orig_score_for_comparison) != len(scores[perturbation]):\n",
    "                    print('length not matching after perturbation')\n",
    "                    comparison[perturbation] = None\n",
    "                else:\n",
    "                    comparison[perturbation] = spearmanr(orig_score_for_comparison, scores[perturbation])[0]\n",
    "                    \n",
    "                    #print(tokens['orig'])\n",
    "                    #print(tokens[perturbation])\n",
    "                    #print(['{:.3f}'.format(x) for x in scores['orig']])\n",
    "                    #print(['{:.3f}'.format(x) for x in scores[perturbation]])\n",
    "                    \n",
    "                    if comparison[perturbation] < 0.8:\n",
    "                        \n",
    "                        count[perturbation] += 1\n",
    "                        visualise_weights(tokens['orig'], scores['orig'])\n",
    "                        visualise_weights(tokens[perturbation], scores[perturbation])\n",
    "\n",
    "                        \n",
    "    for p in range(len(perturbation_list)):\n",
    "        perturbation = perturbation_list[p]\n",
    "        results_matrix[r,p] = comparison[perturbation]"
   ]
  }
 ],
 "metadata": {
  "kernelspec": {
   "display_name": "Python 3",
   "language": "python",
   "name": "python3"
  },
  "language_info": {
   "codemirror_mode": {
    "name": "ipython",
    "version": 3
   },
   "file_extension": ".py",
   "mimetype": "text/x-python",
   "name": "python",
   "nbconvert_exporter": "python",
   "pygments_lexer": "ipython3",
   "version": "3.7.10"
  }
 },
 "nbformat": 4,
 "nbformat_minor": 5
}
