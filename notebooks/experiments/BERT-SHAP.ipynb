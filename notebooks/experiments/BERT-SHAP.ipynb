{
  "nbformat": 4,
  "nbformat_minor": 5,
  "metadata": {
    "kernelspec": {
      "display_name": "Python 3",
      "language": "python",
      "name": "python3"
    },
    "language_info": {
      "codemirror_mode": {
        "name": "ipython",
        "version": 3
      },
      "file_extension": ".py",
      "mimetype": "text/x-python",
      "name": "python",
      "nbconvert_exporter": "python",
      "pygments_lexer": "ipython3",
      "version": "3.7.10"
    },
    "colab": {
      "name": "01-BERT-SHAP.ipynb",
      "provenance": [],
      "collapsed_sections": []
    },
    "accelerator": "GPU"
  },
  "cells": [
    {
      "cell_type": "markdown",
      "metadata": {
        "id": "23e8e53c"
      },
      "source": [
        "# BERT SHAP"
      ],
      "id": "23e8e53c"
    },
    {
      "cell_type": "code",
      "metadata": {
        "id": "wIoMhj7JnGib"
      },
      "source": [
        "! pip install pandas==1.2.3\n",
        "! pip install numpy==1.20.2\n",
        "! pip install jupyterlab==3.0.12\n",
        "! pip install matplotlib==3.4.1\n",
        "! pip install seaborn==0.11.1\n",
        "! pip install lime==0.2.0.1\n",
        "! pip install shap==0.39.0\n",
        "! pip install torch==1.7.1\n",
        "! pip install datasets==1.5.0\n",
        "! pip install transformers==4.3.3\n",
        "! pip install ipywidgets==7.6.3\n",
        "! pip install tqdm==4.49.0\n",
        "! pip install checklist==0.0.10\n",
        "! pip install allennlp==2.1.0\n",
        "! pip install allennlp-models==2.1.0\n",
        "! pip install typing==3.7.4.3\n",
        "! pip install pytreebank==0.2.7\n",
        "! pip install spacy==3.0.5"
      ],
      "id": "wIoMhj7JnGib",
      "execution_count": null,
      "outputs": []
    },
    {
      "cell_type": "code",
      "metadata": {
        "id": "c3ccb821"
      },
      "source": [
        "import os\n",
        "import sys\n",
        "import pickle\n",
        "\n",
        "import pandas as pd\n",
        "import numpy as np\n",
        "import matplotlib.pyplot as plt\n",
        "import seaborn as sns\n",
        "import torch\n",
        "import shap\n",
        "from scipy.stats import spearmanr"
      ],
      "id": "c3ccb821",
      "execution_count": 34,
      "outputs": []
    },
    {
      "cell_type": "code",
      "metadata": {
        "colab": {
          "base_uri": "https://localhost:8080/"
        },
        "id": "iCYIso5xoy-j",
        "outputId": "02aedb36-e463-435c-c96b-7404290a3cdd"
      },
      "source": [
        "from google.colab import drive\n",
        "drive.mount('/content/drive')"
      ],
      "id": "iCYIso5xoy-j",
      "execution_count": 2,
      "outputs": [
        {
          "output_type": "stream",
          "text": [
            "Drive already mounted at /content/drive; to attempt to forcibly remount, call drive.mount(\"/content/drive\", force_remount=True).\n"
          ],
          "name": "stdout"
        }
      ]
    },
    {
      "cell_type": "code",
      "metadata": {
        "id": "0z1UGUcbpCq-"
      },
      "source": [
        "os.chdir('drive/My Drive/Colab Notebooks/Github/ucl-nlp-group-project')"
      ],
      "id": "0z1UGUcbpCq-",
      "execution_count": 3,
      "outputs": []
    },
    {
      "cell_type": "code",
      "metadata": {
        "id": "2b27576a"
      },
      "source": [
        "# project_root_dir = os.path.relpath(os.path.join('..', '..'), os.curdir)\n",
        "# if project_root_dir not in sys.path:\n",
        "#     sys.path += [project_root_dir]"
      ],
      "id": "2b27576a",
      "execution_count": 4,
      "outputs": []
    },
    {
      "cell_type": "code",
      "metadata": {
        "id": "tvkOvdYLph3q"
      },
      "source": [
        "! python -m spacy download en_core_web_sm"
      ],
      "id": "tvkOvdYLph3q",
      "execution_count": null,
      "outputs": []
    },
    {
      "cell_type": "code",
      "metadata": {
        "id": "7cf7d848"
      },
      "source": [
        "from src.data.dataload import \\\n",
        "    load_sst, \\\n",
        "    load_agnews\n",
        "from src.data.perturbations import \\\n",
        "    remove_commas, \\\n",
        "    remove_all_punctuation, \\\n",
        "    switch_gender, \\\n",
        "    strip_trailing_punct, \\\n",
        "    add_typo, \\\n",
        "    change_first_name, \\\n",
        "    change_last_name, \\\n",
        "    change_location, \\\n",
        "    contraction, \\\n",
        "    swap_adjectives, \\\n",
        "    add_perturbations\n",
        "from src.models.bertmodel import BertModel\n",
        "from src.explainers.explainers import SHAPExplainer"
      ],
      "id": "7cf7d848",
      "execution_count": 6,
      "outputs": []
    },
    {
      "cell_type": "code",
      "metadata": {
        "colab": {
          "base_uri": "https://localhost:8080/"
        },
        "id": "d8604605",
        "outputId": "6694aba4-f087-4a3b-af6b-1f423adf99ce"
      },
      "source": [
        "device = torch.device(\"cuda:0\" if torch.cuda.is_available() else \"cpu\")\n",
        "device"
      ],
      "id": "d8604605",
      "execution_count": 7,
      "outputs": [
        {
          "output_type": "execute_result",
          "data": {
            "text/plain": [
              "device(type='cuda', index=0)"
            ]
          },
          "metadata": {
            "tags": []
          },
          "execution_count": 7
        }
      ]
    },
    {
      "cell_type": "markdown",
      "metadata": {
        "id": "f04899b5"
      },
      "source": [
        "## Load datasets"
      ],
      "id": "f04899b5"
    },
    {
      "cell_type": "code",
      "metadata": {
        "colab": {
          "base_uri": "https://localhost:8080/"
        },
        "id": "ba8c29c0",
        "outputId": "ad5c345e-3cf4-4997-b896-47a23df1e21a"
      },
      "source": [
        "sst = load_sst()\n",
        "agnews = load_agnews()\n",
        "\n",
        "input_data = {\n",
        "    'sst': sst, \n",
        "    'agnews': agnews\n",
        "}\n",
        "\n",
        "train = {}\n",
        "dev = {}\n",
        "test = {}\n",
        "\n",
        "for dataset in input_data.keys():\n",
        "    train[dataset], dev[dataset], test[dataset] = input_data[dataset].train_val_test"
      ],
      "id": "ba8c29c0",
      "execution_count": 8,
      "outputs": [
        {
          "output_type": "stream",
          "text": [
            "Using custom data configuration default\n",
            "Reusing dataset ag_news (/root/.cache/huggingface/datasets/ag_news/default/0.0.0/17ec33e23df9e89565131f989e0fdf78b0cc4672337b582da83fc3c9f79fe34d)\n"
          ],
          "name": "stderr"
        }
      ]
    },
    {
      "cell_type": "code",
      "metadata": {
        "colab": {
          "base_uri": "https://localhost:8080/",
          "height": 204
        },
        "id": "17110635",
        "outputId": "bfa3c820-521d-4aba-ac15-e05611f1afff"
      },
      "source": [
        "train['sst'].head()"
      ],
      "id": "17110635",
      "execution_count": 9,
      "outputs": [
        {
          "output_type": "execute_result",
          "data": {
            "text/html": [
              "<div>\n",
              "<style scoped>\n",
              "    .dataframe tbody tr th:only-of-type {\n",
              "        vertical-align: middle;\n",
              "    }\n",
              "\n",
              "    .dataframe tbody tr th {\n",
              "        vertical-align: top;\n",
              "    }\n",
              "\n",
              "    .dataframe thead th {\n",
              "        text-align: right;\n",
              "    }\n",
              "</style>\n",
              "<table border=\"1\" class=\"dataframe\">\n",
              "  <thead>\n",
              "    <tr style=\"text-align: right;\">\n",
              "      <th></th>\n",
              "      <th>sentence</th>\n",
              "      <th>label</th>\n",
              "    </tr>\n",
              "  </thead>\n",
              "  <tbody>\n",
              "    <tr>\n",
              "      <th>0</th>\n",
              "      <td>The Rock is destined to be the 21st Century 's...</td>\n",
              "      <td>3</td>\n",
              "    </tr>\n",
              "    <tr>\n",
              "      <th>1</th>\n",
              "      <td>The gorgeously elaborate continuation of `` Th...</td>\n",
              "      <td>4</td>\n",
              "    </tr>\n",
              "    <tr>\n",
              "      <th>2</th>\n",
              "      <td>Singer/composer Bryan Adams contributes a slew...</td>\n",
              "      <td>3</td>\n",
              "    </tr>\n",
              "    <tr>\n",
              "      <th>3</th>\n",
              "      <td>You 'd think by now America would have had eno...</td>\n",
              "      <td>2</td>\n",
              "    </tr>\n",
              "    <tr>\n",
              "      <th>4</th>\n",
              "      <td>Yet the act is still charming here .</td>\n",
              "      <td>3</td>\n",
              "    </tr>\n",
              "  </tbody>\n",
              "</table>\n",
              "</div>"
            ],
            "text/plain": [
              "                                            sentence  label\n",
              "0  The Rock is destined to be the 21st Century 's...      3\n",
              "1  The gorgeously elaborate continuation of `` Th...      4\n",
              "2  Singer/composer Bryan Adams contributes a slew...      3\n",
              "3  You 'd think by now America would have had eno...      2\n",
              "4               Yet the act is still charming here .      3"
            ]
          },
          "metadata": {
            "tags": []
          },
          "execution_count": 9
        }
      ]
    },
    {
      "cell_type": "code",
      "metadata": {
        "colab": {
          "base_uri": "https://localhost:8080/"
        },
        "id": "22a2a2d7",
        "outputId": "760c77f7-58c8-4927-c9ad-b4edec6c0ed7"
      },
      "source": [
        "print(train['sst'].shape, dev['sst'].shape, test['sst'].shape)"
      ],
      "id": "22a2a2d7",
      "execution_count": 10,
      "outputs": [
        {
          "output_type": "stream",
          "text": [
            "(8544, 2) (1101, 2) (2210, 2)\n"
          ],
          "name": "stdout"
        }
      ]
    },
    {
      "cell_type": "code",
      "metadata": {
        "colab": {
          "base_uri": "https://localhost:8080/",
          "height": 204
        },
        "id": "1624dda2",
        "outputId": "80149143-746e-4635-a3a7-fa8d68524f10"
      },
      "source": [
        "train['agnews'].head()"
      ],
      "id": "1624dda2",
      "execution_count": 11,
      "outputs": [
        {
          "output_type": "execute_result",
          "data": {
            "text/html": [
              "<div>\n",
              "<style scoped>\n",
              "    .dataframe tbody tr th:only-of-type {\n",
              "        vertical-align: middle;\n",
              "    }\n",
              "\n",
              "    .dataframe tbody tr th {\n",
              "        vertical-align: top;\n",
              "    }\n",
              "\n",
              "    .dataframe thead th {\n",
              "        text-align: right;\n",
              "    }\n",
              "</style>\n",
              "<table border=\"1\" class=\"dataframe\">\n",
              "  <thead>\n",
              "    <tr style=\"text-align: right;\">\n",
              "      <th></th>\n",
              "      <th>sentence</th>\n",
              "      <th>label</th>\n",
              "      <th>title</th>\n",
              "    </tr>\n",
              "  </thead>\n",
              "  <tbody>\n",
              "    <tr>\n",
              "      <th>0</th>\n",
              "      <td>Reuters - Short-sellers, Wall Street's dwindli...</td>\n",
              "      <td>2</td>\n",
              "      <td>Wall St. Bears Claw Back Into the Black (Reuters)</td>\n",
              "    </tr>\n",
              "    <tr>\n",
              "      <th>1</th>\n",
              "      <td>Reuters - Private investment firm Carlyle Grou...</td>\n",
              "      <td>2</td>\n",
              "      <td>Carlyle Looks Toward Commercial Aerospace (Reu...</td>\n",
              "    </tr>\n",
              "    <tr>\n",
              "      <th>2</th>\n",
              "      <td>Reuters - Soaring crude prices plus worriesabo...</td>\n",
              "      <td>2</td>\n",
              "      <td>Oil and Economy Cloud Stocks' Outlook (Reuters)</td>\n",
              "    </tr>\n",
              "    <tr>\n",
              "      <th>3</th>\n",
              "      <td>Reuters - Authorities have halted oil exportfl...</td>\n",
              "      <td>2</td>\n",
              "      <td>Iraq Halts Oil Exports from Main Southern Pipe...</td>\n",
              "    </tr>\n",
              "    <tr>\n",
              "      <th>4</th>\n",
              "      <td>AFP - Tearaway world oil prices, toppling reco...</td>\n",
              "      <td>2</td>\n",
              "      <td>Oil prices soar to all-time record, posing new...</td>\n",
              "    </tr>\n",
              "  </tbody>\n",
              "</table>\n",
              "</div>"
            ],
            "text/plain": [
              "                                            sentence  ...                                              title\n",
              "0  Reuters - Short-sellers, Wall Street's dwindli...  ...  Wall St. Bears Claw Back Into the Black (Reuters)\n",
              "1  Reuters - Private investment firm Carlyle Grou...  ...  Carlyle Looks Toward Commercial Aerospace (Reu...\n",
              "2  Reuters - Soaring crude prices plus worriesabo...  ...    Oil and Economy Cloud Stocks' Outlook (Reuters)\n",
              "3  Reuters - Authorities have halted oil exportfl...  ...  Iraq Halts Oil Exports from Main Southern Pipe...\n",
              "4  AFP - Tearaway world oil prices, toppling reco...  ...  Oil prices soar to all-time record, posing new...\n",
              "\n",
              "[5 rows x 3 columns]"
            ]
          },
          "metadata": {
            "tags": []
          },
          "execution_count": 11
        }
      ]
    },
    {
      "cell_type": "code",
      "metadata": {
        "colab": {
          "base_uri": "https://localhost:8080/"
        },
        "id": "f54ef5dd",
        "outputId": "39991b2e-a19c-407a-a4b9-c1b29c98e36d"
      },
      "source": [
        "print(train['agnews'].shape, dev['agnews'].shape, test['agnews'].shape)"
      ],
      "id": "f54ef5dd",
      "execution_count": 12,
      "outputs": [
        {
          "output_type": "stream",
          "text": [
            "(108000, 3) (12000, 3) (7600, 3)\n"
          ],
          "name": "stdout"
        }
      ]
    },
    {
      "cell_type": "markdown",
      "metadata": {
        "id": "2b7bfa53"
      },
      "source": [
        "## Load models"
      ],
      "id": "2b7bfa53"
    },
    {
      "cell_type": "markdown",
      "metadata": {
        "id": "b5ecfab3"
      },
      "source": [
        "SST"
      ],
      "id": "b5ecfab3"
    },
    {
      "cell_type": "code",
      "metadata": {
        "id": "3b3bef94"
      },
      "source": [
        "bert_sst = BertModel(device=device)\n",
        "bert_sst.load_model(sst)"
      ],
      "id": "3b3bef94",
      "execution_count": 13,
      "outputs": []
    },
    {
      "cell_type": "code",
      "metadata": {
        "id": "d07e3385",
        "colab": {
          "base_uri": "https://localhost:8080/",
          "height": 221
        },
        "outputId": "dad7f2bc-ee70-48a1-8569-4ac1142aa29e"
      },
      "source": [
        "print(f'Individual prediction for {sst.NAME}')\n",
        "bert_sst.predict(test['sst'].sentence[0])"
      ],
      "id": "d07e3385",
      "execution_count": 14,
      "outputs": [
        {
          "output_type": "stream",
          "text": [
            "Individual prediction for sst\n"
          ],
          "name": "stdout"
        },
        {
          "output_type": "execute_result",
          "data": {
            "text/html": [
              "<div>\n",
              "<style scoped>\n",
              "    .dataframe tbody tr th:only-of-type {\n",
              "        vertical-align: middle;\n",
              "    }\n",
              "\n",
              "    .dataframe tbody tr th {\n",
              "        vertical-align: top;\n",
              "    }\n",
              "\n",
              "    .dataframe thead th {\n",
              "        text-align: right;\n",
              "    }\n",
              "</style>\n",
              "<table border=\"1\" class=\"dataframe\">\n",
              "  <thead>\n",
              "    <tr style=\"text-align: right;\">\n",
              "      <th></th>\n",
              "      <th>logits</th>\n",
              "      <th>class_probabilities</th>\n",
              "      <th>label</th>\n",
              "    </tr>\n",
              "  </thead>\n",
              "  <tbody>\n",
              "    <tr>\n",
              "      <th>0</th>\n",
              "      <td>-0.986764</td>\n",
              "      <td>0.040054</td>\n",
              "      <td>2</td>\n",
              "    </tr>\n",
              "    <tr>\n",
              "      <th>1</th>\n",
              "      <td>1.235412</td>\n",
              "      <td>0.369594</td>\n",
              "      <td>2</td>\n",
              "    </tr>\n",
              "    <tr>\n",
              "      <th>2</th>\n",
              "      <td>1.532937</td>\n",
              "      <td>0.497667</td>\n",
              "      <td>2</td>\n",
              "    </tr>\n",
              "    <tr>\n",
              "      <th>3</th>\n",
              "      <td>-0.238388</td>\n",
              "      <td>0.084657</td>\n",
              "      <td>2</td>\n",
              "    </tr>\n",
              "    <tr>\n",
              "      <th>4</th>\n",
              "      <td>-2.594063</td>\n",
              "      <td>0.008028</td>\n",
              "      <td>2</td>\n",
              "    </tr>\n",
              "  </tbody>\n",
              "</table>\n",
              "</div>"
            ],
            "text/plain": [
              "     logits  class_probabilities  label\n",
              "0 -0.986764             0.040054      2\n",
              "1  1.235412             0.369594      2\n",
              "2  1.532937             0.497667      2\n",
              "3 -0.238388             0.084657      2\n",
              "4 -2.594063             0.008028      2"
            ]
          },
          "metadata": {
            "tags": []
          },
          "execution_count": 14
        }
      ]
    },
    {
      "cell_type": "code",
      "metadata": {
        "id": "718439b3",
        "colab": {
          "base_uri": "https://localhost:8080/",
          "height": 436
        },
        "outputId": "d09f168c-3d0a-4758-867d-89584b4aa539"
      },
      "source": [
        "print(f'Batch prediction for {sst.NAME}')\n",
        "bert_sst.predict_batch_df(test['sst'].head(100), input_col=sst.SENTENCE)"
      ],
      "id": "718439b3",
      "execution_count": 15,
      "outputs": [
        {
          "output_type": "stream",
          "text": [
            "Batch prediction for sst\n"
          ],
          "name": "stdout"
        },
        {
          "output_type": "execute_result",
          "data": {
            "text/html": [
              "<div>\n",
              "<style scoped>\n",
              "    .dataframe tbody tr th:only-of-type {\n",
              "        vertical-align: middle;\n",
              "    }\n",
              "\n",
              "    .dataframe tbody tr th {\n",
              "        vertical-align: top;\n",
              "    }\n",
              "\n",
              "    .dataframe thead th {\n",
              "        text-align: right;\n",
              "    }\n",
              "</style>\n",
              "<table border=\"1\" class=\"dataframe\">\n",
              "  <thead>\n",
              "    <tr style=\"text-align: right;\">\n",
              "      <th></th>\n",
              "      <th>logits</th>\n",
              "      <th>class_probabilities</th>\n",
              "      <th>label</th>\n",
              "    </tr>\n",
              "  </thead>\n",
              "  <tbody>\n",
              "    <tr>\n",
              "      <th>0</th>\n",
              "      <td>[-0.986763596534729, 1.2354124784469604, 1.532...</td>\n",
              "      <td>[0.04005406051874161, 0.3695943355560303, 0.49...</td>\n",
              "      <td>2</td>\n",
              "    </tr>\n",
              "    <tr>\n",
              "      <th>1</th>\n",
              "      <td>[-1.7541742324829102, -0.8248226642608643, 0.3...</td>\n",
              "      <td>[0.02760814130306244, 0.06992775201797485, 0.2...</td>\n",
              "      <td>3</td>\n",
              "    </tr>\n",
              "    <tr>\n",
              "      <th>2</th>\n",
              "      <td>[-2.8735032081604004, -1.982176661491394, -0.0...</td>\n",
              "      <td>[0.0026741919573396444, 0.006520647555589676, ...</td>\n",
              "      <td>3</td>\n",
              "    </tr>\n",
              "    <tr>\n",
              "      <th>3</th>\n",
              "      <td>[-2.72558331489563, -1.7797043323516846, 0.189...</td>\n",
              "      <td>[0.00502944178879261, 0.012951194308698177, 0....</td>\n",
              "      <td>3</td>\n",
              "    </tr>\n",
              "    <tr>\n",
              "      <th>4</th>\n",
              "      <td>[-2.492720365524292, -2.249992847442627, -0.62...</td>\n",
              "      <td>[0.0027276272885501385, 0.003476965008303523, ...</td>\n",
              "      <td>4</td>\n",
              "    </tr>\n",
              "    <tr>\n",
              "      <th>...</th>\n",
              "      <td>...</td>\n",
              "      <td>...</td>\n",
              "      <td>...</td>\n",
              "    </tr>\n",
              "    <tr>\n",
              "      <th>95</th>\n",
              "      <td>[-2.124051809310913, -0.6128088235855103, 0.46...</td>\n",
              "      <td>[0.019058115780353546, 0.08637826889753342, 0....</td>\n",
              "      <td>3</td>\n",
              "    </tr>\n",
              "    <tr>\n",
              "      <th>96</th>\n",
              "      <td>[-0.28996706008911133, 1.4170410633087158, 1.3...</td>\n",
              "      <td>[0.0792505294084549, 0.4368641674518585, 0.426...</td>\n",
              "      <td>1</td>\n",
              "    </tr>\n",
              "    <tr>\n",
              "      <th>97</th>\n",
              "      <td>[-2.7277023792266846, -2.3031375408172607, -0....</td>\n",
              "      <td>[0.002590600633993745, 0.003960836213082075, 0...</td>\n",
              "      <td>3</td>\n",
              "    </tr>\n",
              "    <tr>\n",
              "      <th>98</th>\n",
              "      <td>[-2.707550048828125, -1.587195634841919, 0.298...</td>\n",
              "      <td>[0.004645983222872019, 0.014244308695197105, 0...</td>\n",
              "      <td>3</td>\n",
              "    </tr>\n",
              "    <tr>\n",
              "      <th>99</th>\n",
              "      <td>[-2.750370979309082, -2.013284683227539, -0.08...</td>\n",
              "      <td>[0.003396157640963793, 0.007097417954355478, 0...</td>\n",
              "      <td>3</td>\n",
              "    </tr>\n",
              "  </tbody>\n",
              "</table>\n",
              "<p>100 rows × 3 columns</p>\n",
              "</div>"
            ],
            "text/plain": [
              "                                               logits  ... label\n",
              "0   [-0.986763596534729, 1.2354124784469604, 1.532...  ...     2\n",
              "1   [-1.7541742324829102, -0.8248226642608643, 0.3...  ...     3\n",
              "2   [-2.8735032081604004, -1.982176661491394, -0.0...  ...     3\n",
              "3   [-2.72558331489563, -1.7797043323516846, 0.189...  ...     3\n",
              "4   [-2.492720365524292, -2.249992847442627, -0.62...  ...     4\n",
              "..                                                ...  ...   ...\n",
              "95  [-2.124051809310913, -0.6128088235855103, 0.46...  ...     3\n",
              "96  [-0.28996706008911133, 1.4170410633087158, 1.3...  ...     1\n",
              "97  [-2.7277023792266846, -2.3031375408172607, -0....  ...     3\n",
              "98  [-2.707550048828125, -1.587195634841919, 0.298...  ...     3\n",
              "99  [-2.750370979309082, -2.013284683227539, -0.08...  ...     3\n",
              "\n",
              "[100 rows x 3 columns]"
            ]
          },
          "metadata": {
            "tags": []
          },
          "execution_count": 15
        }
      ]
    },
    {
      "cell_type": "markdown",
      "metadata": {
        "id": "bc2c03d2"
      },
      "source": [
        "AG News"
      ],
      "id": "bc2c03d2"
    },
    {
      "cell_type": "code",
      "metadata": {
        "id": "cd7d16e5"
      },
      "source": [
        "bert_agnews = BertModel(device=device)\n",
        "bert_agnews.load_model(agnews)"
      ],
      "id": "cd7d16e5",
      "execution_count": 16,
      "outputs": []
    },
    {
      "cell_type": "code",
      "metadata": {
        "id": "9d92ae62",
        "colab": {
          "base_uri": "https://localhost:8080/",
          "height": 190
        },
        "outputId": "816fe130-bb67-422b-9e14-2f7be146f1e2"
      },
      "source": [
        "print(f'Individual prediction for {agnews.NAME}')\n",
        "bert_agnews.predict(test['agnews'].sentence[0])"
      ],
      "id": "9d92ae62",
      "execution_count": 17,
      "outputs": [
        {
          "output_type": "stream",
          "text": [
            "Individual prediction for agnews\n"
          ],
          "name": "stdout"
        },
        {
          "output_type": "execute_result",
          "data": {
            "text/html": [
              "<div>\n",
              "<style scoped>\n",
              "    .dataframe tbody tr th:only-of-type {\n",
              "        vertical-align: middle;\n",
              "    }\n",
              "\n",
              "    .dataframe tbody tr th {\n",
              "        vertical-align: top;\n",
              "    }\n",
              "\n",
              "    .dataframe thead th {\n",
              "        text-align: right;\n",
              "    }\n",
              "</style>\n",
              "<table border=\"1\" class=\"dataframe\">\n",
              "  <thead>\n",
              "    <tr style=\"text-align: right;\">\n",
              "      <th></th>\n",
              "      <th>logits</th>\n",
              "      <th>class_probabilities</th>\n",
              "      <th>label</th>\n",
              "    </tr>\n",
              "  </thead>\n",
              "  <tbody>\n",
              "    <tr>\n",
              "      <th>0</th>\n",
              "      <td>0.042553</td>\n",
              "      <td>0.022081</td>\n",
              "      <td>2</td>\n",
              "    </tr>\n",
              "    <tr>\n",
              "      <th>1</th>\n",
              "      <td>-3.648040</td>\n",
              "      <td>0.000551</td>\n",
              "      <td>2</td>\n",
              "    </tr>\n",
              "    <tr>\n",
              "      <th>2</th>\n",
              "      <td>3.826154</td>\n",
              "      <td>0.971000</td>\n",
              "      <td>2</td>\n",
              "    </tr>\n",
              "    <tr>\n",
              "      <th>3</th>\n",
              "      <td>-1.200886</td>\n",
              "      <td>0.006368</td>\n",
              "      <td>2</td>\n",
              "    </tr>\n",
              "  </tbody>\n",
              "</table>\n",
              "</div>"
            ],
            "text/plain": [
              "     logits  class_probabilities  label\n",
              "0  0.042553             0.022081      2\n",
              "1 -3.648040             0.000551      2\n",
              "2  3.826154             0.971000      2\n",
              "3 -1.200886             0.006368      2"
            ]
          },
          "metadata": {
            "tags": []
          },
          "execution_count": 17
        }
      ]
    },
    {
      "cell_type": "code",
      "metadata": {
        "id": "3eaa2d1f",
        "colab": {
          "base_uri": "https://localhost:8080/",
          "height": 376
        },
        "outputId": "ec5a463d-3cb8-4960-955d-d997c551c230"
      },
      "source": [
        "print(f'Batch prediction for {agnews.NAME}')\n",
        "bert_agnews.predict_batch_df(test['agnews'].head(10), input_col=agnews.SENTENCE)"
      ],
      "id": "3eaa2d1f",
      "execution_count": 18,
      "outputs": [
        {
          "output_type": "stream",
          "text": [
            "Batch prediction for agnews\n"
          ],
          "name": "stdout"
        },
        {
          "output_type": "execute_result",
          "data": {
            "text/html": [
              "<div>\n",
              "<style scoped>\n",
              "    .dataframe tbody tr th:only-of-type {\n",
              "        vertical-align: middle;\n",
              "    }\n",
              "\n",
              "    .dataframe tbody tr th {\n",
              "        vertical-align: top;\n",
              "    }\n",
              "\n",
              "    .dataframe thead th {\n",
              "        text-align: right;\n",
              "    }\n",
              "</style>\n",
              "<table border=\"1\" class=\"dataframe\">\n",
              "  <thead>\n",
              "    <tr style=\"text-align: right;\">\n",
              "      <th></th>\n",
              "      <th>logits</th>\n",
              "      <th>class_probabilities</th>\n",
              "      <th>label</th>\n",
              "    </tr>\n",
              "  </thead>\n",
              "  <tbody>\n",
              "    <tr>\n",
              "      <th>0</th>\n",
              "      <td>[0.042553484439849854, -3.648040771484375, 3.8...</td>\n",
              "      <td>[0.022081194445490837, 0.0005510841147042811, ...</td>\n",
              "      <td>2</td>\n",
              "    </tr>\n",
              "    <tr>\n",
              "      <th>1</th>\n",
              "      <td>[-0.7225910425186157, -2.5803427696228027, -2....</td>\n",
              "      <td>[0.0016198537778109312, 0.00025273457868024707...</td>\n",
              "      <td>3</td>\n",
              "    </tr>\n",
              "    <tr>\n",
              "      <th>2</th>\n",
              "      <td>[-0.43245750665664673, -2.978013515472412, -1....</td>\n",
              "      <td>[0.004643826279789209, 0.00036421261029317975,...</td>\n",
              "      <td>3</td>\n",
              "    </tr>\n",
              "    <tr>\n",
              "      <th>3</th>\n",
              "      <td>[0.26466435194015503, 3.3352932929992676, -3.2...</td>\n",
              "      <td>[0.04081204906105995, 0.8797222375869751, 0.00...</td>\n",
              "      <td>1</td>\n",
              "    </tr>\n",
              "    <tr>\n",
              "      <th>4</th>\n",
              "      <td>[0.4155667722225189, -2.320910692214966, -2.19...</td>\n",
              "      <td>[0.02233503758907318, 0.0014472699258476496, 0...</td>\n",
              "      <td>3</td>\n",
              "    </tr>\n",
              "    <tr>\n",
              "      <th>5</th>\n",
              "      <td>[-2.881136417388916, -2.5347037315368652, -0.9...</td>\n",
              "      <td>[0.00017455800843890756, 0.0002468277234584093...</td>\n",
              "      <td>3</td>\n",
              "    </tr>\n",
              "    <tr>\n",
              "      <th>6</th>\n",
              "      <td>[-2.380444049835205, -2.653226137161255, -1.46...</td>\n",
              "      <td>[0.00021428102627396584, 0.0001631233899388462...</td>\n",
              "      <td>3</td>\n",
              "    </tr>\n",
              "    <tr>\n",
              "      <th>7</th>\n",
              "      <td>[-2.6934218406677246, -2.1670777797698975, -1....</td>\n",
              "      <td>[0.0001593946071807295, 0.0002698125026654452,...</td>\n",
              "      <td>3</td>\n",
              "    </tr>\n",
              "    <tr>\n",
              "      <th>8</th>\n",
              "      <td>[-0.12801243364810944, -3.1953516006469727, -1...</td>\n",
              "      <td>[0.011645970866084099, 0.0005420599482022226, ...</td>\n",
              "      <td>3</td>\n",
              "    </tr>\n",
              "    <tr>\n",
              "      <th>9</th>\n",
              "      <td>[-0.38943910598754883, -4.089916229248047, 0.8...</td>\n",
              "      <td>[0.022109825164079666, 0.0005463719717226923, ...</td>\n",
              "      <td>3</td>\n",
              "    </tr>\n",
              "  </tbody>\n",
              "</table>\n",
              "</div>"
            ],
            "text/plain": [
              "                                              logits  ... label\n",
              "0  [0.042553484439849854, -3.648040771484375, 3.8...  ...     2\n",
              "1  [-0.7225910425186157, -2.5803427696228027, -2....  ...     3\n",
              "2  [-0.43245750665664673, -2.978013515472412, -1....  ...     3\n",
              "3  [0.26466435194015503, 3.3352932929992676, -3.2...  ...     1\n",
              "4  [0.4155667722225189, -2.320910692214966, -2.19...  ...     3\n",
              "5  [-2.881136417388916, -2.5347037315368652, -0.9...  ...     3\n",
              "6  [-2.380444049835205, -2.653226137161255, -1.46...  ...     3\n",
              "7  [-2.6934218406677246, -2.1670777797698975, -1....  ...     3\n",
              "8  [-0.12801243364810944, -3.1953516006469727, -1...  ...     3\n",
              "9  [-0.38943910598754883, -4.089916229248047, 0.8...  ...     3\n",
              "\n",
              "[10 rows x 3 columns]"
            ]
          },
          "metadata": {
            "tags": []
          },
          "execution_count": 18
        }
      ]
    },
    {
      "cell_type": "code",
      "metadata": {
        "id": "30d603fa",
        "colab": {
          "base_uri": "https://localhost:8080/",
          "height": 35
        },
        "outputId": "9e63d1ab-2946-455e-9a60-85b6054c8609"
      },
      "source": [
        "test['agnews'].sentence[0]"
      ],
      "id": "30d603fa",
      "execution_count": 19,
      "outputs": [
        {
          "output_type": "execute_result",
          "data": {
            "application/vnd.google.colaboratory.intrinsic+json": {
              "type": "string"
            },
            "text/plain": [
              "\"Unions representing workers at Turner   Newall say they are 'disappointed' after talks with stricken parent firm Federal Mogul.\""
            ]
          },
          "metadata": {
            "tags": []
          },
          "execution_count": 19
        }
      ]
    },
    {
      "cell_type": "code",
      "metadata": {
        "id": "74e1557a",
        "colab": {
          "base_uri": "https://localhost:8080/"
        },
        "outputId": "a828dcf0-fc74-4750-8025-5c29b122fe7d"
      },
      "source": [
        "bert_agnews.predict_proba(test['agnews'].sentence[0])"
      ],
      "id": "74e1557a",
      "execution_count": 20,
      "outputs": [
        {
          "output_type": "execute_result",
          "data": {
            "text/plain": [
              "0    0.022081\n",
              "1    0.000551\n",
              "2    0.971000\n",
              "3    0.006368\n",
              "Name: class_probabilities, dtype: float64"
            ]
          },
          "metadata": {
            "tags": []
          },
          "execution_count": 20
        }
      ]
    },
    {
      "cell_type": "markdown",
      "metadata": {
        "id": "61cc7641"
      },
      "source": [
        "## SHAP for SST"
      ],
      "id": "61cc7641"
    },
    {
      "cell_type": "code",
      "metadata": {
        "id": "9a7d0019",
        "colab": {
          "base_uri": "https://localhost:8080/",
          "height": 204
        },
        "outputId": "2d4e31ad-4fc9-4fa9-b2fc-3c5f21250b3d"
      },
      "source": [
        "dev['sst'].head()"
      ],
      "id": "9a7d0019",
      "execution_count": 21,
      "outputs": [
        {
          "output_type": "execute_result",
          "data": {
            "text/html": [
              "<div>\n",
              "<style scoped>\n",
              "    .dataframe tbody tr th:only-of-type {\n",
              "        vertical-align: middle;\n",
              "    }\n",
              "\n",
              "    .dataframe tbody tr th {\n",
              "        vertical-align: top;\n",
              "    }\n",
              "\n",
              "    .dataframe thead th {\n",
              "        text-align: right;\n",
              "    }\n",
              "</style>\n",
              "<table border=\"1\" class=\"dataframe\">\n",
              "  <thead>\n",
              "    <tr style=\"text-align: right;\">\n",
              "      <th></th>\n",
              "      <th>sentence</th>\n",
              "      <th>label</th>\n",
              "    </tr>\n",
              "  </thead>\n",
              "  <tbody>\n",
              "    <tr>\n",
              "      <th>0</th>\n",
              "      <td>It 's a lovely film with lovely performances b...</td>\n",
              "      <td>3</td>\n",
              "    </tr>\n",
              "    <tr>\n",
              "      <th>1</th>\n",
              "      <td>No one goes unindicted here , which is probabl...</td>\n",
              "      <td>2</td>\n",
              "    </tr>\n",
              "    <tr>\n",
              "      <th>2</th>\n",
              "      <td>And if you 're not nearly moved to tears by a ...</td>\n",
              "      <td>3</td>\n",
              "    </tr>\n",
              "    <tr>\n",
              "      <th>3</th>\n",
              "      <td>A warm , funny , engaging film .</td>\n",
              "      <td>4</td>\n",
              "    </tr>\n",
              "    <tr>\n",
              "      <th>4</th>\n",
              "      <td>Uses sharp humor and insight into human nature...</td>\n",
              "      <td>4</td>\n",
              "    </tr>\n",
              "  </tbody>\n",
              "</table>\n",
              "</div>"
            ],
            "text/plain": [
              "                                            sentence  label\n",
              "0  It 's a lovely film with lovely performances b...      3\n",
              "1  No one goes unindicted here , which is probabl...      2\n",
              "2  And if you 're not nearly moved to tears by a ...      3\n",
              "3                   A warm , funny , engaging film .      4\n",
              "4  Uses sharp humor and insight into human nature...      4"
            ]
          },
          "metadata": {
            "tags": []
          },
          "execution_count": 21
        }
      ]
    },
    {
      "cell_type": "code",
      "metadata": {
        "id": "266f2c1e"
      },
      "source": [
        "PERTURBATION_REDUCTION = ['strip_punct', 'remove_commas', 'remove_all_punct']\n",
        "PERTURBATION_LIST = PERTURBATION_REDUCTION + [\n",
        "    'contraction','change_first_name','change_last_name', 'change_location', 'add_typo', 'switch_gender'  # , 'swap_adj'\n",
        "]\n",
        "\n",
        "PERT_STRING_TO_FUNCTION = {\n",
        "    'strip_punct': strip_trailing_punct, \n",
        "    'remove_commas': remove_commas, \n",
        "    'remove_all_punct': remove_all_punctuation, \n",
        "    'contraction': contraction,\n",
        "    'change_first_name': change_first_name,\n",
        "    'change_last_name': change_last_name, \n",
        "    'change_location': change_location, \n",
        "    'add_typo': add_typo, \n",
        "    'switch_gender': switch_gender, \n",
        "    'swap_adj': swap_adjectives\n",
        "}"
      ],
      "id": "266f2c1e",
      "execution_count": 23,
      "outputs": []
    },
    {
      "cell_type": "code",
      "metadata": {
        "id": "9ac572b9"
      },
      "source": [
        "def bert_detokenize(token_list):\n",
        "    \"\"\"\n",
        "    Reverse BERT tokenization accounting for ##s representing subwords. Based on https://github.com/huggingface/transformers/issues/36\n",
        "    \"\"\"\n",
        "    text = ' '.join(token_list)\n",
        "    text = text.replace(' ##', '')\n",
        "    text = text.replace(\"` `\", \"``\")\n",
        "    text = text.replace(\"' '\", \"''\")\n",
        "    return text"
      ],
      "id": "9ac572b9",
      "execution_count": 24,
      "outputs": []
    },
    {
      "cell_type": "code",
      "metadata": {
        "id": "ecb92ff7"
      },
      "source": [
        "shap_explainer = SHAPExplainer(bert_sst)"
      ],
      "id": "ecb92ff7",
      "execution_count": 25,
      "outputs": []
    },
    {
      "cell_type": "code",
      "metadata": {
        "jupyter": {
          "outputs_hidden": true
        },
        "tags": [],
        "id": "431fbfcd",
        "colab": {
          "base_uri": "https://localhost:8080/"
        },
        "outputId": "ee70550f-f5f4-4a1f-b5e8-2516f55285c8"
      },
      "source": [
        "%%time\n",
        "IMPORTANT_WORD_CUTOFF = 5\n",
        "\"\"\"\n",
        "Top-x words considered most important based on SHAP value. If perturbation affects any of these tokens the example is not considered for evaluation\n",
        "\"\"\"\n",
        "\n",
        "perturbation_df_dict = {}\n",
        "\n",
        "\n",
        "for perturbation in PERTURBATION_LIST:\n",
        "    \n",
        "    print(perturbation)\n",
        "    \n",
        "    #===============================================#\n",
        "    # Add perturbed sentences to dataframe          #\n",
        "    #===============================================#\n",
        "    \n",
        "    perturbation_df = add_perturbations(\n",
        "        df=dev['sst'],\n",
        "        tokenizer=bert_sst.tokenizer,\n",
        "        sentence_col_name=sst.SENTENCE, \n",
        "        perturbation_functions=[\n",
        "            PERT_STRING_TO_FUNCTION[perturbation]\n",
        "        ]\n",
        "    )\n",
        "    print(1)\n",
        "    print(perturbation_df.shape)\n",
        "    \n",
        "    #===============================================#\n",
        "    # Drop unsuccessful perturbations               #\n",
        "    #===============================================#\n",
        "    \n",
        "    perturbation_df = perturbation_df.copy()[perturbation_df[f'{perturbation}_success'] == 1]\n",
        "    print(2)\n",
        "    print(perturbation_df.shape)\n",
        "    if perturbation_df.shape[0] <= 2:\n",
        "        print(f'Skipped {perturbation}')\n",
        "        print('\\n')\n",
        "        perturbation_df_dict[perturbation] = None\n",
        "        continue\n",
        "    \n",
        "    #====================================================================#\n",
        "    # Overwrite '_concat' column with corrected reversal of tokenization #\n",
        "    #====================================================================#\n",
        "    \n",
        "    perturbation_df[f'{perturbation}_concat'] = perturbation_df[f'{perturbation}_tokens'].apply(bert_detokenize)\n",
        "    \n",
        "    #===============================================#\n",
        "    # Original prediction                           #\n",
        "    #===============================================#\n",
        "    \n",
        "    perturbation_df['orig_prediction'] = bert_sst.predict_label_batch(perturbation_df['sentence'])\n",
        "    \n",
        "    #===============================================#\n",
        "    # Prediction on new sentence                    #\n",
        "    #===============================================#\n",
        "    \n",
        "    perturbation_df[f'{perturbation}_prediction'] = bert_sst.predict_label_batch(perturbation_df[f'{perturbation}_concat'])\n",
        "    \n",
        "    #========================================================#\n",
        "    # Drop examples where predictions which are not the same #\n",
        "    #========================================================#\n",
        "    \n",
        "    perturbation_df = perturbation_df.copy()[perturbation_df[f'{perturbation}_prediction'] == perturbation_df['orig_prediction']]\n",
        "    print(3)\n",
        "    print(perturbation_df.shape)\n",
        "    if perturbation_df.shape[0] <= 2:\n",
        "        print(f'Skipped {perturbation}')\n",
        "        print('\\n')\n",
        "        perturbation_df_dict[perturbation] = None\n",
        "        continue\n",
        "    \n",
        "    #===============================================#\n",
        "    # Flag for correct prediction                   #\n",
        "    #===============================================#\n",
        "\n",
        "    perturbation_df['correct_prediction'] = np.where(\n",
        "        perturbation_df['label'] == perturbation_df['orig_prediction'],\n",
        "        1,\n",
        "        0\n",
        "    )\n",
        "    print(4)\n",
        "    print(perturbation_df['correct_prediction'].sum())\n",
        "    \n",
        "    #===============================================#\n",
        "    # SHAP values for original sentence             #\n",
        "    #===============================================#\n",
        "    \n",
        "    shap_values = shap_explainer.explain_instances(perturbation_df['sentence'])\n",
        "    \n",
        "    perturbation_df['shap_orig_tokens'] = shap_values.data\n",
        "    perturbation_df['shap_orig_tokens'] = perturbation_df['shap_orig_tokens'].apply(lambda x: x[1:-1])  # Drop first and last as these correspond to special tokens\n",
        "    \n",
        "    perturbation_df['shap_orig_values'] = shap_values.values\n",
        "    perturbation_df['shap_orig_values'] = perturbation_df['shap_orig_values'].apply(lambda x: x[1:-1, :])  # Drop first and last as these correspond to special tokens\n",
        "\n",
        "    # Only keep SHAP values for label predicted\n",
        "    perturbation_df['shap_orig_values'] = perturbation_df.apply(lambda x: x['shap_orig_values'][:, x['orig_prediction']], axis=1)\n",
        "    \n",
        "    # Length of SHAP tokens same as length of SHAP values\n",
        "    assert perturbation_df.shape[0] == (perturbation_df['shap_orig_tokens'].apply(len) == perturbation_df['shap_orig_values'].apply(len)).sum()\n",
        "    \n",
        "    #===============================================#\n",
        "    # SHAP values for perturbed sentence            #\n",
        "    #===============================================#\n",
        "    \n",
        "    shap_values = shap_explainer.explain_instances(perturbation_df[f'{perturbation}_concat'])\n",
        "\n",
        "    perturbation_df[f'shap_{perturbation}_tokens'] = shap_values.data\n",
        "    perturbation_df[f'shap_{perturbation}_tokens'] = perturbation_df[f'shap_{perturbation}_tokens'].apply(lambda x: x[1:-1])  # Drop first and last as these correspond to special tokens\n",
        "\n",
        "    perturbation_df[f'shap_{perturbation}_values'] = shap_values.values\n",
        "    perturbation_df[f'shap_{perturbation}_values'] = perturbation_df[f'shap_{perturbation}_values'].apply(lambda x: x[1:-1, :])  # Drop first and last as these correspond to special tokens\n",
        "\n",
        "    # Only keep SHAP values for label predicted\n",
        "    perturbation_df[f'shap_{perturbation}_values'] = perturbation_df.apply(lambda x: x[f'shap_{perturbation}_values'][:, x['orig_prediction']], axis=1)\n",
        "\n",
        "    # Length of SHAP tokens same as length of SHAP values\n",
        "    assert perturbation_df.shape[0] == (perturbation_df[f'shap_{perturbation}_tokens'].apply(len) == perturbation_df[f'shap_{perturbation}_values'].apply(len)).sum()\n",
        "\n",
        "    #====================================================#\n",
        "    # Drop examples where an important token was changed #\n",
        "    #====================================================#\n",
        "\n",
        "    perturbation_df['most_important_indices'] = perturbation_df['shap_orig_values'].apply(lambda x: np.argsort(-x)[:5])  # -as sorts in ascending order otherwise\n",
        "\n",
        "    perturbation_df['important_token_changed'] = perturbation_df.apply(\n",
        "        lambda x: any(\n",
        "            idx in x['most_important_indices'] for idx in x[f'{perturbation}_pert_ind']\n",
        "        ), \n",
        "        axis=1\n",
        "    )\n",
        "\n",
        "    perturbation_df['important_token_changed'] = perturbation_df['important_token_changed'].astype(int)\n",
        "\n",
        "    perturbation_df = perturbation_df.copy()[perturbation_df['important_token_changed'] == 0]\n",
        "    \n",
        "    print(5)\n",
        "    print(perturbation_df.shape)\n",
        "\n",
        "    #===============================================================#\n",
        "    # Additional criteria if perturbation in PERTURBATION_REDUCTION #\n",
        "    #===============================================================#\n",
        "    \n",
        "    if perturbation in PERTURBATION_REDUCTION:\n",
        "\n",
        "        perturbation_df['shap_orig_tokens'] = perturbation_df.apply(\n",
        "            lambda x: [\n",
        "                token for i, token in enumerate(x['shap_orig_tokens']) if i not in x[f'{perturbation}_pert_ind']\n",
        "            ], \n",
        "            axis=1\n",
        "        )\n",
        "\n",
        "        perturbation_df['shap_orig_values'] = perturbation_df.apply(\n",
        "            lambda x: [\n",
        "                token for i, token in enumerate(x['shap_orig_values']) if i not in x[f'{perturbation}_pert_ind']\n",
        "            ], \n",
        "            axis=1\n",
        "        )\n",
        "\n",
        "    # Check number of tokens in original matches number in perturbed\n",
        "    perturbation_df['token_length_mismatch'] = np.where(\n",
        "        perturbation_df['shap_orig_tokens'].apply(len) != perturbation_df[f'shap_{perturbation}_tokens'].apply(len),\n",
        "        1,\n",
        "        0\n",
        "    )\n",
        "    perturbation_df = perturbation_df.copy()[perturbation_df['token_length_mismatch'] == 0]\n",
        "    print(6)\n",
        "    print(perturbation_df.shape)\n",
        "    if perturbation_df.shape[0] <= 2:\n",
        "        print(f'Skipped {perturbation}')\n",
        "        print('\\n')\n",
        "        perturbation_df_dict[perturbation] = None\n",
        "        continue\n",
        "    \n",
        "    assert (perturbation_df['shap_orig_tokens'].apply(len) == perturbation_df[f'shap_{perturbation}_tokens'].apply(len)).mean() == 1\n",
        "    \n",
        "    # Store dataframe\n",
        "    perturbation_df_dict[perturbation] = perturbation_df\n",
        "    \n",
        "    print('\\n')"
      ],
      "id": "431fbfcd",
      "execution_count": 26,
      "outputs": [
        {
          "output_type": "stream",
          "text": [
            "strip_punct\n",
            "1\n",
            "(1101, 7)\n",
            "2\n",
            "(1079, 7)\n",
            "3\n",
            "(1001, 9)\n",
            "4\n",
            "540\n"
          ],
          "name": "stdout"
        },
        {
          "output_type": "stream",
          "text": [
            "Partition explainer: 1002it [03:37,  4.41it/s]\n",
            "Partition explainer: 1002it [03:35,  4.42it/s]\n"
          ],
          "name": "stderr"
        },
        {
          "output_type": "stream",
          "text": [
            "5\n",
            "(776, 16)\n",
            "6\n",
            "(776, 17)\n",
            "\n",
            "\n",
            "remove_commas\n",
            "1\n",
            "(1101, 7)\n",
            "2\n",
            "(602, 7)\n",
            "3\n",
            "(535, 9)\n",
            "4\n",
            "278\n"
          ],
          "name": "stdout"
        },
        {
          "output_type": "stream",
          "text": [
            "Partition explainer: 536it [01:58,  4.12it/s]\n",
            "Partition explainer: 536it [01:57,  4.14it/s]\n"
          ],
          "name": "stderr"
        },
        {
          "output_type": "stream",
          "text": [
            "5\n",
            "(389, 16)\n",
            "6\n",
            "(389, 17)\n",
            "\n",
            "\n",
            "remove_all_punct\n",
            "1\n",
            "(1101, 7)\n",
            "2\n",
            "(1095, 7)\n",
            "3\n",
            "(935, 9)\n",
            "4\n",
            "514\n"
          ],
          "name": "stdout"
        },
        {
          "output_type": "stream",
          "text": [
            "Partition explainer: 936it [03:23,  4.38it/s]\n",
            "Partition explainer: 936it [03:20,  4.43it/s]\n"
          ],
          "name": "stderr"
        },
        {
          "output_type": "stream",
          "text": [
            "5\n",
            "(498, 16)\n",
            "6\n",
            "(498, 17)\n",
            "\n",
            "\n",
            "contraction\n",
            "1\n",
            "(1101, 7)\n",
            "2\n",
            "(87, 7)\n",
            "3\n",
            "(83, 9)\n",
            "4\n",
            "49\n"
          ],
          "name": "stdout"
        },
        {
          "output_type": "stream",
          "text": [
            "Partition explainer: 84it [00:18,  2.05it/s]\n",
            "Partition explainer: 84it [00:18,  2.03it/s]\n"
          ],
          "name": "stderr"
        },
        {
          "output_type": "stream",
          "text": [
            "5\n",
            "(49, 16)\n",
            "6\n",
            "(0, 17)\n",
            "Skipped contraction\n",
            "\n",
            "\n",
            "change_first_name\n",
            "1\n",
            "(1101, 7)\n",
            "2\n",
            "(0, 7)\n",
            "Skipped change_first_name\n",
            "\n",
            "\n",
            "change_last_name\n",
            "1\n",
            "(1101, 7)\n",
            "2\n",
            "(0, 7)\n",
            "Skipped change_last_name\n",
            "\n",
            "\n",
            "change_location\n",
            "1\n",
            "(1101, 7)\n",
            "2\n",
            "(0, 7)\n",
            "Skipped change_location\n",
            "\n",
            "\n",
            "add_typo\n",
            "1\n",
            "(1101, 7)\n",
            "2\n",
            "(1099, 7)\n",
            "3\n",
            "(872, 9)\n",
            "4\n",
            "469\n"
          ],
          "name": "stdout"
        },
        {
          "output_type": "stream",
          "text": [
            "Partition explainer: 873it [03:10,  4.34it/s]\n",
            "Partition explainer: 873it [03:11,  4.31it/s]\n"
          ],
          "name": "stderr"
        },
        {
          "output_type": "stream",
          "text": [
            "5\n",
            "(604, 16)\n",
            "6\n",
            "(50, 17)\n",
            "\n",
            "\n",
            "switch_gender\n",
            "1\n",
            "(1101, 7)\n",
            "2\n",
            "(121, 7)\n",
            "3\n",
            "(116, 9)\n",
            "4\n",
            "60\n"
          ],
          "name": "stdout"
        },
        {
          "output_type": "stream",
          "text": [
            "Partition explainer: 117it [00:25,  2.74it/s]\n",
            "Partition explainer: 117it [00:25,  2.78it/s]"
          ],
          "name": "stderr"
        },
        {
          "output_type": "stream",
          "text": [
            "5\n",
            "(90, 16)\n",
            "6\n",
            "(89, 17)\n",
            "\n",
            "\n",
            "CPU times: user 23min 55s, sys: 2min 32s, total: 26min 27s\n",
            "Wall time: 26min 22s\n"
          ],
          "name": "stdout"
        },
        {
          "output_type": "stream",
          "text": [
            "\n"
          ],
          "name": "stderr"
        }
      ]
    },
    {
      "cell_type": "markdown",
      "metadata": {
        "id": "29af9515"
      },
      "source": [
        "### Visualisation"
      ],
      "id": "29af9515"
    },
    {
      "cell_type": "code",
      "metadata": {
        "colab": {
          "base_uri": "https://localhost:8080/"
        },
        "id": "gvVS1r4FBZ_q",
        "outputId": "22323846-8160-472e-8417-1d0a9125f1b6"
      },
      "source": [
        "non_none = 0\n",
        "for df in perturbation_df_dict.values():\n",
        "  if df is not None:\n",
        "    non_none += 1\n",
        "non_none"
      ],
      "id": "gvVS1r4FBZ_q",
      "execution_count": 27,
      "outputs": [
        {
          "output_type": "execute_result",
          "data": {
            "text/plain": [
              "5"
            ]
          },
          "metadata": {
            "tags": []
          },
          "execution_count": 27
        }
      ]
    },
    {
      "cell_type": "code",
      "metadata": {
        "id": "5a57aa42",
        "colab": {
          "base_uri": "https://localhost:8080/",
          "height": 373
        },
        "outputId": "0edd3520-a14f-40f8-beb7-e76cc9d96b51"
      },
      "source": [
        "fig, axes = plt.subplots(1, 5, figsize=(20, 5))\n",
        "\n",
        "fig.suptitle('SST development set Spearman scores by perturbation')\n",
        "\n",
        "i = 0\n",
        "for perturbation, df in perturbation_df_dict.items():\n",
        "    if df is None:\n",
        "        continue\n",
        "    if perturbation == 'swap_adj':\n",
        "        continue\n",
        "    df['spearman'] = df.apply(lambda x: spearmanr(x['shap_orig_values'], x[f'shap_{perturbation}_values']).correlation, axis=1)\n",
        "    sns.histplot(df['spearman'], bins=10, ax=axes[i])\n",
        "    axes[i].set_xlabel('Spearman')\n",
        "    axes[i].set_title(f\"{perturbation} (mean: {np.round(np.mean(df['spearman']), 2)})\")\n",
        "    i+=1\n",
        "plt.tight_layout()\n",
        "plt.savefig('reports/figures/SST BERT SHAP Spearman.png')\n",
        "plt.show()"
      ],
      "id": "5a57aa42",
      "execution_count": 28,
      "outputs": [
        {
          "output_type": "display_data",
          "data": {
            "image/png": "[encoded data removed]",
            "text/plain": [
              "<Figure size 1440x360 with 5 Axes>"
            ]
          },
          "metadata": {
            "tags": [],
            "needs_background": "light"
          }
        }
      ]
    },
    {
      "cell_type": "code",
      "metadata": {
        "colab": {
          "base_uri": "https://localhost:8080/"
        },
        "id": "g8NL0cSv-GY1",
        "outputId": "5cf4e941-54e3-43e2-a8b6-e5a70ab792df"
      },
      "source": [
        "for perturbation, df in perturbation_df_dict.items():\n",
        "    if df is None:\n",
        "        continue\n",
        "    if perturbation == 'swap_adj':\n",
        "        continue\n",
        "    df['spearman'] = df.apply(lambda x: spearmanr(x['shap_orig_values'], x[f'shap_{perturbation}_values']).correlation, axis=1)\n",
        "    print(perturbation)\n",
        "    print(f\"Mean Spearman: {df['spearman'].mean()}\")\n",
        "    print(f\"% < 0.8 Spearman: {(df['spearman'] < 0.8).mean()}\")\n",
        "    print(f\"% < 0.6 Spearman: {(df['spearman'] < 0.6).mean()}\")\n",
        "    print('\\n')"
      ],
      "id": "g8NL0cSv-GY1",
      "execution_count": 30,
      "outputs": [
        {
          "output_type": "stream",
          "text": [
            "strip_punct\n",
            "Mean Spearman: 0.8286041828273336\n",
            "% < 0.8 Spearman: 0.29381443298969073\n",
            "% < 0.6 Spearman: 0.13015463917525774\n",
            "\n",
            "\n",
            "remove_commas\n",
            "Mean Spearman: 0.5758513845235019\n",
            "% < 0.8 Spearman: 0.6658097686375322\n",
            "% < 0.6 Spearman: 0.4267352185089974\n",
            "\n",
            "\n",
            "remove_all_punct\n",
            "Mean Spearman: 0.6132999349841529\n",
            "% < 0.8 Spearman: 0.6305220883534136\n",
            "% < 0.6 Spearman: 0.39959839357429716\n",
            "\n",
            "\n",
            "add_typo\n",
            "Mean Spearman: 0.8564333766587187\n",
            "% < 0.8 Spearman: 0.22\n",
            "% < 0.6 Spearman: 0.1\n",
            "\n",
            "\n",
            "switch_gender\n",
            "Mean Spearman: 0.9241353998317619\n",
            "% < 0.8 Spearman: 0.0898876404494382\n",
            "% < 0.6 Spearman: 0.033707865168539325\n",
            "\n",
            "\n"
          ],
          "name": "stdout"
        }
      ]
    },
    {
      "cell_type": "code",
      "metadata": {
        "colab": {
          "base_uri": "https://localhost:8080/",
          "height": 1000
        },
        "id": "EwRL-z2nGdex",
        "outputId": "04862345-07df-4570-eecb-2fc47bfa61cb"
      },
      "source": [
        "fig, axes = plt.subplots(10, 5, figsize=(20, 30), sharex=True)\n",
        "\n",
        "for k in range(1, 11):\n",
        "  i = 0\n",
        "  for perturbation, df in perturbation_df_dict.items():\n",
        "      if df is None:\n",
        "          continue\n",
        "      if perturbation == 'swap_adj':\n",
        "          continue\n",
        "      df['top_k_idx_orig'] = df.apply(lambda x: np.argsort(-np.array(x[f'shap_orig_values']))[:k], axis=1)\n",
        "      df['top_k_idx_perturb'] = df.apply(lambda x: np.argsort(-x[f'shap_{perturbation}_values'])[:k], axis=1)\n",
        "      \n",
        "      df['k_intersection'] = df.apply(lambda x: (x['top_k_idx_orig'] == x['top_k_idx_perturb']).mean(), axis=1)\n",
        "\n",
        "      sns.histplot(df['k_intersection'], bins=10, ax=axes[k-1, i])\n",
        "      axes[k-1, i].set_xlabel('Top-k intersection')\n",
        "      axes[k-1, i].set_title(f\"{perturbation} (mean: {np.round(np.mean(df['k_intersection']), 2)})\")\n",
        "      i+=1\n",
        "\n",
        "rows = ['k={}'.format(row) for row in range(1,11)]\n",
        "\n",
        "# cols = ['strip_punct', 'remove_commas', 'remove_all_punct', 'add_typo', 'switch_gender']\n",
        "# for ax, col in zip(axes[0], cols):\n",
        "#     ax.set_title(col)\n",
        "\n",
        "for ax, row in zip(axes[:,0], rows):\n",
        "    ax.set_ylabel(row, rotation=90, size='large')\n",
        "    \n",
        "plt.tight_layout()\n",
        "plt.savefig('reports/figures/SST BERT SHAP top-k.png')\n",
        "plt.show()"
      ],
      "id": "EwRL-z2nGdex",
      "execution_count": 31,
      "outputs": [
        {
          "output_type": "display_data",
          "data": {
            "image/png": "[encoded data removed]",
            "text/plain": [
              "<Figure size 1440x2160 with 50 Axes>"
            ]
          },
          "metadata": {
            "tags": [],
            "needs_background": "light"
          }
        }
      ]
    },
    {
      "cell_type": "code",
      "metadata": {
        "colab": {
          "base_uri": "https://localhost:8080/"
        },
        "id": "qfPNxktyGdbz",
        "outputId": "431b7e50-c9a0-45cc-dcd9-4c7c22bc922e"
      },
      "source": [
        "for k in range(1, 11):\n",
        "  \n",
        "  for perturbation, df in perturbation_df_dict.items():\n",
        "      if df is None:\n",
        "          continue\n",
        "      if perturbation == 'swap_adj':\n",
        "          continue\n",
        "      df['top_k_idx_orig'] = df.apply(lambda x: np.argsort(-np.array(x[f'shap_orig_values']))[:k], axis=1)\n",
        "      df['top_k_idx_perturb'] = df.apply(lambda x: np.argsort(-x[f'shap_{perturbation}_values'])[:k], axis=1)\n",
        "      \n",
        "      df['k_intersection'] = df.apply(lambda x: (x['top_k_idx_orig'] == x['top_k_idx_perturb']).mean(), axis=1)\n",
        "\n",
        "      print(f\"Top-{k}, {perturbation}\")\n",
        "      print(f\"Mean: {df['k_intersection'].mean()}\")\n",
        "      print(f\"% < 0.8: {(df['k_intersection'] < 0.8).mean()}\")\n",
        "      print(f\"% < 0.6: {(df['k_intersection'] < 0.6).mean()}\")\n",
        "      print('\\n')"
      ],
      "id": "qfPNxktyGdbz",
      "execution_count": 32,
      "outputs": [
        {
          "output_type": "stream",
          "text": [
            "Top-1, strip_punct\n",
            "Mean: 0.6739690721649485\n",
            "% < 0.8: 0.32603092783505155\n",
            "% < 0.6: 0.32603092783505155\n",
            "\n",
            "\n",
            "Top-1, remove_commas\n",
            "Mean: 0.38817480719794345\n",
            "% < 0.8: 0.6118251928020566\n",
            "% < 0.6: 0.6118251928020566\n",
            "\n",
            "\n",
            "Top-1, remove_all_punct\n",
            "Mean: 0.4939759036144578\n",
            "% < 0.8: 0.5060240963855421\n",
            "% < 0.6: 0.5060240963855421\n",
            "\n",
            "\n",
            "Top-1, add_typo\n",
            "Mean: 0.7\n",
            "% < 0.8: 0.3\n",
            "% < 0.6: 0.3\n",
            "\n",
            "\n",
            "Top-1, switch_gender\n",
            "Mean: 0.7752808988764045\n",
            "% < 0.8: 0.2247191011235955\n",
            "% < 0.6: 0.2247191011235955\n",
            "\n",
            "\n",
            "Top-2, strip_punct\n",
            "Mean: 0.6520618556701031\n",
            "% < 0.8: 0.3865979381443299\n",
            "% < 0.6: 0.3865979381443299\n",
            "\n",
            "\n",
            "Top-2, remove_commas\n",
            "Mean: 0.35475578406169667\n",
            "% < 0.8: 0.6889460154241646\n",
            "% < 0.6: 0.6889460154241646\n",
            "\n",
            "\n",
            "Top-2, remove_all_punct\n",
            "Mean: 0.463855421686747\n",
            "% < 0.8: 0.5943775100401606\n",
            "% < 0.6: 0.5943775100401606\n",
            "\n",
            "\n",
            "Top-2, add_typo\n",
            "Mean: 0.68\n",
            "% < 0.8: 0.34\n",
            "% < 0.6: 0.34\n",
            "\n",
            "\n",
            "Top-2, switch_gender\n",
            "Mean: 0.7584269662921348\n",
            "% < 0.8: 0.30337078651685395\n",
            "% < 0.6: 0.30337078651685395\n",
            "\n",
            "\n",
            "Top-3, strip_punct\n",
            "Mean: 0.6219931271477666\n",
            "% < 0.8: 0.47036082474226804\n",
            "% < 0.6: 0.37371134020618557\n",
            "\n",
            "\n",
            "Top-3, remove_commas\n",
            "Mean: 0.33247643530419874\n",
            "% < 0.8: 0.7326478149100257\n",
            "% < 0.6: 0.6838046272493573\n",
            "\n",
            "\n",
            "Top-3, remove_all_punct\n",
            "Mean: 0.4277108433734939\n",
            "% < 0.8: 0.6807228915662651\n",
            "% < 0.6: 0.5783132530120482\n",
            "\n",
            "\n",
            "Top-3, add_typo\n",
            "Mean: 0.6666666666666667\n",
            "% < 0.8: 0.36\n",
            "% < 0.6: 0.34\n",
            "\n",
            "\n",
            "Top-3, switch_gender\n",
            "Mean: 0.745318352059925\n",
            "% < 0.8: 0.3258426966292135\n",
            "% < 0.6: 0.2696629213483146\n",
            "\n",
            "\n",
            "Top-4, strip_punct\n",
            "Mean: 0.6014819587628866\n",
            "% < 0.8: 0.5141752577319587\n",
            "% < 0.6: 0.4574742268041237\n",
            "\n",
            "\n",
            "Top-4, remove_commas\n",
            "Mean: 0.31683804627249357\n",
            "% < 0.8: 0.7737789203084833\n",
            "% < 0.6: 0.7300771208226221\n",
            "\n",
            "\n",
            "Top-4, remove_all_punct\n",
            "Mean: 0.4126506024096386\n",
            "% < 0.8: 0.7088353413654619\n",
            "% < 0.6: 0.6626506024096386\n",
            "\n",
            "\n",
            "Top-4, add_typo\n",
            "Mean: 0.655\n",
            "% < 0.8: 0.38\n",
            "% < 0.6: 0.36\n",
            "\n",
            "\n",
            "Top-4, switch_gender\n",
            "Mean: 0.7247191011235955\n",
            "% < 0.8: 0.3595505617977528\n",
            "% < 0.6: 0.3146067415730337\n",
            "\n",
            "\n",
            "Top-5, strip_punct\n",
            "Mean: 0.5822164948453602\n",
            "% < 0.8: 0.509020618556701\n",
            "% < 0.6: 0.4329896907216495\n",
            "\n",
            "\n",
            "Top-5, remove_commas\n",
            "Mean: 0.2946015424164527\n",
            "% < 0.8: 0.7712082262210797\n",
            "% < 0.6: 0.7223650385604113\n",
            "\n",
            "\n",
            "Top-5, remove_all_punct\n",
            "Mean: 0.39116465863453787\n",
            "% < 0.8: 0.7028112449799196\n",
            "% < 0.6: 0.6345381526104418\n",
            "\n",
            "\n",
            "Top-5, add_typo\n",
            "Mean: 0.644\n",
            "% < 0.8: 0.38\n",
            "% < 0.6: 0.36\n",
            "\n",
            "\n",
            "Top-5, switch_gender\n",
            "Mean: 0.7123595505617978\n",
            "% < 0.8: 0.33707865168539325\n",
            "% < 0.6: 0.29213483146067415\n",
            "\n",
            "\n",
            "Top-6, strip_punct\n",
            "Mean: 0.5680841924398617\n",
            "% < 0.8: 0.5798969072164949\n",
            "% < 0.6: 0.4832474226804124\n",
            "\n",
            "\n",
            "Top-6, remove_commas\n",
            "Mean: 0.2806341045415596\n",
            "% < 0.8: 0.8457583547557841\n",
            "% < 0.6: 0.7634961439588689\n",
            "\n",
            "\n",
            "Top-6, remove_all_punct\n",
            "Mean: 0.37469879518072285\n",
            "% < 0.8: 0.7931726907630522\n",
            "% < 0.6: 0.678714859437751\n",
            "\n",
            "\n",
            "Top-6, add_typo\n",
            "Mean: 0.6366666666666667\n",
            "% < 0.8: 0.42\n",
            "% < 0.6: 0.38\n",
            "\n",
            "\n",
            "Top-6, switch_gender\n",
            "Mean: 0.700374531835206\n",
            "% < 0.8: 0.3707865168539326\n",
            "% < 0.6: 0.3146067415730337\n",
            "\n",
            "\n",
            "Top-7, strip_punct\n",
            "Mean: 0.5556885125184098\n",
            "% < 0.8: 0.6237113402061856\n",
            "% < 0.6: 0.5502577319587629\n",
            "\n",
            "\n",
            "Top-7, remove_commas\n",
            "Mean: 0.2647814910025706\n",
            "% < 0.8: 0.8740359897172236\n",
            "% < 0.6: 0.8406169665809768\n",
            "\n",
            "\n",
            "Top-7, remove_all_punct\n",
            "Mean: 0.35968636450564123\n",
            "% < 0.8: 0.8112449799196787\n",
            "% < 0.6: 0.7710843373493976\n",
            "\n",
            "\n",
            "Top-7, add_typo\n",
            "Mean: 0.6285714285714287\n",
            "% < 0.8: 0.46\n",
            "% < 0.6: 0.42\n",
            "\n",
            "\n",
            "Top-7, switch_gender\n",
            "Mean: 0.6886035313001606\n",
            "% < 0.8: 0.43820224719101125\n",
            "% < 0.6: 0.3595505617977528\n",
            "\n",
            "\n",
            "Top-8, strip_punct\n",
            "Mean: 0.545494293078056\n",
            "% < 0.8: 0.6597938144329897\n",
            "% < 0.6: 0.5335051546391752\n",
            "\n",
            "\n",
            "Top-8, remove_commas\n",
            "Mean: 0.25206573632023505\n",
            "% < 0.8: 0.9023136246786633\n",
            "% < 0.6: 0.8226221079691517\n",
            "\n",
            "\n",
            "Top-8, remove_all_punct\n",
            "Mean: 0.3499689233122968\n",
            "% < 0.8: 0.8313253012048193\n",
            "% < 0.6: 0.7570281124497992\n",
            "\n",
            "\n",
            "Top-8, add_typo\n",
            "Mean: 0.6225\n",
            "% < 0.8: 0.48\n",
            "% < 0.6: 0.42\n",
            "\n",
            "\n",
            "Top-8, switch_gender\n",
            "Mean: 0.6783707865168539\n",
            "% < 0.8: 0.449438202247191\n",
            "% < 0.6: 0.3595505617977528\n",
            "\n",
            "\n",
            "Top-9, strip_punct\n",
            "Mean: 0.5349702380952384\n",
            "% < 0.8: 0.6894329896907216\n",
            "% < 0.6: 0.5747422680412371\n",
            "\n",
            "\n",
            "Top-9, remove_commas\n",
            "Mean: 0.24149732729424275\n",
            "% < 0.8: 0.9254498714652957\n",
            "% < 0.6: 0.8560411311053985\n",
            "\n",
            "\n",
            "Top-9, remove_all_punct\n",
            "Mean: 0.3371956078281382\n",
            "% < 0.8: 0.8493975903614458\n",
            "% < 0.6: 0.7791164658634538\n",
            "\n",
            "\n",
            "Top-9, add_typo\n",
            "Mean: 0.6066666666666666\n",
            "% < 0.8: 0.58\n",
            "% < 0.6: 0.46\n",
            "\n",
            "\n",
            "Top-9, switch_gender\n",
            "Mean: 0.6666666666666667\n",
            "% < 0.8: 0.4943820224719101\n",
            "% < 0.6: 0.4044943820224719\n",
            "\n",
            "\n",
            "Top-10, strip_punct\n",
            "Mean: 0.5262359883816071\n",
            "% < 0.8: 0.6829896907216495\n",
            "% < 0.6: 0.5412371134020618\n",
            "\n",
            "\n",
            "Top-10, remove_commas\n",
            "Mean: 0.23367099196148033\n",
            "% < 0.8: 0.9203084832904884\n",
            "% < 0.6: 0.8380462724935732\n",
            "\n",
            "\n",
            "Top-10, remove_all_punct\n",
            "Mean: 0.32876187288837866\n",
            "% < 0.8: 0.8473895582329317\n",
            "% < 0.6: 0.7630522088353414\n",
            "\n",
            "\n",
            "Top-10, add_typo\n",
            "Mean: 0.59\n",
            "% < 0.8: 0.58\n",
            "% < 0.6: 0.46\n",
            "\n",
            "\n",
            "Top-10, switch_gender\n",
            "Mean: 0.6505617977528089\n",
            "% < 0.8: 0.4943820224719101\n",
            "% < 0.6: 0.38202247191011235\n",
            "\n",
            "\n"
          ],
          "name": "stdout"
        }
      ]
    },
    {
      "cell_type": "markdown",
      "metadata": {
        "id": "B9ToDsgZA0pb"
      },
      "source": [
        "### Visualise examples"
      ],
      "id": "B9ToDsgZA0pb"
    },
    {
      "cell_type": "code",
      "metadata": {
        "id": "8JWFpN4P8fts"
      },
      "source": [
        "import html\n",
        "from IPython.core.display import display, HTML\n",
        "\n",
        "# Prevent special characters like & and < to cause the browser to display something other than what you intended.\n",
        "def html_escape(text):\n",
        "    return html.escape(text)\n",
        "\n",
        "def visualise_weights(tokens, gradients, max_alpha = 0.3):\n",
        "    max_alpha = max_alpha \n",
        "    highlighted_text = []\n",
        "    for i in range(len(tokens)):\n",
        "        weight = gradients[i]\n",
        "        highlighted_text.append('<span style=\"background-color:rgba(135,206,250,' + str(weight / max_alpha) + ');\">' + html_escape(tokens[i]) + '</span>')\n",
        "    highlighted_text = ' '.join(highlighted_text)\n",
        "    print(display(HTML(highlighted_text)))"
      ],
      "id": "8JWFpN4P8fts",
      "execution_count": 29,
      "outputs": []
    },
    {
      "cell_type": "code",
      "metadata": {
        "colab": {
          "base_uri": "https://localhost:8080/",
          "height": 51
        },
        "id": "OFd_rgTw9O_J",
        "outputId": "ca714846-975f-46e5-9fa5-2018305c981f"
      },
      "source": [
        "visualise_weights(perturbation_df_dict['remove_all_punct'].iloc[10]['shap_orig_tokens'], perturbation_df_dict['remove_all_punct'].iloc[10]['shap_orig_values'], max_alpha=0.08)"
      ],
      "id": "OFd_rgTw9O_J",
      "execution_count": 36,
      "outputs": [
        {
          "output_type": "display_data",
          "data": {
            "text/html": [
              "<span style=\"background-color:rgba(135,206,250,-0.205210322747007);\">it </span> <span style=\"background-color:rgba(135,206,250,-0.205210322747007);\">moves </span> <span style=\"background-color:rgba(135,206,250,-0.205210322747007);\">quickly </span> <span style=\"background-color:rgba(135,206,250,-0.10813626577146351);\">ad </span> <span style=\"background-color:rgba(135,206,250,-0.10813626577146351);\">##roi </span> <span style=\"background-color:rgba(135,206,250,-0.10813626577146351);\">##tly </span> <span style=\"background-color:rgba(135,206,250,0.16723491764143825);\">and </span> <span style=\"background-color:rgba(135,206,250,0.16723491764143825);\">without </span> <span style=\"background-color:rgba(135,206,250,0.16723491764143825);\">fuss </span> <span style=\"background-color:rgba(135,206,250,0.16723491764143825);\">it </span> <span style=\"background-color:rgba(135,206,250,0.16723491764143825);\">does </span> <span style=\"background-color:rgba(135,206,250,0.16723491764143822);\">n </span> <span style=\"background-color:rgba(135,206,250,0.16723491764143822);\">t </span> <span style=\"background-color:rgba(135,206,250,0.16723491764143825);\">give </span> <span style=\"background-color:rgba(135,206,250,0.16723491764143825);\">you </span> <span style=\"background-color:rgba(135,206,250,0.16723491764143825);\">time </span> <span style=\"background-color:rgba(135,206,250,0.16723491764143825);\">to </span> <span style=\"background-color:rgba(135,206,250,0.10297283126939354);\">reflect </span> <span style=\"background-color:rgba(135,206,250,0.10297283126939354);\">on </span> <span style=\"background-color:rgba(135,206,250,0.10297283126939354);\">the </span> <span style=\"background-color:rgba(135,206,250,0.10297283126939354);\">ina </span> <span style=\"background-color:rgba(135,206,250,0.10297283126939354);\">##nity </span> <span style=\"background-color:rgba(135,206,250,0.025316139120453347);\">and </span> <span style=\"background-color:rgba(135,206,250,0.025316139120453347);\">the </span> <span style=\"background-color:rgba(135,206,250,0.025316139120453347);\">cold </span> <span style=\"background-color:rgba(135,206,250,0.025316139120453347);\">war </span> <span style=\"background-color:rgba(135,206,250,0.025316139120453347);\">dated </span> <span style=\"background-color:rgba(135,206,250,0.025316139120453347);\">##ness </span> <span style=\"background-color:rgba(135,206,250,0.025316139120453347);\">of </span> <span style=\"background-color:rgba(135,206,250,0.025316139120453347);\">its </span> <span style=\"background-color:rgba(135,206,250,0.025316139120453347);\">premise </span>"
            ],
            "text/plain": [
              "<IPython.core.display.HTML object>"
            ]
          },
          "metadata": {
            "tags": []
          }
        },
        {
          "output_type": "stream",
          "text": [
            "None\n"
          ],
          "name": "stdout"
        }
      ]
    },
    {
      "cell_type": "code",
      "metadata": {
        "colab": {
          "base_uri": "https://localhost:8080/",
          "height": 51
        },
        "id": "xpP7fbVW-Fhi",
        "outputId": "9bd7bfc8-6465-4a30-f890-5f37f162b981"
      },
      "source": [
        "visualise_weights(perturbation_df_dict['remove_all_punct'].iloc[10]['shap_remove_all_punct_tokens'], perturbation_df_dict['remove_all_punct'].iloc[10]['shap_remove_all_punct_values'],max_alpha=0.08)"
      ],
      "id": "xpP7fbVW-Fhi",
      "execution_count": 37,
      "outputs": [
        {
          "output_type": "display_data",
          "data": {
            "text/html": [
              "<span style=\"background-color:rgba(135,206,250,0.13858478205899397);\">it </span> <span style=\"background-color:rgba(135,206,250,0.13858478205899397);\">moves </span> <span style=\"background-color:rgba(135,206,250,0.13858478205899397);\">quickly </span> <span style=\"background-color:rgba(135,206,250,0.13858478205899397);\">ad </span> <span style=\"background-color:rgba(135,206,250,0.13858478205899397);\">##roi </span> <span style=\"background-color:rgba(135,206,250,0.13858478205899397);\">##tly </span> <span style=\"background-color:rgba(135,206,250,0.09315656394594245);\">and </span> <span style=\"background-color:rgba(135,206,250,0.09315656394594245);\">without </span> <span style=\"background-color:rgba(135,206,250,0.09315656394594245);\">fuss </span> <span style=\"background-color:rgba(135,206,250,0.09315656394594245);\">it </span> <span style=\"background-color:rgba(135,206,250,0.09315656394594245);\">does </span> <span style=\"background-color:rgba(135,206,250,0.09315656394594246);\">n </span> <span style=\"background-color:rgba(135,206,250,0.09315656394594246);\">t </span> <span style=\"background-color:rgba(135,206,250,0.09315656394594246);\">give </span> <span style=\"background-color:rgba(135,206,250,0.09315656394594246);\">you </span> <span style=\"background-color:rgba(135,206,250,0.13339316472411156);\">time </span> <span style=\"background-color:rgba(135,206,250,0.13339316472411156);\">to </span> <span style=\"background-color:rgba(135,206,250,0.13339316472411156);\">reflect </span> <span style=\"background-color:rgba(135,206,250,0.13339316472411156);\">on </span> <span style=\"background-color:rgba(135,206,250,0.13339316472411156);\">the </span> <span style=\"background-color:rgba(135,206,250,0.22148112766444683);\">ina </span> <span style=\"background-color:rgba(135,206,250,0.22148112766444683);\">##nity </span> <span style=\"background-color:rgba(135,206,250,0.22148112766444683);\">and </span> <span style=\"background-color:rgba(135,206,250,0.06386265595210716);\">the </span> <span style=\"background-color:rgba(135,206,250,0.06386265595210716);\">cold </span> <span style=\"background-color:rgba(135,206,250,0.06386265595210716);\">war </span> <span style=\"background-color:rgba(135,206,250,0.06386265595210716);\">dated </span> <span style=\"background-color:rgba(135,206,250,0.06386265595210716);\">##ness </span> <span style=\"background-color:rgba(135,206,250,0.044153685545704015);\">of </span> <span style=\"background-color:rgba(135,206,250,0.044153685545704015);\">its </span> <span style=\"background-color:rgba(135,206,250,0.044153685545704015);\">premise </span>"
            ],
            "text/plain": [
              "<IPython.core.display.HTML object>"
            ]
          },
          "metadata": {
            "tags": []
          }
        },
        {
          "output_type": "stream",
          "text": [
            "None\n"
          ],
          "name": "stdout"
        }
      ]
    },
    {
      "cell_type": "code",
      "metadata": {
        "colab": {
          "base_uri": "https://localhost:8080/",
          "height": 513
        },
        "id": "pz7IanvM8flK",
        "outputId": "0acc9aef-fcac-4b08-9a14-3d5f4c0fda2b"
      },
      "source": [
        "perturbation_df_dict['remove_all_punct'].head()"
      ],
      "id": "pz7IanvM8flK",
      "execution_count": 39,
      "outputs": [
        {
          "output_type": "execute_result",
          "data": {
            "text/html": [
              "<div>\n",
              "<style scoped>\n",
              "    .dataframe tbody tr th:only-of-type {\n",
              "        vertical-align: middle;\n",
              "    }\n",
              "\n",
              "    .dataframe tbody tr th {\n",
              "        vertical-align: top;\n",
              "    }\n",
              "\n",
              "    .dataframe thead th {\n",
              "        text-align: right;\n",
              "    }\n",
              "</style>\n",
              "<table border=\"1\" class=\"dataframe\">\n",
              "  <thead>\n",
              "    <tr style=\"text-align: right;\">\n",
              "      <th></th>\n",
              "      <th>sentence</th>\n",
              "      <th>label</th>\n",
              "      <th>tokens_orig</th>\n",
              "      <th>remove_all_punct_concat</th>\n",
              "      <th>remove_all_punct_tokens</th>\n",
              "      <th>remove_all_punct_success</th>\n",
              "      <th>remove_all_punct_pert_ind</th>\n",
              "      <th>orig_prediction</th>\n",
              "      <th>remove_all_punct_prediction</th>\n",
              "      <th>correct_prediction</th>\n",
              "      <th>shap_orig_tokens</th>\n",
              "      <th>shap_orig_values</th>\n",
              "      <th>shap_remove_all_punct_tokens</th>\n",
              "      <th>shap_remove_all_punct_values</th>\n",
              "      <th>most_important_indices</th>\n",
              "      <th>important_token_changed</th>\n",
              "      <th>token_length_mismatch</th>\n",
              "      <th>spearman</th>\n",
              "    </tr>\n",
              "  </thead>\n",
              "  <tbody>\n",
              "    <tr>\n",
              "      <th>0</th>\n",
              "      <td>It 's a lovely film with lovely performances b...</td>\n",
              "      <td>3</td>\n",
              "      <td>[it, ', s, a, lovely, film, with, lovely, perf...</td>\n",
              "      <td>it  s a lovely film with lovely performances b...</td>\n",
              "      <td>[it, , s, a, lovely, film, with, lovely, perfo...</td>\n",
              "      <td>1</td>\n",
              "      <td>[1, 15]</td>\n",
              "      <td>4</td>\n",
              "      <td>4</td>\n",
              "      <td>0</td>\n",
              "      <td>[it , s , a , lovely , film , with , lovely , ...</td>\n",
              "      <td>[0.0022263596765697002, 0.0022263596765697002,...</td>\n",
              "      <td>[it , s , a , lovely , film , with , lovely , ...</td>\n",
              "      <td>[0.029858328867703676, 0.029858328867703676, 0...</td>\n",
              "      <td>[3, 4, 5, 6, 7]</td>\n",
              "      <td>0</td>\n",
              "      <td>0</td>\n",
              "      <td>-0.116550</td>\n",
              "    </tr>\n",
              "    <tr>\n",
              "      <th>1</th>\n",
              "      <td>No one goes unindicted here , which is probabl...</td>\n",
              "      <td>2</td>\n",
              "      <td>[no, one, goes, un, ##ind, ##ic, ##ted, here, ...</td>\n",
              "      <td>no one goes unindicted here  which is probably...</td>\n",
              "      <td>[no, one, goes, un, ##ind, ##ic, ##ted, here, ...</td>\n",
              "      <td>1</td>\n",
              "      <td>[8, 15]</td>\n",
              "      <td>2</td>\n",
              "      <td>2</td>\n",
              "      <td>1</td>\n",
              "      <td>[no , one , goes , un , ##ind , ##ic , ##ted ,...</td>\n",
              "      <td>[0.01547006165815724, 0.01547006165815724, 0.0...</td>\n",
              "      <td>[no , one , goes , un , ##ind , ##ic , ##ted ,...</td>\n",
              "      <td>[0.015522892897327742, 0.015522892897327742, 0...</td>\n",
              "      <td>[11, 12, 2, 9, 10]</td>\n",
              "      <td>0</td>\n",
              "      <td>0</td>\n",
              "      <td>0.015099</td>\n",
              "    </tr>\n",
              "    <tr>\n",
              "      <th>4</th>\n",
              "      <td>Uses sharp humor and insight into human nature...</td>\n",
              "      <td>4</td>\n",
              "      <td>[uses, sharp, humor, and, insight, into, human...</td>\n",
              "      <td>uses sharp humor and insight into human nature...</td>\n",
              "      <td>[uses, sharp, humor, and, insight, into, human...</td>\n",
              "      <td>1</td>\n",
              "      <td>[12, 15, 23]</td>\n",
              "      <td>3</td>\n",
              "      <td>3</td>\n",
              "      <td>0</td>\n",
              "      <td>[uses , sharp , humor , and , insight , into ,...</td>\n",
              "      <td>[0.05117771138126651, 0.05117771138126651, 0.0...</td>\n",
              "      <td>[uses , sharp , humor , and , insight , into ,...</td>\n",
              "      <td>[0.049314494244754314, 0.049314494244754314, 0...</td>\n",
              "      <td>[0, 1, 2, 3, 4]</td>\n",
              "      <td>0</td>\n",
              "      <td>0</td>\n",
              "      <td>0.749730</td>\n",
              "    </tr>\n",
              "    <tr>\n",
              "      <th>6</th>\n",
              "      <td>Entertains by providing good , lively company .</td>\n",
              "      <td>3</td>\n",
              "      <td>[entertain, ##s, by, providing, good, ,, livel...</td>\n",
              "      <td>entertains by providing good  lively company</td>\n",
              "      <td>[entertain, ##s, by, providing, good, , lively...</td>\n",
              "      <td>1</td>\n",
              "      <td>[5, 8]</td>\n",
              "      <td>3</td>\n",
              "      <td>3</td>\n",
              "      <td>1</td>\n",
              "      <td>[entertain , ##s , by , providing , good , liv...</td>\n",
              "      <td>[0.05856792783985536, 0.05856792783985536, 0.0...</td>\n",
              "      <td>[entertain , ##s , by , providing , good , liv...</td>\n",
              "      <td>[0.12981989048421383, 0.05778254382312298, 0.0...</td>\n",
              "      <td>[6, 7, 0, 1, 2]</td>\n",
              "      <td>0</td>\n",
              "      <td>0</td>\n",
              "      <td>0.207695</td>\n",
              "    </tr>\n",
              "    <tr>\n",
              "      <th>12</th>\n",
              "      <td>The band 's courage in the face of official re...</td>\n",
              "      <td>3</td>\n",
              "      <td>[the, band, ', s, courage, in, the, face, of, ...</td>\n",
              "      <td>the band  s courage in the face of official re...</td>\n",
              "      <td>[the, band, , s, courage, in, the, face, of, o...</td>\n",
              "      <td>1</td>\n",
              "      <td>[2, 13, 19, 23, 24]</td>\n",
              "      <td>3</td>\n",
              "      <td>3</td>\n",
              "      <td>1</td>\n",
              "      <td>[the , band , s , courage , in , the , face , ...</td>\n",
              "      <td>[0.01511618250515312, 0.01511618250515312, 0.0...</td>\n",
              "      <td>[the , band , s , courage , in , the , face , ...</td>\n",
              "      <td>[0.026905262377113104, 0.026905262377113104, 0...</td>\n",
              "      <td>[16, 15, 14, 18, 17]</td>\n",
              "      <td>0</td>\n",
              "      <td>0</td>\n",
              "      <td>-0.480363</td>\n",
              "    </tr>\n",
              "  </tbody>\n",
              "</table>\n",
              "</div>"
            ],
            "text/plain": [
              "                                             sentence  ...  spearman\n",
              "0   It 's a lovely film with lovely performances b...  ... -0.116550\n",
              "1   No one goes unindicted here , which is probabl...  ...  0.015099\n",
              "4   Uses sharp humor and insight into human nature...  ...  0.749730\n",
              "6     Entertains by providing good , lively company .  ...  0.207695\n",
              "12  The band 's courage in the face of official re...  ... -0.480363\n",
              "\n",
              "[5 rows x 18 columns]"
            ]
          },
          "metadata": {
            "tags": []
          },
          "execution_count": 39
        }
      ]
    },
    {
      "cell_type": "code",
      "metadata": {
        "colab": {
          "base_uri": "https://localhost:8080/"
        },
        "id": "EeOi1-iT8fhm",
        "outputId": "cd7e0edc-b5c0-4a3f-c7a8-4a6f993cc668"
      },
      "source": [
        "np.argsort(-perturbation_df_dict['remove_all_punct'].iloc[0]['shap_remove_all_punct_values'])[:5]"
      ],
      "id": "EeOi1-iT8fhm",
      "execution_count": 55,
      "outputs": [
        {
          "output_type": "execute_result",
          "data": {
            "text/plain": [
              "array([11, 12,  4,  5,  6])"
            ]
          },
          "metadata": {
            "tags": []
          },
          "execution_count": 55
        }
      ]
    },
    {
      "cell_type": "code",
      "metadata": {
        "colab": {
          "base_uri": "https://localhost:8080/"
        },
        "id": "5oqkFOaH_r--",
        "outputId": "ed045965-da39-4e76-da1a-1710893b23e9"
      },
      "source": [
        "np.argsort(-np.array(perturbation_df_dict['remove_all_punct'].iloc[0]['shap_orig_values']))[:5]"
      ],
      "id": "5oqkFOaH_r--",
      "execution_count": 56,
      "outputs": [
        {
          "output_type": "execute_result",
          "data": {
            "text/plain": [
              "array([2, 3, 4, 5, 6])"
            ]
          },
          "metadata": {
            "tags": []
          },
          "execution_count": 56
        }
      ]
    },
    {
      "cell_type": "code",
      "metadata": {
        "colab": {
          "base_uri": "https://localhost:8080/"
        },
        "id": "_rCuwSQ-8fZb",
        "outputId": "db01a731-9000-4a6b-dbf9-3c54895c144c"
      },
      "source": [
        "np.argsort(-perturbation_df_dict['remove_all_punct'].iloc[0]['shap_remove_all_punct_values'])[:5] == np.argsort(-np.array(perturbation_df_dict['remove_all_punct'].iloc[0]['shap_orig_values']))[:5]"
      ],
      "id": "_rCuwSQ-8fZb",
      "execution_count": 57,
      "outputs": [
        {
          "output_type": "execute_result",
          "data": {
            "text/plain": [
              "array([False, False,  True,  True,  True])"
            ]
          },
          "metadata": {
            "tags": []
          },
          "execution_count": 57
        }
      ]
    },
    {
      "cell_type": "markdown",
      "metadata": {
        "id": "kTEgte2HB3oe"
      },
      "source": [
        "### Save as pickle"
      ],
      "id": "kTEgte2HB3oe"
    },
    {
      "cell_type": "code",
      "metadata": {
        "id": "vZtQR1trBk8E"
      },
      "source": [
        "pickle.dump(perturbation_df_dict, open('data/perturbation_df_dict_SST_BERT.pickle', 'wb'))"
      ],
      "id": "vZtQR1trBk8E",
      "execution_count": 35,
      "outputs": []
    },
    {
      "cell_type": "code",
      "metadata": {
        "id": "7ddmu5x7A-5a"
      },
      "source": [
        "# loaded_model = pickle.load(open('data/perturbation_df_dict_SST_BERT.pickle', 'rb'))"
      ],
      "id": "7ddmu5x7A-5a",
      "execution_count": 36,
      "outputs": []
    },
    {
      "cell_type": "markdown",
      "metadata": {
        "id": "WIMT0lMn3GnO"
      },
      "source": [
        "## SHAP for AG News"
      ],
      "id": "WIMT0lMn3GnO"
    },
    {
      "cell_type": "code",
      "metadata": {
        "colab": {
          "base_uri": "https://localhost:8080/",
          "height": 204
        },
        "id": "qKuHeuR73BvX",
        "outputId": "04cf9879-b8bf-4afd-f348-4258c03b0893"
      },
      "source": [
        "dev['agnews'].head()"
      ],
      "id": "qKuHeuR73BvX",
      "execution_count": 40,
      "outputs": [
        {
          "output_type": "execute_result",
          "data": {
            "text/html": [
              "<div>\n",
              "<style scoped>\n",
              "    .dataframe tbody tr th:only-of-type {\n",
              "        vertical-align: middle;\n",
              "    }\n",
              "\n",
              "    .dataframe tbody tr th {\n",
              "        vertical-align: top;\n",
              "    }\n",
              "\n",
              "    .dataframe thead th {\n",
              "        text-align: right;\n",
              "    }\n",
              "</style>\n",
              "<table border=\"1\" class=\"dataframe\">\n",
              "  <thead>\n",
              "    <tr style=\"text-align: right;\">\n",
              "      <th></th>\n",
              "      <th>sentence</th>\n",
              "      <th>label</th>\n",
              "      <th>title</th>\n",
              "    </tr>\n",
              "  </thead>\n",
              "  <tbody>\n",
              "    <tr>\n",
              "      <th>108000</th>\n",
              "      <td>The IMF has said it will negotiate with Argent...</td>\n",
              "      <td>2</td>\n",
              "      <td>Argentina can wait, says IMF</td>\n",
              "    </tr>\n",
              "    <tr>\n",
              "      <th>108001</th>\n",
              "      <td>Finnish mobile giant Nokia is losing the head ...</td>\n",
              "      <td>2</td>\n",
              "      <td>Nokia loses top network executive</td>\n",
              "    </tr>\n",
              "    <tr>\n",
              "      <th>108002</th>\n",
              "      <td>The Halifax bank, Britain's biggest mortgage l...</td>\n",
              "      <td>2</td>\n",
              "      <td>Halifax predicts house-price fall</td>\n",
              "    </tr>\n",
              "    <tr>\n",
              "      <th>108003</th>\n",
              "      <td>AFP - Eurozone retail sales rose 0.7 percent i...</td>\n",
              "      <td>2</td>\n",
              "      <td>Eurozone retail sales rise 0.7 percent in Octo...</td>\n",
              "    </tr>\n",
              "    <tr>\n",
              "      <th>108004</th>\n",
              "      <td>Bells will be ringing at Mervyn';s department ...</td>\n",
              "      <td>2</td>\n",
              "      <td>Mervyn #39;s reverses ban on kettles</td>\n",
              "    </tr>\n",
              "  </tbody>\n",
              "</table>\n",
              "</div>"
            ],
            "text/plain": [
              "                                                 sentence  ...                                              title\n",
              "108000  The IMF has said it will negotiate with Argent...  ...                       Argentina can wait, says IMF\n",
              "108001  Finnish mobile giant Nokia is losing the head ...  ...                  Nokia loses top network executive\n",
              "108002  The Halifax bank, Britain's biggest mortgage l...  ...                  Halifax predicts house-price fall\n",
              "108003  AFP - Eurozone retail sales rose 0.7 percent i...  ...  Eurozone retail sales rise 0.7 percent in Octo...\n",
              "108004  Bells will be ringing at Mervyn';s department ...  ...               Mervyn #39;s reverses ban on kettles\n",
              "\n",
              "[5 rows x 3 columns]"
            ]
          },
          "metadata": {
            "tags": []
          },
          "execution_count": 40
        }
      ]
    },
    {
      "cell_type": "code",
      "metadata": {
        "id": "85H8HW-O3Bvm"
      },
      "source": [
        "shap_explainer = SHAPExplainer(bert_agnews)"
      ],
      "id": "85H8HW-O3Bvm",
      "execution_count": 42,
      "outputs": []
    },
    {
      "cell_type": "code",
      "metadata": {
        "jupyter": {
          "outputs_hidden": true
        },
        "tags": [],
        "colab": {
          "base_uri": "https://localhost:8080/"
        },
        "id": "EZO96vPI3Bvn",
        "outputId": "e48a7f53-45d6-4431-bb3f-43ed10642884"
      },
      "source": [
        "%%time\n",
        "IMPORTANT_WORD_CUTOFF = 5\n",
        "\"\"\"\n",
        "Top-x words considered most important based on SHAP value. If perturbation affects any of these tokens the example is not considered for evaluation\n",
        "\"\"\"\n",
        "\n",
        "MAX_NUMBER_EXAMPLES = 500\n",
        "\n",
        "\n",
        "perturbation_df_dict = {}\n",
        "\n",
        "\n",
        "for perturbation in PERTURBATION_LIST:\n",
        "    \n",
        "    print(perturbation)\n",
        "    \n",
        "    #===============================================#\n",
        "    # Add perturbed sentences to dataframe          #\n",
        "    #===============================================#\n",
        "    \n",
        "    perturbation_df = add_perturbations(\n",
        "        df=dev['agnews'],\n",
        "        tokenizer=bert_agnews.tokenizer,\n",
        "        sentence_col_name=agnews.SENTENCE, \n",
        "        perturbation_functions=[\n",
        "            PERT_STRING_TO_FUNCTION[perturbation]\n",
        "        ]\n",
        "    )\n",
        "    print(1)\n",
        "    print(perturbation_df.shape)\n",
        "    \n",
        "    #===============================================#\n",
        "    # Drop unsuccessful perturbations               #\n",
        "    #===============================================#\n",
        "    \n",
        "    perturbation_df = perturbation_df.copy()[perturbation_df[f'{perturbation}_success'] == 1]\n",
        "    print(2)\n",
        "    print(perturbation_df.shape)\n",
        "    if perturbation_df.shape[0] <= 2:\n",
        "        print(f'Skipped {perturbation}')\n",
        "        print('\\n')\n",
        "        perturbation_df_dict[perturbation] = None\n",
        "        continue\n",
        "    if perturbation_df.shape[0] > MAX_NUMBER_EXAMPLES:\n",
        "        np.random.seed(3)\n",
        "        perturbation_df = perturbation_df.copy().sample(n=MAX_NUMBER_EXAMPLES)\n",
        "        print(f'Filtered examples for {perturbation}')\n",
        "\n",
        "    #====================================================================#\n",
        "    # Overwrite '_concat' column with corrected reversal of tokenization #\n",
        "    #====================================================================#\n",
        "    \n",
        "    perturbation_df[f'{perturbation}_concat'] = perturbation_df[f'{perturbation}_tokens'].apply(bert_detokenize)\n",
        "    \n",
        "    #===============================================#\n",
        "    # Original prediction                           #\n",
        "    #===============================================#\n",
        "    \n",
        "    perturbation_df['orig_prediction'] = bert_agnews.predict_label_batch(perturbation_df['sentence'])\n",
        "    \n",
        "    #===============================================#\n",
        "    # Prediction on new sentence                    #\n",
        "    #===============================================#\n",
        "    \n",
        "    perturbation_df[f'{perturbation}_prediction'] = bert_agnews.predict_label_batch(perturbation_df[f'{perturbation}_concat'])\n",
        "    \n",
        "    #========================================================#\n",
        "    # Drop examples where predictions which are not the same #\n",
        "    #========================================================#\n",
        "    \n",
        "    perturbation_df = perturbation_df.copy()[perturbation_df[f'{perturbation}_prediction'] == perturbation_df['orig_prediction']]\n",
        "    print(3)\n",
        "    print(perturbation_df.shape)\n",
        "    if perturbation_df.shape[0] <= 2:\n",
        "        print(f'Skipped {perturbation}')\n",
        "        print('\\n')\n",
        "        perturbation_df_dict[perturbation] = None\n",
        "        continue\n",
        "    \n",
        "    #===============================================#\n",
        "    # Flag for correct prediction                   #\n",
        "    #===============================================#\n",
        "\n",
        "    perturbation_df['correct_prediction'] = np.where(\n",
        "        perturbation_df['label'] == perturbation_df['orig_prediction'],\n",
        "        1,\n",
        "        0\n",
        "    )\n",
        "    print(4)\n",
        "    print(perturbation_df['correct_prediction'].sum())\n",
        "    \n",
        "    #===============================================#\n",
        "    # SHAP values for original sentence             #\n",
        "    #===============================================#\n",
        "    \n",
        "    shap_values = shap_explainer.explain_instances(perturbation_df['sentence'])\n",
        "    \n",
        "    perturbation_df['shap_orig_tokens'] = shap_values.data\n",
        "    perturbation_df['shap_orig_tokens'] = perturbation_df['shap_orig_tokens'].apply(lambda x: x[1:-1])  # Drop first and last as these correspond to special tokens\n",
        "    \n",
        "    perturbation_df['shap_orig_values'] = shap_values.values\n",
        "    perturbation_df['shap_orig_values'] = perturbation_df['shap_orig_values'].apply(lambda x: x[1:-1, :])  # Drop first and last as these correspond to special tokens\n",
        "\n",
        "    # Only keep SHAP values for label predicted\n",
        "    perturbation_df['shap_orig_values'] = perturbation_df.apply(lambda x: x['shap_orig_values'][:, x['orig_prediction']], axis=1)\n",
        "    \n",
        "    # Length of SHAP tokens same as length of SHAP values\n",
        "    assert perturbation_df.shape[0] == (perturbation_df['shap_orig_tokens'].apply(len) == perturbation_df['shap_orig_values'].apply(len)).sum()\n",
        "    \n",
        "    #===============================================#\n",
        "    # SHAP values for perturbed sentence            #\n",
        "    #===============================================#\n",
        "    \n",
        "    shap_values = shap_explainer.explain_instances(perturbation_df[f'{perturbation}_concat'])\n",
        "\n",
        "    perturbation_df[f'shap_{perturbation}_tokens'] = shap_values.data\n",
        "    perturbation_df[f'shap_{perturbation}_tokens'] = perturbation_df[f'shap_{perturbation}_tokens'].apply(lambda x: x[1:-1])  # Drop first and last as these correspond to special tokens\n",
        "\n",
        "    perturbation_df[f'shap_{perturbation}_values'] = shap_values.values\n",
        "    perturbation_df[f'shap_{perturbation}_values'] = perturbation_df[f'shap_{perturbation}_values'].apply(lambda x: x[1:-1, :])  # Drop first and last as these correspond to special tokens\n",
        "\n",
        "    # Only keep SHAP values for label predicted\n",
        "    perturbation_df[f'shap_{perturbation}_values'] = perturbation_df.apply(lambda x: x[f'shap_{perturbation}_values'][:, x['orig_prediction']], axis=1)\n",
        "\n",
        "    # Length of SHAP tokens same as length of SHAP values\n",
        "    assert perturbation_df.shape[0] == (perturbation_df[f'shap_{perturbation}_tokens'].apply(len) == perturbation_df[f'shap_{perturbation}_values'].apply(len)).sum()\n",
        "\n",
        "    #====================================================#\n",
        "    # Drop examples where an important token was changed #\n",
        "    #====================================================#\n",
        "\n",
        "    perturbation_df['most_important_indices'] = perturbation_df['shap_orig_values'].apply(lambda x: np.argsort(-x)[:5])  # -as sorts in ascending order otherwise\n",
        "\n",
        "    perturbation_df['important_token_changed'] = perturbation_df.apply(\n",
        "        lambda x: any(\n",
        "            idx in x['most_important_indices'] for idx in x[f'{perturbation}_pert_ind']\n",
        "        ), \n",
        "        axis=1\n",
        "    )\n",
        "\n",
        "    perturbation_df['important_token_changed'] = perturbation_df['important_token_changed'].astype(int)\n",
        "\n",
        "    perturbation_df = perturbation_df.copy()[perturbation_df['important_token_changed'] == 0]\n",
        "    \n",
        "    print(5)\n",
        "    print(perturbation_df.shape)\n",
        "\n",
        "    #===============================================================#\n",
        "    # Additional criteria if perturbation in PERTURBATION_REDUCTION #\n",
        "    #===============================================================#\n",
        "    \n",
        "    if perturbation in PERTURBATION_REDUCTION:\n",
        "\n",
        "        perturbation_df['shap_orig_tokens'] = perturbation_df.apply(\n",
        "            lambda x: [\n",
        "                token for i, token in enumerate(x['shap_orig_tokens']) if i not in x[f'{perturbation}_pert_ind']\n",
        "            ], \n",
        "            axis=1\n",
        "        )\n",
        "\n",
        "        perturbation_df['shap_orig_values'] = perturbation_df.apply(\n",
        "            lambda x: [\n",
        "                token for i, token in enumerate(x['shap_orig_values']) if i not in x[f'{perturbation}_pert_ind']\n",
        "            ], \n",
        "            axis=1\n",
        "        )\n",
        "\n",
        "    # Check number of tokens in original matches number in perturbed\n",
        "    perturbation_df['token_length_mismatch'] = np.where(\n",
        "        perturbation_df['shap_orig_tokens'].apply(len) != perturbation_df[f'shap_{perturbation}_tokens'].apply(len),\n",
        "        1,\n",
        "        0\n",
        "    )\n",
        "    perturbation_df = perturbation_df.copy()[perturbation_df['token_length_mismatch'] == 0]\n",
        "    print(6)\n",
        "    print(perturbation_df.shape)\n",
        "    if perturbation_df.shape[0] <= 2:\n",
        "        print(f'Skipped {perturbation}')\n",
        "        print('\\n')\n",
        "        perturbation_df_dict[perturbation] = None\n",
        "        continue\n",
        "    \n",
        "    assert (perturbation_df['shap_orig_tokens'].apply(len) == perturbation_df[f'shap_{perturbation}_tokens'].apply(len)).mean() == 1\n",
        "    \n",
        "    # Store dataframe\n",
        "    perturbation_df_dict[perturbation] = perturbation_df\n",
        "    \n",
        "    print('\\n')"
      ],
      "id": "EZO96vPI3Bvn",
      "execution_count": 44,
      "outputs": [
        {
          "output_type": "stream",
          "text": [
            "strip_punct\n",
            "1\n",
            "(12000, 8)\n",
            "2\n",
            "(10523, 8)\n",
            "Filtered examples for strip_punct\n",
            "3\n",
            "(498, 10)\n",
            "4\n",
            "469\n"
          ],
          "name": "stdout"
        },
        {
          "output_type": "stream",
          "text": [
            "Partition explainer: 499it [06:10,  1.31it/s]\n",
            "Partition explainer: 499it [06:10,  1.31it/s]\n"
          ],
          "name": "stderr"
        },
        {
          "output_type": "stream",
          "text": [
            "5\n",
            "(416, 17)\n",
            "6\n",
            "(416, 18)\n",
            "\n",
            "\n",
            "remove_commas\n",
            "1\n",
            "(12000, 8)\n",
            "2\n",
            "(8253, 8)\n",
            "Filtered examples for remove_commas\n",
            "3\n",
            "(496, 10)\n",
            "4\n",
            "455\n"
          ],
          "name": "stdout"
        },
        {
          "output_type": "stream",
          "text": [
            "Partition explainer: 497it [06:10,  1.30it/s]\n",
            "Partition explainer: 497it [06:09,  1.31it/s]\n"
          ],
          "name": "stderr"
        },
        {
          "output_type": "stream",
          "text": [
            "5\n",
            "(390, 17)\n",
            "6\n",
            "(390, 18)\n",
            "\n",
            "\n",
            "remove_all_punct\n",
            "1\n",
            "(12000, 8)\n",
            "2\n",
            "(11956, 8)\n",
            "Filtered examples for remove_all_punct\n",
            "3\n",
            "(490, 10)\n",
            "4\n",
            "467\n"
          ],
          "name": "stdout"
        },
        {
          "output_type": "stream",
          "text": [
            "Partition explainer: 491it [06:05,  1.31it/s]\n",
            "Partition explainer: 491it [06:03,  1.31it/s]\n"
          ],
          "name": "stderr"
        },
        {
          "output_type": "stream",
          "text": [
            "5\n",
            "(217, 17)\n",
            "6\n",
            "(217, 18)\n",
            "\n",
            "\n",
            "contraction\n",
            "1\n",
            "(12000, 8)\n",
            "2\n",
            "(1046, 8)\n",
            "Filtered examples for contraction\n",
            "3\n",
            "(497, 10)\n",
            "4\n",
            "463\n"
          ],
          "name": "stdout"
        },
        {
          "output_type": "stream",
          "text": [
            "Partition explainer: 498it [06:12,  1.30it/s]\n",
            "Partition explainer: 498it [06:12,  1.30it/s]\n"
          ],
          "name": "stderr"
        },
        {
          "output_type": "stream",
          "text": [
            "5\n",
            "(447, 17)\n",
            "6\n",
            "(0, 18)\n",
            "Skipped contraction\n",
            "\n",
            "\n",
            "change_first_name\n",
            "1\n",
            "(12000, 8)\n",
            "2\n",
            "(1, 8)\n",
            "Skipped change_first_name\n",
            "\n",
            "\n",
            "change_last_name\n",
            "1\n",
            "(12000, 8)\n",
            "2\n",
            "(7, 8)\n",
            "3\n",
            "(7, 10)\n",
            "4\n",
            "7\n",
            "5\n",
            "(4, 17)\n",
            "6\n",
            "(4, 18)\n",
            "\n",
            "\n",
            "change_location\n",
            "1\n",
            "(12000, 8)\n",
            "2\n",
            "(0, 8)\n",
            "Skipped change_location\n",
            "\n",
            "\n",
            "add_typo\n",
            "1\n",
            "(12000, 8)\n",
            "2\n",
            "(12000, 8)\n",
            "Filtered examples for add_typo\n",
            "3\n",
            "(487, 10)\n",
            "4\n",
            "451\n"
          ],
          "name": "stdout"
        },
        {
          "output_type": "stream",
          "text": [
            "Partition explainer: 488it [06:02,  1.31it/s]\n",
            "Partition explainer: 488it [06:03,  1.30it/s]\n"
          ],
          "name": "stderr"
        },
        {
          "output_type": "stream",
          "text": [
            "5\n",
            "(405, 17)\n",
            "6\n",
            "(26, 18)\n",
            "\n",
            "\n",
            "switch_gender\n",
            "1\n",
            "(12000, 8)\n",
            "2\n",
            "(2179, 8)\n",
            "Filtered examples for switch_gender\n",
            "3\n",
            "(497, 10)\n",
            "4\n",
            "481\n"
          ],
          "name": "stdout"
        },
        {
          "output_type": "stream",
          "text": [
            "Partition explainer: 498it [06:11,  1.30it/s]\n",
            "Partition explainer: 498it [06:11,  1.30it/s]\n"
          ],
          "name": "stderr"
        },
        {
          "output_type": "stream",
          "text": [
            "5\n",
            "(440, 17)\n",
            "6\n",
            "(439, 18)\n",
            "\n",
            "\n",
            "CPU times: user 53min 27s, sys: 25min 39s, total: 1h 19min 6s\n",
            "Wall time: 1h 18min 50s\n"
          ],
          "name": "stdout"
        }
      ]
    },
    {
      "cell_type": "markdown",
      "metadata": {
        "id": "FFFDplcWYdrB"
      },
      "source": [
        "### Visualisation"
      ],
      "id": "FFFDplcWYdrB"
    },
    {
      "cell_type": "code",
      "metadata": {
        "colab": {
          "base_uri": "https://localhost:8080/"
        },
        "id": "6fRPuWM4YdrO",
        "outputId": "96e76dee-8818-4f8c-dcef-1aeed15d4504"
      },
      "source": [
        "non_none = 0\n",
        "for df in perturbation_df_dict.values():\n",
        "  if df is not None:\n",
        "    non_none += 1\n",
        "non_none"
      ],
      "id": "6fRPuWM4YdrO",
      "execution_count": 45,
      "outputs": [
        {
          "output_type": "execute_result",
          "data": {
            "text/plain": [
              "6"
            ]
          },
          "metadata": {
            "tags": []
          },
          "execution_count": 45
        }
      ]
    },
    {
      "cell_type": "code",
      "metadata": {
        "colab": {
          "base_uri": "https://localhost:8080/",
          "height": 373
        },
        "id": "Uk2rDoPZYdrP",
        "outputId": "2b3c739d-d6c4-4e3e-9b6b-2e05ccc045b2"
      },
      "source": [
        "fig, axes = plt.subplots(1, 6, figsize=(20, 5))\n",
        "\n",
        "fig.suptitle('AG News development set Spearman scores by perturbation')\n",
        "\n",
        "i = 0\n",
        "for perturbation, df in perturbation_df_dict.items():\n",
        "    if df is None:\n",
        "        continue\n",
        "    if perturbation == 'swap_adj':\n",
        "        continue\n",
        "    df['spearman'] = df.apply(lambda x: spearmanr(x['shap_orig_values'], x[f'shap_{perturbation}_values']).correlation, axis=1)\n",
        "    sns.histplot(df['spearman'], bins=10, ax=axes[i])\n",
        "    axes[i].set_xlabel('Spearman')\n",
        "    axes[i].set_title(f\"{perturbation} (mean: {np.round(np.mean(df['spearman']), 2)})\")\n",
        "    i+=1\n",
        "plt.tight_layout()\n",
        "plt.savefig('reports/figures/AG News BERT SHAP Spearman.png')\n",
        "plt.show()"
      ],
      "id": "Uk2rDoPZYdrP",
      "execution_count": 46,
      "outputs": [
        {
          "output_type": "display_data",
          "data": {
            "image/png": "[encoded data removed]",
            "text/plain": [
              "<Figure size 1440x360 with 6 Axes>"
            ]
          },
          "metadata": {
            "tags": [],
            "needs_background": "light"
          }
        }
      ]
    },
    {
      "cell_type": "code",
      "metadata": {
        "colab": {
          "base_uri": "https://localhost:8080/"
        },
        "id": "te82i-fOYdrP",
        "outputId": "dcaf5e0b-ee91-4636-d0d3-173a2a39c386"
      },
      "source": [
        "for perturbation, df in perturbation_df_dict.items():\n",
        "    if df is None:\n",
        "        continue\n",
        "    if perturbation == 'swap_adj':\n",
        "        continue\n",
        "    df['spearman'] = df.apply(lambda x: spearmanr(x['shap_orig_values'], x[f'shap_{perturbation}_values']).correlation, axis=1)\n",
        "    print(perturbation)\n",
        "    print(f\"Mean Spearman: {df['spearman'].mean()}\")\n",
        "    print(f\"% < 0.8 Spearman: {(df['spearman'] < 0.8).mean()}\")\n",
        "    print(f\"% < 0.6 Spearman: {(df['spearman'] < 0.6).mean()}\")\n",
        "    print('\\n')"
      ],
      "id": "te82i-fOYdrP",
      "execution_count": 47,
      "outputs": [
        {
          "output_type": "stream",
          "text": [
            "strip_punct\n",
            "Mean Spearman: 0.8712574521611107\n",
            "% < 0.8 Spearman: 0.21875\n",
            "% < 0.6 Spearman: 0.0889423076923077\n",
            "\n",
            "\n",
            "remove_commas\n",
            "Mean Spearman: 0.5821682501127845\n",
            "% < 0.8 Spearman: 0.7205128205128205\n",
            "% < 0.6 Spearman: 0.41794871794871796\n",
            "\n",
            "\n",
            "remove_all_punct\n",
            "Mean Spearman: 0.4775999787911378\n",
            "% < 0.8 Spearman: 0.7741935483870968\n",
            "% < 0.6 Spearman: 0.5944700460829493\n",
            "\n",
            "\n",
            "change_last_name\n",
            "Mean Spearman: 0.9651087835849701\n",
            "% < 0.8 Spearman: 0.0\n",
            "% < 0.6 Spearman: 0.0\n",
            "\n",
            "\n",
            "add_typo\n",
            "Mean Spearman: 0.9507416381969758\n",
            "% < 0.8 Spearman: 0.07692307692307693\n",
            "% < 0.6 Spearman: 0.0\n",
            "\n",
            "\n",
            "switch_gender\n",
            "Mean Spearman: 0.9408973121080959\n",
            "% < 0.8 Spearman: 0.0888382687927107\n",
            "% < 0.6 Spearman: 0.029612756264236904\n",
            "\n",
            "\n"
          ],
          "name": "stdout"
        }
      ]
    },
    {
      "cell_type": "code",
      "metadata": {
        "colab": {
          "base_uri": "https://localhost:8080/",
          "height": 1000
        },
        "id": "YwGuLwCFYdrQ",
        "outputId": "b0845838-ad73-4cd1-81e7-2a8bfd2c8129"
      },
      "source": [
        "fig, axes = plt.subplots(10, 6, figsize=(20, 30), sharex=True)\n",
        "\n",
        "for k in range(1, 11):\n",
        "  i = 0\n",
        "  for perturbation, df in perturbation_df_dict.items():\n",
        "      if df is None:\n",
        "          continue\n",
        "      if perturbation == 'swap_adj':\n",
        "          continue\n",
        "      df['top_k_idx_orig'] = df.apply(lambda x: np.argsort(-np.array(x[f'shap_orig_values']))[:k], axis=1)\n",
        "      df['top_k_idx_perturb'] = df.apply(lambda x: np.argsort(-x[f'shap_{perturbation}_values'])[:k], axis=1)\n",
        "      \n",
        "      df['k_intersection'] = df.apply(lambda x: (x['top_k_idx_orig'] == x['top_k_idx_perturb']).mean(), axis=1)\n",
        "\n",
        "      sns.histplot(df['k_intersection'], bins=10, ax=axes[k-1, i])\n",
        "      axes[k-1, i].set_xlabel('Top-k intersection')\n",
        "      axes[k-1, i].set_title(f\"{perturbation} (mean: {np.round(np.mean(df['k_intersection']), 2)})\")\n",
        "      i+=1\n",
        "\n",
        "rows = ['k={}'.format(row) for row in range(1,11)]\n",
        "\n",
        "# cols = ['strip_punct', 'remove_commas', 'remove_all_punct', 'add_typo', 'switch_gender']\n",
        "# for ax, col in zip(axes[0], cols):\n",
        "#     ax.set_title(col)\n",
        "\n",
        "for ax, row in zip(axes[:,0], rows):\n",
        "    ax.set_ylabel(row, rotation=90, size='large')\n",
        "    \n",
        "plt.tight_layout()\n",
        "plt.savefig('reports/figures/AG News BERT SHAP top-k.png')\n",
        "plt.show()"
      ],
      "id": "YwGuLwCFYdrQ",
      "execution_count": 48,
      "outputs": [
        {
          "output_type": "display_data",
          "data": {
            "image/png": "[encoded data removed]",
            "text/plain": [
              "<Figure size 1440x2160 with 60 Axes>"
            ]
          },
          "metadata": {
            "tags": [],
            "needs_background": "light"
          }
        }
      ]
    },
    {
      "cell_type": "code",
      "metadata": {
        "colab": {
          "base_uri": "https://localhost:8080/"
        },
        "id": "tHstqYLbYdrQ",
        "outputId": "118e6bcb-f365-4f87-abf4-96f4e84be568"
      },
      "source": [
        "for k in range(1, 11):\n",
        "  \n",
        "  for perturbation, df in perturbation_df_dict.items():\n",
        "      if df is None:\n",
        "          continue\n",
        "      if perturbation == 'swap_adj':\n",
        "          continue\n",
        "      df['top_k_idx_orig'] = df.apply(lambda x: np.argsort(-np.array(x[f'shap_orig_values']))[:k], axis=1)\n",
        "      df['top_k_idx_perturb'] = df.apply(lambda x: np.argsort(-x[f'shap_{perturbation}_values'])[:k], axis=1)\n",
        "      \n",
        "      df['k_intersection'] = df.apply(lambda x: (x['top_k_idx_orig'] == x['top_k_idx_perturb']).mean(), axis=1)\n",
        "\n",
        "      print(f\"Top-{k}, {perturbation}\")\n",
        "      print(f\"Mean: {df['k_intersection'].mean()}\")\n",
        "      print(f\"% < 0.8: {(df['k_intersection'] < 0.8).mean()}\")\n",
        "      print(f\"% < 0.6: {(df['k_intersection'] < 0.6).mean()}\")\n",
        "      print('\\n')"
      ],
      "id": "tHstqYLbYdrQ",
      "execution_count": 49,
      "outputs": [
        {
          "output_type": "stream",
          "text": [
            "Top-1, strip_punct\n",
            "Mean: 0.5985576923076923\n",
            "% < 0.8: 0.4014423076923077\n",
            "% < 0.6: 0.4014423076923077\n",
            "\n",
            "\n",
            "Top-1, remove_commas\n",
            "Mean: 0.34615384615384615\n",
            "% < 0.8: 0.6538461538461539\n",
            "% < 0.6: 0.6538461538461539\n",
            "\n",
            "\n",
            "Top-1, remove_all_punct\n",
            "Mean: 0.2764976958525346\n",
            "% < 0.8: 0.7235023041474654\n",
            "% < 0.6: 0.7235023041474654\n",
            "\n",
            "\n",
            "Top-1, change_last_name\n",
            "Mean: 1.0\n",
            "% < 0.8: 0.0\n",
            "% < 0.6: 0.0\n",
            "\n",
            "\n",
            "Top-1, add_typo\n",
            "Mean: 0.7307692307692307\n",
            "% < 0.8: 0.2692307692307692\n",
            "% < 0.6: 0.2692307692307692\n",
            "\n",
            "\n",
            "Top-1, switch_gender\n",
            "Mean: 0.7312072892938497\n",
            "% < 0.8: 0.26879271070615035\n",
            "% < 0.6: 0.26879271070615035\n",
            "\n",
            "\n",
            "Top-2, strip_punct\n",
            "Mean: 0.5733173076923077\n",
            "% < 0.8: 0.47115384615384615\n",
            "% < 0.6: 0.47115384615384615\n",
            "\n",
            "\n",
            "Top-2, remove_commas\n",
            "Mean: 0.32564102564102565\n",
            "% < 0.8: 0.717948717948718\n",
            "% < 0.6: 0.717948717948718\n",
            "\n",
            "\n",
            "Top-2, remove_all_punct\n",
            "Mean: 0.2557603686635945\n",
            "% < 0.8: 0.783410138248848\n",
            "% < 0.6: 0.783410138248848\n",
            "\n",
            "\n",
            "Top-2, change_last_name\n",
            "Mean: 1.0\n",
            "% < 0.8: 0.0\n",
            "% < 0.6: 0.0\n",
            "\n",
            "\n",
            "Top-2, add_typo\n",
            "Mean: 0.7115384615384616\n",
            "% < 0.8: 0.3076923076923077\n",
            "% < 0.6: 0.3076923076923077\n",
            "\n",
            "\n",
            "Top-2, switch_gender\n",
            "Mean: 0.715261958997722\n",
            "% < 0.8: 0.3325740318906606\n",
            "% < 0.6: 0.3325740318906606\n",
            "\n",
            "\n",
            "Top-3, strip_punct\n",
            "Mean: 0.560096153846154\n",
            "% < 0.8: 0.5144230769230769\n",
            "% < 0.6: 0.44711538461538464\n",
            "\n",
            "\n",
            "Top-3, remove_commas\n",
            "Mean: 0.3145299145299145\n",
            "% < 0.8: 0.7410256410256411\n",
            "% < 0.6: 0.7076923076923077\n",
            "\n",
            "\n",
            "Top-3, remove_all_punct\n",
            "Mean: 0.23809523809523814\n",
            "% < 0.8: 0.8248847926267281\n",
            "% < 0.6: 0.7695852534562212\n",
            "\n",
            "\n",
            "Top-3, change_last_name\n",
            "Mean: 1.0\n",
            "% < 0.8: 0.0\n",
            "% < 0.6: 0.0\n",
            "\n",
            "\n",
            "Top-3, add_typo\n",
            "Mean: 0.717948717948718\n",
            "% < 0.8: 0.3076923076923077\n",
            "% < 0.6: 0.2692307692307692\n",
            "\n",
            "\n",
            "Top-3, switch_gender\n",
            "Mean: 0.703113135914958\n",
            "% < 0.8: 0.36446469248291574\n",
            "% < 0.6: 0.30296127562642367\n",
            "\n",
            "\n",
            "Top-4, strip_punct\n",
            "Mean: 0.5492788461538461\n",
            "% < 0.8: 0.5384615384615384\n",
            "% < 0.6: 0.5024038461538461\n",
            "\n",
            "\n",
            "Top-4, remove_commas\n",
            "Mean: 0.2980769230769231\n",
            "% < 0.8: 0.7923076923076923\n",
            "% < 0.6: 0.7333333333333333\n",
            "\n",
            "\n",
            "Top-4, remove_all_punct\n",
            "Mean: 0.22811059907834103\n",
            "% < 0.8: 0.8525345622119815\n",
            "% < 0.6: 0.8248847926267281\n",
            "\n",
            "\n",
            "Top-4, change_last_name\n",
            "Mean: 0.9375\n",
            "% < 0.8: 0.25\n",
            "% < 0.6: 0.0\n",
            "\n",
            "\n",
            "Top-4, add_typo\n",
            "Mean: 0.7115384615384616\n",
            "% < 0.8: 0.3076923076923077\n",
            "% < 0.6: 0.3076923076923077\n",
            "\n",
            "\n",
            "Top-4, switch_gender\n",
            "Mean: 0.6947608200455581\n",
            "% < 0.8: 0.3940774487471526\n",
            "% < 0.6: 0.3439635535307517\n",
            "\n",
            "\n",
            "Top-5, strip_punct\n",
            "Mean: 0.5274038461538462\n",
            "% < 0.8: 0.5288461538461539\n",
            "% < 0.6: 0.4807692307692308\n",
            "\n",
            "\n",
            "Top-5, remove_commas\n",
            "Mean: 0.2789743589743591\n",
            "% < 0.8: 0.7846153846153846\n",
            "% < 0.6: 0.7333333333333333\n",
            "\n",
            "\n",
            "Top-5, remove_all_punct\n",
            "Mean: 0.21566820276497695\n",
            "% < 0.8: 0.8525345622119815\n",
            "% < 0.6: 0.815668202764977\n",
            "\n",
            "\n",
            "Top-5, change_last_name\n",
            "Mean: 0.9\n",
            "% < 0.8: 0.25\n",
            "% < 0.6: 0.0\n",
            "\n",
            "\n",
            "Top-5, add_typo\n",
            "Mean: 0.7000000000000001\n",
            "% < 0.8: 0.3076923076923077\n",
            "% < 0.6: 0.3076923076923077\n",
            "\n",
            "\n",
            "Top-5, switch_gender\n",
            "Mean: 0.6856492027334851\n",
            "% < 0.8: 0.3804100227790433\n",
            "% < 0.6: 0.31890660592255127\n",
            "\n",
            "\n",
            "Top-6, strip_punct\n",
            "Mean: 0.5140224358974357\n",
            "% < 0.8: 0.6153846153846154\n",
            "% < 0.6: 0.5120192307692307\n",
            "\n",
            "\n",
            "Top-6, remove_commas\n",
            "Mean: 0.2658119658119659\n",
            "% < 0.8: 0.8487179487179487\n",
            "% < 0.6: 0.782051282051282\n",
            "\n",
            "\n",
            "Top-6, remove_all_punct\n",
            "Mean: 0.20814132104454683\n",
            "% < 0.8: 0.8894009216589862\n",
            "% < 0.6: 0.847926267281106\n",
            "\n",
            "\n",
            "Top-6, change_last_name\n",
            "Mean: 0.875\n",
            "% < 0.8: 0.25\n",
            "% < 0.6: 0.25\n",
            "\n",
            "\n",
            "Top-6, add_typo\n",
            "Mean: 0.6923076923076923\n",
            "% < 0.8: 0.34615384615384615\n",
            "% < 0.6: 0.3076923076923077\n",
            "\n",
            "\n",
            "Top-6, switch_gender\n",
            "Mean: 0.6719817767653757\n",
            "% < 0.8: 0.42596810933940776\n",
            "% < 0.6: 0.3712984054669704\n",
            "\n",
            "\n",
            "Top-7, strip_punct\n",
            "Mean: 0.5003434065934067\n",
            "% < 0.8: 0.6658653846153846\n",
            "% < 0.6: 0.5985576923076923\n",
            "\n",
            "\n",
            "Top-7, remove_commas\n",
            "Mean: 0.2545787545787546\n",
            "% < 0.8: 0.8769230769230769\n",
            "% < 0.6: 0.8461538461538461\n",
            "\n",
            "\n",
            "Top-7, remove_all_punct\n",
            "Mean: 0.19881500987491774\n",
            "% < 0.8: 0.8940092165898618\n",
            "% < 0.6: 0.8847926267281107\n",
            "\n",
            "\n",
            "Top-7, change_last_name\n",
            "Mean: 0.8571428571428572\n",
            "% < 0.8: 0.25\n",
            "% < 0.6: 0.25\n",
            "\n",
            "\n",
            "Top-7, add_typo\n",
            "Mean: 0.6923076923076923\n",
            "% < 0.8: 0.34615384615384615\n",
            "% < 0.6: 0.34615384615384615\n",
            "\n",
            "\n",
            "Top-7, switch_gender\n",
            "Mean: 0.6602668402212826\n",
            "% < 0.8: 0.4988610478359909\n",
            "% < 0.6: 0.41002277904328016\n",
            "\n",
            "\n",
            "Top-8, strip_punct\n",
            "Mean: 0.4933894230769231\n",
            "% < 0.8: 0.6826923076923077\n",
            "% < 0.6: 0.5769230769230769\n",
            "\n",
            "\n",
            "Top-8, remove_commas\n",
            "Mean: 0.24487179487179486\n",
            "% < 0.8: 0.8871794871794871\n",
            "% < 0.6: 0.8384615384615385\n",
            "\n",
            "\n",
            "Top-8, remove_all_punct\n",
            "Mean: 0.18721198156682028\n",
            "% < 0.8: 0.9124423963133641\n",
            "% < 0.6: 0.8755760368663594\n",
            "\n",
            "\n",
            "Top-8, change_last_name\n",
            "Mean: 0.84375\n",
            "% < 0.8: 0.25\n",
            "% < 0.6: 0.25\n",
            "\n",
            "\n",
            "Top-8, add_typo\n",
            "Mean: 0.6923076923076923\n",
            "% < 0.8: 0.34615384615384615\n",
            "% < 0.6: 0.34615384615384615\n",
            "\n",
            "\n",
            "Top-8, switch_gender\n",
            "Mean: 0.6537585421412301\n",
            "% < 0.8: 0.5239179954441914\n",
            "% < 0.6: 0.38496583143507973\n",
            "\n",
            "\n",
            "Top-9, strip_punct\n",
            "Mean: 0.4839743589743596\n",
            "% < 0.8: 0.6971153846153846\n",
            "% < 0.6: 0.625\n",
            "\n",
            "\n",
            "Top-9, remove_commas\n",
            "Mean: 0.23390313390313403\n",
            "% < 0.8: 0.9051282051282051\n",
            "% < 0.6: 0.8666666666666667\n",
            "\n",
            "\n",
            "Top-9, remove_all_punct\n",
            "Mean: 0.17921146953405018\n",
            "% < 0.8: 0.9308755760368663\n",
            "% < 0.6: 0.8847926267281107\n",
            "\n",
            "\n",
            "Top-9, change_last_name\n",
            "Mean: 0.8055555555555556\n",
            "% < 0.8: 0.25\n",
            "% < 0.6: 0.25\n",
            "\n",
            "\n",
            "Top-9, add_typo\n",
            "Mean: 0.6965811965811967\n",
            "% < 0.8: 0.34615384615384615\n",
            "% < 0.6: 0.34615384615384615\n",
            "\n",
            "\n",
            "Top-9, switch_gender\n",
            "Mean: 0.6438876233864845\n",
            "% < 0.8: 0.5330296127562643\n",
            "% < 0.6: 0.44874715261959\n",
            "\n",
            "\n",
            "Top-10, strip_punct\n",
            "Mean: 0.4786057692307692\n",
            "% < 0.8: 0.6802884615384616\n",
            "% < 0.6: 0.6057692307692307\n",
            "\n",
            "\n",
            "Top-10, remove_commas\n",
            "Mean: 0.2251282051282052\n",
            "% < 0.8: 0.8974358974358975\n",
            "% < 0.6: 0.8538461538461538\n",
            "\n",
            "\n",
            "Top-10, remove_all_punct\n",
            "Mean: 0.17235023041474656\n",
            "% < 0.8: 0.9308755760368663\n",
            "% < 0.6: 0.8847926267281107\n",
            "\n",
            "\n",
            "Top-10, change_last_name\n",
            "Mean: 0.775\n",
            "% < 0.8: 0.25\n",
            "% < 0.6: 0.25\n",
            "\n",
            "\n",
            "Top-10, add_typo\n",
            "Mean: 0.6961538461538462\n",
            "% < 0.8: 0.34615384615384615\n",
            "% < 0.6: 0.34615384615384615\n",
            "\n",
            "\n",
            "Top-10, switch_gender\n",
            "Mean: 0.6353075170842828\n",
            "% < 0.8: 0.5170842824601367\n",
            "% < 0.6: 0.4191343963553531\n",
            "\n",
            "\n"
          ],
          "name": "stdout"
        }
      ]
    },
    {
      "cell_type": "code",
      "metadata": {
        "id": "Oagd5GBeYdrQ"
      },
      "source": [
        "pickle.dump(perturbation_df_dict, open('data/perturbation_df_dict_AGNews_BERT.pickle', 'wb'))"
      ],
      "id": "Oagd5GBeYdrQ",
      "execution_count": 50,
      "outputs": []
    },
    {
      "cell_type": "code",
      "metadata": {
        "id": "T0ZwcT8-YdrQ"
      },
      "source": [
        "# loaded_model = pickle.load(open('data/perturbation_df_dict_AGNews_BERT.pickle', 'rb'))"
      ],
      "id": "T0ZwcT8-YdrQ",
      "execution_count": null,
      "outputs": []
    },
    {
      "cell_type": "code",
      "metadata": {
        "id": "3ba9198d"
      },
      "source": [
        ""
      ],
      "id": "3ba9198d",
      "execution_count": null,
      "outputs": []
    },
    {
      "cell_type": "markdown",
      "metadata": {
        "id": "-M9kh4SnCfpZ"
      },
      "source": [
        "### TODOs\n",
        "\n",
        "- Logic for `swap_adj`\n",
        "- Incorporate full SHAP return object for easy example visualisation\n",
        "- Spot check examples for each perturbation to check that everything working as intended"
      ],
      "id": "-M9kh4SnCfpZ"
    }
  ]
}