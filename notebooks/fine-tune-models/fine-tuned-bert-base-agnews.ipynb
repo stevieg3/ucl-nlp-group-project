{
 "cells": [
  {
   "cell_type": "markdown",
   "id": "35f49a4a",
   "metadata": {},
   "source": [
    "# Fine-tuned `bert-base-uncased` on AG News"
   ]
  },
  {
   "cell_type": "code",
   "execution_count": 1,
   "id": "200dd6af",
   "metadata": {},
   "outputs": [],
   "source": [
    "import os\n",
    "import random\n",
    "\n",
    "import pandas as pd\n",
    "import numpy as np\n",
    "import scipy as sp\n",
    "import torch\n",
    "import spacy\n",
    "from torch.utils.data import \\\n",
    "    TensorDataset, \\\n",
    "    DataLoader\n",
    "from transformers import \\\n",
    "    BertTokenizer, \\\n",
    "    BertForSequenceClassification, \\\n",
    "    AdamW, \\\n",
    "    BertConfig, \\\n",
    "    get_linear_schedule_with_warmup\n",
    "import pytreebank\n",
    "from tqdm import tqdm\n",
    "import shap\n",
    "from checklist.perturb import Perturb"
   ]
  },
  {
   "cell_type": "code",
   "execution_count": 2,
   "id": "f01198c1",
   "metadata": {},
   "outputs": [],
   "source": [
    "# os.chdir('../..')"
   ]
  },
  {
   "cell_type": "code",
   "execution_count": null,
   "id": "cbf261c5",
   "metadata": {},
   "outputs": [],
   "source": [
    "os.getcwd()"
   ]
  },
  {
   "cell_type": "code",
   "execution_count": null,
   "id": "cfc0874b",
   "metadata": {},
   "outputs": [],
   "source": [
    "from google.colab import drive\n",
    "drive.mount('/content/drive')"
   ]
  },
  {
   "cell_type": "code",
   "execution_count": 4,
   "id": "e737d47e",
   "metadata": {},
   "outputs": [],
   "source": [
    "os.chdir('drive/My Drive/Colab Notebooks/Github/ucl-nlp-group-project')"
   ]
  },
  {
   "cell_type": "code",
   "execution_count": 5,
   "id": "10208612",
   "metadata": {},
   "outputs": [],
   "source": [
    "from src.data.dataload import load_sst, load_agnews\n",
    "from src.models.bert_utils import \\\n",
    "    pad_sentence_at_end, \\\n",
    "    create_sentence_input_arrays, \\\n",
    "    AGN_MAX_LENGTH, \\\n",
    "    AGN_BERT_HYPERPARAMETERS, \\\n",
    "    AGN_NUM_LABELS, \\\n",
    "    fine_tune_bert, \\\n",
    "    make_predictions"
   ]
  },
  {
   "cell_type": "code",
   "execution_count": 6,
   "id": "7a8c2835",
   "metadata": {},
   "outputs": [
    {
     "name": "stdout",
     "output_type": "stream",
     "text": [
      "cpu\n"
     ]
    }
   ],
   "source": [
    "device = torch.device(\"cuda:0\" if torch.cuda.is_available() else \"cpu\")\n",
    "print(device)"
   ]
  },
  {
   "cell_type": "markdown",
   "id": "2c8cfd10",
   "metadata": {},
   "source": [
    "## AG News"
   ]
  },
  {
   "cell_type": "code",
   "execution_count": 7,
   "id": "57098dff",
   "metadata": {},
   "outputs": [],
   "source": [
    "agnews = load_agnews()"
   ]
  },
  {
   "cell_type": "code",
   "execution_count": 17,
   "id": "e5e33beb",
   "metadata": {},
   "outputs": [
    {
     "name": "stderr",
     "output_type": "stream",
     "text": [
      "Using custom data configuration default\n",
      "Reusing dataset ag_news (/Users/stevengeorge/.cache/huggingface/datasets/ag_news/default/0.0.0/fb5c5e74a110037311ef5e904583ce9f8b9fbc1354290f97b4929f01b3f48b1a)\n"
     ]
    },
    {
     "data": {
      "text/plain": [
       "((108000, 2), (12000, 2), (7600, 2))"
      ]
     },
     "execution_count": 17,
     "metadata": {},
     "output_type": "execute_result"
    }
   ],
   "source": [
    "train_agn, dev_agn, test_agn = agnews.train_val_test\n",
    "train_agn.shape, dev_agn.shape, test_agn.shape"
   ]
  },
  {
   "cell_type": "code",
   "execution_count": 9,
   "id": "52df8b5d",
   "metadata": {},
   "outputs": [
    {
     "data": {
      "text/html": [
       "<div>\n",
       "<style scoped>\n",
       "    .dataframe tbody tr th:only-of-type {\n",
       "        vertical-align: middle;\n",
       "    }\n",
       "\n",
       "    .dataframe tbody tr th {\n",
       "        vertical-align: top;\n",
       "    }\n",
       "\n",
       "    .dataframe thead th {\n",
       "        text-align: right;\n",
       "    }\n",
       "</style>\n",
       "<table border=\"1\" class=\"dataframe\">\n",
       "  <thead>\n",
       "    <tr style=\"text-align: right;\">\n",
       "      <th></th>\n",
       "      <th>label</th>\n",
       "      <th>text</th>\n",
       "    </tr>\n",
       "  </thead>\n",
       "  <tbody>\n",
       "    <tr>\n",
       "      <th>115955</th>\n",
       "      <td>0</td>\n",
       "      <td>14 executed bodies found in Mosul MOSUL: The b...</td>\n",
       "    </tr>\n",
       "    <tr>\n",
       "      <th>9140</th>\n",
       "      <td>0</td>\n",
       "      <td>Iraqi ministers escape attacks BAGHDAD (BBC)--...</td>\n",
       "    </tr>\n",
       "    <tr>\n",
       "      <th>50651</th>\n",
       "      <td>0</td>\n",
       "      <td>Stocks Are Mixed As Oil Prices Climb NEW YORK ...</td>\n",
       "    </tr>\n",
       "    <tr>\n",
       "      <th>66129</th>\n",
       "      <td>0</td>\n",
       "      <td>The missing Middle East: Bush, Kerry sidestep ...</td>\n",
       "    </tr>\n",
       "    <tr>\n",
       "      <th>82828</th>\n",
       "      <td>1</td>\n",
       "      <td>Harbhajan and Kartik spin India to stunning vi...</td>\n",
       "    </tr>\n",
       "  </tbody>\n",
       "</table>\n",
       "</div>"
      ],
      "text/plain": [
       "        label                                               text\n",
       "115955      0  14 executed bodies found in Mosul MOSUL: The b...\n",
       "9140        0  Iraqi ministers escape attacks BAGHDAD (BBC)--...\n",
       "50651       0  Stocks Are Mixed As Oil Prices Climb NEW YORK ...\n",
       "66129       0  The missing Middle East: Bush, Kerry sidestep ...\n",
       "82828       1  Harbhajan and Kartik spin India to stunning vi..."
      ]
     },
     "execution_count": 9,
     "metadata": {},
     "output_type": "execute_result"
    }
   ],
   "source": [
    "train_agn.head()"
   ]
  },
  {
   "cell_type": "code",
   "execution_count": 19,
   "id": "fd778520",
   "metadata": {},
   "outputs": [],
   "source": [
    "train_agn.rename(columns={'text': 'sentence'}, inplace=True)\n",
    "dev_agn.rename(columns={'text': 'sentence'}, inplace=True)"
   ]
  },
  {
   "cell_type": "code",
   "execution_count": 11,
   "id": "1a596f1b",
   "metadata": {},
   "outputs": [
    {
     "data": {
      "text/plain": [
       "0    0.249944\n",
       "1    0.250620\n",
       "2    0.250120\n",
       "3    0.249315\n",
       "Name: label, dtype: float64"
      ]
     },
     "execution_count": 11,
     "metadata": {},
     "output_type": "execute_result"
    }
   ],
   "source": [
    "(train_agn['label'].value_counts() / train_agn.shape[0]).sort_index()"
   ]
  },
  {
   "cell_type": "code",
   "execution_count": 13,
   "id": "bc863e0d",
   "metadata": {},
   "outputs": [
    {
     "name": "stdout",
     "output_type": "stream",
     "text": [
      "<class 'pandas.core.frame.DataFrame'>\n",
      "Int64Index: 108000 entries, 115955 to 69977\n",
      "Data columns (total 2 columns):\n",
      " #   Column    Non-Null Count   Dtype \n",
      "---  ------    --------------   ----- \n",
      " 0   label     108000 non-null  int64 \n",
      " 1   sentence  108000 non-null  object\n",
      "dtypes: int64(1), object(1)\n",
      "memory usage: 2.5+ MB\n"
     ]
    }
   ],
   "source": [
    "train_agn.info()"
   ]
  },
  {
   "cell_type": "markdown",
   "id": "9ecc1a37",
   "metadata": {},
   "source": [
    "### Tokenization"
   ]
  },
  {
   "cell_type": "code",
   "execution_count": 14,
   "id": "8b5d4796",
   "metadata": {},
   "outputs": [],
   "source": [
    "tokenizer = BertTokenizer.from_pretrained('bert-base-uncased', do_lower_case=True)"
   ]
  },
  {
   "cell_type": "code",
   "execution_count": 15,
   "id": "9fdcdae9",
   "metadata": {},
   "outputs": [],
   "source": [
    "train_encoded_sentences = []\n",
    "\n",
    "for sentence in train_agn['sentence'].values:\n",
    "    enc_sent_as_list = tokenizer.encode(sentence, add_special_tokens=True)\n",
    "    train_encoded_sentences.append(enc_sent_as_list)"
   ]
  },
  {
   "cell_type": "code",
   "execution_count": 20,
   "id": "3b3e06c0",
   "metadata": {},
   "outputs": [],
   "source": [
    "dev_encoded_sentences = []\n",
    "\n",
    "for sentence in dev_agn['sentence'].values:\n",
    "    enc_sent_as_list = tokenizer.encode(sentence, add_special_tokens=True)\n",
    "    dev_encoded_sentences.append(enc_sent_as_list)"
   ]
  },
  {
   "cell_type": "code",
   "execution_count": 21,
   "id": "80b151fb",
   "metadata": {},
   "outputs": [],
   "source": [
    "train_array, train_attention_mask_array = create_sentence_input_arrays(\n",
    "    train_encoded_sentences, \n",
    "    AGN_MAX_LENGTH\n",
    ")\n",
    "\n",
    "dev_array, dev_attention_mask_array = create_sentence_input_arrays(\n",
    "    dev_encoded_sentences, \n",
    "    AGN_MAX_LENGTH\n",
    ")"
   ]
  },
  {
   "cell_type": "code",
   "execution_count": 22,
   "id": "8190f4fb",
   "metadata": {},
   "outputs": [
    {
     "data": {
      "text/plain": [
       "((108000, 380), (108000, 380), (12000, 380), (12000, 380))"
      ]
     },
     "execution_count": 22,
     "metadata": {},
     "output_type": "execute_result"
    }
   ],
   "source": [
    "train_array.shape, train_attention_mask_array.shape, dev_array.shape, dev_attention_mask_array.shape"
   ]
  },
  {
   "cell_type": "markdown",
   "id": "c495218e",
   "metadata": {},
   "source": [
    "Convert to tensors"
   ]
  },
  {
   "cell_type": "code",
   "execution_count": 24,
   "id": "c97758b5",
   "metadata": {},
   "outputs": [],
   "source": [
    "train_tensor = torch.tensor(train_array)\n",
    "train_attention_mask_tensor = torch.tensor(train_attention_mask_array)\n",
    "train_labels_tensor = torch.tensor(train_agn['label'].values)\n",
    "\n",
    "dev_tensor = torch.tensor(dev_array)\n",
    "dev_attention_mask_tensor = torch.tensor(dev_attention_mask_array)\n",
    "dev_labels_tensor = torch.tensor(dev_agn['label'].values)"
   ]
  },
  {
   "cell_type": "code",
   "execution_count": 25,
   "id": "22c5e4e8",
   "metadata": {},
   "outputs": [],
   "source": [
    "train_dataset = TensorDataset(train_tensor, train_attention_mask_tensor, train_labels_tensor)\n",
    "dev_dataset = TensorDataset(dev_tensor, dev_attention_mask_tensor, dev_labels_tensor)"
   ]
  },
  {
   "cell_type": "code",
   "execution_count": 27,
   "id": "65bb4d9e",
   "metadata": {},
   "outputs": [],
   "source": [
    "train_data_loader = DataLoader(train_dataset, batch_size=AGN_BERT_HYPERPARAMETERS['batch_size'], shuffle=True)\n",
    "dev_data_loader = DataLoader(dev_dataset, batch_size=AGN_BERT_HYPERPARAMETERS['batch_size'])"
   ]
  },
  {
   "cell_type": "markdown",
   "id": "98a3e9d3",
   "metadata": {},
   "source": [
    "## Fine-tune BERT\n",
    "\n",
    "Run on Colab"
   ]
  },
  {
   "cell_type": "code",
   "execution_count": 30,
   "id": "647bdaa4",
   "metadata": {
    "tags": []
   },
   "outputs": [],
   "source": [
    "bert_agn = fine_tune_bert(\n",
    "    device, \n",
    "    train_data_loader, \n",
    "    dev_data_loader, \n",
    "    num_labels=AGN_NUM_LABELS, \n",
    "    hyperparameter_dict=AGN_BERT_HYPERPARAMETERS\n",
    ")"
   ]
  },
  {
   "cell_type": "code",
   "execution_count": null,
   "id": "b62b5f21",
   "metadata": {},
   "outputs": [],
   "source": [
    "bert_agn.save_pretrained(\"models/fine-tuned-bert-base-agn\")"
   ]
  },
  {
   "cell_type": "markdown",
   "id": "cf41da1a",
   "metadata": {},
   "source": [
    "## Load model"
   ]
  },
  {
   "cell_type": "code",
   "execution_count": null,
   "id": "c548a3d4",
   "metadata": {},
   "outputs": [],
   "source": [
    "bert_agn = BertForSequenceClassification.from_pretrained(\"models/fine-tuned-bert-base-agn\")"
   ]
  },
  {
   "cell_type": "code",
   "execution_count": null,
   "id": "ebb006e3",
   "metadata": {},
   "outputs": [],
   "source": [
    "%%capture\n",
    "bert_agn.to(device)"
   ]
  },
  {
   "cell_type": "markdown",
   "id": "aae96ed8",
   "metadata": {},
   "source": [
    "## Make predictions"
   ]
  },
  {
   "cell_type": "code",
   "execution_count": 21,
   "id": "44e641d2",
   "metadata": {},
   "outputs": [
    {
     "data": {
      "text/html": [
       "<div>\n",
       "<style scoped>\n",
       "    .dataframe tbody tr th:only-of-type {\n",
       "        vertical-align: middle;\n",
       "    }\n",
       "\n",
       "    .dataframe tbody tr th {\n",
       "        vertical-align: top;\n",
       "    }\n",
       "\n",
       "    .dataframe thead th {\n",
       "        text-align: right;\n",
       "    }\n",
       "</style>\n",
       "<table border=\"1\" class=\"dataframe\">\n",
       "  <thead>\n",
       "    <tr style=\"text-align: right;\">\n",
       "      <th></th>\n",
       "      <th>sentence</th>\n",
       "      <th>label</th>\n",
       "    </tr>\n",
       "  </thead>\n",
       "  <tbody>\n",
       "    <tr>\n",
       "      <th>0</th>\n",
       "      <td>The Rock is destined to be the 21st Century 's...</td>\n",
       "      <td>3</td>\n",
       "    </tr>\n",
       "    <tr>\n",
       "      <th>1</th>\n",
       "      <td>The gorgeously elaborate continuation of `` Th...</td>\n",
       "      <td>4</td>\n",
       "    </tr>\n",
       "    <tr>\n",
       "      <th>2</th>\n",
       "      <td>Singer/composer Bryan Adams contributes a slew...</td>\n",
       "      <td>3</td>\n",
       "    </tr>\n",
       "    <tr>\n",
       "      <th>3</th>\n",
       "      <td>You 'd think by now America would have had eno...</td>\n",
       "      <td>2</td>\n",
       "    </tr>\n",
       "    <tr>\n",
       "      <th>4</th>\n",
       "      <td>Yet the act is still charming here .</td>\n",
       "      <td>3</td>\n",
       "    </tr>\n",
       "  </tbody>\n",
       "</table>\n",
       "</div>"
      ],
      "text/plain": [
       "                                            sentence  label\n",
       "0  The Rock is destined to be the 21st Century 's...      3\n",
       "1  The gorgeously elaborate continuation of `` Th...      4\n",
       "2  Singer/composer Bryan Adams contributes a slew...      3\n",
       "3  You 'd think by now America would have had eno...      2\n",
       "4               Yet the act is still charming here .      3"
      ]
     },
     "execution_count": 21,
     "metadata": {},
     "output_type": "execute_result"
    }
   ],
   "source": [
    "train_agn.head()"
   ]
  },
  {
   "cell_type": "code",
   "execution_count": null,
   "id": "aad476de",
   "metadata": {},
   "outputs": [],
   "source": [
    "predictions = make_predictions(\n",
    "    train_agn, \n",
    "    bert_agn, \n",
    "    tokenizer, \n",
    "    'sentence', \n",
    "    device, \n",
    "    AGN_MAX_LENGTH, \n",
    "    AGN_BERT_HYPERPARAMETERS\n",
    ")"
   ]
  },
  {
   "cell_type": "code",
   "execution_count": null,
   "id": "82276072",
   "metadata": {},
   "outputs": [],
   "source": [
    "(train_agn['label'].values == predictions).mean()"
   ]
  }
 ],
 "metadata": {
  "kernelspec": {
   "display_name": "Python 3",
   "language": "python",
   "name": "python3"
  },
  "language_info": {
   "codemirror_mode": {
    "name": "ipython",
    "version": 3
   },
   "file_extension": ".py",
   "mimetype": "text/x-python",
   "name": "python",
   "nbconvert_exporter": "python",
   "pygments_lexer": "ipython3",
   "version": "3.7.10"
  },
  "toc-autonumbering": false
 },
 "nbformat": 4,
 "nbformat_minor": 5
}
