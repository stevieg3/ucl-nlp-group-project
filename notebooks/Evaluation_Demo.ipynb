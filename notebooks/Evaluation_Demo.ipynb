{
 "cells": [
  {
   "cell_type": "markdown",
   "metadata": {},
   "source": [
    "# Set-up"
   ]
  },
  {
   "cell_type": "code",
   "execution_count": 1,
   "metadata": {},
   "outputs": [],
   "source": [
    "import os\n",
    "os.chdir('..')"
   ]
  },
  {
   "cell_type": "code",
   "execution_count": 2,
   "metadata": {
    "colab": {
     "base_uri": "https://localhost:8080/"
    },
    "id": "9aQy_sLmTHTC",
    "outputId": "f5422a80-be93-4a1a-9f11-562075ca6e23"
   },
   "outputs": [],
   "source": [
    "import spacy\n",
    "nlp = spacy.load('en_core_web_sm')\n",
    "\n",
    "import random\n",
    "\n",
    "import pandas as pd\n",
    "import numpy as np\n",
    "import scipy as sp\n",
    "import importlib\n",
    "import torch\n",
    "import spacy\n",
    "from torch.utils.data import \\\n",
    "    TensorDataset, \\\n",
    "    DataLoader\n",
    "from transformers import \\\n",
    "    BertTokenizer, \\\n",
    "    BertForSequenceClassification, \\\n",
    "    AdamW, \\\n",
    "    BertConfig, \\\n",
    "    get_linear_schedule_with_warmup\n",
    "\n",
    "import allennlp\n",
    "import allennlp_models\n",
    "from allennlp.models.archival import load_archive\n",
    "from allennlp.common.util import JsonDict\n",
    "from allennlp.data import Instance\n",
    "from allennlp.predictors.predictor import Predictor\n",
    "from allennlp.data.fields import LabelField\n",
    "from allennlp.data.tokenizers.spacy_tokenizer import SpacyTokenizer\n",
    "from typing import List, Dict\n",
    "from overrides import overrides\n",
    "\n",
    "from scipy.stats import kendalltau\n",
    "from scipy.stats import spearmanr\n",
    "\n",
    "from copy import deepcopy\n",
    "\n",
    "import html\n",
    "import random\n",
    "from IPython.core.display import display, HTML"
   ]
  },
  {
   "cell_type": "code",
   "execution_count": 3,
   "metadata": {},
   "outputs": [
    {
     "name": "stdout",
     "output_type": "stream",
     "text": [
      "ignoring warnings from spacy\n"
     ]
    }
   ],
   "source": [
    "import sys\n",
    "project_root_dir = os.path.relpath(os.path.join('..', '..'), os.curdir)\n",
    "if project_root_dir not in sys.path:\n",
    "    sys.path += [project_root_dir]\n",
    "from src.data.dataload import *\n",
    "from src.models.bcnmodel import *"
   ]
  },
  {
   "cell_type": "code",
   "execution_count": 4,
   "metadata": {
    "id": "ireH6j46-_wy"
   },
   "outputs": [],
   "source": [
    "device = torch.device(\"cuda:0\" if torch.cuda.is_available() else \"cpu\")"
   ]
  },
  {
   "cell_type": "markdown",
   "metadata": {},
   "source": [
    "## Loading data"
   ]
  },
  {
   "cell_type": "code",
   "execution_count": 5,
   "metadata": {},
   "outputs": [],
   "source": [
    "import src.data.dataload\n",
    "\n",
    "sst = load_sst()\n",
    "agnews = load_agnews()\n",
    "\n",
    "input_data = {'sst': sst, 'agnews': agnews}\n",
    "datasets = list(input_data.keys())"
   ]
  },
  {
   "cell_type": "code",
   "execution_count": 6,
   "metadata": {},
   "outputs": [
    {
     "name": "stderr",
     "output_type": "stream",
     "text": [
      "Using custom data configuration default\n",
      "Reusing dataset ag_news (/Users/olivier/.cache/huggingface/datasets/ag_news/default/0.0.0/17ec33e23df9e89565131f989e0fdf78b0cc4672337b582da83fc3c9f79fe34d)\n"
     ]
    }
   ],
   "source": [
    "train = {}\n",
    "dev = {}\n",
    "test = {}\n",
    "\n",
    "for dataset in datasets:\n",
    "    train[dataset], dev[dataset], test[dataset] = input_data[dataset].train_val_test"
   ]
  },
  {
   "cell_type": "code",
   "execution_count": 7,
   "metadata": {},
   "outputs": [],
   "source": [
    "subset = deepcopy(test['agnews'][:300])"
   ]
  },
  {
   "cell_type": "markdown",
   "metadata": {},
   "source": [
    "## Loading explainers"
   ]
  },
  {
   "cell_type": "code",
   "execution_count": 8,
   "metadata": {},
   "outputs": [],
   "source": [
    "import explainers_functions\n",
    "from explainers_functions import *"
   ]
  },
  {
   "cell_type": "code",
   "execution_count": 9,
   "metadata": {},
   "outputs": [],
   "source": [
    "# importlib.reload(explainers_functions)"
   ]
  },
  {
   "cell_type": "markdown",
   "metadata": {},
   "source": [
    "## Loading perturbations"
   ]
  },
  {
   "cell_type": "code",
   "execution_count": 10,
   "metadata": {},
   "outputs": [
    {
     "data": {
      "text/plain": [
       "'/Volumes/LaCie/GitHubNLP/ucl-nlp-group-project'"
      ]
     },
     "execution_count": 10,
     "metadata": {},
     "output_type": "execute_result"
    }
   ],
   "source": [
    "os.getcwd()"
   ]
  },
  {
   "cell_type": "code",
   "execution_count": 11,
   "metadata": {},
   "outputs": [],
   "source": [
    "from src.data.perturbations import add_perturbations\n",
    "from src.data.perturbations import \\\n",
    "    remove_commas, \\\n",
    "    remove_all_punctuation, \\\n",
    "    switch_gender, \\\n",
    "    strip_trailing_punct, \\\n",
    "    add_typo, \\\n",
    "    change_first_name, \\\n",
    "    change_last_name, \\\n",
    "    change_location, \\\n",
    "    contraction, \\\n",
    "    swap_adjectives"
   ]
  },
  {
   "cell_type": "code",
   "execution_count": 12,
   "metadata": {},
   "outputs": [],
   "source": [
    "tokenizer = SpacyTokenizer()"
   ]
  },
  {
   "cell_type": "code",
   "execution_count": 13,
   "metadata": {},
   "outputs": [],
   "source": [
    "train_perturbations = add_perturbations(\n",
    "    df=subset,\n",
    "    tokenizer=tokenizer,\n",
    "    sentence_col_name='sentence', \n",
    "    perturbation_functions=[\n",
    "        remove_commas,\n",
    "        remove_all_punctuation,\n",
    "        switch_gender,\n",
    "        strip_trailing_punct,\n",
    "        add_typo,\n",
    "        change_first_name,\n",
    "        change_last_name,\n",
    "        change_location,\n",
    "        contraction,\n",
    "        swap_adjectives\n",
    "    ]\n",
    ")"
   ]
  },
  {
   "cell_type": "code",
   "execution_count": 14,
   "metadata": {},
   "outputs": [],
   "source": [
    "perturbation_reduction = ['strip_punct', 'remove_commas', 'remove_all_punct']\n",
    "perturbation_list = perturbation_reduction + ['contraction','change_first_name','change_last_name', 'change_location', 'add_typo',\n",
    "                  'switch_gender', 'swap_adj']"
   ]
  },
  {
   "cell_type": "markdown",
   "metadata": {},
   "source": [
    "## Visualisation"
   ]
  },
  {
   "cell_type": "markdown",
   "metadata": {},
   "source": [
    "Source: https://adataanalyst.com/machine-learning/highlight-text-using-weights/"
   ]
  },
  {
   "cell_type": "code",
   "execution_count": 15,
   "metadata": {},
   "outputs": [],
   "source": [
    "# Prevent special characters like & and < to cause the browser to display something other than what you intended.\n",
    "def html_escape(text):\n",
    "    return html.escape(text)\n",
    "\n",
    "def visualise_weights(tokens, gradients, max_alpha = 0.3):\n",
    "    max_alpha = max_alpha \n",
    "    highlighted_text = []\n",
    "    for i in range(len(tokens)):\n",
    "        weight = gradients[i]\n",
    "        highlighted_text.append('<span style=\"background-color:rgba(135,206,250,' + str(weight / max_alpha) + ');\">' + html_escape(tokens[i]) + '</span>')\n",
    "    highlighted_text = ' '.join(highlighted_text)\n",
    "    print(display(HTML(highlighted_text)))"
   ]
  },
  {
   "cell_type": "markdown",
   "metadata": {
    "id": "TV-ZMAskp6-e"
   },
   "source": [
    "# BCN"
   ]
  },
  {
   "cell_type": "markdown",
   "metadata": {
    "id": "n_klANMNqfU_"
   },
   "source": [
    "**Set up your model & tokenizer**\n"
   ]
  },
  {
   "cell_type": "markdown",
   "metadata": {},
   "source": [
    "The models can be downloaded from here:\n",
    "\n",
    "https://upload.disroot.org/r/o8RgEa6y#lwPxvgfr6TDPXo/xl+u6kdGrsC5MIpaHQ3AstSZzZRg=\n",
    "https://upload.disroot.org/r/_3rS3BsN#C/GGVAC1StHrFX/BEcT8zjGzGAhfWFeZc+wJ1uwyoaw=\n",
    "\n",
    "They should then be saved in the local Github folders '/models/bcn-sst_output' or '/models/bcn-agnews_output'"
   ]
  },
  {
   "cell_type": "code",
   "execution_count": 16,
   "metadata": {},
   "outputs": [],
   "source": [
    "bcn = BCNModel()\n",
    "bcn.load_model(agnews)\n",
    "# BCN_AG_predictor = bcn.predictor"
   ]
  },
  {
   "cell_type": "markdown",
   "metadata": {},
   "source": [
    "## AllenNLP Interpret"
   ]
  },
  {
   "cell_type": "code",
   "execution_count": 17,
   "metadata": {},
   "outputs": [],
   "source": [
    "AllenNLPExplainer1 = AllenNLPExplainer(bcn)"
   ]
  },
  {
   "cell_type": "code",
   "execution_count": 19,
   "metadata": {},
   "outputs": [
    {
     "data": {
      "text/html": [
       "<span style=\"background-color:rgba(135,206,250,0.03378809733764128);\">SAN</span> <span style=\"background-color:rgba(135,206,250,0.07811771136179162);\">FRANCISCO</span> <span style=\"background-color:rgba(135,206,250,0.11633414019473191);\">--</span> <span style=\"background-color:rgba(135,206,250,0.12452290997365076);\">With</span> <span style=\"background-color:rgba(135,206,250,0.0018591596488807972);\">the</span> <span style=\"background-color:rgba(135,206,250,0.05818051068999975);\">first</span> <span style=\"background-color:rgba(135,206,250,0.1968072710572035);\">doubleheader</span> <span style=\"background-color:rgba(135,206,250,0.2879233551580168);\">at</span> <span style=\"background-color:rgba(135,206,250,0.6561185427977392);\">SBC</span> <span style=\"background-color:rgba(135,206,250,0.3919155270019998);\">Park</span> <span style=\"background-color:rgba(135,206,250,0.12617911923823086);\">set</span> <span style=\"background-color:rgba(135,206,250,0.004521396786930074);\">to</span> <span style=\"background-color:rgba(135,206,250,0.08874202298609266);\">go</span> <span style=\"background-color:rgba(135,206,250,0.0443197886404263);\">off</span> <span style=\"background-color:rgba(135,206,250,0.017766956662756385);\">,</span> <span style=\"background-color:rgba(135,206,250,0.017294663164731345);\">today</span> <span style=\"background-color:rgba(135,206,250,0.02752681056670826);\">already</span> <span style=\"background-color:rgba(135,206,250,0.02415708099569046);\">stood</span> <span style=\"background-color:rgba(135,206,250,0.003236920893324953);\">to</span> <span style=\"background-color:rgba(135,206,250,0.06077113501697206);\">be</span> <span style=\"background-color:rgba(135,206,250,0.0485440160866949);\">a</span> <span style=\"background-color:rgba(135,206,250,0.022017277932842888);\">long</span> <span style=\"background-color:rgba(135,206,250,0.3616205642806146);\">workday</span> <span style=\"background-color:rgba(135,206,250,0.08646901028727878);\">for</span> <span style=\"background-color:rgba(135,206,250,0.03125331468080713);\">the</span> <span style=\"background-color:rgba(135,206,250,0.07587205670095429);\">Giants</span> <span style=\"background-color:rgba(135,206,250,0.025369029879493157);\">.</span> <span style=\"background-color:rgba(135,206,250,0.01608156096274885);\">It</span> <span style=\"background-color:rgba(135,206,250,0.024398925718715065);\">will</span> <span style=\"background-color:rgba(135,206,250,0.04273687607305167);\">come</span> <span style=\"background-color:rgba(135,206,250,0.014502800063581544);\">on</span> <span style=\"background-color:rgba(135,206,250,0.007851307077450569);\">the</span> <span style=\"background-color:rgba(135,206,250,0.024674200034556962);\">heels</span> <span style=\"background-color:rgba(135,206,250,0.004434845940955219);\">of</span> <span style=\"background-color:rgba(135,206,250,0.06973193487648725);\">an</span> <span style=\"background-color:rgba(135,206,250,0.04646980660912354);\">even</span> <span style=\"background-color:rgba(135,206,250,0.057304548898047064);\">longer</span> <span style=\"background-color:rgba(135,206,250,0.00621798951529976);\">night</span> <span style=\"background-color:rgba(135,206,250,0.00769950503753412);\">.</span>"
      ],
      "text/plain": [
       "<IPython.core.display.HTML object>"
      ]
     },
     "metadata": {},
     "output_type": "display_data"
    },
    {
     "name": "stdout",
     "output_type": "stream",
     "text": [
      "None\n"
     ]
    },
    {
     "data": {
      "text/html": [
       "<span style=\"background-color:rgba(135,206,250,0.01967598532706477);\">SAN</span> <span style=\"background-color:rgba(135,206,250,0.048460790949838524);\">FRANCISCO</span> <span style=\"background-color:rgba(135,206,250,0.0731211393633117);\">--</span> <span style=\"background-color:rgba(135,206,250,0.05637442764444077);\">With</span> <span style=\"background-color:rgba(135,206,250,0.007496134747606505);\">the</span> <span style=\"background-color:rgba(135,206,250,0.04664635723920466);\">first</span> <span style=\"background-color:rgba(135,206,250,0.0006469291240634034);\">doubleheader</span> <span style=\"background-color:rgba(135,206,250,0.3937031377089131);\">at</span> <span style=\"background-color:rgba(135,206,250,0.8032333357744835);\">SBC</span> <span style=\"background-color:rgba(135,206,250,0.4641969466665836);\">Park</span> <span style=\"background-color:rgba(135,206,250,0.19816429569962843);\">set</span> <span style=\"background-color:rgba(135,206,250,0.014533772731424926);\">to</span> <span style=\"background-color:rgba(135,206,250,0.0653982936036154);\">go</span> <span style=\"background-color:rgba(135,206,250,0.009998105643578711);\">off</span> <span style=\"background-color:rgba(135,206,250,0.016402388987968634);\">,</span> <span style=\"background-color:rgba(135,206,250,0.0033897992533846286);\">today</span> <span style=\"background-color:rgba(135,206,250,0.0092296173583237);\">already</span> <span style=\"background-color:rgba(135,206,250,0.021438451776670343);\">stood</span> <span style=\"background-color:rgba(135,206,250,0.0005976190636472107);\">to</span> <span style=\"background-color:rgba(135,206,250,0.029475756401072136);\">be</span> <span style=\"background-color:rgba(135,206,250,0.03322689943227679);\">a</span> <span style=\"background-color:rgba(135,206,250,0.0052643518901075385);\">long</span> <span style=\"background-color:rgba(135,206,250,0.3258801279409367);\">workday</span> <span style=\"background-color:rgba(135,206,250,0.05090361995292216);\">for</span> <span style=\"background-color:rgba(135,206,250,0.01837056752714611);\">th</span> <span style=\"background-color:rgba(135,206,250,0.24705759851469);\">eGiants</span> <span style=\"background-color:rgba(135,206,250,0.001799215356543688);\">.</span> <span style=\"background-color:rgba(135,206,250,0.030248760215499017);\">It</span> <span style=\"background-color:rgba(135,206,250,0.06430727784592656);\">will</span> <span style=\"background-color:rgba(135,206,250,0.04859971353168457);\">come</span> <span style=\"background-color:rgba(135,206,250,0.020690664421977208);\">on</span> <span style=\"background-color:rgba(135,206,250,0.011062531642434356);\">the</span> <span style=\"background-color:rgba(135,206,250,0.01822382360749267);\">heels</span> <span style=\"background-color:rgba(135,206,250,0.013187273887254315);\">of</span> <span style=\"background-color:rgba(135,206,250,0.047330658358705716);\">an</span> <span style=\"background-color:rgba(135,206,250,0.03404650918862533);\">even</span> <span style=\"background-color:rgba(135,206,250,0.04022181044180532);\">longer</span> <span style=\"background-color:rgba(135,206,250,0.01585939819011443);\">night</span> <span style=\"background-color:rgba(135,206,250,0.024868653667087896);\">.</span>"
      ],
      "text/plain": [
       "<IPython.core.display.HTML object>"
      ]
     },
     "metadata": {},
     "output_type": "display_data"
    },
    {
     "name": "stdout",
     "output_type": "stream",
     "text": [
      "None\n"
     ]
    },
    {
     "data": {
      "text/html": [
       "<span style=\"background-color:rgba(135,206,250,0.9682464472959039);\">USATODAY.com</span> <span style=\"background-color:rgba(135,206,250,0.008245965435122207);\">-</span> <span style=\"background-color:rgba(135,206,250,0.2054848975096685);\">The</span> <span style=\"background-color:rgba(135,206,250,0.40912939060771014);\">Securities</span> <span style=\"background-color:rgba(135,206,250,0.056341317106990536);\">and</span> <span style=\"background-color:rgba(135,206,250,0.016506667882667816);\">Exchange</span> <span style=\"background-color:rgba(135,206,250,0.06512261087055339);\">Commission</span> <span style=\"background-color:rgba(135,206,250,0.01663282531971864);\">is</span> <span style=\"background-color:rgba(135,206,250,0.003867967292990824);\">expected</span> <span style=\"background-color:rgba(135,206,250,0.013032568949907576);\">to</span> <span style=\"background-color:rgba(135,206,250,0.10011369887402902);\">vote</span> <span style=\"background-color:rgba(135,206,250,0.0670735287594435);\">Wednesday</span> <span style=\"background-color:rgba(135,206,250,0.053987792225922177);\">to</span> <span style=\"background-color:rgba(135,206,250,0.013181414186975176);\">prohibit</span> <span style=\"background-color:rgba(135,206,250,0.12159168757063885);\">mutual</span> <span style=\"background-color:rgba(135,206,250,0.0732242763923631);\">fund</span> <span style=\"background-color:rgba(135,206,250,0.07274934652360314);\">companies</span> <span style=\"background-color:rgba(135,206,250,0.0168495010442839);\">from</span> <span style=\"background-color:rgba(135,206,250,0.060547467250744724);\">funneling</span> <span style=\"background-color:rgba(135,206,250,0.23166901137616053);\">stock</span> <span style=\"background-color:rgba(135,206,250,0.006420292742451635);\">trades</span> <span style=\"background-color:rgba(135,206,250,0.04724297995355255);\">to</span> <span style=\"background-color:rgba(135,206,250,0.03677430885444426);\">brokerage</span> <span style=\"background-color:rgba(135,206,250,0.04830720681238895);\">firms</span> <span style=\"background-color:rgba(135,206,250,0.004827841829153239);\">that</span> <span style=\"background-color:rgba(135,206,250,0.021259149708487215);\">agree</span> <span style=\"background-color:rgba(135,206,250,0.031459258518456185);\">to</span> <span style=\"background-color:rgba(135,206,250,0.044376616921288366);\">promote</span> <span style=\"background-color:rgba(135,206,250,0.011889596474400715);\">their</span> <span style=\"background-color:rgba(135,206,250,0.11601837250352187);\">funds</span> <span style=\"background-color:rgba(135,206,250,0.11480948577560976);\">to</span> <span style=\"background-color:rgba(135,206,250,0.0995249524045316);\">investors</span> <span style=\"background-color:rgba(135,206,250,0.17682499378786934);\">.</span>"
      ],
      "text/plain": [
       "<IPython.core.display.HTML object>"
      ]
     },
     "metadata": {},
     "output_type": "display_data"
    },
    {
     "name": "stdout",
     "output_type": "stream",
     "text": [
      "None\n"
     ]
    },
    {
     "data": {
      "text/html": [
       "<span style=\"background-color:rgba(135,206,250,0.9129220577417606);\">USATODAY.com</span> <span style=\"background-color:rgba(135,206,250,0.0009853902795423472);\">-</span> <span style=\"background-color:rgba(135,206,250,0.2237596240476975);\">The</span> <span style=\"background-color:rgba(135,206,250,0.4153066190159831);\">Securities</span> <span style=\"background-color:rgba(135,206,250,0.06223152210091556);\">and</span> <span style=\"background-color:rgba(135,206,250,0.009460352527395023);\">Exchange</span> <span style=\"background-color:rgba(135,206,250,0.08268258607310143);\">Commission</span> <span style=\"background-color:rgba(135,206,250,0.030253813779379253);\">is</span> <span style=\"background-color:rgba(135,206,250,0.03462332658344014);\">expected</span> <span style=\"background-color:rgba(135,206,250,0.017272866027513725);\">t</span> <span style=\"background-color:rgba(135,206,250,0.00019661988264915896);\">ovote</span> <span style=\"background-color:rgba(135,206,250,0.025763958840273177);\">Wednesday</span> <span style=\"background-color:rgba(135,206,250,0.056788502704077926);\">to</span> <span style=\"background-color:rgba(135,206,250,0.09195097833574059);\">prohibit</span> <span style=\"background-color:rgba(135,206,250,0.12624339831733858);\">mutual</span> <span style=\"background-color:rgba(135,206,250,0.07451224777292073);\">fund</span> <span style=\"background-color:rgba(135,206,250,0.05486818766564023);\">companies</span> <span style=\"background-color:rgba(135,206,250,0.015508205280761262);\">from</span> <span style=\"background-color:rgba(135,206,250,0.06318698573270902);\">funneling</span> <span style=\"background-color:rgba(135,206,250,0.242894717218289);\">stock</span> <span style=\"background-color:rgba(135,206,250,0.02098657421918304);\">trades</span> <span style=\"background-color:rgba(135,206,250,0.04643515782494462);\">to</span> <span style=\"background-color:rgba(135,206,250,0.05702640387277448);\">brokerage</span> <span style=\"background-color:rgba(135,206,250,0.06057307198033997);\">firms</span> <span style=\"background-color:rgba(135,206,250,0.006136907844085709);\">that</span> <span style=\"background-color:rgba(135,206,250,0.009732154571092007);\">agree</span> <span style=\"background-color:rgba(135,206,250,0.04832918709380012);\">to</span> <span style=\"background-color:rgba(135,206,250,0.012981568757325788);\">promote</span> <span style=\"background-color:rgba(135,206,250,0.01837136445541867);\">their</span> <span style=\"background-color:rgba(135,206,250,0.1275837648718969);\">funds</span> <span style=\"background-color:rgba(135,206,250,0.10973404084921579);\">to</span> <span style=\"background-color:rgba(135,206,250,0.09690690929595079);\">investors</span> <span style=\"background-color:rgba(135,206,250,0.1771242158466437);\">.</span>"
      ],
      "text/plain": [
       "<IPython.core.display.HTML object>"
      ]
     },
     "metadata": {},
     "output_type": "display_data"
    },
    {
     "name": "stdout",
     "output_type": "stream",
     "text": [
      "None\n"
     ]
    },
    {
     "data": {
      "text/html": [
       "<span style=\"background-color:rgba(135,206,250,0.20654462587760045);\">PRESENTACION</span> <span style=\"background-color:rgba(135,206,250,0.05693816146768729);\">,</span> <span style=\"background-color:rgba(135,206,250,0.5263837326965569);\">Philippines</span> <span style=\"background-color:rgba(135,206,250,0.0696166906296053);\">(</span> <span style=\"background-color:rgba(135,206,250,0.19830851550661263);\">Reuters</span> <span style=\"background-color:rgba(135,206,250,0.032653866943837054);\">)</span> <span style=\"background-color:rgba(135,206,250,0.09117914744813162);\">-</span> <span style=\"background-color:rgba(135,206,250,0.009705643460274166);\">Philippine</span> <span style=\"background-color:rgba(135,206,250,0.04068703733308636);\">communist</span> <span style=\"background-color:rgba(135,206,250,0.0721112640333774);\">rebels</span> <span style=\"background-color:rgba(135,206,250,0.12323240281011477);\">freed</span> <span style=\"background-color:rgba(135,206,250,0.016799633929532806);\">Wednesday</span> <span style=\"background-color:rgba(135,206,250,0.00024083893956936497);\">two</span> <span style=\"background-color:rgba(135,206,250,0.0008665048754084354);\">soldiers</span> <span style=\"background-color:rgba(135,206,250,0.07240297312464268);\">they</span> <span style=\"background-color:rgba(135,206,250,0.11228729648223477);\">had</span> <span style=\"background-color:rgba(135,206,250,0.08934381679308218);\">held</span> <span style=\"background-color:rgba(135,206,250,0.023153388784589373);\">as</span> <span style=\"background-color:rgba(135,206,250,0.14785376182074378);\">&quot;</span> <span style=\"background-color:rgba(135,206,250,0.20494637072650673);\">prisoners</span> <span style=\"background-color:rgba(135,206,250,0.005154081229330306);\">of</span> <span style=\"background-color:rgba(135,206,250,0.17067741311080364);\">war</span> <span style=\"background-color:rgba(135,206,250,0.12351499741998499);\">&quot;</span> <span style=\"background-color:rgba(135,206,250,0.01140664782769608);\">for</span> <span style=\"background-color:rgba(135,206,250,0.045194650935799725);\">more</span> <span style=\"background-color:rgba(135,206,250,0.058338429828477305);\">than</span> <span style=\"background-color:rgba(135,206,250,0.01543006317253908);\">five</span> <span style=\"background-color:rgba(135,206,250,0.08632893366275461);\">months</span> <span style=\"background-color:rgba(135,206,250,0.0047913427637346845);\">,</span> <span style=\"background-color:rgba(135,206,250,0.06531314013812564);\">saying</span> <span style=\"background-color:rgba(135,206,250,0.08135196234038221);\">they</span> <span style=\"background-color:rgba(135,206,250,0.07354376811428937);\">wanted</span> <span style=\"background-color:rgba(135,206,250,0.05756794776588634);\">to</span> <span style=\"background-color:rgba(135,206,250,0.13944660073124426);\">rebuild</span> <span style=\"background-color:rgba(135,206,250,0.07782123915816828);\">confidence</span> <span style=\"background-color:rgba(135,206,250,0.011319106546176787);\">in</span> <span style=\"background-color:rgba(135,206,250,0.11103379259232944);\">peace</span> <span style=\"background-color:rgba(135,206,250,0.036492182933431615);\">talks</span> <span style=\"background-color:rgba(135,206,250,0.0061061338314040295);\">with</span> <span style=\"background-color:rgba(135,206,250,0.00529443862716667);\">the</span> <span style=\"background-color:rgba(135,206,250,0.01995469123530027);\">government</span> <span style=\"background-color:rgba(135,206,250,0.03199625749190573);\">.</span>"
      ],
      "text/plain": [
       "<IPython.core.display.HTML object>"
      ]
     },
     "metadata": {},
     "output_type": "display_data"
    },
    {
     "name": "stdout",
     "output_type": "stream",
     "text": [
      "None\n"
     ]
    },
    {
     "data": {
      "text/html": [
       "<span style=\"background-color:rgba(135,206,250,0.30322618279587915);\">PRESENTACION</span> <span style=\"background-color:rgba(135,206,250,0.320303229865137);\">Philippines</span> <span style=\"background-color:rgba(135,206,250,0.13887019148478189);\">Reuters</span> <span style=\"background-color:rgba(135,206,250,0.4227276095633597);\">Philippine</span> <span style=\"background-color:rgba(135,206,250,0.14605258182390365);\">communist</span> <span style=\"background-color:rgba(135,206,250,0.03202202065658732);\">rebels</span> <span style=\"background-color:rgba(135,206,250,0.01953760878397315);\">freed</span> <span style=\"background-color:rgba(135,206,250,0.06901794364159253);\">Wednesday</span> <span style=\"background-color:rgba(135,206,250,0.002347786052125087);\">two</span> <span style=\"background-color:rgba(135,206,250,0.006832518339201208);\">soldiers</span> <span style=\"background-color:rgba(135,206,250,0.08239737271061238);\">they</span> <span style=\"background-color:rgba(135,206,250,0.09872485703882285);\">had</span> <span style=\"background-color:rgba(135,206,250,0.06503327763348081);\">held</span> <span style=\"background-color:rgba(135,206,250,0.036359491046121094);\">as</span> <span style=\"background-color:rgba(135,206,250,0.2041681294449031);\">prisoners</span> <span style=\"background-color:rgba(135,206,250,0.0022464611607363708);\">of</span> <span style=\"background-color:rgba(135,206,250,0.16674613222133744);\">war</span> <span style=\"background-color:rgba(135,206,250,0.03870225355970639);\">for</span> <span style=\"background-color:rgba(135,206,250,0.053219272057553016);\">more</span> <span style=\"background-color:rgba(135,206,250,0.0835281212386156);\">than</span> <span style=\"background-color:rgba(135,206,250,0.035799648229769145);\">five</span> <span style=\"background-color:rgba(135,206,250,0.11096562530823735);\">months</span> <span style=\"background-color:rgba(135,206,250,0.07845664877658409);\">saying</span> <span style=\"background-color:rgba(135,206,250,0.0965561248200859);\">they</span> <span style=\"background-color:rgba(135,206,250,0.0805981681775439);\">wanted</span> <span style=\"background-color:rgba(135,206,250,0.08798361105549507);\">to</span> <span style=\"background-color:rgba(135,206,250,0.11822416233344012);\">rebuild</span> <span style=\"background-color:rgba(135,206,250,0.11213631612608375);\">confidence</span> <span style=\"background-color:rgba(135,206,250,0.02284119645203139);\">in</span> <span style=\"background-color:rgba(135,206,250,0.1511298476242196);\">peace</span> <span style=\"background-color:rgba(135,206,250,0.06555245597672395);\">talks</span> <span style=\"background-color:rgba(135,206,250,0.00999997545370505);\">with</span> <span style=\"background-color:rgba(135,206,250,0.0067137995448194755);\">the</span> <span style=\"background-color:rgba(135,206,250,0.0643126339673766);\">government</span>"
      ],
      "text/plain": [
       "<IPython.core.display.HTML object>"
      ]
     },
     "metadata": {},
     "output_type": "display_data"
    },
    {
     "name": "stdout",
     "output_type": "stream",
     "text": [
      "None\n"
     ]
    },
    {
     "data": {
      "text/html": [
       "<span style=\"background-color:rgba(135,206,250,0.015891194891595968);\">HONG</span> <span style=\"background-color:rgba(135,206,250,0.023269823104545184);\">KONG</span> <span style=\"background-color:rgba(135,206,250,0.04965073512025801);\">(</span> <span style=\"background-color:rgba(135,206,250,0.037874286613355276);\">Dow</span> <span style=\"background-color:rgba(135,206,250,0.09698490942423067);\">Jones)--China</span> <span style=\"background-color:rgba(135,206,250,0.06901852736346642);\">Mobile</span> <span style=\"background-color:rgba(135,206,250,0.02309597882834741);\">(</span> <span style=\"background-color:rgba(135,206,250,0.0020393538003675997);\">Hong</span> <span style=\"background-color:rgba(135,206,250,0.02957049710271034);\">Kong</span> <span style=\"background-color:rgba(135,206,250,0.01911169323566409);\">)</span> <span style=\"background-color:rgba(135,206,250,0.07449540776435798);\">Ltd.</span> <span style=\"background-color:rgba(135,206,250,0.014038846469263195);\">(</span> <span style=\"background-color:rgba(135,206,250,0.15895885943258523);\">CHL</span> <span style=\"background-color:rgba(135,206,250,0.01688104718578279);\">)</span> <span style=\"background-color:rgba(135,206,250,0.025166221255670838);\">,</span> <span style=\"background-color:rgba(135,206,250,0.001382253741215916);\">the</span> <span style=\"background-color:rgba(135,206,250,0.11836173087047949);\">listed</span> <span style=\"background-color:rgba(135,206,250,0.07573147500102462);\">unit</span> <span style=\"background-color:rgba(135,206,250,0.006848662648805301);\">of</span> <span style=\"background-color:rgba(135,206,250,0.5100337570501241);\">China&#x27;;s</span> <span style=\"background-color:rgba(135,206,250,0.20141664538624748);\">biggest</span> <span style=\"background-color:rgba(135,206,250,0.09436774298297881);\">cellular</span> <span style=\"background-color:rgba(135,206,250,0.08565754918929484);\">phone</span> <span style=\"background-color:rgba(135,206,250,0.03713493736463289);\">operator</span> <span style=\"background-color:rgba(135,206,250,0.03314314451296214);\">,</span> <span style=\"background-color:rgba(135,206,250,0.0774060568013796);\">posted</span> <span style=\"background-color:rgba(135,206,250,0.07716218910883911);\">Wednesday</span> <span style=\"background-color:rgba(135,206,250,0.01107707270297579);\">a</span> <span style=\"background-color:rgba(135,206,250,0.11380287396001804);\">7.8</span> <span style=\"background-color:rgba(135,206,250,0.1287935401317179);\">rise</span> <span style=\"background-color:rgba(135,206,250,0.0014776806579511529);\">in</span> <span style=\"background-color:rgba(135,206,250,0.02729820152872226);\">first</span> <span style=\"background-color:rgba(135,206,250,0.0011901819485691677);\">-</span> <span style=\"background-color:rgba(135,206,250,0.14367677959475778);\">half</span> <span style=\"background-color:rgba(135,206,250,0.31646190174436384);\">net</span> <span style=\"background-color:rgba(135,206,250,0.09452033147011442);\">profit</span> <span style=\"background-color:rgba(135,206,250,0.036293084967196625);\">on</span> <span style=\"background-color:rgba(135,206,250,0.00366249930050474);\">a</span> <span style=\"background-color:rgba(135,206,250,0.029499471240695727);\">23</span> <span style=\"background-color:rgba(135,206,250,0.05838515509484762);\">increase</span> <span style=\"background-color:rgba(135,206,250,0.0009238452798749501);\">in</span> <span style=\"background-color:rgba(135,206,250,0.06552112002786947);\">its</span> <span style=\"background-color:rgba(135,206,250,0.20684252174543574);\">subscriber</span> <span style=\"background-color:rgba(135,206,250,0.09049797757201451);\">base</span> <span style=\"background-color:rgba(135,206,250,0.028715748377171002);\">.</span>"
      ],
      "text/plain": [
       "<IPython.core.display.HTML object>"
      ]
     },
     "metadata": {},
     "output_type": "display_data"
    },
    {
     "name": "stdout",
     "output_type": "stream",
     "text": [
      "None\n"
     ]
    },
    {
     "data": {
      "text/html": [
       "<span style=\"background-color:rgba(135,206,250,0.32852105406454146);\">HONG</span> <span style=\"background-color:rgba(135,206,250,0.18238626144892797);\">KONG</span> <span style=\"background-color:rgba(135,206,250,0.04091321521938285);\">Dow</span> <span style=\"background-color:rgba(135,206,250,0.1260194339176576);\">JonesChina</span> <span style=\"background-color:rgba(135,206,250,0.003970326996493689);\">Mobile</span> <span style=\"background-color:rgba(135,206,250,0.05321684429000982);\">Hong</span> <span style=\"background-color:rgba(135,206,250,0.0955369615255292);\">Kong</span> <span style=\"background-color:rgba(135,206,250,0.11974332439313866);\">Ltd</span> <span style=\"background-color:rgba(135,206,250,0.1777713879953095);\">CHL</span> <span style=\"background-color:rgba(135,206,250,0.00046289636471275915);\">the</span> <span style=\"background-color:rgba(135,206,250,0.07891102607254663);\">listed</span> <span style=\"background-color:rgba(135,206,250,0.06291120287585149);\">unit</span> <span style=\"background-color:rgba(135,206,250,0.05155265684286167);\">of</span> <span style=\"background-color:rgba(135,206,250,0.03788956992266049);\">Chinas</span> <span style=\"background-color:rgba(135,206,250,0.13221914881344266);\">biggest</span> <span style=\"background-color:rgba(135,206,250,0.13984466405391802);\">cellular</span> <span style=\"background-color:rgba(135,206,250,0.17381016504248306);\">phone</span> <span style=\"background-color:rgba(135,206,250,0.05465133215349371);\">operator</span> <span style=\"background-color:rgba(135,206,250,0.042559853085187206);\">posted</span> <span style=\"background-color:rgba(135,206,250,0.04024908415938864);\">Wednesday</span> <span style=\"background-color:rgba(135,206,250,0.013700552340861538);\">a</span> <span style=\"background-color:rgba(135,206,250,0.029757683409817774);\">78</span> <span style=\"background-color:rgba(135,206,250,0.12991436197821066);\">rise</span> <span style=\"background-color:rgba(135,206,250,0.0022706957619112976);\">in</span> <span style=\"background-color:rgba(135,206,250,0.0010037565164483437);\">first</span> <span style=\"background-color:rgba(135,206,250,0.14411912957935538);\">half</span> <span style=\"background-color:rgba(135,206,250,0.37821086886384125);\">net</span> <span style=\"background-color:rgba(135,206,250,0.15663004522853988);\">profit</span> <span style=\"background-color:rgba(135,206,250,0.05560353974992233);\">on</span> <span style=\"background-color:rgba(135,206,250,0.00879186025790738);\">a</span> <span style=\"background-color:rgba(135,206,250,0.03200871076802198);\">23</span> <span style=\"background-color:rgba(135,206,250,0.06404474160085288);\">increase</span> <span style=\"background-color:rgba(135,206,250,0.009597138705150379);\">in</span> <span style=\"background-color:rgba(135,206,250,0.06123986706849052);\">its</span> <span style=\"background-color:rgba(135,206,250,0.15412578661476103);\">subscriber</span> <span style=\"background-color:rgba(135,206,250,0.14917401197570737);\">base</span>"
      ],
      "text/plain": [
       "<IPython.core.display.HTML object>"
      ]
     },
     "metadata": {},
     "output_type": "display_data"
    },
    {
     "name": "stdout",
     "output_type": "stream",
     "text": [
      "None\n",
      "length not matching after perturbation\n",
      "length not matching after perturbation\n",
      "length not matching after perturbation\n"
     ]
    },
    {
     "data": {
      "text/html": [
       "<span style=\"background-color:rgba(135,206,250,0.011357703810748555);\">Cox</span> <span style=\"background-color:rgba(135,206,250,0.045341470452570094);\">Communications</span> <span style=\"background-color:rgba(135,206,250,0.10386145920272688);\">Inc.</span> <span style=\"background-color:rgba(135,206,250,0.919977808856289);\">&#x27;;s</span> <span style=\"background-color:rgba(135,206,250,0.032901249394315095);\">board</span> <span style=\"background-color:rgba(135,206,250,0.0074800843185193365);\">of</span> <span style=\"background-color:rgba(135,206,250,0.0031988820775547067);\">directors</span> <span style=\"background-color:rgba(135,206,250,0.05217339571200635);\">has</span> <span style=\"background-color:rgba(135,206,250,0.08380181536971021);\">formed</span> <span style=\"background-color:rgba(135,206,250,0.04795699876472944);\">a</span> <span style=\"background-color:rgba(135,206,250,0.047801560053832626);\">special</span> <span style=\"background-color:rgba(135,206,250,0.1361667566097842);\">committee</span> <span style=\"background-color:rgba(135,206,250,0.027491604257915594);\">of</span> <span style=\"background-color:rgba(135,206,250,0.09568382351847256);\">independent</span> <span style=\"background-color:rgba(135,206,250,0.15974152164026234);\">directors</span> <span style=\"background-color:rgba(135,206,250,0.004556735914781661);\">to</span> <span style=\"background-color:rgba(135,206,250,0.03438850662794423);\">consider</span> <span style=\"background-color:rgba(135,206,250,0.15349576491139488);\">Cox</span> <span style=\"background-color:rgba(135,206,250,0.2551808294896477);\">Enterprises</span> <span style=\"background-color:rgba(135,206,250,0.013948523335986025);\">Inc.</span> <span style=\"background-color:rgba(135,206,250,0.0157782293476404);\">&#x27;;s</span> <span style=\"background-color:rgba(135,206,250,0.07099517454851045);\">proposal</span> <span style=\"background-color:rgba(135,206,250,0.011233452394767038);\">to</span> <span style=\"background-color:rgba(135,206,250,0.0025248494140049037);\">take</span> <span style=\"background-color:rgba(135,206,250,0.00572740155117757);\">the</span> <span style=\"background-color:rgba(135,206,250,0.17839013430405923);\">company</span> <span style=\"background-color:rgba(135,206,250,0.11701121332909784);\">private</span> <span style=\"background-color:rgba(135,206,250,0.019918553097018708);\">in</span> <span style=\"background-color:rgba(135,206,250,0.08501210375302455);\">a</span> <span style=\"background-color:rgba(135,206,250,0.15576048353174185);\">$</span> <span style=\"background-color:rgba(135,206,250,0.057653415031179954);\">8</span> <span style=\"background-color:rgba(135,206,250,0.17456551022004144);\">billion</span> <span style=\"background-color:rgba(135,206,250,0.07017523901227256);\">stock</span> <span style=\"background-color:rgba(135,206,250,0.09910202987482802);\">buyout</span> <span style=\"background-color:rgba(135,206,250,0.032979234055278056);\">.</span>"
      ],
      "text/plain": [
       "<IPython.core.display.HTML object>"
      ]
     },
     "metadata": {},
     "output_type": "display_data"
    },
    {
     "name": "stdout",
     "output_type": "stream",
     "text": [
      "None\n"
     ]
    },
    {
     "data": {
      "text/html": [
       "<span style=\"background-color:rgba(135,206,250,0.13377552092887726);\">Cox</span> <span style=\"background-color:rgba(135,206,250,0.16209112149532712);\">Communications</span> <span style=\"background-color:rgba(135,206,250,0.04586269335288578);\">Inc</span> <span style=\"background-color:rgba(135,206,250,0.5430619911830097);\">s</span> <span style=\"background-color:rgba(135,206,250,0.02046652347598038);\">board</span> <span style=\"background-color:rgba(135,206,250,0.004104081638991351);\">of</span> <span style=\"background-color:rgba(135,206,250,0.07052134992465625);\">directors</span> <span style=\"background-color:rgba(135,206,250,0.022340311679910692);\">has</span> <span style=\"background-color:rgba(135,206,250,0.634743238461059);\">formed</span> <span style=\"background-color:rgba(135,206,250,0.004499363266854753);\">a</span> <span style=\"background-color:rgba(135,206,250,0.24738596941517732);\">special</span> <span style=\"background-color:rgba(135,206,250,0.16632021362371063);\">committee</span> <span style=\"background-color:rgba(135,206,250,0.008095575032766197);\">of</span> <span style=\"background-color:rgba(135,206,250,0.1236653727448642);\">independent</span> <span style=\"background-color:rgba(135,206,250,0.09761806454774241);\">directors</span> <span style=\"background-color:rgba(135,206,250,0.0018701394229265185);\">to</span> <span style=\"background-color:rgba(135,206,250,0.04827652085569389);\">consider</span> <span style=\"background-color:rgba(135,206,250,0.1155422697007196);\">Cox</span> <span style=\"background-color:rgba(135,206,250,0.14886309915996843);\">Enterprises</span> <span style=\"background-color:rgba(135,206,250,0.12901897490340766);\">Inc</span> <span style=\"background-color:rgba(135,206,250,0.021297783424229486);\">s</span> <span style=\"background-color:rgba(135,206,250,0.059607044206948546);\">proposal</span> <span style=\"background-color:rgba(135,206,250,0.000702775698159367);\">to</span> <span style=\"background-color:rgba(135,206,250,0.0236799211189298);\">take</span> <span style=\"background-color:rgba(135,206,250,0.005145131985976076);\">the</span> <span style=\"background-color:rgba(135,206,250,0.19679585458379886);\">company</span> <span style=\"background-color:rgba(135,206,250,0.06466324543702738);\">private</span> <span style=\"background-color:rgba(135,206,250,0.005480870939144617);\">in</span> <span style=\"background-color:rgba(135,206,250,0.0096504817138165);\">a</span> <span style=\"background-color:rgba(135,206,250,0.08678278113706193);\">$</span> <span style=\"background-color:rgba(135,206,250,0.024975572173129304);\">8</span> <span style=\"background-color:rgba(135,206,250,0.06611616729287421);\">billion</span> <span style=\"background-color:rgba(135,206,250,0.0009147747473080253);\">stock</span> <span style=\"background-color:rgba(135,206,250,0.03939858278868153);\">buyout</span>"
      ],
      "text/plain": [
       "<IPython.core.display.HTML object>"
      ]
     },
     "metadata": {},
     "output_type": "display_data"
    },
    {
     "name": "stdout",
     "output_type": "stream",
     "text": [
      "None\n"
     ]
    },
    {
     "data": {
      "text/html": [
       "<span style=\"background-color:rgba(135,206,250,0.21365884474073418);\">Afghan</span> <span style=\"background-color:rgba(135,206,250,0.19539733339246076);\">women</span> <span style=\"background-color:rgba(135,206,250,0.015510097843863513);\">made</span> <span style=\"background-color:rgba(135,206,250,0.01330678807373841);\">a</span> <span style=\"background-color:rgba(135,206,250,0.02519047882251401);\">short</span> <span style=\"background-color:rgba(135,206,250,0.003136277868783804);\">-</span> <span style=\"background-color:rgba(135,206,250,0.1925403394953713);\">lived</span> <span style=\"background-color:rgba(135,206,250,0.0435507498323058);\">debut</span> <span style=\"background-color:rgba(135,206,250,0.014686958586297896);\">in</span> <span style=\"background-color:rgba(135,206,250,0.0017061525474843522);\">the</span> <span style=\"background-color:rgba(135,206,250,0.006620558843936721);\">Olympic</span> <span style=\"background-color:rgba(135,206,250,0.1716164235749888);\">Games</span> <span style=\"background-color:rgba(135,206,250,0.2690601219183818);\">on</span> <span style=\"background-color:rgba(135,206,250,0.12132478990532818);\">Wednesday</span> <span style=\"background-color:rgba(135,206,250,0.002733062001936224);\">as</span> <span style=\"background-color:rgba(135,206,250,0.00370119032111293);\">18</span> <span style=\"background-color:rgba(135,206,250,0.0038867867758936234);\">-</span> <span style=\"background-color:rgba(135,206,250,0.06558896235040358);\">year</span> <span style=\"background-color:rgba(135,206,250,0.018897340433819618);\">-</span> <span style=\"background-color:rgba(135,206,250,0.08206553917033017);\">old</span> <span style=\"background-color:rgba(135,206,250,0.037707210086781504);\">judo</span> <span style=\"background-color:rgba(135,206,250,0.039226993446142895);\">wildcard</span> <span style=\"background-color:rgba(135,206,250,0.6468098599398818);\">Friba</span> <span style=\"background-color:rgba(135,206,250,0.33529277870197693);\">Razayee</span> <span style=\"background-color:rgba(135,206,250,0.050199644995661326);\">was</span> <span style=\"background-color:rgba(135,206,250,0.007230218872274944);\">defeated</span> <span style=\"background-color:rgba(135,206,250,0.006843360129230658);\">after</span> <span style=\"background-color:rgba(135,206,250,0.05810240766281619);\">45</span> <span style=\"background-color:rgba(135,206,250,0.05199498862495945);\">seconds</span> <span style=\"background-color:rgba(135,206,250,0.005879332734430807);\">of</span> <span style=\"background-color:rgba(135,206,250,0.03629449065107301);\">her</span> <span style=\"background-color:rgba(135,206,250,0.1164400656888866);\">first</span> <span style=\"background-color:rgba(135,206,250,0.012815632031371102);\">match</span> <span style=\"background-color:rgba(135,206,250,0.007785669059742384);\">in</span> <span style=\"background-color:rgba(135,206,250,0.007155303484220415);\">the</span> <span style=\"background-color:rgba(135,206,250,0.05775746379043638);\">under-70</span> <span style=\"background-color:rgba(135,206,250,0.3551406089447031);\">kg</span> <span style=\"background-color:rgba(135,206,250,0.02683648813675857);\">middleweight</span> <span style=\"background-color:rgba(135,206,250,0.009641962305733404);\">.</span>"
      ],
      "text/plain": [
       "<IPython.core.display.HTML object>"
      ]
     },
     "metadata": {},
     "output_type": "display_data"
    },
    {
     "name": "stdout",
     "output_type": "stream",
     "text": [
      "None\n"
     ]
    },
    {
     "data": {
      "text/html": [
       "<span style=\"background-color:rgba(135,206,250,0.17799285912303117);\">Afghan</span> <span style=\"background-color:rgba(135,206,250,0.1434010336689288);\">women</span> <span style=\"background-color:rgba(135,206,250,0.017320198083605774);\">made</span> <span style=\"background-color:rgba(135,206,250,0.0024066734317384837);\">a</span> <span style=\"background-color:rgba(135,206,250,0.11637908430173557);\">shor</span> <span style=\"background-color:rgba(135,206,250,0.1172376199558614);\">t-</span> <span style=\"background-color:rgba(135,206,250,0.016296658963175552);\">lived</span> <span style=\"background-color:rgba(135,206,250,0.06532528136206416);\">debut</span> <span style=\"background-color:rgba(135,206,250,0.008659880325179045);\">in</span> <span style=\"background-color:rgba(135,206,250,0.0051117580316618685);\">the</span> <span style=\"background-color:rgba(135,206,250,0.012363744802959735);\">Olympic</span> <span style=\"background-color:rgba(135,206,250,0.22087802318032937);\">Games</span> <span style=\"background-color:rgba(135,206,250,0.2663190263832406);\">on</span> <span style=\"background-color:rgba(135,206,250,0.1273796035391666);\">Wednesday</span> <span style=\"background-color:rgba(135,206,250,0.0003250083464346674);\">as</span> <span style=\"background-color:rgba(135,206,250,0.008854565459977475);\">18</span> <span style=\"background-color:rgba(135,206,250,0.012887890078807309);\">-</span> <span style=\"background-color:rgba(135,206,250,0.05316548069764554);\">year</span> <span style=\"background-color:rgba(135,206,250,0.007285593947530273);\">-</span> <span style=\"background-color:rgba(135,206,250,0.07912441519757418);\">old</span> <span style=\"background-color:rgba(135,206,250,0.011835896967122818);\">judo</span> <span style=\"background-color:rgba(135,206,250,0.03469572886927455);\">wildcard</span> <span style=\"background-color:rgba(135,206,250,0.5972399861781093);\">Friba</span> <span style=\"background-color:rgba(135,206,250,0.34057090388006794);\">Razayee</span> <span style=\"background-color:rgba(135,206,250,0.05322246158569535);\">was</span> <span style=\"background-color:rgba(135,206,250,0.008927573850147134);\">defeated</span> <span style=\"background-color:rgba(135,206,250,0.005788256685988051);\">after</span> <span style=\"background-color:rgba(135,206,250,0.05023643287867605);\">45</span> <span style=\"background-color:rgba(135,206,250,0.04141118065383222);\">seconds</span> <span style=\"background-color:rgba(135,206,250,0.0036480019086587386);\">of</span> <span style=\"background-color:rgba(135,206,250,0.055628459013821165);\">her</span> <span style=\"background-color:rgba(135,206,250,0.1301412237825841);\">first</span> <span style=\"background-color:rgba(135,206,250,0.014406517711230601);\">match</span> <span style=\"background-color:rgba(135,206,250,0.006566521386336446);\">in</span> <span style=\"background-color:rgba(135,206,250,0.005593156900923586);\">the</span> <span style=\"background-color:rgba(135,206,250,0.2153499084373058);\">under-70</span> <span style=\"background-color:rgba(135,206,250,0.28472207224510876);\">kg</span> <span style=\"background-color:rgba(135,206,250,0.0038345216228336887);\">middleweight</span> <span style=\"background-color:rgba(135,206,250,0.010799973017867474);\">.</span>"
      ],
      "text/plain": [
       "<IPython.core.display.HTML object>"
      ]
     },
     "metadata": {},
     "output_type": "display_data"
    },
    {
     "name": "stdout",
     "output_type": "stream",
     "text": [
      "None\n",
      "length not matching after perturbation\n"
     ]
    },
    {
     "data": {
      "text/html": [
       "<span style=\"background-color:rgba(135,206,250,0.1933924233484045);\">AP</span> <span style=\"background-color:rgba(135,206,250,0.023157004546058294);\">-</span> <span style=\"background-color:rgba(135,206,250,0.26851164218900514);\">Discount</span> <span style=\"background-color:rgba(135,206,250,0.12092794988774004);\">retailer</span> <span style=\"background-color:rgba(135,206,250,0.06883532287528689);\">Ross</span> <span style=\"background-color:rgba(135,206,250,0.19582613415421624);\">Stores</span> <span style=\"background-color:rgba(135,206,250,0.06199386272808533);\">Inc.</span> <span style=\"background-color:rgba(135,206,250,0.01462879961804212);\">Wednesday</span> <span style=\"background-color:rgba(135,206,250,0.020476526196106345);\">said</span> <span style=\"background-color:rgba(135,206,250,0.03668896760486148);\">its</span> <span style=\"background-color:rgba(135,206,250,0.056016149086007896);\">profit</span> <span style=\"background-color:rgba(135,206,250,0.058752026078613434);\">fell</span> <span style=\"background-color:rgba(135,206,250,0.09951714591143644);\">about</span> <span style=\"background-color:rgba(135,206,250,0.04138397251943593);\">40</span> <span style=\"background-color:rgba(135,206,250,0.0012032061955314607);\">percent</span> <span style=\"background-color:rgba(135,206,250,6.874487212911181e-05);\">in</span> <span style=\"background-color:rgba(135,206,250,0.0012401765698572792);\">the</span> <span style=\"background-color:rgba(135,206,250,0.1600237371538389);\">latest</span> <span style=\"background-color:rgba(135,206,250,0.1761648157775814);\">quarter</span> <span style=\"background-color:rgba(135,206,250,0.10917283165105411);\">due</span> <span style=\"background-color:rgba(135,206,250,0.00941861914477173);\">to</span> <span style=\"background-color:rgba(135,206,250,0.020161228374451515);\">problems</span> <span style=\"background-color:rgba(135,206,250,0.05049089563815816);\">with</span> <span style=\"background-color:rgba(135,206,250,0.014233353005840327);\">a</span> <span style=\"background-color:rgba(135,206,250,0.04312467069943783);\">new</span> <span style=\"background-color:rgba(135,206,250,0.4437339782175982);\">computer</span> <span style=\"background-color:rgba(135,206,250,0.03381983407378671);\">system</span> <span style=\"background-color:rgba(135,206,250,0.003878967706362259);\">that</span> <span style=\"background-color:rgba(135,206,250,0.09496754210567225);\">limited</span> <span style=\"background-color:rgba(135,206,250,0.003670411084327516);\">the</span> <span style=\"background-color:rgba(135,206,250,0.23330019421176043);\">company</span> <span style=\"background-color:rgba(135,206,250,0.000782125602592425);\">&#x27;s</span> <span style=\"background-color:rgba(135,206,250,0.0004899516763982517);\">ability</span> <span style=\"background-color:rgba(135,206,250,0.0005155186626059297);\">to</span> <span style=\"background-color:rgba(135,206,250,0.12982249292354497);\">respond</span> <span style=\"background-color:rgba(135,206,250,0.016827299170913773);\">to</span> <span style=\"background-color:rgba(135,206,250,0.0950752311276341);\">changes</span> <span style=\"background-color:rgba(135,206,250,0.02970553137788623);\">in</span> <span style=\"background-color:rgba(135,206,250,0.12181639846025084);\">customer</span> <span style=\"background-color:rgba(135,206,250,0.2520816619417896);\">demand</span> <span style=\"background-color:rgba(135,206,250,0.02743618237011765);\">.</span>"
      ],
      "text/plain": [
       "<IPython.core.display.HTML object>"
      ]
     },
     "metadata": {},
     "output_type": "display_data"
    },
    {
     "name": "stdout",
     "output_type": "stream",
     "text": [
      "None\n"
     ]
    },
    {
     "data": {
      "text/html": [
       "<span style=\"background-color:rgba(135,206,250,0.20316905302296787);\">AP</span> <span style=\"background-color:rgba(135,206,250,0.13796452068674675);\">Discount</span> <span style=\"background-color:rgba(135,206,250,0.02253501301947824);\">retailer</span> <span style=\"background-color:rgba(135,206,250,0.09640083417667038);\">Ross</span> <span style=\"background-color:rgba(135,206,250,0.20550782697500997);\">Stores</span> <span style=\"background-color:rgba(135,206,250,0.009533970357080888);\">Inc</span> <span style=\"background-color:rgba(135,206,250,0.017762508855311665);\">Wednesday</span> <span style=\"background-color:rgba(135,206,250,0.019826960123178482);\">said</span> <span style=\"background-color:rgba(135,206,250,0.022197776577693246);\">its</span> <span style=\"background-color:rgba(135,206,250,0.09246306654397565);\">profit</span> <span style=\"background-color:rgba(135,206,250,0.088296727923964);\">fell</span> <span style=\"background-color:rgba(135,206,250,0.10342692535568751);\">about</span> <span style=\"background-color:rgba(135,206,250,0.03818913300417086);\">40</span> <span style=\"background-color:rgba(135,206,250,0.0022443363524222828);\">percent</span> <span style=\"background-color:rgba(135,206,250,2.729663748905953e-06);\">in</span> <span style=\"background-color:rgba(135,206,250,0.0008210415667673045);\">the</span> <span style=\"background-color:rgba(135,206,250,0.13707195716623918);\">latest</span> <span style=\"background-color:rgba(135,206,250,0.2297583058218292);\">quarter</span> <span style=\"background-color:rgba(135,206,250,0.10697793299501361);\">due</span> <span style=\"background-color:rgba(135,206,250,0.005794229967515433);\">to</span> <span style=\"background-color:rgba(135,206,250,0.022314794170126273);\">problems</span> <span style=\"background-color:rgba(135,206,250,0.04133278763824205);\">with</span> <span style=\"background-color:rgba(135,206,250,0.016370670111421477);\">a</span> <span style=\"background-color:rgba(135,206,250,0.033071836513640464);\">new</span> <span style=\"background-color:rgba(135,206,250,0.35408062454846834);\">computer</span> <span style=\"background-color:rgba(135,206,250,0.0009519452734180818);\">system</span> <span style=\"background-color:rgba(135,206,250,0.016480879372148937);\">that</span> <span style=\"background-color:rgba(135,206,250,0.059100244465665926);\">limited</span> <span style=\"background-color:rgba(135,206,250,0.0035167696568555624);\">the</span> <span style=\"background-color:rgba(135,206,250,0.22941366203202979);\">company</span> <span style=\"background-color:rgba(135,206,250,0.417439017841094);\">s</span> <span style=\"background-color:rgba(135,206,250,0.04402752337928511);\">ability</span> <span style=\"background-color:rgba(135,206,250,0.004571617592172773);\">to</span> <span style=\"background-color:rgba(135,206,250,0.08962914473702051);\">respond</span> <span style=\"background-color:rgba(135,206,250,0.011137586933921991);\">to</span> <span style=\"background-color:rgba(135,206,250,0.0796416922488513);\">changes</span> <span style=\"background-color:rgba(135,206,250,0.024519675802010178);\">in</span> <span style=\"background-color:rgba(135,206,250,0.10302899346465609);\">customer</span> <span style=\"background-color:rgba(135,206,250,0.24275845969986581);\">demand</span>"
      ],
      "text/plain": [
       "<IPython.core.display.HTML object>"
      ]
     },
     "metadata": {},
     "output_type": "display_data"
    },
    {
     "name": "stdout",
     "output_type": "stream",
     "text": [
      "None\n"
     ]
    },
    {
     "data": {
      "text/html": [
       "<span style=\"background-color:rgba(135,206,250,0.1933924233484045);\">AP</span> <span style=\"background-color:rgba(135,206,250,0.023157004546058294);\">-</span> <span style=\"background-color:rgba(135,206,250,0.26851164218900514);\">Discount</span> <span style=\"background-color:rgba(135,206,250,0.12092794988774004);\">retailer</span> <span style=\"background-color:rgba(135,206,250,0.06883532287528689);\">Ross</span> <span style=\"background-color:rgba(135,206,250,0.19582613415421624);\">Stores</span> <span style=\"background-color:rgba(135,206,250,0.06199386272808533);\">Inc.</span> <span style=\"background-color:rgba(135,206,250,0.01462879961804212);\">Wednesday</span> <span style=\"background-color:rgba(135,206,250,0.020476526196106345);\">said</span> <span style=\"background-color:rgba(135,206,250,0.03668896760486148);\">its</span> <span style=\"background-color:rgba(135,206,250,0.056016149086007896);\">profit</span> <span style=\"background-color:rgba(135,206,250,0.058752026078613434);\">fell</span> <span style=\"background-color:rgba(135,206,250,0.09951714591143644);\">about</span> <span style=\"background-color:rgba(135,206,250,0.04138397251943593);\">40</span> <span style=\"background-color:rgba(135,206,250,0.0012032061955314607);\">percent</span> <span style=\"background-color:rgba(135,206,250,6.874487212911181e-05);\">in</span> <span style=\"background-color:rgba(135,206,250,0.0012401765698572792);\">the</span> <span style=\"background-color:rgba(135,206,250,0.1600237371538389);\">latest</span> <span style=\"background-color:rgba(135,206,250,0.1761648157775814);\">quarter</span> <span style=\"background-color:rgba(135,206,250,0.10917283165105411);\">due</span> <span style=\"background-color:rgba(135,206,250,0.00941861914477173);\">to</span> <span style=\"background-color:rgba(135,206,250,0.020161228374451515);\">problems</span> <span style=\"background-color:rgba(135,206,250,0.05049089563815816);\">with</span> <span style=\"background-color:rgba(135,206,250,0.014233353005840327);\">a</span> <span style=\"background-color:rgba(135,206,250,0.04312467069943783);\">new</span> <span style=\"background-color:rgba(135,206,250,0.4437339782175982);\">computer</span> <span style=\"background-color:rgba(135,206,250,0.03381983407378671);\">system</span> <span style=\"background-color:rgba(135,206,250,0.003878967706362259);\">that</span> <span style=\"background-color:rgba(135,206,250,0.09496754210567225);\">limited</span> <span style=\"background-color:rgba(135,206,250,0.003670411084327516);\">the</span> <span style=\"background-color:rgba(135,206,250,0.23330019421176043);\">company</span> <span style=\"background-color:rgba(135,206,250,0.000782125602592425);\">&#x27;s</span> <span style=\"background-color:rgba(135,206,250,0.0004899516763982517);\">ability</span> <span style=\"background-color:rgba(135,206,250,0.0005155186626059297);\">to</span> <span style=\"background-color:rgba(135,206,250,0.12982249292354497);\">respond</span> <span style=\"background-color:rgba(135,206,250,0.016827299170913773);\">to</span> <span style=\"background-color:rgba(135,206,250,0.0950752311276341);\">changes</span> <span style=\"background-color:rgba(135,206,250,0.02970553137788623);\">in</span> <span style=\"background-color:rgba(135,206,250,0.12181639846025084);\">customer</span> <span style=\"background-color:rgba(135,206,250,0.2520816619417896);\">demand</span> <span style=\"background-color:rgba(135,206,250,0.02743618237011765);\">.</span>"
      ],
      "text/plain": [
       "<IPython.core.display.HTML object>"
      ]
     },
     "metadata": {},
     "output_type": "display_data"
    },
    {
     "name": "stdout",
     "output_type": "stream",
     "text": [
      "None\n"
     ]
    },
    {
     "data": {
      "text/html": [
       "<span style=\"background-color:rgba(135,206,250,0.17354299792327788);\">AP</span> <span style=\"background-color:rgba(135,206,250,0.016845460425916132);\">-</span> <span style=\"background-color:rgba(135,206,250,0.22473010277486305);\">Discount</span> <span style=\"background-color:rgba(135,206,250,0.08583407198930022);\">retailer</span> <span style=\"background-color:rgba(135,206,250,0.052666069674816574);\">Ross</span> <span style=\"background-color:rgba(135,206,250,0.13538027304616518);\">Stores</span> <span style=\"background-color:rgba(135,206,250,0.07766174458461796);\">Inc.</span> <span style=\"background-color:rgba(135,206,250,0.021239050517788922);\">Wednesday</span> <span style=\"background-color:rgba(135,206,250,0.005504961581687147);\">said</span> <span style=\"background-color:rgba(135,206,250,0.008623372872641116);\">its</span> <span style=\"background-color:rgba(135,206,250,0.12180011562235733);\">profit</span> <span style=\"background-color:rgba(135,206,250,0.08967947068730843);\">fell</span> <span style=\"background-color:rgba(135,206,250,0.05452144250529929);\">about</span> <span style=\"background-color:rgba(135,206,250,0.022838720465994476);\">40</span> <span style=\"background-color:rgba(135,206,250,0.32600654638977267);\">percen</span> <span style=\"background-color:rgba(135,206,250,0.10623623452449989);\">tin</span> <span style=\"background-color:rgba(135,206,250,0.0007934116589649443);\">the</span> <span style=\"background-color:rgba(135,206,250,0.10070483555054577);\">latest</span> <span style=\"background-color:rgba(135,206,250,0.17137534389293163);\">quarter</span> <span style=\"background-color:rgba(135,206,250,0.10951126261548871);\">due</span> <span style=\"background-color:rgba(135,206,250,0.0014644183464160153);\">to</span> <span style=\"background-color:rgba(135,206,250,0.021581454965009798);\">problems</span> <span style=\"background-color:rgba(135,206,250,0.0328178902758028);\">with</span> <span style=\"background-color:rgba(135,206,250,0.01053885187901463);\">a</span> <span style=\"background-color:rgba(135,206,250,0.010349220379952298);\">new</span> <span style=\"background-color:rgba(135,206,250,0.28409577535173913);\">computer</span> <span style=\"background-color:rgba(135,206,250,0.09906717566186432);\">system</span> <span style=\"background-color:rgba(135,206,250,0.014203201728542647);\">that</span> <span style=\"background-color:rgba(135,206,250,0.11189230732591154);\">limited</span> <span style=\"background-color:rgba(135,206,250,0.0028547218368780054);\">the</span> <span style=\"background-color:rgba(135,206,250,0.1980538989183746);\">company</span> <span style=\"background-color:rgba(135,206,250,0.0003857883758716013);\">&#x27;s</span> <span style=\"background-color:rgba(135,206,250,0.02621759774512927);\">ability</span> <span style=\"background-color:rgba(135,206,250,0.007019401655290828);\">to</span> <span style=\"background-color:rgba(135,206,250,0.12474374379751024);\">respond</span> <span style=\"background-color:rgba(135,206,250,0.014557333293847839);\">to</span> <span style=\"background-color:rgba(135,206,250,0.08456691566854065);\">changes</span> <span style=\"background-color:rgba(135,206,250,0.027787016280752513);\">in</span> <span style=\"background-color:rgba(135,206,250,0.10350262937765031);\">customer</span> <span style=\"background-color:rgba(135,206,250,0.22817504259823163);\">demand</span> <span style=\"background-color:rgba(135,206,250,0.023963396832007374);\">.</span>"
      ],
      "text/plain": [
       "<IPython.core.display.HTML object>"
      ]
     },
     "metadata": {},
     "output_type": "display_data"
    },
    {
     "name": "stdout",
     "output_type": "stream",
     "text": [
      "None\n"
     ]
    },
    {
     "data": {
      "text/html": [
       "<span style=\"background-color:rgba(135,206,250,0.07568822757462795);\">BOSTON</span> <span style=\"background-color:rgba(135,206,250,0.9662676449653551);\">The</span> <span style=\"background-color:rgba(135,206,250,0.4834759966097782);\">jury</span> <span style=\"background-color:rgba(135,206,250,0.07520751690119125);\">is</span> <span style=\"background-color:rgba(135,206,250,0.1137191861838637);\">still</span> <span style=\"background-color:rgba(135,206,250,0.034539609842419085);\">out</span> <span style=\"background-color:rgba(135,206,250,0.004311722205564492);\">on</span> <span style=\"background-color:rgba(135,206,250,0.05993082575835802);\">whether</span> <span style=\"background-color:rgba(135,206,250,0.0009490496247327976);\">a</span> <span style=\"background-color:rgba(135,206,250,0.07887790094091904);\">computer</span> <span style=\"background-color:rgba(135,206,250,0.04496322339263179);\">can</span> <span style=\"background-color:rgba(135,206,250,0.02370593306720688);\">ever</span> <span style=\"background-color:rgba(135,206,250,0.04434234196158852);\">truly</span> <span style=\"background-color:rgba(135,206,250,0.004801971968273054);\">be</span> <span style=\"background-color:rgba(135,206,250,0.007797697264790687);\">intelligent</span> <span style=\"background-color:rgba(135,206,250,0.004055463331401121);\">,</span> <span style=\"background-color:rgba(135,206,250,0.017192290071319914);\">but</span> <span style=\"background-color:rgba(135,206,250,0.015734651614523087);\">there</span> <span style=\"background-color:rgba(135,206,250,0.006493695714076717);\">is</span> <span style=\"background-color:rgba(135,206,250,0.021621449546268472);\">no</span> <span style=\"background-color:rgba(135,206,250,0.03395168005317458);\">question</span> <span style=\"background-color:rgba(135,206,250,0.027725132074379755);\">that</span> <span style=\"background-color:rgba(135,206,250,0.01392461406783575);\">it</span> <span style=\"background-color:rgba(135,206,250,0.022303076591096618);\">can</span> <span style=\"background-color:rgba(135,206,250,0.017108006863085154);\">have</span> <span style=\"background-color:rgba(135,206,250,0.028927205887293445);\">multiple</span> <span style=\"background-color:rgba(135,206,250,0.10342481398436698);\">personalities</span> <span style=\"background-color:rgba(135,206,250,0.0394759183102593);\">.</span> <span style=\"background-color:rgba(135,206,250,0.13293021124737964);\">It&#x27;;s</span> <span style=\"background-color:rgba(135,206,250,0.0269644240605278);\">just</span> <span style=\"background-color:rgba(135,206,250,0.025851793601739205);\">a</span> <span style=\"background-color:rgba(135,206,250,0.005669246651463471);\">matter</span> <span style=\"background-color:rgba(135,206,250,0.007690656426576033);\">of</span> <span style=\"background-color:rgba(135,206,250,0.05803968676325795);\">software</span> <span style=\"background-color:rgba(135,206,250,0.006579017636899285);\">.</span> <span style=\"background-color:rgba(135,206,250,0.010818582605659663);\">We</span> <span style=\"background-color:rgba(135,206,250,0.042273559249234864);\">usually</span> <span style=\"background-color:rgba(135,206,250,0.03185524698134041);\">think</span> <span style=\"background-color:rgba(135,206,250,0.005532983763459324);\">of</span> <span style=\"background-color:rgba(135,206,250,0.0005096687501320245);\">the</span> <span style=\"background-color:rgba(135,206,250,0.152132490804521);\">processor</span> <span style=\"background-color:rgba(135,206,250,0.003191944548545353);\">chip</span> <span style=\"background-color:rgba(135,206,250,0.006146627619436637);\">as</span> <span style=\"background-color:rgba(135,206,250,0.0009209697431517872);\">the</span> <span style=\"background-color:rgba(135,206,250,0.03419010652537827);\">brains</span> <span style=\"background-color:rgba(135,206,250,0.015156284437288408);\">of</span> <span style=\"background-color:rgba(135,206,250,0.0035271485169697135);\">a</span> <span style=\"background-color:rgba(135,206,250,0.18931048026937697);\">computer</span> <span style=\"background-color:rgba(135,206,250,0.03764489105305738);\">.</span> <span style=\"background-color:rgba(135,206,250,0.13045169710443594);\">The</span> <span style=\"background-color:rgba(135,206,250,0.03542901694597457);\">...</span>"
      ],
      "text/plain": [
       "<IPython.core.display.HTML object>"
      ]
     },
     "metadata": {},
     "output_type": "display_data"
    },
    {
     "name": "stdout",
     "output_type": "stream",
     "text": [
      "None\n"
     ]
    },
    {
     "data": {
      "text/html": [
       "<span style=\"background-color:rgba(135,206,250,0.7250886851529696);\">BOSTON</span> <span style=\"background-color:rgba(135,206,250,0.2693116211518359);\">The</span> <span style=\"background-color:rgba(135,206,250,0.3091715266471971);\">jury</span> <span style=\"background-color:rgba(135,206,250,0.041686456041000956);\">is</span> <span style=\"background-color:rgba(135,206,250,0.06667771608502812);\">still</span> <span style=\"background-color:rgba(135,206,250,0.047504976492683273);\">out</span> <span style=\"background-color:rgba(135,206,250,0.00073330134570666);\">on</span> <span style=\"background-color:rgba(135,206,250,0.05535846144671553);\">whether</span> <span style=\"background-color:rgba(135,206,250,0.003470251174071257);\">a</span> <span style=\"background-color:rgba(135,206,250,0.09575160521115361);\">computer</span> <span style=\"background-color:rgba(135,206,250,0.09620761451316488);\">can</span> <span style=\"background-color:rgba(135,206,250,0.029556105939982195);\">ever</span> <span style=\"background-color:rgba(135,206,250,0.00638659003446985);\">truly</span> <span style=\"background-color:rgba(135,206,250,0.00755278482130108);\">be</span> <span style=\"background-color:rgba(135,206,250,0.08559996788768931);\">intelligent</span> <span style=\"background-color:rgba(135,206,250,0.02895408787086529);\">but</span> <span style=\"background-color:rgba(135,206,250,0.011157663880169994);\">there</span> <span style=\"background-color:rgba(135,206,250,0.04773603505948124);\">is</span> <span style=\"background-color:rgba(135,206,250,0.005334299286196397);\">no</span> <span style=\"background-color:rgba(135,206,250,0.06829319541619343);\">question</span> <span style=\"background-color:rgba(135,206,250,0.026395899837088548);\">that</span> <span style=\"background-color:rgba(135,206,250,0.05768443253184206);\">it</span> <span style=\"background-color:rgba(135,206,250,0.060739289070644485);\">can</span> <span style=\"background-color:rgba(135,206,250,0.007607046235459486);\">have</span> <span style=\"background-color:rgba(135,206,250,0.065899501115686);\">multiple</span> <span style=\"background-color:rgba(135,206,250,0.1442246063152923);\">personalities</span> <span style=\"background-color:rgba(135,206,250,0.020234284232006256);\">Its</span> <span style=\"background-color:rgba(135,206,250,0.03252498597361048);\">just</span> <span style=\"background-color:rgba(135,206,250,0.011640476558631005);\">a</span> <span style=\"background-color:rgba(135,206,250,0.03126088949146088);\">matter</span> <span style=\"background-color:rgba(135,206,250,0.003993205513351704);\">of</span> <span style=\"background-color:rgba(135,206,250,0.02925015623131144);\">software</span> <span style=\"background-color:rgba(135,206,250,0.03645332561348352);\">We</span> <span style=\"background-color:rgba(135,206,250,0.06951174291981287);\">usually</span> <span style=\"background-color:rgba(135,206,250,0.040450237948762464);\">think</span> <span style=\"background-color:rgba(135,206,250,0.01207857657515669);\">of</span> <span style=\"background-color:rgba(135,206,250,0.0028442517485359853);\">the</span> <span style=\"background-color:rgba(135,206,250,0.18659863570081986);\">processor</span> <span style=\"background-color:rgba(135,206,250,0.062214246152386236);\">chip</span> <span style=\"background-color:rgba(135,206,250,0.013442317590775129);\">as</span> <span style=\"background-color:rgba(135,206,250,0.0027108653945909695);\">the</span> <span style=\"background-color:rgba(135,206,250,0.07394366976359283);\">brains</span> <span style=\"background-color:rgba(135,206,250,0.018275702726944894);\">of</span> <span style=\"background-color:rgba(135,206,250,0.010977370520485426);\">a</span> <span style=\"background-color:rgba(135,206,250,0.21883775058453214);\">computer</span> <span style=\"background-color:rgba(135,206,250,0.0920067111337025);\">The</span>"
      ],
      "text/plain": [
       "<IPython.core.display.HTML object>"
      ]
     },
     "metadata": {},
     "output_type": "display_data"
    },
    {
     "name": "stdout",
     "output_type": "stream",
     "text": [
      "None\n"
     ]
    },
    {
     "data": {
      "text/html": [
       "<span style=\"background-color:rgba(135,206,250,0.22966931281441005);\">Canadian</span> <span style=\"background-color:rgba(135,206,250,1.5290123645334301);\">Press</span> <span style=\"background-color:rgba(135,206,250,0.16384320953049694);\">-</span> <span style=\"background-color:rgba(135,206,250,0.31162988880183146);\">OTTAWA</span> <span style=\"background-color:rgba(135,206,250,0.07268390018760187);\">(</span> <span style=\"background-color:rgba(135,206,250,0.13436736870695448);\">CP</span> <span style=\"background-color:rgba(135,206,250,0.02330987320251434);\">)</span> <span style=\"background-color:rgba(135,206,250,0.0006759010920014191);\">-</span> <span style=\"background-color:rgba(135,206,250,0.0540345927201068);\">Most</span> <span style=\"background-color:rgba(135,206,250,0.016198619431885997);\">of</span> <span style=\"background-color:rgba(135,206,250,0.015607354843113567);\">the</span> <span style=\"background-color:rgba(135,206,250,0.007391247367957132);\">nearly</span> <span style=\"background-color:rgba(135,206,250,0.008436737305759836);\">two</span> <span style=\"background-color:rgba(135,206,250,0.004059384205083538);\">million</span> <span style=\"background-color:rgba(135,206,250,0.11925614107710397);\">immigrants</span> <span style=\"background-color:rgba(135,206,250,0.0005859273594840816);\">who</span> <span style=\"background-color:rgba(135,206,250,0.05956318002585397);\">arrived</span> <span style=\"background-color:rgba(135,206,250,0.007365745014137501);\">in</span> <span style=\"background-color:rgba(135,206,250,0.007711021890625931);\">Canada</span> <span style=\"background-color:rgba(135,206,250,0.014542541344722534);\">during</span> <span style=\"background-color:rgba(135,206,250,0.007243862714548092);\">the</span> <span style=\"background-color:rgba(135,206,250,0.020952771252222117);\">1990s</span> <span style=\"background-color:rgba(135,206,250,0.03444575271968154);\">settled</span> <span style=\"background-color:rgba(135,206,250,0.005495572950021603);\">in</span> <span style=\"background-color:rgba(135,206,250,0.0034551184971075306);\">one</span> <span style=\"background-color:rgba(135,206,250,0.0036146291970301178);\">of</span> <span style=\"background-color:rgba(135,206,250,0.0017716622529428423);\">the</span> <span style=\"background-color:rgba(135,206,250,0.05215319412707303);\">country</span> <span style=\"background-color:rgba(135,206,250,0.01238435281030993);\">&#x27;s</span> <span style=\"background-color:rgba(135,206,250,0.02717985663062175);\">27</span> <span style=\"background-color:rgba(135,206,250,0.027092716309865355);\">census</span> <span style=\"background-color:rgba(135,206,250,0.033884675666758415);\">metropolitan</span> <span style=\"background-color:rgba(135,206,250,0.012547701909743874);\">areas</span> <span style=\"background-color:rgba(135,206,250,0.004430460344863641);\">,</span> <span style=\"background-color:rgba(135,206,250,0.00857444067788256);\">but</span> <span style=\"background-color:rgba(135,206,250,0.0018492496968330716);\">still</span> <span style=\"background-color:rgba(135,206,250,0.011121168627877162);\">found</span> <span style=\"background-color:rgba(135,206,250,0.009421812620555903);\">it</span> <span style=\"background-color:rgba(135,206,250,0.03421026423170674);\">harder</span> <span style=\"background-color:rgba(135,206,250,0.010556160614395432);\">to</span> <span style=\"background-color:rgba(135,206,250,0.029790724167785637);\">find</span> <span style=\"background-color:rgba(135,206,250,0.015341365704767606);\">work</span> <span style=\"background-color:rgba(135,206,250,0.000914228828301711);\">than</span> <span style=\"background-color:rgba(135,206,250,0.02172691339876533);\">natural</span> <span style=\"background-color:rgba(135,206,250,0.000444822986864086);\">-</span> <span style=\"background-color:rgba(135,206,250,0.036762002563374765);\">born</span> <span style=\"background-color:rgba(135,206,250,0.07301102026708868);\">citizens</span> <span style=\"background-color:rgba(135,206,250,0.002547212453517897);\">,</span> <span style=\"background-color:rgba(135,206,250,0.006632170424504999);\">Statistics</span> <span style=\"background-color:rgba(135,206,250,0.009768040376408075);\">Canada</span> <span style=\"background-color:rgba(135,206,250,0.007000518897340752);\">reported</span> <span style=\"background-color:rgba(135,206,250,0.01972737065407415);\">Wednesday</span> <span style=\"background-color:rgba(135,206,250,0.007337315314200373);\">.</span>"
      ],
      "text/plain": [
       "<IPython.core.display.HTML object>"
      ]
     },
     "metadata": {},
     "output_type": "display_data"
    },
    {
     "name": "stdout",
     "output_type": "stream",
     "text": [
      "None\n"
     ]
    },
    {
     "data": {
      "text/html": [
       "<span style=\"background-color:rgba(135,206,250,0.3272175165816546);\">Canadian</span> <span style=\"background-color:rgba(135,206,250,0.7254541600236054);\">Press</span> <span style=\"background-color:rgba(135,206,250,0.01918345993170183);\">-</span> <span style=\"background-color:rgba(135,206,250,0.31978620277951536);\">OTTAWA</span> <span style=\"background-color:rgba(135,206,250,0.02496861908505384);\">(</span> <span style=\"background-color:rgba(135,206,250,0.2371742169733179);\">CP</span> <span style=\"background-color:rgba(135,206,250,0.00865483712376722);\">)</span> <span style=\"background-color:rgba(135,206,250,0.005142181762456816);\">-</span> <span style=\"background-color:rgba(135,206,250,0.15388956055769215);\">Most</span> <span style=\"background-color:rgba(135,206,250,0.02560712342641354);\">of</span> <span style=\"background-color:rgba(135,206,250,0.02089903793872376);\">the</span> <span style=\"background-color:rgba(135,206,250,0.015110132196195926);\">nearly</span> <span style=\"background-color:rgba(135,206,250,0.017323421548016797);\">two</span> <span style=\"background-color:rgba(135,206,250,0.020852327216531675);\">million</span> <span style=\"background-color:rgba(135,206,250,0.060152221335997916);\">immigrants</span> <span style=\"background-color:rgba(135,206,250,0.028134922588528913);\">who</span> <span style=\"background-color:rgba(135,206,250,0.038780929848693184);\">arrived</span> <span style=\"background-color:rgba(135,206,250,0.002605230557679385);\">in</span> <span style=\"background-color:rgba(135,206,250,0.11559480694958213);\">Peru</span> <span style=\"background-color:rgba(135,206,250,0.05299750109223428);\">during</span> <span style=\"background-color:rgba(135,206,250,0.007945498371106594);\">the</span> <span style=\"background-color:rgba(135,206,250,0.07235019234099424);\">1990s</span> <span style=\"background-color:rgba(135,206,250,0.07167054228063385);\">settled</span> <span style=\"background-color:rgba(135,206,250,0.0001718913274794732);\">in</span> <span style=\"background-color:rgba(135,206,250,0.008636522288640282);\">one</span> <span style=\"background-color:rgba(135,206,250,0.003987396640577895);\">of</span> <span style=\"background-color:rgba(135,206,250,0.0054473052975433905);\">the</span> <span style=\"background-color:rgba(135,206,250,0.05551362031068526);\">country</span> <span style=\"background-color:rgba(135,206,250,0.016494411464019188);\">&#x27;s</span> <span style=\"background-color:rgba(135,206,250,0.014926182701726158);\">27</span> <span style=\"background-color:rgba(135,206,250,0.0811091860017192);\">census</span> <span style=\"background-color:rgba(135,206,250,0.06964661013988536);\">metropolitan</span> <span style=\"background-color:rgba(135,206,250,0.07062764393550566);\">areas</span> <span style=\"background-color:rgba(135,206,250,0.00017568742232622466);\">,</span> <span style=\"background-color:rgba(135,206,250,0.013476405451038445);\">but</span> <span style=\"background-color:rgba(135,206,250,0.035907423816912275);\">still</span> <span style=\"background-color:rgba(135,206,250,0.05927713759707067);\">found</span> <span style=\"background-color:rgba(135,206,250,0.025255536980379065);\">it</span> <span style=\"background-color:rgba(135,206,250,0.06220994180437856);\">harder</span> <span style=\"background-color:rgba(135,206,250,0.012434274302364863);\">to</span> <span style=\"background-color:rgba(135,206,250,0.032660406267556355);\">find</span> <span style=\"background-color:rgba(135,206,250,0.039154737834514675);\">work</span> <span style=\"background-color:rgba(135,206,250,0.0016035949063800533);\">than</span> <span style=\"background-color:rgba(135,206,250,0.10865965878375071);\">natural</span> <span style=\"background-color:rgba(135,206,250,0.006591146554362214);\">-</span> <span style=\"background-color:rgba(135,206,250,0.032249621223115844);\">born</span> <span style=\"background-color:rgba(135,206,250,0.05258114199213684);\">citizens</span> <span style=\"background-color:rgba(135,206,250,0.0013254184395377281);\">,</span> <span style=\"background-color:rgba(135,206,250,0.027363344740598632);\">Statistics</span> <span style=\"background-color:rgba(135,206,250,0.0947613812811003);\">Canada</span> <span style=\"background-color:rgba(135,206,250,0.0040671200072610915);\">reported</span> <span style=\"background-color:rgba(135,206,250,0.021513381249554257);\">Wednesday</span> <span style=\"background-color:rgba(135,206,250,0.004010489763062794);\">.</span>"
      ],
      "text/plain": [
       "<IPython.core.display.HTML object>"
      ]
     },
     "metadata": {},
     "output_type": "display_data"
    },
    {
     "name": "stdout",
     "output_type": "stream",
     "text": [
      "None\n"
     ]
    },
    {
     "data": {
      "text/html": [
       "<span style=\"background-color:rgba(135,206,250,0.46529666364609645);\">ATHENS</span> <span style=\"background-color:rgba(135,206,250,0.30159705418145616);\">:</span> <span style=\"background-color:rgba(135,206,250,0.4246891614706607);\">Dutch</span> <span style=\"background-color:rgba(135,206,250,0.17265819834703694);\">cycling</span> <span style=\"background-color:rgba(135,206,250,0.12567131026012726);\">great</span> <span style=\"background-color:rgba(135,206,250,0.45249674904484477);\">Leontien</span> <span style=\"background-color:rgba(135,206,250,0.30612772687687473);\">Zijlaard</span> <span style=\"background-color:rgba(135,206,250,0.01694182981449176);\">-</span> <span style=\"background-color:rgba(135,206,250,0.02441949438991465);\">van</span> <span style=\"background-color:rgba(135,206,250,0.015120706045283544);\">Moorsel</span> <span style=\"background-color:rgba(135,206,250,0.24946645139333368);\">emotionally</span> <span style=\"background-color:rgba(135,206,250,0.045476155581396074);\">defended</span> <span style=\"background-color:rgba(135,206,250,0.15325423781208103);\">her</span> <span style=\"background-color:rgba(135,206,250,0.08150041069002528);\">Olympic</span> <span style=\"background-color:rgba(135,206,250,0.07339675340126783);\">time</span> <span style=\"background-color:rgba(135,206,250,0.07091978649085769);\">trial</span> <span style=\"background-color:rgba(135,206,250,0.14384411013353093);\">gold</span> <span style=\"background-color:rgba(135,206,250,0.08512033603419877);\">medal</span> <span style=\"background-color:rgba(135,206,250,0.10012626505003927);\">here</span> <span style=\"background-color:rgba(135,206,250,0.025210303603097894);\">.</span>"
      ],
      "text/plain": [
       "<IPython.core.display.HTML object>"
      ]
     },
     "metadata": {},
     "output_type": "display_data"
    },
    {
     "name": "stdout",
     "output_type": "stream",
     "text": [
      "None\n"
     ]
    },
    {
     "data": {
      "text/html": [
       "<span style=\"background-color:rgba(135,206,250,0.38101681282835076);\">ATHENS</span> <span style=\"background-color:rgba(135,206,250,0.28663038987592293);\">:</span> <span style=\"background-color:rgba(135,206,250,0.3577379892534736);\">Dutch</span> <span style=\"background-color:rgba(135,206,250,0.17851436481409463);\">cycling</span> <span style=\"background-color:rgba(135,206,250,0.13473546344754012);\">great</span> <span style=\"background-color:rgba(135,206,250,0.4369063659276774);\">Leontien</span> <span style=\"background-color:rgba(135,206,250,0.27830255767602197);\">Zijlaard</span> <span style=\"background-color:rgba(135,206,250,0.015996871688897886);\">-</span> <span style=\"background-color:rgba(135,206,250,0.05701097377003205);\">van</span> <span style=\"background-color:rgba(135,206,250,0.2624120994219259);\">Moorsel</span> <span style=\"background-color:rgba(135,206,250,0.21262078290671593);\">emotionally</span> <span style=\"background-color:rgba(135,206,250,0.03706109164431243);\">defended</span> <span style=\"background-color:rgba(135,206,250,0.13418483147116708);\">her</span> <span style=\"background-color:rgba(135,206,250,0.014890679692333784);\">Olympic</span> <span style=\"background-color:rgba(135,206,250,0.1427195900597252);\">tim</span> <span style=\"background-color:rgba(135,206,250,0.13884902273974806);\">etrial</span> <span style=\"background-color:rgba(135,206,250,0.1106183887776193);\">gold</span> <span style=\"background-color:rgba(135,206,250,0.04966760604793016);\">medal</span> <span style=\"background-color:rgba(135,206,250,0.08467745424904964);\">here</span> <span style=\"background-color:rgba(135,206,250,0.0187798004953009);\">.</span>"
      ],
      "text/plain": [
       "<IPython.core.display.HTML object>"
      ]
     },
     "metadata": {},
     "output_type": "display_data"
    },
    {
     "name": "stdout",
     "output_type": "stream",
     "text": [
      "None\n"
     ]
    },
    {
     "data": {
      "text/html": [
       "<span style=\"background-color:rgba(135,206,250,0.24885219723657487);\">Oracle</span> <span style=\"background-color:rgba(135,206,250,0.06774815090905195);\">introduced</span> <span style=\"background-color:rgba(135,206,250,0.024681542859757554);\">a</span> <span style=\"background-color:rgba(135,206,250,0.19572518921177404);\">new</span> <span style=\"background-color:rgba(135,206,250,0.29698767681617577);\">BI</span> <span style=\"background-color:rgba(135,206,250,0.2857487552122592);\">platform</span> <span style=\"background-color:rgba(135,206,250,0.2561172063792182);\">yesterday</span> <span style=\"background-color:rgba(135,206,250,0.028829932198057517);\">,</span> <span style=\"background-color:rgba(135,206,250,0.03119630871015486);\">Business</span> <span style=\"background-color:rgba(135,206,250,0.03546996909783441);\">Intelligence</span> <span style=\"background-color:rgba(135,206,250,0.014887559200336782);\">10</span> <span style=\"background-color:rgba(135,206,250,0.058385274273865626);\">g</span> <span style=\"background-color:rgba(135,206,250,0.014701853503297058);\">that</span> <span style=\"background-color:rgba(135,206,250,0.03517411137575069);\">rolls</span> <span style=\"background-color:rgba(135,206,250,0.016779088152799902);\">up</span> <span style=\"background-color:rgba(135,206,250,0.025181268316473042);\">into</span> <span style=\"background-color:rgba(135,206,250,0.06009042523566259);\">one</span> <span style=\"background-color:rgba(135,206,250,0.08953088496781311);\">solution</span> <span style=\"background-color:rgba(135,206,250,0.02367475029773246);\">all</span> <span style=\"background-color:rgba(135,206,250,0.010380780744952809);\">of</span> <span style=\"background-color:rgba(135,206,250,0.01802248358874037);\">their</span> <span style=\"background-color:rgba(135,206,250,0.11566596506467762);\">BI</span> <span style=\"background-color:rgba(135,206,250,0.2741296773422802);\">tools</span> <span style=\"background-color:rgba(135,206,250,0.040984843252814096);\">.</span> <span style=\"background-color:rgba(135,206,250,0.009483024099455065);\">However</span> <span style=\"background-color:rgba(135,206,250,0.017385958005178018);\">,</span> <span style=\"background-color:rgba(135,206,250,0.019137524523330434);\">more</span> <span style=\"background-color:rgba(135,206,250,0.10645208487259256);\">interesting</span> <span style=\"background-color:rgba(135,206,250,0.0072218094750482915);\">than</span> <span style=\"background-color:rgba(135,206,250,0.00013672850609258407);\">the</span> <span style=\"background-color:rgba(135,206,250,0.1723260550376467);\">nitty</span> <span style=\"background-color:rgba(135,206,250,0.023923992291824608);\">-</span> <span style=\"background-color:rgba(135,206,250,0.021249796285932484);\">gritty</span> <span style=\"background-color:rgba(135,206,250,0.04983642895897473);\">details</span> <span style=\"background-color:rgba(135,206,250,0.018379419945010595);\">of</span> <span style=\"background-color:rgba(135,206,250,0.00623321130158673);\">what</span> <span style=\"background-color:rgba(135,206,250,0.10910169414014691);\">is</span> <span style=\"background-color:rgba(135,206,250,0.24522715765192615);\">included</span> <span style=\"background-color:rgba(135,206,250,0.09453812789741771);\">is</span> <span style=\"background-color:rgba(135,206,250,0.0012620174639084798);\">the</span> <span style=\"background-color:rgba(135,206,250,0.02461663467932009);\">back</span> <span style=\"background-color:rgba(135,206,250,0.003555759979187714);\">story</span> <span style=\"background-color:rgba(135,206,250,0.016113454782633048);\">taking</span> <span style=\"background-color:rgba(135,206,250,0.04554224996762315);\">place</span> <span style=\"background-color:rgba(135,206,250,0.01929029389848255);\">at</span> <span style=\"background-color:rgba(135,206,250,7.164762391128143e-05);\">the</span> <span style=\"background-color:rgba(135,206,250,0.010264166613352265);\">same</span> <span style=\"background-color:rgba(135,206,250,0.018240747505688337);\">time</span> <span style=\"background-color:rgba(135,206,250,0.024797411908045807);\">.</span>"
      ],
      "text/plain": [
       "<IPython.core.display.HTML object>"
      ]
     },
     "metadata": {},
     "output_type": "display_data"
    },
    {
     "name": "stdout",
     "output_type": "stream",
     "text": [
      "None\n"
     ]
    },
    {
     "data": {
      "text/html": [
       "<span style=\"background-color:rgba(135,206,250,0.15766152638873948);\">Oracle</span> <span style=\"background-color:rgba(135,206,250,0.012036884220661915);\">introduced</span> <span style=\"background-color:rgba(135,206,250,0.019672559167850222);\">a</span> <span style=\"background-color:rgba(135,206,250,0.10460510201597396);\">new</span> <span style=\"background-color:rgba(135,206,250,0.18625130487078284);\">BI</span> <span style=\"background-color:rgba(135,206,250,0.04176386627743437);\">platform</span> <span style=\"background-color:rgba(135,206,250,0.10101868132464659);\">yesterday</span> <span style=\"background-color:rgba(135,206,250,0.0011214983080065852);\">,</span> <span style=\"background-color:rgba(135,206,250,0.04170977510656925);\">Business</span> <span style=\"background-color:rgba(135,206,250,0.04466889757212609);\">Intelligence</span> <span style=\"background-color:rgba(135,206,250,0.015698680425260392);\">10</span> <span style=\"background-color:rgba(135,206,250,0.01397326717436956);\">g</span> <span style=\"background-color:rgba(135,206,250,0.8444756878679999);\">tha</span> <span style=\"background-color:rgba(135,206,250,0.8527868059099091);\">trolls</span> <span style=\"background-color:rgba(135,206,250,0.050258616711952635);\">up</span> <span style=\"background-color:rgba(135,206,250,0.03008468932149351);\">into</span> <span style=\"background-color:rgba(135,206,250,0.044494304792153376);\">one</span> <span style=\"background-color:rgba(135,206,250,0.036528735388983914);\">solution</span> <span style=\"background-color:rgba(135,206,250,0.012321238768570454);\">all</span> <span style=\"background-color:rgba(135,206,250,0.007979692994706824);\">of</span> <span style=\"background-color:rgba(135,206,250,0.018253891305209647);\">their</span> <span style=\"background-color:rgba(135,206,250,0.09307199563886112);\">BI</span> <span style=\"background-color:rgba(135,206,250,0.04043954117897482);\">tools</span> <span style=\"background-color:rgba(135,206,250,0.020109298144015623);\">.</span> <span style=\"background-color:rgba(135,206,250,0.0007369787091599709);\">However</span> <span style=\"background-color:rgba(135,206,250,0.00039485349921066214);\">,</span> <span style=\"background-color:rgba(135,206,250,0.011324001399620934);\">more</span> <span style=\"background-color:rgba(135,206,250,0.025799889799488284);\">interesting</span> <span style=\"background-color:rgba(135,206,250,0.007377900767229477);\">than</span> <span style=\"background-color:rgba(135,206,250,0.00017734029000922785);\">the</span> <span style=\"background-color:rgba(135,206,250,0.03466222373175443);\">nitty</span> <span style=\"background-color:rgba(135,206,250,0.016428140153238627);\">-</span> <span style=\"background-color:rgba(135,206,250,0.012309271627133155);\">gritty</span> <span style=\"background-color:rgba(135,206,250,0.03371174071983137);\">details</span> <span style=\"background-color:rgba(135,206,250,0.0072897812507299545);\">of</span> <span style=\"background-color:rgba(135,206,250,0.011880960541168118);\">what</span> <span style=\"background-color:rgba(135,206,250,0.06410273334445332);\">is</span> <span style=\"background-color:rgba(135,206,250,0.12920252285436146);\">included</span> <span style=\"background-color:rgba(135,206,250,0.056508821304834596);\">is</span> <span style=\"background-color:rgba(135,206,250,0.0007001407455093199);\">the</span> <span style=\"background-color:rgba(135,206,250,0.015710916159111823);\">back</span> <span style=\"background-color:rgba(135,206,250,0.000652425110369121);\">story</span> <span style=\"background-color:rgba(135,206,250,0.021319375081631533);\">taking</span> <span style=\"background-color:rgba(135,206,250,0.0419085463443385);\">place</span> <span style=\"background-color:rgba(135,206,250,0.012988671640720588);\">at</span> <span style=\"background-color:rgba(135,206,250,8.143673402455502e-05);\">the</span> <span style=\"background-color:rgba(135,206,250,0.00984693203617745);\">same</span> <span style=\"background-color:rgba(135,206,250,0.011731235049298043);\">time</span> <span style=\"background-color:rgba(135,206,250,0.015499825653965212);\">.</span>"
      ],
      "text/plain": [
       "<IPython.core.display.HTML object>"
      ]
     },
     "metadata": {},
     "output_type": "display_data"
    },
    {
     "name": "stdout",
     "output_type": "stream",
     "text": [
      "None\n"
     ]
    },
    {
     "data": {
      "text/html": [
       "<span style=\"background-color:rgba(135,206,250,0.2234067168543993);\">AMSTERDAM</span> <span style=\"background-color:rgba(135,206,250,0.2756879642595433);\">Cyclist</span> <span style=\"background-color:rgba(135,206,250,0.7067164926085411);\">Leontien</span> <span style=\"background-color:rgba(135,206,250,0.563393154406916);\">Zijlaard</span> <span style=\"background-color:rgba(135,206,250,0.09469958769971402);\">-</span> <span style=\"background-color:rgba(135,206,250,0.16052946725486197);\">Van</span> <span style=\"background-color:rgba(135,206,250,0.10773422142965533);\">Moorsel</span> <span style=\"background-color:rgba(135,206,250,0.1894403180687927);\">won</span> <span style=\"background-color:rgba(135,206,250,0.006463160850174179);\">the</span> <span style=\"background-color:rgba(135,206,250,0.08163906056056802);\">first</span> <span style=\"background-color:rgba(135,206,250,0.0711943927961164);\">gold</span> <span style=\"background-color:rgba(135,206,250,0.11254626840621551);\">medal</span> <span style=\"background-color:rgba(135,206,250,0.03323763305774584);\">for</span> <span style=\"background-color:rgba(135,206,250,0.0025780042238373285);\">the</span> <span style=\"background-color:rgba(135,206,250,0.09891120539829472);\">Netherlands</span> <span style=\"background-color:rgba(135,206,250,0.05279446451892962);\">at</span> <span style=\"background-color:rgba(135,206,250,0.0003384094929114343);\">the</span> <span style=\"background-color:rgba(135,206,250,0.044028005870187535);\">Athens</span> <span style=\"background-color:rgba(135,206,250,0.09014860732174503);\">Olympic</span> <span style=\"background-color:rgba(135,206,250,0.08392280961649268);\">Games</span> <span style=\"background-color:rgba(135,206,250,0.0014798216642134018);\">on</span> <span style=\"background-color:rgba(135,206,250,0.22938405916355567);\">Wednesday</span> <span style=\"background-color:rgba(135,206,250,0.10305954648027442);\">.</span>"
      ],
      "text/plain": [
       "<IPython.core.display.HTML object>"
      ]
     },
     "metadata": {},
     "output_type": "display_data"
    },
    {
     "name": "stdout",
     "output_type": "stream",
     "text": [
      "None\n"
     ]
    },
    {
     "data": {
      "text/html": [
       "<span style=\"background-color:rgba(135,206,250,0.5341983593639859);\">AMSTERDAM</span> <span style=\"background-color:rgba(135,206,250,0.434808342923382);\">Cyclist</span> <span style=\"background-color:rgba(135,206,250,0.4661277296119938);\">Leontien</span> <span style=\"background-color:rgba(135,206,250,0.1160564144401907);\">Zijlaard</span> <span style=\"background-color:rgba(135,206,250,0.018614370938345733);\">Van</span> <span style=\"background-color:rgba(135,206,250,0.15523410829669443);\">Moorsel</span> <span style=\"background-color:rgba(135,206,250,0.3054638596330172);\">won</span> <span style=\"background-color:rgba(135,206,250,0.0035006331492645083);\">the</span> <span style=\"background-color:rgba(135,206,250,0.09564352231831093);\">first</span> <span style=\"background-color:rgba(135,206,250,0.06348623586674551);\">gold</span> <span style=\"background-color:rgba(135,206,250,0.09356978814098046);\">medal</span> <span style=\"background-color:rgba(135,206,250,0.09005653347336808);\">for</span> <span style=\"background-color:rgba(135,206,250,0.00788652148034286);\">the</span> <span style=\"background-color:rgba(135,206,250,0.09648310694261235);\">Netherlands</span> <span style=\"background-color:rgba(135,206,250,0.11862928879179231);\">at</span> <span style=\"background-color:rgba(135,206,250,0.0028929078234783516);\">the</span> <span style=\"background-color:rgba(135,206,250,0.11841971708536839);\">Athens</span> <span style=\"background-color:rgba(135,206,250,0.2087011567802646);\">Olympic</span> <span style=\"background-color:rgba(135,206,250,0.18486501346249753);\">Games</span> <span style=\"background-color:rgba(135,206,250,0.0027604709977530326);\">on</span> <span style=\"background-color:rgba(135,206,250,0.21593515451362516);\">Wednesday</span>"
      ],
      "text/plain": [
       "<IPython.core.display.HTML object>"
      ]
     },
     "metadata": {},
     "output_type": "display_data"
    },
    {
     "name": "stdout",
     "output_type": "stream",
     "text": [
      "None\n"
     ]
    },
    {
     "data": {
      "text/html": [
       "<span style=\"background-color:rgba(135,206,250,0.2234067168543993);\">AMSTERDAM</span> <span style=\"background-color:rgba(135,206,250,0.2756879642595433);\">Cyclist</span> <span style=\"background-color:rgba(135,206,250,0.7067164926085411);\">Leontien</span> <span style=\"background-color:rgba(135,206,250,0.563393154406916);\">Zijlaard</span> <span style=\"background-color:rgba(135,206,250,0.09469958769971402);\">-</span> <span style=\"background-color:rgba(135,206,250,0.16052946725486197);\">Van</span> <span style=\"background-color:rgba(135,206,250,0.10773422142965533);\">Moorsel</span> <span style=\"background-color:rgba(135,206,250,0.1894403180687927);\">won</span> <span style=\"background-color:rgba(135,206,250,0.006463160850174179);\">the</span> <span style=\"background-color:rgba(135,206,250,0.08163906056056802);\">first</span> <span style=\"background-color:rgba(135,206,250,0.0711943927961164);\">gold</span> <span style=\"background-color:rgba(135,206,250,0.11254626840621551);\">medal</span> <span style=\"background-color:rgba(135,206,250,0.03323763305774584);\">for</span> <span style=\"background-color:rgba(135,206,250,0.0025780042238373285);\">the</span> <span style=\"background-color:rgba(135,206,250,0.09891120539829472);\">Netherlands</span> <span style=\"background-color:rgba(135,206,250,0.05279446451892962);\">at</span> <span style=\"background-color:rgba(135,206,250,0.0003384094929114343);\">the</span> <span style=\"background-color:rgba(135,206,250,0.044028005870187535);\">Athens</span> <span style=\"background-color:rgba(135,206,250,0.09014860732174503);\">Olympic</span> <span style=\"background-color:rgba(135,206,250,0.08392280961649268);\">Games</span> <span style=\"background-color:rgba(135,206,250,0.0014798216642134018);\">on</span> <span style=\"background-color:rgba(135,206,250,0.22938405916355567);\">Wednesday</span> <span style=\"background-color:rgba(135,206,250,0.10305954648027442);\">.</span>"
      ],
      "text/plain": [
       "<IPython.core.display.HTML object>"
      ]
     },
     "metadata": {},
     "output_type": "display_data"
    },
    {
     "name": "stdout",
     "output_type": "stream",
     "text": [
      "None\n"
     ]
    },
    {
     "data": {
      "text/html": [
       "<span style=\"background-color:rgba(135,206,250,0.13935880799145758);\">AMSTERDAM</span> <span style=\"background-color:rgba(135,206,250,0.060643504027084835);\">Cyclist</span> <span style=\"background-color:rgba(135,206,250,0.6435663395444672);\">Leontien</span> <span style=\"background-color:rgba(135,206,250,0.9359097421518148);\">Zijlaard</span> <span style=\"background-color:rgba(135,206,250,0.10409873145961478);\">-</span> <span style=\"background-color:rgba(135,206,250,0.022744585897223366);\">Van</span> <span style=\"background-color:rgba(135,206,250,0.23756799095159062);\">Moorsel</span> <span style=\"background-color:rgba(135,206,250,0.08152421469908645);\">won</span> <span style=\"background-color:rgba(135,206,250,0.0009733164413513806);\">the</span> <span style=\"background-color:rgba(135,206,250,0.040301700923727854);\">first</span> <span style=\"background-color:rgba(135,206,250,0.10611859480623827);\">gold</span> <span style=\"background-color:rgba(135,206,250,0.1423116127663339);\">medal</span> <span style=\"background-color:rgba(135,206,250,0.05996827760435891);\">for</span> <span style=\"background-color:rgba(135,206,250,0.027401659210255086);\">the</span> <span style=\"background-color:rgba(135,206,250,0.14399046165684207);\">Angola</span> <span style=\"background-color:rgba(135,206,250,0.05480877559008244);\">at</span> <span style=\"background-color:rgba(135,206,250,0.002142661950979489);\">the</span> <span style=\"background-color:rgba(135,206,250,0.03315251212377487);\">Athens</span> <span style=\"background-color:rgba(135,206,250,0.08742598146318575);\">Olympic</span> <span style=\"background-color:rgba(135,206,250,0.07575404092161332);\">Games</span> <span style=\"background-color:rgba(135,206,250,0.00029135921483828224);\">on</span> <span style=\"background-color:rgba(135,206,250,0.23058289668801715);\">Wednesday</span> <span style=\"background-color:rgba(135,206,250,0.10269569385249448);\">.</span>"
      ],
      "text/plain": [
       "<IPython.core.display.HTML object>"
      ]
     },
     "metadata": {},
     "output_type": "display_data"
    },
    {
     "name": "stdout",
     "output_type": "stream",
     "text": [
      "None\n"
     ]
    },
    {
     "data": {
      "text/html": [
       "<span style=\"background-color:rgba(135,206,250,0.1511772009066813);\">NEW</span> <span style=\"background-color:rgba(135,206,250,0.18928470941524328);\">YORK</span> <span style=\"background-color:rgba(135,206,250,0.4296068583138959);\">(</span> <span style=\"background-color:rgba(135,206,250,0.013344482258040016);\">Reuters</span> <span style=\"background-color:rgba(135,206,250,0.19301354589825095);\">)</span> <span style=\"background-color:rgba(135,206,250,0.08693897887599163);\">-</span> <span style=\"background-color:rgba(135,206,250,0.025441337170824804);\">Kroger</span> <span style=\"background-color:rgba(135,206,250,0.1727415379882785);\">Co.</span> <span style=\"background-color:rgba(135,206,250,0.037683513885959065);\">,</span> <span style=\"background-color:rgba(135,206,250,0.0005792452522888089);\">the</span> <span style=\"background-color:rgba(135,206,250,0.029947098940746528);\">top</span> <span style=\"background-color:rgba(135,206,250,0.12434610847401772);\">U.S.</span> <span style=\"background-color:rgba(135,206,250,0.0035177099456797996);\">grocer</span> <span style=\"background-color:rgba(135,206,250,0.004996025592682089);\">,</span> <span style=\"background-color:rgba(135,206,250,0.02021390025107463);\">on</span> <span style=\"background-color:rgba(135,206,250,0.04276835606625538);\">Tuesday</span> <span style=\"background-color:rgba(135,206,250,0.06163267139925092);\">posted</span> <span style=\"background-color:rgba(135,206,250,0.08598266157616603);\">a</span> <span style=\"background-color:rgba(135,206,250,0.021411929631101667);\">29</span> <span style=\"background-color:rgba(135,206,250,0.044154131545240165);\">percent</span> <span style=\"background-color:rgba(135,206,250,0.05925978402894154);\">rise</span> <span style=\"background-color:rgba(135,206,250,0.013215788466279962);\">in</span> <span style=\"background-color:rgba(135,206,250,0.0052551649408115126);\">quarterly</span> <span style=\"background-color:rgba(135,206,250,0.029757301650388916);\">profit</span> <span style=\"background-color:rgba(135,206,250,0.06080867402034973);\">due</span> <span style=\"background-color:rgba(135,206,250,0.024427331881146406);\">to</span> <span style=\"background-color:rgba(135,206,250,0.08098316153245758);\">cost</span> <span style=\"background-color:rgba(135,206,250,0.14047555852511487);\">controls</span> <span style=\"background-color:rgba(135,206,250,0.03718702811595244);\">,</span> <span style=\"background-color:rgba(135,206,250,0.012844570762626488);\">but</span> <span style=\"background-color:rgba(135,206,250,0.02064505596794405);\">price</span> <span style=\"background-color:rgba(135,206,250,0.02465552181605049);\">cuts</span> <span style=\"background-color:rgba(135,206,250,0.025711013041214006);\">to</span> <span style=\"background-color:rgba(135,206,250,0.0898857283000108);\">lure</span> <span style=\"background-color:rgba(135,206,250,0.012016184148488427);\">shoppers</span> <span style=\"background-color:rgba(135,206,250,0.25506618183983715);\">caused</span> <span style=\"background-color:rgba(135,206,250,0.03894475611236805);\">earnings</span> <span style=\"background-color:rgba(135,206,250,0.012442948272429704);\">to</span> <span style=\"background-color:rgba(135,206,250,0.019695392072866066);\">miss</span> <span style=\"background-color:rgba(135,206,250,0.031279735202224275);\">Wall</span> <span style=\"background-color:rgba(135,206,250,0.09300695945193524);\">Street</span> <span style=\"background-color:rgba(135,206,250,0.12890910241348116);\">estimates</span> <span style=\"background-color:rgba(135,206,250,0.026105329046182988);\">and</span> <span style=\"background-color:rgba(135,206,250,0.18985237859989906);\">shares</span> <span style=\"background-color:rgba(135,206,250,0.058293507841215904);\">fell</span> <span style=\"background-color:rgba(135,206,250,0.1038273100168607);\">.</span>"
      ],
      "text/plain": [
       "<IPython.core.display.HTML object>"
      ]
     },
     "metadata": {},
     "output_type": "display_data"
    },
    {
     "name": "stdout",
     "output_type": "stream",
     "text": [
      "None\n"
     ]
    },
    {
     "data": {
      "text/html": [
       "<span style=\"background-color:rgba(135,206,250,0.10618586671810457);\">NEW</span> <span style=\"background-color:rgba(135,206,250,0.12383742859095453);\">YORK</span> <span style=\"background-color:rgba(135,206,250,0.2833618045949115);\">(</span> <span style=\"background-color:rgba(135,206,250,0.01635025308392208);\">Reuters</span> <span style=\"background-color:rgba(135,206,250,0.127400940717194);\">)</span> <span style=\"background-color:rgba(135,206,250,0.056944217509594594);\">-</span> <span style=\"background-color:rgba(135,206,250,0.02542799248979919);\">Kroger</span> <span style=\"background-color:rgba(135,206,250,0.09886790703894928);\">Co.</span> <span style=\"background-color:rgba(135,206,250,0.022105791689307822);\">,</span> <span style=\"background-color:rgba(135,206,250,0.0003763284574498229);\">the</span> <span style=\"background-color:rgba(135,206,250,0.01491832712713744);\">top</span> <span style=\"background-color:rgba(135,206,250,0.09203692555220755);\">U.S.</span> <span style=\"background-color:rgba(135,206,250,0.04151127724018469);\">grocer</span> <span style=\"background-color:rgba(135,206,250,0.0017345205808440623);\">,</span> <span style=\"background-color:rgba(135,206,250,0.013035143199770356);\">on</span> <span style=\"background-color:rgba(135,206,250,0.044012530372383396);\">Tuesday</span> <span style=\"background-color:rgba(135,206,250,0.022578710099913926);\">posted</span> <span style=\"background-color:rgba(135,206,250,0.030139153750448882);\">a</span> <span style=\"background-color:rgba(135,206,250,0.026953226338120962);\">29</span> <span style=\"background-color:rgba(135,206,250,0.01210704922491053);\">percent</span> <span style=\"background-color:rgba(135,206,250,0.027145906374318626);\">rise</span> <span style=\"background-color:rgba(135,206,250,0.006672039542284611);\">in</span> <span style=\"background-color:rgba(135,206,250,0.016276615724566422);\">quarterly</span> <span style=\"background-color:rgba(135,206,250,0.40287570310109);\">profi</span> <span style=\"background-color:rgba(135,206,250,0.5256880575302972);\">tdue</span> <span style=\"background-color:rgba(135,206,250,0.01816133246729481);\">to</span> <span style=\"background-color:rgba(135,206,250,0.05734764589733394);\">cost</span> <span style=\"background-color:rgba(135,206,250,0.13284325131545377);\">controls</span> <span style=\"background-color:rgba(135,206,250,0.03167290483510301);\">,</span> <span style=\"background-color:rgba(135,206,250,0.0002847375045868154);\">but</span> <span style=\"background-color:rgba(135,206,250,0.01270328687918245);\">price</span> <span style=\"background-color:rgba(135,206,250,0.05172623641381387);\">cuts</span> <span style=\"background-color:rgba(135,206,250,0.025782346854433327);\">to</span> <span style=\"background-color:rgba(135,206,250,0.11362707384629514);\">lure</span> <span style=\"background-color:rgba(135,206,250,0.0034417448431697415);\">shoppers</span> <span style=\"background-color:rgba(135,206,250,0.23265205091872776);\">caused</span> <span style=\"background-color:rgba(135,206,250,0.05994454383629274);\">earnings</span> <span style=\"background-color:rgba(135,206,250,0.010294605743558189);\">to</span> <span style=\"background-color:rgba(135,206,250,0.0327272377019359);\">miss</span> <span style=\"background-color:rgba(135,206,250,0.02427458542602237);\">Wall</span> <span style=\"background-color:rgba(135,206,250,0.08070047681437016);\">Street</span> <span style=\"background-color:rgba(135,206,250,0.0883372525160591);\">estimates</span> <span style=\"background-color:rgba(135,206,250,0.03470168098071634);\">and</span> <span style=\"background-color:rgba(135,206,250,0.1095841841858584);\">shares</span> <span style=\"background-color:rgba(135,206,250,0.016001692545969778);\">fell</span> <span style=\"background-color:rgba(135,206,250,0.05798064958188798);\">.</span>"
      ],
      "text/plain": [
       "<IPython.core.display.HTML object>"
      ]
     },
     "metadata": {},
     "output_type": "display_data"
    },
    {
     "name": "stdout",
     "output_type": "stream",
     "text": [
      "None\n"
     ]
    },
    {
     "data": {
      "text/html": [
       "<span style=\"background-color:rgba(135,206,250,0.055277990429663804);\">Major</span> <span style=\"background-color:rgba(135,206,250,0.4214955121966657);\">League</span> <span style=\"background-color:rgba(135,206,250,0.13649021463318953);\">Soccer</span> <span style=\"background-color:rgba(135,206,250,0.11082621470156157);\">&#x27;s</span> <span style=\"background-color:rgba(135,206,250,0.04085545566393633);\">two</span> <span style=\"background-color:rgba(135,206,250,0.06925305892228129);\">expansion</span> <span style=\"background-color:rgba(135,206,250,0.09663239765187187);\">teams</span> <span style=\"background-color:rgba(135,206,250,0.01068173677543377);\">,</span> <span style=\"background-color:rgba(135,206,250,0.028107993020270082);\">Real</span> <span style=\"background-color:rgba(135,206,250,0.20865848128728748);\">Salt</span> <span style=\"background-color:rgba(135,206,250,0.46200647215781554);\">Lake</span> <span style=\"background-color:rgba(135,206,250,0.10306851664922531);\">and</span> <span style=\"background-color:rgba(135,206,250,0.3458425529102667);\">Club</span> <span style=\"background-color:rgba(135,206,250,0.038905308355200965);\">Deportivo</span> <span style=\"background-color:rgba(135,206,250,0.22562937460093396);\">Chivas</span> <span style=\"background-color:rgba(135,206,250,0.10882266936894164);\">USA</span> <span style=\"background-color:rgba(135,206,250,0.11495759812592928);\">,</span> <span style=\"background-color:rgba(135,206,250,0.06829976140162222);\">will</span> <span style=\"background-color:rgba(135,206,250,0.06876122945105125);\">join</span> <span style=\"background-color:rgba(135,206,250,0.0012872913403023168);\">the</span> <span style=\"background-color:rgba(135,206,250,0.15714842748125968);\">Western</span> <span style=\"background-color:rgba(135,206,250,0.07803190383315238);\">Conference</span> <span style=\"background-color:rgba(135,206,250,0.07152699675749007);\">for</span> <span style=\"background-color:rgba(135,206,250,0.0007760799641912747);\">the</span> <span style=\"background-color:rgba(135,206,250,0.10204366771574304);\">2005</span> <span style=\"background-color:rgba(135,206,250,0.1811969476793998);\">season</span> <span style=\"background-color:rgba(135,206,250,0.02674966426058591);\">.</span>"
      ],
      "text/plain": [
       "<IPython.core.display.HTML object>"
      ]
     },
     "metadata": {},
     "output_type": "display_data"
    },
    {
     "name": "stdout",
     "output_type": "stream",
     "text": [
      "None\n"
     ]
    },
    {
     "data": {
      "text/html": [
       "<span style=\"background-color:rgba(135,206,250,0.030503933016090275);\">Major</span> <span style=\"background-color:rgba(135,206,250,0.24477617016223013);\">League</span> <span style=\"background-color:rgba(135,206,250,0.04423574680159581);\">Soccer</span> <span style=\"background-color:rgba(135,206,250,0.08106906591274636);\">&#x27;s</span> <span style=\"background-color:rgba(135,206,250,0.03763152468247772);\">two</span> <span style=\"background-color:rgba(135,206,250,0.019674295742818582);\">expansion</span> <span style=\"background-color:rgba(135,206,250,0.018602672850343185);\">teams</span> <span style=\"background-color:rgba(135,206,250,0.12185816815714338);\">Real</span> <span style=\"background-color:rgba(135,206,250,0.1004344234033812);\">Salt</span> <span style=\"background-color:rgba(135,206,250,0.4911894983723636);\">Lake</span> <span style=\"background-color:rgba(135,206,250,0.10121551351681878);\">and</span> <span style=\"background-color:rgba(135,206,250,0.3072011571875015);\">Club</span> <span style=\"background-color:rgba(135,206,250,0.017944934560683606);\">Deportivo</span> <span style=\"background-color:rgba(135,206,250,0.2830783364256537);\">Chivas</span> <span style=\"background-color:rgba(135,206,250,0.2050164310404523);\">USA</span> <span style=\"background-color:rgba(135,206,250,0.0669347799221669);\">will</span> <span style=\"background-color:rgba(135,206,250,0.1550042658513258);\">join</span> <span style=\"background-color:rgba(135,206,250,0.0009161062174983951);\">the</span> <span style=\"background-color:rgba(135,206,250,0.15661660287575752);\">Western</span> <span style=\"background-color:rgba(135,206,250,0.1419552248121326);\">Conference</span> <span style=\"background-color:rgba(135,206,250,0.09018042797440683);\">for</span> <span style=\"background-color:rgba(135,206,250,0.0012221250647179624);\">the</span> <span style=\"background-color:rgba(135,206,250,0.11443232559124306);\">2005</span> <span style=\"background-color:rgba(135,206,250,0.39776934303237993);\">season</span> <span style=\"background-color:rgba(135,206,250,0.1038701954232373);\">.</span>"
      ],
      "text/plain": [
       "<IPython.core.display.HTML object>"
      ]
     },
     "metadata": {},
     "output_type": "display_data"
    },
    {
     "name": "stdout",
     "output_type": "stream",
     "text": [
      "None\n",
      "length not matching after perturbation\n",
      "length not matching after perturbation\n"
     ]
    },
    {
     "data": {
      "text/html": [
       "<span style=\"background-color:rgba(135,206,250,0.09267224356283793);\">Police</span> <span style=\"background-color:rgba(135,206,250,0.003942680481505391);\">in</span> <span style=\"background-color:rgba(135,206,250,0.3800774283584019);\">Burundi&#x27;;s</span> <span style=\"background-color:rgba(135,206,250,0.1993956886643254);\">capital</span> <span style=\"background-color:rgba(135,206,250,0.013467735490595076);\">,</span> <span style=\"background-color:rgba(135,206,250,0.027290540971325654);\">Bujumbura</span> <span style=\"background-color:rgba(135,206,250,0.04163008433527967);\">,</span> <span style=\"background-color:rgba(135,206,250,0.038640621596348894);\">used</span> <span style=\"background-color:rgba(135,206,250,0.06762782453232175);\">tear</span> <span style=\"background-color:rgba(135,206,250,1.239188808662342);\">gas</span> <span style=\"background-color:rgba(135,206,250,0.11655146276195384);\">to</span> <span style=\"background-color:rgba(135,206,250,0.15902668196815378);\">break</span> <span style=\"background-color:rgba(135,206,250,0.160889403365973);\">up</span> <span style=\"background-color:rgba(135,206,250,0.020734353498886925);\">a</span> <span style=\"background-color:rgba(135,206,250,0.13496243697434346);\">demonstration</span> <span style=\"background-color:rgba(135,206,250,0.09382423833482983);\">Wednesday</span> <span style=\"background-color:rgba(135,206,250,0.09783140382289236);\">held</span> <span style=\"background-color:rgba(135,206,250,0.12615772840214576);\">to</span> <span style=\"background-color:rgba(135,206,250,0.06584741061292729);\">protest</span> <span style=\"background-color:rgba(135,206,250,0.007961631111518444);\">the</span> <span style=\"background-color:rgba(135,206,250,0.03922635951233594);\">massacre</span> <span style=\"background-color:rgba(135,206,250,0.020294684792021976);\">of</span> <span style=\"background-color:rgba(135,206,250,0.025638048989552843);\">Congolese</span> <span style=\"background-color:rgba(135,206,250,0.024094783769089224);\">Tutsi</span> <span style=\"background-color:rgba(135,206,250,0.025693586613678186);\">refugees</span> <span style=\"background-color:rgba(135,206,250,0.11066520514441665);\">.</span>"
      ],
      "text/plain": [
       "<IPython.core.display.HTML object>"
      ]
     },
     "metadata": {},
     "output_type": "display_data"
    },
    {
     "name": "stdout",
     "output_type": "stream",
     "text": [
      "None\n"
     ]
    },
    {
     "data": {
      "text/html": [
       "<span style=\"background-color:rgba(135,206,250,0.13520145374850664);\">Police</span> <span style=\"background-color:rgba(135,206,250,0.018156018705206174);\">in</span> <span style=\"background-color:rgba(135,206,250,0.8424763651849778);\">Burundi&#x27;;s</span> <span style=\"background-color:rgba(135,206,250,0.06434483982773949);\">capital</span> <span style=\"background-color:rgba(135,206,250,0.03476804412029194);\">Bujumbura</span> <span style=\"background-color:rgba(135,206,250,0.019230370599932503);\">used</span> <span style=\"background-color:rgba(135,206,250,0.015164760225439191);\">tear</span> <span style=\"background-color:rgba(135,206,250,1.083606351002232);\">gas</span> <span style=\"background-color:rgba(135,206,250,0.10714531899279087);\">to</span> <span style=\"background-color:rgba(135,206,250,0.10900761914268246);\">break</span> <span style=\"background-color:rgba(135,206,250,0.17581328200548105);\">up</span> <span style=\"background-color:rgba(135,206,250,0.022894805973851694);\">a</span> <span style=\"background-color:rgba(135,206,250,0.02450730414634429);\">demonstration</span> <span style=\"background-color:rgba(135,206,250,0.08126253486285377);\">Wednesday</span> <span style=\"background-color:rgba(135,206,250,0.10946001959497206);\">held</span> <span style=\"background-color:rgba(135,206,250,0.11951841570398997);\">to</span> <span style=\"background-color:rgba(135,206,250,0.07904677095452768);\">protest</span> <span style=\"background-color:rgba(135,206,250,0.009664961547311581);\">the</span> <span style=\"background-color:rgba(135,206,250,0.06013439043220579);\">massacre</span> <span style=\"background-color:rgba(135,206,250,0.004922275933713228);\">of</span> <span style=\"background-color:rgba(135,206,250,0.02220655972271455);\">Congolese</span> <span style=\"background-color:rgba(135,206,250,0.04226459033025191);\">Tutsi</span> <span style=\"background-color:rgba(135,206,250,0.04499032318724719);\">refugees</span> <span style=\"background-color:rgba(135,206,250,0.10754594480560059);\">.</span>"
      ],
      "text/plain": [
       "<IPython.core.display.HTML object>"
      ]
     },
     "metadata": {},
     "output_type": "display_data"
    },
    {
     "name": "stdout",
     "output_type": "stream",
     "text": [
      "None\n"
     ]
    },
    {
     "data": {
      "text/html": [
       "<span style=\"background-color:rgba(135,206,250,0.09267224356283793);\">Police</span> <span style=\"background-color:rgba(135,206,250,0.003942680481505391);\">in</span> <span style=\"background-color:rgba(135,206,250,0.3800774283584019);\">Burundi&#x27;;s</span> <span style=\"background-color:rgba(135,206,250,0.1993956886643254);\">capital</span> <span style=\"background-color:rgba(135,206,250,0.013467735490595076);\">,</span> <span style=\"background-color:rgba(135,206,250,0.027290540971325654);\">Bujumbura</span> <span style=\"background-color:rgba(135,206,250,0.04163008433527967);\">,</span> <span style=\"background-color:rgba(135,206,250,0.038640621596348894);\">used</span> <span style=\"background-color:rgba(135,206,250,0.06762782453232175);\">tear</span> <span style=\"background-color:rgba(135,206,250,1.239188808662342);\">gas</span> <span style=\"background-color:rgba(135,206,250,0.11655146276195384);\">to</span> <span style=\"background-color:rgba(135,206,250,0.15902668196815378);\">break</span> <span style=\"background-color:rgba(135,206,250,0.160889403365973);\">up</span> <span style=\"background-color:rgba(135,206,250,0.020734353498886925);\">a</span> <span style=\"background-color:rgba(135,206,250,0.13496243697434346);\">demonstration</span> <span style=\"background-color:rgba(135,206,250,0.09382423833482983);\">Wednesday</span> <span style=\"background-color:rgba(135,206,250,0.09783140382289236);\">held</span> <span style=\"background-color:rgba(135,206,250,0.12615772840214576);\">to</span> <span style=\"background-color:rgba(135,206,250,0.06584741061292729);\">protest</span> <span style=\"background-color:rgba(135,206,250,0.007961631111518444);\">the</span> <span style=\"background-color:rgba(135,206,250,0.03922635951233594);\">massacre</span> <span style=\"background-color:rgba(135,206,250,0.020294684792021976);\">of</span> <span style=\"background-color:rgba(135,206,250,0.025638048989552843);\">Congolese</span> <span style=\"background-color:rgba(135,206,250,0.024094783769089224);\">Tutsi</span> <span style=\"background-color:rgba(135,206,250,0.025693586613678186);\">refugees</span> <span style=\"background-color:rgba(135,206,250,0.11066520514441665);\">.</span>"
      ],
      "text/plain": [
       "<IPython.core.display.HTML object>"
      ]
     },
     "metadata": {},
     "output_type": "display_data"
    },
    {
     "name": "stdout",
     "output_type": "stream",
     "text": [
      "None\n"
     ]
    },
    {
     "data": {
      "text/html": [
       "<span style=\"background-color:rgba(135,206,250,0.01002183162576345);\">Police</span> <span style=\"background-color:rgba(135,206,250,0.010136666694144827);\">in</span> <span style=\"background-color:rgba(135,206,250,0.30373100070325837);\">Burundis</span> <span style=\"background-color:rgba(135,206,250,0.8303314711658493);\">capital</span> <span style=\"background-color:rgba(135,206,250,0.025832651094236075);\">Bujumbura</span> <span style=\"background-color:rgba(135,206,250,0.029572320218869727);\">used</span> <span style=\"background-color:rgba(135,206,250,0.08938374645782698);\">tear</span> <span style=\"background-color:rgba(135,206,250,1.2238604883353592);\">gas</span> <span style=\"background-color:rgba(135,206,250,0.09499642033601997);\">to</span> <span style=\"background-color:rgba(135,206,250,0.12720200184576172);\">break</span> <span style=\"background-color:rgba(135,206,250,0.14871192528390362);\">up</span> <span style=\"background-color:rgba(135,206,250,0.01960310331132911);\">a</span> <span style=\"background-color:rgba(135,206,250,0.002143093640436543);\">demonstration</span> <span style=\"background-color:rgba(135,206,250,0.07020003679234285);\">Wednesday</span> <span style=\"background-color:rgba(135,206,250,0.06850409062593037);\">held</span> <span style=\"background-color:rgba(135,206,250,0.10284487594483042);\">to</span> <span style=\"background-color:rgba(135,206,250,0.05279751515714536);\">protest</span> <span style=\"background-color:rgba(135,206,250,0.005451119284798874);\">the</span> <span style=\"background-color:rgba(135,206,250,0.02419535267365837);\">massacre</span> <span style=\"background-color:rgba(135,206,250,0.0060574813359925705);\">of</span> <span style=\"background-color:rgba(135,206,250,0.03692108968199983);\">Congolese</span> <span style=\"background-color:rgba(135,206,250,0.03469032385616687);\">Tutsi</span> <span style=\"background-color:rgba(135,206,250,0.016144524476865024);\">refugees</span>"
      ],
      "text/plain": [
       "<IPython.core.display.HTML object>"
      ]
     },
     "metadata": {},
     "output_type": "display_data"
    },
    {
     "name": "stdout",
     "output_type": "stream",
     "text": [
      "None\n"
     ]
    },
    {
     "data": {
      "text/html": [
       "<span style=\"background-color:rgba(135,206,250,0.09267224356283793);\">Police</span> <span style=\"background-color:rgba(135,206,250,0.003942680481505391);\">in</span> <span style=\"background-color:rgba(135,206,250,0.3800774283584019);\">Burundi&#x27;;s</span> <span style=\"background-color:rgba(135,206,250,0.1993956886643254);\">capital</span> <span style=\"background-color:rgba(135,206,250,0.013467735490595076);\">,</span> <span style=\"background-color:rgba(135,206,250,0.027290540971325654);\">Bujumbura</span> <span style=\"background-color:rgba(135,206,250,0.04163008433527967);\">,</span> <span style=\"background-color:rgba(135,206,250,0.038640621596348894);\">used</span> <span style=\"background-color:rgba(135,206,250,0.06762782453232175);\">tear</span> <span style=\"background-color:rgba(135,206,250,1.239188808662342);\">gas</span> <span style=\"background-color:rgba(135,206,250,0.11655146276195384);\">to</span> <span style=\"background-color:rgba(135,206,250,0.15902668196815378);\">break</span> <span style=\"background-color:rgba(135,206,250,0.160889403365973);\">up</span> <span style=\"background-color:rgba(135,206,250,0.020734353498886925);\">a</span> <span style=\"background-color:rgba(135,206,250,0.13496243697434346);\">demonstration</span> <span style=\"background-color:rgba(135,206,250,0.09382423833482983);\">Wednesday</span> <span style=\"background-color:rgba(135,206,250,0.09783140382289236);\">held</span> <span style=\"background-color:rgba(135,206,250,0.12615772840214576);\">to</span> <span style=\"background-color:rgba(135,206,250,0.06584741061292729);\">protest</span> <span style=\"background-color:rgba(135,206,250,0.007961631111518444);\">the</span> <span style=\"background-color:rgba(135,206,250,0.03922635951233594);\">massacre</span> <span style=\"background-color:rgba(135,206,250,0.020294684792021976);\">of</span> <span style=\"background-color:rgba(135,206,250,0.025638048989552843);\">Congolese</span> <span style=\"background-color:rgba(135,206,250,0.024094783769089224);\">Tutsi</span> <span style=\"background-color:rgba(135,206,250,0.025693586613678186);\">refugees</span> <span style=\"background-color:rgba(135,206,250,0.11066520514441665);\">.</span>"
      ],
      "text/plain": [
       "<IPython.core.display.HTML object>"
      ]
     },
     "metadata": {},
     "output_type": "display_data"
    },
    {
     "name": "stdout",
     "output_type": "stream",
     "text": [
      "None\n"
     ]
    },
    {
     "data": {
      "text/html": [
       "<span style=\"background-color:rgba(135,206,250,0.024073042041554672);\">Police</span> <span style=\"background-color:rgba(135,206,250,0.010009854920274416);\">in</span> <span style=\"background-color:rgba(135,206,250,0.09726194060152407);\">Burundi&#x27;;s</span> <span style=\"background-color:rgba(135,206,250,0.28857417279195674);\">capital</span> <span style=\"background-color:rgba(135,206,250,0.002811418778986239);\">,</span> <span style=\"background-color:rgba(135,206,250,0.05881405300591469);\">Bujumbura</span> <span style=\"background-color:rgba(135,206,250,0.0395706233083837);\">,</span> <span style=\"background-color:rgba(135,206,250,0.009940202664887174);\">used</span> <span style=\"background-color:rgba(135,206,250,0.13932783587273412);\">tear</span> <span style=\"background-color:rgba(135,206,250,0.9988920313274093);\">gas</span> <span style=\"background-color:rgba(135,206,250,0.07576792883014215);\">to</span> <span style=\"background-color:rgba(135,206,250,0.13043078527574548);\">break</span> <span style=\"background-color:rgba(135,206,250,0.10864981515787342);\">up</span> <span style=\"background-color:rgba(135,206,250,0.013517417303117155);\">a</span> <span style=\"background-color:rgba(135,206,250,0.2875561183972445);\">demonstration</span> <span style=\"background-color:rgba(135,206,250,0.07245709845160841);\">Wednesday</span> <span style=\"background-color:rgba(135,206,250,0.021445315658952184);\">held</span> <span style=\"background-color:rgba(135,206,250,0.09011752761592237);\">to</span> <span style=\"background-color:rgba(135,206,250,0.006055280613720973);\">protest</span> <span style=\"background-color:rgba(135,206,250,0.009043810897557469);\">the</span> <span style=\"background-color:rgba(135,206,250,0.29061896222874073);\">massacr</span> <span style=\"background-color:rgba(135,206,250,0.396052282783631);\">eof</span> <span style=\"background-color:rgba(135,206,250,0.02162684721193908);\">Congolese</span> <span style=\"background-color:rgba(135,206,250,0.03534668905266466);\">Tutsi</span> <span style=\"background-color:rgba(135,206,250,0.007669918296355498);\">refugees</span> <span style=\"background-color:rgba(135,206,250,0.09770228466156648);\">.</span>"
      ],
      "text/plain": [
       "<IPython.core.display.HTML object>"
      ]
     },
     "metadata": {},
     "output_type": "display_data"
    },
    {
     "name": "stdout",
     "output_type": "stream",
     "text": [
      "None\n",
      "length not matching after perturbation\n"
     ]
    },
    {
     "data": {
      "text/html": [
       "<span style=\"background-color:rgba(135,206,250,0.3250869398975451);\">Canadian</span> <span style=\"background-color:rgba(135,206,250,0.3376051002610621);\">Press</span> <span style=\"background-color:rgba(135,206,250,0.013786137095124346);\">-</span> <span style=\"background-color:rgba(135,206,250,0.32297432633770434);\">OTTAWA</span> <span style=\"background-color:rgba(135,206,250,0.01635161683342576);\">(</span> <span style=\"background-color:rgba(135,206,250,0.2456358129127093);\">CP</span> <span style=\"background-color:rgba(135,206,250,0.015564325988798393);\">)</span> <span style=\"background-color:rgba(135,206,250,0.004788687054909617);\">-</span> <span style=\"background-color:rgba(135,206,250,0.2007870118232215);\">Paul</span> <span style=\"background-color:rgba(135,206,250,0.1722244879009902);\">Martin</span> <span style=\"background-color:rgba(135,206,250,0.01849081584868106);\">announced</span> <span style=\"background-color:rgba(135,206,250,0.009878467258475078);\">a</span> <span style=\"background-color:rgba(135,206,250,0.18503118723221432);\">major</span> <span style=\"background-color:rgba(135,206,250,0.08404900942642139);\">overhaul</span> <span style=\"background-color:rgba(135,206,250,0.01834339389525475);\">of</span> <span style=\"background-color:rgba(135,206,250,0.03307898130519865);\">his</span> <span style=\"background-color:rgba(135,206,250,0.05421638113410783);\">senior</span> <span style=\"background-color:rgba(135,206,250,0.016833896778341673);\">staff</span> <span style=\"background-color:rgba(135,206,250,0.020001490407409825);\">Wednesday</span> <span style=\"background-color:rgba(135,206,250,0.001590167476543452);\">,</span> <span style=\"background-color:rgba(135,206,250,0.026011242550422545);\">with</span> <span style=\"background-color:rgba(135,206,250,0.08041173236336617);\">several</span> <span style=\"background-color:rgba(135,206,250,0.05183033818157221);\">close</span> <span style=\"background-color:rgba(135,206,250,0.15574196003428206);\">confidants</span> <span style=\"background-color:rgba(135,206,250,0.013524172443363305);\">and</span> <span style=\"background-color:rgba(135,206,250,0.008478664943225142);\">one</span> <span style=\"background-color:rgba(135,206,250,0.09711267401596396);\">ex</span> <span style=\"background-color:rgba(135,206,250,0.007823166820808395);\">-</span> <span style=\"background-color:rgba(135,206,250,0.03853418842958776);\">cabinet</span> <span style=\"background-color:rgba(135,206,250,0.07778338814878617);\">minister</span> <span style=\"background-color:rgba(135,206,250,0.04473546368163988);\">handed</span> <span style=\"background-color:rgba(135,206,250,0.11700341582799481);\">major</span> <span style=\"background-color:rgba(135,206,250,0.07016667856540129);\">roles</span> <span style=\"background-color:rgba(135,206,250,0.00183215293465714);\">in</span> <span style=\"background-color:rgba(135,206,250,0.007640932357540137);\">the</span> <span style=\"background-color:rgba(135,206,250,0.03850062743902673);\">Prime</span> <span style=\"background-color:rgba(135,206,250,0.06627066729643696);\">Minister</span> <span style=\"background-color:rgba(135,206,250,0.01850639996504952);\">&#x27;s</span> <span style=\"background-color:rgba(135,206,250,0.04141143292732484);\">Office</span> <span style=\"background-color:rgba(135,206,250,0.004191062091443509);\">in</span> <span style=\"background-color:rgba(135,206,250,0.010912702295598846);\">a</span> <span style=\"background-color:rgba(135,206,250,0.07282662767988164);\">post</span> <span style=\"background-color:rgba(135,206,250,0.005827447501093201);\">-</span> <span style=\"background-color:rgba(135,206,250,0.11701484937841694);\">election</span> <span style=\"background-color:rgba(135,206,250,0.06179621907690686);\">shakeup</span> <span style=\"background-color:rgba(135,206,250,0.0011269654030335258);\">.</span>"
      ],
      "text/plain": [
       "<IPython.core.display.HTML object>"
      ]
     },
     "metadata": {},
     "output_type": "display_data"
    },
    {
     "name": "stdout",
     "output_type": "stream",
     "text": [
      "None\n"
     ]
    },
    {
     "data": {
      "text/html": [
       "<span style=\"background-color:rgba(135,206,250,0.03694543373729615);\">Canadian</span> <span style=\"background-color:rgba(135,206,250,1.130657586349544);\">Press</span> <span style=\"background-color:rgba(135,206,250,0.3881323164244541);\">OTTAWA</span> <span style=\"background-color:rgba(135,206,250,0.4230330697506548);\">CP</span> <span style=\"background-color:rgba(135,206,250,0.10416760489318908);\">Paul</span> <span style=\"background-color:rgba(135,206,250,0.11045317808686712);\">Martin</span> <span style=\"background-color:rgba(135,206,250,0.024264397568502866);\">announced</span> <span style=\"background-color:rgba(135,206,250,0.031542700287370745);\">a</span> <span style=\"background-color:rgba(135,206,250,0.10692976052920694);\">major</span> <span style=\"background-color:rgba(135,206,250,0.03667229672947101);\">overhaul</span> <span style=\"background-color:rgba(135,206,250,0.016629057772745665);\">of</span> <span style=\"background-color:rgba(135,206,250,0.05681422748277792);\">his</span> <span style=\"background-color:rgba(135,206,250,0.047471795000775245);\">senior</span> <span style=\"background-color:rgba(135,206,250,0.04760166398092623);\">staff</span> <span style=\"background-color:rgba(135,206,250,0.029002609047119987);\">Wednesday</span> <span style=\"background-color:rgba(135,206,250,0.010359972653645584);\">with</span> <span style=\"background-color:rgba(135,206,250,0.011565948711270813);\">several</span> <span style=\"background-color:rgba(135,206,250,0.059293294208215094);\">close</span> <span style=\"background-color:rgba(135,206,250,0.031200947088071918);\">confidants</span> <span style=\"background-color:rgba(135,206,250,0.015736324765395118);\">and</span> <span style=\"background-color:rgba(135,206,250,1.319642829091799e-05);\">one</span> <span style=\"background-color:rgba(135,206,250,0.09490436040508225);\">ex</span> <span style=\"background-color:rgba(135,206,250,0.0045358451277454385);\">cabinet</span> <span style=\"background-color:rgba(135,206,250,0.04021518667598245);\">minister</span> <span style=\"background-color:rgba(135,206,250,0.04258071542667433);\">handed</span> <span style=\"background-color:rgba(135,206,250,0.07858011525657119);\">major</span> <span style=\"background-color:rgba(135,206,250,0.042499751504003924);\">roles</span> <span style=\"background-color:rgba(135,206,250,0.006359159053762632);\">in</span> <span style=\"background-color:rgba(135,206,250,0.0055568769470880994);\">the</span> <span style=\"background-color:rgba(135,206,250,0.011823555766468877);\">Prime</span> <span style=\"background-color:rgba(135,206,250,0.03284132935546733);\">Minister</span> <span style=\"background-color:rgba(135,206,250,0.04679200800017714);\">s</span> <span style=\"background-color:rgba(135,206,250,0.10062907518690009);\">Office</span> <span style=\"background-color:rgba(135,206,250,0.0044189155060067415);\">in</span> <span style=\"background-color:rgba(135,206,250,0.004138864313217918);\">a</span> <span style=\"background-color:rgba(135,206,250,0.026910975424791445);\">post</span> <span style=\"background-color:rgba(135,206,250,0.059578640726365324);\">election</span> <span style=\"background-color:rgba(135,206,250,0.01248036878280174);\">shakeup</span>"
      ],
      "text/plain": [
       "<IPython.core.display.HTML object>"
      ]
     },
     "metadata": {},
     "output_type": "display_data"
    },
    {
     "name": "stdout",
     "output_type": "stream",
     "text": [
      "None\n"
     ]
    },
    {
     "data": {
      "text/html": [
       "<span style=\"background-color:rgba(135,206,250,0.46941539342223837);\">AFP</span> <span style=\"background-color:rgba(135,206,250,0.10378726751509913);\">-</span> <span style=\"background-color:rgba(135,206,250,0.34399892172281726);\">Democratic</span> <span style=\"background-color:rgba(135,206,250,0.010517194537099017);\">White</span> <span style=\"background-color:rgba(135,206,250,0.02207831851176086);\">House</span> <span style=\"background-color:rgba(135,206,250,0.1996340370026169);\">hopeful</span> <span style=\"background-color:rgba(135,206,250,0.0353341110698611);\">Senator</span> <span style=\"background-color:rgba(135,206,250,0.04025489733349797);\">John</span> <span style=\"background-color:rgba(135,206,250,0.0744230763502565);\">Kerry</span> <span style=\"background-color:rgba(135,206,250,0.10731823941598646);\">warned</span> <span style=\"background-color:rgba(135,206,250,0.06843114223997869);\">that</span> <span style=\"background-color:rgba(135,206,250,0.024425530788171338);\">President</span> <span style=\"background-color:rgba(135,206,250,0.07732516887683703);\">George</span> <span style=\"background-color:rgba(135,206,250,0.008670063937071072);\">W.</span> <span style=\"background-color:rgba(135,206,250,0.020441031564249288);\">Bush</span> <span style=\"background-color:rgba(135,206,250,0.010889613497406393);\">&#x27;s</span> <span style=\"background-color:rgba(135,206,250,0.023062099200146874);\">plan</span> <span style=\"background-color:rgba(135,206,250,0.08363307854905376);\">to</span> <span style=\"background-color:rgba(135,206,250,0.07272961996551246);\">withdraw</span> <span style=\"background-color:rgba(135,206,250,0.29213188017746355);\">70,000</span> <span style=\"background-color:rgba(135,206,250,0.1673873346569443);\">troops</span> <span style=\"background-color:rgba(135,206,250,0.010789549985810718);\">from</span> <span style=\"background-color:rgba(135,206,250,0.01917524226372678);\">Europe</span> <span style=\"background-color:rgba(135,206,250,0.13298118390068803);\">and</span> <span style=\"background-color:rgba(135,206,250,0.09532188956838585);\">Asia</span> <span style=\"background-color:rgba(135,206,250,0.18764207899531213);\">would</span> <span style=\"background-color:rgba(135,206,250,0.06508737358946615);\">hinder</span> <span style=\"background-color:rgba(135,206,250,0.005230918731694742);\">the</span> <span style=\"background-color:rgba(135,206,250,0.08452310740962185);\">war</span> <span style=\"background-color:rgba(135,206,250,0.043920594647390905);\">on</span> <span style=\"background-color:rgba(135,206,250,0.12243477600971371);\">terrorism</span> <span style=\"background-color:rgba(135,206,250,0.08056330911406884);\">and</span> <span style=\"background-color:rgba(135,206,250,0.07334195589515961);\">embolden</span> <span style=\"background-color:rgba(135,206,250,0.007946648931078538);\">North</span> <span style=\"background-color:rgba(135,206,250,0.07187051169153583);\">Korea</span> <span style=\"background-color:rgba(135,206,250,0.07661613630160134);\">.</span>"
      ],
      "text/plain": [
       "<IPython.core.display.HTML object>"
      ]
     },
     "metadata": {},
     "output_type": "display_data"
    },
    {
     "name": "stdout",
     "output_type": "stream",
     "text": [
      "None\n"
     ]
    },
    {
     "data": {
      "text/html": [
       "<span style=\"background-color:rgba(135,206,250,0.3596440426487102);\">AFP</span> <span style=\"background-color:rgba(135,206,250,0.26752171425396215);\">Democratic</span> <span style=\"background-color:rgba(135,206,250,0.007422393742293688);\">White</span> <span style=\"background-color:rgba(135,206,250,0.022242367219003342);\">House</span> <span style=\"background-color:rgba(135,206,250,0.18333540204128548);\">hopeful</span> <span style=\"background-color:rgba(135,206,250,0.019819810184023845);\">Senator</span> <span style=\"background-color:rgba(135,206,250,0.03094631713717);\">John</span> <span style=\"background-color:rgba(135,206,250,0.06872933629570976);\">Kerry</span> <span style=\"background-color:rgba(135,206,250,0.09189631912907363);\">warned</span> <span style=\"background-color:rgba(135,206,250,0.05542601225102541);\">that</span> <span style=\"background-color:rgba(135,206,250,0.020388300500233287);\">President</span> <span style=\"background-color:rgba(135,206,250,0.09481181569845792);\">George</span> <span style=\"background-color:rgba(135,206,250,0.03144364865835524);\">W</span> <span style=\"background-color:rgba(135,206,250,0.04588002180942455);\">Bush</span> <span style=\"background-color:rgba(135,206,250,0.004408532713410517);\">s</span> <span style=\"background-color:rgba(135,206,250,0.10930716174003617);\">plan</span> <span style=\"background-color:rgba(135,206,250,0.05426949138636092);\">to</span> <span style=\"background-color:rgba(135,206,250,0.10229820304914529);\">withdraw</span> <span style=\"background-color:rgba(135,206,250,0.017968691457568547);\">70000</span> <span style=\"background-color:rgba(135,206,250,0.22423852930659582);\">troops</span> <span style=\"background-color:rgba(135,206,250,0.026688696194058233);\">from</span> <span style=\"background-color:rgba(135,206,250,0.05071922163285473);\">Europe</span> <span style=\"background-color:rgba(135,206,250,0.14817478640381687);\">and</span> <span style=\"background-color:rgba(135,206,250,0.12232707154303374);\">Asia</span> <span style=\"background-color:rgba(135,206,250,0.21562275305591078);\">would</span> <span style=\"background-color:rgba(135,206,250,0.055129647713895724);\">hinder</span> <span style=\"background-color:rgba(135,206,250,0.013110761447568623);\">the</span> <span style=\"background-color:rgba(135,206,250,0.1083599744181471);\">war</span> <span style=\"background-color:rgba(135,206,250,0.049997135699360866);\">on</span> <span style=\"background-color:rgba(135,206,250,0.13814853409918607);\">terrorism</span> <span style=\"background-color:rgba(135,206,250,0.06560906122300278);\">and</span> <span style=\"background-color:rgba(135,206,250,0.12854173153293297);\">embolden</span> <span style=\"background-color:rgba(135,206,250,0.044526256779317916);\">North</span> <span style=\"background-color:rgba(135,206,250,0.354379773639605);\">Korea</span>"
      ],
      "text/plain": [
       "<IPython.core.display.HTML object>"
      ]
     },
     "metadata": {},
     "output_type": "display_data"
    },
    {
     "name": "stdout",
     "output_type": "stream",
     "text": [
      "None\n"
     ]
    },
    {
     "data": {
      "text/html": [
       "<span style=\"background-color:rgba(135,206,250,0.46941539342223837);\">AFP</span> <span style=\"background-color:rgba(135,206,250,0.10378726751509913);\">-</span> <span style=\"background-color:rgba(135,206,250,0.34399892172281726);\">Democratic</span> <span style=\"background-color:rgba(135,206,250,0.010517194537099017);\">White</span> <span style=\"background-color:rgba(135,206,250,0.02207831851176086);\">House</span> <span style=\"background-color:rgba(135,206,250,0.1996340370026169);\">hopeful</span> <span style=\"background-color:rgba(135,206,250,0.0353341110698611);\">Senator</span> <span style=\"background-color:rgba(135,206,250,0.04025489733349797);\">John</span> <span style=\"background-color:rgba(135,206,250,0.0744230763502565);\">Kerry</span> <span style=\"background-color:rgba(135,206,250,0.10731823941598646);\">warned</span> <span style=\"background-color:rgba(135,206,250,0.06843114223997869);\">that</span> <span style=\"background-color:rgba(135,206,250,0.024425530788171338);\">President</span> <span style=\"background-color:rgba(135,206,250,0.07732516887683703);\">George</span> <span style=\"background-color:rgba(135,206,250,0.008670063937071072);\">W.</span> <span style=\"background-color:rgba(135,206,250,0.020441031564249288);\">Bush</span> <span style=\"background-color:rgba(135,206,250,0.010889613497406393);\">&#x27;s</span> <span style=\"background-color:rgba(135,206,250,0.023062099200146874);\">plan</span> <span style=\"background-color:rgba(135,206,250,0.08363307854905376);\">to</span> <span style=\"background-color:rgba(135,206,250,0.07272961996551246);\">withdraw</span> <span style=\"background-color:rgba(135,206,250,0.29213188017746355);\">70,000</span> <span style=\"background-color:rgba(135,206,250,0.1673873346569443);\">troops</span> <span style=\"background-color:rgba(135,206,250,0.010789549985810718);\">from</span> <span style=\"background-color:rgba(135,206,250,0.01917524226372678);\">Europe</span> <span style=\"background-color:rgba(135,206,250,0.13298118390068803);\">and</span> <span style=\"background-color:rgba(135,206,250,0.09532188956838585);\">Asia</span> <span style=\"background-color:rgba(135,206,250,0.18764207899531213);\">would</span> <span style=\"background-color:rgba(135,206,250,0.06508737358946615);\">hinder</span> <span style=\"background-color:rgba(135,206,250,0.005230918731694742);\">the</span> <span style=\"background-color:rgba(135,206,250,0.08452310740962185);\">war</span> <span style=\"background-color:rgba(135,206,250,0.043920594647390905);\">on</span> <span style=\"background-color:rgba(135,206,250,0.12243477600971371);\">terrorism</span> <span style=\"background-color:rgba(135,206,250,0.08056330911406884);\">and</span> <span style=\"background-color:rgba(135,206,250,0.07334195589515961);\">embolden</span> <span style=\"background-color:rgba(135,206,250,0.007946648931078538);\">North</span> <span style=\"background-color:rgba(135,206,250,0.07187051169153583);\">Korea</span> <span style=\"background-color:rgba(135,206,250,0.07661613630160134);\">.</span>"
      ],
      "text/plain": [
       "<IPython.core.display.HTML object>"
      ]
     },
     "metadata": {},
     "output_type": "display_data"
    },
    {
     "name": "stdout",
     "output_type": "stream",
     "text": [
      "None\n"
     ]
    },
    {
     "data": {
      "text/html": [
       "<span style=\"background-color:rgba(135,206,250,0.5918543464454307);\">AFP</span> <span style=\"background-color:rgba(135,206,250,0.10871428118323784);\">-</span> <span style=\"background-color:rgba(135,206,250,0.3009977556209537);\">Democratic</span> <span style=\"background-color:rgba(135,206,250,0.023968278039445793);\">White</span> <span style=\"background-color:rgba(135,206,250,0.022182363160466307);\">House</span> <span style=\"background-color:rgba(135,206,250,0.1219960002174903);\">hopeful</span> <span style=\"background-color:rgba(135,206,250,0.03393122869935516);\">Senator</span> <span style=\"background-color:rgba(135,206,250,0.04161963344577884);\">John</span> <span style=\"background-color:rgba(135,206,250,0.08170198618483504);\">Kerry</span> <span style=\"background-color:rgba(135,206,250,0.10453472934918294);\">warned</span> <span style=\"background-color:rgba(135,206,250,0.05504723806201041);\">that</span> <span style=\"background-color:rgba(135,206,250,0.00408687066576952);\">President</span> <span style=\"background-color:rgba(135,206,250,0.01737417327255688);\">Kyle</span> <span style=\"background-color:rgba(135,206,250,0.18656736875253457);\">W.</span> <span style=\"background-color:rgba(135,206,250,0.026767608973589277);\">Bush</span> <span style=\"background-color:rgba(135,206,250,0.008963783216356781);\">&#x27;s</span> <span style=\"background-color:rgba(135,206,250,0.061390072625145654);\">plan</span> <span style=\"background-color:rgba(135,206,250,0.07704411617002607);\">to</span> <span style=\"background-color:rgba(135,206,250,0.0853215193811797);\">withdraw</span> <span style=\"background-color:rgba(135,206,250,0.2944468610033099);\">70,000</span> <span style=\"background-color:rgba(135,206,250,0.16421106527201013);\">troops</span> <span style=\"background-color:rgba(135,206,250,0.013048329950150924);\">from</span> <span style=\"background-color:rgba(135,206,250,0.017561305549702953);\">Europe</span> <span style=\"background-color:rgba(135,206,250,0.11915306030749202);\">and</span> <span style=\"background-color:rgba(135,206,250,0.08173396783107045);\">Asia</span> <span style=\"background-color:rgba(135,206,250,0.16249236329639774);\">would</span> <span style=\"background-color:rgba(135,206,250,0.0033426248133774663);\">hinder</span> <span style=\"background-color:rgba(135,206,250,0.0018713035971045094);\">the</span> <span style=\"background-color:rgba(135,206,250,0.08599626792690211);\">war</span> <span style=\"background-color:rgba(135,206,250,0.036679573545325965);\">on</span> <span style=\"background-color:rgba(135,206,250,0.12005917548521858);\">terrorism</span> <span style=\"background-color:rgba(135,206,250,0.07298586426339888);\">and</span> <span style=\"background-color:rgba(135,206,250,0.07627108164419645);\">embolden</span> <span style=\"background-color:rgba(135,206,250,0.0049986567330993804);\">North</span> <span style=\"background-color:rgba(135,206,250,0.06075144974652564);\">Korea</span> <span style=\"background-color:rgba(135,206,250,0.06366690530185465);\">.</span>"
      ],
      "text/plain": [
       "<IPython.core.display.HTML object>"
      ]
     },
     "metadata": {},
     "output_type": "display_data"
    },
    {
     "name": "stdout",
     "output_type": "stream",
     "text": [
      "None\n"
     ]
    },
    {
     "data": {
      "text/html": [
       "<span style=\"background-color:rgba(135,206,250,0.46941539342223837);\">AFP</span> <span style=\"background-color:rgba(135,206,250,0.10378726751509913);\">-</span> <span style=\"background-color:rgba(135,206,250,0.34399892172281726);\">Democratic</span> <span style=\"background-color:rgba(135,206,250,0.010517194537099017);\">White</span> <span style=\"background-color:rgba(135,206,250,0.02207831851176086);\">House</span> <span style=\"background-color:rgba(135,206,250,0.1996340370026169);\">hopeful</span> <span style=\"background-color:rgba(135,206,250,0.0353341110698611);\">Senator</span> <span style=\"background-color:rgba(135,206,250,0.04025489733349797);\">John</span> <span style=\"background-color:rgba(135,206,250,0.0744230763502565);\">Kerry</span> <span style=\"background-color:rgba(135,206,250,0.10731823941598646);\">warned</span> <span style=\"background-color:rgba(135,206,250,0.06843114223997869);\">that</span> <span style=\"background-color:rgba(135,206,250,0.024425530788171338);\">President</span> <span style=\"background-color:rgba(135,206,250,0.07732516887683703);\">George</span> <span style=\"background-color:rgba(135,206,250,0.008670063937071072);\">W.</span> <span style=\"background-color:rgba(135,206,250,0.020441031564249288);\">Bush</span> <span style=\"background-color:rgba(135,206,250,0.010889613497406393);\">&#x27;s</span> <span style=\"background-color:rgba(135,206,250,0.023062099200146874);\">plan</span> <span style=\"background-color:rgba(135,206,250,0.08363307854905376);\">to</span> <span style=\"background-color:rgba(135,206,250,0.07272961996551246);\">withdraw</span> <span style=\"background-color:rgba(135,206,250,0.29213188017746355);\">70,000</span> <span style=\"background-color:rgba(135,206,250,0.1673873346569443);\">troops</span> <span style=\"background-color:rgba(135,206,250,0.010789549985810718);\">from</span> <span style=\"background-color:rgba(135,206,250,0.01917524226372678);\">Europe</span> <span style=\"background-color:rgba(135,206,250,0.13298118390068803);\">and</span> <span style=\"background-color:rgba(135,206,250,0.09532188956838585);\">Asia</span> <span style=\"background-color:rgba(135,206,250,0.18764207899531213);\">would</span> <span style=\"background-color:rgba(135,206,250,0.06508737358946615);\">hinder</span> <span style=\"background-color:rgba(135,206,250,0.005230918731694742);\">the</span> <span style=\"background-color:rgba(135,206,250,0.08452310740962185);\">war</span> <span style=\"background-color:rgba(135,206,250,0.043920594647390905);\">on</span> <span style=\"background-color:rgba(135,206,250,0.12243477600971371);\">terrorism</span> <span style=\"background-color:rgba(135,206,250,0.08056330911406884);\">and</span> <span style=\"background-color:rgba(135,206,250,0.07334195589515961);\">embolden</span> <span style=\"background-color:rgba(135,206,250,0.007946648931078538);\">North</span> <span style=\"background-color:rgba(135,206,250,0.07187051169153583);\">Korea</span> <span style=\"background-color:rgba(135,206,250,0.07661613630160134);\">.</span>"
      ],
      "text/plain": [
       "<IPython.core.display.HTML object>"
      ]
     },
     "metadata": {},
     "output_type": "display_data"
    },
    {
     "name": "stdout",
     "output_type": "stream",
     "text": [
      "None\n"
     ]
    },
    {
     "data": {
      "text/html": [
       "<span style=\"background-color:rgba(135,206,250,0.39012068053399646);\">AFP</span> <span style=\"background-color:rgba(135,206,250,0.0903829741181717);\">-</span> <span style=\"background-color:rgba(135,206,250,0.2926853471352999);\">Democratic</span> <span style=\"background-color:rgba(135,206,250,0.0157675607466001);\">White</span> <span style=\"background-color:rgba(135,206,250,0.014800705639975036);\">House</span> <span style=\"background-color:rgba(135,206,250,0.1756749065612777);\">hopeful</span> <span style=\"background-color:rgba(135,206,250,0.03969929332630083);\">Senator</span> <span style=\"background-color:rgba(135,206,250,0.03140341174389341);\">John</span> <span style=\"background-color:rgba(135,206,250,0.07142564136022511);\">Kerry</span> <span style=\"background-color:rgba(135,206,250,0.09165451692918092);\">warned</span> <span style=\"background-color:rgba(135,206,250,0.0560441492446379);\">that</span> <span style=\"background-color:rgba(135,206,250,0.014253341254840911);\">President</span> <span style=\"background-color:rgba(135,206,250,0.0609480396375954);\">George</span> <span style=\"background-color:rgba(135,206,250,0.01905230771607876);\">W.</span> <span style=\"background-color:rgba(135,206,250,0.023498677335057585);\">Bush</span> <span style=\"background-color:rgba(135,206,250,0.013603831382218785);\">&#x27;s</span> <span style=\"background-color:rgba(135,206,250,0.03821566001715664);\">plan</span> <span style=\"background-color:rgba(135,206,250,0.07709058008741967);\">to</span> <span style=\"background-color:rgba(135,206,250,0.10899766211358894);\">withdraw</span> <span style=\"background-color:rgba(135,206,250,0.28005184663287025);\">70,000</span> <span style=\"background-color:rgba(135,206,250,0.15250588099576898);\">troops</span> <span style=\"background-color:rgba(135,206,250,0.005872268285814625);\">from</span> <span style=\"background-color:rgba(135,206,250,0.029545786484756666);\">Europe</span> <span style=\"background-color:rgba(135,206,250,0.10293581431897181);\">and</span> <span style=\"background-color:rgba(135,206,250,0.087728999218266);\">Asia</span> <span style=\"background-color:rgba(135,206,250,0.13970046173276499);\">would</span> <span style=\"background-color:rgba(135,206,250,0.13894006568839787);\">hinder</span> <span style=\"background-color:rgba(135,206,250,0.0012204936545328427);\">the</span> <span style=\"background-color:rgba(135,206,250,0.08298798249968652);\">war</span> <span style=\"background-color:rgba(135,206,250,0.04543149245751135);\">on</span> <span style=\"background-color:rgba(135,206,250,0.11745410950669173);\">terrorism</span> <span style=\"background-color:rgba(135,206,250,0.0786200631621351);\">and</span> <span style=\"background-color:rgba(135,206,250,0.07677164761473325);\">embolde</span> <span style=\"background-color:rgba(135,206,250,0.1840968509264037);\">nNorth</span> <span style=\"background-color:rgba(135,206,250,0.10402582175303869);\">Korea</span> <span style=\"background-color:rgba(135,206,250,0.0801244299707162);\">.</span>"
      ],
      "text/plain": [
       "<IPython.core.display.HTML object>"
      ]
     },
     "metadata": {},
     "output_type": "display_data"
    },
    {
     "name": "stdout",
     "output_type": "stream",
     "text": [
      "None\n"
     ]
    },
    {
     "data": {
      "text/html": [
       "<span style=\"background-color:rgba(135,206,250,0.04152640056645568);\">Shia</span> <span style=\"background-color:rgba(135,206,250,0.14268372042502028);\">cleric</span> <span style=\"background-color:rgba(135,206,250,0.0003622587359733767);\">Moqtada</span> <span style=\"background-color:rgba(135,206,250,0.5131866155371531);\">Sadr</span> <span style=\"background-color:rgba(135,206,250,0.29137401588651585);\">reportedly</span> <span style=\"background-color:rgba(135,206,250,1.4788113742919438);\">agrees</span> <span style=\"background-color:rgba(135,206,250,0.003419007933533901);\">to</span> <span style=\"background-color:rgba(135,206,250,0.019401112339056517);\">end</span> <span style=\"background-color:rgba(135,206,250,0.1503864725726314);\">an</span> <span style=\"background-color:rgba(135,206,250,0.333222221395323);\">uprising</span> <span style=\"background-color:rgba(135,206,250,0.022957127019826013);\">in</span> <span style=\"background-color:rgba(135,206,250,0.0007057859343279998);\">the</span> <span style=\"background-color:rgba(135,206,250,0.2155237922346484);\">holy</span> <span style=\"background-color:rgba(135,206,250,0.05976061261065052);\">Iraqi</span> <span style=\"background-color:rgba(135,206,250,0.01611345727874789);\">city</span> <span style=\"background-color:rgba(135,206,250,0.00248586217931654);\">of</span> <span style=\"background-color:rgba(135,206,250,0.03844955678093546);\">Najaf</span> <span style=\"background-color:rgba(135,206,250,0.0029639924105807573);\">.</span>"
      ],
      "text/plain": [
       "<IPython.core.display.HTML object>"
      ]
     },
     "metadata": {},
     "output_type": "display_data"
    },
    {
     "name": "stdout",
     "output_type": "stream",
     "text": [
      "None\n"
     ]
    },
    {
     "data": {
      "text/html": [
       "<span style=\"background-color:rgba(135,206,250,0.03724256684936614);\">Shia</span> <span style=\"background-color:rgba(135,206,250,0.4682132379123882);\">cleri</span> <span style=\"background-color:rgba(135,206,250,0.10444999145672922);\">cMoqtada</span> <span style=\"background-color:rgba(135,206,250,0.4020182267784916);\">Sadr</span> <span style=\"background-color:rgba(135,206,250,0.15381640718408798);\">reportedly</span> <span style=\"background-color:rgba(135,206,250,1.2751427608725217);\">agrees</span> <span style=\"background-color:rgba(135,206,250,0.03107570890274738);\">to</span> <span style=\"background-color:rgba(135,206,250,0.0033493229923074416);\">end</span> <span style=\"background-color:rgba(135,206,250,0.22129870368757767);\">an</span> <span style=\"background-color:rgba(135,206,250,0.32276519572489837);\">uprising</span> <span style=\"background-color:rgba(135,206,250,0.018208214687131814);\">in</span> <span style=\"background-color:rgba(135,206,250,0.003590752129996365);\">the</span> <span style=\"background-color:rgba(135,206,250,0.10959663428091869);\">holy</span> <span style=\"background-color:rgba(135,206,250,0.05787765589661653);\">Iraqi</span> <span style=\"background-color:rgba(135,206,250,0.04408398168093079);\">city</span> <span style=\"background-color:rgba(135,206,250,0.006087489126867093);\">of</span> <span style=\"background-color:rgba(135,206,250,0.03361750474186085);\">Najaf</span> <span style=\"background-color:rgba(135,206,250,0.040899167820566434);\">.</span>"
      ],
      "text/plain": [
       "<IPython.core.display.HTML object>"
      ]
     },
     "metadata": {},
     "output_type": "display_data"
    },
    {
     "name": "stdout",
     "output_type": "stream",
     "text": [
      "None\n"
     ]
    },
    {
     "data": {
      "text/html": [
       "<span style=\"background-color:rgba(135,206,250,0.21293465185390337);\">Federal</span> <span style=\"background-color:rgba(135,206,250,0.12841110964897853);\">officials</span> <span style=\"background-color:rgba(135,206,250,0.00631463262292816);\">today</span> <span style=\"background-color:rgba(135,206,250,0.03434786155457508);\">announced</span> <span style=\"background-color:rgba(135,206,250,0.1327226661112263);\">plans</span> <span style=\"background-color:rgba(135,206,250,0.021589257743713487);\">to</span> <span style=\"background-color:rgba(135,206,250,0.2134963721685101);\">temporarily</span> <span style=\"background-color:rgba(135,206,250,0.06981218248026823);\">cut</span> <span style=\"background-color:rgba(135,206,250,0.006569003249122147);\">37</span> <span style=\"background-color:rgba(135,206,250,0.20589891444305627);\">flights</span> <span style=\"background-color:rgba(135,206,250,0.05010447341167134);\">operating</span> <span style=\"background-color:rgba(135,206,250,0.03492334116381844);\">at</span> <span style=\"background-color:rgba(135,206,250,0.3778540594453808);\">Chicago</span> <span style=\"background-color:rgba(135,206,250,0.10758440691694127);\">&#x27;s</span> <span style=\"background-color:rgba(135,206,250,0.061499257372654846);\">O&#x27;Hare</span> <span style=\"background-color:rgba(135,206,250,0.41432376920101);\">International</span> <span style=\"background-color:rgba(135,206,250,0.3117166486492828);\">Airport</span> <span style=\"background-color:rgba(135,206,250,0.01681492595531026);\">to</span> <span style=\"background-color:rgba(135,206,250,0.15063989765411878);\">help</span> <span style=\"background-color:rgba(135,206,250,0.13262252968660462);\">reduce</span> <span style=\"background-color:rgba(135,206,250,0.003962754308663544);\">the</span> <span style=\"background-color:rgba(135,206,250,0.1428808827778547);\">delay</span> <span style=\"background-color:rgba(135,206,250,0.00702701482296422);\">problems</span> <span style=\"background-color:rgba(135,206,250,0.002173714027553464);\">that</span> <span style=\"background-color:rgba(135,206,250,0.24817975649371762);\">ripple</span> <span style=\"background-color:rgba(135,206,250,0.12605184288637214);\">across</span> <span style=\"background-color:rgba(135,206,250,0.0013423378871378576);\">the</span> <span style=\"background-color:rgba(135,206,250,0.08703805429595383);\">country</span> <span style=\"background-color:rgba(135,206,250,0.024497055343588835);\">.</span>"
      ],
      "text/plain": [
       "<IPython.core.display.HTML object>"
      ]
     },
     "metadata": {},
     "output_type": "display_data"
    },
    {
     "name": "stdout",
     "output_type": "stream",
     "text": [
      "None\n"
     ]
    },
    {
     "data": {
      "text/html": [
       "<span style=\"background-color:rgba(135,206,250,0.17570007274744132);\">Federal</span> <span style=\"background-color:rgba(135,206,250,0.1042086523720987);\">official</span> <span style=\"background-color:rgba(135,206,250,0.448012460022245);\">stoday</span> <span style=\"background-color:rgba(135,206,250,0.07024352146101306);\">announced</span> <span style=\"background-color:rgba(135,206,250,0.1394464730826052);\">plans</span> <span style=\"background-color:rgba(135,206,250,0.036496430986448315);\">to</span> <span style=\"background-color:rgba(135,206,250,0.1585272010891272);\">temporarily</span> <span style=\"background-color:rgba(135,206,250,0.07836285493831356);\">cut</span> <span style=\"background-color:rgba(135,206,250,0.06634369069203026);\">37</span> <span style=\"background-color:rgba(135,206,250,0.20963767171678135);\">flights</span> <span style=\"background-color:rgba(135,206,250,0.06894696120511917);\">operating</span> <span style=\"background-color:rgba(135,206,250,0.0377230108522054);\">at</span> <span style=\"background-color:rgba(135,206,250,0.22276820294658856);\">Chicago</span> <span style=\"background-color:rgba(135,206,250,0.0637319340293732);\">&#x27;s</span> <span style=\"background-color:rgba(135,206,250,0.07416307064308661);\">O&#x27;Hare</span> <span style=\"background-color:rgba(135,206,250,0.23441132152931976);\">International</span> <span style=\"background-color:rgba(135,206,250,0.2590004001174006);\">Airport</span> <span style=\"background-color:rgba(135,206,250,0.009384752143502258);\">to</span> <span style=\"background-color:rgba(135,206,250,0.15457456704979802);\">help</span> <span style=\"background-color:rgba(135,206,250,0.13815152104814318);\">reduce</span> <span style=\"background-color:rgba(135,206,250,0.003388914497707983);\">the</span> <span style=\"background-color:rgba(135,206,250,0.14848290747467985);\">delay</span> <span style=\"background-color:rgba(135,206,250,0.07501868996054238);\">problems</span> <span style=\"background-color:rgba(135,206,250,0.003608842571491289);\">that</span> <span style=\"background-color:rgba(135,206,250,0.1781877182083389);\">ripple</span> <span style=\"background-color:rgba(135,206,250,0.10859367545539653);\">across</span> <span style=\"background-color:rgba(135,206,250,0.003916169957362834);\">the</span> <span style=\"background-color:rgba(135,206,250,0.04162617691060428);\">country</span> <span style=\"background-color:rgba(135,206,250,0.0206755172493259);\">.</span>"
      ],
      "text/plain": [
       "<IPython.core.display.HTML object>"
      ]
     },
     "metadata": {},
     "output_type": "display_data"
    },
    {
     "name": "stdout",
     "output_type": "stream",
     "text": [
      "None\n"
     ]
    },
    {
     "data": {
      "text/html": [
       "<span style=\"background-color:rgba(135,206,250,0.22650557566971039);\">ATHENS</span> <span style=\"background-color:rgba(135,206,250,0.044991535604839546);\">(</span> <span style=\"background-color:rgba(135,206,250,0.18058665942674706);\">Reuters</span> <span style=\"background-color:rgba(135,206,250,0.01918224001285247);\">)</span> <span style=\"background-color:rgba(135,206,250,0.020181495721291694);\">-</span> <span style=\"background-color:rgba(135,206,250,0.3905801533413241);\">Greece&#x27;;s</span> <span style=\"background-color:rgba(135,206,250,0.029741207712340463);\">top</span> <span style=\"background-color:rgba(135,206,250,0.04242157808644208);\">two</span> <span style=\"background-color:rgba(135,206,250,0.15036739605328436);\">sprinters</span> <span style=\"background-color:rgba(135,206,250,0.12989945550802914);\">have</span> <span style=\"background-color:rgba(135,206,250,0.1545160855619098);\">quit</span> <span style=\"background-color:rgba(135,206,250,0.006023191946952795);\">the</span> <span style=\"background-color:rgba(135,206,250,0.24086815153728666);\">Olympic</span> <span style=\"background-color:rgba(135,206,250,0.05561391899925196);\">Games</span> <span style=\"background-color:rgba(135,206,250,0.10888577220851996);\">after</span> <span style=\"background-color:rgba(135,206,250,0.08390134490668158);\">submitting</span> <span style=\"background-color:rgba(135,206,250,0.09258632943348899);\">their</span> <span style=\"background-color:rgba(135,206,250,0.0798918451893981);\">country</span> <span style=\"background-color:rgba(135,206,250,0.02627948912388709);\">to</span> <span style=\"background-color:rgba(135,206,250,0.04671822989288899);\">six</span> <span style=\"background-color:rgba(135,206,250,0.12958654687558563);\">days</span> <span style=\"background-color:rgba(135,206,250,0.04938900353178209);\">of</span> <span style=\"background-color:rgba(135,206,250,0.12937495247177858);\">embarrassment</span> <span style=\"background-color:rgba(135,206,250,0.013822517832929137);\">in</span> <span style=\"background-color:rgba(135,206,250,0.010687311548764334);\">a</span> <span style=\"background-color:rgba(135,206,250,0.004146145771906444);\">hide</span> <span style=\"background-color:rgba(135,206,250,0.01076626168907956);\">-</span> <span style=\"background-color:rgba(135,206,250,0.024211460187359538);\">and</span> <span style=\"background-color:rgba(135,206,250,0.011526473849953225);\">-</span> <span style=\"background-color:rgba(135,206,250,0.0506349992839623);\">seek</span> <span style=\"background-color:rgba(135,206,250,0.07774081596141054);\">contest</span> <span style=\"background-color:rgba(135,206,250,0.015133178177386759);\">with</span> <span style=\"background-color:rgba(135,206,250,0.25364535074875694);\">anti</span> <span style=\"background-color:rgba(135,206,250,0.00706137263039415);\">-</span> <span style=\"background-color:rgba(135,206,250,0.23194511000719256);\">doping</span> <span style=\"background-color:rgba(135,206,250,0.17257777690703963);\">enforcers</span> <span style=\"background-color:rgba(135,206,250,0.011342393875923092);\">.</span>"
      ],
      "text/plain": [
       "<IPython.core.display.HTML object>"
      ]
     },
     "metadata": {},
     "output_type": "display_data"
    },
    {
     "name": "stdout",
     "output_type": "stream",
     "text": [
      "None\n"
     ]
    },
    {
     "data": {
      "text/html": [
       "<span style=\"background-color:rgba(135,206,250,0.03890294520274785);\">ATHENS</span> <span style=\"background-color:rgba(135,206,250,0.4802425192398329);\">Reuters</span> <span style=\"background-color:rgba(135,206,250,0.029781197213615634);\">Greeces</span> <span style=\"background-color:rgba(135,206,250,0.12759839871968892);\">top</span> <span style=\"background-color:rgba(135,206,250,0.0022665476105928166);\">two</span> <span style=\"background-color:rgba(135,206,250,0.2208740902176405);\">sprinters</span> <span style=\"background-color:rgba(135,206,250,0.16832064925263615);\">have</span> <span style=\"background-color:rgba(135,206,250,0.265728549843215);\">quit</span> <span style=\"background-color:rgba(135,206,250,0.010031191531619965);\">the</span> <span style=\"background-color:rgba(135,206,250,0.26613196846578974);\">Olympic</span> <span style=\"background-color:rgba(135,206,250,0.013964839663475566);\">Games</span> <span style=\"background-color:rgba(135,206,250,0.1360074530101721);\">after</span> <span style=\"background-color:rgba(135,206,250,0.10982939235516616);\">submitting</span> <span style=\"background-color:rgba(135,206,250,0.1336326796515033);\">their</span> <span style=\"background-color:rgba(135,206,250,0.08188780263211404);\">country</span> <span style=\"background-color:rgba(135,206,250,0.03759921728314877);\">to</span> <span style=\"background-color:rgba(135,206,250,0.06726489823561112);\">six</span> <span style=\"background-color:rgba(135,206,250,0.19877600788473135);\">days</span> <span style=\"background-color:rgba(135,206,250,0.0400371034623939);\">of</span> <span style=\"background-color:rgba(135,206,250,0.11318324324899104);\">embarrassment</span> <span style=\"background-color:rgba(135,206,250,0.002974678023622269);\">in</span> <span style=\"background-color:rgba(135,206,250,0.030190901025885394);\">a</span> <span style=\"background-color:rgba(135,206,250,0.05297149817041581);\">hide</span> <span style=\"background-color:rgba(135,206,250,0.048741722827253975);\">and</span> <span style=\"background-color:rgba(135,206,250,0.07795641264075633);\">seek</span> <span style=\"background-color:rgba(135,206,250,0.014407523454639613);\">contest</span> <span style=\"background-color:rgba(135,206,250,0.008937303763945479);\">with</span> <span style=\"background-color:rgba(135,206,250,0.03841287691369369);\">anti</span> <span style=\"background-color:rgba(135,206,250,0.17123182019240912);\">doping</span> <span style=\"background-color:rgba(135,206,250,0.3454484838777932);\">enforcers</span>"
      ],
      "text/plain": [
       "<IPython.core.display.HTML object>"
      ]
     },
     "metadata": {},
     "output_type": "display_data"
    },
    {
     "name": "stdout",
     "output_type": "stream",
     "text": [
      "None\n"
     ]
    }
   ],
   "source": [
    "df = train_perturbations\n",
    "orig_col_index = df.columns.get_loc('sentence')\n",
    "tokens_col_index = df.columns.get_loc('tokens_orig')\n",
    "explainer = AllenNLPExplainer1\n",
    "\n",
    "# to count the number of times every perturbation leads to a significant change in interpretation\n",
    "count = {}\n",
    "for perturbation in perturbation_list:\n",
    "    count[perturbation] = 0\n",
    "\n",
    "for r in range(160,200):\n",
    "    sentence = {}\n",
    "    tokens = {}\n",
    "    success = {}\n",
    "    pert_indices = {}\n",
    "    scores = {}\n",
    "    prediction = {}\n",
    "    comparison = {}\n",
    "\n",
    "    sentence['orig'] = df.iloc[r, orig_col_index]\n",
    "    tokens['orig'] = df.iloc[r,tokens_col_index]\n",
    "    scores['orig'] = np.array(explainer.explain_instance(sentence['orig'])[0])\n",
    "    prediction['orig'] = explainer.explain_instance(sentence['orig'])[1]\n",
    "    for perturbation in perturbation_list:\n",
    "        col_index = df.columns.get_loc(perturbation + '_concat')\n",
    "        sentence[perturbation] = df.iloc[r, col_index]\n",
    "        col_index = df.columns.get_loc(perturbation + '_tokens')\n",
    "        tokens[perturbation] = df.iloc[r, col_index]\n",
    "        col_index = df.columns.get_loc(perturbation + '_success')\n",
    "        success[perturbation] = df.iloc[r, col_index]\n",
    "        col_index = df.columns.get_loc(perturbation + '_pert_ind')\n",
    "        pert_indices[perturbation] = df.iloc[r, col_index]\n",
    "        if success[perturbation] != 0:\n",
    "            scores[perturbation] = np.array(explainer.explain_instance(sentence[perturbation])[0])\n",
    "            prediction[perturbation] = explainer.explain_instance(sentence[perturbation])[1]\n",
    "        \n",
    "    for perturbation in perturbation_list:\n",
    "        # interpretations should only be compared if a sentence has been modified\n",
    "        if success[perturbation] == 0:\n",
    "            comparison[perturbation] = None\n",
    "            continue\n",
    "        # interpretations should not be compared if prediction has changed\n",
    "        elif prediction[perturbation] != prediction['orig']:\n",
    "            comparison[perturbation] = None\n",
    "            continue\n",
    "        else:\n",
    "            change_flag = 0\n",
    "            for i in pert_indices[perturbation]:\n",
    "                if scores['orig'][i] > 0.05:\n",
    "                    change_flag += 1\n",
    "            # interpretations should not be compared if an important token has been changed\n",
    "            if change_flag > 0:   \n",
    "                comparison[perturbation] = None\n",
    "                continue\n",
    "            else:\n",
    "                \n",
    "                if perturbation in perturbation_reduction:\n",
    "                    # remove empty tokens from tokenised version of perturbed sentence\n",
    "                    tokens[perturbation] = [tokens[perturbation][i] for i in range(len(tokens[perturbation])) \n",
    "                               if not i in pert_indices[perturbation]]\n",
    "                    # remove relevant indices from lists\n",
    "                    orig_score_reduced = np.array([scores['orig'][i] for i in range(len(scores['orig'])) \n",
    "                                   if not i in pert_indices[perturbation]])\n",
    "                    # normalise gradient\n",
    "                    orig_score_reduced = orig_score_reduced/np.sum(orig_score_reduced)\n",
    "                    orig_score_for_comparison = orig_score_reduced\n",
    "                elif perturbation == 'swap_adj':\n",
    "                    orig_score_swapped = deepcopy(scores['orig'])\n",
    "                    for i in range(len(pert_indices[perturbation][::2])):\n",
    "                        index_adj_1 = pert_indices[perturbation][i]\n",
    "                        index_adj_2 = pert_indices[perturbation][i+1]\n",
    "                        score_adj_1 = scores['orig'][index_adj_1]\n",
    "                        score_adj_2 = scores['orig'][index_adj_2]\n",
    "                        orig_score_swapped[index_adj_1] = score_adj_2\n",
    "                        orig_score_swapped[index_adj_2] = score_adj_1\n",
    "                    orig_score_for_comparison = orig_score_swapped\n",
    "                else:\n",
    "                    orig_score_for_comparison = scores['orig']\n",
    "                \n",
    "                if len(orig_score_for_comparison) != len(scores[perturbation]):\n",
    "#                     print('length not matching after perturbation')\n",
    "                    comparison[perturbation] = None\n",
    "                else:\n",
    "                    comparison[perturbation] = spearmanr(orig_score_for_comparison, scores[perturbation])[0]\n",
    "                    if comparison[perturbation] < 0.8:\n",
    "                        count[perturbation] += 1\n",
    "                        if len(tokens[perturbation]) == len(scores[perturbation]) and len(tokens['orig']) == len(scores['orig']):\n",
    "                            visualise_weights(tokens['orig'], scores['orig'])\n",
    "                            visualise_weights(tokens[perturbation], scores[perturbation])"
   ]
  },
  {
   "cell_type": "code",
   "execution_count": 20,
   "metadata": {},
   "outputs": [
    {
     "data": {
      "text/plain": [
       "{'strip_punct': 0,\n",
       " 'remove_commas': 2,\n",
       " 'remove_all_punct': 10,\n",
       " 'contraction': 0,\n",
       " 'change_first_name': 1,\n",
       " 'change_last_name': 0,\n",
       " 'change_location': 2,\n",
       " 'add_typo': 11,\n",
       " 'switch_gender': 0,\n",
       " 'swap_adj': 0}"
      ]
     },
     "execution_count": 20,
     "metadata": {},
     "output_type": "execute_result"
    }
   ],
   "source": [
    "count"
   ]
  },
  {
   "cell_type": "code",
   "execution_count": null,
   "metadata": {},
   "outputs": [],
   "source": []
  }
 ],
 "metadata": {
  "colab": {
   "collapsed_sections": [],
   "name": "Explainer Functions Demo.ipynb",
   "provenance": [],
   "toc_visible": true
  },
  "kernelspec": {
   "display_name": "Python 3",
   "language": "python",
   "name": "python3"
  },
  "language_info": {
   "codemirror_mode": {
    "name": "ipython",
    "version": 3
   },
   "file_extension": ".py",
   "mimetype": "text/x-python",
   "name": "python",
   "nbconvert_exporter": "python",
   "pygments_lexer": "ipython3",
   "version": "3.7.4"
  },
  "toc": {
   "base_numbering": 1,
   "nav_menu": {},
   "number_sections": true,
   "sideBar": true,
   "skip_h1_title": false,
   "title_cell": "Table of Contents",
   "title_sidebar": "Contents",
   "toc_cell": false,
   "toc_position": {
    "height": "calc(100% - 180px)",
    "left": "10px",
    "top": "150px",
    "width": "288px"
   },
   "toc_section_display": true,
   "toc_window_display": true
  },
  "widgets": {
   "application/vnd.jupyter.widget-state+json": {
    "04a0ac5d360a4fff9c28d247fddcc8a0": {
     "model_module": "@jupyter-widgets/controls",
     "model_name": "ProgressStyleModel",
     "state": {
      "_model_module": "@jupyter-widgets/controls",
      "_model_module_version": "1.5.0",
      "_model_name": "ProgressStyleModel",
      "_view_count": null,
      "_view_module": "@jupyter-widgets/base",
      "_view_module_version": "1.2.0",
      "_view_name": "StyleView",
      "bar_color": null,
      "description_width": "initial"
     }
    },
    "0611f3fc3bfa4e82996750745615f002": {
     "model_module": "@jupyter-widgets/base",
     "model_name": "LayoutModel",
     "state": {
      "_model_module": "@jupyter-widgets/base",
      "_model_module_version": "1.2.0",
      "_model_name": "LayoutModel",
      "_view_count": null,
      "_view_module": "@jupyter-widgets/base",
      "_view_module_version": "1.2.0",
      "_view_name": "LayoutView",
      "align_content": null,
      "align_items": null,
      "align_self": null,
      "border": null,
      "bottom": null,
      "display": null,
      "flex": null,
      "flex_flow": null,
      "grid_area": null,
      "grid_auto_columns": null,
      "grid_auto_flow": null,
      "grid_auto_rows": null,
      "grid_column": null,
      "grid_gap": null,
      "grid_row": null,
      "grid_template_areas": null,
      "grid_template_columns": null,
      "grid_template_rows": null,
      "height": null,
      "justify_content": null,
      "justify_items": null,
      "left": null,
      "margin": null,
      "max_height": null,
      "max_width": null,
      "min_height": null,
      "min_width": null,
      "object_fit": null,
      "object_position": null,
      "order": null,
      "overflow": null,
      "overflow_x": null,
      "overflow_y": null,
      "padding": null,
      "right": null,
      "top": null,
      "visibility": null,
      "width": null
     }
    },
    "07c77d2fc1114bb0b980f9cd2c3629ac": {
     "model_module": "@jupyter-widgets/controls",
     "model_name": "ProgressStyleModel",
     "state": {
      "_model_module": "@jupyter-widgets/controls",
      "_model_module_version": "1.5.0",
      "_model_name": "ProgressStyleModel",
      "_view_count": null,
      "_view_module": "@jupyter-widgets/base",
      "_view_module_version": "1.2.0",
      "_view_name": "StyleView",
      "bar_color": null,
      "description_width": "initial"
     }
    },
    "0e69e47abc92498894e2abaca9523e4e": {
     "model_module": "@jupyter-widgets/base",
     "model_name": "LayoutModel",
     "state": {
      "_model_module": "@jupyter-widgets/base",
      "_model_module_version": "1.2.0",
      "_model_name": "LayoutModel",
      "_view_count": null,
      "_view_module": "@jupyter-widgets/base",
      "_view_module_version": "1.2.0",
      "_view_name": "LayoutView",
      "align_content": null,
      "align_items": null,
      "align_self": null,
      "border": null,
      "bottom": null,
      "display": null,
      "flex": null,
      "flex_flow": null,
      "grid_area": null,
      "grid_auto_columns": null,
      "grid_auto_flow": null,
      "grid_auto_rows": null,
      "grid_column": null,
      "grid_gap": null,
      "grid_row": null,
      "grid_template_areas": null,
      "grid_template_columns": null,
      "grid_template_rows": null,
      "height": null,
      "justify_content": null,
      "justify_items": null,
      "left": null,
      "margin": null,
      "max_height": null,
      "max_width": null,
      "min_height": null,
      "min_width": null,
      "object_fit": null,
      "object_position": null,
      "order": null,
      "overflow": null,
      "overflow_x": null,
      "overflow_y": null,
      "padding": null,
      "right": null,
      "top": null,
      "visibility": null,
      "width": null
     }
    },
    "0feafbf7c5f74aa784cfc37142758e0a": {
     "model_module": "@jupyter-widgets/controls",
     "model_name": "HTMLModel",
     "state": {
      "_dom_classes": [],
      "_model_module": "@jupyter-widgets/controls",
      "_model_module_version": "1.5.0",
      "_model_name": "HTMLModel",
      "_view_count": null,
      "_view_module": "@jupyter-widgets/controls",
      "_view_module_version": "1.5.0",
      "_view_name": "HTMLView",
      "description": "",
      "description_tooltip": null,
      "layout": "IPY_MODEL_562d883f39cf496ca012385f993caa49",
      "placeholder": "​",
      "style": "IPY_MODEL_e0f1019dfdb146dabd5b9c436d2947cf",
      "value": " 7600/0 [00:00&lt;00:00, 15765.64 examples/s]"
     }
    },
    "12f99bec6e8b4cba8dd61c5c030e99cf": {
     "model_module": "@jupyter-widgets/controls",
     "model_name": "HBoxModel",
     "state": {
      "_dom_classes": [],
      "_model_module": "@jupyter-widgets/controls",
      "_model_module_version": "1.5.0",
      "_model_name": "HBoxModel",
      "_view_count": null,
      "_view_module": "@jupyter-widgets/controls",
      "_view_module_version": "1.5.0",
      "_view_name": "HBoxView",
      "box_style": "",
      "children": [
       "IPY_MODEL_4c15a9f2b0264957a9d57160f6a93f4f",
       "IPY_MODEL_3b154ad8c06b4eb2aa7fef9b6df5836d"
      ],
      "layout": "IPY_MODEL_b8ab522d3421469193520b9c91117021"
     }
    },
    "18ae45818d594787a332b6f9e32b1d84": {
     "model_module": "@jupyter-widgets/base",
     "model_name": "LayoutModel",
     "state": {
      "_model_module": "@jupyter-widgets/base",
      "_model_module_version": "1.2.0",
      "_model_name": "LayoutModel",
      "_view_count": null,
      "_view_module": "@jupyter-widgets/base",
      "_view_module_version": "1.2.0",
      "_view_name": "LayoutView",
      "align_content": null,
      "align_items": null,
      "align_self": null,
      "border": null,
      "bottom": null,
      "display": null,
      "flex": null,
      "flex_flow": null,
      "grid_area": null,
      "grid_auto_columns": null,
      "grid_auto_flow": null,
      "grid_auto_rows": null,
      "grid_column": null,
      "grid_gap": null,
      "grid_row": null,
      "grid_template_areas": null,
      "grid_template_columns": null,
      "grid_template_rows": null,
      "height": null,
      "justify_content": null,
      "justify_items": null,
      "left": null,
      "margin": null,
      "max_height": null,
      "max_width": null,
      "min_height": null,
      "min_width": null,
      "object_fit": null,
      "object_position": null,
      "order": null,
      "overflow": null,
      "overflow_x": null,
      "overflow_y": null,
      "padding": null,
      "right": null,
      "top": null,
      "visibility": null,
      "width": null
     }
    },
    "21024fd85ce54ccc979d7424223cd63b": {
     "model_module": "@jupyter-widgets/base",
     "model_name": "LayoutModel",
     "state": {
      "_model_module": "@jupyter-widgets/base",
      "_model_module_version": "1.2.0",
      "_model_name": "LayoutModel",
      "_view_count": null,
      "_view_module": "@jupyter-widgets/base",
      "_view_module_version": "1.2.0",
      "_view_name": "LayoutView",
      "align_content": null,
      "align_items": null,
      "align_self": null,
      "border": null,
      "bottom": null,
      "display": null,
      "flex": null,
      "flex_flow": null,
      "grid_area": null,
      "grid_auto_columns": null,
      "grid_auto_flow": null,
      "grid_auto_rows": null,
      "grid_column": null,
      "grid_gap": null,
      "grid_row": null,
      "grid_template_areas": null,
      "grid_template_columns": null,
      "grid_template_rows": null,
      "height": null,
      "justify_content": null,
      "justify_items": null,
      "left": null,
      "margin": null,
      "max_height": null,
      "max_width": null,
      "min_height": null,
      "min_width": null,
      "object_fit": null,
      "object_position": null,
      "order": null,
      "overflow": null,
      "overflow_x": null,
      "overflow_y": null,
      "padding": null,
      "right": null,
      "top": null,
      "visibility": null,
      "width": null
     }
    },
    "212ee5b8fece4c019a0cc9cbcda28fb2": {
     "model_module": "@jupyter-widgets/controls",
     "model_name": "FloatProgressModel",
     "state": {
      "_dom_classes": [],
      "_model_module": "@jupyter-widgets/controls",
      "_model_module_version": "1.5.0",
      "_model_name": "FloatProgressModel",
      "_view_count": null,
      "_view_module": "@jupyter-widgets/controls",
      "_view_module_version": "1.5.0",
      "_view_name": "ProgressView",
      "bar_style": "info",
      "description": "",
      "description_tooltip": null,
      "layout": "IPY_MODEL_21024fd85ce54ccc979d7424223cd63b",
      "max": 1,
      "min": 0,
      "orientation": "horizontal",
      "style": "IPY_MODEL_ebb64d375ded4bb3af0dcc16b0202543",
      "value": 1
     }
    },
    "24473f0e78534922818609efda4d522b": {
     "model_module": "@jupyter-widgets/controls",
     "model_name": "DescriptionStyleModel",
     "state": {
      "_model_module": "@jupyter-widgets/controls",
      "_model_module_version": "1.5.0",
      "_model_name": "DescriptionStyleModel",
      "_view_count": null,
      "_view_module": "@jupyter-widgets/base",
      "_view_module_version": "1.2.0",
      "_view_name": "StyleView",
      "description_width": ""
     }
    },
    "26ffaa6ea2a841d68281e0b507baa9fe": {
     "model_module": "@jupyter-widgets/controls",
     "model_name": "HTMLModel",
     "state": {
      "_dom_classes": [],
      "_model_module": "@jupyter-widgets/controls",
      "_model_module_version": "1.5.0",
      "_model_name": "HTMLModel",
      "_view_count": null,
      "_view_module": "@jupyter-widgets/controls",
      "_view_module_version": "1.5.0",
      "_view_name": "HTMLView",
      "description": "",
      "description_tooltip": null,
      "layout": "IPY_MODEL_cb9ef41438464114bd6aa05615bf0d69",
      "placeholder": "​",
      "style": "IPY_MODEL_7772112aed554c2498183c0a1cba9f8b",
      "value": " 54/? [00:06&lt;00:00,  5.53it/s]"
     }
    },
    "2d5721753b1044ae9c7c6e4528ba9d83": {
     "model_module": "@jupyter-widgets/controls",
     "model_name": "HTMLModel",
     "state": {
      "_dom_classes": [],
      "_model_module": "@jupyter-widgets/controls",
      "_model_module_version": "1.5.0",
      "_model_name": "HTMLModel",
      "_view_count": null,
      "_view_module": "@jupyter-widgets/controls",
      "_view_module_version": "1.5.0",
      "_view_name": "HTMLView",
      "description": "",
      "description_tooltip": null,
      "layout": "IPY_MODEL_2dd557d9802b49008f10d1871025e393",
      "placeholder": "​",
      "style": "IPY_MODEL_24473f0e78534922818609efda4d522b",
      "value": " 29.5M/? [00:01&lt;00:00, 21.2MB/s]"
     }
    },
    "2dd557d9802b49008f10d1871025e393": {
     "model_module": "@jupyter-widgets/base",
     "model_name": "LayoutModel",
     "state": {
      "_model_module": "@jupyter-widgets/base",
      "_model_module_version": "1.2.0",
      "_model_name": "LayoutModel",
      "_view_count": null,
      "_view_module": "@jupyter-widgets/base",
      "_view_module_version": "1.2.0",
      "_view_name": "LayoutView",
      "align_content": null,
      "align_items": null,
      "align_self": null,
      "border": null,
      "bottom": null,
      "display": null,
      "flex": null,
      "flex_flow": null,
      "grid_area": null,
      "grid_auto_columns": null,
      "grid_auto_flow": null,
      "grid_auto_rows": null,
      "grid_column": null,
      "grid_gap": null,
      "grid_row": null,
      "grid_template_areas": null,
      "grid_template_columns": null,
      "grid_template_rows": null,
      "height": null,
      "justify_content": null,
      "justify_items": null,
      "left": null,
      "margin": null,
      "max_height": null,
      "max_width": null,
      "min_height": null,
      "min_width": null,
      "object_fit": null,
      "object_position": null,
      "order": null,
      "overflow": null,
      "overflow_x": null,
      "overflow_y": null,
      "padding": null,
      "right": null,
      "top": null,
      "visibility": null,
      "width": null
     }
    },
    "2f293ebf451447a4bb48aaa449d48ced": {
     "model_module": "@jupyter-widgets/controls",
     "model_name": "ProgressStyleModel",
     "state": {
      "_model_module": "@jupyter-widgets/controls",
      "_model_module_version": "1.5.0",
      "_model_name": "ProgressStyleModel",
      "_view_count": null,
      "_view_module": "@jupyter-widgets/base",
      "_view_module_version": "1.2.0",
      "_view_name": "StyleView",
      "bar_color": null,
      "description_width": "initial"
     }
    },
    "3189b2f6652642559d3749352cd935fe": {
     "model_module": "@jupyter-widgets/base",
     "model_name": "LayoutModel",
     "state": {
      "_model_module": "@jupyter-widgets/base",
      "_model_module_version": "1.2.0",
      "_model_name": "LayoutModel",
      "_view_count": null,
      "_view_module": "@jupyter-widgets/base",
      "_view_module_version": "1.2.0",
      "_view_name": "LayoutView",
      "align_content": null,
      "align_items": null,
      "align_self": null,
      "border": null,
      "bottom": null,
      "display": null,
      "flex": null,
      "flex_flow": null,
      "grid_area": null,
      "grid_auto_columns": null,
      "grid_auto_flow": null,
      "grid_auto_rows": null,
      "grid_column": null,
      "grid_gap": null,
      "grid_row": null,
      "grid_template_areas": null,
      "grid_template_columns": null,
      "grid_template_rows": null,
      "height": null,
      "justify_content": null,
      "justify_items": null,
      "left": null,
      "margin": null,
      "max_height": null,
      "max_width": null,
      "min_height": null,
      "min_width": null,
      "object_fit": null,
      "object_position": null,
      "order": null,
      "overflow": null,
      "overflow_x": null,
      "overflow_y": null,
      "padding": null,
      "right": null,
      "top": null,
      "visibility": null,
      "width": null
     }
    },
    "31df4705c0c94a9a9d969ff8cef100f8": {
     "model_module": "@jupyter-widgets/base",
     "model_name": "LayoutModel",
     "state": {
      "_model_module": "@jupyter-widgets/base",
      "_model_module_version": "1.2.0",
      "_model_name": "LayoutModel",
      "_view_count": null,
      "_view_module": "@jupyter-widgets/base",
      "_view_module_version": "1.2.0",
      "_view_name": "LayoutView",
      "align_content": null,
      "align_items": null,
      "align_self": null,
      "border": null,
      "bottom": null,
      "display": null,
      "flex": null,
      "flex_flow": null,
      "grid_area": null,
      "grid_auto_columns": null,
      "grid_auto_flow": null,
      "grid_auto_rows": null,
      "grid_column": null,
      "grid_gap": null,
      "grid_row": null,
      "grid_template_areas": null,
      "grid_template_columns": null,
      "grid_template_rows": null,
      "height": null,
      "justify_content": null,
      "justify_items": null,
      "left": null,
      "margin": null,
      "max_height": null,
      "max_width": null,
      "min_height": null,
      "min_width": null,
      "object_fit": null,
      "object_position": null,
      "order": null,
      "overflow": null,
      "overflow_x": null,
      "overflow_y": null,
      "padding": null,
      "right": null,
      "top": null,
      "visibility": null,
      "width": null
     }
    },
    "38832887ec424661a446c0a05c5abfeb": {
     "model_module": "@jupyter-widgets/controls",
     "model_name": "ProgressStyleModel",
     "state": {
      "_model_module": "@jupyter-widgets/controls",
      "_model_module_version": "1.5.0",
      "_model_name": "ProgressStyleModel",
      "_view_count": null,
      "_view_module": "@jupyter-widgets/base",
      "_view_module_version": "1.2.0",
      "_view_name": "StyleView",
      "bar_color": null,
      "description_width": "initial"
     }
    },
    "3a04f7e489114066a9d57c44f539e97c": {
     "model_module": "@jupyter-widgets/base",
     "model_name": "LayoutModel",
     "state": {
      "_model_module": "@jupyter-widgets/base",
      "_model_module_version": "1.2.0",
      "_model_name": "LayoutModel",
      "_view_count": null,
      "_view_module": "@jupyter-widgets/base",
      "_view_module_version": "1.2.0",
      "_view_name": "LayoutView",
      "align_content": null,
      "align_items": null,
      "align_self": null,
      "border": null,
      "bottom": null,
      "display": null,
      "flex": null,
      "flex_flow": null,
      "grid_area": null,
      "grid_auto_columns": null,
      "grid_auto_flow": null,
      "grid_auto_rows": null,
      "grid_column": null,
      "grid_gap": null,
      "grid_row": null,
      "grid_template_areas": null,
      "grid_template_columns": null,
      "grid_template_rows": null,
      "height": null,
      "justify_content": null,
      "justify_items": null,
      "left": null,
      "margin": null,
      "max_height": null,
      "max_width": null,
      "min_height": null,
      "min_width": null,
      "object_fit": null,
      "object_position": null,
      "order": null,
      "overflow": null,
      "overflow_x": null,
      "overflow_y": null,
      "padding": null,
      "right": null,
      "top": null,
      "visibility": null,
      "width": null
     }
    },
    "3a6f416e3c45463f8079bc85d7a59e32": {
     "model_module": "@jupyter-widgets/controls",
     "model_name": "HBoxModel",
     "state": {
      "_dom_classes": [],
      "_model_module": "@jupyter-widgets/controls",
      "_model_module_version": "1.5.0",
      "_model_name": "HBoxModel",
      "_view_count": null,
      "_view_module": "@jupyter-widgets/controls",
      "_view_module_version": "1.5.0",
      "_view_name": "HBoxView",
      "box_style": "",
      "children": [
       "IPY_MODEL_92c26b5de3bd4490a7db6a30807fc78f",
       "IPY_MODEL_f8991862089142b78f544c47a710d188"
      ],
      "layout": "IPY_MODEL_c76ad19c147a41ffa2d06f020a0ed1f6"
     }
    },
    "3b154ad8c06b4eb2aa7fef9b6df5836d": {
     "model_module": "@jupyter-widgets/controls",
     "model_name": "HTMLModel",
     "state": {
      "_dom_classes": [],
      "_model_module": "@jupyter-widgets/controls",
      "_model_module_version": "1.5.0",
      "_model_name": "HTMLModel",
      "_view_count": null,
      "_view_module": "@jupyter-widgets/controls",
      "_view_module_version": "1.5.0",
      "_view_name": "HTMLView",
      "description": "",
      "description_tooltip": null,
      "layout": "IPY_MODEL_77800086794349339ed745dbaf21e0f2",
      "placeholder": "​",
      "style": "IPY_MODEL_e4742e9fed7b4bca8f183e444471b5c5",
      "value": " 54/? [00:06&lt;00:00,  5.54it/s]"
     }
    },
    "3cd6a856c6a84bac81aa0287f2afa0df": {
     "model_module": "@jupyter-widgets/controls",
     "model_name": "ProgressStyleModel",
     "state": {
      "_model_module": "@jupyter-widgets/controls",
      "_model_module_version": "1.5.0",
      "_model_name": "ProgressStyleModel",
      "_view_count": null,
      "_view_module": "@jupyter-widgets/base",
      "_view_module_version": "1.2.0",
      "_view_name": "StyleView",
      "bar_color": null,
      "description_width": "initial"
     }
    },
    "4052af78287747e6877fc7792671b6a3": {
     "model_module": "@jupyter-widgets/base",
     "model_name": "LayoutModel",
     "state": {
      "_model_module": "@jupyter-widgets/base",
      "_model_module_version": "1.2.0",
      "_model_name": "LayoutModel",
      "_view_count": null,
      "_view_module": "@jupyter-widgets/base",
      "_view_module_version": "1.2.0",
      "_view_name": "LayoutView",
      "align_content": null,
      "align_items": null,
      "align_self": null,
      "border": null,
      "bottom": null,
      "display": null,
      "flex": null,
      "flex_flow": null,
      "grid_area": null,
      "grid_auto_columns": null,
      "grid_auto_flow": null,
      "grid_auto_rows": null,
      "grid_column": null,
      "grid_gap": null,
      "grid_row": null,
      "grid_template_areas": null,
      "grid_template_columns": null,
      "grid_template_rows": null,
      "height": null,
      "justify_content": null,
      "justify_items": null,
      "left": null,
      "margin": null,
      "max_height": null,
      "max_width": null,
      "min_height": null,
      "min_width": null,
      "object_fit": null,
      "object_position": null,
      "order": null,
      "overflow": null,
      "overflow_x": null,
      "overflow_y": null,
      "padding": null,
      "right": null,
      "top": null,
      "visibility": null,
      "width": null
     }
    },
    "484c9b43cd6044679ed14d38fdf51cea": {
     "model_module": "@jupyter-widgets/base",
     "model_name": "LayoutModel",
     "state": {
      "_model_module": "@jupyter-widgets/base",
      "_model_module_version": "1.2.0",
      "_model_name": "LayoutModel",
      "_view_count": null,
      "_view_module": "@jupyter-widgets/base",
      "_view_module_version": "1.2.0",
      "_view_name": "LayoutView",
      "align_content": null,
      "align_items": null,
      "align_self": null,
      "border": null,
      "bottom": null,
      "display": null,
      "flex": null,
      "flex_flow": null,
      "grid_area": null,
      "grid_auto_columns": null,
      "grid_auto_flow": null,
      "grid_auto_rows": null,
      "grid_column": null,
      "grid_gap": null,
      "grid_row": null,
      "grid_template_areas": null,
      "grid_template_columns": null,
      "grid_template_rows": null,
      "height": null,
      "justify_content": null,
      "justify_items": null,
      "left": null,
      "margin": null,
      "max_height": null,
      "max_width": null,
      "min_height": null,
      "min_width": null,
      "object_fit": null,
      "object_position": null,
      "order": null,
      "overflow": null,
      "overflow_x": null,
      "overflow_y": null,
      "padding": null,
      "right": null,
      "top": null,
      "visibility": null,
      "width": null
     }
    },
    "490c2a7e0a7c4a87ade4b4ec62202698": {
     "model_module": "@jupyter-widgets/controls",
     "model_name": "DescriptionStyleModel",
     "state": {
      "_model_module": "@jupyter-widgets/controls",
      "_model_module_version": "1.5.0",
      "_model_name": "DescriptionStyleModel",
      "_view_count": null,
      "_view_module": "@jupyter-widgets/base",
      "_view_module_version": "1.2.0",
      "_view_name": "StyleView",
      "description_width": ""
     }
    },
    "4981d5992ad44e48a525f5462e958a13": {
     "model_module": "@jupyter-widgets/controls",
     "model_name": "DescriptionStyleModel",
     "state": {
      "_model_module": "@jupyter-widgets/controls",
      "_model_module_version": "1.5.0",
      "_model_name": "DescriptionStyleModel",
      "_view_count": null,
      "_view_module": "@jupyter-widgets/base",
      "_view_module_version": "1.2.0",
      "_view_name": "StyleView",
      "description_width": ""
     }
    },
    "4a4155c9c7da4824a7dc8d0eedc16b30": {
     "model_module": "@jupyter-widgets/controls",
     "model_name": "ProgressStyleModel",
     "state": {
      "_model_module": "@jupyter-widgets/controls",
      "_model_module_version": "1.5.0",
      "_model_name": "ProgressStyleModel",
      "_view_count": null,
      "_view_module": "@jupyter-widgets/base",
      "_view_module_version": "1.2.0",
      "_view_name": "StyleView",
      "bar_color": null,
      "description_width": "initial"
     }
    },
    "4c15a9f2b0264957a9d57160f6a93f4f": {
     "model_module": "@jupyter-widgets/controls",
     "model_name": "FloatProgressModel",
     "state": {
      "_dom_classes": [],
      "_model_module": "@jupyter-widgets/controls",
      "_model_module_version": "1.5.0",
      "_model_name": "FloatProgressModel",
      "_view_count": null,
      "_view_module": "@jupyter-widgets/controls",
      "_view_module_version": "1.5.0",
      "_view_name": "ProgressView",
      "bar_style": "",
      "description": "",
      "description_tooltip": null,
      "layout": "IPY_MODEL_7d7230cfbaae45adb0cbdd6477974fda",
      "max": 48,
      "min": 0,
      "orientation": "horizontal",
      "style": "IPY_MODEL_d3a9a11ad9394e0ca5169a5160cf8b31",
      "value": 48
     }
    },
    "4dbae7ab498742018abee10fb4bdc5e6": {
     "model_module": "@jupyter-widgets/controls",
     "model_name": "DescriptionStyleModel",
     "state": {
      "_model_module": "@jupyter-widgets/controls",
      "_model_module_version": "1.5.0",
      "_model_name": "DescriptionStyleModel",
      "_view_count": null,
      "_view_module": "@jupyter-widgets/base",
      "_view_module_version": "1.2.0",
      "_view_name": "StyleView",
      "description_width": ""
     }
    },
    "559e1f3f92a240bbb20bec9df74eb791": {
     "model_module": "@jupyter-widgets/controls",
     "model_name": "HBoxModel",
     "state": {
      "_dom_classes": [],
      "_model_module": "@jupyter-widgets/controls",
      "_model_module_version": "1.5.0",
      "_model_name": "HBoxModel",
      "_view_count": null,
      "_view_module": "@jupyter-widgets/controls",
      "_view_module_version": "1.5.0",
      "_view_name": "HBoxView",
      "box_style": "",
      "children": [
       "IPY_MODEL_7c7b4aa967bb49c299cee14e70f0b527",
       "IPY_MODEL_90578b5699b54ffbbbc2548da04cf4a0"
      ],
      "layout": "IPY_MODEL_0e69e47abc92498894e2abaca9523e4e"
     }
    },
    "562d883f39cf496ca012385f993caa49": {
     "model_module": "@jupyter-widgets/base",
     "model_name": "LayoutModel",
     "state": {
      "_model_module": "@jupyter-widgets/base",
      "_model_module_version": "1.2.0",
      "_model_name": "LayoutModel",
      "_view_count": null,
      "_view_module": "@jupyter-widgets/base",
      "_view_module_version": "1.2.0",
      "_view_name": "LayoutView",
      "align_content": null,
      "align_items": null,
      "align_self": null,
      "border": null,
      "bottom": null,
      "display": null,
      "flex": null,
      "flex_flow": null,
      "grid_area": null,
      "grid_auto_columns": null,
      "grid_auto_flow": null,
      "grid_auto_rows": null,
      "grid_column": null,
      "grid_gap": null,
      "grid_row": null,
      "grid_template_areas": null,
      "grid_template_columns": null,
      "grid_template_rows": null,
      "height": null,
      "justify_content": null,
      "justify_items": null,
      "left": null,
      "margin": null,
      "max_height": null,
      "max_width": null,
      "min_height": null,
      "min_width": null,
      "object_fit": null,
      "object_position": null,
      "order": null,
      "overflow": null,
      "overflow_x": null,
      "overflow_y": null,
      "padding": null,
      "right": null,
      "top": null,
      "visibility": null,
      "width": null
     }
    },
    "5a5ef3bfd9e444a7a8158f3cf6afb39b": {
     "model_module": "@jupyter-widgets/base",
     "model_name": "LayoutModel",
     "state": {
      "_model_module": "@jupyter-widgets/base",
      "_model_module_version": "1.2.0",
      "_model_name": "LayoutModel",
      "_view_count": null,
      "_view_module": "@jupyter-widgets/base",
      "_view_module_version": "1.2.0",
      "_view_name": "LayoutView",
      "align_content": null,
      "align_items": null,
      "align_self": null,
      "border": null,
      "bottom": null,
      "display": null,
      "flex": null,
      "flex_flow": null,
      "grid_area": null,
      "grid_auto_columns": null,
      "grid_auto_flow": null,
      "grid_auto_rows": null,
      "grid_column": null,
      "grid_gap": null,
      "grid_row": null,
      "grid_template_areas": null,
      "grid_template_columns": null,
      "grid_template_rows": null,
      "height": null,
      "justify_content": null,
      "justify_items": null,
      "left": null,
      "margin": null,
      "max_height": null,
      "max_width": null,
      "min_height": null,
      "min_width": null,
      "object_fit": null,
      "object_position": null,
      "order": null,
      "overflow": null,
      "overflow_x": null,
      "overflow_y": null,
      "padding": null,
      "right": null,
      "top": null,
      "visibility": null,
      "width": null
     }
    },
    "5c00190cc7294edeafa5454daa18afa5": {
     "model_module": "@jupyter-widgets/controls",
     "model_name": "ProgressStyleModel",
     "state": {
      "_model_module": "@jupyter-widgets/controls",
      "_model_module_version": "1.5.0",
      "_model_name": "ProgressStyleModel",
      "_view_count": null,
      "_view_module": "@jupyter-widgets/base",
      "_view_module_version": "1.2.0",
      "_view_name": "StyleView",
      "bar_color": null,
      "description_width": "initial"
     }
    },
    "5fb81aa419c2410ea4a77617896be4d0": {
     "model_module": "@jupyter-widgets/base",
     "model_name": "LayoutModel",
     "state": {
      "_model_module": "@jupyter-widgets/base",
      "_model_module_version": "1.2.0",
      "_model_name": "LayoutModel",
      "_view_count": null,
      "_view_module": "@jupyter-widgets/base",
      "_view_module_version": "1.2.0",
      "_view_name": "LayoutView",
      "align_content": null,
      "align_items": null,
      "align_self": null,
      "border": null,
      "bottom": null,
      "display": null,
      "flex": null,
      "flex_flow": null,
      "grid_area": null,
      "grid_auto_columns": null,
      "grid_auto_flow": null,
      "grid_auto_rows": null,
      "grid_column": null,
      "grid_gap": null,
      "grid_row": null,
      "grid_template_areas": null,
      "grid_template_columns": null,
      "grid_template_rows": null,
      "height": null,
      "justify_content": null,
      "justify_items": null,
      "left": null,
      "margin": null,
      "max_height": null,
      "max_width": null,
      "min_height": null,
      "min_width": null,
      "object_fit": null,
      "object_position": null,
      "order": null,
      "overflow": null,
      "overflow_x": null,
      "overflow_y": null,
      "padding": null,
      "right": null,
      "top": null,
      "visibility": null,
      "width": null
     }
    },
    "6c25a88bd2784c7196d22e570b7c420d": {
     "model_module": "@jupyter-widgets/controls",
     "model_name": "FloatProgressModel",
     "state": {
      "_dom_classes": [],
      "_model_module": "@jupyter-widgets/controls",
      "_model_module_version": "1.5.0",
      "_model_name": "FloatProgressModel",
      "_view_count": null,
      "_view_module": "@jupyter-widgets/controls",
      "_view_module_version": "1.5.0",
      "_view_name": "ProgressView",
      "bar_style": "",
      "description": "",
      "description_tooltip": null,
      "layout": "IPY_MODEL_4052af78287747e6877fc7792671b6a3",
      "max": 48,
      "min": 0,
      "orientation": "horizontal",
      "style": "IPY_MODEL_4a4155c9c7da4824a7dc8d0eedc16b30",
      "value": 48
     }
    },
    "6cbf78f485284220ad2a263961392d14": {
     "model_module": "@jupyter-widgets/controls",
     "model_name": "HTMLModel",
     "state": {
      "_dom_classes": [],
      "_model_module": "@jupyter-widgets/controls",
      "_model_module_version": "1.5.0",
      "_model_name": "HTMLModel",
      "_view_count": null,
      "_view_module": "@jupyter-widgets/controls",
      "_view_module_version": "1.5.0",
      "_view_name": "HTMLView",
      "description": "",
      "description_tooltip": null,
      "layout": "IPY_MODEL_18ae45818d594787a332b6f9e32b1d84",
      "placeholder": "​",
      "style": "IPY_MODEL_a55474312ac9452095ab6194fc8f7a35",
      "value": " 54/? [00:06&lt;00:00,  5.47it/s]"
     }
    },
    "6d431d96bf284215bbf9d6e9698b5528": {
     "model_module": "@jupyter-widgets/base",
     "model_name": "LayoutModel",
     "state": {
      "_model_module": "@jupyter-widgets/base",
      "_model_module_version": "1.2.0",
      "_model_name": "LayoutModel",
      "_view_count": null,
      "_view_module": "@jupyter-widgets/base",
      "_view_module_version": "1.2.0",
      "_view_name": "LayoutView",
      "align_content": null,
      "align_items": null,
      "align_self": null,
      "border": null,
      "bottom": null,
      "display": null,
      "flex": null,
      "flex_flow": null,
      "grid_area": null,
      "grid_auto_columns": null,
      "grid_auto_flow": null,
      "grid_auto_rows": null,
      "grid_column": null,
      "grid_gap": null,
      "grid_row": null,
      "grid_template_areas": null,
      "grid_template_columns": null,
      "grid_template_rows": null,
      "height": null,
      "justify_content": null,
      "justify_items": null,
      "left": null,
      "margin": null,
      "max_height": null,
      "max_width": null,
      "min_height": null,
      "min_width": null,
      "object_fit": null,
      "object_position": null,
      "order": null,
      "overflow": null,
      "overflow_x": null,
      "overflow_y": null,
      "padding": null,
      "right": null,
      "top": null,
      "visibility": null,
      "width": null
     }
    },
    "6e00848f13ae42a488e9bfa8d7060136": {
     "model_module": "@jupyter-widgets/controls",
     "model_name": "HBoxModel",
     "state": {
      "_dom_classes": [],
      "_model_module": "@jupyter-widgets/controls",
      "_model_module_version": "1.5.0",
      "_model_name": "HBoxModel",
      "_view_count": null,
      "_view_module": "@jupyter-widgets/controls",
      "_view_module_version": "1.5.0",
      "_view_name": "HBoxView",
      "box_style": "",
      "children": [
       "IPY_MODEL_de10f4b566cd45e1ba2a3b8443217a88",
       "IPY_MODEL_6cbf78f485284220ad2a263961392d14"
      ],
      "layout": "IPY_MODEL_0611f3fc3bfa4e82996750745615f002"
     }
    },
    "70f7a890d8574be396775b103b535934": {
     "model_module": "@jupyter-widgets/controls",
     "model_name": "HBoxModel",
     "state": {
      "_dom_classes": [],
      "_model_module": "@jupyter-widgets/controls",
      "_model_module_version": "1.5.0",
      "_model_name": "HBoxModel",
      "_view_count": null,
      "_view_module": "@jupyter-widgets/controls",
      "_view_module_version": "1.5.0",
      "_view_name": "HBoxView",
      "box_style": "",
      "children": [
       "IPY_MODEL_a0c0c0b4fad2491a90e1e6773a720c4b",
       "IPY_MODEL_c9ca6d9d06f24b8c903abc4fe42472cc"
      ],
      "layout": "IPY_MODEL_3189b2f6652642559d3749352cd935fe"
     }
    },
    "776ff67046f945a9b00c48f538eeecc2": {
     "model_module": "@jupyter-widgets/base",
     "model_name": "LayoutModel",
     "state": {
      "_model_module": "@jupyter-widgets/base",
      "_model_module_version": "1.2.0",
      "_model_name": "LayoutModel",
      "_view_count": null,
      "_view_module": "@jupyter-widgets/base",
      "_view_module_version": "1.2.0",
      "_view_name": "LayoutView",
      "align_content": null,
      "align_items": null,
      "align_self": null,
      "border": null,
      "bottom": null,
      "display": null,
      "flex": null,
      "flex_flow": null,
      "grid_area": null,
      "grid_auto_columns": null,
      "grid_auto_flow": null,
      "grid_auto_rows": null,
      "grid_column": null,
      "grid_gap": null,
      "grid_row": null,
      "grid_template_areas": null,
      "grid_template_columns": null,
      "grid_template_rows": null,
      "height": null,
      "justify_content": null,
      "justify_items": null,
      "left": null,
      "margin": null,
      "max_height": null,
      "max_width": null,
      "min_height": null,
      "min_width": null,
      "object_fit": null,
      "object_position": null,
      "order": null,
      "overflow": null,
      "overflow_x": null,
      "overflow_y": null,
      "padding": null,
      "right": null,
      "top": null,
      "visibility": null,
      "width": null
     }
    },
    "7772112aed554c2498183c0a1cba9f8b": {
     "model_module": "@jupyter-widgets/controls",
     "model_name": "DescriptionStyleModel",
     "state": {
      "_model_module": "@jupyter-widgets/controls",
      "_model_module_version": "1.5.0",
      "_model_name": "DescriptionStyleModel",
      "_view_count": null,
      "_view_module": "@jupyter-widgets/base",
      "_view_module_version": "1.2.0",
      "_view_name": "StyleView",
      "description_width": ""
     }
    },
    "77800086794349339ed745dbaf21e0f2": {
     "model_module": "@jupyter-widgets/base",
     "model_name": "LayoutModel",
     "state": {
      "_model_module": "@jupyter-widgets/base",
      "_model_module_version": "1.2.0",
      "_model_name": "LayoutModel",
      "_view_count": null,
      "_view_module": "@jupyter-widgets/base",
      "_view_module_version": "1.2.0",
      "_view_name": "LayoutView",
      "align_content": null,
      "align_items": null,
      "align_self": null,
      "border": null,
      "bottom": null,
      "display": null,
      "flex": null,
      "flex_flow": null,
      "grid_area": null,
      "grid_auto_columns": null,
      "grid_auto_flow": null,
      "grid_auto_rows": null,
      "grid_column": null,
      "grid_gap": null,
      "grid_row": null,
      "grid_template_areas": null,
      "grid_template_columns": null,
      "grid_template_rows": null,
      "height": null,
      "justify_content": null,
      "justify_items": null,
      "left": null,
      "margin": null,
      "max_height": null,
      "max_width": null,
      "min_height": null,
      "min_width": null,
      "object_fit": null,
      "object_position": null,
      "order": null,
      "overflow": null,
      "overflow_x": null,
      "overflow_y": null,
      "padding": null,
      "right": null,
      "top": null,
      "visibility": null,
      "width": null
     }
    },
    "7932c878195542fa926ba86c23cd8829": {
     "model_module": "@jupyter-widgets/base",
     "model_name": "LayoutModel",
     "state": {
      "_model_module": "@jupyter-widgets/base",
      "_model_module_version": "1.2.0",
      "_model_name": "LayoutModel",
      "_view_count": null,
      "_view_module": "@jupyter-widgets/base",
      "_view_module_version": "1.2.0",
      "_view_name": "LayoutView",
      "align_content": null,
      "align_items": null,
      "align_self": null,
      "border": null,
      "bottom": null,
      "display": null,
      "flex": null,
      "flex_flow": null,
      "grid_area": null,
      "grid_auto_columns": null,
      "grid_auto_flow": null,
      "grid_auto_rows": null,
      "grid_column": null,
      "grid_gap": null,
      "grid_row": null,
      "grid_template_areas": null,
      "grid_template_columns": null,
      "grid_template_rows": null,
      "height": null,
      "justify_content": null,
      "justify_items": null,
      "left": null,
      "margin": null,
      "max_height": null,
      "max_width": null,
      "min_height": null,
      "min_width": null,
      "object_fit": null,
      "object_position": null,
      "order": null,
      "overflow": null,
      "overflow_x": null,
      "overflow_y": null,
      "padding": null,
      "right": null,
      "top": null,
      "visibility": null,
      "width": null
     }
    },
    "7c7b4aa967bb49c299cee14e70f0b527": {
     "model_module": "@jupyter-widgets/controls",
     "model_name": "FloatProgressModel",
     "state": {
      "_dom_classes": [],
      "_model_module": "@jupyter-widgets/controls",
      "_model_module_version": "1.5.0",
      "_model_name": "FloatProgressModel",
      "_view_count": null,
      "_view_module": "@jupyter-widgets/controls",
      "_view_module_version": "1.5.0",
      "_view_name": "ProgressView",
      "bar_style": "success",
      "description": "Downloading: 100%",
      "description_tooltip": null,
      "layout": "IPY_MODEL_af3e3da2b1864b77b15883d9fa8adfe4",
      "max": 231508,
      "min": 0,
      "orientation": "horizontal",
      "style": "IPY_MODEL_07c77d2fc1114bb0b980f9cd2c3629ac",
      "value": 231508
     }
    },
    "7d7230cfbaae45adb0cbdd6477974fda": {
     "model_module": "@jupyter-widgets/base",
     "model_name": "LayoutModel",
     "state": {
      "_model_module": "@jupyter-widgets/base",
      "_model_module_version": "1.2.0",
      "_model_name": "LayoutModel",
      "_view_count": null,
      "_view_module": "@jupyter-widgets/base",
      "_view_module_version": "1.2.0",
      "_view_name": "LayoutView",
      "align_content": null,
      "align_items": null,
      "align_self": null,
      "border": null,
      "bottom": null,
      "display": null,
      "flex": null,
      "flex_flow": null,
      "grid_area": null,
      "grid_auto_columns": null,
      "grid_auto_flow": null,
      "grid_auto_rows": null,
      "grid_column": null,
      "grid_gap": null,
      "grid_row": null,
      "grid_template_areas": null,
      "grid_template_columns": null,
      "grid_template_rows": null,
      "height": null,
      "justify_content": null,
      "justify_items": null,
      "left": null,
      "margin": null,
      "max_height": null,
      "max_width": null,
      "min_height": null,
      "min_width": null,
      "object_fit": null,
      "object_position": null,
      "order": null,
      "overflow": null,
      "overflow_x": null,
      "overflow_y": null,
      "padding": null,
      "right": null,
      "top": null,
      "visibility": null,
      "width": null
     }
    },
    "84b65b4affe14908bde76817733dfd67": {
     "model_module": "@jupyter-widgets/base",
     "model_name": "LayoutModel",
     "state": {
      "_model_module": "@jupyter-widgets/base",
      "_model_module_version": "1.2.0",
      "_model_name": "LayoutModel",
      "_view_count": null,
      "_view_module": "@jupyter-widgets/base",
      "_view_module_version": "1.2.0",
      "_view_name": "LayoutView",
      "align_content": null,
      "align_items": null,
      "align_self": null,
      "border": null,
      "bottom": null,
      "display": null,
      "flex": null,
      "flex_flow": null,
      "grid_area": null,
      "grid_auto_columns": null,
      "grid_auto_flow": null,
      "grid_auto_rows": null,
      "grid_column": null,
      "grid_gap": null,
      "grid_row": null,
      "grid_template_areas": null,
      "grid_template_columns": null,
      "grid_template_rows": null,
      "height": null,
      "justify_content": null,
      "justify_items": null,
      "left": null,
      "margin": null,
      "max_height": null,
      "max_width": null,
      "min_height": null,
      "min_width": null,
      "object_fit": null,
      "object_position": null,
      "order": null,
      "overflow": null,
      "overflow_x": null,
      "overflow_y": null,
      "padding": null,
      "right": null,
      "top": null,
      "visibility": null,
      "width": null
     }
    },
    "8da4577518b844c6b8dd61e6d537b8bb": {
     "model_module": "@jupyter-widgets/base",
     "model_name": "LayoutModel",
     "state": {
      "_model_module": "@jupyter-widgets/base",
      "_model_module_version": "1.2.0",
      "_model_name": "LayoutModel",
      "_view_count": null,
      "_view_module": "@jupyter-widgets/base",
      "_view_module_version": "1.2.0",
      "_view_name": "LayoutView",
      "align_content": null,
      "align_items": null,
      "align_self": null,
      "border": null,
      "bottom": null,
      "display": null,
      "flex": null,
      "flex_flow": null,
      "grid_area": null,
      "grid_auto_columns": null,
      "grid_auto_flow": null,
      "grid_auto_rows": null,
      "grid_column": null,
      "grid_gap": null,
      "grid_row": null,
      "grid_template_areas": null,
      "grid_template_columns": null,
      "grid_template_rows": null,
      "height": null,
      "justify_content": null,
      "justify_items": null,
      "left": null,
      "margin": null,
      "max_height": null,
      "max_width": null,
      "min_height": null,
      "min_width": null,
      "object_fit": null,
      "object_position": null,
      "order": null,
      "overflow": null,
      "overflow_x": null,
      "overflow_y": null,
      "padding": null,
      "right": null,
      "top": null,
      "visibility": null,
      "width": null
     }
    },
    "8e6d32bacd604925ae34d1778dd86558": {
     "model_module": "@jupyter-widgets/controls",
     "model_name": "FloatProgressModel",
     "state": {
      "_dom_classes": [],
      "_model_module": "@jupyter-widgets/controls",
      "_model_module_version": "1.5.0",
      "_model_name": "FloatProgressModel",
      "_view_count": null,
      "_view_module": "@jupyter-widgets/controls",
      "_view_module_version": "1.5.0",
      "_view_name": "ProgressView",
      "bar_style": "",
      "description": "",
      "description_tooltip": null,
      "layout": "IPY_MODEL_484c9b43cd6044679ed14d38fdf51cea",
      "max": 48,
      "min": 0,
      "orientation": "horizontal",
      "style": "IPY_MODEL_ce8dd5f4d0014d2ab977309cef6dca10",
      "value": 48
     }
    },
    "8eca5fa253f943eabcbf5d45bdb36426": {
     "model_module": "@jupyter-widgets/controls",
     "model_name": "DescriptionStyleModel",
     "state": {
      "_model_module": "@jupyter-widgets/controls",
      "_model_module_version": "1.5.0",
      "_model_name": "DescriptionStyleModel",
      "_view_count": null,
      "_view_module": "@jupyter-widgets/base",
      "_view_module_version": "1.2.0",
      "_view_name": "StyleView",
      "description_width": ""
     }
    },
    "8eeb3bca0a064d7b85a5675bc7fa9d5f": {
     "model_module": "@jupyter-widgets/controls",
     "model_name": "HBoxModel",
     "state": {
      "_dom_classes": [],
      "_model_module": "@jupyter-widgets/controls",
      "_model_module_version": "1.5.0",
      "_model_name": "HBoxModel",
      "_view_count": null,
      "_view_module": "@jupyter-widgets/controls",
      "_view_module_version": "1.5.0",
      "_view_name": "HBoxView",
      "box_style": "",
      "children": [
       "IPY_MODEL_9e7856ef51c0492ca816ecc5ee2b358f",
       "IPY_MODEL_0feafbf7c5f74aa784cfc37142758e0a"
      ],
      "layout": "IPY_MODEL_be72aabf124a482e8a38c1e07c2faf03"
     }
    },
    "90578b5699b54ffbbbc2548da04cf4a0": {
     "model_module": "@jupyter-widgets/controls",
     "model_name": "HTMLModel",
     "state": {
      "_dom_classes": [],
      "_model_module": "@jupyter-widgets/controls",
      "_model_module_version": "1.5.0",
      "_model_name": "HTMLModel",
      "_view_count": null,
      "_view_module": "@jupyter-widgets/controls",
      "_view_module_version": "1.5.0",
      "_view_name": "HTMLView",
      "description": "",
      "description_tooltip": null,
      "layout": "IPY_MODEL_f77cfae378944675899990ea80e1c9c9",
      "placeholder": "​",
      "style": "IPY_MODEL_4dbae7ab498742018abee10fb4bdc5e6",
      "value": " 232k/232k [00:00&lt;00:00, 798kB/s]"
     }
    },
    "92c26b5de3bd4490a7db6a30807fc78f": {
     "model_module": "@jupyter-widgets/controls",
     "model_name": "FloatProgressModel",
     "state": {
      "_dom_classes": [],
      "_model_module": "@jupyter-widgets/controls",
      "_model_module_version": "1.5.0",
      "_model_name": "FloatProgressModel",
      "_view_count": null,
      "_view_module": "@jupyter-widgets/controls",
      "_view_module_version": "1.5.0",
      "_view_name": "ProgressView",
      "bar_style": "",
      "description": "",
      "description_tooltip": null,
      "layout": "IPY_MODEL_5a5ef3bfd9e444a7a8158f3cf6afb39b",
      "max": 48,
      "min": 0,
      "orientation": "horizontal",
      "style": "IPY_MODEL_04a0ac5d360a4fff9c28d247fddcc8a0",
      "value": 48
     }
    },
    "97ff5580f54f4e72afeda4e31151e17d": {
     "model_module": "@jupyter-widgets/base",
     "model_name": "LayoutModel",
     "state": {
      "_model_module": "@jupyter-widgets/base",
      "_model_module_version": "1.2.0",
      "_model_name": "LayoutModel",
      "_view_count": null,
      "_view_module": "@jupyter-widgets/base",
      "_view_module_version": "1.2.0",
      "_view_name": "LayoutView",
      "align_content": null,
      "align_items": null,
      "align_self": null,
      "border": null,
      "bottom": null,
      "display": null,
      "flex": null,
      "flex_flow": null,
      "grid_area": null,
      "grid_auto_columns": null,
      "grid_auto_flow": null,
      "grid_auto_rows": null,
      "grid_column": null,
      "grid_gap": null,
      "grid_row": null,
      "grid_template_areas": null,
      "grid_template_columns": null,
      "grid_template_rows": null,
      "height": null,
      "justify_content": null,
      "justify_items": null,
      "left": null,
      "margin": null,
      "max_height": null,
      "max_width": null,
      "min_height": null,
      "min_width": null,
      "object_fit": null,
      "object_position": null,
      "order": null,
      "overflow": null,
      "overflow_x": null,
      "overflow_y": null,
      "padding": null,
      "right": null,
      "top": null,
      "visibility": null,
      "width": null
     }
    },
    "9ac0263b0896421ebb25d18509ffc936": {
     "model_module": "@jupyter-widgets/controls",
     "model_name": "HTMLModel",
     "state": {
      "_dom_classes": [],
      "_model_module": "@jupyter-widgets/controls",
      "_model_module_version": "1.5.0",
      "_model_name": "HTMLModel",
      "_view_count": null,
      "_view_module": "@jupyter-widgets/controls",
      "_view_module_version": "1.5.0",
      "_view_name": "HTMLView",
      "description": "",
      "description_tooltip": null,
      "layout": "IPY_MODEL_84b65b4affe14908bde76817733dfd67",
      "placeholder": "​",
      "style": "IPY_MODEL_a8940c6f0c424125bcd50b590bf8e0cf",
      "value": " 54/? [00:06&lt;00:00,  5.51it/s]"
     }
    },
    "9e7856ef51c0492ca816ecc5ee2b358f": {
     "model_module": "@jupyter-widgets/controls",
     "model_name": "FloatProgressModel",
     "state": {
      "_dom_classes": [],
      "_model_module": "@jupyter-widgets/controls",
      "_model_module_version": "1.5.0",
      "_model_name": "FloatProgressModel",
      "_view_count": null,
      "_view_module": "@jupyter-widgets/controls",
      "_view_module_version": "1.5.0",
      "_view_name": "ProgressView",
      "bar_style": "info",
      "description": "",
      "description_tooltip": null,
      "layout": "IPY_MODEL_7932c878195542fa926ba86c23cd8829",
      "max": 1,
      "min": 0,
      "orientation": "horizontal",
      "style": "IPY_MODEL_3cd6a856c6a84bac81aa0287f2afa0df",
      "value": 1
     }
    },
    "a0c0c0b4fad2491a90e1e6773a720c4b": {
     "model_module": "@jupyter-widgets/controls",
     "model_name": "FloatProgressModel",
     "state": {
      "_dom_classes": [],
      "_model_module": "@jupyter-widgets/controls",
      "_model_module_version": "1.5.0",
      "_model_name": "FloatProgressModel",
      "_view_count": null,
      "_view_module": "@jupyter-widgets/controls",
      "_view_module_version": "1.5.0",
      "_view_name": "ProgressView",
      "bar_style": "success",
      "description": "Downloading: ",
      "description_tooltip": null,
      "layout": "IPY_MODEL_afe1caa2d1604b3a959e2c5b1da0a355",
      "max": 751209,
      "min": 0,
      "orientation": "horizontal",
      "style": "IPY_MODEL_2f293ebf451447a4bb48aaa449d48ced",
      "value": 751209
     }
    },
    "a1b3e8316d3b431e938bdf5e3f3192e6": {
     "model_module": "@jupyter-widgets/controls",
     "model_name": "HBoxModel",
     "state": {
      "_dom_classes": [],
      "_model_module": "@jupyter-widgets/controls",
      "_model_module_version": "1.5.0",
      "_model_name": "HBoxModel",
      "_view_count": null,
      "_view_module": "@jupyter-widgets/controls",
      "_view_module_version": "1.5.0",
      "_view_name": "HBoxView",
      "box_style": "",
      "children": [
       "IPY_MODEL_6c25a88bd2784c7196d22e570b7c420d",
       "IPY_MODEL_9ac0263b0896421ebb25d18509ffc936"
      ],
      "layout": "IPY_MODEL_a1e4b25e7738486aa33ed06aae85f3cc"
     }
    },
    "a1e4b25e7738486aa33ed06aae85f3cc": {
     "model_module": "@jupyter-widgets/base",
     "model_name": "LayoutModel",
     "state": {
      "_model_module": "@jupyter-widgets/base",
      "_model_module_version": "1.2.0",
      "_model_name": "LayoutModel",
      "_view_count": null,
      "_view_module": "@jupyter-widgets/base",
      "_view_module_version": "1.2.0",
      "_view_name": "LayoutView",
      "align_content": null,
      "align_items": null,
      "align_self": null,
      "border": null,
      "bottom": null,
      "display": null,
      "flex": null,
      "flex_flow": null,
      "grid_area": null,
      "grid_auto_columns": null,
      "grid_auto_flow": null,
      "grid_auto_rows": null,
      "grid_column": null,
      "grid_gap": null,
      "grid_row": null,
      "grid_template_areas": null,
      "grid_template_columns": null,
      "grid_template_rows": null,
      "height": null,
      "justify_content": null,
      "justify_items": null,
      "left": null,
      "margin": null,
      "max_height": null,
      "max_width": null,
      "min_height": null,
      "min_width": null,
      "object_fit": null,
      "object_position": null,
      "order": null,
      "overflow": null,
      "overflow_x": null,
      "overflow_y": null,
      "padding": null,
      "right": null,
      "top": null,
      "visibility": null,
      "width": null
     }
    },
    "a55474312ac9452095ab6194fc8f7a35": {
     "model_module": "@jupyter-widgets/controls",
     "model_name": "DescriptionStyleModel",
     "state": {
      "_model_module": "@jupyter-widgets/controls",
      "_model_module_version": "1.5.0",
      "_model_name": "DescriptionStyleModel",
      "_view_count": null,
      "_view_module": "@jupyter-widgets/base",
      "_view_module_version": "1.2.0",
      "_view_name": "StyleView",
      "description_width": ""
     }
    },
    "a8940c6f0c424125bcd50b590bf8e0cf": {
     "model_module": "@jupyter-widgets/controls",
     "model_name": "DescriptionStyleModel",
     "state": {
      "_model_module": "@jupyter-widgets/controls",
      "_model_module_version": "1.5.0",
      "_model_name": "DescriptionStyleModel",
      "_view_count": null,
      "_view_module": "@jupyter-widgets/base",
      "_view_module_version": "1.2.0",
      "_view_name": "StyleView",
      "description_width": ""
     }
    },
    "af3e3da2b1864b77b15883d9fa8adfe4": {
     "model_module": "@jupyter-widgets/base",
     "model_name": "LayoutModel",
     "state": {
      "_model_module": "@jupyter-widgets/base",
      "_model_module_version": "1.2.0",
      "_model_name": "LayoutModel",
      "_view_count": null,
      "_view_module": "@jupyter-widgets/base",
      "_view_module_version": "1.2.0",
      "_view_name": "LayoutView",
      "align_content": null,
      "align_items": null,
      "align_self": null,
      "border": null,
      "bottom": null,
      "display": null,
      "flex": null,
      "flex_flow": null,
      "grid_area": null,
      "grid_auto_columns": null,
      "grid_auto_flow": null,
      "grid_auto_rows": null,
      "grid_column": null,
      "grid_gap": null,
      "grid_row": null,
      "grid_template_areas": null,
      "grid_template_columns": null,
      "grid_template_rows": null,
      "height": null,
      "justify_content": null,
      "justify_items": null,
      "left": null,
      "margin": null,
      "max_height": null,
      "max_width": null,
      "min_height": null,
      "min_width": null,
      "object_fit": null,
      "object_position": null,
      "order": null,
      "overflow": null,
      "overflow_x": null,
      "overflow_y": null,
      "padding": null,
      "right": null,
      "top": null,
      "visibility": null,
      "width": null
     }
    },
    "afe1caa2d1604b3a959e2c5b1da0a355": {
     "model_module": "@jupyter-widgets/base",
     "model_name": "LayoutModel",
     "state": {
      "_model_module": "@jupyter-widgets/base",
      "_model_module_version": "1.2.0",
      "_model_name": "LayoutModel",
      "_view_count": null,
      "_view_module": "@jupyter-widgets/base",
      "_view_module_version": "1.2.0",
      "_view_name": "LayoutView",
      "align_content": null,
      "align_items": null,
      "align_self": null,
      "border": null,
      "bottom": null,
      "display": null,
      "flex": null,
      "flex_flow": null,
      "grid_area": null,
      "grid_auto_columns": null,
      "grid_auto_flow": null,
      "grid_auto_rows": null,
      "grid_column": null,
      "grid_gap": null,
      "grid_row": null,
      "grid_template_areas": null,
      "grid_template_columns": null,
      "grid_template_rows": null,
      "height": null,
      "justify_content": null,
      "justify_items": null,
      "left": null,
      "margin": null,
      "max_height": null,
      "max_width": null,
      "min_height": null,
      "min_width": null,
      "object_fit": null,
      "object_position": null,
      "order": null,
      "overflow": null,
      "overflow_x": null,
      "overflow_y": null,
      "padding": null,
      "right": null,
      "top": null,
      "visibility": null,
      "width": null
     }
    },
    "b8ab522d3421469193520b9c91117021": {
     "model_module": "@jupyter-widgets/base",
     "model_name": "LayoutModel",
     "state": {
      "_model_module": "@jupyter-widgets/base",
      "_model_module_version": "1.2.0",
      "_model_name": "LayoutModel",
      "_view_count": null,
      "_view_module": "@jupyter-widgets/base",
      "_view_module_version": "1.2.0",
      "_view_name": "LayoutView",
      "align_content": null,
      "align_items": null,
      "align_self": null,
      "border": null,
      "bottom": null,
      "display": null,
      "flex": null,
      "flex_flow": null,
      "grid_area": null,
      "grid_auto_columns": null,
      "grid_auto_flow": null,
      "grid_auto_rows": null,
      "grid_column": null,
      "grid_gap": null,
      "grid_row": null,
      "grid_template_areas": null,
      "grid_template_columns": null,
      "grid_template_rows": null,
      "height": null,
      "justify_content": null,
      "justify_items": null,
      "left": null,
      "margin": null,
      "max_height": null,
      "max_width": null,
      "min_height": null,
      "min_width": null,
      "object_fit": null,
      "object_position": null,
      "order": null,
      "overflow": null,
      "overflow_x": null,
      "overflow_y": null,
      "padding": null,
      "right": null,
      "top": null,
      "visibility": null,
      "width": null
     }
    },
    "be72aabf124a482e8a38c1e07c2faf03": {
     "model_module": "@jupyter-widgets/base",
     "model_name": "LayoutModel",
     "state": {
      "_model_module": "@jupyter-widgets/base",
      "_model_module_version": "1.2.0",
      "_model_name": "LayoutModel",
      "_view_count": null,
      "_view_module": "@jupyter-widgets/base",
      "_view_module_version": "1.2.0",
      "_view_name": "LayoutView",
      "align_content": null,
      "align_items": null,
      "align_self": null,
      "border": null,
      "bottom": null,
      "display": null,
      "flex": null,
      "flex_flow": null,
      "grid_area": null,
      "grid_auto_columns": null,
      "grid_auto_flow": null,
      "grid_auto_rows": null,
      "grid_column": null,
      "grid_gap": null,
      "grid_row": null,
      "grid_template_areas": null,
      "grid_template_columns": null,
      "grid_template_rows": null,
      "height": null,
      "justify_content": null,
      "justify_items": null,
      "left": null,
      "margin": null,
      "max_height": null,
      "max_width": null,
      "min_height": null,
      "min_width": null,
      "object_fit": null,
      "object_position": null,
      "order": null,
      "overflow": null,
      "overflow_x": null,
      "overflow_y": null,
      "padding": null,
      "right": null,
      "top": null,
      "visibility": null,
      "width": null
     }
    },
    "c39eb45ef3bc473fa8b2f9623cc654b9": {
     "model_module": "@jupyter-widgets/controls",
     "model_name": "HTMLModel",
     "state": {
      "_dom_classes": [],
      "_model_module": "@jupyter-widgets/controls",
      "_model_module_version": "1.5.0",
      "_model_name": "HTMLModel",
      "_view_count": null,
      "_view_module": "@jupyter-widgets/controls",
      "_view_module_version": "1.5.0",
      "_view_name": "HTMLView",
      "description": "",
      "description_tooltip": null,
      "layout": "IPY_MODEL_f8cfab9c5f1e433d9ea1788995adad6a",
      "placeholder": "​",
      "style": "IPY_MODEL_4981d5992ad44e48a525f5462e958a13",
      "value": " 120000/0 [00:04&lt;00:00, 19843.43 examples/s]"
     }
    },
    "c76ad19c147a41ffa2d06f020a0ed1f6": {
     "model_module": "@jupyter-widgets/base",
     "model_name": "LayoutModel",
     "state": {
      "_model_module": "@jupyter-widgets/base",
      "_model_module_version": "1.2.0",
      "_model_name": "LayoutModel",
      "_view_count": null,
      "_view_module": "@jupyter-widgets/base",
      "_view_module_version": "1.2.0",
      "_view_name": "LayoutView",
      "align_content": null,
      "align_items": null,
      "align_self": null,
      "border": null,
      "bottom": null,
      "display": null,
      "flex": null,
      "flex_flow": null,
      "grid_area": null,
      "grid_auto_columns": null,
      "grid_auto_flow": null,
      "grid_auto_rows": null,
      "grid_column": null,
      "grid_gap": null,
      "grid_row": null,
      "grid_template_areas": null,
      "grid_template_columns": null,
      "grid_template_rows": null,
      "height": null,
      "justify_content": null,
      "justify_items": null,
      "left": null,
      "margin": null,
      "max_height": null,
      "max_width": null,
      "min_height": null,
      "min_width": null,
      "object_fit": null,
      "object_position": null,
      "order": null,
      "overflow": null,
      "overflow_x": null,
      "overflow_y": null,
      "padding": null,
      "right": null,
      "top": null,
      "visibility": null,
      "width": null
     }
    },
    "c9ca6d9d06f24b8c903abc4fe42472cc": {
     "model_module": "@jupyter-widgets/controls",
     "model_name": "HTMLModel",
     "state": {
      "_dom_classes": [],
      "_model_module": "@jupyter-widgets/controls",
      "_model_module_version": "1.5.0",
      "_model_name": "HTMLModel",
      "_view_count": null,
      "_view_module": "@jupyter-widgets/controls",
      "_view_module_version": "1.5.0",
      "_view_name": "HTMLView",
      "description": "",
      "description_tooltip": null,
      "layout": "IPY_MODEL_3a04f7e489114066a9d57c44f539e97c",
      "placeholder": "​",
      "style": "IPY_MODEL_490c2a7e0a7c4a87ade4b4ec62202698",
      "value": " 1.86M/? [00:00&lt;00:00, 11.6MB/s]"
     }
    },
    "c9eaadb56d3549edacbc4233bbd27758": {
     "model_module": "@jupyter-widgets/controls",
     "model_name": "HBoxModel",
     "state": {
      "_dom_classes": [],
      "_model_module": "@jupyter-widgets/controls",
      "_model_module_version": "1.5.0",
      "_model_name": "HBoxModel",
      "_view_count": null,
      "_view_module": "@jupyter-widgets/controls",
      "_view_module_version": "1.5.0",
      "_view_name": "HBoxView",
      "box_style": "",
      "children": [
       "IPY_MODEL_212ee5b8fece4c019a0cc9cbcda28fb2",
       "IPY_MODEL_c39eb45ef3bc473fa8b2f9623cc654b9"
      ],
      "layout": "IPY_MODEL_776ff67046f945a9b00c48f538eeecc2"
     }
    },
    "cb9ef41438464114bd6aa05615bf0d69": {
     "model_module": "@jupyter-widgets/base",
     "model_name": "LayoutModel",
     "state": {
      "_model_module": "@jupyter-widgets/base",
      "_model_module_version": "1.2.0",
      "_model_name": "LayoutModel",
      "_view_count": null,
      "_view_module": "@jupyter-widgets/base",
      "_view_module_version": "1.2.0",
      "_view_name": "LayoutView",
      "align_content": null,
      "align_items": null,
      "align_self": null,
      "border": null,
      "bottom": null,
      "display": null,
      "flex": null,
      "flex_flow": null,
      "grid_area": null,
      "grid_auto_columns": null,
      "grid_auto_flow": null,
      "grid_auto_rows": null,
      "grid_column": null,
      "grid_gap": null,
      "grid_row": null,
      "grid_template_areas": null,
      "grid_template_columns": null,
      "grid_template_rows": null,
      "height": null,
      "justify_content": null,
      "justify_items": null,
      "left": null,
      "margin": null,
      "max_height": null,
      "max_width": null,
      "min_height": null,
      "min_width": null,
      "object_fit": null,
      "object_position": null,
      "order": null,
      "overflow": null,
      "overflow_x": null,
      "overflow_y": null,
      "padding": null,
      "right": null,
      "top": null,
      "visibility": null,
      "width": null
     }
    },
    "ce8dd5f4d0014d2ab977309cef6dca10": {
     "model_module": "@jupyter-widgets/controls",
     "model_name": "ProgressStyleModel",
     "state": {
      "_model_module": "@jupyter-widgets/controls",
      "_model_module_version": "1.5.0",
      "_model_name": "ProgressStyleModel",
      "_view_count": null,
      "_view_module": "@jupyter-widgets/base",
      "_view_module_version": "1.2.0",
      "_view_name": "StyleView",
      "bar_color": null,
      "description_width": "initial"
     }
    },
    "d3a9a11ad9394e0ca5169a5160cf8b31": {
     "model_module": "@jupyter-widgets/controls",
     "model_name": "ProgressStyleModel",
     "state": {
      "_model_module": "@jupyter-widgets/controls",
      "_model_module_version": "1.5.0",
      "_model_name": "ProgressStyleModel",
      "_view_count": null,
      "_view_module": "@jupyter-widgets/base",
      "_view_module_version": "1.2.0",
      "_view_name": "StyleView",
      "bar_color": null,
      "description_width": "initial"
     }
    },
    "d6dc9cfc277c422aa1d90555724b6266": {
     "model_module": "@jupyter-widgets/controls",
     "model_name": "HBoxModel",
     "state": {
      "_dom_classes": [],
      "_model_module": "@jupyter-widgets/controls",
      "_model_module_version": "1.5.0",
      "_model_name": "HBoxModel",
      "_view_count": null,
      "_view_module": "@jupyter-widgets/controls",
      "_view_module_version": "1.5.0",
      "_view_name": "HBoxView",
      "box_style": "",
      "children": [
       "IPY_MODEL_f5d3208424c94768b2f37c6e2b32d213",
       "IPY_MODEL_2d5721753b1044ae9c7c6e4528ba9d83"
      ],
      "layout": "IPY_MODEL_8da4577518b844c6b8dd61e6d537b8bb"
     }
    },
    "de10f4b566cd45e1ba2a3b8443217a88": {
     "model_module": "@jupyter-widgets/controls",
     "model_name": "FloatProgressModel",
     "state": {
      "_dom_classes": [],
      "_model_module": "@jupyter-widgets/controls",
      "_model_module_version": "1.5.0",
      "_model_name": "FloatProgressModel",
      "_view_count": null,
      "_view_module": "@jupyter-widgets/controls",
      "_view_module_version": "1.5.0",
      "_view_name": "ProgressView",
      "bar_style": "",
      "description": "",
      "description_tooltip": null,
      "layout": "IPY_MODEL_97ff5580f54f4e72afeda4e31151e17d",
      "max": 48,
      "min": 0,
      "orientation": "horizontal",
      "style": "IPY_MODEL_5c00190cc7294edeafa5454daa18afa5",
      "value": 48
     }
    },
    "e0f1019dfdb146dabd5b9c436d2947cf": {
     "model_module": "@jupyter-widgets/controls",
     "model_name": "DescriptionStyleModel",
     "state": {
      "_model_module": "@jupyter-widgets/controls",
      "_model_module_version": "1.5.0",
      "_model_name": "DescriptionStyleModel",
      "_view_count": null,
      "_view_module": "@jupyter-widgets/base",
      "_view_module_version": "1.2.0",
      "_view_name": "StyleView",
      "description_width": ""
     }
    },
    "e3243b1dd78145d9a0a1f36d0a4a28d1": {
     "model_module": "@jupyter-widgets/controls",
     "model_name": "HBoxModel",
     "state": {
      "_dom_classes": [],
      "_model_module": "@jupyter-widgets/controls",
      "_model_module_version": "1.5.0",
      "_model_name": "HBoxModel",
      "_view_count": null,
      "_view_module": "@jupyter-widgets/controls",
      "_view_module_version": "1.5.0",
      "_view_name": "HBoxView",
      "box_style": "",
      "children": [
       "IPY_MODEL_8e6d32bacd604925ae34d1778dd86558",
       "IPY_MODEL_26ffaa6ea2a841d68281e0b507baa9fe"
      ],
      "layout": "IPY_MODEL_6d431d96bf284215bbf9d6e9698b5528"
     }
    },
    "e4742e9fed7b4bca8f183e444471b5c5": {
     "model_module": "@jupyter-widgets/controls",
     "model_name": "DescriptionStyleModel",
     "state": {
      "_model_module": "@jupyter-widgets/controls",
      "_model_module_version": "1.5.0",
      "_model_name": "DescriptionStyleModel",
      "_view_count": null,
      "_view_module": "@jupyter-widgets/base",
      "_view_module_version": "1.2.0",
      "_view_name": "StyleView",
      "description_width": ""
     }
    },
    "ebb64d375ded4bb3af0dcc16b0202543": {
     "model_module": "@jupyter-widgets/controls",
     "model_name": "ProgressStyleModel",
     "state": {
      "_model_module": "@jupyter-widgets/controls",
      "_model_module_version": "1.5.0",
      "_model_name": "ProgressStyleModel",
      "_view_count": null,
      "_view_module": "@jupyter-widgets/base",
      "_view_module_version": "1.2.0",
      "_view_name": "StyleView",
      "bar_color": null,
      "description_width": "initial"
     }
    },
    "f5d3208424c94768b2f37c6e2b32d213": {
     "model_module": "@jupyter-widgets/controls",
     "model_name": "FloatProgressModel",
     "state": {
      "_dom_classes": [],
      "_model_module": "@jupyter-widgets/controls",
      "_model_module_version": "1.5.0",
      "_model_name": "FloatProgressModel",
      "_view_count": null,
      "_view_module": "@jupyter-widgets/controls",
      "_view_module_version": "1.5.0",
      "_view_name": "ProgressView",
      "bar_style": "success",
      "description": "Downloading: ",
      "description_tooltip": null,
      "layout": "IPY_MODEL_5fb81aa419c2410ea4a77617896be4d0",
      "max": 11045148,
      "min": 0,
      "orientation": "horizontal",
      "style": "IPY_MODEL_38832887ec424661a446c0a05c5abfeb",
      "value": 11045148
     }
    },
    "f77cfae378944675899990ea80e1c9c9": {
     "model_module": "@jupyter-widgets/base",
     "model_name": "LayoutModel",
     "state": {
      "_model_module": "@jupyter-widgets/base",
      "_model_module_version": "1.2.0",
      "_model_name": "LayoutModel",
      "_view_count": null,
      "_view_module": "@jupyter-widgets/base",
      "_view_module_version": "1.2.0",
      "_view_name": "LayoutView",
      "align_content": null,
      "align_items": null,
      "align_self": null,
      "border": null,
      "bottom": null,
      "display": null,
      "flex": null,
      "flex_flow": null,
      "grid_area": null,
      "grid_auto_columns": null,
      "grid_auto_flow": null,
      "grid_auto_rows": null,
      "grid_column": null,
      "grid_gap": null,
      "grid_row": null,
      "grid_template_areas": null,
      "grid_template_columns": null,
      "grid_template_rows": null,
      "height": null,
      "justify_content": null,
      "justify_items": null,
      "left": null,
      "margin": null,
      "max_height": null,
      "max_width": null,
      "min_height": null,
      "min_width": null,
      "object_fit": null,
      "object_position": null,
      "order": null,
      "overflow": null,
      "overflow_x": null,
      "overflow_y": null,
      "padding": null,
      "right": null,
      "top": null,
      "visibility": null,
      "width": null
     }
    },
    "f8991862089142b78f544c47a710d188": {
     "model_module": "@jupyter-widgets/controls",
     "model_name": "HTMLModel",
     "state": {
      "_dom_classes": [],
      "_model_module": "@jupyter-widgets/controls",
      "_model_module_version": "1.5.0",
      "_model_name": "HTMLModel",
      "_view_count": null,
      "_view_module": "@jupyter-widgets/controls",
      "_view_module_version": "1.5.0",
      "_view_name": "HTMLView",
      "description": "",
      "description_tooltip": null,
      "layout": "IPY_MODEL_31df4705c0c94a9a9d969ff8cef100f8",
      "placeholder": "​",
      "style": "IPY_MODEL_8eca5fa253f943eabcbf5d45bdb36426",
      "value": " 54/? [00:06&lt;00:00,  5.52it/s]"
     }
    },
    "f8cfab9c5f1e433d9ea1788995adad6a": {
     "model_module": "@jupyter-widgets/base",
     "model_name": "LayoutModel",
     "state": {
      "_model_module": "@jupyter-widgets/base",
      "_model_module_version": "1.2.0",
      "_model_name": "LayoutModel",
      "_view_count": null,
      "_view_module": "@jupyter-widgets/base",
      "_view_module_version": "1.2.0",
      "_view_name": "LayoutView",
      "align_content": null,
      "align_items": null,
      "align_self": null,
      "border": null,
      "bottom": null,
      "display": null,
      "flex": null,
      "flex_flow": null,
      "grid_area": null,
      "grid_auto_columns": null,
      "grid_auto_flow": null,
      "grid_auto_rows": null,
      "grid_column": null,
      "grid_gap": null,
      "grid_row": null,
      "grid_template_areas": null,
      "grid_template_columns": null,
      "grid_template_rows": null,
      "height": null,
      "justify_content": null,
      "justify_items": null,
      "left": null,
      "margin": null,
      "max_height": null,
      "max_width": null,
      "min_height": null,
      "min_width": null,
      "object_fit": null,
      "object_position": null,
      "order": null,
      "overflow": null,
      "overflow_x": null,
      "overflow_y": null,
      "padding": null,
      "right": null,
      "top": null,
      "visibility": null,
      "width": null
     }
    }
   }
  }
 },
 "nbformat": 4,
 "nbformat_minor": 1
}
