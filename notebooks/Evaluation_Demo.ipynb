{
 "cells": [
  {
   "cell_type": "markdown",
   "metadata": {},
   "source": [
    "# Set-up"
   ]
  },
  {
   "cell_type": "code",
   "execution_count": 1,
   "metadata": {},
   "outputs": [],
   "source": [
    "import os\n",
    "os.chdir('..')"
   ]
  },
  {
   "cell_type": "code",
   "execution_count": 2,
   "metadata": {
    "colab": {
     "base_uri": "https://localhost:8080/"
    },
    "id": "9aQy_sLmTHTC",
    "outputId": "f5422a80-be93-4a1a-9f11-562075ca6e23"
   },
   "outputs": [],
   "source": [
    "import spacy\n",
    "nlp = spacy.load('en_core_web_sm')\n",
    "\n",
    "import random\n",
    "\n",
    "import pandas as pd\n",
    "import numpy as np\n",
    "import scipy as sp\n",
    "import importlib\n",
    "import torch\n",
    "import spacy\n",
    "from torch.utils.data import \\\n",
    "    TensorDataset, \\\n",
    "    DataLoader\n",
    "from transformers import \\\n",
    "    BertTokenizer, \\\n",
    "    BertForSequenceClassification, \\\n",
    "    AdamW, \\\n",
    "    BertConfig, \\\n",
    "    get_linear_schedule_with_warmup\n",
    "\n",
    "import allennlp\n",
    "import allennlp_models\n",
    "from allennlp.models.archival import load_archive\n",
    "from allennlp.common.util import JsonDict\n",
    "from allennlp.data import Instance\n",
    "from allennlp.predictors.predictor import Predictor\n",
    "from allennlp.data.fields import LabelField\n",
    "from allennlp.data.tokenizers.spacy_tokenizer import SpacyTokenizer\n",
    "from typing import List, Dict\n",
    "from overrides import overrides\n",
    "\n",
    "from scipy.stats import kendalltau\n",
    "from scipy.stats import spearmanr\n",
    "\n",
    "from copy import deepcopy\n",
    "\n",
    "import html\n",
    "import random\n",
    "from IPython.core.display import display, HTML"
   ]
  },
  {
   "cell_type": "code",
   "execution_count": 3,
   "metadata": {},
   "outputs": [
    {
     "name": "stdout",
     "output_type": "stream",
     "text": [
      "ignoring warnings from spacy\n"
     ]
    }
   ],
   "source": [
    "import sys\n",
    "project_root_dir = os.path.relpath(os.path.join('..', '..'), os.curdir)\n",
    "if project_root_dir not in sys.path:\n",
    "    sys.path += [project_root_dir]\n",
    "from src.data.dataload import *\n",
    "from src.models.bcnmodel import *"
   ]
  },
  {
   "cell_type": "code",
   "execution_count": 4,
   "metadata": {
    "id": "ireH6j46-_wy"
   },
   "outputs": [],
   "source": [
    "device = torch.device(\"cuda:0\" if torch.cuda.is_available() else \"cpu\")"
   ]
  },
  {
   "cell_type": "markdown",
   "metadata": {},
   "source": [
    "## Loading data"
   ]
  },
  {
   "cell_type": "code",
   "execution_count": 5,
   "metadata": {},
   "outputs": [],
   "source": [
    "import src.data.dataload\n",
    "\n",
    "sst = load_sst()\n",
    "agnews = load_agnews()\n",
    "\n",
    "input_data = {'sst': sst, 'agnews': agnews}\n",
    "datasets = list(input_data.keys())"
   ]
  },
  {
   "cell_type": "code",
   "execution_count": 6,
   "metadata": {},
   "outputs": [
    {
     "name": "stderr",
     "output_type": "stream",
     "text": [
      "Using custom data configuration default\n",
      "Reusing dataset ag_news (/Users/olivier/.cache/huggingface/datasets/ag_news/default/0.0.0/17ec33e23df9e89565131f989e0fdf78b0cc4672337b582da83fc3c9f79fe34d)\n"
     ]
    }
   ],
   "source": [
    "train = {}\n",
    "dev = {}\n",
    "test = {}\n",
    "\n",
    "for dataset in datasets:\n",
    "    train[dataset], dev[dataset], test[dataset] = input_data[dataset].train_val_test"
   ]
  },
  {
   "cell_type": "code",
   "execution_count": 7,
   "metadata": {},
   "outputs": [],
   "source": [
    "subset = deepcopy(test['agnews'][:300])"
   ]
  },
  {
   "cell_type": "markdown",
   "metadata": {},
   "source": [
    "## Loading explainers"
   ]
  },
  {
   "cell_type": "code",
   "execution_count": 8,
   "metadata": {},
   "outputs": [],
   "source": [
    "import explainers_functions\n",
    "from explainers_functions import *"
   ]
  },
  {
   "cell_type": "code",
   "execution_count": 9,
   "metadata": {},
   "outputs": [],
   "source": [
    "# importlib.reload(explainers_functions)"
   ]
  },
  {
   "cell_type": "markdown",
   "metadata": {},
   "source": [
    "## Loading perturbations"
   ]
  },
  {
   "cell_type": "code",
   "execution_count": 10,
   "metadata": {},
   "outputs": [
    {
     "data": {
      "text/plain": [
       "'/Volumes/LaCie/GitHubNLP/ucl-nlp-group-project'"
      ]
     },
     "execution_count": 10,
     "metadata": {},
     "output_type": "execute_result"
    }
   ],
   "source": [
    "os.getcwd()"
   ]
  },
  {
   "cell_type": "code",
   "execution_count": 11,
   "metadata": {},
   "outputs": [],
   "source": [
    "from src.data.perturbations import add_perturbations\n",
    "from src.data.perturbations import \\\n",
    "    remove_commas, \\\n",
    "    remove_all_punctuation, \\\n",
    "    switch_gender, \\\n",
    "    strip_trailing_punct, \\\n",
    "    add_typo, \\\n",
    "    change_first_name, \\\n",
    "    change_last_name, \\\n",
    "    change_location, \\\n",
    "    contraction, \\\n",
    "    swap_adjectives"
   ]
  },
  {
   "cell_type": "code",
   "execution_count": 12,
   "metadata": {},
   "outputs": [],
   "source": [
    "tokenizer = SpacyTokenizer()"
   ]
  },
  {
   "cell_type": "code",
   "execution_count": 13,
   "metadata": {},
   "outputs": [],
   "source": [
    "train_perturbations = add_perturbations(\n",
    "    df=subset,\n",
    "    tokenizer=tokenizer,\n",
    "    sentence_col_name='sentence', \n",
    "    perturbation_functions=[\n",
    "        remove_commas,\n",
    "        remove_all_punctuation,\n",
    "        switch_gender,\n",
    "        strip_trailing_punct,\n",
    "        add_typo,\n",
    "        change_first_name,\n",
    "        change_last_name,\n",
    "        change_location,\n",
    "        contraction,\n",
    "        swap_adjectives\n",
    "    ]\n",
    ")"
   ]
  },
  {
   "cell_type": "code",
   "execution_count": 14,
   "metadata": {},
   "outputs": [],
   "source": [
    "perturbation_reduction = ['strip_punct', 'remove_commas', 'remove_all_punct']\n",
    "perturbation_list = perturbation_reduction + ['contraction','change_first_name','change_last_name', 'change_location', 'add_typo',\n",
    "                  'switch_gender', 'swap_adj']"
   ]
  },
  {
   "cell_type": "markdown",
   "metadata": {},
   "source": [
    "## Visualisation"
   ]
  },
  {
   "cell_type": "markdown",
   "metadata": {},
   "source": [
    "Source: https://adataanalyst.com/machine-learning/highlight-text-using-weights/"
   ]
  },
  {
   "cell_type": "code",
   "execution_count": 15,
   "metadata": {},
   "outputs": [],
   "source": [
    "# Prevent special characters like & and < to cause the browser to display something other than what you intended.\n",
    "def html_escape(text):\n",
    "    return html.escape(text)\n",
    "\n",
    "def visualise_weights(tokens, gradients, max_alpha = 0.3):\n",
    "    max_alpha = max_alpha \n",
    "    highlighted_text = []\n",
    "    for i in range(len(tokens)):\n",
    "        weight = gradients[i]\n",
    "        highlighted_text.append('<span style=\"background-color:rgba(135,206,250,' + str(weight / max_alpha) + ');\">' + html_escape(tokens[i]) + '</span>')\n",
    "    highlighted_text = ' '.join(highlighted_text)\n",
    "    print(display(HTML(highlighted_text)))"
   ]
  },
  {
   "cell_type": "markdown",
   "metadata": {
    "id": "TV-ZMAskp6-e"
   },
   "source": [
    "# BCN"
   ]
  },
  {
   "cell_type": "markdown",
   "metadata": {
    "id": "n_klANMNqfU_"
   },
   "source": [
    "**Set up your model & tokenizer**\n"
   ]
  },
  {
   "cell_type": "markdown",
   "metadata": {},
   "source": [
    "The models can be downloaded from here:\n",
    "\n",
    "https://upload.disroot.org/r/o8RgEa6y#lwPxvgfr6TDPXo/xl+u6kdGrsC5MIpaHQ3AstSZzZRg=\n",
    "https://upload.disroot.org/r/_3rS3BsN#C/GGVAC1StHrFX/BEcT8zjGzGAhfWFeZc+wJ1uwyoaw=\n",
    "\n",
    "They should then be saved in the local Github folders '/models/bcn-sst_output' or '/models/bcn-agnews_output'"
   ]
  },
  {
   "cell_type": "code",
   "execution_count": 16,
   "metadata": {},
   "outputs": [],
   "source": [
    "bcn = BCNModel()\n",
    "bcn.load_model(agnews)\n",
    "# BCN_AG_predictor = bcn.predictor"
   ]
  },
  {
   "cell_type": "markdown",
   "metadata": {},
   "source": [
    "## AllenNLP Interpret"
   ]
  },
  {
   "cell_type": "code",
   "execution_count": 17,
   "metadata": {},
   "outputs": [],
   "source": [
    "AllenNLPExplainer1 = AllenNLPExplainer(bcn)"
   ]
  },
  {
   "cell_type": "code",
   "execution_count": 22,
   "metadata": {},
   "outputs": [
    {
     "data": {
      "text/html": [
       "<span style=\"background-color:rgba(135,206,250,0.63093215413046);\">SPACE.com</span> <span style=\"background-color:rgba(135,206,250,0.0002987466446196203);\">-</span> <span style=\"background-color:rgba(135,206,250,0.15158266297355294);\">TORONTO</span> <span style=\"background-color:rgba(135,206,250,0.0284599268654286);\">,</span> <span style=\"background-color:rgba(135,206,250,0.1410008885248339);\">Canada</span> <span style=\"background-color:rgba(135,206,250,0.023216846565620182);\">--</span> <span style=\"background-color:rgba(135,206,250,0.04008529169862804);\">A</span> <span style=\"background-color:rgba(135,206,250,0.12983974372749274);\">secondteam</span> <span style=\"background-color:rgba(135,206,250,0.007480829253300623);\">of</span> <span style=\"background-color:rgba(135,206,250,0.4514543558701667);\">rocketeers</span> <span style=\"background-color:rgba(135,206,250,0.047787877224449195);\">competing</span> <span style=\"background-color:rgba(135,206,250,0.044536753496013076);\">for</span> <span style=\"background-color:rgba(135,206,250,0.004459424782043203);\">the</span> <span style=\"background-color:rgba(135,206,250,0.01488206803969381);\">#</span> <span style=\"background-color:rgba(135,206,250,0.05078706223265927);\">36;10</span> <span style=\"background-color:rgba(135,206,250,0.0097523462774704);\">million</span> <span style=\"background-color:rgba(135,206,250,0.08180660574652615);\">Ansari</span> <span style=\"background-color:rgba(135,206,250,0.03612432239767572);\">X</span> <span style=\"background-color:rgba(135,206,250,0.053484474579175045);\">Prize</span> <span style=\"background-color:rgba(135,206,250,0.008446395549232611);\">,</span> <span style=\"background-color:rgba(135,206,250,0.021811502057704876);\">a</span> <span style=\"background-color:rgba(135,206,250,0.043846009138127195);\">contest</span> <span style=\"background-color:rgba(135,206,250,0.08371908999001378);\">forprivately</span> <span style=\"background-color:rgba(135,206,250,0.006160589402996312);\">funded</span> <span style=\"background-color:rgba(135,206,250,0.37530709845174576);\">suborbital</span> <span style=\"background-color:rgba(135,206,250,0.256816062837478);\">space</span> <span style=\"background-color:rgba(135,206,250,0.058749897662589666);\">flight</span> <span style=\"background-color:rgba(135,206,250,0.006275364572547448);\">,</span> <span style=\"background-color:rgba(135,206,250,0.03254232442826749);\">has</span> <span style=\"background-color:rgba(135,206,250,0.01884411510015218);\">officially</span> <span style=\"background-color:rgba(135,206,250,0.015101698846111542);\">announced</span> <span style=\"background-color:rgba(135,206,250,0.003283485012066131);\">the</span> <span style=\"background-color:rgba(135,206,250,0.028686011793196034);\">firstlaunch</span> <span style=\"background-color:rgba(135,206,250,0.010836720532489866);\">date</span> <span style=\"background-color:rgba(135,206,250,0.03635966776673746);\">for</span> <span style=\"background-color:rgba(135,206,250,0.0798023710072426);\">its</span> <span style=\"background-color:rgba(135,206,250,0.04821850018032078);\">manned</span> <span style=\"background-color:rgba(135,206,250,0.2322629437125938);\">rocket</span> <span style=\"background-color:rgba(135,206,250,0.018290532220326783);\">.</span>"
      ],
      "text/plain": [
       "<IPython.core.display.HTML object>"
      ]
     },
     "metadata": {},
     "output_type": "display_data"
    },
    {
     "name": "stdout",
     "output_type": "stream",
     "text": [
      "None\n"
     ]
    },
    {
     "data": {
      "text/html": [
       "<span style=\"background-color:rgba(135,206,250,0.3715601435538695);\">SPACEcom</span> <span style=\"background-color:rgba(135,206,250,0.03550465086193721);\">TORONTO</span> <span style=\"background-color:rgba(135,206,250,0.03496888798070198);\">Canada</span> <span style=\"background-color:rgba(135,206,250,0.01792480016798149);\">A</span> <span style=\"background-color:rgba(135,206,250,0.0020792493753465737);\">secondteam</span> <span style=\"background-color:rgba(135,206,250,0.09417872435144463);\">of</span> <span style=\"background-color:rgba(135,206,250,0.1326495319475036);\">rocketeers</span> <span style=\"background-color:rgba(135,206,250,0.05920312131538709);\">competing</span> <span style=\"background-color:rgba(135,206,250,0.10329423864600193);\">for</span> <span style=\"background-color:rgba(135,206,250,0.0015378983603035504);\">the</span> <span style=\"background-color:rgba(135,206,250,0.10983502189239427);\">#</span> <span style=\"background-color:rgba(135,206,250,0.13260688769650916);\">3610</span> <span style=\"background-color:rgba(135,206,250,0.09335066496419576);\">million</span> <span style=\"background-color:rgba(135,206,250,0.239452104181573);\">Ansari</span> <span style=\"background-color:rgba(135,206,250,0.03449466000550693);\">X</span> <span style=\"background-color:rgba(135,206,250,0.15662063729787576);\">Prize</span> <span style=\"background-color:rgba(135,206,250,0.027979518964381975);\">a</span> <span style=\"background-color:rgba(135,206,250,0.06347692559540571);\">contest</span> <span style=\"background-color:rgba(135,206,250,0.16758814743680644);\">forprivately</span> <span style=\"background-color:rgba(135,206,250,0.43946964434410013);\">funded</span> <span style=\"background-color:rgba(135,206,250,0.29755505126463033);\">suborbital</span> <span style=\"background-color:rgba(135,206,250,0.064358386095421);\">space</span> <span style=\"background-color:rgba(135,206,250,0.07955410017922483);\">flight</span> <span style=\"background-color:rgba(135,206,250,0.013887898889615965);\">has</span> <span style=\"background-color:rgba(135,206,250,0.08666041699384314);\">officially</span> <span style=\"background-color:rgba(135,206,250,0.034316945974284904);\">announced</span> <span style=\"background-color:rgba(135,206,250,0.004052229692344192);\">the</span> <span style=\"background-color:rgba(135,206,250,0.048604980277736444);\">firstlaunch</span> <span style=\"background-color:rgba(135,206,250,0.043094812048958125);\">date</span> <span style=\"background-color:rgba(135,206,250,0.021365164348936115);\">for</span> <span style=\"background-color:rgba(135,206,250,0.002842997965805362);\">its</span> <span style=\"background-color:rgba(135,206,250,0.16184867284083893);\">manned</span> <span style=\"background-color:rgba(135,206,250,0.15741642609980855);\">rocket</span>"
      ],
      "text/plain": [
       "<IPython.core.display.HTML object>"
      ]
     },
     "metadata": {},
     "output_type": "display_data"
    },
    {
     "name": "stdout",
     "output_type": "stream",
     "text": [
      "None\n",
      "length not matching after perturbation\n",
      "length not matching after perturbation\n"
     ]
    },
    {
     "data": {
      "text/html": [
       "<span style=\"background-color:rgba(135,206,250,0.30095877943648797);\">AP</span> <span style=\"background-color:rgba(135,206,250,0.011343216861961885);\">-</span> <span style=\"background-color:rgba(135,206,250,0.03256572779596601);\">Southern</span> <span style=\"background-color:rgba(135,206,250,0.11141781800255338);\">California</span> <span style=\"background-color:rgba(135,206,250,0.3742129834452015);\">&#x27;s</span> <span style=\"background-color:rgba(135,206,250,0.35125743154133643);\">smog</span> <span style=\"background-color:rgba(135,206,250,0.022700914959150224);\">-</span> <span style=\"background-color:rgba(135,206,250,0.0020920789565715683);\">fighting</span> <span style=\"background-color:rgba(135,206,250,0.25008820939355253);\">agency</span> <span style=\"background-color:rgba(135,206,250,0.09969015054796426);\">went</span> <span style=\"background-color:rgba(135,206,250,0.03639110184845765);\">after</span> <span style=\"background-color:rgba(135,206,250,0.2710547627173634);\">emissions</span> <span style=\"background-color:rgba(135,206,250,0.022603114611116026);\">of</span> <span style=\"background-color:rgba(135,206,250,0.0027463597429560997);\">the</span> <span style=\"background-color:rgba(135,206,250,0.09240668175095752);\">bovine</span> <span style=\"background-color:rgba(135,206,250,0.05108780700534692);\">variety</span> <span style=\"background-color:rgba(135,206,250,0.05244072147573241);\">Friday</span> <span style=\"background-color:rgba(135,206,250,0.006599250841644441);\">,</span> <span style=\"background-color:rgba(135,206,250,0.05936484812478669);\">adopting</span> <span style=\"background-color:rgba(135,206,250,0.011638865539136994);\">the</span> <span style=\"background-color:rgba(135,206,250,0.1925406707031892);\">nation</span> <span style=\"background-color:rgba(135,206,250,0.09164235483476803);\">&#x27;s</span> <span style=\"background-color:rgba(135,206,250,0.002447691508344815);\">first</span> <span style=\"background-color:rgba(135,206,250,0.008014846228716614);\">rules</span> <span style=\"background-color:rgba(135,206,250,0.004813156777607834);\">to</span> <span style=\"background-color:rgba(135,206,250,0.15689025546384194);\">reduce</span> <span style=\"background-color:rgba(135,206,250,0.1054946636161006);\">air</span> <span style=\"background-color:rgba(135,206,250,0.294156564826636);\">pollution</span> <span style=\"background-color:rgba(135,206,250,0.025213086675683533);\">from</span> <span style=\"background-color:rgba(135,206,250,0.09405651552881394);\">dairy</span> <span style=\"background-color:rgba(135,206,250,0.05280559382808122);\">cow</span> <span style=\"background-color:rgba(135,206,250,0.1297733353558081);\">manure</span> <span style=\"background-color:rgba(135,206,250,0.012823686813464626);\">.</span>"
      ],
      "text/plain": [
       "<IPython.core.display.HTML object>"
      ]
     },
     "metadata": {},
     "output_type": "display_data"
    },
    {
     "name": "stdout",
     "output_type": "stream",
     "text": [
      "None\n"
     ]
    },
    {
     "data": {
      "text/html": [
       "<span style=\"background-color:rgba(135,206,250,0.41441240411689156);\">AP</span> <span style=\"background-color:rgba(135,206,250,0.11496020919322214);\">Southern</span> <span style=\"background-color:rgba(135,206,250,0.1168671332096722);\">California</span> <span style=\"background-color:rgba(135,206,250,0.023672275297267478);\">s</span> <span style=\"background-color:rgba(135,206,250,0.03637053704189554);\">smog</span> <span style=\"background-color:rgba(135,206,250,0.05530516250071669);\">fighting</span> <span style=\"background-color:rgba(135,206,250,0.20177626295870682);\">agency</span> <span style=\"background-color:rgba(135,206,250,0.038596956386864126);\">went</span> <span style=\"background-color:rgba(135,206,250,0.0014522714972756848);\">after</span> <span style=\"background-color:rgba(135,206,250,0.08806416136873661);\">emissions</span> <span style=\"background-color:rgba(135,206,250,0.04789051706074031);\">of</span> <span style=\"background-color:rgba(135,206,250,0.002781430495427015);\">the</span> <span style=\"background-color:rgba(135,206,250,0.0907451787665165);\">bovine</span> <span style=\"background-color:rgba(135,206,250,0.10371260892017711);\">variety</span> <span style=\"background-color:rgba(135,206,250,0.099883928607283);\">Friday</span> <span style=\"background-color:rgba(135,206,250,0.16300365472956407);\">adopting</span> <span style=\"background-color:rgba(135,206,250,0.012450276393524601);\">the</span> <span style=\"background-color:rgba(135,206,250,0.30332155507382075);\">nation</span> <span style=\"background-color:rgba(135,206,250,0.2042978725623331);\">s</span> <span style=\"background-color:rgba(135,206,250,0.08421691020468672);\">first</span> <span style=\"background-color:rgba(135,206,250,0.004463544598264193);\">rules</span> <span style=\"background-color:rgba(135,206,250,0.003689259495336327);\">to</span> <span style=\"background-color:rgba(135,206,250,0.18538490292947254);\">reduce</span> <span style=\"background-color:rgba(135,206,250,0.10877772796269686);\">air</span> <span style=\"background-color:rgba(135,206,250,0.44226226689163484);\">pollution</span> <span style=\"background-color:rgba(135,206,250,0.018339247108029585);\">from</span> <span style=\"background-color:rgba(135,206,250,0.12146582846262871);\">dairy</span> <span style=\"background-color:rgba(135,206,250,0.10538270447533706);\">cow</span> <span style=\"background-color:rgba(135,206,250,0.13978657007913822);\">manure</span>"
      ],
      "text/plain": [
       "<IPython.core.display.HTML object>"
      ]
     },
     "metadata": {},
     "output_type": "display_data"
    },
    {
     "name": "stdout",
     "output_type": "stream",
     "text": [
      "None\n",
      "length not matching after perturbation\n"
     ]
    },
    {
     "data": {
      "text/html": [
       "<span style=\"background-color:rgba(135,206,250,0.10568235735465044);\">&quot;</span> <span style=\"background-color:rgba(135,206,250,0.12114168230059101);\">Sven</span> <span style=\"background-color:rgba(135,206,250,0.16819580666341627);\">Jaschan</span> <span style=\"background-color:rgba(135,206,250,0.03240120473176059);\">,</span> <span style=\"background-color:rgba(135,206,250,0.0299246193037034);\">self</span> <span style=\"background-color:rgba(135,206,250,0.0013617929743595604);\">-</span> <span style=\"background-color:rgba(135,206,250,0.0764148361827304);\">confessed</span> <span style=\"background-color:rgba(135,206,250,0.013090416820154332);\">author</span> <span style=\"background-color:rgba(135,206,250,0.005363471809684253);\">of</span> <span style=\"background-color:rgba(135,206,250,0.00036017133971416197);\">the</span> <span style=\"background-color:rgba(135,206,250,0.18327516830247773);\">Netsky</span> <span style=\"background-color:rgba(135,206,250,0.003958400161230945);\">and</span> <span style=\"background-color:rgba(135,206,250,0.00261570493020847);\">Sasser</span> <span style=\"background-color:rgba(135,206,250,0.021241385409133427);\">viruses</span> <span style=\"background-color:rgba(135,206,250,0.004778384565200067);\">,</span> <span style=\"background-color:rgba(135,206,250,0.019846801596007605);\">isresponsible</span> <span style=\"background-color:rgba(135,206,250,0.013036571440776079);\">for</span> <span style=\"background-color:rgba(135,206,250,0.0014076014677382326);\">70</span> <span style=\"background-color:rgba(135,206,250,0.019150199708120815);\">percent</span> <span style=\"background-color:rgba(135,206,250,0.001032398392625312);\">of</span> <span style=\"background-color:rgba(135,206,250,0.008308375081212582);\">virus</span> <span style=\"background-color:rgba(135,206,250,0.015266423235134911);\">infections</span> <span style=\"background-color:rgba(135,206,250,0.0008608958579784382);\">in</span> <span style=\"background-color:rgba(135,206,250,0.0167169576200463);\">2004</span> <span style=\"background-color:rgba(135,206,250,0.0035497416464816993);\">,</span> <span style=\"background-color:rgba(135,206,250,0.01648282224716046);\">according</span> <span style=\"background-color:rgba(135,206,250,0.004765147868906071);\">to</span> <span style=\"background-color:rgba(135,206,250,0.012260017096363231);\">a</span> <span style=\"background-color:rgba(135,206,250,0.03612107971548363);\">six</span> <span style=\"background-color:rgba(135,206,250,0.00027989261013723155);\">-</span> <span style=\"background-color:rgba(135,206,250,0.02416498332611061);\">monthvirus</span> <span style=\"background-color:rgba(135,206,250,0.14900221726519583);\">roundup</span> <span style=\"background-color:rgba(135,206,250,0.02885261884787183);\">published</span> <span style=\"background-color:rgba(135,206,250,0.03808824147460231);\">Wednesday</span> <span style=\"background-color:rgba(135,206,250,0.026372062261409934);\">by</span> <span style=\"background-color:rgba(135,206,250,0.12901729082559446);\">antivirus</span> <span style=\"background-color:rgba(135,206,250,0.08332050122870512);\">company</span> <span style=\"background-color:rgba(135,206,250,0.05436564897455313);\">Sophos</span> <span style=\"background-color:rgba(135,206,250,0.0009117802498470099);\">.</span> <span style=\"background-color:rgba(135,206,250,0.011804891841816762);\">&quot;&quot;The</span> <span style=\"background-color:rgba(135,206,250,0.00876507474456935);\">18</span> <span style=\"background-color:rgba(135,206,250,0.003773018756895941);\">-</span> <span style=\"background-color:rgba(135,206,250,0.0033189221759121357);\">year</span> <span style=\"background-color:rgba(135,206,250,0.0046633383419209876);\">-</span> <span style=\"background-color:rgba(135,206,250,0.0004214317098740184);\">old</span> <span style=\"background-color:rgba(135,206,250,0.025019458197730236);\">Jaschan</span> <span style=\"background-color:rgba(135,206,250,0.022000800676440425);\">was</span> <span style=\"background-color:rgba(135,206,250,0.03889712577315105);\">taken</span> <span style=\"background-color:rgba(135,206,250,0.03469213252373758);\">into</span> <span style=\"background-color:rgba(135,206,250,0.1691960481672616);\">custody</span> <span style=\"background-color:rgba(135,206,250,0.018187023346162758);\">in</span> <span style=\"background-color:rgba(135,206,250,0.09575087294673887);\">Germany</span> <span style=\"background-color:rgba(135,206,250,0.004603135520699056);\">in</span> <span style=\"background-color:rgba(135,206,250,0.0150145671659341);\">May</span> <span style=\"background-color:rgba(135,206,250,0.009506569711025597);\">by</span> <span style=\"background-color:rgba(135,206,250,0.005179909273647186);\">police</span> <span style=\"background-color:rgba(135,206,250,0.0661388478025504);\">whosaid</span> <span style=\"background-color:rgba(135,206,250,0.014891966621179201);\">he</span> <span style=\"background-color:rgba(135,206,250,0.017911006904724885);\">had</span> <span style=\"background-color:rgba(135,206,250,0.01784757602213407);\">admitted</span> <span style=\"background-color:rgba(135,206,250,0.021306555168691364);\">programming</span> <span style=\"background-color:rgba(135,206,250,0.000565897922287052);\">both</span> <span style=\"background-color:rgba(135,206,250,0.0006771452114870073);\">the</span> <span style=\"background-color:rgba(135,206,250,0.024634042023869974);\">Netsky</span> <span style=\"background-color:rgba(135,206,250,0.01176366490797936);\">and</span> <span style=\"background-color:rgba(135,206,250,0.0020857522711772596);\">Sasser</span> <span style=\"background-color:rgba(135,206,250,0.00012235533768472777);\">worms</span> <span style=\"background-color:rgba(135,206,250,0.003321838495365591);\">,</span> <span style=\"background-color:rgba(135,206,250,0.006939739857737988);\">somethingexperts</span> <span style=\"background-color:rgba(135,206,250,0.004464029848824602);\">at</span> <span style=\"background-color:rgba(135,206,250,0.0037597360842762874);\">Microsoft</span> <span style=\"background-color:rgba(135,206,250,0.004893895037230902);\">confirmed</span> <span style=\"background-color:rgba(135,206,250,0.005122559227363574);\">.</span> <span style=\"background-color:rgba(135,206,250,0.005216663047410311);\">(</span> <span style=\"background-color:rgba(135,206,250,0.0009744373845182352);\">A</span> <span style=\"background-color:rgba(135,206,250,0.04357067983035824);\">Microsoft</span> <span style=\"background-color:rgba(135,206,250,0.267860088759505);\">antivirus</span> <span style=\"background-color:rgba(135,206,250,0.0428353068172484);\">reward</span> <span style=\"background-color:rgba(135,206,250,0.002051684935239306);\">program</span> <span style=\"background-color:rgba(135,206,250,0.009281295433879773);\">led</span> <span style=\"background-color:rgba(135,206,250,0.0019580175164950436);\">to</span> <span style=\"background-color:rgba(135,206,250,0.008933407155493492);\">theteenager</span> <span style=\"background-color:rgba(135,206,250,0.001060329384253134);\">&#x27;s</span> <span style=\"background-color:rgba(135,206,250,0.007509473999782897);\">arrest</span> <span style=\"background-color:rgba(135,206,250,0.0069916661927591495);\">.</span> <span style=\"background-color:rgba(135,206,250,0.04942497769835716);\">)</span> <span style=\"background-color:rgba(135,206,250,0.012380883249646193);\">During</span> <span style=\"background-color:rgba(135,206,250,0.0012342783827327258);\">the</span> <span style=\"background-color:rgba(135,206,250,0.010385831429043266);\">five</span> <span style=\"background-color:rgba(135,206,250,0.007077410918735439);\">months</span> <span style=\"background-color:rgba(135,206,250,0.00035780047516489205);\">preceding</span> <span style=\"background-color:rgba(135,206,250,0.0089962302534866);\">Jaschan</span> <span style=\"background-color:rgba(135,206,250,0.0002979875182328801);\">&#x27;s</span> <span style=\"background-color:rgba(135,206,250,0.008960660276661325);\">capture</span> <span style=\"background-color:rgba(135,206,250,0.00224415753367217);\">,</span> <span style=\"background-color:rgba(135,206,250,0.02796200882703349);\">therewere</span> <span style=\"background-color:rgba(135,206,250,0.002332358068262816);\">at</span> <span style=\"background-color:rgba(135,206,250,0.008787992634639879);\">least</span> <span style=\"background-color:rgba(135,206,250,0.005902013444414194);\">25</span> <span style=\"background-color:rgba(135,206,250,0.017084037089586043);\">variants</span> <span style=\"background-color:rgba(135,206,250,0.000226574229719428);\">of</span> <span style=\"background-color:rgba(135,206,250,0.006521453975154443);\">Netsky</span> <span style=\"background-color:rgba(135,206,250,0.012342626461204481);\">and</span> <span style=\"background-color:rgba(135,206,250,0.0010628459339481339);\">one</span> <span style=\"background-color:rgba(135,206,250,0.003261419249000933);\">of</span> <span style=\"background-color:rgba(135,206,250,0.00031017960811151974);\">the</span> <span style=\"background-color:rgba(135,206,250,0.022790741233653468);\">port</span> <span style=\"background-color:rgba(135,206,250,0.0005800885338906123);\">-</span> <span style=\"background-color:rgba(135,206,250,0.038811327221232525);\">scanning</span> <span style=\"background-color:rgba(135,206,250,0.003730659609315331);\">network</span> <span style=\"background-color:rgba(135,206,250,0.019183652531218284);\">wormSasser</span> <span style=\"background-color:rgba(135,206,250,0.0020732435333728305);\">.</span> <span style=\"background-color:rgba(135,206,250,0.08212744921912289);\">&quot;&quot;Graham</span> <span style=\"background-color:rgba(135,206,250,0.2797007434544401);\">Cluley</span> <span style=\"background-color:rgba(135,206,250,0.005350978210426077);\">,</span> <span style=\"background-color:rgba(135,206,250,0.014878282870531664);\">senior</span> <span style=\"background-color:rgba(135,206,250,0.036434929813650666);\">technology</span> <span style=\"background-color:rgba(135,206,250,0.0018026068827237118);\">consultant</span> <span style=\"background-color:rgba(135,206,250,0.008039853154648047);\">at</span> <span style=\"background-color:rgba(135,206,250,0.00021680584913021873);\">Sophos</span> <span style=\"background-color:rgba(135,206,250,0.006009285930744605);\">,</span> <span style=\"background-color:rgba(135,206,250,0.01966266454279546);\">said</span> <span style=\"background-color:rgba(135,206,250,0.000271884552789001);\">it</span> <span style=\"background-color:rgba(135,206,250,0.020635640216569946);\">was</span> <span style=\"background-color:rgba(135,206,250,0.020561073344597263);\">staggeri</span> <span style=\"background-color:rgba(135,206,250,0.014848023720006653);\">...</span>"
      ],
      "text/plain": [
       "<IPython.core.display.HTML object>"
      ]
     },
     "metadata": {},
     "output_type": "display_data"
    },
    {
     "name": "stdout",
     "output_type": "stream",
     "text": [
      "None\n"
     ]
    },
    {
     "data": {
      "text/html": [
       "<span style=\"background-color:rgba(135,206,250,0.2782728632464524);\">Sven</span> <span style=\"background-color:rgba(135,206,250,0.07348672147197113);\">Jaschan</span> <span style=\"background-color:rgba(135,206,250,0.025931944914769092);\">self</span> <span style=\"background-color:rgba(135,206,250,0.009408699004100574);\">confessed</span> <span style=\"background-color:rgba(135,206,250,0.013845736181629865);\">author</span> <span style=\"background-color:rgba(135,206,250,0.0016517320209664325);\">of</span> <span style=\"background-color:rgba(135,206,250,6.224614517757507e-05);\">the</span> <span style=\"background-color:rgba(135,206,250,0.13846185357573923);\">Netsky</span> <span style=\"background-color:rgba(135,206,250,0.007009486232386745);\">and</span> <span style=\"background-color:rgba(135,206,250,0.18327789210802808);\">Sasser</span> <span style=\"background-color:rgba(135,206,250,0.204565912212784);\">viruses</span> <span style=\"background-color:rgba(135,206,250,0.07537308497766541);\">isresponsible</span> <span style=\"background-color:rgba(135,206,250,0.0016792450344989022);\">for</span> <span style=\"background-color:rgba(135,206,250,0.011311994337373626);\">70</span> <span style=\"background-color:rgba(135,206,250,0.0013079161286100327);\">percent</span> <span style=\"background-color:rgba(135,206,250,0.0026644794595013085);\">of</span> <span style=\"background-color:rgba(135,206,250,0.008666307671215427);\">virus</span> <span style=\"background-color:rgba(135,206,250,0.00825949112419351);\">infections</span> <span style=\"background-color:rgba(135,206,250,0.007278564555297175);\">in</span> <span style=\"background-color:rgba(135,206,250,0.013196885739094987);\">2004</span> <span style=\"background-color:rgba(135,206,250,0.011971984694239872);\">according</span> <span style=\"background-color:rgba(135,206,250,0.001137200319074378);\">to</span> <span style=\"background-color:rgba(135,206,250,0.0022315440331697797);\">a</span> <span style=\"background-color:rgba(135,206,250,0.0026733824864042305);\">six</span> <span style=\"background-color:rgba(135,206,250,0.010495431072132222);\">monthvirus</span> <span style=\"background-color:rgba(135,206,250,0.047659974966975466);\">roundup</span> <span style=\"background-color:rgba(135,206,250,0.017551492112515343);\">published</span> <span style=\"background-color:rgba(135,206,250,0.0015319027137065725);\">Wednesday</span> <span style=\"background-color:rgba(135,206,250,0.00954841377782527);\">by</span> <span style=\"background-color:rgba(135,206,250,0.01823375177048313);\">antivirus</span> <span style=\"background-color:rgba(135,206,250,0.008142751875466779);\">company</span> <span style=\"background-color:rgba(135,206,250,0.010366789538184694);\">Sophos</span> <span style=\"background-color:rgba(135,206,250,0.0015816156122339985);\">The</span> <span style=\"background-color:rgba(135,206,250,0.013559138242307603);\">18</span> <span style=\"background-color:rgba(135,206,250,0.0038779960435516058);\">year</span> <span style=\"background-color:rgba(135,206,250,0.01182316182549326);\">old</span> <span style=\"background-color:rgba(135,206,250,0.005035536049491284);\">Jaschan</span> <span style=\"background-color:rgba(135,206,250,0.0023591314950532705);\">was</span> <span style=\"background-color:rgba(135,206,250,0.012198132499918812);\">taken</span> <span style=\"background-color:rgba(135,206,250,0.00971747939214457);\">into</span> <span style=\"background-color:rgba(135,206,250,0.047245564539149305);\">custody</span> <span style=\"background-color:rgba(135,206,250,0.0015870021047135468);\">in</span> <span style=\"background-color:rgba(135,206,250,0.06975879274262835);\">Germany</span> <span style=\"background-color:rgba(135,206,250,0.009615002356938473);\">in</span> <span style=\"background-color:rgba(135,206,250,0.005469585642715303);\">May</span> <span style=\"background-color:rgba(135,206,250,0.0010325611859891154);\">by</span> <span style=\"background-color:rgba(135,206,250,0.004328350635815287);\">police</span> <span style=\"background-color:rgba(135,206,250,0.020848206671780983);\">whosaid</span> <span style=\"background-color:rgba(135,206,250,0.007050147182885266);\">he</span> <span style=\"background-color:rgba(135,206,250,0.009289605968151359);\">had</span> <span style=\"background-color:rgba(135,206,250,0.029770406018221);\">admitted</span> <span style=\"background-color:rgba(135,206,250,0.014738517235285234);\">programming</span> <span style=\"background-color:rgba(135,206,250,0.0027751296107012308);\">both</span> <span style=\"background-color:rgba(135,206,250,0.0002888419273714025);\">the</span> <span style=\"background-color:rgba(135,206,250,0.058718676182144616);\">Netsky</span> <span style=\"background-color:rgba(135,206,250,0.00039321756985617967);\">and</span> <span style=\"background-color:rgba(135,206,250,0.06517088157651414);\">Sasser</span> <span style=\"background-color:rgba(135,206,250,0.09180287421847316);\">worms</span> <span style=\"background-color:rgba(135,206,250,0.0663145045852105);\">somethingexperts</span> <span style=\"background-color:rgba(135,206,250,0.009416242878989171);\">at</span> <span style=\"background-color:rgba(135,206,250,0.02918678785399949);\">Microsoft</span> <span style=\"background-color:rgba(135,206,250,0.022200368385474352);\">confirmed</span> <span style=\"background-color:rgba(135,206,250,0.009688592641539047);\">A</span> <span style=\"background-color:rgba(135,206,250,0.020751142557619506);\">Microsoft</span> <span style=\"background-color:rgba(135,206,250,0.19589311079090854);\">antivirus</span> <span style=\"background-color:rgba(135,206,250,0.0075430668982775055);\">reward</span> <span style=\"background-color:rgba(135,206,250,0.013257536773697658);\">program</span> <span style=\"background-color:rgba(135,206,250,0.009797280937846582);\">led</span> <span style=\"background-color:rgba(135,206,250,0.0001946767307102149);\">to</span> <span style=\"background-color:rgba(135,206,250,0.008930889848201439);\">theteenager</span> <span style=\"background-color:rgba(135,206,250,0.009540683916022336);\">s</span> <span style=\"background-color:rgba(135,206,250,0.019320110110092575);\">arrest</span> <span style=\"background-color:rgba(135,206,250,0.005392319484666279);\">During</span> <span style=\"background-color:rgba(135,206,250,0.0009569570666627858);\">the</span> <span style=\"background-color:rgba(135,206,250,0.0026884908526554224);\">five</span> <span style=\"background-color:rgba(135,206,250,0.002863366145481643);\">months</span> <span style=\"background-color:rgba(135,206,250,0.0015883887819138948);\">preceding</span> <span style=\"background-color:rgba(135,206,250,0.05276503503055812);\">Jaschan</span> <span style=\"background-color:rgba(135,206,250,0.00905084438957461);\">s</span> <span style=\"background-color:rgba(135,206,250,0.00879646780586445);\">capture</span> <span style=\"background-color:rgba(135,206,250,0.006832176660359787);\">therewere</span> <span style=\"background-color:rgba(135,206,250,0.004306231791109065);\">at</span> <span style=\"background-color:rgba(135,206,250,0.0028374915933212885);\">least</span> <span style=\"background-color:rgba(135,206,250,0.0006377278548146338);\">25</span> <span style=\"background-color:rgba(135,206,250,0.038152162483468643);\">variants</span> <span style=\"background-color:rgba(135,206,250,0.004152382889191529);\">of</span> <span style=\"background-color:rgba(135,206,250,0.032876766479849905);\">Netsky</span> <span style=\"background-color:rgba(135,206,250,0.0036895013764098455);\">and</span> <span style=\"background-color:rgba(135,206,250,0.007596326707628819);\">one</span> <span style=\"background-color:rgba(135,206,250,0.006221145604099198);\">of</span> <span style=\"background-color:rgba(135,206,250,4.712158834603212e-06);\">the</span> <span style=\"background-color:rgba(135,206,250,0.04010577254085042);\">port</span> <span style=\"background-color:rgba(135,206,250,0.02061790223402597);\">scanning</span> <span style=\"background-color:rgba(135,206,250,0.014556643088186128);\">network</span> <span style=\"background-color:rgba(135,206,250,0.040611320065888724);\">wormSasser</span> <span style=\"background-color:rgba(135,206,250,0.22004208688760643);\">Graham</span> <span style=\"background-color:rgba(135,206,250,0.5362463426410226);\">Cluley</span> <span style=\"background-color:rgba(135,206,250,0.044310961238316994);\">senior</span> <span style=\"background-color:rgba(135,206,250,0.018371696159334566);\">technology</span> <span style=\"background-color:rgba(135,206,250,0.026983569320829355);\">consultant</span> <span style=\"background-color:rgba(135,206,250,0.005889599364984247);\">at</span> <span style=\"background-color:rgba(135,206,250,0.010981698246149856);\">Sophos</span> <span style=\"background-color:rgba(135,206,250,0.00330819047825829);\">said</span> <span style=\"background-color:rgba(135,206,250,0.004189830301637143);\">it</span> <span style=\"background-color:rgba(135,206,250,0.0017133572936274602);\">was</span> <span style=\"background-color:rgba(135,206,250,0.024667651490538716);\">staggeri</span>"
      ],
      "text/plain": [
       "<IPython.core.display.HTML object>"
      ]
     },
     "metadata": {},
     "output_type": "display_data"
    },
    {
     "name": "stdout",
     "output_type": "stream",
     "text": [
      "None\n",
      "length not matching after perturbation\n",
      "length not matching after perturbation\n"
     ]
    },
    {
     "data": {
      "text/html": [
       "<span style=\"background-color:rgba(135,206,250,0.25343734346143365);\">FOAF</span> <span style=\"background-color:rgba(135,206,250,0.07694721528355755);\">/</span> <span style=\"background-color:rgba(135,206,250,0.01616186166800358);\">LOAF</span> <span style=\"background-color:rgba(135,206,250,0.0034273234715909277);\">and</span> <span style=\"background-color:rgba(135,206,250,0.0684955579069756);\">bloom</span> <span style=\"background-color:rgba(135,206,250,0.027030241518738275);\">filters</span> <span style=\"background-color:rgba(135,206,250,0.0040799180619749955);\">have</span> <span style=\"background-color:rgba(135,206,250,0.010212139624756016);\">a</span> <span style=\"background-color:rgba(135,206,250,0.007821039875561424);\">lot</span> <span style=\"background-color:rgba(135,206,250,0.0011422476226586524);\">of</span> <span style=\"background-color:rgba(135,206,250,0.00012764673213019182);\">interesting</span> <span style=\"background-color:rgba(135,206,250,0.005230990924128567);\">properties</span> <span style=\"background-color:rgba(135,206,250,0.0013819256790028312);\">for</span> <span style=\"background-color:rgba(135,206,250,0.029648918090473608);\">socialnetwork</span> <span style=\"background-color:rgba(135,206,250,0.0036369272934376126);\">and</span> <span style=\"background-color:rgba(135,206,250,0.1733062868620233);\">whitelist</span> <span style=\"background-color:rgba(135,206,250,0.0062559201472978335);\">distribution</span> <span style=\"background-color:rgba(135,206,250,0.0010231896714823923);\">.</span> <span style=\"background-color:rgba(135,206,250,0.0028643128884491857);\">I</span> <span style=\"background-color:rgba(135,206,250,0.0028040850261861153);\">think</span> <span style=\"background-color:rgba(135,206,250,0.003696554004505491);\">we</span> <span style=\"background-color:rgba(135,206,250,0.004270430922637208);\">can</span> <span style=\"background-color:rgba(135,206,250,0.0049835141466689475);\">go</span> <span style=\"background-color:rgba(135,206,250,0.004444516046701238);\">one</span> <span style=\"background-color:rgba(135,206,250,0.002379180431402443);\">level</span> <span style=\"background-color:rgba(135,206,250,0.0034705297614294967);\">higher</span> <span style=\"background-color:rgba(135,206,250,0.0046962473566353495);\">though</span> <span style=\"background-color:rgba(135,206,250,0.0021239601208308087);\">and</span> <span style=\"background-color:rgba(135,206,250,0.012247188321965176);\">include</span> <span style=\"background-color:rgba(135,206,250,0.012847060618551846);\">GPG</span> <span style=\"background-color:rgba(135,206,250,0.008007257323746608);\">/</span> <span style=\"background-color:rgba(135,206,250,0.019913706091097383);\">OpenPGP</span> <span style=\"background-color:rgba(135,206,250,0.02327856922197094);\">keyfingerpring</span> <span style=\"background-color:rgba(135,206,250,0.020301489491998975);\">distribution</span> <span style=\"background-color:rgba(135,206,250,0.0020483798811941683);\">in</span> <span style=\"background-color:rgba(135,206,250,0.00044942054746262554);\">the</span> <span style=\"background-color:rgba(135,206,250,0.030857651120415153);\">FOAF</span> <span style=\"background-color:rgba(135,206,250,0.02676044899336779);\">file</span> <span style=\"background-color:rgba(135,206,250,0.0026236236975159567);\">for</span> <span style=\"background-color:rgba(135,206,250,0.002827663751017446);\">simple</span> <span style=\"background-color:rgba(135,206,250,0.09641202452154059);\">web</span> <span style=\"background-color:rgba(135,206,250,0.0007702129199973249);\">-</span> <span style=\"background-color:rgba(135,206,250,0.0062686807325105995);\">of</span> <span style=\"background-color:rgba(135,206,250,0.0016504653398745305);\">-</span> <span style=\"background-color:rgba(135,206,250,0.007620072061829495);\">trust</span> <span style=\"background-color:rgba(135,206,250,0.009461441634601048);\">based</span> <span style=\"background-color:rgba(135,206,250,0.000180027355169549);\">keydistribution</span> <span style=\"background-color:rgba(135,206,250,0.0028968099085706816);\">.</span> <span style=\"background-color:rgba(135,206,250,0.010767907992711582);\">What</span> <span style=\"background-color:rgba(135,206,250,0.007147909753797994);\">if</span> <span style=\"background-color:rgba(135,206,250,0.005190667319942533);\">we</span> <span style=\"background-color:rgba(135,206,250,0.0026763139327850493);\">used</span> <span style=\"background-color:rgba(135,206,250,0.15068110745406468);\">FOAF</span> <span style=\"background-color:rgba(135,206,250,0.0004907373205523836);\">and</span> <span style=\"background-color:rgba(135,206,250,0.01844293999058257);\">included</span> <span style=\"background-color:rgba(135,206,250,0.00013218105056941206);\">the</span> <span style=\"background-color:rgba(135,206,250,0.010430987060649894);\">PGP</span> <span style=\"background-color:rgba(135,206,250,0.007458089139779488);\">key</span> <span style=\"background-color:rgba(135,206,250,0.1324653776569475);\">fingerprint(s</span> <span style=\"background-color:rgba(135,206,250,0.009653145609442424);\">)</span> <span style=\"background-color:rgba(135,206,250,0.006940185981752164);\">for</span> <span style=\"background-color:rgba(135,206,250,0.002173514859905364);\">identities?This</span> <span style=\"background-color:rgba(135,206,250,0.007380571188022625);\">could</span> <span style=\"background-color:rgba(135,206,250,0.0011671103023064861);\">mean</span> <span style=\"background-color:rgba(135,206,250,0.005151058470327162);\">a</span> <span style=\"background-color:rgba(135,206,250,0.0009683603362911082);\">lot</span> <span style=\"background-color:rgba(135,206,250,0.0060127938627397145);\">.</span> <span style=\"background-color:rgba(135,206,250,0.018922143125998277);\">You</span> <span style=\"background-color:rgba(135,206,250,0.004083654063891002);\">include</span> <span style=\"background-color:rgba(135,206,250,0.0023210482071641305);\">the</span> <span style=\"background-color:rgba(135,206,250,0.013077937963402626);\">PGP</span> <span style=\"background-color:rgba(135,206,250,0.012653412476853003);\">key</span> <span style=\"background-color:rgba(135,206,250,0.028230913872811285);\">fingerprints</span> <span style=\"background-color:rgba(135,206,250,0.0075077647975983885);\">within</span> <span style=\"background-color:rgba(135,206,250,0.0010485771212680479);\">the</span> <span style=\"background-color:rgba(135,206,250,0.01720776491436889);\">FOAFfile</span> <span style=\"background-color:rgba(135,206,250,4.416266674001176e-05);\">of</span> <span style=\"background-color:rgba(135,206,250,0.003552846380010402);\">your</span> <span style=\"background-color:rgba(135,206,250,0.002878598512914465);\">direct</span> <span style=\"background-color:rgba(135,206,250,0.0021134601997583025);\">friends</span> <span style=\"background-color:rgba(135,206,250,0.00013834868647839032);\">and</span> <span style=\"background-color:rgba(135,206,250,0.006681613510972549);\">then</span> <span style=\"background-color:rgba(135,206,250,0.015017063240765613);\">include</span> <span style=\"background-color:rgba(135,206,250,0.0022940471806467836);\">a</span> <span style=\"background-color:rgba(135,206,250,0.045073760647486694);\">bloom</span> <span style=\"background-color:rgba(135,206,250,0.01801153289350072);\">filter</span> <span style=\"background-color:rgba(135,206,250,0.0018315415898459988);\">of</span> <span style=\"background-color:rgba(135,206,250,0.0007840531138033891);\">the</span> <span style=\"background-color:rgba(135,206,250,0.0025331710977986865);\">PGP</span> <span style=\"background-color:rgba(135,206,250,0.00781970159337313);\">keyfingerprints</span> <span style=\"background-color:rgba(135,206,250,0.000883067438367649);\">of</span> <span style=\"background-color:rgba(135,206,250,0.010618534184707047);\">your</span> <span style=\"background-color:rgba(135,206,250,0.0009022491961893337);\">entire</span> <span style=\"background-color:rgba(135,206,250,0.16931042238842117);\">whitelist</span> <span style=\"background-color:rgba(135,206,250,0.0009746696267878224);\">(</span> <span style=\"background-color:rgba(135,206,250,0.008530040263129323);\">the</span> <span style=\"background-color:rgba(135,206,250,0.029580873111093958);\">source</span> <span style=\"background-color:rgba(135,206,250,0.004913302957470686);\">FOAF</span> <span style=\"background-color:rgba(135,206,250,0.07985195031851468);\">file</span> <span style=\"background-color:rgba(135,206,250,0.002387683041614186);\">would</span> <span style=\"background-color:rgba(135,206,250,0.0029907891615593898);\">of</span> <span style=\"background-color:rgba(135,206,250,0.010340069935009065);\">course</span> <span style=\"background-color:rgba(135,206,250,0.02898252757502306);\">needto</span> <span style=\"background-color:rgba(135,206,250,0.012967792605831968);\">be</span> <span style=\"background-color:rgba(135,206,250,0.05090053285573758);\">encrypted</span> <span style=\"background-color:rgba(135,206,250,0.01640989226191861);\">)</span> <span style=\"background-color:rgba(135,206,250,0.2605196395202134);\">.Your</span> <span style=\"background-color:rgba(135,206,250,0.5380380894795156);\">whitelist</span> <span style=\"background-color:rgba(135,206,250,0.003955537426889549);\">would</span> <span style=\"background-color:rgba(135,206,250,0.03043651996502349);\">be</span> <span style=\"background-color:rgba(135,206,250,0.017039129309800862);\">populated</span> <span style=\"background-color:rgba(135,206,250,0.007553300817265712);\">from</span> <span style=\"background-color:rgba(135,206,250,0.002227650741158887);\">the</span> <span style=\"background-color:rgba(135,206,250,0.0007814401823781154);\">social</span> <span style=\"background-color:rgba(135,206,250,0.024075653535845988);\">network</span> <span style=\"background-color:rgba(135,206,250,0.001631551883964229);\">as</span> <span style=\"background-color:rgba(135,206,250,0.025396241137780027);\">your</span> <span style=\"background-color:rgba(135,206,250,0.0785605140312314);\">clientdiscovered</span> <span style=\"background-color:rgba(135,206,250,0.04325190331508365);\">new</span> <span style=\"background-color:rgba(135,206,250,0.11245715872124934);\">identit</span> <span style=\"background-color:rgba(135,206,250,0.14518456304567076);\">...</span>"
      ],
      "text/plain": [
       "<IPython.core.display.HTML object>"
      ]
     },
     "metadata": {},
     "output_type": "display_data"
    },
    {
     "name": "stdout",
     "output_type": "stream",
     "text": [
      "None\n"
     ]
    },
    {
     "data": {
      "text/html": [
       "<span style=\"background-color:rgba(135,206,250,0.37401892015652816);\">FOAF</span> <span style=\"background-color:rgba(135,206,250,0.00472605739471504);\">LOAF</span> <span style=\"background-color:rgba(135,206,250,0.012396995587059792);\">and</span> <span style=\"background-color:rgba(135,206,250,0.07321940366693179);\">bloom</span> <span style=\"background-color:rgba(135,206,250,0.050556430422016733);\">filters</span> <span style=\"background-color:rgba(135,206,250,0.006977689217483305);\">have</span> <span style=\"background-color:rgba(135,206,250,0.010652689855245603);\">a</span> <span style=\"background-color:rgba(135,206,250,0.009412239769179974);\">lot</span> <span style=\"background-color:rgba(135,206,250,0.0022703977961327166);\">of</span> <span style=\"background-color:rgba(135,206,250,0.003647596207922803);\">interesting</span> <span style=\"background-color:rgba(135,206,250,0.01633028521336911);\">properties</span> <span style=\"background-color:rgba(135,206,250,0.0007677678945225839);\">for</span> <span style=\"background-color:rgba(135,206,250,0.004748754524765065);\">socialnetwork</span> <span style=\"background-color:rgba(135,206,250,0.0013845807205162624);\">and</span> <span style=\"background-color:rgba(135,206,250,0.001382387343358915);\">whitelist</span> <span style=\"background-color:rgba(135,206,250,0.010259060942012314);\">distribution</span> <span style=\"background-color:rgba(135,206,250,0.011139949660010065);\">I</span> <span style=\"background-color:rgba(135,206,250,0.00623750345912035);\">think</span> <span style=\"background-color:rgba(135,206,250,0.012571837220877612);\">we</span> <span style=\"background-color:rgba(135,206,250,0.0007714857803792172);\">can</span> <span style=\"background-color:rgba(135,206,250,0.011396903003670892);\">go</span> <span style=\"background-color:rgba(135,206,250,0.008297254761637153);\">one</span> <span style=\"background-color:rgba(135,206,250,0.002312906449616475);\">level</span> <span style=\"background-color:rgba(135,206,250,1.4779261661859245e-05);\">higher</span> <span style=\"background-color:rgba(135,206,250,0.004784133540248594);\">though</span> <span style=\"background-color:rgba(135,206,250,0.003322901308005694);\">and</span> <span style=\"background-color:rgba(135,206,250,0.0071620635343472025);\">include</span> <span style=\"background-color:rgba(135,206,250,0.011248513926074582);\">GPG</span> <span style=\"background-color:rgba(135,206,250,0.026332668959671308);\">OpenPGP</span> <span style=\"background-color:rgba(135,206,250,0.012312250708878671);\">keyfingerpring</span> <span style=\"background-color:rgba(135,206,250,0.02998893663165249);\">distribution</span> <span style=\"background-color:rgba(135,206,250,0.0025250784979466406);\">in</span> <span style=\"background-color:rgba(135,206,250,0.0036939746518808644);\">the</span> <span style=\"background-color:rgba(135,206,250,0.03968153444555508);\">FOAF</span> <span style=\"background-color:rgba(135,206,250,0.05143891745088073);\">file</span> <span style=\"background-color:rgba(135,206,250,0.000713647661362103);\">for</span> <span style=\"background-color:rgba(135,206,250,0.019929495325944707);\">simple</span> <span style=\"background-color:rgba(135,206,250,0.09165624586577695);\">web</span> <span style=\"background-color:rgba(135,206,250,0.007538603817324074);\">of</span> <span style=\"background-color:rgba(135,206,250,0.005809060378484536);\">trust</span> <span style=\"background-color:rgba(135,206,250,0.012423628522750788);\">based</span> <span style=\"background-color:rgba(135,206,250,0.016639883327970596);\">keydistribution</span> <span style=\"background-color:rgba(135,206,250,0.017357276652697845);\">What</span> <span style=\"background-color:rgba(135,206,250,0.01079150673367494);\">if</span> <span style=\"background-color:rgba(135,206,250,0.012371041398857082);\">we</span> <span style=\"background-color:rgba(135,206,250,0.021538335146381312);\">used</span> <span style=\"background-color:rgba(135,206,250,0.09399508697798346);\">FOAF</span> <span style=\"background-color:rgba(135,206,250,0.0012689133154972923);\">and</span> <span style=\"background-color:rgba(135,206,250,0.024280253708774464);\">included</span> <span style=\"background-color:rgba(135,206,250,0.0008399440893341722);\">the</span> <span style=\"background-color:rgba(135,206,250,0.016867399486043627);\">PGP</span> <span style=\"background-color:rgba(135,206,250,0.009035401023266474);\">key</span> <span style=\"background-color:rgba(135,206,250,0.03314787393168344);\">fingerprints</span> <span style=\"background-color:rgba(135,206,250,0.0035648566566531294);\">for</span> <span style=\"background-color:rgba(135,206,250,0.035392731761539516);\">identitiesThis</span> <span style=\"background-color:rgba(135,206,250,0.004318528569733653);\">could</span> <span style=\"background-color:rgba(135,206,250,0.0033963817672545303);\">mean</span> <span style=\"background-color:rgba(135,206,250,0.002001807652212126);\">a</span> <span style=\"background-color:rgba(135,206,250,0.0014106037132588815);\">lot</span> <span style=\"background-color:rgba(135,206,250,0.0020303987279172687);\">You</span> <span style=\"background-color:rgba(135,206,250,0.00075445758654299);\">include</span> <span style=\"background-color:rgba(135,206,250,0.0032795804820136927);\">the</span> <span style=\"background-color:rgba(135,206,250,0.02058973811215838);\">PGP</span> <span style=\"background-color:rgba(135,206,250,0.005294219716023179);\">key</span> <span style=\"background-color:rgba(135,206,250,0.031542775590552116);\">fingerprints</span> <span style=\"background-color:rgba(135,206,250,0.011750324031447493);\">within</span> <span style=\"background-color:rgba(135,206,250,0.0030619600904034233);\">the</span> <span style=\"background-color:rgba(135,206,250,0.008660912789202812);\">FOAFfile</span> <span style=\"background-color:rgba(135,206,250,6.991424556210271e-05);\">of</span> <span style=\"background-color:rgba(135,206,250,0.0008618200976368109);\">your</span> <span style=\"background-color:rgba(135,206,250,0.001089015012891754);\">direct</span> <span style=\"background-color:rgba(135,206,250,0.002631708333669546);\">friends</span> <span style=\"background-color:rgba(135,206,250,0.0011320731729036993);\">and</span> <span style=\"background-color:rgba(135,206,250,0.010055908099604386);\">then</span> <span style=\"background-color:rgba(135,206,250,0.026258586925593814);\">include</span> <span style=\"background-color:rgba(135,206,250,0.0014841415871068987);\">a</span> <span style=\"background-color:rgba(135,206,250,0.0015078384750155229);\">bloom</span> <span style=\"background-color:rgba(135,206,250,0.02645883045171292);\">filter</span> <span style=\"background-color:rgba(135,206,250,0.002152104196208733);\">of</span> <span style=\"background-color:rgba(135,206,250,0.0003022442516711574);\">the</span> <span style=\"background-color:rgba(135,206,250,0.028376561745530327);\">PGP</span> <span style=\"background-color:rgba(135,206,250,0.04298521604214935);\">keyfingerprints</span> <span style=\"background-color:rgba(135,206,250,0.0029775759711612787);\">of</span> <span style=\"background-color:rgba(135,206,250,0.03369034008181352);\">your</span> <span style=\"background-color:rgba(135,206,250,0.026110367069974036);\">entire</span> <span style=\"background-color:rgba(135,206,250,0.5467680926216398);\">whitelist</span> <span style=\"background-color:rgba(135,206,250,0.017667391731139723);\">the</span> <span style=\"background-color:rgba(135,206,250,0.01964303413257401);\">source</span> <span style=\"background-color:rgba(135,206,250,0.011227413247308646);\">FOAF</span> <span style=\"background-color:rgba(135,206,250,0.03429565638977661);\">file</span> <span style=\"background-color:rgba(135,206,250,0.005356161003075636);\">would</span> <span style=\"background-color:rgba(135,206,250,0.0035685632687929196);\">of</span> <span style=\"background-color:rgba(135,206,250,0.001112043148566202);\">course</span> <span style=\"background-color:rgba(135,206,250,0.0176217055166406);\">needto</span> <span style=\"background-color:rgba(135,206,250,0.031953903171908035);\">be</span> <span style=\"background-color:rgba(135,206,250,0.021588662877951);\">encrypted</span> <span style=\"background-color:rgba(135,206,250,0.06920318969337567);\">Your</span> <span style=\"background-color:rgba(135,206,250,0.6253335049028463);\">whitelist</span> <span style=\"background-color:rgba(135,206,250,0.006838944862758195);\">would</span> <span style=\"background-color:rgba(135,206,250,0.03988836089251946);\">be</span> <span style=\"background-color:rgba(135,206,250,0.027691621848653886);\">populated</span> <span style=\"background-color:rgba(135,206,250,0.0096415504240371);\">from</span> <span style=\"background-color:rgba(135,206,250,0.0023715437240667135);\">the</span> <span style=\"background-color:rgba(135,206,250,0.0428307405521444);\">social</span> <span style=\"background-color:rgba(135,206,250,0.016205365922210172);\">network</span> <span style=\"background-color:rgba(135,206,250,0.0059148050530994315);\">as</span> <span style=\"background-color:rgba(135,206,250,0.009253898207865034);\">your</span> <span style=\"background-color:rgba(135,206,250,0.02124290518825446);\">clientdiscovered</span> <span style=\"background-color:rgba(135,206,250,0.006090908413412595);\">new</span> <span style=\"background-color:rgba(135,206,250,0.17064140303206746);\">identit</span>"
      ],
      "text/plain": [
       "<IPython.core.display.HTML object>"
      ]
     },
     "metadata": {},
     "output_type": "display_data"
    },
    {
     "name": "stdout",
     "output_type": "stream",
     "text": [
      "None\n"
     ]
    },
    {
     "data": {
      "text/html": [
       "<span style=\"background-color:rgba(135,206,250,1.1754947414779346);\">Wiltshire</span> <span style=\"background-color:rgba(135,206,250,0.06903657823248054);\">Police</span> <span style=\"background-color:rgba(135,206,250,0.43006245091849166);\">warns</span> <span style=\"background-color:rgba(135,206,250,0.17127525285586356);\">about</span> <span style=\"background-color:rgba(135,206,250,0.027209174804257743);\">&quot;</span> <span style=\"background-color:rgba(135,206,250,0.013014070810343246);\">phishing</span> <span style=\"background-color:rgba(135,206,250,0.038707444319391826);\">&quot;</span> <span style=\"background-color:rgba(135,206,250,0.19521125189713526);\">after</span> <span style=\"background-color:rgba(135,206,250,0.18191543004856814);\">its</span> <span style=\"background-color:rgba(135,206,250,0.13075340078989844);\">fraud</span> <span style=\"background-color:rgba(135,206,250,0.27076807632060235);\">squad</span> <span style=\"background-color:rgba(135,206,250,0.09543100094640773);\">chief</span> <span style=\"background-color:rgba(135,206,250,0.36837306188996527);\">was</span> <span style=\"background-color:rgba(135,206,250,0.10450272344263004);\">targeted</span> <span style=\"background-color:rgba(135,206,250,0.061578405778215245);\">.</span>"
      ],
      "text/plain": [
       "<IPython.core.display.HTML object>"
      ]
     },
     "metadata": {},
     "output_type": "display_data"
    },
    {
     "name": "stdout",
     "output_type": "stream",
     "text": [
      "None\n"
     ]
    },
    {
     "data": {
      "text/html": [
       "<span style=\"background-color:rgba(135,206,250,1.0514823046795052);\">Wiltshire</span> <span style=\"background-color:rgba(135,206,250,0.16578485009819735);\">Police</span> <span style=\"background-color:rgba(135,206,250,0.6231409514875781);\">warns</span> <span style=\"background-color:rgba(135,206,250,0.19290231277737666);\">about</span> <span style=\"background-color:rgba(135,206,250,0.0005438350752803443);\">phishing</span> <span style=\"background-color:rgba(135,206,250,0.20023982779698707);\">after</span> <span style=\"background-color:rgba(135,206,250,0.20224105284123034);\">its</span> <span style=\"background-color:rgba(135,206,250,0.043203253938064484);\">fraud</span> <span style=\"background-color:rgba(135,206,250,0.09655736830573985);\">squad</span> <span style=\"background-color:rgba(135,206,250,0.13512353090095447);\">chief</span> <span style=\"background-color:rgba(135,206,250,0.4570095170171961);\">was</span> <span style=\"background-color:rgba(135,206,250,0.1651042600225759);\">targeted</span>"
      ],
      "text/plain": [
       "<IPython.core.display.HTML object>"
      ]
     },
     "metadata": {},
     "output_type": "display_data"
    },
    {
     "name": "stdout",
     "output_type": "stream",
     "text": [
      "None\n"
     ]
    },
    {
     "data": {
      "text/html": [
       "<span style=\"background-color:rgba(135,206,250,0.03989749071880463);\">In</span> <span style=\"background-color:rgba(135,206,250,0.153487392763639);\">its</span> <span style=\"background-color:rgba(135,206,250,0.06249870588976029);\">first</span> <span style=\"background-color:rgba(135,206,250,0.045259509847127316);\">two</span> <span style=\"background-color:rgba(135,206,250,0.0011264123700670103);\">years</span> <span style=\"background-color:rgba(135,206,250,0.014599401728754572);\">,</span> <span style=\"background-color:rgba(135,206,250,0.002980867729258904);\">the</span> <span style=\"background-color:rgba(135,206,250,0.02797291611660979);\">UK</span> <span style=\"background-color:rgba(135,206,250,0.07612629895535004);\">&#x27;s</span> <span style=\"background-color:rgba(135,206,250,0.7095221812703959);\">dedicated</span> <span style=\"background-color:rgba(135,206,250,0.15271392780311194);\">card</span> <span style=\"background-color:rgba(135,206,250,0.3801062756942107);\">fraud</span> <span style=\"background-color:rgba(135,206,250,0.1666656126510911);\">unit</span> <span style=\"background-color:rgba(135,206,250,0.0015296389786090636);\">,</span> <span style=\"background-color:rgba(135,206,250,0.04538006738035862);\">has</span> <span style=\"background-color:rgba(135,206,250,0.09407901732442425);\">recovered</span> <span style=\"background-color:rgba(135,206,250,0.04279578145223774);\">36,000</span> <span style=\"background-color:rgba(135,206,250,0.33674486722745867);\">stolen</span> <span style=\"background-color:rgba(135,206,250,0.10945087411552488);\">cards</span> <span style=\"background-color:rgba(135,206,250,0.021689181075611803);\">and</span> <span style=\"background-color:rgba(135,206,250,0.05835533224702982);\">171</span> <span style=\"background-color:rgba(135,206,250,0.11716946138776482);\">arrests</span> <span style=\"background-color:rgba(135,206,250,0.010769488176567076);\">-</span> <span style=\"background-color:rgba(135,206,250,0.01776347275361574);\">and</span> <span style=\"background-color:rgba(135,206,250,0.10115843658652383);\">estimates</span> <span style=\"background-color:rgba(135,206,250,0.026141227921518934);\">it</span> <span style=\"background-color:rgba(135,206,250,0.015348953260733319);\">saved</span> <span style=\"background-color:rgba(135,206,250,0.07527758832708147);\">65</span> <span style=\"background-color:rgba(135,206,250,0.4267230316741717);\">m.</span>"
      ],
      "text/plain": [
       "<IPython.core.display.HTML object>"
      ]
     },
     "metadata": {},
     "output_type": "display_data"
    },
    {
     "name": "stdout",
     "output_type": "stream",
     "text": [
      "None\n"
     ]
    },
    {
     "data": {
      "text/html": [
       "<span style=\"background-color:rgba(135,206,250,0.033218323617563786);\">In</span> <span style=\"background-color:rgba(135,206,250,0.16514473857620465);\">its</span> <span style=\"background-color:rgba(135,206,250,0.07056026012221761);\">first</span> <span style=\"background-color:rgba(135,206,250,0.06382385500641803);\">two</span> <span style=\"background-color:rgba(135,206,250,0.003451277839150406);\">years</span> <span style=\"background-color:rgba(135,206,250,0.0082135140016159);\">the</span> <span style=\"background-color:rgba(135,206,250,0.07045456082280045);\">UK</span> <span style=\"background-color:rgba(135,206,250,0.047665427388118325);\">s</span> <span style=\"background-color:rgba(135,206,250,0.6913242468866061);\">dedicated</span> <span style=\"background-color:rgba(135,206,250,0.1740359174416682);\">card</span> <span style=\"background-color:rgba(135,206,250,0.33103443526320825);\">fraud</span> <span style=\"background-color:rgba(135,206,250,0.06178921794873889);\">unit</span> <span style=\"background-color:rgba(135,206,250,0.05619821358341598);\">has</span> <span style=\"background-color:rgba(135,206,250,0.07175133791799117);\">recovered</span> <span style=\"background-color:rgba(135,206,250,0.7660925247503994);\">36000</span> <span style=\"background-color:rgba(135,206,250,0.14657558549668442);\">stolen</span> <span style=\"background-color:rgba(135,206,250,0.19432165947894414);\">cards</span> <span style=\"background-color:rgba(135,206,250,0.010207156770931758);\">and</span> <span style=\"background-color:rgba(135,206,250,0.11742643317414875);\">171</span> <span style=\"background-color:rgba(135,206,250,0.16243135970035757);\">arrests</span> <span style=\"background-color:rgba(135,206,250,0.02272150956718637);\">and</span> <span style=\"background-color:rgba(135,206,250,0.00046878270395605203);\">estimates</span> <span style=\"background-color:rgba(135,206,250,0.015563604917195514);\">it</span> <span style=\"background-color:rgba(135,206,250,0.02691220917418523);\">saved</span> <span style=\"background-color:rgba(135,206,250,0.00668732347663895);\">65</span> <span style=\"background-color:rgba(135,206,250,0.015259799205765283);\">m</span>"
      ],
      "text/plain": [
       "<IPython.core.display.HTML object>"
      ]
     },
     "metadata": {},
     "output_type": "display_data"
    },
    {
     "name": "stdout",
     "output_type": "stream",
     "text": [
      "None\n",
      "length not matching after perturbation\n"
     ]
    },
    {
     "data": {
      "text/html": [
       "<span style=\"background-color:rgba(135,206,250,0.02966362848517279);\">Jet</span> <span style=\"background-color:rgba(135,206,250,0.03206546302908567);\">Propulsion</span> <span style=\"background-color:rgba(135,206,250,0.05154845203444628);\">Lab</span> <span style=\"background-color:rgba(135,206,250,0.11185835747824896);\">--</span> <span style=\"background-color:rgba(135,206,250,0.013304430530312892);\">Scientists</span> <span style=\"background-color:rgba(135,206,250,0.0010333456130001573);\">have</span> <span style=\"background-color:rgba(135,206,250,0.006470777869465466);\">discovered</span> <span style=\"background-color:rgba(135,206,250,0.01265667787510892);\">irregular</span> <span style=\"background-color:rgba(135,206,250,0.08848160598186831);\">lumps</span> <span style=\"background-color:rgba(135,206,250,0.017276456154921915);\">beneath</span> <span style=\"background-color:rgba(135,206,250,0.0003753174500421132);\">the</span> <span style=\"background-color:rgba(135,206,250,0.08134283516528207);\">icy</span> <span style=\"background-color:rgba(135,206,250,0.048376398550354666);\">surface</span> <span style=\"background-color:rgba(135,206,250,0.005678057325074516);\">of</span> <span style=\"background-color:rgba(135,206,250,0.03216409452127571);\">Jupiter</span> <span style=\"background-color:rgba(135,206,250,0.06500911240792645);\">&#x27;s</span> <span style=\"background-color:rgba(135,206,250,0.08681176607026571);\">largest</span> <span style=\"background-color:rgba(135,206,250,0.06807445900396301);\">moon</span> <span style=\"background-color:rgba(135,206,250,0.043723796347684134);\">,</span> <span style=\"background-color:rgba(135,206,250,0.43055648569381055);\">Ganymede</span> <span style=\"background-color:rgba(135,206,250,0.04033083502802682);\">.</span> <span style=\"background-color:rgba(135,206,250,0.03554660329717619);\">These</span> <span style=\"background-color:rgba(135,206,250,0.007743357804441987);\">irregular</span> <span style=\"background-color:rgba(135,206,250,0.007494350123820741);\">masses</span> <span style=\"background-color:rgba(135,206,250,0.0010750935533747588);\">may</span> <span style=\"background-color:rgba(135,206,250,0.013394393778616486);\">be</span> <span style=\"background-color:rgba(135,206,250,0.062470704098450694);\">rock</span> <span style=\"background-color:rgba(135,206,250,1.0360876329480682);\">formations</span> <span style=\"background-color:rgba(135,206,250,0.016207667727318974);\">,</span> <span style=\"background-color:rgba(135,206,250,0.12442643623108422);\">supported</span> <span style=\"background-color:rgba(135,206,250,0.0432542089124411);\">by</span> <span style=\"background-color:rgba(135,206,250,0.12617607463753525);\">Ganymede</span> <span style=\"background-color:rgba(135,206,250,0.12599382279529056);\">&#x27;s</span> <span style=\"background-color:rgba(135,206,250,0.0749253186469476);\">icy</span> <span style=\"background-color:rgba(135,206,250,0.04342287129664073);\">shell</span> <span style=\"background-color:rgba(135,206,250,0.037233373912226336);\">for</span> <span style=\"background-color:rgba(135,206,250,0.036499664049718085);\">billions</span> <span style=\"background-color:rgba(135,206,250,0.003252077894326864);\">of</span> <span style=\"background-color:rgba(135,206,250,0.22431656203808506);\">years</span> <span style=\"background-color:rgba(135,206,250,0.0470108047898768);\">...</span>"
      ],
      "text/plain": [
       "<IPython.core.display.HTML object>"
      ]
     },
     "metadata": {},
     "output_type": "display_data"
    },
    {
     "name": "stdout",
     "output_type": "stream",
     "text": [
      "None\n"
     ]
    },
    {
     "data": {
      "text/html": [
       "<span style=\"background-color:rgba(135,206,250,0.03466333228031838);\">Jet</span> <span style=\"background-color:rgba(135,206,250,0.06427529368145483);\">Propulsion</span> <span style=\"background-color:rgba(135,206,250,0.07763656382588627);\">Lab</span> <span style=\"background-color:rgba(135,206,250,0.10249905083743671);\">Scientists</span> <span style=\"background-color:rgba(135,206,250,0.02558654692658333);\">have</span> <span style=\"background-color:rgba(135,206,250,0.045484829201112194);\">discovered</span> <span style=\"background-color:rgba(135,206,250,0.02260066557307682);\">irregular</span> <span style=\"background-color:rgba(135,206,250,0.04287625376749568);\">lumps</span> <span style=\"background-color:rgba(135,206,250,0.008974268314179641);\">beneath</span> <span style=\"background-color:rgba(135,206,250,0.0003579907779097094);\">the</span> <span style=\"background-color:rgba(135,206,250,0.011594250583195014);\">icy</span> <span style=\"background-color:rgba(135,206,250,0.07290538867637676);\">surface</span> <span style=\"background-color:rgba(135,206,250,0.00867875801354042);\">of</span> <span style=\"background-color:rgba(135,206,250,0.11413123471454945);\">Jupiter</span> <span style=\"background-color:rgba(135,206,250,0.1806076945169111);\">s</span> <span style=\"background-color:rgba(135,206,250,0.11174751178638398);\">largest</span> <span style=\"background-color:rgba(135,206,250,0.43172260687860287);\">moon</span> <span style=\"background-color:rgba(135,206,250,0.6121698304728728);\">Ganymede</span> <span style=\"background-color:rgba(135,206,250,0.11850548195721669);\">These</span> <span style=\"background-color:rgba(135,206,250,0.03834975581231823);\">irregular</span> <span style=\"background-color:rgba(135,206,250,0.05378312701554723);\">masses</span> <span style=\"background-color:rgba(135,206,250,0.008817606678316076);\">may</span> <span style=\"background-color:rgba(135,206,250,0.01919920213760656);\">be</span> <span style=\"background-color:rgba(135,206,250,0.008784075143036831);\">rock</span> <span style=\"background-color:rgba(135,206,250,0.7381601717173432);\">formations</span> <span style=\"background-color:rgba(135,206,250,0.1173049086230056);\">supported</span> <span style=\"background-color:rgba(135,206,250,0.0007292061719787338);\">by</span> <span style=\"background-color:rgba(135,206,250,0.016763087230075212);\">Ganymede</span> <span style=\"background-color:rgba(135,206,250,0.07300560968530863);\">s</span> <span style=\"background-color:rgba(135,206,250,0.022648097824399336);\">icy</span> <span style=\"background-color:rgba(135,206,250,0.02205355150340312);\">shell</span> <span style=\"background-color:rgba(135,206,250,0.016162121295868085);\">for</span> <span style=\"background-color:rgba(135,206,250,0.08309546477637372);\">billions</span> <span style=\"background-color:rgba(135,206,250,0.01355896059143282);\">of</span> <span style=\"background-color:rgba(135,206,250,0.013901200155854495);\">years</span>"
      ],
      "text/plain": [
       "<IPython.core.display.HTML object>"
      ]
     },
     "metadata": {},
     "output_type": "display_data"
    },
    {
     "name": "stdout",
     "output_type": "stream",
     "text": [
      "None\n"
     ]
    },
    {
     "data": {
      "text/html": [
       "<span style=\"background-color:rgba(135,206,250,0.02966362848517279);\">Jet</span> <span style=\"background-color:rgba(135,206,250,0.03206546302908567);\">Propulsion</span> <span style=\"background-color:rgba(135,206,250,0.05154845203444628);\">Lab</span> <span style=\"background-color:rgba(135,206,250,0.11185835747824896);\">--</span> <span style=\"background-color:rgba(135,206,250,0.013304430530312892);\">Scientists</span> <span style=\"background-color:rgba(135,206,250,0.0010333456130001573);\">have</span> <span style=\"background-color:rgba(135,206,250,0.006470777869465466);\">discovered</span> <span style=\"background-color:rgba(135,206,250,0.01265667787510892);\">irregular</span> <span style=\"background-color:rgba(135,206,250,0.08848160598186831);\">lumps</span> <span style=\"background-color:rgba(135,206,250,0.017276456154921915);\">beneath</span> <span style=\"background-color:rgba(135,206,250,0.0003753174500421132);\">the</span> <span style=\"background-color:rgba(135,206,250,0.08134283516528207);\">icy</span> <span style=\"background-color:rgba(135,206,250,0.048376398550354666);\">surface</span> <span style=\"background-color:rgba(135,206,250,0.005678057325074516);\">of</span> <span style=\"background-color:rgba(135,206,250,0.03216409452127571);\">Jupiter</span> <span style=\"background-color:rgba(135,206,250,0.06500911240792645);\">&#x27;s</span> <span style=\"background-color:rgba(135,206,250,0.08681176607026571);\">largest</span> <span style=\"background-color:rgba(135,206,250,0.06807445900396301);\">moon</span> <span style=\"background-color:rgba(135,206,250,0.043723796347684134);\">,</span> <span style=\"background-color:rgba(135,206,250,0.43055648569381055);\">Ganymede</span> <span style=\"background-color:rgba(135,206,250,0.04033083502802682);\">.</span> <span style=\"background-color:rgba(135,206,250,0.03554660329717619);\">These</span> <span style=\"background-color:rgba(135,206,250,0.007743357804441987);\">irregular</span> <span style=\"background-color:rgba(135,206,250,0.007494350123820741);\">masses</span> <span style=\"background-color:rgba(135,206,250,0.0010750935533747588);\">may</span> <span style=\"background-color:rgba(135,206,250,0.013394393778616486);\">be</span> <span style=\"background-color:rgba(135,206,250,0.062470704098450694);\">rock</span> <span style=\"background-color:rgba(135,206,250,1.0360876329480682);\">formations</span> <span style=\"background-color:rgba(135,206,250,0.016207667727318974);\">,</span> <span style=\"background-color:rgba(135,206,250,0.12442643623108422);\">supported</span> <span style=\"background-color:rgba(135,206,250,0.0432542089124411);\">by</span> <span style=\"background-color:rgba(135,206,250,0.12617607463753525);\">Ganymede</span> <span style=\"background-color:rgba(135,206,250,0.12599382279529056);\">&#x27;s</span> <span style=\"background-color:rgba(135,206,250,0.0749253186469476);\">icy</span> <span style=\"background-color:rgba(135,206,250,0.04342287129664073);\">shell</span> <span style=\"background-color:rgba(135,206,250,0.037233373912226336);\">for</span> <span style=\"background-color:rgba(135,206,250,0.036499664049718085);\">billions</span> <span style=\"background-color:rgba(135,206,250,0.003252077894326864);\">of</span> <span style=\"background-color:rgba(135,206,250,0.22431656203808506);\">years</span> <span style=\"background-color:rgba(135,206,250,0.0470108047898768);\">...</span>"
      ],
      "text/plain": [
       "<IPython.core.display.HTML object>"
      ]
     },
     "metadata": {},
     "output_type": "display_data"
    },
    {
     "name": "stdout",
     "output_type": "stream",
     "text": [
      "None\n"
     ]
    },
    {
     "data": {
      "text/html": [
       "<span style=\"background-color:rgba(135,206,250,0.3769746445852417);\">Jet</span> <span style=\"background-color:rgba(135,206,250,0.1553866054705252);\">Propulsion</span> <span style=\"background-color:rgba(135,206,250,0.0029791931795754762);\">Lab</span> <span style=\"background-color:rgba(135,206,250,0.010028148875795955);\">-</span> <span style=\"background-color:rgba(135,206,250,0.029299239481227913);\">-Scientists</span> <span style=\"background-color:rgba(135,206,250,0.03953495022851197);\">have</span> <span style=\"background-color:rgba(135,206,250,0.026295760524443296);\">discovered</span> <span style=\"background-color:rgba(135,206,250,0.06976036631104396);\">irregular</span> <span style=\"background-color:rgba(135,206,250,0.08758637489801274);\">lumps</span> <span style=\"background-color:rgba(135,206,250,0.04329236344575941);\">beneath</span> <span style=\"background-color:rgba(135,206,250,0.0002872649236381557);\">the</span> <span style=\"background-color:rgba(135,206,250,0.08493236656208955);\">icy</span> <span style=\"background-color:rgba(135,206,250,0.05526710361452708);\">surface</span> <span style=\"background-color:rgba(135,206,250,0.015162313410087495);\">of</span> <span style=\"background-color:rgba(135,206,250,0.0030904700081816664);\">Jupiter</span> <span style=\"background-color:rgba(135,206,250,0.10435855443492438);\">&#x27;s</span> <span style=\"background-color:rgba(135,206,250,0.07640878538551754);\">largest</span> <span style=\"background-color:rgba(135,206,250,0.025865646472620532);\">moon</span> <span style=\"background-color:rgba(135,206,250,0.036082990768592685);\">,</span> <span style=\"background-color:rgba(135,206,250,0.4395295371762968);\">Ganymede</span> <span style=\"background-color:rgba(135,206,250,0.05557117501431036);\">.</span> <span style=\"background-color:rgba(135,206,250,0.05287706649456434);\">These</span> <span style=\"background-color:rgba(135,206,250,0.015430363762307473);\">irregular</span> <span style=\"background-color:rgba(135,206,250,0.03506291132816724);\">masses</span> <span style=\"background-color:rgba(135,206,250,0.0020624091513440014);\">may</span> <span style=\"background-color:rgba(135,206,250,0.014307441941928317);\">be</span> <span style=\"background-color:rgba(135,206,250,0.06994262483657462);\">rock</span> <span style=\"background-color:rgba(135,206,250,0.7401972654935579);\">formations</span> <span style=\"background-color:rgba(135,206,250,0.004219235833694401);\">,</span> <span style=\"background-color:rgba(135,206,250,0.0004218287678198884);\">supported</span> <span style=\"background-color:rgba(135,206,250,0.05151903017197378);\">by</span> <span style=\"background-color:rgba(135,206,250,0.0892576333547327);\">Ganymede</span> <span style=\"background-color:rgba(135,206,250,0.11692062819619968);\">&#x27;s</span> <span style=\"background-color:rgba(135,206,250,0.08446921770945104);\">icy</span> <span style=\"background-color:rgba(135,206,250,0.03313452550683608);\">shell</span> <span style=\"background-color:rgba(135,206,250,0.03510900468177326);\">for</span> <span style=\"background-color:rgba(135,206,250,0.05494839931030519);\">billions</span> <span style=\"background-color:rgba(135,206,250,0.006731194378422104);\">of</span> <span style=\"background-color:rgba(135,206,250,0.18858771453243894);\">years</span> <span style=\"background-color:rgba(135,206,250,0.00044085390659440795);\">...</span>"
      ],
      "text/plain": [
       "<IPython.core.display.HTML object>"
      ]
     },
     "metadata": {},
     "output_type": "display_data"
    },
    {
     "name": "stdout",
     "output_type": "stream",
     "text": [
      "None\n"
     ]
    },
    {
     "data": {
      "text/html": [
       "<span style=\"background-color:rgba(135,206,250,1.201364766422657);\">update</span> <span style=\"background-color:rgba(135,206,250,0.7781360061144353);\">Earnings</span> <span style=\"background-color:rgba(135,206,250,0.03360299337368281);\">per</span> <span style=\"background-color:rgba(135,206,250,0.16539695386785558);\">share</span> <span style=\"background-color:rgba(135,206,250,0.07203890946076034);\">rise</span> <span style=\"background-color:rgba(135,206,250,0.021440309663225268);\">compared</span> <span style=\"background-color:rgba(135,206,250,0.00350556465497474);\">with</span> <span style=\"background-color:rgba(135,206,250,0.031663014456095796);\">a</span> <span style=\"background-color:rgba(135,206,250,0.04835674702383521);\">year</span> <span style=\"background-color:rgba(135,206,250,0.12351931834958362);\">ago</span> <span style=\"background-color:rgba(135,206,250,0.0003896852426107563);\">,</span> <span style=\"background-color:rgba(135,206,250,0.13084646601327288);\">but</span> <span style=\"background-color:rgba(135,206,250,0.006505104017189414);\">company</span> <span style=\"background-color:rgba(135,206,250,0.1883409484730429);\">misses</span> <span style=\"background-color:rgba(135,206,250,0.19468864586950294);\">analysts</span> <span style=\"background-color:rgba(135,206,250,0.024903664245011684);\">&#x27;</span> <span style=\"background-color:rgba(135,206,250,0.06206020605333673);\">expectations</span> <span style=\"background-color:rgba(135,206,250,0.05399095837132064);\">by</span> <span style=\"background-color:rgba(135,206,250,0.01886803405888004);\">a</span> <span style=\"background-color:rgba(135,206,250,0.026966551074679813);\">long</span> <span style=\"background-color:rgba(135,206,250,0.10705931527766845);\">shot</span> <span style=\"background-color:rgba(135,206,250,0.03968946846560542);\">.</span>"
      ],
      "text/plain": [
       "<IPython.core.display.HTML object>"
      ]
     },
     "metadata": {},
     "output_type": "display_data"
    },
    {
     "name": "stdout",
     "output_type": "stream",
     "text": [
      "None\n"
     ]
    },
    {
     "data": {
      "text/html": [
       "<span style=\"background-color:rgba(135,206,250,0.8213702767361759);\">update</span> <span style=\"background-color:rgba(135,206,250,0.673689419775919);\">Earnings</span> <span style=\"background-color:rgba(135,206,250,0.004232602627240387);\">per</span> <span style=\"background-color:rgba(135,206,250,0.17396393606732613);\">share</span> <span style=\"background-color:rgba(135,206,250,0.12429258855501071);\">rise</span> <span style=\"background-color:rgba(135,206,250,0.03546434513760456);\">compared</span> <span style=\"background-color:rgba(135,206,250,0.001193382892785234);\">with</span> <span style=\"background-color:rgba(135,206,250,0.02611542789687859);\">a</span> <span style=\"background-color:rgba(135,206,250,0.2590579771620544);\">yea</span> <span style=\"background-color:rgba(135,206,250,0.4470749486740079);\">rago</span> <span style=\"background-color:rgba(135,206,250,0.024432570742911924);\">,</span> <span style=\"background-color:rgba(135,206,250,0.12590013135494965);\">but</span> <span style=\"background-color:rgba(135,206,250,0.07579131989808327);\">company</span> <span style=\"background-color:rgba(135,206,250,0.16660010547986268);\">misses</span> <span style=\"background-color:rgba(135,206,250,0.18921516124562385);\">analysts</span> <span style=\"background-color:rgba(135,206,250,0.004433795125868866);\">&#x27;</span> <span style=\"background-color:rgba(135,206,250,0.03936875480739321);\">expectations</span> <span style=\"background-color:rgba(135,206,250,0.023489011571678233);\">by</span> <span style=\"background-color:rgba(135,206,250,0.010008549692538926);\">a</span> <span style=\"background-color:rgba(135,206,250,0.004220602094627173);\">long</span> <span style=\"background-color:rgba(135,206,250,0.0838211600239804);\">shot</span> <span style=\"background-color:rgba(135,206,250,0.019597188169853688);\">.</span>"
      ],
      "text/plain": [
       "<IPython.core.display.HTML object>"
      ]
     },
     "metadata": {},
     "output_type": "display_data"
    },
    {
     "name": "stdout",
     "output_type": "stream",
     "text": [
      "None\n"
     ]
    },
    {
     "data": {
      "text/html": [
       "<span style=\"background-color:rgba(135,206,250,0.3263951870224914);\">Michael</span> <span style=\"background-color:rgba(135,206,250,0.0998541509269517);\">Phelps</span> <span style=\"background-color:rgba(135,206,250,0.12408579853488491);\">won</span> <span style=\"background-color:rgba(135,206,250,0.0008919808349054747);\">the</span> <span style=\"background-color:rgba(135,206,250,0.3454045050878773);\">gold</span> <span style=\"background-color:rgba(135,206,250,0.045078142724036444);\">medal</span> <span style=\"background-color:rgba(135,206,250,0.05512903199674063);\">in</span> <span style=\"background-color:rgba(135,206,250,0.0008443146570068067);\">the</span> <span style=\"background-color:rgba(135,206,250,0.1475748547707866);\">400</span> <span style=\"background-color:rgba(135,206,250,0.022628001594469732);\">individual</span> <span style=\"background-color:rgba(135,206,250,0.22739775003375273);\">medley</span> <span style=\"background-color:rgba(135,206,250,0.028504416714290385);\">and</span> <span style=\"background-color:rgba(135,206,250,0.09622564813718835);\">set</span> <span style=\"background-color:rgba(135,206,250,0.007543398675883474);\">a</span> <span style=\"background-color:rgba(135,206,250,0.10704197015226026);\">world</span> <span style=\"background-color:rgba(135,206,250,0.10717799490749902);\">record</span> <span style=\"background-color:rgba(135,206,250,0.05066466388907897);\">in</span> <span style=\"background-color:rgba(135,206,250,0.015499061810881757);\">a</span> <span style=\"background-color:rgba(135,206,250,0.02518095518762511);\">time</span> <span style=\"background-color:rgba(135,206,250,0.007349346364507294);\">of</span> <span style=\"background-color:rgba(135,206,250,0.05390139563686624);\">4</span> <span style=\"background-color:rgba(135,206,250,0.12359110285736127);\">minutes</span> <span style=\"background-color:rgba(135,206,250,1.1017443110466676);\">8.26</span> <span style=\"background-color:rgba(135,206,250,0.1917564706989312);\">seconds</span> <span style=\"background-color:rgba(135,206,250,0.021869227406554257);\">.</span>"
      ],
      "text/plain": [
       "<IPython.core.display.HTML object>"
      ]
     },
     "metadata": {},
     "output_type": "display_data"
    },
    {
     "name": "stdout",
     "output_type": "stream",
     "text": [
      "None\n"
     ]
    },
    {
     "data": {
      "text/html": [
       "<span style=\"background-color:rgba(135,206,250,0.06791535578349576);\">Michael</span> <span style=\"background-color:rgba(135,206,250,0.21910425199995404);\">Morris</span> <span style=\"background-color:rgba(135,206,250,0.038780268802214524);\">won</span> <span style=\"background-color:rgba(135,206,250,0.00035304242397862296);\">the</span> <span style=\"background-color:rgba(135,206,250,0.6459254557511371);\">gold</span> <span style=\"background-color:rgba(135,206,250,0.22208579588651903);\">medal</span> <span style=\"background-color:rgba(135,206,250,0.19378449131950343);\">in</span> <span style=\"background-color:rgba(135,206,250,0.00840813283058963);\">the</span> <span style=\"background-color:rgba(135,206,250,0.1672594622258018);\">400</span> <span style=\"background-color:rgba(135,206,250,0.056057289754240354);\">individual</span> <span style=\"background-color:rgba(135,206,250,0.10091011389831511);\">medley</span> <span style=\"background-color:rgba(135,206,250,0.06259162325714647);\">and</span> <span style=\"background-color:rgba(135,206,250,0.08236118112998582);\">set</span> <span style=\"background-color:rgba(135,206,250,0.016801972754927567);\">a</span> <span style=\"background-color:rgba(135,206,250,0.11814701788112401);\">world</span> <span style=\"background-color:rgba(135,206,250,0.12872974206934093);\">record</span> <span style=\"background-color:rgba(135,206,250,0.04111037052581027);\">in</span> <span style=\"background-color:rgba(135,206,250,0.0189165250414227);\">a</span> <span style=\"background-color:rgba(135,206,250,0.015410248742611576);\">time</span> <span style=\"background-color:rgba(135,206,250,0.004662897005383014);\">of</span> <span style=\"background-color:rgba(135,206,250,0.022460490697511066);\">4</span> <span style=\"background-color:rgba(135,206,250,0.1291579564495801);\">minutes</span> <span style=\"background-color:rgba(135,206,250,0.8024191409378534);\">8.26</span> <span style=\"background-color:rgba(135,206,250,0.16479569523412754);\">seconds</span> <span style=\"background-color:rgba(135,206,250,0.005184786690866848);\">.</span>"
      ],
      "text/plain": [
       "<IPython.core.display.HTML object>"
      ]
     },
     "metadata": {},
     "output_type": "display_data"
    },
    {
     "name": "stdout",
     "output_type": "stream",
     "text": [
      "None\n",
      "length not matching after perturbation\n"
     ]
    },
    {
     "data": {
      "text/html": [
       "<span style=\"background-color:rgba(135,206,250,0.028216892755856284);\">With</span> <span style=\"background-color:rgba(135,206,250,0.00018757526691042062);\">the</span> <span style=\"background-color:rgba(135,206,250,0.01117074223906564);\">weeks</span> <span style=\"background-color:rgba(135,206,250,0.4283012424116539);\">dwindling</span> <span style=\"background-color:rgba(135,206,250,0.03913350098600382);\">until</span> <span style=\"background-color:rgba(135,206,250,0.19720326689165038);\">Jason</span> <span style=\"background-color:rgba(135,206,250,0.18778939485292906);\">Varitek</span> <span style=\"background-color:rgba(135,206,250,0.018434931889235638);\">enters</span> <span style=\"background-color:rgba(135,206,250,0.05870159513989202);\">free</span> <span style=\"background-color:rgba(135,206,250,0.05513100020396489);\">agency</span> <span style=\"background-color:rgba(135,206,250,0.0003974151107299904);\">,</span> <span style=\"background-color:rgba(135,206,250,0.0041026952547464504);\">the</span> <span style=\"background-color:rgba(135,206,250,0.009998263749690336);\">Red</span> <span style=\"background-color:rgba(135,206,250,0.0036439588203184704);\">Sox</span> <span style=\"background-color:rgba(135,206,250,0.042019115281849595);\">continue</span> <span style=\"background-color:rgba(135,206,250,0.0034503786130164315);\">to</span> <span style=\"background-color:rgba(135,206,250,0.06263050200279587);\">carefully</span> <span style=\"background-color:rgba(135,206,250,0.023521993109277006);\">monitor</span> <span style=\"background-color:rgba(135,206,250,0.0006329049408634195);\">Kelly</span> <span style=\"background-color:rgba(135,206,250,0.09128699109734992);\">Shoppach</span> <span style=\"background-color:rgba(135,206,250,0.00891382775590166);\">,</span> <span style=\"background-color:rgba(135,206,250,0.08333698809094404);\">their</span> <span style=\"background-color:rgba(135,206,250,0.014370205662375938);\">catcher</span> <span style=\"background-color:rgba(135,206,250,0.009021192448628083);\">of</span> <span style=\"background-color:rgba(135,206,250,0.008498584386780441);\">the</span> <span style=\"background-color:rgba(135,206,250,0.09224449091681847);\">future</span> <span style=\"background-color:rgba(135,206,250,0.03592949563530289);\">,</span> <span style=\"background-color:rgba(135,206,250,0.005471753099760604);\">in</span> <span style=\"background-color:rgba(135,206,250,0.0760452799122279);\">his</span> <span style=\"background-color:rgba(135,206,250,0.04187656700561319);\">climb</span> <span style=\"background-color:rgba(135,206,250,0.07220041550181168);\">toward</span> <span style=\"background-color:rgba(135,206,250,0.011224494862429154);\">the</span> <span style=\"background-color:rgba(135,206,250,0.008685247171483513);\">majors</span> <span style=\"background-color:rgba(135,206,250,0.0014765802189975455);\">.</span> <span style=\"background-color:rgba(135,206,250,0.00796500692497362);\">The</span> <span style=\"background-color:rgba(135,206,250,0.045670920374554044);\">Sox</span> <span style=\"background-color:rgba(135,206,250,0.013986568379654955);\">like</span> <span style=\"background-color:rgba(135,206,250,0.02113996523386364);\">most</span> <span style=\"background-color:rgba(135,206,250,0.005175311452672915);\">of</span> <span style=\"background-color:rgba(135,206,250,0.007846128296034099);\">what</span> <span style=\"background-color:rgba(135,206,250,0.009009447791697012);\">they</span> <span style=\"background-color:rgba(135,206,250,0.005710374013354055);\">have</span> <span style=\"background-color:rgba(135,206,250,0.008793143140652476);\">seen</span> <span style=\"background-color:rgba(135,206,250,0.0064918688425113355);\">at</span> <span style=\"background-color:rgba(135,206,250,0.024826337770842713);\">Triple</span> <span style=\"background-color:rgba(135,206,250,0.016442054726114163);\">A</span> <span style=\"background-color:rgba(135,206,250,0.2695902532434729);\">Pawtucket</span> <span style=\"background-color:rgba(135,206,250,0.10329041589942216);\">from</span> <span style=\"background-color:rgba(135,206,250,0.12788330673507106);\">Shoppach</span> <span style=\"background-color:rgba(135,206,250,0.001089800913472154);\">,</span> <span style=\"background-color:rgba(135,206,250,0.02120024433638733);\">though</span> <span style=\"background-color:rgba(135,206,250,0.03970835447265503);\">it</span> <span style=\"background-color:rgba(135,206,250,0.04608700618369147);\">remains</span> <span style=\"background-color:rgba(135,206,250,0.04740584470308059);\">highly</span> <span style=\"background-color:rgba(135,206,250,0.010889080861727124);\">uncertain</span> <span style=\"background-color:rgba(135,206,250,0.058873650916381255);\">whether</span> <span style=\"background-color:rgba(135,206,250,0.007034048827946391);\">he</span> <span style=\"background-color:rgba(135,206,250,0.06397598036723051);\">can</span> <span style=\"background-color:rgba(135,206,250,0.03138655696306344);\">make</span> <span style=\"background-color:rgba(135,206,250,0.01067591083009231);\">the</span> <span style=\"background-color:rgba(135,206,250,0.013863649928182314);\">adjustments</span> <span style=\"background-color:rgba(135,206,250,0.037003607539952785);\">at</span> <span style=\"background-color:rgba(135,206,250,0.018930145180776646);\">the</span> <span style=\"background-color:rgba(135,206,250,0.36862815923527714);\">plate</span> <span style=\"background-color:rgba(135,206,250,0.14751069876544098);\">...</span>"
      ],
      "text/plain": [
       "<IPython.core.display.HTML object>"
      ]
     },
     "metadata": {},
     "output_type": "display_data"
    },
    {
     "name": "stdout",
     "output_type": "stream",
     "text": [
      "None\n"
     ]
    },
    {
     "data": {
      "text/html": [
       "<span style=\"background-color:rgba(135,206,250,0.048543136713702646);\">With</span> <span style=\"background-color:rgba(135,206,250,0.007236160221634824);\">the</span> <span style=\"background-color:rgba(135,206,250,0.0041136573894554156);\">weeks</span> <span style=\"background-color:rgba(135,206,250,0.27129475282422955);\">dwindling</span> <span style=\"background-color:rgba(135,206,250,0.010141550963572898);\">until</span> <span style=\"background-color:rgba(135,206,250,0.05898988901529794);\">Jason</span> <span style=\"background-color:rgba(135,206,250,0.17762488098151571);\">Varitek</span> <span style=\"background-color:rgba(135,206,250,0.1915274904752595);\">enters</span> <span style=\"background-color:rgba(135,206,250,0.15112223951584178);\">free</span> <span style=\"background-color:rgba(135,206,250,0.07330812475563024);\">agency</span> <span style=\"background-color:rgba(135,206,250,0.0008310297909089006);\">the</span> <span style=\"background-color:rgba(135,206,250,0.046641106232985056);\">Red</span> <span style=\"background-color:rgba(135,206,250,0.013328540598258989);\">Sox</span> <span style=\"background-color:rgba(135,206,250,0.10803845762349314);\">continue</span> <span style=\"background-color:rgba(135,206,250,0.004964825566092568);\">to</span> <span style=\"background-color:rgba(135,206,250,0.09517015930924179);\">carefully</span> <span style=\"background-color:rgba(135,206,250,0.10684989675242544);\">monitor</span> <span style=\"background-color:rgba(135,206,250,0.017907096233807023);\">Kelly</span> <span style=\"background-color:rgba(135,206,250,0.1669033491735694);\">Shoppach</span> <span style=\"background-color:rgba(135,206,250,0.053984313415183505);\">their</span> <span style=\"background-color:rgba(135,206,250,0.04204532440153746);\">catcher</span> <span style=\"background-color:rgba(135,206,250,0.014098780984195878);\">of</span> <span style=\"background-color:rgba(135,206,250,0.0031291809848471228);\">the</span> <span style=\"background-color:rgba(135,206,250,0.14030683521963963);\">future</span> <span style=\"background-color:rgba(135,206,250,0.005653844464277449);\">in</span> <span style=\"background-color:rgba(135,206,250,0.07923379793470353);\">his</span> <span style=\"background-color:rgba(135,206,250,0.02509679314994873);\">climb</span> <span style=\"background-color:rgba(135,206,250,0.08467022019920561);\">toward</span> <span style=\"background-color:rgba(135,206,250,0.00863597522248388);\">the</span> <span style=\"background-color:rgba(135,206,250,0.02328791300826562);\">majors</span> <span style=\"background-color:rgba(135,206,250,0.006230616668360573);\">The</span> <span style=\"background-color:rgba(135,206,250,0.05644220184654814);\">Sox</span> <span style=\"background-color:rgba(135,206,250,0.02933793406378734);\">like</span> <span style=\"background-color:rgba(135,206,250,0.042496529454500005);\">most</span> <span style=\"background-color:rgba(135,206,250,0.0010656108630133485);\">of</span> <span style=\"background-color:rgba(135,206,250,0.031599812538078344);\">what</span> <span style=\"background-color:rgba(135,206,250,0.02310019912908887);\">they</span> <span style=\"background-color:rgba(135,206,250,0.017443305398362443);\">have</span> <span style=\"background-color:rgba(135,206,250,0.027798208266099512);\">seen</span> <span style=\"background-color:rgba(135,206,250,0.00777515434671526);\">at</span> <span style=\"background-color:rgba(135,206,250,0.027615235002863833);\">Triple</span> <span style=\"background-color:rgba(135,206,250,0.032492122920682924);\">A</span> <span style=\"background-color:rgba(135,206,250,0.27295792122039453);\">Pawtucket</span> <span style=\"background-color:rgba(135,206,250,0.048021734610114164);\">from</span> <span style=\"background-color:rgba(135,206,250,0.10646519507775572);\">Shoppach</span> <span style=\"background-color:rgba(135,206,250,0.020218531766505312);\">though</span> <span style=\"background-color:rgba(135,206,250,0.07161503381278181);\">it</span> <span style=\"background-color:rgba(135,206,250,0.06436397148912305);\">remains</span> <span style=\"background-color:rgba(135,206,250,0.07384489930843287);\">highly</span> <span style=\"background-color:rgba(135,206,250,0.007044831709184491);\">uncertain</span> <span style=\"background-color:rgba(135,206,250,0.08079270733275931);\">whether</span> <span style=\"background-color:rgba(135,206,250,0.02422808564452596);\">he</span> <span style=\"background-color:rgba(135,206,250,0.10882379662933417);\">can</span> <span style=\"background-color:rgba(135,206,250,0.07075470185622287);\">make</span> <span style=\"background-color:rgba(135,206,250,0.008342653930204467);\">the</span> <span style=\"background-color:rgba(135,206,250,0.0017402725103960186);\">adjustments</span> <span style=\"background-color:rgba(135,206,250,0.010614997521500946);\">at</span> <span style=\"background-color:rgba(135,206,250,0.0013420443588638418);\">the</span> <span style=\"background-color:rgba(135,206,250,0.024085642574430768);\">plate</span>"
      ],
      "text/plain": [
       "<IPython.core.display.HTML object>"
      ]
     },
     "metadata": {},
     "output_type": "display_data"
    },
    {
     "name": "stdout",
     "output_type": "stream",
     "text": [
      "None\n"
     ]
    },
    {
     "data": {
      "text/html": [
       "<span style=\"background-color:rgba(135,206,250,0.5995657913812972);\">Just</span> <span style=\"background-color:rgba(135,206,250,0.14390500746103835);\">imagine</span> <span style=\"background-color:rgba(135,206,250,0.02734631399962761);\">what</span> <span style=\"background-color:rgba(135,206,250,0.010201582003412426);\">David</span> <span style=\"background-color:rgba(135,206,250,0.1404721260149578);\">Ortiz</span> <span style=\"background-color:rgba(135,206,250,0.033388433573600794);\">could</span> <span style=\"background-color:rgba(135,206,250,0.01265033558906501);\">do</span> <span style=\"background-color:rgba(135,206,250,0.01662435059019586);\">on</span> <span style=\"background-color:rgba(135,206,250,0.010861653399118874);\">a</span> <span style=\"background-color:rgba(135,206,250,0.020539139313374262);\">good</span> <span style=\"background-color:rgba(135,206,250,0.02712344647280063);\">night</span> <span style=\"background-color:rgba(135,206,250,0.02148454535446678);\">&#x27;s</span> <span style=\"background-color:rgba(135,206,250,0.008264366333700106);\">rest</span> <span style=\"background-color:rgba(135,206,250,0.00576080518631161);\">.</span> <span style=\"background-color:rgba(135,206,250,0.05233647832098051);\">Ortiz</span> <span style=\"background-color:rgba(135,206,250,0.010392144104154863);\">spent</span> <span style=\"background-color:rgba(135,206,250,0.00043534572803787685);\">the</span> <span style=\"background-color:rgba(135,206,250,0.012066095825123366);\">night</span> <span style=\"background-color:rgba(135,206,250,0.012744482176955958);\">before</span> <span style=\"background-color:rgba(135,206,250,0.002001949357480728);\">last</span> <span style=\"background-color:rgba(135,206,250,0.0023710279299070766);\">with</span> <span style=\"background-color:rgba(135,206,250,0.05814007471859181);\">his</span> <span style=\"background-color:rgba(135,206,250,0.06904586749177986);\">baby</span> <span style=\"background-color:rgba(135,206,250,0.02310873485974037);\">boy</span> <span style=\"background-color:rgba(135,206,250,0.016802701149686718);\">,</span> <span style=\"background-color:rgba(135,206,250,0.49016563088135506);\">D&#x27;Angelo</span> <span style=\"background-color:rgba(135,206,250,0.0023532176093457977);\">,</span> <span style=\"background-color:rgba(135,206,250,0.016941157398806448);\">who</span> <span style=\"background-color:rgba(135,206,250,0.014577469316628438);\">is</span> <span style=\"background-color:rgba(135,206,250,0.03775521557181645);\">barely</span> <span style=\"background-color:rgba(135,206,250,0.01936584597614129);\">1</span> <span style=\"background-color:rgba(135,206,250,0.0137604921013207);\">month</span> <span style=\"background-color:rgba(135,206,250,0.026650400858719836);\">old</span> <span style=\"background-color:rgba(135,206,250,0.005497441959480674);\">.</span> <span style=\"background-color:rgba(135,206,250,0.011672160375433536);\">He</span> <span style=\"background-color:rgba(135,206,250,0.005416914978998955);\">had</span> <span style=\"background-color:rgba(135,206,250,0.034137344386235904);\">planned</span> <span style=\"background-color:rgba(135,206,250,0.007016983947533192);\">on</span> <span style=\"background-color:rgba(135,206,250,0.005093657113940934);\">attending</span> <span style=\"background-color:rgba(135,206,250,0.0015872420714104646);\">the</span> <span style=\"background-color:rgba(135,206,250,0.025655202313702434);\">Red</span> <span style=\"background-color:rgba(135,206,250,0.09337013228890859);\">Sox</span> <span style=\"background-color:rgba(135,206,250,0.11509720155838023);\">&#x27;</span> <span style=\"background-color:rgba(135,206,250,0.1685981371303042);\">Family</span> <span style=\"background-color:rgba(135,206,250,0.008431593035931153);\">Day</span> <span style=\"background-color:rgba(135,206,250,0.05089708471053511);\">at</span> <span style=\"background-color:rgba(135,206,250,0.08719329336032203);\">Fenway</span> <span style=\"background-color:rgba(135,206,250,0.0841474928009535);\">Park</span> <span style=\"background-color:rgba(135,206,250,0.027231603722803293);\">yesterday</span> <span style=\"background-color:rgba(135,206,250,0.011546960948035189);\">morning</span> <span style=\"background-color:rgba(135,206,250,0.013881400023068377);\">,</span> <span style=\"background-color:rgba(135,206,250,0.013507816917773918);\">but</span> <span style=\"background-color:rgba(135,206,250,0.002315969985470093);\">he</span> <span style=\"background-color:rgba(135,206,250,0.005489229137656735);\">had</span> <span style=\"background-color:rgba(135,206,250,0.0014105915229605654);\">to</span> <span style=\"background-color:rgba(135,206,250,0.005608207699155413);\">sleep</span> <span style=\"background-color:rgba(135,206,250,0.003018080098229452);\">in</span> <span style=\"background-color:rgba(135,206,250,0.004471428169293185);\">.</span> <span style=\"background-color:rgba(135,206,250,0.019038669823732993);\">After</span> <span style=\"background-color:rgba(135,206,250,0.006211628662600306);\">all</span> <span style=\"background-color:rgba(135,206,250,0.006269073992630595);\">,</span> <span style=\"background-color:rgba(135,206,250,0.05258686640662878);\">Ortiz</span> <span style=\"background-color:rgba(135,206,250,0.05003050748983074);\">had</span> <span style=\"background-color:rgba(135,206,250,0.008692983825919353);\">a</span> <span style=\"background-color:rgba(135,206,250,0.02144375182020147);\">son</span> <span style=\"background-color:rgba(135,206,250,0.017881904437058015);\">at</span> <span style=\"background-color:rgba(135,206,250,0.036898877118985034);\">home</span> <span style=\"background-color:rgba(135,206,250,0.026983280621367112);\">,</span> <span style=\"background-color:rgba(135,206,250,0.02460000884276316);\">and</span> <span style=\"background-color:rgba(135,206,250,0.25512780325672146);\">he</span> <span style=\"background-color:rgba(135,206,250,0.056072425142270794);\">...</span>"
      ],
      "text/plain": [
       "<IPython.core.display.HTML object>"
      ]
     },
     "metadata": {},
     "output_type": "display_data"
    },
    {
     "name": "stdout",
     "output_type": "stream",
     "text": [
      "None\n"
     ]
    },
    {
     "data": {
      "text/html": [
       "<span style=\"background-color:rgba(135,206,250,0.1285593639408137);\">Just</span> <span style=\"background-color:rgba(135,206,250,0.001462718612592784);\">imagine</span> <span style=\"background-color:rgba(135,206,250,0.061367952959639684);\">what</span> <span style=\"background-color:rgba(135,206,250,0.041837310935816066);\">David</span> <span style=\"background-color:rgba(135,206,250,0.19067503099589816);\">Ortiz</span> <span style=\"background-color:rgba(135,206,250,0.015334082249580916);\">could</span> <span style=\"background-color:rgba(135,206,250,0.02824085986556701);\">do</span> <span style=\"background-color:rgba(135,206,250,0.0260042190142588);\">on</span> <span style=\"background-color:rgba(135,206,250,0.011454318697204669);\">a</span> <span style=\"background-color:rgba(135,206,250,0.038141110187989116);\">good</span> <span style=\"background-color:rgba(135,206,250,0.06998233596903962);\">night</span> <span style=\"background-color:rgba(135,206,250,0.06385247022146488);\">s</span> <span style=\"background-color:rgba(135,206,250,0.018749565139864758);\">rest</span> <span style=\"background-color:rgba(135,206,250,0.27740955939603096);\">Ortiz</span> <span style=\"background-color:rgba(135,206,250,0.029904577088766326);\">spent</span> <span style=\"background-color:rgba(135,206,250,0.0002345488280939495);\">the</span> <span style=\"background-color:rgba(135,206,250,0.06294089542964329);\">night</span> <span style=\"background-color:rgba(135,206,250,0.028720990842250358);\">before</span> <span style=\"background-color:rgba(135,206,250,0.00048380183410143496);\">last</span> <span style=\"background-color:rgba(135,206,250,0.007435378434548656);\">with</span> <span style=\"background-color:rgba(135,206,250,0.047521012638004616);\">his</span> <span style=\"background-color:rgba(135,206,250,0.06268814907628593);\">baby</span> <span style=\"background-color:rgba(135,206,250,0.033228674949642094);\">boy</span> <span style=\"background-color:rgba(135,206,250,0.2545571379475956);\">DAngelo</span> <span style=\"background-color:rgba(135,206,250,0.04128823408070886);\">who</span> <span style=\"background-color:rgba(135,206,250,0.018342325369983176);\">is</span> <span style=\"background-color:rgba(135,206,250,0.07729233484245134);\">barely</span> <span style=\"background-color:rgba(135,206,250,0.0029262169373815146);\">1</span> <span style=\"background-color:rgba(135,206,250,0.026136093876992658);\">month</span> <span style=\"background-color:rgba(135,206,250,0.013061106963277343);\">old</span> <span style=\"background-color:rgba(135,206,250,0.04698943138989003);\">He</span> <span style=\"background-color:rgba(135,206,250,0.002376818077237637);\">had</span> <span style=\"background-color:rgba(135,206,250,0.02433371361821493);\">planned</span> <span style=\"background-color:rgba(135,206,250,0.020906888483853577);\">on</span> <span style=\"background-color:rgba(135,206,250,0.023195077741461335);\">attending</span> <span style=\"background-color:rgba(135,206,250,0.0027973405548820233);\">the</span> <span style=\"background-color:rgba(135,206,250,0.13433451507341765);\">Red</span> <span style=\"background-color:rgba(135,206,250,0.15924012650369604);\">Sox</span> <span style=\"background-color:rgba(135,206,250,0.026152663336165508);\">Family</span> <span style=\"background-color:rgba(135,206,250,0.08853091783187103);\">Day</span> <span style=\"background-color:rgba(135,206,250,0.12535833947166936);\">at</span> <span style=\"background-color:rgba(135,206,250,0.14708176832752082);\">Fenway</span> <span style=\"background-color:rgba(135,206,250,0.231304031831811);\">Park</span> <span style=\"background-color:rgba(135,206,250,0.09656883209104404);\">yesterday</span> <span style=\"background-color:rgba(135,206,250,0.0666761906556371);\">morning</span> <span style=\"background-color:rgba(135,206,250,0.007465768809902751);\">but</span> <span style=\"background-color:rgba(135,206,250,0.00946978325589511);\">he</span> <span style=\"background-color:rgba(135,206,250,0.024647096586692636);\">had</span> <span style=\"background-color:rgba(135,206,250,0.0056232743903420375);\">to</span> <span style=\"background-color:rgba(135,206,250,0.016317614433597926);\">sleep</span> <span style=\"background-color:rgba(135,206,250,0.003837113601929449);\">in</span> <span style=\"background-color:rgba(135,206,250,0.08689426743204014);\">After</span> <span style=\"background-color:rgba(135,206,250,0.0005119021403018511);\">all</span> <span style=\"background-color:rgba(135,206,250,0.13068096619273414);\">Ortiz</span> <span style=\"background-color:rgba(135,206,250,0.0698932601757517);\">had</span> <span style=\"background-color:rgba(135,206,250,0.012852024492892975);\">a</span> <span style=\"background-color:rgba(135,206,250,0.02809109992308189);\">son</span> <span style=\"background-color:rgba(135,206,250,0.01029322986925099);\">at</span> <span style=\"background-color:rgba(135,206,250,0.028648003033937587);\">home</span> <span style=\"background-color:rgba(135,206,250,0.016773056824112287);\">and</span> <span style=\"background-color:rgba(135,206,250,0.005655684963961933);\">he</span>"
      ],
      "text/plain": [
       "<IPython.core.display.HTML object>"
      ]
     },
     "metadata": {},
     "output_type": "display_data"
    },
    {
     "name": "stdout",
     "output_type": "stream",
     "text": [
      "None\n"
     ]
    },
    {
     "data": {
      "text/html": [
       "<span style=\"background-color:rgba(135,206,250,0.12146907972892074);\">In</span> <span style=\"background-color:rgba(135,206,250,0.2998013928903273);\">quot;helping</span> <span style=\"background-color:rgba(135,206,250,0.05717290847216246);\">themselves</span> <span style=\"background-color:rgba(135,206,250,0.023523674443942964);\">,</span> <span style=\"background-color:rgba(135,206,250,0.1800165468573638);\">quot</span> <span style=\"background-color:rgba(135,206,250,0.33685794451823725);\">;</span> <span style=\"background-color:rgba(135,206,250,0.32474123490106577);\">Ricky</span> <span style=\"background-color:rgba(135,206,250,0.14133609978236333);\">Bryant</span> <span style=\"background-color:rgba(135,206,250,0.05362617894653559);\">,</span> <span style=\"background-color:rgba(135,206,250,0.01924505133793551);\">Chas</span> <span style=\"background-color:rgba(135,206,250,0.1032531889385691);\">Gessner</span> <span style=\"background-color:rgba(135,206,250,0.05566783211809128);\">,</span> <span style=\"background-color:rgba(135,206,250,0.05462306328106);\">Michael</span> <span style=\"background-color:rgba(135,206,250,0.1942237563451381);\">Jennings</span> <span style=\"background-color:rgba(135,206,250,0.046100185146101876);\">,</span> <span style=\"background-color:rgba(135,206,250,0.05768264731399547);\">and</span> <span style=\"background-color:rgba(135,206,250,0.04830799687147276);\">David</span> <span style=\"background-color:rgba(135,206,250,0.19535522639826888);\">Patten</span> <span style=\"background-color:rgba(135,206,250,0.010971129378067337);\">did</span> <span style=\"background-color:rgba(135,206,250,0.040140263652570174);\">nothing</span> <span style=\"background-color:rgba(135,206,250,0.008636863408333022);\">Friday</span> <span style=\"background-color:rgba(135,206,250,0.020295602488985653);\">night</span> <span style=\"background-color:rgba(135,206,250,0.03299354884976834);\">to</span> <span style=\"background-color:rgba(135,206,250,0.10877942470098342);\">make</span> <span style=\"background-color:rgba(135,206,250,0.05098283626503657);\">Bill</span> <span style=\"background-color:rgba(135,206,250,0.23565269956784468);\">Belichick</span> <span style=\"background-color:rgba(135,206,250,0.0547528501966681);\">&#x27;s</span> <span style=\"background-color:rgba(135,206,250,0.029314739579435832);\">decision</span> <span style=\"background-color:rgba(135,206,250,0.03244494457553053);\">on</span> <span style=\"background-color:rgba(135,206,250,0.07849109751401544);\">what</span> <span style=\"background-color:rgba(135,206,250,0.02768573170199365);\">to</span> <span style=\"background-color:rgba(135,206,250,0.048568864796137104);\">do</span> <span style=\"background-color:rgba(135,206,250,0.0041135561580773455);\">with</span> <span style=\"background-color:rgba(135,206,250,0.0439729726056068);\">his</span> <span style=\"background-color:rgba(135,206,250,0.09956209339279368);\">receivers</span> <span style=\"background-color:rgba(135,206,250,0.06162122833571861);\">any</span> <span style=\"background-color:rgba(135,206,250,0.02244024875192147);\">easier</span> <span style=\"background-color:rgba(135,206,250,0.0089085004741802);\">.</span>"
      ],
      "text/plain": [
       "<IPython.core.display.HTML object>"
      ]
     },
     "metadata": {},
     "output_type": "display_data"
    },
    {
     "name": "stdout",
     "output_type": "stream",
     "text": [
      "None\n"
     ]
    },
    {
     "data": {
      "text/html": [
       "<span style=\"background-color:rgba(135,206,250,0.1449155191706297);\">In</span> <span style=\"background-color:rgba(135,206,250,0.3689611411844609);\">quot;helping</span> <span style=\"background-color:rgba(135,206,250,0.008608642924363032);\">themselves</span> <span style=\"background-color:rgba(135,206,250,0.22147023625614284);\">quot</span> <span style=\"background-color:rgba(135,206,250,0.3839448553434764);\">;</span> <span style=\"background-color:rgba(135,206,250,0.47326611278584757);\">Ricky</span> <span style=\"background-color:rgba(135,206,250,0.00048218487829513685);\">Bryant</span> <span style=\"background-color:rgba(135,206,250,0.02644375129606511);\">Chas</span> <span style=\"background-color:rgba(135,206,250,0.013669327992849199);\">Gessner</span> <span style=\"background-color:rgba(135,206,250,0.05561307206922275);\">Michael</span> <span style=\"background-color:rgba(135,206,250,0.22585179530243374);\">Jennings</span> <span style=\"background-color:rgba(135,206,250,0.049784815679534765);\">and</span> <span style=\"background-color:rgba(135,206,250,0.0614963391923305);\">David</span> <span style=\"background-color:rgba(135,206,250,0.23987460548299913);\">Patten</span> <span style=\"background-color:rgba(135,206,250,0.009949640830130573);\">did</span> <span style=\"background-color:rgba(135,206,250,0.041469129544839334);\">nothing</span> <span style=\"background-color:rgba(135,206,250,0.010971629148299945);\">Friday</span> <span style=\"background-color:rgba(135,206,250,0.022228529213568566);\">night</span> <span style=\"background-color:rgba(135,206,250,0.03395969893146825);\">to</span> <span style=\"background-color:rgba(135,206,250,0.11110645926667419);\">make</span> <span style=\"background-color:rgba(135,206,250,0.07957180607369166);\">Bill</span> <span style=\"background-color:rgba(135,206,250,0.22573621499928323);\">Belichick</span> <span style=\"background-color:rgba(135,206,250,0.054496384761196955);\">&#x27;s</span> <span style=\"background-color:rgba(135,206,250,0.03665402204015262);\">decision</span> <span style=\"background-color:rgba(135,206,250,0.03478415318584983);\">on</span> <span style=\"background-color:rgba(135,206,250,0.07452532729775818);\">what</span> <span style=\"background-color:rgba(135,206,250,0.03464416293156359);\">to</span> <span style=\"background-color:rgba(135,206,250,0.05172200217747637);\">do</span> <span style=\"background-color:rgba(135,206,250,0.001668530929115155);\">with</span> <span style=\"background-color:rgba(135,206,250,0.05312559815253312);\">his</span> <span style=\"background-color:rgba(135,206,250,0.08397455393614105);\">receivers</span> <span style=\"background-color:rgba(135,206,250,0.060476578146289386);\">any</span> <span style=\"background-color:rgba(135,206,250,0.02922264278918953);\">easier</span> <span style=\"background-color:rgba(135,206,250,0.008663784473918475);\">.</span>"
      ],
      "text/plain": [
       "<IPython.core.display.HTML object>"
      ]
     },
     "metadata": {},
     "output_type": "display_data"
    },
    {
     "name": "stdout",
     "output_type": "stream",
     "text": [
      "None\n",
      "length not matching after perturbation\n"
     ]
    },
    {
     "data": {
      "text/html": [
       "<span style=\"background-color:rgba(135,206,250,0.24376162431129733);\">Canadian</span> <span style=\"background-color:rgba(135,206,250,1.7092400889294417);\">Press</span> <span style=\"background-color:rgba(135,206,250,0.10267444460337076);\">-</span> <span style=\"background-color:rgba(135,206,250,0.15487830725849622);\">VANCOUVER</span> <span style=\"background-color:rgba(135,206,250,0.07516334621766292);\">(</span> <span style=\"background-color:rgba(135,206,250,0.23174042561220337);\">CP</span> <span style=\"background-color:rgba(135,206,250,0.020789705094145766);\">)</span> <span style=\"background-color:rgba(135,206,250,0.007410621142129611);\">-</span> <span style=\"background-color:rgba(135,206,250,0.06803994961282613);\">The</span> <span style=\"background-color:rgba(135,206,250,0.03484352004878059);\">sister</span> <span style=\"background-color:rgba(135,206,250,0.020319798559201144);\">of</span> <span style=\"background-color:rgba(135,206,250,0.006240294596851768);\">a</span> <span style=\"background-color:rgba(135,206,250,0.03517066652566664);\">man</span> <span style=\"background-color:rgba(135,206,250,0.011069255199263094);\">who</span> <span style=\"background-color:rgba(135,206,250,0.05433963743559812);\">died</span> <span style=\"background-color:rgba(135,206,250,0.017313702722904892);\">after</span> <span style=\"background-color:rgba(135,206,250,0.015901749982092542);\">a</span> <span style=\"background-color:rgba(135,206,250,0.006244240097967905);\">violent</span> <span style=\"background-color:rgba(135,206,250,0.0059812225781493795);\">confrontation</span> <span style=\"background-color:rgba(135,206,250,0.008270171068172384);\">with</span> <span style=\"background-color:rgba(135,206,250,0.02399006610732136);\">police</span> <span style=\"background-color:rgba(135,206,250,0.0029538603143046565);\">has</span> <span style=\"background-color:rgba(135,206,250,0.0459251740073677);\">demanded</span> <span style=\"background-color:rgba(135,206,250,0.00933705222322474);\">the</span> <span style=\"background-color:rgba(135,206,250,0.011618641073805606);\">city</span> <span style=\"background-color:rgba(135,206,250,0.009837914612675858);\">&#x27;s</span> <span style=\"background-color:rgba(135,206,250,0.1956947934609429);\">chief</span> <span style=\"background-color:rgba(135,206,250,0.019970078873021116);\">constable</span> <span style=\"background-color:rgba(135,206,250,0.053981308259957964);\">resign</span> <span style=\"background-color:rgba(135,206,250,0.008842668576098552);\">for</span> <span style=\"background-color:rgba(135,206,250,0.0052974557601110465);\">defending</span> <span style=\"background-color:rgba(135,206,250,0.0068974765047968255);\">the</span> <span style=\"background-color:rgba(135,206,250,0.06415808492811371);\">officer</span> <span style=\"background-color:rgba(135,206,250,0.00903049737845018);\">involved</span> <span style=\"background-color:rgba(135,206,250,0.036405239422116806);\">.</span>"
      ],
      "text/plain": [
       "<IPython.core.display.HTML object>"
      ]
     },
     "metadata": {},
     "output_type": "display_data"
    },
    {
     "name": "stdout",
     "output_type": "stream",
     "text": [
      "None\n"
     ]
    },
    {
     "data": {
      "text/html": [
       "<span style=\"background-color:rgba(135,206,250,0.019388284999670338);\">Canadian</span> <span style=\"background-color:rgba(135,206,250,1.7155352601905716);\">Press</span> <span style=\"background-color:rgba(135,206,250,0.45298125668708494);\">VANCOUVER</span> <span style=\"background-color:rgba(135,206,250,0.3308117977555935);\">CP</span> <span style=\"background-color:rgba(135,206,250,0.07870169930927594);\">The</span> <span style=\"background-color:rgba(135,206,250,0.008186749070871007);\">sister</span> <span style=\"background-color:rgba(135,206,250,0.05269924010368247);\">of</span> <span style=\"background-color:rgba(135,206,250,0.02652553890714745);\">a</span> <span style=\"background-color:rgba(135,206,250,0.03339929041858308);\">man</span> <span style=\"background-color:rgba(135,206,250,0.010624574065344599);\">who</span> <span style=\"background-color:rgba(135,206,250,0.05429428507302533);\">died</span> <span style=\"background-color:rgba(135,206,250,0.030567177047208148);\">after</span> <span style=\"background-color:rgba(135,206,250,0.0008469813642111434);\">a</span> <span style=\"background-color:rgba(135,206,250,0.005767869532608047);\">violent</span> <span style=\"background-color:rgba(135,206,250,0.042614617206977935);\">confrontation</span> <span style=\"background-color:rgba(135,206,250,0.019408167339857094);\">with</span> <span style=\"background-color:rgba(135,206,250,0.009354522058491976);\">police</span> <span style=\"background-color:rgba(135,206,250,0.004772492640987922);\">has</span> <span style=\"background-color:rgba(135,206,250,0.03314736307295624);\">demanded</span> <span style=\"background-color:rgba(135,206,250,0.007463537446533241);\">the</span> <span style=\"background-color:rgba(135,206,250,0.030854989315775138);\">city</span> <span style=\"background-color:rgba(135,206,250,0.06687106845706041);\">s</span> <span style=\"background-color:rgba(135,206,250,0.14134662770486567);\">chief</span> <span style=\"background-color:rgba(135,206,250,0.004114701868045103);\">constable</span> <span style=\"background-color:rgba(135,206,250,0.030692207613803417);\">resign</span> <span style=\"background-color:rgba(135,206,250,0.016807604087628415);\">for</span> <span style=\"background-color:rgba(135,206,250,0.014878896201258249);\">defending</span> <span style=\"background-color:rgba(135,206,250,0.005642158025139002);\">the</span> <span style=\"background-color:rgba(135,206,250,0.006326066327795128);\">officer</span> <span style=\"background-color:rgba(135,206,250,0.0787082801636566);\">involved</span>"
      ],
      "text/plain": [
       "<IPython.core.display.HTML object>"
      ]
     },
     "metadata": {},
     "output_type": "display_data"
    },
    {
     "name": "stdout",
     "output_type": "stream",
     "text": [
      "None\n"
     ]
    },
    {
     "data": {
      "text/html": [
       "<span style=\"background-color:rgba(135,206,250,0.24376162431129733);\">Canadian</span> <span style=\"background-color:rgba(135,206,250,1.7092400889294417);\">Press</span> <span style=\"background-color:rgba(135,206,250,0.10267444460337076);\">-</span> <span style=\"background-color:rgba(135,206,250,0.15487830725849622);\">VANCOUVER</span> <span style=\"background-color:rgba(135,206,250,0.07516334621766292);\">(</span> <span style=\"background-color:rgba(135,206,250,0.23174042561220337);\">CP</span> <span style=\"background-color:rgba(135,206,250,0.020789705094145766);\">)</span> <span style=\"background-color:rgba(135,206,250,0.007410621142129611);\">-</span> <span style=\"background-color:rgba(135,206,250,0.06803994961282613);\">The</span> <span style=\"background-color:rgba(135,206,250,0.03484352004878059);\">sister</span> <span style=\"background-color:rgba(135,206,250,0.020319798559201144);\">of</span> <span style=\"background-color:rgba(135,206,250,0.006240294596851768);\">a</span> <span style=\"background-color:rgba(135,206,250,0.03517066652566664);\">man</span> <span style=\"background-color:rgba(135,206,250,0.011069255199263094);\">who</span> <span style=\"background-color:rgba(135,206,250,0.05433963743559812);\">died</span> <span style=\"background-color:rgba(135,206,250,0.017313702722904892);\">after</span> <span style=\"background-color:rgba(135,206,250,0.015901749982092542);\">a</span> <span style=\"background-color:rgba(135,206,250,0.006244240097967905);\">violent</span> <span style=\"background-color:rgba(135,206,250,0.0059812225781493795);\">confrontation</span> <span style=\"background-color:rgba(135,206,250,0.008270171068172384);\">with</span> <span style=\"background-color:rgba(135,206,250,0.02399006610732136);\">police</span> <span style=\"background-color:rgba(135,206,250,0.0029538603143046565);\">has</span> <span style=\"background-color:rgba(135,206,250,0.0459251740073677);\">demanded</span> <span style=\"background-color:rgba(135,206,250,0.00933705222322474);\">the</span> <span style=\"background-color:rgba(135,206,250,0.011618641073805606);\">city</span> <span style=\"background-color:rgba(135,206,250,0.009837914612675858);\">&#x27;s</span> <span style=\"background-color:rgba(135,206,250,0.1956947934609429);\">chief</span> <span style=\"background-color:rgba(135,206,250,0.019970078873021116);\">constable</span> <span style=\"background-color:rgba(135,206,250,0.053981308259957964);\">resign</span> <span style=\"background-color:rgba(135,206,250,0.008842668576098552);\">for</span> <span style=\"background-color:rgba(135,206,250,0.0052974557601110465);\">defending</span> <span style=\"background-color:rgba(135,206,250,0.0068974765047968255);\">the</span> <span style=\"background-color:rgba(135,206,250,0.06415808492811371);\">officer</span> <span style=\"background-color:rgba(135,206,250,0.00903049737845018);\">involved</span> <span style=\"background-color:rgba(135,206,250,0.036405239422116806);\">.</span>"
      ],
      "text/plain": [
       "<IPython.core.display.HTML object>"
      ]
     },
     "metadata": {},
     "output_type": "display_data"
    },
    {
     "name": "stdout",
     "output_type": "stream",
     "text": [
      "None\n"
     ]
    },
    {
     "data": {
      "text/html": [
       "<span style=\"background-color:rgba(135,206,250,0.21386959985487494);\">Canadian</span> <span style=\"background-color:rgba(135,206,250,1.402797254452299);\">Press</span> <span style=\"background-color:rgba(135,206,250,0.08476949583846166);\">-</span> <span style=\"background-color:rgba(135,206,250,0.15947268085458582);\">VANCOUVER</span> <span style=\"background-color:rgba(135,206,250,0.06683508786435942);\">(</span> <span style=\"background-color:rgba(135,206,250,0.20212714918617955);\">CP</span> <span style=\"background-color:rgba(135,206,250,0.021905736322575812);\">)</span> <span style=\"background-color:rgba(135,206,250,0.005961136410793509);\">-</span> <span style=\"background-color:rgba(135,206,250,0.06103094657478967);\">The</span> <span style=\"background-color:rgba(135,206,250,0.03381892030708733);\">sister</span> <span style=\"background-color:rgba(135,206,250,0.016152701116889618);\">of</span> <span style=\"background-color:rgba(135,206,250,0.007999781151441312);\">a</span> <span style=\"background-color:rgba(135,206,250,0.03625401730123406);\">man</span> <span style=\"background-color:rgba(135,206,250,0.015499775595282844);\">who</span> <span style=\"background-color:rgba(135,206,250,0.06953038225878075);\">died</span> <span style=\"background-color:rgba(135,206,250,0.02645788830234312);\">after</span> <span style=\"background-color:rgba(135,206,250,0.012451139642311667);\">a</span> <span style=\"background-color:rgba(135,206,250,0.005627735260925302);\">violent</span> <span style=\"background-color:rgba(135,206,250,0.20195977231557288);\">confrontatio</span> <span style=\"background-color:rgba(135,206,250,0.21795885558403183);\">nwith</span> <span style=\"background-color:rgba(135,206,250,0.02377989842568179);\">police</span> <span style=\"background-color:rgba(135,206,250,0.00046884312653493524);\">has</span> <span style=\"background-color:rgba(135,206,250,0.04163561818667577);\">demanded</span> <span style=\"background-color:rgba(135,206,250,0.009298778317515957);\">the</span> <span style=\"background-color:rgba(135,206,250,0.009326995688041647);\">city</span> <span style=\"background-color:rgba(135,206,250,0.0149994329514121);\">&#x27;s</span> <span style=\"background-color:rgba(135,206,250,0.18976730485356472);\">chief</span> <span style=\"background-color:rgba(135,206,250,0.016478016758471065);\">constable</span> <span style=\"background-color:rgba(135,206,250,0.052908355576423635);\">resign</span> <span style=\"background-color:rgba(135,206,250,0.010531593433396377);\">for</span> <span style=\"background-color:rgba(135,206,250,0.004282436373769884);\">defending</span> <span style=\"background-color:rgba(135,206,250,0.006312170913924932);\">the</span> <span style=\"background-color:rgba(135,206,250,0.06197057820427748);\">officer</span> <span style=\"background-color:rgba(135,206,250,0.0003788970036743498);\">involved</span> <span style=\"background-color:rgba(135,206,250,0.02871424617794743);\">.</span>"
      ],
      "text/plain": [
       "<IPython.core.display.HTML object>"
      ]
     },
     "metadata": {},
     "output_type": "display_data"
    },
    {
     "name": "stdout",
     "output_type": "stream",
     "text": [
      "None\n"
     ]
    },
    {
     "data": {
      "text/html": [
       "<span style=\"background-color:rgba(135,206,250,0.21925246211037708);\">Supporters</span> <span style=\"background-color:rgba(135,206,250,0.07354660293403174);\">and</span> <span style=\"background-color:rgba(135,206,250,0.17978333603412402);\">rivals</span> <span style=\"background-color:rgba(135,206,250,0.4771139546585898);\">warn</span> <span style=\"background-color:rgba(135,206,250,0.046504616137810276);\">of</span> <span style=\"background-color:rgba(135,206,250,0.15510495531675123);\">possible</span> <span style=\"background-color:rgba(135,206,250,0.19970076353898236);\">fraud</span> <span style=\"background-color:rgba(135,206,250,0.17654315919243557);\">;</span> <span style=\"background-color:rgba(135,206,250,0.17911649831235982);\">government</span> <span style=\"background-color:rgba(135,206,250,0.0966745426422614);\">says</span> <span style=\"background-color:rgba(135,206,250,0.5556819966437894);\">Chavez</span> <span style=\"background-color:rgba(135,206,250,0.027638565173091763);\">&#x27;s</span> <span style=\"background-color:rgba(135,206,250,0.059476841970124525);\">defeat</span> <span style=\"background-color:rgba(135,206,250,0.023533686718915293);\">could</span> <span style=\"background-color:rgba(135,206,250,0.15469328432204113);\">produce</span> <span style=\"background-color:rgba(135,206,250,0.33021297112793);\">turmoil</span> <span style=\"background-color:rgba(135,206,250,0.02463940292657859);\">in</span> <span style=\"background-color:rgba(135,206,250,0.01976844060111738);\">world</span> <span style=\"background-color:rgba(135,206,250,0.04418666968950367);\">oil</span> <span style=\"background-color:rgba(135,206,250,0.21602635031776693);\">market</span> <span style=\"background-color:rgba(135,206,250,0.07413411999246972);\">.</span>"
      ],
      "text/plain": [
       "<IPython.core.display.HTML object>"
      ]
     },
     "metadata": {},
     "output_type": "display_data"
    },
    {
     "name": "stdout",
     "output_type": "stream",
     "text": [
      "None\n"
     ]
    },
    {
     "data": {
      "text/html": [
       "<span style=\"background-color:rgba(135,206,250,0.19075827595662684);\">Supporters</span> <span style=\"background-color:rgba(135,206,250,0.07005101106295177);\">and</span> <span style=\"background-color:rgba(135,206,250,0.18414332095456132);\">rivals</span> <span style=\"background-color:rgba(135,206,250,0.4345257201405525);\">warn</span> <span style=\"background-color:rgba(135,206,250,0.033516565907572314);\">of</span> <span style=\"background-color:rgba(135,206,250,0.1478411903461167);\">possible</span> <span style=\"background-color:rgba(135,206,250,0.13842583932254746);\">fraud</span> <span style=\"background-color:rgba(135,206,250,0.1817767753830369);\">;</span> <span style=\"background-color:rgba(135,206,250,0.16213915029331383);\">government</span> <span style=\"background-color:rgba(135,206,250,0.0916733538252673);\">says</span> <span style=\"background-color:rgba(135,206,250,0.5315869132217614);\">Chavez</span> <span style=\"background-color:rgba(135,206,250,0.030313571938237936);\">&#x27;s</span> <span style=\"background-color:rgba(135,206,250,0.13575878790068924);\">defeat</span> <span style=\"background-color:rgba(135,206,250,0.04029348743381042);\">could</span> <span style=\"background-color:rgba(135,206,250,0.13711487280758627);\">produce</span> <span style=\"background-color:rgba(135,206,250,0.24658372109996052);\">turmoil</span> <span style=\"background-color:rgba(135,206,250,0.0068282665042617135);\">i</span> <span style=\"background-color:rgba(135,206,250,0.2945168488053812);\">nworld</span> <span style=\"background-color:rgba(135,206,250,0.039198480712994595);\">oil</span> <span style=\"background-color:rgba(135,206,250,0.17301780219048288);\">market</span> <span style=\"background-color:rgba(135,206,250,0.0632693420969654);\">.</span>"
      ],
      "text/plain": [
       "<IPython.core.display.HTML object>"
      ]
     },
     "metadata": {},
     "output_type": "display_data"
    },
    {
     "name": "stdout",
     "output_type": "stream",
     "text": [
      "None\n",
      "length not matching after perturbation\n"
     ]
    }
   ],
   "source": [
    "df = train_perturbations\n",
    "orig_col_index = df.columns.get_loc('sentence')\n",
    "tokens_col_index = df.columns.get_loc('tokens_orig')\n",
    "explainer = AllenNLPExplainer1\n",
    "\n",
    "rows_to_review = 40\n",
    "\n",
    "results_matrix = np.zeros((rows_to_review,len(perturbation_list)))\n",
    "\n",
    "# to count the number of times every perturbation leads to a significant change in interpretation\n",
    "count = {}\n",
    "for perturbation in perturbation_list:\n",
    "    count[perturbation] = 0\n",
    "\n",
    "for r in range(rows_to_review):\n",
    "    sentence = {}\n",
    "    tokens = {}\n",
    "    success = {}\n",
    "    pert_indices = {}\n",
    "    scores = {}\n",
    "    prediction = {}\n",
    "    comparison = {}\n",
    "\n",
    "    sentence['orig'] = df.iloc[r, orig_col_index]\n",
    "    tokens['orig'] = df.iloc[r,tokens_col_index]\n",
    "    scores['orig'] = np.array(explainer.explain_instance(sentence['orig'])[0])\n",
    "    prediction['orig'] = explainer.explain_instance(sentence['orig'])[1]\n",
    "    \n",
    "    # creating dict for easier reference\n",
    "    for perturbation in perturbation_list:\n",
    "        col_index = df.columns.get_loc(perturbation + '_concat')\n",
    "        sentence[perturbation] = df.iloc[r, col_index]\n",
    "        col_index = df.columns.get_loc(perturbation + '_tokens')\n",
    "        tokens[perturbation] = df.iloc[r, col_index]\n",
    "        col_index = df.columns.get_loc(perturbation + '_success')\n",
    "        success[perturbation] = df.iloc[r, col_index]\n",
    "        col_index = df.columns.get_loc(perturbation + '_pert_ind')\n",
    "        pert_indices[perturbation] = df.iloc[r, col_index]\n",
    "        if success[perturbation] != 0:\n",
    "            scores[perturbation] = np.array(explainer.explain_instance(sentence[perturbation])[0])\n",
    "            prediction[perturbation] = explainer.explain_instance(sentence[perturbation])[1]\n",
    "        \n",
    "    for perturbation in perturbation_list:\n",
    "        # interpretations should only be compared if a sentence has been modified\n",
    "        if success[perturbation] == 0:\n",
    "            comparison[perturbation] = None\n",
    "            continue\n",
    "        # interpretations should not be compared if prediction has changed\n",
    "        elif prediction[perturbation] != prediction['orig']:\n",
    "            comparison[perturbation] = None\n",
    "            continue\n",
    "        else:\n",
    "            # variable to track whether an important token has been changed \n",
    "            change_flag = 0\n",
    "            for i in pert_indices[perturbation]:\n",
    "            # if gradient greater than 0.05, token can be considered as important\n",
    "                if scores['orig'][i] > 0.05:\n",
    "                    change_flag += 1\n",
    "            # interpretations should not be compared if an important token has been changed\n",
    "            if change_flag > 0:   \n",
    "                comparison[perturbation] = None\n",
    "                continue\n",
    "            else:\n",
    "                \n",
    "                if perturbation in perturbation_reduction: # perturbation category 1\n",
    "                    # remove empty tokens from tokenised version of perturbed sentence\n",
    "                    tokens[perturbation] = [tokens[perturbation][i] for i in range(len(tokens[perturbation])) \n",
    "                               if not i in pert_indices[perturbation]]\n",
    "                    # remove scores of tokens that have been deleted as a result of the perturbation\n",
    "                    orig_score_reduced = np.array([scores['orig'][i] for i in range(len(scores['orig'])) \n",
    "                                   if not i in pert_indices[perturbation]])\n",
    "                    # normalise gradient\n",
    "                    orig_score_reduced = orig_score_reduced/np.sum(orig_score_reduced)\n",
    "                    orig_score_for_comparison = orig_score_reduced\n",
    "                elif perturbation == 'swap_adj': # perturbation category 2\n",
    "                    orig_score_swapped = deepcopy(scores['orig'])\n",
    "                    for i in range(len(pert_indices[perturbation][::2])):\n",
    "                        index_adj_1 = pert_indices[perturbation][i]\n",
    "                        index_adj_2 = pert_indices[perturbation][i+1]\n",
    "                        score_adj_1 = scores['orig'][index_adj_1]\n",
    "                        score_adj_2 = scores['orig'][index_adj_2]\n",
    "                        orig_score_swapped[index_adj_1] = score_adj_2\n",
    "                        orig_score_swapped[index_adj_2] = score_adj_1\n",
    "                    orig_score_for_comparison = orig_score_swapped\n",
    "                else: # remaining perturbations\n",
    "                    orig_score_for_comparison = scores['orig']\n",
    "                \n",
    "                if len(orig_score_for_comparison) != len(scores[perturbation]):\n",
    "                    print('length not matching after perturbation')\n",
    "                    comparison[perturbation] = None\n",
    "                else:\n",
    "                    comparison[perturbation] = spearmanr(orig_score_for_comparison, scores[perturbation])[0]\n",
    "                    if comparison[perturbation] < 0.8:\n",
    "                        count[perturbation] += 1\n",
    "                        visualise_weights(tokens['orig'], scores['orig'])\n",
    "                        visualise_weights(tokens[perturbation], scores[perturbation])\n",
    "    for p in range(len(perturbation_list)):\n",
    "        perturbation = perturbation_list[p]\n",
    "        results_matrix[r,p] = comparison[perturbation]"
   ]
  },
  {
   "cell_type": "code",
   "execution_count": 25,
   "metadata": {},
   "outputs": [
    {
     "data": {
      "text/plain": [
       "array([0.97845921, 0.95042059, 0.78822114, 0.97521083, 0.95922501,\n",
       "       0.9242627 , 0.87250521, 0.8916365 , 0.92874647, 0.99543632])"
      ]
     },
     "execution_count": 25,
     "metadata": {},
     "output_type": "execute_result"
    }
   ],
   "source": [
    "np.nanmean(results_matrix, axis = 0)"
   ]
  },
  {
   "cell_type": "code",
   "execution_count": 26,
   "metadata": {},
   "outputs": [
    {
     "data": {
      "text/plain": [
       "['strip_punct',\n",
       " 'remove_commas',\n",
       " 'remove_all_punct',\n",
       " 'contraction',\n",
       " 'change_first_name',\n",
       " 'change_last_name',\n",
       " 'change_location',\n",
       " 'add_typo',\n",
       " 'switch_gender',\n",
       " 'swap_adj']"
      ]
     },
     "execution_count": 26,
     "metadata": {},
     "output_type": "execute_result"
    }
   ],
   "source": [
    "perturbation_list"
   ]
  },
  {
   "cell_type": "code",
   "execution_count": null,
   "metadata": {},
   "outputs": [],
   "source": []
  }
 ],
 "metadata": {
  "colab": {
   "collapsed_sections": [],
   "name": "Explainer Functions Demo.ipynb",
   "provenance": [],
   "toc_visible": true
  },
  "kernelspec": {
   "display_name": "Python 3",
   "language": "python",
   "name": "python3"
  },
  "language_info": {
   "codemirror_mode": {
    "name": "ipython",
    "version": 3
   },
   "file_extension": ".py",
   "mimetype": "text/x-python",
   "name": "python",
   "nbconvert_exporter": "python",
   "pygments_lexer": "ipython3",
   "version": "3.7.4"
  },
  "toc": {
   "base_numbering": 1,
   "nav_menu": {},
   "number_sections": true,
   "sideBar": true,
   "skip_h1_title": false,
   "title_cell": "Table of Contents",
   "title_sidebar": "Contents",
   "toc_cell": false,
   "toc_position": {
    "height": "calc(100% - 180px)",
    "left": "10px",
    "top": "150px",
    "width": "288px"
   },
   "toc_section_display": true,
   "toc_window_display": true
  },
  "widgets": {
   "application/vnd.jupyter.widget-state+json": {
    "04a0ac5d360a4fff9c28d247fddcc8a0": {
     "model_module": "@jupyter-widgets/controls",
     "model_name": "ProgressStyleModel",
     "state": {
      "_model_module": "@jupyter-widgets/controls",
      "_model_module_version": "1.5.0",
      "_model_name": "ProgressStyleModel",
      "_view_count": null,
      "_view_module": "@jupyter-widgets/base",
      "_view_module_version": "1.2.0",
      "_view_name": "StyleView",
      "bar_color": null,
      "description_width": "initial"
     }
    },
    "0611f3fc3bfa4e82996750745615f002": {
     "model_module": "@jupyter-widgets/base",
     "model_name": "LayoutModel",
     "state": {
      "_model_module": "@jupyter-widgets/base",
      "_model_module_version": "1.2.0",
      "_model_name": "LayoutModel",
      "_view_count": null,
      "_view_module": "@jupyter-widgets/base",
      "_view_module_version": "1.2.0",
      "_view_name": "LayoutView",
      "align_content": null,
      "align_items": null,
      "align_self": null,
      "border": null,
      "bottom": null,
      "display": null,
      "flex": null,
      "flex_flow": null,
      "grid_area": null,
      "grid_auto_columns": null,
      "grid_auto_flow": null,
      "grid_auto_rows": null,
      "grid_column": null,
      "grid_gap": null,
      "grid_row": null,
      "grid_template_areas": null,
      "grid_template_columns": null,
      "grid_template_rows": null,
      "height": null,
      "justify_content": null,
      "justify_items": null,
      "left": null,
      "margin": null,
      "max_height": null,
      "max_width": null,
      "min_height": null,
      "min_width": null,
      "object_fit": null,
      "object_position": null,
      "order": null,
      "overflow": null,
      "overflow_x": null,
      "overflow_y": null,
      "padding": null,
      "right": null,
      "top": null,
      "visibility": null,
      "width": null
     }
    },
    "07c77d2fc1114bb0b980f9cd2c3629ac": {
     "model_module": "@jupyter-widgets/controls",
     "model_name": "ProgressStyleModel",
     "state": {
      "_model_module": "@jupyter-widgets/controls",
      "_model_module_version": "1.5.0",
      "_model_name": "ProgressStyleModel",
      "_view_count": null,
      "_view_module": "@jupyter-widgets/base",
      "_view_module_version": "1.2.0",
      "_view_name": "StyleView",
      "bar_color": null,
      "description_width": "initial"
     }
    },
    "0e69e47abc92498894e2abaca9523e4e": {
     "model_module": "@jupyter-widgets/base",
     "model_name": "LayoutModel",
     "state": {
      "_model_module": "@jupyter-widgets/base",
      "_model_module_version": "1.2.0",
      "_model_name": "LayoutModel",
      "_view_count": null,
      "_view_module": "@jupyter-widgets/base",
      "_view_module_version": "1.2.0",
      "_view_name": "LayoutView",
      "align_content": null,
      "align_items": null,
      "align_self": null,
      "border": null,
      "bottom": null,
      "display": null,
      "flex": null,
      "flex_flow": null,
      "grid_area": null,
      "grid_auto_columns": null,
      "grid_auto_flow": null,
      "grid_auto_rows": null,
      "grid_column": null,
      "grid_gap": null,
      "grid_row": null,
      "grid_template_areas": null,
      "grid_template_columns": null,
      "grid_template_rows": null,
      "height": null,
      "justify_content": null,
      "justify_items": null,
      "left": null,
      "margin": null,
      "max_height": null,
      "max_width": null,
      "min_height": null,
      "min_width": null,
      "object_fit": null,
      "object_position": null,
      "order": null,
      "overflow": null,
      "overflow_x": null,
      "overflow_y": null,
      "padding": null,
      "right": null,
      "top": null,
      "visibility": null,
      "width": null
     }
    },
    "0feafbf7c5f74aa784cfc37142758e0a": {
     "model_module": "@jupyter-widgets/controls",
     "model_name": "HTMLModel",
     "state": {
      "_dom_classes": [],
      "_model_module": "@jupyter-widgets/controls",
      "_model_module_version": "1.5.0",
      "_model_name": "HTMLModel",
      "_view_count": null,
      "_view_module": "@jupyter-widgets/controls",
      "_view_module_version": "1.5.0",
      "_view_name": "HTMLView",
      "description": "",
      "description_tooltip": null,
      "layout": "IPY_MODEL_562d883f39cf496ca012385f993caa49",
      "placeholder": "​",
      "style": "IPY_MODEL_e0f1019dfdb146dabd5b9c436d2947cf",
      "value": " 7600/0 [00:00&lt;00:00, 15765.64 examples/s]"
     }
    },
    "12f99bec6e8b4cba8dd61c5c030e99cf": {
     "model_module": "@jupyter-widgets/controls",
     "model_name": "HBoxModel",
     "state": {
      "_dom_classes": [],
      "_model_module": "@jupyter-widgets/controls",
      "_model_module_version": "1.5.0",
      "_model_name": "HBoxModel",
      "_view_count": null,
      "_view_module": "@jupyter-widgets/controls",
      "_view_module_version": "1.5.0",
      "_view_name": "HBoxView",
      "box_style": "",
      "children": [
       "IPY_MODEL_4c15a9f2b0264957a9d57160f6a93f4f",
       "IPY_MODEL_3b154ad8c06b4eb2aa7fef9b6df5836d"
      ],
      "layout": "IPY_MODEL_b8ab522d3421469193520b9c91117021"
     }
    },
    "18ae45818d594787a332b6f9e32b1d84": {
     "model_module": "@jupyter-widgets/base",
     "model_name": "LayoutModel",
     "state": {
      "_model_module": "@jupyter-widgets/base",
      "_model_module_version": "1.2.0",
      "_model_name": "LayoutModel",
      "_view_count": null,
      "_view_module": "@jupyter-widgets/base",
      "_view_module_version": "1.2.0",
      "_view_name": "LayoutView",
      "align_content": null,
      "align_items": null,
      "align_self": null,
      "border": null,
      "bottom": null,
      "display": null,
      "flex": null,
      "flex_flow": null,
      "grid_area": null,
      "grid_auto_columns": null,
      "grid_auto_flow": null,
      "grid_auto_rows": null,
      "grid_column": null,
      "grid_gap": null,
      "grid_row": null,
      "grid_template_areas": null,
      "grid_template_columns": null,
      "grid_template_rows": null,
      "height": null,
      "justify_content": null,
      "justify_items": null,
      "left": null,
      "margin": null,
      "max_height": null,
      "max_width": null,
      "min_height": null,
      "min_width": null,
      "object_fit": null,
      "object_position": null,
      "order": null,
      "overflow": null,
      "overflow_x": null,
      "overflow_y": null,
      "padding": null,
      "right": null,
      "top": null,
      "visibility": null,
      "width": null
     }
    },
    "21024fd85ce54ccc979d7424223cd63b": {
     "model_module": "@jupyter-widgets/base",
     "model_name": "LayoutModel",
     "state": {
      "_model_module": "@jupyter-widgets/base",
      "_model_module_version": "1.2.0",
      "_model_name": "LayoutModel",
      "_view_count": null,
      "_view_module": "@jupyter-widgets/base",
      "_view_module_version": "1.2.0",
      "_view_name": "LayoutView",
      "align_content": null,
      "align_items": null,
      "align_self": null,
      "border": null,
      "bottom": null,
      "display": null,
      "flex": null,
      "flex_flow": null,
      "grid_area": null,
      "grid_auto_columns": null,
      "grid_auto_flow": null,
      "grid_auto_rows": null,
      "grid_column": null,
      "grid_gap": null,
      "grid_row": null,
      "grid_template_areas": null,
      "grid_template_columns": null,
      "grid_template_rows": null,
      "height": null,
      "justify_content": null,
      "justify_items": null,
      "left": null,
      "margin": null,
      "max_height": null,
      "max_width": null,
      "min_height": null,
      "min_width": null,
      "object_fit": null,
      "object_position": null,
      "order": null,
      "overflow": null,
      "overflow_x": null,
      "overflow_y": null,
      "padding": null,
      "right": null,
      "top": null,
      "visibility": null,
      "width": null
     }
    },
    "212ee5b8fece4c019a0cc9cbcda28fb2": {
     "model_module": "@jupyter-widgets/controls",
     "model_name": "FloatProgressModel",
     "state": {
      "_dom_classes": [],
      "_model_module": "@jupyter-widgets/controls",
      "_model_module_version": "1.5.0",
      "_model_name": "FloatProgressModel",
      "_view_count": null,
      "_view_module": "@jupyter-widgets/controls",
      "_view_module_version": "1.5.0",
      "_view_name": "ProgressView",
      "bar_style": "info",
      "description": "",
      "description_tooltip": null,
      "layout": "IPY_MODEL_21024fd85ce54ccc979d7424223cd63b",
      "max": 1,
      "min": 0,
      "orientation": "horizontal",
      "style": "IPY_MODEL_ebb64d375ded4bb3af0dcc16b0202543",
      "value": 1
     }
    },
    "24473f0e78534922818609efda4d522b": {
     "model_module": "@jupyter-widgets/controls",
     "model_name": "DescriptionStyleModel",
     "state": {
      "_model_module": "@jupyter-widgets/controls",
      "_model_module_version": "1.5.0",
      "_model_name": "DescriptionStyleModel",
      "_view_count": null,
      "_view_module": "@jupyter-widgets/base",
      "_view_module_version": "1.2.0",
      "_view_name": "StyleView",
      "description_width": ""
     }
    },
    "26ffaa6ea2a841d68281e0b507baa9fe": {
     "model_module": "@jupyter-widgets/controls",
     "model_name": "HTMLModel",
     "state": {
      "_dom_classes": [],
      "_model_module": "@jupyter-widgets/controls",
      "_model_module_version": "1.5.0",
      "_model_name": "HTMLModel",
      "_view_count": null,
      "_view_module": "@jupyter-widgets/controls",
      "_view_module_version": "1.5.0",
      "_view_name": "HTMLView",
      "description": "",
      "description_tooltip": null,
      "layout": "IPY_MODEL_cb9ef41438464114bd6aa05615bf0d69",
      "placeholder": "​",
      "style": "IPY_MODEL_7772112aed554c2498183c0a1cba9f8b",
      "value": " 54/? [00:06&lt;00:00,  5.53it/s]"
     }
    },
    "2d5721753b1044ae9c7c6e4528ba9d83": {
     "model_module": "@jupyter-widgets/controls",
     "model_name": "HTMLModel",
     "state": {
      "_dom_classes": [],
      "_model_module": "@jupyter-widgets/controls",
      "_model_module_version": "1.5.0",
      "_model_name": "HTMLModel",
      "_view_count": null,
      "_view_module": "@jupyter-widgets/controls",
      "_view_module_version": "1.5.0",
      "_view_name": "HTMLView",
      "description": "",
      "description_tooltip": null,
      "layout": "IPY_MODEL_2dd557d9802b49008f10d1871025e393",
      "placeholder": "​",
      "style": "IPY_MODEL_24473f0e78534922818609efda4d522b",
      "value": " 29.5M/? [00:01&lt;00:00, 21.2MB/s]"
     }
    },
    "2dd557d9802b49008f10d1871025e393": {
     "model_module": "@jupyter-widgets/base",
     "model_name": "LayoutModel",
     "state": {
      "_model_module": "@jupyter-widgets/base",
      "_model_module_version": "1.2.0",
      "_model_name": "LayoutModel",
      "_view_count": null,
      "_view_module": "@jupyter-widgets/base",
      "_view_module_version": "1.2.0",
      "_view_name": "LayoutView",
      "align_content": null,
      "align_items": null,
      "align_self": null,
      "border": null,
      "bottom": null,
      "display": null,
      "flex": null,
      "flex_flow": null,
      "grid_area": null,
      "grid_auto_columns": null,
      "grid_auto_flow": null,
      "grid_auto_rows": null,
      "grid_column": null,
      "grid_gap": null,
      "grid_row": null,
      "grid_template_areas": null,
      "grid_template_columns": null,
      "grid_template_rows": null,
      "height": null,
      "justify_content": null,
      "justify_items": null,
      "left": null,
      "margin": null,
      "max_height": null,
      "max_width": null,
      "min_height": null,
      "min_width": null,
      "object_fit": null,
      "object_position": null,
      "order": null,
      "overflow": null,
      "overflow_x": null,
      "overflow_y": null,
      "padding": null,
      "right": null,
      "top": null,
      "visibility": null,
      "width": null
     }
    },
    "2f293ebf451447a4bb48aaa449d48ced": {
     "model_module": "@jupyter-widgets/controls",
     "model_name": "ProgressStyleModel",
     "state": {
      "_model_module": "@jupyter-widgets/controls",
      "_model_module_version": "1.5.0",
      "_model_name": "ProgressStyleModel",
      "_view_count": null,
      "_view_module": "@jupyter-widgets/base",
      "_view_module_version": "1.2.0",
      "_view_name": "StyleView",
      "bar_color": null,
      "description_width": "initial"
     }
    },
    "3189b2f6652642559d3749352cd935fe": {
     "model_module": "@jupyter-widgets/base",
     "model_name": "LayoutModel",
     "state": {
      "_model_module": "@jupyter-widgets/base",
      "_model_module_version": "1.2.0",
      "_model_name": "LayoutModel",
      "_view_count": null,
      "_view_module": "@jupyter-widgets/base",
      "_view_module_version": "1.2.0",
      "_view_name": "LayoutView",
      "align_content": null,
      "align_items": null,
      "align_self": null,
      "border": null,
      "bottom": null,
      "display": null,
      "flex": null,
      "flex_flow": null,
      "grid_area": null,
      "grid_auto_columns": null,
      "grid_auto_flow": null,
      "grid_auto_rows": null,
      "grid_column": null,
      "grid_gap": null,
      "grid_row": null,
      "grid_template_areas": null,
      "grid_template_columns": null,
      "grid_template_rows": null,
      "height": null,
      "justify_content": null,
      "justify_items": null,
      "left": null,
      "margin": null,
      "max_height": null,
      "max_width": null,
      "min_height": null,
      "min_width": null,
      "object_fit": null,
      "object_position": null,
      "order": null,
      "overflow": null,
      "overflow_x": null,
      "overflow_y": null,
      "padding": null,
      "right": null,
      "top": null,
      "visibility": null,
      "width": null
     }
    },
    "31df4705c0c94a9a9d969ff8cef100f8": {
     "model_module": "@jupyter-widgets/base",
     "model_name": "LayoutModel",
     "state": {
      "_model_module": "@jupyter-widgets/base",
      "_model_module_version": "1.2.0",
      "_model_name": "LayoutModel",
      "_view_count": null,
      "_view_module": "@jupyter-widgets/base",
      "_view_module_version": "1.2.0",
      "_view_name": "LayoutView",
      "align_content": null,
      "align_items": null,
      "align_self": null,
      "border": null,
      "bottom": null,
      "display": null,
      "flex": null,
      "flex_flow": null,
      "grid_area": null,
      "grid_auto_columns": null,
      "grid_auto_flow": null,
      "grid_auto_rows": null,
      "grid_column": null,
      "grid_gap": null,
      "grid_row": null,
      "grid_template_areas": null,
      "grid_template_columns": null,
      "grid_template_rows": null,
      "height": null,
      "justify_content": null,
      "justify_items": null,
      "left": null,
      "margin": null,
      "max_height": null,
      "max_width": null,
      "min_height": null,
      "min_width": null,
      "object_fit": null,
      "object_position": null,
      "order": null,
      "overflow": null,
      "overflow_x": null,
      "overflow_y": null,
      "padding": null,
      "right": null,
      "top": null,
      "visibility": null,
      "width": null
     }
    },
    "38832887ec424661a446c0a05c5abfeb": {
     "model_module": "@jupyter-widgets/controls",
     "model_name": "ProgressStyleModel",
     "state": {
      "_model_module": "@jupyter-widgets/controls",
      "_model_module_version": "1.5.0",
      "_model_name": "ProgressStyleModel",
      "_view_count": null,
      "_view_module": "@jupyter-widgets/base",
      "_view_module_version": "1.2.0",
      "_view_name": "StyleView",
      "bar_color": null,
      "description_width": "initial"
     }
    },
    "3a04f7e489114066a9d57c44f539e97c": {
     "model_module": "@jupyter-widgets/base",
     "model_name": "LayoutModel",
     "state": {
      "_model_module": "@jupyter-widgets/base",
      "_model_module_version": "1.2.0",
      "_model_name": "LayoutModel",
      "_view_count": null,
      "_view_module": "@jupyter-widgets/base",
      "_view_module_version": "1.2.0",
      "_view_name": "LayoutView",
      "align_content": null,
      "align_items": null,
      "align_self": null,
      "border": null,
      "bottom": null,
      "display": null,
      "flex": null,
      "flex_flow": null,
      "grid_area": null,
      "grid_auto_columns": null,
      "grid_auto_flow": null,
      "grid_auto_rows": null,
      "grid_column": null,
      "grid_gap": null,
      "grid_row": null,
      "grid_template_areas": null,
      "grid_template_columns": null,
      "grid_template_rows": null,
      "height": null,
      "justify_content": null,
      "justify_items": null,
      "left": null,
      "margin": null,
      "max_height": null,
      "max_width": null,
      "min_height": null,
      "min_width": null,
      "object_fit": null,
      "object_position": null,
      "order": null,
      "overflow": null,
      "overflow_x": null,
      "overflow_y": null,
      "padding": null,
      "right": null,
      "top": null,
      "visibility": null,
      "width": null
     }
    },
    "3a6f416e3c45463f8079bc85d7a59e32": {
     "model_module": "@jupyter-widgets/controls",
     "model_name": "HBoxModel",
     "state": {
      "_dom_classes": [],
      "_model_module": "@jupyter-widgets/controls",
      "_model_module_version": "1.5.0",
      "_model_name": "HBoxModel",
      "_view_count": null,
      "_view_module": "@jupyter-widgets/controls",
      "_view_module_version": "1.5.0",
      "_view_name": "HBoxView",
      "box_style": "",
      "children": [
       "IPY_MODEL_92c26b5de3bd4490a7db6a30807fc78f",
       "IPY_MODEL_f8991862089142b78f544c47a710d188"
      ],
      "layout": "IPY_MODEL_c76ad19c147a41ffa2d06f020a0ed1f6"
     }
    },
    "3b154ad8c06b4eb2aa7fef9b6df5836d": {
     "model_module": "@jupyter-widgets/controls",
     "model_name": "HTMLModel",
     "state": {
      "_dom_classes": [],
      "_model_module": "@jupyter-widgets/controls",
      "_model_module_version": "1.5.0",
      "_model_name": "HTMLModel",
      "_view_count": null,
      "_view_module": "@jupyter-widgets/controls",
      "_view_module_version": "1.5.0",
      "_view_name": "HTMLView",
      "description": "",
      "description_tooltip": null,
      "layout": "IPY_MODEL_77800086794349339ed745dbaf21e0f2",
      "placeholder": "​",
      "style": "IPY_MODEL_e4742e9fed7b4bca8f183e444471b5c5",
      "value": " 54/? [00:06&lt;00:00,  5.54it/s]"
     }
    },
    "3cd6a856c6a84bac81aa0287f2afa0df": {
     "model_module": "@jupyter-widgets/controls",
     "model_name": "ProgressStyleModel",
     "state": {
      "_model_module": "@jupyter-widgets/controls",
      "_model_module_version": "1.5.0",
      "_model_name": "ProgressStyleModel",
      "_view_count": null,
      "_view_module": "@jupyter-widgets/base",
      "_view_module_version": "1.2.0",
      "_view_name": "StyleView",
      "bar_color": null,
      "description_width": "initial"
     }
    },
    "4052af78287747e6877fc7792671b6a3": {
     "model_module": "@jupyter-widgets/base",
     "model_name": "LayoutModel",
     "state": {
      "_model_module": "@jupyter-widgets/base",
      "_model_module_version": "1.2.0",
      "_model_name": "LayoutModel",
      "_view_count": null,
      "_view_module": "@jupyter-widgets/base",
      "_view_module_version": "1.2.0",
      "_view_name": "LayoutView",
      "align_content": null,
      "align_items": null,
      "align_self": null,
      "border": null,
      "bottom": null,
      "display": null,
      "flex": null,
      "flex_flow": null,
      "grid_area": null,
      "grid_auto_columns": null,
      "grid_auto_flow": null,
      "grid_auto_rows": null,
      "grid_column": null,
      "grid_gap": null,
      "grid_row": null,
      "grid_template_areas": null,
      "grid_template_columns": null,
      "grid_template_rows": null,
      "height": null,
      "justify_content": null,
      "justify_items": null,
      "left": null,
      "margin": null,
      "max_height": null,
      "max_width": null,
      "min_height": null,
      "min_width": null,
      "object_fit": null,
      "object_position": null,
      "order": null,
      "overflow": null,
      "overflow_x": null,
      "overflow_y": null,
      "padding": null,
      "right": null,
      "top": null,
      "visibility": null,
      "width": null
     }
    },
    "484c9b43cd6044679ed14d38fdf51cea": {
     "model_module": "@jupyter-widgets/base",
     "model_name": "LayoutModel",
     "state": {
      "_model_module": "@jupyter-widgets/base",
      "_model_module_version": "1.2.0",
      "_model_name": "LayoutModel",
      "_view_count": null,
      "_view_module": "@jupyter-widgets/base",
      "_view_module_version": "1.2.0",
      "_view_name": "LayoutView",
      "align_content": null,
      "align_items": null,
      "align_self": null,
      "border": null,
      "bottom": null,
      "display": null,
      "flex": null,
      "flex_flow": null,
      "grid_area": null,
      "grid_auto_columns": null,
      "grid_auto_flow": null,
      "grid_auto_rows": null,
      "grid_column": null,
      "grid_gap": null,
      "grid_row": null,
      "grid_template_areas": null,
      "grid_template_columns": null,
      "grid_template_rows": null,
      "height": null,
      "justify_content": null,
      "justify_items": null,
      "left": null,
      "margin": null,
      "max_height": null,
      "max_width": null,
      "min_height": null,
      "min_width": null,
      "object_fit": null,
      "object_position": null,
      "order": null,
      "overflow": null,
      "overflow_x": null,
      "overflow_y": null,
      "padding": null,
      "right": null,
      "top": null,
      "visibility": null,
      "width": null
     }
    },
    "490c2a7e0a7c4a87ade4b4ec62202698": {
     "model_module": "@jupyter-widgets/controls",
     "model_name": "DescriptionStyleModel",
     "state": {
      "_model_module": "@jupyter-widgets/controls",
      "_model_module_version": "1.5.0",
      "_model_name": "DescriptionStyleModel",
      "_view_count": null,
      "_view_module": "@jupyter-widgets/base",
      "_view_module_version": "1.2.0",
      "_view_name": "StyleView",
      "description_width": ""
     }
    },
    "4981d5992ad44e48a525f5462e958a13": {
     "model_module": "@jupyter-widgets/controls",
     "model_name": "DescriptionStyleModel",
     "state": {
      "_model_module": "@jupyter-widgets/controls",
      "_model_module_version": "1.5.0",
      "_model_name": "DescriptionStyleModel",
      "_view_count": null,
      "_view_module": "@jupyter-widgets/base",
      "_view_module_version": "1.2.0",
      "_view_name": "StyleView",
      "description_width": ""
     }
    },
    "4a4155c9c7da4824a7dc8d0eedc16b30": {
     "model_module": "@jupyter-widgets/controls",
     "model_name": "ProgressStyleModel",
     "state": {
      "_model_module": "@jupyter-widgets/controls",
      "_model_module_version": "1.5.0",
      "_model_name": "ProgressStyleModel",
      "_view_count": null,
      "_view_module": "@jupyter-widgets/base",
      "_view_module_version": "1.2.0",
      "_view_name": "StyleView",
      "bar_color": null,
      "description_width": "initial"
     }
    },
    "4c15a9f2b0264957a9d57160f6a93f4f": {
     "model_module": "@jupyter-widgets/controls",
     "model_name": "FloatProgressModel",
     "state": {
      "_dom_classes": [],
      "_model_module": "@jupyter-widgets/controls",
      "_model_module_version": "1.5.0",
      "_model_name": "FloatProgressModel",
      "_view_count": null,
      "_view_module": "@jupyter-widgets/controls",
      "_view_module_version": "1.5.0",
      "_view_name": "ProgressView",
      "bar_style": "",
      "description": "",
      "description_tooltip": null,
      "layout": "IPY_MODEL_7d7230cfbaae45adb0cbdd6477974fda",
      "max": 48,
      "min": 0,
      "orientation": "horizontal",
      "style": "IPY_MODEL_d3a9a11ad9394e0ca5169a5160cf8b31",
      "value": 48
     }
    },
    "4dbae7ab498742018abee10fb4bdc5e6": {
     "model_module": "@jupyter-widgets/controls",
     "model_name": "DescriptionStyleModel",
     "state": {
      "_model_module": "@jupyter-widgets/controls",
      "_model_module_version": "1.5.0",
      "_model_name": "DescriptionStyleModel",
      "_view_count": null,
      "_view_module": "@jupyter-widgets/base",
      "_view_module_version": "1.2.0",
      "_view_name": "StyleView",
      "description_width": ""
     }
    },
    "559e1f3f92a240bbb20bec9df74eb791": {
     "model_module": "@jupyter-widgets/controls",
     "model_name": "HBoxModel",
     "state": {
      "_dom_classes": [],
      "_model_module": "@jupyter-widgets/controls",
      "_model_module_version": "1.5.0",
      "_model_name": "HBoxModel",
      "_view_count": null,
      "_view_module": "@jupyter-widgets/controls",
      "_view_module_version": "1.5.0",
      "_view_name": "HBoxView",
      "box_style": "",
      "children": [
       "IPY_MODEL_7c7b4aa967bb49c299cee14e70f0b527",
       "IPY_MODEL_90578b5699b54ffbbbc2548da04cf4a0"
      ],
      "layout": "IPY_MODEL_0e69e47abc92498894e2abaca9523e4e"
     }
    },
    "562d883f39cf496ca012385f993caa49": {
     "model_module": "@jupyter-widgets/base",
     "model_name": "LayoutModel",
     "state": {
      "_model_module": "@jupyter-widgets/base",
      "_model_module_version": "1.2.0",
      "_model_name": "LayoutModel",
      "_view_count": null,
      "_view_module": "@jupyter-widgets/base",
      "_view_module_version": "1.2.0",
      "_view_name": "LayoutView",
      "align_content": null,
      "align_items": null,
      "align_self": null,
      "border": null,
      "bottom": null,
      "display": null,
      "flex": null,
      "flex_flow": null,
      "grid_area": null,
      "grid_auto_columns": null,
      "grid_auto_flow": null,
      "grid_auto_rows": null,
      "grid_column": null,
      "grid_gap": null,
      "grid_row": null,
      "grid_template_areas": null,
      "grid_template_columns": null,
      "grid_template_rows": null,
      "height": null,
      "justify_content": null,
      "justify_items": null,
      "left": null,
      "margin": null,
      "max_height": null,
      "max_width": null,
      "min_height": null,
      "min_width": null,
      "object_fit": null,
      "object_position": null,
      "order": null,
      "overflow": null,
      "overflow_x": null,
      "overflow_y": null,
      "padding": null,
      "right": null,
      "top": null,
      "visibility": null,
      "width": null
     }
    },
    "5a5ef3bfd9e444a7a8158f3cf6afb39b": {
     "model_module": "@jupyter-widgets/base",
     "model_name": "LayoutModel",
     "state": {
      "_model_module": "@jupyter-widgets/base",
      "_model_module_version": "1.2.0",
      "_model_name": "LayoutModel",
      "_view_count": null,
      "_view_module": "@jupyter-widgets/base",
      "_view_module_version": "1.2.0",
      "_view_name": "LayoutView",
      "align_content": null,
      "align_items": null,
      "align_self": null,
      "border": null,
      "bottom": null,
      "display": null,
      "flex": null,
      "flex_flow": null,
      "grid_area": null,
      "grid_auto_columns": null,
      "grid_auto_flow": null,
      "grid_auto_rows": null,
      "grid_column": null,
      "grid_gap": null,
      "grid_row": null,
      "grid_template_areas": null,
      "grid_template_columns": null,
      "grid_template_rows": null,
      "height": null,
      "justify_content": null,
      "justify_items": null,
      "left": null,
      "margin": null,
      "max_height": null,
      "max_width": null,
      "min_height": null,
      "min_width": null,
      "object_fit": null,
      "object_position": null,
      "order": null,
      "overflow": null,
      "overflow_x": null,
      "overflow_y": null,
      "padding": null,
      "right": null,
      "top": null,
      "visibility": null,
      "width": null
     }
    },
    "5c00190cc7294edeafa5454daa18afa5": {
     "model_module": "@jupyter-widgets/controls",
     "model_name": "ProgressStyleModel",
     "state": {
      "_model_module": "@jupyter-widgets/controls",
      "_model_module_version": "1.5.0",
      "_model_name": "ProgressStyleModel",
      "_view_count": null,
      "_view_module": "@jupyter-widgets/base",
      "_view_module_version": "1.2.0",
      "_view_name": "StyleView",
      "bar_color": null,
      "description_width": "initial"
     }
    },
    "5fb81aa419c2410ea4a77617896be4d0": {
     "model_module": "@jupyter-widgets/base",
     "model_name": "LayoutModel",
     "state": {
      "_model_module": "@jupyter-widgets/base",
      "_model_module_version": "1.2.0",
      "_model_name": "LayoutModel",
      "_view_count": null,
      "_view_module": "@jupyter-widgets/base",
      "_view_module_version": "1.2.0",
      "_view_name": "LayoutView",
      "align_content": null,
      "align_items": null,
      "align_self": null,
      "border": null,
      "bottom": null,
      "display": null,
      "flex": null,
      "flex_flow": null,
      "grid_area": null,
      "grid_auto_columns": null,
      "grid_auto_flow": null,
      "grid_auto_rows": null,
      "grid_column": null,
      "grid_gap": null,
      "grid_row": null,
      "grid_template_areas": null,
      "grid_template_columns": null,
      "grid_template_rows": null,
      "height": null,
      "justify_content": null,
      "justify_items": null,
      "left": null,
      "margin": null,
      "max_height": null,
      "max_width": null,
      "min_height": null,
      "min_width": null,
      "object_fit": null,
      "object_position": null,
      "order": null,
      "overflow": null,
      "overflow_x": null,
      "overflow_y": null,
      "padding": null,
      "right": null,
      "top": null,
      "visibility": null,
      "width": null
     }
    },
    "6c25a88bd2784c7196d22e570b7c420d": {
     "model_module": "@jupyter-widgets/controls",
     "model_name": "FloatProgressModel",
     "state": {
      "_dom_classes": [],
      "_model_module": "@jupyter-widgets/controls",
      "_model_module_version": "1.5.0",
      "_model_name": "FloatProgressModel",
      "_view_count": null,
      "_view_module": "@jupyter-widgets/controls",
      "_view_module_version": "1.5.0",
      "_view_name": "ProgressView",
      "bar_style": "",
      "description": "",
      "description_tooltip": null,
      "layout": "IPY_MODEL_4052af78287747e6877fc7792671b6a3",
      "max": 48,
      "min": 0,
      "orientation": "horizontal",
      "style": "IPY_MODEL_4a4155c9c7da4824a7dc8d0eedc16b30",
      "value": 48
     }
    },
    "6cbf78f485284220ad2a263961392d14": {
     "model_module": "@jupyter-widgets/controls",
     "model_name": "HTMLModel",
     "state": {
      "_dom_classes": [],
      "_model_module": "@jupyter-widgets/controls",
      "_model_module_version": "1.5.0",
      "_model_name": "HTMLModel",
      "_view_count": null,
      "_view_module": "@jupyter-widgets/controls",
      "_view_module_version": "1.5.0",
      "_view_name": "HTMLView",
      "description": "",
      "description_tooltip": null,
      "layout": "IPY_MODEL_18ae45818d594787a332b6f9e32b1d84",
      "placeholder": "​",
      "style": "IPY_MODEL_a55474312ac9452095ab6194fc8f7a35",
      "value": " 54/? [00:06&lt;00:00,  5.47it/s]"
     }
    },
    "6d431d96bf284215bbf9d6e9698b5528": {
     "model_module": "@jupyter-widgets/base",
     "model_name": "LayoutModel",
     "state": {
      "_model_module": "@jupyter-widgets/base",
      "_model_module_version": "1.2.0",
      "_model_name": "LayoutModel",
      "_view_count": null,
      "_view_module": "@jupyter-widgets/base",
      "_view_module_version": "1.2.0",
      "_view_name": "LayoutView",
      "align_content": null,
      "align_items": null,
      "align_self": null,
      "border": null,
      "bottom": null,
      "display": null,
      "flex": null,
      "flex_flow": null,
      "grid_area": null,
      "grid_auto_columns": null,
      "grid_auto_flow": null,
      "grid_auto_rows": null,
      "grid_column": null,
      "grid_gap": null,
      "grid_row": null,
      "grid_template_areas": null,
      "grid_template_columns": null,
      "grid_template_rows": null,
      "height": null,
      "justify_content": null,
      "justify_items": null,
      "left": null,
      "margin": null,
      "max_height": null,
      "max_width": null,
      "min_height": null,
      "min_width": null,
      "object_fit": null,
      "object_position": null,
      "order": null,
      "overflow": null,
      "overflow_x": null,
      "overflow_y": null,
      "padding": null,
      "right": null,
      "top": null,
      "visibility": null,
      "width": null
     }
    },
    "6e00848f13ae42a488e9bfa8d7060136": {
     "model_module": "@jupyter-widgets/controls",
     "model_name": "HBoxModel",
     "state": {
      "_dom_classes": [],
      "_model_module": "@jupyter-widgets/controls",
      "_model_module_version": "1.5.0",
      "_model_name": "HBoxModel",
      "_view_count": null,
      "_view_module": "@jupyter-widgets/controls",
      "_view_module_version": "1.5.0",
      "_view_name": "HBoxView",
      "box_style": "",
      "children": [
       "IPY_MODEL_de10f4b566cd45e1ba2a3b8443217a88",
       "IPY_MODEL_6cbf78f485284220ad2a263961392d14"
      ],
      "layout": "IPY_MODEL_0611f3fc3bfa4e82996750745615f002"
     }
    },
    "70f7a890d8574be396775b103b535934": {
     "model_module": "@jupyter-widgets/controls",
     "model_name": "HBoxModel",
     "state": {
      "_dom_classes": [],
      "_model_module": "@jupyter-widgets/controls",
      "_model_module_version": "1.5.0",
      "_model_name": "HBoxModel",
      "_view_count": null,
      "_view_module": "@jupyter-widgets/controls",
      "_view_module_version": "1.5.0",
      "_view_name": "HBoxView",
      "box_style": "",
      "children": [
       "IPY_MODEL_a0c0c0b4fad2491a90e1e6773a720c4b",
       "IPY_MODEL_c9ca6d9d06f24b8c903abc4fe42472cc"
      ],
      "layout": "IPY_MODEL_3189b2f6652642559d3749352cd935fe"
     }
    },
    "776ff67046f945a9b00c48f538eeecc2": {
     "model_module": "@jupyter-widgets/base",
     "model_name": "LayoutModel",
     "state": {
      "_model_module": "@jupyter-widgets/base",
      "_model_module_version": "1.2.0",
      "_model_name": "LayoutModel",
      "_view_count": null,
      "_view_module": "@jupyter-widgets/base",
      "_view_module_version": "1.2.0",
      "_view_name": "LayoutView",
      "align_content": null,
      "align_items": null,
      "align_self": null,
      "border": null,
      "bottom": null,
      "display": null,
      "flex": null,
      "flex_flow": null,
      "grid_area": null,
      "grid_auto_columns": null,
      "grid_auto_flow": null,
      "grid_auto_rows": null,
      "grid_column": null,
      "grid_gap": null,
      "grid_row": null,
      "grid_template_areas": null,
      "grid_template_columns": null,
      "grid_template_rows": null,
      "height": null,
      "justify_content": null,
      "justify_items": null,
      "left": null,
      "margin": null,
      "max_height": null,
      "max_width": null,
      "min_height": null,
      "min_width": null,
      "object_fit": null,
      "object_position": null,
      "order": null,
      "overflow": null,
      "overflow_x": null,
      "overflow_y": null,
      "padding": null,
      "right": null,
      "top": null,
      "visibility": null,
      "width": null
     }
    },
    "7772112aed554c2498183c0a1cba9f8b": {
     "model_module": "@jupyter-widgets/controls",
     "model_name": "DescriptionStyleModel",
     "state": {
      "_model_module": "@jupyter-widgets/controls",
      "_model_module_version": "1.5.0",
      "_model_name": "DescriptionStyleModel",
      "_view_count": null,
      "_view_module": "@jupyter-widgets/base",
      "_view_module_version": "1.2.0",
      "_view_name": "StyleView",
      "description_width": ""
     }
    },
    "77800086794349339ed745dbaf21e0f2": {
     "model_module": "@jupyter-widgets/base",
     "model_name": "LayoutModel",
     "state": {
      "_model_module": "@jupyter-widgets/base",
      "_model_module_version": "1.2.0",
      "_model_name": "LayoutModel",
      "_view_count": null,
      "_view_module": "@jupyter-widgets/base",
      "_view_module_version": "1.2.0",
      "_view_name": "LayoutView",
      "align_content": null,
      "align_items": null,
      "align_self": null,
      "border": null,
      "bottom": null,
      "display": null,
      "flex": null,
      "flex_flow": null,
      "grid_area": null,
      "grid_auto_columns": null,
      "grid_auto_flow": null,
      "grid_auto_rows": null,
      "grid_column": null,
      "grid_gap": null,
      "grid_row": null,
      "grid_template_areas": null,
      "grid_template_columns": null,
      "grid_template_rows": null,
      "height": null,
      "justify_content": null,
      "justify_items": null,
      "left": null,
      "margin": null,
      "max_height": null,
      "max_width": null,
      "min_height": null,
      "min_width": null,
      "object_fit": null,
      "object_position": null,
      "order": null,
      "overflow": null,
      "overflow_x": null,
      "overflow_y": null,
      "padding": null,
      "right": null,
      "top": null,
      "visibility": null,
      "width": null
     }
    },
    "7932c878195542fa926ba86c23cd8829": {
     "model_module": "@jupyter-widgets/base",
     "model_name": "LayoutModel",
     "state": {
      "_model_module": "@jupyter-widgets/base",
      "_model_module_version": "1.2.0",
      "_model_name": "LayoutModel",
      "_view_count": null,
      "_view_module": "@jupyter-widgets/base",
      "_view_module_version": "1.2.0",
      "_view_name": "LayoutView",
      "align_content": null,
      "align_items": null,
      "align_self": null,
      "border": null,
      "bottom": null,
      "display": null,
      "flex": null,
      "flex_flow": null,
      "grid_area": null,
      "grid_auto_columns": null,
      "grid_auto_flow": null,
      "grid_auto_rows": null,
      "grid_column": null,
      "grid_gap": null,
      "grid_row": null,
      "grid_template_areas": null,
      "grid_template_columns": null,
      "grid_template_rows": null,
      "height": null,
      "justify_content": null,
      "justify_items": null,
      "left": null,
      "margin": null,
      "max_height": null,
      "max_width": null,
      "min_height": null,
      "min_width": null,
      "object_fit": null,
      "object_position": null,
      "order": null,
      "overflow": null,
      "overflow_x": null,
      "overflow_y": null,
      "padding": null,
      "right": null,
      "top": null,
      "visibility": null,
      "width": null
     }
    },
    "7c7b4aa967bb49c299cee14e70f0b527": {
     "model_module": "@jupyter-widgets/controls",
     "model_name": "FloatProgressModel",
     "state": {
      "_dom_classes": [],
      "_model_module": "@jupyter-widgets/controls",
      "_model_module_version": "1.5.0",
      "_model_name": "FloatProgressModel",
      "_view_count": null,
      "_view_module": "@jupyter-widgets/controls",
      "_view_module_version": "1.5.0",
      "_view_name": "ProgressView",
      "bar_style": "success",
      "description": "Downloading: 100%",
      "description_tooltip": null,
      "layout": "IPY_MODEL_af3e3da2b1864b77b15883d9fa8adfe4",
      "max": 231508,
      "min": 0,
      "orientation": "horizontal",
      "style": "IPY_MODEL_07c77d2fc1114bb0b980f9cd2c3629ac",
      "value": 231508
     }
    },
    "7d7230cfbaae45adb0cbdd6477974fda": {
     "model_module": "@jupyter-widgets/base",
     "model_name": "LayoutModel",
     "state": {
      "_model_module": "@jupyter-widgets/base",
      "_model_module_version": "1.2.0",
      "_model_name": "LayoutModel",
      "_view_count": null,
      "_view_module": "@jupyter-widgets/base",
      "_view_module_version": "1.2.0",
      "_view_name": "LayoutView",
      "align_content": null,
      "align_items": null,
      "align_self": null,
      "border": null,
      "bottom": null,
      "display": null,
      "flex": null,
      "flex_flow": null,
      "grid_area": null,
      "grid_auto_columns": null,
      "grid_auto_flow": null,
      "grid_auto_rows": null,
      "grid_column": null,
      "grid_gap": null,
      "grid_row": null,
      "grid_template_areas": null,
      "grid_template_columns": null,
      "grid_template_rows": null,
      "height": null,
      "justify_content": null,
      "justify_items": null,
      "left": null,
      "margin": null,
      "max_height": null,
      "max_width": null,
      "min_height": null,
      "min_width": null,
      "object_fit": null,
      "object_position": null,
      "order": null,
      "overflow": null,
      "overflow_x": null,
      "overflow_y": null,
      "padding": null,
      "right": null,
      "top": null,
      "visibility": null,
      "width": null
     }
    },
    "84b65b4affe14908bde76817733dfd67": {
     "model_module": "@jupyter-widgets/base",
     "model_name": "LayoutModel",
     "state": {
      "_model_module": "@jupyter-widgets/base",
      "_model_module_version": "1.2.0",
      "_model_name": "LayoutModel",
      "_view_count": null,
      "_view_module": "@jupyter-widgets/base",
      "_view_module_version": "1.2.0",
      "_view_name": "LayoutView",
      "align_content": null,
      "align_items": null,
      "align_self": null,
      "border": null,
      "bottom": null,
      "display": null,
      "flex": null,
      "flex_flow": null,
      "grid_area": null,
      "grid_auto_columns": null,
      "grid_auto_flow": null,
      "grid_auto_rows": null,
      "grid_column": null,
      "grid_gap": null,
      "grid_row": null,
      "grid_template_areas": null,
      "grid_template_columns": null,
      "grid_template_rows": null,
      "height": null,
      "justify_content": null,
      "justify_items": null,
      "left": null,
      "margin": null,
      "max_height": null,
      "max_width": null,
      "min_height": null,
      "min_width": null,
      "object_fit": null,
      "object_position": null,
      "order": null,
      "overflow": null,
      "overflow_x": null,
      "overflow_y": null,
      "padding": null,
      "right": null,
      "top": null,
      "visibility": null,
      "width": null
     }
    },
    "8da4577518b844c6b8dd61e6d537b8bb": {
     "model_module": "@jupyter-widgets/base",
     "model_name": "LayoutModel",
     "state": {
      "_model_module": "@jupyter-widgets/base",
      "_model_module_version": "1.2.0",
      "_model_name": "LayoutModel",
      "_view_count": null,
      "_view_module": "@jupyter-widgets/base",
      "_view_module_version": "1.2.0",
      "_view_name": "LayoutView",
      "align_content": null,
      "align_items": null,
      "align_self": null,
      "border": null,
      "bottom": null,
      "display": null,
      "flex": null,
      "flex_flow": null,
      "grid_area": null,
      "grid_auto_columns": null,
      "grid_auto_flow": null,
      "grid_auto_rows": null,
      "grid_column": null,
      "grid_gap": null,
      "grid_row": null,
      "grid_template_areas": null,
      "grid_template_columns": null,
      "grid_template_rows": null,
      "height": null,
      "justify_content": null,
      "justify_items": null,
      "left": null,
      "margin": null,
      "max_height": null,
      "max_width": null,
      "min_height": null,
      "min_width": null,
      "object_fit": null,
      "object_position": null,
      "order": null,
      "overflow": null,
      "overflow_x": null,
      "overflow_y": null,
      "padding": null,
      "right": null,
      "top": null,
      "visibility": null,
      "width": null
     }
    },
    "8e6d32bacd604925ae34d1778dd86558": {
     "model_module": "@jupyter-widgets/controls",
     "model_name": "FloatProgressModel",
     "state": {
      "_dom_classes": [],
      "_model_module": "@jupyter-widgets/controls",
      "_model_module_version": "1.5.0",
      "_model_name": "FloatProgressModel",
      "_view_count": null,
      "_view_module": "@jupyter-widgets/controls",
      "_view_module_version": "1.5.0",
      "_view_name": "ProgressView",
      "bar_style": "",
      "description": "",
      "description_tooltip": null,
      "layout": "IPY_MODEL_484c9b43cd6044679ed14d38fdf51cea",
      "max": 48,
      "min": 0,
      "orientation": "horizontal",
      "style": "IPY_MODEL_ce8dd5f4d0014d2ab977309cef6dca10",
      "value": 48
     }
    },
    "8eca5fa253f943eabcbf5d45bdb36426": {
     "model_module": "@jupyter-widgets/controls",
     "model_name": "DescriptionStyleModel",
     "state": {
      "_model_module": "@jupyter-widgets/controls",
      "_model_module_version": "1.5.0",
      "_model_name": "DescriptionStyleModel",
      "_view_count": null,
      "_view_module": "@jupyter-widgets/base",
      "_view_module_version": "1.2.0",
      "_view_name": "StyleView",
      "description_width": ""
     }
    },
    "8eeb3bca0a064d7b85a5675bc7fa9d5f": {
     "model_module": "@jupyter-widgets/controls",
     "model_name": "HBoxModel",
     "state": {
      "_dom_classes": [],
      "_model_module": "@jupyter-widgets/controls",
      "_model_module_version": "1.5.0",
      "_model_name": "HBoxModel",
      "_view_count": null,
      "_view_module": "@jupyter-widgets/controls",
      "_view_module_version": "1.5.0",
      "_view_name": "HBoxView",
      "box_style": "",
      "children": [
       "IPY_MODEL_9e7856ef51c0492ca816ecc5ee2b358f",
       "IPY_MODEL_0feafbf7c5f74aa784cfc37142758e0a"
      ],
      "layout": "IPY_MODEL_be72aabf124a482e8a38c1e07c2faf03"
     }
    },
    "90578b5699b54ffbbbc2548da04cf4a0": {
     "model_module": "@jupyter-widgets/controls",
     "model_name": "HTMLModel",
     "state": {
      "_dom_classes": [],
      "_model_module": "@jupyter-widgets/controls",
      "_model_module_version": "1.5.0",
      "_model_name": "HTMLModel",
      "_view_count": null,
      "_view_module": "@jupyter-widgets/controls",
      "_view_module_version": "1.5.0",
      "_view_name": "HTMLView",
      "description": "",
      "description_tooltip": null,
      "layout": "IPY_MODEL_f77cfae378944675899990ea80e1c9c9",
      "placeholder": "​",
      "style": "IPY_MODEL_4dbae7ab498742018abee10fb4bdc5e6",
      "value": " 232k/232k [00:00&lt;00:00, 798kB/s]"
     }
    },
    "92c26b5de3bd4490a7db6a30807fc78f": {
     "model_module": "@jupyter-widgets/controls",
     "model_name": "FloatProgressModel",
     "state": {
      "_dom_classes": [],
      "_model_module": "@jupyter-widgets/controls",
      "_model_module_version": "1.5.0",
      "_model_name": "FloatProgressModel",
      "_view_count": null,
      "_view_module": "@jupyter-widgets/controls",
      "_view_module_version": "1.5.0",
      "_view_name": "ProgressView",
      "bar_style": "",
      "description": "",
      "description_tooltip": null,
      "layout": "IPY_MODEL_5a5ef3bfd9e444a7a8158f3cf6afb39b",
      "max": 48,
      "min": 0,
      "orientation": "horizontal",
      "style": "IPY_MODEL_04a0ac5d360a4fff9c28d247fddcc8a0",
      "value": 48
     }
    },
    "97ff5580f54f4e72afeda4e31151e17d": {
     "model_module": "@jupyter-widgets/base",
     "model_name": "LayoutModel",
     "state": {
      "_model_module": "@jupyter-widgets/base",
      "_model_module_version": "1.2.0",
      "_model_name": "LayoutModel",
      "_view_count": null,
      "_view_module": "@jupyter-widgets/base",
      "_view_module_version": "1.2.0",
      "_view_name": "LayoutView",
      "align_content": null,
      "align_items": null,
      "align_self": null,
      "border": null,
      "bottom": null,
      "display": null,
      "flex": null,
      "flex_flow": null,
      "grid_area": null,
      "grid_auto_columns": null,
      "grid_auto_flow": null,
      "grid_auto_rows": null,
      "grid_column": null,
      "grid_gap": null,
      "grid_row": null,
      "grid_template_areas": null,
      "grid_template_columns": null,
      "grid_template_rows": null,
      "height": null,
      "justify_content": null,
      "justify_items": null,
      "left": null,
      "margin": null,
      "max_height": null,
      "max_width": null,
      "min_height": null,
      "min_width": null,
      "object_fit": null,
      "object_position": null,
      "order": null,
      "overflow": null,
      "overflow_x": null,
      "overflow_y": null,
      "padding": null,
      "right": null,
      "top": null,
      "visibility": null,
      "width": null
     }
    },
    "9ac0263b0896421ebb25d18509ffc936": {
     "model_module": "@jupyter-widgets/controls",
     "model_name": "HTMLModel",
     "state": {
      "_dom_classes": [],
      "_model_module": "@jupyter-widgets/controls",
      "_model_module_version": "1.5.0",
      "_model_name": "HTMLModel",
      "_view_count": null,
      "_view_module": "@jupyter-widgets/controls",
      "_view_module_version": "1.5.0",
      "_view_name": "HTMLView",
      "description": "",
      "description_tooltip": null,
      "layout": "IPY_MODEL_84b65b4affe14908bde76817733dfd67",
      "placeholder": "​",
      "style": "IPY_MODEL_a8940c6f0c424125bcd50b590bf8e0cf",
      "value": " 54/? [00:06&lt;00:00,  5.51it/s]"
     }
    },
    "9e7856ef51c0492ca816ecc5ee2b358f": {
     "model_module": "@jupyter-widgets/controls",
     "model_name": "FloatProgressModel",
     "state": {
      "_dom_classes": [],
      "_model_module": "@jupyter-widgets/controls",
      "_model_module_version": "1.5.0",
      "_model_name": "FloatProgressModel",
      "_view_count": null,
      "_view_module": "@jupyter-widgets/controls",
      "_view_module_version": "1.5.0",
      "_view_name": "ProgressView",
      "bar_style": "info",
      "description": "",
      "description_tooltip": null,
      "layout": "IPY_MODEL_7932c878195542fa926ba86c23cd8829",
      "max": 1,
      "min": 0,
      "orientation": "horizontal",
      "style": "IPY_MODEL_3cd6a856c6a84bac81aa0287f2afa0df",
      "value": 1
     }
    },
    "a0c0c0b4fad2491a90e1e6773a720c4b": {
     "model_module": "@jupyter-widgets/controls",
     "model_name": "FloatProgressModel",
     "state": {
      "_dom_classes": [],
      "_model_module": "@jupyter-widgets/controls",
      "_model_module_version": "1.5.0",
      "_model_name": "FloatProgressModel",
      "_view_count": null,
      "_view_module": "@jupyter-widgets/controls",
      "_view_module_version": "1.5.0",
      "_view_name": "ProgressView",
      "bar_style": "success",
      "description": "Downloading: ",
      "description_tooltip": null,
      "layout": "IPY_MODEL_afe1caa2d1604b3a959e2c5b1da0a355",
      "max": 751209,
      "min": 0,
      "orientation": "horizontal",
      "style": "IPY_MODEL_2f293ebf451447a4bb48aaa449d48ced",
      "value": 751209
     }
    },
    "a1b3e8316d3b431e938bdf5e3f3192e6": {
     "model_module": "@jupyter-widgets/controls",
     "model_name": "HBoxModel",
     "state": {
      "_dom_classes": [],
      "_model_module": "@jupyter-widgets/controls",
      "_model_module_version": "1.5.0",
      "_model_name": "HBoxModel",
      "_view_count": null,
      "_view_module": "@jupyter-widgets/controls",
      "_view_module_version": "1.5.0",
      "_view_name": "HBoxView",
      "box_style": "",
      "children": [
       "IPY_MODEL_6c25a88bd2784c7196d22e570b7c420d",
       "IPY_MODEL_9ac0263b0896421ebb25d18509ffc936"
      ],
      "layout": "IPY_MODEL_a1e4b25e7738486aa33ed06aae85f3cc"
     }
    },
    "a1e4b25e7738486aa33ed06aae85f3cc": {
     "model_module": "@jupyter-widgets/base",
     "model_name": "LayoutModel",
     "state": {
      "_model_module": "@jupyter-widgets/base",
      "_model_module_version": "1.2.0",
      "_model_name": "LayoutModel",
      "_view_count": null,
      "_view_module": "@jupyter-widgets/base",
      "_view_module_version": "1.2.0",
      "_view_name": "LayoutView",
      "align_content": null,
      "align_items": null,
      "align_self": null,
      "border": null,
      "bottom": null,
      "display": null,
      "flex": null,
      "flex_flow": null,
      "grid_area": null,
      "grid_auto_columns": null,
      "grid_auto_flow": null,
      "grid_auto_rows": null,
      "grid_column": null,
      "grid_gap": null,
      "grid_row": null,
      "grid_template_areas": null,
      "grid_template_columns": null,
      "grid_template_rows": null,
      "height": null,
      "justify_content": null,
      "justify_items": null,
      "left": null,
      "margin": null,
      "max_height": null,
      "max_width": null,
      "min_height": null,
      "min_width": null,
      "object_fit": null,
      "object_position": null,
      "order": null,
      "overflow": null,
      "overflow_x": null,
      "overflow_y": null,
      "padding": null,
      "right": null,
      "top": null,
      "visibility": null,
      "width": null
     }
    },
    "a55474312ac9452095ab6194fc8f7a35": {
     "model_module": "@jupyter-widgets/controls",
     "model_name": "DescriptionStyleModel",
     "state": {
      "_model_module": "@jupyter-widgets/controls",
      "_model_module_version": "1.5.0",
      "_model_name": "DescriptionStyleModel",
      "_view_count": null,
      "_view_module": "@jupyter-widgets/base",
      "_view_module_version": "1.2.0",
      "_view_name": "StyleView",
      "description_width": ""
     }
    },
    "a8940c6f0c424125bcd50b590bf8e0cf": {
     "model_module": "@jupyter-widgets/controls",
     "model_name": "DescriptionStyleModel",
     "state": {
      "_model_module": "@jupyter-widgets/controls",
      "_model_module_version": "1.5.0",
      "_model_name": "DescriptionStyleModel",
      "_view_count": null,
      "_view_module": "@jupyter-widgets/base",
      "_view_module_version": "1.2.0",
      "_view_name": "StyleView",
      "description_width": ""
     }
    },
    "af3e3da2b1864b77b15883d9fa8adfe4": {
     "model_module": "@jupyter-widgets/base",
     "model_name": "LayoutModel",
     "state": {
      "_model_module": "@jupyter-widgets/base",
      "_model_module_version": "1.2.0",
      "_model_name": "LayoutModel",
      "_view_count": null,
      "_view_module": "@jupyter-widgets/base",
      "_view_module_version": "1.2.0",
      "_view_name": "LayoutView",
      "align_content": null,
      "align_items": null,
      "align_self": null,
      "border": null,
      "bottom": null,
      "display": null,
      "flex": null,
      "flex_flow": null,
      "grid_area": null,
      "grid_auto_columns": null,
      "grid_auto_flow": null,
      "grid_auto_rows": null,
      "grid_column": null,
      "grid_gap": null,
      "grid_row": null,
      "grid_template_areas": null,
      "grid_template_columns": null,
      "grid_template_rows": null,
      "height": null,
      "justify_content": null,
      "justify_items": null,
      "left": null,
      "margin": null,
      "max_height": null,
      "max_width": null,
      "min_height": null,
      "min_width": null,
      "object_fit": null,
      "object_position": null,
      "order": null,
      "overflow": null,
      "overflow_x": null,
      "overflow_y": null,
      "padding": null,
      "right": null,
      "top": null,
      "visibility": null,
      "width": null
     }
    },
    "afe1caa2d1604b3a959e2c5b1da0a355": {
     "model_module": "@jupyter-widgets/base",
     "model_name": "LayoutModel",
     "state": {
      "_model_module": "@jupyter-widgets/base",
      "_model_module_version": "1.2.0",
      "_model_name": "LayoutModel",
      "_view_count": null,
      "_view_module": "@jupyter-widgets/base",
      "_view_module_version": "1.2.0",
      "_view_name": "LayoutView",
      "align_content": null,
      "align_items": null,
      "align_self": null,
      "border": null,
      "bottom": null,
      "display": null,
      "flex": null,
      "flex_flow": null,
      "grid_area": null,
      "grid_auto_columns": null,
      "grid_auto_flow": null,
      "grid_auto_rows": null,
      "grid_column": null,
      "grid_gap": null,
      "grid_row": null,
      "grid_template_areas": null,
      "grid_template_columns": null,
      "grid_template_rows": null,
      "height": null,
      "justify_content": null,
      "justify_items": null,
      "left": null,
      "margin": null,
      "max_height": null,
      "max_width": null,
      "min_height": null,
      "min_width": null,
      "object_fit": null,
      "object_position": null,
      "order": null,
      "overflow": null,
      "overflow_x": null,
      "overflow_y": null,
      "padding": null,
      "right": null,
      "top": null,
      "visibility": null,
      "width": null
     }
    },
    "b8ab522d3421469193520b9c91117021": {
     "model_module": "@jupyter-widgets/base",
     "model_name": "LayoutModel",
     "state": {
      "_model_module": "@jupyter-widgets/base",
      "_model_module_version": "1.2.0",
      "_model_name": "LayoutModel",
      "_view_count": null,
      "_view_module": "@jupyter-widgets/base",
      "_view_module_version": "1.2.0",
      "_view_name": "LayoutView",
      "align_content": null,
      "align_items": null,
      "align_self": null,
      "border": null,
      "bottom": null,
      "display": null,
      "flex": null,
      "flex_flow": null,
      "grid_area": null,
      "grid_auto_columns": null,
      "grid_auto_flow": null,
      "grid_auto_rows": null,
      "grid_column": null,
      "grid_gap": null,
      "grid_row": null,
      "grid_template_areas": null,
      "grid_template_columns": null,
      "grid_template_rows": null,
      "height": null,
      "justify_content": null,
      "justify_items": null,
      "left": null,
      "margin": null,
      "max_height": null,
      "max_width": null,
      "min_height": null,
      "min_width": null,
      "object_fit": null,
      "object_position": null,
      "order": null,
      "overflow": null,
      "overflow_x": null,
      "overflow_y": null,
      "padding": null,
      "right": null,
      "top": null,
      "visibility": null,
      "width": null
     }
    },
    "be72aabf124a482e8a38c1e07c2faf03": {
     "model_module": "@jupyter-widgets/base",
     "model_name": "LayoutModel",
     "state": {
      "_model_module": "@jupyter-widgets/base",
      "_model_module_version": "1.2.0",
      "_model_name": "LayoutModel",
      "_view_count": null,
      "_view_module": "@jupyter-widgets/base",
      "_view_module_version": "1.2.0",
      "_view_name": "LayoutView",
      "align_content": null,
      "align_items": null,
      "align_self": null,
      "border": null,
      "bottom": null,
      "display": null,
      "flex": null,
      "flex_flow": null,
      "grid_area": null,
      "grid_auto_columns": null,
      "grid_auto_flow": null,
      "grid_auto_rows": null,
      "grid_column": null,
      "grid_gap": null,
      "grid_row": null,
      "grid_template_areas": null,
      "grid_template_columns": null,
      "grid_template_rows": null,
      "height": null,
      "justify_content": null,
      "justify_items": null,
      "left": null,
      "margin": null,
      "max_height": null,
      "max_width": null,
      "min_height": null,
      "min_width": null,
      "object_fit": null,
      "object_position": null,
      "order": null,
      "overflow": null,
      "overflow_x": null,
      "overflow_y": null,
      "padding": null,
      "right": null,
      "top": null,
      "visibility": null,
      "width": null
     }
    },
    "c39eb45ef3bc473fa8b2f9623cc654b9": {
     "model_module": "@jupyter-widgets/controls",
     "model_name": "HTMLModel",
     "state": {
      "_dom_classes": [],
      "_model_module": "@jupyter-widgets/controls",
      "_model_module_version": "1.5.0",
      "_model_name": "HTMLModel",
      "_view_count": null,
      "_view_module": "@jupyter-widgets/controls",
      "_view_module_version": "1.5.0",
      "_view_name": "HTMLView",
      "description": "",
      "description_tooltip": null,
      "layout": "IPY_MODEL_f8cfab9c5f1e433d9ea1788995adad6a",
      "placeholder": "​",
      "style": "IPY_MODEL_4981d5992ad44e48a525f5462e958a13",
      "value": " 120000/0 [00:04&lt;00:00, 19843.43 examples/s]"
     }
    },
    "c76ad19c147a41ffa2d06f020a0ed1f6": {
     "model_module": "@jupyter-widgets/base",
     "model_name": "LayoutModel",
     "state": {
      "_model_module": "@jupyter-widgets/base",
      "_model_module_version": "1.2.0",
      "_model_name": "LayoutModel",
      "_view_count": null,
      "_view_module": "@jupyter-widgets/base",
      "_view_module_version": "1.2.0",
      "_view_name": "LayoutView",
      "align_content": null,
      "align_items": null,
      "align_self": null,
      "border": null,
      "bottom": null,
      "display": null,
      "flex": null,
      "flex_flow": null,
      "grid_area": null,
      "grid_auto_columns": null,
      "grid_auto_flow": null,
      "grid_auto_rows": null,
      "grid_column": null,
      "grid_gap": null,
      "grid_row": null,
      "grid_template_areas": null,
      "grid_template_columns": null,
      "grid_template_rows": null,
      "height": null,
      "justify_content": null,
      "justify_items": null,
      "left": null,
      "margin": null,
      "max_height": null,
      "max_width": null,
      "min_height": null,
      "min_width": null,
      "object_fit": null,
      "object_position": null,
      "order": null,
      "overflow": null,
      "overflow_x": null,
      "overflow_y": null,
      "padding": null,
      "right": null,
      "top": null,
      "visibility": null,
      "width": null
     }
    },
    "c9ca6d9d06f24b8c903abc4fe42472cc": {
     "model_module": "@jupyter-widgets/controls",
     "model_name": "HTMLModel",
     "state": {
      "_dom_classes": [],
      "_model_module": "@jupyter-widgets/controls",
      "_model_module_version": "1.5.0",
      "_model_name": "HTMLModel",
      "_view_count": null,
      "_view_module": "@jupyter-widgets/controls",
      "_view_module_version": "1.5.0",
      "_view_name": "HTMLView",
      "description": "",
      "description_tooltip": null,
      "layout": "IPY_MODEL_3a04f7e489114066a9d57c44f539e97c",
      "placeholder": "​",
      "style": "IPY_MODEL_490c2a7e0a7c4a87ade4b4ec62202698",
      "value": " 1.86M/? [00:00&lt;00:00, 11.6MB/s]"
     }
    },
    "c9eaadb56d3549edacbc4233bbd27758": {
     "model_module": "@jupyter-widgets/controls",
     "model_name": "HBoxModel",
     "state": {
      "_dom_classes": [],
      "_model_module": "@jupyter-widgets/controls",
      "_model_module_version": "1.5.0",
      "_model_name": "HBoxModel",
      "_view_count": null,
      "_view_module": "@jupyter-widgets/controls",
      "_view_module_version": "1.5.0",
      "_view_name": "HBoxView",
      "box_style": "",
      "children": [
       "IPY_MODEL_212ee5b8fece4c019a0cc9cbcda28fb2",
       "IPY_MODEL_c39eb45ef3bc473fa8b2f9623cc654b9"
      ],
      "layout": "IPY_MODEL_776ff67046f945a9b00c48f538eeecc2"
     }
    },
    "cb9ef41438464114bd6aa05615bf0d69": {
     "model_module": "@jupyter-widgets/base",
     "model_name": "LayoutModel",
     "state": {
      "_model_module": "@jupyter-widgets/base",
      "_model_module_version": "1.2.0",
      "_model_name": "LayoutModel",
      "_view_count": null,
      "_view_module": "@jupyter-widgets/base",
      "_view_module_version": "1.2.0",
      "_view_name": "LayoutView",
      "align_content": null,
      "align_items": null,
      "align_self": null,
      "border": null,
      "bottom": null,
      "display": null,
      "flex": null,
      "flex_flow": null,
      "grid_area": null,
      "grid_auto_columns": null,
      "grid_auto_flow": null,
      "grid_auto_rows": null,
      "grid_column": null,
      "grid_gap": null,
      "grid_row": null,
      "grid_template_areas": null,
      "grid_template_columns": null,
      "grid_template_rows": null,
      "height": null,
      "justify_content": null,
      "justify_items": null,
      "left": null,
      "margin": null,
      "max_height": null,
      "max_width": null,
      "min_height": null,
      "min_width": null,
      "object_fit": null,
      "object_position": null,
      "order": null,
      "overflow": null,
      "overflow_x": null,
      "overflow_y": null,
      "padding": null,
      "right": null,
      "top": null,
      "visibility": null,
      "width": null
     }
    },
    "ce8dd5f4d0014d2ab977309cef6dca10": {
     "model_module": "@jupyter-widgets/controls",
     "model_name": "ProgressStyleModel",
     "state": {
      "_model_module": "@jupyter-widgets/controls",
      "_model_module_version": "1.5.0",
      "_model_name": "ProgressStyleModel",
      "_view_count": null,
      "_view_module": "@jupyter-widgets/base",
      "_view_module_version": "1.2.0",
      "_view_name": "StyleView",
      "bar_color": null,
      "description_width": "initial"
     }
    },
    "d3a9a11ad9394e0ca5169a5160cf8b31": {
     "model_module": "@jupyter-widgets/controls",
     "model_name": "ProgressStyleModel",
     "state": {
      "_model_module": "@jupyter-widgets/controls",
      "_model_module_version": "1.5.0",
      "_model_name": "ProgressStyleModel",
      "_view_count": null,
      "_view_module": "@jupyter-widgets/base",
      "_view_module_version": "1.2.0",
      "_view_name": "StyleView",
      "bar_color": null,
      "description_width": "initial"
     }
    },
    "d6dc9cfc277c422aa1d90555724b6266": {
     "model_module": "@jupyter-widgets/controls",
     "model_name": "HBoxModel",
     "state": {
      "_dom_classes": [],
      "_model_module": "@jupyter-widgets/controls",
      "_model_module_version": "1.5.0",
      "_model_name": "HBoxModel",
      "_view_count": null,
      "_view_module": "@jupyter-widgets/controls",
      "_view_module_version": "1.5.0",
      "_view_name": "HBoxView",
      "box_style": "",
      "children": [
       "IPY_MODEL_f5d3208424c94768b2f37c6e2b32d213",
       "IPY_MODEL_2d5721753b1044ae9c7c6e4528ba9d83"
      ],
      "layout": "IPY_MODEL_8da4577518b844c6b8dd61e6d537b8bb"
     }
    },
    "de10f4b566cd45e1ba2a3b8443217a88": {
     "model_module": "@jupyter-widgets/controls",
     "model_name": "FloatProgressModel",
     "state": {
      "_dom_classes": [],
      "_model_module": "@jupyter-widgets/controls",
      "_model_module_version": "1.5.0",
      "_model_name": "FloatProgressModel",
      "_view_count": null,
      "_view_module": "@jupyter-widgets/controls",
      "_view_module_version": "1.5.0",
      "_view_name": "ProgressView",
      "bar_style": "",
      "description": "",
      "description_tooltip": null,
      "layout": "IPY_MODEL_97ff5580f54f4e72afeda4e31151e17d",
      "max": 48,
      "min": 0,
      "orientation": "horizontal",
      "style": "IPY_MODEL_5c00190cc7294edeafa5454daa18afa5",
      "value": 48
     }
    },
    "e0f1019dfdb146dabd5b9c436d2947cf": {
     "model_module": "@jupyter-widgets/controls",
     "model_name": "DescriptionStyleModel",
     "state": {
      "_model_module": "@jupyter-widgets/controls",
      "_model_module_version": "1.5.0",
      "_model_name": "DescriptionStyleModel",
      "_view_count": null,
      "_view_module": "@jupyter-widgets/base",
      "_view_module_version": "1.2.0",
      "_view_name": "StyleView",
      "description_width": ""
     }
    },
    "e3243b1dd78145d9a0a1f36d0a4a28d1": {
     "model_module": "@jupyter-widgets/controls",
     "model_name": "HBoxModel",
     "state": {
      "_dom_classes": [],
      "_model_module": "@jupyter-widgets/controls",
      "_model_module_version": "1.5.0",
      "_model_name": "HBoxModel",
      "_view_count": null,
      "_view_module": "@jupyter-widgets/controls",
      "_view_module_version": "1.5.0",
      "_view_name": "HBoxView",
      "box_style": "",
      "children": [
       "IPY_MODEL_8e6d32bacd604925ae34d1778dd86558",
       "IPY_MODEL_26ffaa6ea2a841d68281e0b507baa9fe"
      ],
      "layout": "IPY_MODEL_6d431d96bf284215bbf9d6e9698b5528"
     }
    },
    "e4742e9fed7b4bca8f183e444471b5c5": {
     "model_module": "@jupyter-widgets/controls",
     "model_name": "DescriptionStyleModel",
     "state": {
      "_model_module": "@jupyter-widgets/controls",
      "_model_module_version": "1.5.0",
      "_model_name": "DescriptionStyleModel",
      "_view_count": null,
      "_view_module": "@jupyter-widgets/base",
      "_view_module_version": "1.2.0",
      "_view_name": "StyleView",
      "description_width": ""
     }
    },
    "ebb64d375ded4bb3af0dcc16b0202543": {
     "model_module": "@jupyter-widgets/controls",
     "model_name": "ProgressStyleModel",
     "state": {
      "_model_module": "@jupyter-widgets/controls",
      "_model_module_version": "1.5.0",
      "_model_name": "ProgressStyleModel",
      "_view_count": null,
      "_view_module": "@jupyter-widgets/base",
      "_view_module_version": "1.2.0",
      "_view_name": "StyleView",
      "bar_color": null,
      "description_width": "initial"
     }
    },
    "f5d3208424c94768b2f37c6e2b32d213": {
     "model_module": "@jupyter-widgets/controls",
     "model_name": "FloatProgressModel",
     "state": {
      "_dom_classes": [],
      "_model_module": "@jupyter-widgets/controls",
      "_model_module_version": "1.5.0",
      "_model_name": "FloatProgressModel",
      "_view_count": null,
      "_view_module": "@jupyter-widgets/controls",
      "_view_module_version": "1.5.0",
      "_view_name": "ProgressView",
      "bar_style": "success",
      "description": "Downloading: ",
      "description_tooltip": null,
      "layout": "IPY_MODEL_5fb81aa419c2410ea4a77617896be4d0",
      "max": 11045148,
      "min": 0,
      "orientation": "horizontal",
      "style": "IPY_MODEL_38832887ec424661a446c0a05c5abfeb",
      "value": 11045148
     }
    },
    "f77cfae378944675899990ea80e1c9c9": {
     "model_module": "@jupyter-widgets/base",
     "model_name": "LayoutModel",
     "state": {
      "_model_module": "@jupyter-widgets/base",
      "_model_module_version": "1.2.0",
      "_model_name": "LayoutModel",
      "_view_count": null,
      "_view_module": "@jupyter-widgets/base",
      "_view_module_version": "1.2.0",
      "_view_name": "LayoutView",
      "align_content": null,
      "align_items": null,
      "align_self": null,
      "border": null,
      "bottom": null,
      "display": null,
      "flex": null,
      "flex_flow": null,
      "grid_area": null,
      "grid_auto_columns": null,
      "grid_auto_flow": null,
      "grid_auto_rows": null,
      "grid_column": null,
      "grid_gap": null,
      "grid_row": null,
      "grid_template_areas": null,
      "grid_template_columns": null,
      "grid_template_rows": null,
      "height": null,
      "justify_content": null,
      "justify_items": null,
      "left": null,
      "margin": null,
      "max_height": null,
      "max_width": null,
      "min_height": null,
      "min_width": null,
      "object_fit": null,
      "object_position": null,
      "order": null,
      "overflow": null,
      "overflow_x": null,
      "overflow_y": null,
      "padding": null,
      "right": null,
      "top": null,
      "visibility": null,
      "width": null
     }
    },
    "f8991862089142b78f544c47a710d188": {
     "model_module": "@jupyter-widgets/controls",
     "model_name": "HTMLModel",
     "state": {
      "_dom_classes": [],
      "_model_module": "@jupyter-widgets/controls",
      "_model_module_version": "1.5.0",
      "_model_name": "HTMLModel",
      "_view_count": null,
      "_view_module": "@jupyter-widgets/controls",
      "_view_module_version": "1.5.0",
      "_view_name": "HTMLView",
      "description": "",
      "description_tooltip": null,
      "layout": "IPY_MODEL_31df4705c0c94a9a9d969ff8cef100f8",
      "placeholder": "​",
      "style": "IPY_MODEL_8eca5fa253f943eabcbf5d45bdb36426",
      "value": " 54/? [00:06&lt;00:00,  5.52it/s]"
     }
    },
    "f8cfab9c5f1e433d9ea1788995adad6a": {
     "model_module": "@jupyter-widgets/base",
     "model_name": "LayoutModel",
     "state": {
      "_model_module": "@jupyter-widgets/base",
      "_model_module_version": "1.2.0",
      "_model_name": "LayoutModel",
      "_view_count": null,
      "_view_module": "@jupyter-widgets/base",
      "_view_module_version": "1.2.0",
      "_view_name": "LayoutView",
      "align_content": null,
      "align_items": null,
      "align_self": null,
      "border": null,
      "bottom": null,
      "display": null,
      "flex": null,
      "flex_flow": null,
      "grid_area": null,
      "grid_auto_columns": null,
      "grid_auto_flow": null,
      "grid_auto_rows": null,
      "grid_column": null,
      "grid_gap": null,
      "grid_row": null,
      "grid_template_areas": null,
      "grid_template_columns": null,
      "grid_template_rows": null,
      "height": null,
      "justify_content": null,
      "justify_items": null,
      "left": null,
      "margin": null,
      "max_height": null,
      "max_width": null,
      "min_height": null,
      "min_width": null,
      "object_fit": null,
      "object_position": null,
      "order": null,
      "overflow": null,
      "overflow_x": null,
      "overflow_y": null,
      "padding": null,
      "right": null,
      "top": null,
      "visibility": null,
      "width": null
     }
    }
   }
  }
 },
 "nbformat": 4,
 "nbformat_minor": 1
}
