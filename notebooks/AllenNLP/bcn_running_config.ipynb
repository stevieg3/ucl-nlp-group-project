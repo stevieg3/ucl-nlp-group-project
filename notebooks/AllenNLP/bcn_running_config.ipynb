{
  "nbformat": 4,
  "nbformat_minor": 0,
  "metadata": {
    "colab": {
      "name": "bcn_running_config.ipynb",
      "provenance": [],
      "collapsed_sections": [],
      "toc_visible": true
    },
    "kernelspec": {
      "name": "python3",
      "display_name": "Python 3"
    },
    "language_info": {
      "name": "python"
    },
    "accelerator": "GPU"
  },
  "cells": [
    {
      "cell_type": "markdown",
      "metadata": {
        "id": "tlXRAB_l6jcP"
      },
      "source": [
        "# Set-up"
      ]
    },
    {
      "cell_type": "markdown",
      "metadata": {
        "id": "VOOQ9-ir1CIi"
      },
      "source": [
        "Change the working directory to the one where you saved your files"
      ]
    },
    {
      "cell_type": "code",
      "metadata": {
        "colab": {
          "base_uri": "https://localhost:8080/"
        },
        "id": "gKDX-Knt6bJL",
        "outputId": "ae1e70dd-6dd1-4c60-93ae-5d91a4816a3e"
      },
      "source": [
        "cd /content/drive/MyDrive/COMP0087/allenNLP/BCN"
      ],
      "execution_count": null,
      "outputs": [
        {
          "output_type": "stream",
          "text": [
            "/content/drive/MyDrive/COMP0087/allenNLP/BCN\n"
          ],
          "name": "stdout"
        }
      ]
    },
    {
      "cell_type": "code",
      "metadata": {
        "id": "oMzshnvEBzxK"
      },
      "source": [
        "from torch import nn\n",
        "import torch.optim as optim\n",
        "import numpy as np\n",
        "import spacy\n",
        "nlp = spacy.load('en_core_web_sm')\n",
        "import pandas as pd"
      ],
      "execution_count": null,
      "outputs": []
    },
    {
      "cell_type": "markdown",
      "metadata": {
        "id": "x_1KeiKqB28_"
      },
      "source": [
        "Change path below as needed"
      ]
    },
    {
      "cell_type": "code",
      "metadata": {
        "id": "p0N7Dkup24-_"
      },
      "source": [
        "test_set = pd.read_json('/content/drive/MyDrive/COMP0087/data/test.jsonl', orient='records', lines=True)"
      ],
      "execution_count": null,
      "outputs": []
    },
    {
      "cell_type": "code",
      "metadata": {
        "id": "yVsRQKKHiCsX"
      },
      "source": [
        "%%shell\n",
        "pip install torch==1.7.1"
      ],
      "execution_count": null,
      "outputs": []
    },
    {
      "cell_type": "code",
      "metadata": {
        "id": "h1XdJXJ8imFB"
      },
      "source": [
        "%%shell\n",
        "pip install allennlp==2.1.0 allennlp-models==2.1.0"
      ],
      "execution_count": null,
      "outputs": []
    },
    {
      "cell_type": "code",
      "metadata": {
        "id": "M6RPo9iFxHDm"
      },
      "source": [
        "# imports from allennlp\n",
        "from allennlp.models.archival import load_archive\n",
        "from allennlp.common.util import JsonDict\n",
        "from allennlp.data import Instance\n",
        "from allennlp.predictors.predictor import Predictor\n",
        "from allennlp.data.fields import LabelField\n",
        "from allennlp.data.tokenizers.spacy_tokenizer import SpacyTokenizer\n",
        "\n",
        "from typing import List, Dict\n",
        "\n",
        "from overrides import overrides\n",
        "\n",
        "from allennlp.interpret.attackers import Attacker, InputReduction\n",
        "\n",
        "from allennlp.interpret.saliency_interpreters import SimpleGradient"
      ],
      "execution_count": null,
      "outputs": []
    },
    {
      "cell_type": "code",
      "metadata": {
        "id": "bDNBlc1WxSOS"
      },
      "source": [
        "%%shell\n",
        "pip install checklist==0.0.10"
      ],
      "execution_count": null,
      "outputs": []
    },
    {
      "cell_type": "code",
      "metadata": {
        "id": "vEkzeVRhxQ2L"
      },
      "source": [
        "import checklist\n",
        "from checklist.editor import Editor\n",
        "from checklist.perturb import Perturb"
      ],
      "execution_count": null,
      "outputs": []
    },
    {
      "cell_type": "code",
      "metadata": {
        "id": "Osq1JxTfV5ID"
      },
      "source": [
        "import warnings\n",
        "warnings.filterwarnings('ignore')"
      ],
      "execution_count": null,
      "outputs": []
    },
    {
      "cell_type": "code",
      "metadata": {
        "id": "02kPpetwu1MS"
      },
      "source": [
        "from scipy.stats import kendalltau\n",
        "from scipy.stats import spearmanr"
      ],
      "execution_count": null,
      "outputs": []
    },
    {
      "cell_type": "markdown",
      "metadata": {
        "id": "YARtVzSoriw3"
      },
      "source": [
        "Background about model: http://docs.allennlp.org/v0.9.0/api/allennlp.models.biattentive_classification_network.html"
      ]
    },
    {
      "cell_type": "code",
      "metadata": {
        "id": "N2_NLOzJ9hAM"
      },
      "source": [
        "# importing the dataset reader\n",
        "import tagging\n",
        "# importing the BCN model\n",
        "import BCN_model"
      ],
      "execution_count": null,
      "outputs": []
    },
    {
      "cell_type": "markdown",
      "metadata": {
        "id": "E3eK_W3n9YDL"
      },
      "source": [
        "# Training"
      ]
    },
    {
      "cell_type": "code",
      "metadata": {
        "id": "REzuZd1uj0ad"
      },
      "source": [
        "# training model\n",
        "# here, the output will be saved to a new folder called 'BCN_output'. You will get an error message if such a directory already exists.\n",
        "# !pwd; allennlp train --include-package tagging -s BCN_output config_BCN.jsonnet"
      ],
      "execution_count": null,
      "outputs": []
    },
    {
      "cell_type": "markdown",
      "metadata": {
        "id": "9KAf30nQ-HGa"
      },
      "source": [
        "# Predictions"
      ]
    },
    {
      "cell_type": "code",
      "metadata": {
        "id": "jtuiSt0r88NH"
      },
      "source": [
        "@Predictor.register('ag_text_classifier')\n",
        "class AGNewsClassifier(Predictor):\n",
        "    \"\"\"\n",
        "    Predictor for any model that takes in a sentence and returns\n",
        "    a single class for it.  In particular, it can be used with\n",
        "    the [`BasicClassifier`](../models/basic_classifier.md) model.\n",
        "\n",
        "    \"\"\"\n",
        "\n",
        "    def predict(self, sentence: str) -> JsonDict:\n",
        "        return self.predict_json({\"Description\": sentence})\n",
        "\n",
        "    @overrides\n",
        "    def _json_to_instance(self, json_dict: JsonDict) -> Instance:\n",
        "        \"\"\"\n",
        "        Expects JSON that looks like `{\"sentence\": \"...\"}`.\n",
        "        Runs the underlying model, and adds the `\"label\"` to the output.\n",
        "        \"\"\"\n",
        "        sentence = json_dict[\"Description\"]\n",
        "        reader_has_tokenizer = (\n",
        "            getattr(self._dataset_reader, \"tokenizer\", None) is not None\n",
        "            or getattr(self._dataset_reader, \"_tokenizer\", None) is not None\n",
        "        )\n",
        "        if not reader_has_tokenizer:\n",
        "            tokenizer = SpacyTokenizer()\n",
        "            sentence = tokenizer.tokenize(sentence)\n",
        "        return self._dataset_reader.text_to_instance(sentence)\n",
        "\n",
        "    @overrides\n",
        "    def predictions_to_labeled_instances(\n",
        "        self, instance: Instance, outputs: Dict[str, np.ndarray]\n",
        "    ) -> List[Instance]:\n",
        "        new_instance = instance.duplicate()\n",
        "        label = np.argmax(outputs[\"class_probabilities\"])\n",
        "        new_instance.add_field(\"label\", LabelField(int(label), skip_indexing=True))\n",
        "        return [new_instance]"
      ],
      "execution_count": null,
      "outputs": []
    },
    {
      "cell_type": "code",
      "metadata": {
        "id": "RFbFxippbuWV"
      },
      "source": [
        "archive = load_archive(\"./BCN_output/model.tar.gz\")\n",
        "model = archive.model\n",
        "vocab = model.vocab"
      ],
      "execution_count": null,
      "outputs": []
    },
    {
      "cell_type": "code",
      "metadata": {
        "id": "6I2Y8xiVsH6W"
      },
      "source": [
        "predictor = Predictor.from_archive(archive, 'ag_text_classifier')"
      ],
      "execution_count": null,
      "outputs": []
    },
    {
      "cell_type": "code",
      "metadata": {
        "colab": {
          "base_uri": "https://localhost:8080/"
        },
        "id": "dIq7HL_F0n7X",
        "outputId": "da52d00b-7cea-4c9c-cef3-ac0c82c86371"
      },
      "source": [
        "predictor.predict(sentence=\"Canadian Press - VANCOUVER (CP) - The sister of a man who died after a violent confrontation with police has demanded the city's chief constable resign for defending the officer involved.\")"
      ],
      "execution_count": null,
      "outputs": [
        {
          "output_type": "execute_result",
          "data": {
            "text/plain": [
              "{'class_probabilities': [2.405789976955841e-11,\n",
              "  4.568966868257265e-15,\n",
              "  1.0,\n",
              "  3.932658886041107e-12],\n",
              " 'label': '1',\n",
              " 'logits': [2.251049280166626,\n",
              "  -6.3178839683532715,\n",
              "  26.70160675048828,\n",
              "  0.43990111351013184]}"
            ]
          },
          "metadata": {
            "tags": []
          },
          "execution_count": 11
        }
      ]
    },
    {
      "cell_type": "markdown",
      "metadata": {
        "id": "e9_kbyfmCKgB"
      },
      "source": [
        "# Interpret"
      ]
    },
    {
      "cell_type": "code",
      "metadata": {
        "id": "SNcaEtePRl4G"
      },
      "source": [
        "@Predictor.register('ag_text_classifier_with_input_red')\n",
        "class InputReductionTextClassifierPredictor(AGNewsClassifier):\n",
        "    \n",
        "    def predict_json(self, json_dict: JsonDict) -> JsonDict:\n",
        "        predictor = AGNewsClassifier(self._model, self._dataset_reader)\n",
        "        prediction = predictor.predict(sentence=json_dict['Description'])\n",
        "\n",
        "        attacker = InputReduction(predictor)\n",
        "        attack = attacker.attack_from_json(inputs=json_dict,\n",
        "                                           input_field_to_attack='tokens',\n",
        "                                           grad_input_field='grad_input_1',\n",
        "                                           ignore_tokens=None)\n",
        "\n",
        "        return {'prediction': prediction, 'input_reduction_output': attack}"
      ],
      "execution_count": null,
      "outputs": []
    },
    {
      "cell_type": "code",
      "metadata": {
        "id": "EBPyBfF4tE1P"
      },
      "source": [
        "predictor_with_input_red = Predictor.from_archive(archive, 'ag_text_classifier_with_input_red')"
      ],
      "execution_count": null,
      "outputs": []
    },
    {
      "cell_type": "code",
      "metadata": {
        "id": "SQ7Fe8miYAIK"
      },
      "source": [
        "input = \"The Cleveland Indians pulled within one game of the AL Central lead by beating the Minnesota Twins, 7-1, Saturday night with home runs by Travis Hafner and Victor Martinez.\""
      ],
      "execution_count": null,
      "outputs": []
    },
    {
      "cell_type": "code",
      "metadata": {
        "colab": {
          "base_uri": "https://localhost:8080/"
        },
        "id": "144t41eqpO1T",
        "outputId": "aa590719-5ec9-4d73-9f72-fca8c19f8e73"
      },
      "source": [
        "predictor_with_input_red.predict(input)"
      ],
      "execution_count": null,
      "outputs": [
        {
          "output_type": "execute_result",
          "data": {
            "text/plain": [
              "{'input_reduction_output': {'final': [['pulled', 'Hafner']],\n",
              "  'original': ['The',\n",
              "   'Cleveland',\n",
              "   'Indians',\n",
              "   'pulled',\n",
              "   'within',\n",
              "   'one',\n",
              "   'game',\n",
              "   'of',\n",
              "   'the',\n",
              "   'AL',\n",
              "   'Central',\n",
              "   'lead',\n",
              "   'by',\n",
              "   'beating',\n",
              "   'the',\n",
              "   'Minnesota',\n",
              "   'Twins',\n",
              "   ',',\n",
              "   '7',\n",
              "   '-',\n",
              "   '1',\n",
              "   ',',\n",
              "   'Saturday',\n",
              "   'night',\n",
              "   'with',\n",
              "   'home',\n",
              "   'runs',\n",
              "   'by',\n",
              "   'Travis',\n",
              "   'Hafner',\n",
              "   'and',\n",
              "   'Victor',\n",
              "   'Martinez',\n",
              "   '.']},\n",
              " 'prediction': {'class_probabilities': [0.000256297062151134,\n",
              "   0.9993062019348145,\n",
              "   0.0002524169394746423,\n",
              "   0.00018510186055209488],\n",
              "  'label': '2',\n",
              "  'logits': [-1.1653821468353271,\n",
              "   7.103096961975098,\n",
              "   -1.1806373596191406,\n",
              "   -1.4908137321472168]}}"
            ]
          },
          "metadata": {
            "tags": []
          },
          "execution_count": 15
        }
      ]
    },
    {
      "cell_type": "markdown",
      "metadata": {
        "id": "oC6gSe9xRWia"
      },
      "source": [
        "# Visualisation"
      ]
    },
    {
      "cell_type": "markdown",
      "metadata": {
        "id": "Lc26204rRtVU"
      },
      "source": [
        "Source: https://adataanalyst.com/machine-learning/highlight-text-using-weights/"
      ]
    },
    {
      "cell_type": "code",
      "metadata": {
        "id": "gtonm9haRVkw"
      },
      "source": [
        "import html\n",
        "import random\n",
        "from IPython.core.display import display, HTML"
      ],
      "execution_count": null,
      "outputs": []
    },
    {
      "cell_type": "code",
      "metadata": {
        "id": "WXExZzDKRpNW"
      },
      "source": [
        "# Prevent special characters like & and < to cause the browser to display something other than what you intended.\n",
        "def html_escape(text):\n",
        "    return html.escape(text)"
      ],
      "execution_count": null,
      "outputs": []
    },
    {
      "cell_type": "code",
      "metadata": {
        "id": "e2ghrxcdS5EN"
      },
      "source": [
        "def visualise_weights(tokens, gradients, max_alpha = 0.4):\n",
        "  max_alpha = max_alpha \n",
        "  highlighted_text = []\n",
        "  for i in range(len(tokens)):\n",
        "      weight = gradients[i]\n",
        "      highlighted_text.append('<span style=\"background-color:rgba(135,206,250,' + str(weight / max_alpha) + ');\">' + html_escape(tokens[i]) + '</span>')\n",
        "  highlighted_text = ' '.join(highlighted_text)\n",
        "  print(display(HTML(highlighted_text)))"
      ],
      "execution_count": null,
      "outputs": []
    },
    {
      "cell_type": "markdown",
      "metadata": {
        "id": "7_KMrax3a1Q4"
      },
      "source": [
        "# Checklist"
      ]
    },
    {
      "cell_type": "code",
      "metadata": {
        "id": "ImA_ViRHe4Ul"
      },
      "source": [
        "sample = []\n",
        "for row in test_set.head(1000).itertuples():\n",
        "  sample.append(row[3])"
      ],
      "execution_count": null,
      "outputs": []
    },
    {
      "cell_type": "code",
      "metadata": {
        "colab": {
          "base_uri": "https://localhost:8080/",
          "height": 578
        },
        "id": "J43GKSRLf7UQ",
        "outputId": "c83dba83-119e-4a7c-c57e-103767531722"
      },
      "source": [
        "tokenizer = SpacyTokenizer()\n",
        "for sentence in sample[:10]:\n",
        "  tokens = [str(x) for x in tokenizer.tokenize(sentence)]\n",
        "  grad = SimpleGradient(predictor).saliency_interpret_from_json({'Description':sentence})\n",
        "  gradient_list = grad['instance_1']['grad_input_1']\n",
        "  visualise_weights(tokens, gradient_list, 0.4)"
      ],
      "execution_count": null,
      "outputs": [
        {
          "output_type": "display_data",
          "data": {
            "text/html": [
              "<span style=\"background-color:rgba(135,206,250,0.17663864511266947);\">Unions</span> <span style=\"background-color:rgba(135,206,250,0.005106361665331027);\">representing</span> <span style=\"background-color:rgba(135,206,250,0.28069952232158063);\">workers</span> <span style=\"background-color:rgba(135,206,250,0.1255252336722192);\">at</span> <span style=\"background-color:rgba(135,206,250,0.21222591312691957);\">Turner</span> <span style=\"background-color:rgba(135,206,250,0.39263627187303735);\">Newall</span> <span style=\"background-color:rgba(135,206,250,0.0127987566008682);\">say</span> <span style=\"background-color:rgba(135,206,250,0.011815520268815632);\">they</span> <span style=\"background-color:rgba(135,206,250,0.0258528559077581);\">are</span> <span style=\"background-color:rgba(135,206,250,0.10613540115180552);\">&#x27;</span> <span style=\"background-color:rgba(135,206,250,0.006886830722452546);\">disappointed</span> <span style=\"background-color:rgba(135,206,250,0.03207627621179412);\">&#x27;</span> <span style=\"background-color:rgba(135,206,250,0.08626305733341107);\">after</span> <span style=\"background-color:rgba(135,206,250,0.20752054249945118);\">talks</span> <span style=\"background-color:rgba(135,206,250,0.05260935745912804);\">with</span> <span style=\"background-color:rgba(135,206,250,0.006183001104432847);\">stricken</span> <span style=\"background-color:rgba(135,206,250,0.008669477946375547);\">parent</span> <span style=\"background-color:rgba(135,206,250,0.07372689294589733);\">firm</span> <span style=\"background-color:rgba(135,206,250,0.03373733674431476);\">Federal</span> <span style=\"background-color:rgba(135,206,250,0.5382061518279387);\">Mogul</span> <span style=\"background-color:rgba(135,206,250,0.10468659823894418);\">.</span>"
            ],
            "text/plain": [
              "<IPython.core.display.HTML object>"
            ]
          },
          "metadata": {
            "tags": []
          }
        },
        {
          "output_type": "stream",
          "text": [
            "None\n"
          ],
          "name": "stdout"
        },
        {
          "output_type": "display_data",
          "data": {
            "text/html": [
              "<span style=\"background-color:rgba(135,206,250,0.22354586786876143);\">SPACE.com</span> <span style=\"background-color:rgba(135,206,250,0.07350382977678097);\">-</span> <span style=\"background-color:rgba(135,206,250,0.4111732103800253);\">TORONTO</span> <span style=\"background-color:rgba(135,206,250,0.008631409244765052);\">,</span> <span style=\"background-color:rgba(135,206,250,0.10261255791824772);\">Canada</span> <span style=\"background-color:rgba(135,206,250,0.03939269687221764);\">--</span> <span style=\"background-color:rgba(135,206,250,0.05532899586664052);\">A</span> <span style=\"background-color:rgba(135,206,250,0.00488981773219557);\">second\\team</span> <span style=\"background-color:rgba(135,206,250,0.006258852020875829);\">of</span> <span style=\"background-color:rgba(135,206,250,0.0993647445247355);\">rocketeers</span> <span style=\"background-color:rgba(135,206,250,0.054865901904784416);\">competing</span> <span style=\"background-color:rgba(135,206,250,0.009314051175757228);\">for</span> <span style=\"background-color:rgba(135,206,250,7.119722955011362e-05);\">the</span> <span style=\"background-color:rgba(135,206,250,0.024206988343235692);\">#</span> <span style=\"background-color:rgba(135,206,250,0.014194212668134986);\">36;10</span> <span style=\"background-color:rgba(135,206,250,0.045662613692877205);\">million</span> <span style=\"background-color:rgba(135,206,250,0.08137320445900405);\">Ansari</span> <span style=\"background-color:rgba(135,206,250,0.04735335999994438);\">X</span> <span style=\"background-color:rgba(135,206,250,0.3489964911866004);\">Prize</span> <span style=\"background-color:rgba(135,206,250,0.005431757558108276);\">,</span> <span style=\"background-color:rgba(135,206,250,0.025469889086874243);\">a</span> <span style=\"background-color:rgba(135,206,250,0.002732330234414505);\">contest</span> <span style=\"background-color:rgba(135,206,250,0.09109677996094676);\">for\\privately</span> <span style=\"background-color:rgba(135,206,250,0.03189604743444815);\">funded</span> <span style=\"background-color:rgba(135,206,250,0.11194930447119371);\">suborbital</span> <span style=\"background-color:rgba(135,206,250,0.1682605482239949);\">space</span> <span style=\"background-color:rgba(135,206,250,0.14932672137180444);\">flight</span> <span style=\"background-color:rgba(135,206,250,0.005978759509554048);\">,</span> <span style=\"background-color:rgba(135,206,250,0.0075765263749630945);\">has</span> <span style=\"background-color:rgba(135,206,250,0.016372988793627266);\">officially</span> <span style=\"background-color:rgba(135,206,250,0.02616253849243152);\">announced</span> <span style=\"background-color:rgba(135,206,250,7.257455859134386e-06);\">the</span> <span style=\"background-color:rgba(135,206,250,0.012820542623937054);\">first\\launch</span> <span style=\"background-color:rgba(135,206,250,0.01482120018607765);\">date</span> <span style=\"background-color:rgba(135,206,250,0.0005765939315268076);\">for</span> <span style=\"background-color:rgba(135,206,250,0.007386712961868623);\">its</span> <span style=\"background-color:rgba(135,206,250,0.0254886203997373);\">manned</span> <span style=\"background-color:rgba(135,206,250,0.10935367244678844);\">rocket</span> <span style=\"background-color:rgba(135,206,250,0.03655141416234119);\">.</span>"
            ],
            "text/plain": [
              "<IPython.core.display.HTML object>"
            ]
          },
          "metadata": {
            "tags": []
          }
        },
        {
          "output_type": "stream",
          "text": [
            "None\n"
          ],
          "name": "stdout"
        },
        {
          "output_type": "display_data",
          "data": {
            "text/html": [
              "<span style=\"background-color:rgba(135,206,250,0.19288409396768824);\">AP</span> <span style=\"background-color:rgba(135,206,250,0.07332673852447685);\">-</span> <span style=\"background-color:rgba(135,206,250,0.08307027750008476);\">A</span> <span style=\"background-color:rgba(135,206,250,0.05553463465581066);\">company</span> <span style=\"background-color:rgba(135,206,250,0.12568852378442727);\">founded</span> <span style=\"background-color:rgba(135,206,250,0.03247251769527117);\">by</span> <span style=\"background-color:rgba(135,206,250,9.382357778156927e-06);\">a</span> <span style=\"background-color:rgba(135,206,250,0.10004441735355779);\">chemistry</span> <span style=\"background-color:rgba(135,206,250,0.041155624155326476);\">researcher</span> <span style=\"background-color:rgba(135,206,250,0.007091165943740893);\">at</span> <span style=\"background-color:rgba(135,206,250,0.0215996439760169);\">the</span> <span style=\"background-color:rgba(135,206,250,0.1577137798947447);\">University</span> <span style=\"background-color:rgba(135,206,250,0.05071235333322634);\">of</span> <span style=\"background-color:rgba(135,206,250,0.38901818295243373);\">Louisville</span> <span style=\"background-color:rgba(135,206,250,0.07691343102727055);\">won</span> <span style=\"background-color:rgba(135,206,250,0.00329470423880501);\">a</span> <span style=\"background-color:rgba(135,206,250,0.10678751796771518);\">grant</span> <span style=\"background-color:rgba(135,206,250,0.003451143857069366);\">to</span> <span style=\"background-color:rgba(135,206,250,0.14950654548365477);\">develop</span> <span style=\"background-color:rgba(135,206,250,0.0023580992549101076);\">a</span> <span style=\"background-color:rgba(135,206,250,0.040438117804015815);\">method</span> <span style=\"background-color:rgba(135,206,250,0.007549425039180815);\">of</span> <span style=\"background-color:rgba(135,206,250,0.027989365672028137);\">producing</span> <span style=\"background-color:rgba(135,206,250,0.09306543587547976);\">better</span> <span style=\"background-color:rgba(135,206,250,0.023945884031810326);\">peptides</span> <span style=\"background-color:rgba(135,206,250,0.007031231344298956);\">,</span> <span style=\"background-color:rgba(135,206,250,0.07594438616810144);\">which</span> <span style=\"background-color:rgba(135,206,250,0.012928780003787036);\">are</span> <span style=\"background-color:rgba(135,206,250,0.006516249943739664);\">short</span> <span style=\"background-color:rgba(135,206,250,0.18593147314685649);\">chains</span> <span style=\"background-color:rgba(135,206,250,0.041161509043135196);\">of</span> <span style=\"background-color:rgba(135,206,250,0.01228890588918155);\">amino</span> <span style=\"background-color:rgba(135,206,250,0.023651214958748997);\">acids</span> <span style=\"background-color:rgba(135,206,250,0.00047565654781172445);\">,</span> <span style=\"background-color:rgba(135,206,250,0.002655333802848962);\">the</span> <span style=\"background-color:rgba(135,206,250,0.027809214291196448);\">building</span> <span style=\"background-color:rgba(135,206,250,0.07502297148766598);\">blocks</span> <span style=\"background-color:rgba(135,206,250,0.0545784162230769);\">of</span> <span style=\"background-color:rgba(135,206,250,0.0823981565764879);\">proteins</span> <span style=\"background-color:rgba(135,206,250,0.025985513343576624);\">.</span>"
            ],
            "text/plain": [
              "<IPython.core.display.HTML object>"
            ]
          },
          "metadata": {
            "tags": []
          }
        },
        {
          "output_type": "stream",
          "text": [
            "None\n"
          ],
          "name": "stdout"
        },
        {
          "output_type": "display_data",
          "data": {
            "text/html": [
              "<span style=\"background-color:rgba(135,206,250,0.08765118658254974);\">AP</span> <span style=\"background-color:rgba(135,206,250,0.01882906216363848);\">-</span> <span style=\"background-color:rgba(135,206,250,0.04701459214558477);\">It</span> <span style=\"background-color:rgba(135,206,250,0.04780630864871443);\">&#x27;s</span> <span style=\"background-color:rgba(135,206,250,0.020291838739859014);\">barely</span> <span style=\"background-color:rgba(135,206,250,0.25365838139699015);\">dawn</span> <span style=\"background-color:rgba(135,206,250,0.00911937846197057);\">when</span> <span style=\"background-color:rgba(135,206,250,0.016902788794587356);\">Mike</span> <span style=\"background-color:rgba(135,206,250,0.27706057651041854);\">Fitzpatrick</span> <span style=\"background-color:rgba(135,206,250,0.1114817350926789);\">starts</span> <span style=\"background-color:rgba(135,206,250,0.06136877579694456);\">his</span> <span style=\"background-color:rgba(135,206,250,0.1131248714997485);\">shift</span> <span style=\"background-color:rgba(135,206,250,0.0010116360851576318);\">with</span> <span style=\"background-color:rgba(135,206,250,0.00242730902960309);\">a</span> <span style=\"background-color:rgba(135,206,250,0.06583679817484425);\">blur</span> <span style=\"background-color:rgba(135,206,250,0.03499688440720273);\">of</span> <span style=\"background-color:rgba(135,206,250,0.012801938486660457);\">colorful</span> <span style=\"background-color:rgba(135,206,250,0.07611964437713044);\">maps</span> <span style=\"background-color:rgba(135,206,250,0.010628010393309508);\">,</span> <span style=\"background-color:rgba(135,206,250,0.06640727277279765);\">figures</span> <span style=\"background-color:rgba(135,206,250,0.01863659896061983);\">and</span> <span style=\"background-color:rgba(135,206,250,0.04670610214550356);\">endless</span> <span style=\"background-color:rgba(135,206,250,0.09156381160998772);\">charts</span> <span style=\"background-color:rgba(135,206,250,0.005940922746656194);\">,</span> <span style=\"background-color:rgba(135,206,250,0.001993626989029708);\">but</span> <span style=\"background-color:rgba(135,206,250,0.05052024203479925);\">already</span> <span style=\"background-color:rgba(135,206,250,0.003693089946461766);\">he</span> <span style=\"background-color:rgba(135,206,250,0.04461087901431402);\">knows</span> <span style=\"background-color:rgba(135,206,250,0.003981886884081607);\">what</span> <span style=\"background-color:rgba(135,206,250,0.0040168266148105985);\">the</span> <span style=\"background-color:rgba(135,206,250,0.06469106194084319);\">day</span> <span style=\"background-color:rgba(135,206,250,0.03475590077615075);\">will</span> <span style=\"background-color:rgba(135,206,250,0.053232142371572956);\">bring</span> <span style=\"background-color:rgba(135,206,250,0.011658125959483923);\">.</span> <span style=\"background-color:rgba(135,206,250,0.028834156821799205);\">Lightning</span> <span style=\"background-color:rgba(135,206,250,0.03799223651619407);\">will</span> <span style=\"background-color:rgba(135,206,250,0.02578401090980208);\">strike</span> <span style=\"background-color:rgba(135,206,250,0.00043599715745293457);\">in</span> <span style=\"background-color:rgba(135,206,250,0.08362444164295268);\">places</span> <span style=\"background-color:rgba(135,206,250,0.019623887117458366);\">he</span> <span style=\"background-color:rgba(135,206,250,0.00941097564865635);\">expects</span> <span style=\"background-color:rgba(135,206,250,0.013190349433479227);\">.</span> <span style=\"background-color:rgba(135,206,250,0.07011196443771305);\">Winds</span> <span style=\"background-color:rgba(135,206,250,0.0067681401117372355);\">will</span> <span style=\"background-color:rgba(135,206,250,0.08336774874080519);\">pick</span> <span style=\"background-color:rgba(135,206,250,0.007617927087773038);\">up</span> <span style=\"background-color:rgba(135,206,250,0.01198114048679494);\">,</span> <span style=\"background-color:rgba(135,206,250,0.05755341992307272);\">moist</span> <span style=\"background-color:rgba(135,206,250,0.09674878906776765);\">places</span> <span style=\"background-color:rgba(135,206,250,0.00896761409449664);\">will</span> <span style=\"background-color:rgba(135,206,250,0.05408936824139431);\">dry</span> <span style=\"background-color:rgba(135,206,250,0.011053822478371353);\">and</span> <span style=\"background-color:rgba(135,206,250,0.042391000642147514);\">flames</span> <span style=\"background-color:rgba(135,206,250,0.02251052756189667);\">will</span> <span style=\"background-color:rgba(135,206,250,0.031248189000046264);\">roar</span> <span style=\"background-color:rgba(135,206,250,0.006154040264765579);\">.</span>"
            ],
            "text/plain": [
              "<IPython.core.display.HTML object>"
            ]
          },
          "metadata": {
            "tags": []
          }
        },
        {
          "output_type": "stream",
          "text": [
            "None\n"
          ],
          "name": "stdout"
        },
        {
          "output_type": "display_data",
          "data": {
            "text/html": [
              "<span style=\"background-color:rgba(135,206,250,0.07913696957487559);\">AP</span> <span style=\"background-color:rgba(135,206,250,0.05717978176836781);\">-</span> <span style=\"background-color:rgba(135,206,250,0.5080946295574708);\">Southern</span> <span style=\"background-color:rgba(135,206,250,0.4928451465572221);\">California</span> <span style=\"background-color:rgba(135,206,250,0.02643093589284556);\">&#x27;s</span> <span style=\"background-color:rgba(135,206,250,0.1646419614455114);\">smog</span> <span style=\"background-color:rgba(135,206,250,0.031825819777422604);\">-</span> <span style=\"background-color:rgba(135,206,250,0.006685186253322328);\">fighting</span> <span style=\"background-color:rgba(135,206,250,0.023582805187639104);\">agency</span> <span style=\"background-color:rgba(135,206,250,0.003593454283142109);\">went</span> <span style=\"background-color:rgba(135,206,250,0.017519733343059382);\">after</span> <span style=\"background-color:rgba(135,206,250,0.06694499409973388);\">emissions</span> <span style=\"background-color:rgba(135,206,250,0.017624324155286444);\">of</span> <span style=\"background-color:rgba(135,206,250,0.0036229783900411294);\">the</span> <span style=\"background-color:rgba(135,206,250,0.12046746668329437);\">bovine</span> <span style=\"background-color:rgba(135,206,250,0.07230951660563985);\">variety</span> <span style=\"background-color:rgba(135,206,250,0.06636674031996247);\">Friday</span> <span style=\"background-color:rgba(135,206,250,0.026174612446400347);\">,</span> <span style=\"background-color:rgba(135,206,250,0.18069738098359928);\">adopting</span> <span style=\"background-color:rgba(135,206,250,0.011150701123033067);\">the</span> <span style=\"background-color:rgba(135,206,250,0.026664084123412077);\">nation</span> <span style=\"background-color:rgba(135,206,250,0.01999223162859837);\">&#x27;s</span> <span style=\"background-color:rgba(135,206,250,0.03346377478377911);\">first</span> <span style=\"background-color:rgba(135,206,250,0.11706166258777209);\">rules</span> <span style=\"background-color:rgba(135,206,250,0.0007387731264000436);\">to</span> <span style=\"background-color:rgba(135,206,250,0.045825347519862274);\">reduce</span> <span style=\"background-color:rgba(135,206,250,0.009303780904565163);\">air</span> <span style=\"background-color:rgba(135,206,250,0.09944245594788428);\">pollution</span> <span style=\"background-color:rgba(135,206,250,0.018276841315647996);\">from</span> <span style=\"background-color:rgba(135,206,250,0.024022177407309116);\">dairy</span> <span style=\"background-color:rgba(135,206,250,0.06567487006025843);\">cow</span> <span style=\"background-color:rgba(135,206,250,0.06218275987378003);\">manure</span> <span style=\"background-color:rgba(135,206,250,0.0004558560574093944);\">.</span>"
            ],
            "text/plain": [
              "<IPython.core.display.HTML object>"
            ]
          },
          "metadata": {
            "tags": []
          }
        },
        {
          "output_type": "stream",
          "text": [
            "None\n"
          ],
          "name": "stdout"
        },
        {
          "output_type": "display_data",
          "data": {
            "text/html": [
              "<span style=\"background-color:rgba(135,206,250,0.027287997716162977);\">The</span> <span style=\"background-color:rgba(135,206,250,0.11708997580155217);\">British</span> <span style=\"background-color:rgba(135,206,250,0.020387271884378503);\">Department</span> <span style=\"background-color:rgba(135,206,250,0.0050423282993265865);\">for</span> <span style=\"background-color:rgba(135,206,250,0.013103634684237619);\">Education</span> <span style=\"background-color:rgba(135,206,250,0.003637708452242503);\">and</span> <span style=\"background-color:rgba(135,206,250,0.22946905339860504);\">Skills</span> <span style=\"background-color:rgba(135,206,250,0.05314727378632448);\">(</span> <span style=\"background-color:rgba(135,206,250,0.08878869230040486);\">DfES</span> <span style=\"background-color:rgba(135,206,250,0.020682294376571726);\">)</span> <span style=\"background-color:rgba(135,206,250,0.013309995080907496);\">recently</span> <span style=\"background-color:rgba(135,206,250,0.009181744650694346);\">launched</span> <span style=\"background-color:rgba(135,206,250,3.0886356056909924e-05);\">a</span> <span style=\"background-color:rgba(135,206,250,1.1047672271996866e-05);\">&quot;</span> <span style=\"background-color:rgba(135,206,250,0.011189978953940527);\">Music</span> <span style=\"background-color:rgba(135,206,250,0.022664174102188083);\">Manifesto</span> <span style=\"background-color:rgba(135,206,250,0.02994950557965228);\">&quot;</span> <span style=\"background-color:rgba(135,206,250,0.06796012922599509);\">campaign</span> <span style=\"background-color:rgba(135,206,250,0.0049064156369628175);\">,</span> <span style=\"background-color:rgba(135,206,250,0.005014468349255072);\">with</span> <span style=\"background-color:rgba(135,206,250,0.002891555582993148);\">the</span> <span style=\"background-color:rgba(135,206,250,0.0014390662415838438);\">ostensible</span> <span style=\"background-color:rgba(135,206,250,0.004657154765679775);\">intention</span> <span style=\"background-color:rgba(135,206,250,0.0021526905115446197);\">of</span> <span style=\"background-color:rgba(135,206,250,0.022989850811381805);\">educating</span> <span style=\"background-color:rgba(135,206,250,0.001582490512966874);\">the</span> <span style=\"background-color:rgba(135,206,250,0.0009313246794735183);\">next</span> <span style=\"background-color:rgba(135,206,250,0.029944150536921267);\">generation</span> <span style=\"background-color:rgba(135,206,250,0.004813265877178865);\">of</span> <span style=\"background-color:rgba(135,206,250,0.02184510365530467);\">British</span> <span style=\"background-color:rgba(135,206,250,0.029959812042261644);\">musicians</span> <span style=\"background-color:rgba(135,206,250,0.00854350428172884);\">.</span> <span style=\"background-color:rgba(135,206,250,0.002088447598606227);\">Unfortunately</span> <span style=\"background-color:rgba(135,206,250,0.002175366430602491);\">,</span> <span style=\"background-color:rgba(135,206,250,0.0007892968082285775);\">they</span> <span style=\"background-color:rgba(135,206,250,0.0040296285888041464);\">also</span> <span style=\"background-color:rgba(135,206,250,0.03887048816107716);\">teamed</span> <span style=\"background-color:rgba(135,206,250,0.008321001317597703);\">up</span> <span style=\"background-color:rgba(135,206,250,0.0008923395811954463);\">with</span> <span style=\"background-color:rgba(135,206,250,0.004068074252179593);\">the</span> <span style=\"background-color:rgba(135,206,250,0.05540128214046898);\">music</span> <span style=\"background-color:rgba(135,206,250,0.0576084420839729);\">industry</span> <span style=\"background-color:rgba(135,206,250,0.012213520748677664);\">(</span> <span style=\"background-color:rgba(135,206,250,0.01840962315878143);\">EMI</span> <span style=\"background-color:rgba(135,206,250,0.00279961346513095);\">,</span> <span style=\"background-color:rgba(135,206,250,0.0011061390609032491);\">and</span> <span style=\"background-color:rgba(135,206,250,0.001085445983108575);\">various</span> <span style=\"background-color:rgba(135,206,250,0.038604031372286456);\">artists</span> <span style=\"background-color:rgba(135,206,250,0.016268838054736997);\">)</span> <span style=\"background-color:rgba(135,206,250,0.0006041369512247951);\">to</span> <span style=\"background-color:rgba(135,206,250,0.004529890074930574);\">make</span> <span style=\"background-color:rgba(135,206,250,0.00225477864019904);\">this</span> <span style=\"background-color:rgba(135,206,250,0.004724959298296076);\">popular</span> <span style=\"background-color:rgba(135,206,250,0.0027344758939799384);\">.</span> <span style=\"background-color:rgba(135,206,250,0.011163030088593075);\">EMI</span> <span style=\"background-color:rgba(135,206,250,0.054763271742663704);\">has</span> <span style=\"background-color:rgba(135,206,250,0.042524051716830644);\">apparently</span> <span style=\"background-color:rgba(135,206,250,0.04034429588770565);\">negotiated</span> <span style=\"background-color:rgba(135,206,250,0.012856685551109871);\">their</span> <span style=\"background-color:rgba(135,206,250,0.004086555544207808);\">end</span> <span style=\"background-color:rgba(135,206,250,0.014823559658521399);\">well</span> <span style=\"background-color:rgba(135,206,250,0.002586935608157738);\">,</span> <span style=\"background-color:rgba(135,206,250,0.01649319369469466);\">so</span> <span style=\"background-color:rgba(135,206,250,0.0011864902949598462);\">that</span> <span style=\"background-color:rgba(135,206,250,0.0003712192121744487);\">children</span> <span style=\"background-color:rgba(135,206,250,0.0007512666475935156);\">in</span> <span style=\"background-color:rgba(135,206,250,0.002450714655373817);\">our</span> <span style=\"background-color:rgba(135,206,250,0.00181520284729152);\">schools</span> <span style=\"background-color:rgba(135,206,250,0.0002774901611978248);\">will</span> <span style=\"background-color:rgba(135,206,250,0.0035902534340007024);\">now</span> <span style=\"background-color:rgba(135,206,250,0.00349257142371079);\">be</span> <span style=\"background-color:rgba(135,206,250,0.015922787778062726);\">indoctrinated</span> <span style=\"background-color:rgba(135,206,250,0.013363913931402828);\">about</span> <span style=\"background-color:rgba(135,206,250,0.0027336000089232563);\">the</span> <span style=\"background-color:rgba(135,206,250,0.007470643646362041);\">illegality</span> <span style=\"background-color:rgba(135,206,250,0.007984488977461639);\">of</span> <span style=\"background-color:rgba(135,206,250,0.24948844651924362);\">downloading</span> <span style=\"background-color:rgba(135,206,250,0.07501955393149233);\">music</span> <span style=\"background-color:rgba(135,206,250,0.031963707986503026);\">.</span> <span style=\"background-color:rgba(135,206,250,0.0060382084354517924);\">The</span> <span style=\"background-color:rgba(135,206,250,0.012304062506439192);\">ignorance</span> <span style=\"background-color:rgba(135,206,250,0.0038112451590789176);\">and</span> <span style=\"background-color:rgba(135,206,250,0.009790700069720496);\">audacity</span> <span style=\"background-color:rgba(135,206,250,0.0019165359430806021);\">of</span> <span style=\"background-color:rgba(135,206,250,0.0008705753335227619);\">this</span> <span style=\"background-color:rgba(135,206,250,0.011640694268252118);\">got</span> <span style=\"background-color:rgba(135,206,250,0.00010345789071089188);\">to</span> <span style=\"background-color:rgba(135,206,250,0.00658181860528938);\">me</span> <span style=\"background-color:rgba(135,206,250,0.00010362510746411517);\">a</span> <span style=\"background-color:rgba(135,206,250,0.001556638410588925);\">little</span> <span style=\"background-color:rgba(135,206,250,0.0004518075673237098);\">,</span> <span style=\"background-color:rgba(135,206,250,0.0015538344637514088);\">so</span> <span style=\"background-color:rgba(135,206,250,0.00745016037325149);\">I</span> <span style=\"background-color:rgba(135,206,250,0.013163795609081978);\">wrote</span> <span style=\"background-color:rgba(135,206,250,0.005408533318882509);\">an</span> <span style=\"background-color:rgba(135,206,250,0.023113779453654906);\">open</span> <span style=\"background-color:rgba(135,206,250,0.011091981906627548);\">letter</span> <span style=\"background-color:rgba(135,206,250,0.0001039263029513102);\">to</span> <span style=\"background-color:rgba(135,206,250,0.0010055253583162811);\">the</span> <span style=\"background-color:rgba(135,206,250,0.03397020870613066);\">DfES</span> <span style=\"background-color:rgba(135,206,250,0.0050154369267691925);\">about</span> <span style=\"background-color:rgba(135,206,250,0.004864465553368958);\">it</span> <span style=\"background-color:rgba(135,206,250,0.007599350056821086);\">.</span> <span style=\"background-color:rgba(135,206,250,0.001452423342032964);\">Unfortunately</span> <span style=\"background-color:rgba(135,206,250,0.0081110405816158);\">,</span> <span style=\"background-color:rgba(135,206,250,0.0021688987850516594);\">it</span> <span style=\"background-color:rgba(135,206,250,0.004211217512884692);\">&#x27;s</span> <span style=\"background-color:rgba(135,206,250,0.1463037285470136);\">pedantic</span> <span style=\"background-color:rgba(135,206,250,0.011547355310255986);\">,</span> <span style=\"background-color:rgba(135,206,250,0.003769289502204389);\">as</span> <span style=\"background-color:rgba(135,206,250,0.011119122023501106);\">I</span> <span style=\"background-color:rgba(135,206,250,0.0016467284392857214);\">suppose</span> <span style=\"background-color:rgba(135,206,250,0.0007860637187795657);\">you</span> <span style=\"background-color:rgba(135,206,250,0.004773441266833738);\">have</span> <span style=\"background-color:rgba(135,206,250,0.0005761311058652467);\">to</span> <span style=\"background-color:rgba(135,206,250,0.003478496836708206);\">be</span> <span style=\"background-color:rgba(135,206,250,0.004424466777791735);\">when</span> <span style=\"background-color:rgba(135,206,250,0.029738255949183078);\">writing</span> <span style=\"background-color:rgba(135,206,250,0.00040044017938507055);\">to</span> <span style=\"background-color:rgba(135,206,250,0.04689898552268281);\">goverment</span> <span style=\"background-color:rgba(135,206,250,0.0029618411054987384);\">representatives</span> <span style=\"background-color:rgba(135,206,250,0.0015967958044560894);\">.</span> <span style=\"background-color:rgba(135,206,250,0.014721044147238852);\">But</span> <span style=\"background-color:rgba(135,206,250,0.002550030516891365);\">I</span> <span style=\"background-color:rgba(135,206,250,0.011762710395264142);\">hope</span> <span style=\"background-color:rgba(135,206,250,0.003194612399266249);\">you</span> <span style=\"background-color:rgba(135,206,250,0.0015605118406537227);\">find</span> <span style=\"background-color:rgba(135,206,250,0.0008286944759414197);\">it</span> <span style=\"background-color:rgba(135,206,250,0.020694327969527294);\">useful</span> <span style=\"background-color:rgba(135,206,250,0.001112874737254664);\">,</span> <span style=\"background-color:rgba(135,206,250,0.0043689569023307485);\">and</span> <span style=\"background-color:rgba(135,206,250,0.0015728120710897062);\">perhaps</span> <span style=\"background-color:rgba(135,206,250,0.007194175485506853);\">feel</span> <span style=\"background-color:rgba(135,206,250,0.011931218242953952);\">inspired</span> <span style=\"background-color:rgba(135,206,250,0.0009902273628742608);\">to</span> <span style=\"background-color:rgba(135,206,250,0.0023389859244846646);\">do</span> <span style=\"background-color:rgba(135,206,250,0.009499835831567304);\">something</span> <span style=\"background-color:rgba(135,206,250,0.04587945297006045);\">similar</span> <span style=\"background-color:rgba(135,206,250,0.005979424990924305);\">,</span> <span style=\"background-color:rgba(135,206,250,0.0019692301384816114);\">if</span> <span style=\"background-color:rgba(135,206,250,0.020689017513041634);\">or</span> <span style=\"background-color:rgba(135,206,250,0.0025900014991866865);\">when</span> <span style=\"background-color:rgba(135,206,250,0.01446670660392768);\">the</span> <span style=\"background-color:rgba(135,206,250,0.02439694578174395);\">same</span> <span style=\"background-color:rgba(135,206,250,0.005057488796067898);\">thing</span> <span style=\"background-color:rgba(135,206,250,0.01827720670338035);\">has</span> <span style=\"background-color:rgba(135,206,250,0.008368067379514937);\">happened</span> <span style=\"background-color:rgba(135,206,250,0.0006336466657069079);\">in</span> <span style=\"background-color:rgba(135,206,250,0.0039720835859073725);\">your</span> <span style=\"background-color:rgba(135,206,250,0.02618522968340529);\">area</span> <span style=\"background-color:rgba(135,206,250,3.103390591264169e-05);\">.</span>"
            ],
            "text/plain": [
              "<IPython.core.display.HTML object>"
            ]
          },
          "metadata": {
            "tags": []
          }
        },
        {
          "output_type": "stream",
          "text": [
            "None\n"
          ],
          "name": "stdout"
        },
        {
          "output_type": "display_data",
          "data": {
            "text/html": [
              "<span style=\"background-color:rgba(135,206,250,0.11084737814767476);\">\\\\&quot;Sven</span> <span style=\"background-color:rgba(135,206,250,0.1870704053563276);\">Jaschan</span> <span style=\"background-color:rgba(135,206,250,0.018130420327189842);\">,</span> <span style=\"background-color:rgba(135,206,250,0.025894564611751818);\">self</span> <span style=\"background-color:rgba(135,206,250,0.023483835563342974);\">-</span> <span style=\"background-color:rgba(135,206,250,0.0159232792745723);\">confessed</span> <span style=\"background-color:rgba(135,206,250,0.00929136342886772);\">author</span> <span style=\"background-color:rgba(135,206,250,0.001098650873143039);\">of</span> <span style=\"background-color:rgba(135,206,250,0.002255987794167936);\">the</span> <span style=\"background-color:rgba(135,206,250,0.014739886036648935);\">Netsky</span> <span style=\"background-color:rgba(135,206,250,0.006501856877992912);\">and</span> <span style=\"background-color:rgba(135,206,250,0.02647984215072511);\">Sasser</span> <span style=\"background-color:rgba(135,206,250,0.012135501203844943);\">viruses</span> <span style=\"background-color:rgba(135,206,250,0.0046747873989335855);\">,</span> <span style=\"background-color:rgba(135,206,250,0.012800873062135594);\">is\\responsible</span> <span style=\"background-color:rgba(135,206,250,0.0024550038961886353);\">for</span> <span style=\"background-color:rgba(135,206,250,0.008261845854282048);\">70</span> <span style=\"background-color:rgba(135,206,250,0.013780217332689882);\">percent</span> <span style=\"background-color:rgba(135,206,250,0.005691844525936601);\">of</span> <span style=\"background-color:rgba(135,206,250,0.025574747810938173);\">virus</span> <span style=\"background-color:rgba(135,206,250,0.04683553677151837);\">infections</span> <span style=\"background-color:rgba(135,206,250,0.005417402964857417);\">in</span> <span style=\"background-color:rgba(135,206,250,0.007710827946347723);\">2004</span> <span style=\"background-color:rgba(135,206,250,0.006883116925629967);\">,</span> <span style=\"background-color:rgba(135,206,250,0.005430027392417633);\">according</span> <span style=\"background-color:rgba(135,206,250,0.002803169941357852);\">to</span> <span style=\"background-color:rgba(135,206,250,0.004867286185282742);\">a</span> <span style=\"background-color:rgba(135,206,250,0.002827892080606093);\">six</span> <span style=\"background-color:rgba(135,206,250,0.0031544625211765874);\">-</span> <span style=\"background-color:rgba(135,206,250,0.048331139763866104);\">month\\virus</span> <span style=\"background-color:rgba(135,206,250,0.06015711581428151);\">roundup</span> <span style=\"background-color:rgba(135,206,250,0.0012243539640514494);\">published</span> <span style=\"background-color:rgba(135,206,250,0.007608865399372973);\">Wednesday</span> <span style=\"background-color:rgba(135,206,250,0.004637846212967485);\">by</span> <span style=\"background-color:rgba(135,206,250,0.029685428349053793);\">antivirus</span> <span style=\"background-color:rgba(135,206,250,0.004526609405218616);\">company</span> <span style=\"background-color:rgba(135,206,250,0.05510570397506408);\">Sophos</span> <span style=\"background-color:rgba(135,206,250,0.0013058709239016713);\">.</span> <span style=\"background-color:rgba(135,206,250,0.009745062012349743);\">&quot;\\\\&quot;The</span> <span style=\"background-color:rgba(135,206,250,0.01484132110623457);\">18-year</span> <span style=\"background-color:rgba(135,206,250,0.0029108055355747957);\">-</span> <span style=\"background-color:rgba(135,206,250,0.0018779987155569183);\">old</span> <span style=\"background-color:rgba(135,206,250,0.07173218117655841);\">Jaschan</span> <span style=\"background-color:rgba(135,206,250,0.008232890442455254);\">was</span> <span style=\"background-color:rgba(135,206,250,0.013367733060471516);\">taken</span> <span style=\"background-color:rgba(135,206,250,0.005155763010942683);\">into</span> <span style=\"background-color:rgba(135,206,250,0.04821984863457668);\">custody</span> <span style=\"background-color:rgba(135,206,250,0.006796320242028615);\">in</span> <span style=\"background-color:rgba(135,206,250,0.0860930500867494);\">Germany</span> <span style=\"background-color:rgba(135,206,250,0.011298934248983122);\">in</span> <span style=\"background-color:rgba(135,206,250,0.0029752176830445272);\">May</span> <span style=\"background-color:rgba(135,206,250,0.0023711413372940944);\">by</span> <span style=\"background-color:rgba(135,206,250,0.01796330289990583);\">police</span> <span style=\"background-color:rgba(135,206,250,0.006054167170716411);\">who\\said</span> <span style=\"background-color:rgba(135,206,250,0.009176769346841467);\">he</span> <span style=\"background-color:rgba(135,206,250,0.0068062554994924584);\">had</span> <span style=\"background-color:rgba(135,206,250,0.0012950630949628158);\">admitted</span> <span style=\"background-color:rgba(135,206,250,0.01564427267337483);\">programming</span> <span style=\"background-color:rgba(135,206,250,0.01321394928684261);\">both</span> <span style=\"background-color:rgba(135,206,250,0.0009736392396013);\">the</span> <span style=\"background-color:rgba(135,206,250,0.01681268535037622);\">Netsky</span> <span style=\"background-color:rgba(135,206,250,0.0019977226294198296);\">and</span> <span style=\"background-color:rgba(135,206,250,0.047942571184473835);\">Sasser</span> <span style=\"background-color:rgba(135,206,250,0.007254710785116199);\">worms</span> <span style=\"background-color:rgba(135,206,250,0.0031797809281760435);\">,</span> <span style=\"background-color:rgba(135,206,250,0.02030455520562474);\">something\\experts</span> <span style=\"background-color:rgba(135,206,250,0.00040863607336420407);\">at</span> <span style=\"background-color:rgba(135,206,250,0.04194029479229061);\">Microsoft</span> <span style=\"background-color:rgba(135,206,250,0.012312250297179236);\">confirmed</span> <span style=\"background-color:rgba(135,206,250,0.0008993136013597918);\">.</span> <span style=\"background-color:rgba(135,206,250,0.003110872023272178);\">(</span> <span style=\"background-color:rgba(135,206,250,0.006547325530470009);\">A</span> <span style=\"background-color:rgba(135,206,250,0.11087694531143022);\">Microsoft</span> <span style=\"background-color:rgba(135,206,250,0.09724935830806888);\">antivirus</span> <span style=\"background-color:rgba(135,206,250,0.02789340844792223);\">reward</span> <span style=\"background-color:rgba(135,206,250,0.00817881055660556);\">program</span> <span style=\"background-color:rgba(135,206,250,0.01837789505096885);\">led</span> <span style=\"background-color:rgba(135,206,250,0.00266212558434463);\">to</span> <span style=\"background-color:rgba(135,206,250,0.012698789180131011);\">the\\teenager</span> <span style=\"background-color:rgba(135,206,250,0.0005973683970090038);\">&#x27;s</span> <span style=\"background-color:rgba(135,206,250,0.03211459829128566);\">arrest</span> <span style=\"background-color:rgba(135,206,250,0.0016635862643739304);\">.</span> <span style=\"background-color:rgba(135,206,250,0.0026183782139539494);\">)</span> <span style=\"background-color:rgba(135,206,250,0.008968318811653709);\">During</span> <span style=\"background-color:rgba(135,206,250,0.00040360060616633403);\">the</span> <span style=\"background-color:rgba(135,206,250,0.002432269316111112);\">five</span> <span style=\"background-color:rgba(135,206,250,0.0013797010050051164);\">months</span> <span style=\"background-color:rgba(135,206,250,0.00029780337726281725);\">preceding</span> <span style=\"background-color:rgba(135,206,250,0.04838152172353457);\">Jaschan</span> <span style=\"background-color:rgba(135,206,250,0.006160946058394251);\">&#x27;s</span> <span style=\"background-color:rgba(135,206,250,0.015559374705303103);\">capture</span> <span style=\"background-color:rgba(135,206,250,0.004261882769373367);\">,</span> <span style=\"background-color:rgba(135,206,250,0.03462117490577237);\">there\\were</span> <span style=\"background-color:rgba(135,206,250,0.005196247281315538);\">at</span> <span style=\"background-color:rgba(135,206,250,0.005274657125197794);\">least</span> <span style=\"background-color:rgba(135,206,250,0.0010375546241978395);\">25</span> <span style=\"background-color:rgba(135,206,250,0.007264556691261002);\">variants</span> <span style=\"background-color:rgba(135,206,250,0.000411852498740585);\">of</span> <span style=\"background-color:rgba(135,206,250,0.0015452802950228493);\">Netsky</span> <span style=\"background-color:rgba(135,206,250,0.000506702318999116);\">and</span> <span style=\"background-color:rgba(135,206,250,0.0014711458609889204);\">one</span> <span style=\"background-color:rgba(135,206,250,0.0016374493536010413);\">of</span> <span style=\"background-color:rgba(135,206,250,0.0008612755771846651);\">the</span> <span style=\"background-color:rgba(135,206,250,8.248243638991871e-05);\">port</span> <span style=\"background-color:rgba(135,206,250,0.005747882017958016);\">-</span> <span style=\"background-color:rgba(135,206,250,0.014510457233248557);\">scanning</span> <span style=\"background-color:rgba(135,206,250,0.0025816190305325993);\">network</span> <span style=\"background-color:rgba(135,206,250,0.04614401442206968);\">worm\\Sasser</span> <span style=\"background-color:rgba(135,206,250,0.0032898680992091804);\">.</span> <span style=\"background-color:rgba(135,206,250,0.08531355730228106);\">&quot;\\\\&quot;Graham</span> <span style=\"background-color:rgba(135,206,250,0.11630414442999341);\">Cluley</span> <span style=\"background-color:rgba(135,206,250,0.005307930337981664);\">,</span> <span style=\"background-color:rgba(135,206,250,0.01040754010633054);\">senior</span> <span style=\"background-color:rgba(135,206,250,0.007455269974263181);\">technology</span> <span style=\"background-color:rgba(135,206,250,0.011212872683052065);\">consultant</span> <span style=\"background-color:rgba(135,206,250,0.0006060198638590666);\">at</span> <span style=\"background-color:rgba(135,206,250,0.177538926503231);\">Sophos</span> <span style=\"background-color:rgba(135,206,250,0.0009307823363333368);\">,</span> <span style=\"background-color:rgba(135,206,250,0.012298926797083115);\">said</span> <span style=\"background-color:rgba(135,206,250,0.004044393789818846);\">it</span> <span style=\"background-color:rgba(135,206,250,0.01463014941723965);\">was</span> <span style=\"background-color:rgba(135,206,250,0.019791666450057407);\">staggeri</span> <span style=\"background-color:rgba(135,206,250,0.07257385435623226);\">...</span> <span style=\"background-color:rgba(135,206,250,0.08156176852136524);\">\\\\</span>"
            ],
            "text/plain": [
              "<IPython.core.display.HTML object>"
            ]
          },
          "metadata": {
            "tags": []
          }
        },
        {
          "output_type": "stream",
          "text": [
            "None\n"
          ],
          "name": "stdout"
        },
        {
          "output_type": "display_data",
          "data": {
            "text/html": [
              "<span style=\"background-color:rgba(135,206,250,0.0627323393777893);\">\\\\FOAF</span> <span style=\"background-color:rgba(135,206,250,0.018748054503097526);\">/</span> <span style=\"background-color:rgba(135,206,250,0.0095323176738019);\">LOAF</span> <span style=\"background-color:rgba(135,206,250,4.9893824649105206e-05);\">and</span> <span style=\"background-color:rgba(135,206,250,0.006479416693298602);\">bloom</span> <span style=\"background-color:rgba(135,206,250,0.001916149876051788);\">filters</span> <span style=\"background-color:rgba(135,206,250,0.006191137151680625);\">have</span> <span style=\"background-color:rgba(135,206,250,0.0031754836433984628);\">a</span> <span style=\"background-color:rgba(135,206,250,0.0019905494061165166);\">lot</span> <span style=\"background-color:rgba(135,206,250,0.0018478636331270364);\">of</span> <span style=\"background-color:rgba(135,206,250,0.009028359232543401);\">interesting</span> <span style=\"background-color:rgba(135,206,250,0.02400534971298951);\">properties</span> <span style=\"background-color:rgba(135,206,250,0.007300261846429685);\">for</span> <span style=\"background-color:rgba(135,206,250,0.10456422567083834);\">social\\network</span> <span style=\"background-color:rgba(135,206,250,0.0017965458109237035);\">and</span> <span style=\"background-color:rgba(135,206,250,0.17396426430908676);\">whitelist</span> <span style=\"background-color:rgba(135,206,250,0.24225734819658606);\">distribution.\\\\I</span> <span style=\"background-color:rgba(135,206,250,0.015716739277377906);\">think</span> <span style=\"background-color:rgba(135,206,250,0.00994150595373878);\">we</span> <span style=\"background-color:rgba(135,206,250,0.003938423096523463);\">can</span> <span style=\"background-color:rgba(135,206,250,0.012179885746805645);\">go</span> <span style=\"background-color:rgba(135,206,250,0.006852120590468797);\">one</span> <span style=\"background-color:rgba(135,206,250,0.023341256622643823);\">level</span> <span style=\"background-color:rgba(135,206,250,0.04168854186761881);\">higher</span> <span style=\"background-color:rgba(135,206,250,0.0005608317261203244);\">though</span> <span style=\"background-color:rgba(135,206,250,0.006149539189862089);\">and</span> <span style=\"background-color:rgba(135,206,250,0.0022370002319957957);\">include</span> <span style=\"background-color:rgba(135,206,250,0.015876883851364883);\">GPG</span> <span style=\"background-color:rgba(135,206,250,0.006007798989143686);\">/</span> <span style=\"background-color:rgba(135,206,250,0.01350375369382394);\">OpenPGP</span> <span style=\"background-color:rgba(135,206,250,0.027637478672509156);\">key\\fingerpring</span> <span style=\"background-color:rgba(135,206,250,0.019477835993847444);\">distribution</span> <span style=\"background-color:rgba(135,206,250,0.001829740540541196);\">in</span> <span style=\"background-color:rgba(135,206,250,0.0007326249745402861);\">the</span> <span style=\"background-color:rgba(135,206,250,0.028088747625299903);\">FOAF</span> <span style=\"background-color:rgba(135,206,250,0.00561869148827659);\">file</span> <span style=\"background-color:rgba(135,206,250,0.0003808711874352795);\">for</span> <span style=\"background-color:rgba(135,206,250,0.004319034883168728);\">simple</span> <span style=\"background-color:rgba(135,206,250,0.025504177402593177);\">web</span> <span style=\"background-color:rgba(135,206,250,0.005952196091455219);\">-</span> <span style=\"background-color:rgba(135,206,250,0.0016507383186008264);\">of</span> <span style=\"background-color:rgba(135,206,250,0.00494305619060478);\">-</span> <span style=\"background-color:rgba(135,206,250,0.006017465841540958);\">trust</span> <span style=\"background-color:rgba(135,206,250,0.009620710635875438);\">based</span> <span style=\"background-color:rgba(135,206,250,0.030066881207342706);\">key\\distribution.\\\\What</span> <span style=\"background-color:rgba(135,206,250,0.0007088790878735007);\">if</span> <span style=\"background-color:rgba(135,206,250,0.000517654351839456);\">we</span> <span style=\"background-color:rgba(135,206,250,0.004289735225587732);\">used</span> <span style=\"background-color:rgba(135,206,250,0.020375122725175433);\">FOAF</span> <span style=\"background-color:rgba(135,206,250,0.0008050175319709678);\">and</span> <span style=\"background-color:rgba(135,206,250,0.0022912596591578927);\">included</span> <span style=\"background-color:rgba(135,206,250,0.0002439645256984658);\">the</span> <span style=\"background-color:rgba(135,206,250,0.014627661977944786);\">PGP</span> <span style=\"background-color:rgba(135,206,250,0.0037565637440555117);\">key</span> <span style=\"background-color:rgba(135,206,250,0.024403217291318346);\">fingerprint(s</span> <span style=\"background-color:rgba(135,206,250,0.003620104943421806);\">)</span> <span style=\"background-color:rgba(135,206,250,0.002749225889215009);\">for</span> <span style=\"background-color:rgba(135,206,250,0.02406671807519343);\">identities?\\This</span> <span style=\"background-color:rgba(135,206,250,0.005079071077538704);\">could</span> <span style=\"background-color:rgba(135,206,250,0.003534898325313263);\">mean</span> <span style=\"background-color:rgba(135,206,250,0.0022158128265992185);\">a</span> <span style=\"background-color:rgba(135,206,250,0.00749248911012566);\">lot</span> <span style=\"background-color:rgba(135,206,250,9.663026235618697e-05);\">.</span> <span style=\"background-color:rgba(135,206,250,0.026040937637663773);\">You</span> <span style=\"background-color:rgba(135,206,250,0.005583665614647499);\">include</span> <span style=\"background-color:rgba(135,206,250,0.0004923663838675103);\">the</span> <span style=\"background-color:rgba(135,206,250,0.016643771835645714);\">PGP</span> <span style=\"background-color:rgba(135,206,250,0.005567181258356838);\">key</span> <span style=\"background-color:rgba(135,206,250,0.010446227710017636);\">fingerprints</span> <span style=\"background-color:rgba(135,206,250,0.008694248308213852);\">within</span> <span style=\"background-color:rgba(135,206,250,0.0009598606305077636);\">the</span> <span style=\"background-color:rgba(135,206,250,0.021923361979524686);\">FOAF\\file</span> <span style=\"background-color:rgba(135,206,250,0.0005818069867838504);\">of</span> <span style=\"background-color:rgba(135,206,250,0.004884555673308898);\">your</span> <span style=\"background-color:rgba(135,206,250,0.00489523396322132);\">direct</span> <span style=\"background-color:rgba(135,206,250,0.0015062896352858169);\">friends</span> <span style=\"background-color:rgba(135,206,250,0.001253815635845353);\">and</span> <span style=\"background-color:rgba(135,206,250,0.001099180170723521);\">then</span> <span style=\"background-color:rgba(135,206,250,0.004617475717646334);\">include</span> <span style=\"background-color:rgba(135,206,250,0.0031145600971579407);\">a</span> <span style=\"background-color:rgba(135,206,250,0.010382802186765946);\">bloom</span> <span style=\"background-color:rgba(135,206,250,0.00048772130519901557);\">filter</span> <span style=\"background-color:rgba(135,206,250,0.00044653872299335877);\">of</span> <span style=\"background-color:rgba(135,206,250,0.0005589552997534259);\">the</span> <span style=\"background-color:rgba(135,206,250,0.0034669459199269653);\">PGP</span> <span style=\"background-color:rgba(135,206,250,0.012157662091644436);\">key\\fingerprints</span> <span style=\"background-color:rgba(135,206,250,0.00550824900792001);\">of</span> <span style=\"background-color:rgba(135,206,250,0.010750031599437316);\">your</span> <span style=\"background-color:rgba(135,206,250,0.002213209796062899);\">entire</span> <span style=\"background-color:rgba(135,206,250,0.1268511186844665);\">whitelist</span> <span style=\"background-color:rgba(135,206,250,0.004027608246053115);\">(</span> <span style=\"background-color:rgba(135,206,250,0.00214123690399728);\">the</span> <span style=\"background-color:rgba(135,206,250,0.05074994650515103);\">source</span> <span style=\"background-color:rgba(135,206,250,0.054324938718832545);\">FOAF</span> <span style=\"background-color:rgba(135,206,250,0.01924668146864056);\">file</span> <span style=\"background-color:rgba(135,206,250,0.00043453196268720425);\">would</span> <span style=\"background-color:rgba(135,206,250,0.0017157293820117287);\">of</span> <span style=\"background-color:rgba(135,206,250,0.003924756509510072);\">course</span> <span style=\"background-color:rgba(135,206,250,0.0024052182608316442);\">need\\to</span> <span style=\"background-color:rgba(135,206,250,0.008156050767200673);\">be</span> <span style=\"background-color:rgba(135,206,250,0.058590436887996755);\">encrypted</span> <span style=\"background-color:rgba(135,206,250,0.004971213582446095);\">)</span> <span style=\"background-color:rgba(135,206,250,0.26638846804426525);\">.\\\\Your</span> <span style=\"background-color:rgba(135,206,250,0.3730328516579523);\">whitelist</span> <span style=\"background-color:rgba(135,206,250,0.01227140866136809);\">would</span> <span style=\"background-color:rgba(135,206,250,0.010802132812026492);\">be</span> <span style=\"background-color:rgba(135,206,250,0.00979242583849249);\">populated</span> <span style=\"background-color:rgba(135,206,250,0.002936218670534395);\">from</span> <span style=\"background-color:rgba(135,206,250,0.00010391375721224783);\">the</span> <span style=\"background-color:rgba(135,206,250,0.0038318305750225067);\">social</span> <span style=\"background-color:rgba(135,206,250,0.004952968007574186);\">network</span> <span style=\"background-color:rgba(135,206,250,0.003473807183605801);\">as</span> <span style=\"background-color:rgba(135,206,250,0.008011422420642839);\">your</span> <span style=\"background-color:rgba(135,206,250,0.008361590930572);\">client\\discovered</span> <span style=\"background-color:rgba(135,206,250,0.006758614951607026);\">new</span> <span style=\"background-color:rgba(135,206,250,0.01713075599146928);\">identit</span> <span style=\"background-color:rgba(135,206,250,0.054684487161328635);\">...</span> <span style=\"background-color:rgba(135,206,250,0.08936256342927666);\">\\\\</span>"
            ],
            "text/plain": [
              "<IPython.core.display.HTML object>"
            ]
          },
          "metadata": {
            "tags": []
          }
        },
        {
          "output_type": "stream",
          "text": [
            "None\n"
          ],
          "name": "stdout"
        },
        {
          "output_type": "display_data",
          "data": {
            "text/html": [
              "<span style=\"background-color:rgba(135,206,250,0.6915811758448568);\">Wiltshire</span> <span style=\"background-color:rgba(135,206,250,0.18446375715622182);\">Police</span> <span style=\"background-color:rgba(135,206,250,0.09369159507567261);\">warns</span> <span style=\"background-color:rgba(135,206,250,0.056432315445568676);\">about</span> <span style=\"background-color:rgba(135,206,250,0.02077018279386988);\">&quot;</span> <span style=\"background-color:rgba(135,206,250,0.30461732135230735);\">phishing</span> <span style=\"background-color:rgba(135,206,250,0.015214831925059333);\">&quot;</span> <span style=\"background-color:rgba(135,206,250,0.04609809142853796);\">after</span> <span style=\"background-color:rgba(135,206,250,0.04254377504283549);\">its</span> <span style=\"background-color:rgba(135,206,250,0.25669994843426636);\">fraud</span> <span style=\"background-color:rgba(135,206,250,0.24073205213203588);\">squad</span> <span style=\"background-color:rgba(135,206,250,0.12462617157657126);\">chief</span> <span style=\"background-color:rgba(135,206,250,0.26999542769482254);\">was</span> <span style=\"background-color:rgba(135,206,250,0.12840155121076882);\">targeted</span> <span style=\"background-color:rgba(135,206,250,0.02413200619191661);\">.</span>"
            ],
            "text/plain": [
              "<IPython.core.display.HTML object>"
            ]
          },
          "metadata": {
            "tags": []
          }
        },
        {
          "output_type": "stream",
          "text": [
            "None\n"
          ],
          "name": "stdout"
        },
        {
          "output_type": "display_data",
          "data": {
            "text/html": [
              "<span style=\"background-color:rgba(135,206,250,0.04055919089588011);\">In</span> <span style=\"background-color:rgba(135,206,250,0.07795759025170197);\">its</span> <span style=\"background-color:rgba(135,206,250,0.005913299992945768);\">first</span> <span style=\"background-color:rgba(135,206,250,0.0226525764077723);\">two</span> <span style=\"background-color:rgba(135,206,250,0.010241674051057522);\">years</span> <span style=\"background-color:rgba(135,206,250,0.009346785549467352);\">,</span> <span style=\"background-color:rgba(135,206,250,0.0009525571305083554);\">the</span> <span style=\"background-color:rgba(135,206,250,0.13618697627104373);\">UK</span> <span style=\"background-color:rgba(135,206,250,0.08797296241199785);\">&#x27;s</span> <span style=\"background-color:rgba(135,206,250,0.4677159795658088);\">dedicated</span> <span style=\"background-color:rgba(135,206,250,0.5061923740179644);\">card</span> <span style=\"background-color:rgba(135,206,250,0.29111551418156567);\">fraud</span> <span style=\"background-color:rgba(135,206,250,0.002963730958349069);\">unit</span> <span style=\"background-color:rgba(135,206,250,0.020970402723486062);\">,</span> <span style=\"background-color:rgba(135,206,250,0.0196536009577176);\">has</span> <span style=\"background-color:rgba(135,206,250,0.03785546028617912);\">recovered</span> <span style=\"background-color:rgba(135,206,250,0.04971786032007682);\">36,000</span> <span style=\"background-color:rgba(135,206,250,0.07958422100436492);\">stolen</span> <span style=\"background-color:rgba(135,206,250,0.19704364200391866);\">cards</span> <span style=\"background-color:rgba(135,206,250,0.0019320948527519549);\">and</span> <span style=\"background-color:rgba(135,206,250,0.09214573626145713);\">171</span> <span style=\"background-color:rgba(135,206,250,0.07245357017266044);\">arrests</span> <span style=\"background-color:rgba(135,206,250,0.01012784929524934);\">-</span> <span style=\"background-color:rgba(135,206,250,0.014677203808415518);\">and</span> <span style=\"background-color:rgba(135,206,250,0.01590215148275805);\">estimates</span> <span style=\"background-color:rgba(135,206,250,0.005168922407469284);\">it</span> <span style=\"background-color:rgba(135,206,250,0.12614498185282644);\">saved</span> <span style=\"background-color:rgba(135,206,250,0.02194282624968193);\">65</span> <span style=\"background-color:rgba(135,206,250,0.05671398716186723);\">m</span> <span style=\"background-color:rgba(135,206,250,0.018194311699292892);\">.</span>"
            ],
            "text/plain": [
              "<IPython.core.display.HTML object>"
            ]
          },
          "metadata": {
            "tags": []
          }
        },
        {
          "output_type": "stream",
          "text": [
            "None\n"
          ],
          "name": "stdout"
        }
      ]
    },
    {
      "cell_type": "code",
      "metadata": {
        "id": "Vyd0aXp4i_Ie"
      },
      "source": [
        "pdata = list(nlp.pipe(sample))"
      ],
      "execution_count": null,
      "outputs": []
    },
    {
      "cell_type": "code",
      "metadata": {
        "colab": {
          "base_uri": "https://localhost:8080/",
          "height": 1000
        },
        "id": "1MPQ6HELoubj",
        "outputId": "9cd94bf0-6e68-45c1-dfd9-8c60c1d79f99"
      },
      "source": [
        "for i in range(100):\n",
        "  sentence = sample[i]\n",
        "  if Perturb.contractions(sample[i]) != []:\n",
        "\n",
        "    tokens = [str(x) for x in tokenizer.tokenize(sentence)]\n",
        "\n",
        "    grad_orig = SimpleGradient(predictor).saliency_interpret_from_json({'Description':sentence})\n",
        "    gradient_list_orig = np.array(grad_orig['instance_1']['grad_input_1'])\n",
        "\n",
        "    visualise_weights(tokens, gradient_list_orig)\n",
        "\n",
        "    perturbed_sentence = Perturb.contractions(sentence)[0]\n",
        "\n",
        "    tokens = [str(x) for x in tokenizer.tokenize(perturbed_sentence)]\n",
        "\n",
        "    grad_pert = SimpleGradient(predictor).saliency_interpret_from_json({'Description': perturbed_sentence})\n",
        "    gradient_list_pert = np.array(grad_pert['instance_1']['grad_input_1'])\n",
        "\n",
        "    visualise_weights(tokens, gradient_list_pert)"
      ],
      "execution_count": null,
      "outputs": [
        {
          "output_type": "display_data",
          "data": {
            "text/html": [
              "<span style=\"background-color:rgba(135,206,250,0.17663864511266947);\">Unions</span> <span style=\"background-color:rgba(135,206,250,0.005106361665331027);\">representing</span> <span style=\"background-color:rgba(135,206,250,0.28069952232158063);\">workers</span> <span style=\"background-color:rgba(135,206,250,0.1255252336722192);\">at</span> <span style=\"background-color:rgba(135,206,250,0.21222591312691957);\">Turner</span> <span style=\"background-color:rgba(135,206,250,0.39263627187303735);\">Newall</span> <span style=\"background-color:rgba(135,206,250,0.0127987566008682);\">say</span> <span style=\"background-color:rgba(135,206,250,0.011815520268815632);\">they</span> <span style=\"background-color:rgba(135,206,250,0.0258528559077581);\">are</span> <span style=\"background-color:rgba(135,206,250,0.10613540115180552);\">&#x27;</span> <span style=\"background-color:rgba(135,206,250,0.006886830722452546);\">disappointed</span> <span style=\"background-color:rgba(135,206,250,0.03207627621179412);\">&#x27;</span> <span style=\"background-color:rgba(135,206,250,0.08626305733341107);\">after</span> <span style=\"background-color:rgba(135,206,250,0.20752054249945118);\">talks</span> <span style=\"background-color:rgba(135,206,250,0.05260935745912804);\">with</span> <span style=\"background-color:rgba(135,206,250,0.006183001104432847);\">stricken</span> <span style=\"background-color:rgba(135,206,250,0.008669477946375547);\">parent</span> <span style=\"background-color:rgba(135,206,250,0.07372689294589733);\">firm</span> <span style=\"background-color:rgba(135,206,250,0.03373733674431476);\">Federal</span> <span style=\"background-color:rgba(135,206,250,0.5382061518279387);\">Mogul</span> <span style=\"background-color:rgba(135,206,250,0.10468659823894418);\">.</span>"
            ],
            "text/plain": [
              "<IPython.core.display.HTML object>"
            ]
          },
          "metadata": {
            "tags": []
          }
        },
        {
          "output_type": "stream",
          "text": [
            "None\n"
          ],
          "name": "stdout"
        },
        {
          "output_type": "display_data",
          "data": {
            "text/html": [
              "<span style=\"background-color:rgba(135,206,250,0.15071278901187968);\">Unions</span> <span style=\"background-color:rgba(135,206,250,0.017807875353869847);\">representing</span> <span style=\"background-color:rgba(135,206,250,0.2553705781894655);\">workers</span> <span style=\"background-color:rgba(135,206,250,0.09268755238276725);\">at</span> <span style=\"background-color:rgba(135,206,250,0.20446270016285717);\">Turner</span> <span style=\"background-color:rgba(135,206,250,0.46992152614494226);\">Newall</span> <span style=\"background-color:rgba(135,206,250,0.01570550693509319);\">say</span> <span style=\"background-color:rgba(135,206,250,0.030333015402822936);\">they</span> <span style=\"background-color:rgba(135,206,250,0.008370800957040243);\">&#x27;re</span> <span style=\"background-color:rgba(135,206,250,0.1296975650135007);\">&#x27;</span> <span style=\"background-color:rgba(135,206,250,0.06103252734551244);\">disappointed</span> <span style=\"background-color:rgba(135,206,250,0.021801175592486708);\">&#x27;</span> <span style=\"background-color:rgba(135,206,250,0.0867486470601403);\">after</span> <span style=\"background-color:rgba(135,206,250,0.19592926484029413);\">talks</span> <span style=\"background-color:rgba(135,206,250,0.06666701915563121);\">with</span> <span style=\"background-color:rgba(135,206,250,0.0037089583834812477);\">stricken</span> <span style=\"background-color:rgba(135,206,250,0.03932823795545208);\">parent</span> <span style=\"background-color:rgba(135,206,250,0.08877841683360833);\">firm</span> <span style=\"background-color:rgba(135,206,250,0.025072038115176824);\">Federal</span> <span style=\"background-color:rgba(135,206,250,0.4203607146760997);\">Mogul</span> <span style=\"background-color:rgba(135,206,250,0.11550325231029261);\">.</span>"
            ],
            "text/plain": [
              "<IPython.core.display.HTML object>"
            ]
          },
          "metadata": {
            "tags": []
          }
        },
        {
          "output_type": "stream",
          "text": [
            "None\n"
          ],
          "name": "stdout"
        },
        {
          "output_type": "display_data",
          "data": {
            "text/html": [
              "<span style=\"background-color:rgba(135,206,250,0.08765118658254974);\">AP</span> <span style=\"background-color:rgba(135,206,250,0.01882906216363848);\">-</span> <span style=\"background-color:rgba(135,206,250,0.04701459214558477);\">It</span> <span style=\"background-color:rgba(135,206,250,0.04780630864871443);\">&#x27;s</span> <span style=\"background-color:rgba(135,206,250,0.020291838739859014);\">barely</span> <span style=\"background-color:rgba(135,206,250,0.25365838139699015);\">dawn</span> <span style=\"background-color:rgba(135,206,250,0.00911937846197057);\">when</span> <span style=\"background-color:rgba(135,206,250,0.016902788794587356);\">Mike</span> <span style=\"background-color:rgba(135,206,250,0.27706057651041854);\">Fitzpatrick</span> <span style=\"background-color:rgba(135,206,250,0.1114817350926789);\">starts</span> <span style=\"background-color:rgba(135,206,250,0.06136877579694456);\">his</span> <span style=\"background-color:rgba(135,206,250,0.1131248714997485);\">shift</span> <span style=\"background-color:rgba(135,206,250,0.0010116360851576318);\">with</span> <span style=\"background-color:rgba(135,206,250,0.00242730902960309);\">a</span> <span style=\"background-color:rgba(135,206,250,0.06583679817484425);\">blur</span> <span style=\"background-color:rgba(135,206,250,0.03499688440720273);\">of</span> <span style=\"background-color:rgba(135,206,250,0.012801938486660457);\">colorful</span> <span style=\"background-color:rgba(135,206,250,0.07611964437713044);\">maps</span> <span style=\"background-color:rgba(135,206,250,0.010628010393309508);\">,</span> <span style=\"background-color:rgba(135,206,250,0.06640727277279765);\">figures</span> <span style=\"background-color:rgba(135,206,250,0.01863659896061983);\">and</span> <span style=\"background-color:rgba(135,206,250,0.04670610214550356);\">endless</span> <span style=\"background-color:rgba(135,206,250,0.09156381160998772);\">charts</span> <span style=\"background-color:rgba(135,206,250,0.005940922746656194);\">,</span> <span style=\"background-color:rgba(135,206,250,0.001993626989029708);\">but</span> <span style=\"background-color:rgba(135,206,250,0.05052024203479925);\">already</span> <span style=\"background-color:rgba(135,206,250,0.003693089946461766);\">he</span> <span style=\"background-color:rgba(135,206,250,0.04461087901431402);\">knows</span> <span style=\"background-color:rgba(135,206,250,0.003981886884081607);\">what</span> <span style=\"background-color:rgba(135,206,250,0.0040168266148105985);\">the</span> <span style=\"background-color:rgba(135,206,250,0.06469106194084319);\">day</span> <span style=\"background-color:rgba(135,206,250,0.03475590077615075);\">will</span> <span style=\"background-color:rgba(135,206,250,0.053232142371572956);\">bring</span> <span style=\"background-color:rgba(135,206,250,0.011658125959483923);\">.</span> <span style=\"background-color:rgba(135,206,250,0.028834156821799205);\">Lightning</span> <span style=\"background-color:rgba(135,206,250,0.03799223651619407);\">will</span> <span style=\"background-color:rgba(135,206,250,0.02578401090980208);\">strike</span> <span style=\"background-color:rgba(135,206,250,0.00043599715745293457);\">in</span> <span style=\"background-color:rgba(135,206,250,0.08362444164295268);\">places</span> <span style=\"background-color:rgba(135,206,250,0.019623887117458366);\">he</span> <span style=\"background-color:rgba(135,206,250,0.00941097564865635);\">expects</span> <span style=\"background-color:rgba(135,206,250,0.013190349433479227);\">.</span> <span style=\"background-color:rgba(135,206,250,0.07011196443771305);\">Winds</span> <span style=\"background-color:rgba(135,206,250,0.0067681401117372355);\">will</span> <span style=\"background-color:rgba(135,206,250,0.08336774874080519);\">pick</span> <span style=\"background-color:rgba(135,206,250,0.007617927087773038);\">up</span> <span style=\"background-color:rgba(135,206,250,0.01198114048679494);\">,</span> <span style=\"background-color:rgba(135,206,250,0.05755341992307272);\">moist</span> <span style=\"background-color:rgba(135,206,250,0.09674878906776765);\">places</span> <span style=\"background-color:rgba(135,206,250,0.00896761409449664);\">will</span> <span style=\"background-color:rgba(135,206,250,0.05408936824139431);\">dry</span> <span style=\"background-color:rgba(135,206,250,0.011053822478371353);\">and</span> <span style=\"background-color:rgba(135,206,250,0.042391000642147514);\">flames</span> <span style=\"background-color:rgba(135,206,250,0.02251052756189667);\">will</span> <span style=\"background-color:rgba(135,206,250,0.031248189000046264);\">roar</span> <span style=\"background-color:rgba(135,206,250,0.006154040264765579);\">.</span>"
            ],
            "text/plain": [
              "<IPython.core.display.HTML object>"
            ]
          },
          "metadata": {
            "tags": []
          }
        },
        {
          "output_type": "stream",
          "text": [
            "None\n"
          ],
          "name": "stdout"
        },
        {
          "output_type": "display_data",
          "data": {
            "text/html": [
              "<span style=\"background-color:rgba(135,206,250,0.0743132511420831);\">AP</span> <span style=\"background-color:rgba(135,206,250,0.018902214276547955);\">-</span> <span style=\"background-color:rgba(135,206,250,0.08576494383945778);\">It</span> <span style=\"background-color:rgba(135,206,250,0.0717503977822672);\">is</span> <span style=\"background-color:rgba(135,206,250,0.0124227877028508);\">barely</span> <span style=\"background-color:rgba(135,206,250,0.23707897836649638);\">dawn</span> <span style=\"background-color:rgba(135,206,250,0.002097988052037242);\">when</span> <span style=\"background-color:rgba(135,206,250,0.031812292369453855);\">Mike</span> <span style=\"background-color:rgba(135,206,250,0.26463512361907726);\">Fitzpatrick</span> <span style=\"background-color:rgba(135,206,250,0.10916675157043594);\">starts</span> <span style=\"background-color:rgba(135,206,250,0.05941426850005063);\">his</span> <span style=\"background-color:rgba(135,206,250,0.11196361334295282);\">shift</span> <span style=\"background-color:rgba(135,206,250,0.0005247716297463262);\">with</span> <span style=\"background-color:rgba(135,206,250,0.002635146364299701);\">a</span> <span style=\"background-color:rgba(135,206,250,0.07014935760279199);\">blur</span> <span style=\"background-color:rgba(135,206,250,0.03512874631511271);\">of</span> <span style=\"background-color:rgba(135,206,250,0.014680388737409598);\">colorful</span> <span style=\"background-color:rgba(135,206,250,0.07151813768643878);\">maps</span> <span style=\"background-color:rgba(135,206,250,0.008874195147667924);\">,</span> <span style=\"background-color:rgba(135,206,250,0.07085538442330197);\">figures</span> <span style=\"background-color:rgba(135,206,250,0.016676138598638847);\">and</span> <span style=\"background-color:rgba(135,206,250,0.04428960909823927);\">endless</span> <span style=\"background-color:rgba(135,206,250,0.08202832917061618);\">charts</span> <span style=\"background-color:rgba(135,206,250,0.005827195789128643);\">,</span> <span style=\"background-color:rgba(135,206,250,0.001220173997848697);\">but</span> <span style=\"background-color:rgba(135,206,250,0.05002735974737086);\">already</span> <span style=\"background-color:rgba(135,206,250,0.002672191712488061);\">he</span> <span style=\"background-color:rgba(135,206,250,0.043367874181857204);\">knows</span> <span style=\"background-color:rgba(135,206,250,0.004613938535972221);\">what</span> <span style=\"background-color:rgba(135,206,250,0.003970012595895506);\">the</span> <span style=\"background-color:rgba(135,206,250,0.06576057187449244);\">day</span> <span style=\"background-color:rgba(135,206,250,0.03678874060825894);\">will</span> <span style=\"background-color:rgba(135,206,250,0.04461237173999931);\">bring</span> <span style=\"background-color:rgba(135,206,250,0.013609229738757935);\">.</span> <span style=\"background-color:rgba(135,206,250,0.0465279895063111);\">Lightning</span> <span style=\"background-color:rgba(135,206,250,0.03545991119401642);\">will</span> <span style=\"background-color:rgba(135,206,250,0.019635532757802762);\">strike</span> <span style=\"background-color:rgba(135,206,250,0.00033898734132362937);\">in</span> <span style=\"background-color:rgba(135,206,250,0.08516262695864482);\">places</span> <span style=\"background-color:rgba(135,206,250,0.01860040293209202);\">he</span> <span style=\"background-color:rgba(135,206,250,0.00048247844648897665);\">expects</span> <span style=\"background-color:rgba(135,206,250,0.013438464788576758);\">.</span> <span style=\"background-color:rgba(135,206,250,0.06499785506495694);\">Winds</span> <span style=\"background-color:rgba(135,206,250,0.0064983166759927605);\">will</span> <span style=\"background-color:rgba(135,206,250,0.08403241611432304);\">pick</span> <span style=\"background-color:rgba(135,206,250,0.006255416687458244);\">up</span> <span style=\"background-color:rgba(135,206,250,0.012468853409142323);\">,</span> <span style=\"background-color:rgba(135,206,250,0.053522473216914855);\">moist</span> <span style=\"background-color:rgba(135,206,250,0.09807206300661227);\">places</span> <span style=\"background-color:rgba(135,206,250,0.008410745257139926);\">will</span> <span style=\"background-color:rgba(135,206,250,0.05685133369690216);\">dry</span> <span style=\"background-color:rgba(135,206,250,0.009489261303500581);\">and</span> <span style=\"background-color:rgba(135,206,250,0.04492121571622283);\">flames</span> <span style=\"background-color:rgba(135,206,250,0.023660181274006886);\">will</span> <span style=\"background-color:rgba(135,206,250,0.041649056084372055);\">roar</span> <span style=\"background-color:rgba(135,206,250,0.00037199225184837703);\">.</span>"
            ],
            "text/plain": [
              "<IPython.core.display.HTML object>"
            ]
          },
          "metadata": {
            "tags": []
          }
        },
        {
          "output_type": "stream",
          "text": [
            "None\n"
          ],
          "name": "stdout"
        },
        {
          "output_type": "display_data",
          "data": {
            "text/html": [
              "<span style=\"background-color:rgba(135,206,250,0.027287997716162977);\">The</span> <span style=\"background-color:rgba(135,206,250,0.11708997580155217);\">British</span> <span style=\"background-color:rgba(135,206,250,0.020387271884378503);\">Department</span> <span style=\"background-color:rgba(135,206,250,0.0050423282993265865);\">for</span> <span style=\"background-color:rgba(135,206,250,0.013103634684237619);\">Education</span> <span style=\"background-color:rgba(135,206,250,0.003637708452242503);\">and</span> <span style=\"background-color:rgba(135,206,250,0.22946905339860504);\">Skills</span> <span style=\"background-color:rgba(135,206,250,0.05314727378632448);\">(</span> <span style=\"background-color:rgba(135,206,250,0.08878869230040486);\">DfES</span> <span style=\"background-color:rgba(135,206,250,0.020682294376571726);\">)</span> <span style=\"background-color:rgba(135,206,250,0.013309995080907496);\">recently</span> <span style=\"background-color:rgba(135,206,250,0.009181744650694346);\">launched</span> <span style=\"background-color:rgba(135,206,250,3.0886356056909924e-05);\">a</span> <span style=\"background-color:rgba(135,206,250,1.1047672271996866e-05);\">&quot;</span> <span style=\"background-color:rgba(135,206,250,0.011189978953940527);\">Music</span> <span style=\"background-color:rgba(135,206,250,0.022664174102188083);\">Manifesto</span> <span style=\"background-color:rgba(135,206,250,0.02994950557965228);\">&quot;</span> <span style=\"background-color:rgba(135,206,250,0.06796012922599509);\">campaign</span> <span style=\"background-color:rgba(135,206,250,0.0049064156369628175);\">,</span> <span style=\"background-color:rgba(135,206,250,0.005014468349255072);\">with</span> <span style=\"background-color:rgba(135,206,250,0.002891555582993148);\">the</span> <span style=\"background-color:rgba(135,206,250,0.0014390662415838438);\">ostensible</span> <span style=\"background-color:rgba(135,206,250,0.004657154765679775);\">intention</span> <span style=\"background-color:rgba(135,206,250,0.0021526905115446197);\">of</span> <span style=\"background-color:rgba(135,206,250,0.022989850811381805);\">educating</span> <span style=\"background-color:rgba(135,206,250,0.001582490512966874);\">the</span> <span style=\"background-color:rgba(135,206,250,0.0009313246794735183);\">next</span> <span style=\"background-color:rgba(135,206,250,0.029944150536921267);\">generation</span> <span style=\"background-color:rgba(135,206,250,0.004813265877178865);\">of</span> <span style=\"background-color:rgba(135,206,250,0.02184510365530467);\">British</span> <span style=\"background-color:rgba(135,206,250,0.029959812042261644);\">musicians</span> <span style=\"background-color:rgba(135,206,250,0.00854350428172884);\">.</span> <span style=\"background-color:rgba(135,206,250,0.002088447598606227);\">Unfortunately</span> <span style=\"background-color:rgba(135,206,250,0.002175366430602491);\">,</span> <span style=\"background-color:rgba(135,206,250,0.0007892968082285775);\">they</span> <span style=\"background-color:rgba(135,206,250,0.0040296285888041464);\">also</span> <span style=\"background-color:rgba(135,206,250,0.03887048816107716);\">teamed</span> <span style=\"background-color:rgba(135,206,250,0.008321001317597703);\">up</span> <span style=\"background-color:rgba(135,206,250,0.0008923395811954463);\">with</span> <span style=\"background-color:rgba(135,206,250,0.004068074252179593);\">the</span> <span style=\"background-color:rgba(135,206,250,0.05540128214046898);\">music</span> <span style=\"background-color:rgba(135,206,250,0.0576084420839729);\">industry</span> <span style=\"background-color:rgba(135,206,250,0.012213520748677664);\">(</span> <span style=\"background-color:rgba(135,206,250,0.01840962315878143);\">EMI</span> <span style=\"background-color:rgba(135,206,250,0.00279961346513095);\">,</span> <span style=\"background-color:rgba(135,206,250,0.0011061390609032491);\">and</span> <span style=\"background-color:rgba(135,206,250,0.001085445983108575);\">various</span> <span style=\"background-color:rgba(135,206,250,0.038604031372286456);\">artists</span> <span style=\"background-color:rgba(135,206,250,0.016268838054736997);\">)</span> <span style=\"background-color:rgba(135,206,250,0.0006041369512247951);\">to</span> <span style=\"background-color:rgba(135,206,250,0.004529890074930574);\">make</span> <span style=\"background-color:rgba(135,206,250,0.00225477864019904);\">this</span> <span style=\"background-color:rgba(135,206,250,0.004724959298296076);\">popular</span> <span style=\"background-color:rgba(135,206,250,0.0027344758939799384);\">.</span> <span style=\"background-color:rgba(135,206,250,0.011163030088593075);\">EMI</span> <span style=\"background-color:rgba(135,206,250,0.054763271742663704);\">has</span> <span style=\"background-color:rgba(135,206,250,0.042524051716830644);\">apparently</span> <span style=\"background-color:rgba(135,206,250,0.04034429588770565);\">negotiated</span> <span style=\"background-color:rgba(135,206,250,0.012856685551109871);\">their</span> <span style=\"background-color:rgba(135,206,250,0.004086555544207808);\">end</span> <span style=\"background-color:rgba(135,206,250,0.014823559658521399);\">well</span> <span style=\"background-color:rgba(135,206,250,0.002586935608157738);\">,</span> <span style=\"background-color:rgba(135,206,250,0.01649319369469466);\">so</span> <span style=\"background-color:rgba(135,206,250,0.0011864902949598462);\">that</span> <span style=\"background-color:rgba(135,206,250,0.0003712192121744487);\">children</span> <span style=\"background-color:rgba(135,206,250,0.0007512666475935156);\">in</span> <span style=\"background-color:rgba(135,206,250,0.002450714655373817);\">our</span> <span style=\"background-color:rgba(135,206,250,0.00181520284729152);\">schools</span> <span style=\"background-color:rgba(135,206,250,0.0002774901611978248);\">will</span> <span style=\"background-color:rgba(135,206,250,0.0035902534340007024);\">now</span> <span style=\"background-color:rgba(135,206,250,0.00349257142371079);\">be</span> <span style=\"background-color:rgba(135,206,250,0.015922787778062726);\">indoctrinated</span> <span style=\"background-color:rgba(135,206,250,0.013363913931402828);\">about</span> <span style=\"background-color:rgba(135,206,250,0.0027336000089232563);\">the</span> <span style=\"background-color:rgba(135,206,250,0.007470643646362041);\">illegality</span> <span style=\"background-color:rgba(135,206,250,0.007984488977461639);\">of</span> <span style=\"background-color:rgba(135,206,250,0.24948844651924362);\">downloading</span> <span style=\"background-color:rgba(135,206,250,0.07501955393149233);\">music</span> <span style=\"background-color:rgba(135,206,250,0.031963707986503026);\">.</span> <span style=\"background-color:rgba(135,206,250,0.0060382084354517924);\">The</span> <span style=\"background-color:rgba(135,206,250,0.012304062506439192);\">ignorance</span> <span style=\"background-color:rgba(135,206,250,0.0038112451590789176);\">and</span> <span style=\"background-color:rgba(135,206,250,0.009790700069720496);\">audacity</span> <span style=\"background-color:rgba(135,206,250,0.0019165359430806021);\">of</span> <span style=\"background-color:rgba(135,206,250,0.0008705753335227619);\">this</span> <span style=\"background-color:rgba(135,206,250,0.011640694268252118);\">got</span> <span style=\"background-color:rgba(135,206,250,0.00010345789071089188);\">to</span> <span style=\"background-color:rgba(135,206,250,0.00658181860528938);\">me</span> <span style=\"background-color:rgba(135,206,250,0.00010362510746411517);\">a</span> <span style=\"background-color:rgba(135,206,250,0.001556638410588925);\">little</span> <span style=\"background-color:rgba(135,206,250,0.0004518075673237098);\">,</span> <span style=\"background-color:rgba(135,206,250,0.0015538344637514088);\">so</span> <span style=\"background-color:rgba(135,206,250,0.00745016037325149);\">I</span> <span style=\"background-color:rgba(135,206,250,0.013163795609081978);\">wrote</span> <span style=\"background-color:rgba(135,206,250,0.005408533318882509);\">an</span> <span style=\"background-color:rgba(135,206,250,0.023113779453654906);\">open</span> <span style=\"background-color:rgba(135,206,250,0.011091981906627548);\">letter</span> <span style=\"background-color:rgba(135,206,250,0.0001039263029513102);\">to</span> <span style=\"background-color:rgba(135,206,250,0.0010055253583162811);\">the</span> <span style=\"background-color:rgba(135,206,250,0.03397020870613066);\">DfES</span> <span style=\"background-color:rgba(135,206,250,0.0050154369267691925);\">about</span> <span style=\"background-color:rgba(135,206,250,0.004864465553368958);\">it</span> <span style=\"background-color:rgba(135,206,250,0.007599350056821086);\">.</span> <span style=\"background-color:rgba(135,206,250,0.001452423342032964);\">Unfortunately</span> <span style=\"background-color:rgba(135,206,250,0.0081110405816158);\">,</span> <span style=\"background-color:rgba(135,206,250,0.0021688987850516594);\">it</span> <span style=\"background-color:rgba(135,206,250,0.004211217512884692);\">&#x27;s</span> <span style=\"background-color:rgba(135,206,250,0.1463037285470136);\">pedantic</span> <span style=\"background-color:rgba(135,206,250,0.011547355310255986);\">,</span> <span style=\"background-color:rgba(135,206,250,0.003769289502204389);\">as</span> <span style=\"background-color:rgba(135,206,250,0.011119122023501106);\">I</span> <span style=\"background-color:rgba(135,206,250,0.0016467284392857214);\">suppose</span> <span style=\"background-color:rgba(135,206,250,0.0007860637187795657);\">you</span> <span style=\"background-color:rgba(135,206,250,0.004773441266833738);\">have</span> <span style=\"background-color:rgba(135,206,250,0.0005761311058652467);\">to</span> <span style=\"background-color:rgba(135,206,250,0.003478496836708206);\">be</span> <span style=\"background-color:rgba(135,206,250,0.004424466777791735);\">when</span> <span style=\"background-color:rgba(135,206,250,0.029738255949183078);\">writing</span> <span style=\"background-color:rgba(135,206,250,0.00040044017938507055);\">to</span> <span style=\"background-color:rgba(135,206,250,0.04689898552268281);\">goverment</span> <span style=\"background-color:rgba(135,206,250,0.0029618411054987384);\">representatives</span> <span style=\"background-color:rgba(135,206,250,0.0015967958044560894);\">.</span> <span style=\"background-color:rgba(135,206,250,0.014721044147238852);\">But</span> <span style=\"background-color:rgba(135,206,250,0.002550030516891365);\">I</span> <span style=\"background-color:rgba(135,206,250,0.011762710395264142);\">hope</span> <span style=\"background-color:rgba(135,206,250,0.003194612399266249);\">you</span> <span style=\"background-color:rgba(135,206,250,0.0015605118406537227);\">find</span> <span style=\"background-color:rgba(135,206,250,0.0008286944759414197);\">it</span> <span style=\"background-color:rgba(135,206,250,0.020694327969527294);\">useful</span> <span style=\"background-color:rgba(135,206,250,0.001112874737254664);\">,</span> <span style=\"background-color:rgba(135,206,250,0.0043689569023307485);\">and</span> <span style=\"background-color:rgba(135,206,250,0.0015728120710897062);\">perhaps</span> <span style=\"background-color:rgba(135,206,250,0.007194175485506853);\">feel</span> <span style=\"background-color:rgba(135,206,250,0.011931218242953952);\">inspired</span> <span style=\"background-color:rgba(135,206,250,0.0009902273628742608);\">to</span> <span style=\"background-color:rgba(135,206,250,0.0023389859244846646);\">do</span> <span style=\"background-color:rgba(135,206,250,0.009499835831567304);\">something</span> <span style=\"background-color:rgba(135,206,250,0.04587945297006045);\">similar</span> <span style=\"background-color:rgba(135,206,250,0.005979424990924305);\">,</span> <span style=\"background-color:rgba(135,206,250,0.0019692301384816114);\">if</span> <span style=\"background-color:rgba(135,206,250,0.020689017513041634);\">or</span> <span style=\"background-color:rgba(135,206,250,0.0025900014991866865);\">when</span> <span style=\"background-color:rgba(135,206,250,0.01446670660392768);\">the</span> <span style=\"background-color:rgba(135,206,250,0.02439694578174395);\">same</span> <span style=\"background-color:rgba(135,206,250,0.005057488796067898);\">thing</span> <span style=\"background-color:rgba(135,206,250,0.01827720670338035);\">has</span> <span style=\"background-color:rgba(135,206,250,0.008368067379514937);\">happened</span> <span style=\"background-color:rgba(135,206,250,0.0006336466657069079);\">in</span> <span style=\"background-color:rgba(135,206,250,0.0039720835859073725);\">your</span> <span style=\"background-color:rgba(135,206,250,0.02618522968340529);\">area</span> <span style=\"background-color:rgba(135,206,250,3.103390591264169e-05);\">.</span>"
            ],
            "text/plain": [
              "<IPython.core.display.HTML object>"
            ]
          },
          "metadata": {
            "tags": []
          }
        },
        {
          "output_type": "stream",
          "text": [
            "None\n"
          ],
          "name": "stdout"
        },
        {
          "output_type": "display_data",
          "data": {
            "text/html": [
              "<span style=\"background-color:rgba(135,206,250,0.02754171893005278);\">The</span> <span style=\"background-color:rgba(135,206,250,0.11680419786737008);\">British</span> <span style=\"background-color:rgba(135,206,250,0.020264749274591244);\">Department</span> <span style=\"background-color:rgba(135,206,250,0.004974357390913894);\">for</span> <span style=\"background-color:rgba(135,206,250,0.011615260595899025);\">Education</span> <span style=\"background-color:rgba(135,206,250,0.0037708264618345868);\">and</span> <span style=\"background-color:rgba(135,206,250,0.2283755540609049);\">Skills</span> <span style=\"background-color:rgba(135,206,250,0.052840279525601434);\">(</span> <span style=\"background-color:rgba(135,206,250,0.08777499845663873);\">DfES</span> <span style=\"background-color:rgba(135,206,250,0.02028683962814317);\">)</span> <span style=\"background-color:rgba(135,206,250,0.013681731166041001);\">recently</span> <span style=\"background-color:rgba(135,206,250,0.01057594509088342);\">launched</span> <span style=\"background-color:rgba(135,206,250,0.000357991895139091);\">a</span> <span style=\"background-color:rgba(135,206,250,0.001960189728072195);\">&quot;</span> <span style=\"background-color:rgba(135,206,250,0.017567902810486934);\">Music</span> <span style=\"background-color:rgba(135,206,250,0.059057457400043756);\">Manifesto</span> <span style=\"background-color:rgba(135,206,250,0.0340916501455103);\">&quot;</span> <span style=\"background-color:rgba(135,206,250,0.07025118360317928);\">campaign</span> <span style=\"background-color:rgba(135,206,250,0.006228211740233361);\">,</span> <span style=\"background-color:rgba(135,206,250,0.0038745959824771454);\">with</span> <span style=\"background-color:rgba(135,206,250,0.0019328179928857416);\">the</span> <span style=\"background-color:rgba(135,206,250,0.0016625796172084724);\">ostensible</span> <span style=\"background-color:rgba(135,206,250,0.010010728387759064);\">intention</span> <span style=\"background-color:rgba(135,206,250,0.003408262171734586);\">of</span> <span style=\"background-color:rgba(135,206,250,0.02116749255436772);\">educating</span> <span style=\"background-color:rgba(135,206,250,0.002096967813236897);\">the</span> <span style=\"background-color:rgba(135,206,250,0.000890735679570996);\">next</span> <span style=\"background-color:rgba(135,206,250,0.029043856184992785);\">generation</span> <span style=\"background-color:rgba(135,206,250,0.004769406868528089);\">of</span> <span style=\"background-color:rgba(135,206,250,0.019564332368698756);\">British</span> <span style=\"background-color:rgba(135,206,250,0.030117458678601296);\">musicians</span> <span style=\"background-color:rgba(135,206,250,0.008626402958467191);\">.</span> <span style=\"background-color:rgba(135,206,250,0.002232993435129688);\">Unfortunately</span> <span style=\"background-color:rgba(135,206,250,0.002075470862231422);\">,</span> <span style=\"background-color:rgba(135,206,250,0.000684297762667999);\">they</span> <span style=\"background-color:rgba(135,206,250,0.0038389578967353475);\">also</span> <span style=\"background-color:rgba(135,206,250,0.036467705766252516);\">teamed</span> <span style=\"background-color:rgba(135,206,250,0.008203815513007496);\">up</span> <span style=\"background-color:rgba(135,206,250,0.0005400906933004323);\">with</span> <span style=\"background-color:rgba(135,206,250,0.003979853745960766);\">the</span> <span style=\"background-color:rgba(135,206,250,0.05312714420078962);\">music</span> <span style=\"background-color:rgba(135,206,250,0.05596299814518668);\">industry</span> <span style=\"background-color:rgba(135,206,250,0.011791869183366723);\">(</span> <span style=\"background-color:rgba(135,206,250,0.01655381419514202);\">EMI</span> <span style=\"background-color:rgba(135,206,250,0.002649867702105475);\">,</span> <span style=\"background-color:rgba(135,206,250,0.001307985329858869);\">and</span> <span style=\"background-color:rgba(135,206,250,0.0003322666858889465);\">various</span> <span style=\"background-color:rgba(135,206,250,0.038000000369190545);\">artists</span> <span style=\"background-color:rgba(135,206,250,0.01623828861526094);\">)</span> <span style=\"background-color:rgba(135,206,250,0.0005721896072070823);\">to</span> <span style=\"background-color:rgba(135,206,250,0.0045412541227725645);\">make</span> <span style=\"background-color:rgba(135,206,250,0.002192536304262034);\">this</span> <span style=\"background-color:rgba(135,206,250,0.004340861927310174);\">popular</span> <span style=\"background-color:rgba(135,206,250,0.002473635487661044);\">.</span> <span style=\"background-color:rgba(135,206,250,0.010485545437192842);\">EMI</span> <span style=\"background-color:rgba(135,206,250,0.05329224838549353);\">has</span> <span style=\"background-color:rgba(135,206,250,0.04138073160362591);\">apparently</span> <span style=\"background-color:rgba(135,206,250,0.04050973147193347);\">negotiated</span> <span style=\"background-color:rgba(135,206,250,0.012666784046940537);\">their</span> <span style=\"background-color:rgba(135,206,250,0.004093818140087804);\">end</span> <span style=\"background-color:rgba(135,206,250,0.014311173903747303);\">well</span> <span style=\"background-color:rgba(135,206,250,0.0024672586371368567);\">,</span> <span style=\"background-color:rgba(135,206,250,0.015820907616160666);\">so</span> <span style=\"background-color:rgba(135,206,250,0.00114137388572049);\">that</span> <span style=\"background-color:rgba(135,206,250,1.8811864572393953e-05);\">children</span> <span style=\"background-color:rgba(135,206,250,0.0006599223073872828);\">in</span> <span style=\"background-color:rgba(135,206,250,0.002139658580851948);\">our</span> <span style=\"background-color:rgba(135,206,250,0.002319998945019912);\">schools</span> <span style=\"background-color:rgba(135,206,250,0.000324347476530213);\">will</span> <span style=\"background-color:rgba(135,206,250,0.003130402454417129);\">now</span> <span style=\"background-color:rgba(135,206,250,0.005447619745470191);\">be</span> <span style=\"background-color:rgba(135,206,250,0.015384148637692668);\">indoctrinated</span> <span style=\"background-color:rgba(135,206,250,0.013546573945015569);\">about</span> <span style=\"background-color:rgba(135,206,250,0.0025996189343657967);\">the</span> <span style=\"background-color:rgba(135,206,250,0.006999400347681941);\">illegality</span> <span style=\"background-color:rgba(135,206,250,0.007890851305661917);\">of</span> <span style=\"background-color:rgba(135,206,250,0.24983439270268679);\">downloading</span> <span style=\"background-color:rgba(135,206,250,0.07292507781668064);\">music</span> <span style=\"background-color:rgba(135,206,250,0.03214810396620102);\">.</span> <span style=\"background-color:rgba(135,206,250,0.00570180132972735);\">The</span> <span style=\"background-color:rgba(135,206,250,0.0121183336167655);\">ignorance</span> <span style=\"background-color:rgba(135,206,250,0.003729958459439655);\">and</span> <span style=\"background-color:rgba(135,206,250,0.009439672954218171);\">audacity</span> <span style=\"background-color:rgba(135,206,250,0.0018893190553980405);\">of</span> <span style=\"background-color:rgba(135,206,250,0.0008590397548490065);\">this</span> <span style=\"background-color:rgba(135,206,250,0.011535480825951357);\">got</span> <span style=\"background-color:rgba(135,206,250,7.616822548243758e-05);\">to</span> <span style=\"background-color:rgba(135,206,250,0.006722636382028766);\">me</span> <span style=\"background-color:rgba(135,206,250,7.260066130779558e-05);\">a</span> <span style=\"background-color:rgba(135,206,250,0.001600840726823477);\">little</span> <span style=\"background-color:rgba(135,206,250,0.0005738317854835623);\">,</span> <span style=\"background-color:rgba(135,206,250,0.0013239017236786395);\">so</span> <span style=\"background-color:rgba(135,206,250,0.007495903948505939);\">I</span> <span style=\"background-color:rgba(135,206,250,0.012758275210676052);\">wrote</span> <span style=\"background-color:rgba(135,206,250,0.005472988022452403);\">an</span> <span style=\"background-color:rgba(135,206,250,0.0228232963260589);\">open</span> <span style=\"background-color:rgba(135,206,250,0.010930735623821412);\">letter</span> <span style=\"background-color:rgba(135,206,250,9.61133447034943e-05);\">to</span> <span style=\"background-color:rgba(135,206,250,0.001061751338463231);\">the</span> <span style=\"background-color:rgba(135,206,250,0.035502435361829315);\">DfES</span> <span style=\"background-color:rgba(135,206,250,0.004197968275372975);\">about</span> <span style=\"background-color:rgba(135,206,250,0.005094576759702587);\">it</span> <span style=\"background-color:rgba(135,206,250,0.007140508277874639);\">.</span> <span style=\"background-color:rgba(135,206,250,0.003133176473469156);\">Unfortunately</span> <span style=\"background-color:rgba(135,206,250,0.0012228124823005708);\">,</span> <span style=\"background-color:rgba(135,206,250,0.0007724403800111246);\">it</span> <span style=\"background-color:rgba(135,206,250,0.013885071004173966);\">is</span> <span style=\"background-color:rgba(135,206,250,0.12777439638648452);\">pedantic</span> <span style=\"background-color:rgba(135,206,250,0.004970278649751156);\">,</span> <span style=\"background-color:rgba(135,206,250,0.0025836585690921436);\">as</span> <span style=\"background-color:rgba(135,206,250,0.01135176328446042);\">I</span> <span style=\"background-color:rgba(135,206,250,0.0055597653332218324);\">suppose</span> <span style=\"background-color:rgba(135,206,250,0.0012741473873673476);\">you</span> <span style=\"background-color:rgba(135,206,250,0.0044682360596110405);\">have</span> <span style=\"background-color:rgba(135,206,250,0.0005842721780344972);\">to</span> <span style=\"background-color:rgba(135,206,250,0.003238991020185544);\">be</span> <span style=\"background-color:rgba(135,206,250,0.004471478636213446);\">when</span> <span style=\"background-color:rgba(135,206,250,0.02840449371351022);\">writing</span> <span style=\"background-color:rgba(135,206,250,0.00036440861688512657);\">to</span> <span style=\"background-color:rgba(135,206,250,0.04511579075171597);\">goverment</span> <span style=\"background-color:rgba(135,206,250,0.002640811844802602);\">representatives</span> <span style=\"background-color:rgba(135,206,250,0.0016675127618947258);\">.</span> <span style=\"background-color:rgba(135,206,250,0.015077629995104678);\">But</span> <span style=\"background-color:rgba(135,206,250,0.002026629746565239);\">I</span> <span style=\"background-color:rgba(135,206,250,0.01158418366482687);\">hope</span> <span style=\"background-color:rgba(135,206,250,0.0032155111121359966);\">you</span> <span style=\"background-color:rgba(135,206,250,0.001472214609879099);\">find</span> <span style=\"background-color:rgba(135,206,250,0.0008743698154879025);\">it</span> <span style=\"background-color:rgba(135,206,250,0.019929403455832013);\">useful</span> <span style=\"background-color:rgba(135,206,250,0.0011020704753148412);\">,</span> <span style=\"background-color:rgba(135,206,250,0.004109857682255909);\">and</span> <span style=\"background-color:rgba(135,206,250,0.0018124976735566212);\">perhaps</span> <span style=\"background-color:rgba(135,206,250,0.007911360949071047);\">feel</span> <span style=\"background-color:rgba(135,206,250,0.011444940916047747);\">inspired</span> <span style=\"background-color:rgba(135,206,250,0.0008783049778357902);\">to</span> <span style=\"background-color:rgba(135,206,250,0.0021021042728771168);\">do</span> <span style=\"background-color:rgba(135,206,250,0.009343552204354235);\">something</span> <span style=\"background-color:rgba(135,206,250,0.04457984009097781);\">similar</span> <span style=\"background-color:rgba(135,206,250,0.005766728645374438);\">,</span> <span style=\"background-color:rgba(135,206,250,0.0019179562070226006);\">if</span> <span style=\"background-color:rgba(135,206,250,0.01884547629518704);\">or</span> <span style=\"background-color:rgba(135,206,250,0.002400482823778952);\">when</span> <span style=\"background-color:rgba(135,206,250,0.013341137050278135);\">the</span> <span style=\"background-color:rgba(135,206,250,0.023754572696398656);\">same</span> <span style=\"background-color:rgba(135,206,250,0.004804860585215664);\">thing</span> <span style=\"background-color:rgba(135,206,250,0.01578153860204247);\">has</span> <span style=\"background-color:rgba(135,206,250,0.0074456792166092195);\">happened</span> <span style=\"background-color:rgba(135,206,250,0.0004622388100389975);\">in</span> <span style=\"background-color:rgba(135,206,250,0.005903419070405998);\">your</span> <span style=\"background-color:rgba(135,206,250,0.025450075762967737);\">area</span> <span style=\"background-color:rgba(135,206,250,0.00012671923511061125);\">.</span>"
            ],
            "text/plain": [
              "<IPython.core.display.HTML object>"
            ]
          },
          "metadata": {
            "tags": []
          }
        },
        {
          "output_type": "stream",
          "text": [
            "None\n"
          ],
          "name": "stdout"
        },
        {
          "output_type": "display_data",
          "data": {
            "text/html": [
              "<span style=\"background-color:rgba(135,206,250,0.6058984892059808);\">Google</span> <span style=\"background-color:rgba(135,206,250,0.13179659220927686);\">has</span> <span style=\"background-color:rgba(135,206,250,0.047877285238976296);\">billed</span> <span style=\"background-color:rgba(135,206,250,0.012475034855556335);\">its</span> <span style=\"background-color:rgba(135,206,250,0.10309245164681265);\">IPO</span> <span style=\"background-color:rgba(135,206,250,0.001645094907017642);\">as</span> <span style=\"background-color:rgba(135,206,250,0.0009591622958001559);\">a</span> <span style=\"background-color:rgba(135,206,250,0.00023407870283927978);\">way</span> <span style=\"background-color:rgba(135,206,250,1.4869447549495307e-05);\">for</span> <span style=\"background-color:rgba(135,206,250,0.04307644788045983);\">everyday</span> <span style=\"background-color:rgba(135,206,250,0.023639869864976078);\">people</span> <span style=\"background-color:rgba(135,206,250,0.0008218245675551334);\">to</span> <span style=\"background-color:rgba(135,206,250,0.007879869075279251);\">get</span> <span style=\"background-color:rgba(135,206,250,0.0018761942578613556);\">in</span> <span style=\"background-color:rgba(135,206,250,0.0024823837675690048);\">on</span> <span style=\"background-color:rgba(135,206,250,0.00015964995977906538);\">the</span> <span style=\"background-color:rgba(135,206,250,0.034758538191794204);\">process</span> <span style=\"background-color:rgba(135,206,250,0.00044205654174186705);\">,</span> <span style=\"background-color:rgba(135,206,250,0.08904247920698258);\">denying</span> <span style=\"background-color:rgba(135,206,250,0.11090898447706482);\">Wall</span> <span style=\"background-color:rgba(135,206,250,0.03881319388204762);\">Street</span> <span style=\"background-color:rgba(135,206,250,0.0022950077071040445);\">the</span> <span style=\"background-color:rgba(135,206,250,0.0058688078919995855);\">usual</span> <span style=\"background-color:rgba(135,206,250,0.236675613293402);\">stranglehold</span> <span style=\"background-color:rgba(135,206,250,0.010736716877546307);\">it</span> <span style=\"background-color:rgba(135,206,250,0.07609706393792139);\">&#x27;s</span> <span style=\"background-color:rgba(135,206,250,0.12570855163730957);\">had</span> <span style=\"background-color:rgba(135,206,250,0.011130370219909373);\">on</span> <span style=\"background-color:rgba(135,206,250,0.1266889370447481);\">IPOs</span> <span style=\"background-color:rgba(135,206,250,0.006381199886140178);\">.</span> <span style=\"background-color:rgba(135,206,250,0.024300956452422244);\">Public</span> <span style=\"background-color:rgba(135,206,250,0.03554454047735488);\">bidding</span> <span style=\"background-color:rgba(135,206,250,0.0011996099192033744);\">,</span> <span style=\"background-color:rgba(135,206,250,0.0015320645723972239);\">a</span> <span style=\"background-color:rgba(135,206,250,0.019525010749656565);\">minimum</span> <span style=\"background-color:rgba(135,206,250,0.001317180832132636);\">of</span> <span style=\"background-color:rgba(135,206,250,0.005015999760163467);\">just</span> <span style=\"background-color:rgba(135,206,250,0.0027649765688490813);\">five</span> <span style=\"background-color:rgba(135,206,250,0.08391248086599734);\">shares</span> <span style=\"background-color:rgba(135,206,250,0.0003370181653030489);\">,</span> <span style=\"background-color:rgba(135,206,250,0.005711813147935027);\">an</span> <span style=\"background-color:rgba(135,206,250,0.018431157694582614);\">open</span> <span style=\"background-color:rgba(135,206,250,0.04242556023677747);\">process</span> <span style=\"background-color:rgba(135,206,250,0.016784468103036108);\">with</span> <span style=\"background-color:rgba(135,206,250,0.02580450394364252);\">28</span> <span style=\"background-color:rgba(135,206,250,0.08126924036521616);\">underwriters</span> <span style=\"background-color:rgba(135,206,250,0.014180227629326103);\">-</span> <span style=\"background-color:rgba(135,206,250,0.020591045419060313);\">all</span> <span style=\"background-color:rgba(135,206,250,0.0031792838404834604);\">this</span> <span style=\"background-color:rgba(135,206,250,0.023095118592694787);\">pointed</span> <span style=\"background-color:rgba(135,206,250,0.0006350474955436496);\">to</span> <span style=\"background-color:rgba(135,206,250,0.0008582613497344708);\">a</span> <span style=\"background-color:rgba(135,206,250,0.014771812863550875);\">new</span> <span style=\"background-color:rgba(135,206,250,0.0034194139250002427);\">level</span> <span style=\"background-color:rgba(135,206,250,0.0019617918402353644);\">of</span> <span style=\"background-color:rgba(135,206,250,0.03373448180189144);\">public</span> <span style=\"background-color:rgba(135,206,250,0.0421908689187232);\">participation</span> <span style=\"background-color:rgba(135,206,250,0.010934544467740639);\">.</span> <span style=\"background-color:rgba(135,206,250,0.05634848570586816);\">But</span> <span style=\"background-color:rgba(135,206,250,0.0028300787165035524);\">this</span> <span style=\"background-color:rgba(135,206,250,0.000725956883803885);\">is</span> <span style=\"background-color:rgba(135,206,250,0.010164852198334524);\">n&#x27;t</span> <span style=\"background-color:rgba(135,206,250,0.0016210395495757175);\">the</span> <span style=\"background-color:rgba(135,206,250,0.029586668386268566);\">case</span> <span style=\"background-color:rgba(135,206,250,0.003817703350813361);\">.</span>"
            ],
            "text/plain": [
              "<IPython.core.display.HTML object>"
            ]
          },
          "metadata": {
            "tags": []
          }
        },
        {
          "output_type": "stream",
          "text": [
            "None\n"
          ],
          "name": "stdout"
        },
        {
          "output_type": "display_data",
          "data": {
            "text/html": [
              "<span style=\"background-color:rgba(135,206,250,0.6120162860536921);\">Google</span> <span style=\"background-color:rgba(135,206,250,0.09706072603679142);\">has</span> <span style=\"background-color:rgba(135,206,250,0.05758971072583601);\">billed</span> <span style=\"background-color:rgba(135,206,250,0.012191327226275887);\">its</span> <span style=\"background-color:rgba(135,206,250,0.1431884315822945);\">IPO</span> <span style=\"background-color:rgba(135,206,250,0.00072689499248271);\">as</span> <span style=\"background-color:rgba(135,206,250,0.0016318351639800417);\">a</span> <span style=\"background-color:rgba(135,206,250,0.0009297802282804975);\">way</span> <span style=\"background-color:rgba(135,206,250,0.0001755296855308274);\">for</span> <span style=\"background-color:rgba(135,206,250,0.037720517978166015);\">everyday</span> <span style=\"background-color:rgba(135,206,250,0.02858158239148246);\">people</span> <span style=\"background-color:rgba(135,206,250,0.0017329131796775111);\">to</span> <span style=\"background-color:rgba(135,206,250,0.005287260816090626);\">get</span> <span style=\"background-color:rgba(135,206,250,0.0032335729708000364);\">in</span> <span style=\"background-color:rgba(135,206,250,0.004485428086740391);\">on</span> <span style=\"background-color:rgba(135,206,250,0.0005233284070998973);\">the</span> <span style=\"background-color:rgba(135,206,250,0.033955758191145394);\">process</span> <span style=\"background-color:rgba(135,206,250,0.0011341538652264041);\">,</span> <span style=\"background-color:rgba(135,206,250,0.09339541919561299);\">denying</span> <span style=\"background-color:rgba(135,206,250,0.12658018309959423);\">Wall</span> <span style=\"background-color:rgba(135,206,250,0.03881852816293036);\">Street</span> <span style=\"background-color:rgba(135,206,250,0.0024104189261584764);\">the</span> <span style=\"background-color:rgba(135,206,250,0.02730944979346456);\">usual</span> <span style=\"background-color:rgba(135,206,250,0.12546635689753907);\">stranglehold</span> <span style=\"background-color:rgba(135,206,250,0.004655553958055393);\">it</span> <span style=\"background-color:rgba(135,206,250,0.000532360920882893);\">is</span> <span style=\"background-color:rgba(135,206,250,0.08750421462697777);\">had</span> <span style=\"background-color:rgba(135,206,250,8.038944744181501e-05);\">on</span> <span style=\"background-color:rgba(135,206,250,0.14984979032018098);\">IPOs</span> <span style=\"background-color:rgba(135,206,250,0.011266397283176924);\">.</span> <span style=\"background-color:rgba(135,206,250,0.031670948524346286);\">Public</span> <span style=\"background-color:rgba(135,206,250,0.036404563660026305);\">bidding</span> <span style=\"background-color:rgba(135,206,250,0.0015985511412080907);\">,</span> <span style=\"background-color:rgba(135,206,250,0.002214834291761117);\">a</span> <span style=\"background-color:rgba(135,206,250,0.029671534356645445);\">minimum</span> <span style=\"background-color:rgba(135,206,250,0.0015221720271974626);\">of</span> <span style=\"background-color:rgba(135,206,250,0.006642662791072995);\">just</span> <span style=\"background-color:rgba(135,206,250,0.0042792987761655675);\">five</span> <span style=\"background-color:rgba(135,206,250,0.10429303528893386);\">shares</span> <span style=\"background-color:rgba(135,206,250,0.00017376749002135592);\">,</span> <span style=\"background-color:rgba(135,206,250,0.011267476675178953);\">an</span> <span style=\"background-color:rgba(135,206,250,0.032809178024890695);\">open</span> <span style=\"background-color:rgba(135,206,250,0.05201812848544716);\">process</span> <span style=\"background-color:rgba(135,206,250,0.0174227747024783);\">with</span> <span style=\"background-color:rgba(135,206,250,0.04320229533570618);\">28</span> <span style=\"background-color:rgba(135,206,250,0.11076650537763942);\">underwriters</span> <span style=\"background-color:rgba(135,206,250,0.019263064954411924);\">-</span> <span style=\"background-color:rgba(135,206,250,0.02404566614263727);\">all</span> <span style=\"background-color:rgba(135,206,250,0.004328810899381829);\">this</span> <span style=\"background-color:rgba(135,206,250,0.04064888455226402);\">pointed</span> <span style=\"background-color:rgba(135,206,250,0.0006053372748698808);\">to</span> <span style=\"background-color:rgba(135,206,250,0.001012775437017853);\">a</span> <span style=\"background-color:rgba(135,206,250,0.02332435047357638);\">new</span> <span style=\"background-color:rgba(135,206,250,0.0033038138736119294);\">level</span> <span style=\"background-color:rgba(135,206,250,0.0005041817443372904);\">of</span> <span style=\"background-color:rgba(135,206,250,0.046201837975514394);\">public</span> <span style=\"background-color:rgba(135,206,250,0.034794230430042365);\">participation</span> <span style=\"background-color:rgba(135,206,250,0.017476664544550085);\">.</span> <span style=\"background-color:rgba(135,206,250,0.022076225042500182);\">But</span> <span style=\"background-color:rgba(135,206,250,0.003747551659786292);\">this</span> <span style=\"background-color:rgba(135,206,250,0.0022985862048053142);\">is</span> <span style=\"background-color:rgba(135,206,250,0.009676353831300104);\">not</span> <span style=\"background-color:rgba(135,206,250,0.001069415020245055);\">the</span> <span style=\"background-color:rgba(135,206,250,0.0439116127384982);\">case</span> <span style=\"background-color:rgba(135,206,250,0.005718825532981012);\">.</span>"
            ],
            "text/plain": [
              "<IPython.core.display.HTML object>"
            ]
          },
          "metadata": {
            "tags": []
          }
        },
        {
          "output_type": "stream",
          "text": [
            "None\n"
          ],
          "name": "stdout"
        },
        {
          "output_type": "display_data",
          "data": {
            "text/html": [
              "<span style=\"background-color:rgba(135,206,250,0.17120379955495707);\">FOXBOROUGH</span> <span style=\"background-color:rgba(135,206,250,0.12394952884895569);\">--</span> <span style=\"background-color:rgba(135,206,250,0.175076739060207);\">Looking</span> <span style=\"background-color:rgba(135,206,250,0.010401192870186954);\">at</span> <span style=\"background-color:rgba(135,206,250,0.016177873441401123);\">his</span> <span style=\"background-color:rgba(135,206,250,0.0013588032808116938);\">ridiculously</span> <span style=\"background-color:rgba(135,206,250,0.06734274066601001);\">developed</span> <span style=\"background-color:rgba(135,206,250,0.047440702943894394);\">upper</span> <span style=\"background-color:rgba(135,206,250,0.0007906357772418336);\">body</span> <span style=\"background-color:rgba(135,206,250,0.0007793416952282124);\">,</span> <span style=\"background-color:rgba(135,206,250,0.00940451261165896);\">with</span> <span style=\"background-color:rgba(135,206,250,0.024872018390487624);\">huge</span> <span style=\"background-color:rgba(135,206,250,0.048413400462636036);\">biceps</span> <span style=\"background-color:rgba(135,206,250,0.009116025171091528);\">and</span> <span style=\"background-color:rgba(135,206,250,0.044103066513543655);\">hardly</span> <span style=\"background-color:rgba(135,206,250,0.009884352690275532);\">an</span> <span style=\"background-color:rgba(135,206,250,0.04863752340168472);\">ounce</span> <span style=\"background-color:rgba(135,206,250,0.006334247317379604);\">of</span> <span style=\"background-color:rgba(135,206,250,0.05047808993805681);\">fat</span> <span style=\"background-color:rgba(135,206,250,0.004439696084570431);\">,</span> <span style=\"background-color:rgba(135,206,250,0.016357849511872205);\">it</span> <span style=\"background-color:rgba(135,206,250,0.04700924151578591);\">&#x27;s</span> <span style=\"background-color:rgba(135,206,250,0.05781405185814348);\">easy</span> <span style=\"background-color:rgba(135,206,250,0.0017719786748723737);\">to</span> <span style=\"background-color:rgba(135,206,250,0.00808882872158316);\">see</span> <span style=\"background-color:rgba(135,206,250,0.044111853083939244);\">why</span> <span style=\"background-color:rgba(135,206,250,0.05664062658530814);\">Ty</span> <span style=\"background-color:rgba(135,206,250,0.05946234033283659);\">Law</span> <span style=\"background-color:rgba(135,206,250,0.0020048715881220034);\">,</span> <span style=\"background-color:rgba(135,206,250,0.08024563499987013);\">arguably</span> <span style=\"background-color:rgba(135,206,250,5.636652903631692e-05);\">the</span> <span style=\"background-color:rgba(135,206,250,0.020775223466938535);\">best</span> <span style=\"background-color:rgba(135,206,250,0.006414693779215327);\">cornerback</span> <span style=\"background-color:rgba(135,206,250,0.012977660438447532);\">in</span> <span style=\"background-color:rgba(135,206,250,0.09980237675484734);\">football</span> <span style=\"background-color:rgba(135,206,250,0.0013161504413088864);\">,</span> <span style=\"background-color:rgba(135,206,250,0.06946982787003171);\">chooses</span> <span style=\"background-color:rgba(135,206,250,0.01263654869399525);\">physical</span> <span style=\"background-color:rgba(135,206,250,0.07593556262662172);\">play</span> <span style=\"background-color:rgba(135,206,250,0.002490552784140993);\">over</span> <span style=\"background-color:rgba(135,206,250,0.057298180697835904);\">finesse</span> <span style=\"background-color:rgba(135,206,250,0.0018814429637867172);\">.</span> <span style=\"background-color:rgba(135,206,250,0.1492545107470195);\">That</span> <span style=\"background-color:rgba(135,206,250,0.04739539087382996);\">&#x27;s</span> <span style=\"background-color:rgba(135,206,250,0.015405385479153171);\">not</span> <span style=\"background-color:rgba(135,206,250,0.0014319612884491758);\">to</span> <span style=\"background-color:rgba(135,206,250,0.05867737104139678);\">imply</span> <span style=\"background-color:rgba(135,206,250,0.00846911045785424);\">that</span> <span style=\"background-color:rgba(135,206,250,0.013699553291236679);\">he</span> <span style=\"background-color:rgba(135,206,250,0.03851288159254831);\">&#x27;s</span> <span style=\"background-color:rgba(135,206,250,0.07836443701573274);\">lacking</span> <span style=\"background-color:rgba(135,206,250,0.004961461618725934);\">a</span> <span style=\"background-color:rgba(135,206,250,0.036143357177128785);\">finesse</span> <span style=\"background-color:rgba(135,206,250,0.04789054205667783);\">component</span> <span style=\"background-color:rgba(135,206,250,0.0018581012829816384);\">,</span> <span style=\"background-color:rgba(135,206,250,0.02747935289915573);\">because</span> <span style=\"background-color:rgba(135,206,250,0.023438517371502276);\">he</span> <span style=\"background-color:rgba(135,206,250,0.01245637644164118);\">can</span> <span style=\"background-color:rgba(135,206,250,0.03631386103143141);\">shut</span> <span style=\"background-color:rgba(135,206,250,0.004420080868724513);\">down</span> <span style=\"background-color:rgba(135,206,250,0.009562644126704725);\">his</span> <span style=\"background-color:rgba(135,206,250,0.03200230639506711);\">side</span> <span style=\"background-color:rgba(135,206,250,0.017526473282662318);\">of</span> <span style=\"background-color:rgba(135,206,250,0.003796813008110284);\">the</span> <span style=\"background-color:rgba(135,206,250,0.006655438674167989);\">field</span> <span style=\"background-color:rgba(135,206,250,0.032783673073746605);\">much</span> <span style=\"background-color:rgba(135,206,250,0.0022220045567716853);\">as</span> <span style=\"background-color:rgba(135,206,250,0.08829307132577822);\">Deion</span> <span style=\"background-color:rgba(135,206,250,0.08984546847402956);\">Sanders</span> <span style=\"background-color:rgba(135,206,250,0.006373791838247737);\">...</span>"
            ],
            "text/plain": [
              "<IPython.core.display.HTML object>"
            ]
          },
          "metadata": {
            "tags": []
          }
        },
        {
          "output_type": "stream",
          "text": [
            "None\n"
          ],
          "name": "stdout"
        },
        {
          "output_type": "display_data",
          "data": {
            "text/html": [
              "<span style=\"background-color:rgba(135,206,250,0.17850601990279083);\">FOXBOROUGH</span> <span style=\"background-color:rgba(135,206,250,0.12110789074211573);\">--</span> <span style=\"background-color:rgba(135,206,250,0.1711384599797111);\">Looking</span> <span style=\"background-color:rgba(135,206,250,0.012685731389635314);\">at</span> <span style=\"background-color:rgba(135,206,250,0.013223902143751902);\">his</span> <span style=\"background-color:rgba(135,206,250,0.012444165652927764);\">ridiculously</span> <span style=\"background-color:rgba(135,206,250,0.07806468283849714);\">developed</span> <span style=\"background-color:rgba(135,206,250,0.045521827831091016);\">upper</span> <span style=\"background-color:rgba(135,206,250,0.002193801014657626);\">body</span> <span style=\"background-color:rgba(135,206,250,0.0007457092725298538);\">,</span> <span style=\"background-color:rgba(135,206,250,0.010227050122968059);\">with</span> <span style=\"background-color:rgba(135,206,250,0.023935607944575985);\">huge</span> <span style=\"background-color:rgba(135,206,250,0.048135554273565855);\">biceps</span> <span style=\"background-color:rgba(135,206,250,0.009423742714654114);\">and</span> <span style=\"background-color:rgba(135,206,250,0.04566514954969028);\">hardly</span> <span style=\"background-color:rgba(135,206,250,0.00979045467785225);\">an</span> <span style=\"background-color:rgba(135,206,250,0.048676657183683206);\">ounce</span> <span style=\"background-color:rgba(135,206,250,0.0072946034900053195);\">of</span> <span style=\"background-color:rgba(135,206,250,0.04184403618462583);\">fat</span> <span style=\"background-color:rgba(135,206,250,0.004091047711079354);\">,</span> <span style=\"background-color:rgba(135,206,250,0.02162959771154478);\">it</span> <span style=\"background-color:rgba(135,206,250,0.03830533465188832);\">is</span> <span style=\"background-color:rgba(135,206,250,0.056711425975489185);\">easy</span> <span style=\"background-color:rgba(135,206,250,0.00189190616823444);\">to</span> <span style=\"background-color:rgba(135,206,250,0.009058967653624761);\">see</span> <span style=\"background-color:rgba(135,206,250,0.049119802832798945);\">why</span> <span style=\"background-color:rgba(135,206,250,0.0571838105158971);\">Ty</span> <span style=\"background-color:rgba(135,206,250,0.061754357120782234);\">Law</span> <span style=\"background-color:rgba(135,206,250,0.0020220637012115694);\">,</span> <span style=\"background-color:rgba(135,206,250,0.07979183380903117);\">arguably</span> <span style=\"background-color:rgba(135,206,250,4.9779735966523644e-05);\">the</span> <span style=\"background-color:rgba(135,206,250,0.019614261015589798);\">best</span> <span style=\"background-color:rgba(135,206,250,0.006749194056493023);\">cornerback</span> <span style=\"background-color:rgba(135,206,250,0.01326420055913151);\">in</span> <span style=\"background-color:rgba(135,206,250,0.10761246061910403);\">football</span> <span style=\"background-color:rgba(135,206,250,0.0023404167263500345);\">,</span> <span style=\"background-color:rgba(135,206,250,0.06871949607068982);\">chooses</span> <span style=\"background-color:rgba(135,206,250,0.005530004883075683);\">physical</span> <span style=\"background-color:rgba(135,206,250,0.0849515293480884);\">play</span> <span style=\"background-color:rgba(135,206,250,0.0016792308871004594);\">over</span> <span style=\"background-color:rgba(135,206,250,0.06227614655225493);\">finesse</span> <span style=\"background-color:rgba(135,206,250,0.002309529304619121);\">.</span> <span style=\"background-color:rgba(135,206,250,0.17741471019026833);\">That</span> <span style=\"background-color:rgba(135,206,250,0.038673515276484195);\">is</span> <span style=\"background-color:rgba(135,206,250,0.01693060200664749);\">not</span> <span style=\"background-color:rgba(135,206,250,0.00012098685583105726);\">to</span> <span style=\"background-color:rgba(135,206,250,0.07069634272941544);\">imply</span> <span style=\"background-color:rgba(135,206,250,0.009337182111095113);\">that</span> <span style=\"background-color:rgba(135,206,250,0.012433790729140054);\">he</span> <span style=\"background-color:rgba(135,206,250,0.03234659947695173);\">is</span> <span style=\"background-color:rgba(135,206,250,0.0518552641255538);\">lacking</span> <span style=\"background-color:rgba(135,206,250,0.004566611444860331);\">a</span> <span style=\"background-color:rgba(135,206,250,0.03438772622872661);\">finesse</span> <span style=\"background-color:rgba(135,206,250,0.04786040178781348);\">component</span> <span style=\"background-color:rgba(135,206,250,0.001935178719821868);\">,</span> <span style=\"background-color:rgba(135,206,250,0.028091276434231118);\">because</span> <span style=\"background-color:rgba(135,206,250,0.021511905878129248);\">he</span> <span style=\"background-color:rgba(135,206,250,0.01282036772631867);\">can</span> <span style=\"background-color:rgba(135,206,250,0.037667933021872886);\">shut</span> <span style=\"background-color:rgba(135,206,250,0.005509203367553111);\">down</span> <span style=\"background-color:rgba(135,206,250,0.009519648758153863);\">his</span> <span style=\"background-color:rgba(135,206,250,0.03173993252529844);\">side</span> <span style=\"background-color:rgba(135,206,250,0.018352361825359625);\">of</span> <span style=\"background-color:rgba(135,206,250,0.0037711905028294857);\">the</span> <span style=\"background-color:rgba(135,206,250,0.0033115056209063695);\">field</span> <span style=\"background-color:rgba(135,206,250,0.03427907370266497);\">much</span> <span style=\"background-color:rgba(135,206,250,0.0023752084687998017);\">as</span> <span style=\"background-color:rgba(135,206,250,0.0922044484300318);\">Deion</span> <span style=\"background-color:rgba(135,206,250,0.05775865776229808);\">Sanders</span> <span style=\"background-color:rgba(135,206,250,0.005246863240995243);\">...</span>"
            ],
            "text/plain": [
              "<IPython.core.display.HTML object>"
            ]
          },
          "metadata": {
            "tags": []
          }
        },
        {
          "output_type": "stream",
          "text": [
            "None\n"
          ],
          "name": "stdout"
        },
        {
          "output_type": "display_data",
          "data": {
            "text/html": [
              "<span style=\"background-color:rgba(135,206,250,0.4766500615883588);\">Just</span> <span style=\"background-color:rgba(135,206,250,0.2481222289322615);\">imagine</span> <span style=\"background-color:rgba(135,206,250,0.1385920838538303);\">what</span> <span style=\"background-color:rgba(135,206,250,0.05742641814547704);\">David</span> <span style=\"background-color:rgba(135,206,250,0.016903587654637967);\">Ortiz</span> <span style=\"background-color:rgba(135,206,250,0.0006276243376256408);\">could</span> <span style=\"background-color:rgba(135,206,250,0.020049095836196747);\">do</span> <span style=\"background-color:rgba(135,206,250,0.0009822712118054155);\">on</span> <span style=\"background-color:rgba(135,206,250,0.0037639092404184085);\">a</span> <span style=\"background-color:rgba(135,206,250,0.006485434294417132);\">good</span> <span style=\"background-color:rgba(135,206,250,0.006372681519571592);\">night</span> <span style=\"background-color:rgba(135,206,250,0.01216412311497964);\">&#x27;s</span> <span style=\"background-color:rgba(135,206,250,0.020841487369757772);\">rest</span> <span style=\"background-color:rgba(135,206,250,0.0009087878332258304);\">.</span> <span style=\"background-color:rgba(135,206,250,0.03938031172367901);\">Ortiz</span> <span style=\"background-color:rgba(135,206,250,0.0023185070176558738);\">spent</span> <span style=\"background-color:rgba(135,206,250,0.0013032748419058548);\">the</span> <span style=\"background-color:rgba(135,206,250,0.00349323307649168);\">night</span> <span style=\"background-color:rgba(135,206,250,0.008962985969793388);\">before</span> <span style=\"background-color:rgba(135,206,250,0.009510132095049733);\">last</span> <span style=\"background-color:rgba(135,206,250,0.00026954651967403634);\">with</span> <span style=\"background-color:rgba(135,206,250,0.005281759722288778);\">his</span> <span style=\"background-color:rgba(135,206,250,0.0017498528487134512);\">baby</span> <span style=\"background-color:rgba(135,206,250,0.019591586324307634);\">boy</span> <span style=\"background-color:rgba(135,206,250,0.0027747383843354555);\">,</span> <span style=\"background-color:rgba(135,206,250,0.025311452851551904);\">D&#x27;Angelo</span> <span style=\"background-color:rgba(135,206,250,0.005286137376278734);\">,</span> <span style=\"background-color:rgba(135,206,250,0.026644537831370965);\">who</span> <span style=\"background-color:rgba(135,206,250,0.010008849625364712);\">is</span> <span style=\"background-color:rgba(135,206,250,0.004164611619047547);\">barely</span> <span style=\"background-color:rgba(135,206,250,0.008725426981650372);\">1</span> <span style=\"background-color:rgba(135,206,250,0.009083557579261659);\">month</span> <span style=\"background-color:rgba(135,206,250,0.006205458008794174);\">old</span> <span style=\"background-color:rgba(135,206,250,0.0010592263486543679);\">.</span> <span style=\"background-color:rgba(135,206,250,0.038184744213634825);\">He</span> <span style=\"background-color:rgba(135,206,250,0.0694578747333077);\">had</span> <span style=\"background-color:rgba(135,206,250,0.04434104029599441);\">planned</span> <span style=\"background-color:rgba(135,206,250,0.00048754738672180027);\">on</span> <span style=\"background-color:rgba(135,206,250,0.006482888639697754);\">attending</span> <span style=\"background-color:rgba(135,206,250,0.0036972454724762387);\">the</span> <span style=\"background-color:rgba(135,206,250,0.03459099446889161);\">Red</span> <span style=\"background-color:rgba(135,206,250,0.005773929915878252);\">Sox</span> <span style=\"background-color:rgba(135,206,250,0.03989768320766984);\">&#x27;</span> <span style=\"background-color:rgba(135,206,250,0.05475294784157579);\">Family</span> <span style=\"background-color:rgba(135,206,250,0.03511659585729797);\">Day</span> <span style=\"background-color:rgba(135,206,250,0.02722236901378577);\">at</span> <span style=\"background-color:rgba(135,206,250,0.027767769820723962);\">Fenway</span> <span style=\"background-color:rgba(135,206,250,0.3266314244390885);\">Park</span> <span style=\"background-color:rgba(135,206,250,0.050011101968758194);\">yesterday</span> <span style=\"background-color:rgba(135,206,250,0.039437034037233996);\">morning</span> <span style=\"background-color:rgba(135,206,250,0.009476745570171521);\">,</span> <span style=\"background-color:rgba(135,206,250,0.004658465178004515);\">but</span> <span style=\"background-color:rgba(135,206,250,0.007636385576071697);\">he</span> <span style=\"background-color:rgba(135,206,250,0.011062329505479784);\">had</span> <span style=\"background-color:rgba(135,206,250,0.00045572750040704947);\">to</span> <span style=\"background-color:rgba(135,206,250,0.004761494264413908);\">sleep</span> <span style=\"background-color:rgba(135,206,250,0.0007817636777054906);\">in</span> <span style=\"background-color:rgba(135,206,250,0.0009967973174876497);\">.</span> <span style=\"background-color:rgba(135,206,250,0.004815862897628821);\">After</span> <span style=\"background-color:rgba(135,206,250,0.0021588688878931223);\">all</span> <span style=\"background-color:rgba(135,206,250,0.0018641206789789836);\">,</span> <span style=\"background-color:rgba(135,206,250,0.1107954019470852);\">Ortiz</span> <span style=\"background-color:rgba(135,206,250,0.003776095093331413);\">had</span> <span style=\"background-color:rgba(135,206,250,0.003811550261798173);\">a</span> <span style=\"background-color:rgba(135,206,250,0.05154559944777405);\">son</span> <span style=\"background-color:rgba(135,206,250,0.011678819329106188);\">at</span> <span style=\"background-color:rgba(135,206,250,0.006355789369548396);\">home</span> <span style=\"background-color:rgba(135,206,250,0.0021993768113872845);\">,</span> <span style=\"background-color:rgba(135,206,250,0.017940851283444765);\">and</span> <span style=\"background-color:rgba(135,206,250,0.22138840227490297);\">he</span> <span style=\"background-color:rgba(135,206,250,0.016971245594608105);\">...</span>"
            ],
            "text/plain": [
              "<IPython.core.display.HTML object>"
            ]
          },
          "metadata": {
            "tags": []
          }
        },
        {
          "output_type": "stream",
          "text": [
            "None\n"
          ],
          "name": "stdout"
        },
        {
          "output_type": "display_data",
          "data": {
            "text/html": [
              "<span style=\"background-color:rgba(135,206,250,0.48622594468357094);\">Just</span> <span style=\"background-color:rgba(135,206,250,0.2509103991274155);\">imagine</span> <span style=\"background-color:rgba(135,206,250,0.13915003735424597);\">what</span> <span style=\"background-color:rgba(135,206,250,0.05819732416310273);\">David</span> <span style=\"background-color:rgba(135,206,250,0.018110178935161467);\">Ortiz</span> <span style=\"background-color:rgba(135,206,250,0.0006895171543957322);\">could</span> <span style=\"background-color:rgba(135,206,250,0.020058610699611686);\">do</span> <span style=\"background-color:rgba(135,206,250,0.0008189908114725609);\">on</span> <span style=\"background-color:rgba(135,206,250,0.0038353938590031003);\">a</span> <span style=\"background-color:rgba(135,206,250,0.006186253708188621);\">good</span> <span style=\"background-color:rgba(135,206,250,0.007634886811079884);\">night</span> <span style=\"background-color:rgba(135,206,250,0.013192435305378255);\">&#x27;s</span> <span style=\"background-color:rgba(135,206,250,0.022091833499128976);\">rest</span> <span style=\"background-color:rgba(135,206,250,0.0007894585048527154);\">.</span> <span style=\"background-color:rgba(135,206,250,0.03947177211408194);\">Ortiz</span> <span style=\"background-color:rgba(135,206,250,0.0021381054121011873);\">spent</span> <span style=\"background-color:rgba(135,206,250,0.0013231250915813437);\">the</span> <span style=\"background-color:rgba(135,206,250,0.003737164450157482);\">night</span> <span style=\"background-color:rgba(135,206,250,0.008890655251067506);\">before</span> <span style=\"background-color:rgba(135,206,250,0.009738601104176969);\">last</span> <span style=\"background-color:rgba(135,206,250,0.00012745200340097518);\">with</span> <span style=\"background-color:rgba(135,206,250,0.004909161849486496);\">his</span> <span style=\"background-color:rgba(135,206,250,0.0017545772374973295);\">baby</span> <span style=\"background-color:rgba(135,206,250,0.020980085840502104);\">boy</span> <span style=\"background-color:rgba(135,206,250,0.0023737166462585195);\">,</span> <span style=\"background-color:rgba(135,206,250,0.009061681709894555);\">D&#x27;Angelo</span> <span style=\"background-color:rgba(135,206,250,0.006407089621465494);\">,</span> <span style=\"background-color:rgba(135,206,250,0.022597700274892614);\">who</span> <span style=\"background-color:rgba(135,206,250,0.01274190094897914);\">&#x27;s</span> <span style=\"background-color:rgba(135,206,250,0.0030933116069170935);\">barely</span> <span style=\"background-color:rgba(135,206,250,0.00766035981089371);\">1</span> <span style=\"background-color:rgba(135,206,250,0.00859124449946889);\">month</span> <span style=\"background-color:rgba(135,206,250,0.0030463362747828846);\">old</span> <span style=\"background-color:rgba(135,206,250,0.0012105579527699113);\">.</span> <span style=\"background-color:rgba(135,206,250,0.0389351209868103);\">He</span> <span style=\"background-color:rgba(135,206,250,0.07002222234420112);\">had</span> <span style=\"background-color:rgba(135,206,250,0.04406119853291426);\">planned</span> <span style=\"background-color:rgba(135,206,250,0.0007728398599805939);\">on</span> <span style=\"background-color:rgba(135,206,250,0.006374565650458013);\">attending</span> <span style=\"background-color:rgba(135,206,250,0.003698732826625785);\">the</span> <span style=\"background-color:rgba(135,206,250,0.03477358117126919);\">Red</span> <span style=\"background-color:rgba(135,206,250,0.00628772855378844);\">Sox</span> <span style=\"background-color:rgba(135,206,250,0.041139747692135194);\">&#x27;</span> <span style=\"background-color:rgba(135,206,250,0.054214425145229034);\">Family</span> <span style=\"background-color:rgba(135,206,250,0.03554750817665262);\">Day</span> <span style=\"background-color:rgba(135,206,250,0.026462208002232354);\">at</span> <span style=\"background-color:rgba(135,206,250,0.02856819211572363);\">Fenway</span> <span style=\"background-color:rgba(135,206,250,0.32778291045877744);\">Park</span> <span style=\"background-color:rgba(135,206,250,0.05130967913616357);\">yesterday</span> <span style=\"background-color:rgba(135,206,250,0.03578518018723905);\">morning</span> <span style=\"background-color:rgba(135,206,250,0.009083389582649893);\">,</span> <span style=\"background-color:rgba(135,206,250,0.004402474313395092);\">but</span> <span style=\"background-color:rgba(135,206,250,0.008207842451950116);\">he</span> <span style=\"background-color:rgba(135,206,250,0.010678274982033224);\">had</span> <span style=\"background-color:rgba(135,206,250,0.0004584206275706158);\">to</span> <span style=\"background-color:rgba(135,206,250,0.004675701082129879);\">sleep</span> <span style=\"background-color:rgba(135,206,250,0.0007205738469800463);\">in</span> <span style=\"background-color:rgba(135,206,250,0.0010245226043863183);\">.</span> <span style=\"background-color:rgba(135,206,250,0.005360003582263339);\">After</span> <span style=\"background-color:rgba(135,206,250,0.0024314377724733694);\">all</span> <span style=\"background-color:rgba(135,206,250,0.0018650414407336308);\">,</span> <span style=\"background-color:rgba(135,206,250,0.11197153775314089);\">Ortiz</span> <span style=\"background-color:rgba(135,206,250,0.0038467901418466383);\">had</span> <span style=\"background-color:rgba(135,206,250,0.003808124248932828);\">a</span> <span style=\"background-color:rgba(135,206,250,0.05081457333644451);\">son</span> <span style=\"background-color:rgba(135,206,250,0.011490174648499846);\">at</span> <span style=\"background-color:rgba(135,206,250,0.006622128827339289);\">home</span> <span style=\"background-color:rgba(135,206,250,0.0022408518055736133);\">,</span> <span style=\"background-color:rgba(135,206,250,0.018139926241747647);\">and</span> <span style=\"background-color:rgba(135,206,250,0.2214849165429896);\">he</span> <span style=\"background-color:rgba(135,206,250,0.01719195507024215);\">...</span>"
            ],
            "text/plain": [
              "<IPython.core.display.HTML object>"
            ]
          },
          "metadata": {
            "tags": []
          }
        },
        {
          "output_type": "stream",
          "text": [
            "None\n"
          ],
          "name": "stdout"
        },
        {
          "output_type": "display_data",
          "data": {
            "text/html": [
              "<span style=\"background-color:rgba(135,206,250,0.4281278366697446);\">LOURDES</span> <span style=\"background-color:rgba(135,206,250,0.166309306173546);\">,</span> <span style=\"background-color:rgba(135,206,250,0.1802099182392676);\">France</span> <span style=\"background-color:rgba(135,206,250,0.011253550914054094);\">-</span> <span style=\"background-color:rgba(135,206,250,0.11407194776887206);\">A</span> <span style=\"background-color:rgba(135,206,250,0.06044986551973914);\">frail</span> <span style=\"background-color:rgba(135,206,250,0.08845007118892781);\">Pope</span> <span style=\"background-color:rgba(135,206,250,0.03896785684773777);\">John</span> <span style=\"background-color:rgba(135,206,250,0.03756116755200249);\">Paul</span> <span style=\"background-color:rgba(135,206,250,0.06822764209844154);\">II</span> <span style=\"background-color:rgba(135,206,250,0.011601956329809511);\">,</span> <span style=\"background-color:rgba(135,206,250,0.006124756342641508);\">breathing</span> <span style=\"background-color:rgba(135,206,250,0.00832124457141365);\">heavily</span> <span style=\"background-color:rgba(135,206,250,0.0029162691709647666);\">and</span> <span style=\"background-color:rgba(135,206,250,0.004239793932316635);\">gasping</span> <span style=\"background-color:rgba(135,206,250,0.005536486105735355);\">at</span> <span style=\"background-color:rgba(135,206,250,0.02411237727682086);\">times</span> <span style=\"background-color:rgba(135,206,250,0.005320889270686893);\">,</span> <span style=\"background-color:rgba(135,206,250,0.0019373986539130222);\">celebrated</span> <span style=\"background-color:rgba(135,206,250,0.010627054611963565);\">an</span> <span style=\"background-color:rgba(135,206,250,0.0030434518251290493);\">open</span> <span style=\"background-color:rgba(135,206,250,0.012591606896273748);\">-</span> <span style=\"background-color:rgba(135,206,250,0.004181502090151406);\">air</span> <span style=\"background-color:rgba(135,206,250,0.03230898261457424);\">Mass</span> <span style=\"background-color:rgba(135,206,250,0.007675077877110363);\">on</span> <span style=\"background-color:rgba(135,206,250,0.07697998564696144);\">Sunday</span> <span style=\"background-color:rgba(135,206,250,0.0065572026182642495);\">for</span> <span style=\"background-color:rgba(135,206,250,0.014233984553886688);\">several</span> <span style=\"background-color:rgba(135,206,250,0.02609581499828949);\">hundred</span> <span style=\"background-color:rgba(135,206,250,0.025349193992401296);\">thousand</span> <span style=\"background-color:rgba(135,206,250,0.059738704546939185);\">pilgrims</span> <span style=\"background-color:rgba(135,206,250,0.0070006793813406154);\">,</span> <span style=\"background-color:rgba(135,206,250,0.0054399943635542285);\">many</span> <span style=\"background-color:rgba(135,206,250,0.006985509398105888);\">in</span> <span style=\"background-color:rgba(135,206,250,0.015545572183931197);\">wheelchairs</span> <span style=\"background-color:rgba(135,206,250,0.0034438827328595397);\">,</span> <span style=\"background-color:rgba(135,206,250,0.012110914541900376);\">at</span> <span style=\"background-color:rgba(135,206,250,0.003638243418787974);\">a</span> <span style=\"background-color:rgba(135,206,250,0.00844619197261376);\">shrine</span> <span style=\"background-color:rgba(135,206,250,0.0035336944659964953);\">to</span> <span style=\"background-color:rgba(135,206,250,0.001631414244361045);\">the</span> <span style=\"background-color:rgba(135,206,250,0.01195179460002914);\">Virgin</span> <span style=\"background-color:rgba(135,206,250,0.030771058801441962);\">Mary</span> <span style=\"background-color:rgba(135,206,250,0.001701742687005858);\">that</span> <span style=\"background-color:rgba(135,206,250,0.007566805579312605);\">is</span> <span style=\"background-color:rgba(135,206,250,0.001995999494258359);\">associated</span> <span style=\"background-color:rgba(135,206,250,0.004912613380934806);\">with</span> <span style=\"background-color:rgba(135,206,250,0.003878635696509595);\">miraculous</span> <span style=\"background-color:rgba(135,206,250,0.028270044144450196);\">cures</span> <span style=\"background-color:rgba(135,206,250,0.013272742715266232);\">.</span> <span style=\"background-color:rgba(135,206,250,0.006433779441957952);\">At</span> <span style=\"background-color:rgba(135,206,250,0.003694513067218058);\">one</span> <span style=\"background-color:rgba(135,206,250,0.013982915226145946);\">point</span> <span style=\"background-color:rgba(135,206,250,0.026798501779063996);\">he</span> <span style=\"background-color:rgba(135,206,250,0.005607557763760952);\">said</span> <span style=\"background-color:rgba(135,206,250,0.004526011803044704);\">&quot;</span> <span style=\"background-color:rgba(135,206,250,0.006953006859695805);\">help</span> <span style=\"background-color:rgba(135,206,250,0.014331681139778155);\">me</span> <span style=\"background-color:rgba(135,206,250,0.005579235422505159);\">&quot;</span> <span style=\"background-color:rgba(135,206,250,0.0070257464433817725);\">in</span> <span style=\"background-color:rgba(135,206,250,0.008548663909412333);\">Polish</span> <span style=\"background-color:rgba(135,206,250,0.001293553806821961);\">while</span> <span style=\"background-color:rgba(135,206,250,0.0018420062641280612);\">struggling</span> <span style=\"background-color:rgba(135,206,250,0.004786394684802824);\">through</span> <span style=\"background-color:rgba(135,206,250,0.025312418225126785);\">his</span> <span style=\"background-color:rgba(135,206,250,0.009925595517506804);\">homily</span> <span style=\"background-color:rgba(135,206,250,0.024688758559555265);\">in</span> <span style=\"background-color:rgba(135,206,250,0.10759476114305118);\">French</span> <span style=\"background-color:rgba(135,206,250,0.505854235662527);\">...</span>"
            ],
            "text/plain": [
              "<IPython.core.display.HTML object>"
            ]
          },
          "metadata": {
            "tags": []
          }
        },
        {
          "output_type": "stream",
          "text": [
            "None\n"
          ],
          "name": "stdout"
        },
        {
          "output_type": "display_data",
          "data": {
            "text/html": [
              "<span style=\"background-color:rgba(135,206,250,0.4359235844641012);\">LOURDES</span> <span style=\"background-color:rgba(135,206,250,0.16853661272197454);\">,</span> <span style=\"background-color:rgba(135,206,250,0.17906120651908985);\">France</span> <span style=\"background-color:rgba(135,206,250,0.011022243557804508);\">-</span> <span style=\"background-color:rgba(135,206,250,0.11716071031851309);\">A</span> <span style=\"background-color:rgba(135,206,250,0.06198367935801287);\">frail</span> <span style=\"background-color:rgba(135,206,250,0.08908219205043752);\">Pope</span> <span style=\"background-color:rgba(135,206,250,0.039530512264275064);\">John</span> <span style=\"background-color:rgba(135,206,250,0.03755605308623601);\">Paul</span> <span style=\"background-color:rgba(135,206,250,0.06796284373294681);\">II</span> <span style=\"background-color:rgba(135,206,250,0.01197432706638799);\">,</span> <span style=\"background-color:rgba(135,206,250,0.006708170451800277);\">breathing</span> <span style=\"background-color:rgba(135,206,250,0.007164903515356227);\">heavily</span> <span style=\"background-color:rgba(135,206,250,0.0030317203697158034);\">and</span> <span style=\"background-color:rgba(135,206,250,0.0031528723566885165);\">gasping</span> <span style=\"background-color:rgba(135,206,250,0.005732639652799795);\">at</span> <span style=\"background-color:rgba(135,206,250,0.024706108869706637);\">times</span> <span style=\"background-color:rgba(135,206,250,0.0053572942751977356);\">,</span> <span style=\"background-color:rgba(135,206,250,0.001347762116256096);\">celebrated</span> <span style=\"background-color:rgba(135,206,250,0.010557991588801677);\">an</span> <span style=\"background-color:rgba(135,206,250,0.0032068772068038036);\">open</span> <span style=\"background-color:rgba(135,206,250,0.01246222011203068);\">-</span> <span style=\"background-color:rgba(135,206,250,0.004475424570448403);\">air</span> <span style=\"background-color:rgba(135,206,250,0.032030126039907424);\">Mass</span> <span style=\"background-color:rgba(135,206,250,0.007355323755777862);\">on</span> <span style=\"background-color:rgba(135,206,250,0.07757373043399486);\">Sunday</span> <span style=\"background-color:rgba(135,206,250,0.006765899367589615);\">for</span> <span style=\"background-color:rgba(135,206,250,0.014240658627807505);\">several</span> <span style=\"background-color:rgba(135,206,250,0.025919122999721756);\">hundred</span> <span style=\"background-color:rgba(135,206,250,0.024913500570506637);\">thousand</span> <span style=\"background-color:rgba(135,206,250,0.059966604061920996);\">pilgrims</span> <span style=\"background-color:rgba(135,206,250,0.006905845037347154);\">,</span> <span style=\"background-color:rgba(135,206,250,0.005316028762863361);\">many</span> <span style=\"background-color:rgba(135,206,250,0.006876655355617602);\">in</span> <span style=\"background-color:rgba(135,206,250,0.014321807872452403);\">wheelchairs</span> <span style=\"background-color:rgba(135,206,250,0.0032580778438920195);\">,</span> <span style=\"background-color:rgba(135,206,250,0.012542455191232963);\">at</span> <span style=\"background-color:rgba(135,206,250,0.003603205419597388);\">a</span> <span style=\"background-color:rgba(135,206,250,0.010919425643248932);\">shrine</span> <span style=\"background-color:rgba(135,206,250,0.00321094124091665);\">to</span> <span style=\"background-color:rgba(135,206,250,0.0009410538076262933);\">the</span> <span style=\"background-color:rgba(135,206,250,0.010105750995420847);\">Virgin</span> <span style=\"background-color:rgba(135,206,250,0.01822555718762874);\">Mary</span> <span style=\"background-color:rgba(135,206,250,0.0020648149533672834);\">that</span> <span style=\"background-color:rgba(135,206,250,0.004096461709594865);\">&#x27;s</span> <span style=\"background-color:rgba(135,206,250,0.0014053305264999795);\">associated</span> <span style=\"background-color:rgba(135,206,250,0.004554495247215949);\">with</span> <span style=\"background-color:rgba(135,206,250,0.00010794187505257504);\">miraculous</span> <span style=\"background-color:rgba(135,206,250,0.028416501661910645);\">cures</span> <span style=\"background-color:rgba(135,206,250,0.013945902199901643);\">.</span> <span style=\"background-color:rgba(135,206,250,0.006500765691493951);\">At</span> <span style=\"background-color:rgba(135,206,250,0.0036269337000375303);\">one</span> <span style=\"background-color:rgba(135,206,250,0.01435509023495383);\">point</span> <span style=\"background-color:rgba(135,206,250,0.026525758132146162);\">he</span> <span style=\"background-color:rgba(135,206,250,0.0052751760994385515);\">said</span> <span style=\"background-color:rgba(135,206,250,0.004532848904848336);\">&quot;</span> <span style=\"background-color:rgba(135,206,250,0.006800489365820936);\">help</span> <span style=\"background-color:rgba(135,206,250,0.014158901062932596);\">me</span> <span style=\"background-color:rgba(135,206,250,0.00536367279085054);\">&quot;</span> <span style=\"background-color:rgba(135,206,250,0.006984300232219929);\">in</span> <span style=\"background-color:rgba(135,206,250,0.008598195287442599);\">Polish</span> <span style=\"background-color:rgba(135,206,250,0.0003555429532723786);\">while</span> <span style=\"background-color:rgba(135,206,250,0.005620304307055516);\">struggling</span> <span style=\"background-color:rgba(135,206,250,0.005356696908102056);\">through</span> <span style=\"background-color:rgba(135,206,250,0.02550633643876598);\">his</span> <span style=\"background-color:rgba(135,206,250,0.01128217912910921);\">homily</span> <span style=\"background-color:rgba(135,206,250,0.025101036766402872);\">in</span> <span style=\"background-color:rgba(135,206,250,0.11025431762444916);\">French</span> <span style=\"background-color:rgba(135,206,250,0.5065203840189119);\">...</span>"
            ],
            "text/plain": [
              "<IPython.core.display.HTML object>"
            ]
          },
          "metadata": {
            "tags": []
          }
        },
        {
          "output_type": "stream",
          "text": [
            "None\n"
          ],
          "name": "stdout"
        },
        {
          "output_type": "display_data",
          "data": {
            "text/html": [
              "<span style=\"background-color:rgba(135,206,250,0.0794788156122439);\">TEHRAN</span> <span style=\"background-color:rgba(135,206,250,0.21531980769344644);\">(</span> <span style=\"background-color:rgba(135,206,250,0.06843267758723925);\">Reuters</span> <span style=\"background-color:rgba(135,206,250,0.07429117877099876);\">)</span> <span style=\"background-color:rgba(135,206,250,0.0016500800971898275);\">-</span> <span style=\"background-color:rgba(135,206,250,0.049648385597468946);\">A</span> <span style=\"background-color:rgba(135,206,250,0.004494422584482952);\">senior</span> <span style=\"background-color:rgba(135,206,250,0.12866335673671572);\">Iranian</span> <span style=\"background-color:rgba(135,206,250,0.1108803121901535);\">military</span> <span style=\"background-color:rgba(135,206,250,0.012916721622392048);\">official</span> <span style=\"background-color:rgba(135,206,250,0.03658308729674223);\">said</span> <span style=\"background-color:rgba(135,206,250,0.02268034520698043);\">Sunday</span> <span style=\"background-color:rgba(135,206,250,0.18149230050931303);\">Israel</span> <span style=\"background-color:rgba(135,206,250,0.04352231823830937);\">and</span> <span style=\"background-color:rgba(135,206,250,0.0016128498487965287);\">the</span> <span style=\"background-color:rgba(135,206,250,0.0010339946141375523);\">United</span> <span style=\"background-color:rgba(135,206,250,0.004891687923209425);\">States</span> <span style=\"background-color:rgba(135,206,250,0.0127153676661822);\">would</span> <span style=\"background-color:rgba(135,206,250,0.0034071099580174273);\">not</span> <span style=\"background-color:rgba(135,206,250,0.09558165497087448);\">dare</span> <span style=\"background-color:rgba(135,206,250,0.06181873547611853);\">attack</span> <span style=\"background-color:rgba(135,206,250,0.1302306903377276);\">Iran</span> <span style=\"background-color:rgba(135,206,250,0.034860194995647555);\">since</span> <span style=\"background-color:rgba(135,206,250,0.018585755037384584);\">it</span> <span style=\"background-color:rgba(135,206,250,0.01657777902460367);\">could</span> <span style=\"background-color:rgba(135,206,250,0.0711607762920839);\">strike</span> <span style=\"background-color:rgba(135,206,250,0.037801902088627826);\">back</span> <span style=\"background-color:rgba(135,206,250,0.1092210690202958);\">anywhere</span> <span style=\"background-color:rgba(135,206,250,0.01088953308518161);\">in</span> <span style=\"background-color:rgba(135,206,250,0.20274842494948353);\">Israel</span> <span style=\"background-color:rgba(135,206,250,0.02397242602753749);\">with</span> <span style=\"background-color:rgba(135,206,250,0.01361616545910695);\">its</span> <span style=\"background-color:rgba(135,206,250,0.07154474494735175);\">latest</span> <span style=\"background-color:rgba(135,206,250,0.14355494028587878);\">missiles</span> <span style=\"background-color:rgba(135,206,250,0.010438574510281313);\">,</span> <span style=\"background-color:rgba(135,206,250,0.16780624038618677);\">news</span> <span style=\"background-color:rgba(135,206,250,0.18474514627289831);\">agencies</span> <span style=\"background-color:rgba(135,206,250,0.036573358729500655);\">reported</span> <span style=\"background-color:rgba(135,206,250,0.004557083637337544);\">.</span>"
            ],
            "text/plain": [
              "<IPython.core.display.HTML object>"
            ]
          },
          "metadata": {
            "tags": []
          }
        },
        {
          "output_type": "stream",
          "text": [
            "None\n"
          ],
          "name": "stdout"
        },
        {
          "output_type": "display_data",
          "data": {
            "text/html": [
              "<span style=\"background-color:rgba(135,206,250,0.0742651057704633);\">TEHRAN</span> <span style=\"background-color:rgba(135,206,250,0.20489165220525302);\">(</span> <span style=\"background-color:rgba(135,206,250,0.06345044934807237);\">Reuters</span> <span style=\"background-color:rgba(135,206,250,0.07140584502413365);\">)</span> <span style=\"background-color:rgba(135,206,250,0.0017810520769145541);\">-</span> <span style=\"background-color:rgba(135,206,250,0.04817819778787793);\">A</span> <span style=\"background-color:rgba(135,206,250,0.005142342505433449);\">senior</span> <span style=\"background-color:rgba(135,206,250,0.12514612901631153);\">Iranian</span> <span style=\"background-color:rgba(135,206,250,0.10612292433926332);\">military</span> <span style=\"background-color:rgba(135,206,250,0.012895553373968995);\">official</span> <span style=\"background-color:rgba(135,206,250,0.03470543704485347);\">said</span> <span style=\"background-color:rgba(135,206,250,0.021120288538254293);\">Sunday</span> <span style=\"background-color:rgba(135,206,250,0.17629485936263248);\">Israel</span> <span style=\"background-color:rgba(135,206,250,0.040634303038420125);\">and</span> <span style=\"background-color:rgba(135,206,250,0.001423803203580946);\">the</span> <span style=\"background-color:rgba(135,206,250,0.0004380682056599837);\">United</span> <span style=\"background-color:rgba(135,206,250,0.006320401044124604);\">States</span> <span style=\"background-color:rgba(135,206,250,0.013022687638997705);\">would</span> <span style=\"background-color:rgba(135,206,250,0.09017441966572147);\">n&#x27;t</span> <span style=\"background-color:rgba(135,206,250,0.1017988077740421);\">dare</span> <span style=\"background-color:rgba(135,206,250,0.06501989474256001);\">attack</span> <span style=\"background-color:rgba(135,206,250,0.12641037403567423);\">Iran</span> <span style=\"background-color:rgba(135,206,250,0.03470957976204914);\">since</span> <span style=\"background-color:rgba(135,206,250,0.017737985608186988);\">it</span> <span style=\"background-color:rgba(135,206,250,0.015661260563681858);\">could</span> <span style=\"background-color:rgba(135,206,250,0.0681848453558025);\">strike</span> <span style=\"background-color:rgba(135,206,250,0.036160348097100226);\">back</span> <span style=\"background-color:rgba(135,206,250,0.10340595750844835);\">anywhere</span> <span style=\"background-color:rgba(135,206,250,0.010204413971090774);\">in</span> <span style=\"background-color:rgba(135,206,250,0.19497476413860654);\">Israel</span> <span style=\"background-color:rgba(135,206,250,0.022389572179507);\">with</span> <span style=\"background-color:rgba(135,206,250,0.01301978773696073);\">its</span> <span style=\"background-color:rgba(135,206,250,0.06844149622891933);\">latest</span> <span style=\"background-color:rgba(135,206,250,0.13778004678427785);\">missiles</span> <span style=\"background-color:rgba(135,206,250,0.009840017647571085);\">,</span> <span style=\"background-color:rgba(135,206,250,0.16067405372345717);\">news</span> <span style=\"background-color:rgba(135,206,250,0.17717030419839888);\">agencies</span> <span style=\"background-color:rgba(135,206,250,0.03470144701316961);\">reported</span> <span style=\"background-color:rgba(135,206,250,0.004301703791580037);\">.</span>"
            ],
            "text/plain": [
              "<IPython.core.display.HTML object>"
            ]
          },
          "metadata": {
            "tags": []
          }
        },
        {
          "output_type": "stream",
          "text": [
            "None\n"
          ],
          "name": "stdout"
        },
        {
          "output_type": "display_data",
          "data": {
            "text/html": [
              "<span style=\"background-color:rgba(135,206,250,0.6352228133444604);\">Another</span> <span style=\"background-color:rgba(135,206,250,0.016468299983359164);\">major</span> <span style=\"background-color:rgba(135,206,250,0.03894237008350222);\">,</span> <span style=\"background-color:rgba(135,206,250,0.02098730763690192);\">another</span> <span style=\"background-color:rgba(135,206,250,0.2989120121999682);\">disappointment</span> <span style=\"background-color:rgba(135,206,250,0.08043192128387774);\">for</span> <span style=\"background-color:rgba(135,206,250,0.11075839368741058);\">Tiger</span> <span style=\"background-color:rgba(135,206,250,0.14190696530758226);\">Woods</span> <span style=\"background-color:rgba(135,206,250,0.0019795066240462563);\">,</span> <span style=\"background-color:rgba(135,206,250,0.014450502554802992);\">the</span> <span style=\"background-color:rgba(135,206,250,0.013485106063597799);\">No</span> <span style=\"background-color:rgba(135,206,250,0.011425627958715823);\">.</span> <span style=\"background-color:rgba(135,206,250,0.09679153192556827);\">1</span> <span style=\"background-color:rgba(135,206,250,0.01932199769512001);\">ranked</span> <span style=\"background-color:rgba(135,206,250,0.009452697336721109);\">player</span> <span style=\"background-color:rgba(135,206,250,0.033467779491535524);\">in</span> <span style=\"background-color:rgba(135,206,250,0.0075027856325007945);\">the</span> <span style=\"background-color:rgba(135,206,250,0.08756895391233507);\">world</span> <span style=\"background-color:rgba(135,206,250,0.004242914527574114);\">who</span> <span style=\"background-color:rgba(135,206,250,0.19142459838459705);\">has</span> <span style=\"background-color:rgba(135,206,250,0.034509997230666827);\">not</span> <span style=\"background-color:rgba(135,206,250,0.024829848614960855);\">won</span> <span style=\"background-color:rgba(135,206,250,0.00015161878409663854);\">a</span> <span style=\"background-color:rgba(135,206,250,0.1496841966698458);\">major</span> <span style=\"background-color:rgba(135,206,250,0.0976579109789779);\">championship</span> <span style=\"background-color:rgba(135,206,250,0.01191265959369039);\">since</span> <span style=\"background-color:rgba(135,206,250,0.05373793228918296);\">his</span> <span style=\"background-color:rgba(135,206,250,0.015812246273818747);\">triumph</span> <span style=\"background-color:rgba(135,206,250,0.03576249956535129);\">at</span> <span style=\"background-color:rgba(135,206,250,0.01251088174078048);\">the</span> <span style=\"background-color:rgba(135,206,250,0.005847430892408302);\">2002</span> <span style=\"background-color:rgba(135,206,250,0.15492823328962008);\">U.S.</span> <span style=\"background-color:rgba(135,206,250,0.0660876524996026);\">Open</span> <span style=\"background-color:rgba(135,206,250,0.0018227279631554503);\">.</span>"
            ],
            "text/plain": [
              "<IPython.core.display.HTML object>"
            ]
          },
          "metadata": {
            "tags": []
          }
        },
        {
          "output_type": "stream",
          "text": [
            "None\n"
          ],
          "name": "stdout"
        },
        {
          "output_type": "display_data",
          "data": {
            "text/html": [
              "<span style=\"background-color:rgba(135,206,250,0.6401607972281315);\">Another</span> <span style=\"background-color:rgba(135,206,250,0.020828189310874323);\">major</span> <span style=\"background-color:rgba(135,206,250,0.040271499535351175);\">,</span> <span style=\"background-color:rgba(135,206,250,0.019642135111630855);\">another</span> <span style=\"background-color:rgba(135,206,250,0.2955221313859);\">disappointment</span> <span style=\"background-color:rgba(135,206,250,0.0835190756990286);\">for</span> <span style=\"background-color:rgba(135,206,250,0.10939370567137995);\">Tiger</span> <span style=\"background-color:rgba(135,206,250,0.13650968092909208);\">Woods</span> <span style=\"background-color:rgba(135,206,250,0.001200261220589766);\">,</span> <span style=\"background-color:rgba(135,206,250,0.014654851265989609);\">the</span> <span style=\"background-color:rgba(135,206,250,0.022353660154969847);\">No</span> <span style=\"background-color:rgba(135,206,250,0.011543734290863878);\">.</span> <span style=\"background-color:rgba(135,206,250,0.09843566288629226);\">1</span> <span style=\"background-color:rgba(135,206,250,0.023117621273531706);\">ranked</span> <span style=\"background-color:rgba(135,206,250,0.015769636649120775);\">player</span> <span style=\"background-color:rgba(135,206,250,0.034093394376655005);\">in</span> <span style=\"background-color:rgba(135,206,250,0.00860030913972931);\">the</span> <span style=\"background-color:rgba(135,206,250,0.08914555609509248);\">world</span> <span style=\"background-color:rgba(135,206,250,0.010930921345769706);\">who</span> <span style=\"background-color:rgba(135,206,250,0.17169311444310845);\">has</span> <span style=\"background-color:rgba(135,206,250,0.03018181859055827);\">n&#x27;t</span> <span style=\"background-color:rgba(135,206,250,0.0217379888001127);\">won</span> <span style=\"background-color:rgba(135,206,250,0.00021482120238800755);\">a</span> <span style=\"background-color:rgba(135,206,250,0.14522965205958466);\">major</span> <span style=\"background-color:rgba(135,206,250,0.09642069587512127);\">championship</span> <span style=\"background-color:rgba(135,206,250,0.008505166654819691);\">since</span> <span style=\"background-color:rgba(135,206,250,0.05762060829909604);\">his</span> <span style=\"background-color:rgba(135,206,250,0.009553804384453551);\">triumph</span> <span style=\"background-color:rgba(135,206,250,0.039062596643242964);\">at</span> <span style=\"background-color:rgba(135,206,250,0.013070162274769502);\">the</span> <span style=\"background-color:rgba(135,206,250,0.0055894920533443105);\">2002</span> <span style=\"background-color:rgba(135,206,250,0.16180719462495616);\">U.S.</span> <span style=\"background-color:rgba(135,206,250,0.06158485836965454);\">Open</span> <span style=\"background-color:rgba(135,206,250,0.0020353461903994874);\">.</span>"
            ],
            "text/plain": [
              "<IPython.core.display.HTML object>"
            ]
          },
          "metadata": {
            "tags": []
          }
        },
        {
          "output_type": "stream",
          "text": [
            "None\n"
          ],
          "name": "stdout"
        },
        {
          "output_type": "display_data",
          "data": {
            "text/html": [
              "<span style=\"background-color:rgba(135,206,250,0.09049552592799501);\">AFP</span> <span style=\"background-color:rgba(135,206,250,0.0105327500687801);\">-</span> <span style=\"background-color:rgba(135,206,250,0.12285781051341366);\">India</span> <span style=\"background-color:rgba(135,206,250,0.0602885242889112);\">&#x27;s</span> <span style=\"background-color:rgba(135,206,250,0.12502446478774293);\">Tata</span> <span style=\"background-color:rgba(135,206,250,0.3381583170708006);\">Iron</span> <span style=\"background-color:rgba(135,206,250,0.08142317809503095);\">and</span> <span style=\"background-color:rgba(135,206,250,0.11734792007850327);\">Steel</span> <span style=\"background-color:rgba(135,206,250,0.11345708545825987);\">Company</span> <span style=\"background-color:rgba(135,206,250,0.15127953556744564);\">Ltd.</span> <span style=\"background-color:rgba(135,206,250,0.10269222829020239);\">took</span> <span style=\"background-color:rgba(135,206,250,0.0005404418680354669);\">a</span> <span style=\"background-color:rgba(135,206,250,0.10762856778373683);\">strategic</span> <span style=\"background-color:rgba(135,206,250,0.03786574715260194);\">step</span> <span style=\"background-color:rgba(135,206,250,0.0006438606230558315);\">to</span> <span style=\"background-color:rgba(135,206,250,0.08824609539708976);\">expand</span> <span style=\"background-color:rgba(135,206,250,0.012870276895911938);\">its</span> <span style=\"background-color:rgba(135,206,250,0.004555950496310484);\">Asian</span> <span style=\"background-color:rgba(135,206,250,0.1924418257758655);\">footprint</span> <span style=\"background-color:rgba(135,206,250,0.006364351109562916);\">with</span> <span style=\"background-color:rgba(135,206,250,7.321704034185601e-05);\">the</span> <span style=\"background-color:rgba(135,206,250,0.028101958490612602);\">announcement</span> <span style=\"background-color:rgba(135,206,250,0.0004542119077908785);\">it</span> <span style=\"background-color:rgba(135,206,250,0.0018835187857252507);\">will</span> <span style=\"background-color:rgba(135,206,250,0.04807797476043701);\">buy</span> <span style=\"background-color:rgba(135,206,250,0.00044884411102761327);\">the</span> <span style=\"background-color:rgba(135,206,250,0.02152701802773093);\">Asia</span> <span style=\"background-color:rgba(135,206,250,0.007838017840636433);\">-</span> <span style=\"background-color:rgba(135,206,250,0.06700380287882235);\">Pacific</span> <span style=\"background-color:rgba(135,206,250,0.05130437545564188);\">steel</span> <span style=\"background-color:rgba(135,206,250,0.06818901185639947);\">operations</span> <span style=\"background-color:rgba(135,206,250,0.009336119096164257);\">of</span> <span style=\"background-color:rgba(135,206,250,0.015452328356311214);\">Singapore</span> <span style=\"background-color:rgba(135,206,250,0.0038550671104227727);\">&#x27;s</span> <span style=\"background-color:rgba(135,206,250,0.2713408977072318);\">NatSteel</span> <span style=\"background-color:rgba(135,206,250,0.14039929995388015);\">Ltd.</span>"
            ],
            "text/plain": [
              "<IPython.core.display.HTML object>"
            ]
          },
          "metadata": {
            "tags": []
          }
        },
        {
          "output_type": "stream",
          "text": [
            "None\n"
          ],
          "name": "stdout"
        },
        {
          "output_type": "display_data",
          "data": {
            "text/html": [
              "<span style=\"background-color:rgba(135,206,250,0.07657014680912334);\">AFP</span> <span style=\"background-color:rgba(135,206,250,0.007282080337700648);\">-</span> <span style=\"background-color:rgba(135,206,250,0.1156599954606545);\">India</span> <span style=\"background-color:rgba(135,206,250,0.0558027833159701);\">&#x27;s</span> <span style=\"background-color:rgba(135,206,250,0.11968758125998749);\">Tata</span> <span style=\"background-color:rgba(135,206,250,0.3140713334692659);\">Iron</span> <span style=\"background-color:rgba(135,206,250,0.07209660227362);\">and</span> <span style=\"background-color:rgba(135,206,250,0.11178377591204383);\">Steel</span> <span style=\"background-color:rgba(135,206,250,0.10432218469266567);\">Company</span> <span style=\"background-color:rgba(135,206,250,0.14180372437791294);\">Ltd.</span> <span style=\"background-color:rgba(135,206,250,0.09451784080046269);\">took</span> <span style=\"background-color:rgba(135,206,250,0.0005342213635934326);\">a</span> <span style=\"background-color:rgba(135,206,250,0.0975804492298812);\">strategic</span> <span style=\"background-color:rgba(135,206,250,0.03530572242043233);\">step</span> <span style=\"background-color:rgba(135,206,250,0.0005043672463644305);\">to</span> <span style=\"background-color:rgba(135,206,250,0.08560206025346771);\">expand</span> <span style=\"background-color:rgba(135,206,250,0.013181354181791944);\">its</span> <span style=\"background-color:rgba(135,206,250,0.003258351784570249);\">Asian</span> <span style=\"background-color:rgba(135,206,250,0.19824104847346885);\">footprint</span> <span style=\"background-color:rgba(135,206,250,0.008299971566213248);\">with</span> <span style=\"background-color:rgba(135,206,250,9.748456061739551e-05);\">the</span> <span style=\"background-color:rgba(135,206,250,0.03444024748468099);\">announcement</span> <span style=\"background-color:rgba(135,206,250,0.009770745050037248);\">it</span> <span style=\"background-color:rgba(135,206,250,0.12351998689715742);\">&#x27;ll</span> <span style=\"background-color:rgba(135,206,250,0.05424954210858109);\">buy</span> <span style=\"background-color:rgba(135,206,250,0.0005349842554293726);\">the</span> <span style=\"background-color:rgba(135,206,250,0.024742179360985234);\">Asia</span> <span style=\"background-color:rgba(135,206,250,0.007046509851698159);\">-</span> <span style=\"background-color:rgba(135,206,250,0.06660965077733408);\">Pacific</span> <span style=\"background-color:rgba(135,206,250,0.04744932969201015);\">steel</span> <span style=\"background-color:rgba(135,206,250,0.06328485974165715);\">operations</span> <span style=\"background-color:rgba(135,206,250,0.00963889906830318);\">of</span> <span style=\"background-color:rgba(135,206,250,0.01531287819535577);\">Singapore</span> <span style=\"background-color:rgba(135,206,250,0.003423151439612992);\">&#x27;s</span> <span style=\"background-color:rgba(135,206,250,0.25250057286488964);\">NatSteel</span> <span style=\"background-color:rgba(135,206,250,0.13127339718939923);\">Ltd.</span>"
            ],
            "text/plain": [
              "<IPython.core.display.HTML object>"
            ]
          },
          "metadata": {
            "tags": []
          }
        },
        {
          "output_type": "stream",
          "text": [
            "None\n"
          ],
          "name": "stdout"
        },
        {
          "output_type": "display_data",
          "data": {
            "text/html": [
              "<span style=\"background-color:rgba(135,206,250,0.10656817416652031);\">In</span> <span style=\"background-color:rgba(135,206,250,0.030058394951430558);\">another</span> <span style=\"background-color:rgba(135,206,250,0.01994816132847196);\">product</span> <span style=\"background-color:rgba(135,206,250,0.01660371667804684);\">postponement</span> <span style=\"background-color:rgba(135,206,250,0.010432785840494918);\">,</span> <span style=\"background-color:rgba(135,206,250,0.10156369224948504);\">semiconductor</span> <span style=\"background-color:rgba(135,206,250,0.5871871228156175);\">giant</span> <span style=\"background-color:rgba(135,206,250,0.05685234947792277);\">Intel</span> <span style=\"background-color:rgba(135,206,250,0.11046333473394221);\">Corp.</span> <span style=\"background-color:rgba(135,206,250,0.08525715572849209);\">said</span> <span style=\"background-color:rgba(135,206,250,0.007147487351098373);\">it</span> <span style=\"background-color:rgba(135,206,250,0.07451224880319997);\">wo</span> <span style=\"background-color:rgba(135,206,250,0.007168912553260867);\">n&#x27;t</span> <span style=\"background-color:rgba(135,206,250,0.005041706630410093);\">be</span> <span style=\"background-color:rgba(135,206,250,0.044093217287134244);\">offering</span> <span style=\"background-color:rgba(135,206,250,0.0022739336366848447);\">a</span> <span style=\"background-color:rgba(135,206,250,0.3210182234737244);\">chip</span> <span style=\"background-color:rgba(135,206,250,0.07664653502018694);\">for</span> <span style=\"background-color:rgba(135,206,250,0.2968541578994179);\">projection</span> <span style=\"background-color:rgba(135,206,250,0.23316019103738655);\">TVs</span> <span style=\"background-color:rgba(135,206,250,0.01957847156566814);\">by</span> <span style=\"background-color:rgba(135,206,250,0.001979954131767729);\">the</span> <span style=\"background-color:rgba(135,206,250,0.005013341868282469);\">end</span> <span style=\"background-color:rgba(135,206,250,0.026262178908309085);\">of</span> <span style=\"background-color:rgba(135,206,250,0.0020482803092571823);\">2004</span> <span style=\"background-color:rgba(135,206,250,0.002747306411821275);\">as</span> <span style=\"background-color:rgba(135,206,250,0.0007914459176275283);\">it</span> <span style=\"background-color:rgba(135,206,250,0.15873564272837176);\">had</span> <span style=\"background-color:rgba(135,206,250,0.02198354713186885);\">announced</span> <span style=\"background-color:rgba(135,206,250,0.0009155051899334256);\">earlier</span> <span style=\"background-color:rgba(135,206,250,0.029069920144053716);\">this</span> <span style=\"background-color:rgba(135,206,250,0.023764069652992784);\">year</span> <span style=\"background-color:rgba(135,206,250,0.014258822824312562);\">.</span>"
            ],
            "text/plain": [
              "<IPython.core.display.HTML object>"
            ]
          },
          "metadata": {
            "tags": []
          }
        },
        {
          "output_type": "stream",
          "text": [
            "None\n"
          ],
          "name": "stdout"
        },
        {
          "output_type": "display_data",
          "data": {
            "text/html": [
              "<span style=\"background-color:rgba(135,206,250,0.09664353419441611);\">In</span> <span style=\"background-color:rgba(135,206,250,0.029778462854714756);\">another</span> <span style=\"background-color:rgba(135,206,250,0.02132291691816259);\">product</span> <span style=\"background-color:rgba(135,206,250,0.03514693084927008);\">postponement</span> <span style=\"background-color:rgba(135,206,250,0.007737644404818092);\">,</span> <span style=\"background-color:rgba(135,206,250,0.11723106706800018);\">semiconductor</span> <span style=\"background-color:rgba(135,206,250,0.5998688099124627);\">giant</span> <span style=\"background-color:rgba(135,206,250,0.05756631631567159);\">Intel</span> <span style=\"background-color:rgba(135,206,250,0.1035413389245416);\">Corp.</span> <span style=\"background-color:rgba(135,206,250,0.10330570718101582);\">said</span> <span style=\"background-color:rgba(135,206,250,0.010660603526296709);\">it</span> <span style=\"background-color:rgba(135,206,250,0.026905443980105272);\">will</span> <span style=\"background-color:rgba(135,206,250,0.019038243233631024);\">not</span> <span style=\"background-color:rgba(135,206,250,0.011861848304443933);\">be</span> <span style=\"background-color:rgba(135,206,250,0.05946351567671001);\">offering</span> <span style=\"background-color:rgba(135,206,250,0.0016088701644909693);\">a</span> <span style=\"background-color:rgba(135,206,250,0.32683416344163013);\">chip</span> <span style=\"background-color:rgba(135,206,250,0.07598689361511476);\">for</span> <span style=\"background-color:rgba(135,206,250,0.286141080428445);\">projection</span> <span style=\"background-color:rgba(135,206,250,0.22288146766542688);\">TVs</span> <span style=\"background-color:rgba(135,206,250,0.018627724062747077);\">by</span> <span style=\"background-color:rgba(135,206,250,0.0017237625399240575);\">the</span> <span style=\"background-color:rgba(135,206,250,0.005648096189363228);\">end</span> <span style=\"background-color:rgba(135,206,250,0.02555509681574756);\">of</span> <span style=\"background-color:rgba(135,206,250,0.002459622931580988);\">2004</span> <span style=\"background-color:rgba(135,206,250,0.002633988725342726);\">as</span> <span style=\"background-color:rgba(135,206,250,0.0008978121684240955);\">it</span> <span style=\"background-color:rgba(135,206,250,0.14562744098261737);\">had</span> <span style=\"background-color:rgba(135,206,250,0.017930566631599545);\">announced</span> <span style=\"background-color:rgba(135,206,250,0.005408166779238695);\">earlier</span> <span style=\"background-color:rgba(135,206,250,0.02761171430465622);\">this</span> <span style=\"background-color:rgba(135,206,250,0.020982193616380828);\">year</span> <span style=\"background-color:rgba(135,206,250,0.01136883291207153);\">.</span>"
            ],
            "text/plain": [
              "<IPython.core.display.HTML object>"
            ]
          },
          "metadata": {
            "tags": []
          }
        },
        {
          "output_type": "stream",
          "text": [
            "None\n"
          ],
          "name": "stdout"
        }
      ]
    },
    {
      "cell_type": "markdown",
      "metadata": {
        "id": "qDejZ4uSCQQZ"
      },
      "source": [
        "# Manual perturbations"
      ]
    },
    {
      "cell_type": "code",
      "metadata": {
        "id": "Cj8tzhz95HfE",
        "colab": {
          "base_uri": "https://localhost:8080/",
          "height": 54
        },
        "outputId": "b834ce8f-ee71-4e0c-ced4-93331202dde1"
      },
      "source": [
        "# select sentence from sample\n",
        "sentence = sample[12]\n",
        "sentence"
      ],
      "execution_count": null,
      "outputs": [
        {
          "output_type": "execute_result",
          "data": {
            "application/vnd.google.colaboratory.intrinsic+json": {
              "type": "string"
            },
            "text/plain": [
              "\" AMSTERDAM (Reuters) - Free Record Shop, a Dutch music  retail chain, beat Apple Computer Inc. to market on Tuesday  with the launch of a new download service in Europe's latest  battleground for digital song services.\""
            ]
          },
          "metadata": {
            "tags": []
          },
          "execution_count": 26
        }
      ]
    },
    {
      "cell_type": "code",
      "metadata": {
        "id": "YggPBe2CCWJ5"
      },
      "source": [
        "tokens = [str(x) for x in tokenizer.tokenize(sentence)]\n",
        "\n",
        "print(predictor.predict(sentence=sentence)['label'])\n",
        "grad_orig = SimpleGradient(predictor).saliency_interpret_from_json({'Description':sentence})\n",
        "gradient_list_orig = np.array(grad_orig['instance_1']['grad_input_1'])\n",
        "\n",
        "visualise_weights(tokens, gradient_list_orig)\n",
        "\n",
        "# example: changing week day fromm Tuesday to Wednesday\n",
        "perturbed_sentence = \"AMSTERDAM (Reuters) - Free Record Shop, a Dutch music  retail chain, beat Apple Computer Inc. to market on Wednesday  with the launch of a new download service in Europe's latest  battleground for digital song services.\"\n",
        "\n",
        "tokens = [str(x) for x in tokenizer.tokenize(perturbed_sentence)]\n",
        "print(predictor.predict(sentence=perturbed_sentence)['label'])\n",
        "\n",
        "grad_pert = SimpleGradient(predictor).saliency_interpret_from_json({'Description': perturbed_sentence})\n",
        "gradient_list_pert = np.array(grad_pert['instance_1']['grad_input_1'])\n",
        "\n",
        "visualise_weights(tokens, gradient_list_pert)"
      ],
      "execution_count": null,
      "outputs": []
    },
    {
      "cell_type": "code",
      "metadata": {
        "colab": {
          "base_uri": "https://localhost:8080/"
        },
        "id": "ABYNvbn4CZyl",
        "outputId": "6d17b41d-5d6e-466f-99d2-736219d3fd60"
      },
      "source": [
        "spearmanr(gradient_list_orig, gradient_list_pert)"
      ],
      "execution_count": null,
      "outputs": [
        {
          "output_type": "execute_result",
          "data": {
            "text/plain": [
              "SpearmanrResult(correlation=0.9682486631016043, pvalue=3.1728391771495316e-20)"
            ]
          },
          "metadata": {
            "tags": []
          },
          "execution_count": 27
        }
      ]
    }
  ]
}