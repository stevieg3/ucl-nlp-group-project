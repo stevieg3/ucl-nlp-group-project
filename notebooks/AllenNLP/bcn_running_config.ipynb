{
  "nbformat": 4,
  "nbformat_minor": 0,
  "metadata": {
    "colab": {
      "name": "bcn_running_config.ipynb",
      "provenance": [],
      "collapsed_sections": [],
      "toc_visible": true
    },
    "kernelspec": {
      "name": "python3",
      "display_name": "Python 3"
    },
    "language_info": {
      "name": "python"
    }
  },
  "cells": [
    {
      "cell_type": "markdown",
      "metadata": {
        "id": "tlXRAB_l6jcP"
      },
      "source": [
        "# Set-up"
      ]
    },
    {
      "cell_type": "markdown",
      "metadata": {
        "id": "VOOQ9-ir1CIi"
      },
      "source": [
        "Change the working directory to the one where you saved your files"
      ]
    },
    {
      "cell_type": "code",
      "metadata": {
        "colab": {
          "base_uri": "https://localhost:8080/"
        },
        "id": "gKDX-Knt6bJL",
        "outputId": "6e5259db-a6b2-4caa-8f0b-8591b2785a58"
      },
      "source": [
        "cd /content/drive/MyDrive/COMP0087/allenNLP/BCN"
      ],
      "execution_count": 6,
      "outputs": [
        {
          "output_type": "stream",
          "text": [
            "/content/drive/MyDrive/COMP0087/allenNLP/BCN\n"
          ],
          "name": "stdout"
        }
      ]
    },
    {
      "cell_type": "code",
      "metadata": {
        "id": "oMzshnvEBzxK"
      },
      "source": [
        "from torch import nn\n",
        "import torch.optim as optim\n",
        "import numpy as np\n",
        "import spacy\n",
        "nlp = spacy.load('en_core_web_sm')\n",
        "import pandas as pd"
      ],
      "execution_count": 7,
      "outputs": []
    },
    {
      "cell_type": "markdown",
      "metadata": {
        "id": "x_1KeiKqB28_"
      },
      "source": [
        "Change path below as needed"
      ]
    },
    {
      "cell_type": "code",
      "metadata": {
        "id": "p0N7Dkup24-_"
      },
      "source": [
        "test_set = pd.read_json('/content/drive/MyDrive/COMP0087/data/test.jsonl', orient='records', lines=True)"
      ],
      "execution_count": 8,
      "outputs": []
    },
    {
      "cell_type": "code",
      "metadata": {
        "id": "h1XdJXJ8imFB"
      },
      "source": [
        "%%shell\n",
        "pip install allennlp==2.2.0 allennlp-models==2.2.0"
      ],
      "execution_count": null,
      "outputs": []
    },
    {
      "cell_type": "code",
      "metadata": {
        "id": "M6RPo9iFxHDm"
      },
      "source": [
        "# imports from allennlp\n",
        "from allennlp.models.archival import load_archive\n",
        "from allennlp.common.util import JsonDict\n",
        "from allennlp.data import Instance\n",
        "from allennlp.predictors.predictor import Predictor\n",
        "from allennlp.data.fields import LabelField\n",
        "from allennlp.data.tokenizers.spacy_tokenizer import SpacyTokenizer\n",
        "\n",
        "from typing import List, Dict\n",
        "\n",
        "from overrides import overrides\n",
        "\n",
        "from allennlp.interpret.attackers import Attacker, InputReduction\n",
        "\n",
        "from allennlp.interpret.saliency_interpreters import SimpleGradient\n",
        "\n",
        "tokenizer = SpacyTokenizer()"
      ],
      "execution_count": 10,
      "outputs": []
    },
    {
      "cell_type": "code",
      "metadata": {
        "id": "bDNBlc1WxSOS"
      },
      "source": [
        "%%shell\n",
        "pip install checklist==0.0.10"
      ],
      "execution_count": null,
      "outputs": []
    },
    {
      "cell_type": "code",
      "metadata": {
        "id": "vEkzeVRhxQ2L"
      },
      "source": [
        "import checklist\n",
        "from checklist.editor import Editor\n",
        "from checklist.perturb import Perturb"
      ],
      "execution_count": 12,
      "outputs": []
    },
    {
      "cell_type": "code",
      "metadata": {
        "id": "Osq1JxTfV5ID"
      },
      "source": [
        "import warnings\n",
        "warnings.filterwarnings('ignore')"
      ],
      "execution_count": 13,
      "outputs": []
    },
    {
      "cell_type": "code",
      "metadata": {
        "id": "02kPpetwu1MS"
      },
      "source": [
        "from scipy.stats import kendalltau\n",
        "from scipy.stats import spearmanr"
      ],
      "execution_count": 14,
      "outputs": []
    },
    {
      "cell_type": "markdown",
      "metadata": {
        "id": "YARtVzSoriw3"
      },
      "source": [
        "Background about model: http://docs.allennlp.org/v0.9.0/api/allennlp.models.biattentive_classification_network.html"
      ]
    },
    {
      "cell_type": "code",
      "metadata": {
        "id": "N2_NLOzJ9hAM"
      },
      "source": [
        "# importing the dataset reader\n",
        "import tagging\n",
        "# importing the BCN model\n",
        "import BCN_model"
      ],
      "execution_count": 15,
      "outputs": []
    },
    {
      "cell_type": "markdown",
      "metadata": {
        "id": "E3eK_W3n9YDL"
      },
      "source": [
        "# Training"
      ]
    },
    {
      "cell_type": "code",
      "metadata": {
        "id": "REzuZd1uj0ad",
        "colab": {
          "base_uri": "https://localhost:8080/"
        },
        "outputId": "213669d3-ffc6-4ef0-e976-20001596f898"
      },
      "source": [
        "# training model\n",
        "# here, the output will be saved to a new folder called 'BCN_output'. You will get an error message if such a directory already exists.\n",
        "!pwd; allennlp train --include-package tagging -s BCN_output_2 config_BCN.jsonnet"
      ],
      "execution_count": 57,
      "outputs": [
        {
          "output_type": "stream",
          "text": [
            "/content/drive/MyDrive/COMP0087/allenNLP/BCN\n",
            "2021-04-13 21:09:39.390690: I tensorflow/stream_executor/platform/default/dso_loader.cc:49] Successfully opened dynamic library libcudart.so.11.0\n",
            "[nltk_data] Downloading package punkt to /root/nltk_data...\n",
            "[nltk_data]   Unzipping tokenizers/punkt.zip.\n",
            "[nltk_data] Downloading package wordnet to /root/nltk_data...\n",
            "[nltk_data]   Package wordnet is already up-to-date!\n",
            "2021-04-13 21:09:42,644 - ERROR - allennlp.common.plugins - Plugin allennlp_models could not be loaded: No module named 'nltk.translate.meteor_score'\n",
            "2021-04-13 21:09:42,894 - INFO - allennlp.common.params - include_in_archive = None\n",
            "2021-04-13 21:09:42,928 - INFO - allennlp.common.params - random_seed = 13370\n",
            "2021-04-13 21:09:42,934 - INFO - allennlp.common.params - numpy_seed = 1337\n",
            "2021-04-13 21:09:42,935 - INFO - allennlp.common.params - pytorch_seed = 133\n",
            "2021-04-13 21:09:42,956 - INFO - allennlp.common.checks - Pytorch version: 1.8.1+cu101\n",
            "2021-04-13 21:09:42,957 - INFO - allennlp.common.params - type = default\n",
            "2021-04-13 21:09:42,958 - INFO - allennlp.common.params - dataset_reader.type = ag_reader\n",
            "2021-04-13 21:09:42,959 - INFO - allennlp.common.params - dataset_reader.max_instances = None\n",
            "2021-04-13 21:09:42,959 - INFO - allennlp.common.params - dataset_reader.manual_distributed_sharding = False\n",
            "2021-04-13 21:09:42,959 - INFO - allennlp.common.params - dataset_reader.manual_multiprocess_sharding = False\n",
            "2021-04-13 21:09:42,960 - INFO - allennlp.common.params - dataset_reader.token_indexers = None\n",
            "2021-04-13 21:09:42,960 - INFO - allennlp.common.params - dataset_reader.tokenizer = None\n",
            "2021-04-13 21:09:42,960 - INFO - allennlp.common.params - dataset_reader.segment_sentences = False\n",
            "2021-04-13 21:09:42,960 - INFO - allennlp.common.params - dataset_reader.max_sequence_length = None\n",
            "2021-04-13 21:09:42,960 - INFO - allennlp.common.params - dataset_reader.skip_label_indexing = False\n",
            "2021-04-13 21:09:44,042 - INFO - allennlp.common.params - train_data_path = /content/drive/MyDrive/COMP0087/data/train.json\n",
            "2021-04-13 21:09:44,044 - INFO - allennlp.common.params - vocabulary = <allennlp.common.lazy.Lazy object at 0x7fd75ca6bbd0>\n",
            "2021-04-13 21:09:44,045 - INFO - allennlp.common.params - datasets_for_vocab_creation = None\n",
            "2021-04-13 21:09:44,045 - INFO - allennlp.common.params - validation_dataset_reader.type = ag_reader\n",
            "2021-04-13 21:09:44,045 - INFO - allennlp.common.params - validation_dataset_reader.max_instances = None\n",
            "2021-04-13 21:09:44,046 - INFO - allennlp.common.params - validation_dataset_reader.manual_distributed_sharding = False\n",
            "2021-04-13 21:09:44,046 - INFO - allennlp.common.params - validation_dataset_reader.manual_multiprocess_sharding = False\n",
            "2021-04-13 21:09:44,046 - INFO - allennlp.common.params - validation_dataset_reader.token_indexers = None\n",
            "2021-04-13 21:09:44,047 - INFO - allennlp.common.params - validation_dataset_reader.tokenizer = None\n",
            "2021-04-13 21:09:44,047 - INFO - allennlp.common.params - validation_dataset_reader.segment_sentences = False\n",
            "2021-04-13 21:09:44,047 - INFO - allennlp.common.params - validation_dataset_reader.max_sequence_length = None\n",
            "2021-04-13 21:09:44,047 - INFO - allennlp.common.params - validation_dataset_reader.skip_label_indexing = False\n",
            "2021-04-13 21:09:44,048 - INFO - allennlp.common.params - validation_data_path = /content/drive/MyDrive/COMP0087/data/val.json\n",
            "2021-04-13 21:09:44,048 - INFO - allennlp.common.params - validation_data_loader = None\n",
            "2021-04-13 21:09:44,049 - INFO - allennlp.common.params - test_data_path = None\n",
            "2021-04-13 21:09:44,049 - INFO - allennlp.common.params - evaluate_on_test = False\n",
            "2021-04-13 21:09:44,050 - INFO - allennlp.common.params - batch_weight_key = \n",
            "2021-04-13 21:09:44,050 - INFO - allennlp.common.params - data_loader.type = multiprocess\n",
            "2021-04-13 21:09:44,051 - INFO - allennlp.common.params - data_loader.batch_size = None\n",
            "2021-04-13 21:09:44,051 - INFO - allennlp.common.params - data_loader.drop_last = False\n",
            "2021-04-13 21:09:44,051 - INFO - allennlp.common.params - data_loader.shuffle = False\n",
            "2021-04-13 21:09:44,052 - INFO - allennlp.common.params - data_loader.batch_sampler.type = bucket\n",
            "2021-04-13 21:09:44,052 - INFO - allennlp.common.params - data_loader.batch_sampler.batch_size = 100\n",
            "2021-04-13 21:09:44,053 - INFO - allennlp.common.params - data_loader.batch_sampler.sorting_keys = None\n",
            "2021-04-13 21:09:44,053 - INFO - allennlp.common.params - data_loader.batch_sampler.padding_noise = 0.1\n",
            "2021-04-13 21:09:44,053 - INFO - allennlp.common.params - data_loader.batch_sampler.drop_last = False\n",
            "2021-04-13 21:09:44,054 - INFO - allennlp.common.params - data_loader.batches_per_epoch = None\n",
            "2021-04-13 21:09:44,054 - INFO - allennlp.common.params - data_loader.num_workers = 0\n",
            "2021-04-13 21:09:44,055 - INFO - allennlp.common.params - data_loader.max_instances_in_memory = None\n",
            "2021-04-13 21:09:44,055 - INFO - allennlp.common.params - data_loader.start_method = fork\n",
            "2021-04-13 21:09:44,055 - INFO - allennlp.common.params - data_loader.cuda_device = None\n",
            "loading instances: 1065it [00:14, 87.66it/s]Traceback (most recent call last):\n",
            "  File \"/usr/local/bin/allennlp\", line 8, in <module>\n",
            "    sys.exit(run())\n",
            "  File \"/usr/local/lib/python3.7/dist-packages/allennlp/__main__.py\", line 34, in run\n",
            "    main(prog=\"allennlp\")\n",
            "  File \"/usr/local/lib/python3.7/dist-packages/allennlp/commands/__init__.py\", line 119, in main\n",
            "    args.func(args)\n",
            "  File \"/usr/local/lib/python3.7/dist-packages/allennlp/commands/train.py\", line 119, in train_model_from_args\n",
            "    file_friendly_logging=args.file_friendly_logging,\n",
            "  File \"/usr/local/lib/python3.7/dist-packages/allennlp/commands/train.py\", line 178, in train_model_from_file\n",
            "    file_friendly_logging=file_friendly_logging,\n",
            "  File \"/usr/local/lib/python3.7/dist-packages/allennlp/commands/train.py\", line 242, in train_model\n",
            "    file_friendly_logging=file_friendly_logging,\n",
            "  File \"/usr/local/lib/python3.7/dist-packages/allennlp/commands/train.py\", line 456, in _train_worker\n",
            "    local_rank=process_rank,\n",
            "  File \"/usr/local/lib/python3.7/dist-packages/allennlp/common/from_params.py\", line 593, in from_params\n",
            "    **extras,\n",
            "  File \"/usr/local/lib/python3.7/dist-packages/allennlp/common/from_params.py\", line 623, in from_params\n",
            "    return constructor_to_call(**kwargs)  # type: ignore\n",
            "  File \"/usr/local/lib/python3.7/dist-packages/allennlp/commands/train.py\", line 658, in from_partial_objects\n",
            "    \"train\": data_loader.construct(reader=dataset_reader, data_path=train_data_path)\n",
            "  File \"/usr/local/lib/python3.7/dist-packages/allennlp/common/lazy.py\", line 80, in construct\n",
            "    return self.constructor(**contructor_kwargs)\n",
            "  File \"/usr/local/lib/python3.7/dist-packages/allennlp/common/lazy.py\", line 66, in constructor_to_use\n",
            "    **kwargs,\n",
            "  File \"/usr/local/lib/python3.7/dist-packages/allennlp/common/from_params.py\", line 593, in from_params\n",
            "    **extras,\n",
            "  File \"/usr/local/lib/python3.7/dist-packages/allennlp/common/from_params.py\", line 623, in from_params\n",
            "    return constructor_to_call(**kwargs)  # type: ignore\n",
            "  File \"/usr/local/lib/python3.7/dist-packages/allennlp/data/data_loaders/multiprocess_data_loader.py\", line 281, in __init__\n",
            "    deque(self.iter_instances(), maxlen=0)\n",
            "  File \"/usr/local/lib/python3.7/dist-packages/allennlp/data/data_loaders/multiprocess_data_loader.py\", line 350, in iter_instances\n",
            "    self.reader.read(self.data_path), desc=\"loading instances\"\n",
            "  File \"/usr/local/lib/python3.7/dist-packages/tqdm/std.py\", line 1104, in __iter__\n",
            "    for obj in iterable:\n",
            "  File \"/usr/local/lib/python3.7/dist-packages/allennlp/data/dataset_readers/dataset_reader.py\", line 192, in read\n",
            "    for instance in self._multi_worker_islice(self._read(file_path)):  # type: ignore\n",
            "  File \"/content/drive/MyDrive/COMP0087/allenNLP/BCN/tagging/dataset_readers/agnews_reader.py\", line 80, in _read\n",
            "    instance = self.text_to_instance(text=text, label=label)\n",
            "  File \"/content/drive/MyDrive/COMP0087/allenNLP/BCN/tagging/dataset_readers/agnews_reader.py\", line 121, in text_to_instance\n",
            "    tokens = self._tokenizer.tokenize(text)\n",
            "  File \"/usr/local/lib/python3.7/dist-packages/allennlp/data/tokenizers/spacy_tokenizer.py\", line 116, in tokenize\n",
            "    return self._sanitize(_remove_spaces(self.spacy(text)))\n",
            "  File \"/usr/local/lib/python3.7/dist-packages/spacy/language.py\", line 431, in __call__\n",
            "    doc = self.make_doc(text)\n",
            "  File \"/usr/local/lib/python3.7/dist-packages/spacy/language.py\", line 457, in make_doc\n",
            "    return self.tokenizer(text)\n",
            "  File \"tokenizer.pyx\", line 133, in spacy.tokenizer.Tokenizer.__call__\n",
            "  File \"doc.pyx\", line 206, in spacy.tokens.doc.Doc.__init__\n",
            "  File \"doc.pyx\", line 84, in spacy.tokens.doc._get_chunker\n",
            "  File \"/usr/local/lib/python3.7/dist-packages/spacy/util.py\", line 70, in get_lang_class\n",
            "    if lang in registry.languages:\n",
            "  File \"/usr/local/lib/python3.7/dist-packages/catalogue.py\", line 56, in __contains__\n",
            "    has_entry_point = self.entry_points and self.get_entry_point(name)\n",
            "  File \"/usr/local/lib/python3.7/dist-packages/catalogue.py\", line 138, in get_entry_point\n",
            "    for entry_point in AVAILABLE_ENTRY_POINTS.get(self.entry_point_namespace, []):\n",
            "  File \"/usr/local/lib/python3.7/dist-packages/importlib_metadata/__init__.py\", line 312, in get\n",
            "    flake8_bypass(self._warn)()\n",
            "  File \"/usr/local/lib/python3.7/dist-packages/importlib_metadata/__init__.py\", line 273, in flake8_bypass\n",
            "    is_flake8 = any('flake8' in str(frame.filename) for frame in inspect.stack()[:5])\n",
            "  File \"/usr/lib/python3.7/inspect.py\", line 1513, in stack\n",
            "    return getouterframes(sys._getframe(1), context)\n",
            "  File \"/usr/lib/python3.7/inspect.py\", line 1490, in getouterframes\n",
            "    frameinfo = (frame,) + getframeinfo(frame, context)\n",
            "  File \"/usr/lib/python3.7/inspect.py\", line 1464, in getframeinfo\n",
            "    lines, lnum = findsource(frame)\n",
            "  File \"/usr/lib/python3.7/inspect.py\", line 771, in findsource\n",
            "    linecache.checkcache(file)\n",
            "  File \"/usr/lib/python3.7/linecache.py\", line 74, in checkcache\n",
            "    stat = os.stat(fullname)\n",
            "KeyboardInterrupt\n",
            "loading instances: 1065it [00:14, 72.53it/s]\n"
          ],
          "name": "stdout"
        }
      ]
    },
    {
      "cell_type": "markdown",
      "metadata": {
        "id": "9KAf30nQ-HGa"
      },
      "source": [
        "# Predictions"
      ]
    },
    {
      "cell_type": "code",
      "metadata": {
        "id": "jtuiSt0r88NH"
      },
      "source": [
        "@Predictor.register('ag_text_classifier')\n",
        "class AGNewsClassifier(Predictor):\n",
        "    \"\"\"\n",
        "    Predictor for any model that takes in a sentence and returns\n",
        "    a single class for it.  In particular, it can be used with\n",
        "    the [`BasicClassifier`](../models/basic_classifier.md) model.\n",
        "\n",
        "    \"\"\"\n",
        "\n",
        "    def predict(self, sentence: str) -> JsonDict:\n",
        "        return self.predict_json({\"Description\": sentence})\n",
        "\n",
        "    @overrides\n",
        "    def _json_to_instance(self, json_dict: JsonDict) -> Instance:\n",
        "        \"\"\"\n",
        "        Expects JSON that looks like `{\"sentence\": \"...\"}`.\n",
        "        Runs the underlying model, and adds the `\"label\"` to the output.\n",
        "        \"\"\"\n",
        "        sentence = json_dict[\"Description\"]\n",
        "        reader_has_tokenizer = (\n",
        "            getattr(self._dataset_reader, \"tokenizer\", None) is not None\n",
        "            or getattr(self._dataset_reader, \"_tokenizer\", None) is not None\n",
        "        )\n",
        "        if not reader_has_tokenizer:\n",
        "            tokenizer = SpacyTokenizer()\n",
        "            sentence = tokenizer.tokenize(sentence)\n",
        "        return self._dataset_reader.text_to_instance(sentence)\n",
        "\n",
        "    @overrides\n",
        "    def predictions_to_labeled_instances(\n",
        "        self, instance: Instance, outputs: Dict[str, np.ndarray]\n",
        "    ) -> List[Instance]:\n",
        "        new_instance = instance.duplicate()\n",
        "        label = np.argmax(outputs[\"class_probabilities\"])\n",
        "        new_instance.add_field(\"label\", LabelField(int(label), skip_indexing=True))\n",
        "        return [new_instance]"
      ],
      "execution_count": 16,
      "outputs": []
    },
    {
      "cell_type": "code",
      "metadata": {
        "id": "RFbFxippbuWV"
      },
      "source": [
        "archive = load_archive(\"./BCN_output/model.tar.gz\")\n",
        "model = archive.model\n",
        "vocab = model.vocab"
      ],
      "execution_count": 17,
      "outputs": []
    },
    {
      "cell_type": "code",
      "metadata": {
        "id": "6I2Y8xiVsH6W"
      },
      "source": [
        "predictor = Predictor.from_archive(archive, 'ag_text_classifier')"
      ],
      "execution_count": 18,
      "outputs": []
    },
    {
      "cell_type": "code",
      "metadata": {
        "id": "r9606ogA2tbH"
      },
      "source": [
        "sample = []\n",
        "for row in test_set.head(1000).itertuples():\n",
        "  sample.append(row[3])"
      ],
      "execution_count": 23,
      "outputs": []
    },
    {
      "cell_type": "markdown",
      "metadata": {
        "id": "e9_kbyfmCKgB"
      },
      "source": [
        "# Input reduction"
      ]
    },
    {
      "cell_type": "code",
      "metadata": {
        "id": "SNcaEtePRl4G"
      },
      "source": [
        "@Predictor.register('ag_text_classifier_with_input_red')\n",
        "class InputReductionTextClassifierPredictor(AGNewsClassifier):\n",
        "    \n",
        "    def predict_json(self, json_dict: JsonDict) -> JsonDict:\n",
        "        predictor = AGNewsClassifier(self._model, self._dataset_reader)\n",
        "        prediction = predictor.predict(sentence=json_dict['Description'])\n",
        "\n",
        "        attacker = InputReduction(predictor)\n",
        "        attack = attacker.attack_from_json(inputs=json_dict,\n",
        "                                           input_field_to_attack='tokens',\n",
        "                                           grad_input_field='grad_input_1',\n",
        "                                           ignore_tokens=None)\n",
        "\n",
        "        return {'prediction': prediction, 'input_reduction_output': attack}"
      ],
      "execution_count": null,
      "outputs": []
    },
    {
      "cell_type": "code",
      "metadata": {
        "id": "EBPyBfF4tE1P"
      },
      "source": [
        "predictor_with_input_red = Predictor.from_archive(archive, 'ag_text_classifier_with_input_red')"
      ],
      "execution_count": null,
      "outputs": []
    },
    {
      "cell_type": "code",
      "metadata": {
        "id": "SQ7Fe8miYAIK"
      },
      "source": [
        "input = \"The Cleveland Indians pulled within one game of the AL Central lead by beating the Minnesota Twins, 7-1, Saturday night with home runs by Travis Hafner and Victor Martinez.\""
      ],
      "execution_count": null,
      "outputs": []
    },
    {
      "cell_type": "code",
      "metadata": {
        "colab": {
          "base_uri": "https://localhost:8080/"
        },
        "id": "144t41eqpO1T",
        "outputId": "aa590719-5ec9-4d73-9f72-fca8c19f8e73"
      },
      "source": [
        "predictor_with_input_red.predict(input)"
      ],
      "execution_count": null,
      "outputs": [
        {
          "output_type": "execute_result",
          "data": {
            "text/plain": [
              "{'input_reduction_output': {'final': [['pulled', 'Hafner']],\n",
              "  'original': ['The',\n",
              "   'Cleveland',\n",
              "   'Indians',\n",
              "   'pulled',\n",
              "   'within',\n",
              "   'one',\n",
              "   'game',\n",
              "   'of',\n",
              "   'the',\n",
              "   'AL',\n",
              "   'Central',\n",
              "   'lead',\n",
              "   'by',\n",
              "   'beating',\n",
              "   'the',\n",
              "   'Minnesota',\n",
              "   'Twins',\n",
              "   ',',\n",
              "   '7',\n",
              "   '-',\n",
              "   '1',\n",
              "   ',',\n",
              "   'Saturday',\n",
              "   'night',\n",
              "   'with',\n",
              "   'home',\n",
              "   'runs',\n",
              "   'by',\n",
              "   'Travis',\n",
              "   'Hafner',\n",
              "   'and',\n",
              "   'Victor',\n",
              "   'Martinez',\n",
              "   '.']},\n",
              " 'prediction': {'class_probabilities': [0.000256297062151134,\n",
              "   0.9993062019348145,\n",
              "   0.0002524169394746423,\n",
              "   0.00018510186055209488],\n",
              "  'label': '2',\n",
              "  'logits': [-1.1653821468353271,\n",
              "   7.103096961975098,\n",
              "   -1.1806373596191406,\n",
              "   -1.4908137321472168]}}"
            ]
          },
          "metadata": {
            "tags": []
          },
          "execution_count": 15
        }
      ]
    },
    {
      "cell_type": "markdown",
      "metadata": {
        "id": "oC6gSe9xRWia"
      },
      "source": [
        "# Visualisation"
      ]
    },
    {
      "cell_type": "markdown",
      "metadata": {
        "id": "Lc26204rRtVU"
      },
      "source": [
        "Source: https://adataanalyst.com/machine-learning/highlight-text-using-weights/"
      ]
    },
    {
      "cell_type": "code",
      "metadata": {
        "id": "gtonm9haRVkw"
      },
      "source": [
        "import html\n",
        "import random\n",
        "from IPython.core.display import display, HTML"
      ],
      "execution_count": 25,
      "outputs": []
    },
    {
      "cell_type": "code",
      "metadata": {
        "id": "WXExZzDKRpNW"
      },
      "source": [
        "# Prevent special characters like & and < to cause the browser to display something other than what you intended.\n",
        "def html_escape(text):\n",
        "    return html.escape(text)"
      ],
      "execution_count": 26,
      "outputs": []
    },
    {
      "cell_type": "code",
      "metadata": {
        "id": "e2ghrxcdS5EN"
      },
      "source": [
        "def visualise_weights(tokens, gradients, max_alpha = 0.4):\n",
        "  max_alpha = max_alpha \n",
        "  highlighted_text = []\n",
        "  for i in range(len(tokens)):\n",
        "      weight = gradients[i]\n",
        "      highlighted_text.append('<span style=\"background-color:rgba(135,206,250,' + str(weight / max_alpha) + ');\">' + html_escape(tokens[i]) + '</span>')\n",
        "  highlighted_text = ' '.join(highlighted_text)\n",
        "  print(display(HTML(highlighted_text)))"
      ],
      "execution_count": 27,
      "outputs": []
    },
    {
      "cell_type": "markdown",
      "metadata": {
        "id": "7_KMrax3a1Q4"
      },
      "source": [
        "# Checklist"
      ]
    },
    {
      "cell_type": "code",
      "metadata": {
        "id": "J43GKSRLf7UQ"
      },
      "source": [
        "for sentence in sample[:10]:\n",
        "  tokens = [str(x) for x in tokenizer.tokenize(sentence)]\n",
        "  grad = SimpleGradient(predictor).saliency_interpret_from_json({'Description':sentence})\n",
        "  gradient_list = grad['instance_1']['grad_input_1']\n",
        "  visualise_weights(tokens, gradient_list, 0.4)"
      ],
      "execution_count": null,
      "outputs": []
    },
    {
      "cell_type": "code",
      "metadata": {
        "id": "Vyd0aXp4i_Ie"
      },
      "source": [
        "pdata = list(nlp.pipe(sample))"
      ],
      "execution_count": null,
      "outputs": []
    },
    {
      "cell_type": "code",
      "metadata": {
        "id": "1MPQ6HELoubj"
      },
      "source": [
        "for i in range(100):\n",
        "  sentence = sample[i]\n",
        "  if Perturb.contractions(sample[i]) != []:\n",
        "\n",
        "    tokens = [str(x) for x in tokenizer.tokenize(sentence)]\n",
        "\n",
        "    grad_orig = SimpleGradient(predictor).saliency_interpret_from_json({'Description':sentence})\n",
        "    gradient_list_orig = np.array(grad_orig['instance_1']['grad_input_1'])\n",
        "\n",
        "    visualise_weights(tokens, gradient_list_orig)\n",
        "\n",
        "    perturbed_sentence = Perturb.contractions(sentence)[0]\n",
        "\n",
        "    tokens = [str(x) for x in tokenizer.tokenize(perturbed_sentence)]\n",
        "\n",
        "    grad_pert = SimpleGradient(predictor).saliency_interpret_from_json({'Description': perturbed_sentence})\n",
        "    gradient_list_pert = np.array(grad_pert['instance_1']['grad_input_1'])\n",
        "\n",
        "    visualise_weights(tokens, gradient_list_pert)"
      ],
      "execution_count": null,
      "outputs": []
    },
    {
      "cell_type": "markdown",
      "metadata": {
        "id": "qDejZ4uSCQQZ"
      },
      "source": [
        "# Manual perturbations"
      ]
    },
    {
      "cell_type": "markdown",
      "metadata": {
        "id": "-7d-WDwmQu5T"
      },
      "source": [
        "- Checklist (contraction, typos, name change, punctuation)\n",
        "- More manual perturbations (gender, temporal)"
      ]
    },
    {
      "cell_type": "code",
      "metadata": {
        "id": "twMiNK_2hWbK"
      },
      "source": [
        "# helper functions\n",
        "\n",
        "punctuation = ['!', '\"', '&', \"'\", '(', ')', ',', '-', '.', '/', ':', ';', '?', '[', ']', '_', '`', '{', '}', '—',\n",
        " '…', '®', '–', '™', '‐']\n",
        "\n",
        "def remove_char(text, char):\n",
        "    \"\"\"Removes characters from a list of string\n",
        "    Inputs: \n",
        "    text: String or list that has strings as elements. Transformation will be applied to all strings.\n",
        "    char: character(s) to be removed. This can be a string, or a list of strings (if multiple characters \n",
        "    need to be removed)\n",
        "    \n",
        "    Output: modified string, or list of modified strings\n",
        "    \"\"\"\n",
        "    if type(text) == str:\n",
        "        text_fun = [text]\n",
        "    else:\n",
        "        text_fun = text\n",
        "    if type(char) == str:\n",
        "        char = [char]\n",
        "    result = text_fun\n",
        "    dummy_string = ''\n",
        "    dummy_dict = dict.fromkeys(char,'')\n",
        "    table = dummy_string.maketrans(dummy_dict)\n",
        "    for i in range(len(text_fun)):\n",
        "        text_fun[i] = text_fun[i].translate(table)\n",
        "    if type(text) == str:\n",
        "        result = text_fun[0]\n",
        "    return result"
      ],
      "execution_count": 20,
      "outputs": []
    },
    {
      "cell_type": "code",
      "metadata": {
        "id": "hRYgV6cFgtmu"
      },
      "source": [
        "def switch_to_lower_case(sentence):\n",
        "  # sentence should be a list of strings\n",
        "  for i in range(len(sentence)):\n",
        "    sentence[i] = sentence[i].lower()\n",
        "  return sentence\n",
        "\n",
        "def remove_comma(sentence):\n",
        "  # sentence should be a list of strings\n",
        "  return remove_char(sentence, ',')\n",
        "\n",
        "def remove_all_punctuation(sentence):\n",
        "  # sentence should be a list of strings\n",
        "  return remove_char(sentence, punctuation)\n",
        "\n",
        "dict_names = {'Jason': 'Kelly', 'Kelly': 'Jason'}\n",
        "\n",
        "def change_name(sentence, dict_names = dict_names):\n",
        "  \"\"\"input: sentence as list of tokens\n",
        "  dict: names to change\"\"\"\n",
        "  for i in range(len(sentence)):\n",
        "    if sentence[i] in dict_names:\n",
        "      sentence[i] = dict_names[sentence[i]]\n",
        "  return sentence\n",
        "\n",
        "dict_pronouns = {'he': 'she', 'him':'her', 'his': 'her', 'she':'he', 'her': 'his', 'hers': 'his'}\n",
        "def change_pronouns(sentence, dict_pronouns = dict_pronouns):\n",
        "  \"\"\"input: sentence as list of tokens\n",
        "  dict: pronouns to change\"\"\"\n",
        "  for i in range(len(sentence)):\n",
        "    if sentence[i] in dict_pronouns:\n",
        "      sentence[i] = dict_pronouns[sentence[i]]\n",
        "  return sentence\n",
        "\n",
        "dict_gender = {}\n",
        "pairs = [['man','woman'],['men','women'],['boy','girl'],['boyfriend','girlfriend'],['wife', 'husband'], ['brother','sister']]\n",
        "for pair in pairs:\n",
        "  dict_gender[pair[0]] = pair[1]\n",
        "  dict_gender[pair[1]] = pair[0]\n",
        "\n",
        "def change_gender(sentence, dict_genders = dict_gender):\n",
        "  \"\"\"input: sentence as list of tokens\n",
        "  dict: words to change\"\"\"\n",
        "  for i in range(len(sentence)):\n",
        "    if sentence[i] in dict_gender:\n",
        "      sentence[i] = dict_gender[sentence[i]]\n",
        "  return sentence"
      ],
      "execution_count": 21,
      "outputs": []
    },
    {
      "cell_type": "code",
      "metadata": {
        "id": "YggPBe2CCWJ5",
        "colab": {
          "base_uri": "https://localhost:8080/",
          "height": 765
        },
        "outputId": "223278a6-d3c2-447e-d4f5-29721646ee84"
      },
      "source": [
        "# select perturbation(s) and add them to the list\n",
        "list_perturbations = [remove_all_punctuation]\n",
        "\n",
        "def perturb(sentence):\n",
        "  for perturbation in list_perturbations:\n",
        "    sentence = perturbation(sentence)\n",
        "  return sentence\n",
        "\n",
        "for s in range(150,160):\n",
        "  sentence_orig = sample[s]\n",
        "\n",
        "  pred_orig = predictor.predict(sentence=sentence_orig)['label']\n",
        "  grad_orig = SimpleGradient(predictor).saliency_interpret_from_json({'Description':sentence_orig})\n",
        "  gradient_list_orig = np.array(grad_orig['instance_1']['grad_input_1'])\n",
        "\n",
        "  tokens_orig = [str(x) for x in tokenizer.tokenize(sentence_orig)]\n",
        "  tokens_pert = tokens_orig.copy()\n",
        "  tokens_pert = perturb(tokens_pert)\n",
        "\n",
        "  change_to_input_or_pred = 0\n",
        "\n",
        "  empty_indices = []\n",
        "  for i in range(len(tokens_pert)):\n",
        "    if tokens_pert[i] == '':\n",
        "      empty_indices.append(i)\n",
        "\n",
        "  for i in reversed(empty_indices):\n",
        "    if gradient_list_orig[i] > 0.04:\n",
        "      change_to_input_or_pred += 1\n",
        "      continue\n",
        "      # print('token', tokens_orig[i], 'with gradient', gradient_list_orig[i], 'removed')\n",
        "  \n",
        "  # remove relevant indices from lists\n",
        "  gradient_list_orig_reduced = np.array([gradient_list_orig[i] for i in range(len(tokens_pert)) if not i in empty_indices])\n",
        "  tokens_orig_reduced = [tokens_orig[i] for i in range(len(tokens_pert)) if not i in empty_indices]\n",
        "  tokens_pert = [tokens_pert[i] for i in range(len(tokens_pert)) if not i in empty_indices]\n",
        "\n",
        "  # generate sentence\n",
        "  sentence_pert = \" \".join(tokens_pert)\n",
        "  pred_pert = predictor.predict(sentence=sentence_pert)['label']\n",
        "\n",
        "  if pred_pert != pred_orig:\n",
        "    change_to_input_or_pred += 1\n",
        "    continue\n",
        "    # print('Prediction has changed')\n",
        "    # print('initial prediction:', pred_orig)\n",
        "    # print(predictor.predict(sentence=sentence_orig)['class_probabilities'])\n",
        "    # print('new prediction:', pred_pert)\n",
        "    # print(predictor.predict(sentence=sentence_pert)['class_probabilities'])\n",
        "\n",
        "  # ignore cases where the prediction has changed or an important token has been removed\n",
        "  if change_to_input_or_pred > 0:\n",
        "    continue\n",
        "\n",
        "  grad_pert = SimpleGradient(predictor).saliency_interpret_from_json({'Description': sentence_pert})\n",
        "  gradient_list_pert = np.array(grad_pert['instance_1']['grad_input_1'])\n",
        "\n",
        "  # normalise initial gradients based on remaining tokens\n",
        "  gradient_list_orig_reduced = gradient_list_orig_reduced/np.sum(gradient_list_orig_reduced)\n",
        "\n",
        "  if len(gradient_list_orig_reduced) == len(gradient_list_pert) and spearmanr(gradient_list_orig_reduced, gradient_list_pert)[0] < 0.85:\n",
        "    print(s)\n",
        "    visualise_weights(tokens_orig, gradient_list_orig)\n",
        "    visualise_weights(tokens_orig_reduced, gradient_list_orig_reduced)\n",
        "    visualise_weights(tokens_pert, gradient_list_pert)"
      ],
      "execution_count": 45,
      "outputs": [
        {
          "output_type": "stream",
          "text": [
            "150\n"
          ],
          "name": "stdout"
        },
        {
          "output_type": "display_data",
          "data": {
            "text/html": [
              "<span style=\"background-color:rgba(135,206,250,0.8614536859924506);\">BOSTON</span> <span style=\"background-color:rgba(135,206,250,0.029273513788290316);\">--</span> <span style=\"background-color:rgba(135,206,250,0.02651366459544013);\">The</span> <span style=\"background-color:rgba(135,206,250,0.004225626934708649);\">Toronto</span> <span style=\"background-color:rgba(135,206,250,0.21607895470065455);\">Blue</span> <span style=\"background-color:rgba(135,206,250,0.29368522786110757);\">Jays</span> <span style=\"background-color:rgba(135,206,250,0.033535121585072755);\">have</span> <span style=\"background-color:rgba(135,206,250,0.04014053357621348);\">had</span> <span style=\"background-color:rgba(135,206,250,0.0673186748991949);\">worse</span> <span style=\"background-color:rgba(135,206,250,0.02777013833609978);\">hitting</span> <span style=\"background-color:rgba(135,206,250,0.2411501630932803);\">games</span> <span style=\"background-color:rgba(135,206,250,0.1226049566866712);\">this</span> <span style=\"background-color:rgba(135,206,250,0.010013213123499804);\">season</span> <span style=\"background-color:rgba(135,206,250,0.13609175870166174);\">against</span> <span style=\"background-color:rgba(135,206,250,0.247133148388249);\">lesser</span> <span style=\"background-color:rgba(135,206,250,0.08261106525915754);\">pitchers</span> <span style=\"background-color:rgba(135,206,250,0.0);\">than</span> <span style=\"background-color:rgba(135,206,250,0.03924834772479987);\">Pedro</span> <span style=\"background-color:rgba(135,206,250,0.0010614039924606484);\">Martinez</span> <span style=\"background-color:rgba(135,206,250,0.020090678000285904);\">.</span>"
            ],
            "text/plain": [
              "<IPython.core.display.HTML object>"
            ]
          },
          "metadata": {
            "tags": []
          }
        },
        {
          "output_type": "stream",
          "text": [
            "None\n"
          ],
          "name": "stdout"
        },
        {
          "output_type": "display_data",
          "data": {
            "text/html": [
              "<span style=\"background-color:rgba(135,206,250,0.8788063553334852);\">BOSTON</span> <span style=\"background-color:rgba(135,206,250,0.02704774189085935);\">The</span> <span style=\"background-color:rgba(135,206,250,0.004310745738132297);\">Toronto</span> <span style=\"background-color:rgba(135,206,250,0.22043153535988888);\">Blue</span> <span style=\"background-color:rgba(135,206,250,0.2996010684132889);\">Jays</span> <span style=\"background-color:rgba(135,206,250,0.034210635412036935);\">have</span> <span style=\"background-color:rgba(135,206,250,0.04094910334339518);\">had</span> <span style=\"background-color:rgba(135,206,250,0.06867470683102944);\">worse</span> <span style=\"background-color:rgba(135,206,250,0.028329525376792467);\">hitting</span> <span style=\"background-color:rgba(135,206,250,0.2460077649698958);\">games</span> <span style=\"background-color:rgba(135,206,250,0.12507464636070703);\">this</span> <span style=\"background-color:rgba(135,206,250,0.010214914014910143);\">season</span> <span style=\"background-color:rgba(135,206,250,0.13883311941227167);\">against</span> <span style=\"background-color:rgba(135,206,250,0.2521112683695334);\">lesser</span> <span style=\"background-color:rgba(135,206,250,0.08427513904822174);\">pitchers</span> <span style=\"background-color:rgba(135,206,250,0.0);\">than</span> <span style=\"background-color:rgba(135,206,250,0.04003894577008627);\">Pedro</span> <span style=\"background-color:rgba(135,206,250,0.0010827843554655435);\">Martinez</span>"
            ],
            "text/plain": [
              "<IPython.core.display.HTML object>"
            ]
          },
          "metadata": {
            "tags": []
          }
        },
        {
          "output_type": "stream",
          "text": [
            "None\n"
          ],
          "name": "stdout"
        },
        {
          "output_type": "display_data",
          "data": {
            "text/html": [
              "<span style=\"background-color:rgba(135,206,250,0.3281557354923916);\">BOSTON</span> <span style=\"background-color:rgba(135,206,250,0.30795724685535647);\">The</span> <span style=\"background-color:rgba(135,206,250,0.6105438948275349);\">Toronto</span> <span style=\"background-color:rgba(135,206,250,0.17359667519764135);\">Blue</span> <span style=\"background-color:rgba(135,206,250,0.10246393955537067);\">Jays</span> <span style=\"background-color:rgba(135,206,250,0.022854885291449117);\">have</span> <span style=\"background-color:rgba(135,206,250,0.05938829325561238);\">had</span> <span style=\"background-color:rgba(135,206,250,0.05541980885474805);\">worse</span> <span style=\"background-color:rgba(135,206,250,0.024260865933177927);\">hitting</span> <span style=\"background-color:rgba(135,206,250,0.17290485747587284);\">games</span> <span style=\"background-color:rgba(135,206,250,0.1237303494484264);\">this</span> <span style=\"background-color:rgba(135,206,250,0.027798832426696046);\">season</span> <span style=\"background-color:rgba(135,206,250,0.12925717790207084);\">against</span> <span style=\"background-color:rgba(135,206,250,0.22111764489167327);\">lesser</span> <span style=\"background-color:rgba(135,206,250,0.032718942995131645);\">pitchers</span> <span style=\"background-color:rgba(135,206,250,0.0);\">than</span> <span style=\"background-color:rgba(135,206,250,0.07739001174795708);\">Pedro</span> <span style=\"background-color:rgba(135,206,250,0.030440676363115222);\">Martinez</span>"
            ],
            "text/plain": [
              "<IPython.core.display.HTML object>"
            ]
          },
          "metadata": {
            "tags": []
          }
        },
        {
          "output_type": "stream",
          "text": [
            "None\n",
            "151\n"
          ],
          "name": "stdout"
        },
        {
          "output_type": "display_data",
          "data": {
            "text/html": [
              "<span style=\"background-color:rgba(135,206,250,0.1780087479809165);\">Renewed</span> <span style=\"background-color:rgba(135,206,250,0.1717300663149099);\">clashes</span> <span style=\"background-color:rgba(135,206,250,0.030240439544483185);\">in</span> <span style=\"background-color:rgba(135,206,250,0.11728469589456852);\">South</span> <span style=\"background-color:rgba(135,206,250,0.1278096977761517);\">Ossetia</span> <span style=\"background-color:rgba(135,206,250,0.007665972334472087);\">,</span> <span style=\"background-color:rgba(135,206,250,0.027906336973312264);\">which</span> <span style=\"background-color:rgba(135,206,250,0.0588923938805392);\">resulted</span> <span style=\"background-color:rgba(135,206,250,0.0028175131412613453);\">in</span> <span style=\"background-color:rgba(135,206,250,0.04792488826457075);\">death</span> <span style=\"background-color:rgba(135,206,250,0.0016546944040252503);\">of</span> <span style=\"background-color:rgba(135,206,250,0.04546896264510067);\">two</span> <span style=\"background-color:rgba(135,206,250,0.02392081140121615);\">Georgian</span> <span style=\"background-color:rgba(135,206,250,0.1400761518799295);\">soldiers</span> <span style=\"background-color:rgba(135,206,250,0.0031836311729278744);\">,</span> <span style=\"background-color:rgba(135,206,250,0.09377745639102432);\">erupted</span> <span style=\"background-color:rgba(135,206,250,0.06846389808367326);\">late</span> <span style=\"background-color:rgba(135,206,250,0.047285798808417163);\">on</span> <span style=\"background-color:rgba(135,206,250,0.06282834541328583);\">August</span> <span style=\"background-color:rgba(135,206,250,0.06170330507819833);\">17</span> <span style=\"background-color:rgba(135,206,250,0.003492161722331361);\">,</span> <span style=\"background-color:rgba(135,206,250,0.018135855557863956);\">several</span> <span style=\"background-color:rgba(135,206,250,0.03207484276552732);\">hours</span> <span style=\"background-color:rgba(135,206,250,0.02967875119973802);\">after</span> <span style=\"background-color:rgba(135,206,250,0.004211702740062562);\">the</span> <span style=\"background-color:rgba(135,206,250,0.028234540456833084);\">South</span> <span style=\"background-color:rgba(135,206,250,0.1171943495408571);\">Ossetian</span> <span style=\"background-color:rgba(135,206,250,0.02662372080626388);\">and</span> <span style=\"background-color:rgba(135,206,250,0.0192750927686217);\">Georgian</span> <span style=\"background-color:rgba(135,206,250,0.06134938007407748);\">officials</span> <span style=\"background-color:rgba(135,206,250,0.01621939821663181);\">agreed</span> <span style=\"background-color:rgba(135,206,250,0.044754208507630705);\">on</span> <span style=\"background-color:rgba(135,206,250,0.0912247793822937);\">ceasefire</span> <span style=\"background-color:rgba(135,206,250,0.07460689385455305);\">.</span> <span style=\"background-color:rgba(135,206,250,0.06754057997613533);\">As</span> <span style=\"background-color:rgba(135,206,250,0.016305395696774368);\">a</span> <span style=\"background-color:rgba(135,206,250,0.004385642736000938);\">result</span> <span style=\"background-color:rgba(135,206,250,0.06873153187022579);\">Tbilisi</span> <span style=\"background-color:rgba(135,206,250,0.014925894268983808);\">has</span> <span style=\"background-color:rgba(135,206,250,0.07171476555839698);\">already</span> <span style=\"background-color:rgba(135,206,250,0.03033655926830604);\">announced</span> <span style=\"background-color:rgba(135,206,250,0.01912858927794387);\">that</span> <span style=\"background-color:rgba(135,206,250,0.015480931930509655);\">it</span> <span style=\"background-color:rgba(135,206,250,0.015951257538061384);\">will</span> <span style=\"background-color:rgba(135,206,250,0.18981628544671447);\">not</span> <span style=\"background-color:rgba(135,206,250,0.09996319225707397);\">...</span>"
            ],
            "text/plain": [
              "<IPython.core.display.HTML object>"
            ]
          },
          "metadata": {
            "tags": []
          }
        },
        {
          "output_type": "stream",
          "text": [
            "None\n"
          ],
          "name": "stdout"
        },
        {
          "output_type": "display_data",
          "data": {
            "text/html": [
              "<span style=\"background-color:rgba(135,206,250,0.19255944385969323);\">Renewed</span> <span style=\"background-color:rgba(135,206,250,0.18576753355476874);\">clashes</span> <span style=\"background-color:rgba(135,206,250,0.03271233738120905);\">in</span> <span style=\"background-color:rgba(135,206,250,0.12687171878278988);\">South</span> <span style=\"background-color:rgba(135,206,250,0.13825704973943004);\">Ossetia</span> <span style=\"background-color:rgba(135,206,250,0.0301874418459383);\">which</span> <span style=\"background-color:rgba(135,206,250,0.063706344445602);\">resulted</span> <span style=\"background-color:rgba(135,206,250,0.0030478207936546187);\">in</span> <span style=\"background-color:rgba(135,206,250,0.05184233885097049);\">death</span> <span style=\"background-color:rgba(135,206,250,0.0017899515490722244);\">of</span> <span style=\"background-color:rgba(135,206,250,0.04918566227293719);\">two</span> <span style=\"background-color:rgba(135,206,250,0.025876133573978048);\">Georgian</span> <span style=\"background-color:rgba(135,206,250,0.15152618177448668);\">soldiers</span> <span style=\"background-color:rgba(135,206,250,0.10144296307936597);\">erupted</span> <span style=\"background-color:rgba(135,206,250,0.07406023742648965);\">late</span> <span style=\"background-color:rgba(135,206,250,0.0511510092862756);\">on</span> <span style=\"background-color:rgba(135,206,250,0.06796402642360036);\">August</span> <span style=\"background-color:rgba(135,206,250,0.06674702364311118);\">17</span> <span style=\"background-color:rgba(135,206,250,0.019618306963859973);\">several</span> <span style=\"background-color:rgba(135,206,250,0.034696687409313046);\">hours</span> <span style=\"background-color:rgba(135,206,250,0.032104735808177395);\">after</span> <span style=\"background-color:rgba(135,206,250,0.004555973493031572);\">the</span> <span style=\"background-color:rgba(135,206,250,0.030542473163086593);\">South</span> <span style=\"background-color:rgba(135,206,250,0.1267739873857504);\">Ossetian</span> <span style=\"background-color:rgba(135,206,250,0.0287999827541033);\">and</span> <span style=\"background-color:rgba(135,206,250,0.020850667093437972);\">Georgian</span> <span style=\"background-color:rgba(135,206,250,0.06636416829058178);\">officials</span> <span style=\"background-color:rgba(135,206,250,0.01754519559155792);\">agreed</span> <span style=\"background-color:rgba(135,206,250,0.048412483085011074);\">on</span> <span style=\"background-color:rgba(135,206,250,0.09868162651175365);\">ceasefire</span> <span style=\"background-color:rgba(135,206,250,0.07306144594399382);\">As</span> <span style=\"background-color:rgba(135,206,250,0.017638222631731034);\">a</span> <span style=\"background-color:rgba(135,206,250,0.004744131599095223);\">result</span> <span style=\"background-color:rgba(135,206,250,0.07434974799089261);\">Tbilisi</span> <span style=\"background-color:rgba(135,206,250,0.016145958735984286);\">has</span> <span style=\"background-color:rgba(135,206,250,0.07757683557177561);\">already</span> <span style=\"background-color:rgba(135,206,250,0.03281631407209202);\">announced</span> <span style=\"background-color:rgba(135,206,250,0.020692188192774894);\">that</span> <span style=\"background-color:rgba(135,206,250,0.016746365989205682);\">it</span> <span style=\"background-color:rgba(135,206,250,0.017255136701040823);\">will</span> <span style=\"background-color:rgba(135,206,250,0.20533214673837585);\">not</span>"
            ],
            "text/plain": [
              "<IPython.core.display.HTML object>"
            ]
          },
          "metadata": {
            "tags": []
          }
        },
        {
          "output_type": "stream",
          "text": [
            "None\n"
          ],
          "name": "stdout"
        },
        {
          "output_type": "display_data",
          "data": {
            "text/html": [
              "<span style=\"background-color:rgba(135,206,250,0.13782900442067153);\">Renewed</span> <span style=\"background-color:rgba(135,206,250,0.1826834744898884);\">clashes</span> <span style=\"background-color:rgba(135,206,250,0.011224374179346467);\">in</span> <span style=\"background-color:rgba(135,206,250,0.10855365833412133);\">South</span> <span style=\"background-color:rgba(135,206,250,0.05000990617963438);\">Ossetia</span> <span style=\"background-color:rgba(135,206,250,0.04846346315250964);\">which</span> <span style=\"background-color:rgba(135,206,250,0.14027683555246467);\">resulted</span> <span style=\"background-color:rgba(135,206,250,0.000338100320120023);\">in</span> <span style=\"background-color:rgba(135,206,250,0.008795094392234897);\">death</span> <span style=\"background-color:rgba(135,206,250,0.0005173092442127815);\">of</span> <span style=\"background-color:rgba(135,206,250,0.0337474397933871);\">two</span> <span style=\"background-color:rgba(135,206,250,0.05954470678412554);\">Georgian</span> <span style=\"background-color:rgba(135,206,250,0.0785740250732279);\">soldiers</span> <span style=\"background-color:rgba(135,206,250,0.0004461492938447428);\">erupted</span> <span style=\"background-color:rgba(135,206,250,0.10350252057954677);\">late</span> <span style=\"background-color:rgba(135,206,250,0.0595025054552948);\">on</span> <span style=\"background-color:rgba(135,206,250,0.05087140018153328);\">August</span> <span style=\"background-color:rgba(135,206,250,0.06697733466803928);\">17</span> <span style=\"background-color:rgba(135,206,250,0.013042107009135915);\">several</span> <span style=\"background-color:rgba(135,206,250,0.020962003430370503);\">hours</span> <span style=\"background-color:rgba(135,206,250,0.028137080327537423);\">after</span> <span style=\"background-color:rgba(135,206,250,0.005574572702320352);\">the</span> <span style=\"background-color:rgba(135,206,250,0.06595993234101025);\">South</span> <span style=\"background-color:rgba(135,206,250,0.11780471781819758);\">Ossetian</span> <span style=\"background-color:rgba(135,206,250,0.03861533097826173);\">and</span> <span style=\"background-color:rgba(135,206,250,0.07176508917920983);\">Georgian</span> <span style=\"background-color:rgba(135,206,250,0.05953965216168932);\">officials</span> <span style=\"background-color:rgba(135,206,250,0.0992899146088372);\">agreed</span> <span style=\"background-color:rgba(135,206,250,0.1035738648512337);\">on</span> <span style=\"background-color:rgba(135,206,250,0.16260959536539862);\">ceasefire</span> <span style=\"background-color:rgba(135,206,250,0.11692148673897135);\">As</span> <span style=\"background-color:rgba(135,206,250,0.025378195507361194);\">a</span> <span style=\"background-color:rgba(135,206,250,0.013401029219139273);\">result</span> <span style=\"background-color:rgba(135,206,250,0.07686690520924076);\">Tbilisi</span> <span style=\"background-color:rgba(135,206,250,0.0360897657690604);\">has</span> <span style=\"background-color:rgba(135,206,250,0.10624109153974344);\">already</span> <span style=\"background-color:rgba(135,206,250,0.09376245388541035);\">announced</span> <span style=\"background-color:rgba(135,206,250,0.02347833973532688);\">that</span> <span style=\"background-color:rgba(135,206,250,0.03567061725587826);\">it</span> <span style=\"background-color:rgba(135,206,250,0.03806144266395487);\">will</span> <span style=\"background-color:rgba(135,206,250,0.0053976334064078655);\">not</span>"
            ],
            "text/plain": [
              "<IPython.core.display.HTML object>"
            ]
          },
          "metadata": {
            "tags": []
          }
        },
        {
          "output_type": "stream",
          "text": [
            "None\n",
            "152\n"
          ],
          "name": "stdout"
        },
        {
          "output_type": "display_data",
          "data": {
            "text/html": [
              "<span style=\"background-color:rgba(135,206,250,0.15732283783136627);\">Paul</span> <span style=\"background-color:rgba(135,206,250,0.4497907312392971);\">Hamm</span> <span style=\"background-color:rgba(135,206,250,0.21237903778479789);\">takes</span> <span style=\"background-color:rgba(135,206,250,0.10162835577258113);\">another</span> <span style=\"background-color:rgba(135,206,250,0.035991631107353345);\">shot</span> <span style=\"background-color:rgba(135,206,250,0.12084792035814723);\">at</span> <span style=\"background-color:rgba(135,206,250,0.10138157014735097);\">history</span> <span style=\"background-color:rgba(135,206,250,0.27733327030637706);\">tonight</span> <span style=\"background-color:rgba(135,206,250,0.02593631669641869);\">,</span> <span style=\"background-color:rgba(135,206,250,0.012724100049375702);\">when</span> <span style=\"background-color:rgba(135,206,250,0.01768654138476553);\">he</span> <span style=\"background-color:rgba(135,206,250,0.04004006202513042);\">&#x27;ll</span> <span style=\"background-color:rgba(135,206,250,0.006067472971343927);\">try</span> <span style=\"background-color:rgba(135,206,250,0.008727385123051186);\">to</span> <span style=\"background-color:rgba(135,206,250,0.011031650816350458);\">become</span> <span style=\"background-color:rgba(135,206,250,0.020672151009559728);\">the</span> <span style=\"background-color:rgba(135,206,250,0.037817350357767426);\">first</span> <span style=\"background-color:rgba(135,206,250,0.07675923647658947);\">American</span> <span style=\"background-color:rgba(135,206,250,0.0010988524161376805);\">to</span> <span style=\"background-color:rgba(135,206,250,0.027703066866921745);\">win</span> <span style=\"background-color:rgba(135,206,250,0.042689170661584876);\">the</span> <span style=\"background-color:rgba(135,206,250,0.1695466682960098);\">Olympic</span> <span style=\"background-color:rgba(135,206,250,0.2231321039498911);\">men</span> <span style=\"background-color:rgba(135,206,250,0.02420251634434846);\">&#x27;s</span> <span style=\"background-color:rgba(135,206,250,0.0571484540781193);\">all</span> <span style=\"background-color:rgba(135,206,250,0.005708216740344903);\">-</span> <span style=\"background-color:rgba(135,206,250,0.11589424929940996);\">around</span> <span style=\"background-color:rgba(135,206,250,0.027665046853248474);\">in</span> <span style=\"background-color:rgba(135,206,250,0.0652350052265585);\">gymnastics</span> <span style=\"background-color:rgba(135,206,250,0.025838829614192458);\">.</span>"
            ],
            "text/plain": [
              "<IPython.core.display.HTML object>"
            ]
          },
          "metadata": {
            "tags": []
          }
        },
        {
          "output_type": "stream",
          "text": [
            "None\n"
          ],
          "name": "stdout"
        },
        {
          "output_type": "display_data",
          "data": {
            "text/html": [
              "<span style=\"background-color:rgba(135,206,250,0.16102536234275838);\">Paul</span> <span style=\"background-color:rgba(135,206,250,0.4603763603212971);\">Hamm</span> <span style=\"background-color:rgba(135,206,250,0.21737728599811174);\">takes</span> <span style=\"background-color:rgba(135,206,250,0.10402013489052328);\">another</span> <span style=\"background-color:rgba(135,206,250,0.03683867847960326);\">shot</span> <span style=\"background-color:rgba(135,206,250,0.12369202356302594);\">at</span> <span style=\"background-color:rgba(135,206,250,0.10376754127302021);\">history</span> <span style=\"background-color:rgba(135,206,250,0.2838601881098466);\">tonight</span> <span style=\"background-color:rgba(135,206,250,0.013023556205694961);\">when</span> <span style=\"background-color:rgba(135,206,250,0.01810278643794108);\">he</span> <span style=\"background-color:rgba(135,206,250,0.04098238745689395);\">&#x27;ll</span> <span style=\"background-color:rgba(135,206,250,0.0062102683067718975);\">try</span> <span style=\"background-color:rgba(135,206,250,0.00893278033320556);\">to</span> <span style=\"background-color:rgba(135,206,250,0.011291275916632707);\">become</span> <span style=\"background-color:rgba(135,206,250,0.021158661085726397);\">the</span> <span style=\"background-color:rgba(135,206,250,0.03870736523790596);\">first</span> <span style=\"background-color:rgba(135,206,250,0.07856573169653301);\">American</span> <span style=\"background-color:rgba(135,206,250,0.001124713429460573);\">to</span> <span style=\"background-color:rgba(135,206,250,0.028355046487486806);\">win</span> <span style=\"background-color:rgba(135,206,250,0.043693841712045725);\">the</span> <span style=\"background-color:rgba(135,206,250,0.17353687533679388);\">Olympic</span> <span style=\"background-color:rgba(135,206,250,0.2283834208949777);\">men</span> <span style=\"background-color:rgba(135,206,250,0.02477211203202841);\">&#x27;s</span> <span style=\"background-color:rgba(135,206,250,0.05849341807018261);\">all</span> <span style=\"background-color:rgba(135,206,250,0.11862177001207601);\">around</span> <span style=\"background-color:rgba(135,206,250,0.02831613168934048);\">in</span> <span style=\"background-color:rgba(135,206,250,0.06677028268011567);\">gymnastics</span>"
            ],
            "text/plain": [
              "<IPython.core.display.HTML object>"
            ]
          },
          "metadata": {
            "tags": []
          }
        },
        {
          "output_type": "stream",
          "text": [
            "None\n"
          ],
          "name": "stdout"
        },
        {
          "output_type": "display_data",
          "data": {
            "text/html": [
              "<span style=\"background-color:rgba(135,206,250,0.0966525860862426);\">Paul</span> <span style=\"background-color:rgba(135,206,250,0.17310980293746855);\">Hamm</span> <span style=\"background-color:rgba(135,206,250,0.08442987635820534);\">takes</span> <span style=\"background-color:rgba(135,206,250,0.02942903896333937);\">another</span> <span style=\"background-color:rgba(135,206,250,0.00019682507318534223);\">shot</span> <span style=\"background-color:rgba(135,206,250,0.08676554831702471);\">at</span> <span style=\"background-color:rgba(135,206,250,0.13697049603386782);\">history</span> <span style=\"background-color:rgba(135,206,250,0.07997217497762153);\">tonight</span> <span style=\"background-color:rgba(135,206,250,0.008128175280305931);\">when</span> <span style=\"background-color:rgba(135,206,250,0.1363640521289255);\">he</span> <span style=\"background-color:rgba(135,206,250,0.37047656322229383);\">ll</span> <span style=\"background-color:rgba(135,206,250,0.005980018875768334);\">try</span> <span style=\"background-color:rgba(135,206,250,0.02237994614177655);\">to</span> <span style=\"background-color:rgba(135,206,250,0.014722861642743052);\">become</span> <span style=\"background-color:rgba(135,206,250,0.01964396695044316);\">the</span> <span style=\"background-color:rgba(135,206,250,0.031991546971814);\">first</span> <span style=\"background-color:rgba(135,206,250,0.07387296929581448);\">American</span> <span style=\"background-color:rgba(135,206,250,0.0036910588582809677);\">to</span> <span style=\"background-color:rgba(135,206,250,0.046433799951579015);\">win</span> <span style=\"background-color:rgba(135,206,250,0.03062236742199919);\">the</span> <span style=\"background-color:rgba(135,206,250,0.17864159188184853);\">Olympic</span> <span style=\"background-color:rgba(135,206,250,0.19501494489210833);\">men</span> <span style=\"background-color:rgba(135,206,250,0.4690816893170916);\">s</span> <span style=\"background-color:rgba(135,206,250,0.02546974738128871);\">all</span> <span style=\"background-color:rgba(135,206,250,0.09174470757657353);\">around</span> <span style=\"background-color:rgba(135,206,250,0.02114570156740827);\">in</span> <span style=\"background-color:rgba(135,206,250,0.06706786700276253);\">gymnastics</span>"
            ],
            "text/plain": [
              "<IPython.core.display.HTML object>"
            ]
          },
          "metadata": {
            "tags": []
          }
        },
        {
          "output_type": "stream",
          "text": [
            "None\n",
            "157\n"
          ],
          "name": "stdout"
        },
        {
          "output_type": "display_data",
          "data": {
            "text/html": [
              "<span style=\"background-color:rgba(135,206,250,0.2290652508166086);\">ATHENS</span> <span style=\"background-color:rgba(135,206,250,0.05063103508625337);\">(</span> <span style=\"background-color:rgba(135,206,250,0.02261275132136447);\">Reuters</span> <span style=\"background-color:rgba(135,206,250,0.0472052980265824);\">)</span> <span style=\"background-color:rgba(135,206,250,0.01930505560104097);\">-</span> <span style=\"background-color:rgba(135,206,250,0.2999330245948309);\">Greece</span> <span style=\"background-color:rgba(135,206,250,0.01341234583415907);\">#</span> <span style=\"background-color:rgba(135,206,250,0.09133872030685672);\">39;s</span> <span style=\"background-color:rgba(135,206,250,0.02684862614358106);\">two</span> <span style=\"background-color:rgba(135,206,250,0.06414002411312955);\">top</span> <span style=\"background-color:rgba(135,206,250,0.16013148242960948);\">athletes</span> <span style=\"background-color:rgba(135,206,250,0.018099836459948924);\">have</span> <span style=\"background-color:rgba(135,206,250,0.0038339045331890103);\">pulled</span> <span style=\"background-color:rgba(135,206,250,0.004810267264234865);\">out</span> <span style=\"background-color:rgba(135,206,250,0.04067863650891738);\">of</span> <span style=\"background-color:rgba(135,206,250,0.0009157833154408893);\">the</span> <span style=\"background-color:rgba(135,206,250,0.0576591336884776);\">Athens</span> <span style=\"background-color:rgba(135,206,250,0.2926203242165531);\">Olympics</span> <span style=\"background-color:rgba(135,206,250,0.0383378659957748);\">and</span> <span style=\"background-color:rgba(135,206,250,0.03331702770116595);\">apologised</span> <span style=\"background-color:rgba(135,206,250,0.0034815325096640244);\">to</span> <span style=\"background-color:rgba(135,206,250,1.506846179604195e-05);\">the</span> <span style=\"background-color:rgba(135,206,250,0.06272946252077083);\">Greek</span> <span style=\"background-color:rgba(135,206,250,0.07187749716862565);\">people</span> <span style=\"background-color:rgba(135,206,250,0.002290377046244926);\">for</span> <span style=\"background-color:rgba(135,206,250,0.00039598170906232833);\">a</span> <span style=\"background-color:rgba(135,206,250,0.09640987316246127);\">scandal</span> <span style=\"background-color:rgba(135,206,250,0.010356372225790202);\">over</span> <span style=\"background-color:rgba(135,206,250,0.010385839563997867);\">missed</span> <span style=\"background-color:rgba(135,206,250,0.15592317269912612);\">dope</span> <span style=\"background-color:rgba(135,206,250,0.04221824468773792);\">tests</span> <span style=\"background-color:rgba(135,206,250,0.011687067815648888);\">that</span> <span style=\"background-color:rgba(135,206,250,0.0021616805751923417);\">has</span> <span style=\"background-color:rgba(135,206,250,0.05222052691479672);\">tarnished</span> <span style=\"background-color:rgba(135,206,250,0.0022256047505569854);\">the</span> <span style=\"background-color:rgba(135,206,250,0.22995685915915728);\">Games</span> <span style=\"background-color:rgba(135,206,250,0.02360843229616427);\">#</span> <span style=\"background-color:rgba(135,206,250,0.016271546077714354);\">39</span> <span style=\"background-color:rgba(135,206,250,0.0051855163294386285);\">;</span> <span style=\"background-color:rgba(135,206,250,0.050092165419803984);\">return</span> <span style=\"background-color:rgba(135,206,250,0.0013646336325226402);\">to</span> <span style=\"background-color:rgba(135,206,250,0.02097238928307879);\">their</span> <span style=\"background-color:rgba(135,206,250,0.10249612445961004);\">birthplace</span> <span style=\"background-color:rgba(135,206,250,0.010777688163016715);\">.</span>"
            ],
            "text/plain": [
              "<IPython.core.display.HTML object>"
            ]
          },
          "metadata": {
            "tags": []
          }
        },
        {
          "output_type": "stream",
          "text": [
            "None\n"
          ],
          "name": "stdout"
        },
        {
          "output_type": "display_data",
          "data": {
            "text/html": [
              "<span style=\"background-color:rgba(135,206,250,0.24194694584213203);\">ATHENS</span> <span style=\"background-color:rgba(135,206,250,0.02388440018635547);\">Reuters</span> <span style=\"background-color:rgba(135,206,250,0.31680003404798746);\">Greece</span> <span style=\"background-color:rgba(135,206,250,0.014166601435986739);\">#</span> <span style=\"background-color:rgba(135,206,250,0.09647523723738193);\">39;s</span> <span style=\"background-color:rgba(135,206,250,0.02835848332446268);\">two</span> <span style=\"background-color:rgba(135,206,250,0.06774699735158266);\">top</span> <span style=\"background-color:rgba(135,206,250,0.16913662359916495);\">athletes</span> <span style=\"background-color:rgba(135,206,250,0.019117697407682013);\">have</span> <span style=\"background-color:rgba(135,206,250,0.004049507680228769);\">pulled</span> <span style=\"background-color:rgba(135,206,250,0.005080777067307272);\">out</span> <span style=\"background-color:rgba(135,206,250,0.04296623704061706);\">of</span> <span style=\"background-color:rgba(135,206,250,0.000967283232328837);\">the</span> <span style=\"background-color:rgba(135,206,250,0.0609016480941458);\">Athens</span> <span style=\"background-color:rgba(135,206,250,0.3090760972392595);\">Olympics</span> <span style=\"background-color:rgba(135,206,250,0.040493831145121444);\">and</span> <span style=\"background-color:rgba(135,206,250,0.035190641391908334);\">apologised</span> <span style=\"background-color:rgba(135,206,250,0.003677319691923471);\">to</span> <span style=\"background-color:rgba(135,206,250,1.5915850601931876e-05);\">the</span> <span style=\"background-color:rgba(135,206,250,0.06625711153094091);\">Greek</span> <span style=\"background-color:rgba(135,206,250,0.07591959431964855);\">people</span> <span style=\"background-color:rgba(135,206,250,0.002419178505645712);\">for</span> <span style=\"background-color:rgba(135,206,250,0.0004182501046118143);\">a</span> <span style=\"background-color:rgba(135,206,250,0.10183157103719705);\">scandal</span> <span style=\"background-color:rgba(135,206,250,0.010938772341511978);\">over</span> <span style=\"background-color:rgba(135,206,250,0.010969896802581586);\">missed</span> <span style=\"background-color:rgba(135,206,250,0.1646916557010731);\">dope</span> <span style=\"background-color:rgba(135,206,250,0.0445924265011801);\">tests</span> <span style=\"background-color:rgba(135,206,250,0.0123443008215592);\">that</span> <span style=\"background-color:rgba(135,206,250,0.0022832446701956453);\">has</span> <span style=\"background-color:rgba(135,206,250,0.0551571962672648);\">tarnished</span> <span style=\"background-color:rgba(135,206,250,0.0023507636803458787);\">the</span> <span style=\"background-color:rgba(135,206,250,0.24288869459973703);\">Games</span> <span style=\"background-color:rgba(135,206,250,0.02493607419639026);\">#</span> <span style=\"background-color:rgba(135,206,250,0.017186591434527027);\">39</span> <span style=\"background-color:rgba(135,206,250,0.05290914440638364);\">return</span> <span style=\"background-color:rgba(135,206,250,0.0014413750597494289);\">to</span> <span style=\"background-color:rgba(135,206,250,0.022151790880388145);\">their</span> <span style=\"background-color:rgba(135,206,250,0.10826008827288981);\">birthplace</span>"
            ],
            "text/plain": [
              "<IPython.core.display.HTML object>"
            ]
          },
          "metadata": {
            "tags": []
          }
        },
        {
          "output_type": "stream",
          "text": [
            "None\n"
          ],
          "name": "stdout"
        },
        {
          "output_type": "display_data",
          "data": {
            "text/html": [
              "<span style=\"background-color:rgba(135,206,250,0.0565434902108305);\">ATHENS</span> <span style=\"background-color:rgba(135,206,250,0.010075307053716308);\">Reuters</span> <span style=\"background-color:rgba(135,206,250,0.4067359270733329);\">Greece</span> <span style=\"background-color:rgba(135,206,250,0.1571516923066882);\">#</span> <span style=\"background-color:rgba(135,206,250,0.247876249471261);\">39s</span> <span style=\"background-color:rgba(135,206,250,0.003857983459875547);\">two</span> <span style=\"background-color:rgba(135,206,250,0.008034594177080093);\">top</span> <span style=\"background-color:rgba(135,206,250,0.01823107463279251);\">athletes</span> <span style=\"background-color:rgba(135,206,250,0.017535914929526587);\">have</span> <span style=\"background-color:rgba(135,206,250,0.018707001349391666);\">pulled</span> <span style=\"background-color:rgba(135,206,250,0.015205920435541082);\">out</span> <span style=\"background-color:rgba(135,206,250,0.04153430203518286);\">of</span> <span style=\"background-color:rgba(135,206,250,0.0023702763643214534);\">the</span> <span style=\"background-color:rgba(135,206,250,0.10399528458823314);\">Athens</span> <span style=\"background-color:rgba(135,206,250,0.006557238675408951);\">Olympics</span> <span style=\"background-color:rgba(135,206,250,0.003811179914668867);\">and</span> <span style=\"background-color:rgba(135,206,250,0.05689870637844938);\">apologised</span> <span style=\"background-color:rgba(135,206,250,0.00035827175629887044);\">to</span> <span style=\"background-color:rgba(135,206,250,0.0004113167036996831);\">the</span> <span style=\"background-color:rgba(135,206,250,0.1556017022676493);\">Greek</span> <span style=\"background-color:rgba(135,206,250,0.0799454722361907);\">people</span> <span style=\"background-color:rgba(135,206,250,0.00805192612558472);\">for</span> <span style=\"background-color:rgba(135,206,250,0.0032828938991220752);\">a</span> <span style=\"background-color:rgba(135,206,250,0.0582466800454599);\">scandal</span> <span style=\"background-color:rgba(135,206,250,0.004304150624494765);\">over</span> <span style=\"background-color:rgba(135,206,250,0.027985000833123285);\">missed</span> <span style=\"background-color:rgba(135,206,250,0.12090638588514717);\">dope</span> <span style=\"background-color:rgba(135,206,250,0.003007566920812651);\">tests</span> <span style=\"background-color:rgba(135,206,250,0.009013290808870833);\">that</span> <span style=\"background-color:rgba(135,206,250,0.005233283286043373);\">has</span> <span style=\"background-color:rgba(135,206,250,0.04231319109023885);\">tarnished</span> <span style=\"background-color:rgba(135,206,250,0.0010399188072162811);\">the</span> <span style=\"background-color:rgba(135,206,250,0.24601442093871723);\">Games</span> <span style=\"background-color:rgba(135,206,250,0.023044049441681137);\">#</span> <span style=\"background-color:rgba(135,206,250,0.25337971447938357);\">39</span> <span style=\"background-color:rgba(135,206,250,0.08614647646734593);\">return</span> <span style=\"background-color:rgba(135,206,250,0.0011117962763929534);\">to</span> <span style=\"background-color:rgba(135,206,250,0.022384653859806387);\">their</span> <span style=\"background-color:rgba(135,206,250,0.17309578590740005);\">birthplace</span>"
            ],
            "text/plain": [
              "<IPython.core.display.HTML object>"
            ]
          },
          "metadata": {
            "tags": []
          }
        },
        {
          "output_type": "stream",
          "text": [
            "None\n",
            "158\n"
          ],
          "name": "stdout"
        },
        {
          "output_type": "display_data",
          "data": {
            "text/html": [
              "<span style=\"background-color:rgba(135,206,250,0.2754365331545422);\">ATHENS</span> <span style=\"background-color:rgba(135,206,250,0.08178636547087052);\">(</span> <span style=\"background-color:rgba(135,206,250,0.01164044380929469);\">Reuters</span> <span style=\"background-color:rgba(135,206,250,0.03851114439011675);\">)</span> <span style=\"background-color:rgba(135,206,250,0.009173657371640588);\">-</span> <span style=\"background-color:rgba(135,206,250,0.031004933966181373);\">A</span> <span style=\"background-color:rgba(135,206,250,0.09119893424236375);\">weary</span> <span style=\"background-color:rgba(135,206,250,0.007697883782460508);\">Michael</span> <span style=\"background-color:rgba(135,206,250,0.062307276723606864);\">Phelps</span> <span style=\"background-color:rgba(135,206,250,0.09087863217378801);\">targeted</span> <span style=\"background-color:rgba(135,206,250,0.02229061428466824);\">his</span> <span style=\"background-color:rgba(135,206,250,0.09047658413899454);\">fourth</span> <span style=\"background-color:rgba(135,206,250,0.68376680053674);\">Olympic</span> <span style=\"background-color:rgba(135,206,250,0.2785005526467995);\">gold</span> <span style=\"background-color:rgba(135,206,250,0.10733912993171871);\">medal</span> <span style=\"background-color:rgba(135,206,250,0.05148342223533996);\">in</span> <span style=\"background-color:rgba(135,206,250,0.028069196149212376);\">Athens</span> <span style=\"background-color:rgba(135,206,250,0.012990380114864935);\">,</span> <span style=\"background-color:rgba(135,206,250,0.02692605813388845);\">turning</span> <span style=\"background-color:rgba(135,206,250,0.01235499802461203);\">his</span> <span style=\"background-color:rgba(135,206,250,0.05236491256539589);\">attention</span> <span style=\"background-color:rgba(135,206,250,0.013980934381688846);\">on</span> <span style=\"background-color:rgba(135,206,250,0.0026255087077918476);\">Wednesday</span> <span style=\"background-color:rgba(135,206,250,0.0013523792340565575);\">to</span> <span style=\"background-color:rgba(135,206,250,0.0004530436397656747);\">the</span> <span style=\"background-color:rgba(135,206,250,0.01677814198090668);\">200</span> <span style=\"background-color:rgba(135,206,250,0.06529508077188921);\">meters</span> <span style=\"background-color:rgba(135,206,250,0.007270637167986224);\">individual</span> <span style=\"background-color:rgba(135,206,250,0.06571502037664734);\">medley</span> <span style=\"background-color:rgba(135,206,250,0.023431274857383916);\">and</span> <span style=\"background-color:rgba(135,206,250,0.01275722370815285);\">settling</span> <span style=\"background-color:rgba(135,206,250,0.013168539774493594);\">for</span> <span style=\"background-color:rgba(135,206,250,0.00038537108649669806);\">the</span> <span style=\"background-color:rgba(135,206,250,0.012373507922387181);\">second</span> <span style=\"background-color:rgba(135,206,250,0.026794030686563174);\">-</span> <span style=\"background-color:rgba(135,206,250,0.015159311573723456);\">fastest</span> <span style=\"background-color:rgba(135,206,250,0.044172424373655796);\">overall</span> <span style=\"background-color:rgba(135,206,250,7.833070347819875e-05);\">time</span> <span style=\"background-color:rgba(135,206,250,0.002196753628227507);\">in</span> <span style=\"background-color:rgba(135,206,250,0.00030115206724729894);\">the</span> <span style=\"background-color:rgba(135,206,250,0.10558900608327479);\">heats</span> <span style=\"background-color:rgba(135,206,250,0.003923738210909634);\">.</span>"
            ],
            "text/plain": [
              "<IPython.core.display.HTML object>"
            ]
          },
          "metadata": {
            "tags": []
          }
        },
        {
          "output_type": "stream",
          "text": [
            "None\n"
          ],
          "name": "stdout"
        },
        {
          "output_type": "display_data",
          "data": {
            "text/html": [
              "<span style=\"background-color:rgba(135,206,250,0.29593658751155516);\">ATHENS</span> <span style=\"background-color:rgba(135,206,250,0.012506813016375894);\">Reuters</span> <span style=\"background-color:rgba(135,206,250,0.033312553889954126);\">A</span> <span style=\"background-color:rgba(135,206,250,0.09798664351192939);\">weary</span> <span style=\"background-color:rgba(135,206,250,0.008270818077584919);\">Michael</span> <span style=\"background-color:rgba(135,206,250,0.06694465196589079);\">Phelps</span> <span style=\"background-color:rgba(135,206,250,0.09764250215906822);\">targeted</span> <span style=\"background-color:rgba(135,206,250,0.023949649123850298);\">his</span> <span style=\"background-color:rgba(135,206,250,0.09721053069155869);\">fourth</span> <span style=\"background-color:rgba(135,206,250,0.734657858516544);\">Olympic</span> <span style=\"background-color:rgba(135,206,250,0.2992286543344365);\">gold</span> <span style=\"background-color:rgba(135,206,250,0.11532811372059061);\">medal</span> <span style=\"background-color:rgba(135,206,250,0.05531520497752742);\">in</span> <span style=\"background-color:rgba(135,206,250,0.030158316427580302);\">Athens</span> <span style=\"background-color:rgba(135,206,250,0.0289300975002099);\">turning</span> <span style=\"background-color:rgba(135,206,250,0.013274549720186216);\">his</span> <span style=\"background-color:rgba(135,206,250,0.0562623024348383);\">attention</span> <span style=\"background-color:rgba(135,206,250,0.015021500466020302);\">on</span> <span style=\"background-color:rgba(135,206,250,0.002820918774162182);\">Wednesday</span> <span style=\"background-color:rgba(135,206,250,0.0014530334482667677);\">to</span> <span style=\"background-color:rgba(135,206,250,0.00048676254820141353);\">the</span> <span style=\"background-color:rgba(135,206,250,0.0180268972519632);\">200</span> <span style=\"background-color:rgba(135,206,250,0.07015483081934659);\">meters</span> <span style=\"background-color:rgba(135,206,250,0.007811772562942013);\">individual</span> <span style=\"background-color:rgba(135,206,250,0.07060602548176032);\">medley</span> <span style=\"background-color:rgba(135,206,250,0.025175206218736666);\">and</span> <span style=\"background-color:rgba(135,206,250,0.013706712058396396);\">settling</span> <span style=\"background-color:rgba(135,206,250,0.014148641353931277);\">for</span> <span style=\"background-color:rgba(135,206,250,0.00041405329553528933);\">the</span> <span style=\"background-color:rgba(135,206,250,0.013294437263498025);\">second</span> <span style=\"background-color:rgba(135,206,250,0.01628758133415448);\">fastest</span> <span style=\"background-color:rgba(135,206,250,0.04746006777509561);\">overall</span> <span style=\"background-color:rgba(135,206,250,8.416066241913984e-05);\">time</span> <span style=\"background-color:rgba(135,206,250,0.0023602525231339495);\">in</span> <span style=\"background-color:rgba(135,206,250,0.0003235660646847142);\">the</span> <span style=\"background-color:rgba(135,206,250,0.1134477325180706);\">heats</span>"
            ],
            "text/plain": [
              "<IPython.core.display.HTML object>"
            ]
          },
          "metadata": {
            "tags": []
          }
        },
        {
          "output_type": "stream",
          "text": [
            "None\n"
          ],
          "name": "stdout"
        },
        {
          "output_type": "display_data",
          "data": {
            "text/html": [
              "<span style=\"background-color:rgba(135,206,250,0.002154827328890758);\">ATHENS</span> <span style=\"background-color:rgba(135,206,250,0.023304104338256335);\">Reuters</span> <span style=\"background-color:rgba(135,206,250,0.02660416590921616);\">A</span> <span style=\"background-color:rgba(135,206,250,1.218667853515652);\">weary</span> <span style=\"background-color:rgba(135,206,250,0.462624205822908);\">Michael</span> <span style=\"background-color:rgba(135,206,250,0.15655598613180605);\">Phelps</span> <span style=\"background-color:rgba(135,206,250,0.10608079998910312);\">targeted</span> <span style=\"background-color:rgba(135,206,250,0.0005968554694967343);\">his</span> <span style=\"background-color:rgba(135,206,250,0.020357791416777446);\">fourth</span> <span style=\"background-color:rgba(135,206,250,0.01766620039293841);\">Olympic</span> <span style=\"background-color:rgba(135,206,250,0.027913105905931466);\">gold</span> <span style=\"background-color:rgba(135,206,250,0.012942736848957614);\">medal</span> <span style=\"background-color:rgba(135,206,250,0.021751558002990282);\">in</span> <span style=\"background-color:rgba(135,206,250,0.07484360068566936);\">Athens</span> <span style=\"background-color:rgba(135,206,250,0.0076493999751617);\">turning</span> <span style=\"background-color:rgba(135,206,250,0.013522192592378838);\">his</span> <span style=\"background-color:rgba(135,206,250,0.05873874873464528);\">attention</span> <span style=\"background-color:rgba(135,206,250,0.012820572520660036);\">on</span> <span style=\"background-color:rgba(135,206,250,0.011415186787425721);\">Wednesday</span> <span style=\"background-color:rgba(135,206,250,2.341806484080876e-05);\">to</span> <span style=\"background-color:rgba(135,206,250,0.0012351549541410813);\">the</span> <span style=\"background-color:rgba(135,206,250,0.017066503466683862);\">200</span> <span style=\"background-color:rgba(135,206,250,0.030139990055173996);\">meters</span> <span style=\"background-color:rgba(135,206,250,0.028351607895756123);\">individual</span> <span style=\"background-color:rgba(135,206,250,0.03255997728612106);\">medley</span> <span style=\"background-color:rgba(135,206,250,0.013735439191378306);\">and</span> <span style=\"background-color:rgba(135,206,250,0.0032994328490563735);\">settling</span> <span style=\"background-color:rgba(135,206,250,0.006602871002536491);\">for</span> <span style=\"background-color:rgba(135,206,250,0.0006175643786975522);\">the</span> <span style=\"background-color:rgba(135,206,250,0.0025280017556943172);\">second</span> <span style=\"background-color:rgba(135,206,250,0.05226571287456817);\">fastest</span> <span style=\"background-color:rgba(135,206,250,0.02457311947675336);\">overall</span> <span style=\"background-color:rgba(135,206,250,0.004995247916383871);\">time</span> <span style=\"background-color:rgba(135,206,250,5.076547864330743e-05);\">in</span> <span style=\"background-color:rgba(135,206,250,0.0010107976284619569);\">the</span> <span style=\"background-color:rgba(135,206,250,0.004734575033672473);\">heats</span>"
            ],
            "text/plain": [
              "<IPython.core.display.HTML object>"
            ]
          },
          "metadata": {
            "tags": []
          }
        },
        {
          "output_type": "stream",
          "text": [
            "None\n"
          ],
          "name": "stdout"
        }
      ]
    },
    {
      "cell_type": "code",
      "metadata": {
        "colab": {
          "base_uri": "https://localhost:8080/"
        },
        "id": "ABYNvbn4CZyl",
        "outputId": "86365b5d-9cc1-46b7-c7f7-9451b27d369c"
      },
      "source": [
        "spearmanr(gradient_list_orig_reduced, gradient_list_pert)[0] < 0.85"
      ],
      "execution_count": 32,
      "outputs": [
        {
          "output_type": "execute_result",
          "data": {
            "text/plain": [
              "False"
            ]
          },
          "metadata": {
            "tags": []
          },
          "execution_count": 32
        }
      ]
    },
    {
      "cell_type": "markdown",
      "metadata": {
        "id": "sf7rPU4K3lkY"
      },
      "source": [
        "# SHAP"
      ]
    },
    {
      "cell_type": "code",
      "metadata": {
        "id": "x8eA-crlRCGn"
      },
      "source": [
        "! pip install shap==0.39.0"
      ],
      "execution_count": null,
      "outputs": []
    },
    {
      "cell_type": "code",
      "metadata": {
        "id": "SnMy3Gqo38oK"
      },
      "source": [
        "import shap"
      ],
      "execution_count": 34,
      "outputs": []
    },
    {
      "cell_type": "code",
      "metadata": {
        "colab": {
          "base_uri": "https://localhost:8080/"
        },
        "id": "zzCD9v5Y4N6H",
        "outputId": "6727740b-a13d-424c-8831-978f0909b140"
      },
      "source": [
        "type(predictor.predict)"
      ],
      "execution_count": 35,
      "outputs": [
        {
          "output_type": "execute_result",
          "data": {
            "text/plain": [
              "method"
            ]
          },
          "metadata": {
            "tags": []
          },
          "execution_count": 35
        }
      ]
    },
    {
      "cell_type": "code",
      "metadata": {
        "id": "d5LoHjXR_NP0"
      },
      "source": [
        "input_df = pd.DataFrame(sample[:10], columns=['sentence'])"
      ],
      "execution_count": 36,
      "outputs": []
    },
    {
      "cell_type": "code",
      "metadata": {
        "colab": {
          "base_uri": "https://localhost:8080/",
          "height": 359
        },
        "id": "haAEfUng_VV_",
        "outputId": "0043ea75-6179-4c75-b7e9-ad2ccca6c5d0"
      },
      "source": [
        "input_df"
      ],
      "execution_count": 37,
      "outputs": [
        {
          "output_type": "execute_result",
          "data": {
            "text/html": [
              "<div>\n",
              "<style scoped>\n",
              "    .dataframe tbody tr th:only-of-type {\n",
              "        vertical-align: middle;\n",
              "    }\n",
              "\n",
              "    .dataframe tbody tr th {\n",
              "        vertical-align: top;\n",
              "    }\n",
              "\n",
              "    .dataframe thead th {\n",
              "        text-align: right;\n",
              "    }\n",
              "</style>\n",
              "<table border=\"1\" class=\"dataframe\">\n",
              "  <thead>\n",
              "    <tr style=\"text-align: right;\">\n",
              "      <th></th>\n",
              "      <th>sentence</th>\n",
              "    </tr>\n",
              "  </thead>\n",
              "  <tbody>\n",
              "    <tr>\n",
              "      <th>0</th>\n",
              "      <td>Unions representing workers at Turner   Newall...</td>\n",
              "    </tr>\n",
              "    <tr>\n",
              "      <th>1</th>\n",
              "      <td>SPACE.com - TORONTO, Canada -- A second\\team o...</td>\n",
              "    </tr>\n",
              "    <tr>\n",
              "      <th>2</th>\n",
              "      <td>AP - A company founded by a chemistry research...</td>\n",
              "    </tr>\n",
              "    <tr>\n",
              "      <th>3</th>\n",
              "      <td>AP - It's barely dawn when Mike Fitzpatrick st...</td>\n",
              "    </tr>\n",
              "    <tr>\n",
              "      <th>4</th>\n",
              "      <td>AP - Southern California's smog-fighting agenc...</td>\n",
              "    </tr>\n",
              "    <tr>\n",
              "      <th>5</th>\n",
              "      <td>The British Department for Education and Skill...</td>\n",
              "    </tr>\n",
              "    <tr>\n",
              "      <th>6</th>\n",
              "      <td>\\\\\"Sven Jaschan, self-confessed author of the ...</td>\n",
              "    </tr>\n",
              "    <tr>\n",
              "      <th>7</th>\n",
              "      <td>\\\\FOAF/LOAF  and bloom filters have a lot of i...</td>\n",
              "    </tr>\n",
              "    <tr>\n",
              "      <th>8</th>\n",
              "      <td>Wiltshire Police warns about \"phishing\" after ...</td>\n",
              "    </tr>\n",
              "    <tr>\n",
              "      <th>9</th>\n",
              "      <td>In its first two years, the UK's dedicated car...</td>\n",
              "    </tr>\n",
              "  </tbody>\n",
              "</table>\n",
              "</div>"
            ],
            "text/plain": [
              "                                            sentence\n",
              "0  Unions representing workers at Turner   Newall...\n",
              "1  SPACE.com - TORONTO, Canada -- A second\\team o...\n",
              "2  AP - A company founded by a chemistry research...\n",
              "3  AP - It's barely dawn when Mike Fitzpatrick st...\n",
              "4  AP - Southern California's smog-fighting agenc...\n",
              "5  The British Department for Education and Skill...\n",
              "6  \\\\\"Sven Jaschan, self-confessed author of the ...\n",
              "7  \\\\FOAF/LOAF  and bloom filters have a lot of i...\n",
              "8  Wiltshire Police warns about \"phishing\" after ...\n",
              "9  In its first two years, the UK's dedicated car..."
            ]
          },
          "metadata": {
            "tags": []
          },
          "execution_count": 37
        }
      ]
    },
    {
      "cell_type": "code",
      "metadata": {
        "id": "uuj2J7Gw-xfI"
      },
      "source": [
        "def f(input_sentence):\n",
        "  return predictor.predict(sentence = input_sentence)['class_probabilities']"
      ],
      "execution_count": 49,
      "outputs": []
    },
    {
      "cell_type": "code",
      "metadata": {
        "colab": {
          "base_uri": "https://localhost:8080/"
        },
        "id": "AYuaalerBvVg",
        "outputId": "47394fbc-6994-498c-934d-3c1b8f7a5d5f"
      },
      "source": [
        "f(sample[0])"
      ],
      "execution_count": 50,
      "outputs": [
        {
          "output_type": "execute_result",
          "data": {
            "text/plain": [
              "[0.05422848090529442,\n",
              " 0.003512652823701501,\n",
              " 0.15680429339408875,\n",
              " 0.7854545712471008]"
            ]
          },
          "metadata": {
            "tags": []
          },
          "execution_count": 50
        }
      ]
    },
    {
      "cell_type": "code",
      "metadata": {
        "colab": {
          "base_uri": "https://localhost:8080/",
          "height": 324
        },
        "id": "ufnCGw4R_oG5",
        "outputId": "d566b703-b79b-476e-8892-1c51018145d4"
      },
      "source": [
        "shap_values = shap.KernelExplainer(f,input_df)"
      ],
      "execution_count": 52,
      "outputs": [
        {
          "output_type": "stream",
          "text": [
            "Provided model function fails when applied to the provided data set.\n"
          ],
          "name": "stdout"
        },
        {
          "output_type": "error",
          "ename": "TypeError",
          "evalue": "ignored",
          "traceback": [
            "\u001b[0;31m---------------------------------------------------------------------------\u001b[0m",
            "\u001b[0;31mTypeError\u001b[0m                                 Traceback (most recent call last)",
            "\u001b[0;32m<ipython-input-52-7883904b0997>\u001b[0m in \u001b[0;36m<module>\u001b[0;34m()\u001b[0m\n\u001b[0;32m----> 1\u001b[0;31m \u001b[0mshap_values\u001b[0m \u001b[0;34m=\u001b[0m \u001b[0mshap\u001b[0m\u001b[0;34m.\u001b[0m\u001b[0mKernelExplainer\u001b[0m\u001b[0;34m(\u001b[0m\u001b[0mf\u001b[0m\u001b[0;34m,\u001b[0m\u001b[0minput_df\u001b[0m\u001b[0;34m)\u001b[0m\u001b[0;34m\u001b[0m\u001b[0;34m\u001b[0m\u001b[0m\n\u001b[0m",
            "\u001b[0;32m/usr/local/lib/python3.7/dist-packages/shap/explainers/_kernel.py\u001b[0m in \u001b[0;36m__init__\u001b[0;34m(self, model, data, link, **kwargs)\u001b[0m\n\u001b[1;32m     67\u001b[0m         \u001b[0mself\u001b[0m\u001b[0;34m.\u001b[0m\u001b[0mkeep_index_ordered\u001b[0m \u001b[0;34m=\u001b[0m \u001b[0mkwargs\u001b[0m\u001b[0;34m.\u001b[0m\u001b[0mget\u001b[0m\u001b[0;34m(\u001b[0m\u001b[0;34m\"keep_index_ordered\"\u001b[0m\u001b[0;34m,\u001b[0m \u001b[0;32mFalse\u001b[0m\u001b[0;34m)\u001b[0m\u001b[0;34m\u001b[0m\u001b[0;34m\u001b[0m\u001b[0m\n\u001b[1;32m     68\u001b[0m         \u001b[0mself\u001b[0m\u001b[0;34m.\u001b[0m\u001b[0mdata\u001b[0m \u001b[0;34m=\u001b[0m \u001b[0mconvert_to_data\u001b[0m\u001b[0;34m(\u001b[0m\u001b[0mdata\u001b[0m\u001b[0;34m,\u001b[0m \u001b[0mkeep_index\u001b[0m\u001b[0;34m=\u001b[0m\u001b[0mself\u001b[0m\u001b[0;34m.\u001b[0m\u001b[0mkeep_index\u001b[0m\u001b[0;34m)\u001b[0m\u001b[0;34m\u001b[0m\u001b[0;34m\u001b[0m\u001b[0m\n\u001b[0;32m---> 69\u001b[0;31m         \u001b[0mmodel_null\u001b[0m \u001b[0;34m=\u001b[0m \u001b[0mmatch_model_to_data\u001b[0m\u001b[0;34m(\u001b[0m\u001b[0mself\u001b[0m\u001b[0;34m.\u001b[0m\u001b[0mmodel\u001b[0m\u001b[0;34m,\u001b[0m \u001b[0mself\u001b[0m\u001b[0;34m.\u001b[0m\u001b[0mdata\u001b[0m\u001b[0;34m)\u001b[0m\u001b[0;34m\u001b[0m\u001b[0;34m\u001b[0m\u001b[0m\n\u001b[0m\u001b[1;32m     70\u001b[0m \u001b[0;34m\u001b[0m\u001b[0m\n\u001b[1;32m     71\u001b[0m         \u001b[0;31m# enforce our current input type limitations\u001b[0m\u001b[0;34m\u001b[0m\u001b[0;34m\u001b[0m\u001b[0;34m\u001b[0m\u001b[0m\n",
            "\u001b[0;32m/usr/local/lib/python3.7/dist-packages/shap/utils/_legacy.py\u001b[0m in \u001b[0;36mmatch_model_to_data\u001b[0;34m(model, data)\u001b[0m\n\u001b[1;32m    110\u001b[0m             \u001b[0mout_val\u001b[0m \u001b[0;34m=\u001b[0m \u001b[0mmodel\u001b[0m\u001b[0;34m.\u001b[0m\u001b[0mf\u001b[0m\u001b[0;34m(\u001b[0m\u001b[0mdata\u001b[0m\u001b[0;34m.\u001b[0m\u001b[0mconvert_to_df\u001b[0m\u001b[0;34m(\u001b[0m\u001b[0;34m)\u001b[0m\u001b[0;34m)\u001b[0m\u001b[0;34m\u001b[0m\u001b[0;34m\u001b[0m\u001b[0m\n\u001b[1;32m    111\u001b[0m         \u001b[0;32melse\u001b[0m\u001b[0;34m:\u001b[0m\u001b[0;34m\u001b[0m\u001b[0;34m\u001b[0m\u001b[0m\n\u001b[0;32m--> 112\u001b[0;31m             \u001b[0mout_val\u001b[0m \u001b[0;34m=\u001b[0m \u001b[0mmodel\u001b[0m\u001b[0;34m.\u001b[0m\u001b[0mf\u001b[0m\u001b[0;34m(\u001b[0m\u001b[0mdata\u001b[0m\u001b[0;34m.\u001b[0m\u001b[0mdata\u001b[0m\u001b[0;34m)\u001b[0m\u001b[0;34m\u001b[0m\u001b[0;34m\u001b[0m\u001b[0m\n\u001b[0m\u001b[1;32m    113\u001b[0m     \u001b[0;32mexcept\u001b[0m\u001b[0;34m:\u001b[0m\u001b[0;34m\u001b[0m\u001b[0;34m\u001b[0m\u001b[0m\n\u001b[1;32m    114\u001b[0m         \u001b[0mprint\u001b[0m\u001b[0;34m(\u001b[0m\u001b[0;34m\"Provided model function fails when applied to the provided data set.\"\u001b[0m\u001b[0;34m)\u001b[0m\u001b[0;34m\u001b[0m\u001b[0;34m\u001b[0m\u001b[0m\n",
            "\u001b[0;32m<ipython-input-49-98aa2c394e94>\u001b[0m in \u001b[0;36mf\u001b[0;34m(input_sentence)\u001b[0m\n\u001b[1;32m      1\u001b[0m \u001b[0;32mdef\u001b[0m \u001b[0mf\u001b[0m\u001b[0;34m(\u001b[0m\u001b[0minput_sentence\u001b[0m\u001b[0;34m)\u001b[0m\u001b[0;34m:\u001b[0m\u001b[0;34m\u001b[0m\u001b[0;34m\u001b[0m\u001b[0m\n\u001b[0;32m----> 2\u001b[0;31m   \u001b[0;32mreturn\u001b[0m \u001b[0mpredictor\u001b[0m\u001b[0;34m.\u001b[0m\u001b[0mpredict\u001b[0m\u001b[0;34m(\u001b[0m\u001b[0msentence\u001b[0m \u001b[0;34m=\u001b[0m \u001b[0minput_sentence\u001b[0m\u001b[0;34m)\u001b[0m\u001b[0;34m[\u001b[0m\u001b[0;34m'class_probabilities'\u001b[0m\u001b[0;34m]\u001b[0m\u001b[0;34m\u001b[0m\u001b[0;34m\u001b[0m\u001b[0m\n\u001b[0m",
            "\u001b[0;32m<ipython-input-16-39aed32d4ae1>\u001b[0m in \u001b[0;36mpredict\u001b[0;34m(self, sentence)\u001b[0m\n\u001b[1;32m      9\u001b[0m \u001b[0;34m\u001b[0m\u001b[0m\n\u001b[1;32m     10\u001b[0m     \u001b[0;32mdef\u001b[0m \u001b[0mpredict\u001b[0m\u001b[0;34m(\u001b[0m\u001b[0mself\u001b[0m\u001b[0;34m,\u001b[0m \u001b[0msentence\u001b[0m\u001b[0;34m:\u001b[0m \u001b[0mstr\u001b[0m\u001b[0;34m)\u001b[0m \u001b[0;34m->\u001b[0m \u001b[0mJsonDict\u001b[0m\u001b[0;34m:\u001b[0m\u001b[0;34m\u001b[0m\u001b[0;34m\u001b[0m\u001b[0m\n\u001b[0;32m---> 11\u001b[0;31m         \u001b[0;32mreturn\u001b[0m \u001b[0mself\u001b[0m\u001b[0;34m.\u001b[0m\u001b[0mpredict_json\u001b[0m\u001b[0;34m(\u001b[0m\u001b[0;34m{\u001b[0m\u001b[0;34m\"Description\"\u001b[0m\u001b[0;34m:\u001b[0m \u001b[0msentence\u001b[0m\u001b[0;34m}\u001b[0m\u001b[0;34m)\u001b[0m\u001b[0;34m\u001b[0m\u001b[0;34m\u001b[0m\u001b[0m\n\u001b[0m\u001b[1;32m     12\u001b[0m \u001b[0;34m\u001b[0m\u001b[0m\n\u001b[1;32m     13\u001b[0m     \u001b[0;34m@\u001b[0m\u001b[0moverrides\u001b[0m\u001b[0;34m\u001b[0m\u001b[0;34m\u001b[0m\u001b[0m\n",
            "\u001b[0;32m/usr/local/lib/python3.7/dist-packages/allennlp/predictors/predictor.py\u001b[0m in \u001b[0;36mpredict_json\u001b[0;34m(self, inputs)\u001b[0m\n\u001b[1;32m     52\u001b[0m \u001b[0;34m\u001b[0m\u001b[0m\n\u001b[1;32m     53\u001b[0m     \u001b[0;32mdef\u001b[0m \u001b[0mpredict_json\u001b[0m\u001b[0;34m(\u001b[0m\u001b[0mself\u001b[0m\u001b[0;34m,\u001b[0m \u001b[0minputs\u001b[0m\u001b[0;34m:\u001b[0m \u001b[0mJsonDict\u001b[0m\u001b[0;34m)\u001b[0m \u001b[0;34m->\u001b[0m \u001b[0mJsonDict\u001b[0m\u001b[0;34m:\u001b[0m\u001b[0;34m\u001b[0m\u001b[0;34m\u001b[0m\u001b[0m\n\u001b[0;32m---> 54\u001b[0;31m         \u001b[0minstance\u001b[0m \u001b[0;34m=\u001b[0m \u001b[0mself\u001b[0m\u001b[0;34m.\u001b[0m\u001b[0m_json_to_instance\u001b[0m\u001b[0;34m(\u001b[0m\u001b[0minputs\u001b[0m\u001b[0;34m)\u001b[0m\u001b[0;34m\u001b[0m\u001b[0;34m\u001b[0m\u001b[0m\n\u001b[0m\u001b[1;32m     55\u001b[0m         \u001b[0;32mreturn\u001b[0m \u001b[0mself\u001b[0m\u001b[0;34m.\u001b[0m\u001b[0mpredict_instance\u001b[0m\u001b[0;34m(\u001b[0m\u001b[0minstance\u001b[0m\u001b[0;34m)\u001b[0m\u001b[0;34m\u001b[0m\u001b[0;34m\u001b[0m\u001b[0m\n\u001b[1;32m     56\u001b[0m \u001b[0;34m\u001b[0m\u001b[0m\n",
            "\u001b[0;32m<ipython-input-16-39aed32d4ae1>\u001b[0m in \u001b[0;36m_json_to_instance\u001b[0;34m(self, json_dict)\u001b[0m\n\u001b[1;32m     25\u001b[0m             \u001b[0mtokenizer\u001b[0m \u001b[0;34m=\u001b[0m \u001b[0mSpacyTokenizer\u001b[0m\u001b[0;34m(\u001b[0m\u001b[0;34m)\u001b[0m\u001b[0;34m\u001b[0m\u001b[0;34m\u001b[0m\u001b[0m\n\u001b[1;32m     26\u001b[0m             \u001b[0msentence\u001b[0m \u001b[0;34m=\u001b[0m \u001b[0mtokenizer\u001b[0m\u001b[0;34m.\u001b[0m\u001b[0mtokenize\u001b[0m\u001b[0;34m(\u001b[0m\u001b[0msentence\u001b[0m\u001b[0;34m)\u001b[0m\u001b[0;34m\u001b[0m\u001b[0;34m\u001b[0m\u001b[0m\n\u001b[0;32m---> 27\u001b[0;31m         \u001b[0;32mreturn\u001b[0m \u001b[0mself\u001b[0m\u001b[0;34m.\u001b[0m\u001b[0m_dataset_reader\u001b[0m\u001b[0;34m.\u001b[0m\u001b[0mtext_to_instance\u001b[0m\u001b[0;34m(\u001b[0m\u001b[0msentence\u001b[0m\u001b[0;34m)\u001b[0m\u001b[0;34m\u001b[0m\u001b[0;34m\u001b[0m\u001b[0m\n\u001b[0m\u001b[1;32m     28\u001b[0m \u001b[0;34m\u001b[0m\u001b[0m\n\u001b[1;32m     29\u001b[0m     \u001b[0;34m@\u001b[0m\u001b[0moverrides\u001b[0m\u001b[0;34m\u001b[0m\u001b[0;34m\u001b[0m\u001b[0m\n",
            "\u001b[0;32m/content/drive/My Drive/COMP0087/allenNLP/BCN/tagging/dataset_readers/agnews_reader.py\u001b[0m in \u001b[0;36mtext_to_instance\u001b[0;34m(self, text, label)\u001b[0m\n\u001b[1;32m    119\u001b[0m             \u001b[0mfields\u001b[0m\u001b[0;34m[\u001b[0m\u001b[0;34m\"tokens\"\u001b[0m\u001b[0;34m]\u001b[0m \u001b[0;34m=\u001b[0m \u001b[0mListField\u001b[0m\u001b[0;34m(\u001b[0m\u001b[0msentences\u001b[0m\u001b[0;34m)\u001b[0m\u001b[0;34m\u001b[0m\u001b[0;34m\u001b[0m\u001b[0m\n\u001b[1;32m    120\u001b[0m         \u001b[0;32melse\u001b[0m\u001b[0;34m:\u001b[0m\u001b[0;34m\u001b[0m\u001b[0;34m\u001b[0m\u001b[0m\n\u001b[0;32m--> 121\u001b[0;31m             \u001b[0mtokens\u001b[0m \u001b[0;34m=\u001b[0m \u001b[0mself\u001b[0m\u001b[0;34m.\u001b[0m\u001b[0m_tokenizer\u001b[0m\u001b[0;34m.\u001b[0m\u001b[0mtokenize\u001b[0m\u001b[0;34m(\u001b[0m\u001b[0mtext\u001b[0m\u001b[0;34m)\u001b[0m\u001b[0;34m\u001b[0m\u001b[0;34m\u001b[0m\u001b[0m\n\u001b[0m\u001b[1;32m    122\u001b[0m             \u001b[0;32mif\u001b[0m \u001b[0mself\u001b[0m\u001b[0;34m.\u001b[0m\u001b[0m_max_sequence_length\u001b[0m \u001b[0;32mis\u001b[0m \u001b[0;32mnot\u001b[0m \u001b[0;32mNone\u001b[0m\u001b[0;34m:\u001b[0m\u001b[0;34m\u001b[0m\u001b[0;34m\u001b[0m\u001b[0m\n\u001b[1;32m    123\u001b[0m                 \u001b[0mtokens\u001b[0m \u001b[0;34m=\u001b[0m \u001b[0mself\u001b[0m\u001b[0;34m.\u001b[0m\u001b[0m_truncate\u001b[0m\u001b[0;34m(\u001b[0m\u001b[0mtokens\u001b[0m\u001b[0;34m)\u001b[0m\u001b[0;34m\u001b[0m\u001b[0;34m\u001b[0m\u001b[0m\n",
            "\u001b[0;32m/usr/local/lib/python3.7/dist-packages/allennlp/data/tokenizers/spacy_tokenizer.py\u001b[0m in \u001b[0;36mtokenize\u001b[0;34m(self, text)\u001b[0m\n\u001b[1;32m    114\u001b[0m     \u001b[0;32mdef\u001b[0m \u001b[0mtokenize\u001b[0m\u001b[0;34m(\u001b[0m\u001b[0mself\u001b[0m\u001b[0;34m,\u001b[0m \u001b[0mtext\u001b[0m\u001b[0;34m:\u001b[0m \u001b[0mstr\u001b[0m\u001b[0;34m)\u001b[0m \u001b[0;34m->\u001b[0m \u001b[0mList\u001b[0m\u001b[0;34m[\u001b[0m\u001b[0mToken\u001b[0m\u001b[0;34m]\u001b[0m\u001b[0;34m:\u001b[0m\u001b[0;34m\u001b[0m\u001b[0;34m\u001b[0m\u001b[0m\n\u001b[1;32m    115\u001b[0m         \u001b[0;31m# This works because our Token class matches spacy's.\u001b[0m\u001b[0;34m\u001b[0m\u001b[0;34m\u001b[0m\u001b[0;34m\u001b[0m\u001b[0m\n\u001b[0;32m--> 116\u001b[0;31m         \u001b[0;32mreturn\u001b[0m \u001b[0mself\u001b[0m\u001b[0;34m.\u001b[0m\u001b[0m_sanitize\u001b[0m\u001b[0;34m(\u001b[0m\u001b[0m_remove_spaces\u001b[0m\u001b[0;34m(\u001b[0m\u001b[0mself\u001b[0m\u001b[0;34m.\u001b[0m\u001b[0mspacy\u001b[0m\u001b[0;34m(\u001b[0m\u001b[0mtext\u001b[0m\u001b[0;34m)\u001b[0m\u001b[0;34m)\u001b[0m\u001b[0;34m)\u001b[0m\u001b[0;34m\u001b[0m\u001b[0;34m\u001b[0m\u001b[0m\n\u001b[0m\u001b[1;32m    117\u001b[0m \u001b[0;34m\u001b[0m\u001b[0m\n\u001b[1;32m    118\u001b[0m \u001b[0;34m\u001b[0m\u001b[0m\n",
            "\u001b[0;32m/usr/local/lib/python3.7/dist-packages/spacy/language.py\u001b[0m in \u001b[0;36m__call__\u001b[0;34m(self, text, disable, component_cfg)\u001b[0m\n\u001b[1;32m    429\u001b[0m                 \u001b[0mErrors\u001b[0m\u001b[0;34m.\u001b[0m\u001b[0mE088\u001b[0m\u001b[0;34m.\u001b[0m\u001b[0mformat\u001b[0m\u001b[0;34m(\u001b[0m\u001b[0mlength\u001b[0m\u001b[0;34m=\u001b[0m\u001b[0mlen\u001b[0m\u001b[0;34m(\u001b[0m\u001b[0mtext\u001b[0m\u001b[0;34m)\u001b[0m\u001b[0;34m,\u001b[0m \u001b[0mmax_length\u001b[0m\u001b[0;34m=\u001b[0m\u001b[0mself\u001b[0m\u001b[0;34m.\u001b[0m\u001b[0mmax_length\u001b[0m\u001b[0;34m)\u001b[0m\u001b[0;34m\u001b[0m\u001b[0;34m\u001b[0m\u001b[0m\n\u001b[1;32m    430\u001b[0m             )\n\u001b[0;32m--> 431\u001b[0;31m         \u001b[0mdoc\u001b[0m \u001b[0;34m=\u001b[0m \u001b[0mself\u001b[0m\u001b[0;34m.\u001b[0m\u001b[0mmake_doc\u001b[0m\u001b[0;34m(\u001b[0m\u001b[0mtext\u001b[0m\u001b[0;34m)\u001b[0m\u001b[0;34m\u001b[0m\u001b[0;34m\u001b[0m\u001b[0m\n\u001b[0m\u001b[1;32m    432\u001b[0m         \u001b[0;32mif\u001b[0m \u001b[0mcomponent_cfg\u001b[0m \u001b[0;32mis\u001b[0m \u001b[0;32mNone\u001b[0m\u001b[0;34m:\u001b[0m\u001b[0;34m\u001b[0m\u001b[0;34m\u001b[0m\u001b[0m\n\u001b[1;32m    433\u001b[0m             \u001b[0mcomponent_cfg\u001b[0m \u001b[0;34m=\u001b[0m \u001b[0;34m{\u001b[0m\u001b[0;34m}\u001b[0m\u001b[0;34m\u001b[0m\u001b[0;34m\u001b[0m\u001b[0m\n",
            "\u001b[0;32m/usr/local/lib/python3.7/dist-packages/spacy/language.py\u001b[0m in \u001b[0;36mmake_doc\u001b[0;34m(self, text)\u001b[0m\n\u001b[1;32m    455\u001b[0m \u001b[0;34m\u001b[0m\u001b[0m\n\u001b[1;32m    456\u001b[0m     \u001b[0;32mdef\u001b[0m \u001b[0mmake_doc\u001b[0m\u001b[0;34m(\u001b[0m\u001b[0mself\u001b[0m\u001b[0;34m,\u001b[0m \u001b[0mtext\u001b[0m\u001b[0;34m)\u001b[0m\u001b[0;34m:\u001b[0m\u001b[0;34m\u001b[0m\u001b[0;34m\u001b[0m\u001b[0m\n\u001b[0;32m--> 457\u001b[0;31m         \u001b[0;32mreturn\u001b[0m \u001b[0mself\u001b[0m\u001b[0;34m.\u001b[0m\u001b[0mtokenizer\u001b[0m\u001b[0;34m(\u001b[0m\u001b[0mtext\u001b[0m\u001b[0;34m)\u001b[0m\u001b[0;34m\u001b[0m\u001b[0;34m\u001b[0m\u001b[0m\n\u001b[0m\u001b[1;32m    458\u001b[0m \u001b[0;34m\u001b[0m\u001b[0m\n\u001b[1;32m    459\u001b[0m     \u001b[0;32mdef\u001b[0m \u001b[0m_format_docs_and_golds\u001b[0m\u001b[0;34m(\u001b[0m\u001b[0mself\u001b[0m\u001b[0;34m,\u001b[0m \u001b[0mdocs\u001b[0m\u001b[0;34m,\u001b[0m \u001b[0mgolds\u001b[0m\u001b[0;34m)\u001b[0m\u001b[0;34m:\u001b[0m\u001b[0;34m\u001b[0m\u001b[0;34m\u001b[0m\u001b[0m\n",
            "\u001b[0;31mTypeError\u001b[0m: Argument 'string' has incorrect type (expected str, got numpy.ndarray)"
          ]
        }
      ]
    },
    {
      "cell_type": "code",
      "metadata": {
        "colab": {
          "base_uri": "https://localhost:8080/",
          "height": 307
        },
        "id": "o3eReSnz_zY-",
        "outputId": "585955e7-c6e1-44bc-fdac-74608137efa9"
      },
      "source": [
        "explainer = shap.DeepExplainer(model, sample[0])"
      ],
      "execution_count": 56,
      "outputs": [
        {
          "output_type": "error",
          "ename": "AttributeError",
          "evalue": "ignored",
          "traceback": [
            "\u001b[0;31m---------------------------------------------------------------------------\u001b[0m",
            "\u001b[0;31mAttributeError\u001b[0m                            Traceback (most recent call last)",
            "\u001b[0;32m<ipython-input-56-fed8e896be84>\u001b[0m in \u001b[0;36m<module>\u001b[0;34m()\u001b[0m\n\u001b[0;32m----> 1\u001b[0;31m \u001b[0mexplainer\u001b[0m \u001b[0;34m=\u001b[0m \u001b[0mshap\u001b[0m\u001b[0;34m.\u001b[0m\u001b[0mDeepExplainer\u001b[0m\u001b[0;34m(\u001b[0m\u001b[0mmodel\u001b[0m\u001b[0;34m,\u001b[0m \u001b[0msample\u001b[0m\u001b[0;34m[\u001b[0m\u001b[0;36m0\u001b[0m\u001b[0;34m]\u001b[0m\u001b[0;34m)\u001b[0m\u001b[0;34m\u001b[0m\u001b[0;34m\u001b[0m\u001b[0m\n\u001b[0m",
            "\u001b[0;32m/usr/local/lib/python3.7/dist-packages/shap/explainers/_deep/__init__.py\u001b[0m in \u001b[0;36m__init__\u001b[0;34m(self, model, data, session, learning_phase_flags)\u001b[0m\n\u001b[1;32m     84\u001b[0m             \u001b[0mself\u001b[0m\u001b[0;34m.\u001b[0m\u001b[0mexplainer\u001b[0m \u001b[0;34m=\u001b[0m \u001b[0mTFDeep\u001b[0m\u001b[0;34m(\u001b[0m\u001b[0mmodel\u001b[0m\u001b[0;34m,\u001b[0m \u001b[0mdata\u001b[0m\u001b[0;34m,\u001b[0m \u001b[0msession\u001b[0m\u001b[0;34m,\u001b[0m \u001b[0mlearning_phase_flags\u001b[0m\u001b[0;34m)\u001b[0m\u001b[0;34m\u001b[0m\u001b[0;34m\u001b[0m\u001b[0m\n\u001b[1;32m     85\u001b[0m         \u001b[0;32melif\u001b[0m \u001b[0mframework\u001b[0m \u001b[0;34m==\u001b[0m \u001b[0;34m'pytorch'\u001b[0m\u001b[0;34m:\u001b[0m\u001b[0;34m\u001b[0m\u001b[0;34m\u001b[0m\u001b[0m\n\u001b[0;32m---> 86\u001b[0;31m             \u001b[0mself\u001b[0m\u001b[0;34m.\u001b[0m\u001b[0mexplainer\u001b[0m \u001b[0;34m=\u001b[0m \u001b[0mPyTorchDeep\u001b[0m\u001b[0;34m(\u001b[0m\u001b[0mmodel\u001b[0m\u001b[0;34m,\u001b[0m \u001b[0mdata\u001b[0m\u001b[0;34m)\u001b[0m\u001b[0;34m\u001b[0m\u001b[0;34m\u001b[0m\u001b[0m\n\u001b[0m\u001b[1;32m     87\u001b[0m \u001b[0;34m\u001b[0m\u001b[0m\n\u001b[1;32m     88\u001b[0m         \u001b[0mself\u001b[0m\u001b[0;34m.\u001b[0m\u001b[0mexpected_value\u001b[0m \u001b[0;34m=\u001b[0m \u001b[0mself\u001b[0m\u001b[0;34m.\u001b[0m\u001b[0mexplainer\u001b[0m\u001b[0;34m.\u001b[0m\u001b[0mexpected_value\u001b[0m\u001b[0;34m\u001b[0m\u001b[0;34m\u001b[0m\u001b[0m\n",
            "\u001b[0;32m/usr/local/lib/python3.7/dist-packages/shap/explainers/_deep/deep_pytorch.py\u001b[0m in \u001b[0;36m__init__\u001b[0;34m(self, model, data)\u001b[0m\n\u001b[1;32m     52\u001b[0m         \u001b[0mself\u001b[0m\u001b[0;34m.\u001b[0m\u001b[0mnum_outputs\u001b[0m \u001b[0;34m=\u001b[0m \u001b[0;36m1\u001b[0m\u001b[0;34m\u001b[0m\u001b[0;34m\u001b[0m\u001b[0m\n\u001b[1;32m     53\u001b[0m         \u001b[0;32mwith\u001b[0m \u001b[0mtorch\u001b[0m\u001b[0;34m.\u001b[0m\u001b[0mno_grad\u001b[0m\u001b[0;34m(\u001b[0m\u001b[0;34m)\u001b[0m\u001b[0;34m:\u001b[0m\u001b[0;34m\u001b[0m\u001b[0;34m\u001b[0m\u001b[0m\n\u001b[0;32m---> 54\u001b[0;31m             \u001b[0moutputs\u001b[0m \u001b[0;34m=\u001b[0m \u001b[0mmodel\u001b[0m\u001b[0;34m(\u001b[0m\u001b[0;34m*\u001b[0m\u001b[0mdata\u001b[0m\u001b[0;34m)\u001b[0m\u001b[0;34m\u001b[0m\u001b[0;34m\u001b[0m\u001b[0m\n\u001b[0m\u001b[1;32m     55\u001b[0m \u001b[0;34m\u001b[0m\u001b[0m\n\u001b[1;32m     56\u001b[0m             \u001b[0;31m# also get the device everything is running on\u001b[0m\u001b[0;34m\u001b[0m\u001b[0;34m\u001b[0m\u001b[0;34m\u001b[0m\u001b[0m\n",
            "\u001b[0;32m/usr/local/lib/python3.7/dist-packages/torch/nn/modules/module.py\u001b[0m in \u001b[0;36m_call_impl\u001b[0;34m(self, *input, **kwargs)\u001b[0m\n\u001b[1;32m    887\u001b[0m             \u001b[0mresult\u001b[0m \u001b[0;34m=\u001b[0m \u001b[0mself\u001b[0m\u001b[0;34m.\u001b[0m\u001b[0m_slow_forward\u001b[0m\u001b[0;34m(\u001b[0m\u001b[0;34m*\u001b[0m\u001b[0minput\u001b[0m\u001b[0;34m,\u001b[0m \u001b[0;34m**\u001b[0m\u001b[0mkwargs\u001b[0m\u001b[0;34m)\u001b[0m\u001b[0;34m\u001b[0m\u001b[0;34m\u001b[0m\u001b[0m\n\u001b[1;32m    888\u001b[0m         \u001b[0;32melse\u001b[0m\u001b[0;34m:\u001b[0m\u001b[0;34m\u001b[0m\u001b[0;34m\u001b[0m\u001b[0m\n\u001b[0;32m--> 889\u001b[0;31m             \u001b[0mresult\u001b[0m \u001b[0;34m=\u001b[0m \u001b[0mself\u001b[0m\u001b[0;34m.\u001b[0m\u001b[0mforward\u001b[0m\u001b[0;34m(\u001b[0m\u001b[0;34m*\u001b[0m\u001b[0minput\u001b[0m\u001b[0;34m,\u001b[0m \u001b[0;34m**\u001b[0m\u001b[0mkwargs\u001b[0m\u001b[0;34m)\u001b[0m\u001b[0;34m\u001b[0m\u001b[0;34m\u001b[0m\u001b[0m\n\u001b[0m\u001b[1;32m    890\u001b[0m         for hook in itertools.chain(\n\u001b[1;32m    891\u001b[0m                 \u001b[0m_global_forward_hooks\u001b[0m\u001b[0;34m.\u001b[0m\u001b[0mvalues\u001b[0m\u001b[0;34m(\u001b[0m\u001b[0;34m)\u001b[0m\u001b[0;34m,\u001b[0m\u001b[0;34m\u001b[0m\u001b[0;34m\u001b[0m\u001b[0m\n",
            "\u001b[0;32m/usr/local/lib/python3.7/dist-packages/allennlp_models/classification/models/biattentive_classification_network.py\u001b[0m in \u001b[0;36mforward\u001b[0;34m(self, tokens, label)\u001b[0m\n\u001b[1;32m    225\u001b[0m              \u001b[0;34m-\u001b[0m\u001b[0;31m \u001b[0m\u001b[0;31m`\u001b[0m\u001b[0mloss\u001b[0m\u001b[0;31m`\u001b[0m \u001b[0;34m(\u001b[0m\u001b[0;31m`\u001b[0m\u001b[0mtorch\u001b[0m\u001b[0;34m.\u001b[0m\u001b[0mFloatTensor\u001b[0m\u001b[0;31m`\u001b[0m\u001b[0;34m,\u001b[0m \u001b[0moptional\u001b[0m\u001b[0;34m)\u001b[0m \u001b[0;34m:\u001b[0m\u001b[0;34m\u001b[0m\u001b[0;34m\u001b[0m\u001b[0m\n\u001b[1;32m    226\u001b[0m                  A scalar loss to be optimised.\"\"\"\n\u001b[0;32m--> 227\u001b[0;31m         \u001b[0mtext_mask\u001b[0m \u001b[0;34m=\u001b[0m \u001b[0mutil\u001b[0m\u001b[0;34m.\u001b[0m\u001b[0mget_text_field_mask\u001b[0m\u001b[0;34m(\u001b[0m\u001b[0mtokens\u001b[0m\u001b[0;34m)\u001b[0m\u001b[0;34m\u001b[0m\u001b[0;34m\u001b[0m\u001b[0m\n\u001b[0m\u001b[1;32m    228\u001b[0m         \u001b[0;31m# Pop elmo tokens, since elmo embedder should not be present.\u001b[0m\u001b[0;34m\u001b[0m\u001b[0;34m\u001b[0m\u001b[0;34m\u001b[0m\u001b[0m\n\u001b[1;32m    229\u001b[0m         \u001b[0melmo_tokens\u001b[0m \u001b[0;34m=\u001b[0m \u001b[0mtokens\u001b[0m\u001b[0;34m.\u001b[0m\u001b[0mpop\u001b[0m\u001b[0;34m(\u001b[0m\u001b[0;34m\"elmo\"\u001b[0m\u001b[0;34m,\u001b[0m \u001b[0;32mNone\u001b[0m\u001b[0;34m)\u001b[0m\u001b[0;34m\u001b[0m\u001b[0;34m\u001b[0m\u001b[0m\n",
            "\u001b[0;32m/usr/local/lib/python3.7/dist-packages/allennlp/nn/util.py\u001b[0m in \u001b[0;36mget_text_field_mask\u001b[0;34m(text_field_tensors, num_wrapping_dims, padding_id)\u001b[0m\n\u001b[1;32m    605\u001b[0m     \"\"\"\n\u001b[1;32m    606\u001b[0m     \u001b[0mmasks\u001b[0m \u001b[0;34m=\u001b[0m \u001b[0;34m[\u001b[0m\u001b[0;34m]\u001b[0m\u001b[0;34m\u001b[0m\u001b[0;34m\u001b[0m\u001b[0m\n\u001b[0;32m--> 607\u001b[0;31m     \u001b[0;32mfor\u001b[0m \u001b[0mindexer_name\u001b[0m\u001b[0;34m,\u001b[0m \u001b[0mindexer_tensors\u001b[0m \u001b[0;32min\u001b[0m \u001b[0mtext_field_tensors\u001b[0m\u001b[0;34m.\u001b[0m\u001b[0mitems\u001b[0m\u001b[0;34m(\u001b[0m\u001b[0;34m)\u001b[0m\u001b[0;34m:\u001b[0m\u001b[0;34m\u001b[0m\u001b[0;34m\u001b[0m\u001b[0m\n\u001b[0m\u001b[1;32m    608\u001b[0m         \u001b[0;32mif\u001b[0m \u001b[0;34m\"mask\"\u001b[0m \u001b[0;32min\u001b[0m \u001b[0mindexer_tensors\u001b[0m\u001b[0;34m:\u001b[0m\u001b[0;34m\u001b[0m\u001b[0;34m\u001b[0m\u001b[0m\n\u001b[1;32m    609\u001b[0m             \u001b[0mmasks\u001b[0m\u001b[0;34m.\u001b[0m\u001b[0mappend\u001b[0m\u001b[0;34m(\u001b[0m\u001b[0mindexer_tensors\u001b[0m\u001b[0;34m[\u001b[0m\u001b[0;34m\"mask\"\u001b[0m\u001b[0;34m]\u001b[0m\u001b[0;34m.\u001b[0m\u001b[0mbool\u001b[0m\u001b[0;34m(\u001b[0m\u001b[0;34m)\u001b[0m\u001b[0;34m)\u001b[0m\u001b[0;34m\u001b[0m\u001b[0;34m\u001b[0m\u001b[0m\n",
            "\u001b[0;31mAttributeError\u001b[0m: 'str' object has no attribute 'items'"
          ]
        }
      ]
    },
    {
      "cell_type": "code",
      "metadata": {
        "id": "e3rXkua9CU2m"
      },
      "source": [
        ""
      ],
      "execution_count": null,
      "outputs": []
    }
  ]
}