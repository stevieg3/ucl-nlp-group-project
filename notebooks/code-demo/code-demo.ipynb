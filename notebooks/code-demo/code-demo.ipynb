{
 "cells": [
  {
   "cell_type": "code",
   "execution_count": 9,
   "id": "outside-calibration",
   "metadata": {},
   "outputs": [
    {
     "name": "stdout",
     "output_type": "stream",
     "text": [
      "['/home/master/Documents/UCL COMP0087/cw2/ucl-nlp-group-project/notebooks/code-demo', '/home/master/.miniconda3/envs/py38/lib/python38.zip', '/home/master/.miniconda3/envs/py38/lib/python3.8', '/home/master/.miniconda3/envs/py38/lib/python3.8/lib-dynload', '', '/home/master/.virtualenvs/ucl-nlp-group-project/lib/python3.8/site-packages', '/home/master/.virtualenvs/ucl-nlp-group-project/lib/python3.8/site-packages/IPython/extensions', '/home/master/.ipython', '/home/master/Documents/UCL COMP0087/cw2/ucl-nlp-group-project', '/home/master/Documents/UCL COMP0087/cw2/ucl-nlp-group-project']\n"
     ]
    }
   ],
   "source": [
    "import sys\n",
    "import os\n",
    "\n",
    "notebookdir = os.path.abspath(os.curdir)\n",
    "project_root_dir = os.path.abspath(os.path.join(notebookdir, '..', '..'))\n",
    "sys.path.append(project_root_dir)\n",
    "print(sys.path)"
   ]
  },
  {
   "cell_type": "code",
   "execution_count": 16,
   "id": "statistical-mechanism",
   "metadata": {},
   "outputs": [
    {
     "name": "stderr",
     "output_type": "stream",
     "text": [
      "Using custom data configuration default\n",
      "Reusing dataset ag_news (/home/master/.cache/huggingface/datasets/ag_news/default/0.0.0/fb5c5e74a110037311ef5e904583ce9f8b9fbc1354290f97b4929f01b3f48b1a)\n"
     ]
    }
   ],
   "source": [
    "from src.data.dataload import *\n",
    "dataset = load_agnews()\n",
    "train, val, test = dataset.train_val_test"
   ]
  },
  {
   "cell_type": "code",
   "execution_count": 17,
   "id": "minute-sunrise",
   "metadata": {},
   "outputs": [
    {
     "data": {
      "text/html": [
       "<div>\n",
       "<style scoped>\n",
       "    .dataframe tbody tr th:only-of-type {\n",
       "        vertical-align: middle;\n",
       "    }\n",
       "\n",
       "    .dataframe tbody tr th {\n",
       "        vertical-align: top;\n",
       "    }\n",
       "\n",
       "    .dataframe thead th {\n",
       "        text-align: right;\n",
       "    }\n",
       "</style>\n",
       "<table border=\"1\" class=\"dataframe\">\n",
       "  <thead>\n",
       "    <tr style=\"text-align: right;\">\n",
       "      <th></th>\n",
       "      <th>label</th>\n",
       "      <th>text</th>\n",
       "    </tr>\n",
       "  </thead>\n",
       "  <tbody>\n",
       "    <tr>\n",
       "      <th>63464</th>\n",
       "      <td>1</td>\n",
       "      <td>Vikings-Saints Game Stats A look at the team a...</td>\n",
       "    </tr>\n",
       "    <tr>\n",
       "      <th>117777</th>\n",
       "      <td>1</td>\n",
       "      <td>Jets: Edwards says Pennington is still hurting...</td>\n",
       "    </tr>\n",
       "    <tr>\n",
       "      <th>61376</th>\n",
       "      <td>2</td>\n",
       "      <td>Morning Briefing Automakers #39; rich incentiv...</td>\n",
       "    </tr>\n",
       "    <tr>\n",
       "      <th>2386</th>\n",
       "      <td>0</td>\n",
       "      <td>Burundi, Rwanda threaten Congo invasion BUJUMB...</td>\n",
       "    </tr>\n",
       "    <tr>\n",
       "      <th>43943</th>\n",
       "      <td>3</td>\n",
       "      <td>.Mac Increases Email  amp; iDisk Storage .Mac,...</td>\n",
       "    </tr>\n",
       "    <tr>\n",
       "      <th>...</th>\n",
       "      <td>...</td>\n",
       "      <td>...</td>\n",
       "    </tr>\n",
       "    <tr>\n",
       "      <th>95111</th>\n",
       "      <td>0</td>\n",
       "      <td>Egypt blasts shooting, requets probe Egypt str...</td>\n",
       "    </tr>\n",
       "    <tr>\n",
       "      <th>40975</th>\n",
       "      <td>2</td>\n",
       "      <td>Man Utd warns of lower TV revenues Manchester ...</td>\n",
       "    </tr>\n",
       "    <tr>\n",
       "      <th>54466</th>\n",
       "      <td>2</td>\n",
       "      <td>Focus! Focus! Focus! Diversification is usuall...</td>\n",
       "    </tr>\n",
       "    <tr>\n",
       "      <th>20652</th>\n",
       "      <td>2</td>\n",
       "      <td>UPDATE 2-Circuit City same-store growth misses...</td>\n",
       "    </tr>\n",
       "    <tr>\n",
       "      <th>94396</th>\n",
       "      <td>1</td>\n",
       "      <td>Racist Taunts in Spain Fans taunt black player...</td>\n",
       "    </tr>\n",
       "  </tbody>\n",
       "</table>\n",
       "<p>108000 rows × 2 columns</p>\n",
       "</div>"
      ],
      "text/plain": [
       "        label                                               text\n",
       "63464       1  Vikings-Saints Game Stats A look at the team a...\n",
       "117777      1  Jets: Edwards says Pennington is still hurting...\n",
       "61376       2  Morning Briefing Automakers #39; rich incentiv...\n",
       "2386        0  Burundi, Rwanda threaten Congo invasion BUJUMB...\n",
       "43943       3  .Mac Increases Email  amp; iDisk Storage .Mac,...\n",
       "...       ...                                                ...\n",
       "95111       0  Egypt blasts shooting, requets probe Egypt str...\n",
       "40975       2  Man Utd warns of lower TV revenues Manchester ...\n",
       "54466       2  Focus! Focus! Focus! Diversification is usuall...\n",
       "20652       2  UPDATE 2-Circuit City same-store growth misses...\n",
       "94396       1  Racist Taunts in Spain Fans taunt black player...\n",
       "\n",
       "[108000 rows x 2 columns]"
      ]
     },
     "execution_count": 17,
     "metadata": {},
     "output_type": "execute_result"
    }
   ],
   "source": [
    "train"
   ]
  },
  {
   "cell_type": "code",
   "execution_count": null,
   "id": "adjusted-crystal",
   "metadata": {},
   "outputs": [],
   "source": []
  }
 ],
 "metadata": {
  "kernelspec": {
   "display_name": "nlp-model-load",
   "language": "python",
   "name": "nlp-model-load"
  },
  "language_info": {
   "codemirror_mode": {
    "name": "ipython",
    "version": 3
   },
   "file_extension": ".py",
   "mimetype": "text/x-python",
   "name": "python",
   "nbconvert_exporter": "python",
   "pygments_lexer": "ipython3",
   "version": "3.8.8"
  }
 },
 "nbformat": 4,
 "nbformat_minor": 5
}
