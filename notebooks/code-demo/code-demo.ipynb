{
 "cells": [
  {
   "cell_type": "code",
   "execution_count": 4,
   "id": "instructional-slovenia",
   "metadata": {},
   "outputs": [
    {
     "name": "stdout",
     "output_type": "stream",
     "text": [
      "/home/master/.cache/huggingface/modules\n"
     ]
    }
   ],
   "source": [
    "import sys\n",
    "import os\n",
    "\n",
    "notebookdir = os.path.abspath(os.curdir)\n",
    "project_root_dir = os.path.abspath(os.path.join(notebookdir, '..', '..'))\n",
    "if project_root_dir not in sys.path:\n",
    "    sys.path.append(project_root_dir)\n",
    "print(sys.path[-1])"
   ]
  },
  {
   "cell_type": "code",
   "execution_count": 5,
   "id": "found-employment",
   "metadata": {},
   "outputs": [
    {
     "name": "stderr",
     "output_type": "stream",
     "text": [
      "Using custom data configuration default\n",
      "Reusing dataset ag_news (/home/master/.cache/huggingface/datasets/ag_news/default/0.0.0/fb5c5e74a110037311ef5e904583ce9f8b9fbc1354290f97b4929f01b3f48b1a)\n"
     ]
    }
   ],
   "source": [
    "from src.data.dataload import *\n",
    "dataset = load_agnews()\n",
    "train, val, test = dataset.train_val_test"
   ]
  },
  {
   "cell_type": "code",
   "execution_count": 6,
   "id": "invisible-inside",
   "metadata": {},
   "outputs": [
    {
     "data": {
      "text/html": [
       "<div>\n",
       "<style scoped>\n",
       "    .dataframe tbody tr th:only-of-type {\n",
       "        vertical-align: middle;\n",
       "    }\n",
       "\n",
       "    .dataframe tbody tr th {\n",
       "        vertical-align: top;\n",
       "    }\n",
       "\n",
       "    .dataframe thead th {\n",
       "        text-align: right;\n",
       "    }\n",
       "</style>\n",
       "<table border=\"1\" class=\"dataframe\">\n",
       "  <thead>\n",
       "    <tr style=\"text-align: right;\">\n",
       "      <th></th>\n",
       "      <th>label</th>\n",
       "      <th>text</th>\n",
       "    </tr>\n",
       "  </thead>\n",
       "  <tbody>\n",
       "    <tr>\n",
       "      <th>113756</th>\n",
       "      <td>1</td>\n",
       "      <td>Chelsea draws with Arsenal; Birmingham City st...</td>\n",
       "    </tr>\n",
       "    <tr>\n",
       "      <th>107636</th>\n",
       "      <td>3</td>\n",
       "      <td>Speaking Naturally, Anew How does version 8 of...</td>\n",
       "    </tr>\n",
       "    <tr>\n",
       "      <th>14643</th>\n",
       "      <td>0</td>\n",
       "      <td>Five Killed as Typhoon Tears Across Southern J...</td>\n",
       "    </tr>\n",
       "    <tr>\n",
       "      <th>16171</th>\n",
       "      <td>1</td>\n",
       "      <td>News in brief A provisional 2005 calendar was ...</td>\n",
       "    </tr>\n",
       "    <tr>\n",
       "      <th>74449</th>\n",
       "      <td>0</td>\n",
       "      <td>India at bottom half of media freedom index Ne...</td>\n",
       "    </tr>\n",
       "    <tr>\n",
       "      <th>...</th>\n",
       "      <td>...</td>\n",
       "      <td>...</td>\n",
       "    </tr>\n",
       "    <tr>\n",
       "      <th>98249</th>\n",
       "      <td>0</td>\n",
       "      <td>Australia migration focus shifts from Asia to ...</td>\n",
       "    </tr>\n",
       "    <tr>\n",
       "      <th>105223</th>\n",
       "      <td>3</td>\n",
       "      <td>Lycos fights spam with screensaver Lycos is of...</td>\n",
       "    </tr>\n",
       "    <tr>\n",
       "      <th>41074</th>\n",
       "      <td>3</td>\n",
       "      <td>Oracle brings SMB suite to North America Oracl...</td>\n",
       "    </tr>\n",
       "    <tr>\n",
       "      <th>112811</th>\n",
       "      <td>1</td>\n",
       "      <td>Jordan Makes Statement Wizards coach Eddie Jor...</td>\n",
       "    </tr>\n",
       "    <tr>\n",
       "      <th>49034</th>\n",
       "      <td>2</td>\n",
       "      <td>BP Relies on Russia for Higher Production  LON...</td>\n",
       "    </tr>\n",
       "  </tbody>\n",
       "</table>\n",
       "<p>108000 rows × 2 columns</p>\n",
       "</div>"
      ],
      "text/plain": [
       "        label                                               text\n",
       "113756      1  Chelsea draws with Arsenal; Birmingham City st...\n",
       "107636      3  Speaking Naturally, Anew How does version 8 of...\n",
       "14643       0  Five Killed as Typhoon Tears Across Southern J...\n",
       "16171       1  News in brief A provisional 2005 calendar was ...\n",
       "74449       0  India at bottom half of media freedom index Ne...\n",
       "...       ...                                                ...\n",
       "98249       0  Australia migration focus shifts from Asia to ...\n",
       "105223      3  Lycos fights spam with screensaver Lycos is of...\n",
       "41074       3  Oracle brings SMB suite to North America Oracl...\n",
       "112811      1  Jordan Makes Statement Wizards coach Eddie Jor...\n",
       "49034       2  BP Relies on Russia for Higher Production  LON...\n",
       "\n",
       "[108000 rows x 2 columns]"
      ]
     },
     "execution_count": 6,
     "metadata": {},
     "output_type": "execute_result"
    }
   ],
   "source": [
    "train"
   ]
  },
  {
   "cell_type": "code",
   "execution_count": null,
   "id": "bacterial-table",
   "metadata": {},
   "outputs": [],
   "source": []
  }
 ],
 "metadata": {
  "kernelspec": {
   "display_name": "nlp-model-load",
   "language": "python",
   "name": "nlp-model-load"
  },
  "language_info": {
   "codemirror_mode": {
    "name": "ipython",
    "version": 3
   },
   "file_extension": ".py",
   "mimetype": "text/x-python",
   "name": "python",
   "nbconvert_exporter": "python",
   "pygments_lexer": "ipython3",
   "version": "3.8.8"
  }
 },
 "nbformat": 4,
 "nbformat_minor": 5
}
