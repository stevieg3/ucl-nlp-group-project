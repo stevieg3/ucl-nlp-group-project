{
 "cells": [
  {
   "cell_type": "code",
   "execution_count": 9,
   "id": "naughty-course",
   "metadata": {},
   "outputs": [
    {
     "name": "stdout",
     "output_type": "stream",
     "text": [
      "['/home/master/Documents/UCL COMP0087/cw2/ucl-nlp-group-project/notebooks/code-demo', '/home/master/.miniconda3/envs/py38/lib/python38.zip', '/home/master/.miniconda3/envs/py38/lib/python3.8', '/home/master/.miniconda3/envs/py38/lib/python3.8/lib-dynload', '', '/home/master/.virtualenvs/ucl-nlp-group-project/lib/python3.8/site-packages', '/home/master/.virtualenvs/ucl-nlp-group-project/lib/python3.8/site-packages/IPython/extensions', '/home/master/.ipython', '/home/master/Documents/UCL COMP0087/cw2/ucl-nlp-group-project', '/home/master/Documents/UCL COMP0087/cw2/ucl-nlp-group-project']\n"
     ]
    }
   ],
   "source": [
    "import sys\n",
    "import os\n",
    "\n",
    "notebookdir = os.path.abspath(os.curdir)\n",
    "project_root_dir = os.path.abspath(os.path.join(notebookdir, '..', '..'))\n",
    "sys.path.append(project_root_dir)\n",
    "print(sys.path)"
   ]
  },
  {
   "cell_type": "code",
   "execution_count": 12,
   "id": "vertical-difference",
   "metadata": {},
   "outputs": [],
   "source": [
    "from src.data.dataload import *"
   ]
  },
  {
   "cell_type": "raw",
   "id": "tender-repair",
   "metadata": {},
   "source": [
    "dataset = load_agnews()\n",
    "train, val, test = dataset.train_val_test"
   ]
  },
  {
   "cell_type": "code",
   "execution_count": 15,
   "id": "aggressive-injection",
   "metadata": {},
   "outputs": [
    {
     "data": {
      "text/html": [
       "<div>\n",
       "<style scoped>\n",
       "    .dataframe tbody tr th:only-of-type {\n",
       "        vertical-align: middle;\n",
       "    }\n",
       "\n",
       "    .dataframe tbody tr th {\n",
       "        vertical-align: top;\n",
       "    }\n",
       "\n",
       "    .dataframe thead th {\n",
       "        text-align: right;\n",
       "    }\n",
       "</style>\n",
       "<table border=\"1\" class=\"dataframe\">\n",
       "  <thead>\n",
       "    <tr style=\"text-align: right;\">\n",
       "      <th></th>\n",
       "      <th>label</th>\n",
       "      <th>text</th>\n",
       "    </tr>\n",
       "  </thead>\n",
       "  <tbody>\n",
       "    <tr>\n",
       "      <th>95472</th>\n",
       "      <td>0</td>\n",
       "      <td>IRA must take immediate steps to disarm: N. Ir...</td>\n",
       "    </tr>\n",
       "    <tr>\n",
       "      <th>114427</th>\n",
       "      <td>2</td>\n",
       "      <td>Canada #39;s Bombardier Fires CEO Tellier Cana...</td>\n",
       "    </tr>\n",
       "    <tr>\n",
       "      <th>73592</th>\n",
       "      <td>2</td>\n",
       "      <td>Goodrich Posts Higher 3rd-Quarter Profit Aircr...</td>\n",
       "    </tr>\n",
       "    <tr>\n",
       "      <th>23387</th>\n",
       "      <td>3</td>\n",
       "      <td>IBM pushes out new Stinger database SEPTEMBER ...</td>\n",
       "    </tr>\n",
       "    <tr>\n",
       "      <th>6996</th>\n",
       "      <td>3</td>\n",
       "      <td>Advanced Model of World #39;s Smallest Flying ...</td>\n",
       "    </tr>\n",
       "    <tr>\n",
       "      <th>...</th>\n",
       "      <td>...</td>\n",
       "      <td>...</td>\n",
       "    </tr>\n",
       "    <tr>\n",
       "      <th>25784</th>\n",
       "      <td>0</td>\n",
       "      <td>The Fire This Time Eri Suheri can be seen most...</td>\n",
       "    </tr>\n",
       "    <tr>\n",
       "      <th>81129</th>\n",
       "      <td>1</td>\n",
       "      <td>Seau #39;s season over, decision on career nex...</td>\n",
       "    </tr>\n",
       "    <tr>\n",
       "      <th>115981</th>\n",
       "      <td>0</td>\n",
       "      <td>Bush honours controversial trio US President G...</td>\n",
       "    </tr>\n",
       "    <tr>\n",
       "      <th>49566</th>\n",
       "      <td>1</td>\n",
       "      <td>Sosa responds to Baker criticism Sammy Sosa ha...</td>\n",
       "    </tr>\n",
       "    <tr>\n",
       "      <th>9898</th>\n",
       "      <td>0</td>\n",
       "      <td>Discrimination at U.S. Polls Now 'Subtler, Mor...</td>\n",
       "    </tr>\n",
       "  </tbody>\n",
       "</table>\n",
       "<p>108000 rows × 2 columns</p>\n",
       "</div>"
      ],
      "text/plain": [
       "        label                                               text\n",
       "95472       0  IRA must take immediate steps to disarm: N. Ir...\n",
       "114427      2  Canada #39;s Bombardier Fires CEO Tellier Cana...\n",
       "73592       2  Goodrich Posts Higher 3rd-Quarter Profit Aircr...\n",
       "23387       3  IBM pushes out new Stinger database SEPTEMBER ...\n",
       "6996        3  Advanced Model of World #39;s Smallest Flying ...\n",
       "...       ...                                                ...\n",
       "25784       0  The Fire This Time Eri Suheri can be seen most...\n",
       "81129       1  Seau #39;s season over, decision on career nex...\n",
       "115981      0  Bush honours controversial trio US President G...\n",
       "49566       1  Sosa responds to Baker criticism Sammy Sosa ha...\n",
       "9898        0  Discrimination at U.S. Polls Now 'Subtler, Mor...\n",
       "\n",
       "[108000 rows x 2 columns]"
      ]
     },
     "execution_count": 15,
     "metadata": {},
     "output_type": "execute_result"
    }
   ],
   "source": [
    "train"
   ]
  },
  {
   "cell_type": "code",
   "execution_count": null,
   "id": "persistent-feeding",
   "metadata": {},
   "outputs": [],
   "source": []
  }
 ],
 "metadata": {
  "kernelspec": {
   "display_name": "nlp-model-load",
   "language": "python",
   "name": "nlp-model-load"
  },
  "language_info": {
   "codemirror_mode": {
    "name": "ipython",
    "version": 3
   },
   "file_extension": ".py",
   "mimetype": "text/x-python",
   "name": "python",
   "nbconvert_exporter": "python",
   "pygments_lexer": "ipython3",
   "version": "3.8.8"
  }
 },
 "nbformat": 4,
 "nbformat_minor": 5
}
