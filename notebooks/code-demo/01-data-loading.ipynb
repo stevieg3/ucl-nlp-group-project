{
 "cells": [
  {
   "cell_type": "code",
   "execution_count": 1,
   "metadata": {
    "execution": {
     "iopub.execute_input": "2021-04-26T01:20:10.475323Z",
     "iopub.status.busy": "2021-04-26T01:20:10.474630Z",
     "iopub.status.idle": "2021-04-26T01:20:10.477267Z",
     "shell.execute_reply": "2021-04-26T01:20:10.476661Z"
    }
   },
   "outputs": [],
   "source": [
    "import os\n",
    "import sys\n",
    "project_root_dir = os.path.relpath(os.path.join('..', '..'), os.curdir)\n",
    "if project_root_dir not in sys.path:\n",
    "    sys.path += [project_root_dir]"
   ]
  },
  {
   "cell_type": "markdown",
   "metadata": {},
   "source": [
    "# Data<br>\n",
    "Loading data"
   ]
  },
  {
   "cell_type": "code",
   "execution_count": 2,
   "metadata": {
    "execution": {
     "iopub.execute_input": "2021-04-26T01:20:10.481973Z",
     "iopub.status.busy": "2021-04-26T01:20:10.481360Z",
     "iopub.status.idle": "2021-04-26T01:20:12.328000Z",
     "shell.execute_reply": "2021-04-26T01:20:12.327391Z"
    }
   },
   "outputs": [],
   "source": [
    "from src.data.dataload import *"
   ]
  },
  {
   "cell_type": "markdown",
   "metadata": {},
   "source": [
    "## SST"
   ]
  },
  {
   "cell_type": "code",
   "execution_count": 3,
   "metadata": {
    "execution": {
     "iopub.execute_input": "2021-04-26T01:20:12.332240Z",
     "iopub.status.busy": "2021-04-26T01:20:12.331642Z",
     "iopub.status.idle": "2021-04-26T01:20:16.870326Z",
     "shell.execute_reply": "2021-04-26T01:20:16.870781Z"
    }
   },
   "outputs": [
    {
     "name": "stdout",
     "output_type": "stream",
     "text": [
      "loaded sst dataset (feature=\"sentence\", target=\"label\")\n"
     ]
    }
   ],
   "source": [
    "dataset = load_sst()\n",
    "train, val, test = dataset.train_val_test\n",
    "print(f'loaded {dataset.NAME} dataset (feature=\"{dataset.SENTENCE}\", target=\"{dataset.TARGET}\")')"
   ]
  },
  {
   "cell_type": "code",
   "execution_count": 4,
   "metadata": {
    "execution": {
     "iopub.execute_input": "2021-04-26T01:20:16.883482Z",
     "iopub.status.busy": "2021-04-26T01:20:16.882852Z",
     "iopub.status.idle": "2021-04-26T01:20:16.895869Z",
     "shell.execute_reply": "2021-04-26T01:20:16.895257Z"
    }
   },
   "outputs": [
    {
     "data": {
      "text/html": [
       "<div>\n",
       "<style scoped>\n",
       "    .dataframe tbody tr th:only-of-type {\n",
       "        vertical-align: middle;\n",
       "    }\n",
       "\n",
       "    .dataframe tbody tr th {\n",
       "        vertical-align: top;\n",
       "    }\n",
       "\n",
       "    .dataframe thead th {\n",
       "        text-align: right;\n",
       "    }\n",
       "</style>\n",
       "<table border=\"1\" class=\"dataframe\">\n",
       "  <thead>\n",
       "    <tr style=\"text-align: right;\">\n",
       "      <th></th>\n",
       "      <th>sentence</th>\n",
       "      <th>label</th>\n",
       "    </tr>\n",
       "  </thead>\n",
       "  <tbody>\n",
       "    <tr>\n",
       "      <th>0</th>\n",
       "      <td>The Rock is destined to be the 21st Century 's...</td>\n",
       "      <td>3</td>\n",
       "    </tr>\n",
       "    <tr>\n",
       "      <th>1</th>\n",
       "      <td>The gorgeously elaborate continuation of `` Th...</td>\n",
       "      <td>4</td>\n",
       "    </tr>\n",
       "    <tr>\n",
       "      <th>2</th>\n",
       "      <td>Singer/composer Bryan Adams contributes a slew...</td>\n",
       "      <td>3</td>\n",
       "    </tr>\n",
       "    <tr>\n",
       "      <th>3</th>\n",
       "      <td>You 'd think by now America would have had eno...</td>\n",
       "      <td>2</td>\n",
       "    </tr>\n",
       "    <tr>\n",
       "      <th>4</th>\n",
       "      <td>Yet the act is still charming here .</td>\n",
       "      <td>3</td>\n",
       "    </tr>\n",
       "    <tr>\n",
       "      <th>...</th>\n",
       "      <td>...</td>\n",
       "      <td>...</td>\n",
       "    </tr>\n",
       "    <tr>\n",
       "      <th>8539</th>\n",
       "      <td>A real snooze .</td>\n",
       "      <td>0</td>\n",
       "    </tr>\n",
       "    <tr>\n",
       "      <th>8540</th>\n",
       "      <td>No surprises .</td>\n",
       "      <td>1</td>\n",
       "    </tr>\n",
       "    <tr>\n",
       "      <th>8541</th>\n",
       "      <td>We 've seen the hippie-turned-yuppie plot befo...</td>\n",
       "      <td>3</td>\n",
       "    </tr>\n",
       "    <tr>\n",
       "      <th>8542</th>\n",
       "      <td>Her fans walked out muttering words like `` ho...</td>\n",
       "      <td>0</td>\n",
       "    </tr>\n",
       "    <tr>\n",
       "      <th>8543</th>\n",
       "      <td>In this case zero .</td>\n",
       "      <td>1</td>\n",
       "    </tr>\n",
       "  </tbody>\n",
       "</table>\n",
       "<p>8544 rows × 2 columns</p>\n",
       "</div>"
      ],
      "text/plain": [
       "                                               sentence  label\n",
       "0     The Rock is destined to be the 21st Century 's...      3\n",
       "1     The gorgeously elaborate continuation of `` Th...      4\n",
       "2     Singer/composer Bryan Adams contributes a slew...      3\n",
       "3     You 'd think by now America would have had eno...      2\n",
       "4                  Yet the act is still charming here .      3\n",
       "...                                                 ...    ...\n",
       "8539                                    A real snooze .      0\n",
       "8540                                     No surprises .      1\n",
       "8541  We 've seen the hippie-turned-yuppie plot befo...      3\n",
       "8542  Her fans walked out muttering words like `` ho...      0\n",
       "8543                                In this case zero .      1\n",
       "\n",
       "[8544 rows x 2 columns]"
      ]
     },
     "execution_count": 1,
     "metadata": {},
     "output_type": "execute_result"
    }
   ],
   "source": [
    "train"
   ]
  },
  {
   "cell_type": "markdown",
   "metadata": {},
   "source": [
    "## AG News"
   ]
  },
  {
   "cell_type": "code",
   "execution_count": 5,
   "metadata": {
    "execution": {
     "iopub.execute_input": "2021-04-26T01:20:16.900279Z",
     "iopub.status.busy": "2021-04-26T01:20:16.899678Z",
     "iopub.status.idle": "2021-04-26T01:20:17.277606Z",
     "shell.execute_reply": "2021-04-26T01:20:17.277017Z"
    }
   },
   "outputs": [
    {
     "name": "stderr",
     "output_type": "stream",
     "text": [
      "Using custom data configuration default\n",
      "Reusing dataset ag_news (/home/master/.cache/huggingface/datasets/ag_news/default/0.0.0/17ec33e23df9e89565131f989e0fdf78b0cc4672337b582da83fc3c9f79fe34d)\n"
     ]
    },
    {
     "name": "stdout",
     "output_type": "stream",
     "text": [
      "loaded agnews dataset (feature=\"sentence\", target=\"label\")\n"
     ]
    }
   ],
   "source": [
    "dataset = load_agnews()\n",
    "train, val, test = dataset.train_val_test\n",
    "print(f'loaded {dataset.NAME} dataset (feature=\"{dataset.SENTENCE}\", target=\"{dataset.TARGET}\")')"
   ]
  },
  {
   "cell_type": "code",
   "execution_count": 6,
   "metadata": {
    "execution": {
     "iopub.execute_input": "2021-04-26T01:20:17.289670Z",
     "iopub.status.busy": "2021-04-26T01:20:17.289026Z",
     "iopub.status.idle": "2021-04-26T01:20:17.292410Z",
     "shell.execute_reply": "2021-04-26T01:20:17.292893Z"
    }
   },
   "outputs": [
    {
     "data": {
      "text/html": [
       "<div>\n",
       "<style scoped>\n",
       "    .dataframe tbody tr th:only-of-type {\n",
       "        vertical-align: middle;\n",
       "    }\n",
       "\n",
       "    .dataframe tbody tr th {\n",
       "        vertical-align: top;\n",
       "    }\n",
       "\n",
       "    .dataframe thead th {\n",
       "        text-align: right;\n",
       "    }\n",
       "</style>\n",
       "<table border=\"1\" class=\"dataframe\">\n",
       "  <thead>\n",
       "    <tr style=\"text-align: right;\">\n",
       "      <th></th>\n",
       "      <th>sentence</th>\n",
       "      <th>label</th>\n",
       "      <th>title</th>\n",
       "    </tr>\n",
       "  </thead>\n",
       "  <tbody>\n",
       "    <tr>\n",
       "      <th>0</th>\n",
       "      <td>Reuters - Short-sellers, Wall Street's dwindli...</td>\n",
       "      <td>2</td>\n",
       "      <td>Wall St. Bears Claw Back Into the Black (Reuters)</td>\n",
       "    </tr>\n",
       "    <tr>\n",
       "      <th>1</th>\n",
       "      <td>Reuters - Private investment firm Carlyle Grou...</td>\n",
       "      <td>2</td>\n",
       "      <td>Carlyle Looks Toward Commercial Aerospace (Reu...</td>\n",
       "    </tr>\n",
       "    <tr>\n",
       "      <th>2</th>\n",
       "      <td>Reuters - Soaring crude prices plus worriesabo...</td>\n",
       "      <td>2</td>\n",
       "      <td>Oil and Economy Cloud Stocks' Outlook (Reuters)</td>\n",
       "    </tr>\n",
       "    <tr>\n",
       "      <th>3</th>\n",
       "      <td>Reuters - Authorities have halted oil exportfl...</td>\n",
       "      <td>2</td>\n",
       "      <td>Iraq Halts Oil Exports from Main Southern Pipe...</td>\n",
       "    </tr>\n",
       "    <tr>\n",
       "      <th>4</th>\n",
       "      <td>AFP - Tearaway world oil prices, toppling reco...</td>\n",
       "      <td>2</td>\n",
       "      <td>Oil prices soar to all-time record, posing new...</td>\n",
       "    </tr>\n",
       "    <tr>\n",
       "      <th>...</th>\n",
       "      <td>...</td>\n",
       "      <td>...</td>\n",
       "      <td>...</td>\n",
       "    </tr>\n",
       "    <tr>\n",
       "      <th>107995</th>\n",
       "      <td>Microsoft indicated that the defendants used c...</td>\n",
       "      <td>3</td>\n",
       "      <td>Microsoft Sues 7 Spammers</td>\n",
       "    </tr>\n",
       "    <tr>\n",
       "      <th>107996</th>\n",
       "      <td>Reuters - European stock markets hit their hig...</td>\n",
       "      <td>2</td>\n",
       "      <td>Chipmakers Pump Up European Stocks (Reuters)</td>\n",
       "    </tr>\n",
       "    <tr>\n",
       "      <th>107997</th>\n",
       "      <td>LONDON (Reuters) - U.S. shares are set to ope...</td>\n",
       "      <td>2</td>\n",
       "      <td>Intel Sets Upbeat Tone on Wall Street</td>\n",
       "    </tr>\n",
       "    <tr>\n",
       "      <th>107998</th>\n",
       "      <td>LONDON (Reuters) - Battered oil prices stayed...</td>\n",
       "      <td>2</td>\n",
       "      <td>Oil Still Smarting from \\$6 Rout</td>\n",
       "    </tr>\n",
       "    <tr>\n",
       "      <th>107999</th>\n",
       "      <td>FRANKFURT (Reuters) - Continued depreciation ...</td>\n",
       "      <td>2</td>\n",
       "      <td>VW Considers Building Cars in U.S. -Paper</td>\n",
       "    </tr>\n",
       "  </tbody>\n",
       "</table>\n",
       "<p>108000 rows × 3 columns</p>\n",
       "</div>"
      ],
      "text/plain": [
       "                                                 sentence  label  \\\n",
       "0       Reuters - Short-sellers, Wall Street's dwindli...      2   \n",
       "1       Reuters - Private investment firm Carlyle Grou...      2   \n",
       "2       Reuters - Soaring crude prices plus worriesabo...      2   \n",
       "3       Reuters - Authorities have halted oil exportfl...      2   \n",
       "4       AFP - Tearaway world oil prices, toppling reco...      2   \n",
       "...                                                   ...    ...   \n",
       "107995  Microsoft indicated that the defendants used c...      3   \n",
       "107996  Reuters - European stock markets hit their hig...      2   \n",
       "107997   LONDON (Reuters) - U.S. shares are set to ope...      2   \n",
       "107998   LONDON (Reuters) - Battered oil prices stayed...      2   \n",
       "107999   FRANKFURT (Reuters) - Continued depreciation ...      2   \n",
       "\n",
       "                                                    title  \n",
       "0       Wall St. Bears Claw Back Into the Black (Reuters)  \n",
       "1       Carlyle Looks Toward Commercial Aerospace (Reu...  \n",
       "2         Oil and Economy Cloud Stocks' Outlook (Reuters)  \n",
       "3       Iraq Halts Oil Exports from Main Southern Pipe...  \n",
       "4       Oil prices soar to all-time record, posing new...  \n",
       "...                                                   ...  \n",
       "107995                          Microsoft Sues 7 Spammers  \n",
       "107996       Chipmakers Pump Up European Stocks (Reuters)  \n",
       "107997              Intel Sets Upbeat Tone on Wall Street  \n",
       "107998                   Oil Still Smarting from \\$6 Rout  \n",
       "107999          VW Considers Building Cars in U.S. -Paper  \n",
       "\n",
       "[108000 rows x 3 columns]"
      ]
     },
     "execution_count": 1,
     "metadata": {},
     "output_type": "execute_result"
    }
   ],
   "source": [
    "train"
   ]
  }
 ],
 "metadata": {
  "kernelspec": {
   "display_name": "Python 3",
   "language": "python",
   "name": "python3"
  },
  "language_info": {
   "codemirror_mode": {
    "name": "ipython",
    "version": 3
   },
   "file_extension": ".py",
   "mimetype": "text/x-python",
   "name": "python",
   "nbconvert_exporter": "python",
   "pygments_lexer": "ipython3",
   "version": "3.8.8"
  }
 },
 "nbformat": 4,
 "nbformat_minor": 2
}
