{
 "cells": [
  {
   "cell_type": "code",
   "execution_count": 1,
   "id": "dbf5d1f3",
   "metadata": {},
   "outputs": [],
   "source": [
    "import os\n",
    "\n",
    "import numpy as np\n",
    "import torch\n",
    "from transformers import \\\n",
    "    BertForSequenceClassification, \\\n",
    "    BertTokenizer"
   ]
  },
  {
   "cell_type": "code",
   "execution_count": 2,
   "id": "d7fba92b",
   "metadata": {},
   "outputs": [],
   "source": [
    "os.chdir('../..')"
   ]
  },
  {
   "cell_type": "code",
   "execution_count": 3,
   "id": "38d8d2ee",
   "metadata": {},
   "outputs": [],
   "source": [
    "from src.data.dataload import load_sst, load_agnews\n",
    "from src.models.bert_utils import PreTrainedBERT"
   ]
  },
  {
   "cell_type": "code",
   "execution_count": 4,
   "id": "897d2f7d",
   "metadata": {},
   "outputs": [
    {
     "name": "stdout",
     "output_type": "stream",
     "text": [
      "cpu\n"
     ]
    }
   ],
   "source": [
    "device = torch.device(\"cuda:0\" if torch.cuda.is_available() else \"cpu\")\n",
    "print(device)"
   ]
  },
  {
   "cell_type": "markdown",
   "id": "0ed5c179",
   "metadata": {},
   "source": [
    "## SST"
   ]
  },
  {
   "cell_type": "code",
   "execution_count": 5,
   "id": "6884dd15",
   "metadata": {},
   "outputs": [],
   "source": [
    "sst = load_sst()"
   ]
  },
  {
   "cell_type": "code",
   "execution_count": 6,
   "id": "c3397de3",
   "metadata": {},
   "outputs": [],
   "source": [
    "train_sst, val_sst, test_sst = sst.train_val_test"
   ]
  },
  {
   "cell_type": "code",
   "execution_count": 7,
   "id": "25f1ce34",
   "metadata": {},
   "outputs": [
    {
     "name": "stdout",
     "output_type": "stream",
     "text": [
      "(8544, 2)\n"
     ]
    },
    {
     "data": {
      "text/html": [
       "<div>\n",
       "<style scoped>\n",
       "    .dataframe tbody tr th:only-of-type {\n",
       "        vertical-align: middle;\n",
       "    }\n",
       "\n",
       "    .dataframe tbody tr th {\n",
       "        vertical-align: top;\n",
       "    }\n",
       "\n",
       "    .dataframe thead th {\n",
       "        text-align: right;\n",
       "    }\n",
       "</style>\n",
       "<table border=\"1\" class=\"dataframe\">\n",
       "  <thead>\n",
       "    <tr style=\"text-align: right;\">\n",
       "      <th></th>\n",
       "      <th>sentence</th>\n",
       "      <th>label</th>\n",
       "    </tr>\n",
       "  </thead>\n",
       "  <tbody>\n",
       "    <tr>\n",
       "      <th>0</th>\n",
       "      <td>The Rock is destined to be the 21st Century 's...</td>\n",
       "      <td>3</td>\n",
       "    </tr>\n",
       "    <tr>\n",
       "      <th>1</th>\n",
       "      <td>The gorgeously elaborate continuation of `` Th...</td>\n",
       "      <td>4</td>\n",
       "    </tr>\n",
       "    <tr>\n",
       "      <th>2</th>\n",
       "      <td>Singer/composer Bryan Adams contributes a slew...</td>\n",
       "      <td>3</td>\n",
       "    </tr>\n",
       "    <tr>\n",
       "      <th>3</th>\n",
       "      <td>You 'd think by now America would have had eno...</td>\n",
       "      <td>2</td>\n",
       "    </tr>\n",
       "    <tr>\n",
       "      <th>4</th>\n",
       "      <td>Yet the act is still charming here .</td>\n",
       "      <td>3</td>\n",
       "    </tr>\n",
       "  </tbody>\n",
       "</table>\n",
       "</div>"
      ],
      "text/plain": [
       "                                            sentence  label\n",
       "0  The Rock is destined to be the 21st Century 's...      3\n",
       "1  The gorgeously elaborate continuation of `` Th...      4\n",
       "2  Singer/composer Bryan Adams contributes a slew...      3\n",
       "3  You 'd think by now America would have had eno...      2\n",
       "4               Yet the act is still charming here .      3"
      ]
     },
     "execution_count": 7,
     "metadata": {},
     "output_type": "execute_result"
    }
   ],
   "source": [
    "print(train_sst.shape)\n",
    "train_sst.head()"
   ]
  },
  {
   "cell_type": "code",
   "execution_count": 8,
   "id": "caeff14b",
   "metadata": {},
   "outputs": [],
   "source": [
    "bert_sst = PreTrainedBERT(device=device, dataset='sst')"
   ]
  },
  {
   "cell_type": "code",
   "execution_count": 9,
   "id": "baa42e6d",
   "metadata": {},
   "outputs": [
    {
     "data": {
      "text/plain": [
       "PreTrainedTokenizer(name_or_path='bert-base-uncased', vocab_size=30522, model_max_len=512, is_fast=False, padding_side='right', special_tokens={'unk_token': '[UNK]', 'sep_token': '[SEP]', 'pad_token': '[PAD]', 'cls_token': '[CLS]', 'mask_token': '[MASK]'})"
      ]
     },
     "execution_count": 9,
     "metadata": {},
     "output_type": "execute_result"
    }
   ],
   "source": [
    "bert_sst.tokenizer"
   ]
  },
  {
   "cell_type": "code",
   "execution_count": 10,
   "id": "7059dd2d",
   "metadata": {},
   "outputs": [
    {
     "name": "stderr",
     "output_type": "stream",
     "text": [
      "100%|██████████| 1/1 [00:01<00:00,  1.29s/it]\n"
     ]
    }
   ],
   "source": [
    "logits, probs = bert_sst.predict(\n",
    "    sentence_array=train_sst.head(10)['sentence']\n",
    ")"
   ]
  },
  {
   "cell_type": "code",
   "execution_count": 11,
   "id": "e25c1e09",
   "metadata": {},
   "outputs": [
    {
     "data": {
      "text/plain": [
       "array([[-2.1788163 , -2.1071174 , -0.62480575,  2.2194335 ,  2.7322145 ],\n",
       "       [-1.7536162 , -2.044077  , -1.0482408 ,  1.7289542 ,  3.2294014 ],\n",
       "       [-3.0301542 , -1.2249986 ,  0.51971126,  2.2774696 ,  0.24015394],\n",
       "       [-0.5998924 ,  0.95011234,  0.81817615, -0.26388645, -2.0391357 ],\n",
       "       [-3.2010188 , -1.7842047 ,  0.50896597,  2.8780212 ,  1.0130019 ],\n",
       "       [-2.6354063 , -2.338395  , -0.34518975,  2.6789994 ,  2.1916533 ],\n",
       "       [-2.2030933 , -2.1841588 , -0.58300143,  1.9689634 ,  2.2782674 ],\n",
       "       [-2.9441814 , -1.8061488 ,  0.03783898,  2.6421356 ,  1.1196613 ],\n",
       "       [-2.1810088 , -0.6658555 ,  0.05744424,  1.4511299 ,  0.8648205 ],\n",
       "       [-1.4431202 ,  0.7792491 ,  1.176192  ,  0.20800184, -1.9727913 ]],\n",
       "      dtype=float32)"
      ]
     },
     "execution_count": 11,
     "metadata": {},
     "output_type": "execute_result"
    }
   ],
   "source": [
    "logits"
   ]
  },
  {
   "cell_type": "code",
   "execution_count": 12,
   "id": "fb9d7884",
   "metadata": {},
   "outputs": [
    {
     "data": {
      "text/plain": [
       "array([[0.00446643, 0.00479843, 0.02112802, 0.36315843, 0.6064487 ],\n",
       "       [0.00548758, 0.00410426, 0.01111018, 0.17858365, 0.8007144 ],\n",
       "       [0.00370262, 0.02251533, 0.12888317, 0.7474479 , 0.09745093],\n",
       "       [0.08713014, 0.41051298, 0.3597723 , 0.12192532, 0.02065917],\n",
       "       [0.00181747, 0.00749518, 0.0742495 , 0.793526  , 0.1229118 ],\n",
       "       [0.0029385 , 0.00395472, 0.02902376, 0.59723115, 0.36685184],\n",
       "       [0.00623923, 0.00635849, 0.03153029, 0.40460595, 0.5512661 ],\n",
       "       [0.002867  , 0.00894681, 0.05655904, 0.7647751 , 0.16685206],\n",
       "       [0.01355933, 0.06169656, 0.1271704 , 0.51245534, 0.2851183 ],\n",
       "       [0.03360545, 0.31015047, 0.46127784, 0.17517936, 0.01978684]],\n",
       "      dtype=float32)"
      ]
     },
     "execution_count": 12,
     "metadata": {},
     "output_type": "execute_result"
    }
   ],
   "source": [
    "probs"
   ]
  },
  {
   "cell_type": "code",
   "execution_count": 13,
   "id": "6ccecfa2",
   "metadata": {},
   "outputs": [],
   "source": [
    "np.testing.assert_array_equal(\n",
    "    logits.argmax(axis=1),\n",
    "    probs.argmax(axis=1)\n",
    ")"
   ]
  },
  {
   "cell_type": "code",
   "execution_count": 14,
   "id": "6a30fa53",
   "metadata": {},
   "outputs": [
    {
     "data": {
      "text/plain": [
       "array([4, 4, 3, 1, 3, 3, 4, 3, 3, 2])"
      ]
     },
     "execution_count": 14,
     "metadata": {},
     "output_type": "execute_result"
    }
   ],
   "source": [
    "labels = logits.argmax(axis=1)\n",
    "labels"
   ]
  },
  {
   "cell_type": "markdown",
   "id": "2303e77b",
   "metadata": {},
   "source": [
    "## AG News"
   ]
  },
  {
   "cell_type": "code",
   "execution_count": 15,
   "id": "ce75fa8d",
   "metadata": {},
   "outputs": [],
   "source": [
    "ag = load_agnews()"
   ]
  },
  {
   "cell_type": "code",
   "execution_count": 16,
   "id": "b66c8424",
   "metadata": {},
   "outputs": [
    {
     "name": "stderr",
     "output_type": "stream",
     "text": [
      "Using custom data configuration default\n",
      "Reusing dataset ag_news (/Users/stevengeorge/.cache/huggingface/datasets/ag_news/default/0.0.0/17ec33e23df9e89565131f989e0fdf78b0cc4672337b582da83fc3c9f79fe34d)\n"
     ]
    }
   ],
   "source": [
    "train_ag, val_ag, test_ag = ag.train_val_test"
   ]
  },
  {
   "cell_type": "code",
   "execution_count": 17,
   "id": "767053e9",
   "metadata": {},
   "outputs": [
    {
     "name": "stdout",
     "output_type": "stream",
     "text": [
      "(108000, 3)\n"
     ]
    },
    {
     "data": {
      "text/html": [
       "<div>\n",
       "<style scoped>\n",
       "    .dataframe tbody tr th:only-of-type {\n",
       "        vertical-align: middle;\n",
       "    }\n",
       "\n",
       "    .dataframe tbody tr th {\n",
       "        vertical-align: top;\n",
       "    }\n",
       "\n",
       "    .dataframe thead th {\n",
       "        text-align: right;\n",
       "    }\n",
       "</style>\n",
       "<table border=\"1\" class=\"dataframe\">\n",
       "  <thead>\n",
       "    <tr style=\"text-align: right;\">\n",
       "      <th></th>\n",
       "      <th>sentence</th>\n",
       "      <th>label</th>\n",
       "      <th>title</th>\n",
       "    </tr>\n",
       "  </thead>\n",
       "  <tbody>\n",
       "    <tr>\n",
       "      <th>0</th>\n",
       "      <td>Reuters - Short-sellers, Wall Street's dwindli...</td>\n",
       "      <td>2</td>\n",
       "      <td>Wall St. Bears Claw Back Into the Black (Reuters)</td>\n",
       "    </tr>\n",
       "    <tr>\n",
       "      <th>1</th>\n",
       "      <td>Reuters - Private investment firm Carlyle Grou...</td>\n",
       "      <td>2</td>\n",
       "      <td>Carlyle Looks Toward Commercial Aerospace (Reu...</td>\n",
       "    </tr>\n",
       "    <tr>\n",
       "      <th>2</th>\n",
       "      <td>Reuters - Soaring crude prices plus worriesabo...</td>\n",
       "      <td>2</td>\n",
       "      <td>Oil and Economy Cloud Stocks' Outlook (Reuters)</td>\n",
       "    </tr>\n",
       "    <tr>\n",
       "      <th>3</th>\n",
       "      <td>Reuters - Authorities have halted oil exportfl...</td>\n",
       "      <td>2</td>\n",
       "      <td>Iraq Halts Oil Exports from Main Southern Pipe...</td>\n",
       "    </tr>\n",
       "    <tr>\n",
       "      <th>4</th>\n",
       "      <td>AFP - Tearaway world oil prices, toppling reco...</td>\n",
       "      <td>2</td>\n",
       "      <td>Oil prices soar to all-time record, posing new...</td>\n",
       "    </tr>\n",
       "  </tbody>\n",
       "</table>\n",
       "</div>"
      ],
      "text/plain": [
       "                                            sentence  label  \\\n",
       "0  Reuters - Short-sellers, Wall Street's dwindli...      2   \n",
       "1  Reuters - Private investment firm Carlyle Grou...      2   \n",
       "2  Reuters - Soaring crude prices plus worriesabo...      2   \n",
       "3  Reuters - Authorities have halted oil exportfl...      2   \n",
       "4  AFP - Tearaway world oil prices, toppling reco...      2   \n",
       "\n",
       "                                               title  \n",
       "0  Wall St. Bears Claw Back Into the Black (Reuters)  \n",
       "1  Carlyle Looks Toward Commercial Aerospace (Reu...  \n",
       "2    Oil and Economy Cloud Stocks' Outlook (Reuters)  \n",
       "3  Iraq Halts Oil Exports from Main Southern Pipe...  \n",
       "4  Oil prices soar to all-time record, posing new...  "
      ]
     },
     "execution_count": 17,
     "metadata": {},
     "output_type": "execute_result"
    }
   ],
   "source": [
    "print(train_ag.shape)\n",
    "train_ag.head()"
   ]
  },
  {
   "cell_type": "code",
   "execution_count": 18,
   "id": "7186e3a1",
   "metadata": {},
   "outputs": [],
   "source": [
    "bert_ag = PreTrainedBERT(device=device, dataset='agn')"
   ]
  },
  {
   "cell_type": "code",
   "execution_count": 19,
   "id": "0f3230a5",
   "metadata": {},
   "outputs": [
    {
     "data": {
      "text/plain": [
       "PreTrainedTokenizer(name_or_path='bert-base-uncased', vocab_size=30522, model_max_len=512, is_fast=False, padding_side='right', special_tokens={'unk_token': '[UNK]', 'sep_token': '[SEP]', 'pad_token': '[PAD]', 'cls_token': '[CLS]', 'mask_token': '[MASK]'})"
      ]
     },
     "execution_count": 19,
     "metadata": {},
     "output_type": "execute_result"
    }
   ],
   "source": [
    "bert_ag.tokenizer"
   ]
  },
  {
   "cell_type": "code",
   "execution_count": 20,
   "id": "8b029185",
   "metadata": {},
   "outputs": [
    {
     "name": "stderr",
     "output_type": "stream",
     "text": [
      "100%|██████████| 1/1 [00:07<00:00,  7.61s/it]\n"
     ]
    }
   ],
   "source": [
    "logits, probs = bert_ag.predict(\n",
    "    sentence_array=train_ag.head(10)['sentence']\n",
    ")"
   ]
  },
  {
   "cell_type": "code",
   "execution_count": 21,
   "id": "ea31ee1b",
   "metadata": {},
   "outputs": [
    {
     "data": {
      "text/plain": [
       "array([[-0.43939516, -3.8122914 ,  4.701639  , -1.4323643 ],\n",
       "       [-2.5380313 , -3.0589104 ,  5.5920086 , -0.8595964 ],\n",
       "       [-1.8376439 , -3.129275  ,  5.5971174 , -1.6488357 ],\n",
       "       [ 2.7521205 , -3.7608418 ,  2.64813   , -2.8582907 ],\n",
       "       [-0.15808287, -3.7708144 ,  4.61434   , -1.863463  ],\n",
       "       [-1.4470259 , -3.915394  ,  5.4003773 , -1.0820162 ],\n",
       "       [-0.33370143, -3.6063373 ,  4.796135  , -1.9481618 ],\n",
       "       [-1.5505748 , -3.378364  ,  5.5192003 , -1.669473  ],\n",
       "       [-1.9751476 , -3.1773708 ,  5.6033697 , -1.3229743 ],\n",
       "       [-1.7016826 , -3.5161715 ,  5.6646147 , -1.500557  ]],\n",
       "      dtype=float32)"
      ]
     },
     "execution_count": 21,
     "metadata": {},
     "output_type": "execute_result"
    }
   ],
   "source": [
    "logits"
   ]
  },
  {
   "cell_type": "code",
   "execution_count": 22,
   "id": "853294fd",
   "metadata": {},
   "outputs": [
    {
     "data": {
      "text/plain": [
       "array([[5.8039259e-03, 1.9901767e-04, 9.9184680e-01, 2.1502092e-03],\n",
       "       [2.9395448e-04, 1.7460846e-04, 9.9795663e-01, 1.5747633e-03],\n",
       "       [5.8950600e-04, 1.6200921e-04, 9.9853647e-01, 7.1201060e-04],\n",
       "       [5.2455509e-01, 7.7848008e-04, 4.7274676e-01, 1.9196430e-03],\n",
       "       [8.3742291e-03, 2.2592035e-04, 9.8987818e-01, 1.5216254e-03],\n",
       "       [1.0593691e-03, 8.9752932e-05, 9.9732482e-01, 1.5260509e-03],\n",
       "       [5.8745299e-03, 2.2268214e-04, 9.9273384e-01, 1.1690197e-03],\n",
       "       [8.4894529e-04, 1.3648380e-04, 9.9826080e-01, 7.5377681e-04],\n",
       "       [5.1047822e-04, 1.5341162e-04, 9.9835616e-01, 9.7996951e-04],\n",
       "       [6.3125265e-04, 1.0284442e-04, 9.9849403e-01, 7.7188207e-04]],\n",
       "      dtype=float32)"
      ]
     },
     "execution_count": 22,
     "metadata": {},
     "output_type": "execute_result"
    }
   ],
   "source": [
    "probs"
   ]
  },
  {
   "cell_type": "code",
   "execution_count": 23,
   "id": "2c760a9c",
   "metadata": {},
   "outputs": [],
   "source": [
    "np.testing.assert_array_equal(\n",
    "    logits.argmax(axis=1),\n",
    "    probs.argmax(axis=1)\n",
    ")"
   ]
  },
  {
   "cell_type": "code",
   "execution_count": 24,
   "id": "80e40148",
   "metadata": {},
   "outputs": [
    {
     "data": {
      "text/plain": [
       "array([2, 2, 2, 0, 2, 2, 2, 2, 2, 2])"
      ]
     },
     "execution_count": 24,
     "metadata": {},
     "output_type": "execute_result"
    }
   ],
   "source": [
    "labels = logits.argmax(axis=1)\n",
    "labels"
   ]
  }
 ],
 "metadata": {
  "kernelspec": {
   "display_name": "Python 3",
   "language": "python",
   "name": "python3"
  },
  "language_info": {
   "codemirror_mode": {
    "name": "ipython",
    "version": 3
   },
   "file_extension": ".py",
   "mimetype": "text/x-python",
   "name": "python",
   "nbconvert_exporter": "python",
   "pygments_lexer": "ipython3",
   "version": "3.7.10"
  }
 },
 "nbformat": 4,
 "nbformat_minor": 5
}
