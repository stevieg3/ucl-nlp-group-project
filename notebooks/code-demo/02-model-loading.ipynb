{
 "cells": [
  {
   "cell_type": "code",
   "execution_count": 1,
   "id": "37e21b12",
   "metadata": {},
   "outputs": [],
   "source": [
    "import os\n",
    "\n",
    "import torch\n",
    "from transformers import \\\n",
    "    BertForSequenceClassification, \\\n",
    "    BertTokenizer"
   ]
  },
  {
   "cell_type": "code",
   "execution_count": 2,
   "id": "9a6cfbce",
   "metadata": {},
   "outputs": [],
   "source": [
    "os.chdir('../..')"
   ]
  },
  {
   "cell_type": "code",
   "execution_count": 3,
   "id": "7983f304",
   "metadata": {},
   "outputs": [],
   "source": [
    "from src.data.dataload import load_sst, load_agnews\n",
    "from src.models.bert_utils import \\\n",
    "    SST_MAX_LENGTH, \\\n",
    "    SST_BERT_HYPERPARAMETERS, \\\n",
    "    make_predictions, \\\n",
    "    AGN_MAX_LENGTH, \\\n",
    "    AGN_BERT_HYPERPARAMETERS"
   ]
  },
  {
   "cell_type": "code",
   "execution_count": 4,
   "id": "78f83b89",
   "metadata": {},
   "outputs": [
    {
     "name": "stdout",
     "output_type": "stream",
     "text": [
      "cpu\n"
     ]
    }
   ],
   "source": [
    "device = torch.device(\"cuda:0\" if torch.cuda.is_available() else \"cpu\")\n",
    "print(device)"
   ]
  },
  {
   "cell_type": "markdown",
   "id": "67db1498",
   "metadata": {},
   "source": [
    "## BERT"
   ]
  },
  {
   "cell_type": "code",
   "execution_count": 5,
   "id": "fc1a633c",
   "metadata": {},
   "outputs": [],
   "source": [
    "tokenizer = BertTokenizer.from_pretrained('bert-base-uncased', do_lower_case=True)"
   ]
  },
  {
   "cell_type": "code",
   "execution_count": 6,
   "id": "af7ce40e",
   "metadata": {},
   "outputs": [],
   "source": [
    "bert_sst = BertForSequenceClassification.from_pretrained(\"models/fine-tuned-bert-base-sst\")"
   ]
  },
  {
   "cell_type": "code",
   "execution_count": 7,
   "id": "ebda79c0",
   "metadata": {},
   "outputs": [],
   "source": [
    "%%capture\n",
    "bert_sst.to(device)"
   ]
  },
  {
   "cell_type": "code",
   "execution_count": 8,
   "id": "68a3f8b5",
   "metadata": {},
   "outputs": [],
   "source": [
    "sst = load_sst()"
   ]
  },
  {
   "cell_type": "code",
   "execution_count": 9,
   "id": "d2c0f59d",
   "metadata": {},
   "outputs": [],
   "source": [
    "train_sst, val_sst, test_sst = sst.train_val_test"
   ]
  },
  {
   "cell_type": "code",
   "execution_count": 10,
   "id": "02d8720a",
   "metadata": {},
   "outputs": [
    {
     "data": {
      "text/html": [
       "<div>\n",
       "<style scoped>\n",
       "    .dataframe tbody tr th:only-of-type {\n",
       "        vertical-align: middle;\n",
       "    }\n",
       "\n",
       "    .dataframe tbody tr th {\n",
       "        vertical-align: top;\n",
       "    }\n",
       "\n",
       "    .dataframe thead th {\n",
       "        text-align: right;\n",
       "    }\n",
       "</style>\n",
       "<table border=\"1\" class=\"dataframe\">\n",
       "  <thead>\n",
       "    <tr style=\"text-align: right;\">\n",
       "      <th></th>\n",
       "      <th>sentence</th>\n",
       "      <th>label</th>\n",
       "    </tr>\n",
       "  </thead>\n",
       "  <tbody>\n",
       "    <tr>\n",
       "      <th>0</th>\n",
       "      <td>The Rock is destined to be the 21st Century 's...</td>\n",
       "      <td>3</td>\n",
       "    </tr>\n",
       "    <tr>\n",
       "      <th>1</th>\n",
       "      <td>The gorgeously elaborate continuation of `` Th...</td>\n",
       "      <td>4</td>\n",
       "    </tr>\n",
       "    <tr>\n",
       "      <th>2</th>\n",
       "      <td>Singer/composer Bryan Adams contributes a slew...</td>\n",
       "      <td>3</td>\n",
       "    </tr>\n",
       "    <tr>\n",
       "      <th>3</th>\n",
       "      <td>You 'd think by now America would have had eno...</td>\n",
       "      <td>2</td>\n",
       "    </tr>\n",
       "    <tr>\n",
       "      <th>4</th>\n",
       "      <td>Yet the act is still charming here .</td>\n",
       "      <td>3</td>\n",
       "    </tr>\n",
       "  </tbody>\n",
       "</table>\n",
       "</div>"
      ],
      "text/plain": [
       "                                            sentence  label\n",
       "0  The Rock is destined to be the 21st Century 's...      3\n",
       "1  The gorgeously elaborate continuation of `` Th...      4\n",
       "2  Singer/composer Bryan Adams contributes a slew...      3\n",
       "3  You 'd think by now America would have had eno...      2\n",
       "4               Yet the act is still charming here .      3"
      ]
     },
     "execution_count": 10,
     "metadata": {},
     "output_type": "execute_result"
    }
   ],
   "source": [
    "train_sst.head()"
   ]
  },
  {
   "cell_type": "code",
   "execution_count": 11,
   "id": "a6a3003b",
   "metadata": {},
   "outputs": [
    {
     "name": "stderr",
     "output_type": "stream",
     "text": [
      "100%|██████████| 1/1 [00:01<00:00,  1.28s/it]\n"
     ]
    }
   ],
   "source": [
    "predictions = make_predictions(\n",
    "    df=train_sst.head(10), \n",
    "    model=bert_sst,\n",
    "    tokenizer=tokenizer,\n",
    "    sentence_col_name='sentence',\n",
    "    device=device,\n",
    "    max_length=SST_MAX_LENGTH,\n",
    "    hyperparameter_dict=SST_BERT_HYPERPARAMETERS\n",
    ")"
   ]
  },
  {
   "cell_type": "code",
   "execution_count": 12,
   "id": "421fe53d",
   "metadata": {},
   "outputs": [
    {
     "data": {
      "text/plain": [
       "array([4, 4, 3, 1, 3, 3, 4, 3, 3, 2])"
      ]
     },
     "execution_count": 12,
     "metadata": {},
     "output_type": "execute_result"
    }
   ],
   "source": [
    "predictions"
   ]
  },
  {
   "cell_type": "markdown",
   "id": "e4f3bb26",
   "metadata": {},
   "source": [
    "## AG News"
   ]
  },
  {
   "cell_type": "code",
   "execution_count": 13,
   "id": "8c9b435c",
   "metadata": {},
   "outputs": [],
   "source": [
    "tokenizer = BertTokenizer.from_pretrained('bert-base-uncased', do_lower_case=True)"
   ]
  },
  {
   "cell_type": "code",
   "execution_count": 14,
   "id": "01fd26cf",
   "metadata": {},
   "outputs": [],
   "source": [
    "bert_ag = BertForSequenceClassification.from_pretrained(\"models/fine-tuned-bert-base-agn/\")"
   ]
  },
  {
   "cell_type": "code",
   "execution_count": 15,
   "id": "73e3747b",
   "metadata": {},
   "outputs": [],
   "source": [
    "%%capture\n",
    "bert_ag.to(device)"
   ]
  },
  {
   "cell_type": "code",
   "execution_count": 16,
   "id": "0f6aa0b1",
   "metadata": {},
   "outputs": [],
   "source": [
    "ag = load_agnews()"
   ]
  },
  {
   "cell_type": "code",
   "execution_count": 17,
   "id": "d0d5a486",
   "metadata": {},
   "outputs": [
    {
     "name": "stderr",
     "output_type": "stream",
     "text": [
      "Using custom data configuration default\n",
      "Reusing dataset ag_news (/Users/stevengeorge/.cache/huggingface/datasets/ag_news/default/0.0.0/17ec33e23df9e89565131f989e0fdf78b0cc4672337b582da83fc3c9f79fe34d)\n"
     ]
    }
   ],
   "source": [
    "train_ag, val_ag, test_ag = ag.train_val_test"
   ]
  },
  {
   "cell_type": "code",
   "execution_count": 18,
   "id": "81733c5a",
   "metadata": {},
   "outputs": [
    {
     "data": {
      "text/html": [
       "<div>\n",
       "<style scoped>\n",
       "    .dataframe tbody tr th:only-of-type {\n",
       "        vertical-align: middle;\n",
       "    }\n",
       "\n",
       "    .dataframe tbody tr th {\n",
       "        vertical-align: top;\n",
       "    }\n",
       "\n",
       "    .dataframe thead th {\n",
       "        text-align: right;\n",
       "    }\n",
       "</style>\n",
       "<table border=\"1\" class=\"dataframe\">\n",
       "  <thead>\n",
       "    <tr style=\"text-align: right;\">\n",
       "      <th></th>\n",
       "      <th>sentence</th>\n",
       "      <th>label</th>\n",
       "      <th>title</th>\n",
       "    </tr>\n",
       "  </thead>\n",
       "  <tbody>\n",
       "    <tr>\n",
       "      <th>0</th>\n",
       "      <td>Reuters - Short-sellers, Wall Street's dwindli...</td>\n",
       "      <td>2</td>\n",
       "      <td>Wall St. Bears Claw Back Into the Black (Reuters)</td>\n",
       "    </tr>\n",
       "    <tr>\n",
       "      <th>1</th>\n",
       "      <td>Reuters - Private investment firm Carlyle Grou...</td>\n",
       "      <td>2</td>\n",
       "      <td>Carlyle Looks Toward Commercial Aerospace (Reu...</td>\n",
       "    </tr>\n",
       "    <tr>\n",
       "      <th>2</th>\n",
       "      <td>Reuters - Soaring crude prices plus worriesabo...</td>\n",
       "      <td>2</td>\n",
       "      <td>Oil and Economy Cloud Stocks' Outlook (Reuters)</td>\n",
       "    </tr>\n",
       "    <tr>\n",
       "      <th>3</th>\n",
       "      <td>Reuters - Authorities have halted oil exportfl...</td>\n",
       "      <td>2</td>\n",
       "      <td>Iraq Halts Oil Exports from Main Southern Pipe...</td>\n",
       "    </tr>\n",
       "    <tr>\n",
       "      <th>4</th>\n",
       "      <td>AFP - Tearaway world oil prices, toppling reco...</td>\n",
       "      <td>2</td>\n",
       "      <td>Oil prices soar to all-time record, posing new...</td>\n",
       "    </tr>\n",
       "  </tbody>\n",
       "</table>\n",
       "</div>"
      ],
      "text/plain": [
       "                                            sentence  label  \\\n",
       "0  Reuters - Short-sellers, Wall Street's dwindli...      2   \n",
       "1  Reuters - Private investment firm Carlyle Grou...      2   \n",
       "2  Reuters - Soaring crude prices plus worriesabo...      2   \n",
       "3  Reuters - Authorities have halted oil exportfl...      2   \n",
       "4  AFP - Tearaway world oil prices, toppling reco...      2   \n",
       "\n",
       "                                               title  \n",
       "0  Wall St. Bears Claw Back Into the Black (Reuters)  \n",
       "1  Carlyle Looks Toward Commercial Aerospace (Reu...  \n",
       "2    Oil and Economy Cloud Stocks' Outlook (Reuters)  \n",
       "3  Iraq Halts Oil Exports from Main Southern Pipe...  \n",
       "4  Oil prices soar to all-time record, posing new...  "
      ]
     },
     "execution_count": 18,
     "metadata": {},
     "output_type": "execute_result"
    }
   ],
   "source": [
    "train_ag.head()"
   ]
  },
  {
   "cell_type": "code",
   "execution_count": 20,
   "id": "0bcf6187",
   "metadata": {},
   "outputs": [
    {
     "name": "stderr",
     "output_type": "stream",
     "text": [
      "100%|██████████| 1/1 [00:07<00:00,  7.63s/it]\n"
     ]
    }
   ],
   "source": [
    "predictions = make_predictions(\n",
    "    df=train_ag.head(10), \n",
    "    model=bert_ag,\n",
    "    tokenizer=tokenizer,\n",
    "    sentence_col_name='sentence',\n",
    "    device=device,\n",
    "    max_length=AGN_MAX_LENGTH,\n",
    "    hyperparameter_dict=AGN_BERT_HYPERPARAMETERS\n",
    ")"
   ]
  },
  {
   "cell_type": "code",
   "execution_count": 21,
   "id": "b3ab72c5",
   "metadata": {},
   "outputs": [
    {
     "data": {
      "text/plain": [
       "array([2, 2, 2, 0, 2, 2, 2, 2, 2, 2])"
      ]
     },
     "execution_count": 21,
     "metadata": {},
     "output_type": "execute_result"
    }
   ],
   "source": [
    "predictions"
   ]
  }
 ],
 "metadata": {
  "kernelspec": {
   "display_name": "Python 3",
   "language": "python",
   "name": "python3"
  },
  "language_info": {
   "codemirror_mode": {
    "name": "ipython",
    "version": 3
   },
   "file_extension": ".py",
   "mimetype": "text/x-python",
   "name": "python",
   "nbconvert_exporter": "python",
   "pygments_lexer": "ipython3",
   "version": "3.7.10"
  }
 },
 "nbformat": 4,
 "nbformat_minor": 5
}
