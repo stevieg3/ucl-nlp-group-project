{
 "cells": [
  {
   "cell_type": "markdown",
   "metadata": {},
   "source": [
    "# Set-up<br>\n",
    "This set-up assumes that the working directory (`os.curdir`) is where the notebook is."
   ]
  },
  {
   "cell_type": "code",
   "execution_count": 109,
   "metadata": {},
   "outputs": [],
   "source": [
    "import os\n",
    "import sys\n",
    "this_notebook_dir = os.curdir\n",
    "# all imports will be relative to the root directory of the project\n",
    "# we thus add it here:\n",
    "project_root_dir = os.path.relpath(os.path.join('..', '..'), this_notebook_dir)\n",
    "if project_root_dir not in sys.path:\n",
    "    sys.path += [project_root_dir]"
   ]
  },
  {
   "cell_type": "markdown",
   "metadata": {},
   "source": [
    "# Loading data and model\n",
    "\n",
    "We will now a dataset"
   ]
  },
  {
   "cell_type": "code",
   "execution_count": 3,
   "metadata": {},
   "outputs": [
    {
     "name": "stdout",
     "output_type": "stream",
     "text": [
      "loaded dataset sst\n"
     ]
    },
    {
     "data": {
      "text/html": [
       "<div>\n",
       "<style scoped>\n",
       "    .dataframe tbody tr th:only-of-type {\n",
       "        vertical-align: middle;\n",
       "    }\n",
       "\n",
       "    .dataframe tbody tr th {\n",
       "        vertical-align: top;\n",
       "    }\n",
       "\n",
       "    .dataframe thead th {\n",
       "        text-align: right;\n",
       "    }\n",
       "</style>\n",
       "<table border=\"1\" class=\"dataframe\">\n",
       "  <thead>\n",
       "    <tr style=\"text-align: right;\">\n",
       "      <th></th>\n",
       "      <th>sentence</th>\n",
       "      <th>label</th>\n",
       "    </tr>\n",
       "  </thead>\n",
       "  <tbody>\n",
       "    <tr>\n",
       "      <th>0</th>\n",
       "      <td>It 's a lovely film with lovely performances b...</td>\n",
       "      <td>3</td>\n",
       "    </tr>\n",
       "    <tr>\n",
       "      <th>1</th>\n",
       "      <td>No one goes unindicted here , which is probabl...</td>\n",
       "      <td>2</td>\n",
       "    </tr>\n",
       "    <tr>\n",
       "      <th>2</th>\n",
       "      <td>And if you 're not nearly moved to tears by a ...</td>\n",
       "      <td>3</td>\n",
       "    </tr>\n",
       "    <tr>\n",
       "      <th>3</th>\n",
       "      <td>A warm , funny , engaging film .</td>\n",
       "      <td>4</td>\n",
       "    </tr>\n",
       "    <tr>\n",
       "      <th>4</th>\n",
       "      <td>Uses sharp humor and insight into human nature...</td>\n",
       "      <td>4</td>\n",
       "    </tr>\n",
       "    <tr>\n",
       "      <th>...</th>\n",
       "      <td>...</td>\n",
       "      <td>...</td>\n",
       "    </tr>\n",
       "    <tr>\n",
       "      <th>1096</th>\n",
       "      <td>it seems to me the film is about the art of ri...</td>\n",
       "      <td>1</td>\n",
       "    </tr>\n",
       "    <tr>\n",
       "      <th>1097</th>\n",
       "      <td>It 's just disappointingly superficial -- a mo...</td>\n",
       "      <td>1</td>\n",
       "    </tr>\n",
       "    <tr>\n",
       "      <th>1098</th>\n",
       "      <td>The title not only describes its main characte...</td>\n",
       "      <td>1</td>\n",
       "    </tr>\n",
       "    <tr>\n",
       "      <th>1099</th>\n",
       "      <td>Sometimes it feels as if it might have been ma...</td>\n",
       "      <td>2</td>\n",
       "    </tr>\n",
       "    <tr>\n",
       "      <th>1100</th>\n",
       "      <td>Schaeffer has to find some hook on which to ha...</td>\n",
       "      <td>1</td>\n",
       "    </tr>\n",
       "  </tbody>\n",
       "</table>\n",
       "<p>1101 rows × 2 columns</p>\n",
       "</div>"
      ],
      "text/plain": [
       "                                               sentence  label\n",
       "0     It 's a lovely film with lovely performances b...      3\n",
       "1     No one goes unindicted here , which is probabl...      2\n",
       "2     And if you 're not nearly moved to tears by a ...      3\n",
       "3                      A warm , funny , engaging film .      4\n",
       "4     Uses sharp humor and insight into human nature...      4\n",
       "...                                                 ...    ...\n",
       "1096  it seems to me the film is about the art of ri...      1\n",
       "1097  It 's just disappointingly superficial -- a mo...      1\n",
       "1098  The title not only describes its main characte...      1\n",
       "1099  Sometimes it feels as if it might have been ma...      2\n",
       "1100  Schaeffer has to find some hook on which to ha...      1\n",
       "\n",
       "[1101 rows x 2 columns]"
      ]
     },
     "execution_count": 3,
     "metadata": {},
     "output_type": "execute_result"
    }
   ],
   "source": [
    "from src.data.dataload import *\n",
    "data = load_sst()\n",
    "print(f'loaded dataset {data.NAME}')\n",
    "train, dev, test = data.train_val_test\n",
    "dev"
   ]
  },
  {
   "cell_type": "markdown",
   "metadata": {},
   "source": [
    "Loading a model for the dataset"
   ]
  },
  {
   "cell_type": "code",
   "execution_count": 255,
   "metadata": {},
   "outputs": [
    {
     "name": "stdout",
     "output_type": "stream",
     "text": [
      "expecting location for the model file at \"../../models/bcn-sst_output/model.tar.gz\"\n",
      "loaded model <class 'src.models.bcnmodel.BCNModel'> of kind allennlp for sst\n"
     ]
    }
   ],
   "source": [
    "from src.models.bcnmodel import *\n",
    "from src.models.bertmodel import *\n",
    "#model = BertModel()\n",
    "model = BCNModel(device=torch.device('cpu'))\n",
    "print(f'expecting location for the model file at '\n",
    "      f'\"{model._get_model_filepath_for_dataset(data)}\"')\n",
    "model.load_model(data)\n",
    "print(f'loaded model {type(model)} of kind {model.MODELTYPE} for {data.NAME}')"
   ]
  },
  {
   "cell_type": "markdown",
   "metadata": {},
   "source": [
    "# Perturbations\n",
    "\n",
    "We will now load all the necessary tools to perturb data"
   ]
  },
  {
   "cell_type": "code",
   "execution_count": 256,
   "metadata": {},
   "outputs": [],
   "source": [
    "from src.data.perturbations import add_perturbations\n",
    "from src.data.perturbations import \\\n",
    "    remove_commas, \\\n",
    "    remove_all_punctuation, \\\n",
    "    switch_gender, \\\n",
    "    strip_trailing_punct, \\\n",
    "    add_typo, \\\n",
    "    change_first_name, \\\n",
    "    change_last_name, \\\n",
    "    change_location, \\\n",
    "    contraction, \\\n",
    "    swap_adjectives\n",
    "\n",
    "perturbation_reduction = ['strip_punct', 'remove_commas', 'remove_all_punct']\n",
    "perturbations_named = ['change_first_name','change_last_name', 'change_location']\n",
    "perturbations_other = ['contraction', 'add_typo', 'switch_gender', 'swap_adj']\n",
    "perturbations_list = perturbation_reduction + perturbations_named + ['contraction', 'add_typo', 'switch_gender', 'swap_adj']\n",
    "\n",
    "perturbations_named_f = [change_first_name, change_last_name, change_location]\n",
    "perturbations_unnamed_f = [remove_commas, remove_all_punctuation, switch_gender,\n",
    "                           strip_trailing_punct, add_typo, contraction, swap_adjectives]\n",
    "perturbations_all_f = perturbations_named_f + perturbations_unnamed_f\n",
    "\n",
    "def bert_detokenize(token_list):\n",
    "    \"\"\"\n",
    "    Reverse BERT tokenization accounting for ##s representing subwords. Based on https://github.com/huggingface/transformers/issues/36\n",
    "    \"\"\"\n",
    "    text = ' '.join(token_list)\n",
    "    text = text.replace(' ##', '')\n",
    "    text = text.replace(\"` `\", \"``\")\n",
    "    text = text.replace(\"' '\", \"''\")\n",
    "    return text\n",
    "\n",
    "def run_detokenizer_on_perturbations(df):\n",
    "    for perturbation in perturbations_list:\n",
    "        if f'{perturbation}_concat' not in df.columns:\n",
    "            continue\n",
    "        df[f'{perturbation}_concat'] = df[f'{perturbation}_tokens'].apply(bert_detokenize)\n",
    "        df[f'{perturbation}_tokens'] = df[f'{perturbation}_concat'].apply(lambda x: model.tokenizer.tokenize(x))\n",
    "    return df\n",
    "\n",
    "# merge cased and uncased perturbations\n",
    "def merge_perturbations(df, df_cased):\n",
    "    for perturbation in perturbations_named:\n",
    "        for suffix in ['tokens', 'pert_ind', 'success', 'concat']:\n",
    "            df[f'{perturbation}_{suffix}'] = df_cased[f'{perturbation}_{suffix}'].tolist()\n",
    "    return df"
   ]
  },
  {
   "cell_type": "markdown",
   "metadata": {},
   "source": [
    "Now we are ready to generate a dataframe with the perturbations"
   ]
  },
  {
   "cell_type": "code",
   "execution_count": 257,
   "metadata": {},
   "outputs": [
    {
     "data": {
      "text/html": [
       "<div>\n",
       "<style scoped>\n",
       "    .dataframe tbody tr th:only-of-type {\n",
       "        vertical-align: middle;\n",
       "    }\n",
       "\n",
       "    .dataframe tbody tr th {\n",
       "        vertical-align: top;\n",
       "    }\n",
       "\n",
       "    .dataframe thead th {\n",
       "        text-align: right;\n",
       "    }\n",
       "</style>\n",
       "<table border=\"1\" class=\"dataframe\">\n",
       "  <thead>\n",
       "    <tr style=\"text-align: right;\">\n",
       "      <th></th>\n",
       "      <th>sentence</th>\n",
       "      <th>label</th>\n",
       "      <th>tokens_orig</th>\n",
       "      <th>change_first_name_concat</th>\n",
       "      <th>change_first_name_tokens</th>\n",
       "      <th>change_first_name_success</th>\n",
       "      <th>change_first_name_pert_ind</th>\n",
       "      <th>change_last_name_concat</th>\n",
       "      <th>change_last_name_tokens</th>\n",
       "      <th>change_last_name_success</th>\n",
       "      <th>...</th>\n",
       "      <th>add_typo_success</th>\n",
       "      <th>add_typo_pert_ind</th>\n",
       "      <th>contraction_concat</th>\n",
       "      <th>contraction_tokens</th>\n",
       "      <th>contraction_success</th>\n",
       "      <th>contraction_pert_ind</th>\n",
       "      <th>swap_adj_concat</th>\n",
       "      <th>swap_adj_tokens</th>\n",
       "      <th>swap_adj_success</th>\n",
       "      <th>swap_adj_pert_ind</th>\n",
       "    </tr>\n",
       "  </thead>\n",
       "  <tbody>\n",
       "    <tr>\n",
       "      <th>7</th>\n",
       "      <td>Dazzles with its fully-written characters , it...</td>\n",
       "      <td>4</td>\n",
       "      <td>[Dazzles, with, its, fully, -, written, charac...</td>\n",
       "      <td>Dazzles with its fully-written characters , it...</td>\n",
       "      <td>[Dazzles, with, its, fully, -, written, charac...</td>\n",
       "      <td>0</td>\n",
       "      <td>None</td>\n",
       "      <td>Dazzles with its fully-written characters , it...</td>\n",
       "      <td>[Dazzles, with, its, fully, -, written, charac...</td>\n",
       "      <td>0</td>\n",
       "      <td>...</td>\n",
       "      <td>1</td>\n",
       "      <td>[26, 27]</td>\n",
       "      <td>Dazzles with its fully-written characters , it...</td>\n",
       "      <td>[Dazzles, with, its, fully, -, written, charac...</td>\n",
       "      <td>0</td>\n",
       "      <td>None</td>\n",
       "      <td>Dazzles with its fully-written characters , it...</td>\n",
       "      <td>[Dazzles, with, its, fully, -, written, charac...</td>\n",
       "      <td>0</td>\n",
       "      <td>None</td>\n",
       "    </tr>\n",
       "    <tr>\n",
       "      <th>8</th>\n",
       "      <td>Visually imaginative , thematically instructiv...</td>\n",
       "      <td>4</td>\n",
       "      <td>[Visually, imaginative, ,, thematically, instr...</td>\n",
       "      <td>Visually imaginative , thematically instructiv...</td>\n",
       "      <td>[Visually, imaginative, ,, thematically, instr...</td>\n",
       "      <td>0</td>\n",
       "      <td>None</td>\n",
       "      <td>Visually imaginative , thematically instructiv...</td>\n",
       "      <td>[Visually, imaginative, ,, thematically, instr...</td>\n",
       "      <td>0</td>\n",
       "      <td>...</td>\n",
       "      <td>1</td>\n",
       "      <td>[25, 26]</td>\n",
       "      <td>Visually imaginative , thematically instructiv...</td>\n",
       "      <td>[Visually, imaginative, ,, thematically, instr...</td>\n",
       "      <td>0</td>\n",
       "      <td>None</td>\n",
       "      <td>Visually imaginative , thematically instructiv...</td>\n",
       "      <td>[Visually, imaginative, ,, thematically, instr...</td>\n",
       "      <td>0</td>\n",
       "      <td>None</td>\n",
       "    </tr>\n",
       "    <tr>\n",
       "      <th>9</th>\n",
       "      <td>Nothing 's at stake , just a twisty double-cro...</td>\n",
       "      <td>3</td>\n",
       "      <td>[Nothing, 's, at, stake, ,, just, a, twisty, d...</td>\n",
       "      <td>Nothing 's at stake , just a twisty double-cro...</td>\n",
       "      <td>[Nothing, 's, at, stake, ,, just, a, twisty, d...</td>\n",
       "      <td>0</td>\n",
       "      <td>None</td>\n",
       "      <td>Nothing 's at stake , just a twisty double-cro...</td>\n",
       "      <td>[Nothing, 's, at, stake, ,, just, a, twisty, d...</td>\n",
       "      <td>0</td>\n",
       "      <td>...</td>\n",
       "      <td>1</td>\n",
       "      <td>[27, 28]</td>\n",
       "      <td>Nothing 's at stake , just a twisty double-cro...</td>\n",
       "      <td>[Nothing, 's, at, stake, ,, just, a, twisty, d...</td>\n",
       "      <td>0</td>\n",
       "      <td>None</td>\n",
       "      <td>Nothing 's at stake , just a twisty double-cro...</td>\n",
       "      <td>[Nothing, 's, at, stake, ,, just, a, twisty, d...</td>\n",
       "      <td>0</td>\n",
       "      <td>None</td>\n",
       "    </tr>\n",
       "  </tbody>\n",
       "</table>\n",
       "<p>3 rows × 43 columns</p>\n",
       "</div>"
      ],
      "text/plain": [
       "                                            sentence  label  \\\n",
       "7  Dazzles with its fully-written characters , it...      4   \n",
       "8  Visually imaginative , thematically instructiv...      4   \n",
       "9  Nothing 's at stake , just a twisty double-cro...      3   \n",
       "\n",
       "                                         tokens_orig  \\\n",
       "7  [Dazzles, with, its, fully, -, written, charac...   \n",
       "8  [Visually, imaginative, ,, thematically, instr...   \n",
       "9  [Nothing, 's, at, stake, ,, just, a, twisty, d...   \n",
       "\n",
       "                            change_first_name_concat  \\\n",
       "7  Dazzles with its fully-written characters , it...   \n",
       "8  Visually imaginative , thematically instructiv...   \n",
       "9  Nothing 's at stake , just a twisty double-cro...   \n",
       "\n",
       "                            change_first_name_tokens  \\\n",
       "7  [Dazzles, with, its, fully, -, written, charac...   \n",
       "8  [Visually, imaginative, ,, thematically, instr...   \n",
       "9  [Nothing, 's, at, stake, ,, just, a, twisty, d...   \n",
       "\n",
       "   change_first_name_success change_first_name_pert_ind  \\\n",
       "7                          0                       None   \n",
       "8                          0                       None   \n",
       "9                          0                       None   \n",
       "\n",
       "                             change_last_name_concat  \\\n",
       "7  Dazzles with its fully-written characters , it...   \n",
       "8  Visually imaginative , thematically instructiv...   \n",
       "9  Nothing 's at stake , just a twisty double-cro...   \n",
       "\n",
       "                             change_last_name_tokens  \\\n",
       "7  [Dazzles, with, its, fully, -, written, charac...   \n",
       "8  [Visually, imaginative, ,, thematically, instr...   \n",
       "9  [Nothing, 's, at, stake, ,, just, a, twisty, d...   \n",
       "\n",
       "   change_last_name_success  ... add_typo_success add_typo_pert_ind  \\\n",
       "7                         0  ...                1          [26, 27]   \n",
       "8                         0  ...                1          [25, 26]   \n",
       "9                         0  ...                1          [27, 28]   \n",
       "\n",
       "                                  contraction_concat  \\\n",
       "7  Dazzles with its fully-written characters , it...   \n",
       "8  Visually imaginative , thematically instructiv...   \n",
       "9  Nothing 's at stake , just a twisty double-cro...   \n",
       "\n",
       "                                  contraction_tokens contraction_success  \\\n",
       "7  [Dazzles, with, its, fully, -, written, charac...                   0   \n",
       "8  [Visually, imaginative, ,, thematically, instr...                   0   \n",
       "9  [Nothing, 's, at, stake, ,, just, a, twisty, d...                   0   \n",
       "\n",
       "  contraction_pert_ind                                    swap_adj_concat  \\\n",
       "7                 None  Dazzles with its fully-written characters , it...   \n",
       "8                 None  Visually imaginative , thematically instructiv...   \n",
       "9                 None  Nothing 's at stake , just a twisty double-cro...   \n",
       "\n",
       "                                     swap_adj_tokens swap_adj_success  \\\n",
       "7  [Dazzles, with, its, fully, -, written, charac...                0   \n",
       "8  [Visually, imaginative, ,, thematically, instr...                0   \n",
       "9  [Nothing, 's, at, stake, ,, just, a, twisty, d...                0   \n",
       "\n",
       "  swap_adj_pert_ind  \n",
       "7              None  \n",
       "8              None  \n",
       "9              None  \n",
       "\n",
       "[3 rows x 43 columns]"
      ]
     },
     "execution_count": 257,
     "metadata": {},
     "output_type": "execute_result"
    }
   ],
   "source": [
    "inds = np.arange(5, 10)\n",
    "inds = inds[model.predict_label_batch(dev.sentence[inds]) == dev.label[inds]]\n",
    "if type(model) == BCNModel:\n",
    "    df_perturbations = add_perturbations(\n",
    "        df=dev.iloc[inds],\n",
    "        tokenizer=model.tokenizer,\n",
    "        sentence_col_name=data.SENTENCE,\n",
    "        perturbation_functions=perturbations_all_f,\n",
    "    )\n",
    "elif type(model) == BertModel:\n",
    "    # uncased perturbations\n",
    "    df_perturbations = add_perturbations(\n",
    "        df=dev.iloc[inds],\n",
    "        tokenizer=model.tokenizer,\n",
    "        sentence_col_name=data.SENTENCE,\n",
    "        perturbation_functions=perturbations_unnamed_f,\n",
    "    )\n",
    "    # with cased tokenizer\n",
    "    df_perturbations_named = add_perturbations(\n",
    "        df=dev.iloc[inds],\n",
    "        tokenizer=BertTokenizer.from_pretrained('bert-base-cased'),\n",
    "        sentence_col_name=data.SENTENCE,\n",
    "        perturbation_functions=perturbations_named_f,\n",
    "    )\n",
    "    # merge the two together\n",
    "    df_perturbations = merge_perturbations(df_perturbations, df_perturbations_named)\n",
    "    # remove ## in the reconstructed sentences\n",
    "    df_perturbations = run_detokenizer_on_perturbations(df_perturbations)\n",
    "df_perturbations.head()"
   ]
  },
  {
   "cell_type": "markdown",
   "metadata": {},
   "source": [
    "# Explainers and Evaluation\n",
    "\n",
    "Explainers are run in an evaluation loop, where metrics are applied to each suitable perturbation of each sentence:"
   ]
  },
  {
   "cell_type": "code",
   "execution_count": 258,
   "metadata": {},
   "outputs": [],
   "source": [
    "from src.explainers.explainers import *\n",
    "\n",
    "import tqdm\n",
    "import scipy as sp\n",
    "\n",
    "df_perturbations.reset_index(drop=True, inplace=True)\n",
    "preds = model.predict_label_batch(df_perturbations.sentence)\n",
    "\n",
    "\n",
    "def get_sorted_tokens(scores, tokens):\n",
    "    N = len(scores)\n",
    "    sorted_inds = sorted(range(N), key=lambda i: abs(scores[i]), reverse=True)\n",
    "    return [str(tokens[i]).lower() for i in sorted_inds]\n",
    "\n",
    "\n",
    "def metric_top_k(k, original_scores, original_tokens, perturbed_scores, perturbed_tokens, **kwargs):\n",
    "    N = len(original_tokens)\n",
    "    k = min(k, N)\n",
    "    original_top_k = get_sorted_tokens(scores=original_scores, tokens=original_tokens)[:k]\n",
    "    perturbed_top_k = get_sorted_tokens(scores=perturbed_scores, tokens=perturbed_tokens)[:k]\n",
    "    num_common = 0\n",
    "    for word in set([str(t) for t in original_top_k]):\n",
    "        num_common += min(original_top_k.count(word), perturbed_top_k.count(word))\n",
    "    print(f'TOP-{k}')\n",
    "    print(original_top_k)\n",
    "    print(perturbed_top_k)\n",
    "    return num_common / k\n",
    "\n",
    "def metric_spearman(original_scores, perturbed_scores, **kwargs):\n",
    "    return sp.stats.spearmanr(original_scores, perturbed_scores).correlation\n",
    "\n",
    "\n",
    "def run_evaluation(explainer, show_f, metric_proxy):\n",
    "    for i in tqdm.trange(len(df_perturbations)):\n",
    "        prediction = preds[i]\n",
    "        original_sentence = df_perturbations.sentence[i]\n",
    "        original_tokens = model.tokenizer.tokenize(original_sentence)\n",
    "        original_explanation = None\n",
    "        for p in perturbations_list:\n",
    "            perturbed_sentence = df_perturbations[f'{p}_concat'][i]\n",
    "            perturbed_tokens = model.tokenizer.tokenize(perturbed_sentence)\n",
    "            # perturbation wasn't successful:\n",
    "            if df_perturbations[f'{p}_success'][i] == 0:\n",
    "                print('skipped:', p, 'unsuccessful')\n",
    "                continue\n",
    "            # different numbers of tokens\n",
    "            elif len(original_tokens) != len(perturbed_tokens):\n",
    "                print('skipped:', p, 'length changed')\n",
    "                continue\n",
    "            # or didn't reach the same correct prediction\n",
    "            elif model.predict_label(perturbed_sentence) != preds[i]:\n",
    "                print('skipped', p, 'prediction changed')\n",
    "                continue\n",
    "            # we will run the prediction on the perturbed sentence now\n",
    "            print('running explainer with ', p)\n",
    "            if original_explanation is None:\n",
    "                original_explanation = explainer.explain_instances([original_sentence])\n",
    "                original_tokens, original_scores = metric_proxy(sentence=original_sentence,\n",
    "                                                                explanation=original_explanation,\n",
    "                                                                prediction=prediction)\n",
    "                original = dict(\n",
    "                    original_sentence=original_sentence,\n",
    "                    original_tokens=original_tokens,\n",
    "                    original_explanation=original_explanation,\n",
    "                    original_scores=original_scores,\n",
    "                    prediction=preds[i],\n",
    "                )\n",
    "            perturbed_explanation = explainer.explain_instances([perturbed_sentence])\n",
    "            perturbed_tokens, perturbed_scores = metric_proxy(sentence=perturbed_sentence,\n",
    "                                                              explanation=perturbed_explanation,\n",
    "                                                              prediction=prediction)\n",
    "            perturbed = dict(\n",
    "                perturbed_sentence=perturbed_sentence,\n",
    "                perturbed_tokens=perturbed_tokens,\n",
    "                perturbed_explanation=perturbed_explanation,\n",
    "                perturbed_scores=perturbed_scores,\n",
    "            )\n",
    "\n",
    "            print('-'*100)\n",
    "            # show metrics\n",
    "            K = 5\n",
    "            print(f'TOP-{K} score:', metric_top_k(k=K, **original, **perturbed))\n",
    "            print('SPEARMAN:', metric_spearman(k=5, original_scores=original_scores, perturbed_scores=perturbed_scores))\n",
    "            # show perturbed explanation\n",
    "            print('ORIGINAL:', original_sentence)\n",
    "            show_f(sentence=original_sentence,\n",
    "                   explanation=original_explanation,\n",
    "                   **original, **perturbed)\n",
    "            print('PERTURBED:', perturbed_sentence)\n",
    "            show_f(sentence=perturbed_sentence,\n",
    "                   explanation=perturbed_explanation,\n",
    "                   **original, **perturbed)\n",
    "            print('-'*100)\n",
    "        original_explanation = None"
   ]
  },
  {
   "cell_type": "markdown",
   "metadata": {},
   "source": [
    "### LIME explainer\n",
    "\n",
    "Construct LIME explainer:"
   ]
  },
  {
   "cell_type": "code",
   "execution_count": 259,
   "metadata": {},
   "outputs": [
    {
     "name": "stdout",
     "output_type": "stream",
     "text": [
      "using explainer <class 'src.explainers.explainers.LimeExplainer'> with model <src.models.bcnmodel.BCNModel object at 0x760f849126d0> and dataset sst\n"
     ]
    }
   ],
   "source": [
    "lime_explainer = LimeExplainer(model, num_samples=500)\n",
    "print(f'using explainer {type(lime_explainer)} with model {lime_explainer.model} and dataset {lime_explainer.model.dataset_finetune.NAME}')"
   ]
  },
  {
   "cell_type": "markdown",
   "metadata": {},
   "source": [
    "Analyse:"
   ]
  },
  {
   "cell_type": "code",
   "execution_count": 260,
   "metadata": {},
   "outputs": [
    {
     "name": "stderr",
     "output_type": "stream",
     "text": [
      "  0%|          | 0/3 [00:00<?, ?it/s]"
     ]
    },
    {
     "name": "stdout",
     "output_type": "stream",
     "text": [
      "skipped: strip_punct length changed\n",
      "skipped: remove_commas length changed\n",
      "skipped: remove_all_punct length changed\n",
      "skipped: change_first_name unsuccessful\n",
      "skipped: change_last_name unsuccessful\n",
      "skipped: change_location unsuccessful\n",
      "skipped: contraction unsuccessful\n",
      "running explainer with  add_typo\n"
     ]
    },
    {
     "name": "stderr",
     "output_type": "stream",
     "text": [
      " 33%|███▎      | 1/3 [00:06<00:13,  6.94s/it]"
     ]
    },
    {
     "name": "stdout",
     "output_type": "stream",
     "text": [
      "----------------------------------------------------------------------------------------------------\n",
      "TOP-5\n",
      "['and', 'characters', 'and', 'dazzles', 'which']\n",
      "['and', ')', 'characters', 'dazzles', 'and']\n",
      "TOP-5 score: 0.8\n",
      "SPEARMAN: 1.0\n",
      "ORIGINAL: Dazzles with its fully-written characters , its determined stylishness ( which always relates to characters and story ) and Johnny Dankworth 's best soundtrack in years .\n",
      "tokens [and, characters, and, Dazzles, which, story, determined, -, fully, with, ), ,, its, characters, relates, its, stylishness, (, to, always, written]\n",
      "scores ['0.227', '0.061', '0.051', '0.042', '0.041', '0.025', '0.022', '0.020', '0.018', '0.014', '0.010', '0.008', '-0.000', '-0.000', '-0.002', '-0.003', '-0.005', '-0.013', '-0.013', '-0.015', '-0.020']\n",
      "PERTURBED: Dazzles with its fully - written characters , its determined stylishness ( which always relates to characters and story ) and Johnny Dankworth 's best soundtrack i nyears .\n",
      "tokens [and, characters, Dazzles, which, story, determined, fully, with, ,, relates, its, stylishness, its, -, characters, to, (, always, written, and, )]\n",
      "scores ['0.192', '0.056', '0.054', '0.039', '0.034', '0.025', '0.020', '0.018', '0.009', '0.007', '0.002', '0.001', '-0.002', '-0.005', '-0.006', '-0.008', '-0.009', '-0.013', '-0.017', '-0.053', '-0.060']\n",
      "----------------------------------------------------------------------------------------------------\n",
      "skipped: switch_gender unsuccessful\n",
      "skipped: swap_adj unsuccessful\n",
      "skipped: strip_punct length changed\n",
      "skipped: remove_commas length changed\n",
      "skipped: remove_all_punct length changed\n",
      "skipped: change_first_name unsuccessful\n",
      "skipped: change_last_name unsuccessful\n",
      "skipped: change_location unsuccessful\n",
      "skipped: contraction unsuccessful\n",
      "running explainer with  add_typo\n"
     ]
    },
    {
     "name": "stderr",
     "output_type": "stream",
     "text": [
      "100%|██████████| 3/3 [00:12<00:00,  4.25s/it]"
     ]
    },
    {
     "name": "stdout",
     "output_type": "stream",
     "text": [
      "----------------------------------------------------------------------------------------------------\n",
      "TOP-5\n",
      "['thoroughly', 'imaginative', 'thematically', 'innocence', 'visually']\n",
      "['thoroughly', 'thematically', 'imaginative', 'experience', 'hin']\n",
      "TOP-5 score: 0.6\n",
      "SPEARMAN: 0.9999999999999998\n",
      "ORIGINAL: Visually imaginative , thematically instructive and thoroughly delightful , it takes us on a roller-coaster ride from innocence to experience without even a hint of that typical kiddie-flick sentimentality .\n",
      "tokens [thoroughly, imaginative, thematically, Visually, roller, coaster, it, instructive, from, -, ,, ,, a, takes, ride, even, and, on, experience, without, that, to, us, hint, of, a, delightful, innocence]\n",
      "scores ['0.152', '0.061', '0.054', '0.046', '0.039', '0.038', '0.032', '0.027', '0.018', '0.014', '0.010', '0.007', '0.000', '-0.000', '-0.001', '-0.001', '-0.003', '-0.005', '-0.007', '-0.012', '-0.015', '-0.019', '-0.022', '-0.023', '-0.024', '-0.024', '-0.025', '-0.050']\n",
      "PERTURBED: Visually imaginative , thematically instructive and thoroughly delightful , it takes us on a roller - coaster ride from innocence to experience without even a hin tof that typical kiddie - flick sentimentality .\n",
      "tokens [thoroughly, thematically, imaginative, coaster, Visually, roller, it, instructive, from, ,, -, ,, and, a, even, takes, ride, to, on, tof, that, us, a, without, delightful, innocence, hin, experience]\n",
      "scores ['0.153', '0.057', '0.056', '0.034', '0.033', '0.033', '0.032', '0.019', '0.015', '0.007', '0.006', '0.005', '0.002', '0.002', '-0.001', '-0.005', '-0.007', '-0.010', '-0.010', '-0.013', '-0.014', '-0.017', '-0.018', '-0.024', '-0.024', '-0.035', '-0.035', '-0.037']\n",
      "----------------------------------------------------------------------------------------------------\n",
      "skipped: switch_gender unsuccessful\n",
      "skipped: swap_adj unsuccessful\n",
      "skipped: strip_punct length changed\n",
      "skipped: remove_commas length changed\n",
      "skipped: remove_all_punct length changed\n",
      "skipped: change_first_name unsuccessful\n",
      "skipped: change_last_name unsuccessful\n",
      "skipped: change_location unsuccessful\n",
      "skipped: contraction unsuccessful\n",
      "skipped add_typo prediction changed\n",
      "skipped: switch_gender unsuccessful\n",
      "skipped: swap_adj unsuccessful\n"
     ]
    },
    {
     "name": "stderr",
     "output_type": "stream",
     "text": [
      "\n"
     ]
    }
   ],
   "source": [
    "def metric_proxy_lime(sentence, explanation, **kwargs):\n",
    "    scores, pred, inds, tokens = explanation\n",
    "    tokenized = model.tokenizer.tokenize(sentence)\n",
    "    tokens = [tokenized[t] for t in tokens[0]]\n",
    "    scores = scores[0]\n",
    "    return tokens, scores\n",
    "\n",
    "def show_lime_sentence(sentence, explanation, **kwargs):\n",
    "    tokens, scores = metric_proxy_lime(sentence=sentence, explanation=explanation, **kwargs)\n",
    "    print('tokens', tokens)\n",
    "    print('scores', ['%.3f' % s for s in scores])\n",
    "\n",
    "run_evaluation(explainer=lime_explainer,\n",
    "               show_f=show_lime_sentence,\n",
    "               metric_proxy=metric_proxy_lime)"
   ]
  },
  {
   "cell_type": "markdown",
   "metadata": {},
   "source": [
    "### Alternative explainer\n",
    "\n",
    "This depends on a model, so we will first prepare show_f and metric_proxy for each explainer:"
   ]
  },
  {
   "cell_type": "markdown",
   "metadata": {},
   "source": [
    "**AllenNLP explainer helpers**"
   ]
  },
  {
   "cell_type": "code",
   "execution_count": 264,
   "metadata": {},
   "outputs": [],
   "source": [
    "import html\n",
    "from IPython.core.display import display, HTML\n",
    "\n",
    "# Prevent special characters like & and < to cause the browser to display something other than what you intended.\n",
    "def html_escape(text):\n",
    "    return html.escape(text)\n",
    "\n",
    "def visualise_weights(tokens, gradients, max_alpha=.3):\n",
    "    max_alpha = max_alpha \n",
    "    highlighted_text = []\n",
    "    for i in range(len(tokens)):\n",
    "        weight = gradients[i]\n",
    "        highlighted_text.append('<span style=\"background-color:rgba(135,206,250,' + str(weight / max_alpha) + ');\">' + html_escape(tokens[i]) + '</span>')\n",
    "    highlighted_text = ' '.join(highlighted_text)\n",
    "    print(display(HTML(highlighted_text)))\n",
    "\n",
    "def metric_proxy_allennlp(sentence, explanation, **kwargs):\n",
    "    grads, labels = explanation\n",
    "    tokenized = model.tokenizer.tokenize(sentence)\n",
    "    return tokenized, grads[0]\n",
    "\n",
    "def show_allennlp_sentence(sentence, explanation, **kwargs):\n",
    "    tokens, scores = metric_proxy_allennlp(sentence=sentence, explanation=explanation, **kwargs)\n",
    "    visualise_weights([str(t) for t in tokens], scores, max_alpha=.5)"
   ]
  },
  {
   "cell_type": "markdown",
   "metadata": {},
   "source": [
    "**SHAP explainer helpers**"
   ]
  },
  {
   "cell_type": "code",
   "execution_count": 265,
   "metadata": {},
   "outputs": [],
   "source": [
    "def metric_proxy_shap(sentence, explanation, prediction, **kwargs):\n",
    "    tokens = explanation.data[0, 1:-1]\n",
    "    scores = explanation.values[0][1:-1]\n",
    "    return tokens, scores[:, prediction]\n",
    "\n",
    "def show_shap_sentence(sentence, explanation, **kwargs):\n",
    "    tokens, scores = metric_proxy_shap(sentence=sentence, explanation=explanation, **kwargs)\n",
    "    print('tokens:', tokens)\n",
    "    print('scores:', ['%.3f' % s for s in scores])"
   ]
  },
  {
   "cell_type": "markdown",
   "metadata": {},
   "source": [
    "We will now run evaluation with the alternative explainer:"
   ]
  },
  {
   "cell_type": "code",
   "execution_count": 266,
   "metadata": {},
   "outputs": [
    {
     "name": "stderr",
     "output_type": "stream",
     "text": [
      "  0%|          | 0/3 [00:00<?, ?it/s]"
     ]
    },
    {
     "name": "stdout",
     "output_type": "stream",
     "text": [
      "alternative explainer <class 'src.explainers.explainers.AllenNLPExplainer'>\n",
      "skipped: strip_punct length changed\n",
      "skipped: remove_commas length changed\n",
      "skipped: remove_all_punct length changed\n",
      "skipped: change_first_name unsuccessful\n",
      "skipped: change_last_name unsuccessful\n",
      "skipped: change_location unsuccessful\n",
      "skipped: contraction unsuccessful\n",
      "running explainer with  add_typo\n",
      "----------------------------------------------------------------------------------------------------\n",
      "TOP-5\n",
      "['best', \"'s\", 'relates', 'stylishness', 'johnny']\n",
      "['best', 'nyears', 'i', 'relates', 'stylishness']\n",
      "TOP-5 score: 0.6\n",
      "SPEARMAN: 0.815270935960591\n",
      "ORIGINAL: Dazzles with its fully-written characters , its determined stylishness ( which always relates to characters and story ) and Johnny Dankworth 's best soundtrack in years .\n"
     ]
    },
    {
     "data": {
      "text/html": [
       "<span style=\"background-color:rgba(135,206,250,0.03243407283000874);\">Dazzles</span> <span style=\"background-color:rgba(135,206,250,0.056337715029791555);\">with</span> <span style=\"background-color:rgba(135,206,250,0.01358725124292588);\">its</span> <span style=\"background-color:rgba(135,206,250,0.10261271547349426);\">fully</span> <span style=\"background-color:rgba(135,206,250,0.00039968321095953913);\">-</span> <span style=\"background-color:rgba(135,206,250,0.003207876448101652);\">written</span> <span style=\"background-color:rgba(135,206,250,0.04301400225835862);\">characters</span> <span style=\"background-color:rgba(135,206,250,0.01745802293243648);\">,</span> <span style=\"background-color:rgba(135,206,250,0.0084332237417032);\">its</span> <span style=\"background-color:rgba(135,206,250,0.020104465321195506);\">determined</span> <span style=\"background-color:rgba(135,206,250,0.16082335178548907);\">stylishness</span> <span style=\"background-color:rgba(135,206,250,0.07560077052648059);\">(</span> <span style=\"background-color:rgba(135,206,250,0.013098904624369516);\">which</span> <span style=\"background-color:rgba(135,206,250,0.06969248699069541);\">always</span> <span style=\"background-color:rgba(135,206,250,0.16095774081391415);\">relates</span> <span style=\"background-color:rgba(135,206,250,0.03364463192010201);\">to</span> <span style=\"background-color:rgba(135,206,250,0.05110551247427553);\">characters</span> <span style=\"background-color:rgba(135,206,250,0.03744523944607566);\">and</span> <span style=\"background-color:rgba(135,206,250,0.01968721030767815);\">story</span> <span style=\"background-color:rgba(135,206,250,0.11346350189687315);\">)</span> <span style=\"background-color:rgba(135,206,250,0.03732866096752578);\">and</span> <span style=\"background-color:rgba(135,206,250,0.15321207261585607);\">Johnny</span> <span style=\"background-color:rgba(135,206,250,0.12958412479905557);\">Dankworth</span> <span style=\"background-color:rgba(135,206,250,0.1682713277900467);\">&#x27;s</span> <span style=\"background-color:rgba(135,206,250,0.27834243599720687);\">best</span> <span style=\"background-color:rgba(135,206,250,0.12471416436558329);\">soundtrack</span> <span style=\"background-color:rgba(135,206,250,0.029296646583095408);\">in</span> <span style=\"background-color:rgba(135,206,250,0.029119404247721747);\">years</span> <span style=\"background-color:rgba(135,206,250,0.017022940840383506);\">.</span>"
      ],
      "text/plain": [
       "<IPython.core.display.HTML object>"
      ]
     },
     "metadata": {},
     "output_type": "display_data"
    },
    {
     "name": "stdout",
     "output_type": "stream",
     "text": [
      "None\n",
      "PERTURBED: Dazzles with its fully - written characters , its determined stylishness ( which always relates to characters and story ) and Johnny Dankworth 's best soundtrack i nyears .\n"
     ]
    },
    {
     "data": {
      "text/html": [
       "<span style=\"background-color:rgba(135,206,250,0.02907598487829102);\">Dazzles</span> <span style=\"background-color:rgba(135,206,250,0.048367167021020646);\">with</span> <span style=\"background-color:rgba(135,206,250,0.012509949068470243);\">its</span> <span style=\"background-color:rgba(135,206,250,0.09338785769974911);\">fully</span> <span style=\"background-color:rgba(135,206,250,0.0076715855523336604);\">-</span> <span style=\"background-color:rgba(135,206,250,0.0028931822562582505);\">written</span> <span style=\"background-color:rgba(135,206,250,0.04160542480123157);\">characters</span> <span style=\"background-color:rgba(135,206,250,0.021009059128926276);\">,</span> <span style=\"background-color:rgba(135,206,250,0.01420522862307401);\">its</span> <span style=\"background-color:rgba(135,206,250,0.037243622795146994);\">determined</span> <span style=\"background-color:rgba(135,206,250,0.11703997222574204);\">stylishness</span> <span style=\"background-color:rgba(135,206,250,0.06477442283005734);\">(</span> <span style=\"background-color:rgba(135,206,250,0.013964601071451158);\">which</span> <span style=\"background-color:rgba(135,206,250,0.0719936267622314);\">always</span> <span style=\"background-color:rgba(135,206,250,0.15554285991314887);\">relates</span> <span style=\"background-color:rgba(135,206,250,0.02876837175746273);\">to</span> <span style=\"background-color:rgba(135,206,250,0.04198917458508381);\">characters</span> <span style=\"background-color:rgba(135,206,250,0.0329935809949121);\">and</span> <span style=\"background-color:rgba(135,206,250,0.01605698194603225);\">story</span> <span style=\"background-color:rgba(135,206,250,0.08497486035279515);\">)</span> <span style=\"background-color:rgba(135,206,250,0.02959612324261078);\">and</span> <span style=\"background-color:rgba(135,206,250,0.10760849159083118);\">Johnny</span> <span style=\"background-color:rgba(135,206,250,0.09731207717005934);\">Dankworth</span> <span style=\"background-color:rgba(135,206,250,0.10336279243537679);\">&#x27;s</span> <span style=\"background-color:rgba(135,206,250,0.23810175128107655);\">best</span> <span style=\"background-color:rgba(135,206,250,0.07015426328559064);\">soundtrack</span> <span style=\"background-color:rgba(135,206,250,0.19257980782043016);\">i</span> <span style=\"background-color:rgba(135,206,250,0.2180192615949126);\">nyears</span> <span style=\"background-color:rgba(135,206,250,0.007197934635225422);\">.</span>"
      ],
      "text/plain": [
       "<IPython.core.display.HTML object>"
      ]
     },
     "metadata": {},
     "output_type": "display_data"
    },
    {
     "name": "stderr",
     "output_type": "stream",
     "text": [
      " 33%|███▎      | 1/3 [00:00<00:00,  2.63it/s]"
     ]
    },
    {
     "name": "stdout",
     "output_type": "stream",
     "text": [
      "None\n",
      "----------------------------------------------------------------------------------------------------\n",
      "skipped: switch_gender unsuccessful\n",
      "skipped: swap_adj unsuccessful\n",
      "skipped: strip_punct length changed\n",
      "skipped: remove_commas length changed\n",
      "skipped: remove_all_punct length changed\n",
      "skipped: change_first_name unsuccessful\n",
      "skipped: change_last_name unsuccessful\n",
      "skipped: change_location unsuccessful\n",
      "skipped: contraction unsuccessful\n",
      "running explainer with  add_typo\n",
      "----------------------------------------------------------------------------------------------------\n",
      "TOP-5\n",
      "['delightful', 'thoroughly', 'instructive', 'it', 'thematically']\n",
      "['delightful', 'thoroughly', 'instructive', 'it', 'thematically']\n",
      "TOP-5 score: 1.0\n",
      "SPEARMAN: 0.9150496562261269\n",
      "ORIGINAL: Visually imaginative , thematically instructive and thoroughly delightful , it takes us on a roller-coaster ride from innocence to experience without even a hint of that typical kiddie-flick sentimentality .\n"
     ]
    },
    {
     "data": {
      "text/html": [
       "<span style=\"background-color:rgba(135,206,250,0.06567688592594745);\">Visually</span> <span style=\"background-color:rgba(135,206,250,0.04763386166728246);\">imaginative</span> <span style=\"background-color:rgba(135,206,250,0.0008942508634032566);\">,</span> <span style=\"background-color:rgba(135,206,250,0.10744008329078156);\">thematically</span> <span style=\"background-color:rgba(135,206,250,0.17423733721350199);\">instructive</span> <span style=\"background-color:rgba(135,206,250,0.01699046099619248);\">and</span> <span style=\"background-color:rgba(135,206,250,0.2523632669525593);\">thoroughly</span> <span style=\"background-color:rgba(135,206,250,0.35816977709787184);\">delightful</span> <span style=\"background-color:rgba(135,206,250,0.028180850290043993);\">,</span> <span style=\"background-color:rgba(135,206,250,0.15510498310728998);\">it</span> <span style=\"background-color:rgba(135,206,250,0.0681696622859092);\">takes</span> <span style=\"background-color:rgba(135,206,250,0.05623672635331952);\">us</span> <span style=\"background-color:rgba(135,206,250,0.04597278554318902);\">on</span> <span style=\"background-color:rgba(135,206,250,0.012727966881656932);\">a</span> <span style=\"background-color:rgba(135,206,250,0.10658300442192545);\">roller</span> <span style=\"background-color:rgba(135,206,250,0.02282267491288994);\">-</span> <span style=\"background-color:rgba(135,206,250,0.07315259335790958);\">coaster</span> <span style=\"background-color:rgba(135,206,250,0.03527057547128689);\">ride</span> <span style=\"background-color:rgba(135,206,250,0.023869142168258726);\">from</span> <span style=\"background-color:rgba(135,206,250,0.029705930455172568);\">innocence</span> <span style=\"background-color:rgba(135,206,250,0.028345868161790855);\">to</span> <span style=\"background-color:rgba(135,206,250,0.007997786318331928);\">experience</span> <span style=\"background-color:rgba(135,206,250,0.06404547496433262);\">without</span> <span style=\"background-color:rgba(135,206,250,0.04387217527976929);\">even</span> <span style=\"background-color:rgba(135,206,250,0.010252306909630401);\">a</span> <span style=\"background-color:rgba(135,206,250,0.01582253171145328);\">hint</span> <span style=\"background-color:rgba(135,206,250,0.002891072585571453);\">of</span> <span style=\"background-color:rgba(135,206,250,0.0003394466487188109);\">that</span> <span style=\"background-color:rgba(135,206,250,0.000741445276337475);\">typical</span> <span style=\"background-color:rgba(135,206,250,0.07362143589937854);\">kiddie</span> <span style=\"background-color:rgba(135,206,250,0.0019344420422942189);\">-</span> <span style=\"background-color:rgba(135,206,250,0.018157857843157606);\">flick</span> <span style=\"background-color:rgba(135,206,250,0.04270439599653497);\">sentimentality</span> <span style=\"background-color:rgba(135,206,250,0.008070980295888807);\">.</span>"
      ],
      "text/plain": [
       "<IPython.core.display.HTML object>"
      ]
     },
     "metadata": {},
     "output_type": "display_data"
    },
    {
     "name": "stdout",
     "output_type": "stream",
     "text": [
      "None\n",
      "PERTURBED: Visually imaginative , thematically instructive and thoroughly delightful , it takes us on a roller - coaster ride from innocence to experience without even a hin tof that typical kiddie - flick sentimentality .\n"
     ]
    },
    {
     "data": {
      "text/html": [
       "<span style=\"background-color:rgba(135,206,250,0.06574932685712431);\">Visually</span> <span style=\"background-color:rgba(135,206,250,0.04680644020516263);\">imaginative</span> <span style=\"background-color:rgba(135,206,250,0.0003032692698156125);\">,</span> <span style=\"background-color:rgba(135,206,250,0.10485581107433325);\">thematically</span> <span style=\"background-color:rgba(135,206,250,0.17830920520656177);\">instructive</span> <span style=\"background-color:rgba(135,206,250,0.01641270109685777);\">and</span> <span style=\"background-color:rgba(135,206,250,0.24305895991460397);\">thoroughly</span> <span style=\"background-color:rgba(135,206,250,0.34256214227843873);\">delightful</span> <span style=\"background-color:rgba(135,206,250,0.02857541228640602);\">,</span> <span style=\"background-color:rgba(135,206,250,0.14933344705750579);\">it</span> <span style=\"background-color:rgba(135,206,250,0.0638715669515444);\">takes</span> <span style=\"background-color:rgba(135,206,250,0.05461980043386695);\">us</span> <span style=\"background-color:rgba(135,206,250,0.04351903817847122);\">on</span> <span style=\"background-color:rgba(135,206,250,0.011240887388925983);\">a</span> <span style=\"background-color:rgba(135,206,250,0.09923817997523135);\">roller</span> <span style=\"background-color:rgba(135,206,250,0.021225595973372712);\">-</span> <span style=\"background-color:rgba(135,206,250,0.06748931659028545);\">coaster</span> <span style=\"background-color:rgba(135,206,250,0.02794211822221413);\">ride</span> <span style=\"background-color:rgba(135,206,250,0.022567518120337325);\">from</span> <span style=\"background-color:rgba(135,206,250,0.02206058305670786);\">innocence</span> <span style=\"background-color:rgba(135,206,250,0.02871061723332836);\">to</span> <span style=\"background-color:rgba(135,206,250,0.010056298041701413);\">experience</span> <span style=\"background-color:rgba(135,206,250,0.052525349474249985);\">without</span> <span style=\"background-color:rgba(135,206,250,0.029530497439029264);\">even</span> <span style=\"background-color:rgba(135,206,250,0.010810173164842132);\">a</span> <span style=\"background-color:rgba(135,206,250,0.03266256355921302);\">hin</span> <span style=\"background-color:rgba(135,206,250,0.06282984792492305);\">tof</span> <span style=\"background-color:rgba(135,206,250,0.0008619363294210634);\">that</span> <span style=\"background-color:rgba(135,206,250,0.014154525918622835);\">typical</span> <span style=\"background-color:rgba(135,206,250,0.07856370427071208);\">kiddie</span> <span style=\"background-color:rgba(135,206,250,0.003710090026304322);\">-</span> <span style=\"background-color:rgba(135,206,250,0.01726910298937576);\">flick</span> <span style=\"background-color:rgba(135,206,250,0.04186586042561074);\">sentimentality</span> <span style=\"background-color:rgba(135,206,250,0.006707966962072461);\">.</span>"
      ],
      "text/plain": [
       "<IPython.core.display.HTML object>"
      ]
     },
     "metadata": {},
     "output_type": "display_data"
    },
    {
     "name": "stderr",
     "output_type": "stream",
     "text": [
      "100%|██████████| 3/3 [00:00<00:00,  3.60it/s]"
     ]
    },
    {
     "name": "stdout",
     "output_type": "stream",
     "text": [
      "None\n",
      "----------------------------------------------------------------------------------------------------\n",
      "skipped: switch_gender unsuccessful\n",
      "skipped: swap_adj unsuccessful\n",
      "skipped: strip_punct length changed\n",
      "skipped: remove_commas length changed\n",
      "skipped: remove_all_punct length changed\n",
      "skipped: change_first_name unsuccessful\n",
      "skipped: change_last_name unsuccessful\n",
      "skipped: change_location unsuccessful\n",
      "skipped: contraction unsuccessful\n",
      "skipped add_typo prediction changed\n",
      "skipped: switch_gender unsuccessful\n",
      "skipped: swap_adj unsuccessful\n"
     ]
    },
    {
     "name": "stderr",
     "output_type": "stream",
     "text": [
      "\n"
     ]
    }
   ],
   "source": [
    "alternative_explainer = None\n",
    "metric_proxy_func = None\n",
    "show_func = None\n",
    "if type(model) == BCNModel:\n",
    "    alternative_explainer = AllenNLPExplainer(model)\n",
    "    show_func = show_allennlp_sentence\n",
    "    metric_proxy_func = metric_proxy_allennlp\n",
    "elif type(model) == BertModel:\n",
    "    alternative_explainer = SHAPExplainer(model)\n",
    "    show_func = show_shap_sentence\n",
    "    metric_proxy_func = metric_proxy_shap\n",
    "\n",
    "print('alternative explainer', type(alternative_explainer))\n",
    "run_evaluation(explainer=alternative_explainer,\n",
    "               show_f=show_func,\n",
    "               metric_proxy=metric_proxy_func)"
   ]
  },
  {
   "cell_type": "code",
   "execution_count": null,
   "metadata": {},
   "outputs": [],
   "source": []
  }
 ],
 "metadata": {
  "kernelspec": {
   "display_name": "nlp-model-load",
   "language": "python",
   "name": "nlp-model-load"
  },
  "language_info": {
   "codemirror_mode": {
    "name": "ipython",
    "version": 3
   },
   "file_extension": ".py",
   "mimetype": "text/x-python",
   "name": "python",
   "nbconvert_exporter": "python",
   "pygments_lexer": "ipython3",
   "version": "3.8.10"
  }
 },
 "nbformat": 4,
 "nbformat_minor": 4
}
