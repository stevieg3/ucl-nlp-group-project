{
 "cells": [
  {
   "cell_type": "markdown",
   "metadata": {},
   "source": [
    "# Set-up<br>\n",
    "This set-up assumes that the working directory (`os.curdir`) is where the notebook is."
   ]
  },
  {
   "cell_type": "code",
   "execution_count": 125,
   "metadata": {},
   "outputs": [],
   "source": [
    "import os\n",
    "import sys\n",
    "this_notebook_dir = os.curdir\n",
    "# all imports will be relative to the root directory of the project\n",
    "# we thus add it here:\n",
    "project_root_dir = os.path.relpath(os.path.join('..', '..'), this_notebook_dir)\n",
    "if project_root_dir not in sys.path:\n",
    "    sys.path += [project_root_dir]"
   ]
  },
  {
   "cell_type": "markdown",
   "metadata": {},
   "source": [
    "# Loading data and model\n",
    "\n",
    "We will now load a dataset"
   ]
  },
  {
   "cell_type": "code",
   "execution_count": 126,
   "metadata": {},
   "outputs": [
    {
     "name": "stdout",
     "output_type": "stream",
     "text": [
      "loaded dataset sst\n"
     ]
    },
    {
     "data": {
      "text/html": [
       "<div>\n",
       "<style scoped>\n",
       "    .dataframe tbody tr th:only-of-type {\n",
       "        vertical-align: middle;\n",
       "    }\n",
       "\n",
       "    .dataframe tbody tr th {\n",
       "        vertical-align: top;\n",
       "    }\n",
       "\n",
       "    .dataframe thead th {\n",
       "        text-align: right;\n",
       "    }\n",
       "</style>\n",
       "<table border=\"1\" class=\"dataframe\">\n",
       "  <thead>\n",
       "    <tr style=\"text-align: right;\">\n",
       "      <th></th>\n",
       "      <th>sentence</th>\n",
       "      <th>label</th>\n",
       "    </tr>\n",
       "  </thead>\n",
       "  <tbody>\n",
       "    <tr>\n",
       "      <th>0</th>\n",
       "      <td>It 's a lovely film with lovely performances b...</td>\n",
       "      <td>3</td>\n",
       "    </tr>\n",
       "    <tr>\n",
       "      <th>1</th>\n",
       "      <td>No one goes unindicted here , which is probabl...</td>\n",
       "      <td>2</td>\n",
       "    </tr>\n",
       "    <tr>\n",
       "      <th>2</th>\n",
       "      <td>And if you 're not nearly moved to tears by a ...</td>\n",
       "      <td>3</td>\n",
       "    </tr>\n",
       "    <tr>\n",
       "      <th>3</th>\n",
       "      <td>A warm , funny , engaging film .</td>\n",
       "      <td>4</td>\n",
       "    </tr>\n",
       "    <tr>\n",
       "      <th>4</th>\n",
       "      <td>Uses sharp humor and insight into human nature...</td>\n",
       "      <td>4</td>\n",
       "    </tr>\n",
       "    <tr>\n",
       "      <th>...</th>\n",
       "      <td>...</td>\n",
       "      <td>...</td>\n",
       "    </tr>\n",
       "    <tr>\n",
       "      <th>1096</th>\n",
       "      <td>it seems to me the film is about the art of ri...</td>\n",
       "      <td>1</td>\n",
       "    </tr>\n",
       "    <tr>\n",
       "      <th>1097</th>\n",
       "      <td>It 's just disappointingly superficial -- a mo...</td>\n",
       "      <td>1</td>\n",
       "    </tr>\n",
       "    <tr>\n",
       "      <th>1098</th>\n",
       "      <td>The title not only describes its main characte...</td>\n",
       "      <td>1</td>\n",
       "    </tr>\n",
       "    <tr>\n",
       "      <th>1099</th>\n",
       "      <td>Sometimes it feels as if it might have been ma...</td>\n",
       "      <td>2</td>\n",
       "    </tr>\n",
       "    <tr>\n",
       "      <th>1100</th>\n",
       "      <td>Schaeffer has to find some hook on which to ha...</td>\n",
       "      <td>1</td>\n",
       "    </tr>\n",
       "  </tbody>\n",
       "</table>\n",
       "<p>1101 rows × 2 columns</p>\n",
       "</div>"
      ],
      "text/plain": [
       "                                               sentence  label\n",
       "0     It 's a lovely film with lovely performances b...      3\n",
       "1     No one goes unindicted here , which is probabl...      2\n",
       "2     And if you 're not nearly moved to tears by a ...      3\n",
       "3                      A warm , funny , engaging film .      4\n",
       "4     Uses sharp humor and insight into human nature...      4\n",
       "...                                                 ...    ...\n",
       "1096  it seems to me the film is about the art of ri...      1\n",
       "1097  It 's just disappointingly superficial -- a mo...      1\n",
       "1098  The title not only describes its main characte...      1\n",
       "1099  Sometimes it feels as if it might have been ma...      2\n",
       "1100  Schaeffer has to find some hook on which to ha...      1\n",
       "\n",
       "[1101 rows x 2 columns]"
      ]
     },
     "execution_count": 126,
     "metadata": {},
     "output_type": "execute_result"
    }
   ],
   "source": [
    "from src.data.dataload import *\n",
    "data = load_sst()\n",
    "#data = load_agnews()\n",
    "print(f'loaded dataset {data.NAME}')\n",
    "train, dev, test = data.train_val_test\n",
    "dev"
   ]
  },
  {
   "cell_type": "markdown",
   "metadata": {},
   "source": [
    "Loading a model for the dataset"
   ]
  },
  {
   "cell_type": "code",
   "execution_count": 127,
   "metadata": {},
   "outputs": [
    {
     "name": "stdout",
     "output_type": "stream",
     "text": [
      "expecting location for the model file at \"../../models/bcn-sst_output/model.tar.gz\"\n",
      "loaded model <class 'src.models.bcnmodel.BCNModel'> of kind allennlp for sst\n"
     ]
    }
   ],
   "source": [
    "from src.models.bcnmodel import *\n",
    "from src.models.bertmodel import *\n",
    "#model = BertModel()\n",
    "model = BCNModel(device=torch.device('cpu'))\n",
    "print(f'expecting location for the model file at '\n",
    "      f'\"{model._get_model_filepath_for_dataset(data)}\"')\n",
    "model.load_model(data)\n",
    "print(f'loaded model {type(model)} of kind {model.MODELTYPE} for {data.NAME}')"
   ]
  },
  {
   "cell_type": "markdown",
   "metadata": {},
   "source": [
    "# Perturbations\n",
    "\n",
    "We will now load all the necessary tools to perturb data"
   ]
  },
  {
   "cell_type": "code",
   "execution_count": 128,
   "metadata": {},
   "outputs": [],
   "source": [
    "from src.data.perturbations import add_perturbations\n",
    "from src.data.perturbations import \\\n",
    "    remove_commas, \\\n",
    "    remove_all_punctuation, \\\n",
    "    switch_gender, \\\n",
    "    strip_trailing_punct, \\\n",
    "    add_typo, \\\n",
    "    change_first_name, \\\n",
    "    change_last_name, \\\n",
    "    change_location, \\\n",
    "    contraction, \\\n",
    "    swap_adjectives\n",
    "\n",
    "perturbation_reduction = ['strip_punct', 'remove_commas', 'remove_all_punct']\n",
    "perturbations_named = ['change_first_name','change_last_name', 'change_location']\n",
    "perturbations_other = ['contraction', 'add_typo', 'switch_gender', 'swap_adj']\n",
    "perturbations_list = perturbation_reduction + perturbations_named + ['contraction', 'add_typo', 'switch_gender', 'swap_adj']\n",
    "\n",
    "perturbations_named_f = [change_first_name, change_last_name, change_location]\n",
    "perturbations_unnamed_f = [remove_commas, remove_all_punctuation, switch_gender,\n",
    "                           strip_trailing_punct, add_typo, contraction, swap_adjectives]\n",
    "perturbations_all_f = perturbations_named_f + perturbations_unnamed_f\n",
    "\n",
    "def bert_detokenize(token_list):\n",
    "    \"\"\"\n",
    "    Reverse BERT tokenization accounting for ##s representing subwords. Based on https://github.com/huggingface/transformers/issues/36\n",
    "    \"\"\"\n",
    "    text = ' '.join(token_list)\n",
    "    text = text.replace(' ##', '')\n",
    "    text = text.replace(\"` `\", \"``\")\n",
    "    text = text.replace(\"' '\", \"''\")\n",
    "    return text\n",
    "\n",
    "def run_detokenizer_on_perturbations(df):\n",
    "    for perturbation in perturbations_list:\n",
    "        if f'{perturbation}_concat' not in df.columns:\n",
    "            continue\n",
    "        df[f'{perturbation}_concat'] = df[f'{perturbation}_tokens'].apply(bert_detokenize)\n",
    "        df[f'{perturbation}_tokens'] = df[f'{perturbation}_concat'].apply(lambda x: model.tokenizer.tokenize(x))\n",
    "    return df\n",
    "\n",
    "# merge cased and uncased perturbations\n",
    "def merge_perturbations(df, df_cased):\n",
    "    for perturbation in perturbations_named:\n",
    "        for suffix in ['tokens', 'pert_ind', 'success', 'concat']:\n",
    "            df[f'{perturbation}_{suffix}'] = df_cased[f'{perturbation}_{suffix}'].tolist()\n",
    "    return df"
   ]
  },
  {
   "cell_type": "markdown",
   "metadata": {},
   "source": [
    "Now we are ready to generate a dataframe with the perturbations"
   ]
  },
  {
   "cell_type": "code",
   "execution_count": 129,
   "metadata": {},
   "outputs": [
    {
     "data": {
      "text/html": [
       "<div>\n",
       "<style scoped>\n",
       "    .dataframe tbody tr th:only-of-type {\n",
       "        vertical-align: middle;\n",
       "    }\n",
       "\n",
       "    .dataframe tbody tr th {\n",
       "        vertical-align: top;\n",
       "    }\n",
       "\n",
       "    .dataframe thead th {\n",
       "        text-align: right;\n",
       "    }\n",
       "</style>\n",
       "<table border=\"1\" class=\"dataframe\">\n",
       "  <thead>\n",
       "    <tr style=\"text-align: right;\">\n",
       "      <th></th>\n",
       "      <th>sentence</th>\n",
       "      <th>label</th>\n",
       "      <th>tokens_orig</th>\n",
       "      <th>change_first_name_concat</th>\n",
       "      <th>change_first_name_tokens</th>\n",
       "      <th>change_first_name_success</th>\n",
       "      <th>change_first_name_pert_ind</th>\n",
       "      <th>change_last_name_concat</th>\n",
       "      <th>change_last_name_tokens</th>\n",
       "      <th>change_last_name_success</th>\n",
       "      <th>...</th>\n",
       "      <th>add_typo_success</th>\n",
       "      <th>add_typo_pert_ind</th>\n",
       "      <th>contraction_concat</th>\n",
       "      <th>contraction_tokens</th>\n",
       "      <th>contraction_success</th>\n",
       "      <th>contraction_pert_ind</th>\n",
       "      <th>swap_adj_concat</th>\n",
       "      <th>swap_adj_tokens</th>\n",
       "      <th>swap_adj_success</th>\n",
       "      <th>swap_adj_pert_ind</th>\n",
       "    </tr>\n",
       "  </thead>\n",
       "  <tbody>\n",
       "    <tr>\n",
       "      <th>49</th>\n",
       "      <td>A smart , witty follow-up .</td>\n",
       "      <td>4</td>\n",
       "      <td>[A, smart, ,, witty, follow, -, up, .]</td>\n",
       "      <td>A smart , witty follow-up .</td>\n",
       "      <td>[A, smart, ,, witty, follow, -, up, .]</td>\n",
       "      <td>0</td>\n",
       "      <td>None</td>\n",
       "      <td>A smart , witty follow-up .</td>\n",
       "      <td>[A, smart, ,, witty, follow, -, up, .]</td>\n",
       "      <td>0</td>\n",
       "      <td>...</td>\n",
       "      <td>1</td>\n",
       "      <td>[6, 7]</td>\n",
       "      <td>A smart , witty follow-up .</td>\n",
       "      <td>[A, smart, ,, witty, follow, -, up, .]</td>\n",
       "      <td>0</td>\n",
       "      <td>None</td>\n",
       "      <td>A smart , witty follow-up .</td>\n",
       "      <td>[A, smart, ,, witty, follow, -, up, .]</td>\n",
       "      <td>0</td>\n",
       "      <td>None</td>\n",
       "    </tr>\n",
       "    <tr>\n",
       "      <th>114</th>\n",
       "      <td>A warm but realistic meditation on friendship ...</td>\n",
       "      <td>4</td>\n",
       "      <td>[A, warm, but, realistic, meditation, on, frie...</td>\n",
       "      <td>A warm but realistic meditation on friendship ...</td>\n",
       "      <td>[A, warm, but, realistic, meditation, on, frie...</td>\n",
       "      <td>0</td>\n",
       "      <td>None</td>\n",
       "      <td>A warm but realistic meditation on friendship ...</td>\n",
       "      <td>[A, warm, but, realistic, meditation, on, frie...</td>\n",
       "      <td>0</td>\n",
       "      <td>...</td>\n",
       "      <td>1</td>\n",
       "      <td>[8, 9]</td>\n",
       "      <td>A warm but realistic meditation on friendship ...</td>\n",
       "      <td>[A, warm, but, realistic, meditation, on, frie...</td>\n",
       "      <td>0</td>\n",
       "      <td>None</td>\n",
       "      <td>A warm but realistic meditation on friendship ...</td>\n",
       "      <td>[A, warm, but, realistic, meditation, on, frie...</td>\n",
       "      <td>0</td>\n",
       "      <td>None</td>\n",
       "    </tr>\n",
       "    <tr>\n",
       "      <th>363</th>\n",
       "      <td>A gorgeous , high-spirited musical from India ...</td>\n",
       "      <td>4</td>\n",
       "      <td>[A, gorgeous, ,, high, -, spirited, musical, f...</td>\n",
       "      <td>A gorgeous , high-spirited musical from India ...</td>\n",
       "      <td>[A, gorgeous, ,, high, -, spirited, musical, f...</td>\n",
       "      <td>0</td>\n",
       "      <td>None</td>\n",
       "      <td>A gorgeous , high-spirited musical from India ...</td>\n",
       "      <td>[A, gorgeous, ,, high, -, spirited, musical, f...</td>\n",
       "      <td>0</td>\n",
       "      <td>...</td>\n",
       "      <td>1</td>\n",
       "      <td>[9, 10]</td>\n",
       "      <td>A gorgeous , high-spirited musical from India ...</td>\n",
       "      <td>[A, gorgeous, ,, high, -, spirited, musical, f...</td>\n",
       "      <td>0</td>\n",
       "      <td>None</td>\n",
       "      <td>A gorgeous , high-spirited musical from India ...</td>\n",
       "      <td>[A, gorgeous, ,, high, -, spirited, musical, f...</td>\n",
       "      <td>0</td>\n",
       "      <td>None</td>\n",
       "    </tr>\n",
       "  </tbody>\n",
       "</table>\n",
       "<p>3 rows × 43 columns</p>\n",
       "</div>"
      ],
      "text/plain": [
       "                                              sentence  label  \\\n",
       "49                         A smart , witty follow-up .      4   \n",
       "114  A warm but realistic meditation on friendship ...      4   \n",
       "363  A gorgeous , high-spirited musical from India ...      4   \n",
       "\n",
       "                                           tokens_orig  \\\n",
       "49              [A, smart, ,, witty, follow, -, up, .]   \n",
       "114  [A, warm, but, realistic, meditation, on, frie...   \n",
       "363  [A, gorgeous, ,, high, -, spirited, musical, f...   \n",
       "\n",
       "                              change_first_name_concat  \\\n",
       "49                         A smart , witty follow-up .   \n",
       "114  A warm but realistic meditation on friendship ...   \n",
       "363  A gorgeous , high-spirited musical from India ...   \n",
       "\n",
       "                              change_first_name_tokens  \\\n",
       "49              [A, smart, ,, witty, follow, -, up, .]   \n",
       "114  [A, warm, but, realistic, meditation, on, frie...   \n",
       "363  [A, gorgeous, ,, high, -, spirited, musical, f...   \n",
       "\n",
       "     change_first_name_success change_first_name_pert_ind  \\\n",
       "49                           0                       None   \n",
       "114                          0                       None   \n",
       "363                          0                       None   \n",
       "\n",
       "                               change_last_name_concat  \\\n",
       "49                         A smart , witty follow-up .   \n",
       "114  A warm but realistic meditation on friendship ...   \n",
       "363  A gorgeous , high-spirited musical from India ...   \n",
       "\n",
       "                               change_last_name_tokens  \\\n",
       "49              [A, smart, ,, witty, follow, -, up, .]   \n",
       "114  [A, warm, but, realistic, meditation, on, frie...   \n",
       "363  [A, gorgeous, ,, high, -, spirited, musical, f...   \n",
       "\n",
       "     change_last_name_success  ... add_typo_success add_typo_pert_ind  \\\n",
       "49                          0  ...                1            [6, 7]   \n",
       "114                         0  ...                1            [8, 9]   \n",
       "363                         0  ...                1           [9, 10]   \n",
       "\n",
       "                                    contraction_concat  \\\n",
       "49                         A smart , witty follow-up .   \n",
       "114  A warm but realistic meditation on friendship ...   \n",
       "363  A gorgeous , high-spirited musical from India ...   \n",
       "\n",
       "                                    contraction_tokens contraction_success  \\\n",
       "49              [A, smart, ,, witty, follow, -, up, .]                   0   \n",
       "114  [A, warm, but, realistic, meditation, on, frie...                   0   \n",
       "363  [A, gorgeous, ,, high, -, spirited, musical, f...                   0   \n",
       "\n",
       "    contraction_pert_ind                                    swap_adj_concat  \\\n",
       "49                  None                        A smart , witty follow-up .   \n",
       "114                 None  A warm but realistic meditation on friendship ...   \n",
       "363                 None  A gorgeous , high-spirited musical from India ...   \n",
       "\n",
       "                                       swap_adj_tokens swap_adj_success  \\\n",
       "49              [A, smart, ,, witty, follow, -, up, .]                0   \n",
       "114  [A, warm, but, realistic, meditation, on, frie...                0   \n",
       "363  [A, gorgeous, ,, high, -, spirited, musical, f...                0   \n",
       "\n",
       "    swap_adj_pert_ind  \n",
       "49               None  \n",
       "114              None  \n",
       "363              None  \n",
       "\n",
       "[3 rows x 43 columns]"
      ]
     },
     "execution_count": 129,
     "metadata": {},
     "output_type": "execute_result"
    }
   ],
   "source": [
    "inds = [49, 114, 363]\n",
    "if type(model) == BCNModel:\n",
    "    df_perturbations = add_perturbations(\n",
    "        df=dev.iloc[inds],\n",
    "        tokenizer=model.tokenizer,\n",
    "        sentence_col_name=data.SENTENCE,\n",
    "        perturbation_functions=perturbations_all_f,\n",
    "    )\n",
    "elif type(model) == BertModel:\n",
    "    # uncased perturbations\n",
    "    df_perturbations = add_perturbations(\n",
    "        df=dev.iloc[inds],\n",
    "        tokenizer=model.tokenizer,\n",
    "        sentence_col_name=data.SENTENCE,\n",
    "        perturbation_functions=perturbations_unnamed_f,\n",
    "    )\n",
    "    # with cased tokenizer\n",
    "    df_perturbations_named = add_perturbations(\n",
    "        df=dev.iloc[inds],\n",
    "        tokenizer=BertTokenizer.from_pretrained('bert-base-cased'),\n",
    "        sentence_col_name=data.SENTENCE,\n",
    "        perturbation_functions=perturbations_named_f,\n",
    "    )\n",
    "    # merge the two together\n",
    "    df_perturbations = merge_perturbations(df_perturbations, df_perturbations_named)\n",
    "    # remove ## in the reconstructed sentences\n",
    "    df_perturbations = run_detokenizer_on_perturbations(df_perturbations)\n",
    "df_perturbations.head()"
   ]
  },
  {
   "cell_type": "markdown",
   "metadata": {},
   "source": [
    "# Explainers and Evaluation\n",
    "\n",
    "Explainers are run in an evaluation loop, where metrics are applied to each suitable perturbation of each sentence:"
   ]
  },
  {
   "cell_type": "code",
   "execution_count": 133,
   "metadata": {},
   "outputs": [],
   "source": [
    "from src.explainers.explainers import *\n",
    "\n",
    "import tqdm\n",
    "import scipy as sp\n",
    "\n",
    "df_perturbations.reset_index(drop=True, inplace=True)\n",
    "preds = model.predict_label_batch(df_perturbations.sentence)\n",
    "\n",
    "\n",
    "# helper function\n",
    "def get_sorted_tokens(scores, tokens):\n",
    "    N = len(scores)\n",
    "    sorted_inds = sorted(range(N), key=lambda i: abs(scores[i]), reverse=True)\n",
    "    return [str(tokens[i]).lower() for i in sorted_inds]\n",
    "\n",
    "def metric_top_k(k, original_scores, original_tokens, perturbed_scores, perturbed_tokens, **kwargs):\n",
    "    N = len(original_tokens)\n",
    "    k = min(k, N)\n",
    "    original_top_k = get_sorted_tokens(scores=original_scores, tokens=original_tokens)[:k]\n",
    "    perturbed_top_k = get_sorted_tokens(scores=perturbed_scores, tokens=perturbed_tokens)[:k]\n",
    "    num_common = 0\n",
    "    for word in set([str(t) for t in original_top_k]):\n",
    "        num_common += min(original_top_k.count(word), perturbed_top_k.count(word))\n",
    "    print(original_top_k)\n",
    "    print(perturbed_top_k)\n",
    "    return num_common / k\n",
    "\n",
    "def metric_spearman(original_scores, perturbed_scores, **kwargs):\n",
    "    return sp.stats.spearmanr(original_scores, perturbed_scores).correlation\n",
    "\n",
    "\n",
    "def run_evaluation(explainer, show_f, metric_proxy):\n",
    "    for i in tqdm.trange(len(df_perturbations)):\n",
    "        prediction = preds[i]\n",
    "        original_sentence = df_perturbations.sentence[i]\n",
    "        original_tokens = model.tokenizer.tokenize(original_sentence)\n",
    "        original_explanation = None\n",
    "        for p in perturbations_list:\n",
    "            perturbed_sentence = df_perturbations[f'{p}_concat'][i]\n",
    "            perturbed_tokens = df_perturbations[f'{p}_tokens'][i]\n",
    "            # perturbation wasn't successful:\n",
    "            if df_perturbations[f'{p}_success'][i] == 0:\n",
    "                # print('skipped:', p, 'unsuccessful')\n",
    "                continue\n",
    "            # different numbers of tokens\n",
    "            elif len(original_tokens) != len(perturbed_tokens):\n",
    "                # print('skipped:', p, 'length changed')\n",
    "                continue\n",
    "            # or didn't reach the same prediction\n",
    "            elif model.predict_label(perturbed_sentence) != preds[i]:\n",
    "                # print('skipped', p, 'prediction changed')\n",
    "                continue\n",
    "            # we will run the prediction on the perturbed sentence now\n",
    "            if original_explanation is None:\n",
    "                original_explanation = explainer.explain_instances([original_sentence])\n",
    "                original_tokens, original_scores = metric_proxy(sentence=original_sentence,\n",
    "                                                                explanation=original_explanation,\n",
    "                                                                prediction=prediction)\n",
    "                original = dict(\n",
    "                    original_sentence=original_sentence,\n",
    "                    original_tokens=original_tokens,\n",
    "                    original_explanation=original_explanation,\n",
    "                    original_scores=original_scores,\n",
    "                    prediction=preds[i],\n",
    "                )\n",
    "            perturbed_explanation = explainer.explain_instances([perturbed_sentence])\n",
    "            perturbed_tokens, perturbed_scores = metric_proxy(sentence=perturbed_sentence,\n",
    "                                                              explanation=perturbed_explanation,\n",
    "                                                              prediction=prediction)\n",
    "            perturbed = dict(\n",
    "                perturbed_sentence=perturbed_sentence,\n",
    "                perturbed_tokens=perturbed_tokens,\n",
    "                perturbed_explanation=perturbed_explanation,\n",
    "                perturbed_scores=perturbed_scores,\n",
    "            )\n",
    "            if len(perturbed_tokens) != len(original_tokens):\n",
    "                # print('skipped:', p, 'length changed')\n",
    "                continue\n",
    "            #print('running explainer with ', p)\n",
    "            print('-'*100)\n",
    "            # show metrics\n",
    "            K = 5\n",
    "            print('PERTURBATION', p)\n",
    "            print(f'TOP-{K} score:', metric_top_k(k=K, **original, **perturbed))\n",
    "            print('SPEARMAN:', metric_spearman(original_scores=original_scores, perturbed_scores=perturbed_scores))\n",
    "            # show perturbed explanation\n",
    "            print('ORIGINAL:', original_sentence)\n",
    "            show_f(sentence=original_sentence,\n",
    "                   explanation=original_explanation,\n",
    "                   **original, **perturbed)\n",
    "            print('PERTURBED:', perturbed_sentence)\n",
    "            show_f(sentence=perturbed_sentence,\n",
    "                   explanation=perturbed_explanation,\n",
    "                   **original, **perturbed)\n",
    "            print('-'*100)\n",
    "        original_explanation = None"
   ]
  },
  {
   "cell_type": "markdown",
   "metadata": {},
   "source": [
    "### LIME explainer\n",
    "\n",
    "Construct LIME explainer:"
   ]
  },
  {
   "cell_type": "code",
   "execution_count": 134,
   "metadata": {},
   "outputs": [
    {
     "name": "stdout",
     "output_type": "stream",
     "text": [
      "using explainer <class 'src.explainers.explainers.LimeExplainer'> with model <src.models.bcnmodel.BCNModel object at 0x7c7f38bb62b0> and dataset sst\n"
     ]
    }
   ],
   "source": [
    "lime_explainer = LimeExplainer(model, num_samples=1000)\n",
    "print(f'using explainer {type(lime_explainer)} with model {lime_explainer.model} and dataset {lime_explainer.model.dataset_finetune.NAME}')"
   ]
  },
  {
   "cell_type": "markdown",
   "metadata": {},
   "source": [
    "Analyse:"
   ]
  },
  {
   "cell_type": "code",
   "execution_count": 135,
   "metadata": {},
   "outputs": [
    {
     "name": "stderr",
     "output_type": "stream",
     "text": [
      " 33%|███▎      | 1/3 [00:06<00:13,  6.61s/it]"
     ]
    },
    {
     "name": "stdout",
     "output_type": "stream",
     "text": [
      "----------------------------------------------------------------------------------------------------\n",
      "PERTURBATION strip_punct\n",
      "['witty', 'smart', 'follow', 'up', 'a']\n",
      "['witty', 'smart', 'a', 'follow', 'up']\n",
      "TOP-5 score: 1.0\n",
      "SPEARMAN: 0.6\n",
      "ORIGINAL: A smart , witty follow-up .\n",
      "tokens ['A', 'smart', 'witty', 'follow', 'up']\n",
      "scores ['0.026', '0.185', '0.212', '0.033', '0.028']\n",
      "PERTURBED: A smart , witty follow - up \n",
      "tokens ['A', 'smart', 'witty', 'follow', 'up']\n",
      "scores ['0.037', '0.188', '0.221', '-0.025', '-0.009']\n",
      "----------------------------------------------------------------------------------------------------\n"
     ]
    },
    {
     "name": "stderr",
     "output_type": "stream",
     "text": [
      " 67%|██████▋   | 2/3 [00:13<00:06,  6.61s/it]"
     ]
    },
    {
     "name": "stdout",
     "output_type": "stream",
     "text": [
      "----------------------------------------------------------------------------------------------------\n",
      "PERTURBATION strip_punct\n",
      "['but', 'meditation', 'realistic', 'and', 'warm']\n",
      "['but', 'meditation', 'realistic', 'warm', 'friendship']\n",
      "TOP-5 score: 0.8\n",
      "SPEARMAN: 0.9878787878787878\n",
      "ORIGINAL: A warm but realistic meditation on friendship , family and affection .\n",
      "tokens ['A', 'warm', 'but', 'realistic', 'meditation', 'on', 'friendship', 'family', 'and', 'affection']\n",
      "scores ['-0.021', '-0.058', '0.132', '-0.065', '0.120', '-0.010', '0.050', '-0.023', '-0.061', '-0.027']\n",
      "PERTURBED: A warm but realistic meditation on friendship , family and affection \n",
      "tokens ['A', 'warm', 'but', 'realistic', 'meditation', 'on', 'friendship', 'family', 'and', 'affection']\n",
      "scores ['-0.020', '-0.060', '0.146', '-0.070', '0.132', '-0.013', '0.058', '-0.027', '-0.058', '-0.032']\n",
      "----------------------------------------------------------------------------------------------------\n"
     ]
    },
    {
     "name": "stderr",
     "output_type": "stream",
     "text": [
      "100%|██████████| 3/3 [00:22<00:00,  7.44s/it]"
     ]
    },
    {
     "name": "stdout",
     "output_type": "stream",
     "text": [
      "----------------------------------------------------------------------------------------------------\n",
      "PERTURBATION strip_punct\n",
      "['gorgeous', 'exquisitely', 'blends', 'high', 'spirited']\n",
      "['gorgeous', 'spirited', 'exquisitely', 'blends', 'a']\n",
      "TOP-5 score: 0.8\n",
      "SPEARMAN: 0.8749999999999999\n",
      "ORIGINAL: A gorgeous , high-spirited musical from India that exquisitely blends music , dance , song , and high drama .\n",
      "tokens ['A', 'gorgeous', 'high', 'spirited', 'musical', 'from', 'India', 'that', 'exquisitely', 'blends', 'music', 'dance', 'song', 'and', 'drama']\n",
      "scores ['0.012', '0.083', '0.057', '0.045', '0.003', '-0.025', '-0.028', '-0.011', '0.070', '0.062', '0.007', '-0.015', '-0.004', '0.009', '0.009']\n",
      "PERTURBED: A gorgeous , high - spirited musical from India that exquisitely blends music , dance , song , and high drama \n",
      "tokens ['A', 'gorgeous', 'high', 'spirited', 'musical', 'from', 'India', 'that', 'exquisitely', 'blends', 'music', 'dance', 'song', 'and', 'drama']\n",
      "scores ['0.016', '0.061', '-0.001', '0.056', '0.004', '-0.012', '-0.013', '-0.013', '0.049', '0.039', '0.005', '-0.005', '-0.009', '0.005', '-0.003']\n",
      "----------------------------------------------------------------------------------------------------\n"
     ]
    },
    {
     "name": "stderr",
     "output_type": "stream",
     "text": [
      "\n"
     ]
    }
   ],
   "source": [
    "def metric_proxy_lime(sentence, explanation, **kwargs):\n",
    "    scores, pred, tokens, inds = explanation\n",
    "    inds = np.argsort(inds[0])\n",
    "    tokens = [tokens[0][i] for i in inds]\n",
    "    scores = [scores[0][i] for i in inds]\n",
    "    return tokens, scores\n",
    "\n",
    "def show_lime_sentence(sentence, explanation, **kwargs):\n",
    "    tokens, scores = metric_proxy_lime(sentence=sentence, explanation=explanation, **kwargs)\n",
    "    print('tokens', tokens)\n",
    "    print('scores', ['%.3f' % s for s in scores])\n",
    "\n",
    "run_evaluation(explainer=lime_explainer,\n",
    "               show_f=show_lime_sentence,\n",
    "               metric_proxy=metric_proxy_lime)"
   ]
  },
  {
   "cell_type": "markdown",
   "metadata": {},
   "source": [
    "### Alternative explainer\n",
    "\n",
    "This depends on a model, so we will first prepare show_f and metric_proxy for each explainer:"
   ]
  },
  {
   "cell_type": "markdown",
   "metadata": {},
   "source": [
    "**AllenNLP explainer helpers**"
   ]
  },
  {
   "cell_type": "code",
   "execution_count": 136,
   "metadata": {},
   "outputs": [],
   "source": [
    "import html\n",
    "from IPython.core.display import display, HTML\n",
    "\n",
    "def visualise_weights(tokens, gradients, max_alpha=.3):\n",
    "    max_alpha = max_alpha \n",
    "    highlighted_text = []\n",
    "    for i in range(len(tokens)):\n",
    "        weight = gradients[i]\n",
    "        highlighted_text.append('<span style=\"background-color:rgba(135,206,250,' + str(weight / max_alpha) + ');\">' + html.escape(tokens[i]) + '</span>')\n",
    "    highlighted_text = ' '.join(highlighted_text)\n",
    "    print(display(HTML(highlighted_text)))\n",
    "\n",
    "def metric_proxy_allennlp(sentence, explanation, **kwargs):\n",
    "    grads, labels = explanation\n",
    "    tokenized = model.tokenizer.tokenize(sentence)\n",
    "    return tokenized, grads[0]\n",
    "\n",
    "def show_allennlp_sentence(sentence, explanation, **kwargs):\n",
    "    tokens, scores = metric_proxy_allennlp(sentence=sentence, explanation=explanation, **kwargs)\n",
    "    visualise_weights([str(t) for t in tokens], scores, max_alpha=.5)"
   ]
  },
  {
   "cell_type": "markdown",
   "metadata": {},
   "source": [
    "**SHAP explainer helpers**"
   ]
  },
  {
   "cell_type": "code",
   "execution_count": 137,
   "metadata": {},
   "outputs": [],
   "source": [
    "def metric_proxy_shap(sentence, explanation, prediction, **kwargs):\n",
    "    tokens = explanation.data[0, 1:-1]\n",
    "    scores = explanation.values[0][1:-1]\n",
    "    return tokens, scores[:, prediction]\n",
    "\n",
    "def show_shap_sentence(sentence, explanation, **kwargs):\n",
    "    tokens, scores = metric_proxy_shap(sentence=sentence, explanation=explanation, **kwargs)\n",
    "    print('tokens:', tokens)\n",
    "    print('scores:', ['%.3f' % s for s in scores])"
   ]
  },
  {
   "cell_type": "markdown",
   "metadata": {},
   "source": [
    "We will now run evaluation with the alternative explainer:"
   ]
  },
  {
   "cell_type": "code",
   "execution_count": 138,
   "metadata": {},
   "outputs": [
    {
     "name": "stderr",
     "output_type": "stream",
     "text": [
      "  0%|          | 0/3 [00:00<?, ?it/s]"
     ]
    },
    {
     "name": "stdout",
     "output_type": "stream",
     "text": [
      "alternative explainer <class 'src.explainers.explainers.AllenNLPExplainer'>\n",
      "----------------------------------------------------------------------------------------------------\n",
      "PERTURBATION add_typo\n",
      "['follow', 'smart', 'up', ',', 'a']\n",
      "['follow', 'p.', 'smart', 'u', ',']\n",
      "TOP-5 score: 0.6\n",
      "SPEARMAN: 0.6428571428571429\n",
      "ORIGINAL: A smart , witty follow-up .\n"
     ]
    },
    {
     "data": {
      "text/html": [
       "<span style=\"background-color:rgba(135,206,250,0.23616937371116106);\">A</span> <span style=\"background-color:rgba(135,206,250,0.3168915637526356);\">smart</span> <span style=\"background-color:rgba(135,206,250,0.2608703167357909);\">,</span> <span style=\"background-color:rgba(135,206,250,0.15509024768877872);\">witty</span> <span style=\"background-color:rgba(135,206,250,0.5765130795430848);\">follow</span> <span style=\"background-color:rgba(135,206,250,0.08760084802706272);\">-</span> <span style=\"background-color:rgba(135,206,250,0.2739269677239973);\">up</span> <span style=\"background-color:rgba(135,206,250,0.09293752172200467);\">.</span>"
      ],
      "text/plain": [
       "<IPython.core.display.HTML object>"
      ]
     },
     "metadata": {},
     "output_type": "display_data"
    },
    {
     "name": "stdout",
     "output_type": "stream",
     "text": [
      "None\n",
      "PERTURBED: A smart , witty follow - u p.\n"
     ]
    },
    {
     "data": {
      "text/html": [
       "<span style=\"background-color:rgba(135,206,250,0.21812845858464391);\">A</span> <span style=\"background-color:rgba(135,206,250,0.3087150082129435);\">smart</span> <span style=\"background-color:rgba(135,206,250,0.24144103256585062);\">,</span> <span style=\"background-color:rgba(135,206,250,0.11150556315141703);\">witty</span> <span style=\"background-color:rgba(135,206,250,0.4499161570837226);\">follow</span> <span style=\"background-color:rgba(135,206,250,0.08445991659979432);\">-</span> <span style=\"background-color:rgba(135,206,250,0.25798496960740247);\">u</span> <span style=\"background-color:rgba(135,206,250,0.32784882065425863);\">p.</span>"
      ],
      "text/plain": [
       "<IPython.core.display.HTML object>"
      ]
     },
     "metadata": {},
     "output_type": "display_data"
    },
    {
     "name": "stderr",
     "output_type": "stream",
     "text": [
      " 33%|███▎      | 1/3 [00:00<00:01,  1.76it/s]"
     ]
    },
    {
     "name": "stdout",
     "output_type": "stream",
     "text": [
      "None\n",
      "----------------------------------------------------------------------------------------------------\n",
      "----------------------------------------------------------------------------------------------------\n",
      "PERTURBATION add_typo\n",
      "['but', 'meditation', 'realistic', 'and', 'friendship']\n",
      "['but', 'meditation', 'realistic', 'friendship', 'affection']\n",
      "TOP-5 score: 0.8\n",
      "SPEARMAN: 0.7552447552447553\n",
      "ORIGINAL: A warm but realistic meditation on friendship , family and affection .\n"
     ]
    },
    {
     "data": {
      "text/html": [
       "<span style=\"background-color:rgba(135,206,250,0.023903920504270076);\">A</span> <span style=\"background-color:rgba(135,206,250,0.03682645193431247);\">warm</span> <span style=\"background-color:rgba(135,206,250,0.6619776514130032);\">but</span> <span style=\"background-color:rgba(135,206,250,0.24692933538427939);\">realistic</span> <span style=\"background-color:rgba(135,206,250,0.34129709569718863);\">meditation</span> <span style=\"background-color:rgba(135,206,250,0.06279153686177419);\">on</span> <span style=\"background-color:rgba(135,206,250,0.17193232710725845);\">friendship</span> <span style=\"background-color:rgba(135,206,250,0.057631903906333735);\">,</span> <span style=\"background-color:rgba(135,206,250,0.05996235871246235);\">family</span> <span style=\"background-color:rgba(135,206,250,0.17892900361825995);\">and</span> <span style=\"background-color:rgba(135,206,250,0.11276247016157802);\">affection</span> <span style=\"background-color:rgba(135,206,250,0.04505606923049198);\">.</span>"
      ],
      "text/plain": [
       "<IPython.core.display.HTML object>"
      ]
     },
     "metadata": {},
     "output_type": "display_data"
    },
    {
     "name": "stdout",
     "output_type": "stream",
     "text": [
      "None\n",
      "PERTURBED: A warm but realistic meditation on friendship , famil yand affection .\n"
     ]
    },
    {
     "data": {
      "text/html": [
       "<span style=\"background-color:rgba(135,206,250,0.029520443029411255);\">A</span> <span style=\"background-color:rgba(135,206,250,0.09134139281836537);\">warm</span> <span style=\"background-color:rgba(135,206,250,0.6049209219909987);\">but</span> <span style=\"background-color:rgba(135,206,250,0.2489129229382479);\">realistic</span> <span style=\"background-color:rgba(135,206,250,0.3088037720471109);\">meditation</span> <span style=\"background-color:rgba(135,206,250,0.09552427775266471);\">on</span> <span style=\"background-color:rgba(135,206,250,0.2081438790256582);\">friendship</span> <span style=\"background-color:rgba(135,206,250,0.006299006174485071);\">,</span> <span style=\"background-color:rgba(135,206,250,0.084069471824097);\">famil</span> <span style=\"background-color:rgba(135,206,250,0.06280495366135815);\">yand</span> <span style=\"background-color:rgba(135,206,250,0.1729618486806967);\">affection</span> <span style=\"background-color:rgba(135,206,250,0.08669706919974474);\">.</span>"
      ],
      "text/plain": [
       "<IPython.core.display.HTML object>"
      ]
     },
     "metadata": {},
     "output_type": "display_data"
    },
    {
     "name": "stderr",
     "output_type": "stream",
     "text": [
      " 67%|██████▋   | 2/3 [00:01<00:00,  1.81it/s]"
     ]
    },
    {
     "name": "stdout",
     "output_type": "stream",
     "text": [
      "None\n",
      "----------------------------------------------------------------------------------------------------\n",
      "----------------------------------------------------------------------------------------------------\n",
      "PERTURBATION change_location\n",
      "['-', 'spirited', 'india', 'from', 'gorgeous']\n",
      "['angola', 'from', '-', 'and', 'high']\n",
      "TOP-5 score: 0.4\n",
      "SPEARMAN: 0.5347261434217957\n",
      "ORIGINAL: A gorgeous , high-spirited musical from India that exquisitely blends music , dance , song , and high drama .\n"
     ]
    },
    {
     "data": {
      "text/html": [
       "<span style=\"background-color:rgba(135,206,250,0.10470274595108169);\">A</span> <span style=\"background-color:rgba(135,206,250,0.13925051327117824);\">gorgeous</span> <span style=\"background-color:rgba(135,206,250,0.11202809737065367);\">,</span> <span style=\"background-color:rgba(135,206,250,0.07746044842825085);\">high</span> <span style=\"background-color:rgba(135,206,250,0.24302226798523233);\">-</span> <span style=\"background-color:rgba(135,206,250,0.19546368006200737);\">spirited</span> <span style=\"background-color:rgba(135,206,250,0.03378112798622109);\">musical</span> <span style=\"background-color:rgba(135,206,250,0.14213223331634267);\">from</span> <span style=\"background-color:rgba(135,206,250,0.14243755366404307);\">India</span> <span style=\"background-color:rgba(135,206,250,0.000545176600516766);\">that</span> <span style=\"background-color:rgba(135,206,250,0.07463292515986274);\">exquisitely</span> <span style=\"background-color:rgba(135,206,250,0.10026346878691844);\">blends</span> <span style=\"background-color:rgba(135,206,250,0.044937701408860484);\">music</span> <span style=\"background-color:rgba(135,206,250,0.05651897725354886);\">,</span> <span style=\"background-color:rgba(135,206,250,0.032679938981390405);\">dance</span> <span style=\"background-color:rgba(135,206,250,0.05715001454718202);\">,</span> <span style=\"background-color:rgba(135,206,250,0.06727727894960253);\">song</span> <span style=\"background-color:rgba(135,206,250,0.06606256083819044);\">,</span> <span style=\"background-color:rgba(135,206,250,0.13072641864857815);\">and</span> <span style=\"background-color:rgba(135,206,250,0.09826269142187907);\">high</span> <span style=\"background-color:rgba(135,206,250,0.07237460300683433);\">drama</span> <span style=\"background-color:rgba(135,206,250,0.008289296676423507);\">.</span>"
      ],
      "text/plain": [
       "<IPython.core.display.HTML object>"
      ]
     },
     "metadata": {},
     "output_type": "display_data"
    },
    {
     "name": "stdout",
     "output_type": "stream",
     "text": [
      "None\n",
      "PERTURBED: A gorgeous , high-spirited musical from Angola that exquisitely blends music , dance , song , and high drama .\n"
     ]
    },
    {
     "data": {
      "text/html": [
       "<span style=\"background-color:rgba(135,206,250,0.05370273969371133);\">A</span> <span style=\"background-color:rgba(135,206,250,0.03847327517087839);\">gorgeous</span> <span style=\"background-color:rgba(135,206,250,0.10142278678202298);\">,</span> <span style=\"background-color:rgba(135,206,250,0.009716805185424655);\">high</span> <span style=\"background-color:rgba(135,206,250,0.17199070879613265);\">-</span> <span style=\"background-color:rgba(135,206,250,0.017124968271480905);\">spirited</span> <span style=\"background-color:rgba(135,206,250,0.0034298060872385186);\">musical</span> <span style=\"background-color:rgba(135,206,250,0.24060284034411686);\">from</span> <span style=\"background-color:rgba(135,206,250,0.4579813159395069);\">Angola</span> <span style=\"background-color:rgba(135,206,250,0.004219281598238532);\">that</span> <span style=\"background-color:rgba(135,206,250,0.08803102302465353);\">exquisitely</span> <span style=\"background-color:rgba(135,206,250,0.06584299245471263);\">blends</span> <span style=\"background-color:rgba(135,206,250,0.08260597780993181);\">music</span> <span style=\"background-color:rgba(135,206,250,0.060008475956844554);\">,</span> <span style=\"background-color:rgba(135,206,250,0.04781301152270466);\">dance</span> <span style=\"background-color:rgba(135,206,250,0.06908792644673695);\">,</span> <span style=\"background-color:rgba(135,206,250,0.0739378337189692);\">song</span> <span style=\"background-color:rgba(135,206,250,0.0765739016060022);\">,</span> <span style=\"background-color:rgba(135,206,250,0.1517891467658274);\">and</span> <span style=\"background-color:rgba(135,206,250,0.10169316894475831);\">high</span> <span style=\"background-color:rgba(135,206,250,0.07063140436424452);\">drama</span> <span style=\"background-color:rgba(135,206,250,0.013320497985118805);\">.</span>"
      ],
      "text/plain": [
       "<IPython.core.display.HTML object>"
      ]
     },
     "metadata": {},
     "output_type": "display_data"
    },
    {
     "name": "stdout",
     "output_type": "stream",
     "text": [
      "None\n",
      "----------------------------------------------------------------------------------------------------\n",
      "----------------------------------------------------------------------------------------------------\n",
      "PERTURBATION add_typo\n",
      "['-', 'spirited', 'india', 'from', 'gorgeous']\n",
      "['-', 'texquisitely', 'blends', 'spirited', 'tha']\n",
      "TOP-5 score: 0.4\n",
      "SPEARMAN: 0.3890457368718239\n",
      "ORIGINAL: A gorgeous , high-spirited musical from India that exquisitely blends music , dance , song , and high drama .\n"
     ]
    },
    {
     "data": {
      "text/html": [
       "<span style=\"background-color:rgba(135,206,250,0.10470274595108169);\">A</span> <span style=\"background-color:rgba(135,206,250,0.13925051327117824);\">gorgeous</span> <span style=\"background-color:rgba(135,206,250,0.11202809737065367);\">,</span> <span style=\"background-color:rgba(135,206,250,0.07746044842825085);\">high</span> <span style=\"background-color:rgba(135,206,250,0.24302226798523233);\">-</span> <span style=\"background-color:rgba(135,206,250,0.19546368006200737);\">spirited</span> <span style=\"background-color:rgba(135,206,250,0.03378112798622109);\">musical</span> <span style=\"background-color:rgba(135,206,250,0.14213223331634267);\">from</span> <span style=\"background-color:rgba(135,206,250,0.14243755366404307);\">India</span> <span style=\"background-color:rgba(135,206,250,0.000545176600516766);\">that</span> <span style=\"background-color:rgba(135,206,250,0.07463292515986274);\">exquisitely</span> <span style=\"background-color:rgba(135,206,250,0.10026346878691844);\">blends</span> <span style=\"background-color:rgba(135,206,250,0.044937701408860484);\">music</span> <span style=\"background-color:rgba(135,206,250,0.05651897725354886);\">,</span> <span style=\"background-color:rgba(135,206,250,0.032679938981390405);\">dance</span> <span style=\"background-color:rgba(135,206,250,0.05715001454718202);\">,</span> <span style=\"background-color:rgba(135,206,250,0.06727727894960253);\">song</span> <span style=\"background-color:rgba(135,206,250,0.06606256083819044);\">,</span> <span style=\"background-color:rgba(135,206,250,0.13072641864857815);\">and</span> <span style=\"background-color:rgba(135,206,250,0.09826269142187907);\">high</span> <span style=\"background-color:rgba(135,206,250,0.07237460300683433);\">drama</span> <span style=\"background-color:rgba(135,206,250,0.008289296676423507);\">.</span>"
      ],
      "text/plain": [
       "<IPython.core.display.HTML object>"
      ]
     },
     "metadata": {},
     "output_type": "display_data"
    },
    {
     "name": "stdout",
     "output_type": "stream",
     "text": [
      "None\n",
      "PERTURBED: A gorgeous , high - spirited musical from India tha texquisitely blends music , dance , song , and high drama .\n"
     ]
    },
    {
     "data": {
      "text/html": [
       "<span style=\"background-color:rgba(135,206,250,0.11318406169189874);\">A</span> <span style=\"background-color:rgba(135,206,250,0.14211606139626382);\">gorgeous</span> <span style=\"background-color:rgba(135,206,250,0.10460453244204006);\">,</span> <span style=\"background-color:rgba(135,206,250,0.01822877904683007);\">high</span> <span style=\"background-color:rgba(135,206,250,0.221748992864942);\">-</span> <span style=\"background-color:rgba(135,206,250,0.1570927919001906);\">spirited</span> <span style=\"background-color:rgba(135,206,250,0.040121660680744985);\">musical</span> <span style=\"background-color:rgba(135,206,250,0.02310437231869622);\">from</span> <span style=\"background-color:rgba(135,206,250,0.014500713447025438);\">India</span> <span style=\"background-color:rgba(135,206,250,0.14230691269997417);\">tha</span> <span style=\"background-color:rgba(135,206,250,0.17736228033273918);\">texquisitely</span> <span style=\"background-color:rgba(135,206,250,0.15924595312952058);\">blends</span> <span style=\"background-color:rgba(135,206,250,0.06023758278182186);\">music</span> <span style=\"background-color:rgba(135,206,250,0.07131096239896874);\">,</span> <span style=\"background-color:rgba(135,206,250,0.013554607276469061);\">dance</span> <span style=\"background-color:rgba(135,206,250,0.07499119119572134);\">,</span> <span style=\"background-color:rgba(135,206,250,0.060390019543937565);\">song</span> <span style=\"background-color:rgba(135,206,250,0.08342619066895632);\">,</span> <span style=\"background-color:rgba(135,206,250,0.13969341981585706);\">and</span> <span style=\"background-color:rgba(135,206,250,0.10378851500898292);\">high</span> <span style=\"background-color:rgba(135,206,250,0.06193124805401832);\">drama</span> <span style=\"background-color:rgba(135,206,250,0.017059174263127728);\">.</span>"
      ],
      "text/plain": [
       "<IPython.core.display.HTML object>"
      ]
     },
     "metadata": {},
     "output_type": "display_data"
    },
    {
     "name": "stderr",
     "output_type": "stream",
     "text": [
      "100%|██████████| 3/3 [00:01<00:00,  1.52it/s]"
     ]
    },
    {
     "name": "stdout",
     "output_type": "stream",
     "text": [
      "None\n",
      "----------------------------------------------------------------------------------------------------\n"
     ]
    },
    {
     "name": "stderr",
     "output_type": "stream",
     "text": [
      "100%|██████████| 3/3 [00:01<00:00,  1.51it/s]\n"
     ]
    }
   ],
   "source": [
    "alternative_explainer = None\n",
    "metric_proxy_func = None\n",
    "show_func = None\n",
    "if type(model) == BCNModel:\n",
    "    alternative_explainer = AllenNLPExplainer(model)\n",
    "    show_func = show_allennlp_sentence\n",
    "    metric_proxy_func = metric_proxy_allennlp\n",
    "elif type(model) == BertModel:\n",
    "    alternative_explainer = SHAPExplainer(model)\n",
    "    show_func = show_shap_sentence\n",
    "    metric_proxy_func = metric_proxy_shap\n",
    "\n",
    "print('alternative explainer', type(alternative_explainer))\n",
    "run_evaluation(explainer=alternative_explainer,\n",
    "               show_f=show_func,\n",
    "               metric_proxy=metric_proxy_func)"
   ]
  },
  {
   "cell_type": "code",
   "execution_count": null,
   "metadata": {},
   "outputs": [],
   "source": []
  }
 ],
 "metadata": {
  "kernelspec": {
   "display_name": "nlp-model-load",
   "language": "python",
   "name": "nlp-model-load"
  },
  "language_info": {
   "codemirror_mode": {
    "name": "ipython",
    "version": 3
   },
   "file_extension": ".py",
   "mimetype": "text/x-python",
   "name": "python",
   "nbconvert_exporter": "python",
   "pygments_lexer": "ipython3",
   "version": "3.8.10"
  }
 },
 "nbformat": 4,
 "nbformat_minor": 4
}
