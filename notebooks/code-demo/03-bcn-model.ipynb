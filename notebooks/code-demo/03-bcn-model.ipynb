{
 "cells": [
  {
   "cell_type": "code",
   "execution_count": 1,
   "metadata": {
    "execution": {
     "iopub.execute_input": "2021-04-25T13:37:41.762141Z",
     "iopub.status.busy": "2021-04-25T13:37:41.761436Z",
     "iopub.status.idle": "2021-04-25T13:37:44.538667Z",
     "shell.execute_reply": "2021-04-25T13:37:44.537982Z"
    }
   },
   "outputs": [
    {
     "name": "stdout",
     "output_type": "stream",
     "text": [
      "ignoring warnings from spacy\n"
     ]
    }
   ],
   "source": [
    "import os\n",
    "import sys\n",
    "project_root_dir = os.path.relpath(os.path.join('..', '..'), os.curdir)\n",
    "if project_root_dir not in sys.path:\n",
    "    sys.path += [project_root_dir]\n",
    "from src.data.dataload import *\n",
    "from src.models.bcn_model import *\n",
    "from pprint import pprint"
   ]
  },
  {
   "cell_type": "markdown",
   "metadata": {},
   "source": [
    "# Data<br>\n",
    "Loading data"
   ]
  },
  {
   "cell_type": "code",
   "execution_count": 2,
   "metadata": {
    "execution": {
     "iopub.execute_input": "2021-04-25T13:37:44.546464Z",
     "iopub.status.busy": "2021-04-25T13:37:44.542306Z",
     "iopub.status.idle": "2021-04-25T13:37:49.482954Z",
     "shell.execute_reply": "2021-04-25T13:37:49.482361Z"
    }
   },
   "outputs": [
    {
     "name": "stdout",
     "output_type": "stream",
     "text": [
      "loading data sst (sentence column: sentence, target column: label)\n"
     ]
    },
    {
     "data": {
      "text/html": [
       "<div>\n",
       "<style scoped>\n",
       "    .dataframe tbody tr th:only-of-type {\n",
       "        vertical-align: middle;\n",
       "    }\n",
       "\n",
       "    .dataframe tbody tr th {\n",
       "        vertical-align: top;\n",
       "    }\n",
       "\n",
       "    .dataframe thead th {\n",
       "        text-align: right;\n",
       "    }\n",
       "</style>\n",
       "<table border=\"1\" class=\"dataframe\">\n",
       "  <thead>\n",
       "    <tr style=\"text-align: right;\">\n",
       "      <th></th>\n",
       "      <th>sentence</th>\n",
       "      <th>label</th>\n",
       "    </tr>\n",
       "  </thead>\n",
       "  <tbody>\n",
       "    <tr>\n",
       "      <th>0</th>\n",
       "      <td>The Rock is destined to be the 21st Century 's...</td>\n",
       "      <td>3</td>\n",
       "    </tr>\n",
       "    <tr>\n",
       "      <th>1</th>\n",
       "      <td>The gorgeously elaborate continuation of `` Th...</td>\n",
       "      <td>4</td>\n",
       "    </tr>\n",
       "    <tr>\n",
       "      <th>2</th>\n",
       "      <td>Singer/composer Bryan Adams contributes a slew...</td>\n",
       "      <td>3</td>\n",
       "    </tr>\n",
       "    <tr>\n",
       "      <th>3</th>\n",
       "      <td>You 'd think by now America would have had eno...</td>\n",
       "      <td>2</td>\n",
       "    </tr>\n",
       "    <tr>\n",
       "      <th>4</th>\n",
       "      <td>Yet the act is still charming here .</td>\n",
       "      <td>3</td>\n",
       "    </tr>\n",
       "    <tr>\n",
       "      <th>...</th>\n",
       "      <td>...</td>\n",
       "      <td>...</td>\n",
       "    </tr>\n",
       "    <tr>\n",
       "      <th>8539</th>\n",
       "      <td>A real snooze .</td>\n",
       "      <td>0</td>\n",
       "    </tr>\n",
       "    <tr>\n",
       "      <th>8540</th>\n",
       "      <td>No surprises .</td>\n",
       "      <td>1</td>\n",
       "    </tr>\n",
       "    <tr>\n",
       "      <th>8541</th>\n",
       "      <td>We 've seen the hippie-turned-yuppie plot befo...</td>\n",
       "      <td>3</td>\n",
       "    </tr>\n",
       "    <tr>\n",
       "      <th>8542</th>\n",
       "      <td>Her fans walked out muttering words like `` ho...</td>\n",
       "      <td>0</td>\n",
       "    </tr>\n",
       "    <tr>\n",
       "      <th>8543</th>\n",
       "      <td>In this case zero .</td>\n",
       "      <td>1</td>\n",
       "    </tr>\n",
       "  </tbody>\n",
       "</table>\n",
       "<p>8544 rows × 2 columns</p>\n",
       "</div>"
      ],
      "text/plain": [
       "                                               sentence  label\n",
       "0     The Rock is destined to be the 21st Century 's...      3\n",
       "1     The gorgeously elaborate continuation of `` Th...      4\n",
       "2     Singer/composer Bryan Adams contributes a slew...      3\n",
       "3     You 'd think by now America would have had eno...      2\n",
       "4                  Yet the act is still charming here .      3\n",
       "...                                                 ...    ...\n",
       "8539                                    A real snooze .      0\n",
       "8540                                     No surprises .      1\n",
       "8541  We 've seen the hippie-turned-yuppie plot befo...      3\n",
       "8542  Her fans walked out muttering words like `` ho...      0\n",
       "8543                                In this case zero .      1\n",
       "\n",
       "[8544 rows x 2 columns]"
      ]
     },
     "execution_count": 1,
     "metadata": {},
     "output_type": "execute_result"
    }
   ],
   "source": [
    "data = load_sst()\n",
    "print(f'loading data {data.NAME} (sentence column: {data.SENTENCE}, target column: {data.TARGET})')\n",
    "train, val, test = data.train_val_test\n",
    "train"
   ]
  },
  {
   "cell_type": "markdown",
   "metadata": {},
   "source": [
    "# Model<br>\n",
    "Fine-tuning and loading BCN"
   ]
  },
  {
   "cell_type": "code",
   "execution_count": 3,
   "metadata": {
    "execution": {
     "iopub.execute_input": "2021-04-25T13:37:49.487005Z",
     "iopub.status.busy": "2021-04-25T13:37:49.486432Z",
     "iopub.status.idle": "2021-04-25T13:37:51.768585Z",
     "shell.execute_reply": "2021-04-25T13:37:51.767990Z"
    }
   },
   "outputs": [
    {
     "data": {
      "text/plain": [
       "BiattentiveClassificationNetwork(\n",
       "  (_text_field_embedder): BasicTextFieldEmbedder(\n",
       "    (token_embedder_tokens): Embedding()\n",
       "  )\n",
       "  (_embedding_dropout): Dropout(p=0.25, inplace=False)\n",
       "  (_pre_encode_feedforward): FeedForward(\n",
       "    (_activations): ModuleList(\n",
       "      (0): ReLU()\n",
       "    )\n",
       "    (_linear_layers): ModuleList(\n",
       "      (0): Linear(in_features=300, out_features=300, bias=True)\n",
       "    )\n",
       "    (_dropout): ModuleList(\n",
       "      (0): Dropout(p=0.25, inplace=False)\n",
       "    )\n",
       "  )\n",
       "  (_encoder): LstmSeq2SeqEncoder(\n",
       "    (_module): LSTM(300, 300, batch_first=True, bidirectional=True)\n",
       "  )\n",
       "  (_integrator): LstmSeq2SeqEncoder(\n",
       "    (_module): LSTM(1800, 300, batch_first=True, bidirectional=True)\n",
       "  )\n",
       "  (_integrator_dropout): Dropout(p=0.1, inplace=False)\n",
       "  (_self_attentive_pooling_projection): Linear(in_features=600, out_features=1, bias=True)\n",
       "  (_output_layer): Maxout(\n",
       "    (_linear_layers): ModuleList(\n",
       "      (0): Linear(in_features=2400, out_features=4800, bias=True)\n",
       "      (1): Linear(in_features=1200, out_features=2400, bias=True)\n",
       "      (2): Linear(in_features=600, out_features=20, bias=True)\n",
       "    )\n",
       "    (_dropout): ModuleList(\n",
       "      (0): Dropout(p=0.2, inplace=False)\n",
       "      (1): Dropout(p=0.3, inplace=False)\n",
       "      (2): Dropout(p=0, inplace=False)\n",
       "    )\n",
       "  )\n",
       "  (loss): CrossEntropyLoss()\n",
       ")"
      ]
     },
     "execution_count": 1,
     "metadata": {},
     "output_type": "execute_result"
    }
   ],
   "source": [
    "bcn = BCNModel()\n",
    "bcn.load_model(data)\n",
    "bcn.model"
   ]
  },
  {
   "cell_type": "code",
   "execution_count": 4,
   "metadata": {
    "execution": {
     "iopub.execute_input": "2021-04-25T13:37:51.773709Z",
     "iopub.status.busy": "2021-04-25T13:37:51.773142Z",
     "iopub.status.idle": "2021-04-25T13:37:51.778412Z",
     "shell.execute_reply": "2021-04-25T13:37:51.777914Z"
    }
   },
   "outputs": [
    {
     "name": "stdout",
     "output_type": "stream",
     "text": [
      "{'best_epoch': 4,\n",
      " 'best_validation_accuracy': 0.44595821980018163,\n",
      " 'best_validation_accuracy3': 0.9028156221616712,\n",
      " 'best_validation_loss': 1.214704468846321,\n",
      " 'epoch': 4,\n",
      " 'peak_gpu_0_memory_MB': 741.08740234375,\n",
      " 'peak_worker_0_memory_MB': 2483.55859375,\n",
      " 'training_accuracy': 0.4666432584269663,\n",
      " 'training_accuracy3': 0.9103464419475655,\n",
      " 'training_duration': '0:00:58.603155',\n",
      " 'training_epochs': 4,\n",
      " 'training_gpu_0_memory_MB': 741.08740234375,\n",
      " 'training_loss': 1.2024494160053343,\n",
      " 'training_start_epoch': 0,\n",
      " 'training_worker_0_memory_MB': 2483.55859375,\n",
      " 'validation_accuracy': 0.44595821980018163,\n",
      " 'validation_accuracy3': 0.9028156221616712,\n",
      " 'validation_loss': 1.214704468846321}\n"
     ]
    }
   ],
   "source": [
    "pprint(bcn.finetune_report())"
   ]
  },
  {
   "cell_type": "markdown",
   "metadata": {},
   "source": [
    "Prediction"
   ]
  },
  {
   "cell_type": "code",
   "execution_count": 5,
   "metadata": {
    "execution": {
     "iopub.execute_input": "2021-04-25T13:37:51.783404Z",
     "iopub.status.busy": "2021-04-25T13:37:51.782824Z",
     "iopub.status.idle": "2021-04-25T13:37:51.814503Z",
     "shell.execute_reply": "2021-04-25T13:37:51.815041Z"
    }
   },
   "outputs": [
    {
     "name": "stdout",
     "output_type": "stream",
     "text": [
      "Individual prediction for sst\n",
      "     logits  class_probabilities label\n",
      "0  0.034517             0.033491     1\n",
      "1  2.991932             0.644636     1\n",
      "2  1.353852             0.125287     1\n",
      "3 -2.566013             0.002486     1\n",
      "4  1.791625             0.194101     1\n"
     ]
    }
   ],
   "source": [
    "print(f'Individual prediction for {data.NAME}')\n",
    "bcn.predict(test.sentence[0])\n",
    "print(bcn.predict(test[data.SENTENCE][0]))"
   ]
  },
  {
   "cell_type": "code",
   "execution_count": 6,
   "metadata": {
    "execution": {
     "iopub.execute_input": "2021-04-25T13:37:51.820004Z",
     "iopub.status.busy": "2021-04-25T13:37:51.819357Z",
     "iopub.status.idle": "2021-04-25T13:37:52.968153Z",
     "shell.execute_reply": "2021-04-25T13:37:52.967559Z"
    }
   },
   "outputs": [
    {
     "name": "stdout",
     "output_type": "stream",
     "text": [
      "Batch prediction for sst\n",
      "                                               logits  \\\n",
      "0   [0.034516751766204834, 2.991931676864624, 1.35...   \n",
      "1   [0.9285715818405151, 0.12953080236911774, 0.31...   \n",
      "2   [0.590441882610321, 0.6019821763038635, 0.5148...   \n",
      "3   [1.258155107498169, -0.06823420524597168, 0.30...   \n",
      "4   [2.3645896911621094, -0.9855415225028992, 0.38...   \n",
      "..                                                ...   \n",
      "95  [1.750241756439209, 0.17843835055828094, 0.812...   \n",
      "96  [0.22618433833122253, 1.1369720697402954, 0.52...   \n",
      "97  [2.107375144958496, -0.674547016620636, 0.2986...   \n",
      "98  [1.2020478248596191, 0.6326577663421631, 0.826...   \n",
      "99  [2.7946228981018066, -0.523309588432312, 0.496...   \n",
      "\n",
      "                                  class_probabilities label  \n",
      "0   [0.03349077329039574, 0.6446353793144226, 0.12...     1  \n",
      "1   [0.34913426637649536, 0.15702669322490692, 0.1...     3  \n",
      "2   [0.25845009088516235, 0.2614499628543854, 0.23...     1  \n",
      "3   [0.3808445930480957, 0.10108908265829086, 0.14...     3  \n",
      "4   [0.23479107022285461, 0.0082364147529006, 0.03...     4  \n",
      "..                                                ...   ...  \n",
      "95  [0.483408659696579, 0.10038963705301285, 0.189...     3  \n",
      "96  [0.15529659390449524, 0.3861108422279358, 0.20...     1  \n",
      "97  [0.3573794364929199, 0.022128714248538017, 0.0...     4  \n",
      "98  [0.3598882555961609, 0.20365013182163239, 0.24...     3  \n",
      "99  [0.5078451037406921, 0.018398035317659378, 0.0...     3  \n",
      "\n",
      "[100 rows x 3 columns]\n"
     ]
    }
   ],
   "source": [
    "print(f'Batch prediction for {data.NAME}')\n",
    "bcn.predict_batch_df(test[:100], input_col=data.SENTENCE)\n",
    "print(bcn.predict_batch(test[data.SENTENCE][:100]))"
   ]
  },
  {
   "cell_type": "code",
   "execution_count": 7,
   "metadata": {
    "execution": {
     "iopub.execute_input": "2021-04-25T13:37:52.973227Z",
     "iopub.status.busy": "2021-04-25T13:37:52.972431Z",
     "iopub.status.idle": "2021-04-25T13:37:54.017990Z",
     "shell.execute_reply": "2021-04-25T13:37:54.018552Z"
    }
   },
   "outputs": [
    {
     "name": "stdout",
     "output_type": "stream",
     "text": [
      "Individual label prediction for sst\n",
      "[1]\n",
      "Batched label prediction for sst\n",
      "[1 3 1 3 4 1 3 1 4 4 4 3 4 1 3 1 4 3 4 4 4 4 3 3 3 3 3 3 3 1 4 1 1 3 1 3 3\n",
      " 3 1 1 3 1 4 4 3 1 4 3 3 1 3 1 3 4 3 1 3 1 4 4 3 3 3 3 3 3 3 4 4 3 3 3 4 1\n",
      " 3 1 3 4 3 3 3 3 3 4 3 3 4 3 4 1 3 1 1 1 3 3 1 4 3 3]\n"
     ]
    }
   ],
   "source": [
    "print(f'Individual label prediction for {data.NAME}')\n",
    "print(bcn.predict_label(test.sentence[0]))\n",
    "print(f'Batched label prediction for {data.NAME}')\n",
    "bcn.predict_label_batch_df(test[:100], input_col=data.SENTENCE)\n",
    "print(bcn.predict_label_batch(test.sentence[:100]))"
   ]
  },
  {
   "cell_type": "code",
   "execution_count": 8,
   "metadata": {
    "execution": {
     "iopub.execute_input": "2021-04-25T13:37:54.023453Z",
     "iopub.status.busy": "2021-04-25T13:37:54.022790Z",
     "iopub.status.idle": "2021-04-25T13:37:54.223925Z",
     "shell.execute_reply": "2021-04-25T13:37:54.224576Z"
    }
   },
   "outputs": [
    {
     "name": "stdout",
     "output_type": "stream",
     "text": [
      "Individual proba prediction for sst\n",
      "0    0.033491\n",
      "1    0.644636\n",
      "2    0.125287\n",
      "3    0.002486\n",
      "4    0.194101\n",
      "Name: class_probabilities, dtype: float64\n",
      "Batched label prediction for sst\n",
      "[[0.03349077 0.64463538 0.12528679 0.00248616 0.19410087]\n",
      " [0.34913424 0.15702669 0.18819214 0.23571308 0.06993384]\n",
      " [0.25845012 0.26144999 0.23963159 0.12203951 0.11842884]\n",
      " [0.38084459 0.10108908 0.14691767 0.33236814 0.03878046]\n",
      " [0.23479119 0.00823642 0.03241548 0.7219243  0.00263267]\n",
      " [0.09286905 0.43066958 0.16412106 0.02648743 0.28585279]\n",
      " [0.40299612 0.14749025 0.19421567 0.2055884  0.0497094 ]\n",
      " [0.13400227 0.45397612 0.25728235 0.02084267 0.13389654]\n",
      " [0.4178907  0.01270929 0.04130781 0.52515405 0.00293825]\n",
      " [0.33184361 0.03716639 0.08408372 0.53323418 0.01367201]]\n"
     ]
    }
   ],
   "source": [
    "print(f'Individual proba prediction for {data.NAME}')\n",
    "print(bcn.predict_proba(test.sentence[0]))\n",
    "print(f'Batched label prediction for {data.NAME}')\n",
    "bcn.predict_proba_batch_df(test[:10], input_col=data.SENTENCE)\n",
    "print(bcn.predict_proba_batch(test.sentence[:10]))"
   ]
  },
  {
   "cell_type": "code",
   "execution_count": 9,
   "metadata": {
    "execution": {
     "iopub.execute_input": "2021-04-25T13:37:54.231581Z",
     "iopub.status.busy": "2021-04-25T13:37:54.230845Z",
     "iopub.status.idle": "2021-04-25T13:37:54.448870Z",
     "shell.execute_reply": "2021-04-25T13:37:54.449370Z"
    }
   },
   "outputs": [
    {
     "name": "stdout",
     "output_type": "stream",
     "text": [
      "Individual logits prediction for sst\n",
      "0    0.034517\n",
      "1    2.991932\n",
      "2    1.353852\n",
      "3   -2.566013\n",
      "4    1.791625\n",
      "Name: logits, dtype: float64\n",
      "Batched logits prediction for sst\n",
      "[[ 0.03451669  2.99193192  1.35385239 -2.56601286  1.79162502]\n",
      " [ 0.92857146  0.12953082  0.3105785   0.53573024 -0.67933536]\n",
      " [ 0.59044188  0.60198224  0.51484191 -0.15991591 -0.18994853]\n",
      " [ 1.25815511 -0.06823425  0.3056362   1.12200689 -1.02631962]\n",
      " [ 2.36458969 -0.98554152  0.38452935  3.48781347 -2.12610912]\n",
      " [-0.11088881  1.42326188  0.45852506 -1.3654089   1.01339769]\n",
      " [ 1.24256682  0.23740195  0.51260912  0.569516   -0.8501662 ]\n",
      " [ 0.59167159  1.81185937  1.24398875 -1.26918304  0.59088218]\n",
      " [ 2.70833969 -0.78454745  0.39417142  2.93681145 -2.24906754]\n",
      " [ 1.68549609 -0.50376296  0.31264517  2.1597929  -1.50381696]]\n"
     ]
    }
   ],
   "source": [
    "print(f'Individual logits prediction for {data.NAME}')\n",
    "print(bcn.predict_logits(test.sentence[0]))\n",
    "print(f'Batched logits prediction for {data.NAME}')\n",
    "bcn.predict_logits_batch_df(test[:10], input_col=data.SENTENCE)\n",
    "print(bcn.predict_logits_batch(test.sentence[:10]))"
   ]
  }
 ],
 "metadata": {
  "kernelspec": {
   "display_name": "Python 3",
   "language": "python",
   "name": "python3"
  },
  "language_info": {
   "codemirror_mode": {
    "name": "ipython",
    "version": 3
   },
   "file_extension": ".py",
   "mimetype": "text/x-python",
   "name": "python",
   "nbconvert_exporter": "python",
   "pygments_lexer": "ipython3",
   "version": "3.8.8"
  }
 },
 "nbformat": 4,
 "nbformat_minor": 2
}
