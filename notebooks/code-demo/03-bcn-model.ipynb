{
 "cells": [
  {
   "cell_type": "code",
   "execution_count": 1,
   "metadata": {
    "execution": {
     "iopub.execute_input": "2021-04-21T18:32:20.500263Z",
     "iopub.status.busy": "2021-04-21T18:32:20.496303Z",
     "iopub.status.idle": "2021-04-21T18:32:23.430380Z",
     "shell.execute_reply": "2021-04-21T18:32:23.429682Z"
    }
   },
   "outputs": [],
   "source": [
    "import os\n",
    "import sys\n",
    "project_root_dir = os.path.relpath(os.path.join('..', '..'), os.curdir)\n",
    "if project_root_dir not in sys.path:\n",
    "    sys.path += [project_root_dir]\n",
    "from src.data.dataload import *\n",
    "from src.models.bcn_model import *\n",
    "from pprint import pprint"
   ]
  },
  {
   "cell_type": "markdown",
   "metadata": {},
   "source": [
    "# Data<br>\n",
    "Loading data"
   ]
  },
  {
   "cell_type": "code",
   "execution_count": 2,
   "metadata": {
    "execution": {
     "iopub.execute_input": "2021-04-21T18:32:23.434771Z",
     "iopub.status.busy": "2021-04-21T18:32:23.434148Z",
     "iopub.status.idle": "2021-04-21T18:32:28.618087Z",
     "shell.execute_reply": "2021-04-21T18:32:28.617445Z"
    }
   },
   "outputs": [
    {
     "name": "stdout",
     "output_type": "stream",
     "text": [
      "loading data sst (sentence column: sentence, target column: label)\n"
     ]
    },
    {
     "data": {
      "text/html": [
       "<div>\n",
       "<style scoped>\n",
       "    .dataframe tbody tr th:only-of-type {\n",
       "        vertical-align: middle;\n",
       "    }\n",
       "\n",
       "    .dataframe tbody tr th {\n",
       "        vertical-align: top;\n",
       "    }\n",
       "\n",
       "    .dataframe thead th {\n",
       "        text-align: right;\n",
       "    }\n",
       "</style>\n",
       "<table border=\"1\" class=\"dataframe\">\n",
       "  <thead>\n",
       "    <tr style=\"text-align: right;\">\n",
       "      <th></th>\n",
       "      <th>sentence</th>\n",
       "      <th>label</th>\n",
       "    </tr>\n",
       "  </thead>\n",
       "  <tbody>\n",
       "    <tr>\n",
       "      <th>0</th>\n",
       "      <td>The Rock is destined to be the 21st Century 's...</td>\n",
       "      <td>3</td>\n",
       "    </tr>\n",
       "    <tr>\n",
       "      <th>1</th>\n",
       "      <td>The gorgeously elaborate continuation of `` Th...</td>\n",
       "      <td>4</td>\n",
       "    </tr>\n",
       "    <tr>\n",
       "      <th>2</th>\n",
       "      <td>Singer/composer Bryan Adams contributes a slew...</td>\n",
       "      <td>3</td>\n",
       "    </tr>\n",
       "    <tr>\n",
       "      <th>3</th>\n",
       "      <td>You 'd think by now America would have had eno...</td>\n",
       "      <td>2</td>\n",
       "    </tr>\n",
       "    <tr>\n",
       "      <th>4</th>\n",
       "      <td>Yet the act is still charming here .</td>\n",
       "      <td>3</td>\n",
       "    </tr>\n",
       "    <tr>\n",
       "      <th>...</th>\n",
       "      <td>...</td>\n",
       "      <td>...</td>\n",
       "    </tr>\n",
       "    <tr>\n",
       "      <th>8539</th>\n",
       "      <td>A real snooze .</td>\n",
       "      <td>0</td>\n",
       "    </tr>\n",
       "    <tr>\n",
       "      <th>8540</th>\n",
       "      <td>No surprises .</td>\n",
       "      <td>1</td>\n",
       "    </tr>\n",
       "    <tr>\n",
       "      <th>8541</th>\n",
       "      <td>We 've seen the hippie-turned-yuppie plot befo...</td>\n",
       "      <td>3</td>\n",
       "    </tr>\n",
       "    <tr>\n",
       "      <th>8542</th>\n",
       "      <td>Her fans walked out muttering words like `` ho...</td>\n",
       "      <td>0</td>\n",
       "    </tr>\n",
       "    <tr>\n",
       "      <th>8543</th>\n",
       "      <td>In this case zero .</td>\n",
       "      <td>1</td>\n",
       "    </tr>\n",
       "  </tbody>\n",
       "</table>\n",
       "<p>8544 rows × 2 columns</p>\n",
       "</div>"
      ],
      "text/plain": [
       "                                               sentence  label\n",
       "0     The Rock is destined to be the 21st Century 's...      3\n",
       "1     The gorgeously elaborate continuation of `` Th...      4\n",
       "2     Singer/composer Bryan Adams contributes a slew...      3\n",
       "3     You 'd think by now America would have had eno...      2\n",
       "4                  Yet the act is still charming here .      3\n",
       "...                                                 ...    ...\n",
       "8539                                    A real snooze .      0\n",
       "8540                                     No surprises .      1\n",
       "8541  We 've seen the hippie-turned-yuppie plot befo...      3\n",
       "8542  Her fans walked out muttering words like `` ho...      0\n",
       "8543                                In this case zero .      1\n",
       "\n",
       "[8544 rows x 2 columns]"
      ]
     },
     "execution_count": 1,
     "metadata": {},
     "output_type": "execute_result"
    }
   ],
   "source": [
    "data = load_sst()\n",
    "print(f'loading data {data.NAME} (sentence column: {data.SENTENCE}, target column: {data.TARGET})')\n",
    "train, val, test = data.train_val_test\n",
    "train"
   ]
  },
  {
   "cell_type": "markdown",
   "metadata": {},
   "source": [
    "# Model<br>\n",
    "Fine-tuning and loading BCN"
   ]
  },
  {
   "cell_type": "code",
   "execution_count": 3,
   "metadata": {
    "execution": {
     "iopub.execute_input": "2021-04-21T18:32:28.622542Z",
     "iopub.status.busy": "2021-04-21T18:32:28.621818Z",
     "iopub.status.idle": "2021-04-21T18:32:32.342744Z",
     "shell.execute_reply": "2021-04-21T18:32:32.343228Z"
    }
   },
   "outputs": [
    {
     "data": {
      "text/plain": [
       "BiattentiveClassificationNetwork(\n",
       "  (_text_field_embedder): BasicTextFieldEmbedder(\n",
       "    (token_embedder_tokens): Embedding()\n",
       "  )\n",
       "  (_embedding_dropout): Dropout(p=0.25, inplace=False)\n",
       "  (_pre_encode_feedforward): FeedForward(\n",
       "    (_activations): ModuleList(\n",
       "      (0): ReLU()\n",
       "    )\n",
       "    (_linear_layers): ModuleList(\n",
       "      (0): Linear(in_features=300, out_features=300, bias=True)\n",
       "    )\n",
       "    (_dropout): ModuleList(\n",
       "      (0): Dropout(p=0.25, inplace=False)\n",
       "    )\n",
       "  )\n",
       "  (_encoder): LstmSeq2SeqEncoder(\n",
       "    (_module): LSTM(300, 300, batch_first=True, bidirectional=True)\n",
       "  )\n",
       "  (_integrator): LstmSeq2SeqEncoder(\n",
       "    (_module): LSTM(1800, 300, batch_first=True, bidirectional=True)\n",
       "  )\n",
       "  (_integrator_dropout): Dropout(p=0.1, inplace=False)\n",
       "  (_self_attentive_pooling_projection): Linear(in_features=600, out_features=1, bias=True)\n",
       "  (_output_layer): Maxout(\n",
       "    (_linear_layers): ModuleList(\n",
       "      (0): Linear(in_features=2400, out_features=4800, bias=True)\n",
       "      (1): Linear(in_features=1200, out_features=2400, bias=True)\n",
       "      (2): Linear(in_features=600, out_features=20, bias=True)\n",
       "    )\n",
       "    (_dropout): ModuleList(\n",
       "      (0): Dropout(p=0.2, inplace=False)\n",
       "      (1): Dropout(p=0.3, inplace=False)\n",
       "      (2): Dropout(p=0, inplace=False)\n",
       "    )\n",
       "  )\n",
       "  (loss): CrossEntropyLoss()\n",
       ")"
      ]
     },
     "execution_count": 1,
     "metadata": {},
     "output_type": "execute_result"
    }
   ],
   "source": [
    "bcn = BCNModel()\n",
    "bcn.load_model(data)\n",
    "bcn.model"
   ]
  },
  {
   "cell_type": "code",
   "execution_count": 4,
   "metadata": {
    "execution": {
     "iopub.execute_input": "2021-04-21T18:32:32.349124Z",
     "iopub.status.busy": "2021-04-21T18:32:32.348171Z",
     "iopub.status.idle": "2021-04-21T18:32:32.354246Z",
     "shell.execute_reply": "2021-04-21T18:32:32.354786Z"
    }
   },
   "outputs": [
    {
     "name": "stdout",
     "output_type": "stream",
     "text": [
      "{'best_epoch': 4,\n",
      " 'best_validation_accuracy': 0.43869209809264303,\n",
      " 'best_validation_accuracy3': 0.9146230699364214,\n",
      " 'best_validation_loss': 1.224069242676099,\n",
      " 'epoch': 4,\n",
      " 'peak_gpu_0_memory_MB': 741.2734375,\n",
      " 'peak_worker_0_memory_MB': 2449.7265625,\n",
      " 'training_accuracy': 0.47495318352059923,\n",
      " 'training_accuracy3': 0.9188904494382022,\n",
      " 'training_duration': '0:00:51.548481',\n",
      " 'training_epochs': 4,\n",
      " 'training_gpu_0_memory_MB': 741.2734375,\n",
      " 'training_loss': 1.1899946727031885,\n",
      " 'training_start_epoch': 0,\n",
      " 'training_worker_0_memory_MB': 2449.7265625,\n",
      " 'validation_accuracy': 0.43869209809264303,\n",
      " 'validation_accuracy3': 0.9146230699364214,\n",
      " 'validation_loss': 1.224069242676099}\n"
     ]
    }
   ],
   "source": [
    "pprint(bcn.finetune_report())"
   ]
  },
  {
   "cell_type": "markdown",
   "metadata": {},
   "source": [
    "Prediction"
   ]
  },
  {
   "cell_type": "code",
   "execution_count": 5,
   "metadata": {
    "execution": {
     "iopub.execute_input": "2021-04-21T18:32:32.360477Z",
     "iopub.status.busy": "2021-04-21T18:32:32.359785Z",
     "iopub.status.idle": "2021-04-21T18:32:32.389349Z",
     "shell.execute_reply": "2021-04-21T18:32:32.389941Z"
    }
   },
   "outputs": [
    {
     "name": "stdout",
     "output_type": "stream",
     "text": [
      "Individual prediction for sst\n",
      "     logits  class_probabilities label\n",
      "0  0.620440             0.016874     1\n",
      "1  4.414236             0.749643     1\n",
      "2  2.922851             0.168715     1\n",
      "3 -3.867865             0.000190     1\n",
      "4  1.962503             0.064577     1\n"
     ]
    }
   ],
   "source": [
    "print(f'Individual prediction for {data.NAME}')\n",
    "bcn.predict(test.sentence[0])\n",
    "print(bcn.predict(test[data.SENTENCE][0]))"
   ]
  },
  {
   "cell_type": "code",
   "execution_count": 6,
   "metadata": {
    "execution": {
     "iopub.execute_input": "2021-04-21T18:32:32.435631Z",
     "iopub.status.busy": "2021-04-21T18:32:32.404506Z",
     "iopub.status.idle": "2021-04-21T18:32:33.124289Z",
     "shell.execute_reply": "2021-04-21T18:32:33.123644Z"
    }
   },
   "outputs": [
    {
     "name": "stdout",
     "output_type": "stream",
     "text": [
      "Batch prediction for sst\n",
      "                                               logits  \\\n",
      "0   [0.6204397678375244, 4.414236068725586, 2.9228...   \n",
      "1   [1.6763371229171753, -0.020200669765472412, 0....   \n",
      "2   [1.2694412469863892, 1.169205665588379, 0.8316...   \n",
      "3   [1.9059851169586182, -0.21952968835830688, 0.4...   \n",
      "4   [3.5735950469970703, -2.2221274375915527, 0.29...   \n",
      "..                                                ...   \n",
      "95  [1.1532161235809326, -0.2188836634159088, 0.24...   \n",
      "96  [1.259469747543335, 1.6719794273376465, 1.1938...   \n",
      "97  [3.3070015907287598, -1.3257590532302856, 0.48...   \n",
      "98  [0.9012832641601562, 1.8801426887512207, 1.477...   \n",
      "99  [3.3964028358459473, -0.5213455557823181, 0.84...   \n",
      "\n",
      "                                  class_probabilities label  \n",
      "0   [0.016874458640813828, 0.7496432662010193, 0.1...     1  \n",
      "1   [0.5133780837059021, 0.09411099553108215, 0.15...     3  \n",
      "2   [0.3514782786369324, 0.31795579195022583, 0.22...     3  \n",
      "3   [0.5327665209770203, 0.06359714269638062, 0.12...     3  \n",
      "4   [0.17387044429779053, 0.0005286588566377759, 0...     4  \n",
      "..                                                ...   ...  \n",
      "95  [0.39197608828544617, 0.09939492493867874, 0.1...     3  \n",
      "96  [0.2679184675216675, 0.4047187864780426, 0.250...     1  \n",
      "97  [0.4710676074028015, 0.004582483321428299, 0.0...     4  \n",
      "98  [0.16716085374355316, 0.4448850750923157, 0.29...     1  \n",
      "99  [0.7167086601257324, 0.014252337627112865, 0.0...     3  \n",
      "\n",
      "[100 rows x 3 columns]\n"
     ]
    }
   ],
   "source": [
    "print(f'Batch prediction for {data.NAME}')\n",
    "bcn.predict_batch_df(test[:100], input_col=data.SENTENCE)\n",
    "print(bcn.predict_batch(test[data.SENTENCE][:100]))"
   ]
  },
  {
   "cell_type": "code",
   "execution_count": 7,
   "metadata": {
    "execution": {
     "iopub.execute_input": "2021-04-21T18:32:33.130597Z",
     "iopub.status.busy": "2021-04-21T18:32:33.129573Z",
     "iopub.status.idle": "2021-04-21T18:32:33.798520Z",
     "shell.execute_reply": "2021-04-21T18:32:33.799077Z"
    }
   },
   "outputs": [
    {
     "name": "stdout",
     "output_type": "stream",
     "text": [
      "Individual label prediction for sst\n",
      "[1]\n",
      "Batched label prediction for sst\n",
      "[1 3 3 3 4 1 3 1 3 4 3 3 4 1 3 1 4 3 4 4 4 3 3 3 3 3 3 3 1 0 4 1 1 3 1 3 3\n",
      " 3 1 1 3 1 3 4 3 1 4 3 3 3 3 1 3 3 3 1 3 1 4 3 3 3 3 3 3 1 3 4 4 3 1 3 4 1\n",
      " 3 1 3 4 3 3 3 3 3 4 3 3 3 3 3 1 3 3 1 3 1 3 1 4 1 3]\n"
     ]
    }
   ],
   "source": [
    "print(f'Individual label prediction for {data.NAME}')\n",
    "print(bcn.predict_label(test.sentence[0]))\n",
    "print(f'Batched label prediction for {data.NAME}')\n",
    "bcn.predict_label_batch_df(test[:100], input_col=data.SENTENCE)\n",
    "print(bcn.predict_label_batch(test.sentence[:100]))"
   ]
  },
  {
   "cell_type": "code",
   "execution_count": 8,
   "metadata": {
    "execution": {
     "iopub.execute_input": "2021-04-21T18:32:33.806486Z",
     "iopub.status.busy": "2021-04-21T18:32:33.804817Z",
     "iopub.status.idle": "2021-04-21T18:32:33.910280Z",
     "shell.execute_reply": "2021-04-21T18:32:33.911438Z"
    }
   },
   "outputs": [
    {
     "name": "stdout",
     "output_type": "stream",
     "text": [
      "Individual proba prediction for sst\n",
      "0    0.016874\n",
      "1    0.749643\n",
      "2    0.168715\n",
      "3    0.000190\n",
      "4    0.064577\n",
      "Name: class_probabilities, dtype: float64\n",
      "Batched label prediction for sst\n",
      "[[1.68744586e-02 7.49643266e-01 1.68715343e-01 1.89663609e-04\n",
      "  6.45773411e-02]\n",
      " [5.13378143e-01 9.41109732e-02 1.54911533e-01 2.15201989e-01\n",
      "  2.23974362e-02]\n",
      " [3.51478279e-01 3.17955792e-01 2.26855606e-01 4.66247834e-02\n",
      "  5.70855439e-02]\n",
      " [5.32766581e-01 6.35971352e-02 1.22242726e-01 2.67004907e-01\n",
      "  1.43886181e-02]\n",
      " [1.73870429e-01 5.28658624e-04 6.58263918e-03 8.18903685e-01\n",
      "  1.14566858e-04]\n",
      " [1.15683466e-01 4.57678586e-01 1.81993723e-01 1.85341705e-02\n",
      "  2.26110026e-01]\n",
      " [5.72937071e-01 1.63806468e-01 2.01391816e-01 5.00272103e-02\n",
      "  1.18374769e-02]\n",
      " [1.08628422e-01 5.18325627e-01 3.26272458e-01 3.83080798e-03\n",
      "  4.29427028e-02]\n",
      " [5.12488544e-01 1.81336177e-03 1.73128508e-02 4.68215287e-01\n",
      "  1.69911014e-04]\n",
      " [3.72175813e-01 1.37320673e-02 5.14379516e-02 5.58647037e-01\n",
      "  4.00706055e-03]]\n"
     ]
    }
   ],
   "source": [
    "print(f'Individual proba prediction for {data.NAME}')\n",
    "print(bcn.predict_proba(test.sentence[0]))\n",
    "print(f'Batched label prediction for {data.NAME}')\n",
    "bcn.predict_proba_batch_df(test[:10], input_col=data.SENTENCE)\n",
    "print(bcn.predict_proba_batch(test.sentence[:10]))"
   ]
  },
  {
   "cell_type": "code",
   "execution_count": 9,
   "metadata": {
    "execution": {
     "iopub.execute_input": "2021-04-21T18:32:33.915385Z",
     "iopub.status.busy": "2021-04-21T18:32:33.914713Z",
     "iopub.status.idle": "2021-04-21T18:32:34.029095Z",
     "shell.execute_reply": "2021-04-21T18:32:34.029673Z"
    }
   },
   "outputs": [
    {
     "name": "stdout",
     "output_type": "stream",
     "text": [
      "Individual logits prediction for sst\n",
      "0    0.620440\n",
      "1    4.414236\n",
      "2    2.922851\n",
      "3   -3.867865\n",
      "4    1.962503\n",
      "Name: logits, dtype: float64\n",
      "Batched logits prediction for sst\n",
      "[[ 0.62043977  4.41423607  2.92285156 -3.86786509  1.96250224]\n",
      " [ 1.67633724 -0.02020071  0.47817868  0.80690157 -1.45572901]\n",
      " [ 1.26944125  1.16920567  0.83160698 -0.75057447 -0.54815578]\n",
      " [ 1.90598536 -0.21952975  0.43391067  1.21516895 -1.70566058]\n",
      " [ 3.57359529 -2.22212744  0.29972091  5.12325144 -3.75131178]\n",
      " [ 0.29771441  1.67302382  0.75082886 -1.53352714  0.96787834]\n",
      " [ 2.24179268  0.98970252  1.19626915 -0.1964162  -1.63771272]\n",
      " [ 1.15510476  2.71777534  2.25490451 -2.18975234  0.22703829]\n",
      " [ 4.08390713 -1.56018877  0.6960777   3.99355698 -3.92785168]\n",
      " [ 2.22267056 -1.07696199  0.24368057  2.62882209 -2.3086381 ]]\n"
     ]
    }
   ],
   "source": [
    "print(f'Individual logits prediction for {data.NAME}')\n",
    "print(bcn.predict_logits(test.sentence[0]))\n",
    "print(f'Batched logits prediction for {data.NAME}')\n",
    "bcn.predict_logits_batch_df(test[:10], input_col=data.SENTENCE)\n",
    "print(bcn.predict_logits_batch(test.sentence[:10]))"
   ]
  }
 ],
 "metadata": {
  "kernelspec": {
   "display_name": "Python 3",
   "language": "python",
   "name": "python3"
  },
  "language_info": {
   "codemirror_mode": {
    "name": "ipython",
    "version": 3
   },
   "file_extension": ".py",
   "mimetype": "text/x-python",
   "name": "python",
   "nbconvert_exporter": "python",
   "pygments_lexer": "ipython3",
   "version": "3.8.8"
  }
 },
 "nbformat": 4,
 "nbformat_minor": 2
}
