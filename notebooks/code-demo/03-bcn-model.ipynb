{
 "cells": [
  {
   "cell_type": "code",
   "execution_count": 1,
   "metadata": {
    "execution": {
     "iopub.execute_input": "2021-04-21T16:29:09.515704Z",
     "iopub.status.busy": "2021-04-21T16:29:09.514707Z",
     "iopub.status.idle": "2021-04-21T16:29:09.533171Z",
     "shell.execute_reply": "2021-04-21T16:29:09.536429Z"
    }
   },
   "outputs": [],
   "source": [
    "import os\n",
    "import sys"
   ]
  },
  {
   "cell_type": "code",
   "execution_count": 2,
   "metadata": {
    "execution": {
     "iopub.execute_input": "2021-04-21T16:29:09.547705Z",
     "iopub.status.busy": "2021-04-21T16:29:09.546402Z",
     "iopub.status.idle": "2021-04-21T16:29:09.553558Z",
     "shell.execute_reply": "2021-04-21T16:29:09.555439Z"
    }
   },
   "outputs": [],
   "source": [
    "project_root_dir = os.path.relpath(os.path.join('..', '..'), os.curdir)\n",
    "if project_root_dir not in sys.path:\n",
    "    sys.path += [project_root_dir]"
   ]
  },
  {
   "cell_type": "code",
   "execution_count": 3,
   "metadata": {
    "execution": {
     "iopub.execute_input": "2021-04-21T16:29:09.564466Z",
     "iopub.status.busy": "2021-04-21T16:29:09.562109Z",
     "iopub.status.idle": "2021-04-21T16:29:12.688173Z",
     "shell.execute_reply": "2021-04-21T16:29:12.687540Z"
    }
   },
   "outputs": [],
   "source": [
    "from src.data.dataload import *\n",
    "from src.models.bcn_model import *"
   ]
  },
  {
   "cell_type": "markdown",
   "metadata": {},
   "source": [
    "# Data<br>\n",
    "Loading data"
   ]
  },
  {
   "cell_type": "code",
   "execution_count": 4,
   "metadata": {
    "execution": {
     "iopub.execute_input": "2021-04-21T16:29:12.692375Z",
     "iopub.status.busy": "2021-04-21T16:29:12.691797Z",
     "iopub.status.idle": "2021-04-21T16:29:17.932466Z",
     "shell.execute_reply": "2021-04-21T16:29:17.932948Z"
    }
   },
   "outputs": [
    {
     "data": {
      "text/html": [
       "<div>\n",
       "<style scoped>\n",
       "    .dataframe tbody tr th:only-of-type {\n",
       "        vertical-align: middle;\n",
       "    }\n",
       "\n",
       "    .dataframe tbody tr th {\n",
       "        vertical-align: top;\n",
       "    }\n",
       "\n",
       "    .dataframe thead th {\n",
       "        text-align: right;\n",
       "    }\n",
       "</style>\n",
       "<table border=\"1\" class=\"dataframe\">\n",
       "  <thead>\n",
       "    <tr style=\"text-align: right;\">\n",
       "      <th></th>\n",
       "      <th>sentence</th>\n",
       "      <th>label</th>\n",
       "    </tr>\n",
       "  </thead>\n",
       "  <tbody>\n",
       "    <tr>\n",
       "      <th>0</th>\n",
       "      <td>The Rock is destined to be the 21st Century 's...</td>\n",
       "      <td>3</td>\n",
       "    </tr>\n",
       "    <tr>\n",
       "      <th>1</th>\n",
       "      <td>The gorgeously elaborate continuation of `` Th...</td>\n",
       "      <td>4</td>\n",
       "    </tr>\n",
       "    <tr>\n",
       "      <th>2</th>\n",
       "      <td>Singer/composer Bryan Adams contributes a slew...</td>\n",
       "      <td>3</td>\n",
       "    </tr>\n",
       "    <tr>\n",
       "      <th>3</th>\n",
       "      <td>You 'd think by now America would have had eno...</td>\n",
       "      <td>2</td>\n",
       "    </tr>\n",
       "    <tr>\n",
       "      <th>4</th>\n",
       "      <td>Yet the act is still charming here .</td>\n",
       "      <td>3</td>\n",
       "    </tr>\n",
       "    <tr>\n",
       "      <th>...</th>\n",
       "      <td>...</td>\n",
       "      <td>...</td>\n",
       "    </tr>\n",
       "    <tr>\n",
       "      <th>8539</th>\n",
       "      <td>A real snooze .</td>\n",
       "      <td>0</td>\n",
       "    </tr>\n",
       "    <tr>\n",
       "      <th>8540</th>\n",
       "      <td>No surprises .</td>\n",
       "      <td>1</td>\n",
       "    </tr>\n",
       "    <tr>\n",
       "      <th>8541</th>\n",
       "      <td>We 've seen the hippie-turned-yuppie plot befo...</td>\n",
       "      <td>3</td>\n",
       "    </tr>\n",
       "    <tr>\n",
       "      <th>8542</th>\n",
       "      <td>Her fans walked out muttering words like `` ho...</td>\n",
       "      <td>0</td>\n",
       "    </tr>\n",
       "    <tr>\n",
       "      <th>8543</th>\n",
       "      <td>In this case zero .</td>\n",
       "      <td>1</td>\n",
       "    </tr>\n",
       "  </tbody>\n",
       "</table>\n",
       "<p>8544 rows × 2 columns</p>\n",
       "</div>"
      ],
      "text/plain": [
       "                                               sentence  label\n",
       "0     The Rock is destined to be the 21st Century 's...      3\n",
       "1     The gorgeously elaborate continuation of `` Th...      4\n",
       "2     Singer/composer Bryan Adams contributes a slew...      3\n",
       "3     You 'd think by now America would have had eno...      2\n",
       "4                  Yet the act is still charming here .      3\n",
       "...                                                 ...    ...\n",
       "8539                                    A real snooze .      0\n",
       "8540                                     No surprises .      1\n",
       "8541  We 've seen the hippie-turned-yuppie plot befo...      3\n",
       "8542  Her fans walked out muttering words like `` ho...      0\n",
       "8543                                In this case zero .      1\n",
       "\n",
       "[8544 rows x 2 columns]"
      ]
     },
     "execution_count": 1,
     "metadata": {},
     "output_type": "execute_result"
    }
   ],
   "source": [
    "data = load_sst()\n",
    "train, val, test = data.train_val_test\n",
    "train"
   ]
  },
  {
   "cell_type": "markdown",
   "metadata": {},
   "source": [
    "# Model<br>\n",
    "Fine-tuning and loading BCN"
   ]
  },
  {
   "cell_type": "code",
   "execution_count": 5,
   "metadata": {
    "execution": {
     "iopub.execute_input": "2021-04-21T16:29:17.938145Z",
     "iopub.status.busy": "2021-04-21T16:29:17.937192Z",
     "iopub.status.idle": "2021-04-21T16:29:21.610875Z",
     "shell.execute_reply": "2021-04-21T16:29:21.610274Z"
    }
   },
   "outputs": [
    {
     "data": {
      "text/plain": [
       "BiattentiveClassificationNetwork(\n",
       "  (_text_field_embedder): BasicTextFieldEmbedder(\n",
       "    (token_embedder_tokens): Embedding()\n",
       "  )\n",
       "  (_embedding_dropout): Dropout(p=0.25, inplace=False)\n",
       "  (_pre_encode_feedforward): FeedForward(\n",
       "    (_activations): ModuleList(\n",
       "      (0): ReLU()\n",
       "    )\n",
       "    (_linear_layers): ModuleList(\n",
       "      (0): Linear(in_features=300, out_features=300, bias=True)\n",
       "    )\n",
       "    (_dropout): ModuleList(\n",
       "      (0): Dropout(p=0.25, inplace=False)\n",
       "    )\n",
       "  )\n",
       "  (_encoder): LstmSeq2SeqEncoder(\n",
       "    (_module): LSTM(300, 300, batch_first=True, bidirectional=True)\n",
       "  )\n",
       "  (_integrator): LstmSeq2SeqEncoder(\n",
       "    (_module): LSTM(1800, 300, batch_first=True, bidirectional=True)\n",
       "  )\n",
       "  (_integrator_dropout): Dropout(p=0.1, inplace=False)\n",
       "  (_self_attentive_pooling_projection): Linear(in_features=600, out_features=1, bias=True)\n",
       "  (_output_layer): Maxout(\n",
       "    (_linear_layers): ModuleList(\n",
       "      (0): Linear(in_features=2400, out_features=4800, bias=True)\n",
       "      (1): Linear(in_features=1200, out_features=2400, bias=True)\n",
       "      (2): Linear(in_features=600, out_features=20, bias=True)\n",
       "    )\n",
       "    (_dropout): ModuleList(\n",
       "      (0): Dropout(p=0.2, inplace=False)\n",
       "      (1): Dropout(p=0.3, inplace=False)\n",
       "      (2): Dropout(p=0, inplace=False)\n",
       "    )\n",
       "  )\n",
       "  (loss): CrossEntropyLoss()\n",
       ")"
      ]
     },
     "execution_count": 1,
     "metadata": {},
     "output_type": "execute_result"
    }
   ],
   "source": [
    "bcn = BCNModel()\n",
    "bcn.load_model(data)\n",
    "bcn.model"
   ]
  }
 ],
 "metadata": {
  "kernelspec": {
   "display_name": "Python 3",
   "language": "python",
   "name": "python3"
  },
  "language_info": {
   "codemirror_mode": {
    "name": "ipython",
    "version": 3
   },
   "file_extension": ".py",
   "mimetype": "text/x-python",
   "name": "python",
   "nbconvert_exporter": "python",
   "pygments_lexer": "ipython3",
   "version": "3.8.8"
  }
 },
 "nbformat": 4,
 "nbformat_minor": 2
}
