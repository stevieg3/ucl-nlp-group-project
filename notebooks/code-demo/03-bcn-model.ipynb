{
 "cells": [
  {
   "cell_type": "code",
   "execution_count": 1,
   "metadata": {
    "execution": {
     "iopub.execute_input": "2021-04-21T17:46:47.468154Z",
     "iopub.status.busy": "2021-04-21T17:46:47.467464Z",
     "iopub.status.idle": "2021-04-21T17:46:47.470467Z",
     "shell.execute_reply": "2021-04-21T17:46:47.469768Z"
    }
   },
   "outputs": [],
   "source": [
    "import os\n",
    "import sys"
   ]
  },
  {
   "cell_type": "code",
   "execution_count": 2,
   "metadata": {
    "execution": {
     "iopub.execute_input": "2021-04-21T17:46:47.475657Z",
     "iopub.status.busy": "2021-04-21T17:46:47.474854Z",
     "iopub.status.idle": "2021-04-21T17:46:47.477937Z",
     "shell.execute_reply": "2021-04-21T17:46:47.477240Z"
    }
   },
   "outputs": [],
   "source": [
    "project_root_dir = os.path.relpath(os.path.join('..', '..'), os.curdir)\n",
    "if project_root_dir not in sys.path:\n",
    "    sys.path += [project_root_dir]"
   ]
  },
  {
   "cell_type": "code",
   "execution_count": 3,
   "metadata": {
    "execution": {
     "iopub.execute_input": "2021-04-21T17:46:47.482026Z",
     "iopub.status.busy": "2021-04-21T17:46:47.481413Z",
     "iopub.status.idle": "2021-04-21T17:46:50.342798Z",
     "shell.execute_reply": "2021-04-21T17:46:50.343741Z"
    }
   },
   "outputs": [],
   "source": [
    "from src.data.dataload import *\n",
    "from src.models.bcn_model import *"
   ]
  },
  {
   "cell_type": "markdown",
   "metadata": {},
   "source": [
    "# Data<br>\n",
    "Loading data"
   ]
  },
  {
   "cell_type": "code",
   "execution_count": 4,
   "metadata": {
    "execution": {
     "iopub.execute_input": "2021-04-21T17:46:50.350332Z",
     "iopub.status.busy": "2021-04-21T17:46:50.349157Z",
     "iopub.status.idle": "2021-04-21T17:46:55.783076Z",
     "shell.execute_reply": "2021-04-21T17:46:55.782174Z"
    }
   },
   "outputs": [
    {
     "name": "stdout",
     "output_type": "stream",
     "text": [
      "loading data sst (sentence column: sentence, target column: label)\n"
     ]
    },
    {
     "data": {
      "text/html": [
       "<div>\n",
       "<style scoped>\n",
       "    .dataframe tbody tr th:only-of-type {\n",
       "        vertical-align: middle;\n",
       "    }\n",
       "\n",
       "    .dataframe tbody tr th {\n",
       "        vertical-align: top;\n",
       "    }\n",
       "\n",
       "    .dataframe thead th {\n",
       "        text-align: right;\n",
       "    }\n",
       "</style>\n",
       "<table border=\"1\" class=\"dataframe\">\n",
       "  <thead>\n",
       "    <tr style=\"text-align: right;\">\n",
       "      <th></th>\n",
       "      <th>sentence</th>\n",
       "      <th>label</th>\n",
       "    </tr>\n",
       "  </thead>\n",
       "  <tbody>\n",
       "    <tr>\n",
       "      <th>0</th>\n",
       "      <td>The Rock is destined to be the 21st Century 's...</td>\n",
       "      <td>3</td>\n",
       "    </tr>\n",
       "    <tr>\n",
       "      <th>1</th>\n",
       "      <td>The gorgeously elaborate continuation of `` Th...</td>\n",
       "      <td>4</td>\n",
       "    </tr>\n",
       "    <tr>\n",
       "      <th>2</th>\n",
       "      <td>Singer/composer Bryan Adams contributes a slew...</td>\n",
       "      <td>3</td>\n",
       "    </tr>\n",
       "    <tr>\n",
       "      <th>3</th>\n",
       "      <td>You 'd think by now America would have had eno...</td>\n",
       "      <td>2</td>\n",
       "    </tr>\n",
       "    <tr>\n",
       "      <th>4</th>\n",
       "      <td>Yet the act is still charming here .</td>\n",
       "      <td>3</td>\n",
       "    </tr>\n",
       "    <tr>\n",
       "      <th>...</th>\n",
       "      <td>...</td>\n",
       "      <td>...</td>\n",
       "    </tr>\n",
       "    <tr>\n",
       "      <th>8539</th>\n",
       "      <td>A real snooze .</td>\n",
       "      <td>0</td>\n",
       "    </tr>\n",
       "    <tr>\n",
       "      <th>8540</th>\n",
       "      <td>No surprises .</td>\n",
       "      <td>1</td>\n",
       "    </tr>\n",
       "    <tr>\n",
       "      <th>8541</th>\n",
       "      <td>We 've seen the hippie-turned-yuppie plot befo...</td>\n",
       "      <td>3</td>\n",
       "    </tr>\n",
       "    <tr>\n",
       "      <th>8542</th>\n",
       "      <td>Her fans walked out muttering words like `` ho...</td>\n",
       "      <td>0</td>\n",
       "    </tr>\n",
       "    <tr>\n",
       "      <th>8543</th>\n",
       "      <td>In this case zero .</td>\n",
       "      <td>1</td>\n",
       "    </tr>\n",
       "  </tbody>\n",
       "</table>\n",
       "<p>8544 rows × 2 columns</p>\n",
       "</div>"
      ],
      "text/plain": [
       "                                               sentence  label\n",
       "0     The Rock is destined to be the 21st Century 's...      3\n",
       "1     The gorgeously elaborate continuation of `` Th...      4\n",
       "2     Singer/composer Bryan Adams contributes a slew...      3\n",
       "3     You 'd think by now America would have had eno...      2\n",
       "4                  Yet the act is still charming here .      3\n",
       "...                                                 ...    ...\n",
       "8539                                    A real snooze .      0\n",
       "8540                                     No surprises .      1\n",
       "8541  We 've seen the hippie-turned-yuppie plot befo...      3\n",
       "8542  Her fans walked out muttering words like `` ho...      0\n",
       "8543                                In this case zero .      1\n",
       "\n",
       "[8544 rows x 2 columns]"
      ]
     },
     "execution_count": 1,
     "metadata": {},
     "output_type": "execute_result"
    }
   ],
   "source": [
    "data = load_sst()\n",
    "print(f'loading data {data.NAME} (sentence column: {data.SENTENCE}, target column: {data.TARGET})')\n",
    "train, val, test = data.train_val_test\n",
    "train"
   ]
  },
  {
   "cell_type": "markdown",
   "metadata": {},
   "source": [
    "# Model<br>\n",
    "Fine-tuning and loading BCN"
   ]
  },
  {
   "cell_type": "code",
   "execution_count": 5,
   "metadata": {
    "execution": {
     "iopub.execute_input": "2021-04-21T17:46:55.789935Z",
     "iopub.status.busy": "2021-04-21T17:46:55.789047Z",
     "iopub.status.idle": "2021-04-21T17:46:58.958260Z",
     "shell.execute_reply": "2021-04-21T17:46:58.958961Z"
    }
   },
   "outputs": [
    {
     "data": {
      "text/plain": [
       "BiattentiveClassificationNetwork(\n",
       "  (_text_field_embedder): BasicTextFieldEmbedder(\n",
       "    (token_embedder_tokens): Embedding()\n",
       "  )\n",
       "  (_embedding_dropout): Dropout(p=0.25, inplace=False)\n",
       "  (_pre_encode_feedforward): FeedForward(\n",
       "    (_activations): ModuleList(\n",
       "      (0): ReLU()\n",
       "    )\n",
       "    (_linear_layers): ModuleList(\n",
       "      (0): Linear(in_features=300, out_features=300, bias=True)\n",
       "    )\n",
       "    (_dropout): ModuleList(\n",
       "      (0): Dropout(p=0.25, inplace=False)\n",
       "    )\n",
       "  )\n",
       "  (_encoder): LstmSeq2SeqEncoder(\n",
       "    (_module): LSTM(300, 300, batch_first=True, bidirectional=True)\n",
       "  )\n",
       "  (_integrator): LstmSeq2SeqEncoder(\n",
       "    (_module): LSTM(1800, 300, batch_first=True, bidirectional=True)\n",
       "  )\n",
       "  (_integrator_dropout): Dropout(p=0.1, inplace=False)\n",
       "  (_self_attentive_pooling_projection): Linear(in_features=600, out_features=1, bias=True)\n",
       "  (_output_layer): Maxout(\n",
       "    (_linear_layers): ModuleList(\n",
       "      (0): Linear(in_features=2400, out_features=4800, bias=True)\n",
       "      (1): Linear(in_features=1200, out_features=2400, bias=True)\n",
       "      (2): Linear(in_features=600, out_features=20, bias=True)\n",
       "    )\n",
       "    (_dropout): ModuleList(\n",
       "      (0): Dropout(p=0.2, inplace=False)\n",
       "      (1): Dropout(p=0.3, inplace=False)\n",
       "      (2): Dropout(p=0, inplace=False)\n",
       "    )\n",
       "  )\n",
       "  (loss): CrossEntropyLoss()\n",
       ")"
      ]
     },
     "execution_count": 1,
     "metadata": {},
     "output_type": "execute_result"
    }
   ],
   "source": [
    "bcn = BCNModel()\n",
    "bcn.load_model(data)\n",
    "bcn.model"
   ]
  },
  {
   "cell_type": "markdown",
   "metadata": {},
   "source": [
    "Prediction"
   ]
  },
  {
   "cell_type": "code",
   "execution_count": 6,
   "metadata": {
    "execution": {
     "iopub.execute_input": "2021-04-21T17:46:58.965667Z",
     "iopub.status.busy": "2021-04-21T17:46:58.964782Z",
     "iopub.status.idle": "2021-04-21T17:46:58.994189Z",
     "shell.execute_reply": "2021-04-21T17:46:58.994883Z"
    }
   },
   "outputs": [
    {
     "name": "stdout",
     "output_type": "stream",
     "text": [
      "Individual prediction for sst\n",
      "     logits  class_probabilities label\n",
      "0  0.620440             0.016874     1\n",
      "1  4.414236             0.749643     1\n",
      "2  2.922851             0.168715     1\n",
      "3 -3.867865             0.000190     1\n",
      "4  1.962503             0.064577     1\n"
     ]
    }
   ],
   "source": [
    "print(f'Individual prediction for {data.NAME}')\n",
    "bcn.predict(test.sentence[0])\n",
    "print(bcn.predict(test[data.SENTENCE][0]))"
   ]
  },
  {
   "cell_type": "code",
   "execution_count": 7,
   "metadata": {
    "execution": {
     "iopub.execute_input": "2021-04-21T17:46:59.066931Z",
     "iopub.status.busy": "2021-04-21T17:46:59.035438Z",
     "iopub.status.idle": "2021-04-21T17:47:01.000735Z",
     "shell.execute_reply": "2021-04-21T17:47:00.999370Z"
    }
   },
   "outputs": [
    {
     "name": "stdout",
     "output_type": "stream",
     "text": [
      "Batch prediction for sst\n",
      "                                               logits  \\\n",
      "0   [0.6204397678375244, 4.414236068725586, 2.9228...   \n",
      "1   [1.6763371229171753, -0.020200669765472412, 0....   \n",
      "2   [1.2694412469863892, 1.169205665588379, 0.8316...   \n",
      "3   [1.9059851169586182, -0.21952968835830688, 0.4...   \n",
      "4   [3.5735950469970703, -2.2221274375915527, 0.29...   \n",
      "..                                                ...   \n",
      "95  [1.1532161235809326, -0.2188836634159088, 0.24...   \n",
      "96  [1.259469747543335, 1.6719794273376465, 1.1938...   \n",
      "97  [3.3070015907287598, -1.3257590532302856, 0.48...   \n",
      "98  [0.9012832641601562, 1.8801426887512207, 1.477...   \n",
      "99  [3.3964028358459473, -0.5213455557823181, 0.84...   \n",
      "\n",
      "                                  class_probabilities label  \n",
      "0   [0.016874458640813828, 0.7496432662010193, 0.1...     1  \n",
      "1   [0.5133780837059021, 0.09411099553108215, 0.15...     3  \n",
      "2   [0.3514782786369324, 0.31795579195022583, 0.22...     3  \n",
      "3   [0.5327665209770203, 0.06359714269638062, 0.12...     3  \n",
      "4   [0.17387044429779053, 0.0005286588566377759, 0...     4  \n",
      "..                                                ...   ...  \n",
      "95  [0.39197608828544617, 0.09939492493867874, 0.1...     3  \n",
      "96  [0.2679184675216675, 0.4047187864780426, 0.250...     1  \n",
      "97  [0.4710676074028015, 0.004582483321428299, 0.0...     4  \n",
      "98  [0.16716085374355316, 0.4448850750923157, 0.29...     1  \n",
      "99  [0.7167086601257324, 0.014252337627112865, 0.0...     3  \n",
      "\n",
      "[100 rows x 3 columns]\n"
     ]
    }
   ],
   "source": [
    "print(f'Batch prediction for {data.NAME}')\n",
    "bcn.predict_batch_df(test[:100], input_col=data.SENTENCE)\n",
    "print(bcn.predict_batch(test[data.SENTENCE][:100]))"
   ]
  },
  {
   "cell_type": "code",
   "execution_count": 8,
   "metadata": {
    "execution": {
     "iopub.execute_input": "2021-04-21T17:47:01.006461Z",
     "iopub.status.busy": "2021-04-21T17:47:01.005489Z",
     "iopub.status.idle": "2021-04-21T17:47:01.130317Z",
     "shell.execute_reply": "2021-04-21T17:47:01.131248Z"
    }
   },
   "outputs": [
    {
     "name": "stdout",
     "output_type": "stream",
     "text": [
      "Individual label prediction for sst\n",
      "[1]\n"
     ]
    }
   ],
   "source": [
    "print(f'Individual label prediction for {data.NAME}')\n",
    "print(bcn.predict_label(test.sentence[0]))"
   ]
  },
  {
   "cell_type": "code",
   "execution_count": 9,
   "metadata": {
    "execution": {
     "iopub.execute_input": "2021-04-21T17:47:01.136274Z",
     "iopub.status.busy": "2021-04-21T17:47:01.135138Z",
     "iopub.status.idle": "2021-04-21T17:47:01.930316Z",
     "shell.execute_reply": "2021-04-21T17:47:01.930888Z"
    }
   },
   "outputs": [
    {
     "name": "stdout",
     "output_type": "stream",
     "text": [
      "Batched label prediction for sst\n",
      "[1 3 3 3 4 1 3 1 3 4 3 3 4 1 3 1 4 3 4 4 4 3 3 3 3 3 3 3 1 0 4 1 1 3 1 3 3\n",
      " 3 1 1 3 1 3 4 3 1 4 3 3 3 3 1 3 3 3 1 3 1 4 3 3 3 3 3 3 1 3 4 4 3 1 3 4 1\n",
      " 3 1 3 4 3 3 3 3 3 4 3 3 3 3 3 1 3 3 1 3 1 3 1 4 1 3]\n"
     ]
    }
   ],
   "source": [
    "print(f'Batched label prediction for {data.NAME}')\n",
    "bcn.predict_label_batch_df(test[:100], input_col=data.SENTENCE)\n",
    "print(bcn.predict_label_batch(test.sentence[:100]))"
   ]
  }
 ],
 "metadata": {
  "kernelspec": {
   "display_name": "Python 3",
   "language": "python",
   "name": "python3"
  },
  "language_info": {
   "codemirror_mode": {
    "name": "ipython",
    "version": 3
   },
   "file_extension": ".py",
   "mimetype": "text/x-python",
   "name": "python",
   "nbconvert_exporter": "python",
   "pygments_lexer": "ipython3",
   "version": "3.8.8"
  }
 },
 "nbformat": 4,
 "nbformat_minor": 2
}
